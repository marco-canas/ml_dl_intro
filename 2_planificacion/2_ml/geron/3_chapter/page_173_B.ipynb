{
 "cells": [
  {
   "cell_type": "markdown",
   "id": "dc06dec7",
   "metadata": {
    "slideshow": {
     "slide_type": "slide"
    }
   },
   "source": [
    "<table align=\"left\">\n",
    "  <td>\n",
    "    <a href=\"https://colab.research.google.com/github/marco-canas/ml_intro/blob/main/2_planificacion/2_ml/geron/3_chapter/page_173_B.ipynb\" target=\"_parent\"><img src=\"https://colab.research.google.com/assets/colab-badge.svg\" alt=\"Open In Colab\"/></a>\n",
    "  </td>\n",
    "  <td>\n",
    "    <a target=\"_blank\" href=\"https://kaggle.com/kernels/welcome?src=https://github.com/ml_intro/blob/main/2_planificacion/2_ml/marco-canas/ml_intro/blob/main/2_planificacion/2_ml/geron/3_chapter/page_173_B.ipynb\"><img src=\"https://kaggle.com/static/images/open-in-kaggle.svg\" /></a>\n",
    "  </td>\n",
    "</table>"
   ]
  },
  {
   "cell_type": "markdown",
   "id": "e0c5b198",
   "metadata": {
    "slideshow": {
     "slide_type": "slide"
    }
   },
   "source": [
    "### [Video de apoyo a la lectura interactiva y experimental de este cuaderno]()"
   ]
  },
  {
   "cell_type": "markdown",
   "id": "41e82203",
   "metadata": {
    "slideshow": {
     "slide_type": "slide"
    }
   },
   "source": [
    "### [Vínculo al programa del curso: Machine Learning and Deep Learning an Introduction](https://github.com/marco-canas/ml_intro/tree/main/2_planificacion)\n",
    "\n"
   ]
  },
  {
   "cell_type": "markdown",
   "id": "d11ab06d",
   "metadata": {
    "slideshow": {
     "slide_type": "slide"
    }
   },
   "source": [
    "Un reconocimiento a mis estudiantes que han construido conmigo este saber pedagógico:\n",
    "\n",
    "<img src = 'campana_2025-06-16_toro.jpeg'> \n",
    "\n"
   ]
  },
  {
   "cell_type": "code",
   "execution_count": null,
   "id": "b179a7ed",
   "metadata": {},
   "outputs": [],
   "source": [
    "import pandas as pd\n",
    "import numpy as np\n",
    "\n",
    "# Cargar la lista de estudiantes desde el archivo CSV\n",
    "path = 'C:/Users/marco/Documentos/docencia/groups_list/ml_dl_intro.xlsx'\n",
    "df = pd.read_excel(path)\n",
    "\n",
    "df.head(3)"
   ]
  },
  {
   "cell_type": "code",
   "execution_count": null,
   "id": "0c673e3c",
   "metadata": {},
   "outputs": [],
   "source": [
    "# Gestión del guardado de imagenes  \n",
    "\n",
    "def save_fig(nombre_archivo_imagen):\n",
    "    import os \n",
    "    import matplotlib.pyplot as plt\n",
    "    ubicacion_para_imagenes = r\"C:/Users/marco/Downloads\"\n",
    "    imagen_path = os.path.join(ubicacion_para_imagenes, nombre_archivo_imagen)\n",
    "    plt.savefig(imagen_path, bbox_inches='tight')"
   ]
  },
  {
   "cell_type": "markdown",
   "id": "10e55ccf",
   "metadata": {},
   "source": [
    "# Prompt de diseño de clase: \n",
    "Ubicación de la lista de grupo es: 'C:/Users/marco/Documentos/docencia/groups_list/ml_dl_intro.xlsx'\n",
    "Dame, por favor, un diseño de clase, con el enfoque: STEAMS  y de aprendizaje basado en problemas y proyectos(ABPP) y Teoría de Registros de Representación Semiótica de Duval; sobre: **\"Clasificación con técnicas de Machine learning y el dataset Mnist\"**, siguiendo la estructura:   \n",
    "\n",
    "1. Título de la clase   \n",
    "   \n",
    "2. Objetivo de aprendizaje e indicadores de logro de estos objetivos.   \n",
    "   Diseña la clase incluyendo objetivos de educación matemática basada en el pensamiento crítico.   \n",
    "\n",
    "3.  Un mapa conceptual que resuma la clase elaborado en Graphviz de python con nodos y edges de diferentes formas, colores y rellenos y renderizado en la siguiente ubicación: `\"C:/Users/marco/Downloads\"`. No olvides el parámetro `view = True` para el método `render()` de Graphviz. Para este mapa controla las superposiciones de los nodos con: graph [overlap=false]; // Elimina superposiciones (puede aumentar el espacio)\n",
    "graph [overlap=\"scalexy\"]; // Escala el gráfico para evitar overlaps\n",
    "graph [overlap=\"compress\"]; // Comprime el grafo sin overlaps   \n",
    "   \n",
    "4. Contenido de la clase    \n",
    "   \n",
    "5. Incluye una canción o un poema que ayude a interiorizar y fijar los conceptos asociados a esta clase.  \n",
    "   \n",
    "6. Dame elementos históricos y epistemológicos asociados a esta clase, pero contados como un cuento al estilo de un cuentero antioqueño en Colombia. Incluye imágenes de los protagonistas históricos de esta clase.   \n",
    "   \n",
    "7. Actividades de aprendizaje    \n",
    "     * Incluye actividades de aprendizaje utilizando lenguaje Python y Jupyter Notebook.   \n",
    "\n",
    "8. Incluye una canción o un poema que ayude a interiorizar y fijar los conceptos asociados a esta clase.  \n",
    "\n",
    "9.  Tarea: diseña 20 actividades de ejercitación y fijación.  \n",
    "     * Diseña las 20 tareas de tal manera que en cada ejercicio se realicen las siguientes cuatro preguntas:  \n",
    "        - ¿Por qué este script de Python representa el problema?\n",
    "        - ¿Qué pasaría si cambiamos alguna parte del modelo?\n",
    "        - ¿Hay otra manera de resolverlo?\n",
    "        - ¿Cómo justificas el desemeño obtenido en el modelo? \n",
    "    \n",
    "10.  Evaluación incluyendo 20 proyectos, un ejemplo de quiz y un ejemplo de parcial.  \n",
    "     \n",
    "     * Actividad de desarrollo de habilidades metacognitivas para hacernos consientes de nuestro propio proceso de aprendizaje y de la importancia de la evaluación continua.\n",
    "\n",
    "11.  Diseño de actividad de retroalimentación.  \n",
    "      \n",
    "12.  Dame un vocabulario y frases del idioma inglés asociadas a esta clase.   \n",
    "    \n",
    "13.  Incluye apéndice para la clase sobre desarrollo de habilidades para trabajar en equipo y de asertividad y empatía para relacionarnos. También elementos de la inteligencia emocional para presentar pruebas sin temor y desarrollar habilidades metacognitivas.   \n",
    "      \n",
    "14. Incluye 10 referentes en didáctica de la matemática que estén de acuerdo a la propuesta didáctica de esta clase. Adiciona a estos referentes a Raymond Duval (Representaciones y cambios de representación para la adquisición de conceptos matemáticos) y a Jeannette Wing (Desarrollo del pensamiento computacional). Déjame todos estos referentes ordenados de acuerdo a las normas APA. Déjame todos estos referentes ordenados de acuerdo a las normas APA. Incluye las citaciones a estos referentes a medida que vallas diseñando la clase. \n",
    "\n",
    "\n",
    "Pero  que este diseño sea para que el estudiante pueda aprender experimentando en cuadernos Jupyter con funciones de usuario y animaciones y visualizaciones en Python. En particular utiliza para el diseño de clase a NumPy, Pandas, SymPy, Matplotlib.pyplot, Seaborn, Plotly, ipywidgets, matplotlib.animation y Jupyter Notebook.  \n",
    "Cuando vallas a utilizar SymPy, ten en cuanta la siguiente configuración: \n",
    "# Corrección y mejora del código\n",
    "from sympy import symbols, Equivalent\n",
    "from sympy.logic.boolalg import truth_table\n",
    "\n",
    "Cada vez que utilices `matplotlib.animacion` no olvides incluir el uso de `IPython. display` para la renderización de estas animaciones a través de Jupyter Notebook. No olvides darme los diseños de clase con las ecuaciones matemáticas delimitadas con signo de dólar $ para que VS Code si me renderice estas expresiones del lenguaje latex. Cuando vallas a utilizar ipywidgets ten en cuenta la siguiente importación inicial para garantizar que la visualización interactiva si se renderice en VS Code:                                                      \n",
    "import numpy as np\n",
    "import matplotlib.pyplot as plt\n",
    "import ipywidgets as widgets\n",
    "\n"
   ]
  },
  {
   "cell_type": "markdown",
   "id": "c62800e3",
   "metadata": {},
   "source": [
    "# Capítulo 3: Clasificación\n"
   ]
  },
  {
   "cell_type": "markdown",
   "id": "2b5aa753",
   "metadata": {},
   "source": [
    "\n",
    "Página 177 del PDF de Aurélien Géron  "
   ]
  },
  {
   "cell_type": "markdown",
   "id": "736a58d2",
   "metadata": {},
   "source": [
    "\n",
    "## Introducción\n"
   ]
  },
  {
   "cell_type": "markdown",
   "id": "096510fb",
   "metadata": {},
   "source": [
    "En el Capítulo 1 mencioné que las tareas de aprendizaje supervisado más comunes son: \n",
    "* la regresión (predecir valores) y \n",
    "* la clasificación (predecir clases). "
   ]
  },
  {
   "cell_type": "markdown",
   "id": "617659f8",
   "metadata": {},
   "source": [
    "En el Capítulo 2 exploramos una tarea de regresión, prediciendo valores de vivienda, usando varios algoritmos como:   \n",
    "* regresión lineal, \n",
    "* árboles de decisión y \n",
    "* bosques aleatorios (que se explicarán con más detalle en capítulos posteriores). "
   ]
  },
  {
   "cell_type": "markdown",
   "id": "18bf0905",
   "metadata": {},
   "source": [
    "Ahora volveremos nuestra atención a los sistemas de clasificación.\n"
   ]
  },
  {
   "cell_type": "markdown",
   "id": "13b5d5a1",
   "metadata": {},
   "source": [
    "\n",
    "# El conjunto de datos MNIST\n"
   ]
  },
  {
   "cell_type": "markdown",
   "id": "24489a41",
   "metadata": {},
   "source": [
    "\n",
    "El dataset **MNIST** debe su nombre a las siglas de **\"Modified National Institute of Standards and Technology\"**, en referencia a su origen y a las modificaciones aplicadas al conjunto de datos original. "
   ]
  },
  {
   "cell_type": "markdown",
   "id": "4b65f909",
   "metadata": {},
   "source": [
    "Aquí te explico su historia y significado:\n",
    "\n"
   ]
  },
  {
   "cell_type": "markdown",
   "id": "2abe9bc5",
   "metadata": {},
   "source": [
    "\n",
    "### **1. Origen: NIST (National Institute of Standards and Technology)**\n"
   ]
  },
  {
   "cell_type": "markdown",
   "id": "05a1617e",
   "metadata": {},
   "source": [
    "- El dataset original fue creado por el **NIST** (Instituto Nacional de Estándares y Tecnología de EE.UU.) en la década de 1990.\n",
    "\n",
    "<img src = 'https://d2cbg94ubxgsnp.cloudfront.net/Pictures/2000xAny/6/4/1/133641_NIST.jpg'>"
   ]
  },
  {
   "cell_type": "markdown",
   "id": "444d6d9d",
   "metadata": {},
   "source": [
    "- Contenía dígitos escritos a mano por empleados del gobierno y estudiantes, pero tenía ciertas limitaciones:\n"
   ]
  },
  {
   "cell_type": "markdown",
   "id": "e189989f",
   "metadata": {},
   "source": [
    "  - Desbalanceo de clases (algunos dígitos tenían más muestras que otros).\n",
    "  - Procesamiento inconsistente.\n",
    "\n",
    "\n"
   ]
  },
  {
   "cell_type": "markdown",
   "id": "c0d97bbc",
   "metadata": {},
   "source": [
    "El dataset **MNIST** (Modified National Institute of Standards and Technology) es un conjunto de datos clásico que contiene imágenes de dígitos escritos a mano (0-9). "
   ]
  },
  {
   "cell_type": "markdown",
   "id": "23b7e83d",
   "metadata": {},
   "source": [
    "Aunque es ampliamente utilizado como referencia en machine learning, algunos investigadores han señalado que el dataset original tenía problemas de **\"procesamiento inconsistente\"**, lo que puede afectar los resultados de los modelos entrenados con él.\n"
   ]
  },
  {
   "cell_type": "markdown",
   "id": "56ad2db4",
   "metadata": {},
   "source": [
    "\n",
    "### ¿Qué significa \"procesamiento inconsistente\" en MNIST?\n"
   ]
  },
  {
   "cell_type": "markdown",
   "id": "af90c0a8",
   "metadata": {},
   "source": [
    "1. **Preprocesamiento no estandarizado**:  \n",
    "   Las imágenes de MNIST fueron recopiladas de diferentes fuentes (incluyendo el conjunto NIST original) y sometidas a transformaciones como normalización, centrado y suavizado."
   ]
  },
  {
   "cell_type": "markdown",
   "id": "bcb13204",
   "metadata": {},
   "source": [
    " Sin embargo, estas operaciones **no se aplicaron de manera uniforme** en todas las muestras. "
   ]
  },
  {
   "cell_type": "markdown",
   "id": "fa83409b",
   "metadata": {},
   "source": [
    "Por ejemplo:\n",
    "   - Algunos dígitos están más centrados que otros.\n",
    "   - El grosor de los trazos varía debido a ajustes manuales o automáticos durante el procesamiento.\n"
   ]
  },
  {
   "cell_type": "markdown",
   "id": "cc8ee8f4",
   "metadata": {},
   "source": [
    "\n",
    "2. **Artefactos de binarización**:  \n",
    "   Las imágenes originales en escala de grises se convirtieron a formato binario (blanco y negro) mediante umbralización. Este proceso no fue consistente en todas las imágenes, lo que generó:\n",
    "   - Pérdida de información en dígitos con intensidades de píxeles cercanas al umbral.\n",
    "   - Ruido o distorsiones en algunos casos.\n"
   ]
  },
  {
   "cell_type": "markdown",
   "id": "6cba884a",
   "metadata": {},
   "source": [
    "\n",
    "3. **Sesgo en la selección de muestras**:  \n",
    "   Los creadores de MNIST seleccionaron un subconjunto \"fácil\" del dataset NIST original, descartando muestras más ambiguas o difíciles de clasificar. "
   ]
  },
  {
   "cell_type": "markdown",
   "id": "a053e71f",
   "metadata": {},
   "source": [
    "Esto generó una **sobreestimación del rendimiento** de los modelos, ya que MNIST es más \"limpio\" que los datos del mundo real.\n"
   ]
  },
  {
   "cell_type": "markdown",
   "id": "7f222b51",
   "metadata": {},
   "source": [
    "\n",
    "4. **Variabilidad en el tamaño y posición**:  \n",
    "   Aunque las imágenes se reescalaron a 28×28 píxeles, el proceso de normalización no eliminó por completo las diferencias en la posición relativa o el tamaño de los dígitos dentro del cuadro.\n"
   ]
  },
  {
   "cell_type": "markdown",
   "id": "052383fc",
   "metadata": {},
   "source": [
    "\n",
    "### Consecuencias de estas inconsistencias:\n"
   ]
  },
  {
   "cell_type": "markdown",
   "id": "4dbdd949",
   "metadata": {},
   "source": [
    "- **Sobreajuste (overfitting)**: Los modelos pueden aprender patrones artificiales introducidos por el preprocesamiento inconsistente en lugar de características reales de los dígitos.\n"
   ]
  },
  {
   "cell_type": "markdown",
   "id": "57468ea9",
   "metadata": {},
   "source": [
    "- **Generalización limitada**: Un modelo entrenado en MNIST podría no funcionar bien en datos reales con mayor variabilidad.\n"
   ]
  },
  {
   "cell_type": "markdown",
   "id": "80bd5246",
   "metadata": {},
   "source": [
    "- **Resultados inflados**: La facilidad de clasificación en MNIST (con tasas de precisión >99%) no necesariamente refleja el rendimiento en problemas más complejos.\n"
   ]
  },
  {
   "cell_type": "markdown",
   "id": "5a6f83fe",
   "metadata": {},
   "source": [
    "\n",
    "### Alternativas y soluciones:\n",
    "Para evitar estos problemas, se han creado versiones mejoradas de MNIST (como **MNIST-C**, que introduce distorsiones controladas) o conjuntos más desafiantes (ej. **Fashion-MNIST**, **Kuzushiji-MNIST**). "
   ]
  },
  {
   "cell_type": "markdown",
   "id": "774e4edd",
   "metadata": {},
   "source": [
    "Además, hoy se recomienda usar datasets más realistas para evaluar modelos modernos.\n"
   ]
  },
  {
   "cell_type": "markdown",
   "id": "26508e9a",
   "metadata": {},
   "source": [
    "\n",
    "En resumen, el \"procesamiento inconsistente\" en MNIST se refiere a las variaciones no controladas en su creación, que limitan su utilidad como benchmark (punto de referencia) para problemas complejos."
   ]
  },
  {
   "cell_type": "markdown",
   "id": "2401c486",
   "metadata": {},
   "source": [
    " ¡Es un recordatorio de que incluso los datasets clásicos tienen imperfecciones!"
   ]
  },
  {
   "cell_type": "markdown",
   "id": "bdefdc1d",
   "metadata": {},
   "source": [
    "\n",
    "### **2. Modificaciones (MNIST = \"Modified NIST\")**\n"
   ]
  },
  {
   "cell_type": "markdown",
   "id": "ebb464a7",
   "metadata": {},
   "source": [
    "En 1998, **Yann LeCun** (pionero en redes neuronales y aprendizaje automático) y su equipo **modificaron** el dataset original para hacerlo más accesible y útil para la investigación en machine learning. "
   ]
  },
  {
   "cell_type": "markdown",
   "id": "511a3eb9",
   "metadata": {},
   "source": [
    "Los cambios clave incluyeron:\n"
   ]
  },
  {
   "cell_type": "markdown",
   "id": "48df7b87",
   "metadata": {},
   "source": [
    "1. **Balanceo de clases**: Se ajustó para que cada dígito (0-9) tuviera aproximadamente el mismo número de muestras.\n"
   ]
  },
  {
   "cell_type": "markdown",
   "id": "48289de8",
   "metadata": {},
   "source": [
    "2. **Preprocesamiento**:\n",
    "   - Las imágenes se normalizaron, homogenizaron o estandarizaron a un tamaño fijo de **28x28 píxeles**.\n",
    "   - Se centraron los dígitos en la imagen (para reducir variabilidad).\n"
   ]
  },
  {
   "cell_type": "markdown",
   "id": "fd1ab00d",
   "metadata": {},
   "source": [
    "3. **División en train/test**: Se separó en 60,000 ejemplos para entrenamiento y 10,000 para prueba (ya barajados o mezclados aleatoriamente).\n",
    "\n",
    "\n"
   ]
  },
  {
   "cell_type": "markdown",
   "id": "c7397fd1",
   "metadata": {},
   "source": [
    "\n",
    "### **3. ¿Por qué \"MNIST\" y no solo \"NIST\"?**\n"
   ]
  },
  {
   "cell_type": "markdown",
   "id": "1279386a",
   "metadata": {},
   "source": [
    "- El nombre refleja que no es el dataset crudo del NIST, sino una **versión modificada** optimizada para investigación.\n"
   ]
  },
  {
   "cell_type": "markdown",
   "id": "06c67f85",
   "metadata": {},
   "source": [
    "- Se convirtió en un estándar para pruebas iniciales en visión por computadora y clasificación, gracias a su simplicidad y tamaño manejable.\n",
    "\n",
    "\n"
   ]
  },
  {
   "cell_type": "markdown",
   "id": "94c61651",
   "metadata": {},
   "source": [
    "\n",
    "### **4. Curiosidades**\n"
   ]
  },
  {
   "cell_type": "markdown",
   "id": "ce234ec9",
   "metadata": {},
   "source": [
    "- **\"Hello World\" del ML**: MNIST es considerado el *primer dataset* que prueban los investigadores al trabajar con clasificación de imágenes.\n"
   ]
  },
  {
   "cell_type": "markdown",
   "id": "f2fb0e58",
   "metadata": {},
   "source": [
    "- **Legado**: Aunque hoy existen datasets más complejos (como CIFAR-10 o ImageNet), MNIST sigue siendo usado para enseñar conceptos básicos.\n"
   ]
  },
  {
   "cell_type": "markdown",
   "id": "55c6f388",
   "metadata": {},
   "source": [
    "- **Sucesores**: Dataset **EMNIST** (extensión con letras) y **Fashion-MNIST** (versión con prendas de vestir).\n",
    "\n",
    "\n"
   ]
  },
  {
   "cell_type": "markdown",
   "id": "c90517e8",
   "metadata": {},
   "source": [
    "\n",
    "### **Ejemplo de carga (código)**\n"
   ]
  },
  {
   "cell_type": "code",
   "execution_count": 1,
   "id": "6c660f04",
   "metadata": {},
   "outputs": [
    {
     "name": "stdout",
     "output_type": "stream",
     "text": [
      "Forma de las imágenes: (70000, 784)\n",
      "CPU times: total: 5.14 s\n",
      "Wall time: 12.3 s\n"
     ]
    }
   ],
   "source": [
    "%%time \n",
    "from sklearn.datasets import fetch_openml\n",
    "mnist = fetch_openml('mnist_784', as_frame=False, parser='auto') # Banch compuesta por nd-array de Numpy\n",
    "print(f\"Forma de las imágenes: {mnist.data.shape}\")  # (70000, 784)\n",
    "\n"
   ]
  },
  {
   "cell_type": "markdown",
   "id": "0afcfca6",
   "metadata": {},
   "source": [
    "En la función **`fetch_openml()`** de la biblioteca **`scikit-learn`**, el parámetro **`parser`** controla cómo se procesa (parsea) el archivo XML que contiene los metadatos del dataset descargado desde **OpenML**. "
   ]
  },
  {
   "cell_type": "markdown",
   "id": "cba542b9",
   "metadata": {},
   "source": [
    "Este parámetro es relevante porque OpenML almacena información sobre los datasets en formato **XML**, y `fetch_openml()` debe interpretar correctamente esta estructura para cargar los datos en un formato usable (como un DataFrame de pandas o arrays de NumPy).\n",
    "\n",
    "\n"
   ]
  },
  {
   "cell_type": "markdown",
   "id": "99108350",
   "metadata": {},
   "source": [
    "\n",
    "## **Significado del parámetro `parser`**\n"
   ]
  },
  {
   "cell_type": "markdown",
   "id": "9e217148",
   "metadata": {},
   "source": [
    "El parámetro `parser` acepta dos opciones:\n",
    "1. **`parser='liac-arff'`** (por defecto hasta scikit-learn ≥1.2)  \n",
    "   - Usa el parser **LIAC-ARFF**, una implementación antigua basada en el módulo `arff`.  \n",
    "   - **Limitaciones**:  \n",
    "     - No soporta bien datasets **multietiqueta (multi-label)**.  \n",
    "     - Puede tener problemas con tipos de datos complejos.  \n"
   ]
  },
  {
   "cell_type": "markdown",
   "id": "0421fd3b",
   "metadata": {},
   "source": [
    "\n",
    "2. **`parser='auto'`** (recomendado desde scikit-learn ≥1.2)  \n",
    "   - Selecciona automáticamente el mejor parser disponible:  \n",
    "     - Si está instalada la biblioteca **`liac-arff`**, la usa.  \n",
    "     - Si no, usa un parser interno más moderno.  \n",
    "   - **Ventajas**:  \n",
    "     - Soporta mejor datasets grandes y estructuras complejas.  \n",
    "     - Es más eficiente y compatible con pandas.  \n",
    "\n"
   ]
  },
  {
   "cell_type": "markdown",
   "id": "78ee26ed",
   "metadata": {},
   "source": [
    "\n",
    "\n",
    "### **¿Cuándo especificar `parser`?**\n"
   ]
  },
  {
   "cell_type": "markdown",
   "id": "a9e812eb",
   "metadata": {},
   "source": [
    "- **Si obtienes errores** al descargar un dataset (ej. `TypeError` o problemas con formatos ARFF), cambiar a `parser='auto'` suele resolverlo.  \n",
    "- **Para forzar compatibilidad** con versiones antiguas de scikit-learn (<1.2), puedes usar `parser='liac-arff'`.  \n",
    "\n",
    "\n"
   ]
  },
  {
   "cell_type": "markdown",
   "id": "5db842fd",
   "metadata": {},
   "source": [
    "\n",
    "### **Ejemplo de uso**\n"
   ]
  },
  {
   "cell_type": "code",
   "execution_count": 2,
   "id": "371b2807",
   "metadata": {},
   "outputs": [],
   "source": [
    "from sklearn.datasets import fetch_openml\n",
    "\n",
    "# Descargar MNIST desde OpenML con el parser automático (recomendado)\n",
    "mnist = fetch_openml(\n",
    "    name=\"mnist_784\", \n",
    "    version=1, \n",
    "    parser=\"auto\",  # ← Aquí se especifica el parser\n",
    "    as_frame=False  # Para obtener arrays NumPy en lugar de DataFrame\n",
    ")\n",
    "\n",
    "X, y = mnist.data, mnist.target\n",
    "# Ya se demora menos de un minuto lla obtención de esta dataset. "
   ]
  },
  {
   "cell_type": "markdown",
   "id": "0d144523",
   "metadata": {},
   "source": [
    "\n",
    "## **Problemas comunes relacionados con `parser`**\n"
   ]
  },
  {
   "cell_type": "markdown",
   "id": "49326fb2",
   "metadata": {},
   "source": [
    "1. **Error con `parser='liac-arff'`**:"
   ]
  },
  {
   "cell_type": "markdown",
   "id": "be7602f9",
   "metadata": {},
   "source": [
    "  \n",
    "\n",
    "`TypeError: Cannot cast array data from dtype('O') to dtype('float64')``  \n",
    "   \n"
   ]
  },
  {
   "cell_type": "markdown",
   "id": "b2c87b5c",
   "metadata": {},
   "source": [
    "   **Solución**: Usar `parser='auto'`.  \n"
   ]
  },
  {
   "cell_type": "markdown",
   "id": "e88ab76b",
   "metadata": {},
   "source": [
    "\n",
    "2. **Datasets multietiqueta**:  \n",
    "   Algunos datasets (ej. `scene`) no se cargan correctamente con el parser antiguo.  \n"
   ]
  },
  {
   "cell_type": "markdown",
   "id": "462b4548",
   "metadata": {},
   "source": [
    "\n",
    "3. **Eficiencia**:  \n",
    "   `parser='auto'` es más rápido para datasets grandes (como `covertype`).  \n",
    "\n",
    "\n"
   ]
  },
  {
   "cell_type": "markdown",
   "id": "35e04212",
   "metadata": {},
   "source": [
    "\n",
    "### **Detalles técnicos**\n",
    "- OpenML usa el formato **ARFF** (Attribute-Relation File Format) para almacenar datos, que se describe en XML.  \n",
    "- El parser determina cómo se convierten las columnas del ARFF a tipos de Python (ej. `nominal` → `category` en pandas).  \n",
    "- En scikit-learn ≥1.4, `parser='auto'` es el comportamiento predeterminado.  \n",
    "\n",
    "Si no especificas `parser`, la función intentará elegir la mejor opción, pero en casos ambiguos es útil definirlo explícitamente."
   ]
  },
  {
   "cell_type": "markdown",
   "id": "66c51667",
   "metadata": {},
   "source": [
    "\n",
    "En resumen, **\"MNIST\" es un nombre que honra su origen [(NIST)](https://www.nist.gov/srd/nist-special-database-19) y a la vez destaca las mejoras (\"Modified\") que lo hicieron fundamental en la historia del machine learning**."
   ]
  },
  {
   "cell_type": "markdown",
   "id": "30ff5f39",
   "metadata": {},
   "source": [
    "En este capítulo 3 de Géron usaremos el conjunto de datos MNIST, que es un conjunto de 70,000 pequeñas imágenes de dígitos escritos a mano por estudiantes de secundaria y empleados de la Oficina del Censo de EE.UU. "
   ]
  },
  {
   "cell_type": "markdown",
   "id": "6325fda7",
   "metadata": {},
   "source": [
    "Cada imagen está etiquetada con el dígito que representa.\n"
   ]
  },
  {
   "cell_type": "markdown",
   "id": "90a36dbf",
   "metadata": {},
   "source": [
    "\n",
    "Este conjunto ha sido estudiado tanto que a menudo se le llama el \"hola mundo\" del aprendizaje automático: cada vez que alguien crea un nuevo algoritmo de clasificación, siente curiosidad por ver cómo se desempeñará en MNIST, y cualquiera que aprenda aprendizaje automático aborda este conjunto de datos tarde o temprano.\n"
   ]
  },
  {
   "cell_type": "markdown",
   "id": "fdf27b98",
   "metadata": {},
   "source": [
    "\n",
    "Scikit-Learn proporciona muchas funciones auxiliares para descargar conjuntos de datos populares. "
   ]
  },
  {
   "cell_type": "markdown",
   "id": "cb08b6dd",
   "metadata": {},
   "source": [
    "MNIST es uno de ellos. "
   ]
  },
  {
   "cell_type": "markdown",
   "id": "5261e920",
   "metadata": {},
   "source": [
    "El siguiente código obtiene el conjunto de datos MNIST de [OpenML.org](https://www.openml.org/):\n"
   ]
  },
  {
   "cell_type": "code",
   "execution_count": 3,
   "id": "354d8027",
   "metadata": {},
   "outputs": [
    {
     "name": "stdout",
     "output_type": "stream",
     "text": [
      "CPU times: total: 3.89 s\n",
      "Wall time: 3.92 s\n"
     ]
    }
   ],
   "source": [
    "\n",
    "%%time \n",
    "from sklearn.datasets import fetch_openml\n",
    "mnist = fetch_openml(name = 'mnist_784', as_frame=False) # obtener los datos bajo la estructura Banch\n",
    "# gracias al parámetro as_frame con valor False, los predictores y etiquetas \n",
    "# nos los entrega en forma de nd-array de Numpy. \n",
    "# Mientras que con as_frame en True nos entrega predictores y etiquetas en \n",
    "# forma de DataFrme de Pandas. \n"
   ]
  },
  {
   "cell_type": "code",
   "execution_count": 4,
   "id": "eb32bc83",
   "metadata": {},
   "outputs": [
    {
     "data": {
      "text/plain": [
       "dict_keys(['data', 'target', 'frame', 'categories', 'feature_names', 'target_names', 'DESCR', 'details', 'url'])"
      ]
     },
     "execution_count": 4,
     "metadata": {},
     "output_type": "execute_result"
    }
   ],
   "source": [
    "mnist.keys() "
   ]
  },
  {
   "cell_type": "code",
   "execution_count": 5,
   "id": "74626f14",
   "metadata": {},
   "outputs": [
    {
     "data": {
      "text/plain": [
       "array([[0, 0, 0, ..., 0, 0, 0],\n",
       "       [0, 0, 0, ..., 0, 0, 0],\n",
       "       [0, 0, 0, ..., 0, 0, 0],\n",
       "       ...,\n",
       "       [0, 0, 0, ..., 0, 0, 0],\n",
       "       [0, 0, 0, ..., 0, 0, 0],\n",
       "       [0, 0, 0, ..., 0, 0, 0]])"
      ]
     },
     "execution_count": 5,
     "metadata": {},
     "output_type": "execute_result"
    }
   ],
   "source": [
    "mnist.data"
   ]
  },
  {
   "cell_type": "code",
   "execution_count": 6,
   "id": "6261d6d5",
   "metadata": {},
   "outputs": [
    {
     "data": {
      "text/plain": [
       "array(['5', '0', '4', ..., '4', '5', '6'], dtype=object)"
      ]
     },
     "execution_count": 6,
     "metadata": {},
     "output_type": "execute_result"
    }
   ],
   "source": [
    "mnist.target"
   ]
  },
  {
   "cell_type": "code",
   "execution_count": 7,
   "id": "ac9cb81d",
   "metadata": {},
   "outputs": [
    {
     "data": {
      "text/plain": [
       "['pixel1',\n",
       " 'pixel2',\n",
       " 'pixel3',\n",
       " 'pixel4',\n",
       " 'pixel5',\n",
       " 'pixel6',\n",
       " 'pixel7',\n",
       " 'pixel8',\n",
       " 'pixel9',\n",
       " 'pixel10',\n",
       " 'pixel11',\n",
       " 'pixel12',\n",
       " 'pixel13',\n",
       " 'pixel14',\n",
       " 'pixel15',\n",
       " 'pixel16',\n",
       " 'pixel17',\n",
       " 'pixel18',\n",
       " 'pixel19',\n",
       " 'pixel20',\n",
       " 'pixel21',\n",
       " 'pixel22',\n",
       " 'pixel23',\n",
       " 'pixel24',\n",
       " 'pixel25',\n",
       " 'pixel26',\n",
       " 'pixel27',\n",
       " 'pixel28',\n",
       " 'pixel29',\n",
       " 'pixel30',\n",
       " 'pixel31',\n",
       " 'pixel32',\n",
       " 'pixel33',\n",
       " 'pixel34',\n",
       " 'pixel35',\n",
       " 'pixel36',\n",
       " 'pixel37',\n",
       " 'pixel38',\n",
       " 'pixel39',\n",
       " 'pixel40',\n",
       " 'pixel41',\n",
       " 'pixel42',\n",
       " 'pixel43',\n",
       " 'pixel44',\n",
       " 'pixel45',\n",
       " 'pixel46',\n",
       " 'pixel47',\n",
       " 'pixel48',\n",
       " 'pixel49',\n",
       " 'pixel50',\n",
       " 'pixel51',\n",
       " 'pixel52',\n",
       " 'pixel53',\n",
       " 'pixel54',\n",
       " 'pixel55',\n",
       " 'pixel56',\n",
       " 'pixel57',\n",
       " 'pixel58',\n",
       " 'pixel59',\n",
       " 'pixel60',\n",
       " 'pixel61',\n",
       " 'pixel62',\n",
       " 'pixel63',\n",
       " 'pixel64',\n",
       " 'pixel65',\n",
       " 'pixel66',\n",
       " 'pixel67',\n",
       " 'pixel68',\n",
       " 'pixel69',\n",
       " 'pixel70',\n",
       " 'pixel71',\n",
       " 'pixel72',\n",
       " 'pixel73',\n",
       " 'pixel74',\n",
       " 'pixel75',\n",
       " 'pixel76',\n",
       " 'pixel77',\n",
       " 'pixel78',\n",
       " 'pixel79',\n",
       " 'pixel80',\n",
       " 'pixel81',\n",
       " 'pixel82',\n",
       " 'pixel83',\n",
       " 'pixel84',\n",
       " 'pixel85',\n",
       " 'pixel86',\n",
       " 'pixel87',\n",
       " 'pixel88',\n",
       " 'pixel89',\n",
       " 'pixel90',\n",
       " 'pixel91',\n",
       " 'pixel92',\n",
       " 'pixel93',\n",
       " 'pixel94',\n",
       " 'pixel95',\n",
       " 'pixel96',\n",
       " 'pixel97',\n",
       " 'pixel98',\n",
       " 'pixel99',\n",
       " 'pixel100',\n",
       " 'pixel101',\n",
       " 'pixel102',\n",
       " 'pixel103',\n",
       " 'pixel104',\n",
       " 'pixel105',\n",
       " 'pixel106',\n",
       " 'pixel107',\n",
       " 'pixel108',\n",
       " 'pixel109',\n",
       " 'pixel110',\n",
       " 'pixel111',\n",
       " 'pixel112',\n",
       " 'pixel113',\n",
       " 'pixel114',\n",
       " 'pixel115',\n",
       " 'pixel116',\n",
       " 'pixel117',\n",
       " 'pixel118',\n",
       " 'pixel119',\n",
       " 'pixel120',\n",
       " 'pixel121',\n",
       " 'pixel122',\n",
       " 'pixel123',\n",
       " 'pixel124',\n",
       " 'pixel125',\n",
       " 'pixel126',\n",
       " 'pixel127',\n",
       " 'pixel128',\n",
       " 'pixel129',\n",
       " 'pixel130',\n",
       " 'pixel131',\n",
       " 'pixel132',\n",
       " 'pixel133',\n",
       " 'pixel134',\n",
       " 'pixel135',\n",
       " 'pixel136',\n",
       " 'pixel137',\n",
       " 'pixel138',\n",
       " 'pixel139',\n",
       " 'pixel140',\n",
       " 'pixel141',\n",
       " 'pixel142',\n",
       " 'pixel143',\n",
       " 'pixel144',\n",
       " 'pixel145',\n",
       " 'pixel146',\n",
       " 'pixel147',\n",
       " 'pixel148',\n",
       " 'pixel149',\n",
       " 'pixel150',\n",
       " 'pixel151',\n",
       " 'pixel152',\n",
       " 'pixel153',\n",
       " 'pixel154',\n",
       " 'pixel155',\n",
       " 'pixel156',\n",
       " 'pixel157',\n",
       " 'pixel158',\n",
       " 'pixel159',\n",
       " 'pixel160',\n",
       " 'pixel161',\n",
       " 'pixel162',\n",
       " 'pixel163',\n",
       " 'pixel164',\n",
       " 'pixel165',\n",
       " 'pixel166',\n",
       " 'pixel167',\n",
       " 'pixel168',\n",
       " 'pixel169',\n",
       " 'pixel170',\n",
       " 'pixel171',\n",
       " 'pixel172',\n",
       " 'pixel173',\n",
       " 'pixel174',\n",
       " 'pixel175',\n",
       " 'pixel176',\n",
       " 'pixel177',\n",
       " 'pixel178',\n",
       " 'pixel179',\n",
       " 'pixel180',\n",
       " 'pixel181',\n",
       " 'pixel182',\n",
       " 'pixel183',\n",
       " 'pixel184',\n",
       " 'pixel185',\n",
       " 'pixel186',\n",
       " 'pixel187',\n",
       " 'pixel188',\n",
       " 'pixel189',\n",
       " 'pixel190',\n",
       " 'pixel191',\n",
       " 'pixel192',\n",
       " 'pixel193',\n",
       " 'pixel194',\n",
       " 'pixel195',\n",
       " 'pixel196',\n",
       " 'pixel197',\n",
       " 'pixel198',\n",
       " 'pixel199',\n",
       " 'pixel200',\n",
       " 'pixel201',\n",
       " 'pixel202',\n",
       " 'pixel203',\n",
       " 'pixel204',\n",
       " 'pixel205',\n",
       " 'pixel206',\n",
       " 'pixel207',\n",
       " 'pixel208',\n",
       " 'pixel209',\n",
       " 'pixel210',\n",
       " 'pixel211',\n",
       " 'pixel212',\n",
       " 'pixel213',\n",
       " 'pixel214',\n",
       " 'pixel215',\n",
       " 'pixel216',\n",
       " 'pixel217',\n",
       " 'pixel218',\n",
       " 'pixel219',\n",
       " 'pixel220',\n",
       " 'pixel221',\n",
       " 'pixel222',\n",
       " 'pixel223',\n",
       " 'pixel224',\n",
       " 'pixel225',\n",
       " 'pixel226',\n",
       " 'pixel227',\n",
       " 'pixel228',\n",
       " 'pixel229',\n",
       " 'pixel230',\n",
       " 'pixel231',\n",
       " 'pixel232',\n",
       " 'pixel233',\n",
       " 'pixel234',\n",
       " 'pixel235',\n",
       " 'pixel236',\n",
       " 'pixel237',\n",
       " 'pixel238',\n",
       " 'pixel239',\n",
       " 'pixel240',\n",
       " 'pixel241',\n",
       " 'pixel242',\n",
       " 'pixel243',\n",
       " 'pixel244',\n",
       " 'pixel245',\n",
       " 'pixel246',\n",
       " 'pixel247',\n",
       " 'pixel248',\n",
       " 'pixel249',\n",
       " 'pixel250',\n",
       " 'pixel251',\n",
       " 'pixel252',\n",
       " 'pixel253',\n",
       " 'pixel254',\n",
       " 'pixel255',\n",
       " 'pixel256',\n",
       " 'pixel257',\n",
       " 'pixel258',\n",
       " 'pixel259',\n",
       " 'pixel260',\n",
       " 'pixel261',\n",
       " 'pixel262',\n",
       " 'pixel263',\n",
       " 'pixel264',\n",
       " 'pixel265',\n",
       " 'pixel266',\n",
       " 'pixel267',\n",
       " 'pixel268',\n",
       " 'pixel269',\n",
       " 'pixel270',\n",
       " 'pixel271',\n",
       " 'pixel272',\n",
       " 'pixel273',\n",
       " 'pixel274',\n",
       " 'pixel275',\n",
       " 'pixel276',\n",
       " 'pixel277',\n",
       " 'pixel278',\n",
       " 'pixel279',\n",
       " 'pixel280',\n",
       " 'pixel281',\n",
       " 'pixel282',\n",
       " 'pixel283',\n",
       " 'pixel284',\n",
       " 'pixel285',\n",
       " 'pixel286',\n",
       " 'pixel287',\n",
       " 'pixel288',\n",
       " 'pixel289',\n",
       " 'pixel290',\n",
       " 'pixel291',\n",
       " 'pixel292',\n",
       " 'pixel293',\n",
       " 'pixel294',\n",
       " 'pixel295',\n",
       " 'pixel296',\n",
       " 'pixel297',\n",
       " 'pixel298',\n",
       " 'pixel299',\n",
       " 'pixel300',\n",
       " 'pixel301',\n",
       " 'pixel302',\n",
       " 'pixel303',\n",
       " 'pixel304',\n",
       " 'pixel305',\n",
       " 'pixel306',\n",
       " 'pixel307',\n",
       " 'pixel308',\n",
       " 'pixel309',\n",
       " 'pixel310',\n",
       " 'pixel311',\n",
       " 'pixel312',\n",
       " 'pixel313',\n",
       " 'pixel314',\n",
       " 'pixel315',\n",
       " 'pixel316',\n",
       " 'pixel317',\n",
       " 'pixel318',\n",
       " 'pixel319',\n",
       " 'pixel320',\n",
       " 'pixel321',\n",
       " 'pixel322',\n",
       " 'pixel323',\n",
       " 'pixel324',\n",
       " 'pixel325',\n",
       " 'pixel326',\n",
       " 'pixel327',\n",
       " 'pixel328',\n",
       " 'pixel329',\n",
       " 'pixel330',\n",
       " 'pixel331',\n",
       " 'pixel332',\n",
       " 'pixel333',\n",
       " 'pixel334',\n",
       " 'pixel335',\n",
       " 'pixel336',\n",
       " 'pixel337',\n",
       " 'pixel338',\n",
       " 'pixel339',\n",
       " 'pixel340',\n",
       " 'pixel341',\n",
       " 'pixel342',\n",
       " 'pixel343',\n",
       " 'pixel344',\n",
       " 'pixel345',\n",
       " 'pixel346',\n",
       " 'pixel347',\n",
       " 'pixel348',\n",
       " 'pixel349',\n",
       " 'pixel350',\n",
       " 'pixel351',\n",
       " 'pixel352',\n",
       " 'pixel353',\n",
       " 'pixel354',\n",
       " 'pixel355',\n",
       " 'pixel356',\n",
       " 'pixel357',\n",
       " 'pixel358',\n",
       " 'pixel359',\n",
       " 'pixel360',\n",
       " 'pixel361',\n",
       " 'pixel362',\n",
       " 'pixel363',\n",
       " 'pixel364',\n",
       " 'pixel365',\n",
       " 'pixel366',\n",
       " 'pixel367',\n",
       " 'pixel368',\n",
       " 'pixel369',\n",
       " 'pixel370',\n",
       " 'pixel371',\n",
       " 'pixel372',\n",
       " 'pixel373',\n",
       " 'pixel374',\n",
       " 'pixel375',\n",
       " 'pixel376',\n",
       " 'pixel377',\n",
       " 'pixel378',\n",
       " 'pixel379',\n",
       " 'pixel380',\n",
       " 'pixel381',\n",
       " 'pixel382',\n",
       " 'pixel383',\n",
       " 'pixel384',\n",
       " 'pixel385',\n",
       " 'pixel386',\n",
       " 'pixel387',\n",
       " 'pixel388',\n",
       " 'pixel389',\n",
       " 'pixel390',\n",
       " 'pixel391',\n",
       " 'pixel392',\n",
       " 'pixel393',\n",
       " 'pixel394',\n",
       " 'pixel395',\n",
       " 'pixel396',\n",
       " 'pixel397',\n",
       " 'pixel398',\n",
       " 'pixel399',\n",
       " 'pixel400',\n",
       " 'pixel401',\n",
       " 'pixel402',\n",
       " 'pixel403',\n",
       " 'pixel404',\n",
       " 'pixel405',\n",
       " 'pixel406',\n",
       " 'pixel407',\n",
       " 'pixel408',\n",
       " 'pixel409',\n",
       " 'pixel410',\n",
       " 'pixel411',\n",
       " 'pixel412',\n",
       " 'pixel413',\n",
       " 'pixel414',\n",
       " 'pixel415',\n",
       " 'pixel416',\n",
       " 'pixel417',\n",
       " 'pixel418',\n",
       " 'pixel419',\n",
       " 'pixel420',\n",
       " 'pixel421',\n",
       " 'pixel422',\n",
       " 'pixel423',\n",
       " 'pixel424',\n",
       " 'pixel425',\n",
       " 'pixel426',\n",
       " 'pixel427',\n",
       " 'pixel428',\n",
       " 'pixel429',\n",
       " 'pixel430',\n",
       " 'pixel431',\n",
       " 'pixel432',\n",
       " 'pixel433',\n",
       " 'pixel434',\n",
       " 'pixel435',\n",
       " 'pixel436',\n",
       " 'pixel437',\n",
       " 'pixel438',\n",
       " 'pixel439',\n",
       " 'pixel440',\n",
       " 'pixel441',\n",
       " 'pixel442',\n",
       " 'pixel443',\n",
       " 'pixel444',\n",
       " 'pixel445',\n",
       " 'pixel446',\n",
       " 'pixel447',\n",
       " 'pixel448',\n",
       " 'pixel449',\n",
       " 'pixel450',\n",
       " 'pixel451',\n",
       " 'pixel452',\n",
       " 'pixel453',\n",
       " 'pixel454',\n",
       " 'pixel455',\n",
       " 'pixel456',\n",
       " 'pixel457',\n",
       " 'pixel458',\n",
       " 'pixel459',\n",
       " 'pixel460',\n",
       " 'pixel461',\n",
       " 'pixel462',\n",
       " 'pixel463',\n",
       " 'pixel464',\n",
       " 'pixel465',\n",
       " 'pixel466',\n",
       " 'pixel467',\n",
       " 'pixel468',\n",
       " 'pixel469',\n",
       " 'pixel470',\n",
       " 'pixel471',\n",
       " 'pixel472',\n",
       " 'pixel473',\n",
       " 'pixel474',\n",
       " 'pixel475',\n",
       " 'pixel476',\n",
       " 'pixel477',\n",
       " 'pixel478',\n",
       " 'pixel479',\n",
       " 'pixel480',\n",
       " 'pixel481',\n",
       " 'pixel482',\n",
       " 'pixel483',\n",
       " 'pixel484',\n",
       " 'pixel485',\n",
       " 'pixel486',\n",
       " 'pixel487',\n",
       " 'pixel488',\n",
       " 'pixel489',\n",
       " 'pixel490',\n",
       " 'pixel491',\n",
       " 'pixel492',\n",
       " 'pixel493',\n",
       " 'pixel494',\n",
       " 'pixel495',\n",
       " 'pixel496',\n",
       " 'pixel497',\n",
       " 'pixel498',\n",
       " 'pixel499',\n",
       " 'pixel500',\n",
       " 'pixel501',\n",
       " 'pixel502',\n",
       " 'pixel503',\n",
       " 'pixel504',\n",
       " 'pixel505',\n",
       " 'pixel506',\n",
       " 'pixel507',\n",
       " 'pixel508',\n",
       " 'pixel509',\n",
       " 'pixel510',\n",
       " 'pixel511',\n",
       " 'pixel512',\n",
       " 'pixel513',\n",
       " 'pixel514',\n",
       " 'pixel515',\n",
       " 'pixel516',\n",
       " 'pixel517',\n",
       " 'pixel518',\n",
       " 'pixel519',\n",
       " 'pixel520',\n",
       " 'pixel521',\n",
       " 'pixel522',\n",
       " 'pixel523',\n",
       " 'pixel524',\n",
       " 'pixel525',\n",
       " 'pixel526',\n",
       " 'pixel527',\n",
       " 'pixel528',\n",
       " 'pixel529',\n",
       " 'pixel530',\n",
       " 'pixel531',\n",
       " 'pixel532',\n",
       " 'pixel533',\n",
       " 'pixel534',\n",
       " 'pixel535',\n",
       " 'pixel536',\n",
       " 'pixel537',\n",
       " 'pixel538',\n",
       " 'pixel539',\n",
       " 'pixel540',\n",
       " 'pixel541',\n",
       " 'pixel542',\n",
       " 'pixel543',\n",
       " 'pixel544',\n",
       " 'pixel545',\n",
       " 'pixel546',\n",
       " 'pixel547',\n",
       " 'pixel548',\n",
       " 'pixel549',\n",
       " 'pixel550',\n",
       " 'pixel551',\n",
       " 'pixel552',\n",
       " 'pixel553',\n",
       " 'pixel554',\n",
       " 'pixel555',\n",
       " 'pixel556',\n",
       " 'pixel557',\n",
       " 'pixel558',\n",
       " 'pixel559',\n",
       " 'pixel560',\n",
       " 'pixel561',\n",
       " 'pixel562',\n",
       " 'pixel563',\n",
       " 'pixel564',\n",
       " 'pixel565',\n",
       " 'pixel566',\n",
       " 'pixel567',\n",
       " 'pixel568',\n",
       " 'pixel569',\n",
       " 'pixel570',\n",
       " 'pixel571',\n",
       " 'pixel572',\n",
       " 'pixel573',\n",
       " 'pixel574',\n",
       " 'pixel575',\n",
       " 'pixel576',\n",
       " 'pixel577',\n",
       " 'pixel578',\n",
       " 'pixel579',\n",
       " 'pixel580',\n",
       " 'pixel581',\n",
       " 'pixel582',\n",
       " 'pixel583',\n",
       " 'pixel584',\n",
       " 'pixel585',\n",
       " 'pixel586',\n",
       " 'pixel587',\n",
       " 'pixel588',\n",
       " 'pixel589',\n",
       " 'pixel590',\n",
       " 'pixel591',\n",
       " 'pixel592',\n",
       " 'pixel593',\n",
       " 'pixel594',\n",
       " 'pixel595',\n",
       " 'pixel596',\n",
       " 'pixel597',\n",
       " 'pixel598',\n",
       " 'pixel599',\n",
       " 'pixel600',\n",
       " 'pixel601',\n",
       " 'pixel602',\n",
       " 'pixel603',\n",
       " 'pixel604',\n",
       " 'pixel605',\n",
       " 'pixel606',\n",
       " 'pixel607',\n",
       " 'pixel608',\n",
       " 'pixel609',\n",
       " 'pixel610',\n",
       " 'pixel611',\n",
       " 'pixel612',\n",
       " 'pixel613',\n",
       " 'pixel614',\n",
       " 'pixel615',\n",
       " 'pixel616',\n",
       " 'pixel617',\n",
       " 'pixel618',\n",
       " 'pixel619',\n",
       " 'pixel620',\n",
       " 'pixel621',\n",
       " 'pixel622',\n",
       " 'pixel623',\n",
       " 'pixel624',\n",
       " 'pixel625',\n",
       " 'pixel626',\n",
       " 'pixel627',\n",
       " 'pixel628',\n",
       " 'pixel629',\n",
       " 'pixel630',\n",
       " 'pixel631',\n",
       " 'pixel632',\n",
       " 'pixel633',\n",
       " 'pixel634',\n",
       " 'pixel635',\n",
       " 'pixel636',\n",
       " 'pixel637',\n",
       " 'pixel638',\n",
       " 'pixel639',\n",
       " 'pixel640',\n",
       " 'pixel641',\n",
       " 'pixel642',\n",
       " 'pixel643',\n",
       " 'pixel644',\n",
       " 'pixel645',\n",
       " 'pixel646',\n",
       " 'pixel647',\n",
       " 'pixel648',\n",
       " 'pixel649',\n",
       " 'pixel650',\n",
       " 'pixel651',\n",
       " 'pixel652',\n",
       " 'pixel653',\n",
       " 'pixel654',\n",
       " 'pixel655',\n",
       " 'pixel656',\n",
       " 'pixel657',\n",
       " 'pixel658',\n",
       " 'pixel659',\n",
       " 'pixel660',\n",
       " 'pixel661',\n",
       " 'pixel662',\n",
       " 'pixel663',\n",
       " 'pixel664',\n",
       " 'pixel665',\n",
       " 'pixel666',\n",
       " 'pixel667',\n",
       " 'pixel668',\n",
       " 'pixel669',\n",
       " 'pixel670',\n",
       " 'pixel671',\n",
       " 'pixel672',\n",
       " 'pixel673',\n",
       " 'pixel674',\n",
       " 'pixel675',\n",
       " 'pixel676',\n",
       " 'pixel677',\n",
       " 'pixel678',\n",
       " 'pixel679',\n",
       " 'pixel680',\n",
       " 'pixel681',\n",
       " 'pixel682',\n",
       " 'pixel683',\n",
       " 'pixel684',\n",
       " 'pixel685',\n",
       " 'pixel686',\n",
       " 'pixel687',\n",
       " 'pixel688',\n",
       " 'pixel689',\n",
       " 'pixel690',\n",
       " 'pixel691',\n",
       " 'pixel692',\n",
       " 'pixel693',\n",
       " 'pixel694',\n",
       " 'pixel695',\n",
       " 'pixel696',\n",
       " 'pixel697',\n",
       " 'pixel698',\n",
       " 'pixel699',\n",
       " 'pixel700',\n",
       " 'pixel701',\n",
       " 'pixel702',\n",
       " 'pixel703',\n",
       " 'pixel704',\n",
       " 'pixel705',\n",
       " 'pixel706',\n",
       " 'pixel707',\n",
       " 'pixel708',\n",
       " 'pixel709',\n",
       " 'pixel710',\n",
       " 'pixel711',\n",
       " 'pixel712',\n",
       " 'pixel713',\n",
       " 'pixel714',\n",
       " 'pixel715',\n",
       " 'pixel716',\n",
       " 'pixel717',\n",
       " 'pixel718',\n",
       " 'pixel719',\n",
       " 'pixel720',\n",
       " 'pixel721',\n",
       " 'pixel722',\n",
       " 'pixel723',\n",
       " 'pixel724',\n",
       " 'pixel725',\n",
       " 'pixel726',\n",
       " 'pixel727',\n",
       " 'pixel728',\n",
       " 'pixel729',\n",
       " 'pixel730',\n",
       " 'pixel731',\n",
       " 'pixel732',\n",
       " 'pixel733',\n",
       " 'pixel734',\n",
       " 'pixel735',\n",
       " 'pixel736',\n",
       " 'pixel737',\n",
       " 'pixel738',\n",
       " 'pixel739',\n",
       " 'pixel740',\n",
       " 'pixel741',\n",
       " 'pixel742',\n",
       " 'pixel743',\n",
       " 'pixel744',\n",
       " 'pixel745',\n",
       " 'pixel746',\n",
       " 'pixel747',\n",
       " 'pixel748',\n",
       " 'pixel749',\n",
       " 'pixel750',\n",
       " 'pixel751',\n",
       " 'pixel752',\n",
       " 'pixel753',\n",
       " 'pixel754',\n",
       " 'pixel755',\n",
       " 'pixel756',\n",
       " 'pixel757',\n",
       " 'pixel758',\n",
       " 'pixel759',\n",
       " 'pixel760',\n",
       " 'pixel761',\n",
       " 'pixel762',\n",
       " 'pixel763',\n",
       " 'pixel764',\n",
       " 'pixel765',\n",
       " 'pixel766',\n",
       " 'pixel767',\n",
       " 'pixel768',\n",
       " 'pixel769',\n",
       " 'pixel770',\n",
       " 'pixel771',\n",
       " 'pixel772',\n",
       " 'pixel773',\n",
       " 'pixel774',\n",
       " 'pixel775',\n",
       " 'pixel776',\n",
       " 'pixel777',\n",
       " 'pixel778',\n",
       " 'pixel779',\n",
       " 'pixel780',\n",
       " 'pixel781',\n",
       " 'pixel782',\n",
       " 'pixel783',\n",
       " 'pixel784']"
      ]
     },
     "execution_count": 7,
     "metadata": {},
     "output_type": "execute_result"
    }
   ],
   "source": [
    "mnist.feature_names"
   ]
  },
  {
   "cell_type": "code",
   "execution_count": 8,
   "id": "0d039a22",
   "metadata": {},
   "outputs": [],
   "source": [
    "mnist.frame "
   ]
  },
  {
   "cell_type": "code",
   "execution_count": 9,
   "id": "d653b647",
   "metadata": {},
   "outputs": [
    {
     "data": {
      "text/plain": [
       "{'class': ['0', '1', '2', '3', '4', '5', '6', '7', '8', '9']}"
      ]
     },
     "execution_count": 9,
     "metadata": {},
     "output_type": "execute_result"
    }
   ],
   "source": [
    "mnist.categories"
   ]
  },
  {
   "cell_type": "code",
   "execution_count": 10,
   "id": "d3b36b53",
   "metadata": {},
   "outputs": [
    {
     "data": {
      "text/plain": [
       "['class']"
      ]
     },
     "execution_count": 10,
     "metadata": {},
     "output_type": "execute_result"
    }
   ],
   "source": [
    "mnist.target_names"
   ]
  },
  {
   "cell_type": "code",
   "execution_count": 11,
   "id": "13dd0b20",
   "metadata": {},
   "outputs": [
    {
     "name": "stdout",
     "output_type": "stream",
     "text": [
      "**Author**: Yann LeCun, Corinna Cortes, Christopher J.C. Burges  \n",
      "**Source**: [MNIST Website](http://yann.lecun.com/exdb/mnist/) - Date unknown  \n",
      "**Please cite**:  \n",
      "\n",
      "The MNIST database of handwritten digits with 784 features, raw data available at: http://yann.lecun.com/exdb/mnist/. It can be split in a training set of the first 60,000 examples, and a test set of 10,000 examples  \n",
      "\n",
      "It is a subset of a larger set available from NIST. The digits have been size-normalized and centered in a fixed-size image. It is a good database for people who want to try learning techniques and pattern recognition methods on real-world data while spending minimal efforts on preprocessing and formatting. The original black and white (bilevel) images from NIST were size normalized to fit in a 20x20 pixel box while preserving their aspect ratio. The resulting images contain grey levels as a result of the anti-aliasing technique used by the normalization algorithm. the images were centered in a 28x28 image by computing the center of mass of the pixels, and translating the image so as to position this point at the center of the 28x28 field.  \n",
      "\n",
      "With some classification methods (particularly template-based methods, such as SVM and K-nearest neighbors), the error rate improves when the digits are centered by bounding box rather than center of mass. If you do this kind of pre-processing, you should report it in your publications. The MNIST database was constructed from NIST's NIST originally designated SD-3 as their training set and SD-1 as their test set. However, SD-3 is much cleaner and easier to recognize than SD-1. The reason for this can be found on the fact that SD-3 was collected among Census Bureau employees, while SD-1 was collected among high-school students. Drawing sensible conclusions from learning experiments requires that the result be independent of the choice of training set and test among the complete set of samples. Therefore it was necessary to build a new database by mixing NIST's datasets.  \n",
      "\n",
      "The MNIST training set is composed of 30,000 patterns from SD-3 and 30,000 patterns from SD-1. Our test set was composed of 5,000 patterns from SD-3 and 5,000 patterns from SD-1. The 60,000 pattern training set contained examples from approximately 250 writers. We made sure that the sets of writers of the training set and test set were disjoint. SD-1 contains 58,527 digit images written by 500 different writers. In contrast to SD-3, where blocks of data from each writer appeared in sequence, the data in SD-1 is scrambled. Writer identities for SD-1 is available and we used this information to unscramble the writers. We then split SD-1 in two: characters written by the first 250 writers went into our new training set. The remaining 250 writers were placed in our test set. Thus we had two sets with nearly 30,000 examples each. The new training set was completed with enough examples from SD-3, starting at pattern # 0, to make a full set of 60,000 training patterns. Similarly, the new test set was completed with SD-3 examples starting at pattern # 35,000 to make a full set with 60,000 test patterns. Only a subset of 10,000 test images (5,000 from SD-1 and 5,000 from SD-3) is available on this site. The full 60,000 sample training set is available.\n",
      "\n",
      "Downloaded from openml.org.\n"
     ]
    }
   ],
   "source": [
    "print(mnist.DESCR)"
   ]
  },
  {
   "cell_type": "code",
   "execution_count": 12,
   "id": "298e5eec",
   "metadata": {},
   "outputs": [
    {
     "data": {
      "text/plain": [
       "sklearn.utils._bunch.Bunch"
      ]
     },
     "execution_count": 12,
     "metadata": {},
     "output_type": "execute_result"
    }
   ],
   "source": [
    "type(mnist) # estructura de datos parecida a un diccionario \n",
    "# pero a la que puede acceder a la información como atributos es decir, con notación de  punto de Python"
   ]
  },
  {
   "cell_type": "code",
   "execution_count": null,
   "id": "e4d5325a",
   "metadata": {},
   "outputs": [],
   "source": [
    "mnist.data.index # Porque los nd-array no tienen indices para las filas ni nombres para las columnas"
   ]
  },
  {
   "cell_type": "code",
   "execution_count": null,
   "id": "152ed407",
   "metadata": {},
   "outputs": [],
   "source": [
    "%%time \n",
    "mnist_df = fetch_openml('mnist_784', as_frame=True)\n",
    "# Se demora menos de 10 segundos en obtener estos datos en forma de DataFrame de Pandas"
   ]
  },
  {
   "cell_type": "code",
   "execution_count": null,
   "id": "9c21a7aa",
   "metadata": {},
   "outputs": [],
   "source": [
    "mnist_df.data.index"
   ]
  },
  {
   "cell_type": "markdown",
   "id": "4a7bab2c",
   "metadata": {},
   "source": [
    "Tarea\n",
    "\n",
    "Poner el nombre de imagen a la familia indexante. "
   ]
  },
  {
   "cell_type": "code",
   "execution_count": null,
   "id": "ff662897",
   "metadata": {},
   "outputs": [],
   "source": [
    "import numpy as np \n",
    "mnist_df.data['Índice de la Imagen'] = np.arange(1,70_000+1) # cree la columna de índice de la imagen\n",
    "mnist_df.data.index = mnist_df.data['Índice de la Imagen']\n",
    "mnist_df.data.drop('Índice de la Imagen', axis = 1, inplace = True)\n",
    "mnist_df.data.head() "
   ]
  },
  {
   "cell_type": "code",
   "execution_count": null,
   "id": "41ce4de7",
   "metadata": {},
   "outputs": [],
   "source": [
    "mnist_df.data"
   ]
  },
  {
   "cell_type": "code",
   "execution_count": null,
   "id": "7233bedf",
   "metadata": {},
   "outputs": [],
   "source": [
    "mnist_df.data.info() # Este dataset pesa menos de media giga. "
   ]
  },
  {
   "cell_type": "code",
   "execution_count": null,
   "id": "aa177be7",
   "metadata": {},
   "outputs": [],
   "source": [
    "mnist_df.data.describe() "
   ]
  },
  {
   "cell_type": "code",
   "execution_count": null,
   "id": "509d07a1",
   "metadata": {},
   "outputs": [],
   "source": [
    "28*28 # las imagenes estan aplanadas y al reformarlas se vuelven 28*28"
   ]
  },
  {
   "cell_type": "code",
   "execution_count": null,
   "id": "793b6260",
   "metadata": {},
   "outputs": [],
   "source": [
    "mnist.data.shape"
   ]
  },
  {
   "cell_type": "code",
   "execution_count": null,
   "id": "be352f8b",
   "metadata": {},
   "outputs": [],
   "source": [
    "mnist.data[0].reshape(28, 28) # esta es una imagen reformada "
   ]
  },
  {
   "cell_type": "markdown",
   "id": "c341ac8f",
   "metadata": {},
   "source": [
    "\n",
    "El paquete `sklearn.datasets` contiene principalmente tres tipos de funciones:\n",
    "- Funciones `fetch_*` como `fetch_openml()` para descargar conjuntos de datos de la vida real.\n",
    "- Funciones `load_*` para cargar pequeños conjuntos de datos de juguete incluidos con Scikit-Learn.\n",
    "- Funciones `make_*` para generar conjuntos de datos falsos, útiles para pruebas.\n"
   ]
  },
  {
   "cell_type": "markdown",
   "id": "f4befc00",
   "metadata": {},
   "source": [
    "\n",
    "Los conjuntos de datos generados generalmente se devuelven como una tupla `(X, y)` que contiene los datos de entrada y los objetivos, ambos como arrays de NumPy."
   ]
  },
  {
   "cell_type": "markdown",
   "id": "49474f6f",
   "metadata": {},
   "source": [
    "Otros conjuntos de datos se devuelven como objetos `sklearn.utils.Bunch`, que son diccionarios cuyas entradas también se pueden acceder como atributos.\n"
   ]
  },
  {
   "cell_type": "code",
   "execution_count": null,
   "id": "b413e64b",
   "metadata": {},
   "outputs": [],
   "source": [
    "mnist.data"
   ]
  },
  {
   "cell_type": "code",
   "execution_count": null,
   "id": "ab4c33b7",
   "metadata": {},
   "outputs": [],
   "source": [
    "dicc = {'marco':50}"
   ]
  },
  {
   "cell_type": "code",
   "execution_count": null,
   "id": "900a0fff",
   "metadata": {},
   "outputs": [],
   "source": [
    "dicc.keys()"
   ]
  },
  {
   "cell_type": "code",
   "execution_count": null,
   "id": "c9a52a3d",
   "metadata": {},
   "outputs": [],
   "source": [
    "dicc['marco']"
   ]
  },
  {
   "cell_type": "code",
   "execution_count": null,
   "id": "1c822c88",
   "metadata": {},
   "outputs": [],
   "source": [
    "dicc.marco # no se puede acceder a los valores asociados \n",
    "# a una key en un diccionario con notación de punto. "
   ]
  },
  {
   "cell_type": "markdown",
   "id": "81504b4f",
   "metadata": {},
   "source": [
    "\n",
    "La función `fetch_openml()` es un poco inusual porque, por defecto, devuelve las entradas como un DataFrame de Pandas y las etiquetas como una Serie de Pandas (a menos que el conjunto de datos sea disperso). "
   ]
  },
  {
   "cell_type": "code",
   "execution_count": null,
   "id": "a1ff20d2",
   "metadata": {},
   "outputs": [],
   "source": [
    "\n",
    "mnist_df = fetch_openml('mnist_784') # por defecto, as_frame=True\n",
    "\n",
    "type(mnist_df.data)\n",
    "Se demoda menos de 10 segundos en obtener como DataFrame de Pandas"
   ]
  },
  {
   "cell_type": "markdown",
   "id": "0d24476b",
   "metadata": {},
   "source": [
    "Pero el conjunto de datos MNIST contiene imágenes, y los DataFrames no son ideales para eso, por lo que es preferible establecer `as_frame=False` para obtener los datos como arrays de NumPy.\n"
   ]
  },
  {
   "cell_type": "markdown",
   "id": "dcff3657",
   "metadata": {},
   "source": [
    "\n",
    "Veamos estos arrays:\n"
   ]
  },
  {
   "cell_type": "markdown",
   "id": "51b0299d",
   "metadata": {},
   "source": [
    "# División del dataset en predictores X y etiquetas y "
   ]
  },
  {
   "cell_type": "code",
   "execution_count": null,
   "id": "46b8adce",
   "metadata": {},
   "outputs": [],
   "source": [
    "\n",
    "\n",
    "X, y = mnist.data, mnist.target # asignación multiple \n",
    "print(X.shape)  # (70000, 784)\n",
    "print(y.shape)  # (70000,)\n",
    "\n"
   ]
  },
  {
   "cell_type": "markdown",
   "id": "0fbf5d46",
   "metadata": {},
   "source": [
    "\n",
    "Hay 70,000 imágenes, y cada imagen tiene 784 características. "
   ]
  },
  {
   "cell_type": "markdown",
   "id": "76ce44c6",
   "metadata": {},
   "source": [
    "Esto se debe a que cada imagen es de 28 × 28 píxeles = 784 características, y cada característica simplemente representa la intensidad de un píxel, de 0 (blanco) a 255 (negro).\n"
   ]
  },
  {
   "cell_type": "markdown",
   "id": "2aeff75c",
   "metadata": {},
   "source": [
    "\n",
    "Echemos un vistazo a un dígito del conjunto de datos. "
   ]
  },
  {
   "cell_type": "markdown",
   "id": "add00e41",
   "metadata": {},
   "source": [
    "Todo lo que necesitamos hacer es tomar el vector de características de una instancia, remodelarlo a un array de 28 × 28 y mostrarlo usando la función `imshow()` de Matplotlib:\n"
   ]
  },
  {
   "cell_type": "code",
   "execution_count": null,
   "id": "7a9c4467",
   "metadata": {},
   "outputs": [],
   "source": [
    "\n",
    "\n",
    "import matplotlib.pyplot as plt\n",
    "\n",
    "def plot_digit(image_data, indice_de_la_imagen):\n",
    "    image = image_data.reshape(28, 28)\n",
    "    plt.title(f'La imagen representa el dígito {y[indice_de_la_imagen]}')\n",
    "    plt.imshow(image, cmap=\"binary\")\n",
    "    plt.axis(\"off\")\n",
    "indice_de_la_imagen = 4\n",
    "some_digit = X[indice_de_la_imagen]\n",
    "plot_digit(some_digit, indice_de_la_imagen=indice_de_la_imagen)\n",
    "plt.savefig(r\"C:\\Users\\marco\\Downloads\\un_de_tantos_digitos.png\")\n",
    "plt.show()\n",
    "\n"
   ]
  },
  {
   "cell_type": "code",
   "execution_count": null,
   "id": "0cc4f4d0",
   "metadata": {},
   "outputs": [],
   "source": [
    "y[4] # Segunda imagen porque ya indexamos desde 1"
   ]
  },
  {
   "cell_type": "code",
   "execution_count": null,
   "id": "f1dd969c",
   "metadata": {},
   "outputs": [],
   "source": [
    "y "
   ]
  },
  {
   "cell_type": "markdown",
   "id": "df922769",
   "metadata": {},
   "source": [
    "\n",
    "Esto parece un 9, y de hecho eso es lo que nos dice la etiqueta:\n"
   ]
  },
  {
   "cell_type": "code",
   "execution_count": null,
   "id": "10bcd90f",
   "metadata": {},
   "outputs": [],
   "source": [
    "\n",
    "\n",
    "print(y[4])  # '5'\n",
    "\n"
   ]
  },
  {
   "cell_type": "markdown",
   "id": "c7bb8c1f",
   "metadata": {},
   "source": [
    "# División en entrenamiento y testeo "
   ]
  },
  {
   "cell_type": "markdown",
   "id": "c51b0749",
   "metadata": {},
   "source": [
    "\n",
    "El conjunto de datos MNIST devuelto por `fetch_openml()` ya está dividido en un conjunto de entrenamiento (las primeras 60,000 imágenes) y un conjunto de prueba (las últimas 10,000 imágenes):\n"
   ]
  },
  {
   "cell_type": "markdown",
   "id": "04c5f7d9",
   "metadata": {},
   "source": [
    "# Incluir una imagen que represente la división de X en X_train y X_test y de y en y_train y y_test  \n",
    "\n",
    "<img src = 'division_entrenamiento_testeo_mnist.png'>"
   ]
  },
  {
   "cell_type": "code",
   "execution_count": null,
   "id": "d2f98916",
   "metadata": {},
   "outputs": [],
   "source": [
    "\n",
    "%%time \n",
    "X_train, X_test, y_train, y_test = X[0:60_000], X[60000:], y[:60000], y[60000:]\n",
    "# asignación multiple, \n",
    "# Notación de corchetes para acceder a los valores de un nd-array de Numpy\n",
    "# El operador hasta :\n",
    "\n"
   ]
  },
  {
   "cell_type": "code",
   "execution_count": null,
   "id": "c58348ac",
   "metadata": {},
   "outputs": [],
   "source": [
    "60_000/70_000, 10_000/70_000 # se dejó el 85% para entrenamiento y el 15% para testeo"
   ]
  },
  {
   "cell_type": "markdown",
   "id": "6ba83644",
   "metadata": {},
   "source": [
    "\n",
    "## Entrenando un Clasificador Binario\n",
    "\n",
    "\n",
    "Página 183 del PDF de Aurélien Géron en un su tercesa edición "
   ]
  },
  {
   "cell_type": "markdown",
   "id": "e2352a1d",
   "metadata": {},
   "source": [
    "Simplifiquemos el problema por ahora e intentemos identificar solo un dígito, por ejemplo, el número 5. "
   ]
  },
  {
   "cell_type": "markdown",
   "id": "1ef17dc2",
   "metadata": {},
   "source": [
    "Este \"detector de 5\" será un ejemplo de un clasificador binario, capaz de distinguir entre solo dos clases: 5 y no-5.\n"
   ]
  },
  {
   "cell_type": "markdown",
   "id": "249206e1",
   "metadata": {},
   "source": [
    "\n",
    "Primero crearemos el vector `y` objetivo para esta tarea de clasificación:\n"
   ]
  },
  {
   "cell_type": "code",
   "execution_count": null,
   "id": "d7735a8e",
   "metadata": {},
   "outputs": [],
   "source": [
    "y "
   ]
  },
  {
   "cell_type": "code",
   "execution_count": null,
   "id": "9c686fad",
   "metadata": {},
   "outputs": [],
   "source": [
    "y_num = y.astype(np.uint8) \n",
    "y_num # Convertir a tipo numérico para clasificación"
   ]
  },
  {
   "cell_type": "code",
   "execution_count": null,
   "id": "bb28c043",
   "metadata": {},
   "outputs": [],
   "source": [
    "y_train == '5' # Operador de comparación de igualdad, devuelve un vector booleano"
   ]
  },
  {
   "cell_type": "code",
   "execution_count": null,
   "id": "92147894",
   "metadata": {},
   "outputs": [],
   "source": [
    "(y_train == '5') # Verifica si todos los valores son 5"
   ]
  },
  {
   "cell_type": "code",
   "execution_count": null,
   "id": "6b8ec618",
   "metadata": {},
   "outputs": [],
   "source": [
    "\n",
    "\n",
    "y_train_5 = (y_train == '5')  # True para todos los 5s, False para otros dígitos\n",
    "y_test_5 = (y_test == '5')\n",
    "\n"
   ]
  },
  {
   "cell_type": "code",
   "execution_count": null,
   "id": "6ee902e9",
   "metadata": {},
   "outputs": [],
   "source": [
    "y_train_5"
   ]
  },
  {
   "cell_type": "code",
   "execution_count": null,
   "id": "367c16d0",
   "metadata": {},
   "outputs": [],
   "source": [
    "y_test_5"
   ]
  },
  {
   "cell_type": "markdown",
   "id": "daaf2f45",
   "metadata": {},
   "source": [
    "\n",
    "Ahora elijamos un clasificador y entrenémoslo. "
   ]
  },
  {
   "cell_type": "markdown",
   "id": "d05fd085",
   "metadata": {},
   "source": [
    "Un buen punto de partida es con un clasificador de descenso de gradiente estocástico (SGD), usando la clase `SGDClassifier` de Scikit-Learn:\n"
   ]
  },
  {
   "cell_type": "code",
   "execution_count": null,
   "id": "0dc64c73",
   "metadata": {},
   "outputs": [],
   "source": [
    "\n",
    "%%time \n",
    "from sklearn.linear_model import SGDClassifier\n"
   ]
  },
  {
   "cell_type": "code",
   "execution_count": null,
   "id": "6dbf1edf",
   "metadata": {},
   "outputs": [],
   "source": [
    "\n",
    "sgd_clf = SGDClassifier(random_state=42) # instanciar la clase para obtener un clasificador particular\n"
   ]
  },
  {
   "cell_type": "code",
   "execution_count": null,
   "id": "f3203390",
   "metadata": {},
   "outputs": [],
   "source": [
    "%%time \n",
    "sgd_clf.fit(X_train, y_train_5)\n",
    "# tiempo estimado de entrenamiento de 24 segundos \n"
   ]
  },
  {
   "cell_type": "markdown",
   "id": "c6b00c81",
   "metadata": {},
   "source": [
    "\n",
    "Ahora podemos usarlo para detectar imágenes del número 5:\n"
   ]
  },
  {
   "cell_type": "code",
   "execution_count": null,
   "id": "7cf70d7a",
   "metadata": {},
   "outputs": [],
   "source": [
    "\n",
    "\n",
    "sgd_clf.predict(X_train[:3]), y_train_5[:3]  # Devuelve array([True])\n",
    "\n"
   ]
  },
  {
   "cell_type": "markdown",
   "id": "e7aae5eb",
   "metadata": {},
   "source": [
    "\n",
    "## Medidas de Rendimiento en clasificación   \n"
   ]
  },
  {
   "cell_type": "markdown",
   "id": "8be7a869",
   "metadata": {},
   "source": [
    "Evaluar un clasificador es a menudo significativamente más complicado que evaluar un regresor, por lo que dedicaremos una gran parte de este capítulo a este tema.\n"
   ]
  },
  {
   "cell_type": "markdown",
   "id": "26385765",
   "metadata": {},
   "source": [
    "\n",
    "### Medición de la Precisión Usando Validación Cruzada\n"
   ]
  },
  {
   "cell_type": "markdown",
   "id": "e1c2d196",
   "metadata": {},
   "source": []
  },
  {
   "cell_type": "markdown",
   "id": "40c8a333",
   "metadata": {},
   "source": [
    "Una buena manera de evaluar un modelo es usar validación cruzada. "
   ]
  },
  {
   "cell_type": "markdown",
   "id": "a459d59f",
   "metadata": {},
   "source": [
    "Usemos la función `cross_val_score()` para evaluar nuestro modelo `SGDClassifier`, usando validación cruzada k-fold con tres particiones:\n"
   ]
  },
  {
   "cell_type": "markdown",
   "id": "67efd2af",
   "metadata": {},
   "source": [
    "Visualización didáctica del proccesode validación cruzada \n",
    "<img src = 'https://scikit-learn.org/stable/_images/grid_search_cross_validation.png'>"
   ]
  },
  {
   "cell_type": "code",
   "execution_count": null,
   "id": "e89cf3be",
   "metadata": {},
   "outputs": [],
   "source": [
    "from sklearn.base import clone\n",
    "from sklearn.metrics import get_scorer\n",
    "from sklearn.metrics import confusion_matrix\n",
    "from sklearn.model_selection import cross_val_score\n",
    "import numpy as np\n"
   ]
  },
  {
   "cell_type": "code",
   "execution_count": null,
   "id": "e10b9a24",
   "metadata": {},
   "outputs": [],
   "source": [
    "\n",
    "import numpy as np\n",
    "from sklearn.base import clone\n",
    "from sklearn.metrics import get_scorer\n",
    "\n",
    "def mi_cross_val_score(estimator, X_train, y_train, cv=3, scoring=\"accuracy\"):\n",
    "    n_samples = len(X_train)  # tamaño de los datos de entrenamiento\n",
    "    indices = np.arange(n_samples)  # un vector de índices de las muestras\n",
    "    np.random.shuffle(indices)  # mezclar los índices\n",
    "    \n",
    "    # Calcular el tamaño de cada fold\n",
    "    fold_sizes = (n_samples // cv) * np.ones(cv, dtype=int)\n",
    "    fold_sizes[:n_samples % cv] += 1  # ajustar para muestras sobrantes\n",
    "    \n",
    "    scores = []\n",
    "    scorer = get_scorer(scoring)  # obtener la función de puntuación\n",
    "    current = 0  # posición actual en el vector de índices\n",
    "    \n",
    "    for fold_size in fold_sizes:\n",
    "        start, stop = current, current + fold_size\n",
    "        test_idx = indices[start:stop]\n",
    "        train_idx = np.concatenate([indices[:start], indices[stop:]])\n",
    "        \n",
    "        # Clonar y entrenar el estimador\n",
    "        est = clone(estimator)\n",
    "        est.fit(X_train[train_idx], y_train[train_idx])\n",
    "        \n",
    "        # Calcular la puntuación\n",
    "        score = scorer(est, X_train[test_idx], y_train[test_idx])\n",
    "        scores.append(score)\n",
    "        \n",
    "        current = stop  # actualizar la posición\n",
    "    \n",
    "    return np.array(scores)"
   ]
  },
  {
   "cell_type": "code",
   "execution_count": null,
   "id": "afca1a10",
   "metadata": {},
   "outputs": [],
   "source": [
    "%%time \n",
    "mi_cross_val_score(sgd_clf, X_train, y_train_5, cv=3, scoring=\"accuracy\")\n",
    "# Se demora alrededor de 1 minuto y 10 segundo. "
   ]
  },
  {
   "cell_type": "code",
   "execution_count": null,
   "id": "5695f918",
   "metadata": {},
   "outputs": [],
   "source": [
    "scorer = get_scorer(\"accuracy\")\n",
    "scorer(sgd_clf, X_test, y_test_5)"
   ]
  },
  {
   "cell_type": "code",
   "execution_count": null,
   "id": "5ebb04e8",
   "metadata": {},
   "outputs": [],
   "source": [
    "%%time \n",
    "mi_cross_val_score(sgd_clf, X_train, y_train_5, cv=3, scoring=\"accuracy\")"
   ]
  },
  {
   "cell_type": "code",
   "execution_count": null,
   "id": "0f7c26ef",
   "metadata": {},
   "outputs": [],
   "source": [
    "\n",
    "%%time \n",
    "from sklearn.model_selection import cross_val_score\n",
    "\n",
    "cross_val_score(sgd_clf, X_train, y_train_5, cv=3, scoring=\"accuracy\")\n",
    "# Devuelve array([0.95035, 0.96035, 0.9604])\n",
    "\n"
   ]
  },
  {
   "cell_type": "markdown",
   "id": "12661f57",
   "metadata": {},
   "source": [
    "\n",
    "¡Más del 95% de precisión! Pero antes de emocionarnos demasiado, veamos un clasificador ficticio que solo clasifica cada imagen en la clase más frecuente, que en este caso es la clase negativa (no-5):\n"
   ]
  },
  {
   "cell_type": "markdown",
   "id": "f7d17700",
   "metadata": {},
   "source": [
    "# El uso de DummyClassifier para evaluar un clasificador ficticio"
   ]
  },
  {
   "cell_type": "code",
   "execution_count": null,
   "id": "0490ed7c",
   "metadata": {},
   "outputs": [],
   "source": [
    "from sklearn.dummy import DummyClassifier\n",
    "\n",
    "dummy_clf = DummyClassifier()\n",
    "dummy_clf.fit(X_train, y_train_5)\n",
    "print(any(dummy_clf.predict(X_train)))  # Imprime False: no se detectaron 5s\n",
    "\n",
    "cross_val_score(dummy_clf, X_train, y_train_5, cv=3, scoring=\"accuracy\")\n",
    "# Devuelve array([0.90965, 0.90965, 0.90965])\n",
    "\n"
   ]
  },
  {
   "cell_type": "markdown",
   "id": "cb8295f1",
   "metadata": {},
   "source": [
    "\n",
    "¡Tiene más del 90% de precisión! Esto se debe simplemente a que solo alrededor del 10% de las imágenes son 5s. "
   ]
  },
  {
   "cell_type": "markdown",
   "id": "736909a4",
   "metadata": {},
   "source": [
    "Esto demuestra por qué la precisión generalmente no es la medida de rendimiento preferida para clasificadores, especialmente cuando se trata de conjuntos de datos desequilibrados.\n"
   ]
  },
  {
   "cell_type": "markdown",
   "id": "8f54f7d6",
   "metadata": {},
   "source": [
    "# Ampliemos ideas sobre la clase DummyClassifier  \n",
    "\n",
    "# **Explicación de `DummyClassifier` en Scikit-Learn**\n",
    "\n",
    "## **¿Qué es `DummyClassifier`?**\n",
    "El `DummyClassifier` es un clasificador \"tonto\" o de referencia que realiza predicciones siguiendo reglas simples **sin aprender patrones de los datos**. "
   ]
  },
  {
   "cell_type": "markdown",
   "id": "4ed7e55b",
   "metadata": {},
   "source": [
    "Se utiliza principalmente para:\n",
    "- Establecer una **línea base** (baseline) de rendimiento mínimo que cualquier modelo real debe superar.\n",
    "- Detectar datasets desbalanceados o problemas en la evaluación.\n"
   ]
  },
  {
   "cell_type": "markdown",
   "id": "c828fe05",
   "metadata": {},
   "source": [
    "\n",
    "## **Estrategias Disponibles**\n",
    "Puede configurarse con diferentes estrategias mediante el parámetro `strategy`:\n"
   ]
  },
  {
   "cell_type": "markdown",
   "id": "9aa336aa",
   "metadata": {},
   "source": [
    "\n",
    "| Estrategia          | Comportamiento                              | Uso típico                     |\n",
    "|---------------------|--------------------------------------------|--------------------------------|\n",
    "| `\"most_frequent\"`   | Siempre predice la clase más común.        | Datasets desbalanceados.       |\n",
    "| `\"stratified\"`      | Predice aleatoriamente respetando la distribución de clases. | Evaluación de aleatoriedad.    |\n",
    "| `\"uniform\"`         | Predice uniformemente al azar todas las clases. | Comparación de aleatoriedad.   |\n",
    "| `\"constant\"`        | Siempre predice una clase fija (definida por `constant`). | Pruebas específicas.           |\n",
    "\n",
    "\n"
   ]
  },
  {
   "cell_type": "markdown",
   "id": "a204621f",
   "metadata": {},
   "source": [
    "\n",
    "## **Ejemplo Práctico con MNIST**\n"
   ]
  },
  {
   "cell_type": "markdown",
   "id": "a5169e73",
   "metadata": {},
   "source": [
    "### **1. Configuración Inicial**\n"
   ]
  },
  {
   "cell_type": "code",
   "execution_count": null,
   "id": "5dd86c1d",
   "metadata": {},
   "outputs": [],
   "source": [
    "from sklearn.dummy import DummyClassifier\n",
    "from sklearn.datasets import fetch_openml\n",
    "from sklearn.model_selection import cross_val_score\n",
    "\n",
    "# Cargar MNIST\n",
    "mnist = fetch_openml('mnist_784', as_frame=False)\n",
    "X, y = mnist.data, mnist.target\n",
    "y_binary = (y == '5')  # Clasificación binaria: 5 vs no-5\n",
    "\n"
   ]
  },
  {
   "cell_type": "markdown",
   "id": "b71e8a8d",
   "metadata": {},
   "source": [
    "\n",
    "### **2. Comparación con SGDClassifier**\n"
   ]
  },
  {
   "cell_type": "code",
   "execution_count": null,
   "id": "fcaa4331",
   "metadata": {},
   "outputs": [],
   "source": [
    "from sklearn.linear_model import SGDClassifier\n",
    "\n",
    "# Clasificador real\n",
    "sgd_clf = SGDClassifier(random_state=42)\n",
    "sgd_scores = cross_val_score(sgd_clf, X, y_binary, cv=3, scoring=\"accuracy\")\n",
    "\n",
    "# Clasificador dummy (siempre predice la clase mayoritaria)\n",
    "dummy_clf = DummyClassifier(strategy=\"most_frequent\")\n",
    "dummy_scores = cross_val_score(dummy_clf, X, y_binary, cv=3, scoring=\"accuracy\")\n",
    "\n",
    "print(f\"SGDClassifier Accuracy: {sgd_scores.mean():.2f}\")\n",
    "print(f\"DummyClassifier Accuracy: {dummy_scores.mean():.2f}\")\n",
    "\n"
   ]
  },
  {
   "cell_type": "markdown",
   "id": "4971e95d",
   "metadata": {},
   "source": [
    "**Salida:**\n",
    "```\n",
    "SGDClassifier Accuracy: 0.96\n",
    "DummyClassifier Accuracy: 0.91  # ¡El 91% son \"no-5\"! El modelo real solo mejora un 5%.\n",
    "```\n",
    "\n",
    "\n"
   ]
  },
  {
   "cell_type": "markdown",
   "id": "55903dc1",
   "metadata": {},
   "source": [
    "\n",
    "## **¿Por qué es Importante?**\n"
   ]
  },
  {
   "cell_type": "markdown",
   "id": "41481d18",
   "metadata": {},
   "source": [
    "1. **Detección de Desbalanceo**:  \n",
    "   Si un `DummyClassifier` tiene alta precisión (ej: 90%), el dataset está desbalanceado.  \n",
    "   *Ejemplo:* En MNIST, solo ~10% son \"5s\".\n"
   ]
  },
  {
   "cell_type": "markdown",
   "id": "29024a98",
   "metadata": {},
   "source": [
    "\n",
    "2. **Validación de Métricas**:  \n",
    "   Si tu modelo complejo no supera significativamente al `DummyClassifier`, **no está aprendiendo nada útil**.\n"
   ]
  },
  {
   "cell_type": "markdown",
   "id": "8f03405e",
   "metadata": {},
   "source": [
    "\n",
    "3. **Pruebas de Cordura**:  \n",
    "   Útil para verificar que el pipeline de evaluación funciona correctamente.\n",
    "\n",
    "\n"
   ]
  },
  {
   "cell_type": "markdown",
   "id": "29432998",
   "metadata": {},
   "source": [
    "\n",
    "## **Uso Avanzado: Matriz de Confusión**\n"
   ]
  },
  {
   "cell_type": "code",
   "execution_count": null,
   "id": "e6132840",
   "metadata": {},
   "outputs": [],
   "source": [
    "from sklearn.metrics import confusion_matrix\n",
    "\n",
    "dummy_clf.fit(X, y_binary)\n",
    "y_dummy_pred = dummy_clf.predict(X)\n",
    "\n",
    "print(confusion_matrix(y_binary, y_dummy_pred))\n",
    "\n"
   ]
  },
  {
   "cell_type": "markdown",
   "id": "d0935e66",
   "metadata": {},
   "source": [
    "**Salida:**\n",
    "```\n",
    "[[63000     0]  # Todos predichos como \"no-5\" (0 falsos positivos)\n",
    " [ 7000     0]] # 0 verdaderos positivos\n",
    "```\n",
    "\n",
    "\n"
   ]
  },
  {
   "cell_type": "markdown",
   "id": "1beea1d5",
   "metadata": {},
   "source": [
    "\n",
    "## **Conclusión Pedagógica**\n"
   ]
  },
  {
   "cell_type": "markdown",
   "id": "a09626b0",
   "metadata": {},
   "source": [
    "- **Enseñanza:** Usa `DummyClassifier` para mostrar que **accuracy no lo es todo** (¡puede ser engañoso!).\n",
    "- **Aprendizaje Crítico:** Invita a los estudiantes a reflexionar:  \n",
    "  *\"¿Por qué un modelo 'tonto' puede tener alta precisión? ¿Qué métricas alternativas usar?\"*  \n"
   ]
  },
  {
   "cell_type": "markdown",
   "id": "b3c8e527",
   "metadata": {},
   "source": [
    "\n",
    "** Tip:** Combínalo con `classification_report` para comparar precisión, recall y F1.  \n"
   ]
  },
  {
   "cell_type": "code",
   "execution_count": null,
   "id": "2fb5c6e3",
   "metadata": {},
   "outputs": [],
   "source": [
    "from sklearn.metrics import classification_report\n",
    "print(classification_report(y_binary, y_dummy_pred))\n"
   ]
  },
  {
   "cell_type": "markdown",
   "id": "a3a51b21",
   "metadata": {},
   "source": [
    "\n",
    "## Matrices de Confusión\n"
   ]
  },
  {
   "cell_type": "markdown",
   "id": "1be07c7b",
   "metadata": {},
   "source": [
    "Una mejor manera de evaluar el rendimiento de un clasificador es mirar la matriz de confusión. "
   ]
  },
  {
   "cell_type": "markdown",
   "id": "28399603",
   "metadata": {},
   "source": [
    "Para calcularla, primero necesitamos un conjunto de predicciones para comparar con los objetivos reales. Podemos usar la función `cross_val_predict()`:\n"
   ]
  },
  {
   "cell_type": "code",
   "execution_count": null,
   "id": "2feb7857",
   "metadata": {},
   "outputs": [],
   "source": [
    "\n",
    "\n",
    "from sklearn.model_selection import cross_val_predict\n",
    "\n",
    "y_train_pred = cross_val_predict(sgd_clf, X_train, y_train_5, cv=3)\n",
    "\n"
   ]
  },
  {
   "cell_type": "markdown",
   "id": "6bfca40b",
   "metadata": {},
   "source": [
    "\n",
    "Ahora podemos obtener la matriz de confusión:\n",
    "\n"
   ]
  },
  {
   "cell_type": "code",
   "execution_count": null,
   "id": "9525bfc1",
   "metadata": {},
   "outputs": [],
   "source": [
    "\n",
    "from sklearn.metrics import confusion_matrix\n",
    "\n",
    "cm = confusion_matrix(y_train_5, y_train_pred)\n",
    "print(cm)\n",
    "# array([[53892,   687],\n",
    "#        [ 1891,  3530]])\n",
    "\n"
   ]
  },
  {
   "cell_type": "markdown",
   "id": "74b4a7ab",
   "metadata": {},
   "source": [
    "\n",
    "Cada fila en una matriz de confusión representa una clase real, mientras que cada columna representa una clase predicha.\n"
   ]
  },
  {
   "cell_type": "markdown",
   "id": "d4e9e529",
   "metadata": {},
   "source": [
    "\n",
    "## Precisión y Exhaustividad\n"
   ]
  },
  {
   "cell_type": "markdown",
   "id": "d51a410b",
   "metadata": {},
   "source": [
    "La matriz de confusión proporciona mucha información, pero a veces puede preferirse una métrica más concisa. "
   ]
  },
  {
   "cell_type": "markdown",
   "id": "5ddfe453",
   "metadata": {},
   "source": [
    "Una interesante es la precisión de las predicciones positivas, llamada precisión del clasificador:\n"
   ]
  },
  {
   "cell_type": "code",
   "execution_count": null,
   "id": "018ecad2",
   "metadata": {},
   "outputs": [],
   "source": [
    "from sklearn.metrics import precision_score, recall_score\n",
    "\n",
    "precision = precision_score(y_train_5, y_train_pred)  # 3530 / (3530 + 687)\n",
    "recall = recall_score(y_train_5, y_train_pred)       # 3530 / (3530 + 1891)\n",
    "\n"
   ]
  },
  {
   "cell_type": "markdown",
   "id": "fddfbbeb",
   "metadata": {},
   "source": [
    "\n",
    "Es conveniente combinar la precisión y la exhaustividad en una sola métrica llamada puntuación F₁, que es la media armónica de la precisión y la exhaustividad:\n"
   ]
  },
  {
   "cell_type": "code",
   "execution_count": null,
   "id": "b0b49473",
   "metadata": {},
   "outputs": [],
   "source": [
    "from sklearn.metrics import f1_score\n",
    "\n",
    "f1_score(y_train_5, y_train_pred)\n",
    "\n"
   ]
  },
  {
   "cell_type": "markdown",
   "id": "a8078d39",
   "metadata": {},
   "source": [
    "\n",
    "## Conclusión\n"
   ]
  },
  {
   "cell_type": "markdown",
   "id": "cf48e089",
   "metadata": {},
   "source": [
    "Este capítulo introdujo los conceptos fundamentales de clasificación utilizando el conjunto de datos MNIST como ejemplo. "
   ]
  },
  {
   "cell_type": "markdown",
   "id": "6abb3d2b",
   "metadata": {},
   "source": [
    "Cubrimos desde la carga y exploración de datos hasta el entrenamiento de un clasificador binario y la evaluación de su rendimiento usando diversas métricas."
   ]
  },
  {
   "cell_type": "markdown",
   "id": "994dfd1d",
   "metadata": {},
   "source": [
    "# Práctica de codificación sobre clasificación con ml \n",
    "\n"
   ]
  },
  {
   "cell_type": "markdown",
   "id": "e25d0485",
   "metadata": {},
   "source": [
    "\n",
    "# **Práctica de Clasificación con MNIST**  \n"
   ]
  },
  {
   "cell_type": "markdown",
   "id": "1847f3be",
   "metadata": {},
   "source": [
    "**Objetivo:** Implementar un clasificador binario y multiclase utilizando el dataset MNIST, evaluando su rendimiento con distintas métricas.  \n",
    "\n",
    "---\n"
   ]
  },
  {
   "cell_type": "markdown",
   "id": "ea80c306",
   "metadata": {},
   "source": [
    "\n",
    "## **1. Configuración Inicial**  \n",
    "**Habilidades:**  \n",
    "- Carga de datos  \n",
    "- Exploración básica  \n",
    "- Preprocesamiento  \n"
   ]
  },
  {
   "cell_type": "markdown",
   "id": "c40578e5",
   "metadata": {},
   "source": [
    "\n",
    "### **Código:**\n"
   ]
  },
  {
   "cell_type": "code",
   "execution_count": null,
   "id": "d74bfbd0",
   "metadata": {},
   "outputs": [],
   "source": [
    "# Importar librerías básicas\n",
    "import numpy as np\n",
    "import matplotlib.pyplot as plt\n",
    "from sklearn.datasets import fetch_openml\n",
    "\n",
    "# Cargar MNIST\n",
    "mnist = fetch_openml('mnist_784', as_frame=False, parser='auto')\n",
    "X, y = mnist.data, mnist.target\n",
    "\n",
    "# Ver dimensiones\n",
    "print(f\"Forma de X: {X.shape}\")  # (70000, 784)\n",
    "print(f\"Forma de y: {y.shape}\")  # (70000,)\n",
    "\n",
    "# Dividir en train/test (ya está preparticionado)\n",
    "X_train, X_test = X[:60000], X[60000:]\n",
    "y_train, y_test = y[:60000], y[60000:]\n",
    "# tiempo de ejecución de 5 segundos\n"
   ]
  },
  {
   "cell_type": "markdown",
   "id": "a0979e77",
   "metadata": {},
   "source": [
    "\n",
    "### **Ejercicios:**  \n",
    "1. **Visualización de dígitos:**  \n",
    "   - Usa `matplotlib` para mostrar el primer dígito del dataset (`X[0]`).  \n",
    "   - Verifica que la etiqueta (`y[0]`) coincida con la imagen.  \n",
    "2. **Distribución de clases:**  \n",
    "   - Grafica un histograma de las etiquetas en `y_train`.  \n",
    "   - ¿Está balanceado el dataset?  \n",
    "\n",
    "---\n"
   ]
  },
  {
   "cell_type": "markdown",
   "id": "a3a0c182",
   "metadata": {},
   "source": [
    "\n",
    "## **2. Clasificación Binaria (5 vs no-5)**  \n",
    "**Habilidades:**  \n",
    "- Creación de etiquetas binarias  \n",
    "- Entrenamiento con `SGDClassifier`  \n",
    "- Validación cruzada  \n"
   ]
  },
  {
   "cell_type": "markdown",
   "id": "da9213ff",
   "metadata": {},
   "source": [
    "\n",
    "### **Código:**\n"
   ]
  },
  {
   "cell_type": "code",
   "execution_count": null,
   "id": "28c93ec3",
   "metadata": {},
   "outputs": [],
   "source": [
    "%%time \n",
    "from sklearn.datasets import fetch_openml\n",
    "from sklearn.linear_model import SGDClassifier\n",
    "from sklearn.model_selection import cross_val_score, cross_val_predict\n",
    "from sklearn.metrics import confusion_matrix, precision_score, recall_score, f1_score\n",
    "\n",
    "mnist = fetch_openml('mnist_784', as_frame = False) # load the MNIST dataset\n",
    "X,y = mnist.data, mnist.target \n",
    "X_train, X_test, y_train, y_test = X[:60_000], X[60_000:], y[:60_000], y[60_000:]\n",
    "# Convertir a problema binario (5 o no-5)\n",
    "y_train_5 = (y_train == '5')\n",
    "y_test_5 = (y_test == '5')\n",
    "\n",
    "# Entrenar SGDClassifier\n",
    "sgd_clf = SGDClassifier(random_state=42)\n",
    "sgd_clf.fit(X_train, y_train_5)\n",
    "\n",
    "# Validación cruzada (accuracy)\n",
    "scores = cross_val_score(sgd_clf, X_train, y_train_5, cv=3, scoring=\"accuracy\")\n",
    "print(f\"Accuracy en validación cruzada: {scores}\")\n",
    "\n",
    "# Predicciones para matriz de confusión\n",
    "y_train_pred = cross_val_predict(sgd_clf, X_train, y_train_5, cv=3)\n",
    "cm = confusion_matrix(y_train_5, y_train_pred)\n",
    "print(f\"Matriz de confusión:\\n{cm}\")\n",
    "\n",
    "# Precisión, recall y F1\n",
    "precision = precision_score(y_train_5, y_train_pred)\n",
    "recall = recall_score(y_train_5, y_train_pred)\n",
    "f1 = f1_score(y_train_5, y_train_pred)\n",
    "print(f\"Precisión: {precision:.2f}, Recall: {recall:.2f}, F1: {f1:.2f}\")\n",
    "# tiempo estimado de ejecución: 1.5 minutos\n"
   ]
  },
  {
   "cell_type": "markdown",
   "id": "68b06c10",
   "metadata": {},
   "source": [
    "\n",
    "### **Ejercicios:**  \n"
   ]
  },
  {
   "cell_type": "markdown",
   "id": "d809b5c4",
   "metadata": {},
   "source": [
    "1. **Comparación con un clasificador dummy:**  \n",
    "   - Usa `DummyClassifier(strategy='most_frequent')` y compara su accuracy con `SGDClassifier`.  \n",
    "   - ¿Por qué el accuracy alto no siempre es indicativo de buen rendimiento?  \n"
   ]
  },
  {
   "cell_type": "markdown",
   "id": "f9740c4a",
   "metadata": {},
   "source": [
    "2. **Análisis de falsos positivos/negativos:**  \n",
    "   - Extrae algunas imágenes donde el modelo falló (FP y FN) y visualízalas.  \n",
    "   - ¿Qué patrones observas?  \n",
    "\n",
    "---\n"
   ]
  },
  {
   "cell_type": "markdown",
   "id": "05d225df",
   "metadata": {},
   "source": [
    "\n",
    "## **3. Clasificación Multiclase (Todos los dígitos)**  \n"
   ]
  },
  {
   "cell_type": "markdown",
   "id": "3f2aebe3",
   "metadata": {},
   "source": [
    "**Habilidades:**  \n",
    "- Extender a clasificación multiclase  \n",
    "- Uso de `RandomForestClassifier`  \n",
    "- Evaluación con matriz de confusión  \n"
   ]
  },
  {
   "cell_type": "markdown",
   "id": "85382bb4",
   "metadata": {},
   "source": [
    "\n",
    "### **Código:**\n"
   ]
  },
  {
   "cell_type": "code",
   "execution_count": null,
   "id": "53ca740d",
   "metadata": {},
   "outputs": [],
   "source": [
    "from sklearn.ensemble import RandomForestClassifier\n",
    "from sklearn.metrics import classification_report\n",
    "\n",
    "# Entrenar RandomForest (maneja multiclase directamente)\n",
    "forest_clf = RandomForestClassifier(random_state=42)\n",
    "forest_clf.fit(X_train, y_train)  # y_train original (0-9)\n",
    "\n",
    "# Predicciones y evaluación\n",
    "y_train_pred_forest = cross_val_predict(forest_clf, X_train, y_train, cv=3)\n",
    "print(classification_report(y_train, y_train_pred_forest))\n",
    "\n",
    "# Matriz de confusión detallada\n",
    "plt.figure(figsize=(10, 8))\n",
    "plt.matshow(confusion_matrix(y_train, y_train_pred_forest), cmap=plt.cm.Blues, fignum=1)\n",
    "plt.colorbar()\n",
    "plt.xlabel(\"Predicción\")\n",
    "plt.ylabel(\"Real\")\n",
    "plt.show()\n",
    "\n"
   ]
  },
  {
   "cell_type": "markdown",
   "id": "f4f6fdd9",
   "metadata": {},
   "source": [
    "\n",
    "### **Ejercicios:**  \n",
    "1. **Comparación de modelos:**  \n",
    "   - Compara `RandomForestClassifier` con `SGDClassifier` en clasificación multiclase.  \n",
    "   - ¿Cuál tiene mejor recall para el dígito \"5\"?  \n",
    "2. **Análisis de errores:**  \n",
    "   - Identifica los pares de dígitos que más se confunden (ej: 3 ↔ 5, 7 ↔ 9).  \n",
    "   - ¿Por qué crees que ocurre esto?  \n",
    "\n",
    "---\n"
   ]
  },
  {
   "cell_type": "markdown",
   "id": "6b488712",
   "metadata": {},
   "source": [
    "\n",
    "## **4. Optimización con Escalado de Características**  \n",
    "**Habilidades:**  \n",
    "- Preprocesamiento con `StandardScaler`  \n",
    "- Impacto en modelos lineales  \n",
    "\n",
    "### **Código:**\n"
   ]
  },
  {
   "cell_type": "code",
   "execution_count": null,
   "id": "14883a3d",
   "metadata": {},
   "outputs": [],
   "source": [
    "from sklearn.preprocessing import StandardScaler\n",
    "from sklearn.pipeline import make_pipeline\n",
    "\n",
    "# Pipeline con escalado + SGD\n",
    "sgd_pipe = make_pipeline(\n",
    "    StandardScaler(),\n",
    "    SGDClassifier(random_state=42)\n",
    ")\n",
    "\n",
    "# Evaluar con escalado\n",
    "sgd_pipe.fit(X_train, y_train_5)\n",
    "y_pred_scaled = cross_val_predict(sgd_pipe, X_train, y_train_5, cv=3)\n",
    "print(f\"Precisión con escalado: {precision_score(y_train_5, y_pred_scaled):.2f}\")\n",
    "\n"
   ]
  },
  {
   "cell_type": "markdown",
   "id": "d6455c1d",
   "metadata": {},
   "source": [
    "\n",
    "### **Ejercicios:**  \n",
    "1. **Efecto del escalado:**  \n",
    "   - Compara el rendimiento de `SGDClassifier` con y sin escalado.  \n",
    "   - ¿Por qué es importante para modelos lineales?  \n",
    "2. **Prueba con otros modelos:**  \n",
    "   - ¿Mejora `RandomForestClassifier` con escalado? Justifica.  \n",
    "\n",
    "---\n"
   ]
  },
  {
   "cell_type": "markdown",
   "id": "52eff2ed",
   "metadata": {},
   "source": [
    "\n",
    "## **5. Entrega Final (Evaluación en Test)**  \n",
    "**Habilidades:**  \n",
    "- Evaluación final en datos no vistos  \n",
    "- Reporte completo de métricas  \n",
    "\n",
    "### **Código:**\n"
   ]
  },
  {
   "cell_type": "code",
   "execution_count": null,
   "id": "175782f0",
   "metadata": {},
   "outputs": [],
   "source": [
    "# Evaluar el mejor modelo en test\n",
    "final_model = RandomForestClassifier(random_state=42)\n",
    "final_model.fit(X_train, y_train)\n",
    "\n",
    "# Reporte final\n",
    "y_test_pred = final_model.predict(X_test)\n",
    "print(classification_report(y_test, y_test_pred))\n",
    "\n"
   ]
  },
  {
   "cell_type": "markdown",
   "id": "e04405fd",
   "metadata": {},
   "source": [
    "\n",
    "### **Ejercicio Final:**  \n",
    "- **Reflexión:**  \n",
    "  - ¿Qué modelo tuvo mejor rendimiento?  \n",
    "  - ¿Qué métrica es más importante en MNIST: precisión, recall o F1?  \n",
    "  - ¿Cómo podrías mejorar aún más el modelo?  \n",
    "\n",
    "---\n"
   ]
  },
  {
   "cell_type": "markdown",
   "id": "e73a7aee",
   "metadata": {},
   "source": [
    "\n",
    "## **Rúbrica de Evaluación**  \n",
    "| **Habilidad**               | **Puntos** |  \n",
    "|------------------------------|-----------|  \n",
    "| Carga y exploración de datos | 2         |  \n",
    "| Clasificación binaria        | 3         |  \n",
    "| Clasificación multiclase     | 3         |  \n",
    "| Optimización y escalado      | 2         |  \n",
    "| Análisis crítico            | 2         |  \n"
   ]
  },
  {
   "cell_type": "markdown",
   "id": "d04d199a",
   "metadata": {},
   "source": [
    "\n",
    "**Total:** 12 puntos.  \n",
    "\n",
    "> ✅ **Tips:**  \n",
    "> - Usa `plt.subplots()` para visualizar múltiples dígitos.  \n",
    "> - Experimenta con `GridSearchCV` para ajustar hiperparámetros.  \n",
    "> - Prueba reducir dimensionalidad con PCA si el entrenamiento es lento."
   ]
  },
  {
   "cell_type": "markdown",
   "id": "f916feb9",
   "metadata": {},
   "source": [
    "# Sobre la lectuta interactiva y experimental "
   ]
  },
  {
   "cell_type": "markdown",
   "id": "3cac948a",
   "metadata": {},
   "source": [
    "La **lectura interactiva y experimental** de los cuadernos Jupyter diseñados para el curso de **Fundamentos de Lógica** implica un enfoque dinámico y práctico para el aprendizaje, donde los estudiantes no solo consumen información teórica, sino que también interactúan con el contenido, modifican ejemplos, ejecutan código y experimentan con los conceptos lógicos en un entorno computacional. "
   ]
  },
  {
   "cell_type": "markdown",
   "id": "1da4d9a7",
   "metadata": {},
   "source": [
    "A continuación, se detallan las características clave de este enfoque:\n",
    "\n",
    "---\n"
   ]
  },
  {
   "cell_type": "markdown",
   "id": "bab6c6f9",
   "metadata": {},
   "source": [
    "\n",
    "### **1. Lectura Interactiva**  \n"
   ]
  },
  {
   "cell_type": "markdown",
   "id": "c37d2960",
   "metadata": {},
   "source": [
    "- **Manipulación directa del contenido**: Los estudiantes pueden ejecutar celdas de código, modificar fórmulas lógicas o ejemplos, y observar cómo cambian los resultados en tiempo real. "
   ]
  },
  {
   "cell_type": "markdown",
   "id": "048f6d72",
   "metadata": {},
   "source": [
    " \n",
    "- **Visualización interactiva**: Uso de gráficos, diagramas (como árboles semánticos o tablas de verdad) o herramientas que respondan a entradas del usuario para ilustrar conceptos como validez, consistencia o inferencia. "
   ]
  },
  {
   "cell_type": "markdown",
   "id": "a4b3509e",
   "metadata": {},
   "source": [
    " \n",
    "- **Retroalimentación inmediata**: Los cuadernos pueden incluir ejercicios con autoevaluación (ejecutando código que verifica soluciones) o explicaciones emergentes al resolver problemas.  \n",
    "\n",
    "\n"
   ]
  },
  {
   "cell_type": "markdown",
   "id": "05442fd7",
   "metadata": {},
   "source": [
    "\n",
    "### **2. Lectura Experimental**"
   ]
  },
  {
   "cell_type": "markdown",
   "id": "46a4347b",
   "metadata": {},
   "source": [
    "  \n",
    "- **Aprendizaje basado en prueba y error**: Los estudiantes pueden \"jugar\" con estructuras lógicas (por ejemplo, modificar conectores en una fórmula proposicional y ver cómo afecta su tabla de verdad).  \n"
   ]
  },
  {
   "cell_type": "markdown",
   "id": "3a26e87d",
   "metadata": {},
   "source": [
    "- **Simulación de escenarios**: Por ejemplo, modelar argumentos en lógica de primer orden y evaluar su corrección mediante ejecución de código (usando librerías como `sympy` o herramientas ad-hoc).  \n"
   ]
  },
  {
   "cell_type": "markdown",
   "id": "92d33c3a",
   "metadata": {},
   "source": [
    "- **Exploración guiada y abierta**: Se incluyen secciones con consignas del tipo *\"¿Qué pasa si cambias este axioma?\"* o *\"Intenta construir un contraejemplo\"* para fomentar la curiosidad.  \n",
    "\n",
    "---\n"
   ]
  },
  {
   "cell_type": "markdown",
   "id": "374a8ea9",
   "metadata": {},
   "source": [
    "\n",
    "### **3. Componentes clave de los cuadernos**  \n"
   ]
  },
  {
   "cell_type": "markdown",
   "id": "953ce77c",
   "metadata": {},
   "source": [
    "- **Fragmentos de código ejecutable**: Para evaluar expresiones lógicas, automatizar pruebas o implementar algoritmos (ej: verificación de tautologías). "
   ]
  },
  {
   "cell_type": "markdown",
   "id": "4f1ecfba",
   "metadata": {},
   "source": [
    " \n",
    "- **Celdas con texto teórico y preguntas reflexivas**: Integradas con ejemplos prácticos que requieren intervención activa (ej: *\"Define aquí tu propia fórmula y comprueba si es satisfacible\"*).  \n",
    "- **Enlaces a recursos externos**: Como demostradores en línea o lecturas complementarias para profundizar.  \n",
    "\n"
   ]
  },
  {
   "cell_type": "markdown",
   "id": "c750af8a",
   "metadata": {},
   "source": [
    "\n",
    "### **4. Beneficios pedagógicos**  \n",
    "- **Enganche activo**: Combina teoría y práctica sin salir del entorno digital.  \n",
    "- **Personalización**: Los estudiantes pueden ajustar el ritmo y profundidad de su aprendizaje.  \n",
    "- **Preparación para aplicaciones reales**: Familiariza a los estudiantes con herramientas usadas en investigación (ej: Python para lógica simbólica).  \n",
    "\n",
    "---\n"
   ]
  },
  {
   "cell_type": "markdown",
   "id": "0602e6ee",
   "metadata": {},
   "source": [
    "\n",
    "### **Ejemplo concreto**  \n",
    "Un cuaderno podría incluir:  \n",
    "1. Una explicación de *modus ponens* con una fórmula predefinida (`p → q`, `p`, luego `q`).  \n",
    "2. Una celda interactiva donde el estudiante modifique `p` o `q` y observe cómo falla la regla si las premisas cambian.  \n",
    "3. Un ejercicio para programar un verificador de *modus ponens* usando diccionarios de Python.  \n"
   ]
  },
  {
   "cell_type": "markdown",
   "id": "70e1a505",
   "metadata": {},
   "source": [
    "\n",
    "Este enfoque transforma la lógica (a menudo abstracta) en una experiencia tangible y adaptable."
   ]
  },
  {
   "cell_type": "markdown",
   "id": "8396c0ed",
   "metadata": {},
   "source": [
    "# Presentación de la estructura de la clase    \n"
   ]
  },
  {
   "cell_type": "markdown",
   "id": "ff84fe1d",
   "metadata": {},
   "source": [
    "\n",
    "\n",
    "# **Diseño de Clase STEAM: \"Clasificación con Machine Learning y MNIST\"** "
   ]
  },
  {
   "cell_type": "markdown",
   "id": "d48eddac",
   "metadata": {},
   "source": [
    " \n",
    "**Enfoques:** Aprendizaje Basado en Problemas/Proyectos (ABPP) + Teoría de Registros de Representación Semiótica (Duval)  \n",
    "**Herramientas:** Python (Jupyter Notebook, SymPy, Matplotlib, Plotly, ipywidgets) + Cocodrilo Clips  \n",
    "\n",
    "\n"
   ]
  },
  {
   "cell_type": "markdown",
   "id": "a48fea50",
   "metadata": {},
   "source": [
    "\n",
    "## **1. Título de la Clase**  \n",
    "**\"De los Dígitos a las Redes Neuronales: Clasificación con MNIST desde las Matemáticas y la Computación\"**  \n",
    "\n",
    "---\n"
   ]
  },
  {
   "cell_type": "markdown",
   "id": "026fd060",
   "metadata": {},
   "source": [
    "\n",
    "## **2. Objetivos de Aprendizaje**  \n"
   ]
  },
  {
   "cell_type": "markdown",
   "id": "c9a114e4",
   "metadata": {},
   "source": [
    "### **Objetivos STEAM**  \n"
   ]
  },
  {
   "cell_type": "markdown",
   "id": "144260f1",
   "metadata": {},
   "source": [
    "- **Ciencia:** Analizar el dataset MNIST como sistema de representación numérico-visual.  \n",
    "- **Tecnología:** Implementar clasificadores binarios/multiclase con `scikit-learn`.  \n",
    "- **Ingeniería:** Diseñar circuitos lógicos (Cocodrilo Clips) que simulen compuertas AND/OR para clasificación binaria.  \n"
   ]
  },
  {
   "cell_type": "markdown",
   "id": "f5cf41cd",
   "metadata": {},
   "source": [
    "- **Artes:** Crear visualizaciones interactivas de dígitos con `matplotlib.animation`.  \n",
    "- **Matemáticas:** Modelar matrices de confusión y métricas ($\\text{Precisión} = \\frac{TP}{TP+FP}$) con SymPy.  \n"
   ]
  },
  {
   "cell_type": "markdown",
   "id": "82892658",
   "metadata": {},
   "source": [
    "\n",
    "### **Indicadores de Logro**  \n",
    "- El estudiante representa MNIST en registros semióticos (tablas, gráficos, código).  \n",
    "- Justifica la elección de métricas usando pensamiento crítico (*\"¿Por qué F1 es mejor que accuracy en datasets desbalanceados?\"*).  \n",
    "\n",
    "---\n"
   ]
  },
  {
   "cell_type": "markdown",
   "id": "08ecd126",
   "metadata": {},
   "source": [
    "\n",
    "## **3. Mapa Conceptual (Graphviz)**  \n"
   ]
  },
  {
   "cell_type": "code",
   "execution_count": null,
   "id": "fe7f1883",
   "metadata": {},
   "outputs": [],
   "source": [
    "\n",
    "from graphviz import Digraph\n",
    "\n",
    "graph = Digraph('G', filename='C:/Users/marco/Downloads/mnist_classification', format='png')\n",
    "graph.attr(overlap=\"scalexy\", rankdir=\"LR\", splines=\"true\")\n",
    "\n",
    "# Nodos principales\n",
    "graph.node('A', 'MNIST Dataset', shape='cylinder', color='#FF6D00', style='filled', fillcolor='#FFE0B2')\n",
    "graph.node('B', 'Registros Semióticos\\n(Tablas, Imágenes, Código)', shape='parallelogram', color='#1565C0')\n",
    "graph.node('C', 'Clasificación Binaria\\n(5 vs no-5)', shape='box', color='#4CAF50')\n",
    "graph.node('D', 'Matriz de Confusión', shape='ellipse', color='#D32F2F')\n",
    "graph.node('E', 'STEAM Integration', shape='doubleoctagon', color='#7B1FA2')\n",
    "\n",
    "# Edges y relaciones\n",
    "graph.edges(['AB', 'AC', 'AD', 'AE'])\n",
    "graph.edge('B', 'C', label='Transformación', style='dashed')\n",
    "graph.edge('C', 'D', label='Evaluación', color='#D32F2F')\n",
    "graph.edge('D', 'E', label='Análisis Crítico', arrowhead='vee')\n",
    "\n",
    "graph.render(view=True)\n",
    "\n"
   ]
  },
  {
   "cell_type": "markdown",
   "id": "f6bc1f6e",
   "metadata": {},
   "source": [
    "\n",
    "## **4. Contenido de la Clase**  \n"
   ]
  },
  {
   "cell_type": "markdown",
   "id": "6d657b6c",
   "metadata": {},
   "source": [
    "### **4.1. Introducción Histórica** "
   ]
  },
  {
   "cell_type": "markdown",
   "id": "70f07f4e",
   "metadata": {},
   "source": [
    " \n",
    "**Cuento al estilo antioqueño:**  \n"
   ]
  },
  {
   "cell_type": "markdown",
   "id": "8eed8fac",
   "metadata": {},
   "source": [
    "*\"¡Ave María pues! Resulta que en los años 90, unos sabios del NIST andaban recolectando números escritos a mano, como los de las facturas de la tienda. "
   ]
  },
  {
   "cell_type": "markdown",
   "id": "cd5f41d0",
   "metadata": {},
   "source": [
    "Pero llegó Yann LeCun, un francés con ideas de película, y les dijo: *'¡Esto hay que arreglarlo como un café bien colado!*'. Así nació MNIST, el dataset que hoy nos enseña a las máquinas a leer números como vos y yo.\"*  \n"
   ]
  },
  {
   "cell_type": "markdown",
   "id": "8623f395",
   "metadata": {},
   "source": [
    "\n",
    "**Imágenes:**  \n",
    "- Yann LeCun (creador de LeNet-5 para MNIST).  \n",
    "- Ejemplo de dígitos MNIST antiguos vs. modificados.  \n"
   ]
  },
  {
   "cell_type": "markdown",
   "id": "4953e9d8",
   "metadata": {},
   "source": [
    "\n",
    "### **4.2. Conceptos Clave**  \n",
    "- **Teoría de Duval:**  \n",
    "  - **Registro visual:** Gráficos de píxeles (`plt.imshow()`).  \n",
    "  - **Registro simbólico:** Matrices de confusión ($\\text{TP}, \\text{FP}$).  \n",
    "- **ABPP:** Proyecto *\"Reconocimiento de Códigos Postales\"* (problema real).  \n",
    "\n",
    "---\n"
   ]
  },
  {
   "cell_type": "markdown",
   "id": "651ed143",
   "metadata": {},
   "source": [
    "\n",
    "## **5. Canción/Poema**  \n",
    "**Rap del MNIST (Para memorizar métricas):**  \n",
    "*\"Precisión y recall, métricas pa’ clasificar,*  \n",
    "*Si el modelo es chambón, lo vas a notar.*  \n",
    "*F1 es la media, harmoniosa y real,*  \n",
    "*¡Sin balanceo de datos, no sirve el animal!\"*  \n",
    "\n",
    "---\n"
   ]
  },
  {
   "cell_type": "markdown",
   "id": "43d1cf71",
   "metadata": {},
   "source": [
    "\n",
    "## **6. Actividades de Aprendizaje**  \n",
    "### **6.1. Con Cocodrilo Clips**  \n",
    "- **Circuito AND:** Simular un clasificador binario rudimentario (ej: \"¿Es el dígito >5?\").  \n",
    "- **Exportar tabla de verdad** y compararla con `SGDClassifier`.  \n"
   ]
  },
  {
   "cell_type": "markdown",
   "id": "0a5c70f0",
   "metadata": {},
   "source": [
    "\n",
    "### **6.2. En Python/Jupyter**  \n"
   ]
  },
  {
   "cell_type": "code",
   "execution_count": null,
   "id": "457bef2e",
   "metadata": {},
   "outputs": [],
   "source": [
    "\n",
    "# Actividad Interactiva con ipywidgets\n",
    "import matplotlib.pyplot as plt \n",
    "from sklearn.datasets import fetch_openml\n",
    "import ipywidgets as widgets\n",
    "from IPython.display import display\n",
    "mnist = fetch_openml('mnist_784', as_frame = False)\n",
    "X,y = mnist.data, mnist.target \n",
    "\n",
    "def plot_digit(digit_idx):\n",
    "    plt.imshow(X[digit_idx].reshape(28, 28), cmap=\"binary\")\n",
    "    plt.title(f\"Etiqueta: {y[digit_idx]}\")\n",
    "    plt.axis(\"off\")\n",
    "    plt.savefig(f\"C:/Users/marco/Downloads/digit_{digit_idx}.png\", bbox_inches='tight')\n",
    "widgets.interact(plot_digit, digit_idx=(0, 69999))\n",
    "\n"
   ]
  },
  {
   "cell_type": "markdown",
   "id": "f555a5b9",
   "metadata": {},
   "source": [
    "**Preguntas ABPP:**  \n",
    "- *\"¿Por qué el píxel [0,0] suele ser 0?\"* (Exploración de bordes).  \n",
    "- *\"¿Qué pasa si entrenamos solo con dígitos rotados?\"* (Data augmentation).  \n",
    "\n",
    "---\n"
   ]
  },
  {
   "cell_type": "markdown",
   "id": "1ed4b5cc",
   "metadata": {},
   "source": [
    "\n",
    "## **7. Evaluación**  \n",
    "### **Proyectos STEAM**  \n",
    "1. **Arte Generativo:** Crear un \"collage\" de dígitos mal clasificados con Plotly.  \n",
    "2. **Matemático:** Demostrar con SymPy que $F1 = 2 \\cdot \\frac{P \\cdot R}{P+R}$.  \n"
   ]
  },
  {
   "cell_type": "markdown",
   "id": "963dc475",
   "metadata": {},
   "source": [
    "\n",
    "### **Quiz Ejemplo**  \n",
    "- *\"Si un modelo tiene Recall=0.8 y Precision=0.9, ¿cuál es su F1?\"*  \n",
    "\n",
    "---\n"
   ]
  },
  {
   "cell_type": "markdown",
   "id": "e6f0f69e",
   "metadata": {},
   "source": [
    "\n",
    "## **8. Vocabulario en Inglés**  \n",
    "- **Feature Vector:** `X[0]` (el \"retrato\" numérico de un dígito).  \n",
    "- **Ground Truth:** Etiquetas reales (`y_train`).  \n",
    "\n",
    "---\n"
   ]
  },
  {
   "cell_type": "markdown",
   "id": "5bdf3d0d",
   "metadata": {},
   "source": [
    "\n",
    "## **9. Apéndice: Habilidades Blandas**  \n",
    "- **Metacognición:** Diario de aprendizaje (*\"¿Cómo corregí mis errores de clasificación?\"*).  \n",
    "- **Trabajo en Equipo:** Roles en proyectos (ej: \"Experto en Visualización\", \"Analista de Métricas\").  \n",
    "\n",
    "---\n"
   ]
  },
  {
   "cell_type": "markdown",
   "id": "b8af8c0d",
   "metadata": {},
   "source": [
    "\n",
    "## **10. Referentes APA**  \n",
    "1. Duval, R. (2006). *Un tema crucial en la educación matemática: La habilidad para cambiar de registro*.  \n",
    "2. Wing, J. (2006). *Computational Thinking*. Communications of the ACM.  \n",
    "3. LeCun, Y. (1998). *Gradient-Based Learning Applied to Document Recognition*.  \n",
    "\n",
    "--- \n"
   ]
  },
  {
   "cell_type": "markdown",
   "id": "5e2e0887",
   "metadata": {},
   "source": [
    "\n",
    "**Nota:** Todas las actividades incluyen *\"Preguntas Duval\"* para cambios de registro (ej: *\"¿Cómo representarías esta matriz de confusión como un gráfico de calor?\"*)."
   ]
  },
  {
   "cell_type": "markdown",
   "id": "36bc2964",
   "metadata": {},
   "source": [
    "# Desarrollo de habilidades Metacognitivas en enseñanza con metodología IAE \n"
   ]
  },
  {
   "cell_type": "markdown",
   "id": "9c5cb582",
   "metadata": {},
   "source": [
    "\n",
    "Desarrollar habilidades metacognitivas en los estudiantes dentro de una **Investigación Acción Educativa (IAE)** implica un proceso cíclico de reflexión, acción y evaluación. "
   ]
  },
  {
   "cell_type": "markdown",
   "id": "e8a0a63e",
   "metadata": {},
   "source": [
    "Aquí te propongo una estrategia estructurada en fases, alineada con la IAE, para fomentar la metacognición:\n",
    "\n",
    "---\n"
   ]
  },
  {
   "cell_type": "markdown",
   "id": "42be70b3",
   "metadata": {},
   "source": [
    "\n",
    "### **1. Diagnóstico Inicial (Fase de Observación)**  \n",
    "- **Identifica el nivel metacognitivo actual**:  \n",
    "  - Realiza cuestionarios, entrevistas o actividades reflexivas (ej.: \"¿Cómo estudiaste para el último examen? ¿Qué te funcionó o no?\").  \n",
    "  - Observa si los estudiantes pueden explicar sus procesos de aprendizaje o identificar dificultades.  \n",
    "\n",
    "- **Registra evidencias**: Anota cómo los estudiantes planifican, monitorean y evalúan sus tareas (ej.: diarios de aprendizaje, grabaciones de debates).  \n",
    "\n",
    "---\n"
   ]
  },
  {
   "cell_type": "markdown",
   "id": "e252e7b1",
   "metadata": {},
   "source": [
    "\n",
    "### **2. Diseño de Intervenciones (Fase de Planificación)**"
   ]
  },
  {
   "cell_type": "markdown",
   "id": "4b036a02",
   "metadata": {},
   "source": [
    "  \n",
    "**a. Enseñanza explícita de estrategias metacognitivas**:  \n",
    "  - **Modelado**: Muestra cómo *tú* piensas al resolver un problema (\"Pensamiento en voz alta\"). Ejemplo:  \n",
    "    *\"Primero, voy a leer el objetivo de la clase. Luego, revisaré si entiendo los conceptos clave...\"*.  \n",
    "  - **Listas de verificación (checklists)**: Proporciona guías para autoevaluarse (ej.: \"¿Puedo explicar este tema con mis propias palabras?\").  \n"
   ]
  },
  {
   "cell_type": "markdown",
   "id": "1ba3c6a5",
   "metadata": {},
   "source": [
    "\n",
    "**b. Herramientas para la autorregulación**:  \n",
    "  - **Diarios de aprendizaje**: Pide que registren:  \n",
    "    - *\"¿Qué aprendí hoy?\"* (conocimiento).  \n",
    "    - *\"¿Cómo lo aprendí?\"* (proceso).  \n",
    "    - *\"¿Qué me falta por entender?\"* (brechas).  \n",
    "  - **Rúbricas de autoevaluación**: Incluye criterios como: *\"Puedo resolver ejercicios sin ayuda\"* o *\"Sé dónde buscar información confiable\"*.  \n"
   ]
  },
  {
   "cell_type": "markdown",
   "id": "4b1b6c7b",
   "metadata": {},
   "source": [
    "\n",
    "**c. Espacios de reflexión colaborativa**:  \n",
    "  - **Debates metacognitivos**: En grupos, discuten: *\"¿Qué estrategia usamos? ¿Funcionó? ¿Por qué?\"*.  \n",
    "  - **Peer feedback**: Intercambian comentarios sobre sus procesos (ej.: \"Tú organizaste bien tus ideas, pero podrías revisar las fuentes\").  \n",
    "\n",
    "\n"
   ]
  },
  {
   "cell_type": "markdown",
   "id": "0ed547ca",
   "metadata": {},
   "source": [
    "\n",
    "## **3. Implementación (Fase de Acción)** "
   ]
  },
  {
   "cell_type": "markdown",
   "id": "46b4fc07",
   "metadata": {},
   "source": [
    " \n",
    "- **Integra la metacognición en las actividades cotidianas**:  \n",
    "  - Antes de una tarea: *\"¿Qué sabes ya sobre este tema? ¿Cómo planeas abordarlo?\"*.  \n",
    "  - Durante la tarea: *\"¿Estás siguiendo tu plan? ¿Necesitas ajustarlo?\"*.  \n",
    "  - Después: *\"¿Lograste el objetivo? ¿Qué cambiarías la próxima vez?\"*. "
   ]
  },
  {
   "cell_type": "markdown",
   "id": "467bca75",
   "metadata": {},
   "source": [
    " \n",
    "- **Usa preguntas clave**:  \n",
    "  - *\"¿Qué parte fue más difícil? ¿Por qué?\"* (identificación de obstáculos).  \n",
    "  - *\"Si tuvieras que enseñarle esto a un compañero, ¿cómo lo harías?\"* (transferencia).  \n",
    "\n",
    "\n"
   ]
  },
  {
   "cell_type": "markdown",
   "id": "6d396224",
   "metadata": {},
   "source": [
    "\n",
    "## **4. Evaluación y Reflexión (Fase de Observación/Reflexión)** "
   ]
  },
  {
   "cell_type": "markdown",
   "id": "90835db8",
   "metadata": {},
   "source": [
    " \n",
    "- **Analiza el impacto**: Compara evidencias pre y post intervención (ej.: diarios, desempeño en tareas). "
   ]
  },
  {
   "cell_type": "markdown",
   "id": "fe49d2e7",
   "metadata": {},
   "source": [
    " \n",
    "- **Reflexión grupal**: Realiza una sesión donde los estudiantes compartan:  \n",
    "  - *\"¿Qué estrategias metacognitivas les ayudaron más?\"*.  \n",
    "  - *\"¿Cómo se sintieron al gestionar su aprendizaje?\"*.  \n"
   ]
  },
  {
   "cell_type": "markdown",
   "id": "6b19fe84",
   "metadata": {},
   "source": [
    "- **Ajusta la intervención**: Si notas que persisten dificultades, propón nuevas herramientas (ej.: mapas conceptuales para organizar ideas).  \n",
    "\n",
    "\n"
   ]
  },
  {
   "cell_type": "markdown",
   "id": "e9755bf4",
   "metadata": {},
   "source": [
    "\n",
    "### **5. Iteración (Ciclo de IAE)**  \n",
    "Repite el ciclo con ajustes basados en los hallazgos. Por ejemplo:  \n",
    "- Si los estudiantes no identifican errores, introduce actividades de *análisis de errores* (\"¿Por qué te equivocaste? ¿Cómo corregirlo?\").  \n",
    "- Si les cuesta planificar, usa herramientas visuales como *diagramas de flujo* para secuenciar pasos.  \n",
    "\n",
    "\n"
   ]
  },
  {
   "cell_type": "markdown",
   "id": "49b315f7",
   "metadata": {},
   "source": [
    "\n",
    "### **Ejemplo Práctico**  \n",
    "**Situación**: Estudiantes no revisan sus errores en matemáticas.  \n",
    "- **Intervención**:  \n",
    "  1. **Modelado**: Resuelves un problema cometiendo un error adrede y muestras cómo detectarlo.  \n",
    "  2. **Checklist**: \"¿Revisé cada paso? ¿Mi respuesta tiene sentido?\".  \n",
    "  3. **Diario**: \"Hoy cometí un error en... Lo corregí cambiando...\".  \n",
    "\n"
   ]
  },
  {
   "cell_type": "markdown",
   "id": "9fe0732c",
   "metadata": {},
   "source": [
    "\n",
    "### **Claves para el Éxito**  \n",
    "- **Consistencia**: Integra la metacognición en todas las clases, no como actividad aislada.  \n",
    "- **Andamiaje**: Reduce gradualmente la guía del docente a medida que los estudiantes ganan autonomía.  \n",
    "- **Cultura de error**: Normaliza los errores como parte del aprendizaje (\"¿Qué podemos aprender de esto?\").  \n"
   ]
  },
  {
   "cell_type": "markdown",
   "id": "0974893f",
   "metadata": {},
   "source": [
    "\n",
    "La metacognición no solo mejora el logro académico, sino que empodera a los estudiantes para ser aprendices autónomos y resilientes. "
   ]
  },
  {
   "cell_type": "markdown",
   "id": "c611fd84",
   "metadata": {},
   "source": [
    "En la IAE, este proceso se enriquece al ser colaborativo (docente-estudiantes) y basado en evidencia concreta.  \n"
   ]
  },
  {
   "cell_type": "markdown",
   "id": "8ba64aed",
   "metadata": {},
   "source": [
    "# Cursos que orienta el profesor Marco Julio Cañas Campillo en 2025  \n"
   ]
  },
  {
   "cell_type": "markdown",
   "id": "13fb55d2",
   "metadata": {},
   "source": [
    "\n",
    "1. Fundamentos de Lógica: 8 a 12 Licenciatura en Matemáticas. \n",
    "2. Álgebra y Trigonometría: Martes 9 a 11 AM. \n",
    "3. Álgebra Lineal y Geometría Vectorial: Martes de 2 a 5 PM. \n",
    "4. Miércoles de 9 a 11: Álgebra y Trigonometría. \n",
    "5. Mieércoles de 2 a 3 PM: Asesoría proyecto de grado Janis Zuñiga Biología.   \n",
    "6. Análisis Numérico: Viernes de 2 a 6 PM para Licenciatura en Matemáticas. \n",
    "7. Sábados de 8 12: Asesorías generales. "
   ]
  },
  {
   "cell_type": "markdown",
   "id": "ae114e14",
   "metadata": {
    "slideshow": {
     "slide_type": "slide"
    }
   },
   "source": [
    "# Coordinador de los cursos de la Facultad de Educación para regiones:    \n",
    "\n",
    "Andrés Vélez: regioneducacion.fedu@udea.edu.co  \n",
    "Coordinador Regiones  \n",
    "Facultad de Educación  \n",
    "Universidad de Antioquia  "
   ]
  },
  {
   "cell_type": "markdown",
   "id": "b1db4b6c",
   "metadata": {
    "slideshow": {
     "slide_type": "slide"
    }
   },
   "source": [
    "## Monitores\n",
    "* Manuel San Juan Serrano: Contactar escribiendo al correo: manuel.serrano1@udea.edu.co\n",
    "* Yeifry Sebastián Uribe: Contactar escribiendo al correo: yeifry.uribe@udea.edu.co"
   ]
  },
  {
   "cell_type": "markdown",
   "id": "10bce0d0",
   "metadata": {
    "slideshow": {
     "slide_type": "slide"
    }
   },
   "source": [
    "## Referentes "
   ]
  },
  {
   "cell_type": "markdown",
   "id": "1db3c468",
   "metadata": {
    "slideshow": {
     "slide_type": "slide"
    }
   },
   "source": [
    "* [Jupyter Book de fundamentos_logica](file:///C:/Users/marco/Documentos/docencia/fundamentos_logica/fundamentos_logica_book/_build/html/index.html)\n",
    "\n",
    "\n",
    "* [Decargue Crocodile Clip aquí](https://crocodileclips.net/descargar-crocodile-clips/)\n",
    "\n",
    "* [Matemáticas discretas Una introducción abierta, 3ª edición](https://discrete.openmathbooks.org/dmoi3.html)  \n",
    "  \n",
    "* [Desarrollo del pensamiento matemático con calculadora Casio ](https://bibliotecadigital.udea.edu.co/entities/publication/17180405-9f1d-4800-aa7c-e6369779cece)\n",
    "\n",
    "* [CALCULO I DE UNA VARIABLE Ron Larson-Bruce Edwards. Mc Graw Hill. 9º Edición](https://www.academia.edu/42139251/CALCULO_I_DE_UNA_VARIABLE_Ron_Larson_Bruce_Edwards_Mc_Graw_Hill_9o_Edici%C3%B3n)   \n",
    "  \n",
    "\n",
    "* [Grajales Vanegas, L. M., Restrepo Estrada, C. E., Restrepo Ochoa, S. I., & Ruíz De Villalba, F. (2015). Matemáticas I para las ciencias económicas.](https://bibliotecadigital.udea.edu.co/handle/10495/3010)\n",
    "  \n",
    "* R. Duval y Semiosis y pensamiento humano, 2.ª ed. Cali, Colombia: Programa Editorial Universidad del Valle, 2017. [En línea]. Disponible en: https://programaeditorial.univalle.edu.co/gpd-semiosis-y-pensamiento-humano-9789587655278-63324cdb0f6b3.html\n",
    "\n",
    "* [Aylwin, C. U. (2011). Lógica, conjuntos y números. Universidad de los Andes, Consejo de Publicaciones, Colección: Ciencias Básicas, Serie: Matemáticas.](chrome-extension://efaidnbmnnnibpcajpcglclefindmkaj/https://www.u-cursos.cl/ciencias/2011/1/MC110/1/material_docente/bajar?id_material=574722)\n",
    "  \n",
    "* [Chollet, F. (2021). Deep learning with Python. Simon and Schuster.](chrome-extension://efaidnbmnnnibpcajpcglclefindmkaj/https://tanthiamhuat.wordpress.com/wp-content/uploads/2018/03/deeplearningwithpython.pdf)  \n",
    "  \n",
    "* [Watson, S., Stewart, J., & Redlin, L. (2009). Precálculo. Matemáticas para el cálculo.](chrome-extension://efaidnbmnnnibpcajpcglclefindmkaj/https://students.aiu.edu/submissions/profiles/resources/onlineBook/k6L8A3_precalculo_-_matematicas_para_el_calculo-1.pdf)  \n",
    "\n",
    "* [Purcell, E. J., Varberg, D., & Rigdon, S. E. (2007). Cálculo diferencial e integral. Pearson Educación.](https://github.com/marco-canas/calculo/blob/main/referents/purcell/purcell_calculo.pdf)\n",
    "\n",
    "  \n",
    "\n",
    "* [stewart cálculo](https://udeaeduco-my.sharepoint.com/:b:/g/personal/marco_canas_udea_edu_co/EZgXZjAp8QxPqOAim2hs6LcBNPLGjSHf-xwYnUVYkwa04w?e=RZdTCy)  \n",
    "\n",
    "\n",
    "* [Recomendación de la UNESCO sobre ciencia abierta](https://unesdoc.unesco.org/ark:/48223/pf0000379949_spa)\n",
    "\n",
    "* [chatGPT](https://openai.com/blog/chatgpt)  \n",
    "\n",
    "* [Géron, A. (2017). Hands-on machine learning with scikit-learn and tensorflow: Concepts. Tools, and Techniques to build intelligent systems.](chrome-extension://efaidnbmnnnibpcajpcglclefindmkaj/http://14.139.161.31/OddSem-0822-1122/Hands-On_Machine_Learning_with_Scikit-Learn-Keras-and-TensorFlow-2nd-Edition-Aurelien-Geron.pdf)   \n"
   ]
  },
  {
   "cell_type": "markdown",
   "id": "df925560",
   "metadata": {},
   "source": [
    "\n",
    "* [McKinney, W. (2012). Python for data analysis: Data wrangling with Pandas, NumPy, and IPython. \" O'Reilly Media, Inc.\".](https://wesmckinney.com/book/) "
   ]
  },
  {
   "cell_type": "markdown",
   "id": "8e65d6f9",
   "metadata": {},
   "source": [
    "# Como estudiante, encuentro que...   \n",
    "\n",
    "F: Mis Fortalezas son:     \n",
    "O: Mis Oportunidades son:    \n",
    "D: Mis Debilidades son:    \n",
    "A: Lo que Amenazas mi aprendizaje es:  "
   ]
  },
  {
   "cell_type": "markdown",
   "id": "6b9e56a8",
   "metadata": {
    "slideshow": {
     "slide_type": "slide"
    }
   },
   "source": [
    "### [Evaluamos al profesor Marco Cañas Aquí](https://forms.office.com/Pages/ResponsePage.aspx?id=IefhmYRxjkmK_7KtTlPBwkanXIs1i1FEujpsZgO6dXpUREJPV1kxUk1JV1ozTFJIQVNIQjY5WEY3US4u)"
   ]
  },
  {
   "cell_type": "markdown",
   "id": "10f43536",
   "metadata": {
    "slideshow": {
     "slide_type": "slide"
    }
   },
   "source": [
    "### Continue su aprendizaje en la siguiente clase a través del siguiente [vínculo]()"
   ]
  },
  {
   "cell_type": "markdown",
   "id": "53cc9115",
   "metadata": {
    "slideshow": {
     "slide_type": "slide"
    }
   },
   "source": [
    "## Agradecimientos  \n",
    "\n",
    "Doy gracias a Dios por la vida de mi Hijo Joseph Cañas Osorio y la madurez que ha alcanzado. Este hijo me enorgullece y me hace falta abrazarlo cada día. \n",
    "\n",
    "Y a mi esposa Yasmira Emperatriz Barboza Mogollón por su apoyo, orientación y acompañamiento. "
   ]
  }
 ],
 "metadata": {
  "celltoolbar": "Slideshow",
  "kernelspec": {
   "display_name": ".venv",
   "language": "python",
   "name": "python3"
  },
  "language_info": {
   "codemirror_mode": {
    "name": "ipython",
    "version": 3
   },
   "file_extension": ".py",
   "mimetype": "text/x-python",
   "name": "python",
   "nbconvert_exporter": "python",
   "pygments_lexer": "ipython3",
   "version": "3.11.9"
  },
  "rise": {
   "enable_chalkboard": true,
   "theme": "sky",
   "transition": "zoom"
  }
 },
 "nbformat": 4,
 "nbformat_minor": 5
}
