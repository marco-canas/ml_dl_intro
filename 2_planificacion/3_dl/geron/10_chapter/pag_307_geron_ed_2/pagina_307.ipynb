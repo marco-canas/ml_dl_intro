{
 "cells": [
  {
   "cell_type": "markdown",
   "id": "e299cb24",
   "metadata": {},
   "source": [
    "# [Encuesta de satisfacción en Google Form](https://forms.gle/YUc83ygwGoEcHgM2A) "
   ]
  },
  {
   "cell_type": "markdown",
   "id": "ab72b159",
   "metadata": {},
   "source": [
    "<table align=\"left\">\n",
    "  <td>\n",
    "    <a href=\"https://colab.research.google.com/github/marco-canas/ml_intro/blob/main/2_planificacion/redes_neuronales_geron/pagina_307.ipynb\" target=\"_parent\"><img src=\"https://colab.research.google.com/assets/colab-badge.svg\" alt=\"Open In Colab\"/></a>\n",
    "  </td>\n",
    "  <td>\n",
    "    <a target=\"_blank\" href=\"https://kaggle.com/kernels/welcome?src=https://github.com/marco-canas/ml_intro/blob/main/2_planificacion/redes_neuronales_geron/pagina_307.ipynb\"><img src=\"https://kaggle.com/static/images/open-in-kaggle.svg\" /></a>\n",
    "  </td>\n",
    "</table>"
   ]
  },
  {
   "cell_type": "code",
   "execution_count": 1,
   "id": "f51736f5",
   "metadata": {},
   "outputs": [],
   "source": [
    "import qrcode\n",
    "from IPython.display import display\n",
    "\n",
    "def generar_qr_notebook(url):\n",
    "    \"\"\"\n",
    "    Genera un código QR para una URL y lo muestra en un cuaderno Jupyter.\n",
    "    \n",
    "    Parámetros:\n",
    "    url (str): La URL para la cual se generará el código QR.\n",
    "    \n",
    "    Retorna:\n",
    "    None (pero muestra el código QR en el notebook)\n",
    "    \"\"\"\n",
    "    # Crear el objeto QR\n",
    "    qr = qrcode.QRCode(\n",
    "        version=1,\n",
    "        error_correction=qrcode.constants.ERROR_CORRECT_L,\n",
    "        box_size=10,\n",
    "        border=4,\n",
    "    )\n",
    "    \n",
    "    # Añadir la URL al código QR\n",
    "    qr.add_data(url)\n",
    "    qr.make(fit=True)\n",
    "    \n",
    "    # Crear la imagen del QR\n",
    "    img = qr.make_image(fill_color=\"black\", back_color=\"white\")\n",
    "    \n",
    "    # Mostrar la imagen en el notebook\n",
    "    display(img)\n",
    "\n"
   ]
  },
  {
   "cell_type": "markdown",
   "id": "0fd587d9",
   "metadata": {},
   "source": [
    "\n",
    "# **Cálculos Lógicos con Neuronas**  \n"
   ]
  },
  {
   "cell_type": "markdown",
   "id": "332bb61e",
   "metadata": {},
   "source": [
    "Warren McCulloch y Walter Pitts propusieron un modelo muy simple de la neurona biológica, que luego se conoció como neurona artificial: tiene una o más entradas binarias (activado/desactivado) y una salida binaria. "
   ]
  },
  {
   "cell_type": "markdown",
   "id": "3c90eca5",
   "metadata": {},
   "source": [
    "<img src = 'neurona_mcculloch_pitt_2.png' width = 400>"
   ]
  },
  {
   "cell_type": "markdown",
   "id": "de14d69c",
   "metadata": {},
   "source": [
    "La neurona artificial simplemente activa su salida cuando más de un cierto número de sus entradas están activas. "
   ]
  },
  {
   "cell_type": "markdown",
   "id": "81bb29de",
   "metadata": {},
   "source": [
    "McCulloch y Pitts demostraron que incluso con un modelo tan simplificado es posible construir una red de neuronas artificiales que calcule cualquier proposición lógica que se desee."
   ]
  },
  {
   "cell_type": "markdown",
   "id": "95527314",
   "metadata": {},
   "source": [
    " Por ejemplo, construyamos algunas RNA (Redes Neuronales Artificiales) que realicen diversos cálculos lógicos (ver Figura 10-3), asumiendo que una neurona se activa cuando al menos dos de sus entradas están activas.\n"
   ]
  },
  {
   "cell_type": "markdown",
   "id": "b05bbbce",
   "metadata": {},
   "source": [
    "<img src = 'neurona_compuertas_mc_culloch_pits.png' width = 500>"
   ]
  },
  {
   "cell_type": "markdown",
   "id": "76b84dff",
   "metadata": {},
   "source": [
    "\n",
    "**Figura 10-3. RNA realizando cálculos lógicos simples**  \n"
   ]
  },
  {
   "cell_type": "markdown",
   "id": "93fe29f0",
   "metadata": {},
   "source": [
    "- La primera red a la izquierda es simplemente la función identidad: si la neurona A está activada, entonces la neurona C también se activa (ya que recibe dos señales de entrada de la neurona A), pero si la neurona A está desactivada, la neurona C también lo estará. "
   ]
  },
  {
   "cell_type": "markdown",
   "id": "fa507b8c",
   "metadata": {},
   "source": [
    " \n",
    "- La segunda red realiza un AND lógico: la neurona C se activa solo cuando tanto la neurona A como la B están activadas (una sola señal de entrada no es suficiente para activar la neurona C).  \n"
   ]
  },
  {
   "cell_type": "markdown",
   "id": "f33820b6",
   "metadata": {},
   "source": [
    "- La tercera red realiza un OR lógico: la neurona C se activa si la neurona A o la B está activada (o ambas).  \n"
   ]
  },
  {
   "cell_type": "markdown",
   "id": "ea7aff23",
   "metadata": {},
   "source": [
    "- Finalmente, si suponemos que una conexión de entrada puede inhibir la actividad de la neurona (como ocurre en las neuronas biológicas), la cuarta red calcula una proposición lógica un poco más compleja: la neurona C se activa solo si la neurona A está activa y la neurona B está desactivada. Si la neurona A está siempre activa, se obtiene un NOT lógico: la neurona C está activa cuando la B está desactivada, y viceversa.  \n"
   ]
  },
  {
   "cell_type": "markdown",
   "id": "8656861c",
   "metadata": {},
   "source": [
    "\n",
    "Puedes imaginar fácilmente cómo estas redes pueden combinarse para calcular expresiones lógicas complejas (ver los ejercicios al final del capítulo).\n",
    "\n"
   ]
  },
  {
   "cell_type": "markdown",
   "id": "03227299",
   "metadata": {},
   "source": [
    "Aquí tienes diez ejercicios en Python para implementar proposiciones lógicas utilizando neuronas básicas (identidad, AND, OR y NOT). Cada ejercicio incluye una explicación y el código correspondiente:\n",
    "\n"
   ]
  },
  {
   "cell_type": "markdown",
   "id": "50f3dc4e",
   "metadata": {},
   "source": [
    "\n",
    "\n",
    "### **1. Neurona Identidad (Función lineal)**\n",
    "Implementa una neurona identidad que devuelva el mismo valor de entrada.\n"
   ]
  },
  {
   "cell_type": "code",
   "execution_count": 1,
   "id": "84512572",
   "metadata": {},
   "outputs": [],
   "source": [
    "\n",
    "def neurona_identidad(x):\n",
    "    return x\n"
   ]
  },
  {
   "cell_type": "code",
   "execution_count": 4,
   "id": "8b7bb861",
   "metadata": {},
   "outputs": [
    {
     "data": {
      "text/plain": [
       "5"
      ]
     },
     "execution_count": 4,
     "metadata": {},
     "output_type": "execute_result"
    }
   ],
   "source": [
    "\n",
    "# Ejemplo\n",
    "neurona_identidad(5)  # Salida: 1\n",
    "\n",
    "\n"
   ]
  },
  {
   "cell_type": "markdown",
   "id": "c49203fa",
   "metadata": {},
   "source": [
    "\n",
    "\n",
    "### **2. Neurona AND**\n",
    "Implementa una neurona AND que devuelva `1` solo si ambas entradas son `1`.\n"
   ]
  },
  {
   "cell_type": "code",
   "execution_count": null,
   "id": "f5e1825e",
   "metadata": {},
   "outputs": [],
   "source": [
    "\n",
    "def neurona_and(x1, x2):\n",
    "    return 1 if x1 == 1 and x2 == 1 else 0\n",
    "\n",
    "# Ejemplo\n",
    "print(neurona_and(1, 0))  # Salida: 0\n",
    "\n",
    "\n"
   ]
  },
  {
   "cell_type": "markdown",
   "id": "0bf4c19d",
   "metadata": {},
   "source": [
    "\n",
    "\n",
    "### **3. Neurona OR**\n",
    "Implementa una neurona OR que devuelva `1` si al menos una entrada es `1`.\n"
   ]
  },
  {
   "cell_type": "code",
   "execution_count": 11,
   "id": "3b4774f2",
   "metadata": {},
   "outputs": [],
   "source": [
    "def neurona_or(x1, x2):\n",
    "    return 1 if x1==1 or x2==1 else 0"
   ]
  },
  {
   "cell_type": "code",
   "execution_count": 5,
   "id": "1d939c4a",
   "metadata": {},
   "outputs": [],
   "source": [
    "\n",
    "def neurona_or(x1, x2):\n",
    "    return 1 if x1 == 1 or x2 == 1 else 0\n"
   ]
  },
  {
   "cell_type": "code",
   "execution_count": 12,
   "id": "13781ccf",
   "metadata": {},
   "outputs": [
    {
     "data": {
      "text/plain": [
       "0"
      ]
     },
     "execution_count": 12,
     "metadata": {},
     "output_type": "execute_result"
    }
   ],
   "source": [
    "\n",
    "# Ejemplo\n",
    "neurona_or(0, 0)  # Salida: 1\n",
    "\n",
    "\n"
   ]
  },
  {
   "cell_type": "code",
   "execution_count": 13,
   "id": "9c40b938",
   "metadata": {},
   "outputs": [
    {
     "name": "stdout",
     "output_type": "stream",
     "text": [
      "La entrada (0, 0) es 0\n",
      "La entrada (0, 1) es 1\n",
      "La entrada (1, 0) es 1\n",
      "La entrada (1, 1) es 1\n"
     ]
    }
   ],
   "source": [
    "entradas = [(0,0), (0, 1), (1, 0), (1, 1)]\n",
    "for x in entradas:\n",
    "    print(f\"La entrada {x} es {neurona_or(x[0], x[1])}\")"
   ]
  },
  {
   "cell_type": "markdown",
   "id": "2b7bfa30",
   "metadata": {},
   "source": [
    "\n",
    "\n",
    "### **4. Neurona NOT**\n",
    "Implementa una neurona NOT que invierta el valor de entrada.\n"
   ]
  },
  {
   "cell_type": "code",
   "execution_count": null,
   "id": "e32c0939",
   "metadata": {},
   "outputs": [],
   "source": [
    "def neurona_not(x):\n",
    "    return 1 if x == 0 else 0\n",
    "\n",
    "# Ejemplo\n",
    "print(neurona_not(1))  # Salida: 0\n",
    "\n"
   ]
  },
  {
   "cell_type": "markdown",
   "id": "dff4c2f6",
   "metadata": {},
   "source": [
    "\n",
    "\n",
    "\n",
    "## **5. Proposición: $ A \\land \\neg B$ (A AND NOT B)**\n",
    "Combina las neuronas AND y NOT para implementar la lógica $A \\land \\neg B$.\n"
   ]
  },
  {
   "cell_type": "code",
   "execution_count": null,
   "id": "75a3ff9e",
   "metadata": {},
   "outputs": [],
   "source": [
    "\n",
    "A, B = 1, 1\n",
    "not_B = neurona_not(B)\n",
    "output = neurona_and(A, not_B)\n",
    "print(output)  # Salida: 0 (porque B es 1)\n",
    "\n"
   ]
  },
  {
   "cell_type": "markdown",
   "id": "3c8e162a",
   "metadata": {},
   "source": [
    "\n",
    "\n",
    "\n",
    "# **6. Proposición: $\\neg(A \\lor B)$ (NOT (A OR B))**\n",
    "Combina OR y NOT para implementar la negación de OR (NOR).\n"
   ]
  },
  {
   "cell_type": "code",
   "execution_count": null,
   "id": "565b4ae6",
   "metadata": {},
   "outputs": [],
   "source": [
    "A, B = 1, 0\n",
    "or_output = neurona_or(A, B)\n",
    "output = neurona_not(or_output)\n",
    "print(output)  # Salida: 0 (porque A OR B es 1)\n"
   ]
  },
  {
   "cell_type": "markdown",
   "id": "3da340a4",
   "metadata": {},
   "source": [
    "\n",
    "### **7. Proposición: \\( (A \\lor B) \\land \\neg C \\)**\n",
    "Combina OR, AND y NOT para implementar la lógica deseada.\n",
    "```python\n"
   ]
  },
  {
   "cell_type": "code",
   "execution_count": null,
   "id": "b70536a3",
   "metadata": {},
   "outputs": [],
   "source": [
    "A, B, C = 1, 0, 1\n",
    "or_output = neurona_or(A, B)\n",
    "not_C = neurona_not(C)\n",
    "output = neurona_and(or_output, not_C)\n",
    "print(output)  # Salida: 0 (porque C es 1)\n",
    "\n",
    "\n"
   ]
  },
  {
   "cell_type": "markdown",
   "id": "80d47fc5",
   "metadata": {},
   "source": [
    "\n",
    "\n",
    "### **8. Proposición: XOR (A XOR B)**\n",
    "Implementa XOR usando combinaciones de AND, OR y NOT:\n",
    "\\[ A \\oplus B = (A \\land \\neg B) \\lor (\\neg A \\land B) \\]\n",
    "```python\n",
    "A, B = 1, 0\n",
    "not_A = neurona_not(A)\n",
    "not_B = neurona_not(B)\n",
    "and1 = neurona_and(A, not_B)\n",
    "and2 = neurona_and(not_A, B)\n",
    "output = neurona_or(and1, and2)\n",
    "print(output)  # Salida: 1 (XOR de 1 y 0)\n",
    "```\n",
    "\n",
    "---\n",
    "\n",
    "### **9. Proposición: Implicación \\( A \\rightarrow B \\) (NOT A OR B)**\n",
    "Implementa la implicación lógica usando NOT y OR.\n",
    "```python\n",
    "A, B = 1, 0\n",
    "not_A = neurona_not(A)\n",
    "output = neurona_or(not_A, B)\n",
    "print(output)  # Salida: 0 (porque A=1 y B=0)\n",
    "```\n",
    "\n"
   ]
  },
  {
   "cell_type": "markdown",
   "id": "05589019",
   "metadata": {},
   "source": [
    "\n",
    "\n",
    "### **10. Proposición: Equivalencia \\( A \\leftrightarrow B \\)**\n",
    "Implementa la equivalencia (XNOR) combinando XOR y NOT:\n",
    "\\[ A \\leftrightarrow B = \\neg (A \\oplus B) \\]\n",
    "```python\n",
    "A, B = 1, 1\n",
    "xor_output = neurona_or(\n",
    "    neurona_and(A, neurona_not(B)),\n",
    "    neurona_and(neurona_not(A), B)\n",
    ")\n",
    "output = neurona_not(xor_output)\n",
    "print(output)  # Salida: 1 (A y B son iguales)\n",
    "```\n",
    "\n"
   ]
  },
  {
   "cell_type": "markdown",
   "id": "899c5928",
   "metadata": {},
   "source": [
    "\n",
    "\n",
    "### **Explicación clave:**\n",
    "- **Identidad**: Simplemente devuelve la entrada.\n",
    "- **AND/OR**: Operaciones binarias básicas.\n",
    "- **NOT**: Invierte el valor.\n",
    "- Las proposiciones compuestas se construyen anidando neuronas básicas.\n"
   ]
  },
  {
   "cell_type": "markdown",
   "id": "84067e2f",
   "metadata": {},
   "source": [
    "\n",
    "Estos ejercicios cubren desde operadores simples hasta lógica combinacional. Puedes extenderlos para más variables o proposiciones complejas."
   ]
  },
  {
   "cell_type": "markdown",
   "id": "e04e2d94",
   "metadata": {},
   "source": [
    "\n",
    "\n",
    "### Diseño de Práctica en Python:\n"
   ]
  },
  {
   "cell_type": "markdown",
   "id": "8b5dbdfa",
   "metadata": {},
   "source": [
    "\n",
    "#### **1. Práctica: Implementación de Neuronas Artificiales para Compuertas Lógicas**"
   ]
  },
  {
   "cell_type": "markdown",
   "id": "dcf55675",
   "metadata": {},
   "source": [
    "  \n",
    "**Objetivo**: Implementar neuronas artificiales que simulen compuertas lógicas (AND, OR, NOT, IDENTITY) usando el modelo de McCulloch-Pitts.\n"
   ]
  },
  {
   "cell_type": "code",
   "execution_count": 14,
   "id": "e33e3ecc",
   "metadata": {},
   "outputs": [],
   "source": [
    "import numpy as np\n"
   ]
  },
  {
   "cell_type": "code",
   "execution_count": 18,
   "id": "61035789",
   "metadata": {},
   "outputs": [],
   "source": [
    "\n",
    "class McCullochPittsNeuron:\n",
    "    def __init__(self, weights, threshold):\n",
    "        self.weights = weights\n",
    "        self.threshold = threshold\n",
    "\n",
    "    def activate(self, inputs):\n",
    "        weighted_sum = np.dot(inputs, self.weights)\n",
    "        return 1 if weighted_sum >= self.threshold else 0\n"
   ]
  },
  {
   "cell_type": "code",
   "execution_count": null,
   "id": "b9f63d5c",
   "metadata": {},
   "outputs": [],
   "source": [
    "\n",
    "# Compuertas Lógicas\n",
    "def test_logic_gate(gate_name, neuron, test_cases):\n",
    "    print(f\"\\n{gate_name}:\")\n",
    "    for inputs in test_cases:\n",
    "        output = neuron.activate(inputs)\n",
    "        print(f\"Input: {inputs} -> Output: {output}\")\n"
   ]
  },
  {
   "cell_type": "code",
   "execution_count": null,
   "id": "b358e5b8",
   "metadata": {},
   "outputs": [],
   "source": [
    "\n",
    "# Configuraciones para cada compuerta\n",
    "and_neuron = McCullochPittsNeuron(weights=[1, 1], threshold=2)\n",
    "or_neuron = McCullochPittsNeuron(weights=[1, 1], threshold=1)\n",
    "not_neuron = McCullochPittsNeuron(weights=[-1], threshold=0)\n",
    "identity_neuron = McCullochPittsNeuron(weights=[2], threshold=1)\n"
   ]
  },
  {
   "cell_type": "code",
   "execution_count": null,
   "id": "5b48c913",
   "metadata": {},
   "outputs": [],
   "source": [
    "\n",
    "# Casos de prueba\n",
    "test_cases_and_or = [(0, 0), (0, 1), (1, 0), (1, 1)]\n",
    "test_cases_not = [(0,), (1,)]\n"
   ]
  },
  {
   "cell_type": "code",
   "execution_count": null,
   "id": "47c04cd9",
   "metadata": {},
   "outputs": [],
   "source": [
    "\n",
    "# Evaluación\n",
    "test_logic_gate(\"AND\", and_neuron, test_cases_and_or)\n",
    "test_logic_gate(\"OR\", or_neuron, test_cases_and_or)\n",
    "test_logic_gate(\"NOT\", not_neuron, test_cases_not)\n",
    "test_logic_gate(\"IDENTITY\", identity_neuron, test_cases_not)\n",
    "\n",
    "\n"
   ]
  },
  {
   "cell_type": "markdown",
   "id": "d06f79dc",
   "metadata": {},
   "source": [
    "\n",
    "\n",
    "#### **2. Práctica de Visualización con Matplotlib y Plotly**  \n"
   ]
  },
  {
   "cell_type": "markdown",
   "id": "b22ea520",
   "metadata": {},
   "source": [
    "**Objetivo**: Visualizar el comportamiento de las neuronas artificiales para diferentes entradas.\n"
   ]
  },
  {
   "cell_type": "code",
   "execution_count": 20,
   "id": "ee61391c",
   "metadata": {},
   "outputs": [],
   "source": [
    "and_neuron = McCullochPittsNeuron(weights=[1, 1], threshold=2)\n",
    "or_neuron = McCullochPittsNeuron(weights=[1, 1], threshold = 1)"
   ]
  },
  {
   "cell_type": "code",
   "execution_count": 21,
   "id": "ce878b33",
   "metadata": {},
   "outputs": [
    {
     "data": {
      "image/png": "[encoded data removed]",
      "text/plain": [
       "<Figure size 800x400 with 2 Axes>"
      ]
     },
     "metadata": {},
     "output_type": "display_data"
    },
    {
     "data": {
      "application/vnd.plotly.v1+json": {
       "config": {
        "plotlyServerURL": "https://plot.ly"
       },
       "data": [
        {
         "marker": {
          "color": {
           "bdata": "AAAAAQ==",
           "dtype": "i1"
          },
          "colorscale": [
           [
            0,
            "#440154"
           ],
           [
            0.1111111111111111,
            "#482878"
           ],
           [
            0.2222222222222222,
            "#3e4989"
           ],
           [
            0.3333333333333333,
            "#31688e"
           ],
           [
            0.4444444444444444,
            "#26828e"
           ],
           [
            0.5555555555555556,
            "#1f9e89"
           ],
           [
            0.6666666666666666,
            "#35b779"
           ],
           [
            0.7777777777777778,
            "#6ece58"
           ],
           [
            0.8888888888888888,
            "#b5de2b"
           ],
           [
            1,
            "#fde725"
           ]
          ],
          "size": 10
         },
         "mode": "markers",
         "type": "scatter3d",
         "x": {
          "bdata": "AAABAQ==",
          "dtype": "i1"
         },
         "y": {
          "bdata": "AAEAAQ==",
          "dtype": "i1"
         },
         "z": {
          "bdata": "AAAAAQ==",
          "dtype": "i1"
         }
        }
       ],
       "layout": {
        "scene": {
         "xaxis": {
          "title": {
           "text": "Input A"
          }
         },
         "yaxis": {
          "title": {
           "text": "Input B"
          }
         },
         "zaxis": {
          "title": {
           "text": "Output"
          }
         }
        },
        "template": {
         "data": {
          "bar": [
           {
            "error_x": {
             "color": "#2a3f5f"
            },
            "error_y": {
             "color": "#2a3f5f"
            },
            "marker": {
             "line": {
              "color": "#E5ECF6",
              "width": 0.5
             },
             "pattern": {
              "fillmode": "overlay",
              "size": 10,
              "solidity": 0.2
             }
            },
            "type": "bar"
           }
          ],
          "barpolar": [
           {
            "marker": {
             "line": {
              "color": "#E5ECF6",
              "width": 0.5
             },
             "pattern": {
              "fillmode": "overlay",
              "size": 10,
              "solidity": 0.2
             }
            },
            "type": "barpolar"
           }
          ],
          "carpet": [
           {
            "aaxis": {
             "endlinecolor": "#2a3f5f",
             "gridcolor": "white",
             "linecolor": "white",
             "minorgridcolor": "white",
             "startlinecolor": "#2a3f5f"
            },
            "baxis": {
             "endlinecolor": "#2a3f5f",
             "gridcolor": "white",
             "linecolor": "white",
             "minorgridcolor": "white",
             "startlinecolor": "#2a3f5f"
            },
            "type": "carpet"
           }
          ],
          "choropleth": [
           {
            "colorbar": {
             "outlinewidth": 0,
             "ticks": ""
            },
            "type": "choropleth"
           }
          ],
          "contour": [
           {
            "colorbar": {
             "outlinewidth": 0,
             "ticks": ""
            },
            "colorscale": [
             [
              0,
              "#0d0887"
             ],
             [
              0.1111111111111111,
              "#46039f"
             ],
             [
              0.2222222222222222,
              "#7201a8"
             ],
             [
              0.3333333333333333,
              "#9c179e"
             ],
             [
              0.4444444444444444,
              "#bd3786"
             ],
             [
              0.5555555555555556,
              "#d8576b"
             ],
             [
              0.6666666666666666,
              "#ed7953"
             ],
             [
              0.7777777777777778,
              "#fb9f3a"
             ],
             [
              0.8888888888888888,
              "#fdca26"
             ],
             [
              1,
              "#f0f921"
             ]
            ],
            "type": "contour"
           }
          ],
          "contourcarpet": [
           {
            "colorbar": {
             "outlinewidth": 0,
             "ticks": ""
            },
            "type": "contourcarpet"
           }
          ],
          "heatmap": [
           {
            "colorbar": {
             "outlinewidth": 0,
             "ticks": ""
            },
            "colorscale": [
             [
              0,
              "#0d0887"
             ],
             [
              0.1111111111111111,
              "#46039f"
             ],
             [
              0.2222222222222222,
              "#7201a8"
             ],
             [
              0.3333333333333333,
              "#9c179e"
             ],
             [
              0.4444444444444444,
              "#bd3786"
             ],
             [
              0.5555555555555556,
              "#d8576b"
             ],
             [
              0.6666666666666666,
              "#ed7953"
             ],
             [
              0.7777777777777778,
              "#fb9f3a"
             ],
             [
              0.8888888888888888,
              "#fdca26"
             ],
             [
              1,
              "#f0f921"
             ]
            ],
            "type": "heatmap"
           }
          ],
          "histogram": [
           {
            "marker": {
             "pattern": {
              "fillmode": "overlay",
              "size": 10,
              "solidity": 0.2
             }
            },
            "type": "histogram"
           }
          ],
          "histogram2d": [
           {
            "colorbar": {
             "outlinewidth": 0,
             "ticks": ""
            },
            "colorscale": [
             [
              0,
              "#0d0887"
             ],
             [
              0.1111111111111111,
              "#46039f"
             ],
             [
              0.2222222222222222,
              "#7201a8"
             ],
             [
              0.3333333333333333,
              "#9c179e"
             ],
             [
              0.4444444444444444,
              "#bd3786"
             ],
             [
              0.5555555555555556,
              "#d8576b"
             ],
             [
              0.6666666666666666,
              "#ed7953"
             ],
             [
              0.7777777777777778,
              "#fb9f3a"
             ],
             [
              0.8888888888888888,
              "#fdca26"
             ],
             [
              1,
              "#f0f921"
             ]
            ],
            "type": "histogram2d"
           }
          ],
          "histogram2dcontour": [
           {
            "colorbar": {
             "outlinewidth": 0,
             "ticks": ""
            },
            "colorscale": [
             [
              0,
              "#0d0887"
             ],
             [
              0.1111111111111111,
              "#46039f"
             ],
             [
              0.2222222222222222,
              "#7201a8"
             ],
             [
              0.3333333333333333,
              "#9c179e"
             ],
             [
              0.4444444444444444,
              "#bd3786"
             ],
             [
              0.5555555555555556,
              "#d8576b"
             ],
             [
              0.6666666666666666,
              "#ed7953"
             ],
             [
              0.7777777777777778,
              "#fb9f3a"
             ],
             [
              0.8888888888888888,
              "#fdca26"
             ],
             [
              1,
              "#f0f921"
             ]
            ],
            "type": "histogram2dcontour"
           }
          ],
          "mesh3d": [
           {
            "colorbar": {
             "outlinewidth": 0,
             "ticks": ""
            },
            "type": "mesh3d"
           }
          ],
          "parcoords": [
           {
            "line": {
             "colorbar": {
              "outlinewidth": 0,
              "ticks": ""
             }
            },
            "type": "parcoords"
           }
          ],
          "pie": [
           {
            "automargin": true,
            "type": "pie"
           }
          ],
          "scatter": [
           {
            "fillpattern": {
             "fillmode": "overlay",
             "size": 10,
             "solidity": 0.2
            },
            "type": "scatter"
           }
          ],
          "scatter3d": [
           {
            "line": {
             "colorbar": {
              "outlinewidth": 0,
              "ticks": ""
             }
            },
            "marker": {
             "colorbar": {
              "outlinewidth": 0,
              "ticks": ""
             }
            },
            "type": "scatter3d"
           }
          ],
          "scattercarpet": [
           {
            "marker": {
             "colorbar": {
              "outlinewidth": 0,
              "ticks": ""
             }
            },
            "type": "scattercarpet"
           }
          ],
          "scattergeo": [
           {
            "marker": {
             "colorbar": {
              "outlinewidth": 0,
              "ticks": ""
             }
            },
            "type": "scattergeo"
           }
          ],
          "scattergl": [
           {
            "marker": {
             "colorbar": {
              "outlinewidth": 0,
              "ticks": ""
             }
            },
            "type": "scattergl"
           }
          ],
          "scattermap": [
           {
            "marker": {
             "colorbar": {
              "outlinewidth": 0,
              "ticks": ""
             }
            },
            "type": "scattermap"
           }
          ],
          "scattermapbox": [
           {
            "marker": {
             "colorbar": {
              "outlinewidth": 0,
              "ticks": ""
             }
            },
            "type": "scattermapbox"
           }
          ],
          "scatterpolar": [
           {
            "marker": {
             "colorbar": {
              "outlinewidth": 0,
              "ticks": ""
             }
            },
            "type": "scatterpolar"
           }
          ],
          "scatterpolargl": [
           {
            "marker": {
             "colorbar": {
              "outlinewidth": 0,
              "ticks": ""
             }
            },
            "type": "scatterpolargl"
           }
          ],
          "scatterternary": [
           {
            "marker": {
             "colorbar": {
              "outlinewidth": 0,
              "ticks": ""
             }
            },
            "type": "scatterternary"
           }
          ],
          "surface": [
           {
            "colorbar": {
             "outlinewidth": 0,
             "ticks": ""
            },
            "colorscale": [
             [
              0,
              "#0d0887"
             ],
             [
              0.1111111111111111,
              "#46039f"
             ],
             [
              0.2222222222222222,
              "#7201a8"
             ],
             [
              0.3333333333333333,
              "#9c179e"
             ],
             [
              0.4444444444444444,
              "#bd3786"
             ],
             [
              0.5555555555555556,
              "#d8576b"
             ],
             [
              0.6666666666666666,
              "#ed7953"
             ],
             [
              0.7777777777777778,
              "#fb9f3a"
             ],
             [
              0.8888888888888888,
              "#fdca26"
             ],
             [
              1,
              "#f0f921"
             ]
            ],
            "type": "surface"
           }
          ],
          "table": [
           {
            "cells": {
             "fill": {
              "color": "#EBF0F8"
             },
             "line": {
              "color": "white"
             }
            },
            "header": {
             "fill": {
              "color": "#C8D4E3"
             },
             "line": {
              "color": "white"
             }
            },
            "type": "table"
           }
          ]
         },
         "layout": {
          "annotationdefaults": {
           "arrowcolor": "#2a3f5f",
           "arrowhead": 0,
           "arrowwidth": 1
          },
          "autotypenumbers": "strict",
          "coloraxis": {
           "colorbar": {
            "outlinewidth": 0,
            "ticks": ""
           }
          },
          "colorscale": {
           "diverging": [
            [
             0,
             "#8e0152"
            ],
            [
             0.1,
             "#c51b7d"
            ],
            [
             0.2,
             "#de77ae"
            ],
            [
             0.3,
             "#f1b6da"
            ],
            [
             0.4,
             "#fde0ef"
            ],
            [
             0.5,
             "#f7f7f7"
            ],
            [
             0.6,
             "#e6f5d0"
            ],
            [
             0.7,
             "#b8e186"
            ],
            [
             0.8,
             "#7fbc41"
            ],
            [
             0.9,
             "#4d9221"
            ],
            [
             1,
             "#276419"
            ]
           ],
           "sequential": [
            [
             0,
             "#0d0887"
            ],
            [
             0.1111111111111111,
             "#46039f"
            ],
            [
             0.2222222222222222,
             "#7201a8"
            ],
            [
             0.3333333333333333,
             "#9c179e"
            ],
            [
             0.4444444444444444,
             "#bd3786"
            ],
            [
             0.5555555555555556,
             "#d8576b"
            ],
            [
             0.6666666666666666,
             "#ed7953"
            ],
            [
             0.7777777777777778,
             "#fb9f3a"
            ],
            [
             0.8888888888888888,
             "#fdca26"
            ],
            [
             1,
             "#f0f921"
            ]
           ],
           "sequentialminus": [
            [
             0,
             "#0d0887"
            ],
            [
             0.1111111111111111,
             "#46039f"
            ],
            [
             0.2222222222222222,
             "#7201a8"
            ],
            [
             0.3333333333333333,
             "#9c179e"
            ],
            [
             0.4444444444444444,
             "#bd3786"
            ],
            [
             0.5555555555555556,
             "#d8576b"
            ],
            [
             0.6666666666666666,
             "#ed7953"
            ],
            [
             0.7777777777777778,
             "#fb9f3a"
            ],
            [
             0.8888888888888888,
             "#fdca26"
            ],
            [
             1,
             "#f0f921"
            ]
           ]
          },
          "colorway": [
           "#636efa",
           "#EF553B",
           "#00cc96",
           "#ab63fa",
           "#FFA15A",
           "#19d3f3",
           "#FF6692",
           "#B6E880",
           "#FF97FF",
           "#FECB52"
          ],
          "font": {
           "color": "#2a3f5f"
          },
          "geo": {
           "bgcolor": "white",
           "lakecolor": "white",
           "landcolor": "#E5ECF6",
           "showlakes": true,
           "showland": true,
           "subunitcolor": "white"
          },
          "hoverlabel": {
           "align": "left"
          },
          "hovermode": "closest",
          "mapbox": {
           "style": "light"
          },
          "paper_bgcolor": "white",
          "plot_bgcolor": "#E5ECF6",
          "polar": {
           "angularaxis": {
            "gridcolor": "white",
            "linecolor": "white",
            "ticks": ""
           },
           "bgcolor": "#E5ECF6",
           "radialaxis": {
            "gridcolor": "white",
            "linecolor": "white",
            "ticks": ""
           }
          },
          "scene": {
           "xaxis": {
            "backgroundcolor": "#E5ECF6",
            "gridcolor": "white",
            "gridwidth": 2,
            "linecolor": "white",
            "showbackground": true,
            "ticks": "",
            "zerolinecolor": "white"
           },
           "yaxis": {
            "backgroundcolor": "#E5ECF6",
            "gridcolor": "white",
            "gridwidth": 2,
            "linecolor": "white",
            "showbackground": true,
            "ticks": "",
            "zerolinecolor": "white"
           },
           "zaxis": {
            "backgroundcolor": "#E5ECF6",
            "gridcolor": "white",
            "gridwidth": 2,
            "linecolor": "white",
            "showbackground": true,
            "ticks": "",
            "zerolinecolor": "white"
           }
          },
          "shapedefaults": {
           "line": {
            "color": "#2a3f5f"
           }
          },
          "ternary": {
           "aaxis": {
            "gridcolor": "white",
            "linecolor": "white",
            "ticks": ""
           },
           "baxis": {
            "gridcolor": "white",
            "linecolor": "white",
            "ticks": ""
           },
           "bgcolor": "#E5ECF6",
           "caxis": {
            "gridcolor": "white",
            "linecolor": "white",
            "ticks": ""
           }
          },
          "title": {
           "x": 0.05
          },
          "xaxis": {
           "automargin": true,
           "gridcolor": "white",
           "linecolor": "white",
           "ticks": "",
           "title": {
            "standoff": 15
           },
           "zerolinecolor": "white",
           "zerolinewidth": 2
          },
          "yaxis": {
           "automargin": true,
           "gridcolor": "white",
           "linecolor": "white",
           "ticks": "",
           "title": {
            "standoff": 15
           },
           "zerolinecolor": "white",
           "zerolinewidth": 2
          }
         }
        },
        "title": {
         "text": "AND Gate Visualization (Plotly)"
        }
       }
      }
     },
     "metadata": {},
     "output_type": "display_data"
    }
   ],
   "source": [
    "\n",
    "\n",
    "import matplotlib.pyplot as plt\n",
    "import plotly.graph_objects as go\n",
    "\n",
    "# Datos para visualización (AND como ejemplo)\n",
    "inputs = np.array([[0, 0], [0, 1], [1, 0], [1, 1]])\n",
    "outputs_and = np.array([and_neuron.activate(x) for x in inputs])\n",
    "\n",
    "# Matplotlib\n",
    "plt.figure(figsize=(8, 4))\n",
    "plt.scatter(inputs[:, 0], inputs[:, 1], c=outputs_and, cmap='coolwarm', s=100)\n",
    "plt.title(\"AND Gate Visualization (Matplotlib)\")\n",
    "plt.xlabel(\"Input A\")\n",
    "plt.ylabel(\"Input B\")\n",
    "plt.colorbar(label=\"Output (0 or 1)\")\n",
    "plt.grid(True)\n",
    "plt.show()\n",
    "\n",
    "# Plotly\n",
    "fig = go.Figure(data=[go.Scatter3d(\n",
    "    x=inputs[:, 0],\n",
    "    y=inputs[:, 1],\n",
    "    z=outputs_and,\n",
    "    mode='markers',\n",
    "    marker=dict(size=10, color=outputs_and, colorscale='Viridis')\n",
    ")])\n",
    "fig.update_layout(\n",
    "    title=\"AND Gate Visualization (Plotly)\",\n",
    "    scene=dict(xaxis_title='Input A', yaxis_title='Input B', zaxis_title='Output')\n",
    ")\n",
    "fig.show()\n",
    "\n",
    "\n"
   ]
  },
  {
   "cell_type": "markdown",
   "id": "23c63e22",
   "metadata": {},
   "source": [
    "\n",
    "\n",
    "### Explicación:  \n",
    "1. **Implementación de Neuronas**:  \n",
    "   - La clase `McCullochPittsNeuron` calcula la salida binaria basada en pesos y umbral.  \n",
    "   - Cada compuerta lógica (AND, OR, NOT) se configura con pesos y umbrales específicos.  \n",
    "\n",
    "2. **Visualización**:  \n",
    "   - **Matplotlib**: Mapa de dispersión 2D mostrando las entradas/salidas del AND.  \n",
    "   - **Plotly**: Gráfico 3D interactivo para explorar la relación entre entradas y salidas.  \n"
   ]
  },
  {
   "cell_type": "markdown",
   "id": "dcbcf186",
   "metadata": {},
   "source": [
    "\n",
    "**Ejercicio Adicional**:  \n",
    "- Modifica los pesos/umbrales para simular otras compuertas (ej: XOR con una red multicapa).  \n",
    "- Añade visualizaciones para OR/NOT usando subplots en Matplotlib."
   ]
  },
  {
   "cell_type": "markdown",
   "id": "f8a2a22d",
   "metadata": {},
   "source": [
    "# Continuación de la práctica de redes neurnales en clasificación binaria \n"
   ]
  },
  {
   "cell_type": "code",
   "execution_count": 6,
   "id": "dd2e3e0b",
   "metadata": {},
   "outputs": [
    {
     "data": {
      "application/vnd.microsoft.datawrangler.viewer.v0+json": {
       "columns": [
        {
         "name": "index",
         "rawType": "int64",
         "type": "integer"
        },
        {
         "name": "Edad",
         "rawType": "int32",
         "type": "integer"
        },
        {
         "name": "IngresosMensuales",
         "rawType": "int32",
         "type": "integer"
        },
        {
         "name": "HistorialCrediticio",
         "rawType": "object",
         "type": "string"
        },
        {
         "name": "NivelEndeudamiento",
         "rawType": "float64",
         "type": "float"
        },
        {
         "name": "AntiguedadLaboral",
         "rawType": "int32",
         "type": "integer"
        },
        {
         "name": "EstadoCivil",
         "rawType": "object",
         "type": "string"
        },
        {
         "name": "OtorgarTarjeta",
         "rawType": "int32",
         "type": "integer"
        }
       ],
       "ref": "abe05f96-a72c-4f35-a791-92c704ca95c2",
       "rows": [
        [
         "1",
         "36",
         "6663021",
         "Excelente",
         "0.4",
         "4",
         "Casado",
         "1"
        ],
        [
         "2",
         "53",
         "9001461",
         "Excelente",
         "0.56",
         "11",
         "Soltero",
         "0"
        ],
        [
         "3",
         "24",
         "1497631",
         "Excelente",
         "0.42",
         "16",
         "Soltero",
         "0"
        ],
        [
         "4",
         "56",
         "4847717",
         "Excelente",
         "0.27",
         "19",
         "Casado",
         "1"
        ],
        [
         "5",
         "52",
         "2114114",
         "Excelente",
         "0.86",
         "7",
         "Soltero",
         "0"
        ],
        [
         "6",
         "31",
         "5812135",
         "Excelente",
         "0.67",
         "1",
         "Soltero",
         "0"
        ],
        [
         "7",
         "29",
         "5054633",
         "Excelente",
         "0.57",
         "11",
         "Casado",
         "1"
        ],
        [
         "8",
         "49",
         "9735633",
         "Excelente",
         "0.72",
         "20",
         "Casado",
         "1"
        ],
        [
         "9",
         "29",
         "1613195",
         "Excelente",
         "0.04",
         "6",
         "Soltero",
         "1"
        ],
        [
         "10",
         "52",
         "4891184",
         "Excelente",
         "0.39",
         "29",
         "Casado",
         "1"
        ],
        [
         "11",
         "54",
         "1471280",
         "Excelente",
         "0.07",
         "27",
         "Casado",
         "1"
        ],
        [
         "12",
         "44",
         "2911513",
         "Excelente",
         "0.23",
         "5",
         "Soltero",
         "0"
        ],
        [
         "13",
         "35",
         "8807602",
         "Excelente",
         "0.62",
         "21",
         "Casado",
         "1"
        ],
        [
         "14",
         "58",
         "8252327",
         "Excelente",
         "1.0",
         "13",
         "Casado",
         "0"
        ],
        [
         "15",
         "60",
         "9161697",
         "Excelente",
         "0.8",
         "28",
         "Divorciado",
         "0"
        ],
        [
         "16",
         "21",
         "9533760",
         "Excelente",
         "0.26",
         "18",
         "Casado",
         "0"
        ],
        [
         "17",
         "18",
         "6301142",
         "Excelente",
         "0.01",
         "2",
         "Soltero",
         "0"
        ],
        [
         "18",
         "64",
         "1599930",
         "Excelente",
         "0.52",
         "15",
         "Casado",
         "0"
        ],
        [
         "19",
         "57",
         "3243964",
         "Excelente",
         "0.74",
         "27",
         "Soltero",
         "0"
        ],
        [
         "20",
         "20",
         "4463849",
         "Excelente",
         "0.13",
         "24",
         "Casado",
         "0"
        ]
       ],
       "shape": {
        "columns": 7,
        "rows": 20
       }
      },
      "text/html": [
       "<div>\n",
       "<style scoped>\n",
       "    .dataframe tbody tr th:only-of-type {\n",
       "        vertical-align: middle;\n",
       "    }\n",
       "\n",
       "    .dataframe tbody tr th {\n",
       "        vertical-align: top;\n",
       "    }\n",
       "\n",
       "    .dataframe thead th {\n",
       "        text-align: right;\n",
       "    }\n",
       "</style>\n",
       "<table border=\"1\" class=\"dataframe\">\n",
       "  <thead>\n",
       "    <tr style=\"text-align: right;\">\n",
       "      <th></th>\n",
       "      <th>Edad</th>\n",
       "      <th>IngresosMensuales</th>\n",
       "      <th>HistorialCrediticio</th>\n",
       "      <th>NivelEndeudamiento</th>\n",
       "      <th>AntiguedadLaboral</th>\n",
       "      <th>EstadoCivil</th>\n",
       "      <th>OtorgarTarjeta</th>\n",
       "    </tr>\n",
       "  </thead>\n",
       "  <tbody>\n",
       "    <tr>\n",
       "      <th>1</th>\n",
       "      <td>36</td>\n",
       "      <td>6663021</td>\n",
       "      <td>Excelente</td>\n",
       "      <td>0.40</td>\n",
       "      <td>4</td>\n",
       "      <td>Casado</td>\n",
       "      <td>1</td>\n",
       "    </tr>\n",
       "    <tr>\n",
       "      <th>2</th>\n",
       "      <td>53</td>\n",
       "      <td>9001461</td>\n",
       "      <td>Excelente</td>\n",
       "      <td>0.56</td>\n",
       "      <td>11</td>\n",
       "      <td>Soltero</td>\n",
       "      <td>0</td>\n",
       "    </tr>\n",
       "    <tr>\n",
       "      <th>3</th>\n",
       "      <td>24</td>\n",
       "      <td>1497631</td>\n",
       "      <td>Excelente</td>\n",
       "      <td>0.42</td>\n",
       "      <td>16</td>\n",
       "      <td>Soltero</td>\n",
       "      <td>0</td>\n",
       "    </tr>\n",
       "    <tr>\n",
       "      <th>4</th>\n",
       "      <td>56</td>\n",
       "      <td>4847717</td>\n",
       "      <td>Excelente</td>\n",
       "      <td>0.27</td>\n",
       "      <td>19</td>\n",
       "      <td>Casado</td>\n",
       "      <td>1</td>\n",
       "    </tr>\n",
       "    <tr>\n",
       "      <th>5</th>\n",
       "      <td>52</td>\n",
       "      <td>2114114</td>\n",
       "      <td>Excelente</td>\n",
       "      <td>0.86</td>\n",
       "      <td>7</td>\n",
       "      <td>Soltero</td>\n",
       "      <td>0</td>\n",
       "    </tr>\n",
       "    <tr>\n",
       "      <th>6</th>\n",
       "      <td>31</td>\n",
       "      <td>5812135</td>\n",
       "      <td>Excelente</td>\n",
       "      <td>0.67</td>\n",
       "      <td>1</td>\n",
       "      <td>Soltero</td>\n",
       "      <td>0</td>\n",
       "    </tr>\n",
       "    <tr>\n",
       "      <th>7</th>\n",
       "      <td>29</td>\n",
       "      <td>5054633</td>\n",
       "      <td>Excelente</td>\n",
       "      <td>0.57</td>\n",
       "      <td>11</td>\n",
       "      <td>Casado</td>\n",
       "      <td>1</td>\n",
       "    </tr>\n",
       "    <tr>\n",
       "      <th>8</th>\n",
       "      <td>49</td>\n",
       "      <td>9735633</td>\n",
       "      <td>Excelente</td>\n",
       "      <td>0.72</td>\n",
       "      <td>20</td>\n",
       "      <td>Casado</td>\n",
       "      <td>1</td>\n",
       "    </tr>\n",
       "    <tr>\n",
       "      <th>9</th>\n",
       "      <td>29</td>\n",
       "      <td>1613195</td>\n",
       "      <td>Excelente</td>\n",
       "      <td>0.04</td>\n",
       "      <td>6</td>\n",
       "      <td>Soltero</td>\n",
       "      <td>1</td>\n",
       "    </tr>\n",
       "    <tr>\n",
       "      <th>10</th>\n",
       "      <td>52</td>\n",
       "      <td>4891184</td>\n",
       "      <td>Excelente</td>\n",
       "      <td>0.39</td>\n",
       "      <td>29</td>\n",
       "      <td>Casado</td>\n",
       "      <td>1</td>\n",
       "    </tr>\n",
       "    <tr>\n",
       "      <th>11</th>\n",
       "      <td>54</td>\n",
       "      <td>1471280</td>\n",
       "      <td>Excelente</td>\n",
       "      <td>0.07</td>\n",
       "      <td>27</td>\n",
       "      <td>Casado</td>\n",
       "      <td>1</td>\n",
       "    </tr>\n",
       "    <tr>\n",
       "      <th>12</th>\n",
       "      <td>44</td>\n",
       "      <td>2911513</td>\n",
       "      <td>Excelente</td>\n",
       "      <td>0.23</td>\n",
       "      <td>5</td>\n",
       "      <td>Soltero</td>\n",
       "      <td>0</td>\n",
       "    </tr>\n",
       "    <tr>\n",
       "      <th>13</th>\n",
       "      <td>35</td>\n",
       "      <td>8807602</td>\n",
       "      <td>Excelente</td>\n",
       "      <td>0.62</td>\n",
       "      <td>21</td>\n",
       "      <td>Casado</td>\n",
       "      <td>1</td>\n",
       "    </tr>\n",
       "    <tr>\n",
       "      <th>14</th>\n",
       "      <td>58</td>\n",
       "      <td>8252327</td>\n",
       "      <td>Excelente</td>\n",
       "      <td>1.00</td>\n",
       "      <td>13</td>\n",
       "      <td>Casado</td>\n",
       "      <td>0</td>\n",
       "    </tr>\n",
       "    <tr>\n",
       "      <th>15</th>\n",
       "      <td>60</td>\n",
       "      <td>9161697</td>\n",
       "      <td>Excelente</td>\n",
       "      <td>0.80</td>\n",
       "      <td>28</td>\n",
       "      <td>Divorciado</td>\n",
       "      <td>0</td>\n",
       "    </tr>\n",
       "    <tr>\n",
       "      <th>16</th>\n",
       "      <td>21</td>\n",
       "      <td>9533760</td>\n",
       "      <td>Excelente</td>\n",
       "      <td>0.26</td>\n",
       "      <td>18</td>\n",
       "      <td>Casado</td>\n",
       "      <td>0</td>\n",
       "    </tr>\n",
       "    <tr>\n",
       "      <th>17</th>\n",
       "      <td>18</td>\n",
       "      <td>6301142</td>\n",
       "      <td>Excelente</td>\n",
       "      <td>0.01</td>\n",
       "      <td>2</td>\n",
       "      <td>Soltero</td>\n",
       "      <td>0</td>\n",
       "    </tr>\n",
       "    <tr>\n",
       "      <th>18</th>\n",
       "      <td>64</td>\n",
       "      <td>1599930</td>\n",
       "      <td>Excelente</td>\n",
       "      <td>0.52</td>\n",
       "      <td>15</td>\n",
       "      <td>Casado</td>\n",
       "      <td>0</td>\n",
       "    </tr>\n",
       "    <tr>\n",
       "      <th>19</th>\n",
       "      <td>57</td>\n",
       "      <td>3243964</td>\n",
       "      <td>Excelente</td>\n",
       "      <td>0.74</td>\n",
       "      <td>27</td>\n",
       "      <td>Soltero</td>\n",
       "      <td>0</td>\n",
       "    </tr>\n",
       "    <tr>\n",
       "      <th>20</th>\n",
       "      <td>20</td>\n",
       "      <td>4463849</td>\n",
       "      <td>Excelente</td>\n",
       "      <td>0.13</td>\n",
       "      <td>24</td>\n",
       "      <td>Casado</td>\n",
       "      <td>0</td>\n",
       "    </tr>\n",
       "  </tbody>\n",
       "</table>\n",
       "</div>"
      ],
      "text/plain": [
       "    Edad  IngresosMensuales HistorialCrediticio  NivelEndeudamiento  \\\n",
       "1     36            6663021           Excelente                0.40   \n",
       "2     53            9001461           Excelente                0.56   \n",
       "3     24            1497631           Excelente                0.42   \n",
       "4     56            4847717           Excelente                0.27   \n",
       "5     52            2114114           Excelente                0.86   \n",
       "6     31            5812135           Excelente                0.67   \n",
       "7     29            5054633           Excelente                0.57   \n",
       "8     49            9735633           Excelente                0.72   \n",
       "9     29            1613195           Excelente                0.04   \n",
       "10    52            4891184           Excelente                0.39   \n",
       "11    54            1471280           Excelente                0.07   \n",
       "12    44            2911513           Excelente                0.23   \n",
       "13    35            8807602           Excelente                0.62   \n",
       "14    58            8252327           Excelente                1.00   \n",
       "15    60            9161697           Excelente                0.80   \n",
       "16    21            9533760           Excelente                0.26   \n",
       "17    18            6301142           Excelente                0.01   \n",
       "18    64            1599930           Excelente                0.52   \n",
       "19    57            3243964           Excelente                0.74   \n",
       "20    20            4463849           Excelente                0.13   \n",
       "\n",
       "    AntiguedadLaboral EstadoCivil  OtorgarTarjeta  \n",
       "1                   4      Casado               1  \n",
       "2                  11     Soltero               0  \n",
       "3                  16     Soltero               0  \n",
       "4                  19      Casado               1  \n",
       "5                   7     Soltero               0  \n",
       "6                   1     Soltero               0  \n",
       "7                  11      Casado               1  \n",
       "8                  20      Casado               1  \n",
       "9                   6     Soltero               1  \n",
       "10                 29      Casado               1  \n",
       "11                 27      Casado               1  \n",
       "12                  5     Soltero               0  \n",
       "13                 21      Casado               1  \n",
       "14                 13      Casado               0  \n",
       "15                 28  Divorciado               0  \n",
       "16                 18      Casado               0  \n",
       "17                  2     Soltero               0  \n",
       "18                 15      Casado               0  \n",
       "19                 27     Soltero               0  \n",
       "20                 24      Casado               0  "
      ]
     },
     "execution_count": 6,
     "metadata": {},
     "output_type": "execute_result"
    }
   ],
   "source": [
    "#recordemos el dataset artificial obtenido la semana pasada\n",
    "import numpy as np # calculo numérico, vectorial y matricial \n",
    "import pandas as pd # manejo y gestión de datos a través de series y dataframe \n",
    "\n",
    "# Fijamos semilla para reproducibilidad\n",
    "np.random.seed(702)\n",
    "\n",
    "# Número de muestras\n",
    "n_samples = 20\n",
    "\n",
    "# Variables simuladas\n",
    "edad = np.random.randint(18, 70, n_samples)\n",
    "ingresos_mensuales = np.random.randint(1_423_500, 10_000_000, n_samples) # ingreso en dólares por mes entre 2 y 8 millones de pesos y  \n",
    "historial_crediticio = np.random.choice(['Excelente', 'Regular', 'Malo'], n_samples, p=[1.0, 0.0, 0.0])\n",
    "nivel_endeudamiento = np.round(np.random.uniform(0, 1, n_samples), 2)\n",
    "antiguedad_laboral = np.random.randint(0, 30, n_samples)\n",
    "estado_civil = np.random.choice(['Soltero', 'Casado', 'Divorciado'], n_samples, p=[0.5, 0.4, 0.1])\n",
    "\n",
    "# Regla simple para asignar la etiqueta (aprobado = 1, rechazado = 0)\n",
    "prob_aprobacion = (\n",
    "    0.4*(edad > 25) +\n",
    "    0.3*(ingresos_mensuales > 2_700_000) +\n",
    "    0.2*(historial_crediticio == 'Bueno') -\n",
    "    0.3*(nivel_endeudamiento > 0.6)\n",
    ")\n",
    "\n",
    "prob_aprobacion = np.clip(prob_aprobacion, 0, 1)\n",
    "aprobacion = np.random.binomial(1, prob_aprobacion)\n",
    "\n",
    "# Crear DataFrame\n",
    "df = pd.DataFrame({\n",
    "    'Edad': edad,\n",
    "    'IngresosMensuales': ingresos_mensuales,\n",
    "    'HistorialCrediticio': historial_crediticio,\n",
    "    'NivelEndeudamiento': nivel_endeudamiento,\n",
    "    'AntiguedadLaboral': antiguedad_laboral,\n",
    "    'EstadoCivil': estado_civil,\n",
    "    'OtorgarTarjeta': aprobacion\n",
    "})\n",
    "\n",
    "df.index = range(1, len(df)+1)\n",
    "df.head(20)\n"
   ]
  },
  {
   "cell_type": "markdown",
   "id": "7c263e1c",
   "metadata": {},
   "source": [
    "\n",
    "## Agenda\n",
    "\n",
    "1. Estructuras de datos incorporadas en Python \n",
    "2. Recordar el dataset creado artificialmente \n",
    "3. Visualización de los datos por cada dos atributos predictores. \n",
    "4. Mostrar el entrenamiento del modelo de máquina de soporte vectorial con tres graficos comparativos de modelos de clasificación binaria hasta llegar a el de mejores vectores de soporte. \n",
    "5. Mostrar el entrenamiento con un perceptron o solo una neurona. \n",
    "6. Mostrar el entrenamiento con redes neuronales secuenciales. "
   ]
  },
  {
   "cell_type": "markdown",
   "id": "27d608e8",
   "metadata": {},
   "source": [
    "# Guía didáctica para aprender sobre Estructuras de datos básicas o incorporadas en Python    \n",
    "\n",
    "\n"
   ]
  },
  {
   "cell_type": "markdown",
   "id": "a304515d",
   "metadata": {},
   "source": [
    "\n",
    "# Guía Didáctica: Estructuras de Datos Básicas en Python\n"
   ]
  },
  {
   "cell_type": "markdown",
   "id": "7708a63a",
   "metadata": {},
   "source": [
    "\n",
    "## Objetivo de aprendizaje\n",
    "\n",
    "Que los estudiantes comprendan, manipulen y apliquen las estructuras de datos incorporadas en Python —`list`, `tuple`, `dict`, `set` y `str`— para modelar, organizar y analizar información en problemas matemáticos, de ciencia de datos y de aplicaciones reales.\n",
    "\n",
    "---\n"
   ]
  },
  {
   "cell_type": "markdown",
   "id": "8b4a86c9",
   "metadata": {},
   "source": [
    "\n",
    "## 1️⃣ Introducción (lectura previa a clase)\n",
    "\n",
    "En Python, las **estructuras de datos básicas** permiten almacenar y organizar información.\n",
    "Son como “contenedores” que se adaptan al tipo de problema que se quiera resolver:\n",
    "\n",
    "* **Listas (`list`)**: colecciones ordenadas y mutables.\n",
    "* **Tuplas (`tuple`)**: colecciones ordenadas e inmutables.\n",
    "* **Conjuntos (`set`)**: colecciones no ordenadas de elementos únicos.\n",
    "* **Diccionarios (`dict`)**: pares clave–valor, como un “mapa” de datos.\n",
    "* **Cadenas (`str`)**: secuencias de caracteres, útiles para representar texto.\n",
    "\n",
    "---\n"
   ]
  },
  {
   "cell_type": "markdown",
   "id": "599efba5",
   "metadata": {},
   "source": [
    "\n",
    "## 2️⃣ Motivación con ABP (pregunta disparadora)\n",
    "\n",
    "**Problema:**\n",
    "Imagina que tienes que organizar la información de un grupo de estudiantes para trabajar en equipo:\n",
    "\n",
    "* Sus nombres.\n",
    "* El número de ejercicios que cada uno tiene asignado.\n",
    "* La lista de problemas que cada estudiante ya resolvió.\n",
    "\n",
    "👉 ¿Qué estructura de datos elegirías para cada caso?\n",
    "\n",
    "---\n"
   ]
  },
  {
   "cell_type": "markdown",
   "id": "c87cb004",
   "metadata": {},
   "source": [
    "\n",
    "## 3️⃣ Explicación paso a paso con ejemplos\n",
    "\n",
    "### 🔹 Listas\n"
   ]
  },
  {
   "cell_type": "code",
   "execution_count": 8,
   "id": "c8571988",
   "metadata": {},
   "outputs": [
    {
     "name": "stdout",
     "output_type": "stream",
     "text": [
      "Ana\n",
      "['Ana', 'Luis', 'María', 'Carlos', 'Julián']\n"
     ]
    }
   ],
   "source": [
    "estudiantes = [\"Ana\", \"Luis\", \"María\", \"Carlos\"]\n",
    "print(estudiantes[0])   # Ana\n",
    "estudiantes.append(\"Julián\")\n",
    "print(estudiantes)\n",
    "\n"
   ]
  },
  {
   "cell_type": "markdown",
   "id": "48f0c3bf",
   "metadata": {},
   "source": [
    "\n",
    "✔️ Útiles cuando necesitamos **agregar o modificar** elementos.\n",
    "\n",
    "---\n"
   ]
  },
  {
   "cell_type": "markdown",
   "id": "16671809",
   "metadata": {},
   "source": [
    "\n",
    "### 🔹 Tuplas\n",
    "\n",
    "```python\n",
    "coordenada = (4, 5)\n",
    "print(coordenada[0])  # 4\n",
    "# coordenada[0] = 7  ❌ Error: no se puede modificar\n",
    "```\n",
    "\n",
    "✔️ Se usan para datos que **no deben cambiar**, como coordenadas o fechas.\n",
    "\n",
    "---\n",
    "\n",
    "### 🔹 Conjuntos\n",
    "\n",
    "```python\n",
    "ejercicios_resueltos = {1, 2, 3, 5, 5, 6}\n",
    "print(ejercicios_resueltos)  # {1, 2, 3, 5, 6}\n",
    "```\n",
    "\n",
    "✔️ Evitan duplicados, útiles para comparar y hacer operaciones como unión e intersección.\n",
    "\n",
    "---\n"
   ]
  },
  {
   "cell_type": "markdown",
   "id": "872b0c39",
   "metadata": {},
   "source": [
    "\n",
    "### 🔹 Diccionarios\n"
   ]
  },
  {
   "cell_type": "code",
   "execution_count": null,
   "id": "89bac420",
   "metadata": {},
   "outputs": [],
   "source": [
    "\n",
    "\n",
    "asignaciones = {\n",
    "    \"Ana\": [1, 2, 3],\n",
    "    \"Luis\": [4, 5, 6],\n",
    "}\n",
    "print(asignaciones[\"Luis\"])  # [4, 5, 6]\n",
    "\n"
   ]
  },
  {
   "cell_type": "markdown",
   "id": "bc8fa47b",
   "metadata": {},
   "source": [
    "\n",
    "✔️ Sirven para relacionar datos, como estudiantes y sus ejercicios asignados.\n"
   ]
  },
  {
   "cell_type": "markdown",
   "id": "2c6c898e",
   "metadata": {},
   "source": [
    "\n",
    "---\n",
    "\n",
    "### 🔹 Cadenas\n"
   ]
  },
  {
   "cell_type": "code",
   "execution_count": 7,
   "id": "4f60955a",
   "metadata": {},
   "outputs": [
    {
     "name": "stdout",
     "output_type": "stream",
     "text": [
      "PYTHON ES PODEROSO\n",
      "['Python', 'es', 'poderoso']\n"
     ]
    }
   ],
   "source": [
    "\n",
    "mensaje = \"Python es poderoso\"\n",
    "print(mensaje.upper())   # PYTHON ES PODEROSO\n",
    "print(mensaje.split())   # ['Python', 'es', 'poderoso']\n",
    "\n"
   ]
  },
  {
   "cell_type": "markdown",
   "id": "121f2736",
   "metadata": {},
   "source": [
    "\n",
    "✔️ Ideales para procesar y analizar texto.\n",
    "\n",
    "---\n"
   ]
  },
  {
   "cell_type": "markdown",
   "id": "b13d83a9",
   "metadata": {},
   "source": [
    "\n",
    "## 4️⃣ Actividades prácticas (en Jupyter Notebook)\n",
    "\n",
    "1. **Listas:** crea una lista con los nombres de los 19 estudiantes de tu curso y agrega un estudiante nuevo.\n",
    "2. **Tuplas:** define una tupla con las coordenadas del dron agrícola que toma imágenes aéreas en una parcela.\n",
    "3. **Conjuntos:** modela el conjunto de ejercicios que ya resolvió un estudiante y el conjunto que aún no ha resuelto.\n",
    "4. **Diccionarios:** asigna a cada estudiante de tu grupo algunos ejercicios del libro de Swokowski (como ya lo programaste).\n",
    "5. **Cadenas:** procesa un texto corto (p.ej., un título de un artículo) para contar cuántas palabras tiene.\n",
    "\n",
    "---\n"
   ]
  },
  {
   "cell_type": "markdown",
   "id": "480dd6ee",
   "metadata": {},
   "source": [
    "\n",
    "## 5️⃣ Trabajo colaborativo\n",
    "\n",
    "En equipos de 3:\n",
    "\n",
    "* Cada equipo explica a los demás **qué estructura de datos usó** para resolver un problema real (puede ser de matemáticas, agro, o datos de la vida cotidiana).\n",
    "* Comparan ventajas y desventajas de cada estructura.\n",
    "\n",
    "---\n"
   ]
  },
  {
   "cell_type": "markdown",
   "id": "53b29297",
   "metadata": {},
   "source": [
    "\n",
    "## 6️⃣ Evaluación formativa\n",
    "\n",
    "* Entrega de un **Notebook con ejemplos prácticos**.\n",
    "* Pregunta reflexiva: *“¿Cómo elegirías entre lista, conjunto y diccionario para organizar los datos de un censo de árboles en un cultivo?”*\n",
    "\n",
    "---\n"
   ]
  },
  {
   "cell_type": "markdown",
   "id": "52a81329",
   "metadata": {},
   "source": [
    "\n",
    "## 📌 Recomendaciones pedagógicas\n",
    "\n",
    "* Usa **ejemplos cercanos** (ejercicios, notas, coordenadas de drones, censos agrícolas).\n",
    "* Promueve el **aprendizaje activo**: los estudiantes deben probar el código, equivocarse y corregir.\n",
    "* Refuerza con **representaciones semióticas (Duval)**: tablas (listas), diagramas de Venn (conjuntos), mapas (diccionarios).\n",
    "\n",
    "---\n",
    "\n",
    "¿Quieres que te prepare este material en un **Notebook listo para GitHub y Colab**, con código + actividades, para que tus estudiantes lo trabajen directamente?\n"
   ]
  }
 ],
 "metadata": {
  "kernelspec": {
   "display_name": ".venv",
   "language": "python",
   "name": "python3"
  },
  "language_info": {
   "codemirror_mode": {
    "name": "ipython",
    "version": 3
   },
   "file_extension": ".py",
   "mimetype": "text/x-python",
   "name": "python",
   "nbconvert_exporter": "python",
   "pygments_lexer": "ipython3",
   "version": "3.11.9"
  }
 },
 "nbformat": 4,
 "nbformat_minor": 5
}
