{
 "cells": [
  {
   "cell_type": "markdown",
   "id": "c3875164",
   "metadata": {},
   "source": [
    "# Lectura Experimental al capítulo 10 de Geron"
   ]
  },
  {
   "cell_type": "markdown",
   "id": "114a68f5",
   "metadata": {},
   "source": [
    "Aquí tienes la traducción al español del texto de Géron, manteniendo un tono profesional y claro:\n",
    "\n"
   ]
  },
  {
   "cell_type": "markdown",
   "id": "76ca7628",
   "metadata": {},
   "source": [
    "\n",
    "\n",
    "### **Introducción a las Redes Neuronales Artificiales con Keras**  \n"
   ]
  },
  {
   "cell_type": "markdown",
   "id": "69a9b34a",
   "metadata": {},
   "source": [
    "\n",
    "Los pájaros nos inspiraron para volar, los cardos inspiraron el velcro, y muchas otras invenciones surgieron de la naturaleza. "
   ]
  },
  {
   "cell_type": "markdown",
   "id": "0a83ea3f",
   "metadata": {},
   "source": [
    "Parece lógico, entonces, buscar inspiración en la arquitectura del cerebro para construir máquinas inteligentes. "
   ]
  },
  {
   "cell_type": "markdown",
   "id": "2dd2a0a6",
   "metadata": {},
   "source": [
    "Esta es la idea clave que dio origen a las **redes neuronales artificiales (RNA)**. "
   ]
  },
  {
   "cell_type": "markdown",
   "id": "fe04f341",
   "metadata": {},
   "source": [
    "Sin embargo, así como los aviones no necesitan batir sus alas aunque se inspiraron en las aves, las RNA también han evolucionado hasta distanciarse de sus parientes biológicos."
   ]
  },
  {
   "cell_type": "markdown",
   "id": "35a722b2",
   "metadata": {},
   "source": [
    " Algunos investigadores incluso argumentan que deberíamos abandonar la analogía biológica (por ejemplo, usando \"unidades\" en lugar de \"neuronas\") para no limitar nuestra creatividad a sistemas biológicamente plausibles.  \n"
   ]
  },
  {
   "cell_type": "markdown",
   "id": "085843b6",
   "metadata": {},
   "source": [
    "\n",
    "Las RNA son el núcleo del **aprendizaje profundo (Deep Learning)**. Son versátiles, potentes y escalables, lo que las hace ideales para abordar tareas complejas de aprendizaje automático, como:  \n",
    "- Clasificar miles de millones de imágenes (ej. Google Images).  \n",
    "- Potenciar servicios de reconocimiento de voz (ej. Siri de Apple).  \n",
    "- Recomendar videos a cientos de millones de usuarios diariamente (ej. YouTube).  \n",
    "- Aprender a vencer al campeón mundial de Go mediante millones de partidas contra sí misma (ej. AlphaZero de DeepMind).  \n"
   ]
  },
  {
   "cell_type": "markdown",
   "id": "ca21ddb7",
   "metadata": {},
   "source": [
    "\n",
    "*Puedes aprovechar lo mejor de ambos mundos: inspirarte en la biología sin miedo a crear modelos no biológicos, siempre que funcionen bien.*  \n",
    "\n"
   ]
  },
  {
   "cell_type": "markdown",
   "id": "d5cca954",
   "metadata": {},
   "source": [
    "  \n",
    "\n",
    "### **Estructura del Capítulo**  \n",
    "En la primera parte, exploraremos las redes neuronales artificiales, comenzando con un recorrido por las primeras arquitecturas de RNA hasta llegar a los **Perceptrones Multicapa (MLP)**, ampliamente utilizados hoy (otras arquitecturas se analizarán en capítulos posteriores).  \n"
   ]
  },
  {
   "cell_type": "markdown",
   "id": "ab27bbb0",
   "metadata": {},
   "source": [
    "\n",
    "En la segunda parte, veremos cómo implementar redes neuronales usando la API de **Keras**, una interfaz elegante y sencilla para construir, entrenar, evaluar y ejecutar redes neuronales. "
   ]
  },
  {
   "cell_type": "markdown",
   "id": "cf3823bb",
   "metadata": {},
   "source": [
    "No te dejes engañar por su simplicidad: es lo suficientemente expresiva y flexible para crear una amplia variedad de arquitecturas. "
   ]
  },
  {
   "cell_type": "markdown",
   "id": "1b3cb9fd",
   "metadata": {},
   "source": [
    "De hecho, probablemente cubrirá la mayoría de tus necesidades. Y si requieres mayor flexibilidad, siempre puedes desarrollar componentes personalizados con la API de bajo nivel de Keras (como veremos en el Capítulo 12).  \n"
   ]
  },
  {
   "cell_type": "markdown",
   "id": "b1c5abc9",
   "metadata": {},
   "source": [
    "\n",
    "Pero primero, viajemos atrás en el tiempo para entender cómo surgieron las redes neuronales artificiales.  \n",
    "\n"
   ]
  },
  {
   "cell_type": "markdown",
   "id": "ce6e202e",
   "metadata": {},
   "source": [
    " \n",
    "\n",
    "**Notas adicionales:**  \n",
    "- Se adaptaron términos técnicos (ej. *\"Early Release\"* → *\"lanzamiento anticipado\"*, *\"units\"* → *\"unidades\"*).  \n",
    "- Se mantuvo el tono pedagógico del original, con ejemplos concretos para claridad.  \n",
    "- Las referencias numéricas (como el <sup>1</sup>) se conservaron para coherencia.  \n",
    "\n"
   ]
  },
  {
   "cell_type": "markdown",
   "id": "15516671",
   "metadata": {},
   "source": []
  }
 ],
 "metadata": {
  "language_info": {
   "name": "python"
  }
 },
 "nbformat": 4,
 "nbformat_minor": 5
}
