{
 "cells": [
  {
   "cell_type": "markdown",
   "metadata": {
    "slideshow": {
     "slide_type": "slide"
    }
   },
   "source": [
    "<table align=\"left\">\n",
    "  <td>\n",
    "    <a href=\"https://colab.research.google.com/github/marco-canas/didactica_ciencia_datos/blob/main/1_curso_machine_learning/1_python/1_datos/1_str/1_datos_tipo_str.ipynb\" target=\"_parent\"><img src=\"https://colab.research.google.com/assets/colab-badge.svg\" alt=\"Open In Colab\"/></a>\n",
    "  </td>\n",
    "</table>"
   ]
  },
  {
   "cell_type": "markdown",
   "metadata": {
    "slideshow": {
     "slide_type": "slide"
    }
   },
   "source": [
    "### [Video de apoyo a la lectura interactiva y experimental de este cuaderno](https://www.youtube.com/watch?v=ZmJ0BFBtwq8)\n",
    "### [Segundo video de apoyo a la lectura interactiva y experimental de este cuaderno](https://www.youtube.com/watch?v=U_useLIdQ_A)\n",
    "### [Tercer video de apoyo a la lectura de este cuaderno](https://www.youtube.com/watch?v=NGmFW-eHAyc)"
   ]
  },
  {
   "cell_type": "markdown",
   "metadata": {
    "slideshow": {
     "slide_type": "slide"
    }
   },
   "source": [
    "## [Vínculo al programa del curso en Machine Leaning y ciencia de datos](https://github.com/marco-canas/didactica_ciencia_datos/blob/main/1_curso_machine_learning/0_plan_del_curso/1_programa_curso_machine_learning_python.ipynb)"
   ]
  },
  {
   "cell_type": "markdown",
   "metadata": {
    "slideshow": {
     "slide_type": "slide"
    }
   },
   "source": [
    "# Modelo general de clase: [Aprendizaje invertido](https://www3.gobiernodecanarias.org/medusa/ecoescuela/pedagotic/aprendizaje-invertido-flipped-classroom/)"
   ]
  },
  {
   "cell_type": "markdown",
   "metadata": {
    "slideshow": {
     "slide_type": "slide"
    }
   },
   "source": [
    "## Fomento al desarrollo de habilidades de comunicación: \n",
    "\n",
    "[El arte de negociar sin ceder](https://github.com/marco-canas/el_arte_de_aprender_a_negociar)  \n"
   ]
  },
  {
   "cell_type": "markdown",
   "metadata": {
    "slideshow": {
     "slide_type": "slide"
    }
   },
   "source": [
    "# Título de la clase:  El tipo de dato string "
   ]
  },
  {
   "cell_type": "markdown",
   "metadata": {},
   "source": [
    "### Objetivo de aprendizaje (Enunciar, de manera corta sencilla y clara para todos los asistentes)\n",
    "\n",
    "* Crear variables de tipo string para guardar datos de forma verbal y no numérica. \n",
    "* manipular datos de tipo str con las funciones de la libería estandar de Python. "
   ]
  },
  {
   "cell_type": "code",
   "execution_count": null,
   "metadata": {},
   "outputs": [],
   "source": [
    "from graphviz import Digraph\n",
    "\n",
    "# Crear una instancia del gráfico dirigido\n",
    "mapa_conceptual = Digraph(\"MapaConceptual\")\n",
    "\n",
    "# Establecer el estilo general del gráfico\n",
    "mapa_conceptual.attr(rankdir='LR')\n",
    "mapa_conceptual.attr('node', shape='ellipse', style='filled', color='lightblue', fontname=\"Arial\")\n",
    "\n",
    "# Definir los nodos principales\n",
    "nodos = ['Python', 'Estadística', 'Visualización', 'Preprocesamiento', 'Regresión', 'Clasificación']\n",
    "for nodo in nodos:\n",
    "    mapa_conceptual.node(nodo)\n",
    "\n",
    "# Definir las relaciones entre nodos\n",
    "relaciones = [\n",
    "    ('Python', 'Estadística'),\n",
    "    ('Estadística', 'Visualización'),\n",
    "    ('Python', 'Preprocesamiento'),\n",
    "    ('Preprocesamiento', 'Regresión'),\n",
    "    ('Preprocesamiento', 'Clasificación'),\n",
    "    ('Estadística', 'Regresión'),\n",
    "    ('Estadística', 'Clasificación'),\n",
    "    ('Visualización', 'Regresión'),\n",
    "    ('Visualización', 'Clasificación')\n",
    "]\n",
    "\n",
    "for origen, destino in relaciones:\n",
    "    mapa_conceptual.edge(origen, destino)\n",
    "\n",
    "# Renderizar y mostrar el gráfico\n",
    "mapa_conceptual.render('mapa_conceptual', format='png', view=True)\n"
   ]
  },
  {
   "cell_type": "code",
   "execution_count": null,
   "metadata": {},
   "outputs": [],
   "source": [
    "# Ubicacion de donde están en el curso\n",
    "from graphviz import Digraph\n",
    "\n",
    "# Crear un nuevo grafo dirigido\n",
    "dot = Digraph()\n",
    "\n",
    "# Añadir nodos y relaciones al grafo\n",
    "dot.node('A', 'Python')\n",
    "dot.node('B', 'Tipos de editores de código')\n",
    "dot.node('C', 'Tipos de datos')\n",
    "dot.node('D', 'Datos tipo str')\n",
    "\n",
    "dot.edges(['AB', 'BC', 'CD'])\n",
    "\n",
    "\n",
    "# Guardar el grafo como un archivo de imagen\n",
    "dot.render(filename='ecuaciones', format='png', cleanup=True, \\\n",
    "           directory='C:/Users/marco/Documentos/investigacion/')\n",
    "\n",
    "dot.view()\n"
   ]
  },
  {
   "cell_type": "markdown",
   "metadata": {
    "slideshow": {
     "slide_type": "slide"
    }
   },
   "source": [
    "## Cuestionario para realizar labores de memorización, observación y síntesis de la información (Además de diagnóstico)\n"
   ]
  },
  {
   "cell_type": "markdown",
   "metadata": {},
   "source": [
    "\n",
    "Este es un cuestionario sobre los tipos de datos de cadenas (strings) en Python, junto con las respuestas correspondientes. Puedes usarlo como material para tu seminario:\n",
    "\n",
    "### Cuestionario sobre Tipos de Datos String en Python\n"
   ]
  },
  {
   "cell_type": "markdown",
   "metadata": {},
   "source": [
    "\n",
    "#### Pregunta 1:\n",
    "¿Cómo se define una cadena (string) en Python?\n",
    "\n",
    "a) Utilizando corchetes `{}`.\n",
    "\n",
    "b) Con comillas simples (`' '`) o comillas dobles (`\" \"`).\n",
    "\n",
    "c) Usando paréntesis `()`.\n",
    "\n",
    "**Respuesta:** b) Con comillas simples (`' '`) o comillas dobles (`\" \"`).\n",
    "\n",
    "---\n"
   ]
  },
  {
   "cell_type": "code",
   "execution_count": null,
   "metadata": {},
   "outputs": [],
   "source": [
    "nombre_estudiante = 'idalina navarro' "
   ]
  },
  {
   "cell_type": "code",
   "execution_count": null,
   "metadata": {},
   "outputs": [],
   "source": []
  },
  {
   "cell_type": "code",
   "execution_count": null,
   "metadata": {},
   "outputs": [],
   "source": [
    "print(nombre_estudiante[1]) "
   ]
  },
  {
   "cell_type": "code",
   "execution_count": null,
   "metadata": {},
   "outputs": [],
   "source": [
    "edad_estudiante = 22"
   ]
  },
  {
   "cell_type": "code",
   "execution_count": null,
   "metadata": {},
   "outputs": [],
   "source": [
    "edad_estudiante"
   ]
  },
  {
   "cell_type": "code",
   "execution_count": null,
   "metadata": {},
   "outputs": [],
   "source": [
    "type(edad_estudiante)"
   ]
  },
  {
   "cell_type": "code",
   "execution_count": null,
   "metadata": {},
   "outputs": [],
   "source": [
    "estatura_estudiante = 1.55"
   ]
  },
  {
   "cell_type": "code",
   "execution_count": null,
   "metadata": {},
   "outputs": [],
   "source": [
    "type(estatura_estudiante)"
   ]
  },
  {
   "cell_type": "markdown",
   "metadata": {},
   "source": [
    "\n",
    "#### Pregunta 2:\n",
    "¿Cuál es la función de la función `len()` en relación con las cadenas?\n",
    "\n",
    "a) Convierte una cadena a minúsculas.\n",
    "\n",
    "b) Devuelve la longitud (número de caracteres) de una cadena.\n",
    "\n",
    "c) Elimina espacios en blanco al principio y al final de una cadena.\n",
    "\n",
    "**Respuesta:** b) Devuelve la longitud (número de caracteres) de una cadena.\n",
    "\n",
    "---\n"
   ]
  },
  {
   "cell_type": "markdown",
   "metadata": {},
   "source": [
    "\n",
    "#### Pregunta 3:\n",
    "¿Cómo se concatenan dos cadenas en Python?\n",
    "\n",
    "a) Utilizando el operador `&`.\n",
    "\n",
    "b) Con la función `concat()`.\n",
    "\n",
    "c) Usando el operador `+`.\n",
    "\n",
    "**Respuesta:** c) Usando el operador `+`.\n",
    "\n",
    "---\n"
   ]
  },
  {
   "cell_type": "markdown",
   "metadata": {},
   "source": [
    "\n",
    "#### Pregunta 4:\n",
    "¿Cuál es la función de `str.upper()` en Python?\n",
    "\n",
    "a) Convierte una cadena a minúsculas.\n",
    "\n",
    "b) Convierte una cadena a mayúsculas.\n",
    "\n",
    "c) Invierte una cadena.\n",
    "\n",
    "**Respuesta:** b) Convierte una cadena a mayúsculas.\n",
    "\n",
    "---\n"
   ]
  },
  {
   "cell_type": "markdown",
   "metadata": {},
   "source": [
    "\n",
    "#### Pregunta 5:\n",
    "¿Cómo se accede al primer carácter de una cadena en Python?\n",
    "\n",
    "a) `cadena[0]`.\n",
    "\n",
    "b) `cadena[1]`.\n",
    "\n",
    "c) `cadena[-1]`.\n",
    "\n",
    "**Respuesta:** a) `cadena[0]`.\n",
    "\n",
    "---\n"
   ]
  },
  {
   "cell_type": "markdown",
   "metadata": {},
   "source": [
    "\n",
    "#### Pregunta 6:\n",
    "¿Qué método se utiliza para reemplazar parte de una cadena con otra?\n",
    "\n",
    "a) `replace()`.\n",
    "\n",
    "b) `substitute()`.\n",
    "\n",
    "c) `switch()`.\n",
    "\n",
    "**Respuesta:** a) `replace()`.\n",
    "\n",
    "---\n"
   ]
  },
  {
   "cell_type": "markdown",
   "metadata": {},
   "source": [
    "\n",
    "#### Pregunta 7:\n",
    "¿Cómo se verifica si una subcadena está presente en una cadena más grande?\n",
    "\n",
    "a) Utilizando `search()`.\n",
    "\n",
    "b) Con `find()`.\n",
    "\n",
    "c) Usando `in`.\n",
    "\n",
    "**Respuesta:** c) Usando `in`.\n",
    "\n",
    "---\n"
   ]
  },
  {
   "cell_type": "markdown",
   "metadata": {},
   "source": [
    "\n",
    "#### Pregunta 8:\n",
    "¿Cuál es el resultado de `\"Hola, mundo!\".split(\",\")`?\n",
    "\n",
    "a) `[\"Hola\", \"mundo!\"]`.\n",
    "\n",
    "b) `\"Hola mundo!\"`.\n",
    "\n",
    "c) `(\"Hola\", \"mundo!\")`.\n",
    "\n",
    "**Respuesta:** a) `[\"Hola\", \"mundo!\"]`.\n",
    "\n",
    "---\n"
   ]
  },
  {
   "cell_type": "markdown",
   "metadata": {},
   "source": [
    "\n",
    "#### Pregunta 9:\n",
    "¿Qué método se utiliza para eliminar espacios en blanco al principio y al final de una cadena?\n",
    "\n",
    "a) `trim()`.\n",
    "\n",
    "b) `strip()`.\n",
    "\n",
    "c) `clean()`.\n",
    "\n",
    "**Respuesta:** b) `strip()`.\n",
    "\n",
    "---\n"
   ]
  },
  {
   "cell_type": "markdown",
   "metadata": {},
   "source": [
    "\n",
    "#### Pregunta 10:\n",
    "¿Cómo se invierte una cadena en Python?\n",
    "\n",
    "a) `cadena.reverse()`.\n",
    "\n",
    "b) `reverse(cadena)`.\n",
    "\n",
    "c) `cadena[::-1]`.\n",
    "\n",
    "**Respuesta:** c) `cadena[::-1]`."
   ]
  },
  {
   "cell_type": "markdown",
   "metadata": {
    "slideshow": {
     "slide_type": "slide"
    }
   },
   "source": [
    "## Establecimiento de prerrequisitos conceptuales para alcanzar el objetivo de aprendizaje trazado.   \n",
    "\n",
    "(Elabore una lista de preguntas al rededor de los conceptos que consideres necesarios para empezar la clase).  \n",
    "\n",
    "1. Identificar en el teclado de tú computador, las comillas simples y las comillas dobles. \n",
    "2. Saber definir variables de Python (no empezar con números, ni dejar espacios)\n"
   ]
  },
  {
   "cell_type": "markdown",
   "metadata": {},
   "source": [
    "\n",
    "\n",
    "Antes de enseñar los tipos de datos string en Python, es importante que los estudiantes tengan una comprensión sólida de algunos conceptos fundamentales en programación y Python en particular. Aquí hay una lista de prerrequisitos conceptuales recomendados:\n"
   ]
  },
  {
   "cell_type": "markdown",
   "metadata": {},
   "source": [
    "\n",
    "1. **Conceptos Básicos de Programación:**\n",
    "   - Variables y asignación.\n",
    "   - Tipos de datos básicos (enteros, flotantes, booleanos).\n",
    "   - Operadores aritméticos y lógicos.\n"
   ]
  },
  {
   "cell_type": "markdown",
   "metadata": {},
   "source": [
    "\n",
    "2. **Estructuras de Control de Flujo:**\n",
    "   - Condiciones (`if`, `else`, `elif`).\n",
    "   - Bucles (`for`, `while`).\n",
    "   - Control de flujo condicional y bucles anidados.\n"
   ]
  },
  {
   "cell_type": "markdown",
   "metadata": {},
   "source": [
    "\n",
    "3. **Funciones:**\n",
    "   - Declaración y llamada de funciones.\n",
    "   - Parámetros y argumentos.\n",
    "   - Retorno de valores.\n"
   ]
  },
  {
   "cell_type": "markdown",
   "metadata": {},
   "source": [
    "\n",
    "4. **Listas y Colecciones:**\n",
    "   - Listas y operaciones básicas.\n",
    "   - Índices y acceso a elementos.\n",
    "   - Iteración a través de listas.\n",
    "\n",
    "5. **Manejo de Errores:**\n",
    "   - Conocimiento básico de manejo de excepciones (`try`, `except`).\n",
    "\n",
    "6. **Introducción a Objetos:**\n",
    "   - Comprensión básica de objetos y clases.\n",
    "   - Métodos y atributos de objetos.\n",
    "\n",
    "7. **Sintaxis de Python:**\n",
    "   - Conocimiento de la sintaxis básica de Python.\n",
    "   - Comprensión de la importancia de la indentación.\n"
   ]
  },
  {
   "cell_type": "markdown",
   "metadata": {},
   "source": [
    "\n",
    "8. **Operaciones con Cadenas (String Operations):**\n",
    "   - Concatenación de cadenas.\n",
    "   - Formateo de cadenas.\n",
    "   - Métodos básicos de cadenas (mayúsculas, minúsculas, reemplazo, etc.).\n",
    "\n",
    "9. **Concepto de Índices y Slicing:**\n",
    "   - Entender cómo funcionan los índices en Python.\n",
    "   - Conocimiento de la técnica de \"slicing\" en cadenas.\n",
    "\n",
    "10. **Métodos de Listas y Tuplas:**\n",
    "    - Entender el concepto de métodos en Python.\n",
    "    - Relación entre los métodos de listas y tuplas y los métodos de cadenas.\n",
    "\n",
    "11. **Uso de Estructuras de Datos:**\n",
    "    - Comprender cómo las cadenas son una forma de estructura de datos en Python.\n",
    "    - Conocimiento básico de estructuras de datos en general.\n",
    "\n",
    "12. **Aplicaciones Prácticas:**\n",
    "    - Resolver problemas prácticos utilizando cadenas.\n",
    "    - Desarrollar pequeños programas que involucren la manipulación de cadenas.\n"
   ]
  },
  {
   "cell_type": "markdown",
   "metadata": {},
   "source": [
    "\n",
    "Estos prerrequisitos proporcionarán a los estudiantes la base necesaria para comprender y trabajar eficazmente con los tipos de datos string en Python. Asegúrate de abordar cualquier brecha en estos conceptos antes de profundizar en los temas específicos de cadenas."
   ]
  },
  {
   "cell_type": "markdown",
   "metadata": {
    "slideshow": {
     "slide_type": "slide"
    }
   },
   "source": [
    "# Para el diseño de la clase tenga en cuenta algunos problemas de aprendizaje\n",
    "\n",
    "Diferenciar entre definir una varible tipo string e imprimirla o mostrarla"
   ]
  },
  {
   "cell_type": "code",
   "execution_count": null,
   "metadata": {
    "slideshow": {
     "slide_type": "fragment"
    }
   },
   "outputs": [],
   "source": [
    "nombre = \"Marco\"# crear la variable"
   ]
  },
  {
   "cell_type": "code",
   "execution_count": null,
   "metadata": {
    "slideshow": {
     "slide_type": "slide"
    }
   },
   "outputs": [],
   "source": [
    "nombre # mostrar la variable"
   ]
  },
  {
   "cell_type": "code",
   "execution_count": null,
   "metadata": {
    "slideshow": {
     "slide_type": "slide"
    }
   },
   "outputs": [],
   "source": [
    "print(nombre) # segundo modo de una variable tipo string "
   ]
  },
  {
   "cell_type": "markdown",
   "metadata": {},
   "source": [
    "\n",
    "### 1. **Título**:\n",
    "   Manipulación de cadenas de texto (`str`) en Python: Creación, Operaciones y Aplicaciones en Ciencia de Datos.\n",
    "\n",
    "---\n"
   ]
  },
  {
   "cell_type": "markdown",
   "metadata": {},
   "source": [
    "\n",
    "#### 2. **Objetivo de Aprendizaje**:\n"
   ]
  },
  {
   "cell_type": "markdown",
   "metadata": {},
   "source": [
    "   Al finalizar la clase, los estudiantes serán capaces de crear y manipular variables de tipo `str` en Python y utilizar las funciones fundamentales para analizar y modificar textos, desarrollando habilidades útiles en la limpieza y transformación de datos de texto para proyectos de Machine Learning.\n",
    "\n",
    "---\n"
   ]
  },
  {
   "cell_type": "markdown",
   "metadata": {},
   "source": [
    "\n",
    "#### 3. **Contenido**:\n",
    "   - **Introducción a `str` en Python**: \n",
    "     - Cómo definir variables de tipo `str`\n",
    "     - Características principales del tipo de dato `str`\n"
   ]
  },
  {
   "cell_type": "markdown",
   "metadata": {},
   "source": [
    "### 3. **Contenido**\n"
   ]
  },
  {
   "cell_type": "markdown",
   "metadata": {},
   "source": [
    "\n",
    "#### **Introducción a `str` en Python**\n"
   ]
  },
  {
   "cell_type": "markdown",
   "metadata": {},
   "source": [
    "\n",
    "Esta sección cubrirá los aspectos fundamentales de las cadenas de caracteres (`str`) en Python, enfocándose en cómo definir y manipular variables de tipo `str`, así como en las características clave de este tipo de dato.\n"
   ]
  },
  {
   "cell_type": "markdown",
   "metadata": {},
   "source": [
    "\n",
    "##### **1. Cómo definir variables de tipo `str`**\n"
   ]
  },
  {
   "cell_type": "markdown",
   "metadata": {},
   "source": [
    "   - **Declaración básica**: Explicar que en Python se pueden definir cadenas de texto usando comillas simples (`'texto'`), comillas dobles (`\"texto\"`), o comillas triples (`'''texto'''` o `\"\"\"texto\"\"\"`). Las comillas triples permiten definir cadenas multilínea.\n",
    "   - **Ejemplo práctico**:\n"
   ]
  },
  {
   "cell_type": "code",
   "execution_count": null,
   "metadata": {},
   "outputs": [],
   "source": [
    "saludo = \"Hola, mundo\"   # Usando comillas dobles\n",
    "frase = 'Python es genial'  # Usando comillas simples\n",
    "poema = \"\"\"Este es\n",
    "un texto\n",
    "en varias líneas.\"\"\"  # Usando comillas triples para múltiples líneas"
   ]
  },
  {
   "cell_type": "code",
   "execution_count": null,
   "metadata": {},
   "outputs": [],
   "source": []
  },
  {
   "cell_type": "markdown",
   "metadata": {},
   "source": [
    "   - **Inmutabilidad**: Explicar que las cadenas son inmutables, lo que significa que una vez creada, no se puede cambiar el contenido de la cadena. Esto implica que cualquier operación de modificación crea una nueva cadena.\n"
   ]
  },
  {
   "cell_type": "markdown",
   "metadata": {},
   "source": [
    "\n",
    "##### **2. Características principales del tipo de dato `str`**\n",
    "   - **Longitud de la cadena**: Utilización de la función `len()` para obtener el número de caracteres en una cadena.\n",
    "     ```python\n",
    "     mensaje = \"¡Bienvenidos!\"\n",
    "     print(len(mensaje))  # Salida: 12\n",
    "     ```\n",
    "   - **Concatenación y repetición**: \n",
    "     - Concatenación con el operador `+` para unir dos cadenas y con `*` para repetir una cadena varias veces.\n"
   ]
  },
  {
   "cell_type": "code",
   "execution_count": null,
   "metadata": {},
   "outputs": [],
   "source": [
    "nombre = \"Marco\"\n",
    "saludo = \"Hola, \" + nombre + \"!\"\n",
    "eco = \"Eco \" * 3\n",
    "print(saludo)  # Salida: Hola, Marco!\n",
    "print(eco)     # Salida: Eco Eco Eco\n",
    "\n"
   ]
  },
  {
   "cell_type": "markdown",
   "metadata": {},
   "source": [
    "   - **Indexación y subcadenas (slicing)**: \n",
    "     - Uso de corchetes `[]` para acceder a caracteres individuales por su índice (posición) y de `:` para extraer subcadenas.\n"
   ]
  },
  {
   "cell_type": "code",
   "execution_count": null,
   "metadata": {},
   "outputs": [],
   "source": [
    "palabra = \"Python\"\n",
    "print(palabra[0])    # Salida: P\n",
    "print(palabra[-1])   # Salida: n (índice negativo)\n",
    "print(palabra[1:4])  # Salida: yth\n",
    "\n"
   ]
  },
  {
   "cell_type": "markdown",
   "metadata": {},
   "source": [
    "   - **Funciones y métodos útiles**:\n",
    "     - Métodos como `.lower()`, `.upper()`, `.strip()`, `.replace()`, y `.find()` para manipular y analizar cadenas:\n"
   ]
  },
  {
   "cell_type": "code",
   "execution_count": null,
   "metadata": {},
   "outputs": [],
   "source": [
    "texto = \" Aprender Python \"\n",
    "print(texto.lower())         # ' aprender python '\n",
    "print(texto.upper())         # ' APRENDER PYTHON '\n",
    "print(texto.strip())         # 'Aprender Python' (quita espacios al inicio y al final)\n",
    "print(texto.replace(\"Python\", \"Machine Learning\"))  # ' Aprender Machine Learning '\n",
    "print(texto.find(\"Python\"))  # Devuelve el índice de inicio de 'Python' o -1 si no se encuentra\n",
    "\n"
   ]
  },
  {
   "cell_type": "markdown",
   "metadata": {},
   "source": [
    "\n",
    "---\n",
    "\n",
    "Con esta introducción, los estudiantes podrán crear variables de tipo `str`, entender su inmutabilidad, trabajar con su longitud, concatenación, indexación y explorar una variedad de métodos de manipulación, estableciendo una base sólida para aplicarlas en futuros proyectos de ciencia de datos y machine learning."
   ]
  },
  {
   "cell_type": "markdown",
   "metadata": {},
   "source": [
    "   - **Creación de Variables `str`**:\n",
    "     - Sintaxis básica y ejemplos\n",
    "     - Diferentes formas de definir cadenas: comillas simples, dobles y triples.\n",
    "   - **Manipulación de Variables `str`**:\n",
    "     - Uso de funciones como `len()`, `lower()`, `upper()`, `replace()`, `split()`, `join()`, `strip()`, y `find()`.\n",
    "     - Formateo de cadenas con `f-strings` y el método `.format()`\n",
    "     - Uso de `type()` para verificar el tipo de datos.\n",
    "   - **Aplicación en Ciencia de Datos**:\n",
    "     - Preparación de datos textuales para machine learning (limpieza básica de datos textuales).\n",
    "     - Casos de uso donde se aplica el tipo `str` en procesamiento de texto y análisis de sentimientos.\n",
    "\n",
    "---\n"
   ]
  },
  {
   "cell_type": "markdown",
   "metadata": {},
   "source": [
    "\n",
    "#### 4. **Actividades de Clase**:\n",
    "   - **Actividad 1**: Crear variables de tipo `str`\n",
    "     - Los estudiantes deberán definir al menos tres variables de tipo `str` con diferentes formatos y verificar su tipo usando `type()`.\n",
    "   - **Actividad 2**: Manipulación de cadenas de texto\n",
    "     - Aplicar las funciones de manipulación en ejemplos específicos: cambiar el caso de texto, dividir en palabras, unir listas en una cadena, entre otros.\n",
    "   - **Actividad 3**: Exploración de datos textuales\n",
    "     - Los estudiantes explorarán un conjunto de datos de texto pequeño, aplicando operaciones de limpieza con `str`, enfocándose en dejar el texto en minúsculas, quitar espacios extra, y reemplazar caracteres específicos.\n",
    "   \n",
    "---\n"
   ]
  },
  {
   "cell_type": "markdown",
   "metadata": {},
   "source": [
    "\n",
    "#### 5. **Tareas de Adquisición de Habilidades**:\n"
   ]
  },
  {
   "cell_type": "markdown",
   "metadata": {},
   "source": [
    "   - **Actividad para Ciencia de Datos**:\n",
    "     - Descargar un conjunto de datos textual (por ejemplo, opiniones o reseñas de productos) y realizar una limpieza básica de datos usando `str`.\n",
    "     - Convertir todas las palabras a minúsculas y eliminar caracteres especiales o emojis.\n"
   ]
  },
  {
   "cell_type": "code",
   "execution_count": 10,
   "metadata": {},
   "outputs": [],
   "source": [
    "a = '5'"
   ]
  },
  {
   "cell_type": "code",
   "execution_count": 18,
   "metadata": {},
   "outputs": [
    {
     "data": {
      "text/plain": [
       "'5'"
      ]
     },
     "execution_count": 18,
     "metadata": {},
     "output_type": "execute_result"
    }
   ],
   "source": [
    "a "
   ]
  },
  {
   "cell_type": "code",
   "execution_count": 12,
   "metadata": {},
   "outputs": [
    {
     "data": {
      "text/plain": [
       "str"
      ]
     },
     "execution_count": 12,
     "metadata": {},
     "output_type": "execute_result"
    }
   ],
   "source": [
    "type(a)"
   ]
  },
  {
   "cell_type": "code",
   "execution_count": 16,
   "metadata": {},
   "outputs": [],
   "source": [
    "b = int(a)"
   ]
  },
  {
   "cell_type": "code",
   "execution_count": 17,
   "metadata": {},
   "outputs": [
    {
     "data": {
      "text/plain": [
       "5"
      ]
     },
     "execution_count": 17,
     "metadata": {},
     "output_type": "execute_result"
    }
   ],
   "source": [
    "b  "
   ]
  },
  {
   "cell_type": "markdown",
   "metadata": {},
   "source": [
    "Aquí tienes un ejemplo de un dataset de Kaggle que puedes usar y el código para la actividad de limpieza de datos.\n"
   ]
  },
  {
   "cell_type": "markdown",
   "metadata": {},
   "source": [
    "\n",
    "### Dataset de Kaggle\n"
   ]
  },
  {
   "cell_type": "markdown",
   "metadata": {},
   "source": [
    "Un dataset de opiniones de productos comúnmente usado es el \"Amazon Fine Food Reviews\", que puedes descargar desde Kaggle:\n",
    "\n",
    "[Kaggle: Amazon Fine Food Reviews](https://www.kaggle.com/datasets/snap/amazon-fine-food-reviews)\n",
    "\n",
    "Este dataset contiene reseñas de alimentos de Amazon e incluye texto de comentarios que se puede usar para esta actividad.\n"
   ]
  },
  {
   "cell_type": "markdown",
   "metadata": {},
   "source": [
    "\n",
    "### Código en Python para la Actividad\n",
    "\n",
    "Asegúrate de tener instaladas las bibliotecas `pandas` y `re` (para expresiones regulares). Aquí tienes el código:\n"
   ]
  },
  {
   "cell_type": "code",
   "execution_count": 38,
   "metadata": {},
   "outputs": [],
   "source": [
    "import pandas as pd  # pandas es util para obtención, visualización tabular y filtración de datos \n",
    "import re # El módulo regular expresions\n"
   ]
  },
  {
   "cell_type": "code",
   "execution_count": 39,
   "metadata": {},
   "outputs": [],
   "source": [
    "\n",
    "# Cargar el dataset (ajusta el nombre de archivo si es necesario)\n",
    "# Asume que descargaste y descomprimiste el archivo CSV\n",
    "dataset_path = \"C:/Users/marco/OneDrive - Universidad de Antioquia/Documentos/investigacion/datasets/Amazon_Fine_Food_Reviews.csv\"\n",
    "df = pd.read_csv(dataset_path)\n"
   ]
  },
  {
   "cell_type": "code",
   "execution_count": 40,
   "metadata": {},
   "outputs": [
    {
     "data": {
      "text/html": [
       "<div>\n",
       "<style scoped>\n",
       "    .dataframe tbody tr th:only-of-type {\n",
       "        vertical-align: middle;\n",
       "    }\n",
       "\n",
       "    .dataframe tbody tr th {\n",
       "        vertical-align: top;\n",
       "    }\n",
       "\n",
       "    .dataframe thead th {\n",
       "        text-align: right;\n",
       "    }\n",
       "</style>\n",
       "<table border=\"1\" class=\"dataframe\">\n",
       "  <thead>\n",
       "    <tr style=\"text-align: right;\">\n",
       "      <th></th>\n",
       "      <th>Id</th>\n",
       "      <th>ProductId</th>\n",
       "      <th>UserId</th>\n",
       "      <th>ProfileName</th>\n",
       "      <th>HelpfulnessNumerator</th>\n",
       "      <th>HelpfulnessDenominator</th>\n",
       "      <th>Score</th>\n",
       "      <th>Time</th>\n",
       "      <th>Summary</th>\n",
       "      <th>Text</th>\n",
       "    </tr>\n",
       "  </thead>\n",
       "  <tbody>\n",
       "    <tr>\n",
       "      <th>0</th>\n",
       "      <td>1</td>\n",
       "      <td>B001E4KFG0</td>\n",
       "      <td>A3SGXH7AUHU8GW</td>\n",
       "      <td>delmartian</td>\n",
       "      <td>1</td>\n",
       "      <td>1</td>\n",
       "      <td>5</td>\n",
       "      <td>1303862400</td>\n",
       "      <td>Good Quality Dog Food</td>\n",
       "      <td>I have bought several of the Vitality canned d...</td>\n",
       "    </tr>\n",
       "    <tr>\n",
       "      <th>1</th>\n",
       "      <td>2</td>\n",
       "      <td>B00813GRG4</td>\n",
       "      <td>A1D87F6ZCVE5NK</td>\n",
       "      <td>dll pa</td>\n",
       "      <td>0</td>\n",
       "      <td>0</td>\n",
       "      <td>1</td>\n",
       "      <td>1346976000</td>\n",
       "      <td>Not as Advertised</td>\n",
       "      <td>Product arrived labeled as Jumbo Salted Peanut...</td>\n",
       "    </tr>\n",
       "    <tr>\n",
       "      <th>2</th>\n",
       "      <td>3</td>\n",
       "      <td>B000LQOCH0</td>\n",
       "      <td>ABXLMWJIXXAIN</td>\n",
       "      <td>Natalia Corres \"Natalia Corres\"</td>\n",
       "      <td>1</td>\n",
       "      <td>1</td>\n",
       "      <td>4</td>\n",
       "      <td>1219017600</td>\n",
       "      <td>\"Delight\" says it all</td>\n",
       "      <td>This is a confection that has been around a fe...</td>\n",
       "    </tr>\n",
       "    <tr>\n",
       "      <th>3</th>\n",
       "      <td>4</td>\n",
       "      <td>B000UA0QIQ</td>\n",
       "      <td>A395BORC6FGVXV</td>\n",
       "      <td>Karl</td>\n",
       "      <td>3</td>\n",
       "      <td>3</td>\n",
       "      <td>2</td>\n",
       "      <td>1307923200</td>\n",
       "      <td>Cough Medicine</td>\n",
       "      <td>If you are looking for the secret ingredient i...</td>\n",
       "    </tr>\n",
       "    <tr>\n",
       "      <th>4</th>\n",
       "      <td>5</td>\n",
       "      <td>B006K2ZZ7K</td>\n",
       "      <td>A1UQRSCLF8GW1T</td>\n",
       "      <td>Michael D. Bigham \"M. Wassir\"</td>\n",
       "      <td>0</td>\n",
       "      <td>0</td>\n",
       "      <td>5</td>\n",
       "      <td>1350777600</td>\n",
       "      <td>Great taffy</td>\n",
       "      <td>Great taffy at a great price.  There was a wid...</td>\n",
       "    </tr>\n",
       "    <tr>\n",
       "      <th>...</th>\n",
       "      <td>...</td>\n",
       "      <td>...</td>\n",
       "      <td>...</td>\n",
       "      <td>...</td>\n",
       "      <td>...</td>\n",
       "      <td>...</td>\n",
       "      <td>...</td>\n",
       "      <td>...</td>\n",
       "      <td>...</td>\n",
       "      <td>...</td>\n",
       "    </tr>\n",
       "    <tr>\n",
       "      <th>568449</th>\n",
       "      <td>568450</td>\n",
       "      <td>B001EO7N10</td>\n",
       "      <td>A28KG5XORO54AY</td>\n",
       "      <td>Lettie D. Carter</td>\n",
       "      <td>0</td>\n",
       "      <td>0</td>\n",
       "      <td>5</td>\n",
       "      <td>1299628800</td>\n",
       "      <td>Will not do without</td>\n",
       "      <td>Great for sesame chicken..this is a good if no...</td>\n",
       "    </tr>\n",
       "    <tr>\n",
       "      <th>568450</th>\n",
       "      <td>568451</td>\n",
       "      <td>B003S1WTCU</td>\n",
       "      <td>A3I8AFVPEE8KI5</td>\n",
       "      <td>R. Sawyer</td>\n",
       "      <td>0</td>\n",
       "      <td>0</td>\n",
       "      <td>2</td>\n",
       "      <td>1331251200</td>\n",
       "      <td>disappointed</td>\n",
       "      <td>I'm disappointed with the flavor. The chocolat...</td>\n",
       "    </tr>\n",
       "    <tr>\n",
       "      <th>568451</th>\n",
       "      <td>568452</td>\n",
       "      <td>B004I613EE</td>\n",
       "      <td>A121AA1GQV751Z</td>\n",
       "      <td>pksd \"pk_007\"</td>\n",
       "      <td>2</td>\n",
       "      <td>2</td>\n",
       "      <td>5</td>\n",
       "      <td>1329782400</td>\n",
       "      <td>Perfect for our maltipoo</td>\n",
       "      <td>These stars are small, so you can give 10-15 o...</td>\n",
       "    </tr>\n",
       "    <tr>\n",
       "      <th>568452</th>\n",
       "      <td>568453</td>\n",
       "      <td>B004I613EE</td>\n",
       "      <td>A3IBEVCTXKNOH</td>\n",
       "      <td>Kathy A. Welch \"katwel\"</td>\n",
       "      <td>1</td>\n",
       "      <td>1</td>\n",
       "      <td>5</td>\n",
       "      <td>1331596800</td>\n",
       "      <td>Favorite Training and reward treat</td>\n",
       "      <td>These are the BEST treats for training and rew...</td>\n",
       "    </tr>\n",
       "    <tr>\n",
       "      <th>568453</th>\n",
       "      <td>568454</td>\n",
       "      <td>B001LR2CU2</td>\n",
       "      <td>A3LGQPJCZVL9UC</td>\n",
       "      <td>srfell17</td>\n",
       "      <td>0</td>\n",
       "      <td>0</td>\n",
       "      <td>5</td>\n",
       "      <td>1338422400</td>\n",
       "      <td>Great Honey</td>\n",
       "      <td>I am very satisfied ,product is as advertised,...</td>\n",
       "    </tr>\n",
       "  </tbody>\n",
       "</table>\n",
       "<p>568454 rows × 10 columns</p>\n",
       "</div>"
      ],
      "text/plain": [
       "            Id   ProductId          UserId                      ProfileName  \\\n",
       "0            1  B001E4KFG0  A3SGXH7AUHU8GW                       delmartian   \n",
       "1            2  B00813GRG4  A1D87F6ZCVE5NK                           dll pa   \n",
       "2            3  B000LQOCH0   ABXLMWJIXXAIN  Natalia Corres \"Natalia Corres\"   \n",
       "3            4  B000UA0QIQ  A395BORC6FGVXV                             Karl   \n",
       "4            5  B006K2ZZ7K  A1UQRSCLF8GW1T    Michael D. Bigham \"M. Wassir\"   \n",
       "...        ...         ...             ...                              ...   \n",
       "568449  568450  B001EO7N10  A28KG5XORO54AY                 Lettie D. Carter   \n",
       "568450  568451  B003S1WTCU  A3I8AFVPEE8KI5                        R. Sawyer   \n",
       "568451  568452  B004I613EE  A121AA1GQV751Z                    pksd \"pk_007\"   \n",
       "568452  568453  B004I613EE   A3IBEVCTXKNOH          Kathy A. Welch \"katwel\"   \n",
       "568453  568454  B001LR2CU2  A3LGQPJCZVL9UC                         srfell17   \n",
       "\n",
       "        HelpfulnessNumerator  HelpfulnessDenominator  Score        Time  \\\n",
       "0                          1                       1      5  1303862400   \n",
       "1                          0                       0      1  1346976000   \n",
       "2                          1                       1      4  1219017600   \n",
       "3                          3                       3      2  1307923200   \n",
       "4                          0                       0      5  1350777600   \n",
       "...                      ...                     ...    ...         ...   \n",
       "568449                     0                       0      5  1299628800   \n",
       "568450                     0                       0      2  1331251200   \n",
       "568451                     2                       2      5  1329782400   \n",
       "568452                     1                       1      5  1331596800   \n",
       "568453                     0                       0      5  1338422400   \n",
       "\n",
       "                                   Summary  \\\n",
       "0                    Good Quality Dog Food   \n",
       "1                        Not as Advertised   \n",
       "2                    \"Delight\" says it all   \n",
       "3                           Cough Medicine   \n",
       "4                              Great taffy   \n",
       "...                                    ...   \n",
       "568449                 Will not do without   \n",
       "568450                        disappointed   \n",
       "568451            Perfect for our maltipoo   \n",
       "568452  Favorite Training and reward treat   \n",
       "568453                         Great Honey   \n",
       "\n",
       "                                                     Text  \n",
       "0       I have bought several of the Vitality canned d...  \n",
       "1       Product arrived labeled as Jumbo Salted Peanut...  \n",
       "2       This is a confection that has been around a fe...  \n",
       "3       If you are looking for the secret ingredient i...  \n",
       "4       Great taffy at a great price.  There was a wid...  \n",
       "...                                                   ...  \n",
       "568449  Great for sesame chicken..this is a good if no...  \n",
       "568450  I'm disappointed with the flavor. The chocolat...  \n",
       "568451  These stars are small, so you can give 10-15 o...  \n",
       "568452  These are the BEST treats for training and rew...  \n",
       "568453  I am very satisfied ,product is as advertised,...  \n",
       "\n",
       "[568454 rows x 10 columns]"
      ]
     },
     "execution_count": 40,
     "metadata": {},
     "output_type": "execute_result"
    }
   ],
   "source": [
    "\n",
    "\n",
    "# Mostrar las primeras filas para conocer el contenido\n",
    "\"Primeras filas del dataset:\"\n",
    "df\n"
   ]
  },
  {
   "cell_type": "code",
   "execution_count": 23,
   "metadata": {},
   "outputs": [
    {
     "data": {
      "text/plain": [
       "'I have bought several of the Vitality canned dog food products and have found them all to be of good quality. The product looks more like a stew than a processed meat and it smells better. My Labrador is finicky and she appreciates this product better than  most.'"
      ]
     },
     "execution_count": 23,
     "metadata": {},
     "output_type": "execute_result"
    }
   ],
   "source": [
    "df.Text[0]"
   ]
  },
  {
   "cell_type": "code",
   "execution_count": 24,
   "metadata": {},
   "outputs": [
    {
     "name": "stdout",
     "output_type": "stream",
     "text": [
      "\n",
      "Primeras filas después de limpieza:\n"
     ]
    },
    {
     "data": {
      "text/html": [
       "<div>\n",
       "<style scoped>\n",
       "    .dataframe tbody tr th:only-of-type {\n",
       "        vertical-align: middle;\n",
       "    }\n",
       "\n",
       "    .dataframe tbody tr th {\n",
       "        vertical-align: top;\n",
       "    }\n",
       "\n",
       "    .dataframe thead th {\n",
       "        text-align: right;\n",
       "    }\n",
       "</style>\n",
       "<table border=\"1\" class=\"dataframe\">\n",
       "  <thead>\n",
       "    <tr style=\"text-align: right;\">\n",
       "      <th></th>\n",
       "      <th>Text</th>\n",
       "      <th>texto limpio</th>\n",
       "    </tr>\n",
       "  </thead>\n",
       "  <tbody>\n",
       "    <tr>\n",
       "      <th>0</th>\n",
       "      <td>I have bought several of the Vitality canned d...</td>\n",
       "      <td>i have bought several of the vitality canned d...</td>\n",
       "    </tr>\n",
       "    <tr>\n",
       "      <th>1</th>\n",
       "      <td>Product arrived labeled as Jumbo Salted Peanut...</td>\n",
       "      <td>product arrived labeled as jumbo salted peanut...</td>\n",
       "    </tr>\n",
       "    <tr>\n",
       "      <th>2</th>\n",
       "      <td>This is a confection that has been around a fe...</td>\n",
       "      <td>this is a confection that has been around a fe...</td>\n",
       "    </tr>\n",
       "    <tr>\n",
       "      <th>3</th>\n",
       "      <td>If you are looking for the secret ingredient i...</td>\n",
       "      <td>if you are looking for the secret ingredient i...</td>\n",
       "    </tr>\n",
       "    <tr>\n",
       "      <th>4</th>\n",
       "      <td>Great taffy at a great price.  There was a wid...</td>\n",
       "      <td>great taffy at a great price  there was a wide...</td>\n",
       "    </tr>\n",
       "  </tbody>\n",
       "</table>\n",
       "</div>"
      ],
      "text/plain": [
       "                                                Text  \\\n",
       "0  I have bought several of the Vitality canned d...   \n",
       "1  Product arrived labeled as Jumbo Salted Peanut...   \n",
       "2  This is a confection that has been around a fe...   \n",
       "3  If you are looking for the secret ingredient i...   \n",
       "4  Great taffy at a great price.  There was a wid...   \n",
       "\n",
       "                                        texto limpio  \n",
       "0  i have bought several of the vitality canned d...  \n",
       "1  product arrived labeled as jumbo salted peanut...  \n",
       "2  this is a confection that has been around a fe...  \n",
       "3  if you are looking for the secret ingredient i...  \n",
       "4  great taffy at a great price  there was a wide...  "
      ]
     },
     "execution_count": 24,
     "metadata": {},
     "output_type": "execute_result"
    }
   ],
   "source": [
    "\n",
    "# Seleccionar la columna de texto que contiene las reseñas (en este caso, 'Text')\n",
    "# y realizar la limpieza básica\n",
    "df['texto limpio'] = df['Text'].apply(lambda x: re.sub(r'[^a-zA-Z\\s]', '', str(x)).lower())\n",
    "\n",
    "# Mostrar las primeras filas del texto limpio\n",
    "print(\"\\nPrimeras filas después de limpieza:\")\n",
    "df[['Text', 'texto limpio']].head()\n",
    "\n"
   ]
  },
  {
   "cell_type": "markdown",
   "metadata": {},
   "source": [
    "\n",
    "### Explicación del Código\n",
    "\n",
    "1. **Carga del Dataset**: Lee el archivo CSV con pandas.\n",
    "2. **Limpieza del Texto**:\n",
    "   - **`re.sub(r'[^a-zA-Z\\s]', '', str(x))`**: Usa una expresión regular para eliminar caracteres especiales y emojis, dejando solo letras y espacios.\n",
    "   - **`.lower()`**: Convierte todas las palabras a minúsculas.\n",
    "3. **Mostrar el Resultado**: Se crean y muestran las primeras filas de la columna `Cleaned_Review` con el texto limpio.\n",
    "\n",
    "Este código proporcionará una columna con las reseñas limpias en minúsculas y sin caracteres especiales ni emojis."
   ]
  },
  {
   "cell_type": "code",
   "execution_count": 30,
   "metadata": {},
   "outputs": [
    {
     "data": {
      "text/plain": [
       "'3'"
      ]
     },
     "execution_count": 30,
     "metadata": {},
     "output_type": "execute_result"
    }
   ],
   "source": [
    "str(3)"
   ]
  },
  {
   "cell_type": "code",
   "execution_count": 31,
   "metadata": {},
   "outputs": [],
   "source": [
    "nombre = 'MARCO'"
   ]
  },
  {
   "cell_type": "code",
   "execution_count": 32,
   "metadata": {},
   "outputs": [
    {
     "data": {
      "text/plain": [
       "'MARCO'"
      ]
     },
     "execution_count": 32,
     "metadata": {},
     "output_type": "execute_result"
    }
   ],
   "source": [
    "nombre"
   ]
  },
  {
   "cell_type": "code",
   "execution_count": 35,
   "metadata": {},
   "outputs": [],
   "source": [
    "nombre_en_minuscula = nombre.lower() "
   ]
  },
  {
   "cell_type": "code",
   "execution_count": 37,
   "metadata": {},
   "outputs": [
    {
     "data": {
      "text/plain": [
       "('marco', 'MARCO')"
      ]
     },
     "execution_count": 37,
     "metadata": {},
     "output_type": "execute_result"
    }
   ],
   "source": [
    "nombre_en_minuscula, nombre "
   ]
  },
  {
   "cell_type": "code",
   "execution_count": 34,
   "metadata": {},
   "outputs": [
    {
     "data": {
      "text/plain": [
       "'MARCO'"
      ]
     },
     "execution_count": 34,
     "metadata": {},
     "output_type": "execute_result"
    }
   ],
   "source": [
    "nombre"
   ]
  },
  {
   "cell_type": "markdown",
   "metadata": {},
   "source": [
    "# **Mini-proyecto**:\n"
   ]
  },
  {
   "cell_type": "markdown",
   "metadata": {},
   "source": [
    "Desarrollar un preprocesador de texto en Python que limpie una lista de opiniones o reseñas y la prepare para su uso en un modelo de clasificación de sentimientos en machine learning.\n",
    "   \n",
    "---\n"
   ]
  },
  {
   "cell_type": "markdown",
   "metadata": {},
   "source": [
    "## Solución a este miniproyecto  \n"
   ]
  },
  {
   "cell_type": "markdown",
   "metadata": {},
   "source": [
    "\n",
    "Para desarrollar un preprocesador de texto en Python que limpie una lista de opiniones o reseñas y las prepare para su uso en un modelo de clasificación de sentimientos, podemos seguir varios pasos de preprocesamiento comunes. "
   ]
  },
  {
   "cell_type": "markdown",
   "metadata": {},
   "source": [
    "Estos incluyen:\n",
    "* convertir texto a minúsculas, \n",
    "* eliminar puntuación y caracteres especiales, \n",
    "* eliminar palabras vacías (*stopwords*), y \n",
    "* opcionalmente lematizar o reducir las palabras a sus formas básicas. \n"
   ]
  },
  {
   "cell_type": "markdown",
   "metadata": {},
   "source": [
    "## Stopwords  \n",
    "\n",
    "En ciencia de datos, **stopwords** son palabras comunes y frecuentes en un idioma que generalmente no aportan mucho significado al análisis de texto o procesamiento de lenguaje natural (NLP). "
   ]
  },
  {
   "cell_type": "markdown",
   "metadata": {},
   "source": [
    "Estas palabras suelen incluir artículos, preposiciones, conjunciones y pronombres, como \"el,\" \"de,\" \"y,\" \"en,\" o \"un\" en español, y \"the,\" \"of,\" \"and,\" \"in,\" o \"a\" en inglés. \n",
    "\n",
    "Al analizar texto, las **stopwords** suelen eliminarse para reducir el ruido en los datos y enfocarse en las palabras que aportan más información o relevancia al contexto. Esto mejora la eficiencia y precisión de tareas como clasificación de texto, análisis de sentimientos o búsqueda de patrones en grandes corpus de texto.\n"
   ]
  },
  {
   "cell_type": "markdown",
   "metadata": {},
   "source": [
    "\n",
    "### Ejemplos de Stopwords:\n",
    "#### En Español:\n",
    "- el, la, los, las  \n",
    "- de, del, en, por, para, con, sin  \n",
    "- y, o, pero, aunque  \n",
    "- un, una, unos, unas  \n",
    "- yo, tú, él, ella, nosotros, ustedes  \n"
   ]
  },
  {
   "cell_type": "markdown",
   "metadata": {},
   "source": [
    "\n",
    "#### En Inglés:\n",
    "- the, a, an  \n",
    "- of, in, on, at, with, by  \n",
    "- and, or, but, so  \n",
    "- he, she, it, we, they  \n",
    "- to, from, as  \n",
    "\n",
    "### Librerías Populares para Manejar Stopwords:\n",
    "1. **NLTK (Natural Language Toolkit)** en Python:  \n"
   ]
  },
  {
   "cell_type": "code",
   "execution_count": 6,
   "metadata": {},
   "outputs": [
    {
     "name": "stdout",
     "output_type": "stream",
     "text": [
      "{'fueras', 'nosotras', 'del', 'seríamos', 'tiene', 'estaban', 'algo', 'no', 'yo', 'esas', 'estuviésemos', 'hubierais', 'somos', 'hubisteis', 'en', 'estaremos', 'de', 'unos', 'suyas', 'tuve', 'tendré', 'para', 'he', 'estaba', 'sean', 'habíais', 'quienes', 'hubiésemos', 'estas', 'sí', 'estáis', 'habéis', 'estar', 'todo', 'ellas', 'estos', 'hubimos', 'tenemos', 'tenido', 'tuvimos', 'una', 'habrías', 'sentidos', 'el', 'entre', 'tendrían', 'estábamos', 'estés', 'cuando', 'habrían', 'tengamos', 'estuve', 'como', 'suya', 'tengan', 'hubiste', 'sentido', 'era', 'habremos', 'fueron', 'hubiera', 'nada', 'tuvieras', 'ti', 'míos', 'habría', 'eres', 'cual', 'están', 'muchos', 'hubiéramos', 'serían', 'se', 'tendrá', 'tendréis', 'estarás', 'sintiendo', 'estuviera', 'seríais', 'esos', 'seréis', 'seremos', 'ante', 'mis', 'soy', 'quien', 'tuya', 'estaría', 'sois', 'fuesen', 'tuviste', 'ella', 'este', 'estando', 'algunos', 'esto', 'habíamos', 'estad', 'nuestro', 'estuvimos', 'estuvieras', 'con', 'suyo', 'ha', 'habríamos', 'los', 'hemos', 'también', 'vuestros', 'estuvieron', 'tuvieseis', 'estemos', 'otro', 'fueseis', 'muy', 'hay', 'tuvo', 'estarán', 'tengo', 'mío', 'él', 'tenida', 'habías', 'estaríamos', 'hubieras', 'poco', 'tuyas', 'hubieran', 'tuviese', 'fuese', 'mí', 'fueses', 'un', 'vuestra', 'esta', 'mucho', 'antes', 'otros', 'nuestras', 'fuésemos', 'tenía', 'hube', 'otras', 'y', 'teniendo', 'habida', 'estuvieses', 'fuimos', 'todos', 'hubieses', 'estuvisteis', 'uno', 'tendrías', 'habidos', 'serán', 'estuvo', 'fui', 'teníais', 'le', 'seamos', 'sus', 'sobre', 'fueran', 'les', 'tendríais', 'estada', 'ni', 'hayas', 'o', 'estén', 'que', 'durante', 'habido', 'siente', 'seas', 'tendremos', 'las', 'serías', 'a', 'estarían', 'te', 'tendríamos', 'fue', 'fuiste', 'hubieron', 'esté', 'tuvieses', 'hubo', 'vuestras', 'seáis', 'hubiesen', 'has', 'donde', 'nosotros', 'tuvierais', 'fuerais', 'habrás', 'nuestros', 'sentidas', 'ya', 'tus', 'suyos', 'sea', 'mías', 'estará', 'haya', 'estuviese', 'tenías', 'e', 'algunas', 'estarías', 'estaríais', 'contra', 'fuisteis', 'nuestra', 'hasta', 'ese', 'estados', 'tendrán', 'su', 'estadas', 'tenga', 'habré', 'teníamos', 'erais', 'por', 'más', 'otra', 'estuvieseis', 'eras', 'qué', 'habidas', 'hubiese', 'tendría', 'hayáis', 'estoy', 'tendrás', 'hayan', 'tenían', 'mía', 'tienes', 'eran', 'tuviéramos', 'mi', 'tanto', 'tenéis', 'tenidas', 'sin', 'tengáis', 'estás', 'vosotros', 'habiendo', 'vuestro', 'tienen', 'tuvieran', 'estuviesen', 'hubieseis', 'tuvisteis', 'al', 'será', 'sentida', 'sentid', 'estamos', 'eso', 'han', 'tuviesen', 'fuéramos', 'éramos', 'estabas', 'tuvieron', 'son', 'tengas', 'os', 'es', 'tenidos', 'vosotras', 'fuera', 'estaré', 'estaréis', 'tuviera', 'está', 'estabais', 'serás', 'me', 'pero', 'tu', 'estuviste', 'tened', 'sería', 'estuvierais', 'habían', 'había', 'estuvieran', 'estuviéramos', 'estado', 'estéis', 'habríais', 'habréis', 'hayamos', 'tú', 'ellos', 'habrá', 'tuyo', 'esa', 'seré', 'tuviésemos', 'lo', 'desde', 'nos', 'habrán', 'porque', 'la', 'tuyos'}\n"
     ]
    }
   ],
   "source": [
    "from nltk.corpus import stopwords\n",
    "stop_words = set(stopwords.words('spanish'))  # Stopwords en español\n",
    "print(stop_words)\n",
    "\n"
   ]
  },
  {
   "cell_type": "markdown",
   "metadata": {},
   "source": [
    "   \n",
    "2. **spaCy**: "
   ]
  },
  {
   "cell_type": "code",
   "execution_count": 9,
   "metadata": {},
   "outputs": [
    {
     "data": {
      "text/plain": [
       "{'a',\n",
       " 'acuerdo',\n",
       " 'adelante',\n",
       " 'ademas',\n",
       " 'además',\n",
       " 'afirmó',\n",
       " 'agregó',\n",
       " 'ahi',\n",
       " 'ahora',\n",
       " 'ahí',\n",
       " 'al',\n",
       " 'algo',\n",
       " 'alguna',\n",
       " 'algunas',\n",
       " 'alguno',\n",
       " 'algunos',\n",
       " 'algún',\n",
       " 'alli',\n",
       " 'allí',\n",
       " 'alrededor',\n",
       " 'ambos',\n",
       " 'ante',\n",
       " 'anterior',\n",
       " 'antes',\n",
       " 'apenas',\n",
       " 'aproximadamente',\n",
       " 'aquel',\n",
       " 'aquella',\n",
       " 'aquellas',\n",
       " 'aquello',\n",
       " 'aquellos',\n",
       " 'aqui',\n",
       " 'aquél',\n",
       " 'aquélla',\n",
       " 'aquéllas',\n",
       " 'aquéllos',\n",
       " 'aquí',\n",
       " 'arriba',\n",
       " 'aseguró',\n",
       " 'asi',\n",
       " 'así',\n",
       " 'atras',\n",
       " 'aun',\n",
       " 'aunque',\n",
       " 'añadió',\n",
       " 'aún',\n",
       " 'bajo',\n",
       " 'bastante',\n",
       " 'bien',\n",
       " 'breve',\n",
       " 'buen',\n",
       " 'buena',\n",
       " 'buenas',\n",
       " 'bueno',\n",
       " 'buenos',\n",
       " 'cada',\n",
       " 'casi',\n",
       " 'cierta',\n",
       " 'ciertas',\n",
       " 'cierto',\n",
       " 'ciertos',\n",
       " 'cinco',\n",
       " 'claro',\n",
       " 'comentó',\n",
       " 'como',\n",
       " 'con',\n",
       " 'conmigo',\n",
       " 'conocer',\n",
       " 'conseguimos',\n",
       " 'conseguir',\n",
       " 'considera',\n",
       " 'consideró',\n",
       " 'consigo',\n",
       " 'consigue',\n",
       " 'consiguen',\n",
       " 'consigues',\n",
       " 'contigo',\n",
       " 'contra',\n",
       " 'creo',\n",
       " 'cual',\n",
       " 'cuales',\n",
       " 'cualquier',\n",
       " 'cuando',\n",
       " 'cuanta',\n",
       " 'cuantas',\n",
       " 'cuanto',\n",
       " 'cuantos',\n",
       " 'cuatro',\n",
       " 'cuenta',\n",
       " 'cuál',\n",
       " 'cuáles',\n",
       " 'cuándo',\n",
       " 'cuánta',\n",
       " 'cuántas',\n",
       " 'cuánto',\n",
       " 'cuántos',\n",
       " 'cómo',\n",
       " 'da',\n",
       " 'dado',\n",
       " 'dan',\n",
       " 'dar',\n",
       " 'de',\n",
       " 'debajo',\n",
       " 'debe',\n",
       " 'deben',\n",
       " 'debido',\n",
       " 'decir',\n",
       " 'dejó',\n",
       " 'del',\n",
       " 'delante',\n",
       " 'demasiado',\n",
       " 'demás',\n",
       " 'dentro',\n",
       " 'deprisa',\n",
       " 'desde',\n",
       " 'despacio',\n",
       " 'despues',\n",
       " 'después',\n",
       " 'detras',\n",
       " 'detrás',\n",
       " 'dia',\n",
       " 'dias',\n",
       " 'dice',\n",
       " 'dicen',\n",
       " 'dicho',\n",
       " 'dieron',\n",
       " 'diez',\n",
       " 'diferente',\n",
       " 'diferentes',\n",
       " 'dijeron',\n",
       " 'dijo',\n",
       " 'dio',\n",
       " 'doce',\n",
       " 'donde',\n",
       " 'dos',\n",
       " 'durante',\n",
       " 'día',\n",
       " 'días',\n",
       " 'dónde',\n",
       " 'e',\n",
       " 'el',\n",
       " 'ella',\n",
       " 'ellas',\n",
       " 'ello',\n",
       " 'ellos',\n",
       " 'embargo',\n",
       " 'en',\n",
       " 'encima',\n",
       " 'encuentra',\n",
       " 'enfrente',\n",
       " 'enseguida',\n",
       " 'entonces',\n",
       " 'entre',\n",
       " 'era',\n",
       " 'eramos',\n",
       " 'eran',\n",
       " 'eras',\n",
       " 'eres',\n",
       " 'es',\n",
       " 'esa',\n",
       " 'esas',\n",
       " 'ese',\n",
       " 'eso',\n",
       " 'esos',\n",
       " 'esta',\n",
       " 'estaba',\n",
       " 'estaban',\n",
       " 'estado',\n",
       " 'estados',\n",
       " 'estais',\n",
       " 'estamos',\n",
       " 'estan',\n",
       " 'estar',\n",
       " 'estará',\n",
       " 'estas',\n",
       " 'este',\n",
       " 'esto',\n",
       " 'estos',\n",
       " 'estoy',\n",
       " 'estuvo',\n",
       " 'está',\n",
       " 'están',\n",
       " 'excepto',\n",
       " 'existe',\n",
       " 'existen',\n",
       " 'explicó',\n",
       " 'expresó',\n",
       " 'fin',\n",
       " 'final',\n",
       " 'fue',\n",
       " 'fuera',\n",
       " 'fueron',\n",
       " 'fui',\n",
       " 'fuimos',\n",
       " 'gran',\n",
       " 'grande',\n",
       " 'grandes',\n",
       " 'ha',\n",
       " 'haber',\n",
       " 'habia',\n",
       " 'habla',\n",
       " 'hablan',\n",
       " 'habrá',\n",
       " 'había',\n",
       " 'habían',\n",
       " 'hace',\n",
       " 'haceis',\n",
       " 'hacemos',\n",
       " 'hacen',\n",
       " 'hacer',\n",
       " 'hacerlo',\n",
       " 'haces',\n",
       " 'hacia',\n",
       " 'haciendo',\n",
       " 'hago',\n",
       " 'han',\n",
       " 'hasta',\n",
       " 'hay',\n",
       " 'haya',\n",
       " 'he',\n",
       " 'hecho',\n",
       " 'hemos',\n",
       " 'hicieron',\n",
       " 'hizo',\n",
       " 'hoy',\n",
       " 'hubo',\n",
       " 'igual',\n",
       " 'incluso',\n",
       " 'indicó',\n",
       " 'informo',\n",
       " 'informó',\n",
       " 'ir',\n",
       " 'junto',\n",
       " 'la',\n",
       " 'lado',\n",
       " 'largo',\n",
       " 'las',\n",
       " 'le',\n",
       " 'les',\n",
       " 'llegó',\n",
       " 'lleva',\n",
       " 'llevar',\n",
       " 'lo',\n",
       " 'los',\n",
       " 'luego',\n",
       " 'mal',\n",
       " 'manera',\n",
       " 'manifestó',\n",
       " 'mas',\n",
       " 'mayor',\n",
       " 'me',\n",
       " 'mediante',\n",
       " 'medio',\n",
       " 'mejor',\n",
       " 'mencionó',\n",
       " 'menos',\n",
       " 'menudo',\n",
       " 'mi',\n",
       " 'mia',\n",
       " 'mias',\n",
       " 'mientras',\n",
       " 'mio',\n",
       " 'mios',\n",
       " 'mis',\n",
       " 'misma',\n",
       " 'mismas',\n",
       " 'mismo',\n",
       " 'mismos',\n",
       " 'modo',\n",
       " 'mucha',\n",
       " 'muchas',\n",
       " 'mucho',\n",
       " 'muchos',\n",
       " 'muy',\n",
       " 'más',\n",
       " 'mí',\n",
       " 'mía',\n",
       " 'mías',\n",
       " 'mío',\n",
       " 'míos',\n",
       " 'nada',\n",
       " 'nadie',\n",
       " 'ni',\n",
       " 'ninguna',\n",
       " 'ningunas',\n",
       " 'ninguno',\n",
       " 'ningunos',\n",
       " 'ningún',\n",
       " 'no',\n",
       " 'nos',\n",
       " 'nosotras',\n",
       " 'nosotros',\n",
       " 'nuestra',\n",
       " 'nuestras',\n",
       " 'nuestro',\n",
       " 'nuestros',\n",
       " 'nueva',\n",
       " 'nuevas',\n",
       " 'nueve',\n",
       " 'nuevo',\n",
       " 'nuevos',\n",
       " 'nunca',\n",
       " 'o',\n",
       " 'ocho',\n",
       " 'once',\n",
       " 'os',\n",
       " 'otra',\n",
       " 'otras',\n",
       " 'otro',\n",
       " 'otros',\n",
       " 'para',\n",
       " 'parece',\n",
       " 'parte',\n",
       " 'partir',\n",
       " 'pasada',\n",
       " 'pasado',\n",
       " 'paìs',\n",
       " 'peor',\n",
       " 'pero',\n",
       " 'pesar',\n",
       " 'poca',\n",
       " 'pocas',\n",
       " 'poco',\n",
       " 'pocos',\n",
       " 'podeis',\n",
       " 'podemos',\n",
       " 'poder',\n",
       " 'podria',\n",
       " 'podriais',\n",
       " 'podriamos',\n",
       " 'podrian',\n",
       " 'podrias',\n",
       " 'podrá',\n",
       " 'podrán',\n",
       " 'podría',\n",
       " 'podrían',\n",
       " 'poner',\n",
       " 'por',\n",
       " 'porque',\n",
       " 'posible',\n",
       " 'primer',\n",
       " 'primera',\n",
       " 'primero',\n",
       " 'primeros',\n",
       " 'pronto',\n",
       " 'propia',\n",
       " 'propias',\n",
       " 'propio',\n",
       " 'propios',\n",
       " 'proximo',\n",
       " 'próximo',\n",
       " 'próximos',\n",
       " 'pudo',\n",
       " 'pueda',\n",
       " 'puede',\n",
       " 'pueden',\n",
       " 'puedo',\n",
       " 'pues',\n",
       " 'qeu',\n",
       " 'que',\n",
       " 'quedó',\n",
       " 'queremos',\n",
       " 'quien',\n",
       " 'quienes',\n",
       " 'quiere',\n",
       " 'quiza',\n",
       " 'quizas',\n",
       " 'quizá',\n",
       " 'quizás',\n",
       " 'quién',\n",
       " 'quiénes',\n",
       " 'qué',\n",
       " 'realizado',\n",
       " 'realizar',\n",
       " 'realizó',\n",
       " 'repente',\n",
       " 'respecto',\n",
       " 'sabe',\n",
       " 'sabeis',\n",
       " 'sabemos',\n",
       " 'saben',\n",
       " 'saber',\n",
       " 'sabes',\n",
       " 'salvo',\n",
       " 'se',\n",
       " 'sea',\n",
       " 'sean',\n",
       " 'segun',\n",
       " 'segunda',\n",
       " 'segundo',\n",
       " 'según',\n",
       " 'seis',\n",
       " 'ser',\n",
       " 'sera',\n",
       " 'será',\n",
       " 'serán',\n",
       " 'sería',\n",
       " 'señaló',\n",
       " 'si',\n",
       " 'sido',\n",
       " 'siempre',\n",
       " 'siendo',\n",
       " 'siete',\n",
       " 'sigue',\n",
       " 'siguiente',\n",
       " 'sin',\n",
       " 'sino',\n",
       " 'sobre',\n",
       " 'sois',\n",
       " 'sola',\n",
       " 'solamente',\n",
       " 'solas',\n",
       " 'solo',\n",
       " 'solos',\n",
       " 'somos',\n",
       " 'son',\n",
       " 'soy',\n",
       " 'su',\n",
       " 'supuesto',\n",
       " 'sus',\n",
       " 'suya',\n",
       " 'suyas',\n",
       " 'suyo',\n",
       " 'suyos',\n",
       " 'sé',\n",
       " 'sí',\n",
       " 'sólo',\n",
       " 'tal',\n",
       " 'tambien',\n",
       " 'también',\n",
       " 'tampoco',\n",
       " 'tan',\n",
       " 'tanto',\n",
       " 'tarde',\n",
       " 'te',\n",
       " 'temprano',\n",
       " 'tendrá',\n",
       " 'tendrán',\n",
       " 'teneis',\n",
       " 'tenemos',\n",
       " 'tener',\n",
       " 'tenga',\n",
       " 'tengo',\n",
       " 'tenido',\n",
       " 'tenía',\n",
       " 'tercera',\n",
       " 'tercero',\n",
       " 'ti',\n",
       " 'tiene',\n",
       " 'tienen',\n",
       " 'toda',\n",
       " 'todas',\n",
       " 'todavia',\n",
       " 'todavía',\n",
       " 'todo',\n",
       " 'todos',\n",
       " 'total',\n",
       " 'tras',\n",
       " 'trata',\n",
       " 'través',\n",
       " 'tres',\n",
       " 'tu',\n",
       " 'tus',\n",
       " 'tuvo',\n",
       " 'tuya',\n",
       " 'tuyas',\n",
       " 'tuyo',\n",
       " 'tuyos',\n",
       " 'tú',\n",
       " 'u',\n",
       " 'ultimo',\n",
       " 'un',\n",
       " 'una',\n",
       " 'unas',\n",
       " 'uno',\n",
       " 'unos',\n",
       " 'usa',\n",
       " 'usais',\n",
       " 'usamos',\n",
       " 'usan',\n",
       " 'usar',\n",
       " 'usas',\n",
       " 'uso',\n",
       " 'usted',\n",
       " 'ustedes',\n",
       " 'va',\n",
       " 'vais',\n",
       " 'vamos',\n",
       " 'van',\n",
       " 'varias',\n",
       " 'varios',\n",
       " 'vaya',\n",
       " 'veces',\n",
       " 'ver',\n",
       " 'verdad',\n",
       " 'verdadera',\n",
       " 'verdadero',\n",
       " 'vez',\n",
       " 'vosotras',\n",
       " 'vosotros',\n",
       " 'voy',\n",
       " 'vuestra',\n",
       " 'vuestras',\n",
       " 'vuestro',\n",
       " 'vuestros',\n",
       " 'y',\n",
       " 'ya',\n",
       " 'yo',\n",
       " 'él',\n",
       " 'ésa',\n",
       " 'ésas',\n",
       " 'ése',\n",
       " 'ésos',\n",
       " 'ésta',\n",
       " 'éstas',\n",
       " 'éste',\n",
       " 'éstos',\n",
       " 'última',\n",
       " 'últimas',\n",
       " 'último',\n",
       " 'últimos'}"
      ]
     },
     "execution_count": 9,
     "metadata": {},
     "output_type": "execute_result"
    }
   ],
   "source": [
    "import spacy\n",
    "nlp = spacy.load(\"es_core_news_sm\")  # Modelo en español\n",
    "stop_words = nlp.Defaults.stop_words\n",
    "stop_words\n",
    "\n"
   ]
  },
  {
   "cell_type": "markdown",
   "metadata": {},
   "source": [
    "\n",
    "Eliminar **stopwords** puede mejorar el rendimiento en tareas de ciencia de datos, pero es importante evaluar caso por caso, ya que algunas de estas palabras podrían tener relevancia en ciertos análisis."
   ]
  },
  {
   "cell_type": "markdown",
   "metadata": {},
   "source": [
    "\n",
    "Asumiremos que tienes un dataset de Kaggle con una columna de opiniones (o reseñas) y una columna con las etiquetas de sentimiento (positivo/negativo). Aquí hay un código detallado para realizar el preprocesamiento:\n"
   ]
  },
  {
   "cell_type": "markdown",
   "metadata": {},
   "source": [
    "\n",
    "### Paso 1: Importar las bibliotecas necesarias\n"
   ]
  },
  {
   "cell_type": "code",
   "execution_count": null,
   "metadata": {},
   "outputs": [],
   "source": [
    "import pandas as pd\n",
    "import re\n",
    "import nltk\n",
    "from nltk.corpus import stopwords\n",
    "from nltk.stem import WordNetLemmatizer\n",
    "\n",
    "# Descargar recursos de NLTK si no los tienes\n",
    "nltk.download('stopwords')\n",
    "nltk.download('wordnet')\n",
    "nltk.download('omw-1.4')\n",
    "\n"
   ]
  },
  {
   "cell_type": "markdown",
   "metadata": {},
   "source": [
    "\n",
    "### Paso 2: Cargar el dataset\n",
    "Usaremos `pandas` para cargar el dataset. Cambia `\"ruta_del_archivo.csv\"` por la ubicación de tu archivo.  \n",
    "\n",
    "[Sentiment140 dataset with 1.6 million tweets](https://www.kaggle.com/datasets/kazanova/sentiment140)\n"
   ]
  },
  {
   "cell_type": "code",
   "execution_count": null,
   "metadata": {},
   "outputs": [],
   "source": [
    "# Cargar el dataset (supongamos que tiene columnas 'Review' y 'Sentiment')\n",
    "\n",
    "df = pd.read_csv(\"ruta_del_archivo.csv\")\n",
    "\n"
   ]
  },
  {
   "cell_type": "markdown",
   "metadata": {},
   "source": [
    "\n",
    "### Paso 3: Definir la función de preprocesamiento\n",
    "Aquí definimos una función de preprocesamiento que:\n",
    "- Convierte el texto a minúsculas.\n",
    "- Elimina caracteres especiales, números y puntuación.\n",
    "- Elimina palabras vacías (*stopwords*).\n",
    "- Lematiza las palabras (reduce las palabras a sus formas base).\n"
   ]
  },
  {
   "cell_type": "code",
   "execution_count": null,
   "metadata": {},
   "outputs": [],
   "source": [
    "def preprocess_text(text):\n",
    "    # Convertir a minúsculas\n",
    "    text = text.lower()\n",
    "    \n",
    "    # Eliminar caracteres especiales, números y puntuación\n",
    "    text = re.sub(r'[^a-z\\s]', '', text)\n",
    "    \n",
    "    # Eliminar palabras vacías (stopwords)\n",
    "    stop_words = set(stopwords.words(\"english\"))\n",
    "    words = text.split()\n",
    "    words = [word for word in words if word not in stop_words]\n",
    "    \n",
    "    # Lematizar\n",
    "    lemmatizer = WordNetLemmatizer()\n",
    "    words = [lemmatizer.lemmatize(word) for word in words]\n",
    "    \n",
    "    # Unir las palabras en una cadena de texto\n",
    "    processed_text = \" \".join(words)\n",
    "    \n",
    "    return processed_text\n",
    "\n"
   ]
  },
  {
   "cell_type": "markdown",
   "metadata": {},
   "source": [
    "\n",
    "### Paso 4: Aplicar el preprocesamiento al dataset\n",
    "Aplicamos la función a cada reseña en la columna `Review` y guardamos el resultado en una nueva columna `Cleaned_Review`.\n"
   ]
  },
  {
   "cell_type": "code",
   "execution_count": null,
   "metadata": {},
   "outputs": [],
   "source": [
    "# Crear una nueva columna con las reseñas procesadas\n",
    "df['Cleaned_Review'] = df['Review'].apply(preprocess_text)\n",
    "\n"
   ]
  },
  {
   "cell_type": "markdown",
   "metadata": {},
   "source": [
    "\n",
    "### Paso 5: Verificar el resultado\n",
    "Es recomendable revisar algunas reseñas procesadas para verificar que la limpieza se haya realizado correctamente.\n"
   ]
  },
  {
   "cell_type": "code",
   "execution_count": null,
   "metadata": {},
   "outputs": [],
   "source": [
    "# Mostrar algunas reseñas antes y después de la limpieza\n",
    "print(df[['Review', 'Cleaned_Review']].head())\n",
    "\n"
   ]
  },
  {
   "cell_type": "markdown",
   "metadata": {},
   "source": [
    "\n",
    "### Paso 6: Guardar el dataset limpio (opcional)\n",
    "Si quieres guardar el dataset limpio para usarlo en otro momento, puedes hacerlo así:\n"
   ]
  },
  {
   "cell_type": "code",
   "execution_count": null,
   "metadata": {},
   "outputs": [],
   "source": [
    "df.to_csv(\"dataset_preprocesado.csv\", index=False)\n",
    "\n"
   ]
  },
  {
   "cell_type": "markdown",
   "metadata": {},
   "source": [
    "\n",
    "### Paso 7: Preparar el texto para el modelo de Machine Learning\n",
    "Para entrenar un modelo de clasificación de sentimientos, puedes convertir el texto limpio en vectores utilizando técnicas como TF-IDF o Bag of Words. Por ejemplo:\n"
   ]
  },
  {
   "cell_type": "code",
   "execution_count": null,
   "metadata": {},
   "outputs": [],
   "source": [
    "from sklearn.feature_extraction.text import TfidfVectorizer\n",
    "\n",
    "# Crear un vectorizador TF-IDF\n",
    "vectorizer = TfidfVectorizer(max_features=5000)  # Puedes ajustar el número de características\n",
    "\n",
    "# Ajustar el vectorizador en las reseñas limpias\n",
    "X = vectorizer.fit_transform(df['Cleaned_Review'])\n",
    "\n",
    "# Definir la variable objetivo\n",
    "y = df['Sentiment']\n",
    "\n"
   ]
  },
  {
   "cell_type": "markdown",
   "metadata": {},
   "source": [
    "\n",
    "### Paso 8: Entrenar un modelo de clasificación (ejemplo con un modelo de regresión logística)\n",
    "Usaremos `LogisticRegression` para crear un clasificador simple de sentimientos.\n"
   ]
  },
  {
   "cell_type": "code",
   "execution_count": null,
   "metadata": {},
   "outputs": [],
   "source": [
    "\n",
    "from sklearn.model_selection import train_test_split\n",
    "from sklearn.linear_model import LogisticRegression\n",
    "from sklearn.metrics import accuracy_score, classification_report\n",
    "\n",
    "# Dividir en conjunto de entrenamiento y prueba\n",
    "X_train, X_test, y_train, y_test = train_test_split(X, y, test_size=0.2, random_state=42)\n",
    "\n",
    "# Crear y entrenar el modelo\n",
    "model = LogisticRegression()\n",
    "model.fit(X_train, y_train)\n",
    "\n",
    "# Hacer predicciones\n",
    "y_pred = model.predict(X_test)\n",
    "\n",
    "# Evaluar el modelo\n",
    "print(\"Accuracy:\", accuracy_score(y_test, y_pred))\n",
    "print(classification_report(y_test, y_pred))\n",
    "\n"
   ]
  },
  {
   "cell_type": "markdown",
   "metadata": {},
   "source": [
    "\n",
    "### Resumen\n",
    "Este código:\n",
    "1. **Limpia** las reseñas eliminando caracteres especiales, palabras vacías y aplicando lematización.\n",
    "2. **Vectoriza** las reseñas usando TF-IDF para prepararlas para el modelo de machine learning.\n",
    "3. **Entrena** un modelo de clasificación para predecir el sentimiento de las reseñas. \n",
    "\n",
    "Este preprocesador es una base sólida que puedes ajustar según las características de tu dataset o necesidades del modelo."
   ]
  },
  {
   "cell_type": "markdown",
   "metadata": {},
   "source": [
    "\n",
    "#### 6. **Evaluación (Parcial de Cinco Puntos)**:\n",
    "   1. ¿Qué función se utiliza para convertir una cadena a minúsculas? (1 punto)\n",
    "   2. Crear una variable `str` llamada `mensaje` con el texto `\"Bienvenidos al curso de Machine Learning\"`. ¿Cómo podrías extraer solo la palabra `\"Machine\"`? (1 punto)\n",
    "   3. Explicar la diferencia entre `split()` y `join()` con un ejemplo de uso. (1 punto)\n",
    "   4. ¿Cuál es la importancia de la limpieza de datos textuales en ciencia de datos? (1 punto)\n",
    "   5. Escribe un script que verifique si una variable es de tipo `str` y, si es cierto, convierta el texto a mayúsculas. (1 punto)\n",
    "\n",
    "---\n"
   ]
  },
  {
   "cell_type": "markdown",
   "metadata": {},
   "source": [
    "\n",
    "#### 7. **Diseño de Actividad de Retroalimentación**:\n",
    "   **Análisis FODA (Fortalezas, Oportunidades, Debilidades y Amenazas)**\n",
    "   - Los estudiantes responderán un cuestionario en el que identifiquen sus fortalezas y oportunidades respecto a la manipulación de cadenas en Python, y reconozcan las áreas que necesitan mejorar (debilidades).\n",
    "   - Esta actividad les ayudará a desarrollar habilidades metacognitivas, permitiéndoles tomar acciones concretas para mejorar en temas específicos de la clase.\n",
    "\n",
    "---\n"
   ]
  },
  {
   "cell_type": "markdown",
   "metadata": {},
   "source": [
    "\n",
    "Este diseño de clase ofrece un enfoque integral para enseñar el tipo de dato `str` en Python, con actividades orientadas al aprendizaje de manipulación de texto y preparación de datos para machine learning."
   ]
  },
  {
   "cell_type": "markdown",
   "metadata": {
    "slideshow": {
     "slide_type": "slide"
    }
   },
   "source": [
    "## Definición de dato de tipo string \n",
    "\n",
    "\n",
    "Los datos tipo string son los que guardan el nombre de las personas a través de mensajes delimitados por comillas dobles o comillas simples. "
   ]
  },
  {
   "cell_type": "markdown",
   "metadata": {
    "slideshow": {
     "slide_type": "slide"
    }
   },
   "source": [
    "### Ejemplo 1 de string"
   ]
  },
  {
   "cell_type": "code",
   "execution_count": null,
   "metadata": {
    "slideshow": {
     "slide_type": "slide"
    }
   },
   "outputs": [],
   "source": [
    "nombre_del_profesor = \"Marco julio\" \n",
    "apellido_del_profesor = 'Cañas Campillo'"
   ]
  },
  {
   "cell_type": "code",
   "execution_count": null,
   "metadata": {
    "slideshow": {
     "slide_type": "slide"
    }
   },
   "outputs": [],
   "source": [
    "type(nombre_del_profesor)"
   ]
  },
  {
   "cell_type": "code",
   "execution_count": null,
   "metadata": {
    "slideshow": {
     "slide_type": "slide"
    }
   },
   "outputs": [],
   "source": [
    "print(nombre_una_joven)"
   ]
  },
  {
   "cell_type": "code",
   "execution_count": null,
   "metadata": {
    "slideshow": {
     "slide_type": "slide"
    }
   },
   "outputs": [],
   "source": [
    "nombre_una_joven"
   ]
  },
  {
   "cell_type": "markdown",
   "metadata": {
    "slideshow": {
     "slide_type": "slide"
    }
   },
   "source": [
    "La función `type()`nos devuelve el tipo de variable"
   ]
  },
  {
   "cell_type": "code",
   "execution_count": null,
   "metadata": {
    "slideshow": {
     "slide_type": "slide"
    }
   },
   "outputs": [],
   "source": [
    "type(nombre_una_joven)"
   ]
  },
  {
   "cell_type": "markdown",
   "metadata": {
    "slideshow": {
     "slide_type": "slide"
    }
   },
   "source": [
    "### No olvidar\n",
    "\n",
    "un dato de tipo `str` es un dato tipo string o cadena de caracteres. "
   ]
  },
  {
   "cell_type": "markdown",
   "metadata": {},
   "source": [
    "# Ejemplos de uso de las cadenas de caracteres dado por ChatGPT\n",
    "\n",
    "Estos son algunos ejemplos de uso de datos de tipo string en Python:\n"
   ]
  },
  {
   "cell_type": "markdown",
   "metadata": {},
   "source": [
    "\n",
    "1. Concatenación de strings: Puedes unir dos o más strings utilizando el operador de suma (+). Por ejemplo:\n"
   ]
  },
  {
   "cell_type": "code",
   "execution_count": null,
   "metadata": {},
   "outputs": [],
   "source": [
    "nombre = \"Juan\"\n",
    "apellido = \"Pérez\"\n",
    "nombre_completo = nombre + \" \" + apellido\n",
    "print(nombre_completo)  # Output: Juan Pérez\n",
    "\n"
   ]
  },
  {
   "cell_type": "markdown",
   "metadata": {},
   "source": [
    "\n",
    "2. Acceso a caracteres individuales: Puedes acceder a caracteres individuales dentro de un string utilizando corchetes y el índice del carácter deseado. Recuerda que los índices en Python comienzan desde 0. Por ejemplo:\n"
   ]
  },
  {
   "cell_type": "code",
   "execution_count": null,
   "metadata": {},
   "outputs": [],
   "source": [
    "\n",
    "mensaje = \"Hola\"\n",
    "primer_caracter = mensaje[0]\n",
    "print(primer_caracter)  # Output: H\n",
    "\n"
   ]
  },
  {
   "cell_type": "markdown",
   "metadata": {},
   "source": [
    "\n",
    "3. Longitud de un string: Puedes obtener la cantidad de caracteres en un string utilizando la función `len()`. Por ejemplo:\n"
   ]
  },
  {
   "cell_type": "code",
   "execution_count": null,
   "metadata": {},
   "outputs": [],
   "source": [
    "mensaje = \"Hola\"\n",
    "longitud = len(mensaje)\n",
    "print(longitud)  # Output: 4\n",
    "\n"
   ]
  },
  {
   "cell_type": "markdown",
   "metadata": {},
   "source": [
    "\n",
    "4. Métodos de manipulación de strings: Los strings en Python tienen métodos incorporados que te permiten realizar diversas operaciones, como:   \n",
    " \n",
    "* convertir a mayúsculas o minúsculas, \n",
    "* reemplazar caracteres, \n",
    "* dividir el string en partes,   \n",
    "\n",
    "entre otros. Aquí tienes algunos ejemplos:\n"
   ]
  },
  {
   "cell_type": "code",
   "execution_count": null,
   "metadata": {},
   "outputs": [],
   "source": [
    "texto = \"¡Hola, mundo!\"\n",
    "texto_mayusculas = texto.upper()\n",
    "print(texto_mayusculas)  # Output: ¡HOLA, MUNDO!\n"
   ]
  },
  {
   "cell_type": "code",
   "execution_count": null,
   "metadata": {},
   "outputs": [],
   "source": [
    "\n",
    "texto_minusculas = texto.lower()\n",
    "print(texto_minusculas)  # Output: ¡hola, mundo!\n"
   ]
  },
  {
   "cell_type": "code",
   "execution_count": null,
   "metadata": {},
   "outputs": [],
   "source": [
    "\n",
    "texto_reemplazado = texto.replace(\"Hola\", \"Adiós\")\n",
    "print(texto_reemplazado)  # Output: ¡Adiós, mundo!\n"
   ]
  },
  {
   "cell_type": "code",
   "execution_count": null,
   "metadata": {},
   "outputs": [],
   "source": [
    "\n",
    "partes = texto.split(\",\")\n",
    "print(partes)  # Output: ['¡Hola', ' mundo!']\n",
    "\n"
   ]
  },
  {
   "cell_type": "markdown",
   "metadata": {},
   "source": [
    "\n",
    "Estos son solo algunos ejemplos de cómo puedes utilizar datos de tipo string en Python. Los strings son muy versátiles y te permiten manipular y procesar texto de diversas maneras según tus necesidades."
   ]
  },
  {
   "cell_type": "markdown",
   "metadata": {
    "slideshow": {
     "slide_type": "slide"
    }
   },
   "source": [
    "## Otras ejemplo de datos tipo String"
   ]
  },
  {
   "cell_type": "markdown",
   "metadata": {
    "slideshow": {
     "slide_type": "slide"
    }
   },
   "source": [
    "1. el género"
   ]
  },
  {
   "cell_type": "code",
   "execution_count": null,
   "metadata": {
    "slideshow": {
     "slide_type": "slide"
    }
   },
   "outputs": [],
   "source": [
    "genero1 = 'masculino'"
   ]
  },
  {
   "cell_type": "code",
   "execution_count": null,
   "metadata": {
    "slideshow": {
     "slide_type": "slide"
    }
   },
   "outputs": [],
   "source": [
    "genero2 = \"femenino\""
   ]
  },
  {
   "cell_type": "markdown",
   "metadata": {
    "slideshow": {
     "slide_type": "slide"
    }
   },
   "source": [
    "Los datos tipo string son para variables categóricas, como la variable Género que es una variables categórica binaria no ordinal. "
   ]
  },
  {
   "cell_type": "markdown",
   "metadata": {
    "slideshow": {
     "slide_type": "slide"
    }
   },
   "source": [
    "Aunque hay variables categóricas ordinales como el estrato social que no se describe ususlamnete con string sino con enteros. "
   ]
  },
  {
   "cell_type": "markdown",
   "metadata": {
    "slideshow": {
     "slide_type": "slide"
    }
   },
   "source": [
    "## Referencias   \n",
    "\n",
    "* [Acceso a los datos de AMSC para práctica en analítica de datos](http://54.146.188.73:8501/)\n",
    "\n",
    "* [Geron, Aurelien](https://udeaeduco-my.sharepoint.com/:b:/g/personal/marco_canas_udea_edu_co/Ecet27yjQzZIlT1Y_Bc2erkBUhbeYuIe6HG8i1FYZRlZww?e=v3Dtrc)\n",
    "\n",
    "* [Geron, Aurelien. GitHub](https://github.com/ageron/handson-ml3) \n",
    "\n",
    "* [Mckinney, Wes. Python for Data Analysis. ](https://udeaeduco-my.sharepoint.com/:b:/g/personal/marco_canas_udea_edu_co/EVbi5JIeBl9ErbiUnZfGe8YBhNTnZ8sxTK5hjIOPK4UpGw?e=enSZnJ) página 57 \n",
    "\n",
    "* [La función `.replace()` de Python para cadenas de caracteres](https://parzibyte.me/blog/2022/07/18/python-reemplazar-una-letra-por-otra/)\n"
   ]
  },
  {
   "cell_type": "markdown",
   "metadata": {
    "slideshow": {
     "slide_type": "slide"
    }
   },
   "source": [
    "Para a la siguiente clase sobre tipos de datos donde veremos los datos tipo `int`, para ello pulse [aquí](https://github.com/marco-canas/didactica_ciencia_datos/blob/main/1_curso_machine_learning/0_python/1_datos_variables/2_int/1_datos_int.ipynb)"
   ]
  },
  {
   "cell_type": "markdown",
   "metadata": {},
   "source": [
    "### [Evaluamos al profesor Marco Cañas Aquí](https://forms.office.com/Pages/ResponsePage.aspx?id=IefhmYRxjkmK_7KtTlPBwkanXIs1i1FEujpsZgO6dXpUREJPV1kxUk1JV1ozTFJIQVNIQjY5WEY3US4u)"
   ]
  },
  {
   "cell_type": "markdown",
   "metadata": {},
   "source": [
    "# Un agradecimiento \n",
    "\n",
    "* Agradezco profundamente a mi padre Marco Fidel Cañas por su gran inteligencia y capacidad de introspección. El era un excelente mecánico, y siempre estuvo presente desde los recursos que tuvo. Dios te bendiga valiso padre. Todos los días te llevo presente en mi vida. Gracias Papá. Un fuerte abrazo. "
   ]
  },
  {
   "cell_type": "markdown",
   "metadata": {},
   "source": [
    "[Valla ahora a la evaluación para ver si ha alcanzado los objetivos de aprendizaje](https://github.com/marco-canas/didactica_ciencia_datos/blob/main/1_curso_machine_learning/0_python/1_datos_variables/1_str/2_evaluacion_quiz_parcial_datos_tipo_str.ipynb)"
   ]
  }
 ],
 "metadata": {
  "celltoolbar": "Slideshow",
  "kernelspec": {
   "display_name": "Python 3",
   "language": "python",
   "name": "python3"
  },
  "language_info": {
   "codemirror_mode": {
    "name": "ipython",
    "version": 3
   },
   "file_extension": ".py",
   "mimetype": "text/x-python",
   "name": "python",
   "nbconvert_exporter": "python",
   "pygments_lexer": "ipython3",
   "version": "3.12.7"
  },
  "rise": {
   "enable_chalkboard": true,
   "theme": "sky",
   "transition": "zoom"
  }
 },
 "nbformat": 4,
 "nbformat_minor": 4
}
