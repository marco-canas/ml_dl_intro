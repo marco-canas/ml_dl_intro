{
 "cells": [
  {
   "cell_type": "markdown",
   "id": "dc06dec7",
   "metadata": {
    "slideshow": {
     "slide_type": "slide"
    }
   },
   "source": [
    "<table align=\"left\">\n",
    "  <td>\n",
    "    <a href=\"https://colab.research.google.com/github/marco-canas/4_didactica_aritmetica/blob/main/modelo_general_clase_aula_invertida.ipynb\" target=\"_parent\"><img src=\"https://colab.research.google.com/assets/colab-badge.svg\" alt=\"Open In Colab\"/></a>\n",
    "  </td>\n",
    "</table>"
   ]
  },
  {
   "cell_type": "markdown",
   "id": "e0c5b198",
   "metadata": {
    "slideshow": {
     "slide_type": "slide"
    }
   },
   "source": [
    "### [Video de apoyo a la lectura interactiva y experimental de este cuaderno]()"
   ]
  },
  {
   "cell_type": "markdown",
   "id": "41e82203",
   "metadata": {
    "slideshow": {
     "slide_type": "slide"
    }
   },
   "source": [
    "## [Vínculo al programa del curso:  ]()"
   ]
  },
  {
   "cell_type": "markdown",
   "id": "ca46c23b",
   "metadata": {
    "slideshow": {
     "slide_type": "slide"
    }
   },
   "source": [
    "# Modelo general de clase: [aula invertida](https://www3.gobiernodecanarias.org/medusa/ecoescuela/pedagotic/aprendizaje-invertido-flipped-classroom/)\n",
    "\n",
    "## Definición y características de este modelo"
   ]
  },
  {
   "cell_type": "markdown",
   "id": "d2b0e776",
   "metadata": {
    "slideshow": {
     "slide_type": "slide"
    }
   },
   "source": [
    "## ¿Qué es?  \n",
    "\n",
    "Flipped Learning o aprendizaje invertido es un enfoque pedagógico en el que:  \n",
    "\n",
    "* la instrucción directa se realiza fuera del aula y \n",
    "* se utiliza el tiempo de clase para llevar a cabo actividades que impliquen el desarrollo de procesos cognitivos de mayor complejidad, en las que son necesarias la ayuda y la experiencia del docente."
   ]
  },
  {
   "cell_type": "markdown",
   "id": "5fc4f731",
   "metadata": {
    "slideshow": {
     "slide_type": "slide"
    }
   },
   "source": [
    "## ¿Para qué sirve?  \n",
    "\n",
    "Mejora el proceso de enseñanza-aprendizaje realizando,   \n",
    "\n",
    "* fuera del aula, actividades de aprendizaje sencillas (observar, memorizar, resumir, etc.) y, \n",
    "* en el aula, actividades más complejas (razonar, examinar, priorizar, argumentar, proponer, etc.) que requieren la interacción entre iguales y la ayuda del docente como facilitador."
   ]
  },
  {
   "cell_type": "markdown",
   "id": "b42472d6",
   "metadata": {
    "slideshow": {
     "slide_type": "slide"
    }
   },
   "source": [
    "<img src = 'https://github.com/marco-canas/7_didactica_ciencia_datos/blob/main/propuesta/unidad_didac/atributos_aprendizaje_invertido.png?raw=true'>"
   ]
  },
  {
   "cell_type": "markdown",
   "id": "8cee33b3",
   "metadata": {
    "slideshow": {
     "slide_type": "slide"
    }
   },
   "source": [
    "# Proceso Flipped Learning"
   ]
  },
  {
   "cell_type": "markdown",
   "id": "9c61b8b5",
   "metadata": {
    "slideshow": {
     "slide_type": "slide"
    }
   },
   "source": [
    "## Fuera del Aula"
   ]
  },
  {
   "cell_type": "markdown",
   "id": "fe20721d",
   "metadata": {
    "slideshow": {
     "slide_type": "slide"
    }
   },
   "source": [
    "### Docente:"
   ]
  },
  {
   "cell_type": "markdown",
   "id": "5b022dc9",
   "metadata": {
    "slideshow": {
     "slide_type": "slide"
    }
   },
   "source": [
    "* Diseña y planea el proceso de enseñanza-aprendizaje del aula, integrando estrategias, modelos de enseñanza y metodologías (aprendizaje basado en proyectos, aprendizaje cooperativo y colaborativo,…).  \n",
    "\n",
    "* Diseña y planea actividades que se realizarán fuera del aula (ver vídeos, cumplimentar cuestionarios,…).  \n",
    "\n",
    "* Selecciona e integra la tecnología en actividades de aprendizaje activo.  \n",
    "\n",
    "* Diseña actividades de evaluación que promuevan el aprendizaje del alumnado."
   ]
  },
  {
   "cell_type": "markdown",
   "id": "467fb978",
   "metadata": {
    "slideshow": {
     "slide_type": "slide"
    }
   },
   "source": [
    "### Alumnado:"
   ]
  },
  {
   "cell_type": "markdown",
   "id": "87d6d661",
   "metadata": {
    "slideshow": {
     "slide_type": "slide"
    }
   },
   "source": [
    "* Accede, cuantas veces necesite, a las actividades facilitadas por el profesorado.\n",
    "* Realiza las actividades propuestas."
   ]
  },
  {
   "cell_type": "markdown",
   "id": "93cd48b6",
   "metadata": {
    "slideshow": {
     "slide_type": "slide"
    }
   },
   "source": [
    "## En el Aula"
   ]
  },
  {
   "cell_type": "markdown",
   "id": "79ea8675",
   "metadata": {
    "slideshow": {
     "slide_type": "slide"
    }
   },
   "source": [
    "### Docente:"
   ]
  },
  {
   "cell_type": "markdown",
   "id": "d4d6f829",
   "metadata": {
    "slideshow": {
     "slide_type": "slide"
    }
   },
   "source": [
    "* Guía y facilita los procesos de aprendizaje, atendiendo a la diversidad.\n",
    "* Retroalimenta el desempeño de los equipos/grupos y del alumnado individualmente.\n",
    "* Genera espacios para la coevaluación y autoevaluación."
   ]
  },
  {
   "cell_type": "markdown",
   "id": "7178794c",
   "metadata": {
    "slideshow": {
     "slide_type": "slide"
    }
   },
   "source": [
    "### Alumnado:"
   ]
  },
  {
   "cell_type": "markdown",
   "id": "88d1c0f7",
   "metadata": {
    "slideshow": {
     "slide_type": "slide"
    }
   },
   "source": [
    "* Realiza las actividades (debates, exposiciones orales, informes, diario de aprendizaje, cuaderno de trabajo cooperativo,…).\n",
    "* Recibe retroalimentación inmediata del profesorado y de sus compañeros y compañeras.\n",
    "* Accede, si fuera necesario, a las actividades previas facilitadas por el profesorado."
   ]
  },
  {
   "cell_type": "markdown",
   "id": "79c35435",
   "metadata": {
    "slideshow": {
     "slide_type": "slide"
    }
   },
   "source": [
    "## Fomento de la lectura literaria asociada a Ingeniería agropecuaria y licenciatura en Matemáticas\n",
    "\n",
    "John Allen Paulos. El hombre anumérico. El analfabetismo matemático y sus consecuencias. \n",
    "\n",
    "\"Las mates siempre fueron mi asignatura más floja.\" \n",
    "\n",
    "<<Un millón de dólares, mil millones o un billón. No importa cuánto siempre y cuando hagamos algo por resolver el problema.>>\n",
    "\n",
    "<< Jerry y yo no iremos a Europa, con tantos terroristas...>>  \n",
    "\n",
    "El anumerismo, o incapacidad de menejar cómodamente los conceptos fundamentales de número y azar, atormenta a demasiados ciudadanos que, por lo demás, pueden ser perfectamente instruidos.   \n",
    "\n"
   ]
  },
  {
   "cell_type": "code",
   "execution_count": null,
   "id": "e28e5d5f",
   "metadata": {
    "slideshow": {
     "slide_type": "slide"
    }
   },
   "outputs": [],
   "source": []
  },
  {
   "cell_type": "markdown",
   "id": "1d38dd4e",
   "metadata": {
    "slideshow": {
     "slide_type": "slide"
    }
   },
   "source": [
    "### Objetivo de aprendizaje (Enunciar, de manera corta sencilla y clara para todos los asistentes)\n",
    "\n",
    "* "
   ]
  },
  {
   "cell_type": "markdown",
   "id": "ca7261b1",
   "metadata": {
    "slideshow": {
     "slide_type": "slide"
    }
   },
   "source": [
    "## Establecimiento de prerrequisitos conceptuales para alcanzar el objetivo de aprendizaje trazado.   \n",
    "\n",
    "(Elabore una lista de preguntas al rededor de los conceptos que consideres necesarios para empezar la clase).  \n",
    "\n",
    "1. \n",
    "2. \n",
    "3. "
   ]
  },
  {
   "cell_type": "markdown",
   "id": "2298e976",
   "metadata": {
    "slideshow": {
     "slide_type": "slide"
    }
   },
   "source": [
    "# Para el diseño de la clase tenga en cuenta algunos problemas de aprendizaje"
   ]
  },
  {
   "cell_type": "code",
   "execution_count": null,
   "id": "523d3acf",
   "metadata": {
    "slideshow": {
     "slide_type": "slide"
    }
   },
   "outputs": [],
   "source": []
  },
  {
   "cell_type": "markdown",
   "id": "8a6f7ef9",
   "metadata": {
    "slideshow": {
     "slide_type": "slide"
    }
   },
   "source": [
    "## Tareas para realizar antes de la clase"
   ]
  },
  {
   "cell_type": "markdown",
   "id": "90cae469",
   "metadata": {
    "slideshow": {
     "slide_type": "slide"
    }
   },
   "source": [
    "1. Ver los videos respectivos []()\n",
    "2. Memorizar las definiciones []()\n",
    "3. Sintetizar o resumir la información en mapas conceptuales. []()"
   ]
  },
  {
   "cell_type": "markdown",
   "id": "fccb447c",
   "metadata": {
    "slideshow": {
     "slide_type": "slide"
    }
   },
   "source": [
    "# Tareas para realizar en clase"
   ]
  },
  {
   "cell_type": "markdown",
   "id": "e5c48edf",
   "metadata": {
    "slideshow": {
     "slide_type": "slide"
    }
   },
   "source": [
    "* Modelación matemática \n",
    "* Trabajo en equipos"
   ]
  },
  {
   "cell_type": "markdown",
   "id": "8b6b0112",
   "metadata": {
    "slideshow": {
     "slide_type": "slide"
    }
   },
   "source": [
    "# Tareas para realizar después de la realización de la clase"
   ]
  },
  {
   "cell_type": "markdown",
   "id": "947460e3",
   "metadata": {
    "slideshow": {
     "slide_type": "slide"
    }
   },
   "source": [
    "* Actividades de memorización: \n",
    "  - escucha reiterada de grabaciones de formulas y resultados científicos. \n",
    "  - relectura de notas. \n",
    "  - ejercicios de mayor complejidad. \n",
    "  "
   ]
  },
  {
   "cell_type": "markdown",
   "id": "935a5567",
   "metadata": {
    "slideshow": {
     "slide_type": "slide"
    }
   },
   "source": [
    "## Dificultades de aprendizaje detectados durante la clase"
   ]
  },
  {
   "cell_type": "code",
   "execution_count": null,
   "id": "7d9c6c7f",
   "metadata": {
    "slideshow": {
     "slide_type": "slide"
    }
   },
   "outputs": [],
   "source": []
  },
  {
   "cell_type": "markdown",
   "id": "fb9402bb",
   "metadata": {
    "slideshow": {
     "slide_type": "slide"
    }
   },
   "source": [
    "## Estrategias propuestas para la solución de las dificultades de aprendizaje detectadas"
   ]
  },
  {
   "cell_type": "code",
   "execution_count": null,
   "id": "2dd3bd5c",
   "metadata": {
    "slideshow": {
     "slide_type": "slide"
    }
   },
   "outputs": [],
   "source": []
  },
  {
   "cell_type": "markdown",
   "id": "d11570a2",
   "metadata": {
    "slideshow": {
     "slide_type": "slide"
    }
   },
   "source": [
    "## Cuestionario para realizar labores de memorización y observación,  a la síntesis de la información"
   ]
  },
  {
   "cell_type": "markdown",
   "id": "540f0ec1",
   "metadata": {
    "slideshow": {
     "slide_type": "slide"
    }
   },
   "source": []
  },
  {
   "cell_type": "markdown",
   "id": "236b43fc",
   "metadata": {
    "slideshow": {
     "slide_type": "slide"
    }
   },
   "source": [
    "## Grabaciones en audio para fomentar la capacidad de memorizar enunciados de teoremas y resultados científicos y la capacidad de parafrasear estos resultados. "
   ]
  },
  {
   "cell_type": "markdown",
   "id": "319f2ffa",
   "metadata": {
    "slideshow": {
     "slide_type": "slide"
    }
   },
   "source": [
    "Se dispondrá de un lugar en el drive asociuado al correo institucional de la Universidad Nacional del Profesor Marso para albergar los archivosd de audio de fomento a la memoirización, enunciación y parafraseo de los resultados científicos, prtopiedades, reglas, etc. \n",
    "\n",
    "* Vocaroo"
   ]
  },
  {
   "cell_type": "markdown",
   "id": "564fa59d",
   "metadata": {
    "slideshow": {
     "slide_type": "slide"
    }
   },
   "source": [
    "### Comparta sus cuadernos y videos, evidencias de su aprendizaje [aquí](https://forms.office.com/Pages/ResponsePage.aspx?id=IefhmYRxjkmK_7KtTlPBwkanXIs1i1FEujpsZgO6dXpUMEMwTEZVMzEwVVBPTElWNVg5OVEyWUhMUy4u)"
   ]
  },
  {
   "cell_type": "code",
   "execution_count": null,
   "id": "5fe498b3",
   "metadata": {
    "slideshow": {
     "slide_type": "slide"
    }
   },
   "outputs": [],
   "source": []
  },
  {
   "cell_type": "markdown",
   "id": "44be6d93",
   "metadata": {
    "slideshow": {
     "slide_type": "slide"
    }
   },
   "source": [
    "# Vocabulary "
   ]
  },
  {
   "cell_type": "code",
   "execution_count": null,
   "id": "99b8dfed",
   "metadata": {
    "slideshow": {
     "slide_type": "slide"
    }
   },
   "outputs": [],
   "source": []
  },
  {
   "cell_type": "markdown",
   "id": "ee46cb9a",
   "metadata": {
    "slideshow": {
     "slide_type": "slide"
    }
   },
   "source": [
    "## Mapa conceptual que vincula los conceptos asoaciados al objetivo de aprendizaje"
   ]
  },
  {
   "cell_type": "code",
   "execution_count": null,
   "id": "bf552488",
   "metadata": {
    "slideshow": {
     "slide_type": "slide"
    }
   },
   "outputs": [],
   "source": []
  },
  {
   "cell_type": "markdown",
   "id": "e86160a9",
   "metadata": {},
   "source": [
    "Dame, por favor, un diseño de clase sobre creación y uso de funciones anónimas con la sentencia lambda en python y su utilización en ciencia de datos con técnicas de machine learning siguiendo la siguiente estructura:  \n",
    "1. Título de la clase \n",
    "2. Objetivo de aprendizaje\n",
    "3. Contenido de la clase\n",
    "4. Actividades de aprendizaje\n",
    "5. Tarea o actividades de ejercitación y fijación\n",
    "6. Diseño de actividad de retroalimentación. "
   ]
  },
  {
   "cell_type": "markdown",
   "id": "610183f9",
   "metadata": {},
   "source": [
    "### **Diseño de Clase: Creación y Uso de Funciones Anónimas con `lambda` en Python para Ciencia de Datos y Machine Learning**\n",
    "\n",
    "---\n",
    "\n",
    "#### **1. Título de la clase**  \n",
    "**\"Funciones Anónimas con `lambda` en Python: Aplicaciones en Ciencia de Datos y Machine Learning\"**\n",
    "\n",
    "---\n",
    "\n",
    "#### **2. Objetivo de aprendizaje**  \n",
    "Al finalizar la clase, los estudiantes serán capaces de:  \n",
    "- Comprender la sintaxis y uso de las funciones anónimas `lambda` en Python.  \n",
    "- Aplicar funciones `lambda` para realizar transformaciones y filtrados en datos.  \n",
    "- Integrar funciones `lambda` en técnicas de preprocesamiento y modelado básico de datos en machine learning.\n",
    "\n",
    "---\n",
    "\n",
    "#### **3. Contenido de la clase**  \n",
    "1. **Introducción a las funciones `lambda`:**\n",
    "   - ¿Qué son las funciones anónimas?\n",
    "   - Diferencias entre `lambda` y funciones definidas con `def`.\n",
    "   - Limitaciones y casos de uso.  \n",
    "\n",
    "2. **Sintaxis y ejemplos básicos:**\n",
    "   - Creación de funciones simples con `lambda`.\n",
    "   - Uso de `lambda` con funciones integradas como `map`, `filter`, y `reduce`.  \n",
    "\n",
    "3. **Aplicaciones prácticas en ciencia de datos:**\n",
    "   - Transformaciones en estructuras de datos (`DataFrame` de pandas).  \n",
    "   - Uso de `lambda` para aplicar funciones personalizadas en columnas o filas.  \n",
    "\n",
    "4. **Integración con técnicas de machine learning:**\n",
    "   - Uso de `lambda` para crear funciones en pipelines de preprocesamiento.  \n",
    "   - Implementación de funciones anónimas para evaluar métricas de desempeño.  \n",
    "\n",
    "---\n",
    "\n",
    "#### **4. Actividades de aprendizaje**  \n",
    "1. **Actividad inicial:**  \n",
    "   - Debate rápido sobre las ventajas y limitaciones de las funciones anónimas frente a funciones tradicionales.  \n",
    "\n",
    "2. **Demostración guiada:**  \n",
    "   - Ejemplos prácticos en Python con:\n",
    "     - `lambda` y `map` para transformar listas.  \n",
    "     - `lambda` y `filter` para filtrar datos en listas y columnas de pandas.  \n",
    "     - Aplicación de `lambda` en una columna de un `DataFrame` para normalizar valores.  \n",
    "\n",
    "3. **Mini-proyecto en clase:**  \n",
    "   - Preprocesamiento de un conjunto de datos usando funciones `lambda`:  \n",
    "     - Ejemplo: Dataset de sklearn (`diabetes` o `iris`).  \n",
    "     - Crear columnas derivadas usando `lambda`.  \n",
    "     - Filtrar filas según una condición.  \n",
    "\n",
    "---\n",
    "\n",
    "#### **5. Tarea o actividades de ejercitación y fijación**  \n",
    "**Tarea:**  \n",
    "- Utilizar el dataset *Titanic* de Kaggle o un dataset de sklearn para realizar las siguientes actividades:  \n",
    "  1. Crear nuevas columnas utilizando `lambda` (por ejemplo, categorizar edades).  \n",
    "  2. Filtrar los datos para obtener únicamente los pasajeros con tarifa mayor a un valor determinado.  \n",
    "  3. Implementar un pipeline simple en scikit-learn donde se use una función `lambda` para escalar una columna personalizada.  \n",
    "\n",
    "**Instrucciones para la entrega:**  \n",
    "- Subir el código en un notebook de Jupyter en GitHub.  \n",
    "- Realizar una breve reflexión escrita sobre las ventajas de usar `lambda` en los pasos realizados.  \n",
    "\n",
    "---\n",
    "\n",
    "#### **6. Diseño de actividad de retroalimentación**  \n",
    "1. **Discusión grupal en clase:**  \n",
    "   - Revisión de soluciones de los estudiantes en pequeños grupos.  \n",
    "   - Identificar enfoques alternativos y analizar las limitaciones de `lambda` en los ejercicios planteados.  \n",
    "\n",
    "2. **Evaluación por pares:**  \n",
    "   - Cada estudiante revisará el código de un compañero, verificando que las soluciones con `lambda` sean correctas y legibles.  \n",
    "\n",
    "3. **Retroalimentación del instructor:**  \n",
    "   - Proporcionar ejemplos optimizados de los ejercicios realizados.  \n",
    "   - Mostrar cómo se podrían reemplazar las funciones `lambda` con métodos alternativos para casos más complejos.  \n",
    "\n",
    "---\n",
    "\n",
    "Este diseño proporciona una estructura clara para abordar el uso de funciones anónimas `lambda` en un contexto aplicado a ciencia de datos y machine learning, fomentando la práctica activa y el aprendizaje significativo."
   ]
  },
  {
   "cell_type": "markdown",
   "id": "ed1e4a56",
   "metadata": {},
   "source": [
    "# Implementación de la clase  \n",
    "\n",
    "### **Diseño de Clase: Creación y Uso de Funciones Anónimas con `lambda` en Python para Ciencia de Datos y Machine Learning**\n",
    "\n",
    "---\n",
    "\n",
    "#### **1. Título de la clase**  \n",
    "**\"Funciones Anónimas con `lambda` en Python: Aplicaciones en Ciencia de Datos y Machine Learning\"**\n",
    "\n",
    "---\n",
    "\n",
    "#### **2. Objetivo de aprendizaje**  \n",
    "Al finalizar la clase, los estudiantes serán capaces de:  \n",
    "- Comprender la sintaxis y uso de las funciones anónimas `lambda` en Python.  \n",
    "- Aplicar funciones `lambda` para realizar transformaciones y filtrados en datos.  \n",
    "- Integrar funciones `lambda` en técnicas de preprocesamiento y modelado básico de datos en machine learning.\n",
    "\n",
    "---\n",
    "\n",
    "#### **3. Contenido de la clase**  \n",
    "1. **Introducción a las funciones `lambda`:**\n",
    "   - ¿Qué son las funciones anónimas?\n",
    "   - Diferencias entre `lambda` y funciones definidas con `def`.\n",
    "   - Limitaciones y casos de uso.  \n",
    "\n",
    "2. **Sintaxis y ejemplos básicos:**\n",
    "   - Creación de funciones simples con `lambda`.\n",
    "   - Uso de `lambda` con funciones integradas como `map`, `filter`, y `reduce`.  \n",
    "\n",
    "3. **Aplicaciones prácticas en ciencia de datos:**\n",
    "   - Transformaciones en estructuras de datos (`DataFrame` de pandas).  \n",
    "   - Uso de `lambda` para aplicar funciones personalizadas en columnas o filas.  \n",
    "\n",
    "4. **Integración con técnicas de machine learning:**\n",
    "   - Uso de `lambda` para crear funciones en pipelines de preprocesamiento.  \n",
    "   - Implementación de funciones anónimas para evaluar métricas de desempeño.  \n",
    "\n",
    "---\n",
    "\n",
    "#### **4. Actividades de aprendizaje**  \n",
    "1. **Actividad inicial:**  \n",
    "   - Debate rápido sobre las ventajas y limitaciones de las funciones anónimas frente a funciones tradicionales.  \n",
    "\n",
    "2. **Demostración guiada:**  \n",
    "   - Ejemplos prácticos en Python con:\n",
    "     - `lambda` y `map` para transformar listas.  \n",
    "     - `lambda` y `filter` para filtrar datos en listas y columnas de pandas.  \n",
    "     - Aplicación de `lambda` en una columna de un `DataFrame` para normalizar valores.  \n",
    "\n",
    "3. **Mini-proyecto en clase:**  \n",
    "   - Preprocesamiento de un conjunto de datos usando funciones `lambda`:  \n",
    "     - Ejemplo: Dataset de sklearn (`diabetes` o `iris`).  \n",
    "     - Crear columnas derivadas usando `lambda`.  \n",
    "     - Filtrar filas según una condición.  \n",
    "\n",
    "---\n",
    "\n",
    "#### **5. Tarea o actividades de ejercitación y fijación**  \n",
    "**Tarea:**  \n",
    "- Utilizar el dataset *Titanic* de Kaggle o un dataset de sklearn para realizar las siguientes actividades:  \n",
    "  1. Crear nuevas columnas utilizando `lambda` (por ejemplo, categorizar edades).  \n",
    "  2. Filtrar los datos para obtener únicamente los pasajeros con tarifa mayor a un valor determinado.  \n",
    "  3. Implementar un pipeline simple en scikit-learn donde se use una función `lambda` para escalar una columna personalizada.  \n",
    "\n",
    "**Instrucciones para la entrega:**  \n",
    "- Subir el código en un notebook de Jupyter en GitHub.  \n",
    "- Realizar una breve reflexión escrita sobre las ventajas de usar `lambda` en los pasos realizados.  \n",
    "\n",
    "---\n",
    "\n",
    "#### **6. Diseño de actividad de retroalimentación**  \n",
    "1. **Discusión grupal en clase:**  \n",
    "   - Revisión de soluciones de los estudiantes en pequeños grupos.  \n",
    "   - Identificar enfoques alternativos y analizar las limitaciones de `lambda` en los ejercicios planteados.  \n",
    "\n",
    "2. **Evaluación por pares:**  \n",
    "   - Cada estudiante revisará el código de un compañero, verificando que las soluciones con `lambda` sean correctas y legibles.  \n",
    "\n",
    "3. **Retroalimentación del instructor:**  \n",
    "   - Proporcionar ejemplos optimizados de los ejercicios realizados.  \n",
    "   - Mostrar cómo se podrían reemplazar las funciones `lambda` con métodos alternativos para casos más complejos.  \n",
    "\n",
    "---\n",
    "\n",
    "Este diseño proporciona una estructura clara para abordar el uso de funciones anónimas `lambda` en un contexto aplicado a ciencia de datos y machine learning, fomentando la práctica activa y el aprendizaje significativo."
   ]
  },
  {
   "cell_type": "markdown",
   "id": "0266e3c5",
   "metadata": {
    "slideshow": {
     "slide_type": "slide"
    }
   },
   "source": [
    "## Quiz de 5 minutos para ejercitación y adquisición de habilidades "
   ]
  },
  {
   "cell_type": "markdown",
   "id": "3a1b127f",
   "metadata": {
    "slideshow": {
     "slide_type": "slide"
    }
   },
   "source": []
  },
  {
   "cell_type": "markdown",
   "id": "10bce0d0",
   "metadata": {
    "slideshow": {
     "slide_type": "slide"
    }
   },
   "source": [
    "## Referentes "
   ]
  },
  {
   "cell_type": "markdown",
   "id": "1db3c468",
   "metadata": {
    "slideshow": {
     "slide_type": "slide"
    }
   },
   "source": [
    "* [stewart precálculo](https://udeaeduco-my.sharepoint.com/:b:/g/personal/marco_canas_udea_edu_co/ERHIq62I6qFNrmxy6LZb8ZMBci7kUsyNME1nIh9yCBMJ_w?e=0zMSla)  \n",
    "\n",
    "* [stewart cálculo](https://udeaeduco-my.sharepoint.com/:b:/g/personal/marco_canas_udea_edu_co/EZgXZjAp8QxPqOAim2hs6LcBNPLGjSHf-xwYnUVYkwa04w?e=RZdTCy)  \n",
    "\n",
    "* [larson](https://udeaeduco-my.sharepoint.com/:b:/g/personal/marco_canas_udea_edu_co/ES71ChFeO9ZDhW3TwC5Ijk8BjxUK3Pdqz_fjHxTTFAfIAg?e=VDEjfu)\n",
    "\n",
    "* [uzcategui](https://udeaeduco-my.sharepoint.com/:b:/g/personal/marco_canas_udea_edu_co/ETDikm-lVl1Or8XoEo9oyh0BEti9Zs8le-f0D-dBdtZmbA?e=bBsoyQ)\n",
    "\n",
    "* [Recomendación de la UNESCO sobre ciencia abierta](https://unesdoc.unesco.org/ark:/48223/pf0000379949_spa)"
   ]
  },
  {
   "cell_type": "markdown",
   "id": "6b9e56a8",
   "metadata": {
    "slideshow": {
     "slide_type": "slide"
    }
   },
   "source": [
    "### [Evaluamos al profesor Marco Cañas Aquí](https://forms.office.com/Pages/ResponsePage.aspx?id=IefhmYRxjkmK_7KtTlPBwkanXIs1i1FEujpsZgO6dXpUREJPV1kxUk1JV1ozTFJIQVNIQjY5WEY3US4u)"
   ]
  },
  {
   "cell_type": "markdown",
   "id": "071afa04",
   "metadata": {
    "slideshow": {
     "slide_type": "slide"
    }
   },
   "source": [
    "## [Evaluación luego de alcanzar estos objetivos de aprendizaje]()"
   ]
  },
  {
   "cell_type": "markdown",
   "id": "10f43536",
   "metadata": {
    "slideshow": {
     "slide_type": "slide"
    }
   },
   "source": [
    "### Continue su aprendizaje en la siguiente clase a través del siguiente [vínculo]()"
   ]
  },
  {
   "cell_type": "markdown",
   "id": "af751e30",
   "metadata": {
    "slideshow": {
     "slide_type": "slide"
    }
   },
   "source": [
    "# Conjeturas pedagógicas fruto de la aplicación del modelo de aprendizaje invertido y del enfoque hacia la ciencia de datos con python\n",
    "\n",
    "1. Todo cálculo o resultado debe ser interpretado en una línea markdown del cuaderno Jupyter, inmediatamente después de la enunciación del resultado y después de la presentación de una tabla o gráfico bidimensional, de tal menera que el estudiante explicite la comprensión verbal del resultado y las inferencias o estrategias que este resultado le sugieren.   "
   ]
  },
  {
   "cell_type": "markdown",
   "id": "53cc9115",
   "metadata": {
    "slideshow": {
     "slide_type": "slide"
    }
   },
   "source": [
    "## Agradecimientos  \n",
    "\n",
    "Doy gracias a Dios por la vida de mi Hijo Joseph Cañas Osorio y la madurez que ha alcanzado.\n",
    "\n",
    "Y a mi esposa Yasmira por su apoyo, orientación y acompañamiento. "
   ]
  },
  {
   "cell_type": "code",
   "execution_count": null,
   "id": "b080a840",
   "metadata": {},
   "outputs": [],
   "source": []
  }
 ],
 "metadata": {
  "celltoolbar": "Slideshow",
  "kernelspec": {
   "display_name": "Python 3 (ipykernel)",
   "language": "python",
   "name": "python3"
  },
  "language_info": {
   "codemirror_mode": {
    "name": "ipython",
    "version": 3
   },
   "file_extension": ".py",
   "mimetype": "text/x-python",
   "name": "python",
   "nbconvert_exporter": "python",
   "pygments_lexer": "ipython3",
   "version": "3.9.13"
  },
  "rise": {
   "enable_chalkboard": true,
   "theme": "sky",
   "transition": "zoom"
  }
 },
 "nbformat": 4,
 "nbformat_minor": 5
}
