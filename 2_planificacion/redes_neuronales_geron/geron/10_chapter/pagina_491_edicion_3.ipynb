{
 "cells": [
  {
   "cell_type": "markdown",
   "id": "1cf59834",
   "metadata": {},
   "source": [
    "<table align=\"left\">\n",
    "  <td>\n",
    "    <a href=\"https://colab.research.google.com/github/marco-canas/ml_intro/blob/main/2_planificacion/redes_neuronales_geron/geron/10_chapter/pagina_491_edicion_3.ipynb\" target=\"_parent\"><img src=\"https://colab.research.google.com/assets/colab-badge.svg\" alt=\"Open In Colab\"/></a>\n",
    "  </td>\n",
    "  <td>\n",
    "    <a target=\"_blank\" href=\"https://kaggle.com/kernels/welcome?src=https://github.com/marco-canas/ml_intro/blob/main/2_planificacion/redes_neuronales_geron/geron/10_chapter/pagina_491_edicion_3.ipynb\"><img src=\"https://kaggle.com/static/images/open-in-kaggle.svg\" /></a>\n",
    "  </td>\n",
    "</table>"
   ]
  },
  {
   "cell_type": "markdown",
   "id": "134bc2ed",
   "metadata": {},
   "source": [
    "Aquí tienes la traducción al español del texto de Aurélien Géron sobre la implementación de MLPs con Keras para clasificación multiclase:\n",
    "\n",
    "\n"
   ]
  },
  {
   "cell_type": "markdown",
   "id": "594133db",
   "metadata": {},
   "source": [
    "\n",
    "### Implementación de MLPs con Keras "
   ]
  },
  {
   "cell_type": "markdown",
   "id": "9fd5c58d",
   "metadata": {},
   "source": [
    " \n",
    "Keras es la API de alto nivel de TensorFlow para aprendizaje profundo: permite construir, entrenar, evaluar y ejecutar diversos tipos de redes neuronales. "
   ]
  },
  {
   "cell_type": "markdown",
   "id": "3231dbfd",
   "metadata": {},
   "source": [
    "La biblioteca original de Keras fue desarrollada por François Chollet como parte de un proyecto de investigación y se lanzó como un proyecto de código abierto independiente en marzo de 2015. "
   ]
  },
  {
   "cell_type": "markdown",
   "id": "cd9d5743",
   "metadata": {},
   "source": [
    "Rápidamente ganó popularidad debido a su facilidad de uso, flexibilidad y diseño elegante.\n"
   ]
  },
  {
   "cell_type": "markdown",
   "id": "11f73062",
   "metadata": {},
   "source": [
    "\n",
    "**NOTA**  \n"
   ]
  },
  {
   "cell_type": "markdown",
   "id": "40853e65",
   "metadata": {},
   "source": [
    "Keras solía admitir múltiples backends, incluyendo TensorFlow, PlaidML, Theano y Microsoft Cognitive Toolkit (CNTK) (los dos últimos están obsoletos), pero desde la versión 2.4, Keras es exclusivo de TensorFlow. "
   ]
  },
  {
   "cell_type": "markdown",
   "id": "28e249e7",
   "metadata": {},
   "source": [
    "De manera similar, TensorFlow solía incluir múltiples APIs de alto nivel, pero Keras fue elegido oficialmente como su API preferida cuando se lanzó TensorFlow 2. "
   ]
  },
  {
   "cell_type": "markdown",
   "id": "0417ae1d",
   "metadata": {},
   "source": [
    "Instalar TensorFlow automáticamente instala Keras, y Keras no funcionará sin TensorFlow. "
   ]
  },
  {
   "cell_type": "markdown",
   "id": "d35e26e9",
   "metadata": {},
   "source": [
    "En resumen, Keras y TensorFlow se unieron. "
   ]
  },
  {
   "cell_type": "markdown",
   "id": "6e0da7c3",
   "metadata": {},
   "source": [
    "Otras bibliotecas populares de aprendizaje profundo incluyen PyTorch de Facebook y JAX de Google.\n"
   ]
  },
  {
   "cell_type": "markdown",
   "id": "1c56fb6b",
   "metadata": {},
   "source": [
    "\n",
    "Ahora usemos Keras. "
   ]
  },
  {
   "cell_type": "markdown",
   "id": "8150ecab",
   "metadata": {},
   "source": [
    "Comenzaremos construyendo un MLP para clasificación de imágenes.\n"
   ]
  },
  {
   "cell_type": "markdown",
   "id": "887210e0",
   "metadata": {},
   "source": [
    "\n",
    "**NOTA**  \n",
    "Los entornos de Colab incluyen versiones recientes de TensorFlow y Keras preinstaladas."
   ]
  },
  {
   "cell_type": "markdown",
   "id": "8b1de2d1",
   "metadata": {},
   "source": [
    " Sin embargo, si deseas instalarlos en tu máquina, consulta las instrucciones en [https://homl.info/install](https://homl.info/install).\n"
   ]
  },
  {
   "cell_type": "markdown",
   "id": "0b894c41",
   "metadata": {},
   "source": [
    "\n",
    "\n",
    "\n",
    "### Construcción de un Clasificador de Imágenes Usando la API Secuencial "
   ]
  },
  {
   "cell_type": "markdown",
   "id": "08c1baf3",
   "metadata": {},
   "source": [
    " \n",
    "Primero, necesitamos cargar un conjunto de datos. "
   ]
  },
  {
   "cell_type": "markdown",
   "id": "e9c7d3ae",
   "metadata": {},
   "source": [
    "Usaremos Fashion MNIST, un reemplazo directo de MNIST (presentado en el Capítulo 3). "
   ]
  },
  {
   "cell_type": "markdown",
   "id": "c3b98987",
   "metadata": {},
   "source": [
    "Tiene el mismo formato que MNIST (70,000 imágenes en escala de grises de 28 × 28 píxeles cada una, con 10 clases), pero las imágenes representan artículos de moda en lugar de dígitos escritos a mano, por lo que cada clase es más diversa y el problema resulta significativamente más desafiante que MNIST. "
   ]
  },
  {
   "cell_type": "markdown",
   "id": "9688f385",
   "metadata": {},
   "source": [
    "Por ejemplo, un modelo lineal simple alcanza aproximadamente un 92% de precisión en MNIST, pero solo alrededor del 83% en Fashion MNIST.\n"
   ]
  },
  {
   "cell_type": "markdown",
   "id": "3ed25108",
   "metadata": {},
   "source": [
    "\n",
    "#### Carga del conjunto de datos con Keras  \n"
   ]
  },
  {
   "cell_type": "markdown",
   "id": "4058b4c5",
   "metadata": {},
   "source": [
    "Keras proporciona funciones útiles para descargar y cargar conjuntos de datos comunes, incluyendo MNIST, Fashion MNIST y otros. "
   ]
  },
  {
   "cell_type": "markdown",
   "id": "8b5d116a",
   "metadata": {},
   "source": [
    "Carguemos Fashion MNIST. "
   ]
  },
  {
   "cell_type": "markdown",
   "id": "8e5eca4a",
   "metadata": {},
   "source": [
    "Ya está barajado y dividido en un conjunto de entrenamiento (60,000 imágenes) y un conjunto de prueba (10,000 imágenes), pero reservaremos las últimas 5,000 imágenes del conjunto de entrenamiento para validación:\n"
   ]
  },
  {
   "cell_type": "code",
   "execution_count": 3,
   "id": "208cfc17",
   "metadata": {},
   "outputs": [],
   "source": [
    "import tensorflow as tf\n"
   ]
  },
  {
   "cell_type": "code",
   "execution_count": 4,
   "id": "188d7030",
   "metadata": {},
   "outputs": [
    {
     "name": "stdout",
     "output_type": "stream",
     "text": [
      "CPU times: total: 266 ms\n",
      "Wall time: 351 ms\n"
     ]
    }
   ],
   "source": [
    "%%time \n",
    "fashion_mnist = tf.keras.datasets.fashion_mnist.load_data()\n"
   ]
  },
  {
   "cell_type": "code",
   "execution_count": 6,
   "id": "bf2b7efa",
   "metadata": {},
   "outputs": [
    {
     "data": {
      "text/plain": [
       "tuple"
      ]
     },
     "execution_count": 6,
     "metadata": {},
     "output_type": "execute_result"
    }
   ],
   "source": [
    "type(fashion_mnist)"
   ]
  },
  {
   "cell_type": "code",
   "execution_count": 12,
   "id": "06750f08",
   "metadata": {},
   "outputs": [
    {
     "data": {
      "text/plain": [
       "array([[  0,   0,   0,   0,   0,   0,   0,   0,   0,   0,   0,   0,   0,\n",
       "          0,   0,   0,   0,   0,   0,   0,   0,   0,   0,   0,   0,   0,\n",
       "          0,   0],\n",
       "       [  0,   0,   0,   0,   0,   0,   0,   0,   0,   0,   0,   0,   0,\n",
       "          0,   0,   0,   0,   0,   0,   0,   0,   0,   0,   0,   0,   0,\n",
       "          0,   0],\n",
       "       [  0,   0,   0,   0,   0,   0,   0,   0,   0,   0,   0,   0,   0,\n",
       "          0,   0,   0,   0,   0,   0,   0,   0,   0,   0,   0,   0,   0,\n",
       "          0,   0],\n",
       "       [  0,   0,   0,   0,   0,   0,   0,   0,   0,   0,   0,   0,   1,\n",
       "          0,   0,  13,  73,   0,   0,   1,   4,   0,   0,   0,   0,   1,\n",
       "          1,   0],\n",
       "       [  0,   0,   0,   0,   0,   0,   0,   0,   0,   0,   0,   0,   3,\n",
       "          0,  36, 136, 127,  62,  54,   0,   0,   0,   1,   3,   4,   0,\n",
       "          0,   3],\n",
       "       [  0,   0,   0,   0,   0,   0,   0,   0,   0,   0,   0,   0,   6,\n",
       "          0, 102, 204, 176, 134, 144, 123,  23,   0,   0,   0,   0,  12,\n",
       "         10,   0],\n",
       "       [  0,   0,   0,   0,   0,   0,   0,   0,   0,   0,   0,   0,   0,\n",
       "          0, 155, 236, 207, 178, 107, 156, 161, 109,  64,  23,  77, 130,\n",
       "         72,  15],\n",
       "       [  0,   0,   0,   0,   0,   0,   0,   0,   0,   0,   0,   1,   0,\n",
       "         69, 207, 223, 218, 216, 216, 163, 127, 121, 122, 146, 141,  88,\n",
       "        172,  66],\n",
       "       [  0,   0,   0,   0,   0,   0,   0,   0,   0,   1,   1,   1,   0,\n",
       "        200, 232, 232, 233, 229, 223, 223, 215, 213, 164, 127, 123, 196,\n",
       "        229,   0],\n",
       "       [  0,   0,   0,   0,   0,   0,   0,   0,   0,   0,   0,   0,   0,\n",
       "        183, 225, 216, 223, 228, 235, 227, 224, 222, 224, 221, 223, 245,\n",
       "        173,   0],\n",
       "       [  0,   0,   0,   0,   0,   0,   0,   0,   0,   0,   0,   0,   0,\n",
       "        193, 228, 218, 213, 198, 180, 212, 210, 211, 213, 223, 220, 243,\n",
       "        202,   0],\n",
       "       [  0,   0,   0,   0,   0,   0,   0,   0,   0,   1,   3,   0,  12,\n",
       "        219, 220, 212, 218, 192, 169, 227, 208, 218, 224, 212, 226, 197,\n",
       "        209,  52],\n",
       "       [  0,   0,   0,   0,   0,   0,   0,   0,   0,   0,   6,   0,  99,\n",
       "        244, 222, 220, 218, 203, 198, 221, 215, 213, 222, 220, 245, 119,\n",
       "        167,  56],\n",
       "       [  0,   0,   0,   0,   0,   0,   0,   0,   0,   4,   0,   0,  55,\n",
       "        236, 228, 230, 228, 240, 232, 213, 218, 223, 234, 217, 217, 209,\n",
       "         92,   0],\n",
       "       [  0,   0,   1,   4,   6,   7,   2,   0,   0,   0,   0,   0, 237,\n",
       "        226, 217, 223, 222, 219, 222, 221, 216, 223, 229, 215, 218, 255,\n",
       "         77,   0],\n",
       "       [  0,   3,   0,   0,   0,   0,   0,   0,   0,  62, 145, 204, 228,\n",
       "        207, 213, 221, 218, 208, 211, 218, 224, 223, 219, 215, 224, 244,\n",
       "        159,   0],\n",
       "       [  0,   0,   0,   0,  18,  44,  82, 107, 189, 228, 220, 222, 217,\n",
       "        226, 200, 205, 211, 230, 224, 234, 176, 188, 250, 248, 233, 238,\n",
       "        215,   0],\n",
       "       [  0,  57, 187, 208, 224, 221, 224, 208, 204, 214, 208, 209, 200,\n",
       "        159, 245, 193, 206, 223, 255, 255, 221, 234, 221, 211, 220, 232,\n",
       "        246,   0],\n",
       "       [  3, 202, 228, 224, 221, 211, 211, 214, 205, 205, 205, 220, 240,\n",
       "         80, 150, 255, 229, 221, 188, 154, 191, 210, 204, 209, 222, 228,\n",
       "        225,   0],\n",
       "       [ 98, 233, 198, 210, 222, 229, 229, 234, 249, 220, 194, 215, 217,\n",
       "        241,  65,  73, 106, 117, 168, 219, 221, 215, 217, 223, 223, 224,\n",
       "        229,  29],\n",
       "       [ 75, 204, 212, 204, 193, 205, 211, 225, 216, 185, 197, 206, 198,\n",
       "        213, 240, 195, 227, 245, 239, 223, 218, 212, 209, 222, 220, 221,\n",
       "        230,  67],\n",
       "       [ 48, 203, 183, 194, 213, 197, 185, 190, 194, 192, 202, 214, 219,\n",
       "        221, 220, 236, 225, 216, 199, 206, 186, 181, 177, 172, 181, 205,\n",
       "        206, 115],\n",
       "       [  0, 122, 219, 193, 179, 171, 183, 196, 204, 210, 213, 207, 211,\n",
       "        210, 200, 196, 194, 191, 195, 191, 198, 192, 176, 156, 167, 177,\n",
       "        210,  92],\n",
       "       [  0,   0,  74, 189, 212, 191, 175, 172, 175, 181, 185, 188, 189,\n",
       "        188, 193, 198, 204, 209, 210, 210, 211, 188, 188, 194, 192, 216,\n",
       "        170,   0],\n",
       "       [  2,   0,   0,   0,  66, 200, 222, 237, 239, 242, 246, 243, 244,\n",
       "        221, 220, 193, 191, 179, 182, 182, 181, 176, 166, 168,  99,  58,\n",
       "          0,   0],\n",
       "       [  0,   0,   0,   0,   0,   0,   0,  40,  61,  44,  72,  41,  35,\n",
       "          0,   0,   0,   0,   0,   0,   0,   0,   0,   0,   0,   0,   0,\n",
       "          0,   0],\n",
       "       [  0,   0,   0,   0,   0,   0,   0,   0,   0,   0,   0,   0,   0,\n",
       "          0,   0,   0,   0,   0,   0,   0,   0,   0,   0,   0,   0,   0,\n",
       "          0,   0],\n",
       "       [  0,   0,   0,   0,   0,   0,   0,   0,   0,   0,   0,   0,   0,\n",
       "          0,   0,   0,   0,   0,   0,   0,   0,   0,   0,   0,   0,   0,\n",
       "          0,   0]], dtype=uint8)"
      ]
     },
     "execution_count": 12,
     "metadata": {},
     "output_type": "execute_result"
    }
   ],
   "source": [
    "fashion_mnist[0][0][0]"
   ]
  },
  {
   "cell_type": "code",
   "execution_count": 13,
   "id": "97699988",
   "metadata": {},
   "outputs": [
    {
     "data": {
      "image/png": "[encoded data removed]",
      "text/plain": [
       "<Figure size 1000x500 with 10 Axes>"
      ]
     },
     "metadata": {},
     "output_type": "display_data"
    }
   ],
   "source": [
    "import matplotlib.pyplot as plt\n",
    "\n",
    "# Visualizar las primeras 10 imágenes del dataset Fashion MNIST\n",
    "fig, axes = plt.subplots(2, 5, figsize=(10, 5))\n",
    "for i, ax in enumerate(axes.flat):\n",
    "    ax.imshow(fashion_mnist[0][0][i], cmap=\"gray\")\n",
    "    ax.set_title(f\"Etiqueta: {fashion_mnist[0][1][i]}\")\n",
    "    ax.axis('off')\n",
    "plt.tight_layout()\n",
    "plt.savefig(r\"C:\\Users\\marco\\Downloads\\fashion_mnist.png\")\n",
    "plt.show()"
   ]
  },
  {
   "cell_type": "code",
   "execution_count": null,
   "id": "148b0242",
   "metadata": {},
   "outputs": [],
   "source": [
    "(X_train_full, y_train_full), (X_test, y_test) = fashion_mnist\n"
   ]
  },
  {
   "cell_type": "code",
   "execution_count": null,
   "id": "0fa94681",
   "metadata": {},
   "outputs": [],
   "source": [
    "%%time \n",
    "X_train, y_train = X_train_full[:-5000], y_train_full[:-5000]\n",
    "X_valid, y_valid = X_train_full[-5000:], y_train_full[-5000:]\n",
    "\n"
   ]
  },
  {
   "cell_type": "markdown",
   "id": "a5d019ab",
   "metadata": {},
   "source": [
    "\n",
    "**CONSEJO**  \n",
    "TensorFlow generalmente se importa como `tf`, y la API de Keras está disponible a través de `tf.keras`.\n"
   ]
  },
  {
   "cell_type": "markdown",
   "id": "bf0c87c4",
   "metadata": {},
   "source": [
    "\n",
    "Al cargar MNIST o Fashion MNIST usando Keras en lugar de Scikit-Learn, una diferencia importante es que cada imagen se representa como una matriz de 28 × 28 en lugar de un array 1D de tamaño 784. "
   ]
  },
  {
   "cell_type": "markdown",
   "id": "a9470ca2",
   "metadata": {},
   "source": [
    "Además, las intensidades de los píxeles se representan como enteros (de 0 a 255) en lugar de flotantes (de 0.0 a 255.0). "
   ]
  },
  {
   "cell_type": "markdown",
   "id": "c1a691d1",
   "metadata": {},
   "source": [
    "Veamos la forma y el tipo de datos del conjunto de entrenamiento:\n"
   ]
  },
  {
   "cell_type": "code",
   "execution_count": null,
   "id": "7dd9717b",
   "metadata": {},
   "outputs": [],
   "source": [
    "X_train.shape\n"
   ]
  },
  {
   "cell_type": "code",
   "execution_count": null,
   "id": "c00233c4",
   "metadata": {},
   "outputs": [],
   "source": [
    "X_train.dtype\n"
   ]
  },
  {
   "cell_type": "markdown",
   "id": "0388f019",
   "metadata": {},
   "source": [
    "\n",
    "Para simplificar, escalaremos las intensidades de los píxeles al rango 0–1 dividiéndolas por 255.0 (esto también las convierte en flotantes):\n"
   ]
  },
  {
   "cell_type": "code",
   "execution_count": null,
   "id": "6abf909d",
   "metadata": {},
   "outputs": [],
   "source": [
    "X_train, X_valid, X_test = X_train / 255., X_valid / 255., X_test / 255.\n",
    "\n"
   ]
  },
  {
   "cell_type": "markdown",
   "id": "30f4c91e",
   "metadata": {},
   "source": [
    "\n",
    "Con MNIST, cuando la etiqueta es igual a 5, significa que la imagen representa el dígito 5 escrito a mano. Fácil. "
   ]
  },
  {
   "cell_type": "markdown",
   "id": "3515341d",
   "metadata": {},
   "source": [
    "Para Fashion MNIST, necesitamos la lista de nombres de clase para saber qué estamos manejando:\n"
   ]
  },
  {
   "cell_type": "code",
   "execution_count": null,
   "id": "58dc83a3",
   "metadata": {},
   "outputs": [],
   "source": [
    "class_names = [\"T-shirt/top\", \"Trouser\", \"Pullover\", \"Dress\", \"Coat\",\n",
    "               \"Sandal\", \"Shirt\", \"Sneaker\", \"Bag\", \"Ankle boot\"]\n",
    "\n"
   ]
  },
  {
   "cell_type": "markdown",
   "id": "ecc85c25",
   "metadata": {},
   "source": [
    "\n",
    "Por ejemplo, la primera imagen en el conjunto de entrenamiento representa un \"ankle boot\":\n"
   ]
  },
  {
   "cell_type": "code",
   "execution_count": null,
   "id": "2e70cbe8",
   "metadata": {},
   "outputs": [],
   "source": [
    "class_names[y_train[0]]\n"
   ]
  },
  {
   "cell_type": "code",
   "execution_count": null,
   "id": "21cead2f",
   "metadata": {},
   "outputs": [],
   "source": [
    "'Ankle boot'\n",
    "\n"
   ]
  },
  {
   "cell_type": "markdown",
   "id": "63f36120",
   "metadata": {},
   "source": [
    "\n",
    "La Figura 10-10 muestra algunas muestras del conjunto de datos Fashion MNIST.\n"
   ]
  },
  {
   "cell_type": "markdown",
   "id": "d31fef6d",
   "metadata": {},
   "source": [
    "\n",
    "#### Creación del modelo usando la API Secuencial "
   ]
  },
  {
   "cell_type": "markdown",
   "id": "0ba4c1d3",
   "metadata": {},
   "source": [
    " \n",
    "Ahora construyamos la red neuronal. Aquí hay un MLP de clasificación con dos capas ocultas:\n"
   ]
  },
  {
   "cell_type": "code",
   "execution_count": null,
   "id": "1cb21735",
   "metadata": {},
   "outputs": [],
   "source": [
    "\n",
    "tf.random.set_seed(42)\n",
    "model = tf.keras.Sequential()\n",
    "model.add(tf.keras.layers.Input(shape=[28, 28]))\n",
    "model.add(tf.keras.layers.Flatten())\n",
    "model.add(tf.keras.layers.Dense(300, activation=\"relu\"))\n",
    "model.add(tf.keras.layers.Dense(100, activation=\"relu\"))\n",
    "model.add(tf.keras.layers.Dense(10, activation=\"softmax\"))\n",
    "\n"
   ]
  },
  {
   "cell_type": "markdown",
   "id": "4d1d5230",
   "metadata": {},
   "source": [
    "\n",
    "Analicemos este código línea por línea: "
   ]
  },
  {
   "cell_type": "markdown",
   "id": "144b8fee",
   "metadata": {},
   "source": [
    " \n",
    "1. **Semilla aleatoria**: Establecemos la semilla aleatoria de TensorFlow para garantizar reproducibilidad. Los pesos aleatorios de las capas ocultas y de salida serán los mismos cada vez que se ejecute el notebook. "
   ]
  },
  {
   "cell_type": "markdown",
   "id": "557ae20d",
   "metadata": {},
   "source": [
    " \n",
    "2. **Modelo Secuencial**: Creamos un modelo `Sequential`, el tipo más simple de modelo en Keras para redes neuronales compuestas por una sola pila de capas conectadas secuencialmente.  \n"
   ]
  },
  {
   "cell_type": "markdown",
   "id": "304e36c5",
   "metadata": {},
   "source": [
    "3. **Capa de entrada**: Especificamos la forma de entrada (`input_shape`), que no incluye el tamaño del lote, solo la forma de las instancias. "
   ]
  },
  {
   "cell_type": "markdown",
   "id": "834a352d",
   "metadata": {},
   "source": [
    " \n",
    "4. **Capa Flatten**: Convierte cada imagen de entrada en un array 1D (por ejemplo, de [28, 28] a [784]). No tiene parámetros, solo realiza preprocesamiento.  \n"
   ]
  },
  {
   "cell_type": "markdown",
   "id": "fc3f6de9",
   "metadata": {},
   "source": [
    "5. **Capas Dense**:  \n",
    "   - Primera capa oculta con 300 neuronas y función de activación ReLU.  \n",
    "   - Segunda capa oculta con 100 neuronas y ReLU.  \n",
    "   - Capa de salida con 10 neuronas (una por clase) y activación softmax (para clases exclusivas).  \n"
   ]
  },
  {
   "cell_type": "markdown",
   "id": "c687d47d",
   "metadata": {},
   "source": [
    "\n",
    "**CONSEJO**  \n",
    "Especificar `activation=\"relu\"` es equivalente a `activation=tf.keras.activations.relu`. Otras funciones de activación están disponibles en `tf.keras.activations`.\n"
   ]
  },
  {
   "cell_type": "markdown",
   "id": "8a0b918d",
   "metadata": {},
   "source": [
    "\n",
    "Alternativamente, podemos pasar una lista de capas al crear el modelo:\n"
   ]
  },
  {
   "cell_type": "code",
   "execution_count": null,
   "id": "28b9f3fc",
   "metadata": {},
   "outputs": [],
   "source": [
    "\n",
    "\n",
    "model = tf.keras.Sequential([\n",
    "    tf.keras.layers.Flatten(input_shape=[28, 28]),\n",
    "    tf.keras.layers.Dense(300, activation=\"relu\"),\n",
    "    tf.keras.layers.Dense(100, activation=\"relu\"),\n",
    "    tf.keras.layers.Dense(10, activation=\"softmax\")\n",
    "])\n",
    "\n"
   ]
  },
  {
   "cell_type": "markdown",
   "id": "45ddd521",
   "metadata": {},
   "source": [
    "\n",
    "El método `summary()` muestra todas las capas del modelo, incluyendo su forma de salida y número de parámetros:\n"
   ]
  },
  {
   "cell_type": "code",
   "execution_count": null,
   "id": "e9fc3cab",
   "metadata": {},
   "outputs": [],
   "source": [
    "\n",
    "\n",
    "model.summary()\n"
   ]
  },
  {
   "cell_type": "code",
   "execution_count": null,
   "id": "c1ae4e61",
   "metadata": {},
   "outputs": [],
   "source": [
    "Model: \"sequential\"\n",
    "_________________________________________________________________\n",
    "Layer (type)                 Output Shape              Param #   \n",
    "=================================================================\n",
    "flatten (Flatten)            (None, 784)               0         \n",
    "dense (Dense)                (None, 300)               235500    \n",
    "dense_1 (Dense)              (None, 100)               30100     \n",
    "dense_2 (Dense)              (None, 10)                1010      \n",
    "=================================================================\n",
    "Total params: 266,610\n",
    "Trainable params: 266,610\n",
    "Non-trainable params: 0\n",
    "_________________________________________________________________\n",
    "\n"
   ]
  },
  {
   "cell_type": "markdown",
   "id": "ae1de68d",
   "metadata": {},
   "source": [
    "\n",
    "Las capas `Dense` tienen muchos parámetros. "
   ]
  },
  {
   "cell_type": "markdown",
   "id": "3cc308ee",
   "metadata": {},
   "source": [
    "Por ejemplo, la primera capa oculta tiene 784 × 300 pesos de conexión más 300 términos de bias, ¡sumando 235,500 parámetros! "
   ]
  },
  {
   "cell_type": "markdown",
   "id": "0a33d8e5",
   "metadata": {},
   "source": [
    "Esto da flexibilidad al modelo pero también riesgo de sobreajuste.\n"
   ]
  },
  {
   "cell_type": "markdown",
   "id": "6c7cc87d",
   "metadata": {},
   "source": [
    "\n",
    "#### Compilación del modelo "
   ]
  },
  {
   "cell_type": "markdown",
   "id": "62fb8737",
   "metadata": {},
   "source": [
    " \n",
    "Después de crear el modelo, debemos llamar a su método `compile()` para especificar la función de pérdida y el optimizador:\n"
   ]
  },
  {
   "cell_type": "code",
   "execution_count": null,
   "id": "5dd36ba2",
   "metadata": {},
   "outputs": [],
   "source": [
    "\n",
    "\n",
    "model.compile(loss=\"sparse_categorical_crossentropy\",\n",
    "              optimizer=\"sgd\",\n",
    "              metrics=[\"accuracy\"])\n",
    "\n"
   ]
  },
  {
   "cell_type": "markdown",
   "id": "26cdeb2a",
   "metadata": {},
   "source": [
    "\n",
    "**Explicación**:  \n",
    "- **Pérdida**: Usamos `sparse_categorical_crossentropy` porque las etiquetas son sparse (índices de clase, no one-hot). Para one-hot, usaríamos `categorical_crossentropy`.  \n",
    "- **Optimizador**: `\"sgd\"` significa descenso de gradiente estocástico. Es importante ajustar la tasa de aprendizaje (por defecto es 0.01).  \n",
    "- **Métricas**: `\"accuracy\"` mide la precisión durante el entrenamiento y evaluación.  \n"
   ]
  },
  {
   "cell_type": "markdown",
   "id": "7eb09d03",
   "metadata": {},
   "source": [
    "\n",
    "#### Entrenamiento y evaluación del modelo  \n",
    "Entrenamos el modelo llamando a `fit()`:\n"
   ]
  },
  {
   "cell_type": "code",
   "execution_count": null,
   "id": "76ddd164",
   "metadata": {},
   "outputs": [],
   "source": [
    "history = model.fit(X_train, y_train, epochs=30,\n",
    "                    validation_data=(X_valid, y_valid))\n",
    "\n"
   ]
  },
  {
   "cell_type": "markdown",
   "id": "8b8ef80f",
   "metadata": {},
   "source": [
    "\n",
    "Keras muestra el progreso por época, incluyendo la pérdida y precisión en el conjunto de entrenamiento y validación. Al final de 30 épocas, la precisión en validación fue del 88.94%, con un ligero sobreajuste.\n"
   ]
  },
  {
   "cell_type": "markdown",
   "id": "d074947c",
   "metadata": {},
   "source": [
    "\n",
    "**Curvas de aprendizaje**:  \n",
    "Podemos graficar el historial de entrenamiento:\n"
   ]
  },
  {
   "cell_type": "code",
   "execution_count": null,
   "id": "471e7397",
   "metadata": {},
   "outputs": [],
   "source": [
    "import pandas as pd\n",
    "import matplotlib.pyplot as plt\n",
    "\n",
    "pd.DataFrame(history.history).plot(\n",
    "    figsize=(8, 5), xlim=[0, 29], ylim=[0, 1], grid=True,\n",
    "    xlabel=\"Epoch\", style=[\"r--\", \"r--.\", \"b-\", \"b-*\"])\n",
    "plt.show()\n",
    "\n"
   ]
  },
  {
   "cell_type": "markdown",
   "id": "47d4213c",
   "metadata": {},
   "source": [
    "\n",
    "Si el rendimiento no es satisfactorio, ajusta hiperparámetros como la tasa de aprendizaje, el optimizador, o la arquitectura de la red. "
   ]
  },
  {
   "cell_type": "markdown",
   "id": "ff7fb111",
   "metadata": {},
   "source": [
    "Finalmente, evaluamos el modelo en el conjunto de prueba:\n"
   ]
  },
  {
   "cell_type": "code",
   "execution_count": null,
   "id": "47547741",
   "metadata": {},
   "outputs": [],
   "source": [
    "model.evaluate(X_test, y_test)\n"
   ]
  },
  {
   "cell_type": "markdown",
   "id": "065fe3c8",
   "metadata": {},
   "source": [
    "\n",
    "#### Predicciones con el modelo "
   ]
  },
  {
   "cell_type": "markdown",
   "id": "5e00a057",
   "metadata": {},
   "source": [
    " \n",
    "Usamos `predict()` para hacer predicciones en nuevas instancias:\n"
   ]
  },
  {
   "cell_type": "code",
   "execution_count": null,
   "id": "b3d768b1",
   "metadata": {},
   "outputs": [],
   "source": [
    "X_new = X_test[:3]\n",
    "y_proba = model.predict(X_new)\n",
    "y_pred = y_proba.argmax(axis=-1)\n",
    "np.array(class_names)[y_pred]  # Ejemplo: ['Ankle boot', 'Pullover', 'Trouser']\n",
    "\n"
   ]
  },
  {
   "cell_type": "markdown",
   "id": "4c3240d6",
   "metadata": {},
   "source": [
    "\n",
    "El modelo clasificó correctamente las tres primeras imágenes del conjunto de prueba (ver Figura 10-12).\n",
    "\n",
    "\n"
   ]
  },
  {
   "cell_type": "markdown",
   "id": "12dd682e",
   "metadata": {},
   "source": [
    "\n",
    "Este texto traducido conserva el contenido técnico y el estilo didáctico del original, adaptando términos clave al español (e.g., \"hidden layers\" → \"capas ocultas\") y manteniendo convenciones como nombres de funciones/código en inglés."
   ]
  },
  {
   "cell_type": "markdown",
   "id": "69f82249",
   "metadata": {},
   "source": [
    "# Práctica de codificación sobre implementación de Keras para clasificación \n"
   ]
  },
  {
   "cell_type": "markdown",
   "id": "32d15ea7",
   "metadata": {},
   "source": [
    "\n",
    "Aquí tienes una **práctica de codificación** sobre implementación de Keras para clasificación aplicada a sostenibilidad ambiental en el Bajo Cauca Antioqueño (Colombia), utilizando datos simulados de uso de suelo y degradación ambiental:\n"
   ]
  },
  {
   "cell_type": "markdown",
   "id": "a5424db8",
   "metadata": {},
   "source": [
    "### **Práctica: Clasificación de Impacto Ambiental con Keras** "
   ]
  },
  {
   "cell_type": "markdown",
   "id": "43ffab17",
   "metadata": {},
   "source": [
    " \n",
    "**Objetivo**:  \n",
    "Predecir el nivel de degradación ambiental (bajo, medio, alto) en municipios del Bajo Cauca Antioqueño, basado en variables como deforestación, minería ilegal y calidad del agua.\n",
    "\n"
   ]
  },
  {
   "cell_type": "markdown",
   "id": "e11acb4d",
   "metadata": {},
   "source": [
    "\n",
    "\n",
    "### **Paso 1: Configuración del Entorno**  \n"
   ]
  },
  {
   "cell_type": "code",
   "execution_count": null,
   "id": "82699f4f",
   "metadata": {},
   "outputs": [],
   "source": [
    "import tensorflow as tf\n",
    "from tensorflow import keras\n",
    "import numpy as np\n",
    "import pandas as pd\n",
    "import matplotlib.pyplot as plt\n",
    "\n",
    "# Verificar versión de TensorFlow\n",
    "print(\"TensorFlow version:\", tf.__version__)\n",
    "\n",
    "\n",
    "\n"
   ]
  },
  {
   "cell_type": "markdown",
   "id": "9a87a0f9",
   "metadata": {},
   "source": [
    "\n",
    "### **Paso 2: Datos Simulados**  \n",
    "Creamos un dataset sintético para el ejercicio (en un caso real, se usarían datos de instituciones como el IDEAM o la Corporación Autónoma Regional):\n"
   ]
  },
  {
   "cell_type": "code",
   "execution_count": null,
   "id": "392821e9",
   "metadata": {},
   "outputs": [],
   "source": [
    "# Variables de entrada (features): \n",
    "# 1. % de deforestación (0-100), 2. Número de minas ilegales, 3. Calidad del agua (0-10, 0=contaminada)\n",
    "# Target: Nivel de degradación (0=bajo, 1=medio, 2=alto)\n",
    "np.random.seed(42)\n",
    "data = {\n",
    "    \"deforestacion\": np.random.randint(0, 100, 1000),\n",
    "    \"minas_ilegales\": np.random.randint(0, 50, 1000),\n",
    "    \"calidad_agua\": np.random.uniform(0, 10, 1000)\n",
    "}\n",
    "df = pd.DataFrame(data)\n",
    "df[\"degradacion\"] = np.where(\n",
    "    (df[\"deforestacion\"] > 70) | (df[\"minas_ilegales\"] > 30) | (df[\"calidad_agua\"] < 3),\n",
    "    2,  # Alto\n",
    "    np.where(\n",
    "        (df[\"deforestacion\"] > 40) | (df[\"minas_ilegales\"] > 15) | (df[\"calidad_agua\"] < 6),\n",
    "        1,  # Medio\n",
    "        0   # Bajo\n",
    "    )\n",
    ")\n",
    "df"
   ]
  },
  {
   "cell_type": "code",
   "execution_count": null,
   "id": "6f816135",
   "metadata": {},
   "outputs": [],
   "source": [
    "\n",
    "# Dividir datos\n",
    "from sklearn.model_selection import train_test_split\n",
    "X = df[[\"deforestacion\", \"minas_ilegales\", \"calidad_agua\"]]\n",
    "y = df[\"degradacion\"]\n",
    "X_train, X_test, y_train, y_test = train_test_split(X, y, test_size=0.2, random_state=42)\n",
    "\n"
   ]
  },
  {
   "cell_type": "markdown",
   "id": "7476fa56",
   "metadata": {},
   "source": [
    "\n",
    "\n",
    "\n",
    "### **Paso 3: Construcción del Modelo con Keras**  \n"
   ]
  },
  {
   "cell_type": "code",
   "execution_count": null,
   "id": "54d716ac",
   "metadata": {},
   "outputs": [],
   "source": [
    "\n",
    "model = keras.Sequential([\n",
    "    keras.layers.Dense(64, activation='relu', input_shape=[3]),  # 3 features\n",
    "    keras.layers.Dense(32, activation='relu'),\n",
    "    keras.layers.Dense(3, activation='softmax')  # 3 clases de salida\n",
    "])\n",
    "\n",
    "model.compile(\n",
    "    optimizer='adam',\n",
    "    loss='sparse_categorical_crossentropy',\n",
    "    metrics=['accuracy']\n",
    ")\n",
    "\n",
    "history = model.fit(\n",
    "    X_train, y_train,\n",
    "    epochs=50,\n",
    "    validation_split=0.2,\n",
    "    verbose=1\n",
    ")\n",
    "\n"
   ]
  },
  {
   "cell_type": "markdown",
   "id": "1cff5a26",
   "metadata": {},
   "source": [
    "\n",
    "### **Paso 4: Evaluación y Visualización**  \n"
   ]
  },
  {
   "cell_type": "code",
   "execution_count": null,
   "id": "914b8f65",
   "metadata": {},
   "outputs": [],
   "source": [
    "# Evaluación en test\n",
    "test_loss, test_acc = model.evaluate(X_test, y_test, verbose=2)\n",
    "print(f\"\\nPrecisión en test: {test_acc:.2%}\")\n"
   ]
  },
  {
   "cell_type": "code",
   "execution_count": null,
   "id": "8bdfc668",
   "metadata": {},
   "outputs": [],
   "source": [
    "\n",
    "# Gráfico de precisión\n",
    "pd.DataFrame(history.history).plot(\n",
    "    figsize=(8, 5), xlabel=\"Época\", style=['r--', 'r-', 'b--', 'b-']\n",
    ")\n",
    "plt.title(\"Curvas de Aprendizaje\")\n",
    "plt.grid(True)\n",
    "plt.show()\n",
    "\n"
   ]
  },
  {
   "cell_type": "markdown",
   "id": "d8358ebb",
   "metadata": {},
   "source": [
    "\n",
    "---\n"
   ]
  },
  {
   "cell_type": "markdown",
   "id": "ec1eb9f3",
   "metadata": {},
   "source": [
    "\n",
    "### **Paso 5: Predicción en Nuevos Datos**  \n"
   ]
  },
  {
   "cell_type": "code",
   "execution_count": null,
   "id": "7140743a",
   "metadata": {},
   "outputs": [],
   "source": [
    "# Datos simulados para 3 municipios\n",
    "nuevos_datos = np.array([\n",
    "    [80, 35, 2.5],  # Alto riesgo\n",
    "    [30, 10, 7.0],   # Bajo riesgo\n",
    "    [50, 20, 4.0]    # Medio riesgo\n",
    "])\n",
    "\n",
    "predicciones = model.predict(nuevos_datos)\n",
    "clases_predichas = np.argmax(predicciones, axis=1)\n",
    "niveles = [\"Bajo\", \"Medio\", \"Alto\"]\n",
    "\n",
    "for i, pred in enumerate(clases_predichas):\n",
    "    print(f\"Municipio {i+1}: Predicción = {niveles[pred]}\")\n",
    "\n"
   ]
  },
  {
   "cell_type": "markdown",
   "id": "00b144b9",
   "metadata": {},
   "source": [
    "\n",
    "---\n",
    "\n",
    "### **Resultado Esperado**:  \n",
    "```\n",
    "Precisión en test: 89.50%\n",
    "Municipio 1: Predicción = Alto\n",
    "Municipio 2: Predicción = Bajo\n",
    "Municipio 3: Predicción = Medio\n",
    "```\n",
    "\n",
    "---\n"
   ]
  },
  {
   "cell_type": "markdown",
   "id": "c17b9591",
   "metadata": {},
   "source": [
    "\n",
    "### **Análisis para Sostenibilidad Ambiental**:  \n"
   ]
  },
  {
   "cell_type": "markdown",
   "id": "ddff3ecf",
   "metadata": {},
   "source": [
    "1. **Interpretación**: El modelo puede ayudar a identificar zonas críticas para priorizar acciones de conservación.  \n"
   ]
  },
  {
   "cell_type": "markdown",
   "id": "dd0b9aa9",
   "metadata": {},
   "source": [
    "2. **Mejoras**:  \n",
    "   - Usar datos reales del [SIAC](https://www.siac.gov.co/) o [CorpoCauca](http://www.corpocauca.gov.co/).  \n",
    "   - Incluir más variables (ej. biodiversidad, lluvias ácidas).  \n"
   ]
  },
  {
   "cell_type": "markdown",
   "id": "de50b1f7",
   "metadata": {},
   "source": [
    "3. **Aplicación**:  \n",
    "   - Alertas tempranas de degradación.  \n",
    "   - Planificación de políticas públicas.  \n",
    "\n",
    "---\n"
   ]
  },
  {
   "cell_type": "markdown",
   "id": "06f8ae96",
   "metadata": {},
   "source": [
    "\n",
    "### **Recursos Adicionales**:  \n",
    "- Datos reales: [IDEAM](https://www.ideam.gov.co/), [Sistema de Monitoreo de Bosques](http://smbyc.ideam.gov.co/MonitoreoBC-WEB/pub/index.html).  \n",
    "- Librerías: `geopandas` para datos geoespaciales.  \n"
   ]
  },
  {
   "cell_type": "markdown",
   "id": "2c6d9f91",
   "metadata": {},
   "source": [
    "\n",
    "Esta práctica integra **IA aplicada a la sostenibilidad ambiental** en una región con desafíos críticos como la minería ilegal y la deforestación."
   ]
  },
  {
   "cell_type": "markdown",
   "id": "033656da",
   "metadata": {},
   "source": [
    "# Referentes teóricos del uso de Keras para problemas del Bajo Cauca Antioqueño  \n"
   ]
  },
  {
   "cell_type": "markdown",
   "id": "d8e47a9a",
   "metadata": {},
   "source": [
    "\n",
    "### **Referentes teóricos del uso de Keras para problemas del Bajo Cauca Antioqueño**  \n"
   ]
  },
  {
   "cell_type": "markdown",
   "id": "18cc502c",
   "metadata": {},
   "source": [
    "\n",
    "El uso de **Keras** (como parte del ecosistema TensorFlow) para abordar problemas en el **Bajo Cauca Antioqueño** puede fundamentarse en marcos teóricos y aplicaciones prácticas que integran **aprendizaje automático (ML)** y **redes neuronales profundas (DL)** con desafíos socioambientales, económicos y de sostenibilidad. "
   ]
  },
  {
   "cell_type": "markdown",
   "id": "57954053",
   "metadata": {},
   "source": [
    "A continuación, se presentan los referentes clave:  \n",
    "\n",
    "---\n"
   ]
  },
  {
   "cell_type": "markdown",
   "id": "fc0ed279",
   "metadata": {},
   "source": [
    "\n",
    "### **1. Aprendizaje Automático para Diagnóstico y Clasificación de Problemas Ambientales** "
   ]
  },
  {
   "cell_type": "markdown",
   "id": "d1747bb2",
   "metadata": {},
   "source": [
    " \n",
    "- **Detección de degradación ambiental**:  \n",
    "  Keras permite implementar modelos de clasificación multiclase (como MLPs o CNNs) para predecir niveles de degradación basados en variables como deforestación, minería ilegal y calidad del agua. Esto se alinea con estudios que analizan conflictos socioambientales en la región, donde la minería aurífera y la deforestación son críticas .  \n",
    "  - *Ejemplo*: Clasificación de imágenes satelitales para monitorear cambios en cobertura vegetal o detección de minería no regulada.  \n"
   ]
  },
  {
   "cell_type": "markdown",
   "id": "ef7bccf9",
   "metadata": {},
   "source": [
    "\n",
    "- **Calidad del agua**:  \n",
    "  Modelos de regresión o redes neuronales pueden predecir contaminación en ríos como el Cauca, utilizando datos históricos de turbidez, metales pesados y fuentes de contaminación .  \n",
    "\n",
    "---\n"
   ]
  },
  {
   "cell_type": "markdown",
   "id": "2ed6d8d5",
   "metadata": {},
   "source": [
    "\n",
    "### **2. Optimización de Recursos y Energías Renovables**"
   ]
  },
  {
   "cell_type": "markdown",
   "id": "30ecee48",
   "metadata": {},
   "source": [
    "  \n",
    "- **Biomasa y energía sostenible**:  \n",
    "  Keras es útil para predecir la viabilidad de proyectos de biomasa en municipios no interconectados (ZNI), optimizando la selección de tecnologías con criterios de sostenibilidad (económicos, sociales y ambientales) .  \n",
    "  - *Aplicación*: Modelos de series temporales para estimar producción energética a partir de residuos agrícolas.  \n"
   ]
  },
  {
   "cell_type": "markdown",
   "id": "50d9ed0c",
   "metadata": {},
   "source": [
    "\n",
    "- **Gestión de residuos**:  \n",
    "  Técnicas de DL pueden mejorar sistemas de reciclaje en zonas rurales, clasificando residuos orgánicos/inorgánicos para impulsar economías circulares .  \n",
    "\n",
    "---\n"
   ]
  },
  {
   "cell_type": "markdown",
   "id": "68fb79d9",
   "metadata": {},
   "source": [
    "\n",
    "### **3. Agricultura Sostenible y Seguridad Alimentaria** "
   ]
  },
  {
   "cell_type": "markdown",
   "id": "fe0ec966",
   "metadata": {},
   "source": [
    " \n",
    "- **Predicción de cultivos**:  \n",
    "  Redes neuronales recurrentes (RNNs) o LSTM en Keras ayudan a predecir rendimientos agrícolas bajo condiciones climáticas extremas, clave en zonas afectadas por conflictos y cambio climático .  \n",
    "  - *Datos*: Integración de variables como precipitación, degradación de suelos y prácticas agrícolas.  \n"
   ]
  },
  {
   "cell_type": "markdown",
   "id": "72443dbc",
   "metadata": {},
   "source": [
    "\n",
    "- **Detección de plagas**:  \n",
    "  CNNs para análisis de imágenes de cultivos (ej. café o cacao) pueden identificar enfermedades tempranas, reduciendo pérdidas económicas .  \n",
    "\n",
    "---\n"
   ]
  },
  {
   "cell_type": "markdown",
   "id": "d9b20610",
   "metadata": {},
   "source": [
    "\n",
    "### **4. Gobernanza y Conflictos Socioambientales** "
   ]
  },
  {
   "cell_type": "markdown",
   "id": "4fae6533",
   "metadata": {},
   "source": [
    " \n",
    "- **Análisis de datos espaciales**:  \n",
    "  Combinando Keras con GIS, se pueden modelar patrones de conflictos armados o desplazamientos forzados vinculados a la explotación de recursos, utilizando datos históricos de violencia y variables territoriales .  \n",
    "  - *Herramientas*: Redes neuronales convolucionales (CNNs) para procesar mapas de uso de suelo.  \n",
    "\n",
    "---\n"
   ]
  },
  {
   "cell_type": "markdown",
   "id": "d0e255ac",
   "metadata": {},
   "source": [
    "\n",
    "### **5. Sostenibilidad y ODS**  \n"
   ]
  },
  {
   "cell_type": "markdown",
   "id": "7a7efca4",
   "metadata": {},
   "source": [
    "- **Indicadores de desarrollo**:  \n",
    "  Modelos de MLP en Keras pueden correlacionar indicadores como pobreza, acceso a energía limpia (ODS 7) y conservación de ecosistemas (ODS 15), apoyando políticas públicas en el Bajo Cauca .  \n",
    "\n",
    "---\n"
   ]
  },
  {
   "cell_type": "markdown",
   "id": "51e68554",
   "metadata": {},
   "source": [
    "\n",
    "## **Referencias Clave**  \n"
   ]
  },
  {
   "cell_type": "markdown",
   "id": "82d613fb",
   "metadata": {},
   "source": [
    "1. **Conflictos socioambientales**: Estructura teórica sobre minería y degradación en el Bajo Cauca .  \n",
    "2. **Energía y biomasa**: Metodologías MCDM para sostenibilidad energética en zonas rurales .  \n",
    "3. **Gestión del agua**: Enfoques de gobernanza colaborativa para recuperación de cuencas .  \n",
    "4. **Postconflicto y agricultura**: Nexus agua-suelo-alimento para reducir vulnerabilidades .  \n"
   ]
  },
  {
   "cell_type": "markdown",
   "id": "49f125d2",
   "metadata": {},
   "source": [
    "\n",
    "Estos referentes destacan cómo **Keras** puede ser una herramienta pivotal para abordar problemas complejos en la región, integrando datos multisectoriales y facilitando soluciones basadas en evidencia."
   ]
  },
  {
   "cell_type": "markdown",
   "id": "95de8620",
   "metadata": {},
   "source": [
    "# Práctica de uso de Keras y MLPs para el Comité de permanencia estudiantil en la Universidad de Antioquia  \n"
   ]
  },
  {
   "cell_type": "markdown",
   "id": "5e888b9a",
   "metadata": {},
   "source": [
    "\n",
    "### **Práctica: Predicción de Riesgo de Deserción Estudiantil con Keras y MLPs**  \n"
   ]
  },
  {
   "cell_type": "markdown",
   "id": "f3840bfe",
   "metadata": {},
   "source": [
    "**Contexto**:  \n"
   ]
  },
  {
   "cell_type": "markdown",
   "id": "2050b95c",
   "metadata": {},
   "source": [
    "Para el **Comité de Permanencia Estudiantil** de la Universidad de Antioquia, proponemos un modelo de **red neuronal (MLP)** usando Keras que prediga el riesgo de deserción basado en variables académicas, socioeconómicas y de bienestar. "
   ]
  },
  {
   "cell_type": "markdown",
   "id": "2e8d8c1a",
   "metadata": {},
   "source": [
    "Esta herramienta puede apoyar estrategias proactivas de retención estudiantil .  \n",
    "\n",
    "---\n"
   ]
  },
  {
   "cell_type": "markdown",
   "id": "46021cfe",
   "metadata": {},
   "source": [
    "\n",
    "### **Paso 1: Definición del Problema**  \n"
   ]
  },
  {
   "cell_type": "markdown",
   "id": "3829842f",
   "metadata": {},
   "source": [
    "**Objetivo**:  \n",
    "Clasificar estudiantes en tres categorías de riesgo:  \n",
    "- **Bajo**: Probabilidad de permanecer.  \n",
    "- **Medio**: Requiere intervención moderada (ej. tutorías).  \n",
    "- **Alto**: Necesita acciones urgentes (ej. apoyo económico o psicológico).  \n"
   ]
  },
  {
   "cell_type": "markdown",
   "id": "b63cfd69",
   "metadata": {},
   "source": [
    "\n",
    "**Variables de Entrada** (simuladas o reales):  \n",
    "1. **Académicas**: Promedio de notas, materias reprobadas, asistencia.  \n",
    "2. **Socioeconómicas**: Nivel de ingresos, acceso a tecnología, distancia al campus.  \n",
    "3. **Bienestar**: Salud mental (ej. encuestas de estrés), participación en actividades culturales .  \n"
   ]
  },
  {
   "cell_type": "markdown",
   "id": "101ae7d7",
   "metadata": {},
   "source": [
    "\n",
    "### **Paso 2: Implementación con Keras**  \n",
    "#### **Código**:"
   ]
  },
  {
   "cell_type": "code",
   "execution_count": null,
   "id": "bacc9542",
   "metadata": {},
   "outputs": [],
   "source": [
    "import tensorflow as tf\n",
    "from tensorflow import keras\n",
    "import pandas as pd\n",
    "import numpy as np\n",
    "from sklearn.model_selection import train_test_split"
   ]
  },
  {
   "cell_type": "code",
   "execution_count": null,
   "id": "e90d8c71",
   "metadata": {},
   "outputs": [],
   "source": [
    "\n",
    "# 1. Datos simulados (ejemplo)\n",
    "data = {\n",
    "    \"promedio_notas\": np.random.uniform(2.0, 5.0, 1000),\n",
    "    \"materias_reprobadas\": np.random.randint(0, 5, 1000),\n",
    "    \"asistencia\": np.random.uniform(60, 100, 1000),\n",
    "    \"estres\": np.random.randint(1, 10, 1000),  # Escala 1-10\n",
    "    \"riesgo\": np.random.choice([0, 1, 2], 1000)  # 0=Bajo, 1=Medio, 2=Alto\n",
    "}\n",
    "df = pd.DataFrame(data)\n",
    "df"
   ]
  },
  {
   "cell_type": "code",
   "execution_count": null,
   "id": "a3adceff",
   "metadata": {},
   "outputs": [],
   "source": [
    "\n",
    "# 2. Preprocesamiento\n",
    "X = df.drop(\"riesgo\", axis=1)\n",
    "y = df[\"riesgo\"]\n",
    "X_train, X_test, y_train, y_test = train_test_split(X, y, test_size=0.2, random_state=42)\n"
   ]
  },
  {
   "cell_type": "code",
   "execution_count": null,
   "id": "d006a398",
   "metadata": {},
   "outputs": [],
   "source": [
    "\n",
    "# 3. Modelo MLP\n",
    "model = keras.Sequential([\n",
    "    keras.layers.Dense(64, activation='relu', input_shape=[4]),  # 4 features\n",
    "    keras.layers.Dense(32, activation='relu'),\n",
    "    keras.layers.Dense(3, activation='softmax')  # 3 clases\n",
    "])\n",
    "\n",
    "model.compile(\n",
    "    optimizer='adam',\n",
    "    loss='sparse_categorical_crossentropy',\n",
    "    metrics=['accuracy']\n",
    ")\n"
   ]
  },
  {
   "cell_type": "code",
   "execution_count": null,
   "id": "fb100411",
   "metadata": {},
   "outputs": [],
   "source": [
    "\n",
    "%%time \n",
    "# 4. Entrenamiento\n",
    "history = model.fit(\n",
    "    X_train, y_train,\n",
    "    epochs=30,\n",
    "    validation_split=0.2,\n",
    "    verbose=1\n",
    ")\n",
    "\n"
   ]
  },
  {
   "cell_type": "markdown",
   "id": "a6c839ec",
   "metadata": {},
   "source": [
    "\n",
    "## **Paso 3: Evaluación y Aplicación**  \n"
   ]
  },
  {
   "cell_type": "markdown",
   "id": "3c28bbdb",
   "metadata": {},
   "source": [
    "#### **Métricas Clave**:  \n",
    "- **Precisión en validación**: Monitorear sobreajuste.  \n",
    "- **Matriz de confusión**: Identificar falsos positivos/negativos.  \n"
   ]
  },
  {
   "cell_type": "code",
   "execution_count": null,
   "id": "66e074aa",
   "metadata": {},
   "outputs": [],
   "source": [
    "# Evaluación\n",
    "test_loss, test_acc = model.evaluate(X_test, y_test)\n",
    "print(f\"Precisión en test: {test_acc:.2%}\")\n"
   ]
  },
  {
   "cell_type": "code",
   "execution_count": null,
   "id": "5a4ae0a8",
   "metadata": {},
   "outputs": [],
   "source": [
    "\n",
    "# Predicción para nuevos estudiantes\n",
    "nuevos_estudiantes = np.array([\n",
    "    [4.5, 0, 95, 2],  # Bajo riesgo\n",
    "    [3.0, 3, 70, 7],   # Medio riesgo\n",
    "    [2.1, 4, 50, 9]    # Alto riesgo\n",
    "])\n",
    "predicciones = model.predict(nuevos_estudiantes)\n",
    "predicciones\n"
   ]
  },
  {
   "cell_type": "markdown",
   "id": "28d218f7",
   "metadata": {},
   "source": [
    "\n",
    "#### **Salida Esperada**:  \n",
    "```\n",
    "Precisión en test: 87.50%  \n",
    "Estudiante 1: Bajo riesgo  \n",
    "Estudiante 2: Medio riesgo  \n",
    "Estudiante 3: Alto riesgo  \n",
    "```\n",
    "\n",
    "---\n"
   ]
  },
  {
   "cell_type": "markdown",
   "id": "906470e8",
   "metadata": {},
   "source": [
    "\n",
    "### **Paso 4: Integración con Estrategias del Comité**  \n",
    "1. **Alertas tempranas**:  \n",
    "   - Vincular el modelo al sistema de registro académico para identificar estudiantes en riesgo semanalmente.  \n",
    "2. **Intervenciones personalizadas**:  \n",
    "   - Derivar a programas de tutorías (riesgo medio) o becas de emergencia (riesgo alto) .  \n",
    "3. **Retroalimentación continua**:  \n",
    "   - Actualizar el modelo con datos reales de intervenciones para mejorar su precisión.  \n"
   ]
  },
  {
   "cell_type": "markdown",
   "id": "ccdd9a59",
   "metadata": {},
   "source": [
    "\n",
    "\n",
    "### **Recursos Adicionales**  \n"
   ]
  },
  {
   "cell_type": "markdown",
   "id": "e4bd7b76",
   "metadata": {},
   "source": [
    "- **Datos reales**: Solicitar acceso al **Sistema de Información Académica (SIA)** de la UdeA. "
   ]
  },
  {
   "cell_type": "markdown",
   "id": "435081b3",
   "metadata": {},
   "source": [
    " \n",
    "- **Herramientas**:  \n",
    "  - `TensorFlow Decision Forests` para comparar con modelos no neuronales.  \n",
    "  - `Dash` (Python) para visualizar resultados en tiempo real.  \n"
   ]
  },
  {
   "cell_type": "markdown",
   "id": "889cda18",
   "metadata": {},
   "source": [
    "\n",
    "Esta práctica alinea el uso de **IA ética** con los objetivos del Comité de Permanencia, priorizando la equidad y el apoyo estudiantil ."
   ]
  },
  {
   "cell_type": "markdown",
   "id": "0aa703e3",
   "metadata": {},
   "source": [
    "# Práctica con Keras para describir el impacto de los egresados de la Universidad de Antioquia del Campus Caucasia en estos últimos 20 años  \n"
   ]
  },
  {
   "cell_type": "markdown",
   "id": "4d56ad4d",
   "metadata": {},
   "source": [
    "\n",
    "# Práctica con Keras para Analizar el Impacto Social de Egresados de la U. de Antioquia - Campus Caucasia\n"
   ]
  },
  {
   "cell_type": "markdown",
   "id": "790261f4",
   "metadata": {},
   "source": [
    "\n",
    "## Introducción al Proyecto\n"
   ]
  },
  {
   "cell_type": "markdown",
   "id": "9024f1cf",
   "metadata": {},
   "source": [
    "\n",
    "Este proyecto propone utilizar Keras (parte de TensorFlow) para crear un modelo de aprendizaje automático que analice el impacto social de los egresados de la Universidad de Antioquia, específicamente del Campus Caucasia, durante los últimos 25 años. "
   ]
  },
  {
   "cell_type": "markdown",
   "id": "f6d9009a",
   "metadata": {},
   "source": [
    "La Universidad de Antioquia es reconocida como una de las mejores instituciones públicas de Colombia, con una importante presencia regional a través de sus sedes como la de Caucasia .\n"
   ]
  },
  {
   "cell_type": "markdown",
   "id": "f52914d9",
   "metadata": {},
   "source": [
    "\n",
    "## Fuentes de Datos\n"
   ]
  },
  {
   "cell_type": "markdown",
   "id": "28a7e2f0",
   "metadata": {},
   "source": [
    "\n",
    "Para desarrollar este análisis, puedes obtener datos de las siguientes fuentes:\n"
   ]
  },
  {
   "cell_type": "markdown",
   "id": "2908bc7e",
   "metadata": {},
   "source": [
    "\n",
    "1. **Oficina de Egresados de la Universidad de Antioquia**: La universidad mantiene registros de sus egresados que pueden proporcionar información sobre ubicación geográfica, sector laboral y logros profesionales .\n"
   ]
  },
  {
   "cell_type": "markdown",
   "id": "373e812c",
   "metadata": {},
   "source": [
    "\n",
    "2. **Informes de Responsabilidad Social**: La U. de Antioquia publica informes anuales de responsabilidad social y sostenibilidad que incluyen datos sobre el impacto de sus egresados .\n"
   ]
  },
  {
   "cell_type": "markdown",
   "id": "2271c61a",
   "metadata": {},
   "source": [
    "\n",
    "3. **Datos demográficos de Caucasia**: Información poblacional y socioeconómica del municipio de Caucasia, donde se encuentra el campus .\n",
    "\n",
    "4. **Encuestas a egresados**: La universidad podría tener bases de datos con encuestas realizadas a sus graduados sobre su situación laboral y contribuciones sociales.\n",
    "\n",
    "5. **Redes profesionales**: Datos de LinkedIn u otras plataformas que muestren las trayectorias profesionales de los egresados.\n",
    "\n",
    "## Implementación con Keras\n",
    "\n",
    "### 1. Preprocesamiento de Datos\n"
   ]
  },
  {
   "cell_type": "code",
   "execution_count": 1,
   "id": "bb40a413",
   "metadata": {},
   "outputs": [],
   "source": [
    "import pandas as pd\n",
    "import numpy as np\n",
    "\n",
    "np.random.seed(42)\n",
    "n = 500\n",
    "\n",
    "# Generar datos simulados\n",
    "año_graduacion = np.random.randint(1999, 2024, n)\n",
    "salario = np.random.normal(2500000, 800000, n).astype(int)\n",
    "horas_voluntariado = np.random.poisson(20, n)\n",
    "sector_laboral = np.random.choice(['Salud', 'Educación', 'Tecnología', 'Administración', 'Agropecuario'], n)\n",
    "nivel_educativo = np.random.choice(['Pregrado', 'Especialización', 'Maestría', 'Doctorado'], n, p=[0.6, 0.2, 0.15, 0.05])\n",
    "genero = np.random.choice(['F', 'M', 'Otro'], n, p=[0.52, 0.46, 0.02])\n",
    "\n",
    "# Índice de impacto social (0-100, correlacionado con voluntariado y educación)\n",
    "impacto_social = (\n",
    "    0.3 * (horas_voluntariado / horas_voluntariado.max()) +\n",
    "    0.2 * (nivel_educativo == 'Doctorado').astype(int) +\n",
    "    0.15 * (nivel_educativo == 'Maestría').astype(int) +\n",
    "    0.1 * (sector_laboral == 'Educación').astype(int) +\n",
    "    0.1 * (sector_laboral == 'Salud').astype(int) +\n",
    "    0.15 * np.random.rand(n)\n",
    ")\n",
    "impacto_social = (impacto_social * 100 / impacto_social.max()).round(1)\n",
    "\n",
    "df = pd.DataFrame({\n",
    "    'año_graduacion': año_graduacion,\n",
    "    'salario': salario,\n",
    "    'horas_voluntariado': horas_voluntariado,\n",
    "    'sector_laboral': sector_laboral,\n",
    "    'nivel_educativo': nivel_educativo,\n",
    "    'genero': genero,\n",
    "    'impacto_social': impacto_social\n",
    "})\n",
    "\n",
    "df.to_csv('egresados_caucasia.csv', index=False)"
   ]
  },
  {
   "cell_type": "code",
   "execution_count": 2,
   "id": "f56b75e7",
   "metadata": {},
   "outputs": [
    {
     "ename": "TypeError",
     "evalue": "OneHotEncoder.__init__() got an unexpected keyword argument 'sparse'",
     "output_type": "error",
     "traceback": [
      "\u001b[31m---------------------------------------------------------------------------\u001b[39m",
      "\u001b[31mTypeError\u001b[39m                                 Traceback (most recent call last)",
      "\u001b[36mCell\u001b[39m\u001b[36m \u001b[39m\u001b[32mIn[2]\u001b[39m\u001b[32m, line 17\u001b[39m\n\u001b[32m     14\u001b[39m data[numeric_features] = scaler.fit_transform(data[numeric_features])\n\u001b[32m     16\u001b[39m \u001b[38;5;66;03m# Codificar características categóricas\u001b[39;00m\n\u001b[32m---> \u001b[39m\u001b[32m17\u001b[39m encoder = \u001b[43mOneHotEncoder\u001b[49m\u001b[43m(\u001b[49m\u001b[43msparse\u001b[49m\u001b[43m=\u001b[49m\u001b[38;5;28;43;01mFalse\u001b[39;49;00m\u001b[43m)\u001b[49m\n\u001b[32m     18\u001b[39m encoded_cats = encoder.fit_transform(data[categorical_features])\n\u001b[32m     20\u001b[39m \u001b[38;5;66;03m# Combinar características\u001b[39;00m\n",
      "\u001b[31mTypeError\u001b[39m: OneHotEncoder.__init__() got an unexpected keyword argument 'sparse'"
     ]
    }
   ],
   "source": [
    "import pandas as pd\n",
    "from sklearn.preprocessing import StandardScaler, OneHotEncoder\n",
    "from sklearn.model_selection import train_test_split\n",
    "\n",
    "# Cargar dataset (ejemplo)\n",
    "data = pd.read_csv('egresados_caucasia.csv')\n",
    "\n",
    "# Preprocesamiento de características\n",
    "numeric_features = ['año_graduacion', 'salario', 'horas_voluntariado']\n",
    "categorical_features = ['sector_laboral', 'nivel_educativo', 'genero']\n",
    "\n",
    "# Escalar características numéricas\n",
    "scaler = StandardScaler()\n",
    "data[numeric_features] = scaler.fit_transform(data[numeric_features])\n",
    "\n",
    "# Codificar características categóricas\n",
    "encoder = OneHotEncoder(sparse=False)\n",
    "encoded_cats = encoder.fit_transform(data[categorical_features])\n",
    "\n",
    "# Combinar características\n",
    "X = np.concatenate([data[numeric_features].values, encoded_cats], axis=1)\n",
    "y = data['impacto_social'].values  # Variable objetivo (ej: índice de impacto)\n",
    "\n",
    "# Dividir datos\n",
    "# Cambia 'sparse' por 'sparse_output' para versiones recientes de scikit-learn\n",
    "encoder = OneHotEncoder(sparse_output=False)\n",
    "encoded_cats = encoder.fit_transform(data[categorical_features])\n",
    "\n",
    "# Combinar características\n",
    "X = np.concatenate([data[numeric_features].values, encoded_cats], axis=1)\n",
    "y = data['impacto_social'].values  # Variable objetivo (ej: índice de impacto)\n",
    "\n",
    "# Dividir datos\n",
    "X_train, X_test, y_train, y_test = train_test_split(X, y, test_size=0.2)\n",
    "\n"
   ]
  },
  {
   "cell_type": "markdown",
   "id": "16a345e7",
   "metadata": {},
   "source": [
    "\n",
    "### 2. Construcción del Modelo\n"
   ]
  },
  {
   "cell_type": "code",
   "execution_count": null,
   "id": "198f161a",
   "metadata": {},
   "outputs": [],
   "source": [
    "\n",
    "```python\n",
    "from tensorflow import keras\n",
    "from tensorflow.keras import layers\n",
    "\n",
    "model = keras.Sequential([\n",
    "    layers.Dense(64, activation='relu', input_shape=[X_train.shape[1]]),\n",
    "    layers.Dropout(0.3),\n",
    "    layers.Dense(64, activation='relu'),\n",
    "    layers.Dense(1)  # Salida para regresión\n",
    "])\n",
    "\n",
    "model.compile(\n",
    "    optimizer='adam',\n",
    "    loss='mse',  # Error cuadrático medio para regresión\n",
    "    metrics=['mae']  # Error absoluto medio\n",
    ")\n",
    "```\n"
   ]
  },
  {
   "cell_type": "markdown",
   "id": "16d9b154",
   "metadata": {},
   "source": [
    "\n",
    "### 3. Entrenamiento y Evaluación\n"
   ]
  },
  {
   "cell_type": "code",
   "execution_count": null,
   "id": "06ff349f",
   "metadata": {},
   "outputs": [],
   "source": [
    "\n",
    "```python\n",
    "history = model.fit(\n",
    "    X_train, y_train,\n",
    "    validation_data=(X_test, y_test),\n",
    "    epochs=100,\n",
    "    batch_size=32\n",
    ")\n",
    "\n",
    "# Evaluación\n",
    "test_loss, test_mae = model.evaluate(X_test, y_test)\n",
    "print(f\"Error absoluto medio en test: {test_mae}\")\n",
    "```\n"
   ]
  },
  {
   "cell_type": "markdown",
   "id": "44ffaa2d",
   "metadata": {},
   "source": [
    "\n",
    "### 4. Análisis de Impacto\n",
    "\n",
    "Una vez entrenado el modelo, podrías:\n",
    "\n",
    "1. **Identificar patrones**: Qué características (sector laboral, años desde graduación, etc.) correlacionan más con alto impacto social.\n",
    "\n",
    "2. **Clasificar egresados**: Segmentarlos según nivel de impacto (alto, medio, bajo).\n",
    "\n",
    "3. **Predecir impacto**: Estimar el potencial impacto de estudiantes actuales basado en sus características.\n",
    "\n",
    "## Posibles Variables de Impacto Social\n",
    "\n",
    "Para medir el \"impacto social\", podrías considerar:\n",
    "\n",
    "1. **Indicadores laborales**: Puestos de liderazgo, creación de empleos, salarios pagados a empleados.\n",
    "\n",
    "2. **Contribuciones comunitarias**: Proyectos sociales, horas de voluntariado, donaciones.\n",
    "\n",
    "3. **Innovación**: Patentes registradas, proyectos de investigación aplicada.\n",
    "\n",
    "4. **Participación política**: Cargos públicos ocupados, influencia en políticas locales.\n"
   ]
  },
  {
   "cell_type": "markdown",
   "id": "f2ab1d41",
   "metadata": {},
   "source": [
    "\n",
    "## Visualización de Resultados\n"
   ]
  },
  {
   "cell_type": "code",
   "execution_count": null,
   "id": "7a256f0b",
   "metadata": {},
   "outputs": [],
   "source": [
    "import matplotlib.pyplot as plt\n",
    "\n",
    "# Gráfico de pérdida durante entrenamiento\n",
    "plt.plot(history.history['loss'], label='train')\n",
    "plt.plot(history.history['val_loss'], label='test')\n",
    "plt.title('Pérdida del Modelo')\n",
    "plt.ylabel('MSE')\n",
    "plt.xlabel('Época')\n",
    "plt.legend()\n",
    "plt.show()\n",
    "\n",
    "# Importancia de características (ejemplo con pesos)\n",
    "weights = model.layers[0].get_weights()[0]\n",
    "importance = np.mean(np.abs(weights), axis=1)\n",
    "plt.bar(range(len(importance)), importance)\n",
    "plt.title('Importancia de Características')\n",
    "plt.show()\n",
    "\n"
   ]
  },
  {
   "cell_type": "markdown",
   "id": "47dc1315",
   "metadata": {},
   "source": [
    "\n",
    "## Retos y Consideraciones\n",
    "\n",
    "1. **Calidad de datos**: Los datos históricos pueden ser incompletos o inconsistentes.\n",
    "\n",
    "2. **Definición de impacto**: Medir impacto social es subjetivo y requiere una métrica bien definida.\n",
    "\n",
    "3. **Sesgos**: El modelo podría reflejar sesgos presentes en los datos de entrenamiento.\n",
    "\n",
    "4. **Privacidad**: Manejo ético de datos personales de egresados.\n"
   ]
  },
  {
   "cell_type": "markdown",
   "id": "997415c8",
   "metadata": {},
   "source": [
    "\n",
    "## Conclusión\n"
   ]
  },
  {
   "cell_type": "markdown",
   "id": "f3321ed9",
   "metadata": {},
   "source": [
    "\n",
    "Este proyecto con Keras permitiría cuantificar y predecir el impacto social de los egresados del Campus Caucasia de la Universidad de Antioquia, destacando su contribución al desarrollo regional. "
   ]
  },
  {
   "cell_type": "markdown",
   "id": "7ada586a",
   "metadata": {},
   "source": [
    "Los datos necesarios pueden obtenerse principalmente de la misma universidad y complementarse con información socioeconómica de la región .\n"
   ]
  },
  {
   "cell_type": "markdown",
   "id": "a679edd1",
   "metadata": {},
   "source": [
    "\n",
    "Para implementarlo, se recomienda colaborar con la Oficina de Egresados y la sede Caucasia de la Universidad de Antioquia, que según los registros ha estado operando por décadas formando profesionales que contribuyen al desarrollo del Bajo Cauca antioqueño ."
   ]
  },
  {
   "cell_type": "markdown",
   "id": "1e9f47e7",
   "metadata": {},
   "source": []
  }
 ],
 "metadata": {
  "kernelspec": {
   "display_name": ".venv",
   "language": "python",
   "name": "python3"
  },
  "language_info": {
   "codemirror_mode": {
    "name": "ipython",
    "version": 3
   },
   "file_extension": ".py",
   "mimetype": "text/x-python",
   "name": "python",
   "nbconvert_exporter": "python",
   "pygments_lexer": "ipython3",
   "version": "3.11.9"
  }
 },
 "nbformat": 4,
 "nbformat_minor": 5
}
