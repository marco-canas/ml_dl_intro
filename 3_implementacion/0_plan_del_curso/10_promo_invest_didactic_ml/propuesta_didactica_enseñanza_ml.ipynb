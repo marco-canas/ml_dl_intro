{
 "cells": [
  {
   "cell_type": "markdown",
   "metadata": {},
   "source": [
    "<table align=\"left\">\n",
    "  <td>\n",
    "    <a href=\"https://colab.research.google.com/github/marco-canas/didactica_ciencia_datos/blob/main/1_curso_machine_learning/7_models/1_modelo_general_clase_aula_invertida.ipynb\" target=\"_parent\"><img src=\"https://colab.research.google.com/assets/colab-badge.svg\" alt=\"Open In Colab\"/></a>\n",
    "  </td>\n",
    "</table>"
   ]
  },
  {
   "cell_type": "markdown",
   "metadata": {},
   "source": [
    "[Primer video de promoción de esta propuesta de enseñanza](https://www.youtube.com/watch?v=Helhqqklv7w)"
   ]
  },
  {
   "cell_type": "markdown",
   "metadata": {},
   "source": [
    "[Empieza el curso de machine learning gratuido aquí](https://github.com/marco-canas/didactica_ciencia_datos)"
   ]
  },
  {
   "cell_type": "markdown",
   "metadata": {},
   "source": [
    "## Fomento a la promoción de la ciencia libre \n",
    "\n"
   ]
  },
  {
   "cell_type": "markdown",
   "metadata": {},
   "source": [
    "Uso de la red gratuita y de acceso libre GitHub\n",
    "\n",
    "<img src = 'https://encrypted-tbn0.gstatic.com/images?q=tbn:ANd9GcTZd-1D4Ix36XO042aLnY3I7BCRv7xIN9YJpQ&usqp=CAU' width = 500>"
   ]
  },
  {
   "cell_type": "markdown",
   "metadata": {},
   "source": [
    "\n",
    "<img src = 'https://socratech.es/wp-content/uploads/2023/02/opengraph-home.png'>\n"
   ]
  },
  {
   "cell_type": "markdown",
   "metadata": {},
   "source": [
    "Jupyter de Anaconda\n",
    "<img src = 'https://i.ytimg.com/vi/Ro9l0eapoJU/maxresdefault.jpg'>"
   ]
  },
  {
   "cell_type": "markdown",
   "metadata": {},
   "source": [
    "# Enfoque pedagógico de enseñanza del Machine Learning: Flipped Learning\n",
    "\n",
    "Este enfoque es una consecuencia de los objetivos de formación: \n",
    "\n",
    "\n",
    "<img src = 'https://www.grupocomunicar.com/wp/blog-oficial/wp-content/uploads/sites/6/2021/10/FlippedClassroom-300x214-2.jpg' width = 600>\n",
    "\n",
    "Canal [DiMathData:](https://www.youtube.com/channel/UCtvEEx-ddekEo0i98ys3pIw)\n",
    "\n",
    "<img src = 'https://github.com/marco-canas/didactica_ciencia_datos/blob/main/4_images/canal_dimathdata_2023-11-28.png?raw=true'>"
   ]
  },
  {
   "cell_type": "markdown",
   "metadata": {},
   "source": [
    "# Fomento a la lectura experimental e interactiva a través de los cuadernos Jupyter en GitHub\n",
    "\n",
    "<img src = 'https://www.udea.edu.co/wps/wcm/connect/udea/f3075bdc-bd5c-4ab9-96e4-16508264703b/1/fernandointernatres.jpg?MOD=AJPERES'>\n",
    "\n",
    "[Ejemplo de modelo de clase en cuaderno Jupyter con el enfoque de aula invertida]()"
   ]
  },
  {
   "cell_type": "markdown",
   "metadata": {},
   "source": [
    "## [La evaluación que nos brinde a este servicio, es muy importante para mi](https://forms.office.com/Pages/ResponsePage.aspx?id=IefhmYRxjkmK_7KtTlPBwkanXIs1i1FEujpsZgO6dXpUOFdMVklWUzdJMFdNUkY5OFVIQVFUS05BTS4u)"
   ]
  },
  {
   "cell_type": "markdown",
   "metadata": {},
   "source": []
  }
 ],
 "metadata": {
  "language_info": {
   "name": "python"
  }
 },
 "nbformat": 4,
 "nbformat_minor": 2
}
