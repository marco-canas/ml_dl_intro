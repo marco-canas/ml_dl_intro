{
 "cells": [
  {
   "cell_type": "markdown",
   "id": "0e7ba74b",
   "metadata": {
    "slideshow": {
     "slide_type": "slide"
    }
   },
   "source": [
    "<table align=\"left\">\n",
    "  <td>\n",
    "    <a href=\"https://colab.research.google.com/github/marco-canas/didactica_ciencia_datos/blob/main/propuesta/unidad_didac/1_statistic/1_Basic_Descriptive_Statistics/1_medidas_tendencia_central/3_moda.ipynb\" target=\"_parent\"><img src=\"https://colab.research.google.com/assets/colab-badge.svg\" alt=\"Open In Colab\"/></a>\n",
    "  </td>\n",
    "</table>"
   ]
  },
  {
   "cell_type": "markdown",
   "id": "f9e55962",
   "metadata": {
    "slideshow": {
     "slide_type": "slide"
    }
   },
   "source": [
    "## [Video de apoyo a la lectura interactiva y experimental del cuaderno ](https://www.youtube.com/watch?v=ZJ0wKe50NzQ)"
   ]
  },
  {
   "cell_type": "markdown",
   "id": "1a066fec",
   "metadata": {
    "slideshow": {
     "slide_type": "slide"
    }
   },
   "source": [
    "# Varianza"
   ]
  },
  {
   "cell_type": "markdown",
   "id": "f221af3a",
   "metadata": {
    "slideshow": {
     "slide_type": "slide"
    }
   },
   "source": [
    "### Definición de varianza"
   ]
  },
  {
   "cell_type": "markdown",
   "id": "9a219055",
   "metadata": {
    "slideshow": {
     "slide_type": "slide"
    }
   },
   "source": [
    "$$ s^{2} = \\frac{\\sum_{i = 1}^{n} (x_{i} - \\bar{x})^{2}}{n} $$"
   ]
  },
  {
   "cell_type": "markdown",
   "id": "90cb1065",
   "metadata": {
    "slideshow": {
     "slide_type": "slide"
    }
   },
   "source": [
    "## Calcular la varianza a través de una funcion de usuario"
   ]
  },
  {
   "cell_type": "code",
   "execution_count": 25,
   "id": "ec748703",
   "metadata": {
    "slideshow": {
     "slide_type": "slide"
    }
   },
   "outputs": [],
   "source": [
    "import numpy as np "
   ]
  },
  {
   "cell_type": "code",
   "execution_count": 26,
   "id": "0e78014f",
   "metadata": {
    "slideshow": {
     "slide_type": "slide"
    }
   },
   "outputs": [],
   "source": [
    "def calcula_varianza(datos):\n",
    "    media = np.mean(datos)\n",
    "    variaciones = datos - media\n",
    "    cuadrado_var = variaciones**2\n",
    "    suma_cuadrado_var = np.sum(cuadrado_var)\n",
    "    varianza = suma_cuadrado_var/len(datos) \n",
    "    return varianza"
   ]
  },
  {
   "cell_type": "code",
   "execution_count": 31,
   "id": "83bed2de",
   "metadata": {
    "slideshow": {
     "slide_type": "slide"
    }
   },
   "outputs": [],
   "source": [
    "a = np.array([1,2])"
   ]
  },
  {
   "cell_type": "code",
   "execution_count": 32,
   "id": "2c2a1ff3",
   "metadata": {
    "slideshow": {
     "slide_type": "slide"
    }
   },
   "outputs": [],
   "source": [
    "a = list(a)"
   ]
  },
  {
   "cell_type": "code",
   "execution_count": 33,
   "id": "c8c565a1",
   "metadata": {
    "slideshow": {
     "slide_type": "slide"
    }
   },
   "outputs": [
    {
     "data": {
      "text/plain": [
       "[1, 2]"
      ]
     },
     "execution_count": 33,
     "metadata": {},
     "output_type": "execute_result"
    }
   ],
   "source": [
    "a"
   ]
  },
  {
   "cell_type": "code",
   "execution_count": 34,
   "id": "2dde006a",
   "metadata": {
    "slideshow": {
     "slide_type": "slide"
    }
   },
   "outputs": [
    {
     "data": {
      "text/plain": [
       "1.5"
      ]
     },
     "execution_count": 34,
     "metadata": {},
     "output_type": "execute_result"
    }
   ],
   "source": [
    "np.mean(a)"
   ]
  },
  {
   "cell_type": "code",
   "execution_count": 35,
   "id": "f0cc4992",
   "metadata": {
    "slideshow": {
     "slide_type": "slide"
    }
   },
   "outputs": [
    {
     "data": {
      "text/plain": [
       "0.25"
      ]
     },
     "execution_count": 35,
     "metadata": {},
     "output_type": "execute_result"
    }
   ],
   "source": [
    "calcula_varianza(a)"
   ]
  },
  {
   "cell_type": "markdown",
   "id": "dc0b2fd1",
   "metadata": {
    "slideshow": {
     "slide_type": "slide"
    }
   },
   "source": [
    "## Calcular la varianza con una función de las librerías de Python"
   ]
  },
  {
   "cell_type": "markdown",
   "id": "1cf90744",
   "metadata": {
    "slideshow": {
     "slide_type": "slide"
    }
   },
   "source": [
    " [`statistics.variance(data, xbar=None)`](https://docs.python.org/3/library/statistics.html#statistics.variance)"
   ]
  },
  {
   "cell_type": "markdown",
   "id": "3ba2fcfb",
   "metadata": {
    "slideshow": {
     "slide_type": "slide"
    }
   },
   "source": [
    "Return the sample variance of data, an iterable of at least two real-valued numbers. Variance, or second moment about the mean, is a measure of the variability (spread or dispersion) of data. "
   ]
  },
  {
   "cell_type": "markdown",
   "id": "15436f53",
   "metadata": {
    "slideshow": {
     "slide_type": "fragment"
    }
   },
   "source": [
    "Devuelve la varianza de muestra de los datos, un iterable de al menos dos números con valores reales. La varianza, o segundo momento respecto a la media, es una medida de la variabilidad (propagación o dispersión) de los datos."
   ]
  },
  {
   "cell_type": "markdown",
   "id": "3ed7ea4e",
   "metadata": {
    "slideshow": {
     "slide_type": "slide"
    }
   },
   "source": [
    "A large variance indicates that the data is spread out; a small variance indicates it is clustered closely around the mean."
   ]
  },
  {
   "cell_type": "markdown",
   "id": "61cffb03",
   "metadata": {
    "slideshow": {
     "slide_type": "slide"
    }
   },
   "source": [
    "If the optional second argument `xbar` is given, it should be the mean of data. If it is missing or `None` (the default), the mean is automatically calculated."
   ]
  },
  {
   "cell_type": "markdown",
   "id": "d2b3c4f5",
   "metadata": {
    "slideshow": {
     "slide_type": "slide"
    }
   },
   "source": [
    "Use this function when your data is a sample from a population. To calculate the variance from the entire population, see `pvariance()`."
   ]
  },
  {
   "cell_type": "markdown",
   "id": "26ef5bf0",
   "metadata": {
    "slideshow": {
     "slide_type": "slide"
    }
   },
   "source": [
    "Raises StatisticsError if data has fewer than two values."
   ]
  },
  {
   "cell_type": "code",
   "execution_count": 39,
   "id": "87f3d248",
   "metadata": {
    "slideshow": {
     "slide_type": "slide"
    }
   },
   "outputs": [],
   "source": [
    "import numpy as np \n",
    "from statistics import variance "
   ]
  },
  {
   "cell_type": "code",
   "execution_count": 42,
   "id": "c59a8f84",
   "metadata": {
    "slideshow": {
     "slide_type": "slide"
    }
   },
   "outputs": [],
   "source": [
    "a = [1.0,2.0]"
   ]
  },
  {
   "cell_type": "code",
   "execution_count": 43,
   "id": "0e089354",
   "metadata": {
    "slideshow": {
     "slide_type": "slide"
    }
   },
   "outputs": [
    {
     "data": {
      "text/plain": [
       "[1.0, 2.0]"
      ]
     },
     "execution_count": 43,
     "metadata": {},
     "output_type": "execute_result"
    }
   ],
   "source": [
    "a"
   ]
  },
  {
   "cell_type": "code",
   "execution_count": 46,
   "id": "ac416af9",
   "metadata": {
    "slideshow": {
     "slide_type": "slide"
    }
   },
   "outputs": [
    {
     "data": {
      "text/plain": [
       "0.5"
      ]
     },
     "execution_count": 46,
     "metadata": {},
     "output_type": "execute_result"
    }
   ],
   "source": [
    "sc.variance(a)"
   ]
  },
  {
   "cell_type": "code",
   "execution_count": 45,
   "id": "549728c4",
   "metadata": {
    "slideshow": {
     "slide_type": "slide"
    }
   },
   "outputs": [
    {
     "data": {
      "text/plain": [
       "1.3720238095238095"
      ]
     },
     "execution_count": 45,
     "metadata": {},
     "output_type": "execute_result"
    }
   ],
   "source": [
    "data = [2.75, 1.75, 1.25, 0.25, 0.5, 1.25, 3.5]\n",
    "\n",
    "variance(data)"
   ]
  },
  {
   "cell_type": "markdown",
   "id": "282cabe0",
   "metadata": {
    "slideshow": {
     "slide_type": "slide"
    }
   },
   "source": [
    "# Cálculo de la varianza con la librería NumPy"
   ]
  },
  {
   "cell_type": "code",
   "execution_count": 9,
   "id": "6bd0ad5f",
   "metadata": {},
   "outputs": [
    {
     "data": {
      "text/plain": [
       "0.25"
      ]
     },
     "execution_count": 9,
     "metadata": {},
     "output_type": "execute_result"
    }
   ],
   "source": [
    "np.var(a)"
   ]
  },
  {
   "cell_type": "code",
   "execution_count": null,
   "id": "eb7e0a24",
   "metadata": {},
   "outputs": [],
   "source": []
  },
  {
   "cell_type": "raw",
   "id": "07f4f4f7",
   "metadata": {},
   "source": []
  },
  {
   "cell_type": "markdown",
   "id": "41ac81f8",
   "metadata": {
    "slideshow": {
     "slide_type": "slide"
    }
   },
   "source": [
    "# Tarea"
   ]
  },
  {
   "cell_type": "markdown",
   "id": "6350512a",
   "metadata": {
    "slideshow": {
     "slide_type": "slide"
    }
   },
   "source": [
    "considere los datos $[1,2]$ y $[0,3]$ y calcule:\n",
    "\n",
    "1. Los promedios de ambos datasets\n",
    "2. Compare estos promedios.\n",
    "3. calcule ka varianza para cada uno de esttos datos \n",
    "4. Compare las dos varianzas \n",
    "5. Establezca una conclusión a partir de la onbservación de las dos anteriores comparaciones\n"
   ]
  },
  {
   "cell_type": "markdown",
   "id": "fe0b0b69",
   "metadata": {
    "slideshow": {
     "slide_type": "slide"
    }
   },
   "source": [
    "## Evaluación"
   ]
  },
  {
   "cell_type": "markdown",
   "id": "20e76fd7",
   "metadata": {
    "slideshow": {
     "slide_type": "slide"
    }
   },
   "source": []
  },
  {
   "cell_type": "markdown",
   "id": "04c46300",
   "metadata": {
    "slideshow": {
     "slide_type": "slide"
    }
   },
   "source": [
    "## Referentes"
   ]
  },
  {
   "cell_type": "markdown",
   "id": "05d89311",
   "metadata": {
    "slideshow": {
     "slide_type": "slide"
    }
   },
   "source": [
    "* La varianza con numpy: https://numpy.org/doc/stable/reference/generated/numpy.var.html  \n",
    "\n",
    "* La documentación de la función statistics.variance()"
   ]
  },
  {
   "cell_type": "markdown",
   "id": "70bdd20c",
   "metadata": {
    "slideshow": {
     "slide_type": "slide"
    }
   },
   "source": [
    "## [continue su formación en ciencia de datos con la desviación estándar]()"
   ]
  },
  {
   "cell_type": "code",
   "execution_count": null,
   "id": "b27ace70",
   "metadata": {},
   "outputs": [],
   "source": []
  }
 ],
 "metadata": {
  "celltoolbar": "Slideshow",
  "kernelspec": {
   "display_name": "Python 3 (ipykernel)",
   "language": "python",
   "name": "python3"
  },
  "language_info": {
   "codemirror_mode": {
    "name": "ipython",
    "version": 3
   },
   "file_extension": ".py",
   "mimetype": "text/x-python",
   "name": "python",
   "nbconvert_exporter": "python",
   "pygments_lexer": "ipython3",
   "version": "3.9.13"
  }
 },
 "nbformat": 4,
 "nbformat_minor": 5
}
