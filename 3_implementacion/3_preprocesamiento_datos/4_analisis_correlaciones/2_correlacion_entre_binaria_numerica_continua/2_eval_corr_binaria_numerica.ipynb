{
 "cells": [
  {
   "cell_type": "markdown",
   "id": "dc06dec7",
   "metadata": {
    "slideshow": {
     "slide_type": "slide"
    }
   },
   "source": [
    "<table align=\"left\">\n",
    "  <td>\n",
    "    <a href=\"https://colab.research.google.com/github/marco-canas/didactica_ciencia_datos/blob/main/1_curso_machine_learning/1_evaluacion_oral_tarea_quiz_parcial.ipynb\" target=\"_parent\"><img src=\"https://colab.research.google.com/assets/colab-badge.svg\" alt=\"Open In Colab\"/></a>\n",
    "  </td>\n",
    "  <td>\n",
    "    <a target=\"_blank\" href=\"https://kaggle.com/kernels/welcome?src=https://github.com/marco-canas/didactica_ciencia_datos/blob/main/1_curso_machine_learning/1_evaluacion_oral_tarea_quiz_parcial.ipynb\"><img src=\"https://kaggle.com/static/images/open-in-kaggle.svg\" /></a>\n",
    "  </td>\n",
    "</table>"
   ]
  },
  {
   "cell_type": "markdown",
   "id": "e0c5b198",
   "metadata": {
    "slideshow": {
     "slide_type": "slide"
    }
   },
   "source": [
    "### [Video de apoyo a la lectura interactiva y experimental de este cuaderno]()"
   ]
  },
  {
   "cell_type": "markdown",
   "id": "41e82203",
   "metadata": {
    "slideshow": {
     "slide_type": "slide"
    }
   },
   "source": [
    "## [Vínculo al programa del curso:  ]()"
   ]
  },
  {
   "cell_type": "markdown",
   "id": "ca46c23b",
   "metadata": {
    "slideshow": {
     "slide_type": "slide"
    }
   },
   "source": [
    "# Modelo general de clase: [aula invertida](https://www3.gobiernodecanarias.org/medusa/ecoescuela/pedagotic/aprendizaje-invertido-flipped-classroom/)\n"
   ]
  },
  {
   "cell_type": "markdown",
   "id": "7f9be90f",
   "metadata": {
    "slideshow": {
     "slide_type": "slide"
    }
   },
   "source": [
    "# Fomento de la lectura literaria asociada a Ingeniería agropecuaria y licenciatura en Matemáticas y administración de empresas\n",
    "\n",
    "[Hábitos atómicos](https://github.com/marco-canas/habitos_atomicos/blob/main/13_como_dejar_de_postergar_usando_la_regla_de_los_dos_minutos/1_13_como_dejar_de_postergar_usando_la_regla_de_los_dos_minutos.ipynb)"
   ]
  },
  {
   "cell_type": "markdown",
   "id": "96775931",
   "metadata": {
    "slideshow": {
     "slide_type": "slide"
    }
   },
   "source": [
    "# Título de la clase: Realización evaluación oral, de Tareas en cuadernos Jupyter, Quiz o Parcial de selección múltiple o de preguntas cerradas.  \n",
    "\n"
   ]
  },
  {
   "cell_type": "markdown",
   "id": "1d38dd4e",
   "metadata": {
    "slideshow": {
     "slide_type": "slide"
    }
   },
   "source": [
    "### Objetivo de aprendizaje (Enunciar, de manera corta sencilla y clara para todos los asistentes)\n",
    "\n",
    "* [Hipervínculo para el cuaderno de enseñanza]()\n",
    "1. Evaluar las tareas realizadas de manera manúscrita\n",
    "2. Evaluar las tareas realizadas en los cuadernos Jupyter. (Solo realizar la tercera parte de las tareas asignadas de manera manuscrita)\n",
    "3. Evaluar con un quiz escrito\n",
    "4. Evaluar con un parcial escrito.\n",
    "5. Evaluar la capacidad de describir un problema y su solución de manera oral. "
   ]
  },
  {
   "cell_type": "markdown",
   "id": "ca7261b1",
   "metadata": {
    "slideshow": {
     "slide_type": "slide"
    }
   },
   "source": [
    "## Establecimiento de prerrequisitos conceptuales para alcanzar el objetivo de aprendizaje trazado.   \n",
    "\n",
    "(Elabore una lista de preguntas al rededor de los conceptos que consideres necesarios para empezar la clase).  \n",
    "\n",
    "1. \n",
    "2. \n",
    "3. "
   ]
  },
  {
   "cell_type": "markdown",
   "id": "2298e976",
   "metadata": {
    "slideshow": {
     "slide_type": "slide"
    }
   },
   "source": [
    "# Para el diseño de la clase tenga en cuenta algunos problemas de aprendizaje"
   ]
  },
  {
   "cell_type": "markdown",
   "id": "2d46be3a",
   "metadata": {},
   "source": [
    "# Diseño de evaluación oral de si se alcanzaron los objetivos de aprendizaje planteados\n",
    "\n",
    "* Describa verbalmente el objetivo de aprendizaje y evidencie de forma oral si lo logró o no. "
   ]
  },
  {
   "cell_type": "markdown",
   "id": "4566108f",
   "metadata": {},
   "source": [
    "## Cuestionario para realizar labores de memorización, observación y síntesis de la información (Además de diagnóstico)\n",
    "\n",
    "1. ¿?\n",
    "2. ¿?\n",
    "3. ¿?\n",
    "4. ¿?\n",
    "5. ¿?"
   ]
  },
  {
   "cell_type": "markdown",
   "id": "7ee3abc5",
   "metadata": {},
   "source": [
    "# Vocabulary \n",
    "\n",
    "1. length: longitud\n",
    "2. width: ancho. \n",
    "\n",
    "[length, width](https://voca.ro/1of14ffdXnZI)"
   ]
  },
  {
   "cell_type": "code",
   "execution_count": 5,
   "id": "ad098f40",
   "metadata": {},
   "outputs": [],
   "source": [
    "# algoritmo para llamar a evaluación oral individual\n",
    "import pandas as pd\n",
    "import numpy as np\n",
    "\n",
    "# Cargar la lista de estudiantes desde la URL\n",
    "path = '/home/marco/Documentos/docencia/groups_list/calculo_vectorial.csv'\n",
    "estudiantes = pd.read_csv(path)\n",
    "estudiantes['Parcial'] = estudiantes['Parcial'].astype(float) \n",
    "\n",
    "# Convertir la columna 'Nombre' a una lista de Python\n",
    "lista_estudiantes = estudiantes['Nombre'].tolist()\n",
    "\n",
    "# Función para llamar a un estudiante aleatoriamente y registrar su nota de seguimiento\n",
    "def eval_oral():\n",
    "    if lista_estudiantes:\n",
    "        estudiante_aleatorio = np.random.choice(lista_estudiantes)\n",
    "        print(f\"Llamando a {estudiante_aleatorio}...\")\n",
    "        asistencia = input(f\"¿Se expresó bien y correco {estudiante_aleatorio}? (s/n): \").strip().lower()\n",
    "        \n",
    "        if asistencia == 's':\n",
    "            # Obtener el índice del estudiante en el DataFrame\n",
    "            indice = estudiantes[estudiantes['Nombre'] == estudiante_aleatorio].index[0]\n",
    "            # Incrementar su valor en la columna 'Parcial'\n",
    "            estudiantes.at[indice, 'Parcial'] += 0.1\n",
    "            print(f\"Actualizado: {estudiante_aleatorio} ahora tiene {estudiantes.at[indice, 'Parcial']} en la columna 'Parcial'.\")\n",
    "        \n",
    "        lista_estudiantes.remove(estudiante_aleatorio)\n",
    "    else:\n",
    "        print(\"Se han llamado a todos los estudiantes del grupo completo.\")\n",
    "\n",
    "# Guardar los cambios en el archivo CSV\n",
    "def guardar_cambios():\n",
    "    estudiantes.to_csv(path, index=False)\n",
    "    print(\"Cambios guardados en el archivo CSV.\")\n",
    "\n",
    "# Ejemplo de uso\n",
    "#while lista_estudiantes:\n",
    "#    eval_oral()\n",
    "#    guardar_cambios()\n",
    "\n",
    "\n"
   ]
  },
  {
   "cell_type": "markdown",
   "id": "cf101603",
   "metadata": {},
   "source": [
    "# Prompt para pedir el diseño de evaluación de acuerdo a la metodología de \"Enseñanza basada en proyectos\"  \n",
    "\n",
    "Dame, por favor, una propuesta de evaluación de esta clase bajo la metodología de enseñanza: \"Aprendizaje basado en problemas proyectos\". Pero además incluye una evaluación escrita tipo quiz y una tipo parcial. "
   ]
  },
  {
   "cell_type": "markdown",
   "id": "42797498",
   "metadata": {},
   "source": [
    "Aquí tienes una propuesta de evaluación bajo la metodología de \"Aprendizaje Basado en Problemas y Proyectos (ABPP)\", incluyendo una evaluación escrita tipo quiz y una tipo parcial:\n",
    "\n",
    "---\n"
   ]
  },
  {
   "cell_type": "markdown",
   "id": "0d3355af",
   "metadata": {},
   "source": [
    "\n",
    "### **Evaluación de la Clase: \"Análisis de correlaciones entre una variable binaria y una variable numérica continua\"**\n",
    "\n",
    "#### **1. Evaluación Formativa (Proceso - Aprendizaje Basado en Problemas y Proyectos)**\n",
    "- **Criterios de evaluación del proyecto**:\n",
    "  - Implementación correcta de la correlación punto biserial en Python.\n",
    "  - Uso adecuado de visualizaciones interactivas con `matplotlib.animation` o `ipywidgets`.\n",
    "  - Interpretación y argumentación de resultados en un informe escrito o presentación.\n",
    "  - Claridad y estructuración del código en Jupyter Notebook.\n",
    "  - Uso de datos reales o simulados para el análisis.\n",
    "\n",
    "- **Instrumento de evaluación**: Rúbrica de desempeño\n",
    "  - Se evalúan criterios como precisión técnica, claridad en la presentación, originalidad en la exploración de datos y reflexión crítica.\n",
    "\n",
    "---\n"
   ]
  },
  {
   "cell_type": "markdown",
   "id": "d4402e3d",
   "metadata": {},
   "source": [
    "\n",
    "#### **2. Evaluación Escrita Tipo Quiz (Formato Corto - Individual)**\n",
    "- **Objetivo**: Verificar la comprensión teórica de los conceptos fundamentales.\n",
    "- **Duración**: 20 minutos\n",
    "- **Preguntas**:\n",
    "  1. Defina qué es una variable binaria y una variable continua. Dé un ejemplo de cada una en un contexto real.\n",
    "  2. ¿Qué mide el coeficiente de correlación punto biserial? ¿Cómo se diferencia de la correlación de Pearson?\n",
    "  3. En una relación entre una variable binaria y una continua, ¿qué tipo de gráfico recomendaría usar para visualizar los datos?\n",
    "  4. Interprete el siguiente valor de correlación punto biserial: $r_{pb} = -0.75$.\n",
    "  5. En Python, ¿qué función de `scipy.stats` se puede usar para calcular la correlación punto biserial?\n",
    "\n",
    "---\n"
   ]
  },
  {
   "cell_type": "markdown",
   "id": "d8c3264c",
   "metadata": {},
   "source": [
    "\n",
    "#### **3. Evaluación Tipo Parcial (Formato Extendido - Aplicado)**\n",
    "- **Objetivo**: Evaluar la capacidad del estudiante para aplicar el análisis de correlaciones en un caso práctico.\n",
    "- **Duración**: 60 minutos\n",
    "- **Preguntas y ejercicios**:\n",
    "  1. Dado un conjunto de datos sobre la efectividad de un tratamiento (0: no mejoró, 1: mejoró) y el nivel de reducción en síntomas medido en una escala continua:\n",
    "     - **a)** Plantee una hipótesis sobre la relación entre estas dos variables.\n",
    "     - **b)** Explique cómo evaluaría esta relación estadísticamente.\n",
    "     - **c)** ¿Qué supuestos deben cumplirse para aplicar la correlación punto biserial?\n",
    "  \n",
    "  2. **Ejercicio en Python**: \n",
    "     - Se proporciona un conjunto de datos con una variable binaria \\(X\\) y una continua \\(Y\\).\n",
    "     - El estudiante debe:\n",
    "       - Calcular la correlación punto biserial con `scipy.stats.pointbiserialr`.\n",
    "       - Crear un gráfico de dispersión con `matplotlib` y agregar una media por cada grupo de \\(X\\).\n",
    "       - Interpretar los resultados.\n",
    "\n",
    "---\n",
    "\n",
    "### **Retroalimentación y Cierre**\n",
    "- **Método**: Discusión grupal sobre los resultados de los análisis.\n",
    "- **Instrumento**: Autoevaluación y coevaluación con una lista de verificación.\n",
    "- **Actividad**: Los estudiantes presentan sus hallazgos y discuten posibles errores y mejoras en sus proyectos.\n",
    "\n",
    "---\n",
    "\n",
    "¿Te gustaría que adapte esta evaluación a algún criterio o contexto específico?"
   ]
  },
  {
   "cell_type": "markdown",
   "id": "8295d7a0",
   "metadata": {},
   "source": [
    "# 5. Evaluación oral\n",
    "## 5. Evaluar la capacidad de describir un problema y su solución de manera oral. \n",
    "\n",
    "1. Evaluaremos la capacidad de describir cada uno de los pasos o fases para resolver un problema (Es decir, se pedirá al estudiante que describa la metodología de solución de un problema dado). "
   ]
  },
  {
   "cell_type": "code",
   "execution_count": 8,
   "id": "c48ebcd1",
   "metadata": {},
   "outputs": [
    {
     "name": "stdout",
     "output_type": "stream",
     "text": [
      "Llamando a MASS MIRANDA RIVALDO JOSE...\n",
      "Cambios guardados en el archivo CSV.\n",
      "Llamando a QUINONEZ CERVANTES MARIANA...\n",
      "Cambios guardados en el archivo CSV.\n",
      "Llamando a SANCHEZ PADILLA SILVESTRE...\n",
      "Cambios guardados en el archivo CSV.\n",
      "Llamando a SILVA ROYERO MAILY CRISTINA...\n",
      "Cambios guardados en el archivo CSV.\n",
      "Llamando a NORIEGA JIMENEZ GABRIELA...\n",
      "Cambios guardados en el archivo CSV.\n",
      "Llamando a PINEDA ROMERO YOSMERI...\n",
      "Cambios guardados en el archivo CSV.\n",
      "Llamando a GUERRA NORIEGA YONATHAN...\n",
      "Cambios guardados en el archivo CSV.\n",
      "Llamando a HINCAPIE CASTRO JOHAN SEBASTIAN...\n",
      "Cambios guardados en el archivo CSV.\n",
      "Llamando a MIRANDA MARTINEZ CARLOS ANDRES...\n",
      "Cambios guardados en el archivo CSV.\n",
      "Llamando a ROSILLO TEJADA VANESA...\n",
      "Cambios guardados en el archivo CSV.\n",
      "Llamando a PEREZ THERAN ERLINDA...\n",
      "Cambios guardados en el archivo CSV.\n",
      "Llamando a HUMANEZ SANCHEZ CAMILO...\n",
      "Cambios guardados en el archivo CSV.\n",
      "Llamando a ARENAS HERAZO GABRIEL ENRIQUE...\n",
      "Cambios guardados en el archivo CSV.\n",
      "Llamando a RIVAS HOYOS ESTEFANIA...\n",
      "Cambios guardados en el archivo CSV.\n",
      "Llamando a BULA VERGARA MARIA PAULA...\n",
      "Cambios guardados en el archivo CSV.\n",
      "Llamando a AMARIS FERNANDEZ SEBASTIAN CAMILO...\n",
      "Cambios guardados en el archivo CSV.\n",
      "Llamando a USUGA GEORGE JHON ESTIVEN...\n",
      "Cambios guardados en el archivo CSV.\n",
      "Llamando a BERTEL RODELO MICHELL SMIT...\n",
      "Cambios guardados en el archivo CSV.\n",
      "Llamando a IBAÑEZ MORENO FRANCISCO LUIS...\n",
      "Cambios guardados en el archivo CSV.\n",
      "Llamando a MONTERROSA SOTO ABRIL...\n",
      "Cambios guardados en el archivo CSV.\n",
      "Llamando a CERVANTES DURAN ANGELICA...\n",
      "Cambios guardados en el archivo CSV.\n",
      "Llamando a AYALA MENDOZA MARISOL YACIRA...\n",
      "Cambios guardados en el archivo CSV.\n",
      "Llamando a PEREZ REYES IVAN DARIO...\n",
      "Cambios guardados en el archivo CSV.\n",
      "Llamando a CANTILLO ENSUCHO DANIEL...\n",
      "Cambios guardados en el archivo CSV.\n",
      "Llamando a RAMOS PEREZ YANINE...\n",
      "Cambios guardados en el archivo CSV.\n"
     ]
    }
   ],
   "source": [
    "# algoritmo para llamar a evaluación oral individual\n",
    "import pandas as pd\n",
    "import numpy as np\n",
    "\n",
    "# Cargar la lista de estudiantes desde la URL\n",
    "path = '/home/marco/Documentos/docencia/groups_list/calculo_vectorial.csv'\n",
    "estudiantes = pd.read_csv(path)\n",
    "estudiantes['Parcial'] = estudiantes['Parcial'].astype(float) \n",
    "\n",
    "# Convertir la columna 'Nombre' a una lista de Python\n",
    "lista_estudiantes = estudiantes['Nombre'].tolist()\n",
    "\n",
    "# Función para llamar a un estudiante aleatoriamente y registrar su nota de seguimiento\n",
    "def eval_oral():\n",
    "    if lista_estudiantes:\n",
    "        estudiante_aleatorio = np.random.choice(lista_estudiantes)\n",
    "        print(f\"Llamando a {estudiante_aleatorio}...\")\n",
    "        asistencia = input(f\"¿Se expresó bien y correco {estudiante_aleatorio}? (s/n): \").strip().lower()\n",
    "        \n",
    "        if asistencia == 's':\n",
    "            # Obtener el índice del estudiante en el DataFrame\n",
    "            indice = estudiantes[estudiantes['Nombre'] == estudiante_aleatorio].index[0]\n",
    "            # Incrementar su valor en la columna 'Parcial'\n",
    "            estudiantes.at[indice, 'Parcial'] += 0.1\n",
    "            print(f\"Actualizado: {estudiante_aleatorio} ahora tiene {estudiantes.at[indice, 'Parcial']} en la columna 'Parcial'.\")\n",
    "        \n",
    "        lista_estudiantes.remove(estudiante_aleatorio)\n",
    "    else:\n",
    "        print(\"Se han llamado a todos los estudiantes del grupo completo.\")\n",
    "\n",
    "# Guardar los cambios en el archivo CSV\n",
    "def guardar_cambios():\n",
    "    estudiantes.to_csv(path, index=False)\n",
    "    print(\"Cambios guardados en el archivo CSV.\")\n",
    "\n",
    "# Ejemplo de uso\n",
    "while lista_estudiantes:\n",
    "    eval_oral()\n",
    "    guardar_cambios()\n",
    "\n",
    "\n"
   ]
  },
  {
   "cell_type": "markdown",
   "id": "318cb03f-8c7c-48e6-95a7-7c6b2044b603",
   "metadata": {},
   "source": [
    "# Autoevaluación "
   ]
  },
  {
   "cell_type": "code",
   "execution_count": 1,
   "id": "6ace95c0-9ecc-487b-9cbe-c2974dbcf6f5",
   "metadata": {
    "slideshow": {
     "slide_type": "slide"
    }
   },
   "outputs": [
    {
     "name": "stdout",
     "output_type": "stream",
     "text": [
      "Ingrese su nombre:  marco\n",
      "Describa sus fortalezas:  amable, cariñoso, fiel, deportista\n",
      "Describa las áreas en las que necesita mejorar:  irritabilidad, mi resiliencia\n"
     ]
    },
    {
     "name": "stdout",
     "output_type": "stream",
     "text": [
      "La autoevaluación se ha guardado correctamente.\n"
     ]
    }
   ],
   "source": [
    "import csv\n",
    "\n",
    "def recolectar_datos_autoavaluacion():\n",
    "    # Definir el nombre del archivo CSV\n",
    "    nombre_archivo = 'autoevaluacion_estudiantes.csv'\n",
    "    \n",
    "    # Definir los encabezados para el archivo CSV\n",
    "    encabezados = ['Nombre', 'Fortalezas', 'Áreas de Mejora']\n",
    "    \n",
    "    # Solicitar los datos del estudiante\n",
    "    nombre = input(\"Ingrese su nombre: \")\n",
    "    fortalezas = input(\"Describa sus fortalezas: \")\n",
    "    areas_mejora = input(\"Describa las áreas en las que necesita mejorar: \")\n",
    "    \n",
    "    # Crear una lista con los datos del estudiante\n",
    "    datos = [nombre, fortalezas, areas_mejora]\n",
    "    \n",
    "    # Abrir el archivo CSV para agregar los datos\n",
    "    with open(nombre_archivo, mode='a', newline='') as archivo_csv:\n",
    "        escritor_csv = csv.writer(archivo_csv)\n",
    "        \n",
    "        # Verificar si el archivo está vacío para escribir los encabezados\n",
    "        archivo_csv.seek(0, 2)  # Mover el cursor al final del archivo\n",
    "        if archivo_csv.tell() == 0:  # Verificar si el archivo está vacío\n",
    "            escritor_csv.writerow(encabezados)\n",
    "        \n",
    "        # Escribir los datos en el archivo CSV\n",
    "        escritor_csv.writerow(datos)\n",
    "    \n",
    "    print(\"La autoevaluación se ha guardado correctamente.\")\n",
    "\n",
    "# Ejecutar la función para recolectar datos\n",
    "recolectar_datos_autoavaluacion()\n"
   ]
  },
  {
   "cell_type": "markdown",
   "id": "fb9402bb",
   "metadata": {
    "slideshow": {
     "slide_type": "slide"
    }
   },
   "source": [
    "## Estrategias propuestas para la solución de las dificultades de aprendizaje detectadas"
   ]
  },
  {
   "cell_type": "markdown",
   "id": "2dd3bd5c",
   "metadata": {
    "slideshow": {
     "slide_type": "slide"
    }
   },
   "source": []
  },
  {
   "cell_type": "markdown",
   "id": "c6236d5d",
   "metadata": {},
   "source": [
    "# FODA del grupo y del profesor  \n",
    "\n",
    "* F: Fortalezas\n",
    "* O: Oportunidades\n",
    "* D: Dificultades\n",
    "* A: Amenazas."
   ]
  },
  {
   "cell_type": "markdown",
   "id": "b48f9542",
   "metadata": {},
   "source": [
    "## ¿Cómo se sintió en este espacio de enseñanza y aprendizaje?\n",
    "\n",
    "!Dios te bendiga¡"
   ]
  },
  {
   "cell_type": "markdown",
   "id": "10bce0d0",
   "metadata": {
    "slideshow": {
     "slide_type": "slide"
    }
   },
   "source": [
    "## Referentes "
   ]
  },
  {
   "cell_type": "markdown",
   "id": "d204c917",
   "metadata": {},
   "source": [
    "* [Grajales Vanegas, L. M., Restrepo Estrada, C. E., Restrepo Ochoa, S. I., & Ruíz De Villalba, F. (2015). Matemáticas I para las ciencias económicas.](https://github.com/marco-canas/fundamentos_de_la_aritmetica/blob/main/referentes/2_grajales_logica/grajales_lina_matemticas.pdf)\n",
    "  \n",
    "* Duval, R. (2004). Semiosis y pensamiento humano: registros semióticos y aprendizajes intelectuales. Universidad del Valle.\n",
    "\n",
    "* [Aylwin, C. U. (2011). Lógica, conjuntos y números. Universidad de los Andes, Consejo de Publicaciones, Colección: Ciencias Básicas, Serie: Matemáticas.](https://github.com/marco-canas/fundamentos_logica/blob/main/referentes/2_uzcategui/uscategui.pdf)\n",
    "  \n",
    "* [Chollet, F. (2021). Deep learning with Python. Simon and Schuster.](https://github.com/marco-canas/didactica_ciencia_datos/blob/main/2_referentes/chollet/Fran%C3%A7ois%20Chollet%20-%20Deep%20Learning%20with%20Python-Manning%20(2018).pdf)  \n",
    "  \n",
    "* [Watson, S., Stewart, J., & Redlin, L. (2009). Precálculo. Matemáticas para el cálculo.](https://github.com/marco-canas/calculo/blob/main/referents/1_precalculo_stewart/stewart_precalculo.pdf)  \n",
    "\n",
    "* [Purcell, E. J., Varberg, D., & Rigdon, S. E. (2007). Cálculo diferencial e integral. Pearson Educación.](https://github.com/marco-canas/calculo/blob/main/referents/purcell/purcell_calculo.pdf)\n",
    "\n",
    "  \n",
    "\n",
    "* [stewart cálculo](https://udeaeduco-my.sharepoint.com/:b:/g/personal/marco_canas_udea_edu_co/EZgXZjAp8QxPqOAim2hs6LcBNPLGjSHf-xwYnUVYkwa04w?e=RZdTCy)  \n",
    "\n",
    "* [larson](https://udeaeduco-my.sharepoint.com/:b:/g/personal/marco_canas_udea_edu_co/ES71ChFeO9ZDhW3TwC5Ijk8BjxUK3Pdqz_fjHxTTFAfIAg?e=VDEjfu)\n",
    "\n",
    "\n",
    "\n",
    "* [Recomendación de la UNESCO sobre ciencia abierta](https://unesdoc.unesco.org/ark:/48223/pf0000379949_spa)\n",
    "\n",
    "* [chatGPT](https://openai.com/blog/chatgpt)  \n",
    "\n",
    "* [Géron, A. (2017). Hands-on machine learning with scikit-learn and tensorflow: Concepts. Tools, and Techniques to build intelligent systems.](chrome-extension://efaidnbmnnnibpcajpcglclefindmkaj/http://14.139.161.31/OddSem-0822-1122/Hands-On_Machine_Learning_with_Scikit-Learn-Keras-and-TensorFlow-2nd-Edition-Aurelien-Geron.pdf)   \n"
   ]
  },
  {
   "cell_type": "markdown",
   "id": "6b9e56a8",
   "metadata": {
    "slideshow": {
     "slide_type": "slide"
    }
   },
   "source": [
    "### [Evaluamos al profesor Marco Cañas Aquí](https://forms.office.com/Pages/ResponsePage.aspx?id=IefhmYRxjkmK_7KtTlPBwkanXIs1i1FEujpsZgO6dXpUREJPV1kxUk1JV1ozTFJIQVNIQjY5WEY3US4u)"
   ]
  },
  {
   "cell_type": "markdown",
   "id": "071afa04",
   "metadata": {
    "slideshow": {
     "slide_type": "slide"
    }
   },
   "source": [
    "## [Evaluación luego de alcanzar estos objetivos de aprendizaje]()"
   ]
  },
  {
   "cell_type": "markdown",
   "id": "10f43536",
   "metadata": {
    "slideshow": {
     "slide_type": "slide"
    }
   },
   "source": [
    "### Continue su aprendizaje en la siguiente clase a través del siguiente [vínculo]()"
   ]
  },
  {
   "cell_type": "markdown",
   "id": "af751e30",
   "metadata": {
    "slideshow": {
     "slide_type": "slide"
    }
   },
   "source": [
    "# Conjeturas pedagógicas fruto de la aplicación del modelo de aprendizaje invertido y del enfoque hacia la ciencia de datos con python\n",
    "\n",
    "1. Todo cálculo o resultado debe ser interpretado en una línea markdown del cuaderno Jupyter, inmediatamente después de la enunciación del resultado y después de la presentación de una tabla o gráfico bidimensional, de tal menera que el estudiante explicite la comprensión verbal del resultado y las inferencias o estrategias que este resultado le sugieren.   "
   ]
  }
 ],
 "metadata": {
  "celltoolbar": "Slideshow",
  "kernelspec": {
   "display_name": "Python 3 (ipykernel)",
   "language": "python",
   "name": "python3"
  },
  "language_info": {
   "codemirror_mode": {
    "name": "ipython",
    "version": 3
   },
   "file_extension": ".py",
   "mimetype": "text/x-python",
   "name": "python",
   "nbconvert_exporter": "python",
   "pygments_lexer": "ipython3",
   "version": "3.10.12"
  },
  "rise": {
   "enable_chalkboard": true,
   "theme": "sky",
   "transition": "zoom"
  }
 },
 "nbformat": 4,
 "nbformat_minor": 5
}
