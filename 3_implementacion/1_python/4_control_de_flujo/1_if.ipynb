{
 "cells": [
  {
   "cell_type": "markdown",
   "id": "2018638a",
   "metadata": {
    "slideshow": {
     "slide_type": "slide"
    }
   },
   "source": [
    "<table align=\"left\">\n",
    "  <td>\n",
    "    <a href=\"https://colab.research.google.com/github/marco-canas/didactica_ciencia_datos/blob/main/propuesta/unidad_didac/0_python/4_control_de_flujo/introduccion_controles_de_flujo.ipynb\" target=\"_parent\"><img src=\"https://colab.research.google.com/assets/colab-badge.svg\" alt=\"Open In Colab\"/></a>\n",
    "  </td>\n",
    "</table>"
   ]
  },
  {
   "cell_type": "markdown",
   "id": "3ce06bb8",
   "metadata": {
    "slideshow": {
     "slide_type": "slide"
    }
   },
   "source": [
    "## [Video de apoyo a la lectura interactiva y experimental de este cuaderno](https://www.youtube.com/watch?v=nJ_GNog19Vg)"
   ]
  },
  {
   "cell_type": "markdown",
   "id": "72b08ab7",
   "metadata": {
    "slideshow": {
     "slide_type": "slide"
    }
   },
   "source": [
    "# Introducción a los controles de flujo\n",
    "\n",
    "Según Nicolas Shurmann"
   ]
  },
  {
   "cell_type": "markdown",
   "id": "3ae6f80b",
   "metadata": {
    "slideshow": {
     "slide_type": "slide"
    }
   },
   "source": [
    "# if y condicionales "
   ]
  },
  {
   "cell_type": "markdown",
   "id": "0cbbd8d2",
   "metadata": {
    "slideshow": {
     "slide_type": "slide"
    }
   },
   "source": [
    "* Utilizamos la palabra reservada `if`. \n",
    "* Luego le damos una proposición para que él evalue si es verdadera o falsa y luego termina la línea con dos puntos(:)\n",
    "* Luego, en la siguiente línea indentada colocamos lo que queremos que haga cuando la condición descrita en la proposición se cumpla o sea Verdadera. "
   ]
  },
  {
   "cell_type": "code",
   "execution_count": 2,
   "id": "c7324f37",
   "metadata": {
    "slideshow": {
     "slide_type": "slide"
    }
   },
   "outputs": [],
   "source": [
    "if 2 > 5:\n",
    "    print('2 es menor que 5')"
   ]
  },
  {
   "cell_type": "markdown",
   "id": "6824a5ce",
   "metadata": {
    "slideshow": {
     "slide_type": "slide"
    }
   },
   "source": [
    "Veamos cómo incluir otras condiciones para ser evaluadas. "
   ]
  },
  {
   "cell_type": "markdown",
   "id": "8094b9ff",
   "metadata": {
    "slideshow": {
     "slide_type": "slide"
    }
   },
   "source": [
    "# Evaluación o comparación de variables"
   ]
  },
  {
   "cell_type": "code",
   "execution_count": 3,
   "id": "016d7ec5",
   "metadata": {
    "slideshow": {
     "slide_type": "slide"
    }
   },
   "outputs": [],
   "source": [
    "a = 1 # creando una variable \n",
    "b = 1 "
   ]
  },
  {
   "cell_type": "code",
   "execution_count": 4,
   "id": "7a56dc33",
   "metadata": {
    "slideshow": {
     "slide_type": "slide"
    }
   },
   "outputs": [
    {
     "data": {
      "text/plain": [
       "True"
      ]
     },
     "execution_count": 4,
     "metadata": {},
     "output_type": "execute_result"
    }
   ],
   "source": [
    "a == b # Podemos evaluar si una variable es igual a otra"
   ]
  },
  {
   "cell_type": "code",
   "execution_count": 5,
   "id": "74f1ce78",
   "metadata": {
    "scrolled": true,
    "slideshow": {
     "slide_type": "slide"
    }
   },
   "outputs": [
    {
     "data": {
      "text/plain": [
       "False"
      ]
     },
     "execution_count": 5,
     "metadata": {},
     "output_type": "execute_result"
    }
   ],
   "source": [
    "a < b  # podemos e valuar si una variable es menor que otra. "
   ]
  },
  {
   "cell_type": "code",
   "execution_count": 7,
   "id": "bae455e7",
   "metadata": {
    "slideshow": {
     "slide_type": "slide"
    }
   },
   "outputs": [
    {
     "data": {
      "text/plain": [
       "False"
      ]
     },
     "execution_count": 7,
     "metadata": {},
     "output_type": "execute_result"
    }
   ],
   "source": [
    "a = 0\n",
    "b = 1\n",
    "a > b # podemos evaluar si una variable es mayor que otra. "
   ]
  },
  {
   "cell_type": "code",
   "execution_count": 9,
   "id": "93151e3b",
   "metadata": {
    "slideshow": {
     "slide_type": "slide"
    }
   },
   "outputs": [
    {
     "data": {
      "text/plain": [
       "False"
      ]
     },
     "execution_count": 9,
     "metadata": {},
     "output_type": "execute_result"
    }
   ],
   "source": [
    "a = 0\n",
    "b =  \n",
    "a != b # podemos evaluar si una variable es distinta a otra. "
   ]
  },
  {
   "cell_type": "code",
   "execution_count": 13,
   "id": "8934124e",
   "metadata": {
    "slideshow": {
     "slide_type": "slide"
    }
   },
   "outputs": [
    {
     "data": {
      "text/plain": [
       "False"
      ]
     },
     "execution_count": 13,
     "metadata": {},
     "output_type": "execute_result"
    }
   ],
   "source": [
    "a = 1\n",
    "b = 0 \n",
    "a <= b # podemos preguntar si una variable es menor o igual a otra. "
   ]
  },
  {
   "cell_type": "code",
   "execution_count": 17,
   "id": "b10bdd7d",
   "metadata": {
    "slideshow": {
     "slide_type": "slide"
    }
   },
   "outputs": [
    {
     "data": {
      "text/plain": [
       "False"
      ]
     },
     "execution_count": 17,
     "metadata": {},
     "output_type": "execute_result"
    }
   ],
   "source": [
    "a = 6\n",
    "b = 7\n",
    "a >= b # podemos preguntar si una variable es mayor o igual a otra. "
   ]
  },
  {
   "cell_type": "markdown",
   "id": "50dc0f78",
   "metadata": {
    "slideshow": {
     "slide_type": "slide"
    }
   },
   "source": [
    "## Cómo podemos comparar variables utilizando `if`"
   ]
  },
  {
   "cell_type": "code",
   "execution_count": 21,
   "id": "b96662e3",
   "metadata": {
    "slideshow": {
     "slide_type": "slide"
    }
   },
   "outputs": [],
   "source": [
    "if 2>=3:\n",
    "    print('2 es menor que 3') "
   ]
  },
  {
   "cell_type": "code",
   "execution_count": 22,
   "id": "c3206f0b",
   "metadata": {
    "slideshow": {
     "slide_type": "slide"
    }
   },
   "outputs": [],
   "source": [
    "if 2==3:\n",
    "    print('2 es igual a 3') # no devuelve ningún mensaje pues 2 no es igual a 3. "
   ]
  },
  {
   "cell_type": "code",
   "execution_count": 23,
   "id": "9565d945",
   "metadata": {
    "slideshow": {
     "slide_type": "slide"
    }
   },
   "outputs": [],
   "source": [
    "if 2 > 5:\n",
    "    print('2 es mayor que 5') # no nos devuelve nada porque es falso que 2 es mayor a 5."
   ]
  },
  {
   "cell_type": "code",
   "execution_count": 24,
   "id": "917f6196",
   "metadata": {
    "slideshow": {
     "slide_type": "slide"
    }
   },
   "outputs": [
    {
     "name": "stdout",
     "output_type": "stream",
     "text": [
      "5 es mayor a 2\n"
     ]
    }
   ],
   "source": [
    "if 5 > 2:\n",
    "    print('5 es mayor a 2')"
   ]
  },
  {
   "cell_type": "code",
   "execution_count": 27,
   "id": "1446b71c",
   "metadata": {
    "slideshow": {
     "slide_type": "slide"
    }
   },
   "outputs": [
    {
     "name": "stdout",
     "output_type": "stream",
     "text": [
      "2 es distinto a 5\n"
     ]
    }
   ],
   "source": [
    "if 2!=5:\n",
    "    print('2 es distinto a 5') # no nos devuelve nada porque la condición dada es falsa"
   ]
  },
  {
   "cell_type": "code",
   "execution_count": 18,
   "id": "d7299aa1",
   "metadata": {
    "slideshow": {
     "slide_type": "slide"
    }
   },
   "outputs": [
    {
     "name": "stdout",
     "output_type": "stream",
     "text": [
      "3 es distinto a 2\n"
     ]
    }
   ],
   "source": [
    "if 3 != 2:\n",
    "    print('3 es distinto a 2') "
   ]
  },
  {
   "cell_type": "code",
   "execution_count": 20,
   "id": "bf624d68",
   "metadata": {
    "slideshow": {
     "slide_type": "slide"
    }
   },
   "outputs": [
    {
     "name": "stdout",
     "output_type": "stream",
     "text": [
      "3 es mayor o igual a 2\n"
     ]
    }
   ],
   "source": [
    "if 3 >=2:\n",
    "    print('3 es mayor o igual a 2')"
   ]
  },
  {
   "cell_type": "code",
   "execution_count": 21,
   "id": "04b3c88f",
   "metadata": {
    "slideshow": {
     "slide_type": "slide"
    }
   },
   "outputs": [],
   "source": [
    "if 3<=2:\n",
    "    print('3 es menor o igual a 2')"
   ]
  },
  {
   "cell_type": "code",
   "execution_count": null,
   "id": "36a5594d",
   "metadata": {
    "slideshow": {
     "slide_type": "slide"
    }
   },
   "outputs": [],
   "source": []
  },
  {
   "cell_type": "code",
   "execution_count": null,
   "id": "f0b25844",
   "metadata": {
    "slideshow": {
     "slide_type": "slide"
    }
   },
   "outputs": [],
   "source": []
  },
  {
   "cell_type": "code",
   "execution_count": null,
   "id": "ccafb80a",
   "metadata": {
    "slideshow": {
     "slide_type": "slide"
    }
   },
   "outputs": [],
   "source": []
  },
  {
   "cell_type": "code",
   "execution_count": null,
   "id": "d967f0ed",
   "metadata": {
    "slideshow": {
     "slide_type": "slide"
    }
   },
   "outputs": [],
   "source": []
  },
  {
   "cell_type": "markdown",
   "id": "4e433b23",
   "metadata": {
    "slideshow": {
     "slide_type": "slide"
    }
   },
   "source": [
    "## Tareas autogestionables"
   ]
  },
  {
   "cell_type": "markdown",
   "id": "d14c0702",
   "metadata": {
    "slideshow": {
     "slide_type": "slide"
    }
   },
   "source": [
    "Las ofertas académicas deben considerar contenidos y actividades 100%\n",
    "autogestionables, entiéndase como programa autogestionable aquel que está diseñado\n",
    "para que el estudiante realice su proceso formativo de manera autónoma a través de un\n",
    "ambiente virtual de aprendizaje."
   ]
  },
  {
   "cell_type": "code",
   "execution_count": null,
   "id": "ee2f4f6f",
   "metadata": {
    "slideshow": {
     "slide_type": "slide"
    }
   },
   "outputs": [],
   "source": []
  },
  {
   "cell_type": "markdown",
   "id": "b72a2182",
   "metadata": {
    "slideshow": {
     "slide_type": "slide"
    }
   },
   "source": [
    "## Evaluación"
   ]
  },
  {
   "cell_type": "code",
   "execution_count": null,
   "id": "435df486",
   "metadata": {
    "slideshow": {
     "slide_type": "slide"
    }
   },
   "outputs": [],
   "source": []
  },
  {
   "cell_type": "markdown",
   "id": "2c6884f5",
   "metadata": {
    "slideshow": {
     "slide_type": "slide"
    }
   },
   "source": [
    "## Referentes  \n",
    "\n",
    "* Nicolas Shurmann: "
   ]
  },
  {
   "cell_type": "code",
   "execution_count": null,
   "id": "a0d3f548",
   "metadata": {},
   "outputs": [],
   "source": []
  }
 ],
 "metadata": {
  "celltoolbar": "Slideshow",
  "kernelspec": {
   "display_name": "Python 3 (ipykernel)",
   "language": "python",
   "name": "python3"
  },
  "language_info": {
   "codemirror_mode": {
    "name": "ipython",
    "version": 3
   },
   "file_extension": ".py",
   "mimetype": "text/x-python",
   "name": "python",
   "nbconvert_exporter": "python",
   "pygments_lexer": "ipython3",
   "version": "3.9.13"
  },
  "rise": {
   "enable_chalkboard": true,
   "theme": "sky",
   "transition": "zoom"
  }
 },
 "nbformat": 4,
 "nbformat_minor": 5
}
