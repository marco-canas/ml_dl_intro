{
 "cells": [
  {
   "cell_type": "markdown",
   "id": "dc06dec7",
   "metadata": {
    "slideshow": {
     "slide_type": "slide"
    }
   },
   "source": [
    "<table align=\"left\">\n",
    "  <td>\n",
    "    <a href=\"https://colab.research.google.com/github/marco-canas/didactica_ciencia_datos/blob/main/1_curso_machine_learning/1_python/3_funciones/1_functions_with_sentence_def.ipynb\" target=\"_parent\"><img src=\"https://colab.research.google.com/assets/colab-badge.svg\" alt=\"Open In Colab\"/></a>\n",
    "  </td>\n",
    "</table>"
   ]
  },
  {
   "cell_type": "markdown",
   "id": "e0c5b198",
   "metadata": {
    "slideshow": {
     "slide_type": "slide"
    }
   },
   "source": [
    "### [Video de apoyo a la lectura interactiva y experimental de este cuaderno](https://www.youtube.com/watch?v=7mRZ8Rf8CJ0)"
   ]
  },
  {
   "cell_type": "markdown",
   "id": "41e82203",
   "metadata": {
    "slideshow": {
     "slide_type": "slide"
    }
   },
   "source": [
    "## [Vínculo al programa del curso de Machine Learning en la UdeA:  ](https://github.com/marco-canas/didactica_ciencia_datos/blob/main/1_curso_machine_learning/0_plan_del_curso/1_programa_curso_machine_learning_python.docx)"
   ]
  },
  {
   "cell_type": "markdown",
   "id": "ca46c23b",
   "metadata": {
    "slideshow": {
     "slide_type": "slide"
    }
   },
   "source": [
    "# Modelo general de clase: [aula invertida](https://www3.gobiernodecanarias.org/medusa/ecoescuela/pedagotic/aprendizaje-invertido-flipped-classroom/)\n"
   ]
  },
  {
   "cell_type": "markdown",
   "id": "79c35435",
   "metadata": {
    "slideshow": {
     "slide_type": "slide"
    }
   },
   "source": [
    "## Fomento de la lectura literaria asociada a Ingeniería agropecuaria, licenciatura en Matemáticas y ciencia de datos\n",
    "\n",
    "[Confiar e inspirar](https://github.com/marco-canas/confiar_e_inspirar/blob/main/primera_parte_el_futuro_del_liderazgo_de_mandar_y_controlar_confiar_e_inspirar/1_el_mundo_ha_cambiado_nuestro_estilo_de_liderazgo_no/1_el_mundo_ha_cambiado_nuestro_estilo_de_liderazgo_no.ipynb)"
   ]
  },
  {
   "cell_type": "markdown",
   "id": "1d38dd4e",
   "metadata": {
    "slideshow": {
     "slide_type": "slide"
    }
   },
   "source": [
    "### Objetivo de aprendizaje (Enunciar, de manera corta sencilla y clara para todos los asistentes)\n",
    "\n",
    "* Aprender a crear funciones de usuario de Python a través de la sentencia `def`. \n",
    "* Aprender a evaluar funciones de python\n",
    "* Crear la representación tabular de la función a través de su definición\n",
    "* Crear su representación gráfica a través de su definición. "
   ]
  },
  {
   "cell_type": "markdown",
   "id": "ca7261b1",
   "metadata": {
    "slideshow": {
     "slide_type": "slide"
    }
   },
   "source": [
    "## Establecimiento de prerrequisitos conceptuales para alcanzar el objetivo de aprendizaje trazado.   \n",
    "\n",
    "(Elabore una lista de preguntas al rededor de los conceptos que consideres necesarios para empezar la clase).  \n",
    "\n",
    "1. ¿Qué es una función matemática?\n",
    "2. ¿Cómo podemos interpretar una función como una máquina? <img src = 'https://i.ytimg.com/vi/bk3CfOrCfVc/maxresdefault.jpg'>\n"
   ]
  },
  {
   "cell_type": "markdown",
   "id": "2298e976",
   "metadata": {
    "slideshow": {
     "slide_type": "slide"
    }
   },
   "source": [
    "# Para el diseño de la clase tenga en cuenta algunos problemas de aprendizaje"
   ]
  },
  {
   "cell_type": "markdown",
   "id": "25685b91",
   "metadata": {
    "slideshow": {
     "slide_type": "slide"
    }
   },
   "source": [
    "* Diferenciar entre:\n",
    "  - definir una función y llamar a la misma\n",
    "  - la identación del cuerpo de la función de python causa dificultades. \n",
    "  - Si defines con mayúscula,, debes llamar o evaluar en mayúscula. "
   ]
  },
  {
   "cell_type": "markdown",
   "id": "348a1dc8",
   "metadata": {
    "slideshow": {
     "slide_type": "slide"
    }
   },
   "source": [
    "# Secuencia conceptual introductoria al tema de funciones de Python"
   ]
  },
  {
   "cell_type": "markdown",
   "id": "972cbc8d",
   "metadata": {
    "slideshow": {
     "slide_type": "slide"
    }
   },
   "source": [
    "### Contenido  \n",
    "\n",
    "1. Definir el concepto de función en Python\n",
    "2. Tipos de funciones en Python\n",
    "3. Definición y estructura de una función en Python\n",
    "4. llamado a una función de python\n",
    "5. ejemplos de funciones de python\n",
    "6. Los argumentos de las funciones en Python. \n",
    "7. La sentencia `return` en Python\n",
    "8. Funciones de la librería estándar de python.\n",
    "9. Beneficios del uso de las funciones de Python. "
   ]
  },
  {
   "cell_type": "code",
   "execution_count": 2,
   "id": "09672d67",
   "metadata": {
    "slideshow": {
     "slide_type": "slide"
    }
   },
   "outputs": [
    {
     "data": {
      "text/plain": [
       "'/home/marco/Documentos/docencia/calculo/images/0_reales/ecuaciones.pdf'"
      ]
     },
     "execution_count": 2,
     "metadata": {},
     "output_type": "execute_result"
    },
    {
     "name": "stderr",
     "output_type": "stream",
     "text": [
      "/snap/core20/current/lib/x86_64-linux-gnu/libstdc++.so.6: version `GLIBCXX_3.4.29' not found (required by /lib/x86_64-linux-gnu/libproxy.so.1)\n",
      "Failed to load module: /home/marco/snap/code/common/.cache/gio-modules/libgiolibproxy.so\n",
      "\n",
      "(process:39513): Gtk-WARNING **: 23:06:27.452: Locale not supported by C library.\n",
      "\tUsing the fallback 'C' locale.\n",
      "/home/marco/snap/code/common/.cache/gio-modules/libgiolibproxy.so: cannot open shared object file: Permission denied\n",
      "Failed to load module: /home/marco/snap/code/common/.cache/gio-modules/libgiolibproxy.so\n",
      "\n",
      "(evince:39513): Gtk-WARNING **: 23:06:27.508: Theme parsing error: gtk-keys.css:1:0: Failed to import: Error opening file /snap/code/155/usr/share/themes/Default/gtk-3.0/gtk-keys.css: Permission denied\n",
      "Gtk-Message: 23:06:27.509: Failed to load module \"canberra-gtk-module\"\n",
      "Gtk-Message: 23:06:27.510: Failed to load module \"canberra-gtk-module\"\n",
      "/home/marco/snap/code/common/.cache/gio-modules/libdconfsettings.so: cannot open shared object file: Permission denied\n",
      "Failed to load module: /home/marco/snap/code/common/.cache/gio-modules/libdconfsettings.so\n",
      "\n",
      "(evince:39513): Gtk-WARNING **: 23:06:27.712: Could not load a pixbuf from icon theme.\n",
      "This may indicate that pixbuf loaders or the mime database could not be found.\n"
     ]
    }
   ],
   "source": [
    "#mapa conceptual con graphviz\n",
    "from graphviz import Digraph\n",
    "\n",
    "# Crear un nuevo grafo dirigido\n",
    "dot = Digraph()\n",
    "\n",
    "# Añadir nodos y relaciones al grafo\n",
    "dot.node('A', 'Funciones de Python con la sentencia def')\n",
    "dot.node('B', '')\n",
    "dot.node('C', '')\n",
    "dot.node('D', '')\n",
    "dot.node('E', '')\n",
    "dot.node('F', '')\n",
    "dot.node('G', '')\n",
    "dot.node('H', '')\n",
    "dot.node('I', '')\n",
    "dot.node('J', '')\n",
    "\n",
    "dot.edges(['AB'])\n",
    "dot.edges(['AC'])\n",
    "dot.edges(['CD'])\n",
    "dot.edges(['DJ'])\n",
    "dot.edges(['EF'])\n",
    "dot.edges(['FG'])\n",
    "dot.edges(['GH'])\n",
    "dot.edges(['HI'])\n",
    "dot.edges(['IJ'])\n",
    "\n",
    "# Guardar el grafo como un archivo de imagen\n",
    "dot.render(filename='ecuaciones', format='png', cleanup=True, \\\n",
    "           directory='/home/marco/Documentos/docencia/calculo/images/0_reales/')\n",
    "\n",
    "dot.view()\n"
   ]
  },
  {
   "cell_type": "markdown",
   "id": "9ba1b872",
   "metadata": {
    "slideshow": {
     "slide_type": "slide"
    }
   },
   "source": [
    "## Python functions "
   ]
  },
  {
   "cell_type": "markdown",
   "id": "066d3c8f",
   "metadata": {
    "slideshow": {
     "slide_type": "slide"
    }
   },
   "source": [
    "A function is a block of code that performs a specific task.\n",
    "\n",
    "Suppose, you need to create a program to create a circle and color it. You can create two functions to solve this problem:\n",
    "\n",
    "* create a circle function\n",
    "* create a color function\n"
   ]
  },
  {
   "cell_type": "markdown",
   "id": "e689cd5f",
   "metadata": {
    "slideshow": {
     "slide_type": "slide"
    }
   },
   "source": [
    "Dividing a complex problem into smaller chunks makes our program easy to understand and reuse."
   ]
  },
  {
   "cell_type": "markdown",
   "id": "6bf72764",
   "metadata": {
    "slideshow": {
     "slide_type": "slide"
    }
   },
   "source": [
    "Dividir un problema complejo en partes más pequeñas hace que nuestro programa sea fácil de entender y reutilizar."
   ]
  },
  {
   "cell_type": "markdown",
   "id": "8dd4cdba",
   "metadata": {
    "slideshow": {
     "slide_type": "slide"
    }
   },
   "source": [
    "## Types of function"
   ]
  },
  {
   "cell_type": "markdown",
   "id": "45e47738",
   "metadata": {
    "slideshow": {
     "slide_type": "slide"
    }
   },
   "source": [
    "There are two types of function in Python programming:\n",
    "\n",
    "* **Standard library functions** - These are built-in functions in Python that are available to use.\n",
    "* **User-defined functions** - We can create our own functions based on our requirements."
   ]
  },
  {
   "cell_type": "markdown",
   "id": "01b610ae",
   "metadata": {
    "slideshow": {
     "slide_type": "slide"
    }
   },
   "source": [
    "Python Function Declaration\n",
    "\n",
    "The syntax to declare a function is:  \n",
    "\n",
    "```python\n",
    "def function_name(arguments):\n",
    "    # function body \n",
    "\n",
    "    return\n",
    "```"
   ]
  },
  {
   "cell_type": "markdown",
   "id": "ada9d7cf",
   "metadata": {
    "slideshow": {
     "slide_type": "slide"
    }
   },
   "source": [
    "Here,\n",
    "* `def` - keyword used to declare a function\n",
    "* `function_name` - any name given to the function\n",
    "* `arguments` (opcional) - any value passed to function\n",
    "* `return` (optional) - returns value from a function"
   ]
  },
  {
   "cell_type": "markdown",
   "id": "e0f84f8a",
   "metadata": {
    "slideshow": {
     "slide_type": "slide"
    }
   },
   "source": [
    "Let's see an example,"
   ]
  },
  {
   "cell_type": "code",
   "execution_count": 1,
   "id": "006f30cf",
   "metadata": {
    "slideshow": {
     "slide_type": "slide"
    }
   },
   "outputs": [],
   "source": [
    "def greet():\n",
    "    print('Hello World!')"
   ]
  },
  {
   "cell_type": "markdown",
   "id": "fabcf059",
   "metadata": {
    "slideshow": {
     "slide_type": "slide"
    }
   },
   "source": [
    "Here, we have created a function named `greet()`. It simply prints the text Hello World!."
   ]
  },
  {
   "cell_type": "markdown",
   "id": "35700c87",
   "metadata": {
    "slideshow": {
     "slide_type": "slide"
    }
   },
   "source": [
    "This function doesn't have any arguments and doesn't return any values. We will learn about arguments and return statements later in this tutorial."
   ]
  },
  {
   "cell_type": "markdown",
   "id": "4bb73b93",
   "metadata": {
    "slideshow": {
     "slide_type": "slide"
    }
   },
   "source": [
    "## Calling a Function in Python\n",
    "\n",
    "In the above example, we have declared a function named `greet()`."
   ]
  },
  {
   "cell_type": "code",
   "execution_count": 3,
   "id": "7afc1380",
   "metadata": {
    "slideshow": {
     "slide_type": "slide"
    }
   },
   "outputs": [
    {
     "name": "stdout",
     "output_type": "stream",
     "text": [
      "Hello World!\n"
     ]
    }
   ],
   "source": [
    "# call the function\n",
    "greet()"
   ]
  },
  {
   "cell_type": "markdown",
   "id": "ed1b4944",
   "metadata": {
    "slideshow": {
     "slide_type": "slide"
    }
   },
   "source": [
    "# Emulación o práctica de codificación"
   ]
  },
  {
   "cell_type": "code",
   "execution_count": 6,
   "id": "e69faa14",
   "metadata": {
    "slideshow": {
     "slide_type": "slide"
    }
   },
   "outputs": [],
   "source": []
  },
  {
   "cell_type": "code",
   "execution_count": 7,
   "id": "fa324d47",
   "metadata": {
    "scrolled": true,
    "slideshow": {
     "slide_type": "slide"
    }
   },
   "outputs": [
    {
     "name": "stdout",
     "output_type": "stream",
     "text": [
      "Hello World!\n"
     ]
    }
   ],
   "source": []
  },
  {
   "cell_type": "markdown",
   "id": "bbc30857",
   "metadata": {
    "slideshow": {
     "slide_type": "slide"
    }
   },
   "source": [
    "# Python Function Arguments"
   ]
  },
  {
   "cell_type": "markdown",
   "id": "0e460c3e",
   "metadata": {
    "slideshow": {
     "slide_type": "slide"
    }
   },
   "source": [
    "As mentioned earlier, a function can also have arguments. An argument is a value that is accepted by a function. For example,"
   ]
  },
  {
   "cell_type": "markdown",
   "id": "3e8e9c50",
   "metadata": {
    "slideshow": {
     "slide_type": "slide"
    }
   },
   "source": [
    "```python\n",
    "# function with two arguments\n",
    "def add_numbers(num1, num2):\n",
    "    sum = num1 + num2\n",
    "    print('Sum: ',sum)\n",
    "\n",
    "# function with no argument\n",
    "def add_numbers():\n",
    "    # code\n",
    "```"
   ]
  },
  {
   "cell_type": "markdown",
   "id": "cac7802e",
   "metadata": {
    "slideshow": {
     "slide_type": "slide"
    }
   },
   "source": [
    "If we create a function with arguments, we need to pass the corresponding values while calling them. For example,"
   ]
  },
  {
   "cell_type": "code",
   "execution_count": 8,
   "id": "5dac7a56",
   "metadata": {
    "slideshow": {
     "slide_type": "slide"
    }
   },
   "outputs": [],
   "source": [
    "def add_numbers_with_arguments(num_1, num_2):\n",
    "    sum = num_1 + num_2\n",
    "    print(\"La suma es: \", sum)\n",
    "    \n",
    "def add_numbers_without_arguments():\n",
    "    print(\"Sumar es una operación importante\")"
   ]
  },
  {
   "cell_type": "code",
   "execution_count": 33,
   "id": "7e0374b9",
   "metadata": {
    "slideshow": {
     "slide_type": "slide"
    }
   },
   "outputs": [
    {
     "name": "stdout",
     "output_type": "stream",
     "text": [
      "La suma es:  3\n"
     ]
    }
   ],
   "source": [
    "add_numbers_with_arguments(1,2)"
   ]
  },
  {
   "cell_type": "code",
   "execution_count": 9,
   "id": "38529336",
   "metadata": {
    "slideshow": {
     "slide_type": "slide"
    }
   },
   "outputs": [
    {
     "name": "stdout",
     "output_type": "stream",
     "text": [
      "Sumar es una operación importante\n"
     ]
    }
   ],
   "source": [
    "add_numbers_without_arguments() "
   ]
  },
  {
   "cell_type": "markdown",
   "id": "b1109f0e",
   "metadata": {
    "slideshow": {
     "slide_type": "slide"
    }
   },
   "source": [
    "Here, `add_numbers_with_arguments(5, 4)` specifies that arguments `num1` and `num2` will get values 5 and 4 respectively."
   ]
  },
  {
   "cell_type": "markdown",
   "id": "9ba83355",
   "metadata": {
    "slideshow": {
     "slide_type": "slide"
    }
   },
   "source": [
    "## Example 1: Python Function Arguments"
   ]
  },
  {
   "cell_type": "code",
   "execution_count": 11,
   "id": "cae522d8",
   "metadata": {
    "slideshow": {
     "slide_type": "slide"
    }
   },
   "outputs": [
    {
     "name": "stdout",
     "output_type": "stream",
     "text": [
      "Sum:  9\n"
     ]
    }
   ],
   "source": [
    "# function with two arguments\n",
    "def add_numbers(num1, num2):\n",
    "    sum = num1 + num2\n",
    "    print(\"Sum: \",sum)\n",
    "\n",
    "# function call with two values\n",
    "add_numbers(5, 4)\n",
    "\n",
    "# Output: Sum: 9"
   ]
  },
  {
   "cell_type": "markdown",
   "id": "4e0925d4",
   "metadata": {
    "slideshow": {
     "slide_type": "slide"
    }
   },
   "source": [
    "We can also call the function by mentioning **the argument name** as:"
   ]
  },
  {
   "cell_type": "code",
   "execution_count": 12,
   "id": "69536d54",
   "metadata": {
    "slideshow": {
     "slide_type": "slide"
    }
   },
   "outputs": [
    {
     "name": "stdout",
     "output_type": "stream",
     "text": [
      "Sum:  9\n"
     ]
    }
   ],
   "source": [
    "add_numbers(num1 = 5, num2 = 4)"
   ]
  },
  {
   "cell_type": "markdown",
   "id": "cd2fd0cd",
   "metadata": {
    "slideshow": {
     "slide_type": "slide"
    }
   },
   "source": [
    "In Python, we call it Keyword Argument (or named argument). The code above is equivalent to"
   ]
  },
  {
   "cell_type": "code",
   "execution_count": 13,
   "id": "a53e4d7d",
   "metadata": {
    "slideshow": {
     "slide_type": "slide"
    }
   },
   "outputs": [
    {
     "name": "stdout",
     "output_type": "stream",
     "text": [
      "Sum:  9\n"
     ]
    }
   ],
   "source": [
    "add_numbers(5, 4)"
   ]
  },
  {
   "cell_type": "markdown",
   "id": "b487e899",
   "metadata": {
    "slideshow": {
     "slide_type": "slide"
    }
   },
   "source": [
    "# The `return` Statement in Python\n",
    "\n",
    "A Python function may or may not return a value. If we want our function to return some value to a function call, we use the return statement. For example,"
   ]
  },
  {
   "cell_type": "code",
   "execution_count": 14,
   "id": "1f20ab54",
   "metadata": {
    "slideshow": {
     "slide_type": "slide"
    }
   },
   "outputs": [],
   "source": [
    "def add_numbers():\n",
    "    ...\n",
    "    return sum"
   ]
  },
  {
   "cell_type": "markdown",
   "id": "ed8eaf7d",
   "metadata": {
    "slideshow": {
     "slide_type": "slide"
    }
   },
   "source": [
    "Here, we are returning the variable `sum` to the function call.\n",
    "\n",
    "### Note:   \n",
    "\n",
    "The `return` statement also denotes that the function has ended. Any code after `return` is not executed."
   ]
  },
  {
   "cell_type": "markdown",
   "id": "1aa5732d",
   "metadata": {
    "slideshow": {
     "slide_type": "slide"
    }
   },
   "source": [
    "# Example 2: Function return Type"
   ]
  },
  {
   "cell_type": "code",
   "execution_count": 15,
   "id": "d14f9671",
   "metadata": {
    "slideshow": {
     "slide_type": "slide"
    }
   },
   "outputs": [
    {
     "name": "stdout",
     "output_type": "stream",
     "text": [
      "Square: 9\n"
     ]
    }
   ],
   "source": [
    "# function definition\n",
    "def find_square(num):\n",
    "    result = num * num\n",
    "    return result\n",
    "\n",
    "# function call\n",
    "square = find_square(3)\n",
    "\n",
    "print('Square:', square)\n",
    "\n",
    "# Output: Square: 9"
   ]
  },
  {
   "cell_type": "markdown",
   "id": "f78b9f45",
   "metadata": {
    "slideshow": {
     "slide_type": "slide"
    }
   },
   "source": [
    "In the above example, we have created a function named `find_square()`. The function accepts a number and returns the square of the number.\n",
    "\n",
    "<img src = 'https://www.programiz.com/sites/tutorial2program/files/function-return-value-python.png'>"
   ]
  },
  {
   "cell_type": "markdown",
   "id": "c14f1419",
   "metadata": {
    "slideshow": {
     "slide_type": "slide"
    }
   },
   "source": [
    "# Benefits of Using Functions\n",
    "\n",
    "1. Code Reusable - We can use the same function multiple times in our program which makes our code reusable. For example,"
   ]
  },
  {
   "cell_type": "code",
   "execution_count": 16,
   "id": "eb3b8b84",
   "metadata": {
    "slideshow": {
     "slide_type": "slide"
    }
   },
   "outputs": [
    {
     "name": "stdout",
     "output_type": "stream",
     "text": [
      "Square of 1 = 1\n",
      "Square of 2 = 4\n",
      "Square of 3 = 9\n",
      "Square of 4 = 16\n",
      "Square of 5 = 25\n",
      "Square of 6 = 36\n"
     ]
    }
   ],
   "source": [
    "# function definition\n",
    "def get_square(num):\n",
    "    return num * num\n",
    "\n",
    "for i in [1, 2, 3, 4, 5, 6]:\n",
    "    # function call\n",
    "    result = get_square(i)\n",
    "    print('Square of',i, '=',result)"
   ]
  },
  {
   "cell_type": "markdown",
   "id": "8a6f7ef9",
   "metadata": {
    "slideshow": {
     "slide_type": "slide"
    }
   },
   "source": [
    "## Tareas para realizar antes de la clase"
   ]
  },
  {
   "cell_type": "markdown",
   "id": "90cae469",
   "metadata": {
    "slideshow": {
     "slide_type": "slide"
    }
   },
   "source": [
    "1. Ver los videos respectivos []()\n",
    "2. Memorizar las definiciones [definición de función de python](https://udeaeduco-my.sharepoint.com/:u:/g/personal/marco_canas_udea_edu_co/Ee7IA-nYgcBBrvoPuB-x9B4BjVv9sHdQw832Dbt1i3TwXg?e=QbhRl1)\n",
    "3. Sintetizar o resumir la información en mapas conceptuales. [funciones de usuario en Python](https://github.com/marco-canas/7_didactica_ciencia_datos/blob/main/propuesta/unidad_didac/0_python/3_funciones/python%20functions.jpeg?raw=true)"
   ]
  },
  {
   "cell_type": "markdown",
   "id": "fccb447c",
   "metadata": {
    "slideshow": {
     "slide_type": "slide"
    }
   },
   "source": [
    "# Tareas para realizar en clase"
   ]
  },
  {
   "cell_type": "markdown",
   "id": "e5c48edf",
   "metadata": {
    "slideshow": {
     "slide_type": "slide"
    }
   },
   "source": [
    "* Modelación matemática \n",
    "  - Cree una función que calcule el promedio de un conjunto de datos numéricos de una variable cuantitativa discreta. \n",
    "   \n",
    "  \n",
    "* Trabajo en equipos\n",
    "  - cree una función que calcule el coeficiente de correlación de Pearson entre dos variables cuantitativas continuas creadas artificialmente a través de `numpy.random`."
   ]
  },
  {
   "cell_type": "markdown",
   "id": "8b6b0112",
   "metadata": {
    "slideshow": {
     "slide_type": "slide"
    }
   },
   "source": [
    "# Tareas para realizar después de la realización de la clase"
   ]
  },
  {
   "cell_type": "markdown",
   "id": "947460e3",
   "metadata": {
    "slideshow": {
     "slide_type": "slide"
    }
   },
   "source": [
    "* Actividades de memorización: \n",
    "  - escucha reiterada de grabaciones de fórmulas y resultados científicos. \n",
    "  - relectura de notas. \n",
    "  - ejercicios de mayor complejidad [cree las siguientes funciones de python]()\n",
    "  - construir funciones para selección de atributos predictores mejor correlacionados con la variable objetivo. Para ello tome el siguiente [dataset](https://i.ytimg.com/vi/bk3CfOrCfVc/maxresdefault.jpg). \n",
    "  "
   ]
  },
  {
   "cell_type": "markdown",
   "id": "935a5567",
   "metadata": {
    "slideshow": {
     "slide_type": "slide"
    }
   },
   "source": [
    "## Dificultades de aprendizaje detectados durante la clase"
   ]
  },
  {
   "cell_type": "markdown",
   "id": "6ab29794",
   "metadata": {
    "slideshow": {
     "slide_type": "slide"
    }
   },
   "source": [
    "* Definición de variables y llamado de valores asociados a una variable previamente definida. "
   ]
  },
  {
   "cell_type": "markdown",
   "id": "fb9402bb",
   "metadata": {
    "slideshow": {
     "slide_type": "slide"
    }
   },
   "source": [
    "## Estrategias propuestas para la solución de las dificultades de aprendizaje detectadas"
   ]
  },
  {
   "cell_type": "markdown",
   "id": "4fc8d5c5",
   "metadata": {
    "slideshow": {
     "slide_type": "slide"
    }
   },
   "source": [
    "* Utilizar la tecla ctrl + shift + seleccionar con el click izquierdo del mouse y luego cambiar una de los nombres de la función y verá como se cambian los nombres en todas las partes señaladas. "
   ]
  },
  {
   "cell_type": "markdown",
   "id": "d11570a2",
   "metadata": {
    "slideshow": {
     "slide_type": "slide"
    }
   },
   "source": [
    "## Cuestionario para realizar labores de memorización y observación,  a la síntesis de la información"
   ]
  },
  {
   "cell_type": "markdown",
   "id": "540f0ec1",
   "metadata": {
    "slideshow": {
     "slide_type": "slide"
    }
   },
   "source": [
    "1. ¿Cómo se definen variables en Python?\n",
    "2. ¿Cómo se llaman variables o cómo obtenemos los valores asociados a las variables?\n"
   ]
  },
  {
   "cell_type": "markdown",
   "id": "236b43fc",
   "metadata": {
    "slideshow": {
     "slide_type": "slide"
    }
   },
   "source": [
    "## Grabaciones en audio para fomentar la capacidad de memorizar enunciados de teoremas y resultados científicos y la capacidad de parafrasear estos resultados. "
   ]
  },
  {
   "cell_type": "markdown",
   "id": "319f2ffa",
   "metadata": {
    "slideshow": {
     "slide_type": "slide"
    }
   },
   "source": [
    "Se dispondrá de un lugar en el drive asociado al correo institucional de la Universidad Nacional del Profesor Marco para albergar los archivos de audio de fomento a la memorización, enunciación y parafraseo de los resultados científicos, propiedades, reglas, etc. \n",
    "\n",
    "* Vocaroo"
   ]
  },
  {
   "cell_type": "markdown",
   "id": "564fa59d",
   "metadata": {
    "slideshow": {
     "slide_type": "slide"
    }
   },
   "source": [
    "### Comparta sus cuadernos y videos donde haya realizado las evaluaciones, tareas propuestas, evidencias de su aprendizaje [aquí](https://forms.office.com/Pages/ResponsePage.aspx?id=IefhmYRxjkmK_7KtTlPBwkanXIs1i1FEujpsZgO6dXpUMEMwTEZVMzEwVVBPTElWNVg5OVEyWUhMUy4u)\n",
    "\n",
    "o a través del correo marco.canas@udea.edu.co"
   ]
  },
  {
   "cell_type": "markdown",
   "id": "44be6d93",
   "metadata": {
    "slideshow": {
     "slide_type": "slide"
    }
   },
   "source": [
    "# Vocabulary "
   ]
  },
  {
   "cell_type": "markdown",
   "id": "5525a134",
   "metadata": {
    "slideshow": {
     "slide_type": "slide"
    }
   },
   "source": [
    "* function: función\n",
    "* return: retornar\n",
    "* definition: definición. \n",
    "* square: cuadrado\n",
    "* root: raíz. \n",
    "* square root: raíz cuadrada. "
   ]
  },
  {
   "cell_type": "markdown",
   "id": "0266e3c5",
   "metadata": {
    "slideshow": {
     "slide_type": "slide"
    }
   },
   "source": [
    "## Quiz de 5 minutos para ejercitación y adquisición de habilidades "
   ]
  },
  {
   "cell_type": "markdown",
   "id": "3a1b127f",
   "metadata": {
    "slideshow": {
     "slide_type": "slide"
    }
   },
   "source": [
    "1. Crear una función que reste dos números\n",
    "2. Crear una función que duplique números. "
   ]
  },
  {
   "cell_type": "markdown",
   "id": "10bce0d0",
   "metadata": {
    "slideshow": {
     "slide_type": "slide"
    }
   },
   "source": [
    "## Referentes "
   ]
  },
  {
   "cell_type": "markdown",
   "id": "1db3c468",
   "metadata": {
    "slideshow": {
     "slide_type": "slide"
    }
   },
   "source": [
    "* [stewart precálculo](https://udeaeduco-my.sharepoint.com/:b:/g/personal/marco_canas_udea_edu_co/ERHIq62I6qFNrmxy6LZb8ZMBci7kUsyNME1nIh9yCBMJ_w?e=0zMSla)  \n",
    "\n",
    "* [stewart cálculo](https://udeaeduco-my.sharepoint.com/:b:/g/personal/marco_canas_udea_edu_co/EZgXZjAp8QxPqOAim2hs6LcBNPLGjSHf-xwYnUVYkwa04w?e=RZdTCy)  \n",
    "\n",
    "* [larson](https://udeaeduco-my.sharepoint.com/:b:/g/personal/marco_canas_udea_edu_co/ES71ChFeO9ZDhW3TwC5Ijk8BjxUK3Pdqz_fjHxTTFAfIAg?e=VDEjfu)\n",
    "\n",
    "* [uzcategui](https://udeaeduco-my.sharepoint.com/:b:/g/personal/marco_canas_udea_edu_co/ETDikm-lVl1Or8XoEo9oyh0BEti9Zs8le-f0D-dBdtZmbA?e=bBsoyQ)\n",
    "\n",
    "* [Recomendación de la UNESCO sobre ciencia abierta](https://unesdoc.unesco.org/ark:/48223/pf0000379949_spa)\n",
    "\n",
    "* [Programiz](https://www.programiz.com/python-programming/function)\n",
    "\n",
    "* [Geron](https://udeaeduco-my.sharepoint.com/:b:/g/personal/marco_canas_udea_edu_co/Ecet27yjQzZIlT1Y_Bc2erkBUhbeYuIe6HG8i1FYZRlZww?e=oBnfPf)"
   ]
  },
  {
   "cell_type": "markdown",
   "id": "6b9e56a8",
   "metadata": {
    "slideshow": {
     "slide_type": "slide"
    }
   },
   "source": [
    "### [Evaluamos al profesor Marco Cañas Aquí](https://forms.office.com/Pages/ResponsePage.aspx?id=IefhmYRxjkmK_7KtTlPBwkanXIs1i1FEujpsZgO6dXpUREJPV1kxUk1JV1ozTFJIQVNIQjY5WEY3US4u)"
   ]
  },
  {
   "cell_type": "markdown",
   "id": "071afa04",
   "metadata": {
    "slideshow": {
     "slide_type": "slide"
    }
   },
   "source": [
    "## [Evaluación luego de alcanzar estos objetivos de aprendizaje](https://github.com/marco-canas/7_didactica_ciencia_datos/blob/main/propuesta/unidad_didac/0_python/3_funciones/3_modelo_clase_aula_invertida_evaluation_quiz_parcial.ipynb)"
   ]
  },
  {
   "cell_type": "markdown",
   "id": "10f43536",
   "metadata": {
    "slideshow": {
     "slide_type": "slide"
    }
   },
   "source": [
    "### Continue su aprendizaje en la siguiente clase a través del siguiente [vínculo](https://github.com/marco-canas/7_didactica_ciencia_datos/blob/main/propuesta/unidad_didac/0_python/4_control_de_flujo/1_if.ipynb)"
   ]
  },
  {
   "cell_type": "markdown",
   "id": "af751e30",
   "metadata": {
    "slideshow": {
     "slide_type": "slide"
    }
   },
   "source": [
    "# Conjeturas pedagógicas fruto de la aplicación del modelo de aprendizaje invertido y del enfoque hacia la ciencia de datos con python\n",
    "\n",
    "1. Todo cálculo o resultado debe ser interpretado en una línea markdown del cuaderno Jupyter, inmediatamente después de la enunciación del resultado y después de la presentación de una tabla o gráfico bidimensional, de tal menera que el estudiante explicite la comprensión verbal del resultado y las inferencias o estrategias que este resultado le sugieren.   "
   ]
  },
  {
   "cell_type": "markdown",
   "id": "53cc9115",
   "metadata": {
    "slideshow": {
     "slide_type": "slide"
    }
   },
   "source": [
    "## Agradecimientos  \n",
    "\n",
    "Doy gracias a Dios por la vida de mi Hijo Joseph Cañas Osorio y la madurez que ha alcanzado.\n",
    "\n",
    "Y a mi esposa Yasmira por su apoyo, orientación y acompañamiento. \n",
    "\n",
    "A los Jóvenes investigadores asociados al Proyecto Antioquia Mira su Cielo. "
   ]
  },
  {
   "cell_type": "code",
   "execution_count": null,
   "id": "dcefe946",
   "metadata": {},
   "outputs": [],
   "source": []
  }
 ],
 "metadata": {
  "celltoolbar": "Slideshow",
  "kernelspec": {
   "display_name": "Python 3 (ipykernel)",
   "language": "python",
   "name": "python3"
  },
  "language_info": {
   "codemirror_mode": {
    "name": "ipython",
    "version": 3
   },
   "file_extension": ".py",
   "mimetype": "text/x-python",
   "name": "python",
   "nbconvert_exporter": "python",
   "pygments_lexer": "ipython3",
   "version": "3.10.12"
  },
  "rise": {
   "enable_chalkboard": true,
   "theme": "sky",
   "transition": "zoom"
  }
 },
 "nbformat": 4,
 "nbformat_minor": 5
}
