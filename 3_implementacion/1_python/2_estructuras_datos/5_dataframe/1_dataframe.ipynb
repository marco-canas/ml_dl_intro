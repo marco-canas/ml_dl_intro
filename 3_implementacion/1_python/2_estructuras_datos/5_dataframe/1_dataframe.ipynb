{
 "cells": [
  {
   "cell_type": "markdown",
   "id": "1d8a0f49",
   "metadata": {
    "slideshow": {
     "slide_type": "slide"
    }
   },
   "source": [
    "<table align=\"left\">\n",
    "  <td>\n",
    "<a href=\"https://colab.research.google.com/github/marco-canas/didactica_ciencia_datos/blob/main/1_curso_machine_learning/1_python/2_estructuras_datos/5_dataframe/1_dataframe.ipynb\" target=\"_parent\"><img src=\"https://colab.research.google.com/assets/colab-badge.svg\" alt=\"Open In Colab\"/></a>\n",
    " </td>\n",
    "</table>"
   ]
  },
  {
   "cell_type": "markdown",
   "id": "28e5d0c1",
   "metadata": {
    "slideshow": {
     "slide_type": "slide"
    }
   },
   "source": [
    "Obtenga el programa del curso [aquí]()"
   ]
  },
  {
   "cell_type": "markdown",
   "id": "6ba731cc",
   "metadata": {
    "slideshow": {
     "slide_type": "slide"
    }
   },
   "source": [
    "# 5 DataFrame de Pandas"
   ]
  },
  {
   "cell_type": "markdown",
   "id": "29c1b034",
   "metadata": {
    "slideshow": {
     "slide_type": "slide"
    }
   },
   "source": [
    "Dame, por favor, un diseño de clase sobre la estructura de datos llamada DataFrame de Pandas en python y su utilización en ciencia de datos con técnicas de machine learning siguiendo la siguiente estructura: \n",
    "1. Título de la clase \n",
    "2. Objetivo de aprendizaje\n",
    "3. Contenido de la clase\n",
    "4. Actividades de aprendizaje\n",
    "5. Tarea o actividades de ejercitación y fijación\n",
    "6. Diseño de actividad de retroalimentación. "
   ]
  },
  {
   "cell_type": "markdown",
   "id": "67203220",
   "metadata": {},
   "source": [
    "Aquí tienes un diseño de clase sobre la estructura de datos `DataFrame` en Pandas para su aplicación en ciencia de datos y técnicas de machine learning.\n",
    "\n",
    "---\n"
   ]
  },
  {
   "cell_type": "markdown",
   "id": "9855effd",
   "metadata": {},
   "source": [
    "\n",
    "### 1. Título de la Clase\n",
    "**Introducción a la estructura DataFrame en Pandas y su Aplicación en Ciencia de Datos con técnicas Machine Learning**\n"
   ]
  },
  {
   "cell_type": "markdown",
   "id": "e462b5fc",
   "metadata": {},
   "source": [
    "\n",
    "### 2. Objetivo de Aprendizaje\n"
   ]
  },
  {
   "cell_type": "markdown",
   "id": "87431c16",
   "metadata": {},
   "source": [
    "Al finalizar esta clase, los estudiantes serán capaces de:\n",
    "- Crear y manipular Series y DataFrames en Pandas.\n",
    "- Explorar y limpiar datos utilizando métodos de Pandas.\n",
    "- Aplicar operaciones comunes de ciencia de datos en DataFrames para la preparación de datos en proyectos de machine learning.\n"
   ]
  },
  {
   "cell_type": "markdown",
   "id": "81ef43c1",
   "metadata": {},
   "source": [
    "\n",
    "### 3. Contenido de la Clase\n",
    "\n",
    "1. **Introducción a Pandas y a la Estructura de Datos `DataFrame`**\n",
    "   - ¿Qué es Pandas y por qué es fundamental en ciencia de datos?\n",
    "   - Definición y características de un `DataFrame`.\n",
    "   - Comparación de `DataFrame` con otras estructuras de datos (listas, nd-arrays).\n"
   ]
  },
  {
   "cell_type": "markdown",
   "id": "122da8fe",
   "metadata": {},
   "source": [
    "<img src = 'https://i.ytimg.com/vi/SMkoyjFdVGY/sddefault.jpg'>"
   ]
  },
  {
   "cell_type": "markdown",
   "id": "46dfeb45",
   "metadata": {},
   "source": [
    "\n",
    "2. **Creación de DataFrames**\n",
    "   - Creación de `DataFrames` a partir de listas, diccionarios, y archivos (CSV, Excel).\n",
    "   - Exploración de datos con funciones como `head()`, `tail()`, `info()`, y `describe()`.\n"
   ]
  },
  {
   "cell_type": "markdown",
   "id": "405209da",
   "metadata": {},
   "source": [
    "\n",
    "3. **Manipulación de Datos en un DataFrame**\n",
    "   - Selección y filtrado de datos: acceso a filas y columnas.\n",
    "   - Modificación de valores, creación y eliminación de columnas.\n",
    "   - Manejo de valores nulos y duplicados.\n"
   ]
  },
  {
   "cell_type": "markdown",
   "id": "7f6583e4",
   "metadata": {},
   "source": [
    "\n",
    "4. **Operaciones de Limpieza y Transformación de Datos**\n",
    "   - Métodos para limpiar datos y eliminar registros incompletos.\n",
    "   - Transformación de tipos de datos.\n",
    "   - Uso de funciones como `apply()`, `groupby()`, y `merge()`.\n"
   ]
  },
  {
   "cell_type": "markdown",
   "id": "af9df324",
   "metadata": {},
   "source": [
    "\n",
    "5. **Preparación de Datos para Machine Learning**\n",
    "   - Normalización y estandarización de datos numéricos.\n",
    "   - Codificación de variables categóricas.\n",
    "   - División de los datos en conjuntos de entrenamiento y prueba.\n"
   ]
  },
  {
   "cell_type": "markdown",
   "id": "342bc897",
   "metadata": {},
   "source": [
    "\n",
    "### 4. Actividades de Aprendizaje\n"
   ]
  },
  {
   "cell_type": "markdown",
   "id": "a31d71d6",
   "metadata": {},
   "source": [
    "\n",
    "1. **Exploración de DataFrames**: Cargar un archivo CSV con datos de ejemplo (por ejemplo, el conjunto de datos de Titanic) y explorar sus características principales usando `head()`, `info()`, y `describe()`.\n"
   ]
  },
  {
   "cell_type": "markdown",
   "id": "1058a7de",
   "metadata": {},
   "source": [
    "\n",
    "2. **Manipulación Básica**: Seleccionar y modificar columnas, crear nuevas columnas a partir de otras, y filtrar datos basándose en condiciones.\n"
   ]
  },
  {
   "cell_type": "markdown",
   "id": "991a2054",
   "metadata": {},
   "source": [
    "\n",
    "3. **Limpieza de Datos**: Usar métodos para manejar valores nulos y eliminar registros duplicados. Transformar tipos de datos de columnas según se necesite.\n"
   ]
  },
  {
   "cell_type": "markdown",
   "id": "78d77148",
   "metadata": {},
   "source": [
    "\n",
    "4. **Transformación y Agrupación**: Aplicar `groupby()` para obtener estadísticas agregadas y usar `apply()` para crear nuevas características a partir de columnas existentes.\n"
   ]
  },
  {
   "cell_type": "markdown",
   "id": "e56824d2",
   "metadata": {},
   "source": [
    "\n",
    "5. **Preparación de Datos para Machine Learning**: Estandarizar las columnas numéricas y codificar las variables categóricas. Dividir el conjunto de datos en entrenamiento y prueba.\n"
   ]
  },
  {
   "cell_type": "markdown",
   "id": "c95372a4",
   "metadata": {},
   "source": [
    "\n",
    "### 5. Tarea o Actividades de Ejercitación y Fijación\n",
    "\n",
    "1. **Ejercicio de Exploración y Modificación**: \n",
    "   - Cargar un archivo CSV (se puede sugerir un conjunto de datos abierto como el de \"Iris\" o \"Heart Disease\").\n",
    "   - Realizar un análisis exploratorio con `head()`, `tail()`, `info()`, y `describe()`.\n"
   ]
  },
  {
   "cell_type": "markdown",
   "id": "345fe993",
   "metadata": {},
   "source": [
    "\n",
    "2. **Ejercicio de Limpieza y Transformación**:\n",
    "   - Identificar y manejar valores nulos en el conjunto de datos.\n",
    "   - Eliminar duplicados y cambiar tipos de datos de columnas según su contenido.\n"
   ]
  },
  {
   "cell_type": "markdown",
   "id": "22f06a61",
   "metadata": {},
   "source": [
    "\n",
    "3. **Ejercicio de Preparación para Machine Learning**:\n",
    "   - Estandarizar una columna numérica y realizar una codificación `One-Hot Encoding` de una columna categórica.\n",
    "   - Dividir el conjunto de datos en conjuntos de entrenamiento y prueba, e indicar el porcentaje de división.\n"
   ]
  },
  {
   "cell_type": "markdown",
   "id": "ef2cef7c",
   "metadata": {},
   "source": [
    "\n",
    "### 6. Diseño de Actividad de Retroalimentación\n",
    "\n",
    "**Actividad de Retroalimentación: Proyecto Colaborativo en Ciencia de Datos**\n",
    "\n",
    "1. **Descripción de la Actividad**:\n",
    "   En grupos, los estudiantes trabajarán en un conjunto de datos de su elección (pueden seleccionar uno de Kaggle o un dataset abierto). Cada grupo debe presentar un informe en el que:\n",
    "   - Describan el conjunto de datos (incluyendo características y problemas de calidad).\n",
    "   - Apliquen técnicas de limpieza y transformación en el `DataFrame` para prepararlo para el análisis.\n",
    "   - Realicen una división en conjuntos de entrenamiento y prueba, preparando el dataset para su uso en machine learning.\n"
   ]
  },
  {
   "cell_type": "markdown",
   "id": "9c2ba6a8",
   "metadata": {},
   "source": [
    "\n",
    "2. **Objetivo de la Retroalimentación**:\n",
    "   La actividad tiene como propósito que los estudiantes compartan sus hallazgos y reciban retroalimentación sobre la calidad de sus datos y la adecuación de sus pasos de preparación, abordando errores comunes en el preprocesamiento de datos.\n"
   ]
  },
  {
   "cell_type": "markdown",
   "id": "b3d93d3a",
   "metadata": {},
   "source": [
    "\n",
    "3. **Presentación y Discusión**:\n",
    "   Cada grupo compartirá su informe en clase, mostrando el código y los resultados obtenidos. Los compañeros de clase y el instructor brindarán retroalimentación, sugiriendo mejoras o alternativas para un preprocesamiento de datos más efectivo.\n",
    "\n",
    "---\n"
   ]
  },
  {
   "cell_type": "markdown",
   "id": "b7c1a34e",
   "metadata": {},
   "source": [
    "\n",
    "Este diseño de clase guía a los estudiantes en el aprendizaje práctico y conceptual de los DataFrames en Pandas, y su importancia en el flujo de trabajo de machine learning. La retroalimentación colaborativa refuerza su comprensión y mejora sus habilidades de preparación de datos, esenciales para la ciencia de datos."
   ]
  },
  {
   "cell_type": "markdown",
   "id": "ae340419",
   "metadata": {},
   "source": [
    "[Video de apoyo a la lectura experimental hasta aquí](https://youtu.be/Z-V1lNZ1iyc)"
   ]
  },
  {
   "cell_type": "markdown",
   "id": "0a4d57e1",
   "metadata": {},
   "source": [
    "# Implementemos ahora la clase  \n",
    "\n",
    "Aquí tienes un diseño de clase sobre la estructura de datos `DataFrame` en Pandas para su aplicación en ciencia de datos y técnicas de machine learning.\n",
    "\n",
    "---\n"
   ]
  },
  {
   "cell_type": "markdown",
   "id": "5628f14c",
   "metadata": {},
   "source": [
    "\n",
    "### 1. Título de la Clase\n",
    "**Introducción a DataFrames en Pandas y su Aplicación en Ciencia de Datos y Machine Learning**\n"
   ]
  },
  {
   "cell_type": "markdown",
   "id": "31da020c",
   "metadata": {},
   "source": [
    "\n",
    "### 2. Objetivo de Aprendizaje\n"
   ]
  },
  {
   "cell_type": "markdown",
   "id": "78d2d478",
   "metadata": {},
   "source": [
    "Al finalizar esta clase, los estudiantes serán capaces de:\n"
   ]
  },
  {
   "cell_type": "markdown",
   "id": "3423d77b",
   "metadata": {},
   "source": [
    "- Crear y manipular DataFrames en Pandas.\n"
   ]
  },
  {
   "cell_type": "markdown",
   "id": "42937898",
   "metadata": {},
   "source": [
    "- Explorar y limpiar datos utilizando métodos de Pandas.\n",
    "- Aplicar operaciones comunes de ciencia de datos en DataFrames para la preparación de datos en proyectos de machine learning.\n"
   ]
  },
  {
   "cell_type": "markdown",
   "id": "54adb875",
   "metadata": {},
   "source": [
    "\n",
    "### 3. Contenido de la Clase\n",
    "\n",
    "1. **Introducción a Pandas y a la Estructura de Datos `DataFrame`**\n",
    "   - ¿Qué es Pandas y por qué es fundamental en ciencia de datos?\n",
    "   - Definición y características de un `DataFrame`.\n",
    "   - Comparación de `DataFrame` con otras estructuras de datos (listas, nd-arrays).\n"
   ]
  },
  {
   "cell_type": "markdown",
   "id": "ba55c4d6",
   "metadata": {},
   "source": [
    "Aquí tienes el desarrollo de la primera parte del contenido para la clase sobre la estructura `DataFrame` en Pandas:\n",
    "\n",
    "---\n"
   ]
  },
  {
   "cell_type": "markdown",
   "id": "4fa48022",
   "metadata": {},
   "source": [
    "\n",
    "### 1. **Introducción a Pandas y a la Estructura de Datos `DataFrame`**\n"
   ]
  },
  {
   "cell_type": "markdown",
   "id": "6bf8be27",
   "metadata": {},
   "source": [
    "\n",
    "#### ¿Qué es Pandas y por qué es fundamental en ciencia de datos?\n"
   ]
  },
  {
   "cell_type": "markdown",
   "id": "d7459139",
   "metadata": {},
   "source": [
    "Pandas es una biblioteca de Python diseñada específicamente para el manejo y análisis de datos. "
   ]
  },
  {
   "cell_type": "markdown",
   "id": "f366b7d6",
   "metadata": {},
   "source": [
    "Proporciona estructuras de datos y herramientas de alto rendimiento para trabajar con datos de una forma flexible y eficiente, facilitando tareas como la limpieza, manipulación, y análisis de grandes volúmenes de datos. En ciencia de datos, Pandas es esencial porque:\n"
   ]
  },
  {
   "cell_type": "markdown",
   "id": "8966bbfe",
   "metadata": {},
   "source": [
    "\n",
    "- **Permite manipular y limpiar datos** de manera sencilla y eficaz, preparando conjuntos de datos para el análisis.\n",
    "- **Facilita el trabajo con datos tabulares** (similares a los que se encuentran en hojas de cálculo y bases de datos).\n",
    "- **Ofrece una gran cantidad de funciones y métodos** para filtrar, transformar y agrupar datos, lo que permite realizar análisis complejos de forma rápida.\n",
    "- **Soporta la integración con otras bibliotecas** populares de Python, como NumPy, Matplotlib y scikit-learn, lo que es especialmente útil para aplicaciones de machine learning.\n"
   ]
  },
  {
   "cell_type": "markdown",
   "id": "f55ead25",
   "metadata": {},
   "source": [
    "\n",
    "#### Definición y características de un `DataFrame`\n",
    "Un `DataFrame` es una estructura de datos bidimensional de Pandas, similar a una tabla de una hoja de cálculo o una base de datos relacional. Está compuesta por filas y columnas, donde:\n",
    "\n",
    "- **Las filas representan observaciones o registros**, y cada fila contiene datos de diferentes variables.\n",
    "- **Las columnas representan variables o atributos**, y cada columna tiene un nombre único que permite su identificación.\n",
    "  \n"
   ]
  },
  {
   "cell_type": "markdown",
   "id": "0a977d0a",
   "metadata": {},
   "source": [
    "Características principales de un `DataFrame`:\n"
   ]
  },
  {
   "cell_type": "markdown",
   "id": "4cf29e1f",
   "metadata": {},
   "source": [
    "\n",
    "1. **Estructura etiquetada**: Las filas y columnas tienen etiquetas, lo que permite el acceso rápido a los datos.\n",
    "2. **Soporte para múltiples tipos de datos**: Cada columna puede contener diferentes tipos de datos (números, texto, fechas, etc.).\n",
    "3. **Operaciones optimizadas**: Pandas aprovecha la biblioteca NumPy para hacer las operaciones más eficientes, lo que permite realizar cálculos y transformaciones rápidamente.\n",
    "4. **Manejo de datos faltantes**: Los `DataFrames` ofrecen herramientas para identificar y manejar valores nulos o faltantes, un aspecto fundamental en el análisis de datos.\n"
   ]
  },
  {
   "cell_type": "markdown",
   "id": "6149f156",
   "metadata": {},
   "source": [
    "\n",
    "#### Comparación de `DataFrame` con otras estructuras de datos (listas, nd-arrays)\n",
    "Para entender mejor el poder y la flexibilidad de los `DataFrames`, es útil compararlos con otras estructuras de datos en Python:\n"
   ]
  },
  {
   "cell_type": "markdown",
   "id": "cead1fd1",
   "metadata": {},
   "source": [
    "\n",
    "- **Listas**:\n",
    "  - **Flexibilidad**: Las listas pueden contener diferentes tipos de datos, pero carecen de estructura tabular.\n",
    "  - **Limitaciones**: No están diseñadas para el manejo de datos tabulares ni cuentan con funciones para operaciones complejas como agrupaciones o filtrado por condiciones.\n"
   ]
  },
  {
   "cell_type": "code",
   "execution_count": 3,
   "id": "e98d2f15",
   "metadata": {},
   "outputs": [
    {
     "data": {
      "text/plain": [
       "[1, 2, 3, 5.6, True, 'marco']"
      ]
     },
     "execution_count": 3,
     "metadata": {},
     "output_type": "execute_result"
    }
   ],
   "source": [
    "lista = [1,2,3, 5.6, True, 'marco']\n",
    "lista "
   ]
  },
  {
   "cell_type": "code",
   "execution_count": 4,
   "id": "2f378e4a",
   "metadata": {},
   "outputs": [
    {
     "ename": "AttributeError",
     "evalue": "'list' object has no attribute 'ndim'",
     "output_type": "error",
     "traceback": [
      "\u001b[1;31m---------------------------------------------------------------------------\u001b[0m",
      "\u001b[1;31mAttributeError\u001b[0m                            Traceback (most recent call last)",
      "Cell \u001b[1;32mIn[4], line 1\u001b[0m\n\u001b[1;32m----> 1\u001b[0m \u001b[43mlista\u001b[49m\u001b[38;5;241;43m.\u001b[39;49m\u001b[43mndim\u001b[49m\n",
      "\u001b[1;31mAttributeError\u001b[0m: 'list' object has no attribute 'ndim'"
     ]
    }
   ],
   "source": [
    "lista.ndim"
   ]
  },
  {
   "cell_type": "markdown",
   "id": "249142c5",
   "metadata": {},
   "source": [
    "\n",
    "- **`nd-arrays` de NumPy**:\n"
   ]
  },
  {
   "cell_type": "markdown",
   "id": "e7e28f17",
   "metadata": {},
   "source": [
    "  - **Homogeneidad**: Los `nd-arrays` son más rápidos que las listas y pueden manejar grandes cantidades de datos, pero solo permiten un tipo de datos en cada array.\n",
    "  - **Limitaciones**: No incluyen etiquetas para las filas y columnas, lo que dificulta el análisis cuando se requiere acceder a datos específicos por nombres de columna. También carecen de herramientas integradas para manipulación de datos faltantes y para la integración de datos heterogéneos.\n"
   ]
  },
  {
   "cell_type": "code",
   "execution_count": 14,
   "id": "fb8cefd4",
   "metadata": {},
   "outputs": [],
   "source": [
    "import numpy as np \n",
    "\n",
    "matriz = np.array([[1,4.3,True]])\n",
    "columna = np.array([[1], [2]])"
   ]
  },
  {
   "cell_type": "code",
   "execution_count": 16,
   "id": "bdea3474",
   "metadata": {},
   "outputs": [
    {
     "data": {
      "text/plain": [
       "dtype('float64')"
      ]
     },
     "execution_count": 16,
     "metadata": {},
     "output_type": "execute_result"
    }
   ],
   "source": [
    "matriz.dtype"
   ]
  },
  {
   "cell_type": "code",
   "execution_count": 6,
   "id": "da73d009",
   "metadata": {},
   "outputs": [
    {
     "data": {
      "text/plain": [
       "2"
      ]
     },
     "execution_count": 6,
     "metadata": {},
     "output_type": "execute_result"
    }
   ],
   "source": [
    "matriz.ndim "
   ]
  },
  {
   "cell_type": "markdown",
   "id": "04a646f3",
   "metadata": {},
   "source": [
    "\n",
    "- **`DataFrames` de Pandas**:\n",
    "  - **Flexibilidad y etiquetas**: Combina las ventajas de las listas y `nd-arrays` y añade etiquetas tanto en filas como en columnas, lo que facilita un acceso y manipulación intuitiva de los datos.\n",
    "  - **Soporte para tipos de datos heterogéneos**: Los `DataFrames` permiten trabajar con diferentes tipos de datos en distintas columnas, lo que es fundamental para el análisis de datos del mundo real.\n",
    "  - **Funcionalidades avanzadas**: Integran métodos especializados para limpieza, agrupación, y análisis, lo que los hace ideales para ciencia de datos.\n"
   ]
  },
  {
   "cell_type": "code",
   "execution_count": 12,
   "id": "a9434a19",
   "metadata": {},
   "outputs": [
    {
     "data": {
      "text/html": [
       "<div>\n",
       "<style scoped>\n",
       "    .dataframe tbody tr th:only-of-type {\n",
       "        vertical-align: middle;\n",
       "    }\n",
       "\n",
       "    .dataframe tbody tr th {\n",
       "        vertical-align: top;\n",
       "    }\n",
       "\n",
       "    .dataframe thead th {\n",
       "        text-align: right;\n",
       "    }\n",
       "</style>\n",
       "<table border=\"1\" class=\"dataframe\">\n",
       "  <thead>\n",
       "    <tr style=\"text-align: right;\">\n",
       "      <th></th>\n",
       "      <th>nombre</th>\n",
       "      <th>edad</th>\n",
       "    </tr>\n",
       "  </thead>\n",
       "  <tbody>\n",
       "    <tr>\n",
       "      <th>1</th>\n",
       "      <td>Marco</td>\n",
       "      <td>49</td>\n",
       "    </tr>\n",
       "  </tbody>\n",
       "</table>\n",
       "</div>"
      ],
      "text/plain": [
       "  nombre  edad\n",
       "1  Marco    49"
      ]
     },
     "execution_count": 12,
     "metadata": {},
     "output_type": "execute_result"
    }
   ],
   "source": [
    "import pandas as pd \n",
    "\n",
    "df = pd.DataFrame({'nombre': 'Marco', 'edad': 49}, index = [1]) \n",
    "df "
   ]
  },
  {
   "cell_type": "markdown",
   "id": "261ec214",
   "metadata": {},
   "source": [
    "\n",
    "Con estas características, los `DataFrames` se destacan como la estructura de datos preferida en proyectos de ciencia de datos, facilitando el flujo de trabajo desde la limpieza de datos hasta el modelado en machine learning."
   ]
  },
  {
   "cell_type": "markdown",
   "id": "3794db0b",
   "metadata": {},
   "source": [
    "[Video de apoyo a la lectura experimental hasta aquí]()"
   ]
  },
  {
   "cell_type": "markdown",
   "id": "ac17465d",
   "metadata": {},
   "source": [
    "\n",
    "2. **Creación de DataFrames**\n",
    "   - Creación de `DataFrames` a partir de listas, diccionarios, y archivos (CSV, Excel).\n",
    "   - Exploración de datos con funciones como `head()`, `tail()`, `info()`, y `describe()`.\n"
   ]
  },
  {
   "cell_type": "markdown",
   "id": "053d3365",
   "metadata": {},
   "source": [
    "Nos enfocaremos en crear `DataFrames` a partir de distintas fuentes y en explorar sus datos con funciones esenciales de Pandas. "
   ]
  },
  {
   "cell_type": "markdown",
   "id": "48f9651b",
   "metadata": {},
   "source": [
    "Este enfoque es ideal para comprender cómo trabajar con conjuntos de datos en un contexto real.\n",
    "\n",
    "---\n"
   ]
  },
  {
   "cell_type": "markdown",
   "id": "db0b5ff0",
   "metadata": {},
   "source": [
    "\n",
    "### 1. **Creación de DataFrames**\n",
    "\n",
    "#### 1.1. Crear un DataFrame a partir de Listas\n",
    "Podemos crear un `DataFrame` usando listas en Python. Esto es útil cuando queremos estructurar datos de manera sencilla.\n"
   ]
  },
  {
   "cell_type": "code",
   "execution_count": null,
   "id": "b98b12a4",
   "metadata": {},
   "outputs": [
    {
     "ename": "TypeError",
     "evalue": "Cannot convert numpy.ndarray to numpy.ndarray",
     "output_type": "error",
     "traceback": [
      "\u001b[1;31m---------------------------------------------------------------------------\u001b[0m",
      "\u001b[1;31mTypeError\u001b[0m                                 Traceback (most recent call last)",
      "Cell \u001b[1;32mIn[3], line 12\u001b[0m\n\u001b[0;32m      8\u001b[0m columnas \u001b[38;5;241m=\u001b[39m [\u001b[38;5;124m'\u001b[39m\u001b[38;5;124mID\u001b[39m\u001b[38;5;124m'\u001b[39m, \u001b[38;5;124m'\u001b[39m\u001b[38;5;124mNombre\u001b[39m\u001b[38;5;124m'\u001b[39m, \u001b[38;5;124m'\u001b[39m\u001b[38;5;124mEdad\u001b[39m\u001b[38;5;124m'\u001b[39m]  \n\u001b[0;32m     10\u001b[0m indices \u001b[38;5;241m=\u001b[39m [\u001b[38;5;124m'\u001b[39m\u001b[38;5;124mprimero\u001b[39m\u001b[38;5;124m'\u001b[39m, \u001b[38;5;124m'\u001b[39m\u001b[38;5;124msegundo\u001b[39m\u001b[38;5;124m'\u001b[39m, \u001b[38;5;124m'\u001b[39m\u001b[38;5;124mtercero\u001b[39m\u001b[38;5;124m'\u001b[39m]  \n\u001b[1;32m---> 12\u001b[0m df_listas \u001b[38;5;241m=\u001b[39m \u001b[43mpd\u001b[49m\u001b[38;5;241;43m.\u001b[39;49m\u001b[43mDataFrame\u001b[49m\u001b[43m(\u001b[49m\u001b[43mdatos\u001b[49m\u001b[43m,\u001b[49m\u001b[43m \u001b[49m\u001b[43mcolumns\u001b[49m\u001b[38;5;241;43m=\u001b[39;49m\u001b[43mcolumnas\u001b[49m\u001b[43m,\u001b[49m\u001b[43m \u001b[49m\u001b[43mindex\u001b[49m\u001b[43m \u001b[49m\u001b[38;5;241;43m=\u001b[39;49m\u001b[43m \u001b[49m\u001b[43mindices\u001b[49m\u001b[43m)\u001b[49m \n\u001b[0;32m     13\u001b[0m df_listas\n",
      "File \u001b[1;32mc:\\Users\\marco\\Documentos\\investigacion\\didactica_ciencia_datos\\venv\\lib\\site-packages\\pandas\\core\\frame.py:850\u001b[0m, in \u001b[0;36mDataFrame.__init__\u001b[1;34m(self, data, index, columns, dtype, copy)\u001b[0m\n\u001b[0;32m    847\u001b[0m \u001b[38;5;28;01mif\u001b[39;00m \u001b[38;5;129;01mnot\u001b[39;00m \u001b[38;5;28misinstance\u001b[39m(data, np\u001b[38;5;241m.\u001b[39mndarray) \u001b[38;5;129;01mand\u001b[39;00m treat_as_nested(data):\n\u001b[0;32m    848\u001b[0m     \u001b[38;5;66;03m# exclude ndarray as we may have cast it a few lines above\u001b[39;00m\n\u001b[0;32m    849\u001b[0m     \u001b[38;5;28;01mif\u001b[39;00m columns \u001b[38;5;129;01mis\u001b[39;00m \u001b[38;5;129;01mnot\u001b[39;00m \u001b[38;5;28;01mNone\u001b[39;00m:\n\u001b[1;32m--> 850\u001b[0m         columns \u001b[38;5;241m=\u001b[39m \u001b[43mensure_index\u001b[49m\u001b[43m(\u001b[49m\u001b[43mcolumns\u001b[49m\u001b[43m)\u001b[49m\n\u001b[0;32m    851\u001b[0m     arrays, columns, index \u001b[38;5;241m=\u001b[39m nested_data_to_arrays(\n\u001b[0;32m    852\u001b[0m         \u001b[38;5;66;03m# error: Argument 3 to \"nested_data_to_arrays\" has incompatible\u001b[39;00m\n\u001b[0;32m    853\u001b[0m         \u001b[38;5;66;03m# type \"Optional[Collection[Any]]\"; expected \"Optional[Index]\"\u001b[39;00m\n\u001b[1;32m   (...)\u001b[0m\n\u001b[0;32m    857\u001b[0m         dtype,\n\u001b[0;32m    858\u001b[0m     )\n\u001b[0;32m    859\u001b[0m     mgr \u001b[38;5;241m=\u001b[39m arrays_to_mgr(\n\u001b[0;32m    860\u001b[0m         arrays,\n\u001b[0;32m    861\u001b[0m         columns,\n\u001b[1;32m   (...)\u001b[0m\n\u001b[0;32m    864\u001b[0m         typ\u001b[38;5;241m=\u001b[39mmanager,\n\u001b[0;32m    865\u001b[0m     )\n",
      "File \u001b[1;32mc:\\Users\\marco\\Documentos\\investigacion\\didactica_ciencia_datos\\venv\\lib\\site-packages\\pandas\\core\\indexes\\base.py:7647\u001b[0m, in \u001b[0;36mensure_index\u001b[1;34m(index_like, copy)\u001b[0m\n\u001b[0;32m   7645\u001b[0m         \u001b[38;5;28;01mreturn\u001b[39;00m MultiIndex\u001b[38;5;241m.\u001b[39mfrom_arrays(index_like)\n\u001b[0;32m   7646\u001b[0m     \u001b[38;5;28;01melse\u001b[39;00m:\n\u001b[1;32m-> 7647\u001b[0m         \u001b[38;5;28;01mreturn\u001b[39;00m \u001b[43mIndex\u001b[49m\u001b[43m(\u001b[49m\u001b[43mindex_like\u001b[49m\u001b[43m,\u001b[49m\u001b[43m \u001b[49m\u001b[43mcopy\u001b[49m\u001b[38;5;241;43m=\u001b[39;49m\u001b[43mcopy\u001b[49m\u001b[43m,\u001b[49m\u001b[43m \u001b[49m\u001b[43mtupleize_cols\u001b[49m\u001b[38;5;241;43m=\u001b[39;49m\u001b[38;5;28;43;01mFalse\u001b[39;49;00m\u001b[43m)\u001b[49m\n\u001b[0;32m   7648\u001b[0m \u001b[38;5;28;01melse\u001b[39;00m:\n\u001b[0;32m   7649\u001b[0m     \u001b[38;5;28;01mreturn\u001b[39;00m Index(index_like, copy\u001b[38;5;241m=\u001b[39mcopy)\n",
      "File \u001b[1;32mc:\\Users\\marco\\Documentos\\investigacion\\didactica_ciencia_datos\\venv\\lib\\site-packages\\pandas\\core\\indexes\\base.py:565\u001b[0m, in \u001b[0;36mIndex.__new__\u001b[1;34m(cls, data, dtype, copy, name, tupleize_cols)\u001b[0m\n\u001b[0;32m    562\u001b[0m         data \u001b[38;5;241m=\u001b[39m com\u001b[38;5;241m.\u001b[39masarray_tuplesafe(data, dtype\u001b[38;5;241m=\u001b[39m_dtype_obj)\n\u001b[0;32m    564\u001b[0m \u001b[38;5;28;01mtry\u001b[39;00m:\n\u001b[1;32m--> 565\u001b[0m     arr \u001b[38;5;241m=\u001b[39m \u001b[43msanitize_array\u001b[49m\u001b[43m(\u001b[49m\u001b[43mdata\u001b[49m\u001b[43m,\u001b[49m\u001b[43m \u001b[49m\u001b[38;5;28;43;01mNone\u001b[39;49;00m\u001b[43m,\u001b[49m\u001b[43m \u001b[49m\u001b[43mdtype\u001b[49m\u001b[38;5;241;43m=\u001b[39;49m\u001b[43mdtype\u001b[49m\u001b[43m,\u001b[49m\u001b[43m \u001b[49m\u001b[43mcopy\u001b[49m\u001b[38;5;241;43m=\u001b[39;49m\u001b[43mcopy\u001b[49m\u001b[43m)\u001b[49m\n\u001b[0;32m    566\u001b[0m \u001b[38;5;28;01mexcept\u001b[39;00m \u001b[38;5;167;01mValueError\u001b[39;00m \u001b[38;5;28;01mas\u001b[39;00m err:\n\u001b[0;32m    567\u001b[0m     \u001b[38;5;28;01mif\u001b[39;00m \u001b[38;5;124m\"\u001b[39m\u001b[38;5;124mindex must be specified when data is not list-like\u001b[39m\u001b[38;5;124m\"\u001b[39m \u001b[38;5;129;01min\u001b[39;00m \u001b[38;5;28mstr\u001b[39m(err):\n",
      "File \u001b[1;32mc:\\Users\\marco\\Documentos\\investigacion\\didactica_ciencia_datos\\venv\\lib\\site-packages\\pandas\\core\\construction.py:654\u001b[0m, in \u001b[0;36msanitize_array\u001b[1;34m(data, index, dtype, copy, allow_2d)\u001b[0m\n\u001b[0;32m    651\u001b[0m     subarr \u001b[38;5;241m=\u001b[39m _try_cast(data, dtype, copy)\n\u001b[0;32m    653\u001b[0m \u001b[38;5;28;01melse\u001b[39;00m:\n\u001b[1;32m--> 654\u001b[0m     subarr \u001b[38;5;241m=\u001b[39m \u001b[43mmaybe_convert_platform\u001b[49m\u001b[43m(\u001b[49m\u001b[43mdata\u001b[49m\u001b[43m)\u001b[49m\n\u001b[0;32m    655\u001b[0m     \u001b[38;5;28;01mif\u001b[39;00m subarr\u001b[38;5;241m.\u001b[39mdtype \u001b[38;5;241m==\u001b[39m \u001b[38;5;28mobject\u001b[39m:\n\u001b[0;32m    656\u001b[0m         subarr \u001b[38;5;241m=\u001b[39m cast(np\u001b[38;5;241m.\u001b[39mndarray, subarr)\n",
      "File \u001b[1;32mc:\\Users\\marco\\Documentos\\investigacion\\didactica_ciencia_datos\\venv\\lib\\site-packages\\pandas\\core\\dtypes\\cast.py:138\u001b[0m, in \u001b[0;36mmaybe_convert_platform\u001b[1;34m(values)\u001b[0m\n\u001b[0;32m    136\u001b[0m \u001b[38;5;28;01mif\u001b[39;00m arr\u001b[38;5;241m.\u001b[39mdtype \u001b[38;5;241m==\u001b[39m _dtype_obj:\n\u001b[0;32m    137\u001b[0m     arr \u001b[38;5;241m=\u001b[39m cast(np\u001b[38;5;241m.\u001b[39mndarray, arr)\n\u001b[1;32m--> 138\u001b[0m     arr \u001b[38;5;241m=\u001b[39m \u001b[43mlib\u001b[49m\u001b[38;5;241;43m.\u001b[39;49m\u001b[43mmaybe_convert_objects\u001b[49m\u001b[43m(\u001b[49m\u001b[43marr\u001b[49m\u001b[43m)\u001b[49m\n\u001b[0;32m    140\u001b[0m \u001b[38;5;28;01mreturn\u001b[39;00m arr\n",
      "File \u001b[1;32mlib.pyx:2538\u001b[0m, in \u001b[0;36mpandas._libs.lib.maybe_convert_objects\u001b[1;34m()\u001b[0m\n",
      "\u001b[1;31mTypeError\u001b[0m: Cannot convert numpy.ndarray to numpy.ndarray"
     ]
    }
   ],
   "source": [
    "import pandas as pd\n",
    "\n",
    "# Creación de un DataFrame a partir de una lista de listas\n",
    "datos = [[1, 'Carlos', 25],\n",
    "         [2, 'Ana', 30],\n",
    "         [3, 'Pedro', 35]]\n",
    "\n",
    "columnas = ['ID', 'Nombre', 'Edad']  \n",
    "\n",
    "indices = ['primero', 'segundo', 'tercero']  \n",
    "\n",
    "df_listas = pd.DataFrame(datos, columns=columnas, index = indices) \n",
    "df_listas\n",
    "\n"
   ]
  },
  {
   "cell_type": "code",
   "execution_count": 20,
   "id": "9a3dbf82",
   "metadata": {},
   "outputs": [],
   "source": [
    "df_listas.set_index('ID', inplace=True)"
   ]
  },
  {
   "cell_type": "code",
   "execution_count": 21,
   "id": "4e441ac3",
   "metadata": {},
   "outputs": [
    {
     "data": {
      "text/html": [
       "<div>\n",
       "<style scoped>\n",
       "    .dataframe tbody tr th:only-of-type {\n",
       "        vertical-align: middle;\n",
       "    }\n",
       "\n",
       "    .dataframe tbody tr th {\n",
       "        vertical-align: top;\n",
       "    }\n",
       "\n",
       "    .dataframe thead th {\n",
       "        text-align: right;\n",
       "    }\n",
       "</style>\n",
       "<table border=\"1\" class=\"dataframe\">\n",
       "  <thead>\n",
       "    <tr style=\"text-align: right;\">\n",
       "      <th></th>\n",
       "      <th>Nombre</th>\n",
       "      <th>Edad</th>\n",
       "    </tr>\n",
       "    <tr>\n",
       "      <th>ID</th>\n",
       "      <th></th>\n",
       "      <th></th>\n",
       "    </tr>\n",
       "  </thead>\n",
       "  <tbody>\n",
       "    <tr>\n",
       "      <th>1</th>\n",
       "      <td>Carlos</td>\n",
       "      <td>25</td>\n",
       "    </tr>\n",
       "    <tr>\n",
       "      <th>2</th>\n",
       "      <td>Ana</td>\n",
       "      <td>30</td>\n",
       "    </tr>\n",
       "    <tr>\n",
       "      <th>3</th>\n",
       "      <td>Pedro</td>\n",
       "      <td>35</td>\n",
       "    </tr>\n",
       "  </tbody>\n",
       "</table>\n",
       "</div>"
      ],
      "text/plain": [
       "    Nombre  Edad\n",
       "ID              \n",
       "1   Carlos    25\n",
       "2      Ana    30\n",
       "3    Pedro    35"
      ]
     },
     "execution_count": 21,
     "metadata": {},
     "output_type": "execute_result"
    }
   ],
   "source": [
    "df_listas"
   ]
  },
  {
   "cell_type": "markdown",
   "id": "df2e8972",
   "metadata": {},
   "source": [
    "\n",
    "#### 1.2. Crear un DataFrame a partir de Diccionarios\n"
   ]
  },
  {
   "cell_type": "markdown",
   "id": "5b0b613a",
   "metadata": {},
   "source": [
    "Otra forma común de crear `DataFrames` es a partir de diccionarios. "
   ]
  },
  {
   "cell_type": "markdown",
   "id": "bd79b00b",
   "metadata": {},
   "source": [
    "Este método nos permite asignar valores directamente a columnas con nombres específicos.\n"
   ]
  },
  {
   "cell_type": "code",
   "execution_count": null,
   "id": "7194009a",
   "metadata": {},
   "outputs": [
    {
     "data": {
      "text/html": [
       "<div>\n",
       "<style scoped>\n",
       "    .dataframe tbody tr th:only-of-type {\n",
       "        vertical-align: middle;\n",
       "    }\n",
       "\n",
       "    .dataframe tbody tr th {\n",
       "        vertical-align: top;\n",
       "    }\n",
       "\n",
       "    .dataframe thead th {\n",
       "        text-align: right;\n",
       "    }\n",
       "</style>\n",
       "<table border=\"1\" class=\"dataframe\">\n",
       "  <thead>\n",
       "    <tr style=\"text-align: right;\">\n",
       "      <th></th>\n",
       "      <th>ID</th>\n",
       "      <th>Nombre</th>\n",
       "      <th>Edad</th>\n",
       "    </tr>\n",
       "  </thead>\n",
       "  <tbody>\n",
       "    <tr>\n",
       "      <th>0</th>\n",
       "      <td>1</td>\n",
       "      <td>Carlos</td>\n",
       "      <td>25</td>\n",
       "    </tr>\n",
       "    <tr>\n",
       "      <th>1</th>\n",
       "      <td>2</td>\n",
       "      <td>Ana</td>\n",
       "      <td>30</td>\n",
       "    </tr>\n",
       "    <tr>\n",
       "      <th>2</th>\n",
       "      <td>3</td>\n",
       "      <td>Pedro</td>\n",
       "      <td>35</td>\n",
       "    </tr>\n",
       "  </tbody>\n",
       "</table>\n",
       "</div>"
      ],
      "text/plain": [
       "   ID  Nombre  Edad\n",
       "0   1  Carlos    25\n",
       "1   2     Ana    30\n",
       "2   3   Pedro    35"
      ]
     },
     "execution_count": 2,
     "metadata": {},
     "output_type": "execute_result"
    }
   ],
   "source": [
    "# Creación de un DataFrame a partir de un diccionario\n",
    "import pandas as pd \n",
    "datos_dict = {\n",
    "    'ID': [1, 2, 3],\n",
    "    'Nombre': ['Carlos', 'Ana', 'Pedro'],\n",
    "    'Edad': [25, 30, 35]\n",
    "}\n",
    "\n",
    "df_diccionario = pd.DataFrame(datos_dict)\n",
    "df_diccionario\n",
    "\n"
   ]
  },
  {
   "cell_type": "code",
   "execution_count": 25,
   "id": "24f8086b",
   "metadata": {},
   "outputs": [],
   "source": [
    "df_diccionario.set_index('ID' , inplace=True)"
   ]
  },
  {
   "cell_type": "code",
   "execution_count": 26,
   "id": "718af6b0",
   "metadata": {},
   "outputs": [
    {
     "data": {
      "text/html": [
       "<div>\n",
       "<style scoped>\n",
       "    .dataframe tbody tr th:only-of-type {\n",
       "        vertical-align: middle;\n",
       "    }\n",
       "\n",
       "    .dataframe tbody tr th {\n",
       "        vertical-align: top;\n",
       "    }\n",
       "\n",
       "    .dataframe thead th {\n",
       "        text-align: right;\n",
       "    }\n",
       "</style>\n",
       "<table border=\"1\" class=\"dataframe\">\n",
       "  <thead>\n",
       "    <tr style=\"text-align: right;\">\n",
       "      <th></th>\n",
       "      <th>Nombre</th>\n",
       "      <th>Edad</th>\n",
       "    </tr>\n",
       "    <tr>\n",
       "      <th>ID</th>\n",
       "      <th></th>\n",
       "      <th></th>\n",
       "    </tr>\n",
       "  </thead>\n",
       "  <tbody>\n",
       "    <tr>\n",
       "      <th>1</th>\n",
       "      <td>Carlos</td>\n",
       "      <td>25</td>\n",
       "    </tr>\n",
       "    <tr>\n",
       "      <th>2</th>\n",
       "      <td>Ana</td>\n",
       "      <td>30</td>\n",
       "    </tr>\n",
       "    <tr>\n",
       "      <th>3</th>\n",
       "      <td>Pedro</td>\n",
       "      <td>35</td>\n",
       "    </tr>\n",
       "  </tbody>\n",
       "</table>\n",
       "</div>"
      ],
      "text/plain": [
       "    Nombre  Edad\n",
       "ID              \n",
       "1   Carlos    25\n",
       "2      Ana    30\n",
       "3    Pedro    35"
      ]
     },
     "execution_count": 26,
     "metadata": {},
     "output_type": "execute_result"
    }
   ],
   "source": [
    "df_diccionario "
   ]
  },
  {
   "cell_type": "markdown",
   "id": "d8fd28bd",
   "metadata": {},
   "source": [
    "\n",
    "#### 1.3. Crear un DataFrame a partir de un Archivo (CSV)\n"
   ]
  },
  {
   "cell_type": "markdown",
   "id": "8902e6f2",
   "metadata": {},
   "source": [
    "En la práctica, muchas veces trabajaremos con archivos de datos. Pandas facilita la importación de archivos CSV.\n"
   ]
  },
  {
   "cell_type": "code",
   "execution_count": 32,
   "id": "f400d0f7",
   "metadata": {},
   "outputs": [],
   "source": [
    "df_diccionario.to_csv('ejemplo_datos.csv', index = True) "
   ]
  },
  {
   "cell_type": "code",
   "execution_count": 33,
   "id": "3f4f1d66",
   "metadata": {},
   "outputs": [
    {
     "data": {
      "text/html": [
       "<div>\n",
       "<style scoped>\n",
       "    .dataframe tbody tr th:only-of-type {\n",
       "        vertical-align: middle;\n",
       "    }\n",
       "\n",
       "    .dataframe tbody tr th {\n",
       "        vertical-align: top;\n",
       "    }\n",
       "\n",
       "    .dataframe thead th {\n",
       "        text-align: right;\n",
       "    }\n",
       "</style>\n",
       "<table border=\"1\" class=\"dataframe\">\n",
       "  <thead>\n",
       "    <tr style=\"text-align: right;\">\n",
       "      <th></th>\n",
       "      <th>ID</th>\n",
       "      <th>Nombre</th>\n",
       "      <th>Edad</th>\n",
       "    </tr>\n",
       "  </thead>\n",
       "  <tbody>\n",
       "    <tr>\n",
       "      <th>0</th>\n",
       "      <td>1</td>\n",
       "      <td>Carlos</td>\n",
       "      <td>25</td>\n",
       "    </tr>\n",
       "    <tr>\n",
       "      <th>1</th>\n",
       "      <td>2</td>\n",
       "      <td>Ana</td>\n",
       "      <td>30</td>\n",
       "    </tr>\n",
       "    <tr>\n",
       "      <th>2</th>\n",
       "      <td>3</td>\n",
       "      <td>Pedro</td>\n",
       "      <td>35</td>\n",
       "    </tr>\n",
       "  </tbody>\n",
       "</table>\n",
       "</div>"
      ],
      "text/plain": [
       "   ID  Nombre  Edad\n",
       "0   1  Carlos    25\n",
       "1   2     Ana    30\n",
       "2   3   Pedro    35"
      ]
     },
     "execution_count": 33,
     "metadata": {},
     "output_type": "execute_result"
    }
   ],
   "source": [
    "# Cargar un archivo CSV en un DataFrame\n",
    "df_csv = pd.read_csv('ejemplo_datos.csv')\n",
    "df_csv\n",
    "\n"
   ]
  },
  {
   "cell_type": "markdown",
   "id": "d69cbdc4",
   "metadata": {},
   "source": [
    "\n",
    "#### 1.4. Crear un DataFrame a partir de un Archivo de Excel\n",
    "Además de CSV, también se pueden leer archivos de Excel. Para esto, asegúrate de tener instalado el módulo `openpyxl`.\n"
   ]
  },
  {
   "cell_type": "code",
   "execution_count": 35,
   "id": "1c5fb74c",
   "metadata": {},
   "outputs": [],
   "source": [
    "df_diccionario.to_excel('ejemplo_datos_excel.xlsx')"
   ]
  },
  {
   "cell_type": "code",
   "execution_count": 2,
   "id": "c008804d",
   "metadata": {},
   "outputs": [
    {
     "data": {
      "text/html": [
       "<div>\n",
       "<style scoped>\n",
       "    .dataframe tbody tr th:only-of-type {\n",
       "        vertical-align: middle;\n",
       "    }\n",
       "\n",
       "    .dataframe tbody tr th {\n",
       "        vertical-align: top;\n",
       "    }\n",
       "\n",
       "    .dataframe thead th {\n",
       "        text-align: right;\n",
       "    }\n",
       "</style>\n",
       "<table border=\"1\" class=\"dataframe\">\n",
       "  <thead>\n",
       "    <tr style=\"text-align: right;\">\n",
       "      <th></th>\n",
       "      <th>ID</th>\n",
       "      <th>Nombre</th>\n",
       "      <th>Edad</th>\n",
       "    </tr>\n",
       "  </thead>\n",
       "  <tbody>\n",
       "    <tr>\n",
       "      <th>0</th>\n",
       "      <td>1</td>\n",
       "      <td>Carlos</td>\n",
       "      <td>25</td>\n",
       "    </tr>\n",
       "    <tr>\n",
       "      <th>1</th>\n",
       "      <td>2</td>\n",
       "      <td>Ana</td>\n",
       "      <td>30</td>\n",
       "    </tr>\n",
       "    <tr>\n",
       "      <th>2</th>\n",
       "      <td>3</td>\n",
       "      <td>Pedro</td>\n",
       "      <td>35</td>\n",
       "    </tr>\n",
       "  </tbody>\n",
       "</table>\n",
       "</div>"
      ],
      "text/plain": [
       "   ID  Nombre  Edad\n",
       "0   1  Carlos    25\n",
       "1   2     Ana    30\n",
       "2   3   Pedro    35"
      ]
     },
     "execution_count": 2,
     "metadata": {},
     "output_type": "execute_result"
    }
   ],
   "source": [
    "# Cargar un archivo de Excel en un DataFrame\n",
    "import pandas as pd \n",
    "df_excel = pd.read_excel('ejemplo_datos_excel.xlsx')\n",
    "df_excel\n",
    "\n"
   ]
  },
  {
   "cell_type": "markdown",
   "id": "c9885ecd",
   "metadata": {},
   "source": [
    "\n",
    "### 2. **Exploración de Datos en DataFrames**\n",
    "\n",
    "Una vez creado el `DataFrame`, es importante familiarizarse con su estructura y contenido. "
   ]
  },
  {
   "cell_type": "markdown",
   "id": "359b4329",
   "metadata": {},
   "source": [
    "Pandas ofrece varias funciones para explorar rápidamente los datos.\n"
   ]
  },
  {
   "cell_type": "markdown",
   "id": "8c2d7c4a",
   "metadata": {},
   "source": [
    "\n",
    "#### 2.1. `head()` y `tail()`\n",
    "Estas funciones son útiles para ver las primeras y últimas filas del `DataFrame`.\n"
   ]
  },
  {
   "cell_type": "code",
   "execution_count": 4,
   "id": "b6b57cfe",
   "metadata": {},
   "outputs": [
    {
     "data": {
      "text/html": [
       "<div>\n",
       "<style scoped>\n",
       "    .dataframe tbody tr th:only-of-type {\n",
       "        vertical-align: middle;\n",
       "    }\n",
       "\n",
       "    .dataframe tbody tr th {\n",
       "        vertical-align: top;\n",
       "    }\n",
       "\n",
       "    .dataframe thead th {\n",
       "        text-align: right;\n",
       "    }\n",
       "</style>\n",
       "<table border=\"1\" class=\"dataframe\">\n",
       "  <thead>\n",
       "    <tr style=\"text-align: right;\">\n",
       "      <th></th>\n",
       "      <th>ID</th>\n",
       "      <th>Nombre</th>\n",
       "      <th>Edad</th>\n",
       "    </tr>\n",
       "  </thead>\n",
       "  <tbody>\n",
       "    <tr>\n",
       "      <th>0</th>\n",
       "      <td>1</td>\n",
       "      <td>Carlos</td>\n",
       "      <td>25</td>\n",
       "    </tr>\n",
       "    <tr>\n",
       "      <th>1</th>\n",
       "      <td>2</td>\n",
       "      <td>Ana</td>\n",
       "      <td>30</td>\n",
       "    </tr>\n",
       "    <tr>\n",
       "      <th>2</th>\n",
       "      <td>3</td>\n",
       "      <td>Pedro</td>\n",
       "      <td>35</td>\n",
       "    </tr>\n",
       "  </tbody>\n",
       "</table>\n",
       "</div>"
      ],
      "text/plain": [
       "   ID  Nombre  Edad\n",
       "0   1  Carlos    25\n",
       "1   2     Ana    30\n",
       "2   3   Pedro    35"
      ]
     },
     "execution_count": 4,
     "metadata": {},
     "output_type": "execute_result"
    }
   ],
   "source": [
    "\n",
    "\n",
    "# Ver las primeras 5 filas del DataFrame\n",
    "df_excel.head()\n"
   ]
  },
  {
   "cell_type": "code",
   "execution_count": 5,
   "id": "4c7370c4",
   "metadata": {},
   "outputs": [
    {
     "data": {
      "text/html": [
       "<div>\n",
       "<style scoped>\n",
       "    .dataframe tbody tr th:only-of-type {\n",
       "        vertical-align: middle;\n",
       "    }\n",
       "\n",
       "    .dataframe tbody tr th {\n",
       "        vertical-align: top;\n",
       "    }\n",
       "\n",
       "    .dataframe thead th {\n",
       "        text-align: right;\n",
       "    }\n",
       "</style>\n",
       "<table border=\"1\" class=\"dataframe\">\n",
       "  <thead>\n",
       "    <tr style=\"text-align: right;\">\n",
       "      <th></th>\n",
       "      <th>ID</th>\n",
       "      <th>Nombre</th>\n",
       "      <th>Edad</th>\n",
       "    </tr>\n",
       "  </thead>\n",
       "  <tbody>\n",
       "    <tr>\n",
       "      <th>1</th>\n",
       "      <td>2</td>\n",
       "      <td>Ana</td>\n",
       "      <td>30</td>\n",
       "    </tr>\n",
       "    <tr>\n",
       "      <th>2</th>\n",
       "      <td>3</td>\n",
       "      <td>Pedro</td>\n",
       "      <td>35</td>\n",
       "    </tr>\n",
       "  </tbody>\n",
       "</table>\n",
       "</div>"
      ],
      "text/plain": [
       "   ID Nombre  Edad\n",
       "1   2    Ana    30\n",
       "2   3  Pedro    35"
      ]
     },
     "execution_count": 5,
     "metadata": {},
     "output_type": "execute_result"
    }
   ],
   "source": [
    "\n",
    "# Ver las últimas 5 filas del DataFrame\n",
    "df_excel.tail(2)\n",
    "\n"
   ]
  },
  {
   "cell_type": "markdown",
   "id": "a822a141",
   "metadata": {},
   "source": [
    "\n",
    "Puedes ajustar el número de filas mostradas con un parámetro, por ejemplo, `df_csv.head(10)` mostrará las primeras 10 filas.\n"
   ]
  },
  {
   "cell_type": "markdown",
   "id": "6afa18af",
   "metadata": {},
   "source": [
    "\n",
    "#### 2.2. `info()`\n",
    "`info()` proporciona un resumen de los datos, incluyendo el tipo de cada columna, el número de valores no nulos y la memoria usada.\n"
   ]
  },
  {
   "cell_type": "code",
   "execution_count": 6,
   "id": "39b5d87c",
   "metadata": {},
   "outputs": [
    {
     "name": "stdout",
     "output_type": "stream",
     "text": [
      "<class 'pandas.core.frame.DataFrame'>\n",
      "RangeIndex: 3 entries, 0 to 2\n",
      "Data columns (total 3 columns):\n",
      " #   Column  Non-Null Count  Dtype \n",
      "---  ------  --------------  ----- \n",
      " 0   ID      3 non-null      int64 \n",
      " 1   Nombre  3 non-null      object\n",
      " 2   Edad    3 non-null      int64 \n",
      "dtypes: int64(2), object(1)\n",
      "memory usage: 204.0+ bytes\n"
     ]
    }
   ],
   "source": [
    "# Información general del DataFrame\n",
    "df_excel.info()\n",
    "\n"
   ]
  },
  {
   "cell_type": "markdown",
   "id": "ec2cb4fd",
   "metadata": {},
   "source": [
    "\n",
    "#### 2.3. `describe()`\n",
    "Para analizar datos numéricos, `describe()` ofrece estadísticas como la media, desviación estándar, valores mínimo y máximo, y percentiles.\n"
   ]
  },
  {
   "cell_type": "code",
   "execution_count": 7,
   "id": "55fd28b6",
   "metadata": {},
   "outputs": [
    {
     "data": {
      "text/html": [
       "<div>\n",
       "<style scoped>\n",
       "    .dataframe tbody tr th:only-of-type {\n",
       "        vertical-align: middle;\n",
       "    }\n",
       "\n",
       "    .dataframe tbody tr th {\n",
       "        vertical-align: top;\n",
       "    }\n",
       "\n",
       "    .dataframe thead th {\n",
       "        text-align: right;\n",
       "    }\n",
       "</style>\n",
       "<table border=\"1\" class=\"dataframe\">\n",
       "  <thead>\n",
       "    <tr style=\"text-align: right;\">\n",
       "      <th></th>\n",
       "      <th>ID</th>\n",
       "      <th>Edad</th>\n",
       "    </tr>\n",
       "  </thead>\n",
       "  <tbody>\n",
       "    <tr>\n",
       "      <th>count</th>\n",
       "      <td>3.0</td>\n",
       "      <td>3.0</td>\n",
       "    </tr>\n",
       "    <tr>\n",
       "      <th>mean</th>\n",
       "      <td>2.0</td>\n",
       "      <td>30.0</td>\n",
       "    </tr>\n",
       "    <tr>\n",
       "      <th>std</th>\n",
       "      <td>1.0</td>\n",
       "      <td>5.0</td>\n",
       "    </tr>\n",
       "    <tr>\n",
       "      <th>min</th>\n",
       "      <td>1.0</td>\n",
       "      <td>25.0</td>\n",
       "    </tr>\n",
       "    <tr>\n",
       "      <th>25%</th>\n",
       "      <td>1.5</td>\n",
       "      <td>27.5</td>\n",
       "    </tr>\n",
       "    <tr>\n",
       "      <th>50%</th>\n",
       "      <td>2.0</td>\n",
       "      <td>30.0</td>\n",
       "    </tr>\n",
       "    <tr>\n",
       "      <th>75%</th>\n",
       "      <td>2.5</td>\n",
       "      <td>32.5</td>\n",
       "    </tr>\n",
       "    <tr>\n",
       "      <th>max</th>\n",
       "      <td>3.0</td>\n",
       "      <td>35.0</td>\n",
       "    </tr>\n",
       "  </tbody>\n",
       "</table>\n",
       "</div>"
      ],
      "text/plain": [
       "        ID  Edad\n",
       "count  3.0   3.0\n",
       "mean   2.0  30.0\n",
       "std    1.0   5.0\n",
       "min    1.0  25.0\n",
       "25%    1.5  27.5\n",
       "50%    2.0  30.0\n",
       "75%    2.5  32.5\n",
       "max    3.0  35.0"
      ]
     },
     "execution_count": 7,
     "metadata": {},
     "output_type": "execute_result"
    }
   ],
   "source": [
    "\n",
    "# Estadísticas descriptivas de columnas numéricas\n",
    "df_excel.describe()\n"
   ]
  },
  {
   "cell_type": "markdown",
   "id": "1c9d4564",
   "metadata": {},
   "source": [
    "``\n",
    "\n",
    "---\n"
   ]
  },
  {
   "cell_type": "markdown",
   "id": "9901d73f",
   "metadata": {},
   "source": [
    "\n",
    "### Ejercicio Propuesto\n",
    "\n",
    "**Crear un DataFrame a partir de un archivo CSV y explorar sus datos.**\n",
    "\n",
    "1. Descarga un archivo CSV de tu elección. Puedes encontrar conjuntos de datos gratuitos en [Kaggle](https://www.kaggle.com/datasets) o [datos.gov.co](https://www.datos.gov.co/).\n",
    "2. Crea un `DataFrame` a partir del archivo.\n",
    "3. Utiliza `head()`, `tail()`, `info()`, y `describe()` para explorar el contenido del `DataFrame`.\n"
   ]
  },
  {
   "cell_type": "code",
   "execution_count": 9,
   "id": "fcf8b651",
   "metadata": {},
   "outputs": [
    {
     "data": {
      "text/html": [
       "<div>\n",
       "<style scoped>\n",
       "    .dataframe tbody tr th:only-of-type {\n",
       "        vertical-align: middle;\n",
       "    }\n",
       "\n",
       "    .dataframe tbody tr th {\n",
       "        vertical-align: top;\n",
       "    }\n",
       "\n",
       "    .dataframe thead th {\n",
       "        text-align: right;\n",
       "    }\n",
       "</style>\n",
       "<table border=\"1\" class=\"dataframe\">\n",
       "  <thead>\n",
       "    <tr style=\"text-align: right;\">\n",
       "      <th></th>\n",
       "      <th>CodigoEstacion</th>\n",
       "      <th>CodigoSensor</th>\n",
       "      <th>FechaObservacion</th>\n",
       "      <th>ValorObservado</th>\n",
       "      <th>NombreEstacion</th>\n",
       "      <th>Departamento</th>\n",
       "      <th>Municipio</th>\n",
       "      <th>ZonaHidrografica</th>\n",
       "      <th>Latitud</th>\n",
       "      <th>Longitud</th>\n",
       "      <th>DescripcionSensor</th>\n",
       "      <th>UnidadMedida</th>\n",
       "    </tr>\n",
       "  </thead>\n",
       "  <tbody>\n",
       "    <tr>\n",
       "      <th>0</th>\n",
       "      <td>36015020</td>\n",
       "      <td>255</td>\n",
       "      <td>10/03/2017 06:00:00 AM</td>\n",
       "      <td>992.5</td>\n",
       "      <td>EL DIAMANTE - AUT</td>\n",
       "      <td>CASANARE</td>\n",
       "      <td>PAZ DE ARIPORO</td>\n",
       "      <td>META</td>\n",
       "      <td>5.816194</td>\n",
       "      <td>-71.419833</td>\n",
       "      <td>Presión Atmosferica (1h)</td>\n",
       "      <td>HPa</td>\n",
       "    </tr>\n",
       "    <tr>\n",
       "      <th>1</th>\n",
       "      <td>21195190</td>\n",
       "      <td>255</td>\n",
       "      <td>02/14/2014 05:00:00 AM</td>\n",
       "      <td>785.2</td>\n",
       "      <td>PASCA - AUT</td>\n",
       "      <td>CUNDINAMARCA</td>\n",
       "      <td>PASCA</td>\n",
       "      <td>ALTO MAGDALENA</td>\n",
       "      <td>4.310111</td>\n",
       "      <td>-74.311750</td>\n",
       "      <td>Presión Atmosferica (1h)</td>\n",
       "      <td>HPa</td>\n",
       "    </tr>\n",
       "    <tr>\n",
       "      <th>2</th>\n",
       "      <td>21015050</td>\n",
       "      <td>255</td>\n",
       "      <td>09/27/2013 06:00:00 PM</td>\n",
       "      <td>805.3</td>\n",
       "      <td>PURACE  - AUT</td>\n",
       "      <td>HUILA</td>\n",
       "      <td>SAN AGUSTÍN</td>\n",
       "      <td>ALTO MAGDALENA</td>\n",
       "      <td>1.925917</td>\n",
       "      <td>-76.427556</td>\n",
       "      <td>Presión Atmosferica (1h)</td>\n",
       "      <td>HPa</td>\n",
       "    </tr>\n",
       "    <tr>\n",
       "      <th>3</th>\n",
       "      <td>21115010</td>\n",
       "      <td>255</td>\n",
       "      <td>11/28/2005 10:00:00 AM</td>\n",
       "      <td>958.5</td>\n",
       "      <td>DESIERTO TATACOA</td>\n",
       "      <td>HUILA</td>\n",
       "      <td>VILLAVIEJA</td>\n",
       "      <td>ALTO MAGDALENA</td>\n",
       "      <td>3.234000</td>\n",
       "      <td>-75.168000</td>\n",
       "      <td>Presión Atmosferica (1h)</td>\n",
       "      <td>HPa</td>\n",
       "    </tr>\n",
       "    <tr>\n",
       "      <th>4</th>\n",
       "      <td>28035060</td>\n",
       "      <td>255</td>\n",
       "      <td>04/08/2008 04:00:00 AM</td>\n",
       "      <td>988.7</td>\n",
       "      <td>FEDEARROZ - AUT</td>\n",
       "      <td>CESAR</td>\n",
       "      <td>VALLEDUPAR</td>\n",
       "      <td>CESAR</td>\n",
       "      <td>10.463611</td>\n",
       "      <td>-73.248056</td>\n",
       "      <td>Presión Atmosferica (1h)</td>\n",
       "      <td>HPa</td>\n",
       "    </tr>\n",
       "  </tbody>\n",
       "</table>\n",
       "</div>"
      ],
      "text/plain": [
       "   CodigoEstacion  CodigoSensor        FechaObservacion ValorObservado  \\\n",
       "0        36015020           255  10/03/2017 06:00:00 AM          992.5   \n",
       "1        21195190           255  02/14/2014 05:00:00 AM          785.2   \n",
       "2        21015050           255  09/27/2013 06:00:00 PM          805.3   \n",
       "3        21115010           255  11/28/2005 10:00:00 AM          958.5   \n",
       "4        28035060           255  04/08/2008 04:00:00 AM          988.7   \n",
       "\n",
       "      NombreEstacion  Departamento       Municipio ZonaHidrografica  \\\n",
       "0  EL DIAMANTE - AUT      CASANARE  PAZ DE ARIPORO             META   \n",
       "1        PASCA - AUT  CUNDINAMARCA           PASCA   ALTO MAGDALENA   \n",
       "2      PURACE  - AUT         HUILA     SAN AGUSTÍN   ALTO MAGDALENA   \n",
       "3   DESIERTO TATACOA         HUILA      VILLAVIEJA   ALTO MAGDALENA   \n",
       "4    FEDEARROZ - AUT         CESAR      VALLEDUPAR            CESAR   \n",
       "\n",
       "     Latitud   Longitud         DescripcionSensor UnidadMedida  \n",
       "0   5.816194 -71.419833  Presión Atmosferica (1h)          HPa  \n",
       "1   4.310111 -74.311750  Presión Atmosferica (1h)          HPa  \n",
       "2   1.925917 -76.427556  Presión Atmosferica (1h)          HPa  \n",
       "3   3.234000 -75.168000  Presión Atmosferica (1h)          HPa  \n",
       "4  10.463611 -73.248056  Presión Atmosferica (1h)          HPa  "
      ]
     },
     "execution_count": 9,
     "metadata": {},
     "output_type": "execute_result"
    }
   ],
   "source": [
    "\n",
    "\n",
    "# Solución del ejercicio\n",
    "# Supongamos que tienes un archivo llamado 'datos_ejemplo.csv'\n",
    "df_ejemplo = pd.read_csv('C:/Users/marco/Documentos/docencia/ideam/presion_ideam/Presi_n_Atmosf_rica.csv')\n",
    "\n",
    "# Explora el DataFrame\n",
    "df_ejemplo.head()\n"
   ]
  },
  {
   "cell_type": "code",
   "execution_count": 10,
   "id": "870359fd",
   "metadata": {},
   "outputs": [
    {
     "data": {
      "text/html": [
       "<div>\n",
       "<style scoped>\n",
       "    .dataframe tbody tr th:only-of-type {\n",
       "        vertical-align: middle;\n",
       "    }\n",
       "\n",
       "    .dataframe tbody tr th {\n",
       "        vertical-align: top;\n",
       "    }\n",
       "\n",
       "    .dataframe thead th {\n",
       "        text-align: right;\n",
       "    }\n",
       "</style>\n",
       "<table border=\"1\" class=\"dataframe\">\n",
       "  <thead>\n",
       "    <tr style=\"text-align: right;\">\n",
       "      <th></th>\n",
       "      <th>CodigoEstacion</th>\n",
       "      <th>CodigoSensor</th>\n",
       "      <th>FechaObservacion</th>\n",
       "      <th>ValorObservado</th>\n",
       "      <th>NombreEstacion</th>\n",
       "      <th>Departamento</th>\n",
       "      <th>Municipio</th>\n",
       "      <th>ZonaHidrografica</th>\n",
       "      <th>Latitud</th>\n",
       "      <th>Longitud</th>\n",
       "      <th>DescripcionSensor</th>\n",
       "      <th>UnidadMedida</th>\n",
       "    </tr>\n",
       "  </thead>\n",
       "  <tbody>\n",
       "    <tr>\n",
       "      <th>24108971</th>\n",
       "      <td>17015010</td>\n",
       "      <td>258</td>\n",
       "      <td>12/03/2024 12:00:00 PM</td>\n",
       "      <td>1,012.9</td>\n",
       "      <td>AEROPUERTO SESQUICENTENARIO</td>\n",
       "      <td>ARCHIPIELAGO DE SAN ANDRES PROVIDENCIA Y SANTA...</td>\n",
       "      <td>SAN ANDRÉS</td>\n",
       "      <td>ISLAS CARIBE</td>\n",
       "      <td>12.587849</td>\n",
       "      <td>-81.701117</td>\n",
       "      <td>GPRS - PRESIÓN ATMOSFÉRICA</td>\n",
       "      <td>hPA</td>\n",
       "    </tr>\n",
       "    <tr>\n",
       "      <th>24108972</th>\n",
       "      <td>29045190</td>\n",
       "      <td>258</td>\n",
       "      <td>12/03/2024 11:38:00 AM</td>\n",
       "      <td>1,006.7</td>\n",
       "      <td>AEROPUERTO E. CORTISSOZ</td>\n",
       "      <td>ATLANTICO</td>\n",
       "      <td>SOLEDAD</td>\n",
       "      <td>BAJO MAGDALENA</td>\n",
       "      <td>10.917778</td>\n",
       "      <td>-74.779722</td>\n",
       "      <td>GPRS - PRESIÓN ATMOSFÉRICA</td>\n",
       "      <td>hPA</td>\n",
       "    </tr>\n",
       "    <tr>\n",
       "      <th>24108973</th>\n",
       "      <td>25010010</td>\n",
       "      <td>255</td>\n",
       "      <td>12/03/2024 10:00:00 PM</td>\n",
       "      <td>996.2</td>\n",
       "      <td>PUERTO LIBERTADOR</td>\n",
       "      <td>CORDOBA</td>\n",
       "      <td>PUERTO LIBERTADOR</td>\n",
       "      <td>BAJO MAGDALENA- CAUCA -SAN JORGE</td>\n",
       "      <td>7.890278</td>\n",
       "      <td>-75.680000</td>\n",
       "      <td>PRESIÓN ATMOSFÉRICA</td>\n",
       "      <td>hPa</td>\n",
       "    </tr>\n",
       "    <tr>\n",
       "      <th>24108974</th>\n",
       "      <td>11175000</td>\n",
       "      <td>255</td>\n",
       "      <td>12/03/2024 07:00:00 AM</td>\n",
       "      <td>1,008.4</td>\n",
       "      <td>ATRATO</td>\n",
       "      <td>CHOCO</td>\n",
       "      <td>CÉRTEGUI</td>\n",
       "      <td>ATRATO - DARIÉN</td>\n",
       "      <td>5.585776</td>\n",
       "      <td>-76.649978</td>\n",
       "      <td>PRESIÓN ATMOSFÉRICA</td>\n",
       "      <td>hPa</td>\n",
       "    </tr>\n",
       "    <tr>\n",
       "      <th>24108975</th>\n",
       "      <td>17015010</td>\n",
       "      <td>258</td>\n",
       "      <td>12/03/2024 12:44:00 PM</td>\n",
       "      <td>1,013.7</td>\n",
       "      <td>AEROPUERTO SESQUICENTENARIO</td>\n",
       "      <td>ARCHIPIELAGO DE SAN ANDRES PROVIDENCIA Y SANTA...</td>\n",
       "      <td>SAN ANDRÉS</td>\n",
       "      <td>ISLAS CARIBE</td>\n",
       "      <td>12.587849</td>\n",
       "      <td>-81.701117</td>\n",
       "      <td>GPRS - PRESIÓN ATMOSFÉRICA</td>\n",
       "      <td>hPA</td>\n",
       "    </tr>\n",
       "  </tbody>\n",
       "</table>\n",
       "</div>"
      ],
      "text/plain": [
       "          CodigoEstacion  CodigoSensor        FechaObservacion ValorObservado  \\\n",
       "24108971        17015010           258  12/03/2024 12:00:00 PM        1,012.9   \n",
       "24108972        29045190           258  12/03/2024 11:38:00 AM        1,006.7   \n",
       "24108973        25010010           255  12/03/2024 10:00:00 PM          996.2   \n",
       "24108974        11175000           255  12/03/2024 07:00:00 AM        1,008.4   \n",
       "24108975        17015010           258  12/03/2024 12:44:00 PM        1,013.7   \n",
       "\n",
       "                       NombreEstacion  \\\n",
       "24108971  AEROPUERTO SESQUICENTENARIO   \n",
       "24108972      AEROPUERTO E. CORTISSOZ   \n",
       "24108973            PUERTO LIBERTADOR   \n",
       "24108974                       ATRATO   \n",
       "24108975  AEROPUERTO SESQUICENTENARIO   \n",
       "\n",
       "                                               Departamento  \\\n",
       "24108971  ARCHIPIELAGO DE SAN ANDRES PROVIDENCIA Y SANTA...   \n",
       "24108972                                          ATLANTICO   \n",
       "24108973                                            CORDOBA   \n",
       "24108974                                              CHOCO   \n",
       "24108975  ARCHIPIELAGO DE SAN ANDRES PROVIDENCIA Y SANTA...   \n",
       "\n",
       "                  Municipio                  ZonaHidrografica    Latitud  \\\n",
       "24108971         SAN ANDRÉS                      ISLAS CARIBE  12.587849   \n",
       "24108972            SOLEDAD                    BAJO MAGDALENA  10.917778   \n",
       "24108973  PUERTO LIBERTADOR  BAJO MAGDALENA- CAUCA -SAN JORGE   7.890278   \n",
       "24108974           CÉRTEGUI                   ATRATO - DARIÉN   5.585776   \n",
       "24108975         SAN ANDRÉS                      ISLAS CARIBE  12.587849   \n",
       "\n",
       "           Longitud           DescripcionSensor UnidadMedida  \n",
       "24108971 -81.701117  GPRS - PRESIÓN ATMOSFÉRICA          hPA  \n",
       "24108972 -74.779722  GPRS - PRESIÓN ATMOSFÉRICA          hPA  \n",
       "24108973 -75.680000         PRESIÓN ATMOSFÉRICA          hPa  \n",
       "24108974 -76.649978         PRESIÓN ATMOSFÉRICA          hPa  \n",
       "24108975 -81.701117  GPRS - PRESIÓN ATMOSFÉRICA          hPA  "
      ]
     },
     "execution_count": 10,
     "metadata": {},
     "output_type": "execute_result"
    }
   ],
   "source": [
    "df_ejemplo.tail()\n"
   ]
  },
  {
   "cell_type": "code",
   "execution_count": 11,
   "id": "372816e2",
   "metadata": {},
   "outputs": [
    {
     "name": "stdout",
     "output_type": "stream",
     "text": [
      "<class 'pandas.core.frame.DataFrame'>\n",
      "RangeIndex: 24108976 entries, 0 to 24108975\n",
      "Data columns (total 12 columns):\n",
      " #   Column             Dtype  \n",
      "---  ------             -----  \n",
      " 0   CodigoEstacion     int64  \n",
      " 1   CodigoSensor       int64  \n",
      " 2   FechaObservacion   object \n",
      " 3   ValorObservado     object \n",
      " 4   NombreEstacion     object \n",
      " 5   Departamento       object \n",
      " 6   Municipio          object \n",
      " 7   ZonaHidrografica   object \n",
      " 8   Latitud            float64\n",
      " 9   Longitud           float64\n",
      " 10  DescripcionSensor  object \n",
      " 11  UnidadMedida       object \n",
      "dtypes: float64(2), int64(2), object(8)\n",
      "memory usage: 2.2+ GB\n"
     ]
    }
   ],
   "source": [
    "df_ejemplo.info()\n"
   ]
  },
  {
   "cell_type": "code",
   "execution_count": 12,
   "id": "9dae5d7f",
   "metadata": {},
   "outputs": [
    {
     "data": {
      "text/html": [
       "<div>\n",
       "<style scoped>\n",
       "    .dataframe tbody tr th:only-of-type {\n",
       "        vertical-align: middle;\n",
       "    }\n",
       "\n",
       "    .dataframe tbody tr th {\n",
       "        vertical-align: top;\n",
       "    }\n",
       "\n",
       "    .dataframe thead th {\n",
       "        text-align: right;\n",
       "    }\n",
       "</style>\n",
       "<table border=\"1\" class=\"dataframe\">\n",
       "  <thead>\n",
       "    <tr style=\"text-align: right;\">\n",
       "      <th></th>\n",
       "      <th>CodigoEstacion</th>\n",
       "      <th>CodigoSensor</th>\n",
       "      <th>Latitud</th>\n",
       "      <th>Longitud</th>\n",
       "    </tr>\n",
       "  </thead>\n",
       "  <tbody>\n",
       "    <tr>\n",
       "      <th>count</th>\n",
       "      <td>2.410898e+07</td>\n",
       "      <td>24108976.00</td>\n",
       "      <td>24108976.00</td>\n",
       "      <td>24108976.00</td>\n",
       "    </tr>\n",
       "    <tr>\n",
       "      <th>mean</th>\n",
       "      <td>2.075885e+08</td>\n",
       "      <td>255.55</td>\n",
       "      <td>5.54</td>\n",
       "      <td>-74.58</td>\n",
       "    </tr>\n",
       "    <tr>\n",
       "      <th>std</th>\n",
       "      <td>7.016728e+08</td>\n",
       "      <td>1.16</td>\n",
       "      <td>3.39</td>\n",
       "      <td>2.20</td>\n",
       "    </tr>\n",
       "    <tr>\n",
       "      <th>min</th>\n",
       "      <td>1.103001e+07</td>\n",
       "      <td>255.00</td>\n",
       "      <td>-4.19</td>\n",
       "      <td>-81.73</td>\n",
       "    </tr>\n",
       "    <tr>\n",
       "      <th>25%</th>\n",
       "      <td>2.120552e+07</td>\n",
       "      <td>255.00</td>\n",
       "      <td>4.37</td>\n",
       "      <td>-75.74</td>\n",
       "    </tr>\n",
       "    <tr>\n",
       "      <th>50%</th>\n",
       "      <td>2.405507e+07</td>\n",
       "      <td>255.00</td>\n",
       "      <td>5.08</td>\n",
       "      <td>-74.28</td>\n",
       "    </tr>\n",
       "    <tr>\n",
       "      <th>75%</th>\n",
       "      <td>3.507507e+07</td>\n",
       "      <td>255.00</td>\n",
       "      <td>7.19</td>\n",
       "      <td>-73.40</td>\n",
       "    </tr>\n",
       "    <tr>\n",
       "      <th>max</th>\n",
       "      <td>5.311500e+09</td>\n",
       "      <td>258.00</td>\n",
       "      <td>15.80</td>\n",
       "      <td>0.00</td>\n",
       "    </tr>\n",
       "  </tbody>\n",
       "</table>\n",
       "</div>"
      ],
      "text/plain": [
       "       CodigoEstacion  CodigoSensor      Latitud     Longitud\n",
       "count    2.410898e+07   24108976.00  24108976.00  24108976.00\n",
       "mean     2.075885e+08        255.55         5.54       -74.58\n",
       "std      7.016728e+08          1.16         3.39         2.20\n",
       "min      1.103001e+07        255.00        -4.19       -81.73\n",
       "25%      2.120552e+07        255.00         4.37       -75.74\n",
       "50%      2.405507e+07        255.00         5.08       -74.28\n",
       "75%      3.507507e+07        255.00         7.19       -73.40\n",
       "max      5.311500e+09        258.00        15.80         0.00"
      ]
     },
     "execution_count": 12,
     "metadata": {},
     "output_type": "execute_result"
    }
   ],
   "source": [
    "df_ejemplo.describe().round(2)\n",
    "\n"
   ]
  },
  {
   "cell_type": "code",
   "execution_count": 14,
   "id": "459b1767",
   "metadata": {},
   "outputs": [],
   "source": [
    "df_ejemplo.rename(columns={'ValorObservado':'PresionAtmosferica'}, inplace=True)"
   ]
  },
  {
   "cell_type": "code",
   "execution_count": 15,
   "id": "cf0d6970",
   "metadata": {},
   "outputs": [
    {
     "data": {
      "text/html": [
       "<div>\n",
       "<style scoped>\n",
       "    .dataframe tbody tr th:only-of-type {\n",
       "        vertical-align: middle;\n",
       "    }\n",
       "\n",
       "    .dataframe tbody tr th {\n",
       "        vertical-align: top;\n",
       "    }\n",
       "\n",
       "    .dataframe thead th {\n",
       "        text-align: right;\n",
       "    }\n",
       "</style>\n",
       "<table border=\"1\" class=\"dataframe\">\n",
       "  <thead>\n",
       "    <tr style=\"text-align: right;\">\n",
       "      <th></th>\n",
       "      <th>CodigoEstacion</th>\n",
       "      <th>CodigoSensor</th>\n",
       "      <th>FechaObservacion</th>\n",
       "      <th>PresionAtmosferica</th>\n",
       "      <th>NombreEstacion</th>\n",
       "      <th>Departamento</th>\n",
       "      <th>Municipio</th>\n",
       "      <th>ZonaHidrografica</th>\n",
       "      <th>Latitud</th>\n",
       "      <th>Longitud</th>\n",
       "      <th>DescripcionSensor</th>\n",
       "      <th>UnidadMedida</th>\n",
       "    </tr>\n",
       "  </thead>\n",
       "  <tbody>\n",
       "    <tr>\n",
       "      <th>0</th>\n",
       "      <td>36015020</td>\n",
       "      <td>255</td>\n",
       "      <td>10/03/2017 06:00:00 AM</td>\n",
       "      <td>992.5</td>\n",
       "      <td>EL DIAMANTE - AUT</td>\n",
       "      <td>CASANARE</td>\n",
       "      <td>PAZ DE ARIPORO</td>\n",
       "      <td>META</td>\n",
       "      <td>5.816194</td>\n",
       "      <td>-71.419833</td>\n",
       "      <td>Presión Atmosferica (1h)</td>\n",
       "      <td>HPa</td>\n",
       "    </tr>\n",
       "    <tr>\n",
       "      <th>1</th>\n",
       "      <td>21195190</td>\n",
       "      <td>255</td>\n",
       "      <td>02/14/2014 05:00:00 AM</td>\n",
       "      <td>785.2</td>\n",
       "      <td>PASCA - AUT</td>\n",
       "      <td>CUNDINAMARCA</td>\n",
       "      <td>PASCA</td>\n",
       "      <td>ALTO MAGDALENA</td>\n",
       "      <td>4.310111</td>\n",
       "      <td>-74.311750</td>\n",
       "      <td>Presión Atmosferica (1h)</td>\n",
       "      <td>HPa</td>\n",
       "    </tr>\n",
       "    <tr>\n",
       "      <th>2</th>\n",
       "      <td>21015050</td>\n",
       "      <td>255</td>\n",
       "      <td>09/27/2013 06:00:00 PM</td>\n",
       "      <td>805.3</td>\n",
       "      <td>PURACE  - AUT</td>\n",
       "      <td>HUILA</td>\n",
       "      <td>SAN AGUSTÍN</td>\n",
       "      <td>ALTO MAGDALENA</td>\n",
       "      <td>1.925917</td>\n",
       "      <td>-76.427556</td>\n",
       "      <td>Presión Atmosferica (1h)</td>\n",
       "      <td>HPa</td>\n",
       "    </tr>\n",
       "    <tr>\n",
       "      <th>3</th>\n",
       "      <td>21115010</td>\n",
       "      <td>255</td>\n",
       "      <td>11/28/2005 10:00:00 AM</td>\n",
       "      <td>958.5</td>\n",
       "      <td>DESIERTO TATACOA</td>\n",
       "      <td>HUILA</td>\n",
       "      <td>VILLAVIEJA</td>\n",
       "      <td>ALTO MAGDALENA</td>\n",
       "      <td>3.234000</td>\n",
       "      <td>-75.168000</td>\n",
       "      <td>Presión Atmosferica (1h)</td>\n",
       "      <td>HPa</td>\n",
       "    </tr>\n",
       "    <tr>\n",
       "      <th>4</th>\n",
       "      <td>28035060</td>\n",
       "      <td>255</td>\n",
       "      <td>04/08/2008 04:00:00 AM</td>\n",
       "      <td>988.7</td>\n",
       "      <td>FEDEARROZ - AUT</td>\n",
       "      <td>CESAR</td>\n",
       "      <td>VALLEDUPAR</td>\n",
       "      <td>CESAR</td>\n",
       "      <td>10.463611</td>\n",
       "      <td>-73.248056</td>\n",
       "      <td>Presión Atmosferica (1h)</td>\n",
       "      <td>HPa</td>\n",
       "    </tr>\n",
       "  </tbody>\n",
       "</table>\n",
       "</div>"
      ],
      "text/plain": [
       "   CodigoEstacion  CodigoSensor        FechaObservacion PresionAtmosferica  \\\n",
       "0        36015020           255  10/03/2017 06:00:00 AM              992.5   \n",
       "1        21195190           255  02/14/2014 05:00:00 AM              785.2   \n",
       "2        21015050           255  09/27/2013 06:00:00 PM              805.3   \n",
       "3        21115010           255  11/28/2005 10:00:00 AM              958.5   \n",
       "4        28035060           255  04/08/2008 04:00:00 AM              988.7   \n",
       "\n",
       "      NombreEstacion  Departamento       Municipio ZonaHidrografica  \\\n",
       "0  EL DIAMANTE - AUT      CASANARE  PAZ DE ARIPORO             META   \n",
       "1        PASCA - AUT  CUNDINAMARCA           PASCA   ALTO MAGDALENA   \n",
       "2      PURACE  - AUT         HUILA     SAN AGUSTÍN   ALTO MAGDALENA   \n",
       "3   DESIERTO TATACOA         HUILA      VILLAVIEJA   ALTO MAGDALENA   \n",
       "4    FEDEARROZ - AUT         CESAR      VALLEDUPAR            CESAR   \n",
       "\n",
       "     Latitud   Longitud         DescripcionSensor UnidadMedida  \n",
       "0   5.816194 -71.419833  Presión Atmosferica (1h)          HPa  \n",
       "1   4.310111 -74.311750  Presión Atmosferica (1h)          HPa  \n",
       "2   1.925917 -76.427556  Presión Atmosferica (1h)          HPa  \n",
       "3   3.234000 -75.168000  Presión Atmosferica (1h)          HPa  \n",
       "4  10.463611 -73.248056  Presión Atmosferica (1h)          HPa  "
      ]
     },
     "execution_count": 15,
     "metadata": {},
     "output_type": "execute_result"
    }
   ],
   "source": [
    "df_ejemplo.head() "
   ]
  },
  {
   "cell_type": "code",
   "execution_count": 18,
   "id": "2b4f219a",
   "metadata": {},
   "outputs": [
    {
     "data": {
      "text/plain": [
       "0            992.5\n",
       "1            785.2\n",
       "2            805.3\n",
       "3            958.5\n",
       "4            988.7\n",
       "             ...  \n",
       "24108971    1012.9\n",
       "24108972    1006.7\n",
       "24108973     996.2\n",
       "24108974    1008.4\n",
       "24108975    1013.7\n",
       "Name: PresionAtmosferica, Length: 24108976, dtype: float64"
      ]
     },
     "execution_count": 18,
     "metadata": {},
     "output_type": "execute_result"
    }
   ],
   "source": [
    "import numpy as np \n",
    "# Reemplazar comas por puntos\n",
    "df_ejemplo['PresionAtmosferica'] = df_ejemplo['PresionAtmosferica'].str.replace(',', '')\n",
    "\n",
    "df_ejemplo.PresionAtmosferica.astype(np.float64)"
   ]
  },
  {
   "cell_type": "markdown",
   "id": "d20c3322",
   "metadata": {},
   "source": [
    "\n",
    "---\n",
    "\n",
    "### Conclusión\n",
    "\n",
    "Crear y explorar `DataFrames` es un paso inicial crucial en el análisis de datos. "
   ]
  },
  {
   "cell_type": "markdown",
   "id": "fe0d9e74",
   "metadata": {},
   "source": [
    "En esta clase aprendiste a crear `DataFrames` a partir de listas, diccionarios y archivos comunes (CSV y Excel) y a explorar su contenido. Familiarizarse con estas técnicas es esencial para proyectos de análisis de datos y para trabajar de manera eficiente en Python. \n"
   ]
  },
  {
   "cell_type": "markdown",
   "id": "2600fd8c",
   "metadata": {},
   "source": [
    "\n",
    "En la siguiente clase, podríamos abordar la **manipulación y limpieza de datos en `DataFrames`**, algo que resulta fundamental para obtener datos de calidad para análisis posteriores."
   ]
  },
  {
   "cell_type": "markdown",
   "id": "2497e451",
   "metadata": {},
   "source": [
    "[Video de apoyo hasta aquí: creacion dataframe](https://www.youtube.com/watch?v=eYlIfj8xwaA)"
   ]
  },
  {
   "cell_type": "markdown",
   "id": "521faa9d",
   "metadata": {},
   "source": [
    "\n",
    "3. **Manipulación de Datos en un DataFrame**\n",
    "   - Selección y filtrado de datos: acceso a filas y columnas.\n",
    "   - Modificación de valores, creación y eliminación de columnas.\n",
    "   - Manejo de valores nulos y duplicados.\n"
   ]
  },
  {
   "cell_type": "markdown",
   "id": "156c4f29",
   "metadata": {},
   "source": [
    "Aquí tienes la tercera parte de la clase sobre `DataFrames` en Pandas, enfocada en la manipulación de datos. Este contenido te ayudará a trabajar de manera más avanzada con datos en un `DataFrame`, realizando tareas comunes como seleccionar y filtrar datos, modificar valores, crear y eliminar columnas, y manejar valores nulos y duplicados.\n",
    "\n",
    "---\n"
   ]
  },
  {
   "cell_type": "markdown",
   "id": "da2138f6",
   "metadata": {},
   "source": [
    "\n",
    "### Clase 3: Manipulación de Datos en un DataFrame de Pandas\n"
   ]
  },
  {
   "cell_type": "markdown",
   "id": "176c692f",
   "metadata": {},
   "source": [
    "\n",
    "### Objetivo\n",
    "- Aprender a seleccionar y filtrar datos en un `DataFrame`.\n",
    "- Modificar valores, crear y eliminar columnas.\n",
    "- Manejar valores nulos y duplicados en los datos.\n",
    "\n",
    "---\n"
   ]
  },
  {
   "cell_type": "markdown",
   "id": "792ddc99",
   "metadata": {},
   "source": [
    "\n",
    "### 1. **Selección y Filtrado de Datos**\n",
    "\n",
    "#### 1.1 Selección de Columnas\n",
    "Puedes seleccionar una o varias columnas de un `DataFrame` utilizando el nombre de la columna entre corchetes `[]`.\n"
   ]
  },
  {
   "cell_type": "code",
   "execution_count": 23,
   "id": "a2d7bdca",
   "metadata": {},
   "outputs": [],
   "source": [
    "\n",
    "\n",
    "import pandas as pd\n",
    "\n",
    "# Ejemplo de DataFrame\n",
    "data = {\n",
    "    'ID': [1, 2, 3, 4, 5],\n",
    "    'Nombre': ['Carlos', 'Ana', 'Pedro', 'Maria', 'Luis'],\n",
    "    'Edad': [25, 30, 35, 28, 22],\n",
    "    'Ciudad': ['Bogotá', 'Medellín', 'Cali', 'Barranquilla', 'Cartagena']\n",
    "}\n"
   ]
  },
  {
   "cell_type": "code",
   "execution_count": 6,
   "id": "0abcbc38",
   "metadata": {},
   "outputs": [
    {
     "data": {
      "text/plain": [
       "{'ID': [1, 2, 3, 4, 5],\n",
       " 'Nombre': ['Carlos', 'Ana', 'Pedro', 'Maria', 'Luis'],\n",
       " 'Edad': [25, 30, 35, 28, 22],\n",
       " 'Ciudad': ['Bogotá', 'Medellín', 'Cali', 'Barranquilla', 'Cartagena']}"
      ]
     },
     "execution_count": 6,
     "metadata": {},
     "output_type": "execute_result"
    }
   ],
   "source": [
    "data "
   ]
  },
  {
   "cell_type": "code",
   "execution_count": 7,
   "id": "52d1c2c4",
   "metadata": {},
   "outputs": [
    {
     "data": {
      "text/html": [
       "<div>\n",
       "<style scoped>\n",
       "    .dataframe tbody tr th:only-of-type {\n",
       "        vertical-align: middle;\n",
       "    }\n",
       "\n",
       "    .dataframe tbody tr th {\n",
       "        vertical-align: top;\n",
       "    }\n",
       "\n",
       "    .dataframe thead th {\n",
       "        text-align: right;\n",
       "    }\n",
       "</style>\n",
       "<table border=\"1\" class=\"dataframe\">\n",
       "  <thead>\n",
       "    <tr style=\"text-align: right;\">\n",
       "      <th></th>\n",
       "      <th>ID</th>\n",
       "      <th>Nombre</th>\n",
       "      <th>Edad</th>\n",
       "      <th>Ciudad</th>\n",
       "    </tr>\n",
       "  </thead>\n",
       "  <tbody>\n",
       "    <tr>\n",
       "      <th>0</th>\n",
       "      <td>1</td>\n",
       "      <td>Carlos</td>\n",
       "      <td>25</td>\n",
       "      <td>Bogotá</td>\n",
       "    </tr>\n",
       "    <tr>\n",
       "      <th>1</th>\n",
       "      <td>2</td>\n",
       "      <td>Ana</td>\n",
       "      <td>30</td>\n",
       "      <td>Medellín</td>\n",
       "    </tr>\n",
       "    <tr>\n",
       "      <th>2</th>\n",
       "      <td>3</td>\n",
       "      <td>Pedro</td>\n",
       "      <td>35</td>\n",
       "      <td>Cali</td>\n",
       "    </tr>\n",
       "    <tr>\n",
       "      <th>3</th>\n",
       "      <td>4</td>\n",
       "      <td>Maria</td>\n",
       "      <td>28</td>\n",
       "      <td>Barranquilla</td>\n",
       "    </tr>\n",
       "    <tr>\n",
       "      <th>4</th>\n",
       "      <td>5</td>\n",
       "      <td>Luis</td>\n",
       "      <td>22</td>\n",
       "      <td>Cartagena</td>\n",
       "    </tr>\n",
       "  </tbody>\n",
       "</table>\n",
       "</div>"
      ],
      "text/plain": [
       "   ID  Nombre  Edad        Ciudad\n",
       "0   1  Carlos    25        Bogotá\n",
       "1   2     Ana    30      Medellín\n",
       "2   3   Pedro    35          Cali\n",
       "3   4   Maria    28  Barranquilla\n",
       "4   5    Luis    22     Cartagena"
      ]
     },
     "execution_count": 7,
     "metadata": {},
     "output_type": "execute_result"
    }
   ],
   "source": [
    "df = pd.DataFrame(data)\n",
    "df \n"
   ]
  },
  {
   "cell_type": "code",
   "execution_count": 8,
   "id": "fc0e3834",
   "metadata": {},
   "outputs": [
    {
     "data": {
      "text/html": [
       "<div>\n",
       "<style scoped>\n",
       "    .dataframe tbody tr th:only-of-type {\n",
       "        vertical-align: middle;\n",
       "    }\n",
       "\n",
       "    .dataframe tbody tr th {\n",
       "        vertical-align: top;\n",
       "    }\n",
       "\n",
       "    .dataframe thead th {\n",
       "        text-align: right;\n",
       "    }\n",
       "</style>\n",
       "<table border=\"1\" class=\"dataframe\">\n",
       "  <thead>\n",
       "    <tr style=\"text-align: right;\">\n",
       "      <th></th>\n",
       "      <th>Nombre</th>\n",
       "      <th>Edad</th>\n",
       "    </tr>\n",
       "  </thead>\n",
       "  <tbody>\n",
       "    <tr>\n",
       "      <th>0</th>\n",
       "      <td>Carlos</td>\n",
       "      <td>25</td>\n",
       "    </tr>\n",
       "    <tr>\n",
       "      <th>1</th>\n",
       "      <td>Ana</td>\n",
       "      <td>30</td>\n",
       "    </tr>\n",
       "    <tr>\n",
       "      <th>2</th>\n",
       "      <td>Pedro</td>\n",
       "      <td>35</td>\n",
       "    </tr>\n",
       "    <tr>\n",
       "      <th>3</th>\n",
       "      <td>Maria</td>\n",
       "      <td>28</td>\n",
       "    </tr>\n",
       "    <tr>\n",
       "      <th>4</th>\n",
       "      <td>Luis</td>\n",
       "      <td>22</td>\n",
       "    </tr>\n",
       "  </tbody>\n",
       "</table>\n",
       "</div>"
      ],
      "text/plain": [
       "   Nombre  Edad\n",
       "0  Carlos    25\n",
       "1     Ana    30\n",
       "2   Pedro    35\n",
       "3   Maria    28\n",
       "4    Luis    22"
      ]
     },
     "execution_count": 8,
     "metadata": {},
     "output_type": "execute_result"
    }
   ],
   "source": [
    "\n",
    "# Selección de una columna con notación de corchetes \n",
    "df[['Nombre', 'Edad']]\n"
   ]
  },
  {
   "cell_type": "code",
   "execution_count": 9,
   "id": "76589e51",
   "metadata": {},
   "outputs": [
    {
     "data": {
      "text/html": [
       "<div>\n",
       "<style scoped>\n",
       "    .dataframe tbody tr th:only-of-type {\n",
       "        vertical-align: middle;\n",
       "    }\n",
       "\n",
       "    .dataframe tbody tr th {\n",
       "        vertical-align: top;\n",
       "    }\n",
       "\n",
       "    .dataframe thead th {\n",
       "        text-align: right;\n",
       "    }\n",
       "</style>\n",
       "<table border=\"1\" class=\"dataframe\">\n",
       "  <thead>\n",
       "    <tr style=\"text-align: right;\">\n",
       "      <th></th>\n",
       "      <th>Edad</th>\n",
       "      <th>Nombre</th>\n",
       "    </tr>\n",
       "  </thead>\n",
       "  <tbody>\n",
       "    <tr>\n",
       "      <th>0</th>\n",
       "      <td>25</td>\n",
       "      <td>Carlos</td>\n",
       "    </tr>\n",
       "    <tr>\n",
       "      <th>1</th>\n",
       "      <td>30</td>\n",
       "      <td>Ana</td>\n",
       "    </tr>\n",
       "    <tr>\n",
       "      <th>2</th>\n",
       "      <td>35</td>\n",
       "      <td>Pedro</td>\n",
       "    </tr>\n",
       "    <tr>\n",
       "      <th>3</th>\n",
       "      <td>28</td>\n",
       "      <td>Maria</td>\n",
       "    </tr>\n",
       "    <tr>\n",
       "      <th>4</th>\n",
       "      <td>22</td>\n",
       "      <td>Luis</td>\n",
       "    </tr>\n",
       "  </tbody>\n",
       "</table>\n",
       "</div>"
      ],
      "text/plain": [
       "   Edad  Nombre\n",
       "0    25  Carlos\n",
       "1    30     Ana\n",
       "2    35   Pedro\n",
       "3    28   Maria\n",
       "4    22    Luis"
      ]
     },
     "execution_count": 9,
     "metadata": {},
     "output_type": "execute_result"
    }
   ],
   "source": [
    "df[['Edad', 'Nombre']]"
   ]
  },
  {
   "cell_type": "code",
   "execution_count": 10,
   "id": "3cfe8dca",
   "metadata": {},
   "outputs": [
    {
     "data": {
      "text/plain": [
       "0    Carlos\n",
       "1       Ana\n",
       "2     Pedro\n",
       "3     Maria\n",
       "4      Luis\n",
       "Name: Nombre, dtype: object"
      ]
     },
     "execution_count": 10,
     "metadata": {},
     "output_type": "execute_result"
    }
   ],
   "source": [
    "df.Nombre  # Con notación de punto"
   ]
  },
  {
   "cell_type": "code",
   "execution_count": 11,
   "id": "1a07031b",
   "metadata": {},
   "outputs": [
    {
     "data": {
      "text/html": [
       "<div>\n",
       "<style scoped>\n",
       "    .dataframe tbody tr th:only-of-type {\n",
       "        vertical-align: middle;\n",
       "    }\n",
       "\n",
       "    .dataframe tbody tr th {\n",
       "        vertical-align: top;\n",
       "    }\n",
       "\n",
       "    .dataframe thead th {\n",
       "        text-align: right;\n",
       "    }\n",
       "</style>\n",
       "<table border=\"1\" class=\"dataframe\">\n",
       "  <thead>\n",
       "    <tr style=\"text-align: right;\">\n",
       "      <th></th>\n",
       "      <th>Nombre</th>\n",
       "      <th>Edad</th>\n",
       "    </tr>\n",
       "  </thead>\n",
       "  <tbody>\n",
       "    <tr>\n",
       "      <th>0</th>\n",
       "      <td>Carlos</td>\n",
       "      <td>25</td>\n",
       "    </tr>\n",
       "    <tr>\n",
       "      <th>1</th>\n",
       "      <td>Ana</td>\n",
       "      <td>30</td>\n",
       "    </tr>\n",
       "    <tr>\n",
       "      <th>2</th>\n",
       "      <td>Pedro</td>\n",
       "      <td>35</td>\n",
       "    </tr>\n",
       "    <tr>\n",
       "      <th>3</th>\n",
       "      <td>Maria</td>\n",
       "      <td>28</td>\n",
       "    </tr>\n",
       "    <tr>\n",
       "      <th>4</th>\n",
       "      <td>Luis</td>\n",
       "      <td>22</td>\n",
       "    </tr>\n",
       "  </tbody>\n",
       "</table>\n",
       "</div>"
      ],
      "text/plain": [
       "   Nombre  Edad\n",
       "0  Carlos    25\n",
       "1     Ana    30\n",
       "2   Pedro    35\n",
       "3   Maria    28\n",
       "4    Luis    22"
      ]
     },
     "execution_count": 11,
     "metadata": {},
     "output_type": "execute_result"
    }
   ],
   "source": [
    "\n",
    "# Selección de múltiples columnas\n",
    "df[['Nombre', 'Edad']]\n",
    "\n"
   ]
  },
  {
   "cell_type": "markdown",
   "id": "0b4a1456",
   "metadata": {},
   "source": [
    "\n",
    "#### 1.2 Selección de Filas\n",
    "Puedes seleccionar filas de varias maneras:\n",
    "\n",
    "- **Índices de Filas** con `.iloc` (por posición) o `.loc` (por etiqueta).\n"
   ]
  },
  {
   "cell_type": "code",
   "execution_count": 12,
   "id": "523e5cf6",
   "metadata": {},
   "outputs": [
    {
     "data": {
      "text/html": [
       "<div>\n",
       "<style scoped>\n",
       "    .dataframe tbody tr th:only-of-type {\n",
       "        vertical-align: middle;\n",
       "    }\n",
       "\n",
       "    .dataframe tbody tr th {\n",
       "        vertical-align: top;\n",
       "    }\n",
       "\n",
       "    .dataframe thead th {\n",
       "        text-align: right;\n",
       "    }\n",
       "</style>\n",
       "<table border=\"1\" class=\"dataframe\">\n",
       "  <thead>\n",
       "    <tr style=\"text-align: right;\">\n",
       "      <th></th>\n",
       "      <th>Nombre</th>\n",
       "      <th>Edad</th>\n",
       "    </tr>\n",
       "  </thead>\n",
       "  <tbody>\n",
       "    <tr>\n",
       "      <th>Padre</th>\n",
       "      <td>Marco</td>\n",
       "      <td>49</td>\n",
       "    </tr>\n",
       "    <tr>\n",
       "      <th>Hijo</th>\n",
       "      <td>Joseph</td>\n",
       "      <td>16</td>\n",
       "    </tr>\n",
       "  </tbody>\n",
       "</table>\n",
       "</div>"
      ],
      "text/plain": [
       "       Nombre  Edad\n",
       "Padre   Marco    49\n",
       "Hijo   Joseph    16"
      ]
     },
     "execution_count": 12,
     "metadata": {},
     "output_type": "execute_result"
    }
   ],
   "source": [
    "datos = [['Marco', 49], ['Joseph', 16]]\n",
    "indices = ['Padre', 'Hijo']\n",
    "columnas = ['Nombre', 'Edad']\n",
    "\n",
    "df = pd.DataFrame(datos, index=indices, columns=columnas)\n",
    "df "
   ]
  },
  {
   "cell_type": "code",
   "execution_count": 13,
   "id": "b4f84b7a",
   "metadata": {},
   "outputs": [
    {
     "data": {
      "text/plain": [
       "Nombre    Marco\n",
       "Edad         49\n",
       "Name: Padre, dtype: object"
      ]
     },
     "execution_count": 13,
     "metadata": {},
     "output_type": "execute_result"
    }
   ],
   "source": [
    "df.iloc[0]"
   ]
  },
  {
   "cell_type": "code",
   "execution_count": 14,
   "id": "5bc8587c",
   "metadata": {},
   "outputs": [
    {
     "data": {
      "text/plain": [
       "Nombre    Marco\n",
       "Edad         49\n",
       "Name: Padre, dtype: object"
      ]
     },
     "execution_count": 14,
     "metadata": {},
     "output_type": "execute_result"
    }
   ],
   "source": [
    "df.loc['Padre'] "
   ]
  },
  {
   "cell_type": "code",
   "execution_count": 15,
   "id": "c48fbf4d",
   "metadata": {},
   "outputs": [
    {
     "data": {
      "text/plain": [
       "Nombre    Marco\n",
       "Edad         49\n",
       "Name: Padre, dtype: object"
      ]
     },
     "execution_count": 15,
     "metadata": {},
     "output_type": "execute_result"
    }
   ],
   "source": [
    "\n",
    "# Selección de la primera fila con iloc\n",
    "df.iloc[0]\n"
   ]
  },
  {
   "cell_type": "code",
   "execution_count": 18,
   "id": "7d130a8d",
   "metadata": {},
   "outputs": [],
   "source": [
    "\n",
    "# Selección de una fila por índice con loc\n",
    "# df.loc[2]\n",
    "\n"
   ]
  },
  {
   "cell_type": "markdown",
   "id": "6d31f633",
   "metadata": {},
   "source": [
    "\n",
    "#### 1.3 Filtrado de Datos\n",
    "El filtrado de datos permite seleccionar solo aquellas filas que cumplen con ciertas condiciones.\n"
   ]
  },
  {
   "cell_type": "code",
   "execution_count": 19,
   "id": "6637a830",
   "metadata": {},
   "outputs": [],
   "source": [
    "booleano = df['Edad'] < 25  # operador de comparación "
   ]
  },
  {
   "cell_type": "code",
   "execution_count": 20,
   "id": "e62ad6a7",
   "metadata": {},
   "outputs": [
    {
     "data": {
      "text/html": [
       "<div>\n",
       "<style scoped>\n",
       "    .dataframe tbody tr th:only-of-type {\n",
       "        vertical-align: middle;\n",
       "    }\n",
       "\n",
       "    .dataframe tbody tr th {\n",
       "        vertical-align: top;\n",
       "    }\n",
       "\n",
       "    .dataframe thead th {\n",
       "        text-align: right;\n",
       "    }\n",
       "</style>\n",
       "<table border=\"1\" class=\"dataframe\">\n",
       "  <thead>\n",
       "    <tr style=\"text-align: right;\">\n",
       "      <th></th>\n",
       "      <th>Nombre</th>\n",
       "      <th>Edad</th>\n",
       "    </tr>\n",
       "  </thead>\n",
       "  <tbody>\n",
       "    <tr>\n",
       "      <th>Hijo</th>\n",
       "      <td>Joseph</td>\n",
       "      <td>16</td>\n",
       "    </tr>\n",
       "  </tbody>\n",
       "</table>\n",
       "</div>"
      ],
      "text/plain": [
       "      Nombre  Edad\n",
       "Hijo  Joseph    16"
      ]
     },
     "execution_count": 20,
     "metadata": {},
     "output_type": "execute_result"
    }
   ],
   "source": [
    "df[booleano] # Evaluar el dataframe en la serie de booleanos "
   ]
  },
  {
   "cell_type": "code",
   "execution_count": 21,
   "id": "c4319636",
   "metadata": {},
   "outputs": [
    {
     "data": {
      "text/html": [
       "<div>\n",
       "<style scoped>\n",
       "    .dataframe tbody tr th:only-of-type {\n",
       "        vertical-align: middle;\n",
       "    }\n",
       "\n",
       "    .dataframe tbody tr th {\n",
       "        vertical-align: top;\n",
       "    }\n",
       "\n",
       "    .dataframe thead th {\n",
       "        text-align: right;\n",
       "    }\n",
       "</style>\n",
       "<table border=\"1\" class=\"dataframe\">\n",
       "  <thead>\n",
       "    <tr style=\"text-align: right;\">\n",
       "      <th></th>\n",
       "      <th>Nombre</th>\n",
       "      <th>Edad</th>\n",
       "    </tr>\n",
       "  </thead>\n",
       "  <tbody>\n",
       "    <tr>\n",
       "      <th>Padre</th>\n",
       "      <td>Marco</td>\n",
       "      <td>49</td>\n",
       "    </tr>\n",
       "  </tbody>\n",
       "</table>\n",
       "</div>"
      ],
      "text/plain": [
       "      Nombre  Edad\n",
       "Padre  Marco    49"
      ]
     },
     "execution_count": 21,
     "metadata": {},
     "output_type": "execute_result"
    }
   ],
   "source": [
    "\n",
    "\n",
    "# Filtrar filas donde Edad es mayor a 25\n",
    "df_mayores_25 = df[df['Edad'] > 25]\n",
    "df_mayores_25\n"
   ]
  },
  {
   "cell_type": "code",
   "execution_count": null,
   "id": "c5cbbb0e",
   "metadata": {},
   "outputs": [],
   "source": []
  },
  {
   "cell_type": "code",
   "execution_count": 25,
   "id": "7fda2fb2",
   "metadata": {},
   "outputs": [],
   "source": [
    "\n",
    "# Filtrar filas donde Ciudad es 'Medellín'\n",
    "# df_medellin = df[(df['Ciudad'] == 'Medellín') & (df['Edad'] > 20)] # no olvide los signos de agrupeción\n",
    "# df_medellin\n",
    "\n"
   ]
  },
  {
   "cell_type": "markdown",
   "id": "f8997924",
   "metadata": {},
   "source": [
    "\n",
    "### 2. **Modificación de Valores, Creación y Eliminación de Columnas**\n",
    "\n",
    "#### 2.1 Modificación de Valores\n",
    "Puedes modificar los valores de una columna seleccionándola y aplicando cambios.\n"
   ]
  },
  {
   "cell_type": "code",
   "execution_count": 26,
   "id": "393b0f86",
   "metadata": {},
   "outputs": [],
   "source": [
    "df.loc[df['Nombre']=='Carlos','Edad'] = 27  # Operador de asignación modificar "
   ]
  },
  {
   "cell_type": "code",
   "execution_count": 26,
   "id": "da1eebf9",
   "metadata": {},
   "outputs": [
    {
     "data": {
      "text/html": [
       "<div>\n",
       "<style scoped>\n",
       "    .dataframe tbody tr th:only-of-type {\n",
       "        vertical-align: middle;\n",
       "    }\n",
       "\n",
       "    .dataframe tbody tr th {\n",
       "        vertical-align: top;\n",
       "    }\n",
       "\n",
       "    .dataframe thead th {\n",
       "        text-align: right;\n",
       "    }\n",
       "</style>\n",
       "<table border=\"1\" class=\"dataframe\">\n",
       "  <thead>\n",
       "    <tr style=\"text-align: right;\">\n",
       "      <th></th>\n",
       "      <th>ID</th>\n",
       "      <th>Nombre</th>\n",
       "      <th>Edad</th>\n",
       "      <th>Ciudad</th>\n",
       "    </tr>\n",
       "  </thead>\n",
       "  <tbody>\n",
       "    <tr>\n",
       "      <th>0</th>\n",
       "      <td>1</td>\n",
       "      <td>Carlos</td>\n",
       "      <td>27</td>\n",
       "      <td>Bogotá</td>\n",
       "    </tr>\n",
       "    <tr>\n",
       "      <th>1</th>\n",
       "      <td>2</td>\n",
       "      <td>Ana</td>\n",
       "      <td>30</td>\n",
       "      <td>Medellín</td>\n",
       "    </tr>\n",
       "    <tr>\n",
       "      <th>2</th>\n",
       "      <td>3</td>\n",
       "      <td>Pedro</td>\n",
       "      <td>35</td>\n",
       "      <td>Cali</td>\n",
       "    </tr>\n",
       "    <tr>\n",
       "      <th>3</th>\n",
       "      <td>4</td>\n",
       "      <td>Maria</td>\n",
       "      <td>28</td>\n",
       "      <td>Barranquilla</td>\n",
       "    </tr>\n",
       "    <tr>\n",
       "      <th>4</th>\n",
       "      <td>5</td>\n",
       "      <td>Luis</td>\n",
       "      <td>22</td>\n",
       "      <td>Cartagena</td>\n",
       "    </tr>\n",
       "  </tbody>\n",
       "</table>\n",
       "</div>"
      ],
      "text/plain": [
       "   ID  Nombre  Edad        Ciudad\n",
       "0   1  Carlos    27        Bogotá\n",
       "1   2     Ana    30      Medellín\n",
       "2   3   Pedro    35          Cali\n",
       "3   4   Maria    28  Barranquilla\n",
       "4   5    Luis    22     Cartagena"
      ]
     },
     "execution_count": 26,
     "metadata": {},
     "output_type": "execute_result"
    }
   ],
   "source": [
    "df "
   ]
  },
  {
   "cell_type": "markdown",
   "id": "eff20dba",
   "metadata": {},
   "source": [
    "* El método .loc tiene dos parámetros. \n",
    "* Con solo un parámetro en va a la fila \n",
    "* Con los dos parámetros en va a la fila y columna respectiva. "
   ]
  },
  {
   "cell_type": "code",
   "execution_count": 27,
   "id": "dc432fed",
   "metadata": {},
   "outputs": [
    {
     "data": {
      "text/html": [
       "<div>\n",
       "<style scoped>\n",
       "    .dataframe tbody tr th:only-of-type {\n",
       "        vertical-align: middle;\n",
       "    }\n",
       "\n",
       "    .dataframe tbody tr th {\n",
       "        vertical-align: top;\n",
       "    }\n",
       "\n",
       "    .dataframe thead th {\n",
       "        text-align: right;\n",
       "    }\n",
       "</style>\n",
       "<table border=\"1\" class=\"dataframe\">\n",
       "  <thead>\n",
       "    <tr style=\"text-align: right;\">\n",
       "      <th></th>\n",
       "      <th>Nombre</th>\n",
       "      <th>Edad</th>\n",
       "    </tr>\n",
       "  </thead>\n",
       "  <tbody>\n",
       "    <tr>\n",
       "      <th>Padre</th>\n",
       "      <td>Marco</td>\n",
       "      <td>49</td>\n",
       "    </tr>\n",
       "    <tr>\n",
       "      <th>Hijo</th>\n",
       "      <td>Joseph</td>\n",
       "      <td>16</td>\n",
       "    </tr>\n",
       "  </tbody>\n",
       "</table>\n",
       "</div>"
      ],
      "text/plain": [
       "       Nombre  Edad\n",
       "Padre   Marco    49\n",
       "Hijo   Joseph    16"
      ]
     },
     "execution_count": 27,
     "metadata": {},
     "output_type": "execute_result"
    }
   ],
   "source": [
    "\n",
    "\n",
    "# Cambiar la edad de Carlos a 26\n",
    "df.loc[df['Nombre'] == 'Carlos', 'Edad'] = 26\n",
    "df\n",
    "\n"
   ]
  },
  {
   "cell_type": "markdown",
   "id": "e49b56d7",
   "metadata": {},
   "source": [
    "\n",
    "#### 2.2 Creación de Nuevas Columnas\n",
    "Para añadir una columna nueva, solo tienes que asignar valores a un nombre de columna que aún no exista.\n"
   ]
  },
  {
   "cell_type": "code",
   "execution_count": 29,
   "id": "0255f98a",
   "metadata": {},
   "outputs": [
    {
     "data": {
      "text/html": [
       "<div>\n",
       "<style scoped>\n",
       "    .dataframe tbody tr th:only-of-type {\n",
       "        vertical-align: middle;\n",
       "    }\n",
       "\n",
       "    .dataframe tbody tr th {\n",
       "        vertical-align: top;\n",
       "    }\n",
       "\n",
       "    .dataframe thead th {\n",
       "        text-align: right;\n",
       "    }\n",
       "</style>\n",
       "<table border=\"1\" class=\"dataframe\">\n",
       "  <thead>\n",
       "    <tr style=\"text-align: right;\">\n",
       "      <th></th>\n",
       "      <th>Nombre</th>\n",
       "      <th>Edad</th>\n",
       "    </tr>\n",
       "  </thead>\n",
       "  <tbody>\n",
       "    <tr>\n",
       "      <th>Padre</th>\n",
       "      <td>Marco</td>\n",
       "      <td>49</td>\n",
       "    </tr>\n",
       "    <tr>\n",
       "      <th>Hijo</th>\n",
       "      <td>Joseph</td>\n",
       "      <td>16</td>\n",
       "    </tr>\n",
       "  </tbody>\n",
       "</table>\n",
       "</div>"
      ],
      "text/plain": [
       "       Nombre  Edad\n",
       "Padre   Marco    49\n",
       "Hijo   Joseph    16"
      ]
     },
     "execution_count": 29,
     "metadata": {},
     "output_type": "execute_result"
    }
   ],
   "source": [
    "\n",
    "# Crear una nueva columna llamada 'Salario' con valores predeterminados\n",
    "# df['Salario'] = [3000, 4000, 5000, 3500, 2800]\n",
    "df\n",
    "\n"
   ]
  },
  {
   "cell_type": "markdown",
   "id": "f11587e1",
   "metadata": {},
   "source": [
    "\n",
    "#### 2.3 Eliminación de Columnas\n",
    "Para eliminar columnas, utiliza la función `drop()`, especificando `axis=1` para indicar que quieres eliminar columnas (en vez de filas).\n"
   ]
  },
  {
   "cell_type": "code",
   "execution_count": 30,
   "id": "15e746c6",
   "metadata": {},
   "outputs": [],
   "source": [
    "# df.drop(['ID', 'Nombre'], axis = 1, inplace=True)  # No olvidar el párámetro axis "
   ]
  },
  {
   "cell_type": "code",
   "execution_count": 53,
   "id": "66f9aff4",
   "metadata": {},
   "outputs": [
    {
     "data": {
      "text/html": [
       "<div>\n",
       "<style scoped>\n",
       "    .dataframe tbody tr th:only-of-type {\n",
       "        vertical-align: middle;\n",
       "    }\n",
       "\n",
       "    .dataframe tbody tr th {\n",
       "        vertical-align: top;\n",
       "    }\n",
       "\n",
       "    .dataframe thead th {\n",
       "        text-align: right;\n",
       "    }\n",
       "</style>\n",
       "<table border=\"1\" class=\"dataframe\">\n",
       "  <thead>\n",
       "    <tr style=\"text-align: right;\">\n",
       "      <th></th>\n",
       "      <th>index</th>\n",
       "      <th>Edad</th>\n",
       "      <th>Ciudad</th>\n",
       "    </tr>\n",
       "  </thead>\n",
       "  <tbody>\n",
       "    <tr>\n",
       "      <th>0</th>\n",
       "      <td>0</td>\n",
       "      <td>27.0</td>\n",
       "      <td>Bogotá</td>\n",
       "    </tr>\n",
       "    <tr>\n",
       "      <th>1</th>\n",
       "      <td>1</td>\n",
       "      <td>35.0</td>\n",
       "      <td>Cali</td>\n",
       "    </tr>\n",
       "    <tr>\n",
       "      <th>2</th>\n",
       "      <td>2</td>\n",
       "      <td>28.0</td>\n",
       "      <td>Barranquilla</td>\n",
       "    </tr>\n",
       "    <tr>\n",
       "      <th>3</th>\n",
       "      <td>3</td>\n",
       "      <td>22.0</td>\n",
       "      <td>Cartagena</td>\n",
       "    </tr>\n",
       "  </tbody>\n",
       "</table>\n",
       "</div>"
      ],
      "text/plain": [
       "   index  Edad        Ciudad\n",
       "0      0  27.0        Bogotá\n",
       "1      1  35.0          Cali\n",
       "2      2  28.0  Barranquilla\n",
       "3      3  22.0     Cartagena"
      ]
     },
     "execution_count": 53,
     "metadata": {},
     "output_type": "execute_result"
    }
   ],
   "source": [
    "df "
   ]
  },
  {
   "cell_type": "code",
   "execution_count": 31,
   "id": "b49509d7",
   "metadata": {},
   "outputs": [
    {
     "data": {
      "text/html": [
       "<div>\n",
       "<style scoped>\n",
       "    .dataframe tbody tr th:only-of-type {\n",
       "        vertical-align: middle;\n",
       "    }\n",
       "\n",
       "    .dataframe tbody tr th {\n",
       "        vertical-align: top;\n",
       "    }\n",
       "\n",
       "    .dataframe thead th {\n",
       "        text-align: right;\n",
       "    }\n",
       "</style>\n",
       "<table border=\"1\" class=\"dataframe\">\n",
       "  <thead>\n",
       "    <tr style=\"text-align: right;\">\n",
       "      <th></th>\n",
       "      <th>Nombre</th>\n",
       "      <th>Edad</th>\n",
       "    </tr>\n",
       "  </thead>\n",
       "  <tbody>\n",
       "    <tr>\n",
       "      <th>Padre</th>\n",
       "      <td>Marco</td>\n",
       "      <td>49</td>\n",
       "    </tr>\n",
       "    <tr>\n",
       "      <th>Hijo</th>\n",
       "      <td>Joseph</td>\n",
       "      <td>16</td>\n",
       "    </tr>\n",
       "  </tbody>\n",
       "</table>\n",
       "</div>"
      ],
      "text/plain": [
       "       Nombre  Edad\n",
       "Padre   Marco    49\n",
       "Hijo   Joseph    16"
      ]
     },
     "execution_count": 31,
     "metadata": {},
     "output_type": "execute_result"
    }
   ],
   "source": [
    "\n",
    "# Eliminar la columna 'Salario'\n",
    "#df = df.drop('Salario', axis=1)\n",
    "df\n",
    "\n"
   ]
  },
  {
   "cell_type": "markdown",
   "id": "67ad51be",
   "metadata": {},
   "source": [
    "\n",
    "### 3. **Manejo de Valores Nulos y Duplicados**\n",
    "\n",
    "#### 3.1 Manejo de Valores Nulos\n",
    "A veces, los `DataFrames` contienen valores nulos (`NaN`). Es importante saber cómo identificarlos y manejarlos.\n",
    "\n",
    "- **Identificación de valores nulos**: Usa `isnull()` o `notnull()` para identificar valores nulos.\n",
    "  \n"
   ]
  },
  {
   "cell_type": "code",
   "execution_count": 55,
   "id": "818890f0",
   "metadata": {},
   "outputs": [
    {
     "data": {
      "text/html": [
       "<div>\n",
       "<style scoped>\n",
       "    .dataframe tbody tr th:only-of-type {\n",
       "        vertical-align: middle;\n",
       "    }\n",
       "\n",
       "    .dataframe tbody tr th {\n",
       "        vertical-align: top;\n",
       "    }\n",
       "\n",
       "    .dataframe thead th {\n",
       "        text-align: right;\n",
       "    }\n",
       "</style>\n",
       "<table border=\"1\" class=\"dataframe\">\n",
       "  <thead>\n",
       "    <tr style=\"text-align: right;\">\n",
       "      <th></th>\n",
       "      <th>index</th>\n",
       "      <th>Edad</th>\n",
       "      <th>Ciudad</th>\n",
       "    </tr>\n",
       "  </thead>\n",
       "  <tbody>\n",
       "    <tr>\n",
       "      <th>0</th>\n",
       "      <td>0</td>\n",
       "      <td>27.0</td>\n",
       "      <td>Bogotá</td>\n",
       "    </tr>\n",
       "    <tr>\n",
       "      <th>1</th>\n",
       "      <td>1</td>\n",
       "      <td>35.0</td>\n",
       "      <td>Cali</td>\n",
       "    </tr>\n",
       "    <tr>\n",
       "      <th>2</th>\n",
       "      <td>2</td>\n",
       "      <td>28.0</td>\n",
       "      <td>Barranquilla</td>\n",
       "    </tr>\n",
       "    <tr>\n",
       "      <th>3</th>\n",
       "      <td>3</td>\n",
       "      <td>22.0</td>\n",
       "      <td>Cartagena</td>\n",
       "    </tr>\n",
       "  </tbody>\n",
       "</table>\n",
       "</div>"
      ],
      "text/plain": [
       "   index  Edad        Ciudad\n",
       "0      0  27.0        Bogotá\n",
       "1      1  35.0          Cali\n",
       "2      2  28.0  Barranquilla\n",
       "3      3  22.0     Cartagena"
      ]
     },
     "execution_count": 55,
     "metadata": {},
     "output_type": "execute_result"
    }
   ],
   "source": [
    "df"
   ]
  },
  {
   "cell_type": "code",
   "execution_count": 56,
   "id": "9e2bdac5",
   "metadata": {},
   "outputs": [
    {
     "data": {
      "text/html": [
       "<div>\n",
       "<style scoped>\n",
       "    .dataframe tbody tr th:only-of-type {\n",
       "        vertical-align: middle;\n",
       "    }\n",
       "\n",
       "    .dataframe tbody tr th {\n",
       "        vertical-align: top;\n",
       "    }\n",
       "\n",
       "    .dataframe thead th {\n",
       "        text-align: right;\n",
       "    }\n",
       "</style>\n",
       "<table border=\"1\" class=\"dataframe\">\n",
       "  <thead>\n",
       "    <tr style=\"text-align: right;\">\n",
       "      <th></th>\n",
       "      <th>index</th>\n",
       "      <th>Edad</th>\n",
       "      <th>Ciudad</th>\n",
       "    </tr>\n",
       "  </thead>\n",
       "  <tbody>\n",
       "    <tr>\n",
       "      <th>0</th>\n",
       "      <td>0</td>\n",
       "      <td>27.0</td>\n",
       "      <td>Bogotá</td>\n",
       "    </tr>\n",
       "    <tr>\n",
       "      <th>1</th>\n",
       "      <td>1</td>\n",
       "      <td>NaN</td>\n",
       "      <td>Cali</td>\n",
       "    </tr>\n",
       "    <tr>\n",
       "      <th>2</th>\n",
       "      <td>2</td>\n",
       "      <td>28.0</td>\n",
       "      <td>Barranquilla</td>\n",
       "    </tr>\n",
       "    <tr>\n",
       "      <th>3</th>\n",
       "      <td>3</td>\n",
       "      <td>22.0</td>\n",
       "      <td>Cartagena</td>\n",
       "    </tr>\n",
       "  </tbody>\n",
       "</table>\n",
       "</div>"
      ],
      "text/plain": [
       "   index  Edad        Ciudad\n",
       "0      0  27.0        Bogotá\n",
       "1      1   NaN          Cali\n",
       "2      2  28.0  Barranquilla\n",
       "3      3  22.0     Cartagena"
      ]
     },
     "execution_count": 56,
     "metadata": {},
     "output_type": "execute_result"
    }
   ],
   "source": [
    "\n",
    "# Crear algunos valores nulos en el DataFrame\n",
    "df.loc[1, 'Edad'] = None\n",
    "df\n"
   ]
  },
  {
   "cell_type": "code",
   "execution_count": 34,
   "id": "01a1052e",
   "metadata": {},
   "outputs": [
    {
     "data": {
      "text/html": [
       "<div>\n",
       "<style scoped>\n",
       "    .dataframe tbody tr th:only-of-type {\n",
       "        vertical-align: middle;\n",
       "    }\n",
       "\n",
       "    .dataframe tbody tr th {\n",
       "        vertical-align: top;\n",
       "    }\n",
       "\n",
       "    .dataframe thead th {\n",
       "        text-align: right;\n",
       "    }\n",
       "</style>\n",
       "<table border=\"1\" class=\"dataframe\">\n",
       "  <thead>\n",
       "    <tr style=\"text-align: right;\">\n",
       "      <th></th>\n",
       "      <th>Nombre</th>\n",
       "      <th>Edad</th>\n",
       "    </tr>\n",
       "  </thead>\n",
       "  <tbody>\n",
       "    <tr>\n",
       "      <th>Padre</th>\n",
       "      <td>False</td>\n",
       "      <td>False</td>\n",
       "    </tr>\n",
       "    <tr>\n",
       "      <th>Hijo</th>\n",
       "      <td>False</td>\n",
       "      <td>False</td>\n",
       "    </tr>\n",
       "  </tbody>\n",
       "</table>\n",
       "</div>"
      ],
      "text/plain": [
       "       Nombre   Edad\n",
       "Padre   False  False\n",
       "Hijo    False  False"
      ]
     },
     "execution_count": 34,
     "metadata": {},
     "output_type": "execute_result"
    }
   ],
   "source": [
    "\n",
    "# Verificar si hay valores nulos\n",
    "df.isnull() # esto genera un dataframe de valores booleanos donde True indica un valor nulo\n",
    "\n"
   ]
  },
  {
   "cell_type": "code",
   "execution_count": 33,
   "id": "65bc2168",
   "metadata": {},
   "outputs": [
    {
     "data": {
      "text/html": [
       "<div>\n",
       "<style scoped>\n",
       "    .dataframe tbody tr th:only-of-type {\n",
       "        vertical-align: middle;\n",
       "    }\n",
       "\n",
       "    .dataframe tbody tr th {\n",
       "        vertical-align: top;\n",
       "    }\n",
       "\n",
       "    .dataframe thead th {\n",
       "        text-align: right;\n",
       "    }\n",
       "</style>\n",
       "<table border=\"1\" class=\"dataframe\">\n",
       "  <thead>\n",
       "    <tr style=\"text-align: right;\">\n",
       "      <th></th>\n",
       "      <th>Nombre</th>\n",
       "      <th>Edad</th>\n",
       "    </tr>\n",
       "  </thead>\n",
       "  <tbody>\n",
       "    <tr>\n",
       "      <th>Padre</th>\n",
       "      <td>True</td>\n",
       "      <td>True</td>\n",
       "    </tr>\n",
       "    <tr>\n",
       "      <th>Hijo</th>\n",
       "      <td>True</td>\n",
       "      <td>True</td>\n",
       "    </tr>\n",
       "  </tbody>\n",
       "</table>\n",
       "</div>"
      ],
      "text/plain": [
       "       Nombre  Edad\n",
       "Padre    True  True\n",
       "Hijo     True  True"
      ]
     },
     "execution_count": 33,
     "metadata": {},
     "output_type": "execute_result"
    }
   ],
   "source": [
    "df.notnull() "
   ]
  },
  {
   "cell_type": "markdown",
   "id": "31a2ba90",
   "metadata": {},
   "source": [
    "\n",
    "- **Eliminar valores nulos**: Usa `dropna()` para eliminar filas o columnas con valores nulos.\n"
   ]
  },
  {
   "cell_type": "code",
   "execution_count": 32,
   "id": "6c553667",
   "metadata": {},
   "outputs": [
    {
     "data": {
      "text/html": [
       "<div>\n",
       "<style scoped>\n",
       "    .dataframe tbody tr th:only-of-type {\n",
       "        vertical-align: middle;\n",
       "    }\n",
       "\n",
       "    .dataframe tbody tr th {\n",
       "        vertical-align: top;\n",
       "    }\n",
       "\n",
       "    .dataframe thead th {\n",
       "        text-align: right;\n",
       "    }\n",
       "</style>\n",
       "<table border=\"1\" class=\"dataframe\">\n",
       "  <thead>\n",
       "    <tr style=\"text-align: right;\">\n",
       "      <th></th>\n",
       "      <th>Nombre</th>\n",
       "      <th>Edad</th>\n",
       "    </tr>\n",
       "  </thead>\n",
       "  <tbody>\n",
       "    <tr>\n",
       "      <th>Padre</th>\n",
       "      <td>Marco</td>\n",
       "      <td>49</td>\n",
       "    </tr>\n",
       "    <tr>\n",
       "      <th>Hijo</th>\n",
       "      <td>Joseph</td>\n",
       "      <td>16</td>\n",
       "    </tr>\n",
       "  </tbody>\n",
       "</table>\n",
       "</div>"
      ],
      "text/plain": [
       "       Nombre  Edad\n",
       "Padre   Marco    49\n",
       "Hijo   Joseph    16"
      ]
     },
     "execution_count": 32,
     "metadata": {},
     "output_type": "execute_result"
    }
   ],
   "source": [
    "\n",
    "# Eliminar filas con valores nulos\n",
    "df.dropna(subset = ['Edad'], inplace= True)\n",
    "df \n",
    "\n"
   ]
  },
  {
   "cell_type": "code",
   "execution_count": 60,
   "id": "a722d366",
   "metadata": {},
   "outputs": [
    {
     "data": {
      "text/html": [
       "<div>\n",
       "<style scoped>\n",
       "    .dataframe tbody tr th:only-of-type {\n",
       "        vertical-align: middle;\n",
       "    }\n",
       "\n",
       "    .dataframe tbody tr th {\n",
       "        vertical-align: top;\n",
       "    }\n",
       "\n",
       "    .dataframe thead th {\n",
       "        text-align: right;\n",
       "    }\n",
       "</style>\n",
       "<table border=\"1\" class=\"dataframe\">\n",
       "  <thead>\n",
       "    <tr style=\"text-align: right;\">\n",
       "      <th></th>\n",
       "      <th>index</th>\n",
       "      <th>Edad</th>\n",
       "      <th>Ciudad</th>\n",
       "    </tr>\n",
       "  </thead>\n",
       "  <tbody>\n",
       "    <tr>\n",
       "      <th>0</th>\n",
       "      <td>0</td>\n",
       "      <td>27.0</td>\n",
       "      <td>Bogotá</td>\n",
       "    </tr>\n",
       "    <tr>\n",
       "      <th>1</th>\n",
       "      <td>2</td>\n",
       "      <td>28.0</td>\n",
       "      <td>Barranquilla</td>\n",
       "    </tr>\n",
       "    <tr>\n",
       "      <th>2</th>\n",
       "      <td>3</td>\n",
       "      <td>22.0</td>\n",
       "      <td>Cartagena</td>\n",
       "    </tr>\n",
       "  </tbody>\n",
       "</table>\n",
       "</div>"
      ],
      "text/plain": [
       "   index  Edad        Ciudad\n",
       "0      0  27.0        Bogotá\n",
       "1      2  28.0  Barranquilla\n",
       "2      3  22.0     Cartagena"
      ]
     },
     "execution_count": 60,
     "metadata": {},
     "output_type": "execute_result"
    }
   ],
   "source": [
    "df.reset_index( drop = True, inplace=True) # Reset the index to get a clean DataFrame\n",
    "df "
   ]
  },
  {
   "cell_type": "markdown",
   "id": "dfb98c27",
   "metadata": {},
   "source": [
    "\n",
    "- **Rellenar valores nulos**: Usa `fillna()` para reemplazar valores nulos con un valor específico.\n"
   ]
  },
  {
   "cell_type": "code",
   "execution_count": null,
   "id": "62ed1bed",
   "metadata": {},
   "outputs": [],
   "source": [
    "\n",
    "\n",
    "# Rellenar valores nulos en 'Edad' con el valor promedio de la columna\n",
    "df['Edad'] = df['Edad'].fillna(df['Edad'].mean())\n",
    "df\n"
   ]
  },
  {
   "cell_type": "markdown",
   "id": "4cd2ed9b",
   "metadata": {},
   "source": [
    "\n",
    "#### 3.2 Manejo de Datos Duplicados\n",
    "Es posible que en un `DataFrame` haya filas duplicadas. Pandas proporciona herramientas para identificarlas y eliminarlas.\n",
    "\n",
    "- **Identificar duplicados**: Usa `duplicated()` para ver qué filas están duplicadas.\n"
   ]
  },
  {
   "cell_type": "code",
   "execution_count": 61,
   "id": "387651af",
   "metadata": {},
   "outputs": [
    {
     "data": {
      "text/html": [
       "<div>\n",
       "<style scoped>\n",
       "    .dataframe tbody tr th:only-of-type {\n",
       "        vertical-align: middle;\n",
       "    }\n",
       "\n",
       "    .dataframe tbody tr th {\n",
       "        vertical-align: top;\n",
       "    }\n",
       "\n",
       "    .dataframe thead th {\n",
       "        text-align: right;\n",
       "    }\n",
       "</style>\n",
       "<table border=\"1\" class=\"dataframe\">\n",
       "  <thead>\n",
       "    <tr style=\"text-align: right;\">\n",
       "      <th></th>\n",
       "      <th>ID</th>\n",
       "      <th>Nombre</th>\n",
       "      <th>Edad</th>\n",
       "      <th>Ciudad</th>\n",
       "    </tr>\n",
       "  </thead>\n",
       "  <tbody>\n",
       "    <tr>\n",
       "      <th>0</th>\n",
       "      <td>1</td>\n",
       "      <td>Carlos</td>\n",
       "      <td>25</td>\n",
       "      <td>Bogotá</td>\n",
       "    </tr>\n",
       "    <tr>\n",
       "      <th>1</th>\n",
       "      <td>2</td>\n",
       "      <td>Ana</td>\n",
       "      <td>30</td>\n",
       "      <td>Medellín</td>\n",
       "    </tr>\n",
       "    <tr>\n",
       "      <th>2</th>\n",
       "      <td>3</td>\n",
       "      <td>Pedro</td>\n",
       "      <td>35</td>\n",
       "      <td>Cali</td>\n",
       "    </tr>\n",
       "    <tr>\n",
       "      <th>3</th>\n",
       "      <td>4</td>\n",
       "      <td>Maria</td>\n",
       "      <td>28</td>\n",
       "      <td>Barranquilla</td>\n",
       "    </tr>\n",
       "    <tr>\n",
       "      <th>4</th>\n",
       "      <td>5</td>\n",
       "      <td>Luis</td>\n",
       "      <td>22</td>\n",
       "      <td>Cartagena</td>\n",
       "    </tr>\n",
       "  </tbody>\n",
       "</table>\n",
       "</div>"
      ],
      "text/plain": [
       "   ID  Nombre  Edad        Ciudad\n",
       "0   1  Carlos    25        Bogotá\n",
       "1   2     Ana    30      Medellín\n",
       "2   3   Pedro    35          Cali\n",
       "3   4   Maria    28  Barranquilla\n",
       "4   5    Luis    22     Cartagena"
      ]
     },
     "execution_count": 61,
     "metadata": {},
     "output_type": "execute_result"
    }
   ],
   "source": [
    "\n",
    "\n",
    "import pandas as pd\n",
    "\n",
    "# Ejemplo de DataFrame\n",
    "data = {\n",
    "    'ID': [1, 2, 3, 4, 5],\n",
    "    'Nombre': ['Carlos', 'Ana', 'Pedro', 'Maria', 'Luis'],\n",
    "    'Edad': [25, 30, 35, 28, 22],\n",
    "    'Ciudad': ['Bogotá', 'Medellín', 'Cali', 'Barranquilla', 'Cartagena']\n",
    "}\n",
    "df = pd.DataFrame(data)\n",
    "df \n"
   ]
  },
  {
   "cell_type": "code",
   "execution_count": 65,
   "id": "98c4ed0d",
   "metadata": {},
   "outputs": [],
   "source": [
    "fila_nueva = df.iloc[[-1]]"
   ]
  },
  {
   "cell_type": "code",
   "execution_count": 68,
   "id": "b8f0a50b",
   "metadata": {},
   "outputs": [
    {
     "data": {
      "text/plain": [
       "(   ID  Nombre  Edad        Ciudad\n",
       " 0   1  Carlos    25        Bogotá\n",
       " 1   2     Ana    30      Medellín\n",
       " 2   3   Pedro    35          Cali\n",
       " 3   4   Maria    28  Barranquilla\n",
       " 4   5    Luis    22     Cartagena,\n",
       "    ID Nombre  Edad     Ciudad\n",
       " 4   5   Luis    22  Cartagena)"
      ]
     },
     "execution_count": 68,
     "metadata": {},
     "output_type": "execute_result"
    }
   ],
   "source": [
    "df, fila_nueva "
   ]
  },
  {
   "cell_type": "code",
   "execution_count": 73,
   "id": "ca59eca0",
   "metadata": {},
   "outputs": [
    {
     "data": {
      "text/html": [
       "<div>\n",
       "<style scoped>\n",
       "    .dataframe tbody tr th:only-of-type {\n",
       "        vertical-align: middle;\n",
       "    }\n",
       "\n",
       "    .dataframe tbody tr th {\n",
       "        vertical-align: top;\n",
       "    }\n",
       "\n",
       "    .dataframe thead th {\n",
       "        text-align: right;\n",
       "    }\n",
       "</style>\n",
       "<table border=\"1\" class=\"dataframe\">\n",
       "  <thead>\n",
       "    <tr style=\"text-align: right;\">\n",
       "      <th></th>\n",
       "      <th>ID</th>\n",
       "      <th>Nombre</th>\n",
       "      <th>Edad</th>\n",
       "      <th>Ciudad</th>\n",
       "    </tr>\n",
       "  </thead>\n",
       "  <tbody>\n",
       "    <tr>\n",
       "      <th>0</th>\n",
       "      <td>1</td>\n",
       "      <td>Carlos</td>\n",
       "      <td>25</td>\n",
       "      <td>Bogotá</td>\n",
       "    </tr>\n",
       "    <tr>\n",
       "      <th>1</th>\n",
       "      <td>2</td>\n",
       "      <td>Ana</td>\n",
       "      <td>30</td>\n",
       "      <td>Medellín</td>\n",
       "    </tr>\n",
       "    <tr>\n",
       "      <th>2</th>\n",
       "      <td>3</td>\n",
       "      <td>Pedro</td>\n",
       "      <td>35</td>\n",
       "      <td>Cali</td>\n",
       "    </tr>\n",
       "    <tr>\n",
       "      <th>3</th>\n",
       "      <td>4</td>\n",
       "      <td>Maria</td>\n",
       "      <td>28</td>\n",
       "      <td>Barranquilla</td>\n",
       "    </tr>\n",
       "    <tr>\n",
       "      <th>4</th>\n",
       "      <td>5</td>\n",
       "      <td>Luis</td>\n",
       "      <td>22</td>\n",
       "      <td>Cartagena</td>\n",
       "    </tr>\n",
       "    <tr>\n",
       "      <th>5</th>\n",
       "      <td>5</td>\n",
       "      <td>Luis</td>\n",
       "      <td>22</td>\n",
       "      <td>Cartagena</td>\n",
       "    </tr>\n",
       "  </tbody>\n",
       "</table>\n",
       "</div>"
      ],
      "text/plain": [
       "   ID  Nombre  Edad        Ciudad\n",
       "0   1  Carlos    25        Bogotá\n",
       "1   2     Ana    30      Medellín\n",
       "2   3   Pedro    35          Cali\n",
       "3   4   Maria    28  Barranquilla\n",
       "4   5    Luis    22     Cartagena\n",
       "5   5    Luis    22     Cartagena"
      ]
     },
     "execution_count": 73,
     "metadata": {},
     "output_type": "execute_result"
    }
   ],
   "source": [
    "pd.concat([df, fila_nueva], axis = 0, ignore_index=True)"
   ]
  },
  {
   "cell_type": "code",
   "execution_count": null,
   "id": "bd80b35f",
   "metadata": {},
   "outputs": [],
   "source": [
    "fila_nueva = df.iloc[[-1]] # doble corchete para mantener la estructura de dataframa \n",
    "df = pd.concat([df, fila_nueva], ignore_index=True)\n",
    "df \n"
   ]
  },
  {
   "cell_type": "markdown",
   "id": "48fcd17b",
   "metadata": {},
   "source": [
    "\n",
    "- **Eliminar duplicados**: Usa `drop_duplicates()` para eliminar filas duplicadas.\n"
   ]
  },
  {
   "cell_type": "code",
   "execution_count": 74,
   "id": "5ee07d44",
   "metadata": {},
   "outputs": [
    {
     "data": {
      "text/html": [
       "<div>\n",
       "<style scoped>\n",
       "    .dataframe tbody tr th:only-of-type {\n",
       "        vertical-align: middle;\n",
       "    }\n",
       "\n",
       "    .dataframe tbody tr th {\n",
       "        vertical-align: top;\n",
       "    }\n",
       "\n",
       "    .dataframe thead th {\n",
       "        text-align: right;\n",
       "    }\n",
       "</style>\n",
       "<table border=\"1\" class=\"dataframe\">\n",
       "  <thead>\n",
       "    <tr style=\"text-align: right;\">\n",
       "      <th></th>\n",
       "      <th>ID</th>\n",
       "      <th>Nombre</th>\n",
       "      <th>Edad</th>\n",
       "      <th>Ciudad</th>\n",
       "    </tr>\n",
       "  </thead>\n",
       "  <tbody>\n",
       "    <tr>\n",
       "      <th>0</th>\n",
       "      <td>1</td>\n",
       "      <td>Carlos</td>\n",
       "      <td>25</td>\n",
       "      <td>Bogotá</td>\n",
       "    </tr>\n",
       "    <tr>\n",
       "      <th>1</th>\n",
       "      <td>2</td>\n",
       "      <td>Ana</td>\n",
       "      <td>30</td>\n",
       "      <td>Medellín</td>\n",
       "    </tr>\n",
       "    <tr>\n",
       "      <th>2</th>\n",
       "      <td>3</td>\n",
       "      <td>Pedro</td>\n",
       "      <td>35</td>\n",
       "      <td>Cali</td>\n",
       "    </tr>\n",
       "    <tr>\n",
       "      <th>3</th>\n",
       "      <td>4</td>\n",
       "      <td>Maria</td>\n",
       "      <td>28</td>\n",
       "      <td>Barranquilla</td>\n",
       "    </tr>\n",
       "    <tr>\n",
       "      <th>4</th>\n",
       "      <td>5</td>\n",
       "      <td>Luis</td>\n",
       "      <td>22</td>\n",
       "      <td>Cartagena</td>\n",
       "    </tr>\n",
       "  </tbody>\n",
       "</table>\n",
       "</div>"
      ],
      "text/plain": [
       "   ID  Nombre  Edad        Ciudad\n",
       "0   1  Carlos    25        Bogotá\n",
       "1   2     Ana    30      Medellín\n",
       "2   3   Pedro    35          Cali\n",
       "3   4   Maria    28  Barranquilla\n",
       "4   5    Luis    22     Cartagena"
      ]
     },
     "execution_count": 74,
     "metadata": {},
     "output_type": "execute_result"
    }
   ],
   "source": [
    "\n",
    "# Eliminar filas duplicadas\n",
    "df_sin_duplicados = df.drop_duplicates()\n",
    "df_sin_duplicados\n"
   ]
  },
  {
   "cell_type": "code",
   "execution_count": null,
   "id": "b4bc4be9",
   "metadata": {},
   "outputs": [],
   "source": [
    "df "
   ]
  },
  {
   "cell_type": "markdown",
   "id": "7db7c87c",
   "metadata": {},
   "source": [
    "\n",
    "---\n"
   ]
  },
  {
   "cell_type": "markdown",
   "id": "b6cfb548",
   "metadata": {},
   "source": [
    "\n",
    "### Ejercicio Propuesto\n",
    "\n",
    "1. **Crear y Modificar un DataFrame**: Crea un `DataFrame` de ejemplo con los datos de estudiantes (ID, Nombre, Edad, Carrera).\n",
    "2. **Filtrar Datos**: Selecciona solo los estudiantes mayores de 20 años.\n",
    "3. **Añadir y Eliminar Columnas**: Agrega una columna con los promedios de los estudiantes y luego elimínala.\n",
    "4. **Manejo de Valores Nulos y Duplicados**: Introduce un valor nulo en una columna, rellénalo con un valor predeterminado y luego elimina las filas duplicadas en el `DataFrame`.\n"
   ]
  },
  {
   "cell_type": "markdown",
   "id": "8d09456e",
   "metadata": {},
   "source": [
    "\n",
    "---\n",
    "\n",
    "### Conclusión\n",
    "\n",
    "La manipulación de datos en Pandas te permite seleccionar, modificar, y limpiar datos de manera flexible y eficiente. En esta clase aprendiste a seleccionar y filtrar datos, a crear y eliminar columnas, y a manejar valores nulos y duplicados, que son habilidades fundamentales para el análisis de datos.\n",
    "\n",
    "Para la siguiente clase, podríamos enfocarnos en **agrupar y resumir datos**, lo que te ayudará a realizar análisis más avanzados en tus `DataFrames`."
   ]
  },
  {
   "cell_type": "markdown",
   "id": "b409d6dd",
   "metadata": {},
   "source": [
    "[Video de apoyo a la lectura hasta aquí](https://www.youtube.com/watch?v=hdtipduaggo)  \n"
   ]
  },
  {
   "cell_type": "markdown",
   "id": "75e9e9fc",
   "metadata": {},
   "source": [
    "\n",
    "4. **Operaciones de Limpieza y Transformación de Datos**\n",
    "   - Métodos para limpiar datos y eliminar registros incompletos.\n",
    "   - Transformación de tipos de datos.\n",
    "   - Uso de funciones como `apply()`, `groupby()`, y `merge()`.\n"
   ]
  },
  {
   "cell_type": "markdown",
   "id": "f4875717",
   "metadata": {},
   "source": [
    "Aquí tienes la cuarta parte de la clase sobre la estructura de datos `DataFrame` con el contenido de **Operaciones de Limpieza y Transformación de Datos**:\n",
    "\n",
    "---\n"
   ]
  },
  {
   "cell_type": "markdown",
   "id": "8caf570d",
   "metadata": {},
   "source": [
    "\n",
    "## 4. **Operaciones de Limpieza y Transformación de Datos**\n"
   ]
  },
  {
   "cell_type": "markdown",
   "id": "cec6a90a",
   "metadata": {},
   "source": [
    "\n",
    "La limpieza y transformación de datos son pasos esenciales cuando trabajamos con `DataFrames` en `pandas`. "
   ]
  },
  {
   "cell_type": "markdown",
   "id": "e8ba998d",
   "metadata": {},
   "source": [
    "Estas operaciones permiten preparar los datos para análisis más precisos y robustos. En esta sección, aprenderemos a limpiar, transformar, y manipular los datos utilizando métodos clave de `pandas`.\n"
   ]
  },
  {
   "cell_type": "markdown",
   "id": "cf3912a4",
   "metadata": {},
   "source": [
    "\n",
    "### 4.1 Métodos para Limpiar Datos y Eliminar Registros Incompletos\n"
   ]
  },
  {
   "cell_type": "markdown",
   "id": "6971ac73",
   "metadata": {},
   "source": [
    "\n",
    "La limpieza de datos implica manejar valores nulos o duplicados y eliminar registros que no cumplen con ciertos criterios.\n",
    "\n",
    "- **Eliminar valores nulos**: Podemos usar `.dropna()` para eliminar filas o columnas con valores nulos.\n"
   ]
  },
  {
   "cell_type": "code",
   "execution_count": 36,
   "id": "24c217c2",
   "metadata": {},
   "outputs": [],
   "source": [
    "import pandas as pd\n"
   ]
  },
  {
   "cell_type": "code",
   "execution_count": 35,
   "id": "8e3fadb8",
   "metadata": {},
   "outputs": [
    {
     "data": {
      "text/html": [
       "<div>\n",
       "<style scoped>\n",
       "    .dataframe tbody tr th:only-of-type {\n",
       "        vertical-align: middle;\n",
       "    }\n",
       "\n",
       "    .dataframe tbody tr th {\n",
       "        vertical-align: top;\n",
       "    }\n",
       "\n",
       "    .dataframe thead th {\n",
       "        text-align: right;\n",
       "    }\n",
       "</style>\n",
       "<table border=\"1\" class=\"dataframe\">\n",
       "  <thead>\n",
       "    <tr style=\"text-align: right;\">\n",
       "      <th></th>\n",
       "      <th>A</th>\n",
       "      <th>B</th>\n",
       "    </tr>\n",
       "  </thead>\n",
       "  <tbody>\n",
       "    <tr>\n",
       "      <th>0</th>\n",
       "      <td>1</td>\n",
       "      <td>NaN</td>\n",
       "    </tr>\n",
       "    <tr>\n",
       "      <th>1</th>\n",
       "      <td>1</td>\n",
       "      <td>2.0</td>\n",
       "    </tr>\n",
       "    <tr>\n",
       "      <th>2</th>\n",
       "      <td>3</td>\n",
       "      <td>NaN</td>\n",
       "    </tr>\n",
       "    <tr>\n",
       "      <th>3</th>\n",
       "      <td>4</td>\n",
       "      <td>5.0</td>\n",
       "    </tr>\n",
       "    <tr>\n",
       "      <th>4</th>\n",
       "      <td>3</td>\n",
       "      <td>2.0</td>\n",
       "    </tr>\n",
       "  </tbody>\n",
       "</table>\n",
       "</div>"
      ],
      "text/plain": [
       "   A    B\n",
       "0  1  NaN\n",
       "1  1  2.0\n",
       "2  3  NaN\n",
       "3  4  5.0\n",
       "4  3  2.0"
      ]
     },
     "execution_count": 35,
     "metadata": {},
     "output_type": "execute_result"
    }
   ],
   "source": [
    "\n",
    "df = pd.DataFrame({\n",
    "      'A': [1, 1, 3, 4, 3],\n",
    "      'B': [None, 2, None, 5, 2]\n",
    "  })\n",
    "\n",
    "df "
   ]
  },
  {
   "cell_type": "code",
   "execution_count": 37,
   "id": "3db810d6",
   "metadata": {},
   "outputs": [
    {
     "data": {
      "text/html": [
       "<div>\n",
       "<style scoped>\n",
       "    .dataframe tbody tr th:only-of-type {\n",
       "        vertical-align: middle;\n",
       "    }\n",
       "\n",
       "    .dataframe tbody tr th {\n",
       "        vertical-align: top;\n",
       "    }\n",
       "\n",
       "    .dataframe thead th {\n",
       "        text-align: right;\n",
       "    }\n",
       "</style>\n",
       "<table border=\"1\" class=\"dataframe\">\n",
       "  <thead>\n",
       "    <tr style=\"text-align: right;\">\n",
       "      <th></th>\n",
       "      <th>A</th>\n",
       "      <th>B</th>\n",
       "    </tr>\n",
       "  </thead>\n",
       "  <tbody>\n",
       "    <tr>\n",
       "      <th>1</th>\n",
       "      <td>1</td>\n",
       "      <td>2.0</td>\n",
       "    </tr>\n",
       "    <tr>\n",
       "      <th>3</th>\n",
       "      <td>4</td>\n",
       "      <td>5.0</td>\n",
       "    </tr>\n",
       "    <tr>\n",
       "      <th>4</th>\n",
       "      <td>3</td>\n",
       "      <td>2.0</td>\n",
       "    </tr>\n",
       "  </tbody>\n",
       "</table>\n",
       "</div>"
      ],
      "text/plain": [
       "   A    B\n",
       "1  1  2.0\n",
       "3  4  5.0\n",
       "4  3  2.0"
      ]
     },
     "execution_count": 37,
     "metadata": {},
     "output_type": "execute_result"
    }
   ],
   "source": [
    "\n",
    "  # Eliminar filas con valores nulos\n",
    "df_sin_filas_nulos = df.dropna()\n",
    "df_sin_filas_nulos"
   ]
  },
  {
   "cell_type": "code",
   "execution_count": 38,
   "id": "2c392f8e",
   "metadata": {},
   "outputs": [
    {
     "data": {
      "text/html": [
       "<div>\n",
       "<style scoped>\n",
       "    .dataframe tbody tr th:only-of-type {\n",
       "        vertical-align: middle;\n",
       "    }\n",
       "\n",
       "    .dataframe tbody tr th {\n",
       "        vertical-align: top;\n",
       "    }\n",
       "\n",
       "    .dataframe thead th {\n",
       "        text-align: right;\n",
       "    }\n",
       "</style>\n",
       "<table border=\"1\" class=\"dataframe\">\n",
       "  <thead>\n",
       "    <tr style=\"text-align: right;\">\n",
       "      <th></th>\n",
       "      <th>A</th>\n",
       "    </tr>\n",
       "  </thead>\n",
       "  <tbody>\n",
       "    <tr>\n",
       "      <th>0</th>\n",
       "      <td>1</td>\n",
       "    </tr>\n",
       "    <tr>\n",
       "      <th>1</th>\n",
       "      <td>1</td>\n",
       "    </tr>\n",
       "    <tr>\n",
       "      <th>2</th>\n",
       "      <td>3</td>\n",
       "    </tr>\n",
       "    <tr>\n",
       "      <th>3</th>\n",
       "      <td>4</td>\n",
       "    </tr>\n",
       "    <tr>\n",
       "      <th>4</th>\n",
       "      <td>3</td>\n",
       "    </tr>\n",
       "  </tbody>\n",
       "</table>\n",
       "</div>"
      ],
      "text/plain": [
       "   A\n",
       "0  1\n",
       "1  1\n",
       "2  3\n",
       "3  4\n",
       "4  3"
      ]
     },
     "execution_count": 38,
     "metadata": {},
     "output_type": "execute_result"
    }
   ],
   "source": [
    "\n",
    "  # Eliminar columnas con valores nulos\n",
    "df_sin_nulos_columnas = df.dropna(axis=1)\n",
    "df_sin_nulos_columnas \n"
   ]
  },
  {
   "cell_type": "markdown",
   "id": "e2b078cf",
   "metadata": {},
   "source": [
    "\n",
    "- **Rellenar valores nulos**: Utilizamos `.fillna()` para reemplazar los valores nulos con un valor específico, como la media, mediana, o un valor constante.\n"
   ]
  },
  {
   "cell_type": "code",
   "execution_count": 39,
   "id": "5e8e5f69",
   "metadata": {},
   "outputs": [
    {
     "data": {
      "text/html": [
       "<div>\n",
       "<style scoped>\n",
       "    .dataframe tbody tr th:only-of-type {\n",
       "        vertical-align: middle;\n",
       "    }\n",
       "\n",
       "    .dataframe tbody tr th {\n",
       "        vertical-align: top;\n",
       "    }\n",
       "\n",
       "    .dataframe thead th {\n",
       "        text-align: right;\n",
       "    }\n",
       "</style>\n",
       "<table border=\"1\" class=\"dataframe\">\n",
       "  <thead>\n",
       "    <tr style=\"text-align: right;\">\n",
       "      <th></th>\n",
       "      <th>A</th>\n",
       "      <th>B</th>\n",
       "    </tr>\n",
       "  </thead>\n",
       "  <tbody>\n",
       "    <tr>\n",
       "      <th>0</th>\n",
       "      <td>1</td>\n",
       "      <td>0.0</td>\n",
       "    </tr>\n",
       "    <tr>\n",
       "      <th>1</th>\n",
       "      <td>1</td>\n",
       "      <td>2.0</td>\n",
       "    </tr>\n",
       "    <tr>\n",
       "      <th>2</th>\n",
       "      <td>3</td>\n",
       "      <td>0.0</td>\n",
       "    </tr>\n",
       "    <tr>\n",
       "      <th>3</th>\n",
       "      <td>4</td>\n",
       "      <td>5.0</td>\n",
       "    </tr>\n",
       "    <tr>\n",
       "      <th>4</th>\n",
       "      <td>3</td>\n",
       "      <td>2.0</td>\n",
       "    </tr>\n",
       "  </tbody>\n",
       "</table>\n",
       "</div>"
      ],
      "text/plain": [
       "   A    B\n",
       "0  1  0.0\n",
       "1  1  2.0\n",
       "2  3  0.0\n",
       "3  4  5.0\n",
       "4  3  2.0"
      ]
     },
     "execution_count": 39,
     "metadata": {},
     "output_type": "execute_result"
    }
   ],
   "source": [
    "df_rellenado = df.fillna(0)  # Rellenar valores nulos con 0\n",
    "\n",
    "df_rellenado "
   ]
  },
  {
   "cell_type": "markdown",
   "id": "08748ef7",
   "metadata": {},
   "source": [
    "\n",
    "- **Eliminar duplicados**: `.drop_duplicates()` elimina las filas duplicadas en el `DataFrame`.\n"
   ]
  },
  {
   "cell_type": "code",
   "execution_count": 6,
   "id": "52110c58",
   "metadata": {},
   "outputs": [
    {
     "data": {
      "text/html": [
       "<div>\n",
       "<style scoped>\n",
       "    .dataframe tbody tr th:only-of-type {\n",
       "        vertical-align: middle;\n",
       "    }\n",
       "\n",
       "    .dataframe tbody tr th {\n",
       "        vertical-align: top;\n",
       "    }\n",
       "\n",
       "    .dataframe thead th {\n",
       "        text-align: right;\n",
       "    }\n",
       "</style>\n",
       "<table border=\"1\" class=\"dataframe\">\n",
       "  <thead>\n",
       "    <tr style=\"text-align: right;\">\n",
       "      <th></th>\n",
       "      <th>A</th>\n",
       "      <th>B</th>\n",
       "    </tr>\n",
       "  </thead>\n",
       "  <tbody>\n",
       "    <tr>\n",
       "      <th>0</th>\n",
       "      <td>1.0</td>\n",
       "      <td>NaN</td>\n",
       "    </tr>\n",
       "    <tr>\n",
       "      <th>1</th>\n",
       "      <td>NaN</td>\n",
       "      <td>2.0</td>\n",
       "    </tr>\n",
       "    <tr>\n",
       "      <th>2</th>\n",
       "      <td>3.0</td>\n",
       "      <td>NaN</td>\n",
       "    </tr>\n",
       "    <tr>\n",
       "      <th>3</th>\n",
       "      <td>4.0</td>\n",
       "      <td>5.0</td>\n",
       "    </tr>\n",
       "  </tbody>\n",
       "</table>\n",
       "</div>"
      ],
      "text/plain": [
       "     A    B\n",
       "0  1.0  NaN\n",
       "1  NaN  2.0\n",
       "2  3.0  NaN\n",
       "3  4.0  5.0"
      ]
     },
     "execution_count": 6,
     "metadata": {},
     "output_type": "execute_result"
    }
   ],
   "source": [
    "df_sin_duplicados = df.drop_duplicates()\n",
    "\n",
    "df_sin_duplicados "
   ]
  },
  {
   "cell_type": "markdown",
   "id": "70a4f079",
   "metadata": {},
   "source": [
    "\n",
    "### 4.2 Transformación de Tipos de Datos\n",
    "\n",
    "En ocasiones, es necesario transformar los tipos de datos de las columnas para facilitar cálculos y análisis. "
   ]
  },
  {
   "cell_type": "markdown",
   "id": "0c5b26e2",
   "metadata": {},
   "source": [
    "Por ejemplo, convertir datos de texto a numéricos o fechas.\n",
    "\n",
    "- **Convertir a otro tipo de datos**: Para cambiar el tipo de datos de una columna, usamos `.astype()`.\n"
   ]
  },
  {
   "cell_type": "code",
   "execution_count": 40,
   "id": "dd5c9b18",
   "metadata": {},
   "outputs": [
    {
     "data": {
      "text/html": [
       "<div>\n",
       "<style scoped>\n",
       "    .dataframe tbody tr th:only-of-type {\n",
       "        vertical-align: middle;\n",
       "    }\n",
       "\n",
       "    .dataframe tbody tr th {\n",
       "        vertical-align: top;\n",
       "    }\n",
       "\n",
       "    .dataframe thead th {\n",
       "        text-align: right;\n",
       "    }\n",
       "</style>\n",
       "<table border=\"1\" class=\"dataframe\">\n",
       "  <thead>\n",
       "    <tr style=\"text-align: right;\">\n",
       "      <th></th>\n",
       "      <th>A</th>\n",
       "      <th>B</th>\n",
       "    </tr>\n",
       "  </thead>\n",
       "  <tbody>\n",
       "    <tr>\n",
       "      <th>0</th>\n",
       "      <td>1</td>\n",
       "      <td>0.0</td>\n",
       "    </tr>\n",
       "    <tr>\n",
       "      <th>1</th>\n",
       "      <td>1</td>\n",
       "      <td>2.0</td>\n",
       "    </tr>\n",
       "    <tr>\n",
       "      <th>2</th>\n",
       "      <td>3</td>\n",
       "      <td>0.0</td>\n",
       "    </tr>\n",
       "    <tr>\n",
       "      <th>3</th>\n",
       "      <td>4</td>\n",
       "      <td>5.0</td>\n",
       "    </tr>\n",
       "    <tr>\n",
       "      <th>4</th>\n",
       "      <td>3</td>\n",
       "      <td>2.0</td>\n",
       "    </tr>\n",
       "  </tbody>\n",
       "</table>\n",
       "</div>"
      ],
      "text/plain": [
       "   A    B\n",
       "0  1  0.0\n",
       "1  1  2.0\n",
       "2  3  0.0\n",
       "3  4  5.0\n",
       "4  3  2.0"
      ]
     },
     "execution_count": 40,
     "metadata": {},
     "output_type": "execute_result"
    }
   ],
   "source": [
    "df_rellenado = df.fillna(0)\n",
    "df_rellenado['A'] = df_rellenado['A'].astype(int)  # Convertir la columna 'A' a tipo float\n",
    "df_rellenado \n"
   ]
  },
  {
   "cell_type": "code",
   "execution_count": 41,
   "id": "fc7fb1c1",
   "metadata": {},
   "outputs": [
    {
     "data": {
      "text/html": [
       "<div>\n",
       "<style scoped>\n",
       "    .dataframe tbody tr th:only-of-type {\n",
       "        vertical-align: middle;\n",
       "    }\n",
       "\n",
       "    .dataframe tbody tr th {\n",
       "        vertical-align: top;\n",
       "    }\n",
       "\n",
       "    .dataframe thead th {\n",
       "        text-align: right;\n",
       "    }\n",
       "</style>\n",
       "<table border=\"1\" class=\"dataframe\">\n",
       "  <thead>\n",
       "    <tr style=\"text-align: right;\">\n",
       "      <th></th>\n",
       "      <th>A</th>\n",
       "      <th>B</th>\n",
       "    </tr>\n",
       "  </thead>\n",
       "  <tbody>\n",
       "    <tr>\n",
       "      <th>0</th>\n",
       "      <td>1</td>\n",
       "      <td>NaN</td>\n",
       "    </tr>\n",
       "    <tr>\n",
       "      <th>1</th>\n",
       "      <td>1</td>\n",
       "      <td>2.0</td>\n",
       "    </tr>\n",
       "    <tr>\n",
       "      <th>2</th>\n",
       "      <td>3</td>\n",
       "      <td>NaN</td>\n",
       "    </tr>\n",
       "    <tr>\n",
       "      <th>3</th>\n",
       "      <td>4</td>\n",
       "      <td>5.0</td>\n",
       "    </tr>\n",
       "    <tr>\n",
       "      <th>4</th>\n",
       "      <td>3</td>\n",
       "      <td>2.0</td>\n",
       "    </tr>\n",
       "  </tbody>\n",
       "</table>\n",
       "</div>"
      ],
      "text/plain": [
       "   A    B\n",
       "0  1  NaN\n",
       "1  1  2.0\n",
       "2  3  NaN\n",
       "3  4  5.0\n",
       "4  3  2.0"
      ]
     },
     "execution_count": 41,
     "metadata": {},
     "output_type": "execute_result"
    }
   ],
   "source": [
    "df "
   ]
  },
  {
   "cell_type": "markdown",
   "id": "478dca11",
   "metadata": {},
   "source": [
    "\n",
    "- **Convertir cadenas a fechas**: Si tenemos fechas en formato de texto, podemos convertirlas a tipo `datetime` con `pd.to_datetime()`.\n"
   ]
  },
  {
   "cell_type": "code",
   "execution_count": 44,
   "id": "a7708848",
   "metadata": {},
   "outputs": [
    {
     "data": {
      "text/html": [
       "<div>\n",
       "<style scoped>\n",
       "    .dataframe tbody tr th:only-of-type {\n",
       "        vertical-align: middle;\n",
       "    }\n",
       "\n",
       "    .dataframe tbody tr th {\n",
       "        vertical-align: top;\n",
       "    }\n",
       "\n",
       "    .dataframe thead th {\n",
       "        text-align: right;\n",
       "    }\n",
       "</style>\n",
       "<table border=\"1\" class=\"dataframe\">\n",
       "  <thead>\n",
       "    <tr style=\"text-align: right;\">\n",
       "      <th></th>\n",
       "      <th>A</th>\n",
       "      <th>B</th>\n",
       "      <th>fecha</th>\n",
       "      <th>Fecha</th>\n",
       "    </tr>\n",
       "  </thead>\n",
       "  <tbody>\n",
       "    <tr>\n",
       "      <th>0</th>\n",
       "      <td>1</td>\n",
       "      <td>NaN</td>\n",
       "      <td>12/11/2024</td>\n",
       "      <td>12/11/2024</td>\n",
       "    </tr>\n",
       "    <tr>\n",
       "      <th>1</th>\n",
       "      <td>1</td>\n",
       "      <td>2.0</td>\n",
       "      <td>13/11/2024</td>\n",
       "      <td>13/11/2024</td>\n",
       "    </tr>\n",
       "    <tr>\n",
       "      <th>2</th>\n",
       "      <td>3</td>\n",
       "      <td>NaN</td>\n",
       "      <td>14/11/2024</td>\n",
       "      <td>14/11/2024</td>\n",
       "    </tr>\n",
       "    <tr>\n",
       "      <th>3</th>\n",
       "      <td>4</td>\n",
       "      <td>5.0</td>\n",
       "      <td>15/11/2024</td>\n",
       "      <td>15/11/2024</td>\n",
       "    </tr>\n",
       "    <tr>\n",
       "      <th>4</th>\n",
       "      <td>3</td>\n",
       "      <td>2.0</td>\n",
       "      <td>16/11/2024</td>\n",
       "      <td>16/11/2024</td>\n",
       "    </tr>\n",
       "  </tbody>\n",
       "</table>\n",
       "</div>"
      ],
      "text/plain": [
       "   A    B       fecha       Fecha\n",
       "0  1  NaN  12/11/2024  12/11/2024\n",
       "1  1  2.0  13/11/2024  13/11/2024\n",
       "2  3  NaN  14/11/2024  14/11/2024\n",
       "3  4  5.0  15/11/2024  15/11/2024\n",
       "4  3  2.0  16/11/2024  16/11/2024"
      ]
     },
     "execution_count": 44,
     "metadata": {},
     "output_type": "execute_result"
    }
   ],
   "source": [
    "df['Fecha'] = ['12/11/2024', '13/11/2024', '14/11/2024', '15/11/2024', '16/11/2024']\n",
    "df \n"
   ]
  },
  {
   "cell_type": "code",
   "execution_count": 45,
   "id": "b0bf867a",
   "metadata": {},
   "outputs": [
    {
     "name": "stdout",
     "output_type": "stream",
     "text": [
      "<class 'pandas.core.frame.DataFrame'>\n",
      "RangeIndex: 5 entries, 0 to 4\n",
      "Data columns (total 4 columns):\n",
      " #   Column  Non-Null Count  Dtype  \n",
      "---  ------  --------------  -----  \n",
      " 0   A       5 non-null      int64  \n",
      " 1   B       3 non-null      float64\n",
      " 2   fecha   5 non-null      object \n",
      " 3   Fecha   5 non-null      object \n",
      "dtypes: float64(1), int64(1), object(2)\n",
      "memory usage: 292.0+ bytes\n"
     ]
    }
   ],
   "source": [
    "df.info() "
   ]
  },
  {
   "cell_type": "code",
   "execution_count": 46,
   "id": "25ae1565",
   "metadata": {},
   "outputs": [
    {
     "data": {
      "text/html": [
       "<div>\n",
       "<style scoped>\n",
       "    .dataframe tbody tr th:only-of-type {\n",
       "        vertical-align: middle;\n",
       "    }\n",
       "\n",
       "    .dataframe tbody tr th {\n",
       "        vertical-align: top;\n",
       "    }\n",
       "\n",
       "    .dataframe thead th {\n",
       "        text-align: right;\n",
       "    }\n",
       "</style>\n",
       "<table border=\"1\" class=\"dataframe\">\n",
       "  <thead>\n",
       "    <tr style=\"text-align: right;\">\n",
       "      <th></th>\n",
       "      <th>A</th>\n",
       "      <th>B</th>\n",
       "      <th>fecha</th>\n",
       "      <th>Fecha</th>\n",
       "    </tr>\n",
       "  </thead>\n",
       "  <tbody>\n",
       "    <tr>\n",
       "      <th>0</th>\n",
       "      <td>1</td>\n",
       "      <td>NaN</td>\n",
       "      <td>2024-11-12</td>\n",
       "      <td>12/11/2024</td>\n",
       "    </tr>\n",
       "    <tr>\n",
       "      <th>1</th>\n",
       "      <td>1</td>\n",
       "      <td>2.0</td>\n",
       "      <td>2024-11-13</td>\n",
       "      <td>13/11/2024</td>\n",
       "    </tr>\n",
       "    <tr>\n",
       "      <th>2</th>\n",
       "      <td>3</td>\n",
       "      <td>NaN</td>\n",
       "      <td>2024-11-14</td>\n",
       "      <td>14/11/2024</td>\n",
       "    </tr>\n",
       "    <tr>\n",
       "      <th>3</th>\n",
       "      <td>4</td>\n",
       "      <td>5.0</td>\n",
       "      <td>2024-11-15</td>\n",
       "      <td>15/11/2024</td>\n",
       "    </tr>\n",
       "    <tr>\n",
       "      <th>4</th>\n",
       "      <td>3</td>\n",
       "      <td>2.0</td>\n",
       "      <td>2024-11-16</td>\n",
       "      <td>16/11/2024</td>\n",
       "    </tr>\n",
       "  </tbody>\n",
       "</table>\n",
       "</div>"
      ],
      "text/plain": [
       "   A    B      fecha       Fecha\n",
       "0  1  NaN 2024-11-12  12/11/2024\n",
       "1  1  2.0 2024-11-13  13/11/2024\n",
       "2  3  NaN 2024-11-14  14/11/2024\n",
       "3  4  5.0 2024-11-15  15/11/2024\n",
       "4  3  2.0 2024-11-16  16/11/2024"
      ]
     },
     "execution_count": 46,
     "metadata": {},
     "output_type": "execute_result"
    }
   ],
   "source": [
    "\n",
    "df['fecha'] = pd.to_datetime(df['fecha'], format = '%d/%m/%Y')\n",
    "\n",
    "df "
   ]
  },
  {
   "cell_type": "code",
   "execution_count": 48,
   "id": "fbd07b4e",
   "metadata": {},
   "outputs": [
    {
     "name": "stdout",
     "output_type": "stream",
     "text": [
      "<class 'pandas.core.frame.DataFrame'>\n",
      "RangeIndex: 5 entries, 0 to 4\n",
      "Data columns (total 4 columns):\n",
      " #   Column  Non-Null Count  Dtype         \n",
      "---  ------  --------------  -----         \n",
      " 0   A       5 non-null      int64         \n",
      " 1   B       3 non-null      float64       \n",
      " 2   fecha   5 non-null      datetime64[ns]\n",
      " 3   Fecha   5 non-null      object        \n",
      "dtypes: datetime64[ns](1), float64(1), int64(1), object(1)\n",
      "memory usage: 292.0+ bytes\n"
     ]
    }
   ],
   "source": [
    "df.info() "
   ]
  },
  {
   "cell_type": "markdown",
   "id": "b1fc448e",
   "metadata": {},
   "source": [
    "\n",
    "# 4.3 Uso de Funciones como `apply()`, `groupby()`, y `merge()`\n"
   ]
  },
  {
   "cell_type": "markdown",
   "id": "96e7e184",
   "metadata": {},
   "source": [
    "\n",
    "Estas funciones permiten realizar operaciones avanzadas y manipulación de datos en un `DataFrame`.\n"
   ]
  },
  {
   "cell_type": "markdown",
   "id": "557e4454",
   "metadata": {},
   "source": [
    "\n",
    "- **`apply()`**: Permite aplicar una función a cada elemento de una columna o fila. Es muy útil para realizar transformaciones personalizadas.\n"
   ]
  },
  {
   "cell_type": "code",
   "execution_count": 1,
   "id": "f5bb71ae",
   "metadata": {},
   "outputs": [
    {
     "data": {
      "text/html": [
       "<div>\n",
       "<style scoped>\n",
       "    .dataframe tbody tr th:only-of-type {\n",
       "        vertical-align: middle;\n",
       "    }\n",
       "\n",
       "    .dataframe tbody tr th {\n",
       "        vertical-align: top;\n",
       "    }\n",
       "\n",
       "    .dataframe thead th {\n",
       "        text-align: right;\n",
       "    }\n",
       "</style>\n",
       "<table border=\"1\" class=\"dataframe\">\n",
       "  <thead>\n",
       "    <tr style=\"text-align: right;\">\n",
       "      <th></th>\n",
       "      <th>A</th>\n",
       "      <th>B</th>\n",
       "    </tr>\n",
       "  </thead>\n",
       "  <tbody>\n",
       "    <tr>\n",
       "      <th>0</th>\n",
       "      <td>1</td>\n",
       "      <td>NaN</td>\n",
       "    </tr>\n",
       "    <tr>\n",
       "      <th>1</th>\n",
       "      <td>1</td>\n",
       "      <td>2.0</td>\n",
       "    </tr>\n",
       "    <tr>\n",
       "      <th>2</th>\n",
       "      <td>3</td>\n",
       "      <td>NaN</td>\n",
       "    </tr>\n",
       "    <tr>\n",
       "      <th>3</th>\n",
       "      <td>4</td>\n",
       "      <td>5.0</td>\n",
       "    </tr>\n",
       "    <tr>\n",
       "      <th>4</th>\n",
       "      <td>3</td>\n",
       "      <td>2.0</td>\n",
       "    </tr>\n",
       "  </tbody>\n",
       "</table>\n",
       "</div>"
      ],
      "text/plain": [
       "   A    B\n",
       "0  1  NaN\n",
       "1  1  2.0\n",
       "2  3  NaN\n",
       "3  4  5.0\n",
       "4  3  2.0"
      ]
     },
     "execution_count": 1,
     "metadata": {},
     "output_type": "execute_result"
    }
   ],
   "source": [
    "import pandas as pd  \n",
    "df = pd.DataFrame({\n",
    "      'A': [1, 1, 3, 4, 3],\n",
    "      'B': [None, 2, None, 5, 2]\n",
    "  })\n",
    "\n",
    "df "
   ]
  },
  {
   "cell_type": "code",
   "execution_count": 7,
   "id": "61a89b73",
   "metadata": {},
   "outputs": [
    {
     "data": {
      "text/html": [
       "<div>\n",
       "<style scoped>\n",
       "    .dataframe tbody tr th:only-of-type {\n",
       "        vertical-align: middle;\n",
       "    }\n",
       "\n",
       "    .dataframe tbody tr th {\n",
       "        vertical-align: top;\n",
       "    }\n",
       "\n",
       "    .dataframe thead th {\n",
       "        text-align: right;\n",
       "    }\n",
       "</style>\n",
       "<table border=\"1\" class=\"dataframe\">\n",
       "  <thead>\n",
       "    <tr style=\"text-align: right;\">\n",
       "      <th></th>\n",
       "      <th>A</th>\n",
       "      <th>B</th>\n",
       "    </tr>\n",
       "  </thead>\n",
       "  <tbody>\n",
       "    <tr>\n",
       "      <th>0</th>\n",
       "      <td>2</td>\n",
       "      <td>NaN</td>\n",
       "    </tr>\n",
       "    <tr>\n",
       "      <th>1</th>\n",
       "      <td>2</td>\n",
       "      <td>4.0</td>\n",
       "    </tr>\n",
       "    <tr>\n",
       "      <th>2</th>\n",
       "      <td>6</td>\n",
       "      <td>NaN</td>\n",
       "    </tr>\n",
       "    <tr>\n",
       "      <th>3</th>\n",
       "      <td>8</td>\n",
       "      <td>10.0</td>\n",
       "    </tr>\n",
       "    <tr>\n",
       "      <th>4</th>\n",
       "      <td>6</td>\n",
       "      <td>4.0</td>\n",
       "    </tr>\n",
       "  </tbody>\n",
       "</table>\n",
       "</div>"
      ],
      "text/plain": [
       "   A     B\n",
       "0  2   NaN\n",
       "1  2   4.0\n",
       "2  6   NaN\n",
       "3  8  10.0\n",
       "4  6   4.0"
      ]
     },
     "execution_count": 7,
     "metadata": {},
     "output_type": "execute_result"
    }
   ],
   "source": [
    " # Aplicar una función para incrementar cada valor de la columna 'A' en 10\n",
    "df['B'] = df['B'].apply(lambda x: 2*x)\n",
    "df "
   ]
  },
  {
   "cell_type": "code",
   "execution_count": 2,
   "id": "112ca418",
   "metadata": {},
   "outputs": [],
   "source": [
    "f = lambda x,y:x+y"
   ]
  },
  {
   "cell_type": "code",
   "execution_count": 3,
   "id": "3f19badc",
   "metadata": {},
   "outputs": [
    {
     "data": {
      "text/plain": [
       "3"
      ]
     },
     "execution_count": 3,
     "metadata": {},
     "output_type": "execute_result"
    }
   ],
   "source": [
    "f(1,2) "
   ]
  },
  {
   "cell_type": "code",
   "execution_count": 4,
   "id": "653179b1",
   "metadata": {},
   "outputs": [],
   "source": [
    "def f_(a,b):\n",
    "    return a**2 + b**2"
   ]
  },
  {
   "cell_type": "code",
   "execution_count": 5,
   "id": "b1e6f21e",
   "metadata": {},
   "outputs": [
    {
     "data": {
      "text/plain": [
       "5"
      ]
     },
     "execution_count": 5,
     "metadata": {},
     "output_type": "execute_result"
    }
   ],
   "source": [
    "f_(1,2)"
   ]
  },
  {
   "cell_type": "code",
   "execution_count": 52,
   "id": "825d2897",
   "metadata": {},
   "outputs": [
    {
     "data": {
      "text/html": [
       "<div>\n",
       "<style scoped>\n",
       "    .dataframe tbody tr th:only-of-type {\n",
       "        vertical-align: middle;\n",
       "    }\n",
       "\n",
       "    .dataframe tbody tr th {\n",
       "        vertical-align: top;\n",
       "    }\n",
       "\n",
       "    .dataframe thead th {\n",
       "        text-align: right;\n",
       "    }\n",
       "</style>\n",
       "<table border=\"1\" class=\"dataframe\">\n",
       "  <thead>\n",
       "    <tr style=\"text-align: right;\">\n",
       "      <th></th>\n",
       "      <th>A</th>\n",
       "      <th>B</th>\n",
       "    </tr>\n",
       "  </thead>\n",
       "  <tbody>\n",
       "    <tr>\n",
       "      <th>0</th>\n",
       "      <td>11</td>\n",
       "      <td>NaN</td>\n",
       "    </tr>\n",
       "    <tr>\n",
       "      <th>1</th>\n",
       "      <td>11</td>\n",
       "      <td>2.0</td>\n",
       "    </tr>\n",
       "    <tr>\n",
       "      <th>2</th>\n",
       "      <td>13</td>\n",
       "      <td>NaN</td>\n",
       "    </tr>\n",
       "    <tr>\n",
       "      <th>3</th>\n",
       "      <td>14</td>\n",
       "      <td>5.0</td>\n",
       "    </tr>\n",
       "    <tr>\n",
       "      <th>4</th>\n",
       "      <td>13</td>\n",
       "      <td>2.0</td>\n",
       "    </tr>\n",
       "  </tbody>\n",
       "</table>\n",
       "</div>"
      ],
      "text/plain": [
       "    A    B\n",
       "0  11  NaN\n",
       "1  11  2.0\n",
       "2  13  NaN\n",
       "3  14  5.0\n",
       "4  13  2.0"
      ]
     },
     "execution_count": 52,
     "metadata": {},
     "output_type": "execute_result"
    }
   ],
   "source": [
    "\n",
    "df "
   ]
  },
  {
   "cell_type": "markdown",
   "id": "93132ebb",
   "metadata": {},
   "source": [
    "\n",
    "- **`groupby()`**: Agrupa los datos según una columna y permite realizar cálculos agregados, como `sum()`, `mean()`, etc.\n"
   ]
  },
  {
   "cell_type": "code",
   "execution_count": 8,
   "id": "84d074e7",
   "metadata": {},
   "outputs": [
    {
     "data": {
      "text/html": [
       "<div>\n",
       "<style scoped>\n",
       "    .dataframe tbody tr th:only-of-type {\n",
       "        vertical-align: middle;\n",
       "    }\n",
       "\n",
       "    .dataframe tbody tr th {\n",
       "        vertical-align: top;\n",
       "    }\n",
       "\n",
       "    .dataframe thead th {\n",
       "        text-align: right;\n",
       "    }\n",
       "</style>\n",
       "<table border=\"1\" class=\"dataframe\">\n",
       "  <thead>\n",
       "    <tr style=\"text-align: right;\">\n",
       "      <th></th>\n",
       "      <th>A</th>\n",
       "      <th>B</th>\n",
       "    </tr>\n",
       "  </thead>\n",
       "  <tbody>\n",
       "    <tr>\n",
       "      <th>0</th>\n",
       "      <td>2</td>\n",
       "      <td>NaN</td>\n",
       "    </tr>\n",
       "    <tr>\n",
       "      <th>1</th>\n",
       "      <td>2</td>\n",
       "      <td>4.0</td>\n",
       "    </tr>\n",
       "    <tr>\n",
       "      <th>2</th>\n",
       "      <td>6</td>\n",
       "      <td>NaN</td>\n",
       "    </tr>\n",
       "    <tr>\n",
       "      <th>3</th>\n",
       "      <td>8</td>\n",
       "      <td>10.0</td>\n",
       "    </tr>\n",
       "    <tr>\n",
       "      <th>4</th>\n",
       "      <td>6</td>\n",
       "      <td>4.0</td>\n",
       "    </tr>\n",
       "  </tbody>\n",
       "</table>\n",
       "</div>"
      ],
      "text/plain": [
       "   A     B\n",
       "0  2   NaN\n",
       "1  2   4.0\n",
       "2  6   NaN\n",
       "3  8  10.0\n",
       "4  6   4.0"
      ]
     },
     "execution_count": 8,
     "metadata": {},
     "output_type": "execute_result"
    }
   ],
   "source": [
    "df"
   ]
  },
  {
   "cell_type": "code",
   "execution_count": 9,
   "id": "ee8913da",
   "metadata": {},
   "outputs": [
    {
     "data": {
      "text/plain": [
       "B\n",
       "4.0     8\n",
       "10.0    8\n",
       "Name: A, dtype: int64"
      ]
     },
     "execution_count": 9,
     "metadata": {},
     "output_type": "execute_result"
    }
   ],
   "source": [
    "# Agrupar por la columna 'B' y calcular la suma de 'A' en cada grupo\n",
    "df_agrupado = df.groupby('B')['A'].sum()\n",
    "df_agrupado \n"
   ]
  },
  {
   "cell_type": "markdown",
   "id": "13789c39",
   "metadata": {},
   "source": [
    "\n",
    "- **`merge()`**: Combina dos `DataFrames` en uno solo, similar a una unión en bases de datos. "
   ]
  },
  {
   "cell_type": "markdown",
   "id": "c96ab027",
   "metadata": {},
   "source": [
    "Es útil cuando se tienen conjuntos de datos separados que necesitan integrarse.\n"
   ]
  },
  {
   "cell_type": "code",
   "execution_count": 13,
   "id": "04e362e7",
   "metadata": {},
   "outputs": [
    {
     "data": {
      "text/html": [
       "<div>\n",
       "<style scoped>\n",
       "    .dataframe tbody tr th:only-of-type {\n",
       "        vertical-align: middle;\n",
       "    }\n",
       "\n",
       "    .dataframe tbody tr th {\n",
       "        vertical-align: top;\n",
       "    }\n",
       "\n",
       "    .dataframe thead th {\n",
       "        text-align: right;\n",
       "    }\n",
       "</style>\n",
       "<table border=\"1\" class=\"dataframe\">\n",
       "  <thead>\n",
       "    <tr style=\"text-align: right;\">\n",
       "      <th></th>\n",
       "      <th>ID</th>\n",
       "      <th>Valor</th>\n",
       "    </tr>\n",
       "  </thead>\n",
       "  <tbody>\n",
       "    <tr>\n",
       "      <th>0</th>\n",
       "      <td>1</td>\n",
       "      <td>A</td>\n",
       "    </tr>\n",
       "    <tr>\n",
       "      <th>1</th>\n",
       "      <td>2</td>\n",
       "      <td>B</td>\n",
       "    </tr>\n",
       "  </tbody>\n",
       "</table>\n",
       "</div>"
      ],
      "text/plain": [
       "   ID Valor\n",
       "0   1     A\n",
       "1   2     B"
      ]
     },
     "execution_count": 13,
     "metadata": {},
     "output_type": "execute_result"
    }
   ],
   "source": [
    "df1 = pd.DataFrame({'ID': [1, 2], 'Valor': ['A', 'B']})\n",
    "df1 "
   ]
  },
  {
   "cell_type": "code",
   "execution_count": 17,
   "id": "675d99e4",
   "metadata": {},
   "outputs": [
    {
     "data": {
      "text/html": [
       "<div>\n",
       "<style scoped>\n",
       "    .dataframe tbody tr th:only-of-type {\n",
       "        vertical-align: middle;\n",
       "    }\n",
       "\n",
       "    .dataframe tbody tr th {\n",
       "        vertical-align: top;\n",
       "    }\n",
       "\n",
       "    .dataframe thead th {\n",
       "        text-align: right;\n",
       "    }\n",
       "</style>\n",
       "<table border=\"1\" class=\"dataframe\">\n",
       "  <thead>\n",
       "    <tr style=\"text-align: right;\">\n",
       "      <th></th>\n",
       "      <th>ID</th>\n",
       "      <th>Cantidad</th>\n",
       "    </tr>\n",
       "  </thead>\n",
       "  <tbody>\n",
       "    <tr>\n",
       "      <th>0</th>\n",
       "      <td>1</td>\n",
       "      <td>10</td>\n",
       "    </tr>\n",
       "    <tr>\n",
       "      <th>1</th>\n",
       "      <td>2</td>\n",
       "      <td>20</td>\n",
       "    </tr>\n",
       "  </tbody>\n",
       "</table>\n",
       "</div>"
      ],
      "text/plain": [
       "   ID  Cantidad\n",
       "0   1        10\n",
       "1   2        20"
      ]
     },
     "execution_count": 17,
     "metadata": {},
     "output_type": "execute_result"
    }
   ],
   "source": [
    "df2 = pd.DataFrame({'ID': [1, 2], 'Cantidad': [10, 20]})\n",
    "df2 \n"
   ]
  },
  {
   "cell_type": "code",
   "execution_count": 18,
   "id": "ed2ab4f1",
   "metadata": {},
   "outputs": [
    {
     "data": {
      "text/html": [
       "<div>\n",
       "<style scoped>\n",
       "    .dataframe tbody tr th:only-of-type {\n",
       "        vertical-align: middle;\n",
       "    }\n",
       "\n",
       "    .dataframe tbody tr th {\n",
       "        vertical-align: top;\n",
       "    }\n",
       "\n",
       "    .dataframe thead th {\n",
       "        text-align: right;\n",
       "    }\n",
       "</style>\n",
       "<table border=\"1\" class=\"dataframe\">\n",
       "  <thead>\n",
       "    <tr style=\"text-align: right;\">\n",
       "      <th></th>\n",
       "      <th>ID</th>\n",
       "      <th>Valor</th>\n",
       "      <th>Cantidad</th>\n",
       "    </tr>\n",
       "  </thead>\n",
       "  <tbody>\n",
       "    <tr>\n",
       "      <th>0</th>\n",
       "      <td>1</td>\n",
       "      <td>A</td>\n",
       "      <td>10</td>\n",
       "    </tr>\n",
       "    <tr>\n",
       "      <th>1</th>\n",
       "      <td>2</td>\n",
       "      <td>B</td>\n",
       "      <td>20</td>\n",
       "    </tr>\n",
       "  </tbody>\n",
       "</table>\n",
       "</div>"
      ],
      "text/plain": [
       "   ID Valor  Cantidad\n",
       "0   1     A        10\n",
       "1   2     B        20"
      ]
     },
     "execution_count": 18,
     "metadata": {},
     "output_type": "execute_result"
    }
   ],
   "source": [
    "\n",
    "# Combinar los DataFrames en una sola tabla\n",
    "df_combinado = pd.merge(df1, df2)\n",
    "\n",
    "df_combinado "
   ]
  },
  {
   "cell_type": "code",
   "execution_count": 20,
   "id": "bb9c39a5",
   "metadata": {},
   "outputs": [],
   "source": [
    "df_concatenado = pd.concat([df1, df2])"
   ]
  },
  {
   "cell_type": "code",
   "execution_count": 21,
   "id": "17eed819",
   "metadata": {},
   "outputs": [
    {
     "data": {
      "text/html": [
       "<div>\n",
       "<style scoped>\n",
       "    .dataframe tbody tr th:only-of-type {\n",
       "        vertical-align: middle;\n",
       "    }\n",
       "\n",
       "    .dataframe tbody tr th {\n",
       "        vertical-align: top;\n",
       "    }\n",
       "\n",
       "    .dataframe thead th {\n",
       "        text-align: right;\n",
       "    }\n",
       "</style>\n",
       "<table border=\"1\" class=\"dataframe\">\n",
       "  <thead>\n",
       "    <tr style=\"text-align: right;\">\n",
       "      <th></th>\n",
       "      <th>ID</th>\n",
       "      <th>Valor</th>\n",
       "      <th>Cantidad</th>\n",
       "    </tr>\n",
       "  </thead>\n",
       "  <tbody>\n",
       "    <tr>\n",
       "      <th>0</th>\n",
       "      <td>1</td>\n",
       "      <td>A</td>\n",
       "      <td>NaN</td>\n",
       "    </tr>\n",
       "    <tr>\n",
       "      <th>1</th>\n",
       "      <td>2</td>\n",
       "      <td>B</td>\n",
       "      <td>NaN</td>\n",
       "    </tr>\n",
       "    <tr>\n",
       "      <th>0</th>\n",
       "      <td>1</td>\n",
       "      <td>NaN</td>\n",
       "      <td>10.0</td>\n",
       "    </tr>\n",
       "    <tr>\n",
       "      <th>1</th>\n",
       "      <td>2</td>\n",
       "      <td>NaN</td>\n",
       "      <td>20.0</td>\n",
       "    </tr>\n",
       "  </tbody>\n",
       "</table>\n",
       "</div>"
      ],
      "text/plain": [
       "   ID Valor  Cantidad\n",
       "0   1     A       NaN\n",
       "1   2     B       NaN\n",
       "0   1   NaN      10.0\n",
       "1   2   NaN      20.0"
      ]
     },
     "execution_count": 21,
     "metadata": {},
     "output_type": "execute_result"
    }
   ],
   "source": [
    "df_concatenado"
   ]
  },
  {
   "cell_type": "markdown",
   "id": "a4cd8b71",
   "metadata": {},
   "source": [
    "\n",
    "### Resumen\n"
   ]
  },
  {
   "cell_type": "markdown",
   "id": "16f28804",
   "metadata": {},
   "source": [
    "\n",
    "Las operaciones de limpieza y transformación de datos en `pandas` son cruciales para el análisis de datos, permitiéndonos preparar los datos y mejorar su calidad. "
   ]
  },
  {
   "cell_type": "markdown",
   "id": "74b8b0bf",
   "metadata": {},
   "source": [
    "Los métodos `apply()`, `groupby()`, y `merge()` son especialmente útiles para realizar cálculos personalizados, agrupar y combinar datos.\n",
    "\n",
    "--- \n"
   ]
  },
  {
   "cell_type": "markdown",
   "id": "e76a846f",
   "metadata": {},
   "source": [
    "\n",
    "Este contenido abarca los aspectos clave en la limpieza y transformación de datos con `DataFrame`, cubriendo los métodos y funciones esenciales de `pandas`."
   ]
  },
  {
   "cell_type": "markdown",
   "id": "16b2284b",
   "metadata": {},
   "source": [
    "[Video de apoyo sobre la funciones apply() groupby() y merge() de Pandas](https://www.youtube.com/watch?v=_xeaOVq0Qqs)"
   ]
  },
  {
   "cell_type": "markdown",
   "id": "7cd38f3f",
   "metadata": {},
   "source": [
    "\n",
    "# 5. **Preparación de Datos para los algoritmos de Machine Learning**\n"
   ]
  },
  {
   "cell_type": "markdown",
   "id": "ce28451b",
   "metadata": {},
   "source": [
    "- Normalización y estandarización de datos numéricos.\n",
    "- Codificación de variables categóricas.\n",
    "- División de los datos en conjuntos de entrenamiento y prueba.\n"
   ]
  },
  {
   "cell_type": "markdown",
   "id": "626252cc",
   "metadata": {},
   "source": [
    "Esta es la quinta parte de una clase sobre la estructura de datos `DataFrame` de pandas enfocada en la preparación de datos para Machine Learning. "
   ]
  },
  {
   "cell_type": "markdown",
   "id": "a7653d57",
   "metadata": {},
   "source": [
    "\n",
    "## 5. **Preparación de Datos para Machine Learning**\n"
   ]
  },
  {
   "cell_type": "markdown",
   "id": "3c5a0e9a",
   "metadata": {},
   "source": [
    "\n",
    "Al trabajar con modelos de Machine Learning, la calidad y estructura de los datos son esenciales para obtener buenos resultados. "
   ]
  },
  {
   "cell_type": "markdown",
   "id": "bcee4279",
   "metadata": {},
   "source": [
    "Pandas proporciona funciones que ayudan a preprocesar los datos, adaptándolos al formato y escala que los modelos necesitan. "
   ]
  },
  {
   "cell_type": "markdown",
   "id": "992248e9",
   "metadata": {},
   "source": [
    "En esta sección, abordaremos tres pasos clave en el preprocesamiento de datos para Machine Learning.\n",
    "\n",
    "---\n"
   ]
  },
  {
   "cell_type": "markdown",
   "id": "bac5b08b",
   "metadata": {},
   "source": [
    "\n",
    "#### 5.1 **Normalización y Estandarización de Datos Numéricos**\n"
   ]
  },
  {
   "cell_type": "markdown",
   "id": "84ea89bf",
   "metadata": {},
   "source": [
    "\n",
    "La normalización y la estandarización son técnicas comunes para escalar los datos, lo cual es crucial cuando se trabaja con algoritmos de Machine Learning que son sensibles a las escalas de las variables, como los modelos basados en distancias (ej., K-Nearest Neighbors) y redes neuronales.\n"
   ]
  },
  {
   "cell_type": "markdown",
   "id": "297c5f12",
   "metadata": {},
   "source": [
    "\n",
    "1. **Normalización**: La normalización reescala los valores de las variables numéricas para que se encuentren dentro de un rango específico, generalmente entre 0 y 1. "
   ]
  },
  {
   "cell_type": "markdown",
   "id": "0a303cb5",
   "metadata": {},
   "source": [
    "Esto se hace restando el valor mínimo y dividiendo entre el rango de los datos.\n",
    "  "
   ]
  },
  {
   "cell_type": "code",
   "execution_count": 20,
   "id": "ee6a17c9",
   "metadata": {},
   "outputs": [],
   "source": [
    "from sklearn.preprocessing import MinMaxScaler\n",
    "\n",
    "# Aplicar normalización\n",
    "scaler = MinMaxScaler() # instanciando la clase \n"
   ]
  },
  {
   "cell_type": "code",
   "execution_count": 36,
   "id": "8f0b620c",
   "metadata": {},
   "outputs": [],
   "source": [
    "df = obtener_datos_local(r'C:\\Users\\marco\\Documentos\\docencia\\ideam\\presion_ideam/PresionAtmosferica.csv')"
   ]
  },
  {
   "cell_type": "code",
   "execution_count": 37,
   "id": "df50fe42",
   "metadata": {},
   "outputs": [
    {
     "data": {
      "text/html": [
       "<div>\n",
       "<style scoped>\n",
       "    .dataframe tbody tr th:only-of-type {\n",
       "        vertical-align: middle;\n",
       "    }\n",
       "\n",
       "    .dataframe tbody tr th {\n",
       "        vertical-align: top;\n",
       "    }\n",
       "\n",
       "    .dataframe thead th {\n",
       "        text-align: right;\n",
       "    }\n",
       "</style>\n",
       "<table border=\"1\" class=\"dataframe\">\n",
       "  <thead>\n",
       "    <tr style=\"text-align: right;\">\n",
       "      <th></th>\n",
       "      <th>CodigoEstacion</th>\n",
       "      <th>CodigoSensor</th>\n",
       "      <th>FechaObservacion</th>\n",
       "      <th>ValorObservado</th>\n",
       "      <th>NombreEstacion</th>\n",
       "      <th>Departamento</th>\n",
       "      <th>Municipio</th>\n",
       "      <th>ZonaHidrografica</th>\n",
       "      <th>Latitud</th>\n",
       "      <th>Longitud</th>\n",
       "      <th>DescripcionSensor</th>\n",
       "      <th>UnidadMedida</th>\n",
       "    </tr>\n",
       "  </thead>\n",
       "  <tbody>\n",
       "    <tr>\n",
       "      <th>0</th>\n",
       "      <td>36015020</td>\n",
       "      <td>255</td>\n",
       "      <td>10/03/2017 06:00:00 AM</td>\n",
       "      <td>992.5</td>\n",
       "      <td>EL DIAMANTE - AUT</td>\n",
       "      <td>CASANARE</td>\n",
       "      <td>PAZ DE ARIPORO</td>\n",
       "      <td>META</td>\n",
       "      <td>5.816194</td>\n",
       "      <td>-71.419833</td>\n",
       "      <td>Presión Atmosferica (1h)</td>\n",
       "      <td>HPa</td>\n",
       "    </tr>\n",
       "    <tr>\n",
       "      <th>1</th>\n",
       "      <td>21195190</td>\n",
       "      <td>255</td>\n",
       "      <td>02/14/2014 05:00:00 AM</td>\n",
       "      <td>785.2</td>\n",
       "      <td>PASCA - AUT</td>\n",
       "      <td>CUNDINAMARCA</td>\n",
       "      <td>PASCA</td>\n",
       "      <td>ALTO MAGDALENA</td>\n",
       "      <td>4.310111</td>\n",
       "      <td>-74.311750</td>\n",
       "      <td>Presión Atmosferica (1h)</td>\n",
       "      <td>HPa</td>\n",
       "    </tr>\n",
       "    <tr>\n",
       "      <th>2</th>\n",
       "      <td>21015050</td>\n",
       "      <td>255</td>\n",
       "      <td>09/27/2013 06:00:00 PM</td>\n",
       "      <td>805.3</td>\n",
       "      <td>PURACE  - AUT</td>\n",
       "      <td>HUILA</td>\n",
       "      <td>SAN AGUSTÍN</td>\n",
       "      <td>ALTO MAGDALENA</td>\n",
       "      <td>1.925917</td>\n",
       "      <td>-76.427556</td>\n",
       "      <td>Presión Atmosferica (1h)</td>\n",
       "      <td>HPa</td>\n",
       "    </tr>\n",
       "    <tr>\n",
       "      <th>3</th>\n",
       "      <td>21115010</td>\n",
       "      <td>255</td>\n",
       "      <td>11/28/2005 10:00:00 AM</td>\n",
       "      <td>958.5</td>\n",
       "      <td>DESIERTO TATACOA</td>\n",
       "      <td>HUILA</td>\n",
       "      <td>VILLAVIEJA</td>\n",
       "      <td>ALTO MAGDALENA</td>\n",
       "      <td>3.234000</td>\n",
       "      <td>-75.168000</td>\n",
       "      <td>Presión Atmosferica (1h)</td>\n",
       "      <td>HPa</td>\n",
       "    </tr>\n",
       "    <tr>\n",
       "      <th>4</th>\n",
       "      <td>28035060</td>\n",
       "      <td>255</td>\n",
       "      <td>04/08/2008 04:00:00 AM</td>\n",
       "      <td>988.7</td>\n",
       "      <td>FEDEARROZ - AUT</td>\n",
       "      <td>CESAR</td>\n",
       "      <td>VALLEDUPAR</td>\n",
       "      <td>CESAR</td>\n",
       "      <td>10.463611</td>\n",
       "      <td>-73.248056</td>\n",
       "      <td>Presión Atmosferica (1h)</td>\n",
       "      <td>HPa</td>\n",
       "    </tr>\n",
       "  </tbody>\n",
       "</table>\n",
       "</div>"
      ],
      "text/plain": [
       "   CodigoEstacion  CodigoSensor        FechaObservacion ValorObservado  \\\n",
       "0        36015020           255  10/03/2017 06:00:00 AM          992.5   \n",
       "1        21195190           255  02/14/2014 05:00:00 AM          785.2   \n",
       "2        21015050           255  09/27/2013 06:00:00 PM          805.3   \n",
       "3        21115010           255  11/28/2005 10:00:00 AM          958.5   \n",
       "4        28035060           255  04/08/2008 04:00:00 AM          988.7   \n",
       "\n",
       "      NombreEstacion  Departamento       Municipio ZonaHidrografica  \\\n",
       "0  EL DIAMANTE - AUT      CASANARE  PAZ DE ARIPORO             META   \n",
       "1        PASCA - AUT  CUNDINAMARCA           PASCA   ALTO MAGDALENA   \n",
       "2      PURACE  - AUT         HUILA     SAN AGUSTÍN   ALTO MAGDALENA   \n",
       "3   DESIERTO TATACOA         HUILA      VILLAVIEJA   ALTO MAGDALENA   \n",
       "4    FEDEARROZ - AUT         CESAR      VALLEDUPAR            CESAR   \n",
       "\n",
       "     Latitud   Longitud         DescripcionSensor UnidadMedida  \n",
       "0   5.816194 -71.419833  Presión Atmosferica (1h)          HPa  \n",
       "1   4.310111 -74.311750  Presión Atmosferica (1h)          HPa  \n",
       "2   1.925917 -76.427556  Presión Atmosferica (1h)          HPa  \n",
       "3   3.234000 -75.168000  Presión Atmosferica (1h)          HPa  \n",
       "4  10.463611 -73.248056  Presión Atmosferica (1h)          HPa  "
      ]
     },
     "execution_count": 37,
     "metadata": {},
     "output_type": "execute_result"
    }
   ],
   "source": [
    "df.head() "
   ]
  },
  {
   "cell_type": "code",
   "execution_count": 38,
   "id": "1cea73c8",
   "metadata": {},
   "outputs": [
    {
     "name": "stdout",
     "output_type": "stream",
     "text": [
      "<class 'pandas.core.frame.DataFrame'>\n",
      "RangeIndex: 24108976 entries, 0 to 24108975\n",
      "Data columns (total 12 columns):\n",
      " #   Column             Dtype  \n",
      "---  ------             -----  \n",
      " 0   CodigoEstacion     int64  \n",
      " 1   CodigoSensor       int64  \n",
      " 2   FechaObservacion   object \n",
      " 3   ValorObservado     object \n",
      " 4   NombreEstacion     object \n",
      " 5   Departamento       object \n",
      " 6   Municipio          object \n",
      " 7   ZonaHidrografica   object \n",
      " 8   Latitud            float64\n",
      " 9   Longitud           float64\n",
      " 10  DescripcionSensor  object \n",
      " 11  UnidadMedida       object \n",
      "dtypes: float64(2), int64(2), object(8)\n",
      "memory usage: 2.2+ GB\n"
     ]
    }
   ],
   "source": [
    "df.info() "
   ]
  },
  {
   "cell_type": "code",
   "execution_count": 39,
   "id": "951b0a50",
   "metadata": {},
   "outputs": [
    {
     "data": {
      "text/html": [
       "<div>\n",
       "<style scoped>\n",
       "    .dataframe tbody tr th:only-of-type {\n",
       "        vertical-align: middle;\n",
       "    }\n",
       "\n",
       "    .dataframe tbody tr th {\n",
       "        vertical-align: top;\n",
       "    }\n",
       "\n",
       "    .dataframe thead th {\n",
       "        text-align: right;\n",
       "    }\n",
       "</style>\n",
       "<table border=\"1\" class=\"dataframe\">\n",
       "  <thead>\n",
       "    <tr style=\"text-align: right;\">\n",
       "      <th></th>\n",
       "      <th>ValorObservado</th>\n",
       "    </tr>\n",
       "  </thead>\n",
       "  <tbody>\n",
       "    <tr>\n",
       "      <th>0</th>\n",
       "      <td>992.5</td>\n",
       "    </tr>\n",
       "    <tr>\n",
       "      <th>1</th>\n",
       "      <td>785.2</td>\n",
       "    </tr>\n",
       "    <tr>\n",
       "      <th>2</th>\n",
       "      <td>805.3</td>\n",
       "    </tr>\n",
       "    <tr>\n",
       "      <th>3</th>\n",
       "      <td>958.5</td>\n",
       "    </tr>\n",
       "    <tr>\n",
       "      <th>4</th>\n",
       "      <td>988.7</td>\n",
       "    </tr>\n",
       "    <tr>\n",
       "      <th>...</th>\n",
       "      <td>...</td>\n",
       "    </tr>\n",
       "    <tr>\n",
       "      <th>24108971</th>\n",
       "      <td>1,012.9</td>\n",
       "    </tr>\n",
       "    <tr>\n",
       "      <th>24108972</th>\n",
       "      <td>1,006.7</td>\n",
       "    </tr>\n",
       "    <tr>\n",
       "      <th>24108973</th>\n",
       "      <td>996.2</td>\n",
       "    </tr>\n",
       "    <tr>\n",
       "      <th>24108974</th>\n",
       "      <td>1,008.4</td>\n",
       "    </tr>\n",
       "    <tr>\n",
       "      <th>24108975</th>\n",
       "      <td>1,013.7</td>\n",
       "    </tr>\n",
       "  </tbody>\n",
       "</table>\n",
       "<p>24108976 rows × 1 columns</p>\n",
       "</div>"
      ],
      "text/plain": [
       "         ValorObservado\n",
       "0                 992.5\n",
       "1                 785.2\n",
       "2                 805.3\n",
       "3                 958.5\n",
       "4                 988.7\n",
       "...                 ...\n",
       "24108971        1,012.9\n",
       "24108972        1,006.7\n",
       "24108973          996.2\n",
       "24108974        1,008.4\n",
       "24108975        1,013.7\n",
       "\n",
       "[24108976 rows x 1 columns]"
      ]
     },
     "execution_count": 39,
     "metadata": {},
     "output_type": "execute_result"
    }
   ],
   "source": [
    "df = df[['ValorObservado']]\n",
    "df "
   ]
  },
  {
   "cell_type": "code",
   "execution_count": 40,
   "id": "b9631968",
   "metadata": {},
   "outputs": [
    {
     "data": {
      "text/html": [
       "<div>\n",
       "<style scoped>\n",
       "    .dataframe tbody tr th:only-of-type {\n",
       "        vertical-align: middle;\n",
       "    }\n",
       "\n",
       "    .dataframe tbody tr th {\n",
       "        vertical-align: top;\n",
       "    }\n",
       "\n",
       "    .dataframe thead th {\n",
       "        text-align: right;\n",
       "    }\n",
       "</style>\n",
       "<table border=\"1\" class=\"dataframe\">\n",
       "  <thead>\n",
       "    <tr style=\"text-align: right;\">\n",
       "      <th></th>\n",
       "      <th>ValorObservado</th>\n",
       "    </tr>\n",
       "  </thead>\n",
       "  <tbody>\n",
       "    <tr>\n",
       "      <th>count</th>\n",
       "      <td>24108976</td>\n",
       "    </tr>\n",
       "    <tr>\n",
       "      <th>unique</th>\n",
       "      <td>395089</td>\n",
       "    </tr>\n",
       "    <tr>\n",
       "      <th>top</th>\n",
       "      <td>1,009</td>\n",
       "    </tr>\n",
       "    <tr>\n",
       "      <th>freq</th>\n",
       "      <td>55093</td>\n",
       "    </tr>\n",
       "  </tbody>\n",
       "</table>\n",
       "</div>"
      ],
      "text/plain": [
       "       ValorObservado\n",
       "count        24108976\n",
       "unique         395089\n",
       "top             1,009\n",
       "freq            55093"
      ]
     },
     "execution_count": 40,
     "metadata": {},
     "output_type": "execute_result"
    }
   ],
   "source": [
    "df.describe() "
   ]
  },
  {
   "cell_type": "code",
   "execution_count": 41,
   "id": "f131ea0c",
   "metadata": {},
   "outputs": [
    {
     "ename": "ValueError",
     "evalue": "could not convert string to float: '1,006.7'",
     "output_type": "error",
     "traceback": [
      "\u001b[1;31m---------------------------------------------------------------------------\u001b[0m",
      "\u001b[1;31mValueError\u001b[0m                                Traceback (most recent call last)",
      "Cell \u001b[1;32mIn[41], line 2\u001b[0m\n\u001b[0;32m      1\u001b[0m \u001b[38;5;28;01mimport\u001b[39;00m \u001b[38;5;21;01mnumpy\u001b[39;00m \u001b[38;5;28;01mas\u001b[39;00m \u001b[38;5;21;01mnp\u001b[39;00m \n\u001b[1;32m----> 2\u001b[0m df \u001b[38;5;241m=\u001b[39m \u001b[43mdf\u001b[49m\u001b[38;5;241;43m.\u001b[39;49m\u001b[43mastype\u001b[49m\u001b[43m(\u001b[49m\u001b[43mnp\u001b[49m\u001b[38;5;241;43m.\u001b[39;49m\u001b[43mfloat64\u001b[49m\u001b[43m)\u001b[49m\n",
      "File \u001b[1;32mc:\\Users\\marco\\anaconda3\\Lib\\site-packages\\pandas\\core\\generic.py:6643\u001b[0m, in \u001b[0;36mNDFrame.astype\u001b[1;34m(self, dtype, copy, errors)\u001b[0m\n\u001b[0;32m   6637\u001b[0m     results \u001b[38;5;241m=\u001b[39m [\n\u001b[0;32m   6638\u001b[0m         ser\u001b[38;5;241m.\u001b[39mastype(dtype, copy\u001b[38;5;241m=\u001b[39mcopy, errors\u001b[38;5;241m=\u001b[39merrors) \u001b[38;5;28;01mfor\u001b[39;00m _, ser \u001b[38;5;129;01min\u001b[39;00m \u001b[38;5;28mself\u001b[39m\u001b[38;5;241m.\u001b[39mitems()\n\u001b[0;32m   6639\u001b[0m     ]\n\u001b[0;32m   6641\u001b[0m \u001b[38;5;28;01melse\u001b[39;00m:\n\u001b[0;32m   6642\u001b[0m     \u001b[38;5;66;03m# else, only a single dtype is given\u001b[39;00m\n\u001b[1;32m-> 6643\u001b[0m     new_data \u001b[38;5;241m=\u001b[39m \u001b[38;5;28;43mself\u001b[39;49m\u001b[38;5;241;43m.\u001b[39;49m\u001b[43m_mgr\u001b[49m\u001b[38;5;241;43m.\u001b[39;49m\u001b[43mastype\u001b[49m\u001b[43m(\u001b[49m\u001b[43mdtype\u001b[49m\u001b[38;5;241;43m=\u001b[39;49m\u001b[43mdtype\u001b[49m\u001b[43m,\u001b[49m\u001b[43m \u001b[49m\u001b[43mcopy\u001b[49m\u001b[38;5;241;43m=\u001b[39;49m\u001b[43mcopy\u001b[49m\u001b[43m,\u001b[49m\u001b[43m \u001b[49m\u001b[43merrors\u001b[49m\u001b[38;5;241;43m=\u001b[39;49m\u001b[43merrors\u001b[49m\u001b[43m)\u001b[49m\n\u001b[0;32m   6644\u001b[0m     res \u001b[38;5;241m=\u001b[39m \u001b[38;5;28mself\u001b[39m\u001b[38;5;241m.\u001b[39m_constructor_from_mgr(new_data, axes\u001b[38;5;241m=\u001b[39mnew_data\u001b[38;5;241m.\u001b[39maxes)\n\u001b[0;32m   6645\u001b[0m     \u001b[38;5;28;01mreturn\u001b[39;00m res\u001b[38;5;241m.\u001b[39m__finalize__(\u001b[38;5;28mself\u001b[39m, method\u001b[38;5;241m=\u001b[39m\u001b[38;5;124m\"\u001b[39m\u001b[38;5;124mastype\u001b[39m\u001b[38;5;124m\"\u001b[39m)\n",
      "File \u001b[1;32mc:\\Users\\marco\\anaconda3\\Lib\\site-packages\\pandas\\core\\internals\\managers.py:430\u001b[0m, in \u001b[0;36mBaseBlockManager.astype\u001b[1;34m(self, dtype, copy, errors)\u001b[0m\n\u001b[0;32m    427\u001b[0m \u001b[38;5;28;01melif\u001b[39;00m using_copy_on_write():\n\u001b[0;32m    428\u001b[0m     copy \u001b[38;5;241m=\u001b[39m \u001b[38;5;28;01mFalse\u001b[39;00m\n\u001b[1;32m--> 430\u001b[0m \u001b[38;5;28;01mreturn\u001b[39;00m \u001b[38;5;28;43mself\u001b[39;49m\u001b[38;5;241;43m.\u001b[39;49m\u001b[43mapply\u001b[49m\u001b[43m(\u001b[49m\n\u001b[0;32m    431\u001b[0m \u001b[43m    \u001b[49m\u001b[38;5;124;43m\"\u001b[39;49m\u001b[38;5;124;43mastype\u001b[39;49m\u001b[38;5;124;43m\"\u001b[39;49m\u001b[43m,\u001b[49m\n\u001b[0;32m    432\u001b[0m \u001b[43m    \u001b[49m\u001b[43mdtype\u001b[49m\u001b[38;5;241;43m=\u001b[39;49m\u001b[43mdtype\u001b[49m\u001b[43m,\u001b[49m\n\u001b[0;32m    433\u001b[0m \u001b[43m    \u001b[49m\u001b[43mcopy\u001b[49m\u001b[38;5;241;43m=\u001b[39;49m\u001b[43mcopy\u001b[49m\u001b[43m,\u001b[49m\n\u001b[0;32m    434\u001b[0m \u001b[43m    \u001b[49m\u001b[43merrors\u001b[49m\u001b[38;5;241;43m=\u001b[39;49m\u001b[43merrors\u001b[49m\u001b[43m,\u001b[49m\n\u001b[0;32m    435\u001b[0m \u001b[43m    \u001b[49m\u001b[43musing_cow\u001b[49m\u001b[38;5;241;43m=\u001b[39;49m\u001b[43musing_copy_on_write\u001b[49m\u001b[43m(\u001b[49m\u001b[43m)\u001b[49m\u001b[43m,\u001b[49m\n\u001b[0;32m    436\u001b[0m \u001b[43m\u001b[49m\u001b[43m)\u001b[49m\n",
      "File \u001b[1;32mc:\\Users\\marco\\anaconda3\\Lib\\site-packages\\pandas\\core\\internals\\managers.py:363\u001b[0m, in \u001b[0;36mBaseBlockManager.apply\u001b[1;34m(self, f, align_keys, **kwargs)\u001b[0m\n\u001b[0;32m    361\u001b[0m         applied \u001b[38;5;241m=\u001b[39m b\u001b[38;5;241m.\u001b[39mapply(f, \u001b[38;5;241m*\u001b[39m\u001b[38;5;241m*\u001b[39mkwargs)\n\u001b[0;32m    362\u001b[0m     \u001b[38;5;28;01melse\u001b[39;00m:\n\u001b[1;32m--> 363\u001b[0m         applied \u001b[38;5;241m=\u001b[39m \u001b[38;5;28;43mgetattr\u001b[39;49m\u001b[43m(\u001b[49m\u001b[43mb\u001b[49m\u001b[43m,\u001b[49m\u001b[43m \u001b[49m\u001b[43mf\u001b[49m\u001b[43m)\u001b[49m\u001b[43m(\u001b[49m\u001b[38;5;241;43m*\u001b[39;49m\u001b[38;5;241;43m*\u001b[39;49m\u001b[43mkwargs\u001b[49m\u001b[43m)\u001b[49m\n\u001b[0;32m    364\u001b[0m     result_blocks \u001b[38;5;241m=\u001b[39m extend_blocks(applied, result_blocks)\n\u001b[0;32m    366\u001b[0m out \u001b[38;5;241m=\u001b[39m \u001b[38;5;28mtype\u001b[39m(\u001b[38;5;28mself\u001b[39m)\u001b[38;5;241m.\u001b[39mfrom_blocks(result_blocks, \u001b[38;5;28mself\u001b[39m\u001b[38;5;241m.\u001b[39maxes)\n",
      "File \u001b[1;32mc:\\Users\\marco\\anaconda3\\Lib\\site-packages\\pandas\\core\\internals\\blocks.py:758\u001b[0m, in \u001b[0;36mBlock.astype\u001b[1;34m(self, dtype, copy, errors, using_cow, squeeze)\u001b[0m\n\u001b[0;32m    755\u001b[0m         \u001b[38;5;28;01mraise\u001b[39;00m \u001b[38;5;167;01mValueError\u001b[39;00m(\u001b[38;5;124m\"\u001b[39m\u001b[38;5;124mCan not squeeze with more than one column.\u001b[39m\u001b[38;5;124m\"\u001b[39m)\n\u001b[0;32m    756\u001b[0m     values \u001b[38;5;241m=\u001b[39m values[\u001b[38;5;241m0\u001b[39m, :]  \u001b[38;5;66;03m# type: ignore[call-overload]\u001b[39;00m\n\u001b[1;32m--> 758\u001b[0m new_values \u001b[38;5;241m=\u001b[39m \u001b[43mastype_array_safe\u001b[49m\u001b[43m(\u001b[49m\u001b[43mvalues\u001b[49m\u001b[43m,\u001b[49m\u001b[43m \u001b[49m\u001b[43mdtype\u001b[49m\u001b[43m,\u001b[49m\u001b[43m \u001b[49m\u001b[43mcopy\u001b[49m\u001b[38;5;241;43m=\u001b[39;49m\u001b[43mcopy\u001b[49m\u001b[43m,\u001b[49m\u001b[43m \u001b[49m\u001b[43merrors\u001b[49m\u001b[38;5;241;43m=\u001b[39;49m\u001b[43merrors\u001b[49m\u001b[43m)\u001b[49m\n\u001b[0;32m    760\u001b[0m new_values \u001b[38;5;241m=\u001b[39m maybe_coerce_values(new_values)\n\u001b[0;32m    762\u001b[0m refs \u001b[38;5;241m=\u001b[39m \u001b[38;5;28;01mNone\u001b[39;00m\n",
      "File \u001b[1;32mc:\\Users\\marco\\anaconda3\\Lib\\site-packages\\pandas\\core\\dtypes\\astype.py:237\u001b[0m, in \u001b[0;36mastype_array_safe\u001b[1;34m(values, dtype, copy, errors)\u001b[0m\n\u001b[0;32m    234\u001b[0m     dtype \u001b[38;5;241m=\u001b[39m dtype\u001b[38;5;241m.\u001b[39mnumpy_dtype\n\u001b[0;32m    236\u001b[0m \u001b[38;5;28;01mtry\u001b[39;00m:\n\u001b[1;32m--> 237\u001b[0m     new_values \u001b[38;5;241m=\u001b[39m \u001b[43mastype_array\u001b[49m\u001b[43m(\u001b[49m\u001b[43mvalues\u001b[49m\u001b[43m,\u001b[49m\u001b[43m \u001b[49m\u001b[43mdtype\u001b[49m\u001b[43m,\u001b[49m\u001b[43m \u001b[49m\u001b[43mcopy\u001b[49m\u001b[38;5;241;43m=\u001b[39;49m\u001b[43mcopy\u001b[49m\u001b[43m)\u001b[49m\n\u001b[0;32m    238\u001b[0m \u001b[38;5;28;01mexcept\u001b[39;00m (\u001b[38;5;167;01mValueError\u001b[39;00m, \u001b[38;5;167;01mTypeError\u001b[39;00m):\n\u001b[0;32m    239\u001b[0m     \u001b[38;5;66;03m# e.g. _astype_nansafe can fail on object-dtype of strings\u001b[39;00m\n\u001b[0;32m    240\u001b[0m     \u001b[38;5;66;03m#  trying to convert to float\u001b[39;00m\n\u001b[0;32m    241\u001b[0m     \u001b[38;5;28;01mif\u001b[39;00m errors \u001b[38;5;241m==\u001b[39m \u001b[38;5;124m\"\u001b[39m\u001b[38;5;124mignore\u001b[39m\u001b[38;5;124m\"\u001b[39m:\n",
      "File \u001b[1;32mc:\\Users\\marco\\anaconda3\\Lib\\site-packages\\pandas\\core\\dtypes\\astype.py:182\u001b[0m, in \u001b[0;36mastype_array\u001b[1;34m(values, dtype, copy)\u001b[0m\n\u001b[0;32m    179\u001b[0m     values \u001b[38;5;241m=\u001b[39m values\u001b[38;5;241m.\u001b[39mastype(dtype, copy\u001b[38;5;241m=\u001b[39mcopy)\n\u001b[0;32m    181\u001b[0m \u001b[38;5;28;01melse\u001b[39;00m:\n\u001b[1;32m--> 182\u001b[0m     values \u001b[38;5;241m=\u001b[39m \u001b[43m_astype_nansafe\u001b[49m\u001b[43m(\u001b[49m\u001b[43mvalues\u001b[49m\u001b[43m,\u001b[49m\u001b[43m \u001b[49m\u001b[43mdtype\u001b[49m\u001b[43m,\u001b[49m\u001b[43m \u001b[49m\u001b[43mcopy\u001b[49m\u001b[38;5;241;43m=\u001b[39;49m\u001b[43mcopy\u001b[49m\u001b[43m)\u001b[49m\n\u001b[0;32m    184\u001b[0m \u001b[38;5;66;03m# in pandas we don't store numpy str dtypes, so convert to object\u001b[39;00m\n\u001b[0;32m    185\u001b[0m \u001b[38;5;28;01mif\u001b[39;00m \u001b[38;5;28misinstance\u001b[39m(dtype, np\u001b[38;5;241m.\u001b[39mdtype) \u001b[38;5;129;01mand\u001b[39;00m \u001b[38;5;28missubclass\u001b[39m(values\u001b[38;5;241m.\u001b[39mdtype\u001b[38;5;241m.\u001b[39mtype, \u001b[38;5;28mstr\u001b[39m):\n",
      "File \u001b[1;32mc:\\Users\\marco\\anaconda3\\Lib\\site-packages\\pandas\\core\\dtypes\\astype.py:133\u001b[0m, in \u001b[0;36m_astype_nansafe\u001b[1;34m(arr, dtype, copy, skipna)\u001b[0m\n\u001b[0;32m    129\u001b[0m     \u001b[38;5;28;01mraise\u001b[39;00m \u001b[38;5;167;01mValueError\u001b[39;00m(msg)\n\u001b[0;32m    131\u001b[0m \u001b[38;5;28;01mif\u001b[39;00m copy \u001b[38;5;129;01mor\u001b[39;00m arr\u001b[38;5;241m.\u001b[39mdtype \u001b[38;5;241m==\u001b[39m \u001b[38;5;28mobject\u001b[39m \u001b[38;5;129;01mor\u001b[39;00m dtype \u001b[38;5;241m==\u001b[39m \u001b[38;5;28mobject\u001b[39m:\n\u001b[0;32m    132\u001b[0m     \u001b[38;5;66;03m# Explicit copy, or required since NumPy can't view from / to object.\u001b[39;00m\n\u001b[1;32m--> 133\u001b[0m     \u001b[38;5;28;01mreturn\u001b[39;00m \u001b[43marr\u001b[49m\u001b[38;5;241;43m.\u001b[39;49m\u001b[43mastype\u001b[49m\u001b[43m(\u001b[49m\u001b[43mdtype\u001b[49m\u001b[43m,\u001b[49m\u001b[43m \u001b[49m\u001b[43mcopy\u001b[49m\u001b[38;5;241;43m=\u001b[39;49m\u001b[38;5;28;43;01mTrue\u001b[39;49;00m\u001b[43m)\u001b[49m\n\u001b[0;32m    135\u001b[0m \u001b[38;5;28;01mreturn\u001b[39;00m arr\u001b[38;5;241m.\u001b[39mastype(dtype, copy\u001b[38;5;241m=\u001b[39mcopy)\n",
      "\u001b[1;31mValueError\u001b[0m: could not convert string to float: '1,006.7'"
     ]
    }
   ],
   "source": [
    "import numpy as np \n",
    "df = df.astype(np.float64)"
   ]
  },
  {
   "cell_type": "code",
   "execution_count": 42,
   "id": "2f359f12",
   "metadata": {},
   "outputs": [],
   "source": [
    "df['PresionAtmosferica'] = df['ValorObservado'].str.replace(',', '') "
   ]
  },
  {
   "cell_type": "code",
   "execution_count": 43,
   "id": "74811051",
   "metadata": {},
   "outputs": [
    {
     "data": {
      "text/html": [
       "<div>\n",
       "<style scoped>\n",
       "    .dataframe tbody tr th:only-of-type {\n",
       "        vertical-align: middle;\n",
       "    }\n",
       "\n",
       "    .dataframe tbody tr th {\n",
       "        vertical-align: top;\n",
       "    }\n",
       "\n",
       "    .dataframe thead th {\n",
       "        text-align: right;\n",
       "    }\n",
       "</style>\n",
       "<table border=\"1\" class=\"dataframe\">\n",
       "  <thead>\n",
       "    <tr style=\"text-align: right;\">\n",
       "      <th></th>\n",
       "      <th>ValorObservado</th>\n",
       "      <th>PresionAtmosferica</th>\n",
       "    </tr>\n",
       "  </thead>\n",
       "  <tbody>\n",
       "    <tr>\n",
       "      <th>0</th>\n",
       "      <td>992.5</td>\n",
       "      <td>992.5</td>\n",
       "    </tr>\n",
       "    <tr>\n",
       "      <th>1</th>\n",
       "      <td>785.2</td>\n",
       "      <td>785.2</td>\n",
       "    </tr>\n",
       "  </tbody>\n",
       "</table>\n",
       "</div>"
      ],
      "text/plain": [
       "  ValorObservado PresionAtmosferica\n",
       "0          992.5              992.5\n",
       "1          785.2              785.2"
      ]
     },
     "execution_count": 43,
     "metadata": {},
     "output_type": "execute_result"
    }
   ],
   "source": [
    "df.head(2)"
   ]
  },
  {
   "cell_type": "code",
   "execution_count": 44,
   "id": "0221bd31",
   "metadata": {},
   "outputs": [
    {
     "name": "stdout",
     "output_type": "stream",
     "text": [
      "<class 'pandas.core.frame.DataFrame'>\n",
      "RangeIndex: 24108976 entries, 0 to 24108975\n",
      "Data columns (total 2 columns):\n",
      " #   Column              Dtype \n",
      "---  ------              ----- \n",
      " 0   ValorObservado      object\n",
      " 1   PresionAtmosferica  object\n",
      "dtypes: object(2)\n",
      "memory usage: 367.9+ MB\n"
     ]
    }
   ],
   "source": [
    "df.info() "
   ]
  },
  {
   "cell_type": "code",
   "execution_count": 45,
   "id": "88fe2eca",
   "metadata": {},
   "outputs": [],
   "source": [
    "import numpy as np \n",
    "presion_no_escalado = df[['PresionAtmosferica']].astype(np.float64)"
   ]
  },
  {
   "cell_type": "code",
   "execution_count": 46,
   "id": "42367c57",
   "metadata": {},
   "outputs": [
    {
     "data": {
      "text/html": [
       "<div>\n",
       "<style scoped>\n",
       "    .dataframe tbody tr th:only-of-type {\n",
       "        vertical-align: middle;\n",
       "    }\n",
       "\n",
       "    .dataframe tbody tr th {\n",
       "        vertical-align: top;\n",
       "    }\n",
       "\n",
       "    .dataframe thead th {\n",
       "        text-align: right;\n",
       "    }\n",
       "</style>\n",
       "<table border=\"1\" class=\"dataframe\">\n",
       "  <thead>\n",
       "    <tr style=\"text-align: right;\">\n",
       "      <th></th>\n",
       "      <th>PresionAtmosferica</th>\n",
       "    </tr>\n",
       "  </thead>\n",
       "  <tbody>\n",
       "    <tr>\n",
       "      <th>count</th>\n",
       "      <td>2.410898e+07</td>\n",
       "    </tr>\n",
       "    <tr>\n",
       "      <th>mean</th>\n",
       "      <td>8.560948e+02</td>\n",
       "    </tr>\n",
       "    <tr>\n",
       "      <th>std</th>\n",
       "      <td>1.282793e+02</td>\n",
       "    </tr>\n",
       "    <tr>\n",
       "      <th>min</th>\n",
       "      <td>4.001000e+02</td>\n",
       "    </tr>\n",
       "    <tr>\n",
       "      <th>25%</th>\n",
       "      <td>7.441140e+02</td>\n",
       "    </tr>\n",
       "    <tr>\n",
       "      <th>50%</th>\n",
       "      <td>8.545000e+02</td>\n",
       "    </tr>\n",
       "    <tr>\n",
       "      <th>75%</th>\n",
       "      <td>9.959000e+02</td>\n",
       "    </tr>\n",
       "    <tr>\n",
       "      <th>max</th>\n",
       "      <td>1.199700e+03</td>\n",
       "    </tr>\n",
       "  </tbody>\n",
       "</table>\n",
       "</div>"
      ],
      "text/plain": [
       "       PresionAtmosferica\n",
       "count        2.410898e+07\n",
       "mean         8.560948e+02\n",
       "std          1.282793e+02\n",
       "min          4.001000e+02\n",
       "25%          7.441140e+02\n",
       "50%          8.545000e+02\n",
       "75%          9.959000e+02\n",
       "max          1.199700e+03"
      ]
     },
     "execution_count": 46,
     "metadata": {},
     "output_type": "execute_result"
    }
   ],
   "source": [
    "presion_no_escalado.describe() "
   ]
  },
  {
   "cell_type": "code",
   "execution_count": 33,
   "id": "bf2b8d6b",
   "metadata": {},
   "outputs": [
    {
     "data": {
      "text/plain": [
       "1"
      ]
     },
     "execution_count": 33,
     "metadata": {},
     "output_type": "execute_result"
    }
   ],
   "source": [
    "df_no_escalado.ndim "
   ]
  },
  {
   "cell_type": "code",
   "execution_count": 47,
   "id": "3fa8d179",
   "metadata": {},
   "outputs": [
    {
     "data": {
      "text/plain": [
       "array([[0.74087044],\n",
       "       [0.48161581],\n",
       "       [0.50675338],\n",
       "       ...,\n",
       "       [0.74549775],\n",
       "       [0.76075538],\n",
       "       [0.76738369]])"
      ]
     },
     "execution_count": 47,
     "metadata": {},
     "output_type": "execute_result"
    }
   ],
   "source": [
    "X_escalado = scaler.fit_transform(presion_no_escalado)\n",
    "X_escalado "
   ]
  },
  {
   "cell_type": "code",
   "execution_count": 48,
   "id": "7cc6e867",
   "metadata": {},
   "outputs": [
    {
     "data": {
      "text/html": [
       "<div>\n",
       "<style scoped>\n",
       "    .dataframe tbody tr th:only-of-type {\n",
       "        vertical-align: middle;\n",
       "    }\n",
       "\n",
       "    .dataframe tbody tr th {\n",
       "        vertical-align: top;\n",
       "    }\n",
       "\n",
       "    .dataframe thead th {\n",
       "        text-align: right;\n",
       "    }\n",
       "</style>\n",
       "<table border=\"1\" class=\"dataframe\">\n",
       "  <thead>\n",
       "    <tr style=\"text-align: right;\">\n",
       "      <th></th>\n",
       "      <th>PresionAtmosferica</th>\n",
       "    </tr>\n",
       "  </thead>\n",
       "  <tbody>\n",
       "    <tr>\n",
       "      <th>0</th>\n",
       "      <td>0.740870</td>\n",
       "    </tr>\n",
       "    <tr>\n",
       "      <th>1</th>\n",
       "      <td>0.481616</td>\n",
       "    </tr>\n",
       "    <tr>\n",
       "      <th>2</th>\n",
       "      <td>0.506753</td>\n",
       "    </tr>\n",
       "    <tr>\n",
       "      <th>3</th>\n",
       "      <td>0.698349</td>\n",
       "    </tr>\n",
       "    <tr>\n",
       "      <th>4</th>\n",
       "      <td>0.736118</td>\n",
       "    </tr>\n",
       "  </tbody>\n",
       "</table>\n",
       "</div>"
      ],
      "text/plain": [
       "   PresionAtmosferica\n",
       "0            0.740870\n",
       "1            0.481616\n",
       "2            0.506753\n",
       "3            0.698349\n",
       "4            0.736118"
      ]
     },
     "execution_count": 48,
     "metadata": {},
     "output_type": "execute_result"
    }
   ],
   "source": [
    "Presion_df_escalado = pd.DataFrame(X_escalado, columns = ['PresionAtmosferica'])\n",
    "Presion_df_escalado.head() "
   ]
  },
  {
   "cell_type": "code",
   "execution_count": 49,
   "id": "e053310c",
   "metadata": {},
   "outputs": [
    {
     "data": {
      "text/html": [
       "<div>\n",
       "<style scoped>\n",
       "    .dataframe tbody tr th:only-of-type {\n",
       "        vertical-align: middle;\n",
       "    }\n",
       "\n",
       "    .dataframe tbody tr th {\n",
       "        vertical-align: top;\n",
       "    }\n",
       "\n",
       "    .dataframe thead th {\n",
       "        text-align: right;\n",
       "    }\n",
       "</style>\n",
       "<table border=\"1\" class=\"dataframe\">\n",
       "  <thead>\n",
       "    <tr style=\"text-align: right;\">\n",
       "      <th></th>\n",
       "      <th>PresionAtmosferica</th>\n",
       "    </tr>\n",
       "  </thead>\n",
       "  <tbody>\n",
       "    <tr>\n",
       "      <th>count</th>\n",
       "      <td>2.410898e+07</td>\n",
       "    </tr>\n",
       "    <tr>\n",
       "      <th>mean</th>\n",
       "      <td>5.702786e-01</td>\n",
       "    </tr>\n",
       "    <tr>\n",
       "      <th>std</th>\n",
       "      <td>1.604293e-01</td>\n",
       "    </tr>\n",
       "    <tr>\n",
       "      <th>min</th>\n",
       "      <td>0.000000e+00</td>\n",
       "    </tr>\n",
       "    <tr>\n",
       "      <th>25%</th>\n",
       "      <td>4.302326e-01</td>\n",
       "    </tr>\n",
       "    <tr>\n",
       "      <th>50%</th>\n",
       "      <td>5.682841e-01</td>\n",
       "    </tr>\n",
       "    <tr>\n",
       "      <th>75%</th>\n",
       "      <td>7.451226e-01</td>\n",
       "    </tr>\n",
       "    <tr>\n",
       "      <th>max</th>\n",
       "      <td>1.000000e+00</td>\n",
       "    </tr>\n",
       "  </tbody>\n",
       "</table>\n",
       "</div>"
      ],
      "text/plain": [
       "       PresionAtmosferica\n",
       "count        2.410898e+07\n",
       "mean         5.702786e-01\n",
       "std          1.604293e-01\n",
       "min          0.000000e+00\n",
       "25%          4.302326e-01\n",
       "50%          5.682841e-01\n",
       "75%          7.451226e-01\n",
       "max          1.000000e+00"
      ]
     },
     "execution_count": 49,
     "metadata": {},
     "output_type": "execute_result"
    }
   ],
   "source": [
    "Presion_df_escalado.describe() "
   ]
  },
  {
   "cell_type": "markdown",
   "id": "3e74dbd9",
   "metadata": {},
   "source": [
    "\n",
    "2. **Estandarización**: La estandarización reescala los datos de manera que tengan una media de 0 y una desviación estándar de 1. Es útil cuando los datos tienen distribuciones normales y cuando las escalas originales de las variables son muy diferentes.\n",
    "   \n"
   ]
  },
  {
   "cell_type": "code",
   "execution_count": 52,
   "id": "f59cbe5b",
   "metadata": {},
   "outputs": [
    {
     "data": {
      "text/html": [
       "<div>\n",
       "<style scoped>\n",
       "    .dataframe tbody tr th:only-of-type {\n",
       "        vertical-align: middle;\n",
       "    }\n",
       "\n",
       "    .dataframe tbody tr th {\n",
       "        vertical-align: top;\n",
       "    }\n",
       "\n",
       "    .dataframe thead th {\n",
       "        text-align: right;\n",
       "    }\n",
       "</style>\n",
       "<table border=\"1\" class=\"dataframe\">\n",
       "  <thead>\n",
       "    <tr style=\"text-align: right;\">\n",
       "      <th></th>\n",
       "      <th>PresionAtmosferica</th>\n",
       "    </tr>\n",
       "  </thead>\n",
       "  <tbody>\n",
       "    <tr>\n",
       "      <th>count</th>\n",
       "      <td>2.410898e+07</td>\n",
       "    </tr>\n",
       "    <tr>\n",
       "      <th>mean</th>\n",
       "      <td>8.560948e+02</td>\n",
       "    </tr>\n",
       "    <tr>\n",
       "      <th>std</th>\n",
       "      <td>1.282793e+02</td>\n",
       "    </tr>\n",
       "    <tr>\n",
       "      <th>min</th>\n",
       "      <td>4.001000e+02</td>\n",
       "    </tr>\n",
       "    <tr>\n",
       "      <th>25%</th>\n",
       "      <td>7.441140e+02</td>\n",
       "    </tr>\n",
       "    <tr>\n",
       "      <th>50%</th>\n",
       "      <td>8.545000e+02</td>\n",
       "    </tr>\n",
       "    <tr>\n",
       "      <th>75%</th>\n",
       "      <td>9.959000e+02</td>\n",
       "    </tr>\n",
       "    <tr>\n",
       "      <th>max</th>\n",
       "      <td>1.199700e+03</td>\n",
       "    </tr>\n",
       "  </tbody>\n",
       "</table>\n",
       "</div>"
      ],
      "text/plain": [
       "       PresionAtmosferica\n",
       "count        2.410898e+07\n",
       "mean         8.560948e+02\n",
       "std          1.282793e+02\n",
       "min          4.001000e+02\n",
       "25%          7.441140e+02\n",
       "50%          8.545000e+02\n",
       "75%          9.959000e+02\n",
       "max          1.199700e+03"
      ]
     },
     "execution_count": 52,
     "metadata": {},
     "output_type": "execute_result"
    }
   ],
   "source": [
    "presion_no_escalado.describe() "
   ]
  },
  {
   "cell_type": "code",
   "execution_count": 53,
   "id": "d4a4b95e",
   "metadata": {},
   "outputs": [
    {
     "data": {
      "text/html": [
       "<div>\n",
       "<style scoped>\n",
       "    .dataframe tbody tr th:only-of-type {\n",
       "        vertical-align: middle;\n",
       "    }\n",
       "\n",
       "    .dataframe tbody tr th {\n",
       "        vertical-align: top;\n",
       "    }\n",
       "\n",
       "    .dataframe thead th {\n",
       "        text-align: right;\n",
       "    }\n",
       "</style>\n",
       "<table border=\"1\" class=\"dataframe\">\n",
       "  <thead>\n",
       "    <tr style=\"text-align: right;\">\n",
       "      <th></th>\n",
       "      <th>PresionAtmosfericaEstandarizada</th>\n",
       "    </tr>\n",
       "  </thead>\n",
       "  <tbody>\n",
       "    <tr>\n",
       "      <th>count</th>\n",
       "      <td>2.410898e+07</td>\n",
       "    </tr>\n",
       "    <tr>\n",
       "      <th>mean</th>\n",
       "      <td>1.109485e-14</td>\n",
       "    </tr>\n",
       "    <tr>\n",
       "      <th>std</th>\n",
       "      <td>1.000000e+00</td>\n",
       "    </tr>\n",
       "    <tr>\n",
       "      <th>min</th>\n",
       "      <td>-3.554703e+00</td>\n",
       "    </tr>\n",
       "    <tr>\n",
       "      <th>25%</th>\n",
       "      <td>-8.729449e-01</td>\n",
       "    </tr>\n",
       "    <tr>\n",
       "      <th>50%</th>\n",
       "      <td>-1.243189e-02</td>\n",
       "    </tr>\n",
       "    <tr>\n",
       "      <th>75%</th>\n",
       "      <td>1.089850e+00</td>\n",
       "    </tr>\n",
       "    <tr>\n",
       "      <th>max</th>\n",
       "      <td>2.678572e+00</td>\n",
       "    </tr>\n",
       "  </tbody>\n",
       "</table>\n",
       "</div>"
      ],
      "text/plain": [
       "       PresionAtmosfericaEstandarizada\n",
       "count                     2.410898e+07\n",
       "mean                      1.109485e-14\n",
       "std                       1.000000e+00\n",
       "min                      -3.554703e+00\n",
       "25%                      -8.729449e-01\n",
       "50%                      -1.243189e-02\n",
       "75%                       1.089850e+00\n",
       "max                       2.678572e+00"
      ]
     },
     "execution_count": 53,
     "metadata": {},
     "output_type": "execute_result"
    }
   ],
   "source": [
    "from sklearn.preprocessing import StandardScaler\n",
    "\n",
    "   # Aplicar estandarización\n",
    "scaler = StandardScaler()\n",
    "X_presion_estandarizada = scaler.fit_transform(presion_no_escalado)\n",
    "df_presion_estandarizada = pd.DataFrame(X_presion_estandarizada, columns = ['PresionAtmosfericaEstandarizada'])\n",
    "df_presion_estandarizada.describe()\n"
   ]
  },
  {
   "cell_type": "markdown",
   "id": "f5e0e4d5",
   "metadata": {},
   "source": [
    "[Video de apoyo sobre escalamiento con Pandas en la estructura DataFrame](https://www.youtube.com/watch?v=MystEingz9s)"
   ]
  },
  {
   "cell_type": "markdown",
   "id": "c99fc03b",
   "metadata": {},
   "source": [
    "\n",
    "---\n",
    "\n",
    "#### 5.2 **Codificación de Variables Categóricas**\n"
   ]
  },
  {
   "cell_type": "markdown",
   "id": "cb209f21",
   "metadata": {},
   "source": [
    "\n",
    "Los algoritmos de Machine Learning necesitan que las variables categóricas se transformen en un formato numérico. Existen dos métodos comunes:\n",
    "\n",
    "1. **Codificación One-Hot**: Crea una columna para cada categoría con valores 0 o 1, indicando la presencia de una categoría específica. Este método es útil para variables categóricas sin orden inherente.\n"
   ]
  },
  {
   "cell_type": "code",
   "execution_count": null,
   "id": "d4ad63f2",
   "metadata": {},
   "outputs": [],
   "source": [
    "\n",
    "# Codificación One-Hot\n",
    "df = pd.get_dummies(df, columns=['columna_categorica'])\n",
    "\n"
   ]
  },
  {
   "cell_type": "markdown",
   "id": "b779ad4d",
   "metadata": {},
   "source": [
    "\n",
    "2. **Codificación Label Encoding**: Asigna un número entero único a cada categoría. Este método es adecuado para variables con un orden implícito, aunque hay que tener cuidado, ya que los modelos pueden interpretar el orden como significativo.\n"
   ]
  },
  {
   "cell_type": "code",
   "execution_count": null,
   "id": "584392e4",
   "metadata": {},
   "outputs": [],
   "source": [
    "from sklearn.preprocessing import LabelEncoder\n",
    "\n",
    "# Codificación Label Encoding\n",
    "encoder = LabelEncoder()\n",
    "df['columna_categorica'] = encoder.fit_transform(df['columna_categorica'])\n",
    "\n"
   ]
  },
  {
   "cell_type": "markdown",
   "id": "12c1b821",
   "metadata": {},
   "source": [
    "\n",
    "---\n",
    "\n",
    "#### 5.3 **División de los Datos en Conjuntos de Entrenamiento y Prueba**\n"
   ]
  },
  {
   "cell_type": "markdown",
   "id": "8f04de88",
   "metadata": {},
   "source": [
    "\n",
    "Para evaluar el rendimiento de los modelos de Machine Learning, es fundamental dividir el conjunto de datos en dos subconjuntos:\n",
    "\n",
    "- **Conjunto de Entrenamiento**: Utilizado para ajustar el modelo.\n",
    "- **Conjunto de Prueba**: Utilizado para evaluar el rendimiento del modelo en datos no vistos.\n",
    "\n",
    "La división se realiza de forma aleatoria, con una proporción típica del 80% para el entrenamiento y el 20% para la prueba.\n"
   ]
  },
  {
   "cell_type": "code",
   "execution_count": null,
   "id": "796d5565",
   "metadata": {},
   "outputs": [],
   "source": [
    "from sklearn.model_selection import train_test_split\n",
    "\n",
    "# División de los datos en conjuntos de entrenamiento y prueba\n",
    "X = df.drop('variable_objetivo', axis=1)  # Variables predictoras\n",
    "y = df['variable_objetivo']  # Variable objetivo\n",
    "\n",
    "X_train, X_test, y_train, y_test = train_test_split(X, y, test_size=0.2, random_state=42)\n",
    "\n"
   ]
  },
  {
   "cell_type": "markdown",
   "id": "06b002e5",
   "metadata": {},
   "source": [
    "\n",
    "El parámetro `random_state` garantiza que la división sea reproducible. "
   ]
  },
  {
   "cell_type": "markdown",
   "id": "c88ef959",
   "metadata": {},
   "source": [
    "La variable `test_size=0.2` define que el 20% de los datos se destinen al conjunto de prueba.\n",
    "\n",
    "---\n"
   ]
  },
  {
   "cell_type": "markdown",
   "id": "1ede96b7",
   "metadata": {},
   "source": [
    "\n",
    "# Ejemplo Completo de Preprocesamiento\n"
   ]
  },
  {
   "cell_type": "markdown",
   "id": "297e2808",
   "metadata": {},
   "source": [
    "\n",
    "A continuación, se presenta un ejemplo completo que incluye todos los pasos de preprocesamiento.\n"
   ]
  },
  {
   "cell_type": "code",
   "execution_count": null,
   "id": "91206c7f",
   "metadata": {},
   "outputs": [],
   "source": [
    "import pandas as pd\n",
    "from sklearn.preprocessing import MinMaxScaler, StandardScaler, LabelEncoder\n",
    "from sklearn.model_selection import train_test_split\n"
   ]
  },
  {
   "cell_type": "code",
   "execution_count": null,
   "id": "33ffac62",
   "metadata": {},
   "outputs": [],
   "source": [
    "\n",
    "# Cargar datos de ejemplo\n",
    "df = pd.DataFrame({\n",
    "    'columna_numerica1': [10, 20, 15, 30],\n",
    "    'columna_numerica2': [1.5, 3.2, 2.1, 4.0],\n",
    "    'columna_categorica': ['A', 'B', 'A', 'C'],\n",
    "    'variable_objetivo': [1, 0, 1, 0]\n",
    "})\n"
   ]
  },
  {
   "cell_type": "code",
   "execution_count": null,
   "id": "8869d9ca",
   "metadata": {},
   "outputs": [],
   "source": [
    "\n",
    "# Normalización\n",
    "scaler = MinMaxScaler()\n",
    "df[['columna_numerica1', 'columna_numerica2']] = scaler.fit_transform(df[['columna_numerica1', 'columna_numerica2']])\n"
   ]
  },
  {
   "cell_type": "code",
   "execution_count": null,
   "id": "adc716a5",
   "metadata": {},
   "outputs": [],
   "source": [
    "\n",
    "# Codificación de variable categórica\n",
    "encoder = LabelEncoder()\n",
    "df['columna_categorica'] = encoder.fit_transform(df['columna_categorica'])\n"
   ]
  },
  {
   "cell_type": "code",
   "execution_count": null,
   "id": "45cafd87",
   "metadata": {},
   "outputs": [],
   "source": [
    "\n",
    "# División en entrenamiento y prueba\n",
    "X = df.drop('variable_objetivo', axis=1)\n",
    "y = df['variable_objetivo']\n",
    "X_train, X_test, y_train, y_test = train_test_split(X, y, test_size=0.2, random_state=42)\n"
   ]
  },
  {
   "cell_type": "code",
   "execution_count": null,
   "id": "53b4a170",
   "metadata": {},
   "outputs": [],
   "source": [
    "\n",
    "print(\"Conjunto de Entrenamiento:\")\n",
    "print(X_train)\n",
    "print(\"Conjunto de Prueba:\")\n",
    "print(X_test)\n"
   ]
  },
  {
   "cell_type": "markdown",
   "id": "80fd9933",
   "metadata": {},
   "source": [
    "\n",
    "Este ejemplo proporciona una visión general de cómo normalizar y codificar datos, así como dividirlos en conjuntos de entrenamiento y prueba.\n",
    "\n",
    "---\n",
    "\n",
    "Este contenido asegura una comprensión integral de los pasos básicos de preprocesamiento en `DataFrame` para preparar los datos de manera efectiva para modelos de Machine Learning."
   ]
  },
  {
   "cell_type": "markdown",
   "id": "0dbaadd8",
   "metadata": {},
   "source": [
    "[Video de apoyo hasta aquí]()"
   ]
  },
  {
   "cell_type": "markdown",
   "id": "58bc8318",
   "metadata": {},
   "source": [
    "\n",
    "### 4. Actividades de Aprendizaje\n"
   ]
  },
  {
   "cell_type": "markdown",
   "id": "ec70538f",
   "metadata": {},
   "source": [
    "\n",
    "1. **Exploración de DataFrames**: Cargar un archivo CSV con datos de ejemplo (por ejemplo, el [conjunto de datos de Titanic](https://www.kaggle.com/competitions/titanic/data?select=train.csv)) y explorar sus características principales usando `head()`, `info()`, y `describe()`.\n"
   ]
  },
  {
   "cell_type": "code",
   "execution_count": 4,
   "id": "0c8d585c",
   "metadata": {},
   "outputs": [
    {
     "data": {
      "text/html": [
       "<div>\n",
       "<style scoped>\n",
       "    .dataframe tbody tr th:only-of-type {\n",
       "        vertical-align: middle;\n",
       "    }\n",
       "\n",
       "    .dataframe tbody tr th {\n",
       "        vertical-align: top;\n",
       "    }\n",
       "\n",
       "    .dataframe thead th {\n",
       "        text-align: right;\n",
       "    }\n",
       "</style>\n",
       "<table border=\"1\" class=\"dataframe\">\n",
       "  <thead>\n",
       "    <tr style=\"text-align: right;\">\n",
       "      <th></th>\n",
       "      <th>PassengerId</th>\n",
       "      <th>Survived</th>\n",
       "      <th>Pclass</th>\n",
       "      <th>Name</th>\n",
       "      <th>Sex</th>\n",
       "      <th>Age</th>\n",
       "      <th>SibSp</th>\n",
       "      <th>Parch</th>\n",
       "      <th>Ticket</th>\n",
       "      <th>Fare</th>\n",
       "      <th>Cabin</th>\n",
       "      <th>Embarked</th>\n",
       "    </tr>\n",
       "  </thead>\n",
       "  <tbody>\n",
       "    <tr>\n",
       "      <th>0</th>\n",
       "      <td>1</td>\n",
       "      <td>0</td>\n",
       "      <td>3</td>\n",
       "      <td>Braund, Mr. Owen Harris</td>\n",
       "      <td>male</td>\n",
       "      <td>22.0</td>\n",
       "      <td>1</td>\n",
       "      <td>0</td>\n",
       "      <td>A/5 21171</td>\n",
       "      <td>7.2500</td>\n",
       "      <td>NaN</td>\n",
       "      <td>S</td>\n",
       "    </tr>\n",
       "    <tr>\n",
       "      <th>1</th>\n",
       "      <td>2</td>\n",
       "      <td>1</td>\n",
       "      <td>1</td>\n",
       "      <td>Cumings, Mrs. John Bradley (Florence Briggs Th...</td>\n",
       "      <td>female</td>\n",
       "      <td>38.0</td>\n",
       "      <td>1</td>\n",
       "      <td>0</td>\n",
       "      <td>PC 17599</td>\n",
       "      <td>71.2833</td>\n",
       "      <td>C85</td>\n",
       "      <td>C</td>\n",
       "    </tr>\n",
       "    <tr>\n",
       "      <th>2</th>\n",
       "      <td>3</td>\n",
       "      <td>1</td>\n",
       "      <td>3</td>\n",
       "      <td>Heikkinen, Miss. Laina</td>\n",
       "      <td>female</td>\n",
       "      <td>26.0</td>\n",
       "      <td>0</td>\n",
       "      <td>0</td>\n",
       "      <td>STON/O2. 3101282</td>\n",
       "      <td>7.9250</td>\n",
       "      <td>NaN</td>\n",
       "      <td>S</td>\n",
       "    </tr>\n",
       "    <tr>\n",
       "      <th>3</th>\n",
       "      <td>4</td>\n",
       "      <td>1</td>\n",
       "      <td>1</td>\n",
       "      <td>Futrelle, Mrs. Jacques Heath (Lily May Peel)</td>\n",
       "      <td>female</td>\n",
       "      <td>35.0</td>\n",
       "      <td>1</td>\n",
       "      <td>0</td>\n",
       "      <td>113803</td>\n",
       "      <td>53.1000</td>\n",
       "      <td>C123</td>\n",
       "      <td>S</td>\n",
       "    </tr>\n",
       "    <tr>\n",
       "      <th>4</th>\n",
       "      <td>5</td>\n",
       "      <td>0</td>\n",
       "      <td>3</td>\n",
       "      <td>Allen, Mr. William Henry</td>\n",
       "      <td>male</td>\n",
       "      <td>35.0</td>\n",
       "      <td>0</td>\n",
       "      <td>0</td>\n",
       "      <td>373450</td>\n",
       "      <td>8.0500</td>\n",
       "      <td>NaN</td>\n",
       "      <td>S</td>\n",
       "    </tr>\n",
       "  </tbody>\n",
       "</table>\n",
       "</div>"
      ],
      "text/plain": [
       "   PassengerId  Survived  Pclass  \\\n",
       "0            1         0       3   \n",
       "1            2         1       1   \n",
       "2            3         1       3   \n",
       "3            4         1       1   \n",
       "4            5         0       3   \n",
       "\n",
       "                                                Name     Sex   Age  SibSp  \\\n",
       "0                            Braund, Mr. Owen Harris    male  22.0      1   \n",
       "1  Cumings, Mrs. John Bradley (Florence Briggs Th...  female  38.0      1   \n",
       "2                             Heikkinen, Miss. Laina  female  26.0      0   \n",
       "3       Futrelle, Mrs. Jacques Heath (Lily May Peel)  female  35.0      1   \n",
       "4                           Allen, Mr. William Henry    male  35.0      0   \n",
       "\n",
       "   Parch            Ticket     Fare Cabin Embarked  \n",
       "0      0         A/5 21171   7.2500   NaN        S  \n",
       "1      0          PC 17599  71.2833   C85        C  \n",
       "2      0  STON/O2. 3101282   7.9250   NaN        S  \n",
       "3      0            113803  53.1000  C123        S  \n",
       "4      0            373450   8.0500   NaN        S  "
      ]
     },
     "execution_count": 4,
     "metadata": {},
     "output_type": "execute_result"
    }
   ],
   "source": [
    "# obtener los datos\n",
    "import pandas as pd \n",
    "path = r'C:/Users/marco/Documentos/investigacion/didactica_ciencia_datos\\3_datasets\\1_titanic\\train.csv'\n",
    "path_slash = path.replace(r\"\\\\\", r\"/\") \n",
    "df = pd.read_csv(path_slash)\n",
    "df.head() "
   ]
  },
  {
   "cell_type": "code",
   "execution_count": 5,
   "id": "0c6ece20",
   "metadata": {},
   "outputs": [
    {
     "name": "stdout",
     "output_type": "stream",
     "text": [
      "<class 'pandas.core.frame.DataFrame'>\n",
      "RangeIndex: 891 entries, 0 to 890\n",
      "Data columns (total 12 columns):\n",
      " #   Column       Non-Null Count  Dtype  \n",
      "---  ------       --------------  -----  \n",
      " 0   PassengerId  891 non-null    int64  \n",
      " 1   Survived     891 non-null    int64  \n",
      " 2   Pclass       891 non-null    int64  \n",
      " 3   Name         891 non-null    object \n",
      " 4   Sex          891 non-null    object \n",
      " 5   Age          714 non-null    float64\n",
      " 6   SibSp        891 non-null    int64  \n",
      " 7   Parch        891 non-null    int64  \n",
      " 8   Ticket       891 non-null    object \n",
      " 9   Fare         891 non-null    float64\n",
      " 10  Cabin        204 non-null    object \n",
      " 11  Embarked     889 non-null    object \n",
      "dtypes: float64(2), int64(5), object(5)\n",
      "memory usage: 83.7+ KB\n"
     ]
    }
   ],
   "source": [
    "df.info() "
   ]
  },
  {
   "cell_type": "code",
   "execution_count": 8,
   "id": "b2fbca14",
   "metadata": {},
   "outputs": [
    {
     "data": {
      "text/plain": [
       "0.19865319865319866"
      ]
     },
     "execution_count": 8,
     "metadata": {},
     "output_type": "execute_result"
    }
   ],
   "source": [
    "(891-714)/891"
   ]
  },
  {
   "cell_type": "code",
   "execution_count": 7,
   "id": "1984e128",
   "metadata": {},
   "outputs": [
    {
     "data": {
      "text/plain": [
       "687"
      ]
     },
     "execution_count": 7,
     "metadata": {},
     "output_type": "execute_result"
    }
   ],
   "source": [
    "891-204"
   ]
  },
  {
   "cell_type": "code",
   "execution_count": 9,
   "id": "56ccecb9",
   "metadata": {},
   "outputs": [
    {
     "data": {
      "text/html": [
       "<div>\n",
       "<style scoped>\n",
       "    .dataframe tbody tr th:only-of-type {\n",
       "        vertical-align: middle;\n",
       "    }\n",
       "\n",
       "    .dataframe tbody tr th {\n",
       "        vertical-align: top;\n",
       "    }\n",
       "\n",
       "    .dataframe thead th {\n",
       "        text-align: right;\n",
       "    }\n",
       "</style>\n",
       "<table border=\"1\" class=\"dataframe\">\n",
       "  <thead>\n",
       "    <tr style=\"text-align: right;\">\n",
       "      <th></th>\n",
       "      <th>PassengerId</th>\n",
       "      <th>Survived</th>\n",
       "      <th>Pclass</th>\n",
       "      <th>Age</th>\n",
       "      <th>SibSp</th>\n",
       "      <th>Parch</th>\n",
       "      <th>Fare</th>\n",
       "    </tr>\n",
       "  </thead>\n",
       "  <tbody>\n",
       "    <tr>\n",
       "      <th>count</th>\n",
       "      <td>891.000000</td>\n",
       "      <td>891.000000</td>\n",
       "      <td>891.000000</td>\n",
       "      <td>714.000000</td>\n",
       "      <td>891.000000</td>\n",
       "      <td>891.000000</td>\n",
       "      <td>891.000000</td>\n",
       "    </tr>\n",
       "    <tr>\n",
       "      <th>mean</th>\n",
       "      <td>446.000000</td>\n",
       "      <td>0.383838</td>\n",
       "      <td>2.308642</td>\n",
       "      <td>29.699118</td>\n",
       "      <td>0.523008</td>\n",
       "      <td>0.381594</td>\n",
       "      <td>32.204208</td>\n",
       "    </tr>\n",
       "    <tr>\n",
       "      <th>std</th>\n",
       "      <td>257.353842</td>\n",
       "      <td>0.486592</td>\n",
       "      <td>0.836071</td>\n",
       "      <td>14.526497</td>\n",
       "      <td>1.102743</td>\n",
       "      <td>0.806057</td>\n",
       "      <td>49.693429</td>\n",
       "    </tr>\n",
       "    <tr>\n",
       "      <th>min</th>\n",
       "      <td>1.000000</td>\n",
       "      <td>0.000000</td>\n",
       "      <td>1.000000</td>\n",
       "      <td>0.420000</td>\n",
       "      <td>0.000000</td>\n",
       "      <td>0.000000</td>\n",
       "      <td>0.000000</td>\n",
       "    </tr>\n",
       "    <tr>\n",
       "      <th>25%</th>\n",
       "      <td>223.500000</td>\n",
       "      <td>0.000000</td>\n",
       "      <td>2.000000</td>\n",
       "      <td>20.125000</td>\n",
       "      <td>0.000000</td>\n",
       "      <td>0.000000</td>\n",
       "      <td>7.910400</td>\n",
       "    </tr>\n",
       "    <tr>\n",
       "      <th>50%</th>\n",
       "      <td>446.000000</td>\n",
       "      <td>0.000000</td>\n",
       "      <td>3.000000</td>\n",
       "      <td>28.000000</td>\n",
       "      <td>0.000000</td>\n",
       "      <td>0.000000</td>\n",
       "      <td>14.454200</td>\n",
       "    </tr>\n",
       "    <tr>\n",
       "      <th>75%</th>\n",
       "      <td>668.500000</td>\n",
       "      <td>1.000000</td>\n",
       "      <td>3.000000</td>\n",
       "      <td>38.000000</td>\n",
       "      <td>1.000000</td>\n",
       "      <td>0.000000</td>\n",
       "      <td>31.000000</td>\n",
       "    </tr>\n",
       "    <tr>\n",
       "      <th>max</th>\n",
       "      <td>891.000000</td>\n",
       "      <td>1.000000</td>\n",
       "      <td>3.000000</td>\n",
       "      <td>80.000000</td>\n",
       "      <td>8.000000</td>\n",
       "      <td>6.000000</td>\n",
       "      <td>512.329200</td>\n",
       "    </tr>\n",
       "  </tbody>\n",
       "</table>\n",
       "</div>"
      ],
      "text/plain": [
       "       PassengerId    Survived      Pclass         Age       SibSp  \\\n",
       "count   891.000000  891.000000  891.000000  714.000000  891.000000   \n",
       "mean    446.000000    0.383838    2.308642   29.699118    0.523008   \n",
       "std     257.353842    0.486592    0.836071   14.526497    1.102743   \n",
       "min       1.000000    0.000000    1.000000    0.420000    0.000000   \n",
       "25%     223.500000    0.000000    2.000000   20.125000    0.000000   \n",
       "50%     446.000000    0.000000    3.000000   28.000000    0.000000   \n",
       "75%     668.500000    1.000000    3.000000   38.000000    1.000000   \n",
       "max     891.000000    1.000000    3.000000   80.000000    8.000000   \n",
       "\n",
       "            Parch        Fare  \n",
       "count  891.000000  891.000000  \n",
       "mean     0.381594   32.204208  \n",
       "std      0.806057   49.693429  \n",
       "min      0.000000    0.000000  \n",
       "25%      0.000000    7.910400  \n",
       "50%      0.000000   14.454200  \n",
       "75%      0.000000   31.000000  \n",
       "max      6.000000  512.329200  "
      ]
     },
     "execution_count": 9,
     "metadata": {},
     "output_type": "execute_result"
    }
   ],
   "source": [
    "df.describe() "
   ]
  },
  {
   "cell_type": "code",
   "execution_count": 11,
   "id": "dfab6734",
   "metadata": {},
   "outputs": [
    {
     "data": {
      "text/plain": [
       "Index(['PassengerId', 'Survived', 'Pclass', 'Name', 'Sex', 'Age', 'SibSp',\n",
       "       'Parch', 'Ticket', 'Fare', 'Cabin', 'Embarked'],\n",
       "      dtype='object')"
      ]
     },
     "execution_count": 11,
     "metadata": {},
     "output_type": "execute_result"
    }
   ],
   "source": [
    "df.keys()"
   ]
  },
  {
   "cell_type": "code",
   "execution_count": 12,
   "id": "dfbe9a52",
   "metadata": {},
   "outputs": [],
   "source": [
    "df = df[['PassengerId', 'Pclass', 'Name', 'Sex', 'Age', 'SibSp',\n",
    "       'Parch', 'Ticket', 'Fare', 'Cabin', 'Embarked', 'Survived']]"
   ]
  },
  {
   "cell_type": "code",
   "execution_count": 13,
   "id": "9eb5978a",
   "metadata": {},
   "outputs": [
    {
     "data": {
      "text/html": [
       "<div>\n",
       "<style scoped>\n",
       "    .dataframe tbody tr th:only-of-type {\n",
       "        vertical-align: middle;\n",
       "    }\n",
       "\n",
       "    .dataframe tbody tr th {\n",
       "        vertical-align: top;\n",
       "    }\n",
       "\n",
       "    .dataframe thead th {\n",
       "        text-align: right;\n",
       "    }\n",
       "</style>\n",
       "<table border=\"1\" class=\"dataframe\">\n",
       "  <thead>\n",
       "    <tr style=\"text-align: right;\">\n",
       "      <th></th>\n",
       "      <th>PassengerId</th>\n",
       "      <th>Pclass</th>\n",
       "      <th>Name</th>\n",
       "      <th>Sex</th>\n",
       "      <th>Age</th>\n",
       "      <th>SibSp</th>\n",
       "      <th>Parch</th>\n",
       "      <th>Ticket</th>\n",
       "      <th>Fare</th>\n",
       "      <th>Cabin</th>\n",
       "      <th>Embarked</th>\n",
       "      <th>Survived</th>\n",
       "    </tr>\n",
       "  </thead>\n",
       "  <tbody>\n",
       "    <tr>\n",
       "      <th>0</th>\n",
       "      <td>1</td>\n",
       "      <td>3</td>\n",
       "      <td>Braund, Mr. Owen Harris</td>\n",
       "      <td>male</td>\n",
       "      <td>22.0</td>\n",
       "      <td>1</td>\n",
       "      <td>0</td>\n",
       "      <td>A/5 21171</td>\n",
       "      <td>7.2500</td>\n",
       "      <td>NaN</td>\n",
       "      <td>S</td>\n",
       "      <td>0</td>\n",
       "    </tr>\n",
       "    <tr>\n",
       "      <th>1</th>\n",
       "      <td>2</td>\n",
       "      <td>1</td>\n",
       "      <td>Cumings, Mrs. John Bradley (Florence Briggs Th...</td>\n",
       "      <td>female</td>\n",
       "      <td>38.0</td>\n",
       "      <td>1</td>\n",
       "      <td>0</td>\n",
       "      <td>PC 17599</td>\n",
       "      <td>71.2833</td>\n",
       "      <td>C85</td>\n",
       "      <td>C</td>\n",
       "      <td>1</td>\n",
       "    </tr>\n",
       "    <tr>\n",
       "      <th>2</th>\n",
       "      <td>3</td>\n",
       "      <td>3</td>\n",
       "      <td>Heikkinen, Miss. Laina</td>\n",
       "      <td>female</td>\n",
       "      <td>26.0</td>\n",
       "      <td>0</td>\n",
       "      <td>0</td>\n",
       "      <td>STON/O2. 3101282</td>\n",
       "      <td>7.9250</td>\n",
       "      <td>NaN</td>\n",
       "      <td>S</td>\n",
       "      <td>1</td>\n",
       "    </tr>\n",
       "    <tr>\n",
       "      <th>3</th>\n",
       "      <td>4</td>\n",
       "      <td>1</td>\n",
       "      <td>Futrelle, Mrs. Jacques Heath (Lily May Peel)</td>\n",
       "      <td>female</td>\n",
       "      <td>35.0</td>\n",
       "      <td>1</td>\n",
       "      <td>0</td>\n",
       "      <td>113803</td>\n",
       "      <td>53.1000</td>\n",
       "      <td>C123</td>\n",
       "      <td>S</td>\n",
       "      <td>1</td>\n",
       "    </tr>\n",
       "    <tr>\n",
       "      <th>4</th>\n",
       "      <td>5</td>\n",
       "      <td>3</td>\n",
       "      <td>Allen, Mr. William Henry</td>\n",
       "      <td>male</td>\n",
       "      <td>35.0</td>\n",
       "      <td>0</td>\n",
       "      <td>0</td>\n",
       "      <td>373450</td>\n",
       "      <td>8.0500</td>\n",
       "      <td>NaN</td>\n",
       "      <td>S</td>\n",
       "      <td>0</td>\n",
       "    </tr>\n",
       "  </tbody>\n",
       "</table>\n",
       "</div>"
      ],
      "text/plain": [
       "   PassengerId  Pclass                                               Name  \\\n",
       "0            1       3                            Braund, Mr. Owen Harris   \n",
       "1            2       1  Cumings, Mrs. John Bradley (Florence Briggs Th...   \n",
       "2            3       3                             Heikkinen, Miss. Laina   \n",
       "3            4       1       Futrelle, Mrs. Jacques Heath (Lily May Peel)   \n",
       "4            5       3                           Allen, Mr. William Henry   \n",
       "\n",
       "      Sex   Age  SibSp  Parch            Ticket     Fare Cabin Embarked  \\\n",
       "0    male  22.0      1      0         A/5 21171   7.2500   NaN        S   \n",
       "1  female  38.0      1      0          PC 17599  71.2833   C85        C   \n",
       "2  female  26.0      0      0  STON/O2. 3101282   7.9250   NaN        S   \n",
       "3  female  35.0      1      0            113803  53.1000  C123        S   \n",
       "4    male  35.0      0      0            373450   8.0500   NaN        S   \n",
       "\n",
       "   Survived  \n",
       "0         0  \n",
       "1         1  \n",
       "2         1  \n",
       "3         1  \n",
       "4         0  "
      ]
     },
     "execution_count": 13,
     "metadata": {},
     "output_type": "execute_result"
    }
   ],
   "source": [
    "df.head() "
   ]
  },
  {
   "cell_type": "markdown",
   "id": "3b27356c",
   "metadata": {},
   "source": [
    "\n",
    "2. **Manipulación Básica**: Seleccionar y modificar columnas, crear nuevas columnas a partir de otras, y filtrar datos basándose en condiciones.\n"
   ]
  },
  {
   "cell_type": "code",
   "execution_count": 14,
   "id": "807fc319",
   "metadata": {},
   "outputs": [],
   "source": [
    "# Automatizar la obtención de datos en local\n",
    "\n",
    "def obtener_datos_local(ubicacion):\n",
    "    '''INPUT: la ubicacion debe ser una cada cruda es decir, precedida por la letra r'''\n",
    "    import pandas as pd \n",
    "    ubicacion_organizada = ubicacion.replace(r'\\\\', '/')\n",
    "    return pd.read_csv(ubicacion_organizada)"
   ]
  },
  {
   "cell_type": "code",
   "execution_count": 16,
   "id": "e9831ffa",
   "metadata": {},
   "outputs": [],
   "source": [
    "df = obtener_datos_local(r'C:\\Users\\marco\\Documentos\\investigacion\\didactica_ciencia_datos\\3_datasets\\vivienda/vivienda.csv')"
   ]
  },
  {
   "cell_type": "code",
   "execution_count": 17,
   "id": "b753323a",
   "metadata": {},
   "outputs": [
    {
     "data": {
      "text/html": [
       "<div>\n",
       "<style scoped>\n",
       "    .dataframe tbody tr th:only-of-type {\n",
       "        vertical-align: middle;\n",
       "    }\n",
       "\n",
       "    .dataframe tbody tr th {\n",
       "        vertical-align: top;\n",
       "    }\n",
       "\n",
       "    .dataframe thead th {\n",
       "        text-align: right;\n",
       "    }\n",
       "</style>\n",
       "<table border=\"1\" class=\"dataframe\">\n",
       "  <thead>\n",
       "    <tr style=\"text-align: right;\">\n",
       "      <th></th>\n",
       "      <th>longitud</th>\n",
       "      <th>latitud</th>\n",
       "      <th>antiguedad</th>\n",
       "      <th>habitaciones</th>\n",
       "      <th>dormitorios</th>\n",
       "      <th>población</th>\n",
       "      <th>hogares</th>\n",
       "      <th>ingresos</th>\n",
       "      <th>proximidad</th>\n",
       "      <th>precio</th>\n",
       "    </tr>\n",
       "  </thead>\n",
       "  <tbody>\n",
       "    <tr>\n",
       "      <th>0</th>\n",
       "      <td>-122.23</td>\n",
       "      <td>37.88</td>\n",
       "      <td>41.0</td>\n",
       "      <td>880.0</td>\n",
       "      <td>129.0</td>\n",
       "      <td>322.0</td>\n",
       "      <td>126.0</td>\n",
       "      <td>8.3252</td>\n",
       "      <td>NEAR BAY</td>\n",
       "      <td>452600.0</td>\n",
       "    </tr>\n",
       "    <tr>\n",
       "      <th>1</th>\n",
       "      <td>-122.22</td>\n",
       "      <td>37.86</td>\n",
       "      <td>21.0</td>\n",
       "      <td>7099.0</td>\n",
       "      <td>1106.0</td>\n",
       "      <td>2401.0</td>\n",
       "      <td>1138.0</td>\n",
       "      <td>8.3014</td>\n",
       "      <td>NEAR BAY</td>\n",
       "      <td>358500.0</td>\n",
       "    </tr>\n",
       "    <tr>\n",
       "      <th>2</th>\n",
       "      <td>-122.24</td>\n",
       "      <td>37.85</td>\n",
       "      <td>52.0</td>\n",
       "      <td>1467.0</td>\n",
       "      <td>190.0</td>\n",
       "      <td>496.0</td>\n",
       "      <td>177.0</td>\n",
       "      <td>7.2574</td>\n",
       "      <td>NEAR BAY</td>\n",
       "      <td>352100.0</td>\n",
       "    </tr>\n",
       "    <tr>\n",
       "      <th>3</th>\n",
       "      <td>-122.25</td>\n",
       "      <td>37.85</td>\n",
       "      <td>52.0</td>\n",
       "      <td>1274.0</td>\n",
       "      <td>235.0</td>\n",
       "      <td>558.0</td>\n",
       "      <td>219.0</td>\n",
       "      <td>5.6431</td>\n",
       "      <td>NEAR BAY</td>\n",
       "      <td>341300.0</td>\n",
       "    </tr>\n",
       "    <tr>\n",
       "      <th>4</th>\n",
       "      <td>-122.25</td>\n",
       "      <td>37.85</td>\n",
       "      <td>52.0</td>\n",
       "      <td>1627.0</td>\n",
       "      <td>280.0</td>\n",
       "      <td>565.0</td>\n",
       "      <td>259.0</td>\n",
       "      <td>3.8462</td>\n",
       "      <td>NEAR BAY</td>\n",
       "      <td>342200.0</td>\n",
       "    </tr>\n",
       "  </tbody>\n",
       "</table>\n",
       "</div>"
      ],
      "text/plain": [
       "   longitud  latitud  antiguedad  habitaciones  dormitorios  población  \\\n",
       "0   -122.23    37.88        41.0         880.0        129.0      322.0   \n",
       "1   -122.22    37.86        21.0        7099.0       1106.0     2401.0   \n",
       "2   -122.24    37.85        52.0        1467.0        190.0      496.0   \n",
       "3   -122.25    37.85        52.0        1274.0        235.0      558.0   \n",
       "4   -122.25    37.85        52.0        1627.0        280.0      565.0   \n",
       "\n",
       "   hogares  ingresos proximidad    precio  \n",
       "0    126.0    8.3252   NEAR BAY  452600.0  \n",
       "1   1138.0    8.3014   NEAR BAY  358500.0  \n",
       "2    177.0    7.2574   NEAR BAY  352100.0  \n",
       "3    219.0    5.6431   NEAR BAY  341300.0  \n",
       "4    259.0    3.8462   NEAR BAY  342200.0  "
      ]
     },
     "execution_count": 17,
     "metadata": {},
     "output_type": "execute_result"
    }
   ],
   "source": [
    "df.head() "
   ]
  },
  {
   "cell_type": "code",
   "execution_count": 18,
   "id": "45928b58",
   "metadata": {},
   "outputs": [],
   "source": [
    "df['dormitorios_por_hogar'] = df.dormitorios/df.hogares "
   ]
  },
  {
   "cell_type": "code",
   "execution_count": 19,
   "id": "4f0cb4b9",
   "metadata": {},
   "outputs": [
    {
     "data": {
      "text/html": [
       "<div>\n",
       "<style scoped>\n",
       "    .dataframe tbody tr th:only-of-type {\n",
       "        vertical-align: middle;\n",
       "    }\n",
       "\n",
       "    .dataframe tbody tr th {\n",
       "        vertical-align: top;\n",
       "    }\n",
       "\n",
       "    .dataframe thead th {\n",
       "        text-align: right;\n",
       "    }\n",
       "</style>\n",
       "<table border=\"1\" class=\"dataframe\">\n",
       "  <thead>\n",
       "    <tr style=\"text-align: right;\">\n",
       "      <th></th>\n",
       "      <th>longitud</th>\n",
       "      <th>latitud</th>\n",
       "      <th>antiguedad</th>\n",
       "      <th>habitaciones</th>\n",
       "      <th>dormitorios</th>\n",
       "      <th>población</th>\n",
       "      <th>hogares</th>\n",
       "      <th>ingresos</th>\n",
       "      <th>proximidad</th>\n",
       "      <th>precio</th>\n",
       "      <th>dormitorios_por_hogar</th>\n",
       "    </tr>\n",
       "  </thead>\n",
       "  <tbody>\n",
       "    <tr>\n",
       "      <th>0</th>\n",
       "      <td>-122.23</td>\n",
       "      <td>37.88</td>\n",
       "      <td>41.0</td>\n",
       "      <td>880.0</td>\n",
       "      <td>129.0</td>\n",
       "      <td>322.0</td>\n",
       "      <td>126.0</td>\n",
       "      <td>8.3252</td>\n",
       "      <td>NEAR BAY</td>\n",
       "      <td>452600.0</td>\n",
       "      <td>1.023810</td>\n",
       "    </tr>\n",
       "    <tr>\n",
       "      <th>1</th>\n",
       "      <td>-122.22</td>\n",
       "      <td>37.86</td>\n",
       "      <td>21.0</td>\n",
       "      <td>7099.0</td>\n",
       "      <td>1106.0</td>\n",
       "      <td>2401.0</td>\n",
       "      <td>1138.0</td>\n",
       "      <td>8.3014</td>\n",
       "      <td>NEAR BAY</td>\n",
       "      <td>358500.0</td>\n",
       "      <td>0.971880</td>\n",
       "    </tr>\n",
       "    <tr>\n",
       "      <th>2</th>\n",
       "      <td>-122.24</td>\n",
       "      <td>37.85</td>\n",
       "      <td>52.0</td>\n",
       "      <td>1467.0</td>\n",
       "      <td>190.0</td>\n",
       "      <td>496.0</td>\n",
       "      <td>177.0</td>\n",
       "      <td>7.2574</td>\n",
       "      <td>NEAR BAY</td>\n",
       "      <td>352100.0</td>\n",
       "      <td>1.073446</td>\n",
       "    </tr>\n",
       "    <tr>\n",
       "      <th>3</th>\n",
       "      <td>-122.25</td>\n",
       "      <td>37.85</td>\n",
       "      <td>52.0</td>\n",
       "      <td>1274.0</td>\n",
       "      <td>235.0</td>\n",
       "      <td>558.0</td>\n",
       "      <td>219.0</td>\n",
       "      <td>5.6431</td>\n",
       "      <td>NEAR BAY</td>\n",
       "      <td>341300.0</td>\n",
       "      <td>1.073059</td>\n",
       "    </tr>\n",
       "    <tr>\n",
       "      <th>4</th>\n",
       "      <td>-122.25</td>\n",
       "      <td>37.85</td>\n",
       "      <td>52.0</td>\n",
       "      <td>1627.0</td>\n",
       "      <td>280.0</td>\n",
       "      <td>565.0</td>\n",
       "      <td>259.0</td>\n",
       "      <td>3.8462</td>\n",
       "      <td>NEAR BAY</td>\n",
       "      <td>342200.0</td>\n",
       "      <td>1.081081</td>\n",
       "    </tr>\n",
       "  </tbody>\n",
       "</table>\n",
       "</div>"
      ],
      "text/plain": [
       "   longitud  latitud  antiguedad  habitaciones  dormitorios  población  \\\n",
       "0   -122.23    37.88        41.0         880.0        129.0      322.0   \n",
       "1   -122.22    37.86        21.0        7099.0       1106.0     2401.0   \n",
       "2   -122.24    37.85        52.0        1467.0        190.0      496.0   \n",
       "3   -122.25    37.85        52.0        1274.0        235.0      558.0   \n",
       "4   -122.25    37.85        52.0        1627.0        280.0      565.0   \n",
       "\n",
       "   hogares  ingresos proximidad    precio  dormitorios_por_hogar  \n",
       "0    126.0    8.3252   NEAR BAY  452600.0               1.023810  \n",
       "1   1138.0    8.3014   NEAR BAY  358500.0               0.971880  \n",
       "2    177.0    7.2574   NEAR BAY  352100.0               1.073446  \n",
       "3    219.0    5.6431   NEAR BAY  341300.0               1.073059  \n",
       "4    259.0    3.8462   NEAR BAY  342200.0               1.081081  "
      ]
     },
     "execution_count": 19,
     "metadata": {},
     "output_type": "execute_result"
    }
   ],
   "source": [
    "df.head() "
   ]
  },
  {
   "cell_type": "markdown",
   "id": "95ac13cd",
   "metadata": {},
   "source": [
    "\n",
    "3. **Limpieza de Datos**: Usar métodos para manejar valores nulos y eliminar registros duplicados. Transformar tipos de datos de columnas según se necesite.\n"
   ]
  },
  {
   "cell_type": "markdown",
   "id": "f5b825bb",
   "metadata": {},
   "source": [
    "\n",
    "4. **Transformación y Agrupación**: Aplicar `groupby()` para obtener estadísticas agregadas y usar `apply()` para crear nuevas características a partir de columnas existentes.\n"
   ]
  },
  {
   "cell_type": "markdown",
   "id": "0c5a5c50",
   "metadata": {},
   "source": [
    "\n",
    "5. **Preparación de Datos para Machine Learning**: Estandarizar las columnas numéricas y codificar las variables categóricas. Dividir el conjunto de datos en entrenamiento y prueba.\n"
   ]
  },
  {
   "cell_type": "markdown",
   "id": "ab7d79ac",
   "metadata": {},
   "source": [
    "# Anexo 1 a la Clase sobre DataFrame\n",
    "\n",
    "## El atributo `.str` en un dataframe. "
   ]
  },
  {
   "cell_type": "markdown",
   "id": "6654cd7a",
   "metadata": {},
   "source": [
    "El atributo `str` en un DataFrame de pandas es una propiedad que proporciona acceso a una serie de métodos vectorizados para operar sobre datos de tipo string (cadena de texto) en una columna del DataFrame. Esto es útil para realizar operaciones comunes de manipulación y transformación de texto.\n"
   ]
  },
  {
   "cell_type": "markdown",
   "id": "abf0092d",
   "metadata": {},
   "source": [
    "\n",
    "### Uso del atributo `str`\n",
    "\n",
    "El atributo `str` se utiliza en combinación con una columna del DataFrame que contiene datos de tipo string. Aquí hay algunos ejemplos de las operaciones que puedes realizar utilizando `str`:\n",
    "\n",
    "1. **Convertir a minúsculas o mayúsculas:**\n"
   ]
  },
  {
   "cell_type": "code",
   "execution_count": 54,
   "id": "d80c5070",
   "metadata": {},
   "outputs": [
    {
     "ename": "KeyError",
     "evalue": "'columna'",
     "output_type": "error",
     "traceback": [
      "\u001b[1;31m---------------------------------------------------------------------------\u001b[0m",
      "\u001b[1;31mKeyError\u001b[0m                                  Traceback (most recent call last)",
      "File \u001b[1;32mc:\\Users\\marco\\anaconda3\\Lib\\site-packages\\pandas\\core\\indexes\\base.py:3805\u001b[0m, in \u001b[0;36mIndex.get_loc\u001b[1;34m(self, key)\u001b[0m\n\u001b[0;32m   3804\u001b[0m \u001b[38;5;28;01mtry\u001b[39;00m:\n\u001b[1;32m-> 3805\u001b[0m     \u001b[38;5;28;01mreturn\u001b[39;00m \u001b[38;5;28;43mself\u001b[39;49m\u001b[38;5;241;43m.\u001b[39;49m\u001b[43m_engine\u001b[49m\u001b[38;5;241;43m.\u001b[39;49m\u001b[43mget_loc\u001b[49m\u001b[43m(\u001b[49m\u001b[43mcasted_key\u001b[49m\u001b[43m)\u001b[49m\n\u001b[0;32m   3806\u001b[0m \u001b[38;5;28;01mexcept\u001b[39;00m \u001b[38;5;167;01mKeyError\u001b[39;00m \u001b[38;5;28;01mas\u001b[39;00m err:\n",
      "File \u001b[1;32mindex.pyx:167\u001b[0m, in \u001b[0;36mpandas._libs.index.IndexEngine.get_loc\u001b[1;34m()\u001b[0m\n",
      "File \u001b[1;32mindex.pyx:196\u001b[0m, in \u001b[0;36mpandas._libs.index.IndexEngine.get_loc\u001b[1;34m()\u001b[0m\n",
      "File \u001b[1;32mpandas\\\\_libs\\\\hashtable_class_helper.pxi:7081\u001b[0m, in \u001b[0;36mpandas._libs.hashtable.PyObjectHashTable.get_item\u001b[1;34m()\u001b[0m\n",
      "File \u001b[1;32mpandas\\\\_libs\\\\hashtable_class_helper.pxi:7089\u001b[0m, in \u001b[0;36mpandas._libs.hashtable.PyObjectHashTable.get_item\u001b[1;34m()\u001b[0m\n",
      "\u001b[1;31mKeyError\u001b[0m: 'columna'",
      "\nThe above exception was the direct cause of the following exception:\n",
      "\u001b[1;31mKeyError\u001b[0m                                  Traceback (most recent call last)",
      "Cell \u001b[1;32mIn[54], line 1\u001b[0m\n\u001b[1;32m----> 1\u001b[0m \u001b[43mdf\u001b[49m\u001b[43m[\u001b[49m\u001b[38;5;124;43m'\u001b[39;49m\u001b[38;5;124;43mcolumna\u001b[39;49m\u001b[38;5;124;43m'\u001b[39;49m\u001b[43m]\u001b[49m\u001b[38;5;241m.\u001b[39mstr\u001b[38;5;241m.\u001b[39mlower()  \u001b[38;5;66;03m# Convierte todos los caracteres a minúsculas\u001b[39;00m\n\u001b[0;32m      2\u001b[0m df[\u001b[38;5;124m'\u001b[39m\u001b[38;5;124mcolumna\u001b[39m\u001b[38;5;124m'\u001b[39m]\u001b[38;5;241m.\u001b[39mstr\u001b[38;5;241m.\u001b[39mupper()  \u001b[38;5;66;03m# Convierte todos los caracteres a mayúsculas\u001b[39;00m\n",
      "File \u001b[1;32mc:\\Users\\marco\\anaconda3\\Lib\\site-packages\\pandas\\core\\frame.py:4102\u001b[0m, in \u001b[0;36mDataFrame.__getitem__\u001b[1;34m(self, key)\u001b[0m\n\u001b[0;32m   4100\u001b[0m \u001b[38;5;28;01mif\u001b[39;00m \u001b[38;5;28mself\u001b[39m\u001b[38;5;241m.\u001b[39mcolumns\u001b[38;5;241m.\u001b[39mnlevels \u001b[38;5;241m>\u001b[39m \u001b[38;5;241m1\u001b[39m:\n\u001b[0;32m   4101\u001b[0m     \u001b[38;5;28;01mreturn\u001b[39;00m \u001b[38;5;28mself\u001b[39m\u001b[38;5;241m.\u001b[39m_getitem_multilevel(key)\n\u001b[1;32m-> 4102\u001b[0m indexer \u001b[38;5;241m=\u001b[39m \u001b[38;5;28;43mself\u001b[39;49m\u001b[38;5;241;43m.\u001b[39;49m\u001b[43mcolumns\u001b[49m\u001b[38;5;241;43m.\u001b[39;49m\u001b[43mget_loc\u001b[49m\u001b[43m(\u001b[49m\u001b[43mkey\u001b[49m\u001b[43m)\u001b[49m\n\u001b[0;32m   4103\u001b[0m \u001b[38;5;28;01mif\u001b[39;00m is_integer(indexer):\n\u001b[0;32m   4104\u001b[0m     indexer \u001b[38;5;241m=\u001b[39m [indexer]\n",
      "File \u001b[1;32mc:\\Users\\marco\\anaconda3\\Lib\\site-packages\\pandas\\core\\indexes\\base.py:3812\u001b[0m, in \u001b[0;36mIndex.get_loc\u001b[1;34m(self, key)\u001b[0m\n\u001b[0;32m   3807\u001b[0m     \u001b[38;5;28;01mif\u001b[39;00m \u001b[38;5;28misinstance\u001b[39m(casted_key, \u001b[38;5;28mslice\u001b[39m) \u001b[38;5;129;01mor\u001b[39;00m (\n\u001b[0;32m   3808\u001b[0m         \u001b[38;5;28misinstance\u001b[39m(casted_key, abc\u001b[38;5;241m.\u001b[39mIterable)\n\u001b[0;32m   3809\u001b[0m         \u001b[38;5;129;01mand\u001b[39;00m \u001b[38;5;28many\u001b[39m(\u001b[38;5;28misinstance\u001b[39m(x, \u001b[38;5;28mslice\u001b[39m) \u001b[38;5;28;01mfor\u001b[39;00m x \u001b[38;5;129;01min\u001b[39;00m casted_key)\n\u001b[0;32m   3810\u001b[0m     ):\n\u001b[0;32m   3811\u001b[0m         \u001b[38;5;28;01mraise\u001b[39;00m InvalidIndexError(key)\n\u001b[1;32m-> 3812\u001b[0m     \u001b[38;5;28;01mraise\u001b[39;00m \u001b[38;5;167;01mKeyError\u001b[39;00m(key) \u001b[38;5;28;01mfrom\u001b[39;00m \u001b[38;5;21;01merr\u001b[39;00m\n\u001b[0;32m   3813\u001b[0m \u001b[38;5;28;01mexcept\u001b[39;00m \u001b[38;5;167;01mTypeError\u001b[39;00m:\n\u001b[0;32m   3814\u001b[0m     \u001b[38;5;66;03m# If we have a listlike key, _check_indexing_error will raise\u001b[39;00m\n\u001b[0;32m   3815\u001b[0m     \u001b[38;5;66;03m#  InvalidIndexError. Otherwise we fall through and re-raise\u001b[39;00m\n\u001b[0;32m   3816\u001b[0m     \u001b[38;5;66;03m#  the TypeError.\u001b[39;00m\n\u001b[0;32m   3817\u001b[0m     \u001b[38;5;28mself\u001b[39m\u001b[38;5;241m.\u001b[39m_check_indexing_error(key)\n",
      "\u001b[1;31mKeyError\u001b[0m: 'columna'"
     ]
    }
   ],
   "source": [
    "df['columna'].str.lower()  # Convierte todos los caracteres a minúsculas\n",
    "df['columna'].str.upper()  # Convierte todos los caracteres a mayúsculas\n",
    "\n"
   ]
  },
  {
   "cell_type": "markdown",
   "id": "43ad2f46",
   "metadata": {},
   "source": [
    "\n",
    "2. **Reemplazar partes de una cadena:**\n"
   ]
  },
  {
   "cell_type": "markdown",
   "id": "8d42c8d2",
   "metadata": {},
   "source": [
    "    ```python\n",
    "    df['columna'].str.replace('antiguo', 'nuevo')  # Reemplaza 'antiguo' por 'nuevo' en cada cadena\n",
    "    ```\n"
   ]
  },
  {
   "cell_type": "markdown",
   "id": "ace62e17",
   "metadata": {},
   "source": [
    "\n",
    "3. **Eliminar espacios en blanco:**\n"
   ]
  },
  {
   "cell_type": "code",
   "execution_count": 49,
   "id": "fcf31094",
   "metadata": {},
   "outputs": [
    {
     "ename": "KeyError",
     "evalue": "'columna'",
     "output_type": "error",
     "traceback": [
      "\u001b[1;31m---------------------------------------------------------------------------\u001b[0m",
      "\u001b[1;31mKeyError\u001b[0m                                  Traceback (most recent call last)",
      "File \u001b[1;32mc:\\Users\\marco\\anaconda3\\Lib\\site-packages\\pandas\\core\\indexes\\base.py:3805\u001b[0m, in \u001b[0;36mIndex.get_loc\u001b[1;34m(self, key)\u001b[0m\n\u001b[0;32m   3804\u001b[0m \u001b[38;5;28;01mtry\u001b[39;00m:\n\u001b[1;32m-> 3805\u001b[0m     \u001b[38;5;28;01mreturn\u001b[39;00m \u001b[38;5;28;43mself\u001b[39;49m\u001b[38;5;241;43m.\u001b[39;49m\u001b[43m_engine\u001b[49m\u001b[38;5;241;43m.\u001b[39;49m\u001b[43mget_loc\u001b[49m\u001b[43m(\u001b[49m\u001b[43mcasted_key\u001b[49m\u001b[43m)\u001b[49m\n\u001b[0;32m   3806\u001b[0m \u001b[38;5;28;01mexcept\u001b[39;00m \u001b[38;5;167;01mKeyError\u001b[39;00m \u001b[38;5;28;01mas\u001b[39;00m err:\n",
      "File \u001b[1;32mindex.pyx:167\u001b[0m, in \u001b[0;36mpandas._libs.index.IndexEngine.get_loc\u001b[1;34m()\u001b[0m\n",
      "File \u001b[1;32mindex.pyx:196\u001b[0m, in \u001b[0;36mpandas._libs.index.IndexEngine.get_loc\u001b[1;34m()\u001b[0m\n",
      "File \u001b[1;32mpandas\\\\_libs\\\\hashtable_class_helper.pxi:7081\u001b[0m, in \u001b[0;36mpandas._libs.hashtable.PyObjectHashTable.get_item\u001b[1;34m()\u001b[0m\n",
      "File \u001b[1;32mpandas\\\\_libs\\\\hashtable_class_helper.pxi:7089\u001b[0m, in \u001b[0;36mpandas._libs.hashtable.PyObjectHashTable.get_item\u001b[1;34m()\u001b[0m\n",
      "\u001b[1;31mKeyError\u001b[0m: 'columna'",
      "\nThe above exception was the direct cause of the following exception:\n",
      "\u001b[1;31mKeyError\u001b[0m                                  Traceback (most recent call last)",
      "Cell \u001b[1;32mIn[49], line 1\u001b[0m\n\u001b[1;32m----> 1\u001b[0m \u001b[43mdf\u001b[49m\u001b[43m[\u001b[49m\u001b[38;5;124;43m'\u001b[39;49m\u001b[38;5;124;43mcolumna\u001b[39;49m\u001b[38;5;124;43m'\u001b[39;49m\u001b[43m]\u001b[49m\u001b[38;5;241m.\u001b[39mstr\u001b[38;5;241m.\u001b[39mstrip()  \u001b[38;5;66;03m# Elimina espacios en blanco al inicio y al final de cada cadena\u001b[39;00m\n\u001b[0;32m      2\u001b[0m df[\u001b[38;5;124m'\u001b[39m\u001b[38;5;124mcolumna\u001b[39m\u001b[38;5;124m'\u001b[39m]\u001b[38;5;241m.\u001b[39mstr\u001b[38;5;241m.\u001b[39mlstrip()  \u001b[38;5;66;03m# Elimina espacios en blanco al inicio de cada cadena\u001b[39;00m\n\u001b[0;32m      3\u001b[0m df[\u001b[38;5;124m'\u001b[39m\u001b[38;5;124mcolumna\u001b[39m\u001b[38;5;124m'\u001b[39m]\u001b[38;5;241m.\u001b[39mstr\u001b[38;5;241m.\u001b[39mrstrip()  \u001b[38;5;66;03m# Elimina espacios en blanco al final de cada cadena\u001b[39;00m\n",
      "File \u001b[1;32mc:\\Users\\marco\\anaconda3\\Lib\\site-packages\\pandas\\core\\frame.py:4102\u001b[0m, in \u001b[0;36mDataFrame.__getitem__\u001b[1;34m(self, key)\u001b[0m\n\u001b[0;32m   4100\u001b[0m \u001b[38;5;28;01mif\u001b[39;00m \u001b[38;5;28mself\u001b[39m\u001b[38;5;241m.\u001b[39mcolumns\u001b[38;5;241m.\u001b[39mnlevels \u001b[38;5;241m>\u001b[39m \u001b[38;5;241m1\u001b[39m:\n\u001b[0;32m   4101\u001b[0m     \u001b[38;5;28;01mreturn\u001b[39;00m \u001b[38;5;28mself\u001b[39m\u001b[38;5;241m.\u001b[39m_getitem_multilevel(key)\n\u001b[1;32m-> 4102\u001b[0m indexer \u001b[38;5;241m=\u001b[39m \u001b[38;5;28;43mself\u001b[39;49m\u001b[38;5;241;43m.\u001b[39;49m\u001b[43mcolumns\u001b[49m\u001b[38;5;241;43m.\u001b[39;49m\u001b[43mget_loc\u001b[49m\u001b[43m(\u001b[49m\u001b[43mkey\u001b[49m\u001b[43m)\u001b[49m\n\u001b[0;32m   4103\u001b[0m \u001b[38;5;28;01mif\u001b[39;00m is_integer(indexer):\n\u001b[0;32m   4104\u001b[0m     indexer \u001b[38;5;241m=\u001b[39m [indexer]\n",
      "File \u001b[1;32mc:\\Users\\marco\\anaconda3\\Lib\\site-packages\\pandas\\core\\indexes\\base.py:3812\u001b[0m, in \u001b[0;36mIndex.get_loc\u001b[1;34m(self, key)\u001b[0m\n\u001b[0;32m   3807\u001b[0m     \u001b[38;5;28;01mif\u001b[39;00m \u001b[38;5;28misinstance\u001b[39m(casted_key, \u001b[38;5;28mslice\u001b[39m) \u001b[38;5;129;01mor\u001b[39;00m (\n\u001b[0;32m   3808\u001b[0m         \u001b[38;5;28misinstance\u001b[39m(casted_key, abc\u001b[38;5;241m.\u001b[39mIterable)\n\u001b[0;32m   3809\u001b[0m         \u001b[38;5;129;01mand\u001b[39;00m \u001b[38;5;28many\u001b[39m(\u001b[38;5;28misinstance\u001b[39m(x, \u001b[38;5;28mslice\u001b[39m) \u001b[38;5;28;01mfor\u001b[39;00m x \u001b[38;5;129;01min\u001b[39;00m casted_key)\n\u001b[0;32m   3810\u001b[0m     ):\n\u001b[0;32m   3811\u001b[0m         \u001b[38;5;28;01mraise\u001b[39;00m InvalidIndexError(key)\n\u001b[1;32m-> 3812\u001b[0m     \u001b[38;5;28;01mraise\u001b[39;00m \u001b[38;5;167;01mKeyError\u001b[39;00m(key) \u001b[38;5;28;01mfrom\u001b[39;00m \u001b[38;5;21;01merr\u001b[39;00m\n\u001b[0;32m   3813\u001b[0m \u001b[38;5;28;01mexcept\u001b[39;00m \u001b[38;5;167;01mTypeError\u001b[39;00m:\n\u001b[0;32m   3814\u001b[0m     \u001b[38;5;66;03m# If we have a listlike key, _check_indexing_error will raise\u001b[39;00m\n\u001b[0;32m   3815\u001b[0m     \u001b[38;5;66;03m#  InvalidIndexError. Otherwise we fall through and re-raise\u001b[39;00m\n\u001b[0;32m   3816\u001b[0m     \u001b[38;5;66;03m#  the TypeError.\u001b[39;00m\n\u001b[0;32m   3817\u001b[0m     \u001b[38;5;28mself\u001b[39m\u001b[38;5;241m.\u001b[39m_check_indexing_error(key)\n",
      "\u001b[1;31mKeyError\u001b[0m: 'columna'"
     ]
    }
   ],
   "source": [
    "df['columna'].str.strip()  # Elimina espacios en blanco al inicio y al final de cada cadena\n",
    "df['columna'].str.lstrip()  # Elimina espacios en blanco al inicio de cada cadena\n",
    "df['columna'].str.rstrip()  # Elimina espacios en blanco al final de cada cadena\n",
    "\n"
   ]
  },
  {
   "cell_type": "markdown",
   "id": "63bea8ad",
   "metadata": {},
   "source": [
    "\n",
    "4. **Dividir cadenas:**\n"
   ]
  },
  {
   "cell_type": "code",
   "execution_count": null,
   "id": "17653365",
   "metadata": {},
   "outputs": [],
   "source": [
    "df['columna'].str.split('separador')  # Divide cada cadena usando el separador especificado y devuelve una lista\n",
    "\n"
   ]
  },
  {
   "cell_type": "markdown",
   "id": "b42b6752",
   "metadata": {},
   "source": [
    "\n",
    "5. **Extracción de subcadenas:**\n"
   ]
  },
  {
   "cell_type": "markdown",
   "id": "c0b78834",
   "metadata": {},
   "source": [
    "    ```python\n",
    "    df['columna'].str.slice(start, stop)  # Extrae una subcadena desde la posición 'start' hasta 'stop'\n",
    "    ```\n",
    "\n",
    "6. **Comprobar la presencia de un patrón:**\n"
   ]
  },
  {
   "cell_type": "markdown",
   "id": "e70de21f",
   "metadata": {},
   "source": [
    "    ```python\n",
    "    df['columna'].str.contains('patrón')  # Devuelve un booleano indicando si el patrón está presente en cada cadena\n",
    "    ```\n"
   ]
  },
  {
   "cell_type": "markdown",
   "id": "34351bab",
   "metadata": {},
   "source": [
    "\n",
    "### Ejemplo práctico:\n",
    "\n",
    "Aquí tienes un ejemplo práctico de cómo usar el atributo `str` para manipular datos de texto en un DataFrame:\n"
   ]
  },
  {
   "cell_type": "code",
   "execution_count": null,
   "id": "a69cc4f2",
   "metadata": {},
   "outputs": [],
   "source": [
    "\n",
    "\n",
    "import pandas as pd\n",
    "\n",
    "# Crear un DataFrame de ejemplo\n",
    "data = {\n",
    "    'nombres': [' Alice ', 'Bob', ' Charlie', 'david ', 'Eve']\n",
    "}\n",
    "df = pd.DataFrame(data)\n",
    "\n",
    "# Eliminar espacios en blanco al inicio y al final de cada cadena\n",
    "df['nombres'] = df['nombres'].str.strip()\n",
    "\n",
    "# Convertir todos los nombres a mayúsculas\n",
    "df['nombres'] = df['nombres'].str.upper()\n",
    "\n",
    "# Reemplazar 'BOB' por 'ROBERT'\n",
    "df['nombres'] = df['nombres'].str.replace('BOB', 'ROBERT')\n",
    "\n",
    "print(df)\n"
   ]
  },
  {
   "cell_type": "markdown",
   "id": "53a0b29b",
   "metadata": {},
   "source": [
    "\n",
    "### Salida:\n",
    "```plaintext\n",
    "    nombres\n",
    "0     ALICE\n",
    "1    ROBERT\n",
    "2   CHARLIE\n",
    "3     DAVID\n",
    "4       EVE\n",
    "```\n",
    "\n",
    "### Explicación:\n",
    "1. **Eliminar espacios en blanco**: `df['nombres'].str.strip()` elimina los espacios en blanco al inicio y al final de cada cadena en la columna `nombres`.\n",
    "2. **Convertir a mayúsculas**: `df['nombres'].str.upper()` convierte todos los caracteres a mayúsculas.\n",
    "3. **Reemplazar texto**: `df['nombres'].str.replace('BOB', 'ROBERT')` reemplaza todas las apariciones de 'BOB' con 'ROBERT'.\n",
    "\n",
    "El atributo `str` es una herramienta poderosa y versátil cuando se trabaja con datos de texto en pandas, permitiendo realizar una amplia gama de operaciones de manera eficiente y vectorizada."
   ]
  },
  {
   "cell_type": "code",
   "execution_count": 44,
   "id": "114e0811",
   "metadata": {},
   "outputs": [
    {
     "data": {
      "text/html": [
       "<div>\n",
       "<style scoped>\n",
       "    .dataframe tbody tr th:only-of-type {\n",
       "        vertical-align: middle;\n",
       "    }\n",
       "\n",
       "    .dataframe tbody tr th {\n",
       "        vertical-align: top;\n",
       "    }\n",
       "\n",
       "    .dataframe thead th {\n",
       "        text-align: right;\n",
       "    }\n",
       "</style>\n",
       "<table border=\"1\" class=\"dataframe\">\n",
       "  <thead>\n",
       "    <tr style=\"text-align: right;\">\n",
       "      <th></th>\n",
       "      <th>Nombre</th>\n",
       "      <th>Edad</th>\n",
       "    </tr>\n",
       "  </thead>\n",
       "  <tbody>\n",
       "    <tr>\n",
       "      <th>Padre</th>\n",
       "      <td>Marco</td>\n",
       "      <td>49</td>\n",
       "    </tr>\n",
       "    <tr>\n",
       "      <th>Hijo</th>\n",
       "      <td>Joseph</td>\n",
       "      <td>16</td>\n",
       "    </tr>\n",
       "  </tbody>\n",
       "</table>\n",
       "</div>"
      ],
      "text/plain": [
       "         Nombre  Edad\n",
       "Padre    Marco     49\n",
       "Hijo    Joseph     16"
      ]
     },
     "execution_count": 44,
     "metadata": {},
     "output_type": "execute_result"
    }
   ],
   "source": [
    "datos = [[' Marco ', 49], [' Joseph ', 16]]\n",
    "index = ['Padre', 'Hijo']\n",
    "columnas = ['Nombre', 'Edad'] \n",
    "\n",
    "df = pd.DataFrame(datos, index=index, columns=columnas)\n",
    "df "
   ]
  },
  {
   "cell_type": "code",
   "execution_count": 34,
   "id": "a6bb93ca",
   "metadata": {},
   "outputs": [
    {
     "name": "stdout",
     "output_type": "stream",
     "text": [
      "<class 'pandas.core.frame.DataFrame'>\n",
      "Index: 2 entries, Padre to Hijo\n",
      "Data columns (total 2 columns):\n",
      " #   Column  Non-Null Count  Dtype \n",
      "---  ------  --------------  ----- \n",
      " 0   Nombre  2 non-null      object\n",
      " 1   Edad    2 non-null      int64 \n",
      "dtypes: int64(1), object(1)\n",
      "memory usage: 48.0+ bytes\n"
     ]
    }
   ],
   "source": [
    "df.info() "
   ]
  },
  {
   "cell_type": "code",
   "execution_count": 38,
   "id": "cf14f1af",
   "metadata": {},
   "outputs": [],
   "source": [
    "df['Nombre'] = df['Nombre'].str.lower() "
   ]
  },
  {
   "cell_type": "code",
   "execution_count": 39,
   "id": "3903bd78",
   "metadata": {},
   "outputs": [
    {
     "data": {
      "text/html": [
       "<div>\n",
       "<style scoped>\n",
       "    .dataframe tbody tr th:only-of-type {\n",
       "        vertical-align: middle;\n",
       "    }\n",
       "\n",
       "    .dataframe tbody tr th {\n",
       "        vertical-align: top;\n",
       "    }\n",
       "\n",
       "    .dataframe thead th {\n",
       "        text-align: right;\n",
       "    }\n",
       "</style>\n",
       "<table border=\"1\" class=\"dataframe\">\n",
       "  <thead>\n",
       "    <tr style=\"text-align: right;\">\n",
       "      <th></th>\n",
       "      <th>Nombre</th>\n",
       "      <th>Edad</th>\n",
       "    </tr>\n",
       "  </thead>\n",
       "  <tbody>\n",
       "    <tr>\n",
       "      <th>Padre</th>\n",
       "      <td>marco</td>\n",
       "      <td>49</td>\n",
       "    </tr>\n",
       "    <tr>\n",
       "      <th>Hijo</th>\n",
       "      <td>joseph</td>\n",
       "      <td>16</td>\n",
       "    </tr>\n",
       "  </tbody>\n",
       "</table>\n",
       "</div>"
      ],
      "text/plain": [
       "       Nombre  Edad\n",
       "Padre   marco    49\n",
       "Hijo   joseph    16"
      ]
     },
     "execution_count": 39,
     "metadata": {},
     "output_type": "execute_result"
    }
   ],
   "source": [
    "df "
   ]
  },
  {
   "cell_type": "code",
   "execution_count": 40,
   "id": "2b24f580",
   "metadata": {},
   "outputs": [],
   "source": [
    "df['Nombre'] = df['Nombre'].str.upper() # Convertir a mayusculas"
   ]
  },
  {
   "cell_type": "code",
   "execution_count": 43,
   "id": "71de54c0",
   "metadata": {},
   "outputs": [
    {
     "data": {
      "text/plain": [
       "Padre     MARCA\n",
       "Hijo     JASEPH\n",
       "Name: Nombre, dtype: object"
      ]
     },
     "execution_count": 43,
     "metadata": {},
     "output_type": "execute_result"
    }
   ],
   "source": [
    "df['Nombre'].str.replace('O', 'A') "
   ]
  },
  {
   "cell_type": "code",
   "execution_count": 47,
   "id": "eaa3d03e",
   "metadata": {},
   "outputs": [
    {
     "data": {
      "text/plain": [
       "' Marco '"
      ]
     },
     "execution_count": 47,
     "metadata": {},
     "output_type": "execute_result"
    }
   ],
   "source": [
    "df['Nombre'].iloc[0] "
   ]
  },
  {
   "cell_type": "code",
   "execution_count": 49,
   "id": "1e425ea0",
   "metadata": {},
   "outputs": [],
   "source": [
    "df['Nombre'] = df['Nombre'].str.strip() "
   ]
  },
  {
   "cell_type": "code",
   "execution_count": 51,
   "id": "6141e5c8",
   "metadata": {},
   "outputs": [
    {
     "data": {
      "text/plain": [
       "'Marco'"
      ]
     },
     "execution_count": 51,
     "metadata": {},
     "output_type": "execute_result"
    }
   ],
   "source": [
    "df['Nombre'].iloc[0]"
   ]
  },
  {
   "cell_type": "code",
   "execution_count": 52,
   "id": "2f9a77ae",
   "metadata": {},
   "outputs": [
    {
     "data": {
      "text/html": [
       "<div>\n",
       "<style scoped>\n",
       "    .dataframe tbody tr th:only-of-type {\n",
       "        vertical-align: middle;\n",
       "    }\n",
       "\n",
       "    .dataframe tbody tr th {\n",
       "        vertical-align: top;\n",
       "    }\n",
       "\n",
       "    .dataframe thead th {\n",
       "        text-align: right;\n",
       "    }\n",
       "</style>\n",
       "<table border=\"1\" class=\"dataframe\">\n",
       "  <thead>\n",
       "    <tr style=\"text-align: right;\">\n",
       "      <th></th>\n",
       "      <th>Nombre</th>\n",
       "      <th>Edad</th>\n",
       "    </tr>\n",
       "  </thead>\n",
       "  <tbody>\n",
       "    <tr>\n",
       "      <th>Padre</th>\n",
       "      <td>Marco</td>\n",
       "      <td>49</td>\n",
       "    </tr>\n",
       "    <tr>\n",
       "      <th>Hijo</th>\n",
       "      <td>Joseph</td>\n",
       "      <td>16</td>\n",
       "    </tr>\n",
       "  </tbody>\n",
       "</table>\n",
       "</div>"
      ],
      "text/plain": [
       "       Nombre  Edad\n",
       "Padre   Marco    49\n",
       "Hijo   Joseph    16"
      ]
     },
     "execution_count": 52,
     "metadata": {},
     "output_type": "execute_result"
    }
   ],
   "source": [
    "df"
   ]
  },
  {
   "cell_type": "code",
   "execution_count": 53,
   "id": "b7a63556",
   "metadata": {},
   "outputs": [
    {
     "data": {
      "text/plain": [
       "Padre    [M, rco]\n",
       "Hijo     [Joseph]\n",
       "Name: Nombre, dtype: object"
      ]
     },
     "execution_count": 53,
     "metadata": {},
     "output_type": "execute_result"
    }
   ],
   "source": [
    "df['Nombre'].str.split('a')"
   ]
  },
  {
   "cell_type": "code",
   "execution_count": 2,
   "id": "15c49875",
   "metadata": {},
   "outputs": [
    {
     "ename": "ModuleNotFoundError",
     "evalue": "No module named 'wrf'",
     "output_type": "error",
     "traceback": [
      "\u001b[1;31m---------------------------------------------------------------------------\u001b[0m",
      "\u001b[1;31mModuleNotFoundError\u001b[0m                       Traceback (most recent call last)",
      "Cell \u001b[1;32mIn[2], line 1\u001b[0m\n\u001b[1;32m----> 1\u001b[0m \u001b[38;5;28;01mimport\u001b[39;00m \u001b[38;5;21;01mwrf\u001b[39;00m \n",
      "\u001b[1;31mModuleNotFoundError\u001b[0m: No module named 'wrf'"
     ]
    }
   ],
   "source": [
    "import wrf "
   ]
  }
 ],
 "metadata": {
  "celltoolbar": "Slideshow",
  "kernelspec": {
   "display_name": "base",
   "language": "python",
   "name": "python3"
  },
  "language_info": {
   "codemirror_mode": {
    "name": "ipython",
    "version": 3
   },
   "file_extension": ".py",
   "mimetype": "text/x-python",
   "name": "python",
   "nbconvert_exporter": "python",
   "pygments_lexer": "ipython3",
   "version": "3.12.4"
  }
 },
 "nbformat": 4,
 "nbformat_minor": 5
}
