{
 "cells": [
  {
   "cell_type": "markdown",
   "id": "03d2617b",
   "metadata": {},
   "source": [
    "# Open in colab \n"
   ]
  },
  {
   "cell_type": "markdown",
   "id": "e9ae6572",
   "metadata": {},
   "source": [
    "# [Encuesta en Google Forms]()  "
   ]
  },
  {
   "cell_type": "markdown",
   "id": "cef2b29e",
   "metadata": {},
   "source": [
    "\n",
    "# Guía Didáctica: Estructuras de Datos Básicas en Python\n",
    "\n",
    "## Objetivo de aprendizaje\n",
    "\n",
    "Que los estudiantes comprendan, manipulen y apliquen las estructuras de datos incorporadas en Python —`list`, `tuple`, `dict`, `set` y `str`— para modelar, organizar y analizar información en problemas matemáticos, de ciencia de datos y de aplicaciones reales.\n",
    "\n",
    "---\n"
   ]
  },
  {
   "cell_type": "markdown",
   "id": "a8b8072e",
   "metadata": {},
   "source": [
    "\n",
    "## 1️. Introducción (lectura previa a clase)\n",
    "\n",
    "En Python, las **estructuras de datos básicas** permiten almacenar y organizar información.\n",
    "Son como “contenedores” que se adaptan al tipo de problema que se quiera resolver:\n",
    "\n",
    "* **Listas (`list`)**: colecciones ordenadas y mutables.\n",
    "* **Tuplas (`tuple`)**: colecciones ordenadas e inmutables.\n",
    "* **Conjuntos (`set`)**: colecciones no ordenadas de elementos únicos.\n",
    "* **Diccionarios (`dict`)**: pares clave–valor, como un “mapa” de datos.\n",
    "* **Cadenas (`str`)**: secuencias de caracteres, útiles para representar texto.\n",
    "\n",
    "---\n"
   ]
  },
  {
   "cell_type": "markdown",
   "id": "5115df86",
   "metadata": {},
   "source": [
    "\n",
    "## 2️. Motivación con ABP (pregunta disparadora)\n",
    "\n",
    "**Problema:**\n",
    "Imagina que tienes que organizar la información de un grupo de estudiantes para trabajar en equipo:\n",
    "\n",
    "* Sus nombres.\n",
    "* El número de ejercicios que cada uno tiene asignado.\n",
    "* La lista de problemas que cada estudiante ya resolvió.\n",
    "\n",
    "👉 ¿Qué estructura de datos elegirías para cada caso?\n",
    "\n",
    "---\n"
   ]
  },
  {
   "cell_type": "markdown",
   "id": "d4e98d79",
   "metadata": {},
   "source": [
    "\n",
    "## 3️. Explicación paso a paso con ejemplos\n",
    "\n",
    "### 🔹 Listas\n"
   ]
  },
  {
   "cell_type": "code",
   "execution_count": 4,
   "id": "2ece0c31",
   "metadata": {},
   "outputs": [
    {
     "name": "stdout",
     "output_type": "stream",
     "text": [
      "Ana\n",
      "['Ana', 'Luis', 'María', 'Carlos', 'Julián']\n"
     ]
    }
   ],
   "source": [
    "\n",
    "estudiantes = [\"Ana\", \"Luis\", \"María\", \"Carlos\"]\n",
    "print(estudiantes[0])   # Ana\n",
    "estudiantes.append(\"Julián\")\n",
    "print(estudiantes)\n",
    "\n"
   ]
  },
  {
   "cell_type": "markdown",
   "id": "865f99fc",
   "metadata": {},
   "source": [
    "\n",
    "✔️ Útiles cuando necesitamos **agregar o modificar** elementos.\n",
    "\n",
    "---\n"
   ]
  },
  {
   "cell_type": "markdown",
   "id": "9b4568d2",
   "metadata": {},
   "source": [
    "\n",
    "### 🔹 Tuplas\n"
   ]
  },
  {
   "cell_type": "markdown",
   "id": "4c52589c",
   "metadata": {},
   "source": [
    "\n",
    "```python\n",
    "coordenada = (4, 5)\n",
    "print(coordenada[0])  # 4\n",
    "# coordenada[0] = 7  ❌ Error: no se puede modificar\n",
    "```\n"
   ]
  },
  {
   "cell_type": "markdown",
   "id": "c61f07b2",
   "metadata": {},
   "source": [
    "\n",
    "✔️ Se usan para datos que **no deben cambiar**, como coordenadas o fechas.\n",
    "\n",
    "---\n"
   ]
  },
  {
   "cell_type": "markdown",
   "id": "b1869033",
   "metadata": {},
   "source": [
    "\n",
    "### 🔹 Conjuntos\n"
   ]
  },
  {
   "cell_type": "code",
   "execution_count": 2,
   "id": "ac02aede",
   "metadata": {},
   "outputs": [
    {
     "name": "stdout",
     "output_type": "stream",
     "text": [
      "{1, 2, 3, 5, 6}\n"
     ]
    }
   ],
   "source": [
    "\n",
    "\n",
    "ejercicios_resueltos = {1, 2, 3, 5, 5, 6}\n",
    "print(ejercicios_resueltos)  # {1, 2, 3, 5, 6}\n",
    "\n"
   ]
  },
  {
   "cell_type": "markdown",
   "id": "7ac096c0",
   "metadata": {},
   "source": [
    "\n",
    "✔️ Evitan duplicados, útiles para comparar y hacer operaciones como unión e intersección.\n",
    "\n",
    "---\n"
   ]
  },
  {
   "cell_type": "markdown",
   "id": "82770858",
   "metadata": {},
   "source": [
    "\n",
    "### 🔹 Diccionarios\n"
   ]
  },
  {
   "cell_type": "code",
   "execution_count": null,
   "id": "e161c004",
   "metadata": {},
   "outputs": [
    {
     "name": "stdout",
     "output_type": "stream",
     "text": [
      "[4, 5, 6]\n"
     ]
    }
   ],
   "source": [
    "\n",
    "asignaciones = {\n",
    "    \"Ana\": [1, 2, 3],\n",
    "    \"Luis\": [4, 5, 6],\n",
    "}\n"
   ]
  },
  {
   "cell_type": "code",
   "execution_count": null,
   "id": "295eb17e",
   "metadata": {},
   "outputs": [],
   "source": [
    "print(asignaciones[\"Luis\"])  # [4, 5, 6]\n",
    "\n"
   ]
  },
  {
   "cell_type": "markdown",
   "id": "c89f4739",
   "metadata": {},
   "source": [
    "\n",
    "Sirven para relacionar datos, como estudiantes y sus ejercicios asignados.\n",
    "\n",
    "---\n"
   ]
  },
  {
   "cell_type": "markdown",
   "id": "32f0a65f",
   "metadata": {},
   "source": [
    "\n",
    "### 🔹 Cadenas\n"
   ]
  },
  {
   "cell_type": "code",
   "execution_count": 3,
   "id": "34eca28f",
   "metadata": {},
   "outputs": [
    {
     "name": "stdout",
     "output_type": "stream",
     "text": [
      "PYTHON ES PODEROSO\n",
      "['Python', 'es', 'poderoso']\n"
     ]
    }
   ],
   "source": [
    "\n",
    "mensaje = \"Python es poderoso\"\n",
    "print(mensaje.upper())   # PYTHON ES PODEROSO\n",
    "print(mensaje.split())   # ['Python', 'es', 'poderoso']\n",
    "\n"
   ]
  },
  {
   "cell_type": "markdown",
   "id": "f461f2bb",
   "metadata": {},
   "source": [
    "\n",
    "Ideales para procesar y analizar texto.\n",
    "\n",
    "---\n"
   ]
  },
  {
   "cell_type": "markdown",
   "id": "76fab4f2",
   "metadata": {},
   "source": [
    "\n",
    "## 4️. Actividades prácticas (en Jupyter Notebook)\n",
    "\n",
    "1. **Listas:** crea una lista con los nombres de los 19 estudiantes de tu curso y agrega un estudiante nuevo.\n",
    "2. **Tuplas:** define una tupla con las coordenadas del dron agrícola que toma imágenes aéreas en una parcela.\n",
    "3. **Conjuntos:** modela el conjunto de ejercicios que ya resolvió un estudiante y el conjunto que aún no ha resuelto.\n",
    "4. **Diccionarios:** asigna a cada estudiante de tu grupo algunos ejercicios del libro de Swokowski (como ya lo programaste).\n",
    "5. **Cadenas:** procesa un texto corto (p.ej., un título de un artículo) para contar cuántas palabras tiene.\n",
    "\n",
    "---\n"
   ]
  },
  {
   "cell_type": "markdown",
   "id": "0c1940cd",
   "metadata": {},
   "source": [
    "\n",
    "## 5️. Trabajo colaborativo\n",
    "\n",
    "En equipos de 3:\n",
    "\n",
    "* Cada equipo explica a los demás **qué estructura de datos usó** para resolver un problema real (puede ser de matemáticas, agro, o datos de la vida cotidiana).\n",
    "* Comparan ventajas y desventajas de cada estructura.\n",
    "\n",
    "---\n"
   ]
  },
  {
   "cell_type": "markdown",
   "id": "0bd9448b",
   "metadata": {},
   "source": [
    "\n",
    "## 6️. Evaluación formativa\n",
    "\n",
    "* Entrega de un **Notebook con ejemplos prácticos**.\n",
    "* Pregunta reflexiva: *“¿Cómo elegirías entre lista, conjunto y diccionario para organizar los datos de un censo de árboles en un cultivo?”*\n",
    "\n",
    "---\n"
   ]
  },
  {
   "cell_type": "markdown",
   "id": "38e9fb58",
   "metadata": {},
   "source": [
    "\n",
    "## Recomendaciones pedagógicas\n",
    "\n",
    "* Usa **ejemplos cercanos** (ejercicios, notas, coordenadas de drones, censos agrícolas).\n",
    "* Promueve el **aprendizaje activo**: los estudiantes deben probar el código, equivocarse y corregir.\n",
    "* Refuerza con **representaciones semióticas (Duval)**: tablas (listas), diagramas de Venn (conjuntos), mapas (diccionarios).\n",
    "\n",
    "---\n"
   ]
  }
 ],
 "metadata": {
  "kernelspec": {
   "display_name": ".venv",
   "language": "python",
   "name": "python3"
  },
  "language_info": {
   "codemirror_mode": {
    "name": "ipython",
    "version": 3
   },
   "file_extension": ".py",
   "mimetype": "text/x-python",
   "name": "python",
   "nbconvert_exporter": "python",
   "pygments_lexer": "ipython3",
   "version": "3.11.9"
  }
 },
 "nbformat": 4,
 "nbformat_minor": 5
}
