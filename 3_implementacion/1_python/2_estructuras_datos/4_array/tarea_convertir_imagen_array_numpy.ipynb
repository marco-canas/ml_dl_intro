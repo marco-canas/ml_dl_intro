{
 "cells": [
  {
   "cell_type": "markdown",
   "id": "a009aece",
   "metadata": {
    "slideshow": {
     "slide_type": "slide"
    }
   },
   "source": [
    "<table align=\"left\">\n",
    "  <td>\n",
    "    <a href=\"https://colab.research.google.com/github/marco-canas/11_math_II/blob/main/2_linear_algebra/2_class_norm_vector/2_class_vector_norm.ipynb\" target=\"_parent\"><img src=\"https://colab.research.google.com/assets/colab-badge.svg\" alt=\"Open In Colab\"/></a>\n",
    "  </td>\n",
    "</table>"
   ]
  },
  {
   "cell_type": "markdown",
   "id": "211aa8d0",
   "metadata": {
    "slideshow": {
     "slide_type": "slide"
    }
   },
   "source": [
    "### [Video de apoyo a la lectura de este cuaderno]()"
   ]
  },
  {
   "cell_type": "markdown",
   "id": "f7560609",
   "metadata": {
    "slideshow": {
     "slide_type": "slide"
    }
   },
   "source": [
    "### Estos estudiantes son la razón de mi servicio docente\n",
    "\n",
    "<img src = 'https://github.com/marco-canas/11_math_II/blob/main/classes/2_linear_algebra/2_class_norm_vector_march_25_saturday/biologia_feb_2023.jpeg?raw=true'>\n"
   ]
  },
  {
   "cell_type": "markdown",
   "id": "9d9b343a",
   "metadata": {},
   "source": [
    "### [Video de apoyo]()"
   ]
  },
  {
   "cell_type": "markdown",
   "id": "01310ece",
   "metadata": {
    "slideshow": {
     "slide_type": "slide"
    }
   },
   "source": [
    "# [¿Cómo convertir una imagen en una array NumPy y guardarla en un archivo CSV usando Python?](https://barcelonageeks.com/como-convertir-una-imagen-a-una-matriz-numpy-y-guardarla-en-un-archivo-csv-usando-python/)"
   ]
  },
  {
   "cell_type": "markdown",
   "id": "b7c7488a",
   "metadata": {
    "slideshow": {
     "slide_type": "slide"
    }
   },
   "source": [
    "Veamos cómo convertir una imagen en una array NumPy y luego guardar esa array en un archivo CSV en Python. "
   ]
  },
  {
   "cell_type": "markdown",
   "id": "804754ec",
   "metadata": {
    "slideshow": {
     "slide_type": "slide"
    }
   },
   "source": [
    "Primero, aprenderemos cómo convertir una imagen en un ndarray numpy. "
   ]
  },
  {
   "cell_type": "markdown",
   "id": "8659e310",
   "metadata": {
    "slideshow": {
     "slide_type": "slide"
    }
   },
   "source": [
    "Hay muchos métodos para convertir una imagen a ndarray, algunos de ellos son:"
   ]
  },
  {
   "cell_type": "markdown",
   "id": "ab3426c1",
   "metadata": {
    "slideshow": {
     "slide_type": "slide"
    }
   },
   "source": [
    "# Método 1: usar la biblioteca PIL y NumPy ."
   ]
  },
  {
   "cell_type": "markdown",
   "id": "9dfa87a5",
   "metadata": {
    "slideshow": {
     "slide_type": "slide"
    }
   },
   "source": [
    "Usaremos `PIL.Image.open()` y `numpy.asarray()`.\n",
    "\n",
    "Ejemplo:"
   ]
  },
  {
   "cell_type": "markdown",
   "id": "bd445ba9",
   "metadata": {
    "slideshow": {
     "slide_type": "slide"
    }
   },
   "source": [
    "## Python3"
   ]
  },
  {
   "cell_type": "code",
   "execution_count": 9,
   "id": "a0b2c46e",
   "metadata": {
    "slideshow": {
     "slide_type": "slide"
    }
   },
   "outputs": [
    {
     "name": "stdout",
     "output_type": "stream",
     "text": [
      "(899, 1599, 3)\n"
     ]
    }
   ],
   "source": [
    "# import required libraries\n",
    "from PIL import Image\n",
    "import numpy as gfg\n",
    " \n",
    "# read an image\n",
    "img = Image.open('biologia_feb_2023.jpeg')\n",
    " \n",
    "# convert image object into array\n",
    "imageToMatrice = gfg.asarray(img)\n",
    " \n",
    "# printing shape of image\n",
    "print(imageToMatrice.shape)"
   ]
  },
  {
   "cell_type": "markdown",
   "id": "1d4b3045",
   "metadata": {
    "slideshow": {
     "slide_type": "slide"
    }
   },
   "source": [
    "# Método 2: usar la biblioteca Matplotlib .\n",
    "\n",
    "Usaremos el método `matplotlib.image.imread()`.\n",
    "\n",
    "Ejemplo:\n",
    "Python3"
   ]
  },
  {
   "cell_type": "code",
   "execution_count": 10,
   "id": "cf2eb11e",
   "metadata": {
    "slideshow": {
     "slide_type": "slide"
    }
   },
   "outputs": [
    {
     "name": "stdout",
     "output_type": "stream",
     "text": [
      "(899, 1599, 3)\n"
     ]
    }
   ],
   "source": [
    "# import library\n",
    "from matplotlib.image import imread\n",
    " \n",
    "# read an image\n",
    "imageToMatrice  = imread('biologia_feb_2023.jpeg')\n",
    " \n",
    "# show shape of the image\n",
    "print(imageToMatrice.shape)"
   ]
  },
  {
   "cell_type": "markdown",
   "id": "0ffa3203",
   "metadata": {
    "slideshow": {
     "slide_type": "slide"
    }
   },
   "source": [
    "Ahora, la variable `imageToMatrice` contiene el ndarray que se obtiene después de la conversión de la imagen dada. "
   ]
  },
  {
   "cell_type": "markdown",
   "id": "fc1e6a77",
   "metadata": {
    "slideshow": {
     "slide_type": "slide"
    }
   },
   "source": [
    "La dimensión de la array obtenida se decide por cuántos canales están presentes en la imagen:"
   ]
  },
  {
   "cell_type": "markdown",
   "id": "f08bd18d",
   "metadata": {
    "slideshow": {
     "slide_type": "slide"
    }
   },
   "source": [
    "Para una imagen en escala de grises o en blanco y negro: solo hay un canal presente, por lo tanto, la forma de las arrays sería $(n, n)$ donde $n$ representa la dimensión de las imágenes (píxeles), y los valores dentro de la array van desde 0 a 255."
   ]
  },
  {
   "cell_type": "markdown",
   "id": "1bee38ca",
   "metadata": {
    "slideshow": {
     "slide_type": "slide"
    }
   },
   "source": [
    "Para imagen a color o RGB: Renderizará un tensor de 3 canales, por lo que la forma de las arrays sería $(n, n,3)$. Cada canal es una array $(n, n)$ donde cada entrada representa respectivamente el nivel de rojo, verde o azul en la ubicación real dentro de la imagen."
   ]
  },
  {
   "cell_type": "markdown",
   "id": "a694a1aa",
   "metadata": {
    "slideshow": {
     "slide_type": "slide"
    }
   },
   "source": [
    "Usaremos dos métodos para hacer lo mismo, el primer método usando la biblioteca numpy y el segundo método usando la biblioteca pandas:"
   ]
  },
  {
   "cell_type": "markdown",
   "id": "f7890b90",
   "metadata": {
    "slideshow": {
     "slide_type": "slide"
    }
   },
   "source": [
    "### Nota:  \n",
    "\n",
    "solo podemos guardar una array 1D o 2D en un archivo, por lo tanto, no habría ningún problema en la imagen en escala de grises o en blanco y negro, ya que es una array 2D, pero debemos asegurarnos de que esto funcione para una imagen en color o en blanco. Imagen RGB, que es una array 3D."
   ]
  },
  {
   "cell_type": "markdown",
   "id": "0381e840",
   "metadata": {
    "slideshow": {
     "slide_type": "slide"
    }
   },
   "source": [
    "# Método 1: usar la biblioteca NumPy .\n",
    "\n",
    "Usaremos `numpy.savetxt()` y `numpy.loadtxt()`."
   ]
  },
  {
   "cell_type": "markdown",
   "id": "1f9ab9d0",
   "metadata": {
    "slideshow": {
     "slide_type": "slide"
    }
   },
   "source": [
    "### Ejemplo:  \n",
    "\n",
    "Python3"
   ]
  },
  {
   "cell_type": "code",
   "execution_count": 11,
   "id": "379c1d83",
   "metadata": {
    "slideshow": {
     "slide_type": "slide"
    }
   },
   "outputs": [],
   "source": [
    "# import required libraries\n",
    "import numpy as gfg\n",
    "import matplotlib.image as img"
   ]
  },
  {
   "cell_type": "code",
   "execution_count": 12,
   "id": "9692b454",
   "metadata": {
    "slideshow": {
     "slide_type": "slide"
    }
   },
   "outputs": [
    {
     "name": "stdout",
     "output_type": "stream",
     "text": [
      "Image shape: (899, 1599, 3)\n"
     ]
    }
   ],
   "source": [
    " \n",
    "# read an image\n",
    "imageMat = img.imread('biologia_feb_2023.jpeg')\n",
    "print(\"Image shape:\", imageMat.shape)"
   ]
  },
  {
   "cell_type": "code",
   "execution_count": 6,
   "id": "c09e3ee7",
   "metadata": {
    "slideshow": {
     "slide_type": "slide"
    }
   },
   "outputs": [
    {
     "name": "stdout",
     "output_type": "stream",
     "text": [
      "Reshaping to 2D array: (899, 4797)\n",
      "Image shape of loaded Image: (899, 1599, 3)\n",
      "\n",
      "\n",
      "Yes The loaded matrice from CSV file is same as original image matrice\n"
     ]
    }
   ],
   "source": [
    " \n",
    "# if image is colored (RGB)\n",
    "if(imageMat.shape[2] == 3):\n",
    "   \n",
    "  # reshape it from 3D matrice to 2D matrice\n",
    "    imageMat_reshape = imageMat.reshape(imageMat.shape[0],\n",
    "                                      -1)\n",
    "    print(\"Reshaping to 2D array:\",\n",
    "        imageMat_reshape.shape)\n",
    " \n",
    " # if image is grayscale\n",
    "else:\n",
    "  # remain as it is\n",
    "    imageMat_reshape = imageMat\n",
    "     \n",
    "# saving matrice to .csv file\n",
    "gfg.savetxt('biologia.csv',\n",
    "            imageMat_reshape)\n",
    " \n",
    "# retrieving matrice from the .csv file\n",
    "loaded_2D_mat = gfg.loadtxt('biologia.csv')\n",
    " \n",
    "# reshaping it to 3D matrice\n",
    "loaded_mat = loaded_2D_mat.reshape(loaded_2D_mat.shape[0],\n",
    "                                   loaded_2D_mat.shape[1] // imageMat.shape[2],\n",
    "                                   imageMat.shape[2])\n",
    " \n",
    "print(\"Image shape of loaded Image:\",\n",
    "      loaded_mat.shape)\n",
    " \n",
    "# check if both matrice have same shape or not\n",
    "if((imageMat == loaded_mat).all()):\n",
    "   \n",
    "    print(\"\\n\\nYes\",\n",
    "        \"The loaded matrice from CSV file is same as original image matrice\")"
   ]
  },
  {
   "cell_type": "markdown",
   "id": "a7214816",
   "metadata": {
    "slideshow": {
     "slide_type": "slide"
    }
   },
   "source": [
    "Producción:\n",
    "\n",
    "* Forma de la imagen: (251, 335, 3) \n",
    "* Transformación a array 2D: (251, 1005) \n",
    "* Forma de la imagen de la imagen cargada: (251, 335, 3)\n",
    "* Sí La array cargada del archivo CSV es la misma que la array de la imagen original"
   ]
  },
  {
   "cell_type": "markdown",
   "id": "63c429be",
   "metadata": {
    "slideshow": {
     "slide_type": "slide"
    }
   },
   "source": [
    "# Método 2: Usar la biblioteca de Pandas ."
   ]
  },
  {
   "cell_type": "markdown",
   "id": "dd421036",
   "metadata": {
    "slideshow": {
     "slide_type": "slide"
    }
   },
   "source": [
    "Usaremos el método `pandas.Dataframe( )` y `pandas.Dataframe().to_csv().`"
   ]
  },
  {
   "cell_type": "markdown",
   "id": "e0269f53",
   "metadata": {
    "slideshow": {
     "slide_type": "slide"
    }
   },
   "source": [
    "### Python3"
   ]
  },
  {
   "cell_type": "code",
   "execution_count": 13,
   "id": "725bc1d2",
   "metadata": {
    "slideshow": {
     "slide_type": "slide"
    }
   },
   "outputs": [],
   "source": [
    "# import required libraries\n",
    "import numpy as gfg\n",
    "import matplotlib.image as img\n",
    "import pandas as pd\n",
    " "
   ]
  },
  {
   "cell_type": "code",
   "execution_count": 14,
   "id": "74b7d4c4",
   "metadata": {},
   "outputs": [
    {
     "name": "stdout",
     "output_type": "stream",
     "text": [
      "Image shape: (899, 1599, 3)\n"
     ]
    }
   ],
   "source": [
    "# read an image\n",
    "imageMat = img.imread('biologia_feb_2023.jpeg')\n",
    "print(\"Image shape:\",\n",
    "      imageMat.shape)"
   ]
  },
  {
   "cell_type": "code",
   "execution_count": 17,
   "id": "7bb71927",
   "metadata": {},
   "outputs": [
    {
     "data": {
      "text/plain": [
       "533.0"
      ]
     },
     "execution_count": 17,
     "metadata": {},
     "output_type": "execute_result"
    }
   ],
   "source": [
    "1599/3"
   ]
  },
  {
   "cell_type": "code",
   "execution_count": 8,
   "id": "5a737d4b",
   "metadata": {},
   "outputs": [
    {
     "name": "stdout",
     "output_type": "stream",
     "text": [
      "Image shape: (899, 1599, 3)\n",
      "Reshaping to 2D array: (899, 4797)\n",
      "Image shape of loaded Image : (899, 1599, 3)\n",
      "\n",
      "\n",
      "Yes The loaded matrice from CSV file is same as original image matrice\n"
     ]
    }
   ],
   "source": [
    " \n",
    "# if image is colored (RGB)\n",
    "if(imageMat.shape[2] == 3):\n",
    "   \n",
    "  # reshape it from 3D matrice to 2D matrice\n",
    "    imageMat_reshape = imageMat.reshape(imageMat.shape[0],\n",
    "                                      -1)\n",
    "    print(\"Reshaping to 2D array:\",\n",
    "        imageMat_reshape.shape)\n",
    " \n",
    " # if image is grayscale\n",
    "else:\n",
    "  # remain as it is\n",
    "  imageMat_reshape = imageMat\n",
    "     \n",
    "# converting it to dataframe.\n",
    "mat_df = pd.DataFrame(imageMat_reshape)\n",
    " \n",
    "# exporting dataframe to CSV file.\n",
    "mat_df.to_csv('biologia.csv',\n",
    "              header = None,\n",
    "              index = None)\n",
    " \n",
    "# retrieving dataframe from CSV file\n",
    "loaded_df = pd.read_csv('biologia.csv',\n",
    "                        sep = ',',\n",
    "                        header = None)\n",
    "# getting matrice values.\n",
    "loaded_2D_mat = loaded_df.values\n",
    " \n",
    "# reshaping it to 3D matrice\n",
    "loaded_mat = loaded_2D_mat.reshape(loaded_2D_mat.shape[0],\n",
    "                                   loaded_2D_mat.shape[1] // imageMat.shape[2],\n",
    "                                   imageMat.shape[2])\n",
    " \n",
    "print(\"Image shape of loaded Image :\",\n",
    "      loaded_mat.shape)\n",
    " \n",
    "# check if both matrice have same shape or not\n",
    "if((imageMat == loaded_mat).all()):\n",
    "    print(\"\\n\\nYes\",\n",
    "        \"The loaded matrice from CSV file is same as original image matrice\")"
   ]
  },
  {
   "cell_type": "code",
   "execution_count": null,
   "id": "aae113c0",
   "metadata": {
    "slideshow": {
     "slide_type": "slide"
    }
   },
   "outputs": [],
   "source": []
  },
  {
   "cell_type": "code",
   "execution_count": null,
   "id": "9a2b178b",
   "metadata": {},
   "outputs": [],
   "source": []
  },
  {
   "cell_type": "markdown",
   "id": "2662c084",
   "metadata": {
    "slideshow": {
     "slide_type": "slide"
    }
   },
   "source": [
    "## Referentes  \n",
    "\n",
    "* convertir una imagen a un numpy array: https://barcelonageeks.com/como-convertir-una-imagen-a-una-matriz-numpy-y-guardarla-en-un-archivo-csv-usando-python/"
   ]
  },
  {
   "cell_type": "code",
   "execution_count": null,
   "id": "3e7e956e",
   "metadata": {},
   "outputs": [],
   "source": []
  }
 ],
 "metadata": {
  "celltoolbar": "Slideshow",
  "kernelspec": {
   "display_name": "Python 3 (ipykernel)",
   "language": "python",
   "name": "python3"
  },
  "language_info": {
   "codemirror_mode": {
    "name": "ipython",
    "version": 3
   },
   "file_extension": ".py",
   "mimetype": "text/x-python",
   "name": "python",
   "nbconvert_exporter": "python",
   "pygments_lexer": "ipython3",
   "version": "3.9.13"
  },
  "rise": {
   "enable_chalkboard": true,
   "theme": "sky",
   "transition": "zoom"
  }
 },
 "nbformat": 4,
 "nbformat_minor": 5
}
