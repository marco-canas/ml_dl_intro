{
 "cells": [
  {
   "cell_type": "markdown",
   "metadata": {},
   "source": [
    "<table align=\"left\">\n",
    "  <td>\n",
    "    <a href=\"https://colab.research.google.com/github/marco-canas/didactica_ciencia_datos/blob/main/1_curso_machine_learning/0_plan_del_curso/1_programa_curso_machine_learning_python.ipynb\" target=\"_parent\"><img src=\"https://colab.research.google.com/assets/colab-badge.svg\" alt=\"Open In Colab\"/></a>\n",
    "  </td>\n",
    "</table>"
   ]
  },
  {
   "cell_type": "markdown",
   "metadata": {},
   "source": [
    "## [Video de apoyo]()"
   ]
  },
  {
   "cell_type": "markdown",
   "metadata": {},
   "source": [
    "# 1_programa_curso_machine_learning_python"
   ]
  },
  {
   "cell_type": "markdown",
   "metadata": {},
   "source": [
    "## Descripción del curso\n"
   ]
  },
  {
   "cell_type": "code",
   "execution_count": null,
   "metadata": {},
   "outputs": [],
   "source": [
    "import os\n",
    "\n",
    "def shorten_filenames(directory, max_length=255):\n",
    "    \"\"\"\n",
    "    Recorre un directorio y acorta los nombres de archivos y carpetas que excedan el límite permitido.\n",
    "\n",
    "    Args:\n",
    "        directory (str): Ruta del directorio a procesar.\n",
    "        max_length (int): Longitud máxima permitida para los nombres de archivos.\n",
    "    \"\"\"\n",
    "    for root, dirs, files in os.walk(directory, topdown=False):\n",
    "        # Procesar archivos\n",
    "        for filename in files:\n",
    "            old_path = os.path.join(root, filename)\n",
    "            if len(filename) > max_length:\n",
    "                # Acortar el nombre del archivo\n",
    "                new_filename = filename[:max_length - 10] + \"_short\" + os.path.splitext(filename)[1]\n",
    "                new_path = os.path.join(root, new_filename)\n",
    "                os.rename(old_path, new_path)\n",
    "                print(f\"Renombrado: {old_path} -> {new_path}\")\n",
    "\n",
    "        # Procesar carpetas\n",
    "        for dirname in dirs:\n",
    "            old_path = os.path.join(root, dirname)\n",
    "            if len(dirname) > max_length:\n",
    "                # Acortar el nombre de la carpeta\n",
    "                new_dirname = dirname[:max_length - 10] + \"_short\"\n",
    "                new_path = os.path.join(root, new_dirname)\n",
    "                os.rename(old_path, new_path)\n",
    "                print(f\"Renombrado: {old_path} -> {new_path}\")\n",
    "\n",
    "\n",
    "# Ruta del directorio clonado\n",
    "repo_directory = \"didactica_ciencia_datos_clean\"\n",
    "\n",
    "# Longitud máxima para nombres de archivo\n",
    "max_length_allowed = 255\n",
    "\n",
    "shorten_filenames(repo_directory, max_length=max_length_allowed)\n"
   ]
  },
  {
   "cell_type": "markdown",
   "metadata": {},
   "source": [
    "\n",
    "**Título del Curso: Introducción al Machine Learning con Python y Desarrollo de Habilidades de comunicación científica**\n"
   ]
  },
  {
   "cell_type": "code",
   "execution_count": null,
   "metadata": {},
   "outputs": [],
   "source": [
    "# mapa conceptual para cada clase  \n",
    "from graphviz import Digraph\n",
    "\n",
    "# Crear un nuevo grafo dirigido\n",
    "dot = Digraph()\n",
    "\n",
    "# Añadir nodos y relaciones al grafo\n",
    "main_concept = 'Curso Machine Learning '\n",
    "dot.node('A', main_concept)\n",
    "dot.node('B', 'Python para ciencia de datos')\n",
    "dot.node('C', 'Datos en python')\n",
    "dot.node('D', 'Estrcturas de datos ')\n",
    "dot.node('E', 'nd-array de NumPy')\n",
    "dot.node('F', 'DataFRame de Pandas') \n",
    "\n",
    "\n",
    "dot.edges(['AB', 'BC', 'CD', 'DE', 'EF'])\n",
    "\n",
    "\n",
    "# Guardar el grafo como un archivo de imagen\n",
    "dot.render(filename=main_concept, format='png', cleanup=True, \\\n",
    "           directory='C:/Users/marco/Documentos/investigacion/')\n",
    "\n",
    "dot.view()\n"
   ]
  },
  {
   "cell_type": "markdown",
   "metadata": {},
   "source": [
    "\n",
    "**Descripción:**\n"
   ]
  },
  {
   "cell_type": "markdown",
   "metadata": {},
   "source": [
    "\n",
    "Este curso integral está diseñado para proporcionar a los estudiantes una sólida comprensión de los fundamentos del Machine Learning utilizando Python como herramienta principal. "
   ]
  },
  {
   "cell_type": "markdown",
   "metadata": {},
   "source": [
    "Además, se pone un fuerte énfasis en el desarrollo del pensamiento computacional, la promoción de la ciencia abierta a través de GitHub, Visual Studio Code y JupyterLab de Anaconda, así como el fomento de habilidades de comunicación científica en varios lenguajes clave.\n"
   ]
  },
  {
   "cell_type": "markdown",
   "metadata": {},
   "source": [
    "\n",
    "**Contenido del Curso:**\n",
    "\n",
    "1. **Módulo 1: Fundamentos de Python y Pensamiento Computacional**\n",
    "   - Introducción a Python y entorno de desarrollo.\n",
    "   - Desarrollo del pensamiento computacional.\n",
    "   - Estructuras de control de flujo y funciones en Python.\n"
   ]
  },
  {
   "cell_type": "markdown",
   "metadata": {},
   "source": [
    "\n",
    "2. **Módulo 2: Introducción al Machine Learning**\n",
    "   - Conceptos básicos de Machine Learning.\n",
    "   - Tipos de aprendizaje (supervisado, no supervisado, reforzado).\n",
    "   - Preprocesamiento de datos y exploración.\n",
    "   - regresión\n",
    "   - clasificación. \n"
   ]
  },
  {
   "cell_type": "markdown",
   "metadata": {},
   "source": [
    "\n",
    "3. **Módulo 3: Desarrollo de Modelos con Scikit-Learn**\n",
    "   - Uso de Scikit-Learn para implementar algoritmos de Machine Learning.\n",
    "   - Evaluación de modelos y ajuste de hiperparámetros.\n",
    "   - Aplicaciones prácticas en casos de estudio.\n"
   ]
  },
  {
   "cell_type": "markdown",
   "metadata": {},
   "source": [
    "\n",
    "4. **Módulo 4: Ciencia Abierta con GitHub y Versionamiento con Git**\n",
    "   - Introducción a GitHub y colaboración en proyectos.\n",
    "   - Versionamiento de código con Git.\n",
    "   - Prácticas de ciencia abierta y colaboración en proyectos de código abierto.\n",
    "\n",
    "5. **Módulo 5: Desarrollo con Visual Studio Code y JupyterLab de Anaconda**\n",
    "   - Configuración y uso eficiente de Visual Studio Code.\n",
    "   - Trabajo interactivo con JupyterLab de Anaconda.\n",
    "   - Integración de herramientas para desarrollo eficiente.\n",
    "\n",
    "6. **Módulo 6: Habilidades de Comunicación Científica en Python**\n",
    "   - Uso de Markdown para la documentación científica.\n",
    "   - Creación de informes y presentaciones con Jupyter Notebooks.\n",
    "   - Prácticas de escritura científica y comunicación efectiva.\n"
   ]
  },
  {
   "cell_type": "markdown",
   "metadata": {},
   "source": [
    "\n",
    "7. **Módulo 7: Multilingüismo en Ciencia de Datos y Machine Learning**\n",
    "   - Uso de Python y bibliotecas multilingües.\n",
    "   - Introducción a LaTeX para la preparación de documentos científicos.\n",
    "   - Desarrollo de habilidades de comunicación en inglés para informes y presentaciones.\n"
   ]
  },
  {
   "cell_type": "markdown",
   "metadata": {},
   "source": [
    "\n",
    "**Metodología de Enseñanza:**\n",
    "\n",
    "- Clases teóricas interactivas.\n",
    "- Prácticas guiadas y asignaciones.\n",
    "- Proyectos prácticos utilizando GitHub para la colaboración.\n",
    "- Evaluaciones regulares para medir el progreso.\n"
   ]
  },
  {
   "cell_type": "markdown",
   "metadata": {},
   "source": [
    "\n",
    "**Requisitos Previos:**\n",
    "\n",
    "- Conocimientos básicos de programación.\n",
    "- Disposición para aprender y participar activamente en proyectos prácticos.\n",
    "\n",
    "Al completar este curso, los estudiantes no solo obtendrán habilidades técnicas sólidas en Machine Learning con Python, sino que también desarrollarán habilidades esenciales en pensamiento computacional, ciencia abierta, y comunicación científica, lo que los preparará para enfrentar desafíos del mundo real en el campo de la ciencia de datos."
   ]
  },
  {
   "cell_type": "markdown",
   "metadata": {},
   "source": [
    "# Justificación del curso  \n",
    "\n",
    "**Justificación para un Curso de Machine Learning: Desarrollo del Pensamiento Computacional, Promoción del Uso de la Ciencia Libre y Desarrollo de Habilidades de Comunicación Científica**\n",
    "\n",
    "La creación de un curso de Machine Learning con un enfoque multidisciplinario que integra el desarrollo del pensamiento computacional, la promoción del uso de la ciencia libre y el desarrollo de habilidades de comunicación científica se fundamenta en la necesidad de preparar a los estudiantes para enfrentar los desafíos actuales y futuros en el ámbito científico y tecnológico. Este enfoque integral busca proporcionar a los participantes una formación completa que no solo abarque las habilidades técnicas necesarias en Machine Learning, sino que también fomente competencias esenciales para la colaboración, la transparencia y la comunicación efectiva en el contexto científico.\n",
    "\n",
    "**Desarrollo del Pensamiento Computacional:**\n",
    "El pensamiento computacional es una habilidad fundamental en el ámbito de Machine Learning. La enseñanza de lenguajes como Python, R, LaTeX, HTML y CSS proporciona a los estudiantes una base sólida para comprender y resolver problemas complejos mediante:  \n",
    "\n",
    "* la descomposición, \n",
    "* la abstracción, \n",
    "* el reconocimiento de patrones y \n",
    "* la creación de algoritmos. \n",
    "  \n",
    "Estos lenguajes no solo son herramientas poderosas en el desarrollo de modelos de Machine Learning, sino que también son habilidades transferibles que fortalecen el razonamiento lógico y la capacidad de abordar problemas de manera sistemática en diversas disciplinas.\n"
   ]
  },
  {
   "cell_type": "markdown",
   "metadata": {},
   "source": [
    "\n",
    "**Promoción del Uso de la Ciencia Libre:**  \n",
    "\n",
    "La adopción de la ciencia abierta contribuye a la democratización del conocimiento y a la aceleración del progreso científico. Publicar los contenidos del curso a través de cuadernos Jupyter y archivos .py en GitHub, así como compartir video-clases a través del canal DIMATHDATA en YouTube, garantiza el acceso libre y gratuito a recursos educativos de calidad. Este enfoque no solo fomenta la colaboración y la transparencia, sino que también empodera a los estudiantes para que contribuyan activamente a la comunidad científica al compartir sus propios proyectos y descubrimientos.\n"
   ]
  },
  {
   "cell_type": "markdown",
   "metadata": {},
   "source": [
    "\n",
    "**Desarrollo de Habilidades de Comunicación Científica:**\n",
    "El uso de cuadernos Jupyter, que combinan líneas de código con explicaciones detalladas, permite a los estudiantes no solo construir modelos de Machine Learning, sino también comunicar de manera efectiva sus procesos y resultados. La enseñanza de habilidades de comunicación científica no solo impulsa la capacidad de presentar de manera clara y concisa los resultados de un análisis, sino que también fortalece la capacidad de colaborar en equipos multidisciplinarios y comunicarse con audiencias no especializadas.\n"
   ]
  },
  {
   "cell_type": "markdown",
   "metadata": {},
   "source": [
    "\n",
    "En conjunto, este enfoque integral no solo forma a los estudiantes en las últimas técnicas de Machine Learning, sino que también los prepara para ser profesionales éticos y comunicadores competentes, capaces de enfrentar los desafíos interdisciplinarios del mundo actual."
   ]
  },
  {
   "cell_type": "code",
   "execution_count": null,
   "metadata": {},
   "outputs": [],
   "source": []
  },
  {
   "cell_type": "code",
   "execution_count": null,
   "metadata": {},
   "outputs": [],
   "source": []
  },
  {
   "cell_type": "code",
   "execution_count": null,
   "metadata": {},
   "outputs": [],
   "source": []
  },
  {
   "cell_type": "markdown",
   "metadata": {},
   "source": [
    "# Referentes para el curso de Machine Learning \n",
    "\n",
    "* Géron, A. (2022). Hands-on machine learning with Scikit-Learn, Keras, and TensorFlow. \" O'Reilly Media, Inc.\".  \n",
    "\n",
    "* McKinney, W. (2022). Python for data analysis. \" O'Reilly Media, Inc.\".\n",
    "\n",
    "* OpenAI. (2022). GPT-3.5. Retrieved from https://www.openai.com"
   ]
  },
  {
   "cell_type": "code",
   "execution_count": 1,
   "metadata": {},
   "outputs": [],
   "source": [
    "import os\n",
    "\n",
    "def shorten_filenames(directory, max_length=255):\n",
    "    \"\"\"\n",
    "    Recorre un directorio y acorta los nombres de archivos y carpetas que excedan el límite permitido.\n",
    "\n",
    "    Args:\n",
    "        directory (str): Ruta del directorio a procesar.\n",
    "        max_length (int): Longitud máxima permitida para los nombres de archivos.\n",
    "    \"\"\"\n",
    "    for root, dirs, files in os.walk(directory, topdown=False):\n",
    "        # Procesar archivos\n",
    "        for filename in files:\n",
    "            old_path = os.path.join(root, filename)\n",
    "            if len(filename) > max_length:\n",
    "                # Acortar el nombre del archivo\n",
    "                new_filename = filename[:max_length - 10] + \"_short\" + os.path.splitext(filename)[1]\n",
    "                new_path = os.path.join(root, new_filename)\n",
    "                os.rename(old_path, new_path)\n",
    "                print(f\"Renombrado: {old_path} -> {new_path}\")\n",
    "\n",
    "        # Procesar carpetas\n",
    "        for dirname in dirs:\n",
    "            old_path = os.path.join(root, dirname)\n",
    "            if len(dirname) > max_length:\n",
    "                # Acortar el nombre de la carpeta\n",
    "                new_dirname = dirname[:max_length - 10] + \"_short\"\n",
    "                new_path = os.path.join(root, new_dirname)\n",
    "                os.rename(old_path, new_path)\n",
    "                print(f\"Renombrado: {old_path} -> {new_path}\")\n",
    "\n",
    "\n",
    "# Ruta del directorio clonado\n",
    "repo_directory = \"didactica_ciencia_datos_clean\"\n",
    "\n",
    "# Longitud máxima para nombres de archivo\n",
    "max_length_allowed = 255\n",
    "\n",
    "shorten_filenames(repo_directory, max_length=max_length_allowed)\n"
   ]
  }
 ],
 "metadata": {
  "kernelspec": {
   "display_name": "Python 3 (ipykernel)",
   "language": "python",
   "name": "python3"
  },
  "language_info": {
   "codemirror_mode": {
    "name": "ipython",
    "version": 3
   },
   "file_extension": ".py",
   "mimetype": "text/x-python",
   "name": "python",
   "nbconvert_exporter": "python",
   "pygments_lexer": "ipython3",
   "version": "3.12.1"
  }
 },
 "nbformat": 4,
 "nbformat_minor": 2
}
