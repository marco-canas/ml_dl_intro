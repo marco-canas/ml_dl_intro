{
 "cells": [
  {
   "cell_type": "markdown",
   "id": "dc06dec7",
   "metadata": {
    "slideshow": {
     "slide_type": "slide"
    }
   },
   "source": [
    "<table align=\"left\">\n",
    "  <td>\n",
    "    <a href=\"https://colab.research.google.com/github/marco-canas/didactica_ciencia_datos/blob/main/1_curso_machine_learning/2_statistic/1_Descriptive_Statistics/2_medidas_tendencia_central/1_mean/1_the_mean.ipynb\" target=\"_parent\"><img src=\"https://colab.research.google.com/assets/colab-badge.svg\" alt=\"Open In Colab\"/></a>\n",
    "  </td>\n",
    "  <td>\n",
    "    <a target=\"_blank\" href=\"https://kaggle.com/kernels/welcome?src=https://github.com/marco-canas/didactica_ciencia_datos/blob/main/1_curso_machine_learning/2_statistic/1_Descriptive_Statistics/2_medidas_tendencia_central/1_mean/1_the_mean.ipynb\"><img src=\"https://kaggle.com/static/images/open-in-kaggle.svg\" /></a>\n",
    "  </td>\n",
    "</table>"
   ]
  },
  {
   "cell_type": "markdown",
   "id": "e0c5b198",
   "metadata": {
    "slideshow": {
     "slide_type": "slide"
    }
   },
   "source": [
    "### [Video de apoyo a la lectura interactiva y experimental de este cuaderno]()"
   ]
  },
  {
   "cell_type": "markdown",
   "id": "41e82203",
   "metadata": {
    "slideshow": {
     "slide_type": "slide"
    }
   },
   "source": [
    "## [Vínculo al programa del curso Introducción a la ciencia de datos con técnicas de Machine learning:  ](https://github.com/marco-canas/didactica_ciencia_datos/blob/main/1_curso_machine_learning/0_plan_del_curso/1_programa_curso_machine_learning_python.ipynb)\n",
    "\n"
   ]
  },
  {
   "cell_type": "markdown",
   "id": "4f9d8cf9",
   "metadata": {
    "slideshow": {
     "slide_type": "slide"
    }
   },
   "source": [
    "# Modelo general de clase: [aula invertida](https://www3.gobiernodecanarias.org/medusa/ecoescuela/pedagotic/aprendizaje-invertido-flipped-classroom/)"
   ]
  },
  {
   "cell_type": "markdown",
   "id": "eb6ed03a",
   "metadata": {},
   "source": [
    "<img src = 'https://resources.maneuveringthemiddle.com/wp-content/uploads/2020/07/04212706/1-5.png' width = 200>"
   ]
  },
  {
   "cell_type": "markdown",
   "id": "96775931",
   "metadata": {
    "slideshow": {
     "slide_type": "slide"
    }
   },
   "source": [
    "## Título de la clase: La media muestral  \n"
   ]
  },
  {
   "cell_type": "markdown",
   "id": "35595694",
   "metadata": {},
   "source": [
    "\n",
    "[Probabilidad y estadística para ingeniería y administración](chrome-extension://efaidnbmnnnibpcajpcglclefindmkaj/https://vicamswitch.com/wp-content/uploads/2019/05/Montgomery-y-Hines-Probabilidad-y-estad%C3%ADstica.pdf)"
   ]
  },
  {
   "cell_type": "markdown",
   "id": "8853d874",
   "metadata": {},
   "source": [
    "## El componente histórico y epistemológico"
   ]
  },
  {
   "cell_type": "markdown",
   "id": "de667096",
   "metadata": {},
   "source": [
    "## Vocabulary  \n",
    "flatten: aplanar o volver vector fila uno-dimensional"
   ]
  },
  {
   "cell_type": "code",
   "execution_count": 3,
   "id": "3db51219",
   "metadata": {},
   "outputs": [
    {
     "data": {
      "text/plain": [
       "'\\\\home\\\\marco\\\\Documentos\\\\docencia\\\\calculo\\\\images\\\\0_reales\\\\media_muestral_map.pdf'"
      ]
     },
     "execution_count": 3,
     "metadata": {},
     "output_type": "execute_result"
    }
   ],
   "source": [
    "from graphviz import Digraph\n",
    "\n",
    "# Crear un nuevo grafo dirigido\n",
    "dot = Digraph()\n",
    "\n",
    "# Añadir estilos y etiquetas\n",
    "dot.attr(rankdir='LR', size='8,5')  # Diseño horizontal y tamaño del grafo\n",
    "\n",
    "# Añadir nodos principales y relaciones con colores y formas\n",
    "dot.node('A', 'Media muestral', shape='ellipse', style='filled', color='lightblue')\n",
    "dot.node('B', 'Ciencia de datos', shape='box', style='filled', color='yellow')\n",
    "dot.node('C', 'Machine learning', shape='box', style='filled', color='yellow')\n",
    "dot.node('D', 'Preprocesamiento', shape='diamond', style='filled', color='lightgreen')\n",
    "dot.node('E', 'Normalización', shape='rectangle', style='rounded,filled', color='orange')\n",
    "dot.node('F', 'Intervalos de confianza', shape='rectangle', style='rounded,filled', color='pink')\n",
    "dot.node('G', 'Detección de outliers', shape='hexagon', style='filled', color='red')\n",
    "dot.node('H', 'SciPy', shape='ellipse', style='filled', color='lightgray')\n",
    "dot.node('I', 'NumPy', shape='ellipse', style='filled', color='lightgray')\n",
    "dot.node('J', 'Visualización', shape='ellipse', style='filled', color='cyan')\n",
    "\n",
    "# Añadir las relaciones entre los conceptos\n",
    "dot.edges(['AB', 'AC'])  # Ciencia de datos y Machine learning conectados a la media\n",
    "dot.edge('B', 'D', label='Usos en', color='blue')\n",
    "dot.edge('C', 'D', label='Aplicaciones', color='blue')\n",
    "dot.edge('D', 'E', label='Paso 1')\n",
    "dot.edge('D', 'F', label='Paso 2')\n",
    "dot.edge('D', 'G', label='Paso 3')\n",
    "dot.edge('E', 'I', label='Cálculos con', color='darkgreen')\n",
    "dot.edge('F', 'H', label='Análisis con', color='darkgreen')\n",
    "dot.edge('G', 'I', label='Métodos con')\n",
    "dot.edge('J', 'H', label='Herramientas de', color='purple')\n",
    "\n",
    "# Guardar el grafo como un archivo de imagen\n",
    "dot.render(\n",
    "    filename='media_muestral_map',\n",
    "    format='png',\n",
    "    cleanup=True,\n",
    "    directory='/home/marco/Documentos/docencia/calculo/images/0_reales/'\n",
    ")\n",
    "\n",
    "# Visualizar el grafo\n",
    "dot.view()\n"
   ]
  },
  {
   "cell_type": "markdown",
   "id": "4202d12e",
   "metadata": {},
   "source": [
    "### 1. Título de la clase:  \n",
    "**La Media Muestral y su Utilización en Ciencia de Datos con Técnicas de Machine Learning usando NumPy y SciPy**\n",
    "\n",
    "---\n"
   ]
  },
  {
   "cell_type": "markdown",
   "id": "22ed0361",
   "metadata": {},
   "source": [
    "\n",
    "### 2. Objetivo de aprendizaje:  \n",
    "Al finalizar la clase, los estudiantes serán capaces de:  \n",
    "1. Calcular la media muestral utilizando Python con las bibliotecas NumPy y SciPy.  \n",
    "2. Comprender el concepto de media muestral en el análisis de datos y su papel en el preprocesamiento y la interpretación de datos.  \n",
    "3. Aplicar la media muestral en un caso práctico de ciencia de datos, utilizando técnicas de machine learning, como la normalización y detección de outliers.\n",
    "\n",
    "---\n"
   ]
  },
  {
   "cell_type": "markdown",
   "id": "35dcc949",
   "metadata": {},
   "source": [
    "\n",
    "### 3. Contenido de la clase:  \n",
    "#### **Teórico**:  \n",
    "1. **Definición de la media muestral**:  \n",
    "   - Fórmula matemática:  \n",
    "     $$\n",
    "     \\bar{x} = \\frac{1}{n} \\sum_{i=1}^{n} x_i\n",
    "     $$  \n"
   ]
  },
  {
   "cell_type": "markdown",
   "id": "c472c1d3",
   "metadata": {},
   "source": [
    "   - Su importancia como medida de tendencia central.  \n"
   ]
  },
  {
   "cell_type": "markdown",
   "id": "5deb0499",
   "metadata": {},
   "source": [
    "\n",
    "2. **Relación de la media muestral con la estadística descriptiva y machine learning**:  \n",
    "   - Uso en la normalización de datos ($z$-score, min-max scaling).  \n",
    "   - Detección y tratamiento de valores atípicos.  \n"
   ]
  },
  {
   "cell_type": "markdown",
   "id": "a4026038",
   "metadata": {},
   "source": [
    "\n",
    "#### **Práctico**:  \n",
    "1. Uso de **`numpy.mean()`** para calcular la media.  \n",
    "2. Uso de **`scipy.stats`** para realizar análisis relacionados con la media (intervalos de confianza).  \n",
    "3. Aplicación práctica: Detección de outliers en un conjunto de datos.\n",
    "\n",
    "---\n"
   ]
  },
  {
   "cell_type": "markdown",
   "id": "67b6374e",
   "metadata": {},
   "source": [
    "\n",
    "### 4. Actividades de aprendizaje:  \n",
    "#### Actividad guiada (en clase):\n",
    "1. **Exploración inicial con NumPy**:  \n",
    "   - Crear un conjunto de datos simulado.  \n",
    "   - Calcular la media muestral con **`numpy.mean()`**.  \n",
    "   - Comparar la media con otros estadísticos como la mediana.  \n"
   ]
  },
  {
   "cell_type": "markdown",
   "id": "c16e5b4b",
   "metadata": {},
   "source": [
    "\n",
    "2. **Análisis con SciPy**:  \n",
    "   - Estimar un intervalo de confianza para la media con **`scipy.stats.t.interval()`**.  \n",
    "\n",
    "3. **Caso práctico**:  \n",
    "   - Utilizar un conjunto de datos real (como el conjunto de datos de salarios de `seaborn` o uno simulado).  \n",
    "   - Preprocesar los datos: Calcular la media, detectar outliers (e.g., por desviación estándar) y normalizar los datos antes de aplicar machine learning.\n",
    "\n",
    "#### Código guía para la actividad:  \n"
   ]
  },
  {
   "cell_type": "code",
   "execution_count": 6,
   "id": "de4b853a",
   "metadata": {},
   "outputs": [
    {
     "name": "stdout",
     "output_type": "stream",
     "text": [
      "Media muestral: 211.33333333333334\n"
     ]
    }
   ],
   "source": [
    "import numpy as np\n",
    "from scipy import stats\n",
    "\n",
    "# Crear un conjunto de datos\n",
    "datos = np.array([50, 52, 53, 55, 58, 1000])  # Ejemplo con un outlier\n",
    "\n",
    "# Calcular la media\n",
    "media = np.mean(datos)\n",
    "print(f\"Media muestral: {media}\")\n"
   ]
  },
  {
   "cell_type": "code",
   "execution_count": 7,
   "id": "8f73e226",
   "metadata": {},
   "outputs": [
    {
     "name": "stdout",
     "output_type": "stream",
     "text": [
      "Intervalo de confianza del 95%: (np.float64(-194.14321222849892), np.float64(616.8098788951656))\n"
     ]
    }
   ],
   "source": [
    "\n",
    "# Calcular el intervalo de confianza para la media\n",
    "confianza = 0.95\n",
    "n = len(datos)\n",
    "sem = stats.sem(datos)  # Error estándar de la media\n",
    "intervalo = stats.t.interval(confianza, df=n-1, loc=media, scale=sem)\n",
    "print(f\"Intervalo de confianza del 95%: {intervalo}\")\n"
   ]
  },
  {
   "cell_type": "code",
   "execution_count": 9,
   "id": "2928a4e6",
   "metadata": {},
   "outputs": [
    {
     "name": "stdout",
     "output_type": "stream",
     "text": [
      "Outliers detectados: [np.int64(1000)]\n"
     ]
    }
   ],
   "source": [
    "\n",
    "# Detectar outliers basados en la desviación estándar\n",
    "desviacion = np.std(datos)\n",
    "umbral = 2 * desviacion  # Considerar valores fuera de 2 desviaciones estándar\n",
    "outliers = [x for x in datos if abs(x - media) > umbral]\n",
    "print(f\"Outliers detectados: {outliers}\")\n",
    "\n"
   ]
  },
  {
   "cell_type": "markdown",
   "id": "bc9f4345",
   "metadata": {},
   "source": [
    "\n",
    "---\n",
    "\n",
    "### 5. Tarea o actividades de ejercitación y fijación:  \n",
    "1. **Problema 1**:  \n",
    "   Crea un conjunto de datos con 50 valores aleatorios utilizando `numpy.random`. Calcula la media muestral y el intervalo de confianza del 90%.  \n"
   ]
  },
  {
   "cell_type": "markdown",
   "id": "9d927ec9",
   "metadata": {},
   "source": [
    "\n",
    "2. **Problema 2**:  \n",
    "   Carga un conjunto de datos real (por ejemplo, usando pandas y el dataset de Titanic disponible en seaborn). Calcula la media de las edades y normalízalas utilizando el $z$-score.  \n",
    "\n",
    "3. **Problema 3**:  \n",
    "   Implementa una función en Python que detecte outliers en un conjunto de datos basándose en el criterio de Tukey (caja y bigotes).\n",
    "\n",
    "---\n"
   ]
  },
  {
   "cell_type": "markdown",
   "id": "18ae1eae",
   "metadata": {},
   "source": [
    "\n",
    "### 6. Diseño de actividad de retroalimentación:  \n",
    "**Retroalimentación individual y grupal:**  \n",
    "1. **Rúbrica de evaluación para la actividad práctica**:  \n",
    "   - Correctitud en los cálculos de la media y la detección de outliers.  \n",
    "   - Interpretación del intervalo de confianza.  \n",
    "   - Implementación adecuada de las técnicas en Python.  \n"
   ]
  },
  {
   "cell_type": "markdown",
   "id": "1bb79632",
   "metadata": {},
   "source": [
    "\n",
    "2. **Discusión en grupo**:  \n",
    "   - Comparar las medias de diferentes muestras simuladas.  \n",
    "   - Analizar cómo los valores atípicos afectan la media y qué métodos podrían mitigar este impacto en contextos de machine learning.  \n"
   ]
  },
  {
   "cell_type": "markdown",
   "id": "cf6e5944",
   "metadata": {},
   "source": [
    "\n",
    "3. **Feedback automatizado** (opcional):  \n",
    "   Proveer un notebook con test automáticos para validar los cálculos realizados por los estudiantes (usando `assert` o bibliotecas como `unittest`).  \n",
    "\n",
    "---\n"
   ]
  },
  {
   "cell_type": "markdown",
   "id": "d76e4cd0",
   "metadata": {},
   "source": [
    "\n",
    "Esta clase introduce a los estudiantes al concepto de media muestral, sus aplicaciones prácticas en ciencia de datos, y cómo Python (NumPy y SciPy) facilita su implementación."
   ]
  },
  {
   "cell_type": "markdown",
   "id": "85fd62ad",
   "metadata": {},
   "source": [
    "# Implementación de este diseño de clase sobre la media muestral  \n"
   ]
  },
  {
   "cell_type": "markdown",
   "id": "10bcfe07",
   "metadata": {},
   "source": [
    "\n",
    "### 1. Título de la clase:  \n",
    "**La Media Muestral y su Utilización en Ciencia de Datos con Técnicas de Machine Learning usando NumPy y SciPy**\n",
    "\n",
    "---\n"
   ]
  },
  {
   "cell_type": "markdown",
   "id": "b94ccfba",
   "metadata": {},
   "source": [
    "\n",
    "### 2. Objetivo de aprendizaje:  \n",
    "Al finalizar la clase, los estudiantes serán capaces de:  \n",
    "1. Calcular la media muestral utilizando Python con las bibliotecas NumPy y SciPy.  \n",
    "2. Comprender el concepto de media muestral en el análisis de datos y su papel en el preprocesamiento y la interpretación de datos.  \n",
    "3. Aplicar la media muestral en un caso práctico de ciencia de datos, utilizando técnicas de machine learning, como la normalización y detección de outliers.\n",
    "\n",
    "---\n"
   ]
  },
  {
   "cell_type": "markdown",
   "id": "63434d96",
   "metadata": {},
   "source": [
    "\n",
    "### 3. Contenido de la clase:  \n",
    "#### **Teórico**:  \n",
    "1. **Definición de la media muestral**:  \n",
    "   - Fórmula matemática:  \n",
    "     $$\n",
    "     \\bar{x} = \\frac{1}{n} \\sum_{i=1}^{n} x_i\n",
    "     $$  \n",
    "   - Su importancia como medida de tendencia central.  \n"
   ]
  },
  {
   "cell_type": "markdown",
   "id": "a64fa7d5",
   "metadata": {},
   "source": [
    "### Desarrollo del contenido: **Definición de la media muestral**\n",
    "\n",
    "---\n"
   ]
  },
  {
   "cell_type": "markdown",
   "id": "e7b8aa3d",
   "metadata": {},
   "source": [
    "\n",
    "#### **1. Definición de la media muestral**\n",
    "La **media muestral** es una medida de tendencia central ampliamente utilizada en estadística descriptiva y ciencia de datos. Representa el valor promedio de un conjunto de datos muestrales y resume la información en una única cifra, proporcionando una idea del comportamiento general de los datos.\n",
    "\n",
    "#### **2. Fórmula matemática**  \n",
    "La media muestral se define como:\n",
    "\n",
    "$$\n",
    "\\bar{x} = \\frac{1}{n} \\sum_{i=1}^{n} x_i\n",
    "$$\n"
   ]
  },
  {
   "cell_type": "markdown",
   "id": "c02ad83b",
   "metadata": {},
   "source": [
    "\n",
    "Donde:  \n",
    "- $\\bar{x}$ es la media muestral.  \n",
    "- $n$ es el tamaño de la muestra.  \n",
    "- $x_i$ representa los valores individuales de la muestra.  \n"
   ]
  },
  {
   "cell_type": "markdown",
   "id": "8ab3159b",
   "metadata": {},
   "source": [
    "\n",
    "#### **3. Ejemplo ilustrativo**\n",
    "Consideremos una muestra de datos: $[10, 20, 30, 40, 50]$.  \n",
    "- Tamaño de la muestra ($n$) = 5.  \n",
    "- Suma de los valores $\\left(\\sum x_i \\right)$ = $10 + 20 + 30 + 40 + 50 = 150$.  \n"
   ]
  },
  {
   "cell_type": "markdown",
   "id": "a733c712",
   "metadata": {},
   "source": [
    "\n",
    "Calculamos la media muestral:  \n",
    "$$\n",
    "\\bar{x} = \\frac{1}{n} \\sum_{i=1}^{n} x_i = \\frac{150}{5} = 30\n",
    "$$\n",
    "\n",
    "Por lo tanto, la media de esta muestra es $30$.\n"
   ]
  },
  {
   "cell_type": "code",
   "execution_count": 10,
   "id": "9f3b0d8f",
   "metadata": {},
   "outputs": [
    {
     "data": {
      "text/plain": [
       "np.float64(30.0)"
      ]
     },
     "execution_count": 10,
     "metadata": {},
     "output_type": "execute_result"
    }
   ],
   "source": [
    "datos = np.array([10, 20, 30, 40, 50])\n",
    "n = len(datos)\n",
    "x_bar = (1/n)*np.sum(datos) \n",
    "x_bar "
   ]
  },
  {
   "cell_type": "markdown",
   "id": "a18cd979",
   "metadata": {},
   "source": [
    "\n",
    "#### **4. Importancia de la media muestral como medida de tendencia central**\n",
    "1. **Representación promedio**: Resume un conjunto de datos en un solo valor que representa el punto central.  \n",
    "2. **Base para análisis estadísticos**: La media es fundamental para cálculos más avanzados como la varianza, desviación estándar, y en métodos de machine learning como regresión y clustering.  \n",
    "3. **Facilidad de interpretación**: Es intuitiva y fácil de calcular, lo que la hace útil para comunicar resultados.  \n"
   ]
  },
  {
   "cell_type": "markdown",
   "id": "8b154b2e",
   "metadata": {},
   "source": [
    "4. **Sensibilidad a valores extremos**: La media puede ser afectada por outliers, lo que hace necesario considerar otras medidas de tendencia central, como la mediana, en algunos contextos.\n"
   ]
  },
  {
   "cell_type": "code",
   "execution_count": 16,
   "id": "0190af34",
   "metadata": {},
   "outputs": [
    {
     "data": {
      "text/plain": [
       "np.float64(8333361.5)"
      ]
     },
     "execution_count": 16,
     "metadata": {},
     "output_type": "execute_result"
    }
   ],
   "source": [
    "datos = np.array([35, 32, 30, 35, 37, 50000000])\n",
    "n = len(datos)\n",
    "x_bar = (1/n)*np.sum(datos) \n",
    "x_bar "
   ]
  },
  {
   "cell_type": "code",
   "execution_count": 15,
   "id": "1565d0a2",
   "metadata": {},
   "outputs": [
    {
     "data": {
      "text/plain": [
       "np.float64(35.0)"
      ]
     },
     "execution_count": 15,
     "metadata": {},
     "output_type": "execute_result"
    }
   ],
   "source": [
    "np.median(datos) "
   ]
  },
  {
   "cell_type": "code",
   "execution_count": 17,
   "id": "559521f6",
   "metadata": {},
   "outputs": [
    {
     "ename": "AttributeError",
     "evalue": "module 'numpy' has no attribute 'mode'",
     "output_type": "error",
     "traceback": [
      "\u001b[1;31m---------------------------------------------------------------------------\u001b[0m",
      "\u001b[1;31mAttributeError\u001b[0m                            Traceback (most recent call last)",
      "Cell \u001b[1;32mIn[17], line 1\u001b[0m\n\u001b[1;32m----> 1\u001b[0m \u001b[43mnp\u001b[49m\u001b[38;5;241;43m.\u001b[39;49m\u001b[43mmode\u001b[49m(datos) \n",
      "File \u001b[1;32m~\\AppData\\Local\\Packages\\PythonSoftwareFoundation.Python.3.12_qbz5n2kfra8p0\\LocalCache\\local-packages\\Python312\\site-packages\\numpy\\__init__.py:424\u001b[0m, in \u001b[0;36m__getattr__\u001b[1;34m(attr)\u001b[0m\n\u001b[0;32m    421\u001b[0m     \u001b[38;5;28;01mimport\u001b[39;00m \u001b[38;5;21;01mnumpy\u001b[39;00m\u001b[38;5;21;01m.\u001b[39;00m\u001b[38;5;21;01mchar\u001b[39;00m \u001b[38;5;28;01mas\u001b[39;00m \u001b[38;5;21;01mchar\u001b[39;00m\n\u001b[0;32m    422\u001b[0m     \u001b[38;5;28;01mreturn\u001b[39;00m char\u001b[38;5;241m.\u001b[39mchararray\n\u001b[1;32m--> 424\u001b[0m \u001b[38;5;28;01mraise\u001b[39;00m \u001b[38;5;167;01mAttributeError\u001b[39;00m(\u001b[38;5;124m\"\u001b[39m\u001b[38;5;124mmodule \u001b[39m\u001b[38;5;132;01m{!r}\u001b[39;00m\u001b[38;5;124m has no attribute \u001b[39m\u001b[38;5;124m\"\u001b[39m\n\u001b[0;32m    425\u001b[0m                      \u001b[38;5;124m\"\u001b[39m\u001b[38;5;132;01m{!r}\u001b[39;00m\u001b[38;5;124m\"\u001b[39m\u001b[38;5;241m.\u001b[39mformat(\u001b[38;5;18m__name__\u001b[39m, attr))\n",
      "\u001b[1;31mAttributeError\u001b[0m: module 'numpy' has no attribute 'mode'"
     ]
    }
   ],
   "source": []
  },
  {
   "cell_type": "markdown",
   "id": "8b4a1f4e",
   "metadata": {},
   "source": [
    "\n",
    "#### **5. Implementación en Python**\n",
    "El cálculo de la media muestral puede implementarse fácilmente utilizando bibliotecas como **NumPy**:\n"
   ]
  },
  {
   "cell_type": "code",
   "execution_count": 19,
   "id": "83b6a697",
   "metadata": {},
   "outputs": [
    {
     "name": "stdout",
     "output_type": "stream",
     "text": [
      "Media muestral: 33.0\n"
     ]
    }
   ],
   "source": [
    "import numpy as np\n",
    "\n",
    "# Muestra de datos\n",
    "datos = [32, 31, 30, 35, 37]\n",
    "\n",
    "# Cálculo de la media muestral\n",
    "media_muestral = np.mean(datos)\n",
    "\n",
    "# Mostrar el resultado\n",
    "print(\"Media muestral:\", media_muestral)\n",
    "\n"
   ]
  },
  {
   "cell_type": "markdown",
   "id": "4334ae9b",
   "metadata": {},
   "source": [
    "\n",
    "#### **6. Conexión con la Ciencia de Datos**\n",
    "En ciencia de datos, la media muestral se utiliza para:\n",
    "- **Describir datos**: Proporcionar un resumen rápido de una distribución.\n",
    "- **Normalización**: Calcular la media para centrar datos alrededor de cero.\n",
    "- **Regresión lineal**: La media está relacionada con la pendiente y la intersección de las líneas de ajuste.\n",
    "- **Análisis de outliers**: Comparar datos individuales con la media para identificar valores extremos. \n",
    "\n",
    "Este contenido combina los fundamentos teóricos con aplicaciones prácticas y su conexión con herramientas computacionales y técnicas avanzadas de análisis."
   ]
  },
  {
   "cell_type": "markdown",
   "id": "ecee18bd",
   "metadata": {},
   "source": [
    "\n",
    "2. **Relación de la media muestral con la estadística descriptiva y machine learning**:  \n",
    "   - Uso en la normalización de datos ($z$-score, min-max scaling).  \n",
    "   - Detección y tratamiento de valores atípicos.  \n"
   ]
  },
  {
   "cell_type": "markdown",
   "id": "07e67244",
   "metadata": {},
   "source": [
    "### Desarrollo del contenido: **Relación de la media muestral con la estadística descriptiva y machine learning**\n",
    "\n",
    "---\n"
   ]
  },
  {
   "cell_type": "markdown",
   "id": "abb4ea42",
   "metadata": {},
   "source": [
    "\n",
    "La **media muestral** no solo es útil como una medida de tendencia central, sino que también juega un papel clave en diversas técnicas dentro de la **estadística descriptiva** y en el ámbito del **machine learning**. "
   ]
  },
  {
   "cell_type": "markdown",
   "id": "a7e4f363",
   "metadata": {},
   "source": [
    "A continuación, se exploran dos aplicaciones clave: la **normalización de datos** y la **detección de valores atípicos**.\n",
    "\n",
    "---\n"
   ]
  },
  {
   "cell_type": "markdown",
   "id": "3ba538af",
   "metadata": {},
   "source": [
    "\n",
    "#### **2.1 Uso en la normalización de datos**\n",
    "\n",
    "La normalización es el proceso de ajustar los datos para que tengan un rango o escala común, facilitando su interpretación y mejorando el rendimiento de varios algoritmos de machine learning.\n"
   ]
  },
  {
   "cell_type": "markdown",
   "id": "cd701212",
   "metadata": {},
   "source": [
    "\n",
    "##### **$z$-score** (Estandarización):\n",
    "El **$z$-score** es una técnica común de normalización que utiliza la media muestral y la desviación estándar para transformar los datos. Este procedimiento es especialmente útil cuando los datos tienen diferentes unidades o escalas. La fórmula del $z$-score es:\n",
    "\n",
    "$$\n",
    "z_i = \\frac{x_i - \\bar{x}}{\\sigma}\n",
    "$$\n",
    "\n",
    "Donde:\n",
    "- $ z_i $ es el valor normalizado (estandarizado) del dato $x_i$.\n",
    "- $\\bar{x}$ es la media muestral.\n",
    "- $\\sigma$ es la desviación estándar de la muestra.\n"
   ]
  },
  {
   "cell_type": "markdown",
   "id": "a65bc062",
   "metadata": {},
   "source": [
    "\n",
    "**Propósito del $z$-score**:\n",
    "- Convertir los datos a una distribución con **media 0** y **desviación estándar 1**, lo que hace que las comparaciones entre variables de diferentes escalas sean más justas.\n",
    "  \n"
   ]
  },
  {
   "cell_type": "markdown",
   "id": "3905c2c2",
   "metadata": {},
   "source": [
    "##### **Min-Max Scaling**:\n",
    "Otra técnica común para normalizar los datos es el **min-max scaling**, que transforma los datos a un rango específico, generalmente entre 0 y 1. La fórmula es:\n",
    "\n",
    "$$\n",
    "x_{\\text{norm}} = \\frac{x_i - \\min(x)}{\\max(x) - \\min(x)}\n",
    "$$\n",
    "\n",
    "Donde:\n",
    "- $ x_{\\text{norm}} $ es el valor normalizado de $x_i$.\n",
    "- $\\min(x)$ y $\\max(x)$ son los valores mínimo y máximo de la muestra, respectivamente.\n"
   ]
  },
  {
   "cell_type": "markdown",
   "id": "3b288106",
   "metadata": {},
   "source": [
    "\n",
    "**Propósito del Min-Max Scaling**:\n",
    "- Es útil cuando los algoritmos de machine learning, como las redes neuronales, requieren que los datos estén en un rango específico para mejorar la convergencia y el rendimiento.\n"
   ]
  },
  {
   "cell_type": "markdown",
   "id": "cabeb3f5",
   "metadata": {},
   "source": [
    "\n",
    "##### **Ejemplo de Normalización con Python**:\n"
   ]
  },
  {
   "cell_type": "code",
   "execution_count": 20,
   "id": "573ee069",
   "metadata": {},
   "outputs": [
    {
     "name": "stdout",
     "output_type": "stream",
     "text": [
      "z-scores: [np.float64(0.09821559067074769), np.float64(-0.8839403160367292), np.float64(-0.49107795335373844), np.float64(1.4732338600612154), np.float64(1.0803714973782246), np.float64(-1.27680267871972)]\n",
      "Datos normalizados Min-Max: [0.5        0.14285714 0.28571429 1.         0.85714286 0.        ]\n"
     ]
    }
   ],
   "source": [
    "\n",
    "import numpy as np\n",
    "from sklearn.preprocessing import MinMaxScaler\n",
    "\n",
    "# Muestra de datos\n",
    "datos = [45, 20, 30, 80, 70, 10]\n",
    "\n",
    "# Normalización usando z-score (estandarización)\n",
    "media = np.mean(datos)\n",
    "desviacion = np.std(datos)\n",
    "z_scores = [(x - media) / desviacion for x in datos]\n"
   ]
  },
  {
   "cell_type": "code",
   "execution_count": 21,
   "id": "a9a41b11",
   "metadata": {},
   "outputs": [
    {
     "name": "stdout",
     "output_type": "stream",
     "text": [
      "z-scores: [np.float64(0.09821559067074769), np.float64(-0.8839403160367292), np.float64(-0.49107795335373844), np.float64(1.4732338600612154), np.float64(1.0803714973782246), np.float64(-1.27680267871972)]\n",
      "Datos normalizados Min-Max: [0.5        0.14285714 0.28571429 1.         0.85714286 0.        ]\n"
     ]
    }
   ],
   "source": [
    "\n",
    "# Normalización Min-Max\n",
    "scaler = MinMaxScaler()\n",
    "datos_norm = scaler.fit_transform(np.array(datos).reshape(-1, 1))\n",
    "\n",
    "print(\"z-scores:\", z_scores)\n",
    "print(\"Datos normalizados Min-Max:\", datos_norm.flatten())\n",
    "\n"
   ]
  },
  {
   "cell_type": "markdown",
   "id": "65eb3795",
   "metadata": {},
   "source": [
    "\n",
    "**Resultado esperado**:  \n",
    "El código muestra cómo estandarizar los datos con **$z$-score** y cómo normalizarlos en el rango [0, 1] usando **Min-Max Scaling**.\n",
    "\n",
    "---\n"
   ]
  },
  {
   "cell_type": "markdown",
   "id": "71795b2e",
   "metadata": {},
   "source": [
    "\n",
    "#### **2.2 Detección y tratamiento de valores atípicos (outliers)**\n",
    "\n",
    "Los **valores atípicos** son observaciones que se desvían significativamente del resto de los datos. Detectarlos y tratarlos adecuadamente es crucial para mejorar la calidad de los modelos de machine learning.\n"
   ]
  },
  {
   "cell_type": "markdown",
   "id": "8213e447",
   "metadata": {},
   "source": [
    "\n",
    "##### **Relación con la media muestral**:\n",
    "- La media muestral, junto con la **desviación estándar**, es una herramienta útil para identificar outliers.\n",
    "- Un valor se considera un outlier si se encuentra a una distancia **grande** de la media, generalmente más de **2 o 3 veces** la desviación estándar. Es decir, cualquier valor $x_i$ tal que:\n",
    "\n",
    "$$\n",
    "|x_i - \\bar{x}| > 2 \\sigma \\quad \\text{o} \\quad |x_i - \\bar{x}| > 3 \\sigma\n",
    "$$\n",
    "\n",
    "Donde $\\bar{x}$ es la media muestral y $\\sigma$ es la desviación estándar.\n"
   ]
  },
  {
   "cell_type": "markdown",
   "id": "15b2bcfc",
   "metadata": {},
   "source": [
    "\n",
    "##### **Método IQR (Interquartile Range)**:\n",
    "Además de la media, otro enfoque para detectar valores atípicos es el **rango intercuartílico (IQR)**. Este método se basa en los cuartiles (Q1 y Q3) y el IQR (diferencia entre Q3 y Q1). Los valores que están fuera de los límites establecidos por el IQR se consideran atípicos. Los límites se calculan como:\n",
    "\n",
    "$$\n",
    "\\text{Límite inferior} = Q1 - 1.5 \\times IQR\n",
    "$$\n",
    "$$\n",
    "\\text{Límite superior} = Q3 + 1.5 \\times IQR\n",
    "$$\n"
   ]
  },
  {
   "cell_type": "markdown",
   "id": "554613c3",
   "metadata": {},
   "source": [
    "\n",
    "##### **Tratamiento de outliers**:\n",
    "Existen varias técnicas para tratar los valores atípicos:\n",
    "1. **Eliminación**: Se eliminan los outliers si su presencia puede afectar negativamente el modelo.\n",
    "2. **Sustitución**: Se reemplazan por valores más representativos, como la media o la mediana.\n",
    "3. **Transformación**: Se aplican transformaciones (por ejemplo, logaritmo) para reducir el impacto de los outliers.\n"
   ]
  },
  {
   "cell_type": "markdown",
   "id": "3517f4b4",
   "metadata": {},
   "source": [
    "\n",
    "##### **Ejemplo de detección de outliers en Python**:\n"
   ]
  },
  {
   "cell_type": "code",
   "execution_count": null,
   "id": "0349ebdc",
   "metadata": {},
   "outputs": [],
   "source": [
    "import numpy as np\n",
    "from scipy.stats import iqr\n",
    "\n",
    "# Muestra de datos\n",
    "datos = [45, 20, 30, 80, 70, 10]\n",
    "\n",
    "# Cálculo de la media y desviación estándar\n",
    "media = np.mean(datos)\n",
    "desviacion = np.std(datos)\n",
    "\n",
    "# Detección de outliers usando z-score\n",
    "outliers_z = [x for x in datos if abs(x - media) > 2 * desviacion]\n",
    "\n",
    "# Cálculo del rango intercuartílico (IQR)\n",
    "q1 = np.percentile(datos, 25)\n",
    "q3 = np.percentile(datos, 75)\n",
    "iqr_value = iqr(datos)\n",
    "\n",
    "# Detección de outliers usando IQR\n",
    "outliers_iqr = [x for x in datos if x < q1 - 1.5 * iqr_value or x > q3 + 1.5 * iqr_value]\n",
    "\n",
    "print(\"Outliers según z-score:\", outliers_z)\n",
    "print(\"Outliers según IQR:\", outliers_iqr)\n",
    "\n"
   ]
  },
  {
   "cell_type": "markdown",
   "id": "96d7aa56",
   "metadata": {},
   "source": [
    "\n",
    "**Resultado esperado**:  \n",
    "El código detecta los **outliers** usando el método del **$z$-score** y el **rango intercuartílico (IQR)**.\n",
    "\n",
    "---\n",
    "\n",
    "#### **Conclusión**\n",
    "\n",
    "La **media muestral** no solo es útil para resumir la información de un conjunto de datos, sino que también juega un papel esencial en la **normalización de datos** y la **detección de valores atípicos**, lo cual es crucial tanto en **estadística descriptiva** como en **machine learning**. Su uso adecuado puede mejorar la calidad de los modelos y facilitar la interpretación de los datos."
   ]
  },
  {
   "cell_type": "markdown",
   "id": "7094b376",
   "metadata": {},
   "source": [
    "\n",
    "#### **Práctico**:  \n",
    "1. Uso de **`numpy.mean()`** para calcular la media.  \n",
    "2. Uso de **`scipy.stats`** para realizar análisis relacionados con la media (intervalos de confianza).  \n",
    "3. Aplicación práctica: Detección de outliers en un conjunto de datos.\n",
    "\n",
    "---\n"
   ]
  },
  {
   "cell_type": "markdown",
   "id": "2c4bcc17",
   "metadata": {},
   "source": [
    "### Desarrollo del contenido: **Práctico sobre la Media Muestral con NumPy y SciPy**\n",
    "\n",
    "---\n",
    "\n",
    "#### **3. Práctico**\n",
    "\n",
    "En esta sección práctica, aprenderemos a utilizar **NumPy** y **SciPy** para trabajar con la **media muestral**, realizar análisis estadísticos relacionados, como los **intervalos de confianza**, y aplicar técnicas para la **detección de outliers**.\n",
    "\n",
    "---\n",
    "\n",
    "#### **3.1 Uso de `numpy.mean()` para calcular la media**\n",
    "\n",
    "**NumPy** es una de las bibliotecas más poderosas y eficientes de Python para el procesamiento de datos numéricos. Su función **`mean()`** permite calcular de manera rápida y eficiente la media de un conjunto de datos.\n",
    "\n",
    "##### **Sintaxis:**\n",
    "```python\n",
    "numpy.mean(a, axis=None, dtype=None, out=None, keepdims=False)\n",
    "```\n",
    "\n",
    "- **`a`**: El array o conjunto de datos sobre el que se calculará la media.\n",
    "- **`axis`**: El eje sobre el que calcular la media (si es una matriz).\n",
    "- **`dtype`**: El tipo de datos para la salida (opcional).\n",
    "- **`out`**: Un array en el que almacenar el resultado (opcional).\n",
    "- **`keepdims`**: Si se mantiene la misma cantidad de dimensiones (opcional).\n",
    "\n",
    "##### **Ejemplo con `numpy.mean()`**:\n",
    "```python\n",
    "import numpy as np\n",
    "\n",
    "# Datos de ejemplo\n",
    "datos = [45, 20, 30, 80, 70, 10]\n",
    "\n",
    "# Calcular la media con numpy.mean()\n",
    "media = np.mean(datos)\n",
    "print(\"Media muestral:\", media)\n",
    "```\n",
    "\n",
    "**Resultado esperado**:\n",
    "```\n",
    "Media muestral: 42.5\n",
    "```\n",
    "\n",
    "En este ejemplo, **NumPy** calcula la media de los datos, que es la suma de todos los valores dividida por la cantidad de elementos en la muestra.\n",
    "\n",
    "---\n",
    "\n",
    "#### **3.2 Uso de `scipy.stats` para realizar análisis relacionados con la media (intervalos de confianza)**\n",
    "\n",
    "**SciPy** es otra biblioteca crucial en el análisis de datos científicos y estadísticos. Para analizar la media de una muestra y obtener inferencias estadísticas, como los **intervalos de confianza**, podemos usar **`scipy.stats`**.\n",
    "\n",
    "##### **Intervalos de confianza**:\n",
    "Un **intervalo de confianza** para la media muestral nos proporciona un rango de valores dentro del cual podemos esperar que se encuentre la media poblacional con un cierto nivel de confianza (por ejemplo, 95%).\n",
    "\n",
    "Para calcular un intervalo de confianza para la media, utilizamos la función **`scipy.stats.t.interval()`**, que nos proporciona un intervalo usando la distribución **t de Student**. La fórmula para el intervalo de confianza es:\n",
    "\n",
    "\\[\n",
    "\\bar{x} \\pm t_{\\alpha/2} \\times \\frac{s}{\\sqrt{n}}\n",
    "\\]\n",
    "\n",
    "Donde:\n",
    "- \\( \\bar{x} \\) es la media muestral.\n",
    "- \\( t_{\\alpha/2} \\) es el valor crítico de la distribución t de Student.\n",
    "- \\( s \\) es la desviación estándar de la muestra.\n",
    "- \\( n \\) es el tamaño de la muestra.\n",
    "\n",
    "##### **Ejemplo con `scipy.stats.t.interval()`**:\n",
    "```python\n",
    "import numpy as np\n",
    "from scipy import stats\n",
    "\n",
    "# Datos de ejemplo\n",
    "datos = [45, 20, 30, 80, 70, 10]\n",
    "\n",
    "# Media muestral y desviación estándar\n",
    "media = np.mean(datos)\n",
    "desviacion = np.std(datos, ddof=1)  # Desviación estándar muestral\n",
    "n = len(datos)\n",
    "\n",
    "# Nivel de confianza (95%)\n",
    "confianza = 0.95\n",
    "\n",
    "# Intervalo de confianza usando t-distribution\n",
    "intervalo_confianza = stats.t.interval(confianza, df=n-1, loc=media, scale=desviacion/np.sqrt(n))\n",
    "\n",
    "print(f\"Intervalo de confianza del 95% para la media: {intervalo_confianza}\")\n",
    "```\n",
    "\n",
    "**Resultado esperado**:\n",
    "```\n",
    "Intervalo de confianza del 95% para la media: (11.532592688116276, 73.46740731188373)\n",
    "```\n",
    "\n",
    "Este intervalo indica que, con un 95% de confianza, la verdadera media de la población se encuentra entre 11.53 y 73.47.\n",
    "\n",
    "---\n",
    "\n",
    "#### **3.3 Aplicación práctica: Detección de outliers en un conjunto de datos**\n",
    "\n",
    "El uso de la **media muestral** y la **desviación estándar** también es útil para detectar valores atípicos (outliers) en un conjunto de datos. Un valor se considera un outlier si se encuentra más allá de 2 o 3 desviaciones estándar de la media.\n",
    "\n",
    "##### **Método de detección de outliers**:\n",
    "Se pueden identificar los outliers utilizando la siguiente condición:\n",
    "\n",
    "\\[\n",
    "|x_i - \\bar{x}| > 2 \\times \\sigma\n",
    "\\]\n",
    "\n",
    "Si el valor absoluto de la diferencia entre un dato \\( x_i \\) y la media \\( \\bar{x} \\) es mayor que dos veces la desviación estándar \\( \\sigma \\), entonces se considera un outlier.\n",
    "\n",
    "##### **Ejemplo de detección de outliers**:\n",
    "```python\n",
    "import numpy as np\n",
    "\n",
    "# Datos de ejemplo\n",
    "datos = [45, 20, 30, 80, 70, 10]\n",
    "\n",
    "# Calcular la media y la desviación estándar\n",
    "media = np.mean(datos)\n",
    "desviacion = np.std(datos, ddof=1)\n",
    "\n",
    "# Detectar outliers\n",
    "outliers = [x for x in datos if abs(x - media) > 2 * desviacion]\n",
    "\n",
    "print(\"Outliers detectados:\", outliers)\n",
    "```\n",
    "\n",
    "**Resultado esperado**:\n",
    "```\n",
    "Outliers detectados: [80, 10]\n",
    "```\n",
    "\n",
    "En este ejemplo, el valor **80** y el valor **10** son considerados outliers porque están a más de dos desviaciones estándar de la media.\n",
    "\n",
    "---\n",
    "\n",
    "#### **Conclusión**\n",
    "\n",
    "En este práctico, hemos utilizado **NumPy** y **SciPy** para:\n",
    "1. Calcular la **media muestral** con **`numpy.mean()`**.\n",
    "2. Realizar un **análisis de intervalos de confianza** con **`scipy.stats.t.interval()`**.\n",
    "3. Aplicar una técnica de **detección de outliers** usando la media y la desviación estándar.\n",
    "\n",
    "Estas herramientas son fundamentales para realizar un análisis estadístico riguroso, que es esencial no solo en la estadística descriptiva, sino también en diversas aplicaciones de **machine learning**, donde los modelos dependen de datos bien preprocesados y ajustados."
   ]
  },
  {
   "cell_type": "markdown",
   "id": "adf895b3",
   "metadata": {},
   "source": [
    "\n",
    "### 4. Actividades de aprendizaje:  \n",
    "#### Actividad guiada (en clase):\n",
    "1. **Exploración inicial con NumPy**:  \n",
    "   - Crear un conjunto de datos simulado.  \n",
    "   - Calcular la media muestral con **`numpy.mean()`**.  \n",
    "   - Comparar la media con otros estadísticos como la mediana.  \n",
    "\n",
    "2. **Análisis con SciPy**:  \n",
    "   - Estimar un intervalo de confianza para la media con **`scipy.stats.t.interval()`**.  \n",
    "\n",
    "3. **Caso práctico**:  \n",
    "   - Utilizar un conjunto de datos real (como el conjunto de datos de salarios de `seaborn` o uno simulado).  \n",
    "   - Preprocesar los datos: Calcular la media, detectar outliers (e.g., por desviación estándar) y normalizar los datos antes de aplicar machine learning.\n",
    "\n",
    "#### Código guía para la actividad:  \n"
   ]
  },
  {
   "cell_type": "code",
   "execution_count": null,
   "id": "b50e3530",
   "metadata": {},
   "outputs": [],
   "source": [
    "import numpy as np\n",
    "from scipy import stats\n",
    "\n",
    "# Crear un conjunto de datos\n",
    "datos = np.array([50, 52, 53, 55, 58, 1000])  # Ejemplo con un outlier\n",
    "\n",
    "# Calcular la media\n",
    "media = np.mean(datos)\n",
    "print(f\"Media muestral: {media}\")\n",
    "\n",
    "# Calcular el intervalo de confianza para la media\n",
    "confianza = 0.95\n",
    "n = len(datos)\n",
    "sem = stats.sem(datos)  # Error estándar de la media\n",
    "intervalo = stats.t.interval(confianza, df=n-1, loc=media, scale=sem)\n",
    "print(f\"Intervalo de confianza del 95%: {intervalo}\")\n"
   ]
  },
  {
   "cell_type": "code",
   "execution_count": null,
   "id": "ee19bbb0",
   "metadata": {},
   "outputs": [],
   "source": [
    "\n",
    "# Detectar outliers basados en la desviación estándar\n",
    "desviacion = np.std(datos)\n",
    "umbral = 2 * desviacion  # Considerar valores fuera de 2 desviaciones estándar\n",
    "outliers = [x for x in datos if abs(x - media) > umbral]\n",
    "print(f\"Outliers detectados: {outliers}\")\n",
    "\n"
   ]
  },
  {
   "cell_type": "markdown",
   "id": "7d8ee36a",
   "metadata": {},
   "source": [
    "\n",
    "---\n",
    "\n",
    "### 5. Tarea o actividades de ejercitación y fijación:  \n",
    "1. **Problema 1**:  \n",
    "   Crea un conjunto de datos con 50 valores aleatorios utilizando `numpy.random`. Calcula la media muestral y el intervalo de confianza del 90%.  \n",
    "\n",
    "2. **Problema 2**:  \n",
    "   Carga un conjunto de datos real (por ejemplo, usando pandas y el dataset de Titanic disponible en seaborn). Calcula la media de las edades y normalízalas utilizando el \\(z\\)-score.  \n",
    "\n",
    "3. **Problema 3**:  \n",
    "   Implementa una función en Python que detecte outliers en un conjunto de datos basándose en el criterio de Tukey (caja y bigotes).\n",
    "\n",
    "---\n",
    "\n",
    "### 6. Diseño de actividad de retroalimentación:  \n",
    "**Retroalimentación individual y grupal:**  \n",
    "1. **Rúbrica de evaluación para la actividad práctica**:  \n",
    "   - Correctitud en los cálculos de la media y la detección de outliers.  \n",
    "   - Interpretación del intervalo de confianza.  \n",
    "   - Implementación adecuada de las técnicas en Python.  \n",
    "\n",
    "2. **Discusión en grupo**:  \n",
    "   - Comparar las medias de diferentes muestras simuladas.  \n",
    "   - Analizar cómo los valores atípicos afectan la media y qué métodos podrían mitigar este impacto en contextos de machine learning.  \n",
    "\n",
    "3. **Feedback automatizado** (opcional):  \n",
    "   Proveer un notebook con test automáticos para validar los cálculos realizados por los estudiantes (usando `assert` o bibliotecas como `unittest`).  \n",
    "\n",
    "---\n",
    "\n",
    "Esta clase introduce a los estudiantes al concepto de media muestral, sus aplicaciones prácticas en ciencia de datos, y cómo Python (NumPy y SciPy) facilita su implementación."
   ]
  },
  {
   "cell_type": "code",
   "execution_count": null,
   "id": "6425d2f9",
   "metadata": {},
   "outputs": [],
   "source": []
  },
  {
   "cell_type": "markdown",
   "id": "7dbbd46e",
   "metadata": {},
   "source": []
  },
  {
   "cell_type": "markdown",
   "id": "742281f4",
   "metadata": {},
   "source": [
    "# No olvide la tarea de realizar la foda para autoevaluarse\n",
    "\n",
    "Fortalezas: F  \n",
    "Oportuniudades O:  \n",
    "Debilidades: D:   \n",
    "Amenazas: A:     "
   ]
  },
  {
   "cell_type": "markdown",
   "id": "ae114e14",
   "metadata": {
    "slideshow": {
     "slide_type": "slide"
    }
   },
   "source": [
    "# Horarios de monitoría y asesoría"
   ]
  },
  {
   "cell_type": "markdown",
   "id": "b1db4b6c",
   "metadata": {
    "slideshow": {
     "slide_type": "slide"
    }
   },
   "source": [
    "## Monitor Manuel"
   ]
  },
  {
   "cell_type": "markdown",
   "id": "39559692",
   "metadata": {
    "slideshow": {
     "slide_type": "slide"
    }
   },
   "source": [
    "Martes y jueves de 8 - 12  \n",
    "Miércoles 10 - 12 y de 2 a 4 PM  \n",
    "Sábado: 8 - 12"
   ]
  },
  {
   "cell_type": "markdown",
   "id": "935a5567",
   "metadata": {
    "slideshow": {
     "slide_type": "slide"
    }
   },
   "source": [
    "## Dificultades de aprendizaje detectados durante la clase"
   ]
  },
  {
   "cell_type": "markdown",
   "id": "3bd7500d",
   "metadata": {
    "slideshow": {
     "slide_type": "slide"
    }
   },
   "source": []
  },
  {
   "cell_type": "markdown",
   "id": "564fa59d",
   "metadata": {
    "slideshow": {
     "slide_type": "slide"
    }
   },
   "source": [
    "### Comparta sus cuadernos y videos, evidencias de su aprendizaje [aquí](https://forms.office.com/Pages/ResponsePage.aspx?id=IefhmYRxjkmK_7KtTlPBwkanXIs1i1FEujpsZgO6dXpUMEMwTEZVMzEwVVBPTElWNVg5OVEyWUhMUy4u)"
   ]
  },
  {
   "cell_type": "markdown",
   "id": "1a1a3e41",
   "metadata": {
    "slideshow": {
     "slide_type": "slide"
    }
   },
   "source": []
  },
  {
   "cell_type": "markdown",
   "id": "10bce0d0",
   "metadata": {
    "slideshow": {
     "slide_type": "slide"
    }
   },
   "source": [
    "## Referentes "
   ]
  },
  {
   "cell_type": "markdown",
   "id": "1db3c468",
   "metadata": {
    "slideshow": {
     "slide_type": "slide"
    }
   },
   "source": [
    "* [stewart precálculo](https://udeaeduco-my.sharepoint.com/:b:/g/personal/marco_canas_udea_edu_co/ERHIq62I6qFNrmxy6LZb8ZMBci7kUsyNME1nIh9yCBMJ_w?e=0zMSla)  \n",
    "\n",
    "* [stewart cálculo](https://udeaeduco-my.sharepoint.com/:b:/g/personal/marco_canas_udea_edu_co/EZgXZjAp8QxPqOAim2hs6LcBNPLGjSHf-xwYnUVYkwa04w?e=RZdTCy)  \n",
    "\n",
    "* [larson](https://udeaeduco-my.sharepoint.com/:b:/g/personal/marco_canas_udea_edu_co/ES71ChFeO9ZDhW3TwC5Ijk8BjxUK3Pdqz_fjHxTTFAfIAg?e=VDEjfu)\n",
    "\n",
    "* [uzcategui](https://udeaeduco-my.sharepoint.com/:b:/g/personal/marco_canas_udea_edu_co/ETDikm-lVl1Or8XoEo9oyh0BEti9Zs8le-f0D-dBdtZmbA?e=bBsoyQ)\n",
    "\n",
    "* [Cálculo de Purcell](https://udeaeduco-my.sharepoint.com/:b:/g/personal/marco_canas_udea_edu_co/ES60UB4h-QFFqqRQUFmkpWcBIgoLBJeqTfZjNajWNWSeJA?e=9NxjKJ)\n",
    "\n",
    "* [Recomendación de la UNESCO sobre ciencia abierta](https://unesdoc.unesco.org/ark:/48223/pf0000379949_spa)\n",
    "\n",
    "* [Fórmulas más comunes en latex](https://wiki.geogebra.org/es/C%C3%B3digo_LaTeX_para_las_f%C3%B3rmulas_m%C3%A1s_comunes) \n",
    "\n",
    "* [chatGPT](https://openai.com/blog/chatgpt)  \n",
    "\n",
    "* Géron, A. (2017). Hands-on machine learning with scikit-learn and tensorflow: Concepts. Tools, and Techniques to build intelligent systems.[Geron, Aurelien. Hands on Machine Learning](https://udeaeduco-my.sharepoint.com/:b:/g/personal/marco_canas_udea_edu_co/Ecet27yjQzZIlT1Y_Bc2erkBUhbeYuIe6HG8i1FYZRlZww?e=dlvZ4v)  \n",
    "\n",
    "* McKinney, W. (2012). Python for data analysis: Data wrangling with Pandas, NumPy, and IPython. \" O'Reilly Media, Inc.\".[Wes Mackinney. ](https://udeaeduco-my.sharepoint.com/:b:/g/personal/marco_canas_udea_edu_co/EVbi5JIeBl9ErbiUnZfGe8YBhNTnZ8sxTK5hjIOPK4UpGw?e=fFclah)  \n",
    "\n",
    "* [Ledezma, C., Font, V., & Sala-Sebastià, G. MODELIZACIÓN MATEMÁTICA DESDE UNA ARTICULACIÓN TEÓRICA ENTRE LOS ENFOQUES COGNITIVO Y ONTO-SEMIÓTICO.](https://www.researchgate.net/profile/Carlos-Ledezma-4/publication/376076920_Modelizacion_matematica_desde_una_articulacion_teorica_entre_los_enfoques_cognitivo_y_onto-semiotico/links/6568cb363fa26f66f43b292a/Modelizacion-matematica-desde-una-articulacion-teorica-entre-los-enfoques-cognitivo-y-onto-semiotico.pdf)"
   ]
  },
  {
   "cell_type": "markdown",
   "id": "45c59aa9",
   "metadata": {},
   "source": [
    "[Autoevaluemonos para hacernos concientes de nuestro aprendizaje y en lo que debemos enfocarnos en mejorar]()  \n",
    "\n",
    "Aquí tienes una lista de preguntas de selección múltiple para una autoevaluación en un curso de cálculo con un enfoque pedagógico de aula invertida. Estas preguntas abarcan los objetivos de desarrollo del pensamiento variacional, pensamiento computacional a través de Python, capacidad de comunicación científica con LaTeX, Git y el uso de cuadernos Jupyter, así como la promoción de políticas de ciencia libre. \n",
    "\n",
    "1. **Pensamiento Variacional:**\n",
    "   a. ¿Qué significa el término \"variación\" en el contexto del pensamiento variacional?\n",
    "   b. ¿Cómo se relaciona el cálculo con el pensamiento variacional?\n",
    "   c. ¿Puede proporcionar un ejemplo práctico que ilustre el concepto de variación en un problema de cálculo?\n",
    "\n",
    "2. **Pensamiento Computacional (Python):**\n",
    "   a. ¿Cuál es el propósito principal de utilizar Python en un curso de cálculo?\n",
    "   b. ¿Cómo se puede utilizar Python para resolver problemas matemáticos complejos?\n",
    "   c. Menciona al menos dos ventajas de usar Python en comparación con otros lenguajes de programación en el contexto del cálculo.\n",
    "\n",
    "3. **Comunicación Científica (LaTeX):**\n",
    "   a. ¿Por qué es importante utilizar LaTeX para la comunicación científica en matemáticas y ciencias?\n",
    "   b. Enumera al menos tres comandos básicos de LaTeX utilizados para escribir ecuaciones matemáticas.\n",
    "   c. ¿Cómo mejorarías la presentación visual de una fórmula matemática utilizando LaTeX?\n",
    "\n",
    "4. **Gestión de Versiones (Git):**\n",
    "   a. ¿Cuál es el propósito principal de utilizar Git en el desarrollo de proyectos científicos?\n",
    "   b. Explica el concepto de \"commit\" en Git.\n",
    "   c. ¿Cómo resolverías un conflicto de fusión (merge conflict) en Git?\n",
    "\n",
    "5. **Cuadernos Jupyter:**\n",
    "   a. ¿Cuáles son las ventajas de utilizar cuadernos Jupyter en comparación con otros entornos de desarrollo?\n",
    "   b. Describe cómo se integra el código Python y la documentación en un cuaderno Jupyter.\n",
    "   c. ¿Cómo compartirías un cuaderno Jupyter con tus compañeros de clase utilizando GitHub?\n",
    "\n",
    "6. **Promoción de Políticas de Ciencia Libre:**\n",
    "   a. ¿Cuáles son los beneficios de utilizar plataformas como GitHub y YouTube para compartir recursos científicos?\n",
    "   b. ¿Cómo podrías contribuir a la promoción de la ciencia libre en tu comunidad académica?\n",
    "   c. ¿Por qué es importante la transparencia y accesibilidad en la investigación científica?\n",
    "\n",
    "Estas preguntas están diseñadas para evaluar la comprensión de los estudiantes en diversos aspectos del curso, abarcando desde los conceptos matemáticos hasta las habilidades tecnológicas y la conciencia sobre la ciencia libre."
   ]
  },
  {
   "cell_type": "markdown",
   "id": "8e65d6f9",
   "metadata": {},
   "source": [
    "# Como estudiante, encuentro que...   \n",
    "\n",
    "F: Mis Fortalezas son:     \n",
    "O: Mis Oportunidades son:    \n",
    "D: Mis Debilidades son:    \n",
    "A: Lo que Amenazas mi aprendizaje es:  "
   ]
  },
  {
   "cell_type": "markdown",
   "id": "6b9e56a8",
   "metadata": {
    "slideshow": {
     "slide_type": "slide"
    }
   },
   "source": [
    "### [Evaluamos al profesor Marco Cañas Aquí](https://forms.office.com/Pages/ResponsePage.aspx?id=IefhmYRxjkmK_7KtTlPBwkanXIs1i1FEujpsZgO6dXpUREJPV1kxUk1JV1ozTFJIQVNIQjY5WEY3US4u)"
   ]
  },
  {
   "cell_type": "markdown",
   "id": "050b9508",
   "metadata": {},
   "source": [
    "# Aportes de mis estudiantes a la metodología del curso  \n",
    "1. \n",
    "\n",
    "Sus opiniones y aportes son muy importantes para mi. Pues esta es una investigación educativa y un servicio de enseñanza para ustedes. Ustedes son la razón de ser de mi actividad docente. Dios los bendiga. "
   ]
  },
  {
   "cell_type": "markdown",
   "id": "6c4af91f",
   "metadata": {},
   "source": [
    "# Aportes de mis colegas docentes a la metodología que estoy aplicando en mis cursos. "
   ]
  },
  {
   "cell_type": "markdown",
   "id": "071afa04",
   "metadata": {
    "slideshow": {
     "slide_type": "slide"
    }
   },
   "source": [
    "## [Evaluación luego de alcanzar estos objetivos de aprendizaje]()"
   ]
  },
  {
   "cell_type": "markdown",
   "id": "10f43536",
   "metadata": {
    "slideshow": {
     "slide_type": "slide"
    }
   },
   "source": [
    "### Continue su aprendizaje en la siguiente clase a través del siguiente [vínculo]()"
   ]
  },
  {
   "cell_type": "markdown",
   "id": "af751e30",
   "metadata": {
    "slideshow": {
     "slide_type": "slide"
    }
   },
   "source": [
    "# Conjeturas pedagógicas fruto de la aplicación del modelo de aprendizaje invertido y del enfoque hacia la ciencia de datos con python\n",
    "\n",
    "1. Todo cálculo o resultado debe ser interpretado en una línea markdown del cuaderno Jupyter, inmediatamente después de la enunciación del resultado y después de la presentación de una tabla o gráfico bidimensional, de tal menera que el estudiante explicite la comprensión verbal del resultado y las inferencias o estrategias que este resultado le sugieren.  \n",
    "\n",
    "2. Debo colocar las conjeturas pedagógicas, que el uso en el aula de [ChatGPT](https://openai.com/blog/chatgpt/) traiga para la enseñanza y el aprendizaje de las matemáticas. \n",
    "\n",
    "3. Promover ciencia abierta en clase de matemáticas puede ser pidiendo a los estudiantes, tomar nota en clase pero en cuadernos Jupyter y entregar siempre al final de cada clase su cuaderno con todas las notas y experimentaciones de clase replicadas. \n",
    "4. Profesor Marco, ¿ha contemplado la posibilidad de intercambio de experiencias de aprendizaje y aplicación de Python al día a día con comfama? (Estudio Trabajo Social y allí, en comfama, aprendí los fundamentos, lo básico de Python)\n",
    "\n",
    "¿Conoce si en la Universidad de Antioquia hay medios para poder aprender Swift/XCODE? (Para programar para dispositivos de Apple)\n",
    "5. Debo considerar la metodología ABP, es decir, diseñar las clase bajo la metodología de Aprendizaje Basado en Problemas. \n",
    "\n"
   ]
  },
  {
   "cell_type": "markdown",
   "id": "53cc9115",
   "metadata": {
    "slideshow": {
     "slide_type": "slide"
    }
   },
   "source": [
    "## Agradecimientos  \n",
    "\n",
    "Doy gracias a Dios por la vida de mi Hijo Joseph Cañas Osorio y la madurez que ha alcanzado.\n",
    "\n",
    "Y a mi esposa Yasmira por su apoyo, orientación y acompañamiento. "
   ]
  }
 ],
 "metadata": {
  "celltoolbar": "Slideshow",
  "kernelspec": {
   "display_name": "Python 3",
   "language": "python",
   "name": "python3"
  },
  "language_info": {
   "codemirror_mode": {
    "name": "ipython",
    "version": 3
   },
   "file_extension": ".py",
   "mimetype": "text/x-python",
   "name": "python",
   "nbconvert_exporter": "python",
   "pygments_lexer": "ipython3",
   "version": "3.12.8"
  },
  "rise": {
   "enable_chalkboard": true,
   "theme": "sky",
   "transition": "zoom"
  }
 },
 "nbformat": 4,
 "nbformat_minor": 5
}
