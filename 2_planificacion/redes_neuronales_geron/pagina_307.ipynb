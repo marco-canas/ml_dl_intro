{
 "cells": [
  {
   "cell_type": "markdown",
   "id": "7c1997e2",
   "metadata": {},
   "source": [
    "### Traducción al español:\n"
   ]
  },
  {
   "cell_type": "markdown",
   "id": "0fd587d9",
   "metadata": {},
   "source": [
    "\n",
    "**Cálculos Lógicos con Neuronas**  \n"
   ]
  },
  {
   "cell_type": "markdown",
   "id": "332bb61e",
   "metadata": {},
   "source": [
    "Warren McCulloch y Walter Pitts propusieron un modelo muy simple de la neurona biológica, que luego se conoció como neurona artificial: tiene una o más entradas binarias (activado/desactivado) y una salida binaria. La neurona artificial simplemente activa su salida cuando más de un cierto número de sus entradas están activas. McCulloch y Pitts demostraron que incluso con un modelo tan simplificado es posible construir una red de neuronas artificiales que calcule cualquier proposición lógica que se desee. Por ejemplo, construyamos algunas RNA (Redes Neuronales Artificiales) que realicen diversos cálculos lógicos (ver Figura 10-3), asumiendo que una neurona se activa cuando al menos dos de sus entradas están activas.\n"
   ]
  },
  {
   "cell_type": "markdown",
   "id": "76b84dff",
   "metadata": {},
   "source": [
    "\n",
    "**Figura 10-3. RNA realizando cálculos lógicos simples**  \n"
   ]
  },
  {
   "cell_type": "markdown",
   "id": "93fe29f0",
   "metadata": {},
   "source": [
    "- La primera red a la izquierda es simplemente la función identidad: si la neurona A está activada, entonces la neurona C también se activa (ya que recibe dos señales de entrada de la neurona A), pero si la neurona A está desactivada, la neurona C también lo estará.  \n",
    "- La segunda red realiza un AND lógico: la neurona C se activa solo cuando tanto la neurona A como la B están activadas (una sola señal de entrada no es suficiente para activar la neurona C).  \n",
    "- La tercera red realiza un OR lógico: la neurona C se activa si la neurona A o la B está activada (o ambas).  \n",
    "- Finalmente, si suponemos que una conexión de entrada puede inhibir la actividad de la neurona (como ocurre en las neuronas biológicas), la cuarta red calcula una proposición lógica un poco más compleja: la neurona C se activa solo si la neurona A está activa y la neurona B está desactivada. Si la neurona A está siempre activa, se obtiene un NOT lógico: la neurona C está activa cuando la B está desactivada, y viceversa.  \n"
   ]
  },
  {
   "cell_type": "markdown",
   "id": "8656861c",
   "metadata": {},
   "source": [
    "\n",
    "Puedes imaginar fácilmente cómo estas redes pueden combinarse para calcular expresiones lógicas complejas (ver los ejercicios al final del capítulo).\n",
    "\n"
   ]
  },
  {
   "cell_type": "markdown",
   "id": "e04e2d94",
   "metadata": {},
   "source": [
    "\n",
    "\n",
    "### Diseño de Práctica en Python:\n"
   ]
  },
  {
   "cell_type": "markdown",
   "id": "8b5dbdfa",
   "metadata": {},
   "source": [
    "\n",
    "#### **1. Práctica: Implementación de Neuronas Artificiales para Compuertas Lógicas**"
   ]
  },
  {
   "cell_type": "markdown",
   "id": "dcf55675",
   "metadata": {},
   "source": [
    "  \n",
    "**Objetivo**: Implementar neuronas artificiales que simulen compuertas lógicas (AND, OR, NOT, IDENTITY) usando el modelo de McCulloch-Pitts.\n"
   ]
  },
  {
   "cell_type": "code",
   "execution_count": null,
   "id": "e33e3ecc",
   "metadata": {},
   "outputs": [],
   "source": [
    "import numpy as np\n",
    "\n",
    "class McCullochPittsNeuron:\n",
    "    def __init__(self, weights, threshold):\n",
    "        self.weights = weights\n",
    "        self.threshold = threshold\n",
    "\n",
    "    def activate(self, inputs):\n",
    "        weighted_sum = np.dot(inputs, self.weights)\n",
    "        return 1 if weighted_sum >= self.threshold else 0\n"
   ]
  },
  {
   "cell_type": "code",
   "execution_count": null,
   "id": "b9f63d5c",
   "metadata": {},
   "outputs": [],
   "source": [
    "\n",
    "# Compuertas Lógicas\n",
    "def test_logic_gate(gate_name, neuron, test_cases):\n",
    "    print(f\"\\n{gate_name}:\")\n",
    "    for inputs in test_cases:\n",
    "        output = neuron.activate(inputs)\n",
    "        print(f\"Input: {inputs} -> Output: {output}\")\n"
   ]
  },
  {
   "cell_type": "code",
   "execution_count": null,
   "id": "b358e5b8",
   "metadata": {},
   "outputs": [],
   "source": [
    "\n",
    "# Configuraciones para cada compuerta\n",
    "and_neuron = McCullochPittsNeuron(weights=[1, 1], threshold=2)\n",
    "or_neuron = McCullochPittsNeuron(weights=[1, 1], threshold=1)\n",
    "not_neuron = McCullochPittsNeuron(weights=[-1], threshold=0)\n",
    "identity_neuron = McCullochPittsNeuron(weights=[2], threshold=1)\n"
   ]
  },
  {
   "cell_type": "code",
   "execution_count": null,
   "id": "5b48c913",
   "metadata": {},
   "outputs": [],
   "source": [
    "\n",
    "# Casos de prueba\n",
    "test_cases_and_or = [(0, 0), (0, 1), (1, 0), (1, 1)]\n",
    "test_cases_not = [(0,), (1,)]\n"
   ]
  },
  {
   "cell_type": "code",
   "execution_count": null,
   "id": "47c04cd9",
   "metadata": {},
   "outputs": [],
   "source": [
    "\n",
    "# Evaluación\n",
    "test_logic_gate(\"AND\", and_neuron, test_cases_and_or)\n",
    "test_logic_gate(\"OR\", or_neuron, test_cases_and_or)\n",
    "test_logic_gate(\"NOT\", not_neuron, test_cases_not)\n",
    "test_logic_gate(\"IDENTITY\", identity_neuron, test_cases_not)\n",
    "\n",
    "\n"
   ]
  },
  {
   "cell_type": "markdown",
   "id": "d06f79dc",
   "metadata": {},
   "source": [
    "\n",
    "\n",
    "#### **2. Práctica de Visualización con Matplotlib y Plotly**  \n"
   ]
  },
  {
   "cell_type": "markdown",
   "id": "b22ea520",
   "metadata": {},
   "source": [
    "**Objetivo**: Visualizar el comportamiento de las neuronas artificiales para diferentes entradas.\n"
   ]
  },
  {
   "cell_type": "code",
   "execution_count": null,
   "id": "ce878b33",
   "metadata": {},
   "outputs": [],
   "source": [
    "\n",
    "\n",
    "import matplotlib.pyplot as plt\n",
    "import plotly.graph_objects as go\n",
    "\n",
    "# Datos para visualización (AND como ejemplo)\n",
    "inputs = np.array([[0, 0], [0, 1], [1, 0], [1, 1]])\n",
    "outputs_and = np.array([and_neuron.activate(x) for x in inputs])\n",
    "\n",
    "# Matplotlib\n",
    "plt.figure(figsize=(8, 4))\n",
    "plt.scatter(inputs[:, 0], inputs[:, 1], c=outputs_and, cmap='coolwarm', s=100)\n",
    "plt.title(\"AND Gate Visualization (Matplotlib)\")\n",
    "plt.xlabel(\"Input A\")\n",
    "plt.ylabel(\"Input B\")\n",
    "plt.colorbar(label=\"Output (0 or 1)\")\n",
    "plt.grid(True)\n",
    "plt.show()\n",
    "\n",
    "# Plotly\n",
    "fig = go.Figure(data=[go.Scatter3d(\n",
    "    x=inputs[:, 0],\n",
    "    y=inputs[:, 1],\n",
    "    z=outputs_and,\n",
    "    mode='markers',\n",
    "    marker=dict(size=10, color=outputs_and, colorscale='Viridis')\n",
    ")])\n",
    "fig.update_layout(\n",
    "    title=\"AND Gate Visualization (Plotly)\",\n",
    "    scene=dict(xaxis_title='Input A', yaxis_title='Input B', zaxis_title='Output')\n",
    ")\n",
    "fig.show()\n",
    "\n",
    "\n"
   ]
  },
  {
   "cell_type": "markdown",
   "id": "23c63e22",
   "metadata": {},
   "source": [
    "\n",
    "\n",
    "### Explicación:  \n",
    "1. **Implementación de Neuronas**:  \n",
    "   - La clase `McCullochPittsNeuron` calcula la salida binaria basada en pesos y umbral.  \n",
    "   - Cada compuerta lógica (AND, OR, NOT) se configura con pesos y umbrales específicos.  \n",
    "\n",
    "2. **Visualización**:  \n",
    "   - **Matplotlib**: Mapa de dispersión 2D mostrando las entradas/salidas del AND.  \n",
    "   - **Plotly**: Gráfico 3D interactivo para explorar la relación entre entradas y salidas.  \n"
   ]
  },
  {
   "cell_type": "markdown",
   "id": "dcbcf186",
   "metadata": {},
   "source": [
    "\n",
    "**Ejercicio Adicional**:  \n",
    "- Modifica los pesos/umbrales para simular otras compuertas (ej: XOR con una red multicapa).  \n",
    "- Añade visualizaciones para OR/NOT usando subplots en Matplotlib."
   ]
  }
 ],
 "metadata": {
  "kernelspec": {
   "display_name": ".venv",
   "language": "python",
   "name": "python3"
  },
  "language_info": {
   "codemirror_mode": {
    "name": "ipython",
    "version": 3
   },
   "file_extension": ".py",
   "mimetype": "text/x-python",
   "name": "python",
   "nbconvert_exporter": "python",
   "pygments_lexer": "ipython3",
   "version": "3.11.9"
  }
 },
 "nbformat": 4,
 "nbformat_minor": 5
}
