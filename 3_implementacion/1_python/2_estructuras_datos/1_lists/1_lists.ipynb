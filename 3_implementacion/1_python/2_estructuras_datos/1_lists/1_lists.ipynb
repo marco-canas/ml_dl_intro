{
 "cells": [
  {
   "attachments": {},
   "cell_type": "markdown",
   "metadata": {
    "slideshow": {
     "slide_type": "slide"
    }
   },
   "source": [
    "<table align=\"left\">\n",
    "  <td>\n",
    "    <a href=\"https://colab.research.google.com/github/marco-canas/didactica_ciencia_datos/blob/main/1_curso_machine_learning/1_python/2_estructuras_datos/1_lists/1_lists.ipynb\" target=\"_parent\"><img src=\"https://colab.research.google.com/assets/colab-badge.svg\" alt=\"Open In Colab\"/></a>\n",
    "  </td>\n",
    "</table>"
   ]
  },
  {
   "attachments": {},
   "cell_type": "markdown",
   "metadata": {
    "slideshow": {
     "slide_type": "slide"
    }
   },
   "source": [
    "## [Video de apoyo a la lectura interactiva y experimental de este cuaderno](https://www.youtube.com/watch?v=CVjctbHg6Mw&ab_channel=DiMathData)"
   ]
  },
  {
   "attachments": {},
   "cell_type": "markdown",
   "metadata": {
    "slideshow": {
     "slide_type": "slide"
    }
   },
   "source": [
    "## [Vínculo al programa del curso:  ](https://github.com/marco-canas/7_didactica_ciencia_datos/blob/main/1_propuesta/prop_invest/cartilla/cartilla.ipynb)\n"
   ]
  },
  {
   "cell_type": "code",
   "execution_count": null,
   "metadata": {
    "slideshow": {
     "slide_type": "slide"
    }
   },
   "outputs": [],
   "source": [
    "import pandas as pd\n",
    "import numpy as np\n",
    "\n",
    "# Cargar la lista de estudiantes desde el archivo CSV\n",
    "path = 'C:/Users/marco/Documentos/docencia/groups_list/fundamentos_aritmetica.csv'\n",
    "estudiantes = pd.read_csv(path)\n",
    "estudiantes['Parcial'] = estudiantes['Parcial'].astype(float)  # Asegurar que la columna 'Parcial' es float\n",
    "\n",
    "# Convertir la columna 'Nombre' a una lista de Python\n",
    "lista_estudiantes = estudiantes['Nombre'].tolist()\n",
    "\n",
    "# Función para llamar a un estudiante aleatoriamente y registrar su nota de seguimiento\n",
    "def asistencia():\n",
    "    global lista_estudiantes\n",
    "    if lista_estudiantes:\n",
    "        estudiante_aleatorio = np.random.choice(lista_estudiantes)\n",
    "        print(f\"Llamando a {estudiante_aleatorio}...\")\n",
    "        asistencia = input(f\"¿Asistió {estudiante_aleatorio}? (s/n): \").strip().lower()\n",
    "        \n",
    "        # Validación de entrada\n",
    "        if asistencia == 's':\n",
    "            # Obtener el índice del estudiante en el DataFrame\n",
    "            indice = estudiantes[estudiantes['Nombre'] == estudiante_aleatorio].index[0]\n",
    "            # Incrementar su valor en la columna 'Parcial'\n",
    "            estudiantes.at[indice, 'Parcial'] += 0.3\n",
    "            print(f\"Actualizado: {estudiante_aleatorio} ahora tiene {estudiantes.at[indice, 'Parcial']} en la columna 'Parcial'.\")\n",
    "        \n",
    "        elif asistencia != 'n':\n",
    "            print(\"Entrada inválida. Por favor, introduce 's' para sí o 'n' para no.\")\n",
    "            return  # Volver a preguntar para el mismo estudiante si la entrada es inválida\n",
    "        \n",
    "        # Remover al estudiante de la lista para no llamarlo de nuevo\n",
    "        lista_estudiantes.remove(estudiante_aleatorio)\n",
    "    else:\n",
    "        print(\"Se han llamado a todos los estudiantes del grupo completo.\")\n",
    "\n",
    "# Función para guardar cambios al final de la sesión\n",
    "def guardar_cambios():\n",
    "    estudiantes.to_csv(path, index=False)\n",
    "    print(\"Cambios guardados en el archivo CSV.\")\n",
    "\n",
    "# Ejemplo de uso\n",
    "while lista_estudiantes:\n",
    "    asistencia()\n",
    "\n",
    "# Guardar los cambios una vez que todos los estudiantes hayan sido llamados\n",
    "guardar_cambios()\n",
    "\n"
   ]
  },
  {
   "cell_type": "code",
   "execution_count": 34,
   "metadata": {},
   "outputs": [],
   "source": [
    "# Traducción del inglés al español con python\n",
    "\n",
    "def traducir(texto):\n",
    "    from googletrans import Translator\n",
    "\n",
    "    translator = Translator() # instancia la clase \n",
    "\n",
    "    # Traducir al español\n",
    "    translation = translator.translate(texto, src='en', dest='es')\n",
    "    return translation.text"
   ]
  },
  {
   "attachments": {},
   "cell_type": "markdown",
   "metadata": {
    "slideshow": {
     "slide_type": "slide"
    }
   },
   "source": [
    "# Momentos de aprendizaje asociados al enfoque pedagógico de Aprendizaje invertido. \n",
    "\n",
    "1. Antes de la clase (lectura de los contenidos de clase, Sintetiza las notas de clase, hace observaciones de las video - clases )\n",
    "\n",
    "2. Durante la clase (Debate, modelación, visualización de datos, prácticas de codificación en R y Python)\n",
    "\n",
    "3. Después (Actividades de fijación de conceptos y habilidades. En este momento, el estudiante debe realizar las tareas propuestas en los cuadernos de evaluación asociados a cada cuaderno de de clse. )"
   ]
  },
  {
   "cell_type": "markdown",
   "metadata": {},
   "source": [
    "1. Título de la clase\n",
    "2. Objetivo de aprendizaje\n",
    "3. Contenido de la clase\n",
    "4. Actividades de aprendizaje\n",
    "5. Tarea o actividades de ejercitación y fijación\n",
    "6. Actividad de retroalimentación"
   ]
  },
  {
   "cell_type": "markdown",
   "metadata": {},
   "source": [
    "### Diseño de Clase: **Estructura de Datos: Listas en Python y su Aplicación en Ciencia de Datos**\n"
   ]
  },
  {
   "cell_type": "markdown",
   "metadata": {},
   "source": [
    "\n",
    "---\n",
    "\n",
    "#### 1. Título de la Clase\n",
    "**Estructura de Datos en Python: Uso de Listas para Ciencia de Datos y Técnicas de Machine Learning**\n",
    "\n",
    "---\n"
   ]
  },
  {
   "cell_type": "markdown",
   "metadata": {},
   "source": [
    "\n",
    "#### 2. Objetivo de Aprendizaje\n",
    "Al finalizar la clase, el estudiante será capaz de:\n",
    "- Comprender y manipular listas en Python como una estructura de datos fundamental.\n",
    "- Aplicar listas en el preprocesamiento y análisis de datos.\n",
    "- Implementar listas en el flujo de trabajo de un proyecto de ciencia de datos, incluyendo técnicas básicas de machine learning.\n",
    "\n",
    "---\n"
   ]
  },
  {
   "cell_type": "markdown",
   "metadata": {},
   "source": [
    "\n",
    "#### 3. Contenido de la Clase\n",
    "1. **Introducción a las Listas en Python**\n",
    "   - Definición de listas y sus características principales.\n",
    "   - Declaración, acceso y modificación de listas.\n",
    "   - Operaciones básicas con listas (agregar, eliminar, ordenar, concatenar).\n"
   ]
  },
  {
   "cell_type": "markdown",
   "metadata": {},
   "source": [
    "\n",
    "2. **Métodos y Funciones para Manipulación de Listas**\n",
    "   - Métodos de listas: `append()`, `remove()`, `pop()`, `sort()`, `reverse()`, `count()`.\n",
    "   - Uso de comprensión de listas (`list comprehension`) para crear y transformar listas.\n"
   ]
  },
  {
   "cell_type": "markdown",
   "metadata": {},
   "source": [
    "\n",
    "3. **Listas en el Contexto de Ciencia de Datos**\n",
    "   - Importancia de las listas para almacenar y manipular datos en arreglos y matrices.\n",
    "   - Ejemplos de cómo almacenar y manipular datos de manera eficiente en listas antes de estructurarlos en otras colecciones como arrays de Numpy o DataFrames de Pandas.\n"
   ]
  },
  {
   "cell_type": "markdown",
   "metadata": {},
   "source": [
    "\n",
    "4. **Aplicación de Listas en Machine Learning**\n",
    "   - Preparación de datos utilizando listas: normalización, categorización y limpieza de datos.\n",
    "   - Ejemplo de listas para dividir datos en conjuntos de entrenamiento y prueba.\n",
    "   - Implementación de un modelo básico de machine learning (clasificación o regresión) donde los datos se almacenen y manipulen en listas.\n",
    "\n",
    "---\n"
   ]
  },
  {
   "cell_type": "markdown",
   "metadata": {},
   "source": [
    "\n",
    "#### 4. Actividades de Aprendizaje\n",
    "1. **Exploración Guiada**:\n",
    "   - Crear listas de ejemplo con datos numéricos y cadenas de texto, y practicar operaciones básicas como añadir y eliminar elementos.\n",
    "   - Escribir un programa sencillo en Python que realice operaciones matemáticas usando listas (por ejemplo, calcular el promedio o encontrar el valor máximo y mínimo).\n"
   ]
  },
  {
   "cell_type": "markdown",
   "metadata": {},
   "source": [
    "\n",
    "2. **Ejercicio de Análisis de Datos**:\n",
    "   - Utilizar una lista de datos reales, como una serie de precios, y realizar un análisis básico usando métodos de listas (filtrar datos por condiciones, realizar conteos, etc.).\n",
    "   - Trabajar con listas para realizar operaciones de preprocesamiento de datos para un problema de machine learning.\n"
   ]
  },
  {
   "cell_type": "markdown",
   "metadata": {},
   "source": [
    "\n",
    "3. **Mini Proyecto de Machine Learning**:\n",
    "   - Simular un flujo de trabajo en machine learning utilizando listas para almacenar datos. Por ejemplo, almacenar y dividir manualmente un conjunto de datos en listas para entrenamiento y prueba y luego aplicar un modelo simple usando la biblioteca Scikit-learn.\n",
    "\n",
    "---\n"
   ]
  },
  {
   "cell_type": "markdown",
   "metadata": {},
   "source": [
    "\n",
    "#### 5. Tarea o Actividades de Ejercitación y Fijación\n",
    "1. **Ejercicios Prácticos**:\n",
    "   - Realizar operaciones avanzadas con listas utilizando comprensión de listas, aplicándolas para transformar y filtrar datos.\n",
    "   - Crear una lista de diccionarios para representar un conjunto de datos estructurados y practicar la extracción de datos específicos usando bucles y condiciones.\n"
   ]
  },
  {
   "cell_type": "markdown",
   "metadata": {},
   "source": [
    "\n",
    "2. **Análisis de Datos con Listas**:\n",
    "   - Descargar un pequeño conjunto de datos, cargarlo en Python y almacenarlo en listas. Realizar un análisis básico como obtener valores promedio, contar ocurrencias de una categoría y ordenar los datos.\n"
   ]
  },
  {
   "cell_type": "markdown",
   "metadata": {},
   "source": [
    "\n",
    "3. **Implementación de un Modelo de Machine Learning Básico**:\n",
    "   - Dividir un conjunto de datos en listas para realizar un modelo de regresión lineal o clasificación. Comparar los resultados obtenidos utilizando listas versus el uso de Numpy o Pandas para entender la importancia de las estructuras de datos más avanzadas.\n"
   ]
  },
  {
   "cell_type": "markdown",
   "metadata": {},
   "source": [
    "\n",
    "4. **Reflexión**:\n",
    "   - Escribir una breve reflexión sobre cómo las listas son útiles en ciencia de datos y qué limitaciones presentan cuando los datos se vuelven más complejos o de mayor tamaño.\n",
    "\n",
    "--- \n"
   ]
  },
  {
   "cell_type": "markdown",
   "metadata": {},
   "source": [
    "\n",
    "Este diseño de clase introduce de forma progresiva el uso de listas en Python y su aplicación en ciencia de datos, brindando a los estudiantes una comprensión sólida de esta estructura y cómo aprovecharla en análisis de datos y proyectos de machine learning básicos."
   ]
  },
  {
   "cell_type": "markdown",
   "metadata": {},
   "source": [
    "### Diseño de Clase: **Estructura de Datos: Listas en Python y su Aplicación en Ciencia de Datos**\n",
    "\n",
    "---\n"
   ]
  },
  {
   "cell_type": "markdown",
   "metadata": {},
   "source": [
    "\n",
    "#### 1. Título de la Clase\n",
    "**Estructura de Datos en Python: Uso de Listas para Ciencia de Datos y Técnicas de Machine Learning**\n",
    "\n",
    "---\n"
   ]
  },
  {
   "cell_type": "markdown",
   "metadata": {},
   "source": [
    "\n",
    "#### 2. Objetivo de Aprendizaje\n",
    "Al finalizar la clase, el estudiante será capaz de:\n",
    "- Comprender y manipular listas en Python como una estructura de datos fundamental.\n",
    "- Aplicar listas en el preprocesamiento y análisis de datos.\n",
    "- Implementar listas en el flujo de trabajo de un proyecto de ciencia de datos, incluyendo técnicas básicas de machine learning.\n",
    "\n",
    "---\n"
   ]
  },
  {
   "cell_type": "markdown",
   "metadata": {},
   "source": [
    "\n",
    "#### 3. Contenido de la Clase\n",
    "1. **Introducción a las Listas en Python**\n",
    "   - Definición de listas y sus características principales.\n",
    "   - Declaración, acceso y modificación de listas.\n",
    "   - Operaciones básicas con listas (agregar, eliminar, ordenar, concatenar).\n"
   ]
  },
  {
   "cell_type": "markdown",
   "metadata": {},
   "source": [
    "### 3. Contenido de la Clase\n",
    "\n",
    "#### 1. **Introducción a las Listas en Python**\n",
    "\n",
    "##### Definición de listas y sus características principales\n",
    "- **Definición**: Una lista en Python es una estructura de datos mutable que permite almacenar múltiples elementos en un orden específico, lo que facilita la agrupación de valores en una sola variable. Cada elemento dentro de una lista tiene una posición (o índice) y se pueden almacenar distintos tipos de datos en la misma lista, incluyendo números, cadenas de texto, y otros objetos.\n"
   ]
  },
  {
   "cell_type": "markdown",
   "metadata": {},
   "source": [
    "- **Características principales**:\n",
    "  - **Mutabilidad**: Los elementos de una lista pueden modificarse después de su creación.\n",
    "  - **Ordenada**: Los elementos dentro de una lista tienen un orden y se pueden acceder por su índice.\n",
    "  - **Heterogeneidad**: Las listas pueden contener diferentes tipos de datos, aunque en ciencia de datos suelen utilizarse listas de elementos homogéneos para un procesamiento más eficiente.\n",
    "  - **Índices**: Los elementos están indexados, comenzando desde 0 para el primer elemento, 1 para el segundo, y así sucesivamente.\n"
   ]
  },
  {
   "cell_type": "markdown",
   "metadata": {},
   "source": [
    "\n",
    "##### Declaración, acceso y modificación de listas\n",
    "- **Declaración de una lista**: Las listas se declaran utilizando corchetes `[]` y separando cada elemento por una coma `,`.\n"
   ]
  },
  {
   "cell_type": "code",
   "execution_count": null,
   "metadata": {},
   "outputs": [],
   "source": [
    "# Ejemplo de lista vacía\n",
    "lista_vacia = []\n"
   ]
  },
  {
   "cell_type": "code",
   "execution_count": 1,
   "metadata": {},
   "outputs": [],
   "source": [
    "\n",
    "  # Ejemplo de lista con diferentes tipos de datos\n",
    "lista_mixta = [1, \"texto\", 3.14, True, False]\n",
    "  \n"
   ]
  },
  {
   "cell_type": "markdown",
   "metadata": {},
   "source": [
    "- **Acceso a los elementos de una lista**: Se accede a los elementos mediante su índice, utilizando corchetes `[]`.\n"
   ]
  },
  {
   "cell_type": "code",
   "execution_count": 2,
   "metadata": {},
   "outputs": [],
   "source": [
    "\n",
    "lista = [10, 20, 30, 40]\n"
   ]
  },
  {
   "cell_type": "code",
   "execution_count": 3,
   "metadata": {},
   "outputs": [
    {
     "name": "stdout",
     "output_type": "stream",
     "text": [
      "10\n"
     ]
    }
   ],
   "source": [
    "print(lista[0])  # Salida: 10\n"
   ]
  },
  {
   "cell_type": "code",
   "execution_count": 4,
   "metadata": {},
   "outputs": [
    {
     "data": {
      "text/plain": [
       "10"
      ]
     },
     "execution_count": 4,
     "metadata": {},
     "output_type": "execute_result"
    }
   ],
   "source": [
    "lista[0]"
   ]
  },
  {
   "cell_type": "code",
   "execution_count": 1,
   "metadata": {},
   "outputs": [
    {
     "ename": "NameError",
     "evalue": "name 'lista' is not defined",
     "output_type": "error",
     "traceback": [
      "\u001b[1;31m---------------------------------------------------------------------------\u001b[0m",
      "\u001b[1;31mNameError\u001b[0m                                 Traceback (most recent call last)",
      "Cell \u001b[1;32mIn[1], line 1\u001b[0m\n\u001b[1;32m----> 1\u001b[0m \u001b[43mlista\u001b[49m[\u001b[38;5;241m2\u001b[39m] \u001b[38;5;66;03m# Salida: 30\u001b[39;00m\n",
      "\u001b[1;31mNameError\u001b[0m: name 'lista' is not defined"
     ]
    }
   ],
   "source": [
    "lista[2] # Salida: 30\n",
    "\n"
   ]
  },
  {
   "cell_type": "markdown",
   "metadata": {},
   "source": [
    "  - **Índices negativos**: Permiten acceder a los elementos desde el final de la lista.\n"
   ]
  },
  {
   "cell_type": "code",
   "execution_count": null,
   "metadata": {},
   "outputs": [
    {
     "name": "stdout",
     "output_type": "stream",
     "text": [
      "40\n",
      "30\n"
     ]
    }
   ],
   "source": [
    "lista[-1]  # Salida: 40\n"
   ]
  },
  {
   "cell_type": "code",
   "execution_count": null,
   "metadata": {},
   "outputs": [],
   "source": [
    "lista[-2]  # Salida: 30\n",
    "\n"
   ]
  },
  {
   "cell_type": "markdown",
   "metadata": {},
   "source": [
    "\n",
    "- **Modificación de elementos**: Como las listas son mutables, se puede cambiar el valor de un elemento mediante su índice.\n"
   ]
  },
  {
   "cell_type": "code",
   "execution_count": 8,
   "metadata": {},
   "outputs": [
    {
     "name": "stdout",
     "output_type": "stream",
     "text": [
      "[13, 25, 30, 40]\n"
     ]
    }
   ],
   "source": [
    "lista[0] = 13\n",
    "print(lista)  # Salida: [10, 25, 30, 40]\n",
    "\n"
   ]
  },
  {
   "cell_type": "markdown",
   "metadata": {},
   "source": [
    "\n",
    "##### Operaciones básicas con listas\n"
   ]
  },
  {
   "cell_type": "markdown",
   "metadata": {},
   "source": [
    "1. **Agregar elementos**:\n",
    "   - `append()`: Añade un elemento al final de la lista.\n"
   ]
  },
  {
   "cell_type": "code",
   "execution_count": 11,
   "metadata": {},
   "outputs": [
    {
     "name": "stdout",
     "output_type": "stream",
     "text": [
      "[13, 25, 30, 40, 50, 50, 50]\n"
     ]
    }
   ],
   "source": [
    "lista.append(50)\n",
    "print(lista)  # Salida: [10, 25, 30, 40, 50]\n",
    "\n"
   ]
  },
  {
   "cell_type": "markdown",
   "metadata": {},
   "source": [
    "   - `insert()`: Inserta un elemento en una posición específica.\n"
   ]
  },
  {
   "cell_type": "code",
   "execution_count": 14,
   "metadata": {},
   "outputs": [
    {
     "name": "stdout",
     "output_type": "stream",
     "text": [
      "[13, 13, 13, 15, 25, 30, 40, 50, 50, 50]\n"
     ]
    }
   ],
   "source": [
    "lista.insert(2, 13)\n",
    "print(lista)  # Salida: [10, 15, 25, 30, 40, 50]\n",
    "\n"
   ]
  },
  {
   "cell_type": "markdown",
   "metadata": {},
   "source": [
    "\n",
    "2. **Eliminar elementos**:\n",
    "   - `remove()`: Elimina la primera ocurrencia de un valor específico.\n"
   ]
  },
  {
   "cell_type": "code",
   "execution_count": 15,
   "metadata": {},
   "outputs": [
    {
     "data": {
      "text/plain": [
       "[13, 13, 13, 15, 25, 30, 40, 50, 50, 50]"
      ]
     },
     "execution_count": 15,
     "metadata": {},
     "output_type": "execute_result"
    }
   ],
   "source": [
    "lista"
   ]
  },
  {
   "cell_type": "code",
   "execution_count": 17,
   "metadata": {},
   "outputs": [
    {
     "ename": "ValueError",
     "evalue": "list.remove(x): x not in list",
     "output_type": "error",
     "traceback": [
      "\u001b[1;31m---------------------------------------------------------------------------\u001b[0m",
      "\u001b[1;31mValueError\u001b[0m                                Traceback (most recent call last)",
      "Cell \u001b[1;32mIn[17], line 1\u001b[0m\n\u001b[1;32m----> 1\u001b[0m \u001b[43mlista\u001b[49m\u001b[38;5;241;43m.\u001b[39;49m\u001b[43mremove\u001b[49m\u001b[43m(\u001b[49m\u001b[38;5;241;43m25\u001b[39;49m\u001b[43m)\u001b[49m\n\u001b[0;32m      2\u001b[0m \u001b[38;5;28mprint\u001b[39m(lista)  \u001b[38;5;66;03m# Salida: [10, 15, 30, 40, 50]\u001b[39;00m\n",
      "\u001b[1;31mValueError\u001b[0m: list.remove(x): x not in list"
     ]
    }
   ],
   "source": [
    "lista.remove(25)\n",
    "print(lista)  # Salida: [10, 15, 30, 40, 50]\n",
    "\n"
   ]
  },
  {
   "cell_type": "markdown",
   "metadata": {},
   "source": [
    "   - `pop()`: Elimina y retorna un elemento en un índice específico (o el último si no se especifica).\n"
   ]
  },
  {
   "cell_type": "code",
   "execution_count": 22,
   "metadata": {},
   "outputs": [
    {
     "name": "stdout",
     "output_type": "stream",
     "text": [
      "[13, 13, 50, 50]\n",
      "50\n"
     ]
    }
   ],
   "source": [
    "\n",
    "elemento_eliminado = lista.pop(2)\n",
    "print(lista)  # Salida: [10, 15, 40, 50]\n",
    "print(elemento_eliminado)  # Salida: 30\n",
    "\n"
   ]
  },
  {
   "cell_type": "code",
   "execution_count": 24,
   "metadata": {},
   "outputs": [
    {
     "name": "stdout",
     "output_type": "stream",
     "text": [
      "[13, 50, 50]\n",
      "[50, 50]\n"
     ]
    }
   ],
   "source": [
    "print(lista)\n",
    "lista.pop(0)\n",
    "print(lista)"
   ]
  },
  {
   "cell_type": "markdown",
   "metadata": {},
   "source": [
    "\n",
    "3. **Ordenar elementos**:\n",
    "   - `sort()`: Ordena la lista en orden ascendente (de menor a mayor).\n"
   ]
  },
  {
   "cell_type": "code",
   "execution_count": 27,
   "metadata": {},
   "outputs": [],
   "source": [
    "lista[0] = 60"
   ]
  },
  {
   "cell_type": "code",
   "execution_count": 28,
   "metadata": {},
   "outputs": [
    {
     "data": {
      "text/plain": [
       "[60, 50]"
      ]
     },
     "execution_count": 28,
     "metadata": {},
     "output_type": "execute_result"
    }
   ],
   "source": [
    "lista "
   ]
  },
  {
   "cell_type": "code",
   "execution_count": 29,
   "metadata": {},
   "outputs": [
    {
     "name": "stdout",
     "output_type": "stream",
     "text": [
      "[50, 60]\n"
     ]
    }
   ],
   "source": [
    "lista.sort()\n",
    "print(lista)  # Salida: [10, 15, 40, 50]\n"
   ]
  },
  {
   "cell_type": "markdown",
   "metadata": {},
   "source": [
    "   - `reverse()`: Invierte el orden de los elementos en la lista.\n"
   ]
  },
  {
   "cell_type": "code",
   "execution_count": 30,
   "metadata": {},
   "outputs": [
    {
     "name": "stdout",
     "output_type": "stream",
     "text": [
      "[60, 50]\n"
     ]
    }
   ],
   "source": [
    "lista.reverse()\n",
    "print(lista)  # Salida: [50, 40, 15, 10]\n",
    "\n"
   ]
  },
  {
   "cell_type": "markdown",
   "metadata": {},
   "source": [
    "\n",
    "4. **Concatenar listas**:\n",
    "   - Utilizando el operador `+` se pueden concatenar dos listas.\n"
   ]
  },
  {
   "cell_type": "code",
   "execution_count": 31,
   "metadata": {},
   "outputs": [
    {
     "name": "stdout",
     "output_type": "stream",
     "text": [
      "[60, 50, 60, 70]\n"
     ]
    }
   ],
   "source": [
    "lista2 = [60, 70]\n",
    "lista_concatenada = lista + lista2\n",
    "print(lista_concatenada)  # Salida: [50, 40, 15, 10, 60, 70]\n",
    "\n"
   ]
  },
  {
   "cell_type": "markdown",
   "metadata": {},
   "source": [
    "   - Con `extend()` se pueden agregar todos los elementos de una lista al final de otra.\n"
   ]
  },
  {
   "cell_type": "code",
   "execution_count": 32,
   "metadata": {},
   "outputs": [
    {
     "name": "stdout",
     "output_type": "stream",
     "text": [
      "[60, 50]\n",
      "[60, 70]\n"
     ]
    }
   ],
   "source": [
    "print(lista)\n",
    "print(lista2)"
   ]
  },
  {
   "cell_type": "code",
   "execution_count": 33,
   "metadata": {},
   "outputs": [
    {
     "name": "stdout",
     "output_type": "stream",
     "text": [
      "[60, 50, 60, 70]\n"
     ]
    }
   ],
   "source": [
    "lista.extend(lista2)\n",
    "print(lista)  # Salida: [50, 40, 15, 10, 60, 70]\n",
    "\n"
   ]
  },
  {
   "cell_type": "code",
   "execution_count": 34,
   "metadata": {},
   "outputs": [
    {
     "data": {
      "text/plain": [
       "[60, 50, 60, 70, 60, 70]"
      ]
     },
     "execution_count": 34,
     "metadata": {},
     "output_type": "execute_result"
    }
   ],
   "source": [
    "lista+lista2"
   ]
  },
  {
   "cell_type": "markdown",
   "metadata": {},
   "source": [
    "\n",
    "Este contenido proporciona una base sólida sobre las listas en Python, esencial para estudiantes que comenzarán a utilizarlas en ciencia de datos y machine learning, permitiéndoles manipular datos y realizar operaciones básicas de forma eficiente."
   ]
  },
  {
   "cell_type": "markdown",
   "metadata": {},
   "source": [
    "[Este es el video de apoyo a este cuaderno hata aquí](https://www.youtube.com/watch?v=mpf32daGSNo&ab_channel=DiMathData)"
   ]
  },
  {
   "cell_type": "markdown",
   "metadata": {},
   "source": [
    "\n",
    "2. **Métodos y Funciones para Manipulación de Listas**\n",
    "   - Métodos de listas: `append()`, `remove()`, `pop()`, `sort()`, `reverse()`, `count()`.\n",
    "   - Uso de comprensión de listas (`list comprehension`) para crear y transformar listas.\n"
   ]
  },
  {
   "cell_type": "markdown",
   "metadata": {},
   "source": [
    "### 3. Contenido de la Clase\n",
    "\n",
    "#### 2. **Métodos y Funciones para Manipulación de Listas**\n",
    "\n",
    "##### Métodos de listas\n",
    "Python ofrece varios métodos incorporados para manipular listas de manera eficiente. A continuación se detallan algunos de los métodos más comunes y su aplicación.\n"
   ]
  },
  {
   "cell_type": "markdown",
   "metadata": {},
   "source": [
    "\n",
    "1. **`append()`**: Añade un elemento al final de la lista.\n"
   ]
  },
  {
   "cell_type": "code",
   "execution_count": 2,
   "metadata": {},
   "outputs": [
    {
     "name": "stdout",
     "output_type": "stream",
     "text": [
      "[1, 2, 3, 4]\n"
     ]
    }
   ],
   "source": [
    "numeros = [1, 2, 3]\n",
    "numeros.append(4)\n",
    "print(numeros)  # Salida: [1, 2, 3, 4]\n",
    "\n"
   ]
  },
  {
   "cell_type": "markdown",
   "metadata": {},
   "source": [
    "   Este método es útil para agregar elementos uno por uno sin crear una nueva lista.\n",
    "\n",
    "2. **`remove()`**: Elimina la primera aparición de un elemento específico de la lista. Si el elemento no está presente, lanza un error.\n",
    "   ```python\n",
    "   frutas = [\"manzana\", \"banana\", \"cereza\", \"manzana\"]\n",
    "   frutas.remove(\"manzana\")\n",
    "   print(frutas)  # Salida: ['banana', 'cereza', 'manzana']\n",
    "   ```\n",
    "   Esto es útil para eliminar elementos específicos en listas de valores conocidos.\n",
    "\n",
    "3. **`pop()`**: Elimina y devuelve un elemento en una posición específica. Si no se indica un índice, elimina el último elemento.\n",
    "   ```python\n",
    "   colores = [\"rojo\", \"verde\", \"azul\"]\n",
    "   ultimo_color = colores.pop()\n",
    "   print(colores)        # Salida: ['rojo', 'verde']\n",
    "   print(ultimo_color)   # Salida: 'azul'\n",
    "   ```\n",
    "   Este método es útil para manipular listas como pilas (estructura LIFO - último en entrar, primero en salir).\n",
    "\n",
    "4. **`sort()`**: Ordena la lista en orden ascendente de forma predeterminada. Este método modifica la lista original.\n",
    "   ```python\n",
    "   numeros = [3, 1, 4, 2]\n",
    "   numeros.sort()\n",
    "   print(numeros)  # Salida: [1, 2, 3, 4]\n",
    "   ```\n",
    "   También permite ordenar en orden descendente si se especifica `reverse=True`.\n",
    "   ```python\n",
    "   numeros.sort(reverse=True)\n",
    "   print(numeros)  # Salida: [4, 3, 2, 1]\n",
    "   ```\n",
    "\n",
    "5. **`reverse()`**: Invierte el orden de los elementos en la lista sin ordenar.\n",
    "   ```python\n",
    "   letras = [\"a\", \"b\", \"c\"]\n",
    "   letras.reverse()\n",
    "   print(letras)  # Salida: ['c', 'b', 'a']\n",
    "   ```\n",
    "\n",
    "6. **`count()`**: Cuenta cuántas veces aparece un elemento específico en la lista.\n",
    "   ```python\n",
    "   numeros = [1, 2, 2, 3, 2]\n",
    "   veces = numeros.count(2)\n",
    "   print(veces)  # Salida: 3\n",
    "   ```\n",
    "   Este método es útil para encontrar la frecuencia de aparición de un valor en la lista, lo cual es común en análisis de datos.\n",
    "\n",
    "##### Uso de comprensión de listas (`list comprehension`)\n",
    "La comprensión de listas es una forma concisa y eficiente de crear y transformar listas en Python. Utiliza una sintaxis específica que permite generar listas a partir de expresiones, con la posibilidad de aplicar condiciones y transformaciones en una sola línea.\n",
    "\n",
    "1. **Sintaxis básica de comprensión de listas**\n",
    "   ```python\n",
    "   # Crear una lista con los cuadrados de los números del 1 al 5\n",
    "   cuadrados = [x**2 for x in range(1, 6)]\n",
    "   print(cuadrados)  # Salida: [1, 4, 9, 16, 25]\n",
    "   ```\n",
    "\n",
    "2. **Filtrado en comprensión de listas**\n",
    "   Podemos agregar condiciones en la comprensión de listas para filtrar elementos.\n",
    "   ```python\n",
    "   # Crear una lista de números pares del 1 al 10\n",
    "   pares = [x for x in range(1, 11) if x % 2 == 0]\n",
    "   print(pares)  # Salida: [2, 4, 6, 8, 10]\n",
    "   ```\n",
    "\n",
    "3. **Transformación en comprensión de listas**\n",
    "   Las listas por comprensión permiten aplicar transformaciones a cada elemento.\n",
    "   ```python\n",
    "   # Convertir una lista de temperaturas en grados Celsius a Fahrenheit\n",
    "   celsius = [0, 10, 20, 30]\n",
    "   fahrenheit = [((9/5) * temp + 32) for temp in celsius]\n",
    "   print(fahrenheit)  # Salida: [32.0, 50.0, 68.0, 86.0]\n",
    "   ```\n",
    "\n",
    "4. **Comprensión de listas anidadas**\n",
    "   También es posible crear listas anidadas usando comprensión de listas, lo cual es útil para trabajar con estructuras bidimensionales (matrices o tablas de datos).\n",
    "   ```python\n",
    "   # Crear una tabla de multiplicación del 1 al 3\n",
    "   tabla = [[i * j for j in range(1, 4)] for i in range(1, 4)]\n",
    "   print(tabla)  # Salida: [[1, 2, 3], [2, 4, 6], [3, 6, 9]]\n",
    "   ```\n",
    "\n",
    "Las comprensiones de listas son una herramienta poderosa en Python, especialmente útil en ciencia de datos, donde es necesario realizar operaciones rápidas de transformación y filtrado de datos. Su uso permite escribir código más compacto y legible en comparación con bucles tradicionales."
   ]
  },
  {
   "cell_type": "markdown",
   "metadata": {},
   "source": [
    "[Video de apoyo hasta aquí]()"
   ]
  },
  {
   "cell_type": "markdown",
   "metadata": {},
   "source": [
    "\n",
    "3. **Listas en el Contexto de Ciencia de Datos**\n",
    "   - Importancia de las listas para almacenar y manipular datos en arreglos y matrices.\n",
    "   - Ejemplos de cómo almacenar y manipular datos de manera eficiente en listas antes de estructurarlos en otras colecciones como arrays de Numpy o DataFrames de Pandas.\n"
   ]
  },
  {
   "cell_type": "markdown",
   "metadata": {},
   "source": []
  },
  {
   "cell_type": "markdown",
   "metadata": {},
   "source": []
  },
  {
   "cell_type": "markdown",
   "metadata": {},
   "source": [
    "\n",
    "4. **Aplicación de Listas en Machine Learning**\n",
    "   - Preparación de datos utilizando listas: normalización, categorización y limpieza de datos.\n",
    "   - Ejemplo de listas para dividir datos en conjuntos de entrenamiento y prueba.\n",
    "   - Implementación de un modelo básico de machine learning (clasificación o regresión) donde los datos se almacenen y manipulen en listas.\n",
    "\n",
    "---\n"
   ]
  },
  {
   "cell_type": "markdown",
   "metadata": {},
   "source": [
    "\n",
    "#### 4. Actividades de Aprendizaje\n",
    "1. **Exploración Guiada**:\n",
    "   - Crear listas de ejemplo con datos numéricos y cadenas de texto, y practicar operaciones básicas como añadir y eliminar elementos.\n",
    "   - Escribir un programa sencillo en Python que realice operaciones matemáticas usando listas (por ejemplo, calcular el promedio o encontrar el valor máximo y mínimo).\n",
    "\n",
    "2. **Ejercicio de Análisis de Datos**:\n",
    "   - Utilizar una lista de datos reales, como una serie de precios, y realizar un análisis básico usando métodos de listas (filtrar datos por condiciones, realizar conteos, etc.).\n",
    "   - Trabajar con listas para realizar operaciones de preprocesamiento de datos para un problema de machine learning.\n",
    "\n",
    "3. **Mini Proyecto de Machine Learning**:\n",
    "   - Simular un flujo de trabajo en machine learning utilizando listas para almacenar datos. Por ejemplo, almacenar y dividir manualmente un conjunto de datos en listas para entrenamiento y prueba y luego aplicar un modelo simple usando la biblioteca Scikit-learn.\n",
    "\n",
    "---\n",
    "\n",
    "#### 5. Tarea o Actividades de Ejercitación y Fijación\n",
    "1. **Ejercicios Prácticos**:\n",
    "   - Realizar operaciones avanzadas con listas utilizando comprensión de listas, aplicándolas para transformar y filtrar datos.\n",
    "   - Crear una lista de diccionarios para representar un conjunto de datos estructurados y practicar la extracción de datos específicos usando bucles y condiciones.\n",
    "\n",
    "2. **Análisis de Datos con Listas**:\n",
    "   - Descargar un pequeño conjunto de datos, cargarlo en Python y almacenarlo en listas. Realizar un análisis básico como obtener valores promedio, contar ocurrencias de una categoría y ordenar los datos.\n",
    "\n",
    "3. **Implementación de un Modelo de Machine Learning Básico**:\n",
    "   - Dividir un conjunto de datos en listas para realizar un modelo de regresión lineal o clasificación. Comparar los resultados obtenidos utilizando listas versus el uso de Numpy o Pandas para entender la importancia de las estructuras de datos más avanzadas.\n",
    "\n",
    "4. **Reflexión**:\n",
    "   - Escribir una breve reflexión sobre cómo las listas son útiles en ciencia de datos y qué limitaciones presentan cuando los datos se vuelven más complejos o de mayor tamaño.\n",
    "\n",
    "--- \n",
    "\n",
    "Este diseño de clase introduce de forma progresiva el uso de listas en Python y su aplicación en ciencia de datos, brindando a los estudiantes una comprensión sólida de esta estructura y cómo aprovecharla en análisis de datos y proyectos de machine learning básicos."
   ]
  },
  {
   "cell_type": "code",
   "execution_count": null,
   "metadata": {},
   "outputs": [],
   "source": []
  },
  {
   "attachments": {},
   "cell_type": "markdown",
   "metadata": {
    "slideshow": {
     "slide_type": "slide"
    }
   },
   "source": [
    "# Introducción a las listas según Nicolas Shurmann  \n",
    "\n",
    "[Video asociado a la clase sobre creación de listas y hacer copias de ellas](https://www.youtube.com/watch?v=CVjctbHg6Mw)"
   ]
  },
  {
   "cell_type": "code",
   "execution_count": 37,
   "metadata": {
    "slideshow": {
     "slide_type": "slide"
    }
   },
   "outputs": [],
   "source": [
    "lista_1 = []  # creación de una lista vacía, una estructura mutable sin datos. \n",
    "# mutable, significa que su longitud y los datos contenidos son modificables después de hacer creado la estructura"
   ]
  },
  {
   "cell_type": "code",
   "execution_count": 38,
   "metadata": {
    "slideshow": {
     "slide_type": "slide"
    }
   },
   "outputs": [
    {
     "data": {
      "text/plain": [
       "[]"
      ]
     },
     "execution_count": 38,
     "metadata": {},
     "output_type": "execute_result"
    }
   ],
   "source": [
    "lista_1 "
   ]
  },
  {
   "attachments": {},
   "cell_type": "markdown",
   "metadata": {
    "slideshow": {
     "slide_type": "slide"
    }
   },
   "source": [
    "# Meterle datos a la lista"
   ]
  },
  {
   "cell_type": "code",
   "execution_count": 5,
   "metadata": {
    "slideshow": {
     "slide_type": "slide"
    }
   },
   "outputs": [],
   "source": [
    "lista_1.append(7) # utilizando el método append() \n",
    "lista_1.append(1.3)\n",
    "lista_1.append('marco')\n",
    "lista_1.append(True)\n",
    "lista_1.append(None) "
   ]
  },
  {
   "cell_type": "code",
   "execution_count": 6,
   "metadata": {
    "slideshow": {
     "slide_type": "slide"
    }
   },
   "outputs": [
    {
     "data": {
      "text/plain": [
       "[7, 1.3, 7, 1.3, 'marco', True, None]"
      ]
     },
     "execution_count": 6,
     "metadata": {},
     "output_type": "execute_result"
    }
   ],
   "source": [
    "lista_1"
   ]
  },
  {
   "cell_type": "markdown",
   "metadata": {},
   "source": [
    "### [Video de apoyo a la creación de listas y al agredar datos a las mismas](https://www.youtube.com/watch?v=nkfvuHfc2HU)"
   ]
  },
  {
   "cell_type": "markdown",
   "metadata": {},
   "source": [
    "# Cómo hallar el número de datos de la lista.\n",
    "\n"
   ]
  },
  {
   "cell_type": "code",
   "execution_count": 7,
   "metadata": {
    "slideshow": {
     "slide_type": "slide"
    }
   },
   "outputs": [
    {
     "data": {
      "text/plain": [
       "7"
      ]
     },
     "execution_count": 7,
     "metadata": {},
     "output_type": "execute_result"
    }
   ],
   "source": [
    "len(lista_1)"
   ]
  },
  {
   "cell_type": "markdown",
   "metadata": {},
   "source": [
    "# Cómo limpiar una lista"
   ]
  },
  {
   "cell_type": "code",
   "execution_count": 9,
   "metadata": {
    "slideshow": {
     "slide_type": "slide"
    }
   },
   "outputs": [],
   "source": [
    "lista.clear() "
   ]
  },
  {
   "attachments": {},
   "cell_type": "markdown",
   "metadata": {
    "slideshow": {
     "slide_type": "slide"
    }
   },
   "source": [
    "## Cómo generar una copia de una lista dada\n",
    "\n",
    "El método `copy()` crea copias que pueden ser modificadas son modificar el objeto original. "
   ]
  },
  {
   "cell_type": "code",
   "execution_count": 8,
   "metadata": {
    "slideshow": {
     "slide_type": "slide"
    }
   },
   "outputs": [],
   "source": [
    "lista_2 = [2,4,6, 8] "
   ]
  },
  {
   "cell_type": "code",
   "execution_count": 14,
   "metadata": {
    "slideshow": {
     "slide_type": "slide"
    }
   },
   "outputs": [],
   "source": [
    "lista_3 = lista_2.copy() "
   ]
  },
  {
   "cell_type": "code",
   "execution_count": 15,
   "metadata": {
    "slideshow": {
     "slide_type": "slide"
    }
   },
   "outputs": [
    {
     "data": {
      "text/plain": [
       "[2, 4, 6, 8]"
      ]
     },
     "execution_count": 15,
     "metadata": {},
     "output_type": "execute_result"
    }
   ],
   "source": [
    "lista_3"
   ]
  },
  {
   "cell_type": "code",
   "execution_count": 16,
   "metadata": {
    "slideshow": {
     "slide_type": "slide"
    }
   },
   "outputs": [
    {
     "data": {
      "text/plain": [
       "[-1, 4, 6, 8]"
      ]
     },
     "execution_count": 16,
     "metadata": {},
     "output_type": "execute_result"
    }
   ],
   "source": [
    "lista_3[0] = -1\n",
    "lista3 "
   ]
  },
  {
   "cell_type": "code",
   "execution_count": 17,
   "metadata": {
    "slideshow": {
     "slide_type": "slide"
    }
   },
   "outputs": [
    {
     "data": {
      "text/plain": [
       "([2, 4, 6, 8], [-1, 4, 6, 8])"
      ]
     },
     "execution_count": 17,
     "metadata": {},
     "output_type": "execute_result"
    }
   ],
   "source": [
    "lista_2, lista_3 "
   ]
  },
  {
   "attachments": {},
   "cell_type": "markdown",
   "metadata": {
    "slideshow": {
     "slide_type": "slide"
    }
   },
   "source": [
    "# Contando elementos y calculando el largo de una lista"
   ]
  },
  {
   "cell_type": "code",
   "execution_count": 40,
   "metadata": {
    "slideshow": {
     "slide_type": "slide"
    }
   },
   "outputs": [],
   "source": [
    "lista = [2,2,2, 7] "
   ]
  },
  {
   "cell_type": "code",
   "execution_count": 42,
   "metadata": {
    "slideshow": {
     "slide_type": "slide"
    }
   },
   "outputs": [
    {
     "data": {
      "text/plain": [
       "3"
      ]
     },
     "execution_count": 42,
     "metadata": {},
     "output_type": "execute_result"
    }
   ],
   "source": [
    "lista.count(2) # nos dice cuentas veces está este dato en la lista"
   ]
  },
  {
   "attachments": {},
   "cell_type": "markdown",
   "metadata": {
    "slideshow": {
     "slide_type": "slide"
    }
   },
   "source": [
    "## Determinando la longitud de la lista"
   ]
  },
  {
   "cell_type": "code",
   "execution_count": 27,
   "metadata": {
    "slideshow": {
     "slide_type": "slide"
    }
   },
   "outputs": [
    {
     "data": {
      "text/plain": [
       "4"
      ]
     },
     "execution_count": 27,
     "metadata": {},
     "output_type": "execute_result"
    }
   ],
   "source": [
    "len(lista)"
   ]
  },
  {
   "attachments": {},
   "cell_type": "markdown",
   "metadata": {
    "slideshow": {
     "slide_type": "slide"
    }
   },
   "source": [
    "## Accediendo a elementos de la lista"
   ]
  },
  {
   "attachments": {},
   "cell_type": "markdown",
   "metadata": {
    "slideshow": {
     "slide_type": "slide"
    }
   },
   "source": [
    "Empecemos con el acceso al primer elemento de una lista"
   ]
  },
  {
   "cell_type": "code",
   "execution_count": 31,
   "metadata": {
    "slideshow": {
     "slide_type": "slide"
    }
   },
   "outputs": [
    {
     "data": {
      "text/plain": [
       "2"
      ]
     },
     "execution_count": 31,
     "metadata": {},
     "output_type": "execute_result"
    }
   ],
   "source": [
    "lista[0]"
   ]
  },
  {
   "cell_type": "code",
   "execution_count": 32,
   "metadata": {
    "slideshow": {
     "slide_type": "slide"
    }
   },
   "outputs": [
    {
     "name": "stdout",
     "output_type": "stream",
     "text": [
      "[2, 2, 2, 7]\n"
     ]
    }
   ],
   "source": [
    "print(lista) "
   ]
  },
  {
   "cell_type": "code",
   "execution_count": 40,
   "metadata": {
    "slideshow": {
     "slide_type": "slide"
    }
   },
   "outputs": [
    {
     "data": {
      "text/plain": [
       "[2, 2, 2, 7]"
      ]
     },
     "execution_count": 40,
     "metadata": {},
     "output_type": "execute_result"
    }
   ],
   "source": [
    "lista[:4]"
   ]
  },
  {
   "attachments": {},
   "cell_type": "markdown",
   "metadata": {
    "slideshow": {
     "slide_type": "slide"
    }
   },
   "source": [
    "# Referentes utilizados en este cuaderno"
   ]
  },
  {
   "attachments": {},
   "cell_type": "markdown",
   "metadata": {
    "slideshow": {
     "slide_type": "slide"
    }
   },
   "source": [
    "* [stewart precálculo](https://udeaeduco-my.sharepoint.com/:b:/g/personal/marco_canas_udea_edu_co/ERHIq62I6qFNrmxy6LZb8ZMBci7kUsyNME1nIh9yCBMJ_w?e=0zMSla)  \n",
    "\n",
    "* [stewart cálculo](https://udeaeduco-my.sharepoint.com/:b:/g/personal/marco_canas_udea_edu_co/EZgXZjAp8QxPqOAim2hs6LcBNPLGjSHf-xwYnUVYkwa04w?e=RZdTCy)  \n",
    "\n",
    "* [larson](https://udeaeduco-my.sharepoint.com/:b:/g/personal/marco_canas_udea_edu_co/ES71ChFeO9ZDhW3TwC5Ijk8BjxUK3Pdqz_fjHxTTFAfIAg?e=VDEjfu)\n",
    "\n",
    "* [uzcategui](https://udeaeduco-my.sharepoint.com/:b:/g/personal/marco_canas_udea_edu_co/ETDikm-lVl1Or8XoEo9oyh0BEti9Zs8le-f0D-dBdtZmbA?e=bBsoyQ)\n",
    "\n",
    "* [Cálculo de Purcell](https://udeaeduco-my.sharepoint.com/:b:/g/personal/marco_canas_udea_edu_co/ES60UB4h-QFFqqRQUFmkpWcBIgoLBJeqTfZjNajWNWSeJA?e=9NxjKJ)\n",
    "\n",
    "* [Recomendación de la UNESCO sobre ciencia abierta](https://unesdoc.unesco.org/ark:/48223/pf0000379949_spa)\n",
    "\n",
    "* [Fórmulas más comunes en latex](https://wiki.geogebra.org/es/C%C3%B3digo_LaTeX_para_las_f%C3%B3rmulas_m%C3%A1s_comunes) \n",
    "\n",
    "* [chatGPT](https://openai.com/blog/chatgpt)  \n",
    "\n",
    "* Géron, A. (2017). Hands-on machine learning with scikit-learn and tensorflow: Concepts. Tools, and Techniques to build intelligent systems.[Geron, Aurelien. Hands on Machine Learning](https://udeaeduco-my.sharepoint.com/:b:/g/personal/marco_canas_udea_edu_co/Ecet27yjQzZIlT1Y_Bc2erkBUhbeYuIe6HG8i1FYZRlZww?e=dlvZ4v)  \n",
    "\n",
    "* McKinney, W. (2012). Python for data analysis: Data wrangling with Pandas, NumPy, and IPython. \" O'Reilly Media, Inc.\".[Wes Mackinney. ](https://udeaeduco-my.sharepoint.com/:b:/g/personal/marco_canas_udea_edu_co/EVbi5JIeBl9ErbiUnZfGe8YBhNTnZ8sxTK5hjIOPK4UpGw?e=fFclah)"
   ]
  },
  {
   "attachments": {},
   "cell_type": "markdown",
   "metadata": {
    "slideshow": {
     "slide_type": "slide"
    }
   },
   "source": [
    "### [Evaluamos al profesor Marco Cañas Aquí](https://forms.office.com/Pages/ResponsePage.aspx?id=IefhmYRxjkmK_7KtTlPBwkanXIs1i1FEujpsZgO6dXpUREJPV1kxUk1JV1ozTFJIQVNIQjY5WEY3US4u)"
   ]
  },
  {
   "attachments": {},
   "cell_type": "markdown",
   "metadata": {
    "slideshow": {
     "slide_type": "slide"
    }
   },
   "source": [
    "### Continue su aprendizaje en la siguiente clase sobre tuplas a través del siguiente [vínculo](https://github.com/marco-canas/7_didactica_ciencia_datos/blob/main/1_propuesta/unidad_didac/0_python/2_estructuras_datos/2_tuplas/1_tuplas.ipynb)"
   ]
  }
 ],
 "metadata": {
  "celltoolbar": "Slideshow",
  "kernelspec": {
   "display_name": "Python 3",
   "language": "python",
   "name": "python3"
  },
  "language_info": {
   "codemirror_mode": {
    "name": "ipython",
    "version": 3
   },
   "file_extension": ".py",
   "mimetype": "text/x-python",
   "name": "python",
   "nbconvert_exporter": "python",
   "pygments_lexer": "ipython3",
   "version": "3.12.7"
  },
  "rise": {
   "theme": "serif"
  },
  "widgets": {
   "application/vnd.jupyter.widget-state+json": {
    "state": {},
    "version_major": 2,
    "version_minor": 0
   }
  }
 },
 "nbformat": 4,
 "nbformat_minor": 2
}
