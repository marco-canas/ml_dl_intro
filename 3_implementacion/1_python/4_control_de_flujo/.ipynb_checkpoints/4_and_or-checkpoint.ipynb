{
 "cells": [
  {
   "cell_type": "markdown",
   "id": "4e29c451",
   "metadata": {
    "slideshow": {
     "slide_type": "slide"
    }
   },
   "source": [
    "<table align=\"left\">\n",
    "  <td>\n",
    "    <a href=\"https://colab.research.google.com/github/marco-canas/edo/blob/main/banco_preguntas/parcial_4/p_4_13.ipynb\" target=\"_parent\"><img src=\"https://colab.research.google.com/assets/colab-badge.svg\" alt=\"Open In Colab\"/></a>\n",
    "  </td>\n",
    "</table>"
   ]
  },
  {
   "cell_type": "markdown",
   "id": "2ccf1300",
   "metadata": {
    "slideshow": {
     "slide_type": "slide"
    }
   },
   "source": [
    "## [Video de apoyo a la lectura interactiva y experimental de este cuaderno](https://www.youtube.com/watch?v=Q2Y3ThY8l6I)"
   ]
  },
  {
   "cell_type": "markdown",
   "id": "d69c0aa7",
   "metadata": {
    "slideshow": {
     "slide_type": "slide"
    }
   },
   "source": [
    "# if con and y or"
   ]
  },
  {
   "cell_type": "markdown",
   "id": "09ae7a34",
   "metadata": {
    "slideshow": {
     "slide_type": "slide"
    }
   },
   "source": [
    "A veces quiero hacer dos evaluaciones y no una sola con el ciclo `if`"
   ]
  },
  {
   "cell_type": "code",
   "execution_count": null,
   "id": "b6211caf",
   "metadata": {
    "slideshow": {
     "slide_type": "slide"
    }
   },
   "outputs": [],
   "source": [
    "if 2 < 5 and 3 > 2:\n",
    "    print('las dos condicines se cumplieron')"
   ]
  },
  {
   "cell_type": "markdown",
   "id": "0d0e85ff",
   "metadata": {
    "slideshow": {
     "slide_type": "slide"
    }
   },
   "source": [
    "Ahora, si quiero que se realice una acción siempre y cuando se cumpla al menos una de dos condiciones entonces debo utilizar la sentencia `or`. "
   ]
  },
  {
   "cell_type": "code",
   "execution_count": 1,
   "id": "34e78ea7",
   "metadata": {
    "slideshow": {
     "slide_type": "slide"
    }
   },
   "outputs": [
    {
     "name": "stdout",
     "output_type": "stream",
     "text": [
      "se cumplio solo la primera condición\n"
     ]
    }
   ],
   "source": [
    "if 0 < 1 or 3 < 2:\n",
    "    print('se cumplio solo la primera condición')"
   ]
  },
  {
   "cell_type": "code",
   "execution_count": 4,
   "id": "e18cc793",
   "metadata": {
    "slideshow": {
     "slide_type": "slide"
    }
   },
   "outputs": [
    {
     "name": "stdout",
     "output_type": "stream",
     "text": [
      "se cumplió solo la segunda condición\n"
     ]
    }
   ],
   "source": [
    "if 0 > 1 or 3 > 2:\n",
    "    print('se cumplió solo la segunda condición')"
   ]
  },
  {
   "cell_type": "code",
   "execution_count": 5,
   "id": "af5cc933",
   "metadata": {
    "slideshow": {
     "slide_type": "slide"
    }
   },
   "outputs": [
    {
     "name": "stdout",
     "output_type": "stream",
     "text": [
      "se cumplieron ambas condiciones\n"
     ]
    }
   ],
   "source": [
    "if 0 < 1 or 3 > 2:\n",
    "    print('se cumplieron ambas condiciones')"
   ]
  },
  {
   "cell_type": "code",
   "execution_count": 2,
   "id": "a687e0a0",
   "metadata": {
    "slideshow": {
     "slide_type": "slide"
    }
   },
   "outputs": [
    {
     "name": "stdout",
     "output_type": "stream",
     "text": [
      "no se cumplió ninguna de las dos condiciones\n"
     ]
    }
   ],
   "source": [
    "if 0 > 1 or 3 < 2:\n",
    "    print('se cumplio solo la primera condición')\n",
    "else:\n",
    "    print('no se cumplió ninguna de las dos condiciones')"
   ]
  },
  {
   "cell_type": "markdown",
   "id": "de22112f",
   "metadata": {
    "slideshow": {
     "slide_type": "slide"
    }
   },
   "source": [
    "# if con or  o con and"
   ]
  },
  {
   "cell_type": "code",
   "execution_count": 4,
   "id": "375112b7",
   "metadata": {
    "slideshow": {
     "slide_type": "slide"
    }
   },
   "outputs": [
    {
     "name": "stdout",
     "output_type": "stream",
     "text": [
      "al menos una de las condiciones o las dos se evaluaron en True\n"
     ]
    }
   ],
   "source": [
    "if (1<2) or (2<3):\n",
    "    print('al menos una de las condiciones o las dos se evaluaron en True')"
   ]
  },
  {
   "cell_type": "code",
   "execution_count": 8,
   "id": "5e65f486",
   "metadata": {
    "slideshow": {
     "slide_type": "slide"
    }
   },
   "outputs": [
    {
     "name": "stdout",
     "output_type": "stream",
     "text": [
      "solo se ejecuta cuando ambas evaluaciones son True\n"
     ]
    }
   ],
   "source": [
    "if (0<1) and (2<3):\n",
    "    print('solo se ejecuta cuando ambas evaluaciones son True')"
   ]
  },
  {
   "cell_type": "code",
   "execution_count": null,
   "id": "4c3b7e50",
   "metadata": {
    "slideshow": {
     "slide_type": "slide"
    }
   },
   "outputs": [],
   "source": []
  },
  {
   "cell_type": "code",
   "execution_count": null,
   "id": "3bcdeb78",
   "metadata": {
    "slideshow": {
     "slide_type": "slide"
    }
   },
   "outputs": [],
   "source": []
  },
  {
   "cell_type": "code",
   "execution_count": null,
   "id": "24b9ec15",
   "metadata": {
    "slideshow": {
     "slide_type": "slide"
    }
   },
   "outputs": [],
   "source": []
  },
  {
   "cell_type": "markdown",
   "id": "14b619ec",
   "metadata": {
    "slideshow": {
     "slide_type": "slide"
    }
   },
   "source": [
    "## Referentes \n",
    "\n"
   ]
  },
  {
   "cell_type": "markdown",
   "id": "ac3c74b0",
   "metadata": {
    "slideshow": {
     "slide_type": "slide"
    }
   },
   "source": [
    "* Nicolas Shurmann: "
   ]
  },
  {
   "cell_type": "markdown",
   "id": "b665dc39",
   "metadata": {
    "slideshow": {
     "slide_type": "slide"
    }
   },
   "source": [
    "## [Continue con su aprendizaje aquí]()"
   ]
  }
 ],
 "metadata": {
  "celltoolbar": "Slideshow",
  "kernelspec": {
   "display_name": "Python 3 (ipykernel)",
   "language": "python",
   "name": "python3"
  },
  "language_info": {
   "codemirror_mode": {
    "name": "ipython",
    "version": 3
   },
   "file_extension": ".py",
   "mimetype": "text/x-python",
   "name": "python",
   "nbconvert_exporter": "python",
   "pygments_lexer": "ipython3",
   "version": "3.9.13"
  }
 },
 "nbformat": 4,
 "nbformat_minor": 5
}
