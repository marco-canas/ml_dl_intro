{
 "cells": [
  {
   "cell_type": "markdown",
   "id": "dc06dec7",
   "metadata": {
    "slideshow": {
     "slide_type": "slide"
    }
   },
   "source": [
    "<table align=\"left\">\n",
    "  <td>\n",
    "    <a href=\"https://colab.research.google.com/github/ageron/handson-ml3/blob/main/tools_numpy.ipynb\" target=\"_parent\"><img src=\"https://colab.research.google.com/assets/colab-badge.svg\" alt=\"Open In Colab\"/></a>\n",
    "  </td>\n",
    "  <td>\n",
    "    <a target=\"_blank\" href=\"https://kaggle.com/kernels/welcome?src=https://github.com/ageron/handson-ml3/blob/main/tools_numpy.ipynb\"><img src=\"https://kaggle.com/static/images/open-in-kaggle.svg\" /></a>\n",
    "  </td>\n",
    "</table>"
   ]
  },
  {
   "cell_type": "markdown",
   "id": "e0c5b198",
   "metadata": {
    "slideshow": {
     "slide_type": "slide"
    }
   },
   "source": [
    "### [Video de apoyo a la lectura interactiva y experimental de este cuaderno]()"
   ]
  },
  {
   "cell_type": "markdown",
   "id": "41e82203",
   "metadata": {
    "slideshow": {
     "slide_type": "slide"
    }
   },
   "source": [
    "### [Vínculo al programa del curso:  ]()\n",
    "\n"
   ]
  },
  {
   "cell_type": "markdown",
   "id": "d11ab06d",
   "metadata": {
    "slideshow": {
     "slide_type": "slide"
    }
   },
   "source": [
    "Un reconocimiento a mis estudiantes que han construido conmigo este saber pedagógico:\n",
    "\n",
    "<img src = ''> \n",
    "\n"
   ]
  },
  {
   "cell_type": "markdown",
   "id": "8a74a56c-0ce6-4ad6-b985-553fd7fb68bb",
   "metadata": {},
   "source": [
    "# Reconocimiento a las profesoras destacadas en enseñanza de la matemática en Colombia  \n",
    "\n",
    "Esta es una lista de **20 mujeres destacadas** por sus contribuciones a la **enseñanza, investigación y divulgación de la lógica y la teoría de conjuntos**, en contextos tanto matemáticos como filosóficos y computacionales. La lista incluye académicas históricas y contemporáneas, de diferentes partes del mundo.\n",
    "\n",
    "---\n"
   ]
  },
  {
   "cell_type": "markdown",
   "id": "d18b126a",
   "metadata": {},
   "source": [
    "\n",
    "### 📘 **Mujeres destacadas en lógica y teoría de conjuntos**\n",
    "\n",
    "| # | Nombre | País | Aportes principales |\n",
    "|---|--------|------|---------------------|\n",
    "| 1. | **Christine Ladd-Franklin** | EE.UU. | Primera mujer en formular trabajos en lógica simbólica y álgebra booleana. Alumna de Peirce. |\n",
    "| 2. | **Emilie du Châtelet** | Francia | Precursora del pensamiento racional en matemáticas, influenció la lógica natural. |\n",
    "| 3. | **Ruth Barcan Marcus** | EE.UU. | Fundadora de la lógica modal cuantificacional; creadora de las fórmulas de Barcan. |\n",
    "| 4. | **Julia Robinson** | EE.UU. | Trabajó en lógica matemática, teoría de la decisión y problemas de Hilbert. |\n",
    "| 5. | **Anne Troelstra** (en colaboración con L.E.J. Brouwer) | Países Bajos | Contribuyó a la lógica intuicionista y constructiva. |\n",
    "| 6. | **Dorothy Edgington** | Reino Unido | Importante en semántica de condicionales y lógica filosófica. |\n",
    "| 7. | **Valeria de Paiva** | Brasil / Reino Unido | Investigadora en lógica categórica y lógica en ciencias computacionales. |\n",
    "| 8. | **Sara Negri** https://sites.google.com/view/saranegri/home | Finlandia / Italia | Especialista en teoría de demostraciones y lógica formal. |\n",
    "| 9. | **Mária Kaluszová** | Eslovaquia | Investigadora en lógica matemática, álgebra booleana y educación matemática. |\n",
    "| 10. | **Louise McNally** | EE.UU. / España | Ha trabajado en semántica formal y lógica del lenguaje natural. |\n",
    "| 11. | **Juliet Floyd** | EE.UU. | Historiadora de la lógica y el pensamiento de Gödel, Turing y Wittgenstein. |\n",
    "| 12. | **Dagmar Sattler-Klein** | Alemania | Contribuciones a la lógica computacional y educación en matemáticas. |\n",
    "| 13. | **Penelope Maddy** | EE.UU. | Filósofa de la matemática, especializada en teoría de conjuntos y realismo matemático. |\n",
    "| 14. | **Anil Nerode (con tribuciones compartidas con su esposa, Lois Nerode)** | EE.UU. | Investigación conjunta en lógica y teoría de autómatas. |\n",
    "| 15. | **Joan Moschovakis** | EE.UU. | Investigadora en lógica intuicionista, teoría de funciones recursivas. |\n",
    "| 16. | **Phoebe McLaughlin** | Australia | Enseñanza de lógica matemática y computacional. |\n",
    "| 17. | **Francesca Poggiolesi** | Francia | Especialista en lógica subestructural, demostraciones, y epistemología formal. |\n",
    "| 18. | **Helena Rasiowa** | Polonia | Autora influyente en lógica algebraica y lógica matemática computacional. |\n",
    "| 19. | **Mary Tiles** | Reino Unido | Historiadora de la lógica y la teoría de conjuntos, enfocada en matemáticas del siglo XIX. |\n",
    "| 20. | **Barbara Partee** | EE.UU. | Lingüista y lógica; pionera en semántica formal y su aplicación al lenguaje natural. |\n",
    "\n",
    "---\n"
   ]
  },
  {
   "cell_type": "markdown",
   "id": "010e9b58",
   "metadata": {},
   "source": [
    "\n",
    "### 🧩 ¿Cómo utilizar esta lista en tu curso?\n",
    "\n",
    "Puedes:\n",
    "\n",
    "- Diseñar una **galería de mujeres en la lógica** en tu repositorio GitHub con biografías y recursos asociados.\n",
    "- Crear **actividades de lectura e investigación**, como mini-biografías o análisis de sus aportes.\n",
    "- Invitar a algunas (como Valeria de Paiva o Sara Negri) a encuentros virtuales.\n",
    "- Generar un **podcast o video de YouTube** titulado *“Mujeres que transformaron la lógica”* para tu canal *DiMathData*.\n",
    "\n",
    "---\n",
    "\n",
    "¿Quieres que te ayude a construir esa galería o una línea del tiempo interactiva con sus aportes?\n"
   ]
  },
  {
   "cell_type": "code",
   "execution_count": 3,
   "id": "b179a7ed",
   "metadata": {},
   "outputs": [
    {
     "data": {
      "application/vnd.microsoft.datawrangler.viewer.v0+json": {
       "columns": [
        {
         "name": "index",
         "rawType": "int64",
         "type": "integer"
        },
        {
         "name": "Nombre",
         "rawType": "object",
         "type": "string"
        }
       ],
       "ref": "0eb6ebe2-18c6-42ff-a1b2-8ab6fef1112f",
       "rows": [
        [
         "0",
         "Fernando"
        ]
       ],
       "shape": {
        "columns": 1,
        "rows": 1
       }
      },
      "text/html": [
       "<div>\n",
       "<style scoped>\n",
       "    .dataframe tbody tr th:only-of-type {\n",
       "        vertical-align: middle;\n",
       "    }\n",
       "\n",
       "    .dataframe tbody tr th {\n",
       "        vertical-align: top;\n",
       "    }\n",
       "\n",
       "    .dataframe thead th {\n",
       "        text-align: right;\n",
       "    }\n",
       "</style>\n",
       "<table border=\"1\" class=\"dataframe\">\n",
       "  <thead>\n",
       "    <tr style=\"text-align: right;\">\n",
       "      <th></th>\n",
       "      <th>Nombre</th>\n",
       "    </tr>\n",
       "  </thead>\n",
       "  <tbody>\n",
       "    <tr>\n",
       "      <th>0</th>\n",
       "      <td>Fernando</td>\n",
       "    </tr>\n",
       "  </tbody>\n",
       "</table>\n",
       "</div>"
      ],
      "text/plain": [
       "     Nombre\n",
       "0  Fernando"
      ]
     },
     "execution_count": 3,
     "metadata": {},
     "output_type": "execute_result"
    }
   ],
   "source": [
    "import pandas as pd\n",
    "import numpy as np\n",
    "\n",
    "# Cargar la lista de estudiantes desde el archivo CSV\n",
    "path = 'C:/Users/marco/Documentos/docencia/groups_list/ml_dl_intro.xlsx'\n",
    "df = pd.read_excel(path)\n",
    "\n",
    "df.head(3)"
   ]
  },
  {
   "cell_type": "markdown",
   "id": "d7598d0a-d9b7-4ae0-b029-a0ed6ed1130b",
   "metadata": {},
   "source": [
    "\n",
    "# Principios de mi labor docente"
   ]
  },
  {
   "cell_type": "markdown",
   "id": "4f9d8cf9",
   "metadata": {
    "slideshow": {
     "slide_type": "slide"
    }
   },
   "source": [
    "## Modelo general de clase: [aula invertida](https://www3.gobiernodecanarias.org/medusa/ecoescuela/pedagotic/aprendizaje-invertido-flipped-classroom/)"
   ]
  },
  {
   "cell_type": "markdown",
   "id": "eb6ed03a",
   "metadata": {},
   "source": [
    "<img src = 'https://resources.maneuveringthemiddle.com/wp-content/uploads/2020/07/04212706/1-5.png' width = 500>  \n",
    "\n"
   ]
  },
  {
   "cell_type": "markdown",
   "id": "34319cce-a71b-4f64-aab8-b53e521efa40",
   "metadata": {},
   "source": [
    "# Metodología de Aprendizaje Basado en Problemas y Proyectos (ABPP) \n"
   ]
  },
  {
   "cell_type": "markdown",
   "id": "c4f73d81",
   "metadata": {},
   "source": [
    "\n",
    "<img src = 'https://www.unir.net/wp-content/uploads/2020/07/aprendizaje-problemas2-1-1-1-1.jpeg' width = 500>"
   ]
  },
  {
   "cell_type": "markdown",
   "id": "841a985c-bd9b-4dd3-8e4c-893983980af2",
   "metadata": {},
   "source": [
    "# Desarrollo del pensamiento computacional con Lenguajes Python y R, y con archivos Markdown orientado a la formación en ciencia de datos \n",
    "\n"
   ]
  },
  {
   "cell_type": "markdown",
   "id": "3d0eba94",
   "metadata": {},
   "source": [
    "\n",
    "<img src = 'https://i.ytimg.com/vi/mcG_wcR4e6M/maxresdefault.jpg' width = 200>"
   ]
  },
  {
   "cell_type": "markdown",
   "id": "65aa0404-f7ae-495e-864c-1aec01b4255e",
   "metadata": {},
   "source": [
    "# Principio de fomento a la ciencia abierta, enseñar en el acceso a los datos públicos y el uso de software de código abierto  \n"
   ]
  },
  {
   "cell_type": "markdown",
   "id": "18ae9b87",
   "metadata": {},
   "source": [
    "\n",
    "<img src = 'https://unesdoc.unesco.org/in/rest/Thumb/image?id=p%3A%3Ausmarcdef_0000379949_spa&author=UNESCO&title=Recomendaci%C3%B3n+de+la+UNESCO+sobre+la+Ciencia+Abierta&year=2021&publisher=UNESCO&TypeOfDocument=UnescoPhysicalDocument&mat=PGD&ct=true&size=512&isPhysical=1' width = 200>"
   ]
  },
  {
   "cell_type": "markdown",
   "id": "d9559f85",
   "metadata": {},
   "source": [
    "El enfoque STEAMS en educación preescolar, primaria y secundaria es una extensión del enfoque STEM (Ciencia, Tecnología, Ingeniería y Matemáticas) y su variante STEAM, que incorpora el Arte. "
   ]
  },
  {
   "cell_type": "markdown",
   "id": "9d556584",
   "metadata": {},
   "source": [
    "En educación preescolar, primaria, secundaria y superior, se adapta a las diferentes etapas de desarrollo cognitivo y emocional de los estudiantes, promoviendo el aprendizaje activo y contextualizado.  \n"
   ]
  },
  {
   "cell_type": "markdown",
   "id": "0130ec1b",
   "metadata": {},
   "source": [
    "\n",
    "<img src = 'https://www.campuseducacion.com/blog/wp-content/uploads/2023/03/foto01-1.jpg' width = 200>"
   ]
  },
  {
   "cell_type": "code",
   "execution_count": 4,
   "id": "0c673e3c",
   "metadata": {},
   "outputs": [],
   "source": [
    "# Gestión del guardado de imagenes  \n",
    "\n",
    "def save_fig(nombre_archivo_imagen):\n",
    "    import os \n",
    "    import matplotlib.pyplot as plt\n",
    "    ubicacion_para_imagenes = r\"C:/Users/marco/Downloads\"\n",
    "    imagen_path = os.path.join(ubicacion_para_imagenes, nombre_archivo_imagen)\n",
    "    plt.savefig(imagen_path, bbox_inches='tight')"
   ]
  },
  {
   "cell_type": "markdown",
   "id": "10e55ccf",
   "metadata": {},
   "source": [
    "# Prompt de diseño de clase: \n",
    "\n",
    "Dame, por favor, un diseño de clase, con el enfoque: STEAMS  y de aprendizaje basado en problemas y proyectos(ABPP) y Teoría de Registros de Representación Semiótica de Duval; sobre: **\"Clasificación con técnicas de Machine learning y el dataset Mnist\"**, siguiendo la estructura:   \n",
    "\n",
    "1. Título de la clase   \n",
    "   \n",
    "2. Objetivo de aprendizaje e indicadores de logro de estos objetivos.   \n",
    "   Diseña la clase incluyendo objetivos de educación matemática basada en el pensamiento crítico.   \n",
    "\n",
    "3.  Un mapa conceptual que resuma la clase elaborado en Graphviz de python con nodos y edges de diferentes formas, colores y rellenos y renderizado en la siguiente ubicación: `\"C:/Users/marco/Downloads\"`. No olvides el parámetro `view = True` para el método `render()` de Graphviz. Para este mapa controla las superposiciones de los nodos con: graph [overlap=false]; // Elimina superposiciones (puede aumentar el espacio)\n",
    "graph [overlap=\"scalexy\"]; // Escala el gráfico para evitar overlaps\n",
    "graph [overlap=\"compress\"]; // Comprime el grafo sin overlaps   \n",
    "   \n",
    "4. Contenido de la clase    \n",
    "   \n",
    "5. Incluye una canción o un poema que ayude a interiorizar y fijar los conceptos asociados a esta clase.  \n",
    "   \n",
    "6. Dame elementos históricos y epistemológicos asociados a esta clase, pero contados como un cuento al estilo de un cuentero antioqueño en Colombia. Incluye imágenes de los protagonistas históricos de esta clase.   \n",
    "   \n",
    "7. Actividades de aprendizaje    \n",
    "     * Incluya actividades de aprendizaje utilizando Calculadora **Casio 991 LA cw**\n",
    "     * Incluya también actividades de aprendizaje y modelación de situaciones o problemas reales a través de circuitos lógicos y circuitos digitales o electrónicos utilizando la aplicación portable cocodrilo. [Descarge esta aplicación portable aquí](https://crocodileclips.net/descargar-crocodile-clips/) \n",
    "     * Incluye actividades de aprendizaje utilizando lenguaje Python y Jupyter Notebook.   \n",
    "\n",
    "8. Incluye una canción o un poema que ayude a interiorizar y fijar los conceptos asociados a esta clase.  \n",
    "\n",
    "9.  Tarea o actividades de ejercitación y fijación.  \n",
    "     * Diseña las tareas de tal manera que en cada ejercicio se realicen las siguientes cuatro preguntas:  \n",
    "        - ¿Por qué esta expresión representa el problema?\n",
    "        - ¿Qué pasaría si cambiamos este valor?\n",
    "        - ¿Hay otra manera de resolverlo?\n",
    "        - ¿Cómo justificas que tu resultado es razonable? \n",
    "    \n",
    "10.  Evaluación incluyendo diez proyectos, un ejemplo de quiz y un ejemplo de parcial.  \n",
    "     * Diseña el quiz con preguntas, donde se pida al estudiante el mostrar la aplicación de las expresiones lógicas en contextos: \n",
    "       - Deportivos\n",
    "       - Cotidianos\n",
    "       - Matemáticas en teoría de números \n",
    "       - Matemáticas en geometría euclidiana\n",
    "       - Matemática en Cálculo Diferencial.\n",
    "       - Económicos. \n",
    "     * Actividad de desarrollo de habilidades metacognitivas para hacernos consientes de nuestro propio proceso de aprendizaje y de la importancia de la evaluación continua.\n",
    "\n",
    "11.  Diseño de actividad de retroalimentación.  \n",
    "      \n",
    "12.  Dame un vocabulario y frases del idioma inglés asociadas a esta clase.   \n",
    "    \n",
    "13.  Incluye apéndice para la clase sobre desarrollo de habilidades para trabajar en equipo y de asertividad y empatía para relacionarnos. También elementos de la inteligencia emocional para presentar pruebas sin temor y desarrollar habilidades metacognitivas.   \n",
    "      \n",
    "14. Incluye 10 referentes en didáctica de la matemática que estén de acuerdo a la propuesta didáctica de esta clase. Adiciona a estos referentes a Raymond Duval (Representaciones y cambios de representación para la adquisición de conceptos matemáticos) y a Jeannette Wing (Desarrollo del pensamiento computacional). Déjame todos estos referentes ordenados de acuerdo a las normas APA. Déjame todos estos referentes ordenados de acuerdo a las normas APA. Incluye las citaciones a estos referentes a medida que vallas diseñando la clase. \n",
    "\n",
    "\n",
    "Pero  que este diseño sea para que el estudiante pueda aprender experimentando en cuadernos Jupyter con funciones de usuario y animaciones y visualizaciones en Python. En particular utiliza para el diseño de clase a NumPy, Pandas, SymPy, Matplotlib.pyplot, Seaborn, Plotly, ipywidgets, matplotlib.animation y Jupyter Notebook.  \n",
    "Cuando vallas a utilizar SymPy, ten en cuanta la siguiente configuración: \n",
    "# Corrección y mejora del código\n",
    "from sympy import symbols, Equivalent\n",
    "from sympy.logic.boolalg import truth_table\n",
    "\n",
    "Cada vez que utilices `matplotlib.animacion` no olvides incluir el uso de `IPython. display` para la renderización de estas animaciones a través de Jupyter Notebook. No olvides darme los diseños de clase con las ecuaciones matemáticas delimitadas con signo de dólar $ para que VS Code si me renderice estas expresiones del lenguaje latex. Cuando vallas a utilizar ipywidgets ten en cuenta la siguiente importación inicial para garantizar que la visualización interactiva si se renderice en VS Code:                                                      \n",
    "import numpy as np\n",
    "import matplotlib.pyplot as plt\n",
    "import ipywidgets as widgets\n",
    "from IPython.display import display, clear_output\n",
    "from matplotlib.patches import Rectangle\n",
    "\n"
   ]
  },
  {
   "cell_type": "markdown",
   "id": "c62800e3",
   "metadata": {},
   "source": [
    "# Capítulo 3: Clasificación\n"
   ]
  },
  {
   "cell_type": "markdown",
   "id": "736a58d2",
   "metadata": {},
   "source": [
    "\n",
    "## Introducción\n",
    "En el Capítulo 1 mencioné que las tareas de aprendizaje supervisado más comunes son la regresión (predecir valores) y la clasificación (predecir clases). En el Capítulo 2 exploramos una tarea de regresión, prediciendo valores de vivienda, usando varios algoritmos como regresión lineal, árboles de decisión y bosques aleatorios (que se explicarán con más detalle en capítulos posteriores). Ahora volveremos nuestra atención a los sistemas de clasificación.\n"
   ]
  },
  {
   "cell_type": "markdown",
   "id": "13b5d5a1",
   "metadata": {},
   "source": [
    "\n",
    "## El conjunto de datos MNIST\n",
    "En este capítulo usaremos el conjunto de datos MNIST, que es un conjunto de 70,000 pequeñas imágenes de dígitos escritos a mano por estudiantes de secundaria y empleados de la Oficina del Censo de EE.UU. Cada imagen está etiquetada con el dígito que representa.\n",
    "\n",
    "Este conjunto ha sido estudiado tanto que a menudo se le llama el \"hola mundo\" del aprendizaje automático: cada vez que alguien crea un nuevo algoritmo de clasificación, siente curiosidad por ver cómo se desempeñará en MNIST, y cualquiera que aprenda aprendizaje automático aborda este conjunto de datos tarde o temprano.\n",
    "\n",
    "Scikit-Learn proporciona muchas funciones auxiliares para descargar conjuntos de datos populares. MNIST es uno de ellos. El siguiente código obtiene el conjunto de datos MNIST de OpenML.org:\n",
    "\n",
    "```python\n",
    "from sklearn.datasets import fetch_openml\n",
    "mnist = fetch_openml('mnist_784', as_frame=False)\n",
    "```\n",
    "\n",
    "El paquete `sklearn.datasets` contiene principalmente tres tipos de funciones:\n",
    "- Funciones `fetch_*` como `fetch_openml()` para descargar conjuntos de datos de la vida real.\n",
    "- Funciones `load_*` para cargar pequeños conjuntos de datos de juguete incluidos con Scikit-Learn.\n",
    "- Funciones `make_*` para generar conjuntos de datos falsos, útiles para pruebas.\n",
    "\n",
    "Los conjuntos de datos generados generalmente se devuelven como una tupla `(X, y)` que contiene los datos de entrada y los objetivos, ambos como arrays de NumPy. Otros conjuntos de datos se devuelven como objetos `sklearn.utils.Bunch`, que son diccionarios cuyas entradas también se pueden acceder como atributos.\n",
    "\n",
    "La función `fetch_openml()` es un poco inusual porque, por defecto, devuelve las entradas como un DataFrame de Pandas y las etiquetas como una Serie de Pandas (a menos que el conjunto de datos sea disperso). Pero el conjunto de datos MNIST contiene imágenes, y los DataFrames no son ideales para eso, por lo que es preferible establecer `as_frame=False` para obtener los datos como arrays de NumPy.\n",
    "\n",
    "Veamos estos arrays:\n",
    "\n",
    "```python\n",
    "X, y = mnist.data, mnist.target\n",
    "print(X.shape)  # (70000, 784)\n",
    "print(y.shape)  # (70000,)\n",
    "```\n",
    "\n",
    "Hay 70,000 imágenes, y cada imagen tiene 784 características. Esto se debe a que cada imagen es de 28 × 28 píxeles, y cada característica simplemente representa la intensidad de un píxel, de 0 (blanco) a 255 (negro).\n",
    "\n",
    "Echemos un vistazo a un dígito del conjunto de datos. Todo lo que necesitamos hacer es tomar el vector de características de una instancia, remodelarlo a un array de 28 × 28 y mostrarlo usando la función `imshow()` de Matplotlib:\n",
    "\n",
    "```python\n",
    "import matplotlib.pyplot as plt\n",
    "\n",
    "def plot_digit(image_data):\n",
    "    image = image_data.reshape(28, 28)\n",
    "    plt.imshow(image, cmap=\"binary\")\n",
    "    plt.axis(\"off\")\n",
    "\n",
    "some_digit = X[0]\n",
    "plot_digit(some_digit)\n",
    "plt.show()\n",
    "```\n",
    "\n",
    "Esto parece un 5, y de hecho eso es lo que nos dice la etiqueta:\n",
    "\n",
    "```python\n",
    "print(y[0])  # '5'\n",
    "```\n",
    "\n",
    "El conjunto de datos MNIST devuelto por `fetch_openml()` ya está dividido en un conjunto de entrenamiento (las primeras 60,000 imágenes) y un conjunto de prueba (las últimas 10,000 imágenes):\n",
    "\n",
    "```python\n",
    "X_train, X_test, y_train, y_test = X[:60000], X[60000:], y[:60000], y[60000:]\n",
    "```\n",
    "\n",
    "## Entrenando un Clasificador Binario\n",
    "Simplifiquemos el problema por ahora e intentemos identificar solo un dígito, por ejemplo, el número 5. Este \"detector de 5\" será un ejemplo de un clasificador binario, capaz de distinguir entre solo dos clases: 5 y no-5.\n",
    "\n",
    "Primero crearemos los vectores objetivo para esta tarea de clasificación:\n",
    "\n",
    "```python\n",
    "y_train_5 = (y_train == '5')  # True para todos los 5s, False para otros dígitos\n",
    "y_test_5 = (y_test == '5')\n",
    "```\n",
    "\n",
    "Ahora elijamos un clasificador y entrenémoslo. Un buen punto de partida es con un clasificador de descenso de gradiente estocástico (SGD), usando la clase `SGDClassifier` de Scikit-Learn:\n",
    "\n",
    "```python\n",
    "from sklearn.linear_model import SGDClassifier\n",
    "\n",
    "sgd_clf = SGDClassifier(random_state=42)\n",
    "sgd_clf.fit(X_train, y_train_5)\n",
    "```\n",
    "\n",
    "Ahora podemos usarlo para detectar imágenes del número 5:\n",
    "\n",
    "```python\n",
    "sgd_clf.predict([some_digit])  # Devuelve array([True])\n",
    "```\n",
    "\n",
    "## Medidas de Rendimiento\n",
    "Evaluar un clasificador es a menudo significativamente más complicado que evaluar un regresor, por lo que dedicaremos una gran parte de este capítulo a este tema.\n",
    "\n",
    "### Medición de la Precisión Usando Validación Cruzada\n",
    "Una buena manera de evaluar un modelo es usar validación cruzada. Usemos la función `cross_val_score()` para evaluar nuestro modelo `SGDClassifier`, usando validación cruzada k-fold con tres particiones:\n",
    "\n",
    "```python\n",
    "from sklearn.model_selection import cross_val_score\n",
    "\n",
    "cross_val_score(sgd_clf, X_train, y_train_5, cv=3, scoring=\"accuracy\")\n",
    "# Devuelve array([0.95035, 0.96035, 0.9604])\n",
    "```\n",
    "\n",
    "¡Más del 95% de precisión! Pero antes de emocionarnos demasiado, veamos un clasificador ficticio que solo clasifica cada imagen en la clase más frecuente, que en este caso es la clase negativa (no-5):\n",
    "\n",
    "```python\n",
    "from sklearn.dummy import DummyClassifier\n",
    "\n",
    "dummy_clf = DummyClassifier()\n",
    "dummy_clf.fit(X_train, y_train_5)\n",
    "print(any(dummy_clf.predict(X_train)))  # Imprime False: no se detectaron 5s\n",
    "\n",
    "cross_val_score(dummy_clf, X_train, y_train_5, cv=3, scoring=\"accuracy\")\n",
    "# Devuelve array([0.90965, 0.90965, 0.90965])\n",
    "```\n",
    "\n",
    "¡Tiene más del 90% de precisión! Esto se debe simplemente a que solo alrededor del 10% de las imágenes son 5s. Esto demuestra por qué la precisión generalmente no es la medida de rendimiento preferida para clasificadores, especialmente cuando se trata de conjuntos de datos desequilibrados.\n",
    "\n",
    "### Matrices de Confusión\n",
    "Una mejor manera de evaluar el rendimiento de un clasificador es mirar la matriz de confusión. Para calcularla, primero necesitamos un conjunto de predicciones para comparar con los objetivos reales. Podemos usar la función `cross_val_predict()`:\n",
    "\n",
    "```python\n",
    "from sklearn.model_selection import cross_val_predict\n",
    "\n",
    "y_train_pred = cross_val_predict(sgd_clf, X_train, y_train_5, cv=3)\n",
    "```\n",
    "\n",
    "Ahora podemos obtener la matriz de confusión:\n",
    "\n",
    "```python\n",
    "from sklearn.metrics import confusion_matrix\n",
    "\n",
    "cm = confusion_matrix(y_train_5, y_train_pred)\n",
    "print(cm)\n",
    "# array([[53892,   687],\n",
    "#        [ 1891,  3530]])\n",
    "```\n",
    "\n",
    "Cada fila en una matriz de confusión representa una clase real, mientras que cada columna representa una clase predicha.\n",
    "\n",
    "### Precisión y Exhaustividad\n",
    "La matriz de confusión proporciona mucha información, pero a veces puede preferirse una métrica más concisa. Una interesante es la precisión de las predicciones positivas, llamada precisión del clasificador:\n",
    "\n",
    "```python\n",
    "from sklearn.metrics import precision_score, recall_score\n",
    "\n",
    "precision = precision_score(y_train_5, y_train_pred)  # 3530 / (3530 + 687)\n",
    "recall = recall_score(y_train_5, y_train_pred)       # 3530 / (3530 + 1891)\n",
    "```\n",
    "\n",
    "Es conveniente combinar la precisión y la exhaustividad en una sola métrica llamada puntuación F₁, que es la media armónica de la precisión y la exhaustividad:\n",
    "\n",
    "```python\n",
    "from sklearn.metrics import f1_score\n",
    "\n",
    "f1_score(y_train_5, y_train_pred)\n",
    "```\n",
    "\n",
    "## Conclusión\n",
    "Este capítulo introdujo los conceptos fundamentales de clasificación utilizando el conjunto de datos MNIST como ejemplo. Cubrimos desde la carga y exploración de datos hasta el entrenamiento de un clasificador binario y la evaluación de su rendimiento usando diversas métricas."
   ]
  },
  {
   "cell_type": "markdown",
   "id": "f916feb9",
   "metadata": {},
   "source": [
    "# Sobre la lectuta interactiva y experimental "
   ]
  },
  {
   "cell_type": "markdown",
   "id": "3cac948a",
   "metadata": {},
   "source": [
    "La **lectura interactiva y experimental** de los cuadernos Jupyter diseñados para el curso de **Fundamentos de Lógica** implica un enfoque dinámico y práctico para el aprendizaje, donde los estudiantes no solo consumen información teórica, sino que también interactúan con el contenido, modifican ejemplos, ejecutan código y experimentan con los conceptos lógicos en un entorno computacional. A continuación, se detallan las características clave de este enfoque:\n",
    "\n",
    "---\n"
   ]
  },
  {
   "cell_type": "markdown",
   "id": "bab6c6f9",
   "metadata": {},
   "source": [
    "\n",
    "### **1. Lectura Interactiva**  \n",
    "- **Manipulación directa del contenido**: Los estudiantes pueden ejecutar celdas de código, modificar fórmulas lógicas o ejemplos, y observar cómo cambian los resultados en tiempo real.  \n",
    "- **Visualización interactiva**: Uso de gráficos, diagramas (como árboles semánticos o tablas de verdad) o herramientas que respondan a entradas del usuario para ilustrar conceptos como validez, consistencia o inferencia.  \n",
    "- **Retroalimentación inmediata**: Los cuadernos pueden incluir ejercicios con autoevaluación (ejecutando código que verifica soluciones) o explicaciones emergentes al resolver problemas.  \n",
    "\n",
    "---\n"
   ]
  },
  {
   "cell_type": "markdown",
   "id": "05442fd7",
   "metadata": {},
   "source": [
    "\n",
    "### **2. Lectura Experimental**  \n",
    "- **Aprendizaje basado en prueba y error**: Los estudiantes pueden \"jugar\" con estructuras lógicas (por ejemplo, modificar conectores en una fórmula proposicional y ver cómo afecta su tabla de verdad).  \n",
    "- **Simulación de escenarios**: Por ejemplo, modelar argumentos en lógica de primer orden y evaluar su corrección mediante ejecución de código (usando librerías como `sympy` o herramientas ad-hoc).  \n",
    "- **Exploración guiada y abierta**: Se incluyen secciones con consignas del tipo *\"¿Qué pasa si cambias este axioma?\"* o *\"Intenta construir un contraejemplo\"* para fomentar la curiosidad.  \n",
    "\n",
    "---\n"
   ]
  },
  {
   "cell_type": "markdown",
   "id": "374a8ea9",
   "metadata": {},
   "source": [
    "\n",
    "### **3. Componentes clave de los cuadernos**  \n",
    "- **Fragmentos de código ejecutable**: Para evaluar expresiones lógicas, automatizar pruebas o implementar algoritmos (ej: verificación de tautologías).  \n",
    "- **Celdas con texto teórico y preguntas reflexivas**: Integradas con ejemplos prácticos que requieren intervención activa (ej: *\"Define aquí tu propia fórmula y comprueba si es satisfacible\"*).  \n",
    "- **Enlaces a recursos externos**: Como demostradores en línea o lecturas complementarias para profundizar.  \n",
    "\n",
    "---\n"
   ]
  },
  {
   "cell_type": "markdown",
   "id": "c750af8a",
   "metadata": {},
   "source": [
    "\n",
    "### **4. Beneficios pedagógicos**  \n",
    "- **Enganche activo**: Combina teoría y práctica sin salir del entorno digital.  \n",
    "- **Personalización**: Los estudiantes pueden ajustar el ritmo y profundidad de su aprendizaje.  \n",
    "- **Preparación para aplicaciones reales**: Familiariza a los estudiantes con herramientas usadas en investigación (ej: Python para lógica simbólica).  \n",
    "\n",
    "---\n"
   ]
  },
  {
   "cell_type": "markdown",
   "id": "0602e6ee",
   "metadata": {},
   "source": [
    "\n",
    "### **Ejemplo concreto**  \n",
    "Un cuaderno podría incluir:  \n",
    "1. Una explicación de *modus ponens* con una fórmula predefinida (`p → q`, `p`, luego `q`).  \n",
    "2. Una celda interactiva donde el estudiante modifique `p` o `q` y observe cómo falla la regla si las premisas cambian.  \n",
    "3. Un ejercicio para programar un verificador de *modus ponens* usando diccionarios de Python.  \n"
   ]
  },
  {
   "cell_type": "markdown",
   "id": "70e1a505",
   "metadata": {},
   "source": [
    "\n",
    "Este enfoque transforma la lógica (a menudo abstracta) en una experiencia tangible y adaptable."
   ]
  },
  {
   "cell_type": "markdown",
   "id": "8396c0ed",
   "metadata": {},
   "source": [
    "# Presentación de la estructura de la clase  "
   ]
  },
  {
   "cell_type": "markdown",
   "id": "36bc2964",
   "metadata": {},
   "source": [
    "# Desarrollo de habilidades Metacognitivas en enseñanza con metodología IAE \n"
   ]
  },
  {
   "cell_type": "markdown",
   "id": "9c5cb582",
   "metadata": {},
   "source": [
    "\n",
    "Desarrollar habilidades metacognitivas en los estudiantes dentro de una **Investigación Acción Educativa (IAE)** implica un proceso cíclico de reflexión, acción y evaluación. Aquí te propongo una estrategia estructurada en fases, alineada con la IAE, para fomentar la metacognición:\n",
    "\n",
    "---\n"
   ]
  },
  {
   "cell_type": "markdown",
   "id": "42be70b3",
   "metadata": {},
   "source": [
    "\n",
    "### **1. Diagnóstico Inicial (Fase de Observación)**  \n",
    "- **Identifica el nivel metacognitivo actual**:  \n",
    "  - Realiza cuestionarios, entrevistas o actividades reflexivas (ej.: \"¿Cómo estudiaste para el último examen? ¿Qué te funcionó o no?\").  \n",
    "  - Observa si los estudiantes pueden explicar sus procesos de aprendizaje o identificar dificultades.  \n",
    "\n",
    "- **Registra evidencias**: Anota cómo los estudiantes planifican, monitorean y evalúan sus tareas (ej.: diarios de aprendizaje, grabaciones de debates).  \n",
    "\n",
    "---\n"
   ]
  },
  {
   "cell_type": "markdown",
   "id": "e252e7b1",
   "metadata": {},
   "source": [
    "\n",
    "### **2. Diseño de Intervenciones (Fase de Planificación)**"
   ]
  },
  {
   "cell_type": "markdown",
   "id": "4b036a02",
   "metadata": {},
   "source": [
    "  \n",
    "**a. Enseñanza explícita de estrategias metacognitivas**:  \n",
    "  - **Modelado**: Muestra cómo *tú* piensas al resolver un problema (\"Pensamiento en voz alta\"). Ejemplo:  \n",
    "    *\"Primero, voy a leer el objetivo de la clase. Luego, revisaré si entiendo los conceptos clave...\"*.  \n",
    "  - **Listas de verificación (checklists)**: Proporciona guías para autoevaluarse (ej.: \"¿Puedo explicar este tema con mis propias palabras?\").  \n"
   ]
  },
  {
   "cell_type": "markdown",
   "id": "1ba3c6a5",
   "metadata": {},
   "source": [
    "\n",
    "**b. Herramientas para la autorregulación**:  \n",
    "  - **Diarios de aprendizaje**: Pide que registren:  \n",
    "    - *\"¿Qué aprendí hoy?\"* (conocimiento).  \n",
    "    - *\"¿Cómo lo aprendí?\"* (proceso).  \n",
    "    - *\"¿Qué me falta por entender?\"* (brechas).  \n",
    "  - **Rúbricas de autoevaluación**: Incluye criterios como: *\"Puedo resolver ejercicios sin ayuda\"* o *\"Sé dónde buscar información confiable\"*.  \n",
    "\n",
    "**c. Espacios de reflexión colaborativa**:  \n",
    "  - **Debates metacognitivos**: En grupos, discuten: *\"¿Qué estrategia usamos? ¿Funcionó? ¿Por qué?\"*.  \n",
    "  - **Peer feedback**: Intercambian comentarios sobre sus procesos (ej.: \"Tú organizaste bien tus ideas, pero podrías revisar las fuentes\").  \n",
    "\n",
    "---\n"
   ]
  },
  {
   "cell_type": "markdown",
   "id": "0ed547ca",
   "metadata": {},
   "source": [
    "\n",
    "### **3. Implementación (Fase de Acción)**  \n",
    "- **Integra la metacognición en las actividades cotidianas**:  \n",
    "  - Antes de una tarea: *\"¿Qué sabes ya sobre este tema? ¿Cómo planeas abordarlo?\"*.  \n",
    "  - Durante la tarea: *\"¿Estás siguiendo tu plan? ¿Necesitas ajustarlo?\"*.  \n",
    "  - Después: *\"¿Lograste el objetivo? ¿Qué cambiarías la próxima vez?\"*.  \n",
    "- **Usa preguntas clave**:  \n",
    "  - *\"¿Qué parte fue más difícil? ¿Por qué?\"* (identificación de obstáculos).  \n",
    "  - *\"Si tuvieras que enseñarle esto a un compañero, ¿cómo lo harías?\"* (transferencia).  \n",
    "\n",
    "---\n",
    "\n",
    "### **4. Evaluación y Reflexión (Fase de Observación/Reflexión)**  \n",
    "- **Analiza el impacto**: Compara evidencias pre y post intervención (ej.: diarios, desempeño en tareas).  \n",
    "- **Reflexión grupal**: Realiza una sesión donde los estudiantes compartan:  \n",
    "  - *\"¿Qué estrategias metacognitivas les ayudaron más?\"*.  \n",
    "  - *\"¿Cómo se sintieron al gestionar su aprendizaje?\"*.  \n",
    "- **Ajusta la intervención**: Si notas que persisten dificultades, propón nuevas herramientas (ej.: mapas conceptuales para organizar ideas).  \n",
    "\n",
    "---\n",
    "\n",
    "### **5. Iteración (Ciclo de IAE)**  \n",
    "Repite el ciclo con ajustes basados en los hallazgos. Por ejemplo:  \n",
    "- Si los estudiantes no identifican errores, introduce actividades de *análisis de errores* (\"¿Por qué te equivocaste? ¿Cómo corregirlo?\").  \n",
    "- Si les cuesta planificar, usa herramientas visuales como *diagramas de flujo* para secuenciar pasos.  \n",
    "\n",
    "---\n",
    "\n",
    "### **Ejemplo Práctico**  \n",
    "**Situación**: Estudiantes no revisan sus errores en matemáticas.  \n",
    "- **Intervención**:  \n",
    "  1. **Modelado**: Resuelves un problema cometiendo un error adrede y muestras cómo detectarlo.  \n",
    "  2. **Checklist**: \"¿Revisé cada paso? ¿Mi respuesta tiene sentido?\".  \n",
    "  3. **Diario**: \"Hoy cometí un error en... Lo corregí cambiando...\".  \n",
    "\n",
    "---\n",
    "\n",
    "### **Claves para el Éxito**  \n",
    "- **Consistencia**: Integra la metacognición en todas las clases, no como actividad aislada.  \n",
    "- **Andamiaje**: Reduce gradualmente la guía del docente a medida que los estudiantes ganan autonomía.  \n",
    "- **Cultura de error**: Normaliza los errores como parte del aprendizaje (\"¿Qué podemos aprender de esto?\").  \n",
    "\n",
    "La metacognición no solo mejora el logro académico, sino que empodera a los estudiantes para ser aprendices autónomos y resilientes. En la IAE, este proceso se enriquece al ser colaborativo (docente-estudiantes) y basado en evidencia concreta.  \n",
    "\n",
    "¿Te gustaría profundizar en alguna herramienta específica o ajustar la estrategia a un nivel educativo en particular?"
   ]
  },
  {
   "cell_type": "markdown",
   "id": "239427f7",
   "metadata": {},
   "source": [
    "# Calendario Académico Semestre 2025-2  \n",
    "\n",
    "\n",
    "\n",
    "\n"
   ]
  },
  {
   "cell_type": "code",
   "execution_count": null,
   "id": "c804f8d3",
   "metadata": {},
   "outputs": [],
   "source": []
  },
  {
   "cell_type": "code",
   "execution_count": null,
   "id": "cc539357",
   "metadata": {},
   "outputs": [],
   "source": []
  },
  {
   "cell_type": "markdown",
   "id": "8ba64aed",
   "metadata": {},
   "source": [
    "# Cursos que orienta el profesor Marco Julio Cañas Campillo en 2025  \n",
    "\n",
    "1. Cálculo Vectorial para Ingeniería Agropecuaria\n",
    "2. Análisis Numérico para Licenciatura en Matemáticas. \n",
    "3. Práctica Pedagógica V para Licenciatura en Educación Infantil\n",
    "4. Fundamentos de Lógica para Licenciatura en Matemáticas \n"
   ]
  },
  {
   "cell_type": "markdown",
   "id": "8d41fe58",
   "metadata": {
    "slideshow": {
     "slide_type": "slide"
    }
   },
   "source": [
    "# Horario de clases del profesor Marco\n",
    "\n",
    "* Lunes 8-12: Cálculo Vectorial\n",
    "* Martes 8-12 M: Análisis Numérico. \n",
    "* Miércoles 10 a 11 M: Machine Learnig\n",
    "* Miércoles de 3 a 4 de la tarde: ARIMA\n",
    "* Jueves 2 a 6 PM: Práctica Pedagógica V: Desarrollo del pensamiento matemático en   \n",
    "  la infancia. \n",
    "* Viernes 8 - 12 M: Fundamentos de Lógica. \n",
    "* Sábados 8-12 Asesorías y espacio para retroalimentación y apoyo al trabajo independiente  \n",
    "  y desarrollo de habilidades metacognitivas. "
   ]
  },
  {
   "cell_type": "markdown",
   "id": "ae114e14",
   "metadata": {
    "slideshow": {
     "slide_type": "slide"
    }
   },
   "source": [
    "# Coordinador de los cursos de la Facultad de Educación para regiones:    \n",
    "\n",
    "Andrés Vélez: regioneducacion.fedu@udea.edu.co  \n",
    "Coordinador Regiones  \n",
    "Facultad de Educación  \n",
    "Universidad de Antioquia  "
   ]
  },
  {
   "cell_type": "markdown",
   "id": "b1db4b6c",
   "metadata": {
    "slideshow": {
     "slide_type": "slide"
    }
   },
   "source": [
    "## Monitores\n",
    "* Manuel San Juan Serrano: Contactar escribiendo al correo: manuel.serrano1@udea.edu.co\n",
    "* Yeifry Sebastián Uribe: Contactar escribiendo al correo: yeifry.uribe@udea.edu.co"
   ]
  },
  {
   "cell_type": "markdown",
   "id": "10bce0d0",
   "metadata": {
    "slideshow": {
     "slide_type": "slide"
    }
   },
   "source": [
    "## Referentes "
   ]
  },
  {
   "cell_type": "markdown",
   "id": "1db3c468",
   "metadata": {
    "slideshow": {
     "slide_type": "slide"
    }
   },
   "source": [
    "* [Jupyter Book de fundamentos_logica](file:///C:/Users/marco/Documentos/docencia/fundamentos_logica/fundamentos_logica_book/_build/html/index.html)\n",
    "\n",
    "\n",
    "* [Decargue Crocodile Clip aquí](https://crocodileclips.net/descargar-crocodile-clips/)\n",
    "\n",
    "* [Matemáticas discretas Una introducción abierta, 3ª edición](https://discrete.openmathbooks.org/dmoi3.html)  \n",
    "  \n",
    "* [Desarrollo del pensamiento matemático con calculadora Casio ](https://bibliotecadigital.udea.edu.co/entities/publication/17180405-9f1d-4800-aa7c-e6369779cece)\n",
    "\n",
    "* [CALCULO I DE UNA VARIABLE Ron Larson-Bruce Edwards. Mc Graw Hill. 9º Edición](https://www.academia.edu/42139251/CALCULO_I_DE_UNA_VARIABLE_Ron_Larson_Bruce_Edwards_Mc_Graw_Hill_9o_Edici%C3%B3n)   \n",
    "  \n",
    "\n",
    "* [Grajales Vanegas, L. M., Restrepo Estrada, C. E., Restrepo Ochoa, S. I., & Ruíz De Villalba, F. (2015). Matemáticas I para las ciencias económicas.](https://bibliotecadigital.udea.edu.co/handle/10495/3010)\n",
    "  \n",
    "* R. Duval y Semiosis y pensamiento humano, 2.ª ed. Cali, Colombia: Programa Editorial Universidad del Valle, 2017. [En línea]. Disponible en: https://programaeditorial.univalle.edu.co/gpd-semiosis-y-pensamiento-humano-9789587655278-63324cdb0f6b3.html\n",
    "\n",
    "* [Aylwin, C. U. (2011). Lógica, conjuntos y números. Universidad de los Andes, Consejo de Publicaciones, Colección: Ciencias Básicas, Serie: Matemáticas.](chrome-extension://efaidnbmnnnibpcajpcglclefindmkaj/https://www.u-cursos.cl/ciencias/2011/1/MC110/1/material_docente/bajar?id_material=574722)\n",
    "  \n",
    "* [Chollet, F. (2021). Deep learning with Python. Simon and Schuster.](chrome-extension://efaidnbmnnnibpcajpcglclefindmkaj/https://tanthiamhuat.wordpress.com/wp-content/uploads/2018/03/deeplearningwithpython.pdf)  \n",
    "  \n",
    "* [Watson, S., Stewart, J., & Redlin, L. (2009). Precálculo. Matemáticas para el cálculo.](chrome-extension://efaidnbmnnnibpcajpcglclefindmkaj/https://students.aiu.edu/submissions/profiles/resources/onlineBook/k6L8A3_precalculo_-_matematicas_para_el_calculo-1.pdf)  \n",
    "\n",
    "* [Purcell, E. J., Varberg, D., & Rigdon, S. E. (2007). Cálculo diferencial e integral. Pearson Educación.](https://github.com/marco-canas/calculo/blob/main/referents/purcell/purcell_calculo.pdf)\n",
    "\n",
    "  \n",
    "\n",
    "* [stewart cálculo](https://udeaeduco-my.sharepoint.com/:b:/g/personal/marco_canas_udea_edu_co/EZgXZjAp8QxPqOAim2hs6LcBNPLGjSHf-xwYnUVYkwa04w?e=RZdTCy)  \n",
    "\n",
    "\n",
    "* [Recomendación de la UNESCO sobre ciencia abierta](https://unesdoc.unesco.org/ark:/48223/pf0000379949_spa)\n",
    "\n",
    "* [chatGPT](https://openai.com/blog/chatgpt)  \n",
    "\n",
    "* [Géron, A. (2017). Hands-on machine learning with scikit-learn and tensorflow: Concepts. Tools, and Techniques to build intelligent systems.](chrome-extension://efaidnbmnnnibpcajpcglclefindmkaj/http://14.139.161.31/OddSem-0822-1122/Hands-On_Machine_Learning_with_Scikit-Learn-Keras-and-TensorFlow-2nd-Edition-Aurelien-Geron.pdf)   \n"
   ]
  },
  {
   "cell_type": "markdown",
   "id": "df925560",
   "metadata": {},
   "source": [
    "\n",
    "* [McKinney, W. (2012). Python for data analysis: Data wrangling with Pandas, NumPy, and IPython. \" O'Reilly Media, Inc.\".](https://wesmckinney.com/book/) "
   ]
  },
  {
   "cell_type": "markdown",
   "id": "8e65d6f9",
   "metadata": {},
   "source": [
    "# Como estudiante, encuentro que...   \n",
    "\n",
    "F: Mis Fortalezas son:     \n",
    "O: Mis Oportunidades son:    \n",
    "D: Mis Debilidades son:    \n",
    "A: Lo que Amenazas mi aprendizaje es:  "
   ]
  },
  {
   "cell_type": "markdown",
   "id": "6b9e56a8",
   "metadata": {
    "slideshow": {
     "slide_type": "slide"
    }
   },
   "source": [
    "### [Evaluamos al profesor Marco Cañas Aquí](https://forms.office.com/Pages/ResponsePage.aspx?id=IefhmYRxjkmK_7KtTlPBwkanXIs1i1FEujpsZgO6dXpUREJPV1kxUk1JV1ozTFJIQVNIQjY5WEY3US4u)"
   ]
  },
  {
   "cell_type": "markdown",
   "id": "10f43536",
   "metadata": {
    "slideshow": {
     "slide_type": "slide"
    }
   },
   "source": [
    "### Continue su aprendizaje en la siguiente clase a través del siguiente [vínculo]()"
   ]
  },
  {
   "cell_type": "markdown",
   "id": "53cc9115",
   "metadata": {
    "slideshow": {
     "slide_type": "slide"
    }
   },
   "source": [
    "## Agradecimientos  \n",
    "\n",
    "Doy gracias a Dios por la vida de mi Hijo Joseph Cañas Osorio y la madurez que ha alcanzado. Este hijo me enorgullece y me hace falta abrazarlo cada día. \n",
    "\n",
    "Y a mi esposa Yasmira Emperatriz Barboza Mogollón por su apoyo, orientación y acompañamiento. "
   ]
  }
 ],
 "metadata": {
  "celltoolbar": "Slideshow",
  "kernelspec": {
   "display_name": ".venv",
   "language": "python",
   "name": "python3"
  },
  "language_info": {
   "codemirror_mode": {
    "name": "ipython",
    "version": 3
   },
   "file_extension": ".py",
   "mimetype": "text/x-python",
   "name": "python",
   "nbconvert_exporter": "python",
   "pygments_lexer": "ipython3",
   "version": "3.11.9"
  },
  "rise": {
   "enable_chalkboard": true,
   "theme": "sky",
   "transition": "zoom"
  }
 },
 "nbformat": 4,
 "nbformat_minor": 5
}
