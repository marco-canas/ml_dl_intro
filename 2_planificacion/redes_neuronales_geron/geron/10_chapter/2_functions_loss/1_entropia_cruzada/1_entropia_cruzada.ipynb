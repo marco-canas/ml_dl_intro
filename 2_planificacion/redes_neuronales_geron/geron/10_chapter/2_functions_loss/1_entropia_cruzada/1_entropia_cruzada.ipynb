{
 "cells": [
  {
   "cell_type": "markdown",
   "id": "dc06dec7",
   "metadata": {
    "slideshow": {
     "slide_type": "slide"
    }
   },
   "source": [
    "<table align=\"left\">\n",
    "  <td>\n",
    "    <a href=\"https://colab.research.google.com/github/ageron/handson-ml3/blob/main/tools_numpy.ipynb\" target=\"_parent\"><img src=\"https://colab.research.google.com/assets/colab-badge.svg\" alt=\"Open In Colab\"/></a>\n",
    "  </td>\n",
    "  <td>\n",
    "    <a target=\"_blank\" href=\"https://kaggle.com/kernels/welcome?src=https://github.com/ageron/handson-ml3/blob/main/tools_numpy.ipynb\"><img src=\"https://kaggle.com/static/images/open-in-kaggle.svg\" /></a>\n",
    "  </td>\n",
    "</table>"
   ]
  },
  {
   "cell_type": "markdown",
   "id": "e0c5b198",
   "metadata": {
    "slideshow": {
     "slide_type": "slide"
    }
   },
   "source": [
    "### [Video de apoyo a la lectura interactiva y experimental de este cuaderno]()"
   ]
  },
  {
   "cell_type": "markdown",
   "id": "41e82203",
   "metadata": {
    "slideshow": {
     "slide_type": "slide"
    }
   },
   "source": [
    "### [Vínculo al programa del curso:  ]()\n",
    "\n"
   ]
  },
  {
   "cell_type": "markdown",
   "id": "d11ab06d",
   "metadata": {
    "slideshow": {
     "slide_type": "slide"
    }
   },
   "source": [
    "Un reconocimiento a mis estudiantes que han construido conmigo este saber pedagógico:\n",
    "\n",
    "<img src = ''> \n",
    "\n"
   ]
  },
  {
   "cell_type": "markdown",
   "id": "8a74a56c-0ce6-4ad6-b985-553fd7fb68bb",
   "metadata": {},
   "source": [
    "# Reconocimiento a las profesoras destacadas en enseñanza de la matemática en Colombia  \n",
    "\n",
    "Esta es una lista de **20 mujeres destacadas** por sus contribuciones a la **enseñanza, investigación y divulgación de la lógica y la teoría de conjuntos**, en contextos tanto matemáticos como filosóficos y computacionales. La lista incluye académicas históricas y contemporáneas, de diferentes partes del mundo.\n",
    "\n",
    "---\n"
   ]
  },
  {
   "cell_type": "markdown",
   "id": "d18b126a",
   "metadata": {},
   "source": [
    "\n",
    "### 📘 **Mujeres destacadas en lógica y teoría de conjuntos**\n",
    "\n",
    "| # | Nombre | País | Aportes principales |\n",
    "|---|--------|------|---------------------|\n",
    "| 1. | **Christine Ladd-Franklin** | EE.UU. | Primera mujer en formular trabajos en lógica simbólica y álgebra booleana. Alumna de Peirce. |\n",
    "| 2. | **Emilie du Châtelet** | Francia | Precursora del pensamiento racional en matemáticas, influenció la lógica natural. |\n",
    "| 3. | **Ruth Barcan Marcus** | EE.UU. | Fundadora de la lógica modal cuantificacional; creadora de las fórmulas de Barcan. |\n",
    "| 4. | **Julia Robinson** | EE.UU. | Trabajó en lógica matemática, teoría de la decisión y problemas de Hilbert. |\n",
    "| 5. | **Anne Troelstra** (en colaboración con L.E.J. Brouwer) | Países Bajos | Contribuyó a la lógica intuicionista y constructiva. |\n",
    "| 6. | **Dorothy Edgington** | Reino Unido | Importante en semántica de condicionales y lógica filosófica. |\n",
    "| 7. | **Valeria de Paiva** | Brasil / Reino Unido | Investigadora en lógica categórica y lógica en ciencias computacionales. |\n",
    "| 8. | **Sara Negri** https://sites.google.com/view/saranegri/home | Finlandia / Italia | Especialista en teoría de demostraciones y lógica formal. |\n",
    "| 9. | **Mária Kaluszová** | Eslovaquia | Investigadora en lógica matemática, álgebra booleana y educación matemática. |\n",
    "| 10. | **Louise McNally** | EE.UU. / España | Ha trabajado en semántica formal y lógica del lenguaje natural. |\n",
    "| 11. | **Juliet Floyd** | EE.UU. | Historiadora de la lógica y el pensamiento de Gödel, Turing y Wittgenstein. |\n",
    "| 12. | **Dagmar Sattler-Klein** | Alemania | Contribuciones a la lógica computacional y educación en matemáticas. |\n",
    "| 13. | **Penelope Maddy** | EE.UU. | Filósofa de la matemática, especializada en teoría de conjuntos y realismo matemático. |\n",
    "| 14. | **Anil Nerode (con tribuciones compartidas con su esposa, Lois Nerode)** | EE.UU. | Investigación conjunta en lógica y teoría de autómatas. |\n",
    "| 15. | **Joan Moschovakis** | EE.UU. | Investigadora en lógica intuicionista, teoría de funciones recursivas. |\n",
    "| 16. | **Phoebe McLaughlin** | Australia | Enseñanza de lógica matemática y computacional. |\n",
    "| 17. | **Francesca Poggiolesi** | Francia | Especialista en lógica subestructural, demostraciones, y epistemología formal. |\n",
    "| 18. | **Helena Rasiowa** | Polonia | Autora influyente en lógica algebraica y lógica matemática computacional. |\n",
    "| 19. | **Mary Tiles** | Reino Unido | Historiadora de la lógica y la teoría de conjuntos, enfocada en matemáticas del siglo XIX. |\n",
    "| 20. | **Barbara Partee** | EE.UU. | Lingüista y lógica; pionera en semántica formal y su aplicación al lenguaje natural. |\n",
    "\n",
    "---\n"
   ]
  },
  {
   "cell_type": "markdown",
   "id": "010e9b58",
   "metadata": {},
   "source": [
    "\n",
    "### 🧩 ¿Cómo utilizar esta lista en tu curso?\n",
    "\n",
    "Puedes:\n",
    "\n",
    "- Diseñar una **galería de mujeres en la lógica** en tu repositorio GitHub con biografías y recursos asociados.\n",
    "- Crear **actividades de lectura e investigación**, como mini-biografías o análisis de sus aportes.\n",
    "- Invitar a algunas (como Valeria de Paiva o Sara Negri) a encuentros virtuales.\n",
    "- Generar un **podcast o video de YouTube** titulado *“Mujeres que transformaron la lógica”* para tu canal *DiMathData*.\n",
    "\n",
    "---\n",
    "\n",
    "¿Quieres que te ayude a construir esa galería o una línea del tiempo interactiva con sus aportes?\n"
   ]
  },
  {
   "cell_type": "code",
   "execution_count": 1,
   "id": "b179a7ed",
   "metadata": {},
   "outputs": [
    {
     "ename": "FileNotFoundError",
     "evalue": "[Errno 2] No such file or directory: 'C:/Users/marco/Documentos/docencia/groups_list/ml_dl_intro.xlsx'",
     "output_type": "error",
     "traceback": [
      "\u001b[31m---------------------------------------------------------------------------\u001b[39m",
      "\u001b[31mFileNotFoundError\u001b[39m                         Traceback (most recent call last)",
      "\u001b[36mCell\u001b[39m\u001b[36m \u001b[39m\u001b[32mIn[1]\u001b[39m\u001b[32m, line 6\u001b[39m\n\u001b[32m      4\u001b[39m \u001b[38;5;66;03m# Cargar la lista de estudiantes desde el archivo CSV\u001b[39;00m\n\u001b[32m      5\u001b[39m path = \u001b[33m'\u001b[39m\u001b[33mC:/Users/marco/Documentos/docencia/groups_list/ml_dl_intro.xlsx\u001b[39m\u001b[33m'\u001b[39m\n\u001b[32m----> \u001b[39m\u001b[32m6\u001b[39m df = \u001b[43mpd\u001b[49m\u001b[43m.\u001b[49m\u001b[43mread_excel\u001b[49m\u001b[43m(\u001b[49m\u001b[43mpath\u001b[49m\u001b[43m)\u001b[49m\n\u001b[32m      8\u001b[39m df.head(\u001b[32m3\u001b[39m)\n",
      "\u001b[36mFile \u001b[39m\u001b[32mc:\\Users\\marco\\Documentos\\investigacion\\ml_intro\\.venv\\Lib\\site-packages\\pandas\\io\\excel\\_base.py:495\u001b[39m, in \u001b[36mread_excel\u001b[39m\u001b[34m(io, sheet_name, header, names, index_col, usecols, dtype, engine, converters, true_values, false_values, skiprows, nrows, na_values, keep_default_na, na_filter, verbose, parse_dates, date_parser, date_format, thousands, decimal, comment, skipfooter, storage_options, dtype_backend, engine_kwargs)\u001b[39m\n\u001b[32m    493\u001b[39m \u001b[38;5;28;01mif\u001b[39;00m \u001b[38;5;129;01mnot\u001b[39;00m \u001b[38;5;28misinstance\u001b[39m(io, ExcelFile):\n\u001b[32m    494\u001b[39m     should_close = \u001b[38;5;28;01mTrue\u001b[39;00m\n\u001b[32m--> \u001b[39m\u001b[32m495\u001b[39m     io = \u001b[43mExcelFile\u001b[49m\u001b[43m(\u001b[49m\n\u001b[32m    496\u001b[39m \u001b[43m        \u001b[49m\u001b[43mio\u001b[49m\u001b[43m,\u001b[49m\n\u001b[32m    497\u001b[39m \u001b[43m        \u001b[49m\u001b[43mstorage_options\u001b[49m\u001b[43m=\u001b[49m\u001b[43mstorage_options\u001b[49m\u001b[43m,\u001b[49m\n\u001b[32m    498\u001b[39m \u001b[43m        \u001b[49m\u001b[43mengine\u001b[49m\u001b[43m=\u001b[49m\u001b[43mengine\u001b[49m\u001b[43m,\u001b[49m\n\u001b[32m    499\u001b[39m \u001b[43m        \u001b[49m\u001b[43mengine_kwargs\u001b[49m\u001b[43m=\u001b[49m\u001b[43mengine_kwargs\u001b[49m\u001b[43m,\u001b[49m\n\u001b[32m    500\u001b[39m \u001b[43m    \u001b[49m\u001b[43m)\u001b[49m\n\u001b[32m    501\u001b[39m \u001b[38;5;28;01melif\u001b[39;00m engine \u001b[38;5;129;01mand\u001b[39;00m engine != io.engine:\n\u001b[32m    502\u001b[39m     \u001b[38;5;28;01mraise\u001b[39;00m \u001b[38;5;167;01mValueError\u001b[39;00m(\n\u001b[32m    503\u001b[39m         \u001b[33m\"\u001b[39m\u001b[33mEngine should not be specified when passing \u001b[39m\u001b[33m\"\u001b[39m\n\u001b[32m    504\u001b[39m         \u001b[33m\"\u001b[39m\u001b[33man ExcelFile - ExcelFile already has the engine set\u001b[39m\u001b[33m\"\u001b[39m\n\u001b[32m    505\u001b[39m     )\n",
      "\u001b[36mFile \u001b[39m\u001b[32mc:\\Users\\marco\\Documentos\\investigacion\\ml_intro\\.venv\\Lib\\site-packages\\pandas\\io\\excel\\_base.py:1550\u001b[39m, in \u001b[36mExcelFile.__init__\u001b[39m\u001b[34m(self, path_or_buffer, engine, storage_options, engine_kwargs)\u001b[39m\n\u001b[32m   1548\u001b[39m     ext = \u001b[33m\"\u001b[39m\u001b[33mxls\u001b[39m\u001b[33m\"\u001b[39m\n\u001b[32m   1549\u001b[39m \u001b[38;5;28;01melse\u001b[39;00m:\n\u001b[32m-> \u001b[39m\u001b[32m1550\u001b[39m     ext = \u001b[43minspect_excel_format\u001b[49m\u001b[43m(\u001b[49m\n\u001b[32m   1551\u001b[39m \u001b[43m        \u001b[49m\u001b[43mcontent_or_path\u001b[49m\u001b[43m=\u001b[49m\u001b[43mpath_or_buffer\u001b[49m\u001b[43m,\u001b[49m\u001b[43m \u001b[49m\u001b[43mstorage_options\u001b[49m\u001b[43m=\u001b[49m\u001b[43mstorage_options\u001b[49m\n\u001b[32m   1552\u001b[39m \u001b[43m    \u001b[49m\u001b[43m)\u001b[49m\n\u001b[32m   1553\u001b[39m     \u001b[38;5;28;01mif\u001b[39;00m ext \u001b[38;5;129;01mis\u001b[39;00m \u001b[38;5;28;01mNone\u001b[39;00m:\n\u001b[32m   1554\u001b[39m         \u001b[38;5;28;01mraise\u001b[39;00m \u001b[38;5;167;01mValueError\u001b[39;00m(\n\u001b[32m   1555\u001b[39m             \u001b[33m\"\u001b[39m\u001b[33mExcel file format cannot be determined, you must specify \u001b[39m\u001b[33m\"\u001b[39m\n\u001b[32m   1556\u001b[39m             \u001b[33m\"\u001b[39m\u001b[33man engine manually.\u001b[39m\u001b[33m\"\u001b[39m\n\u001b[32m   1557\u001b[39m         )\n",
      "\u001b[36mFile \u001b[39m\u001b[32mc:\\Users\\marco\\Documentos\\investigacion\\ml_intro\\.venv\\Lib\\site-packages\\pandas\\io\\excel\\_base.py:1402\u001b[39m, in \u001b[36minspect_excel_format\u001b[39m\u001b[34m(content_or_path, storage_options)\u001b[39m\n\u001b[32m   1399\u001b[39m \u001b[38;5;28;01mif\u001b[39;00m \u001b[38;5;28misinstance\u001b[39m(content_or_path, \u001b[38;5;28mbytes\u001b[39m):\n\u001b[32m   1400\u001b[39m     content_or_path = BytesIO(content_or_path)\n\u001b[32m-> \u001b[39m\u001b[32m1402\u001b[39m \u001b[38;5;28;01mwith\u001b[39;00m \u001b[43mget_handle\u001b[49m\u001b[43m(\u001b[49m\n\u001b[32m   1403\u001b[39m \u001b[43m    \u001b[49m\u001b[43mcontent_or_path\u001b[49m\u001b[43m,\u001b[49m\u001b[43m \u001b[49m\u001b[33;43m\"\u001b[39;49m\u001b[33;43mrb\u001b[39;49m\u001b[33;43m\"\u001b[39;49m\u001b[43m,\u001b[49m\u001b[43m \u001b[49m\u001b[43mstorage_options\u001b[49m\u001b[43m=\u001b[49m\u001b[43mstorage_options\u001b[49m\u001b[43m,\u001b[49m\u001b[43m \u001b[49m\u001b[43mis_text\u001b[49m\u001b[43m=\u001b[49m\u001b[38;5;28;43;01mFalse\u001b[39;49;00m\n\u001b[32m   1404\u001b[39m \u001b[43m\u001b[49m\u001b[43m)\u001b[49m \u001b[38;5;28;01mas\u001b[39;00m handle:\n\u001b[32m   1405\u001b[39m     stream = handle.handle\n\u001b[32m   1406\u001b[39m     stream.seek(\u001b[32m0\u001b[39m)\n",
      "\u001b[36mFile \u001b[39m\u001b[32mc:\\Users\\marco\\Documentos\\investigacion\\ml_intro\\.venv\\Lib\\site-packages\\pandas\\io\\common.py:882\u001b[39m, in \u001b[36mget_handle\u001b[39m\u001b[34m(path_or_buf, mode, encoding, compression, memory_map, is_text, errors, storage_options)\u001b[39m\n\u001b[32m    873\u001b[39m         handle = \u001b[38;5;28mopen\u001b[39m(\n\u001b[32m    874\u001b[39m             handle,\n\u001b[32m    875\u001b[39m             ioargs.mode,\n\u001b[32m   (...)\u001b[39m\u001b[32m    878\u001b[39m             newline=\u001b[33m\"\u001b[39m\u001b[33m\"\u001b[39m,\n\u001b[32m    879\u001b[39m         )\n\u001b[32m    880\u001b[39m     \u001b[38;5;28;01melse\u001b[39;00m:\n\u001b[32m    881\u001b[39m         \u001b[38;5;66;03m# Binary mode\u001b[39;00m\n\u001b[32m--> \u001b[39m\u001b[32m882\u001b[39m         handle = \u001b[38;5;28;43mopen\u001b[39;49m\u001b[43m(\u001b[49m\u001b[43mhandle\u001b[49m\u001b[43m,\u001b[49m\u001b[43m \u001b[49m\u001b[43mioargs\u001b[49m\u001b[43m.\u001b[49m\u001b[43mmode\u001b[49m\u001b[43m)\u001b[49m\n\u001b[32m    883\u001b[39m     handles.append(handle)\n\u001b[32m    885\u001b[39m \u001b[38;5;66;03m# Convert BytesIO or file objects passed with an encoding\u001b[39;00m\n",
      "\u001b[31mFileNotFoundError\u001b[39m: [Errno 2] No such file or directory: 'C:/Users/marco/Documentos/docencia/groups_list/ml_dl_intro.xlsx'"
     ]
    }
   ],
   "source": [
    "import pandas as pd\n",
    "import numpy as np\n",
    "\n",
    "# Cargar la lista de estudiantes desde el archivo CSV\n",
    "path = 'C:/Users/marco/Documentos/docencia/groups_list/ml_dl_intro.xlsx'\n",
    "df = pd.read_excel(path)\n",
    "\n",
    "df.head(3)"
   ]
  },
  {
   "cell_type": "markdown",
   "id": "d7598d0a-d9b7-4ae0-b029-a0ed6ed1130b",
   "metadata": {},
   "source": [
    "\n",
    "# Principios de mi labor docente"
   ]
  },
  {
   "cell_type": "markdown",
   "id": "4f9d8cf9",
   "metadata": {
    "slideshow": {
     "slide_type": "slide"
    }
   },
   "source": [
    "## Modelo general de clase: [aula invertida](https://www3.gobiernodecanarias.org/medusa/ecoescuela/pedagotic/aprendizaje-invertido-flipped-classroom/)"
   ]
  },
  {
   "cell_type": "markdown",
   "id": "eb6ed03a",
   "metadata": {},
   "source": [
    "<img src = 'https://resources.maneuveringthemiddle.com/wp-content/uploads/2020/07/04212706/1-5.png' width = 500>  \n",
    "\n"
   ]
  },
  {
   "cell_type": "markdown",
   "id": "34319cce-a71b-4f64-aab8-b53e521efa40",
   "metadata": {},
   "source": [
    "# Metodología de Aprendizaje Basado en Problemas y Proyectos (ABPP) \n"
   ]
  },
  {
   "cell_type": "markdown",
   "id": "c4f73d81",
   "metadata": {},
   "source": [
    "\n",
    "<img src = 'https://www.unir.net/wp-content/uploads/2020/07/aprendizaje-problemas2-1-1-1-1.jpeg' width = 500>"
   ]
  },
  {
   "cell_type": "markdown",
   "id": "841a985c-bd9b-4dd3-8e4c-893983980af2",
   "metadata": {},
   "source": [
    "# Desarrollo del pensamiento computacional con Lenguajes Python y R, y con archivos Markdown orientado a la formación en ciencia de datos \n",
    "\n"
   ]
  },
  {
   "cell_type": "markdown",
   "id": "3d0eba94",
   "metadata": {},
   "source": [
    "\n",
    "<img src = 'https://i.ytimg.com/vi/mcG_wcR4e6M/maxresdefault.jpg' width = 200>"
   ]
  },
  {
   "cell_type": "markdown",
   "id": "65aa0404-f7ae-495e-864c-1aec01b4255e",
   "metadata": {},
   "source": [
    "# Principio de fomento a la ciencia abierta, enseñar en el acceso a los datos públicos y el uso de software de código abierto  \n"
   ]
  },
  {
   "cell_type": "markdown",
   "id": "18ae9b87",
   "metadata": {},
   "source": [
    "\n",
    "<img src = 'https://unesdoc.unesco.org/in/rest/Thumb/image?id=p%3A%3Ausmarcdef_0000379949_spa&author=UNESCO&title=Recomendaci%C3%B3n+de+la+UNESCO+sobre+la+Ciencia+Abierta&year=2021&publisher=UNESCO&TypeOfDocument=UnescoPhysicalDocument&mat=PGD&ct=true&size=512&isPhysical=1' width = 200>"
   ]
  },
  {
   "cell_type": "markdown",
   "id": "d9559f85",
   "metadata": {},
   "source": [
    "El enfoque STEAMS en educación preescolar, primaria y secundaria es una extensión del enfoque STEM (Ciencia, Tecnología, Ingeniería y Matemáticas) y su variante STEAM, que incorpora el Arte. "
   ]
  },
  {
   "cell_type": "markdown",
   "id": "9d556584",
   "metadata": {},
   "source": [
    "En educación preescolar, primaria, secundaria y superior, se adapta a las diferentes etapas de desarrollo cognitivo y emocional de los estudiantes, promoviendo el aprendizaje activo y contextualizado.  \n"
   ]
  },
  {
   "cell_type": "markdown",
   "id": "0130ec1b",
   "metadata": {},
   "source": [
    "\n",
    "<img src = 'https://www.campuseducacion.com/blog/wp-content/uploads/2023/03/foto01-1.jpg' width = 200>"
   ]
  },
  {
   "cell_type": "markdown",
   "id": "9d15c10d-2c02-4158-9419-b1ed79b4c1ee",
   "metadata": {},
   "source": [
    "# Qué estamos haciendo por la internalización en esta clase y este curso  \n"
   ]
  },
  {
   "cell_type": "markdown",
   "id": "6e4feef2",
   "metadata": {},
   "source": [
    "Estas son mis acciones como docente de matemáticas en la Universidad de Antioquia con miras a la **internacionalización** de mi práctica docente y el desarrollo de competencias internacionales para mis estudiantes, ls cuales he estructurado con el siguiente enfoque:\n"
   ]
  },
  {
   "cell_type": "markdown",
   "id": "964d9de7-53ee-4255-9bcd-d8e6454f2993",
   "metadata": {},
   "source": [
    "### 1. **Visión Global en la Formación Académica**\n"
   ]
  },
  {
   "cell_type": "markdown",
   "id": "d9bdd3e2",
   "metadata": {},
   "source": [
    "   - **Competencias Internacionales**: Asegúrate de que el contenido de tus cursos fomente habilidades que sean reconocidas globalmente. "
   ]
  },
  {
   "cell_type": "markdown",
   "id": "47dad129",
   "metadata": {},
   "source": [
    "Al educar a los estudiantes en **Python, LaTeX, Markdown y Jupyter Notebooks** y en la **introducción a la ciencia de datos y técnicas de Machine Learning**, estás proporcionando competencias altamente demandadas en los sectores tecnológicos y académicos a nivel internacional.\n"
   ]
  },
  {
   "cell_type": "markdown",
   "id": "39b55206",
   "metadata": {},
   "source": [
    "   - **Relevancia de los Contenidos**: Destaca cómo los temas que enseñas, como el **desarrollo del pensamiento computacional** y la **ciencia de datos**, están alineados con las necesidades globales actuales en diversas industrias, desde la tecnología hasta las ciencias naturales y sociales.\n"
   ]
  },
  {
   "cell_type": "markdown",
   "id": "a054599e",
   "metadata": {},
   "source": [
    "   - **Referencias a Estándares Internacionales**: Puedes vincular tu enseñanza a estándares internacionales de competencias en programación y ciencia de datos (por ejemplo, frameworks del **IEEE, ACM**, y estándares de la **data science** o la **computación en la nube**)."
   ]
  },
  {
   "cell_type": "markdown",
   "id": "0f1d110c-3142-48fe-9e7d-5fbd9e8bb931",
   "metadata": {},
   "source": [
    "### 2. **Innovación Pedagógica con Enfoque Internacional**\n"
   ]
  },
  {
   "cell_type": "markdown",
   "id": "fae6ae34",
   "metadata": {},
   "source": [
    "   - **Aula Invertida y ABP**: Presenta cómo tu enfoque de **aula invertida** y **aprendizaje basado en problemas (ABP)** permite a los estudiantes trabajar de manera autónoma y colaborativa, lo que los prepara para escenarios laborales internacionales que requieren autoaprendizaje y habilidades de resolución de problemas en equipo.\n"
   ]
  },
  {
   "cell_type": "markdown",
   "id": "c83062d9",
   "metadata": {},
   "source": [
    "   - **Uso de Jupyter Notebooks**: El uso de **Jupyter Notebooks** en tus clases no solo facilita la **integración de código, matemáticas y texto**, sino que también es una plataforma utilizada globalmente en ambientes académicos y profesionales, lo que hace a tus estudiantes más competitivos internacionalmente."
   ]
  },
  {
   "cell_type": "markdown",
   "id": "960d52b7-03cd-4eb3-965e-5cdfeb7d9f8e",
   "metadata": {},
   "source": [
    "### 3. **Tecnología y Herramientas de Uso Global**\n"
   ]
  },
  {
   "cell_type": "markdown",
   "id": "4be7269f",
   "metadata": {},
   "source": [
    "   - **Lenguaje Python**: Python es uno de los lenguajes de programación más usados a nivel mundial, tanto en la academia como en la industria. "
   ]
  },
  {
   "cell_type": "markdown",
   "id": "a3abaac8",
   "metadata": {},
   "source": [
    "Al formar a tus estudiantes en Python para ciencia de datos y machine learning, los preparas para operar en entornos tecnológicos globales.\n"
   ]
  },
  {
   "cell_type": "markdown",
   "id": "102655af",
   "metadata": {},
   "source": [
    "   - **Herramientas de Ciencia Abierta**: Resalta cómo herramientas como **GitHub**, **Google Colab** y otras plataformas de código abierto están alineadas con el movimiento de **ciencia abierta**, el cual es internacionalmente reconocido y permite que los estudiantes colaboren y compartan proyectos a nivel global."
   ]
  },
  {
   "cell_type": "markdown",
   "id": "3b2ffa32-7a6f-4545-ba7b-c6a69f51109f",
   "metadata": {},
   "source": [
    "### 4. **Investigación y Publicaciones Internacionales**\n"
   ]
  },
  {
   "cell_type": "markdown",
   "id": "bdbf52a5",
   "metadata": {},
   "source": [
    "   - **Promoción de la Investigación**: Detalla cómo promueves que tus estudiantes participen en proyectos de **investigación aplicada**, con posibilidad de publicación en revistas internacionales. "
   ]
  },
  {
   "cell_type": "markdown",
   "id": "df13a52f",
   "metadata": {},
   "source": [
    "Esto contribuye a la reputación internacional de la Universidad de Antioquia.\n"
   ]
  },
  {
   "cell_type": "markdown",
   "id": "ea01fcbc",
   "metadata": {},
   "source": [
    "   - **Colaboraciones Internacionales**: Si has colaborado con investigadores de otras instituciones o universidades en el extranjero, menciona estos proyectos y cómo han enriquecido tu enseñanza y proporcionado a los estudiantes una visión más globalizada."
   ]
  },
  {
   "cell_type": "markdown",
   "id": "5d1e396e-aece-4bf7-9421-32fa7809eaf4",
   "metadata": {},
   "source": [
    "## 5. **Uso del Inglés para la Internacionalización**\n"
   ]
  },
  {
   "cell_type": "markdown",
   "id": "29cabf26",
   "metadata": {},
   "source": [
    "   - **Comunicación Científica en Inglés**: "
   ]
  },
  {
   "cell_type": "markdown",
   "id": "8ec53ff3",
   "metadata": {},
   "source": [
    "Fomentar el aprendizaje del inglés como lengua científica es clave para que tus estudiantes puedan acceder a publicaciones internacionales, conferencias, y material académico que no está disponible en español. "
   ]
  },
  {
   "cell_type": "markdown",
   "id": "12b4cdcf",
   "metadata": {},
   "source": [
    "Esto es esencial para que adquieran competencias que les permitan desempeñarse en cualquier contexto internacional.\n"
   ]
  },
  {
   "cell_type": "markdown",
   "id": "b831224f",
   "metadata": {},
   "source": [
    "   - **Material Bilingüe**: Al generar material educativo en Python, LaTeX y Markdown, considera ofrecer algunos de estos recursos en inglés, para que los estudiantes se familiaricen con el vocabulario técnico y científico internacional."
   ]
  },
  {
   "cell_type": "markdown",
   "id": "c6a8c3b0-426a-4692-a384-3065aea81c9a",
   "metadata": {},
   "source": [
    "### 6. **Certificaciones y Estándares Internacionales**\n"
   ]
  },
  {
   "cell_type": "markdown",
   "id": "b1f41da5",
   "metadata": {},
   "source": [
    "   - **Participación en Certificaciones Internacionales**: Impulsa que los estudiantes busquen certificaciones internacionales en Python o ciencia de datos (como las ofrecidas por **Coursera, edX,** o **Google**). "
   ]
  },
  {
   "cell_type": "markdown",
   "id": "0279b6b6",
   "metadata": {},
   "source": [
    "Estas certificaciones no solo validan sus competencias, sino que también incrementan el reconocimiento de la Universidad de Antioquia en el contexto internacional.\n"
   ]
  },
  {
   "cell_type": "markdown",
   "id": "7cc66317",
   "metadata": {},
   "source": [
    "   - **Alineación con Acreditaciones Internacionales**: Vincula tu trabajo docente con los estándares de acreditación y certificación que garantizan que la universidad siga siendo reconocida internacionalmente. "
   ]
  },
  {
   "cell_type": "markdown",
   "id": "116629e7",
   "metadata": {},
   "source": [
    "Puedes vincularte con organizaciones internacionales que promuevan la excelencia en la educación y tecnología, como **ABET** para la acreditación en ingeniería y ciencias computacionales."
   ]
  },
  {
   "cell_type": "markdown",
   "id": "65d3d9e1-ea84-43e0-8197-a2a9c9e21594",
   "metadata": {},
   "source": [
    "### 7. **Proyectos Abiertos y Ciencia Reproducible**\n"
   ]
  },
  {
   "cell_type": "markdown",
   "id": "f03f7b20",
   "metadata": {},
   "source": [
    "   - **GitHub y Open Science**: La utilización de **GitHub** para almacenar los proyectos y materiales de enseñanza en repositorios públicos permite que otros investigadores y educadores internacionales puedan revisar y replicar tu trabajo. "
   ]
  },
  {
   "cell_type": "markdown",
   "id": "b0d16f59",
   "metadata": {},
   "source": [
    "Esto contribuye a la creación de una red de colaboración científica abierta.\n"
   ]
  },
  {
   "cell_type": "markdown",
   "id": "7dd85589",
   "metadata": {},
   "source": [
    "   - **Transparencia y Reproducibilidad**: La ciencia de datos y machine learning están profundamente ligados a la reproducibilidad. "
   ]
  },
  {
   "cell_type": "markdown",
   "id": "386bb5bf",
   "metadata": {},
   "source": [
    "Asegura que tus estudiantes desarrollen prácticas de transparencia y documentación en la investigación, que son pilares en la comunidad científica global.\n"
   ]
  },
  {
   "cell_type": "markdown",
   "id": "215cb551",
   "metadata": {},
   "source": [
    "\n",
    "### 8. **Participación en Redes y Conferencias Internacionales**\n",
    "   - **Presentación en Conferencias Internacionales**: Destaca cómo tu participación en conferencias internacionales (como la **ASCOLFA** o eventos sobre educación en matemáticas) contribuye al prestigio de la universidad y permite que tus prácticas sean evaluadas y reconocidas a nivel global.\n"
   ]
  },
  {
   "cell_type": "markdown",
   "id": "cdf46e29",
   "metadata": {},
   "source": [
    "   - **Promoción de Estudiantes en Eventos Internacionales**: Impulsa la participación de tus estudiantes en competiciones internacionales de programación o hackathons, como los organizados por **Google**, **ACM** o **Kaggle**. "
   ]
  },
  {
   "cell_type": "markdown",
   "id": "482a7f87",
   "metadata": {},
   "source": [
    "Esto no solo desarrolla sus habilidades, sino que también visibiliza el talento de la Universidad de Antioquia a nivel global.\n",
    "\n",
    "---"
   ]
  },
  {
   "cell_type": "markdown",
   "id": "233294a4-1983-4641-a7ad-866825e02315",
   "metadata": {},
   "source": [
    "Con esta estrategia, presento mis acciones docentes en términos de competencias internacionales, innovación pedagógica, tecnología, investigación y participación en redes globales, asegurando que mi práctica esté alineada con los estándares internacionales y que tus estudiantes estén preparados para competir en contextos internacionales."
   ]
  },
  {
   "cell_type": "markdown",
   "id": "77da458b",
   "metadata": {},
   "source": [
    "### **Metodología de Enseñanza: Aprendizaje Basado en Problemas y Proyectos (ABPP)**\n"
   ]
  },
  {
   "cell_type": "markdown",
   "id": "c943d273",
   "metadata": {},
   "source": [
    "\n",
    "El **Aprendizaje Basado en Problemas y Proyectos (ABPP)** es una metodología educativa que integra los enfoques del **Aprendizaje Basado en Problemas (ABP)** y el **Aprendizaje Basado en Proyectos (PBL, por sus siglas en inglés)**. "
   ]
  },
  {
   "cell_type": "markdown",
   "id": "662c202f",
   "metadata": {},
   "source": [
    "Es especialmente útil para la formación de futuros docentes, ingenieros y administradores, ya que combina el desarrollo de habilidades prácticas con el pensamiento crítico y reflexivo. "
   ]
  },
  {
   "cell_type": "markdown",
   "id": "e33863e4",
   "metadata": {},
   "source": [
    "A continuación, se presenta una descripción adaptada a la enseñanza de las matemáticas en educación infantil, Licenciatura en Matemáticas, Ingeniería Agropecuaria y Administración de Empresas:\n",
    "\n",
    "---\n"
   ]
  },
  {
   "cell_type": "markdown",
   "id": "0eeba3f5",
   "metadata": {},
   "source": [
    "\n",
    "### **1. Fundamentos del ABPP**\n"
   ]
  },
  {
   "cell_type": "markdown",
   "id": "43a21c0b",
   "metadata": {},
   "source": [
    "El ABPP se basa en:\n",
    "- **Resolución de Problemas Reales:** Los estudiantes analizan y resuelven problemas auténticos relacionados con su área de formación, fomentando la aplicación práctica del conocimiento.\n"
   ]
  },
  {
   "cell_type": "markdown",
   "id": "ca0c81c7",
   "metadata": {},
   "source": [
    "- **Proyectos como Herramientas Integradoras:** Los proyectos permiten desarrollar habilidades interdisciplinarias y ofrecer soluciones concretas a los problemas planteados.\n",
    "- **Aprendizaje Activo:** Los estudiantes son responsables de su aprendizaje y participan activamente en el proceso de investigación, diseño y solución.\n",
    "\n",
    "---\n"
   ]
  },
  {
   "cell_type": "markdown",
   "id": "3728d010",
   "metadata": {},
   "source": [
    "\n",
    "### **2. Aplicación del ABPP en Áreas Específicas**\n",
    "\n",
    "#### **Educación Infantil (Licenciatura en Educación Infantil)**\n",
    "- **Enfoque:** Desarrollo del pensamiento matemático en la infancia desde contextos lúdicos, familiares y culturales.\n"
   ]
  },
  {
   "cell_type": "markdown",
   "id": "2cbb1bec",
   "metadata": {},
   "source": [
    "- **Problemas típicos:** \n"
   ]
  },
  {
   "cell_type": "markdown",
   "id": "c1ac0ffa",
   "metadata": {},
   "source": [
    "  - ¿Cómo enseñar los números naturales mediante actividades prácticas y juegos?\n",
    "  - ¿Qué estrategias pueden emplearse para abordar el concepto de cantidad en edades tempranas?\n",
    "- **Proyectos:** Diseño de secuencias didácticas que usen Python, Jupyter Notebooks y materiales manipulativos para enseñar matemáticas de forma interactiva.\n"
   ]
  },
  {
   "cell_type": "markdown",
   "id": "159661d2",
   "metadata": {},
   "source": [
    "- **Competencias desarrolladas:** \n",
    "  - Uso de herramientas tecnológicas para diseñar actividades educativas.\n",
    "  - Comprensión del desarrollo cognitivo infantil y su relación con las matemáticas.\n"
   ]
  },
  {
   "cell_type": "code",
   "execution_count": 2,
   "id": "0c673e3c",
   "metadata": {},
   "outputs": [],
   "source": [
    "# Gestión del guardado de imagenes  \n",
    "\n",
    "def save_fig(nombre_archivo_imagen):\n",
    "    import os \n",
    "    import matplotlib.pyplot as plt\n",
    "    ubicacion_para_imagenes = r\"C:/Users/marco/Downloads\"\n",
    "    imagen_path = os.path.join(ubicacion_para_imagenes, nombre_archivo_imagen)\n",
    "    plt.savefig(imagen_path, bbox_inches='tight')"
   ]
  },
  {
   "cell_type": "markdown",
   "id": "10e55ccf",
   "metadata": {},
   "source": [
    "# Prompt de diseño de clase: \n",
    "\n",
    "Dame, por favor, un diseño de clase, con el enfoque: STEAMS  y de aprendizaje basado en problemas y proyectos(ABPP) y Teoría de Registros de Representación Semiótica de Duval; sobre: **\"La función de entropía cruzada y su uso de clasificación con redes neuronales MPLs\"**, siguiendo la estructura:   \n",
    "\n",
    "1. Título de la clase   \n",
    "   \n",
    "2. Objetivo de aprendizaje e indicadores de logro de estos objetivos.   \n",
    "   Diseña la clase incluyendo objetivos de educación matemática basada en el pensamiento crítico.   \n",
    "\n",
    "3.  Un mapa conceptual que resuma la clase elaborado en Graphviz de python con nodos y edges de diferentes formas, colores y rellenos y renderizado en la siguiente ubicación: `\"C:/Users/marco/Downloads\"`. No olvides el parámetro `view = True` para el método `render()` de Graphviz. Para este mapa controla las superposiciones de los nodos con: graph [overlap=false]; // Elimina superposiciones (puede aumentar el espacio)\n",
    "graph [overlap=\"scalexy\"]; // Escala el gráfico para evitar overlaps\n",
    "graph [overlap=\"compress\"]; // Comprime el grafo sin overlaps   \n",
    "   \n",
    "4. Contenido de la clase    \n",
    "   \n",
    "5. Incluye una canción o un poema que ayude a interiorizar y fijar los conceptos asociados a esta clase.  \n",
    "   \n",
    "6. Dame elementos históricos y epistemológicos asociados a esta clase, pero contados como un cuento al estilo de un cuentero antioqueño en Colombia. Incluye imágenes de los protagonistas históricos de esta clase.   \n",
    "   \n",
    "7. Actividades de aprendizaje    \n",
    "     * Incluye actividades de aprendizaje utilizando lenguaje Python y Jupyter Notebook.   \n",
    "\n",
    "8. Incluye una canción o un poema que ayude a interiorizar y fijar los conceptos asociados a esta clase.  \n",
    "\n",
    "9.  Tarea o actividades de ejercitación y fijación.  \n",
    "     * Diseña las tareas de tal manera que en cada ejercicio se realicen las siguientes cuatro preguntas:  \n",
    "        - ¿Por qué esta expresión representa el problema?\n",
    "        - ¿Qué pasaría si cambiamos este valor?\n",
    "        - ¿Hay otra manera de resolverlo?\n",
    "        - ¿Cómo justificas que tu resultado es razonable? \n",
    "    \n",
    "10.  Evaluación incluyendo diez proyectos, un ejemplo de quiz y un ejemplo de parcial.  \n",
    "     * Diseña el quiz con preguntas, donde se pida al estudiante el mostrar la aplicación de las expresiones lógicas en contextos: \n",
    "       - Deportivos\n",
    "       - Cotidianos\n",
    "       - Matemáticas en teoría de números \n",
    "       - Matemáticas en geometría euclidiana\n",
    "       - Matemática en Cálculo Diferencial.\n",
    "       - Económicos. \n",
    "     * Actividad de desarrollo de habilidades metacognitivas para hacernos consientes de nuestro propio proceso de aprendizaje y de la importancia de la evaluación continua.\n",
    "\n",
    "11.  Diseño de actividad de retroalimentación.  \n",
    "      \n",
    "12.  Dame un vocabulario y frases del idioma inglés asociadas a esta clase.   \n",
    "    \n",
    "13.  Incluye apéndice para la clase sobre desarrollo de habilidades para trabajar en equipo y de asertividad y empatía para relacionarnos. También elementos de la inteligencia emocional para presentar pruebas sin temor y desarrollar habilidades metacognitivas.   \n",
    "      \n",
    "14. Incluye 10 referentes en didáctica de la matemática que estén de acuerdo a la propuesta didáctica de esta clase. Adiciona a estos referentes a Raymond Duval (Representaciones y cambios de representación para la adquisición de conceptos matemáticos) y a Jeannette Wing (Desarrollo del pensamiento computacional). Déjame todos estos referentes ordenados de acuerdo a las normas APA. Déjame todos estos referentes ordenados de acuerdo a las normas APA. Incluye las citaciones a estos referentes a medida que vallas diseñando la clase. \n",
    "\n",
    "\n",
    "Pero  que este diseño sea para que el estudiante pueda aprender experimentando en cuadernos Jupyter con funciones de usuario y animaciones y visualizaciones en Python. En particular utiliza para el diseño de clase a NumPy, Pandas, SymPy, Matplotlib.pyplot, Seaborn, Plotly, ipywidgets, matplotlib.animation y Jupyter Notebook.  \n",
    "Cuando vallas a utilizar SymPy, ten en cuanta la siguiente configuración: \n",
    "# Corrección y mejora del código\n",
    "from sympy import symbols, Equivalent\n",
    "from sympy.logic.boolalg import truth_table\n",
    "\n",
    "Cada vez que utilices `matplotlib.animacion` no olvides incluir el uso de `IPython. display` para la renderización de estas animaciones a través de Jupyter Notebook. No olvides darme los diseños de clase con las ecuaciones matemáticas delimitadas con signo de dólar $ para que VS Code si me renderice estas expresiones del lenguaje latex. Cuando vallas a utilizar ipywidgets ten en cuenta la siguiente importación inicial para garantizar que la visualización interactiva si se renderice en VS Code:                                                      \n",
    "import numpy as np\n",
    "import matplotlib.pyplot as plt\n",
    "import ipywidgets as widgets\n",
    "from IPython.display import display, clear_output\n",
    "from matplotlib.patches import Rectangle\n",
    "\n",
    "# Configuración inicial para visualización estática\n",
    "%matplotlib inline "
   ]
  },
  {
   "cell_type": "markdown",
   "id": "f916feb9",
   "metadata": {},
   "source": [
    "# Sobre la Lectura Interactiva y Experimental"
   ]
  },
  {
   "cell_type": "markdown",
   "id": "3cac948a",
   "metadata": {},
   "source": [
    "La **lectura interactiva y experimental** de los cuadernos Jupyter diseñados para el curso de **Introducción al Machine Learning y al Deep Learnig** implica un enfoque dinámico y práctico para el aprendizaje, donde los estudiantes no solo consumen información teórica, sino que también interactúan con el contenido, modifican ejemplos, ejecutan código y experimentan con los conceptos lógicos en un entorno computacional. "
   ]
  },
  {
   "cell_type": "markdown",
   "id": "5a1edc4d",
   "metadata": {},
   "source": [
    "A continuación, se detallan las características clave de este enfoque:\n",
    "\n",
    "\n"
   ]
  },
  {
   "cell_type": "markdown",
   "id": "bab6c6f9",
   "metadata": {},
   "source": [
    "\n",
    "### **1. Lectura Interactiva**  \n",
    "- **Manipulación directa del contenido**: Los estudiantes pueden ejecutar celdas de código, modificar fórmulas lógicas o ejemplos, y observar cómo cambian los resultados en tiempo real.  \n",
    "- **Visualización interactiva**: Uso de gráficos, diagramas (como árboles semánticos o tablas de verdad) o herramientas que respondan a entradas del usuario para ilustrar conceptos como validez, consistencia o inferencia.  \n",
    "- **Retroalimentación inmediata**: Los cuadernos pueden incluir ejercicios con autoevaluación (ejecutando código que verifica soluciones) o explicaciones emergentes al resolver problemas.  \n",
    "\n",
    "---\n"
   ]
  },
  {
   "cell_type": "markdown",
   "id": "05442fd7",
   "metadata": {},
   "source": [
    "\n",
    "### **2. Lectura Experimental**  \n",
    "- **Aprendizaje basado en prueba y error**: Los estudiantes pueden \"jugar\" con estructuras lógicas (por ejemplo, modificar conectores en una fórmula proposicional y ver cómo afecta su tabla de verdad).  \n"
   ]
  },
  {
   "cell_type": "markdown",
   "id": "4ea0e58b",
   "metadata": {},
   "source": [
    "- **Simulación de escenarios**: Por ejemplo, modelar argumentos en lógica de primer orden y evaluar su corrección mediante ejecución de código (usando librerías como `sympy` o herramientas ad-hoc).  \n",
    "- **Exploración guiada y abierta**: Se incluyen secciones con consignas del tipo *\"¿Qué pasa si cambias este axioma?\"* o *\"Intenta construir un contraejemplo\"* para fomentar la curiosidad.  \n",
    "\n",
    "\n"
   ]
  },
  {
   "cell_type": "markdown",
   "id": "374a8ea9",
   "metadata": {},
   "source": [
    "\n",
    "### **3. Componentes clave de los cuadernos**  \n",
    "- **Fragmentos de código ejecutable**: Para evaluar expresiones lógicas, automatizar pruebas o implementar algoritmos (ej: verificación de tautologías).  \n",
    "- **Celdas con texto teórico y preguntas reflexivas**: Integradas con ejemplos prácticos que requieren intervención activa (ej: *\"Define aquí tu propia fórmula y comprueba si es satisfacible\"*).  \n",
    "- **Enlaces a recursos externos**: Como demostradores en línea o lecturas complementarias para profundizar.  \n",
    "\n",
    "---\n"
   ]
  },
  {
   "cell_type": "markdown",
   "id": "c750af8a",
   "metadata": {},
   "source": [
    "\n",
    "### **4. Beneficios pedagógicos**  \n",
    "- **Enganche activo**: Combina teoría y práctica sin salir del entorno digital.  \n",
    "- **Personalización**: Los estudiantes pueden ajustar el ritmo y profundidad de su aprendizaje.  \n",
    "- **Preparación para aplicaciones reales**: Familiariza a los estudiantes con herramientas usadas en investigación (ej: Python para lógica simbólica).  \n",
    "\n",
    "---\n"
   ]
  },
  {
   "cell_type": "markdown",
   "id": "0602e6ee",
   "metadata": {},
   "source": [
    "\n",
    "### **Ejemplo concreto**  \n",
    "Un cuaderno podría incluir:  \n",
    "1. Una explicación de *modus ponens* con una fórmula predefinida (`p → q`, `p`, luego `q`).  \n",
    "2. Una celda interactiva donde el estudiante modifique `p` o `q` y observe cómo falla la regla si las premisas cambian.  \n",
    "3. Un ejercicio para programar un verificador de *modus ponens* usando diccionarios de Python.  \n"
   ]
  },
  {
   "cell_type": "markdown",
   "id": "70e1a505",
   "metadata": {},
   "source": [
    "\n",
    "Este enfoque transforma la lógica (a menudo abstracta) en una experiencia tangible y adaptable."
   ]
  },
  {
   "cell_type": "markdown",
   "id": "8396c0ed",
   "metadata": {},
   "source": [
    "# Presentación de la estructura de la clase  \n",
    "\n",
    "# Cross Entropy o Log Loss   \n",
    "\n",
    "\n",
    "# Diseño de Clase: \"La Función de Entropía Cruzada y su Uso en Clasificación con Redes Neuronales MLPs\"\n",
    "\n",
    "## 1. Título de la Clase\n",
    "**\"Entropía Cruzada: De la Termodinámica a las Redes Neuronales - Un Enfoque STEAM con ABPP\"**\n",
    "\n",
    "## 2. Objetivos de Aprendizaje e Indicadores de Logro\n",
    "\n",
    "**Objetivos principales:**\n",
    "- Comprender el concepto de entropía cruzada desde sus fundamentos matemáticos hasta su aplicación en redes neuronales\n",
    "- Diseñar e implementar una red neuronal MLP para clasificación utilizando entropía cruzada como función de pérdida\n",
    "- Analizar críticamente los resultados de clasificación y su relación con la teoría de información\n",
    "\n",
    "**Indicadores de logro:**\n",
    "- El estudiante puede explicar la relación entre entropía de Shannon y entropía cruzada\n",
    "- El estudiante implementa correctamente la función de entropía cruzada en Python\n",
    "- El estudiante analiza visualmente el comportamiento de la función durante el entrenamiento\n",
    "- El estudiante justifica matemáticamente la elección de esta función para problemas de clasificación\n",
    "\n",
    "**Objetivos de pensamiento crítico:**\n",
    "- Evaluar las limitaciones de la entropía cruzada en diferentes contextos de clasificación\n",
    "- Contrastar la entropía cruzada con otras funciones de pérdida\n",
    "- Argumentar sobre la importancia de las representaciones semióticas en el aprendizaje de conceptos matemáticos avanzados\n",
    "\n",
    "## 3. Mapa Conceptual (Graphviz)\n",
    "\n",
    "```python\n",
    "from graphviz import Digraph\n",
    "import os\n",
    "\n",
    "# Configuración para evitar superposiciones\n",
    "dot = Digraph(comment='Entropía Cruzada en MLPs', \n",
    "              graph_attr={'overlap': 'scalexy', 'splines': 'true', 'fontsize': '20', 'bgcolor': 'lightyellow'})\n",
    "\n",
    "# Nodos principales\n",
    "dot.node('A', 'Entropía Cruzada', shape='doubleoctagon', style='filled', fillcolor='#FF6B6B', fontcolor='white')\n",
    "dot.node('B', 'Teoría de Información', shape='ellipse', style='filled', fillcolor='#4ECDC4')\n",
    "dot.node('C', 'Redes Neuronales MLP', shape='box3d', style='filled', fillcolor='#45B7D1')\n",
    "dot.node('D', 'Clasificación', shape='component', style='filled', fillcolor='#FFBE0B')\n",
    "dot.node('E', 'Representaciones Semióticas', shape='note', style='filled', fillcolor='#A5DD9B')\n",
    "\n",
    "# Subnodos\n",
    "dot.node('B1', 'Entropía de Shannon', shape='ellipse', style='filled', fillcolor='#88D1CF')\n",
    "dot.node('B2', 'Divergencia Kullback-Leibler', shape='ellipse', style='filled', fillcolor='#88D1CF')\n",
    "dot.node('C1', 'Función de Pérdida', shape='box', style='filled', fillcolor='#A1D6E2')\n",
    "dot.node('C2', 'Backpropagation', shape='box', style='filled', fillcolor='#A1D6E2')\n",
    "dot.node('D1', 'Probabilidades Clase', shape='tab', style='filled', fillcolor='#FFD166')\n",
    "dot.node('D2', 'One-Hot Encoding', shape='tab', style='filled', fillcolor='#FFD166')\n",
    "dot.node('E1', 'Conversión Registros', shape='note', style='filled', fillcolor='#C1E8B7')\n",
    "dot.node('E2', 'Tratamiento Cognitivo', shape='note', style='filled', fillcolor='#C1E8B7')\n",
    "\n",
    "# Conexiones\n",
    "dot.edges(['AB', 'AC', 'AD', 'AE'])\n",
    "dot.edges(['BB1', 'BB2'])\n",
    "dot.edges(['CC1', 'CC2'])\n",
    "dot.edges(['DD1', 'DD2'])\n",
    "dot.edges(['EE1', 'EE2'])\n",
    "dot.edges(['B1A', 'B2A', 'C1A', 'C2A', 'D1A', 'D2A'])\n",
    "\n",
    "# Renderizar\n",
    "output_path = \"C:/Users/marco/Downloads/entropia_cruzada\"\n",
    "dot.render(output_path, view=True, format='png')\n",
    "```\n",
    "\n",
    "## 4. Contenido de la Clase\n",
    "\n",
    "### 4.1 Fundamentos Matemáticos\n",
    "- **Entropía de Shannon**: $H(p) = -\\sum_{i} p_i \\log(p_i)$\n",
    "- **Entropía Cruzada**: $H(p,q) = -\\sum_{i} p_i \\log(q_i)$\n",
    "- **Divergencia KL**: $D_{KL}(p||q) = H(p,q) - H(p)$\n",
    "\n",
    "### 4.2 Aplicación en MLPs\n",
    "```python\n",
    "import numpy as np\n",
    "\n",
    "def cross_entropy(y_true, y_pred, epsilon=1e-12):\n",
    "    y_pred = np.clip(y_pred, epsilon, 1. - epsilon)\n",
    "    return -np.sum(y_true * np.log(y_pred)) / y_pred.shape[0]\n",
    "```\n",
    "\n",
    "### 4.3 Visualización Interactiva\n",
    "```python\n",
    "import matplotlib.pyplot as plt\n",
    "from ipywidgets import interact\n",
    "%matplotlib inline\n",
    "\n",
    "@interact(p=(0.01, 0.99, 0.01))\n",
    "def plot_entropy(p=0.5):\n",
    "    q_values = np.linspace(0.01, 0.99, 100)\n",
    "    entropy = [-p*np.log(q) - (1-p)*np.log(1-q) for q in q_values]\n",
    "    \n",
    "    plt.figure(figsize=(10,6))\n",
    "    plt.plot(q_values, entropy, 'b-', linewidth=2)\n",
    "    plt.axvline(x=p, color='r', linestyle='--')\n",
    "    plt.title(f'Entropía Cruzada H(p={p}, q)')\n",
    "    plt.xlabel('q (Predicción)')\n",
    "    plt.ylabel('H(p,q)')\n",
    "    plt.grid(True)\n",
    "    plt.show()\n",
    "```\n",
    "\n",
    "## 5. Poema de Interiorización\n",
    "\n",
    "**\"El Canto de la Entropía\"**\n",
    "\n",
    "*En redes que aprenden con afán,*  \n",
    "*la entropía cruzada guiará,*  \n",
    "*la verdad (p) y lo que dan (q),*  \n",
    "*con logaritmos las unirá.*  \n",
    "\n",
    "*Cuando q a p se acerca,*  \n",
    "*el valor mínimo alcanzará,*  \n",
    "*mas si se aleja sin clemencia,*  \n",
    "*la pérdida crecerá.*  \n",
    "\n",
    "*En clasificación multiclase,*  \n",
    "*one-hot el target será,*  \n",
    "*y softmax en la última capa,*  \n",
    "*las probabilidades dará.*  \n",
    "\n",
    "*¡Oh función convexa y bella,*  \n",
    "*que el descenso guiará,*  \n",
    "*con gradientes que revelan,*  \n",
    "*el camino a la verdad!*\n",
    "\n",
    "## 6. Historia Epistemológica (Estilo Cuentero Antioqueño)\n",
    "\n",
    "*¡A ver, muchá, siéntense que les voy a contar una historia que hasta Claude Shannon se quitaría el sombrero!*\n",
    "\n",
    "*Érase una vez, en los albores del siglo XX, un señor llamado Ludwig Boltzmann (mirenlo ahí en la foto con su bigote de sabio) que andaba enredado con los gases y la termodinámica. Este hombre, medio despistado, se le ocurrió definir una cosa llamada entropía, que era como una medida del desorden. ¡Y vaya que lo desordenó todo!*\n",
    "\n",
    "*Pero luego llegó Claude Shannon (este otro de la foto con cara de haber descifrado el universo), en 1948, y dijo: \"¡Eso no es solo para gases, eso es información!\". Y así nació la teoría de la información, con su entropía que medía la incertidumbre en los mensajes.*\n",
    "\n",
    "*Los años pasaron y apareció Solomon Kullback con su amigo Richard Leibler, que eran como los matemáticos detectives, y dijeron: \"¿Y si comparamos dos distribuciones?\" ¡Pum! Nació la divergencia KL.*\n",
    "\n",
    "*Y cuando las redes neuronales empezaron a ponerse de moda, algún listo (que no se sabe bien quién fue, porque esto se lo inventaron entre varios) dijo: \"Oigan, ¿y si usamos la entropía cruzada para medir qué tan mal están aprendiendo estas redes?\". Y así fue como la entropía cruzada se convirtió en la reina de las funciones de pérdida en clasificación.*\n",
    "\n",
    "*¡Ahora resulta que lo que empezó midiendo el desorden en los gases termina midiendo el error en las redes neuronales! Eso es como decir que la receta de la abuela para hacer arepas termina usándose para construir un cohete espacial. ¡Cosas veredes, Sancho!*\n",
    "\n",
    "## 7. Actividades de Aprendizaje\n",
    "\n",
    "### Actividad 1: Implementación desde Cero\n",
    "```python\n",
    "class SimpleMLP:\n",
    "    def __init__(self, input_size, hidden_size, output_size):\n",
    "        self.W1 = np.random.randn(input_size, hidden_size)\n",
    "        self.b1 = np.zeros(hidden_size)\n",
    "        self.W2 = np.random.randn(hidden_size, output_size)\n",
    "        self.b2 = np.zeros(output_size)\n",
    "    \n",
    "    def forward(self, X):\n",
    "        self.z1 = np.dot(X, self.W1) + self.b1\n",
    "        self.a1 = np.tanh(self.z1)\n",
    "        self.z2 = np.dot(self.a1, self.W2) + self.b2\n",
    "        self.probs = self.softmax(self.z2)\n",
    "        return self.probs\n",
    "    \n",
    "    def softmax(self, x):\n",
    "        exps = np.exp(x - np.max(x, axis=1, keepdims=True))\n",
    "        return exps / np.sum(exps, axis=1, keepdims=True)\n",
    "    \n",
    "    def compute_loss(self, X, y):\n",
    "        probs = self.forward(X)\n",
    "        return cross_entropy(y, probs)\n",
    "```\n",
    "\n",
    "### Actividad 2: Visualización Animada\n",
    "```python\n",
    "from matplotlib.animation import FuncAnimation\n",
    "from IPython.display import HTML\n",
    "\n",
    "# Preparar datos\n",
    "np.random.seed(42)\n",
    "X = np.random.randn(100, 2)\n",
    "y = (X[:, 0] + X[:, 1] > 0).astype(int)\n",
    "y_onehot = np.eye(2)[y]\n",
    "\n",
    "# Configurar animación\n",
    "fig, ax = plt.subplots(figsize=(10, 6))\n",
    "ax.set_xlim(-3, 3)\n",
    "ax.set_ylim(-3, 3)\n",
    "scatter = ax.scatter(X[:, 0], X[:, 1], c=y, cmap='coolwarm')\n",
    "line, = ax.plot([], [], 'k-', lw=2)\n",
    "title = ax.set_title('Entrenamiento MLP - Epoca 0')\n",
    "\n",
    "def init():\n",
    "    line.set_data([], [])\n",
    "    return line, scatter, title\n",
    "\n",
    "def update(epoch):\n",
    "    # Entrenamiento simple (para demostración)\n",
    "    if epoch == 0:\n",
    "        return init()\n",
    "    \n",
    "    # Actualizar pesos (simplificado)\n",
    "    mlp.W1 += 0.01 * np.random.randn(*mlp.W1.shape)\n",
    "    mlp.W2 += 0.01 * np.random.randn(*mlp.W2.shape)\n",
    "    \n",
    "    # Predecir y visualizar\n",
    "    probs = mlp.forward(X)\n",
    "    preds = np.argmax(probs, axis=1)\n",
    "    scatter.set_array(preds)\n",
    "    \n",
    "    # Calcular frontera de decisión\n",
    "    xx, yy = np.meshgrid(np.linspace(-3, 3, 50), np.linspace(-3, 3, 50))\n",
    "    Z = mlp.forward(np.c_[xx.ravel(), yy.ravel()])\n",
    "    Z = np.argmax(Z, axis=1)\n",
    "    Z = Z.reshape(xx.shape)\n",
    "    \n",
    "    if 'contour' in update.__dict__:\n",
    "        for coll in update.contour.collections:\n",
    "            coll.remove()\n",
    "    update.contour = ax.contourf(xx, yy, Z, alpha=0.2, cmap='coolwarm')\n",
    "    \n",
    "    title.set_text(f'Entrenamiento MLP - Epoca {epoch}, Loss: {mlp.compute_loss(X, y_onehot):.4f}')\n",
    "    return line, scatter, title\n",
    "\n",
    "mlp = SimpleMLP(2, 4, 2)\n",
    "ani = FuncAnimation(fig, update, frames=50, init_func=init, blit=False, interval=200)\n",
    "HTML(ani.to_jshtml())\n",
    "```\n",
    "\n",
    "## 8. Tareas de Ejercitación\n",
    "\n",
    "**Tarea 1: Análisis Matemático**\n",
    "1. Dada $p = [0.8, 0.2]$ y $q = [0.7, 0.3]$, calcula:\n",
    "   - $H(p,q)$\n",
    "   - $D_{KL}(p||q)$\n",
    "   - ¿Por qué esta expresión representa el problema de clasificación?\n",
    "   - ¿Qué pasaría si q = [0.5, 0.5]? ¿Qué significa esto en el contexto de ML?\n",
    "   - ¿Hay otra manera de medir la discrepancia entre p y q?\n",
    "   - ¿Cómo justificas que tu resultado es razonable?\n",
    "\n",
    "**Tarea 2: Implementación Python**\n",
    "```python\n",
    "def binary_cross_entropy(y_true, y_pred):\n",
    "    # Implementar esta función\n",
    "    pass\n",
    "\n",
    "# Preguntas:\n",
    "# - ¿Por qué usamos np.clip en la implementación?\n",
    "# - ¿Qué pasa si algún y_pred es exactamente 0 o 1?\n",
    "# - ¿Hay otra forma de implementar esto numéricamente estable?\n",
    "# - ¿Cómo verificarías que tu implementación es correcta?\n",
    "```\n",
    "\n",
    "## 9. Evaluación\n",
    "\n",
    "**Proyectos sugeridos:**\n",
    "1. Comparación empírica de funciones de pérdida en MNIST\n",
    "2. Visualización interactiva de la superficie de pérdida\n",
    "3. Entrenamiento de MLP con diferentes optimizadores\n",
    "4. Análisis de overfitting usando entropía cruzada\n",
    "5. Implementación de regularización L2 con la pérdida\n",
    "6. Clasificación multiclase con entropía cruzada categórica\n",
    "7. Estudio del gradiente de la función de pérdida\n",
    "8. Aplicación a problemas médicos reales\n",
    "9. Análisis de sensibilidad a desbalance de clases\n",
    "10. Implementación en PyTorch/TensorFlow comparada con NumPy\n",
    "\n",
    "**Ejemplo de Quiz:**\n",
    "1. (Deportes) En un sistema de predicción de resultados deportivos, ¿cómo interpretarías una entropía cruzada alta?\n",
    "2. (Cotidiano) Al predecir el clima, ¿qué significa que la entropía cruzada entre las predicciones y la realidad sea baja?\n",
    "3. (Teoría de números) Para distribuciones uniformes discretas, ¿qué relación hay entre entropía cruzada y entropía?\n",
    "4. (Geometría) ¿Cómo se relaciona la divergencia KL con la \"distancia\" entre distribuciones?\n",
    "5. (Cálculo) Deriva el gradiente de la entropía cruzada respecto a las predicciones.\n",
    "6. (Económicos) En modelos de riesgo crediticio, ¿por qué es preferible la entropía cruzada sobre el error cuadrático?\n",
    "\n",
    "## 10. Retroalimentación\n",
    "\n",
    "**Estrategias:**\n",
    "- Rúbrica de evaluación con criterios claros\n",
    "- Sesión de \"preguntas desafiantes\" donde estudiantes explican conceptos\n",
    "- Análisis de errores comunes en implementaciones\n",
    "- Discusión grupal sobre interpretaciones erróneas\n",
    "- Taller de \"debugging\" de funciones de pérdida\n",
    "\n",
    "## 11. Vocabulario en Inglés\n",
    "\n",
    "**Términos clave:**\n",
    "- Cross-entropy loss\n",
    "- Softmax activation\n",
    "- Probability distribution\n",
    "- Information theory\n",
    "- Kullback-Leibler divergence\n",
    "- Neural network backpropagation\n",
    "- Gradient descent optimization\n",
    "- One-hot encoding\n",
    "- Convex function\n",
    "- Multiclass classification\n",
    "\n",
    "**Frases útiles:**\n",
    "- \"The cross-entropy measures the difference between two probability distributions\"\n",
    "- \"Minimizing the cross-entropy is equivalent to maximizing the likelihood\"\n",
    "- \"The gradient of the cross-entropy loss has a simple and elegant form\"\n",
    "- \"Softmax converts logits to probabilities\"\n",
    "- \"The loss surface is convex with respect to the output weights\"\n",
    "\n",
    "## 12. Apéndice: Habilidades Blandas\n",
    "\n",
    "**Trabajo en Equipo:**\n",
    "- Técnica \"Puzzle\" para enseñar diferentes aspectos de la entropía cruzada\n",
    "- Roles rotativos en proyectos (experto en matemáticas, codificador, visualizador)\n",
    "- Revisiones de código por pares con rúbricas claras\n",
    "\n",
    "**Inteligencia Emocional:**\n",
    "- Diario de aprendizaje: \"Mis batallas con el gradiente\"\n",
    "- Técnica \"El error es mi amigo\" para analizar fallas\n",
    "- Mindfulness antes de evaluaciones: \"Respira y confía en tu preparación\"\n",
    "\n",
    "## 13. Referentes Didácticos (APA)\n",
    "\n",
    "1. Duval, R. (2006). A cognitive analysis of problems of comprehension in a learning of mathematics. *Educational Studies in Mathematics*, 61(1-2), 103-131.\n",
    "\n",
    "2. Wing, J. M. (2006). Computational thinking. *Communications of the ACM*, 49(3), 33-35.\n",
    "\n",
    "3. Schoenfeld, A. H. (1985). *Mathematical problem solving*. Academic Press.\n",
    "\n",
    "4. Lesh, R., & Doerr, H. M. (2003). *Beyond constructivism: Models and modeling perspectives on mathematics problem solving, learning, and teaching*. Routledge.\n",
    "\n",
    "5. Boaler, J. (2016). *Mathematical mindsets: Unleashing students' potential through creative math, inspiring messages and innovative teaching*. John Wiley & Sons.\n",
    "\n",
    "6. Polya, G. (1945). *How to solve it*. Princeton University Press.\n",
    "\n",
    "7. Hiebert, J., & Carpenter, T. P. (1992). Learning and teaching with understanding. *Handbook of research on mathematics teaching and learning*, 65-97.\n",
    "\n",
    "8. Skemp, R. R. (1976). Relational understanding and instrumental understanding. *Mathematics teaching*, 77(1), 20-26.\n",
    "\n",
    "9. National Research Council. (2001). *Adding it up: Helping children learn mathematics*. National Academies Press."
   ]
  },
  {
   "cell_type": "markdown",
   "id": "36bc2964",
   "metadata": {},
   "source": [
    "# Desarrollo de habilidades Metacognitivas en enseñanza con metodología IAE \n"
   ]
  },
  {
   "cell_type": "markdown",
   "id": "9c5cb582",
   "metadata": {},
   "source": [
    "\n",
    "Desarrollar habilidades metacognitivas en los estudiantes dentro de una **Investigación Acción Educativa (IAE)** implica un proceso cíclico de reflexión, acción y evaluación. Aquí te propongo una estrategia estructurada en fases, alineada con la IAE, para fomentar la metacognición:\n",
    "\n",
    "---\n"
   ]
  },
  {
   "cell_type": "markdown",
   "id": "42be70b3",
   "metadata": {},
   "source": [
    "\n",
    "### **1. Diagnóstico Inicial (Fase de Observación)**  \n",
    "- **Identifica el nivel metacognitivo actual**:  \n",
    "  - Realiza cuestionarios, entrevistas o actividades reflexivas (ej.: \"¿Cómo estudiaste para el último examen? ¿Qué te funcionó o no?\").  \n",
    "  - Observa si los estudiantes pueden explicar sus procesos de aprendizaje o identificar dificultades.  \n",
    "\n",
    "- **Registra evidencias**: Anota cómo los estudiantes planifican, monitorean y evalúan sus tareas (ej.: diarios de aprendizaje, grabaciones de debates).  \n",
    "\n",
    "---\n"
   ]
  },
  {
   "cell_type": "markdown",
   "id": "e252e7b1",
   "metadata": {},
   "source": [
    "\n",
    "### **2. Diseño de Intervenciones (Fase de Planificación)**"
   ]
  },
  {
   "cell_type": "markdown",
   "id": "4b036a02",
   "metadata": {},
   "source": [
    "  \n",
    "**a. Enseñanza explícita de estrategias metacognitivas**:  \n",
    "  - **Modelado**: Muestra cómo *tú* piensas al resolver un problema (\"Pensamiento en voz alta\"). Ejemplo:  \n",
    "    *\"Primero, voy a leer el objetivo de la clase. Luego, revisaré si entiendo los conceptos clave...\"*.  \n",
    "  - **Listas de verificación (checklists)**: Proporciona guías para autoevaluarse (ej.: \"¿Puedo explicar este tema con mis propias palabras?\").  \n"
   ]
  },
  {
   "cell_type": "markdown",
   "id": "1ba3c6a5",
   "metadata": {},
   "source": [
    "\n",
    "**b. Herramientas para la autorregulación**:  \n",
    "  - **Diarios de aprendizaje**: Pide que registren:  \n",
    "    - *\"¿Qué aprendí hoy?\"* (conocimiento).  \n",
    "    - *\"¿Cómo lo aprendí?\"* (proceso).  \n",
    "    - *\"¿Qué me falta por entender?\"* (brechas).  \n",
    "  - **Rúbricas de autoevaluación**: Incluye criterios como: *\"Puedo resolver ejercicios sin ayuda\"* o *\"Sé dónde buscar información confiable\"*.  \n",
    "\n",
    "**c. Espacios de reflexión colaborativa**:  \n",
    "  - **Debates metacognitivos**: En grupos, discuten: *\"¿Qué estrategia usamos? ¿Funcionó? ¿Por qué?\"*.  \n",
    "  - **Peer feedback**: Intercambian comentarios sobre sus procesos (ej.: \"Tú organizaste bien tus ideas, pero podrías revisar las fuentes\").  \n",
    "\n",
    "---\n"
   ]
  },
  {
   "cell_type": "markdown",
   "id": "0ed547ca",
   "metadata": {},
   "source": [
    "\n",
    "### **3. Implementación (Fase de Acción)**  \n",
    "- **Integra la metacognición en las actividades cotidianas**:  \n",
    "  - Antes de una tarea: *\"¿Qué sabes ya sobre este tema? ¿Cómo planeas abordarlo?\"*.  \n",
    "  - Durante la tarea: *\"¿Estás siguiendo tu plan? ¿Necesitas ajustarlo?\"*.  \n",
    "  - Después: *\"¿Lograste el objetivo? ¿Qué cambiarías la próxima vez?\"*.  \n",
    "- **Usa preguntas clave**:  \n",
    "  - *\"¿Qué parte fue más difícil? ¿Por qué?\"* (identificación de obstáculos).  \n",
    "  - *\"Si tuvieras que enseñarle esto a un compañero, ¿cómo lo harías?\"* (transferencia).  \n",
    "\n",
    "---\n",
    "\n",
    "### **4. Evaluación y Reflexión (Fase de Observación/Reflexión)**  \n",
    "- **Analiza el impacto**: Compara evidencias pre y post intervención (ej.: diarios, desempeño en tareas).  \n",
    "- **Reflexión grupal**: Realiza una sesión donde los estudiantes compartan:  \n",
    "  - *\"¿Qué estrategias metacognitivas les ayudaron más?\"*.  \n",
    "  - *\"¿Cómo se sintieron al gestionar su aprendizaje?\"*.  \n",
    "- **Ajusta la intervención**: Si notas que persisten dificultades, propón nuevas herramientas (ej.: mapas conceptuales para organizar ideas).  \n",
    "\n",
    "---\n",
    "\n",
    "### **5. Iteración (Ciclo de IAE)**  \n",
    "Repite el ciclo con ajustes basados en los hallazgos. Por ejemplo:  \n",
    "- Si los estudiantes no identifican errores, introduce actividades de *análisis de errores* (\"¿Por qué te equivocaste? ¿Cómo corregirlo?\").  \n",
    "- Si les cuesta planificar, usa herramientas visuales como *diagramas de flujo* para secuenciar pasos.  \n",
    "\n",
    "---\n",
    "\n",
    "### **Ejemplo Práctico**  \n",
    "**Situación**: Estudiantes no revisan sus errores en matemáticas.  \n",
    "- **Intervención**:  \n",
    "  1. **Modelado**: Resuelves un problema cometiendo un error adrede y muestras cómo detectarlo.  \n",
    "  2. **Checklist**: \"¿Revisé cada paso? ¿Mi respuesta tiene sentido?\".  \n",
    "  3. **Diario**: \"Hoy cometí un error en... Lo corregí cambiando...\".  \n",
    "\n",
    "---\n",
    "\n",
    "### **Claves para el Éxito**  \n",
    "- **Consistencia**: Integra la metacognición en todas las clases, no como actividad aislada.  \n",
    "- **Andamiaje**: Reduce gradualmente la guía del docente a medida que los estudiantes ganan autonomía.  \n",
    "- **Cultura de error**: Normaliza los errores como parte del aprendizaje (\"¿Qué podemos aprender de esto?\").  \n",
    "\n",
    "La metacognición no solo mejora el logro académico, sino que empodera a los estudiantes para ser aprendices autónomos y resilientes. En la IAE, este proceso se enriquece al ser colaborativo (docente-estudiantes) y basado en evidencia concreta.  \n",
    "\n",
    "¿Te gustaría profundizar en alguna herramienta específica o ajustar la estrategia a un nivel educativo en particular?"
   ]
  },
  {
   "cell_type": "markdown",
   "id": "239427f7",
   "metadata": {},
   "source": [
    "# Calendario Académico Semestre 2025-2  \n",
    "\n",
    "\n",
    "\n",
    "\n"
   ]
  },
  {
   "cell_type": "code",
   "execution_count": null,
   "id": "c804f8d3",
   "metadata": {},
   "outputs": [],
   "source": []
  },
  {
   "cell_type": "code",
   "execution_count": null,
   "id": "cc539357",
   "metadata": {},
   "outputs": [],
   "source": []
  },
  {
   "cell_type": "markdown",
   "id": "8ba64aed",
   "metadata": {},
   "source": [
    "# Cursos que orienta el profesor Marco Julio Cañas Campillo en 2025  \n",
    "\n",
    "1. Cálculo Vectorial para Ingeniería Agropecuaria\n",
    "2. Análisis Numérico para Licenciatura en Matemáticas. \n",
    "3. Práctica Pedagógica V para Licenciatura en Educación Infantil\n",
    "4. Fundamentos de Lógica para Licenciatura en Matemáticas \n"
   ]
  },
  {
   "cell_type": "markdown",
   "id": "8d41fe58",
   "metadata": {
    "slideshow": {
     "slide_type": "slide"
    }
   },
   "source": [
    "# Horario de clases del profesor Marco\n",
    "\n",
    "* Lunes 8-12: Cálculo Vectorial\n",
    "* Martes 8-12 M: Análisis Numérico. \n",
    "* Miércoles 10 a 11 M: Machine Learnig\n",
    "* Miércoles de 3 a 4 de la tarde: ARIMA\n",
    "* Jueves 2 a 6 PM: Práctica Pedagógica V: Desarrollo del pensamiento matemático en   \n",
    "  la infancia. \n",
    "* Viernes 8 - 12 M: Fundamentos de Lógica. \n",
    "* Sábados 8-12 Asesorías y espacio para retroalimentación y apoyo al trabajo independiente  \n",
    "  y desarrollo de habilidades metacognitivas. "
   ]
  },
  {
   "cell_type": "markdown",
   "id": "ae114e14",
   "metadata": {
    "slideshow": {
     "slide_type": "slide"
    }
   },
   "source": [
    "# Coordinador de los cursos de la Facultad de Educación para regiones:    \n",
    "\n",
    "Andrés Vélez: regioneducacion.fedu@udea.edu.co  \n",
    "Coordinador Regiones  \n",
    "Facultad de Educación  \n",
    "Universidad de Antioquia  "
   ]
  },
  {
   "cell_type": "markdown",
   "id": "b1db4b6c",
   "metadata": {
    "slideshow": {
     "slide_type": "slide"
    }
   },
   "source": [
    "## Monitores\n",
    "* Manuel San Juan Serrano: Contactar escribiendo al correo: manuel.serrano1@udea.edu.co\n",
    "* Yeifry Sebastián Uribe: Contactar escribiendo al correo: yeifry.uribe@udea.edu.co"
   ]
  },
  {
   "cell_type": "markdown",
   "id": "10bce0d0",
   "metadata": {
    "slideshow": {
     "slide_type": "slide"
    }
   },
   "source": [
    "## Referentes "
   ]
  },
  {
   "cell_type": "markdown",
   "id": "1db3c468",
   "metadata": {
    "slideshow": {
     "slide_type": "slide"
    }
   },
   "source": [
    "* [Jupyter Book de fundamentos_logica](file:///C:/Users/marco/Documentos/docencia/fundamentos_logica/fundamentos_logica_book/_build/html/index.html)\n",
    "\n",
    "\n",
    "* [Decargue Crocodile Clip aquí](https://crocodileclips.net/descargar-crocodile-clips/)\n",
    "\n",
    "* [Matemáticas discretas Una introducción abierta, 3ª edición](https://discrete.openmathbooks.org/dmoi3.html)  \n",
    "  \n",
    "* [Desarrollo del pensamiento matemático con calculadora Casio ](https://bibliotecadigital.udea.edu.co/entities/publication/17180405-9f1d-4800-aa7c-e6369779cece)\n",
    "\n",
    "* [CALCULO I DE UNA VARIABLE Ron Larson-Bruce Edwards. Mc Graw Hill. 9º Edición](https://www.academia.edu/42139251/CALCULO_I_DE_UNA_VARIABLE_Ron_Larson_Bruce_Edwards_Mc_Graw_Hill_9o_Edici%C3%B3n)   \n",
    "  \n",
    "\n",
    "* [Grajales Vanegas, L. M., Restrepo Estrada, C. E., Restrepo Ochoa, S. I., & Ruíz De Villalba, F. (2015). Matemáticas I para las ciencias económicas.](https://bibliotecadigital.udea.edu.co/handle/10495/3010)\n",
    "  \n",
    "* R. Duval y Semiosis y pensamiento humano, 2.ª ed. Cali, Colombia: Programa Editorial Universidad del Valle, 2017. [En línea]. Disponible en: https://programaeditorial.univalle.edu.co/gpd-semiosis-y-pensamiento-humano-9789587655278-63324cdb0f6b3.html\n",
    "\n",
    "* [Aylwin, C. U. (2011). Lógica, conjuntos y números. Universidad de los Andes, Consejo de Publicaciones, Colección: Ciencias Básicas, Serie: Matemáticas.](chrome-extension://efaidnbmnnnibpcajpcglclefindmkaj/https://www.u-cursos.cl/ciencias/2011/1/MC110/1/material_docente/bajar?id_material=574722)\n",
    "  \n",
    "* [Chollet, F. (2021). Deep learning with Python. Simon and Schuster.](chrome-extension://efaidnbmnnnibpcajpcglclefindmkaj/https://tanthiamhuat.wordpress.com/wp-content/uploads/2018/03/deeplearningwithpython.pdf)  \n",
    "  \n",
    "* [Watson, S., Stewart, J., & Redlin, L. (2009). Precálculo. Matemáticas para el cálculo.](chrome-extension://efaidnbmnnnibpcajpcglclefindmkaj/https://students.aiu.edu/submissions/profiles/resources/onlineBook/k6L8A3_precalculo_-_matematicas_para_el_calculo-1.pdf)  \n",
    "\n",
    "* [Purcell, E. J., Varberg, D., & Rigdon, S. E. (2007). Cálculo diferencial e integral. Pearson Educación.](https://github.com/marco-canas/calculo/blob/main/referents/purcell/purcell_calculo.pdf)\n",
    "\n",
    "  \n",
    "\n",
    "* [stewart cálculo](https://udeaeduco-my.sharepoint.com/:b:/g/personal/marco_canas_udea_edu_co/EZgXZjAp8QxPqOAim2hs6LcBNPLGjSHf-xwYnUVYkwa04w?e=RZdTCy)  \n",
    "\n",
    "\n",
    "* [Recomendación de la UNESCO sobre ciencia abierta](https://unesdoc.unesco.org/ark:/48223/pf0000379949_spa)\n",
    "\n",
    "* [chatGPT](https://openai.com/blog/chatgpt)  \n",
    "\n",
    "* [Géron, A. (2017). Hands-on machine learning with scikit-learn and tensorflow: Concepts. Tools, and Techniques to build intelligent systems.](chrome-extension://efaidnbmnnnibpcajpcglclefindmkaj/http://14.139.161.31/OddSem-0822-1122/Hands-On_Machine_Learning_with_Scikit-Learn-Keras-and-TensorFlow-2nd-Edition-Aurelien-Geron.pdf)   \n"
   ]
  },
  {
   "cell_type": "markdown",
   "id": "df925560",
   "metadata": {},
   "source": [
    "\n",
    "* [McKinney, W. (2012). Python for data analysis: Data wrangling with Pandas, NumPy, and IPython. \" O'Reilly Media, Inc.\".](https://wesmckinney.com/book/) "
   ]
  },
  {
   "cell_type": "markdown",
   "id": "8e65d6f9",
   "metadata": {},
   "source": [
    "# Como estudiante, encuentro que...   \n",
    "\n",
    "F: Mis Fortalezas son:     \n",
    "O: Mis Oportunidades son:    \n",
    "D: Mis Debilidades son:    \n",
    "A: Lo que Amenazas mi aprendizaje es:  "
   ]
  },
  {
   "cell_type": "markdown",
   "id": "6b9e56a8",
   "metadata": {
    "slideshow": {
     "slide_type": "slide"
    }
   },
   "source": [
    "### [Evaluamos al profesor Marco Cañas Aquí](https://forms.office.com/Pages/ResponsePage.aspx?id=IefhmYRxjkmK_7KtTlPBwkanXIs1i1FEujpsZgO6dXpUREJPV1kxUk1JV1ozTFJIQVNIQjY5WEY3US4u)"
   ]
  },
  {
   "cell_type": "markdown",
   "id": "10f43536",
   "metadata": {
    "slideshow": {
     "slide_type": "slide"
    }
   },
   "source": [
    "### Continue su aprendizaje en la siguiente clase a través del siguiente [vínculo]()"
   ]
  },
  {
   "cell_type": "markdown",
   "id": "53cc9115",
   "metadata": {
    "slideshow": {
     "slide_type": "slide"
    }
   },
   "source": [
    "## Agradecimientos  \n",
    "\n",
    "Doy gracias a Dios por la vida de mi Hijo Joseph Cañas Osorio y la madurez que ha alcanzado. Este hijo me enorgullece y me hace falta abrazarlo cada día. \n",
    "\n",
    "Y a mi esposa Yasmira Emperatriz Barboza Mogollón por su apoyo, orientación y acompañamiento. "
   ]
  }
 ],
 "metadata": {
  "celltoolbar": "Slideshow",
  "kernelspec": {
   "display_name": ".venv",
   "language": "python",
   "name": "python3"
  },
  "language_info": {
   "codemirror_mode": {
    "name": "ipython",
    "version": 3
   },
   "file_extension": ".py",
   "mimetype": "text/x-python",
   "name": "python",
   "nbconvert_exporter": "python",
   "pygments_lexer": "ipython3",
   "version": "3.11.9"
  },
  "rise": {
   "enable_chalkboard": true,
   "theme": "sky",
   "transition": "zoom"
  }
 },
 "nbformat": 4,
 "nbformat_minor": 5
}
