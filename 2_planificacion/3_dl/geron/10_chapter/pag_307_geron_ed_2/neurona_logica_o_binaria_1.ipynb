{
 "cells": [
  {
   "cell_type": "markdown",
   "id": "e299cb24",
   "metadata": {},
   "source": [
    "# [Encuesta de satisfacción en Google Form](https://forms.gle/YUc83ygwGoEcHgM2A) "
   ]
  },
  {
   "cell_type": "markdown",
   "id": "ab72b159",
   "metadata": {},
   "source": [
    "<table align=\"left\">\n",
    "  <td>\n",
    "    <a href=\"https://colab.research.google.com/github/marco-canas/ml_dl_intro/blob/main/2_planificacion/3_dl/geron/10_chapter/pag_307_geron_ed_2/pagina_307.ipynb\" target=\"_parent\"><img src=\"https://colab.research.google.com/assets/colab-badge.svg\" alt=\"Open In Colab\"/></a>\n",
    "  </td>\n",
    "  <td>\n",
    "    <a target=\"_blank\" href=\"https://kaggle.com/kernels/welcome?src=https://github.com/marco-canas/ml_dl_intro/blob/main/2_planificacion/3_dl/geron/10_chapter/pag_307_geron_ed_2/pagina_307.ipynb\"><img src=\"https://kaggle.com/static/images/open-in-kaggle.svg\" /></a>\n",
    "  </td>\n",
    "</table>"
   ]
  },
  {
   "cell_type": "markdown",
   "id": "cb46a95a",
   "metadata": {},
   "source": [
    "<img src = 'taller_estructuras_datos_python_2025-09-04 a las 20.02_4.jpg' width = 400> "
   ]
  },
  {
   "cell_type": "code",
   "execution_count": 1,
   "id": "f51736f5",
   "metadata": {},
   "outputs": [],
   "source": [
    "import qrcode\n",
    "from IPython.display import display\n",
    "\n",
    "def generar_qr_notebook(url):\n",
    "    \"\"\"\n",
    "    Genera un código QR para una URL y lo muestra en un cuaderno Jupyter.\n",
    "    \n",
    "    Parámetros:\n",
    "    url (str): La URL para la cual se generará el código QR.\n",
    "    \n",
    "    Retorna:\n",
    "    None (pero muestra el código QR en el notebook)\n",
    "    \"\"\"\n",
    "    # Crear el objeto QR\n",
    "    qr = qrcode.QRCode(\n",
    "        version=1,\n",
    "        error_correction=qrcode.constants.ERROR_CORRECT_L,\n",
    "        box_size=10,\n",
    "        border=4,\n",
    "    )\n",
    "    \n",
    "    # Añadir la URL al código QR\n",
    "    qr.add_data(url)\n",
    "    qr.make(fit=True)\n",
    "    \n",
    "    # Crear la imagen del QR\n",
    "    img = qr.make_image(fill_color=\"black\", back_color=\"white\")\n",
    "    \n",
    "    # Mostrar la imagen en el notebook\n",
    "    display(img)\n",
    "\n"
   ]
  },
  {
   "cell_type": "code",
   "execution_count": 11,
   "id": "dc0f9303",
   "metadata": {},
   "outputs": [
    {
     "data": {
      "image/jpeg": "[encoded data removed]",
      "image/png": "[encoded data removed]",
      "text/plain": [
       "<qrcode.image.pil.PilImage at 0x29cc8af6dd0>"
      ]
     },
     "metadata": {},
     "output_type": "display_data"
    }
   ],
   "source": [
    "generar_qr_notebook('https://colab.research.google.com/github/marco-canas/ml_dl_intro/blob/main/2_planificacion/3_dl/geron/10_chapter/pag_307_geron_ed_2/pagina_307.ipynb')"
   ]
  },
  {
   "cell_type": "markdown",
   "id": "0fd587d9",
   "metadata": {},
   "source": [
    "\n",
    "# **Cálculos Lógicos con Neuronas**  \n"
   ]
  },
  {
   "cell_type": "markdown",
   "id": "332bb61e",
   "metadata": {},
   "source": [
    "Warren McCulloch y Walter Pitts propusieron un modelo muy simple de la neurona biológica, que luego se conoció como neurona artificial: tiene una o más entradas binarias (activado/desactivado) y una salida binaria. "
   ]
  },
  {
   "cell_type": "markdown",
   "id": "3c90eca5",
   "metadata": {},
   "source": [
    "<img src = 'neurona_mcculloch_pitt_2.png' width = 400>"
   ]
  },
  {
   "cell_type": "markdown",
   "id": "de14d69c",
   "metadata": {},
   "source": [
    "La neurona artificial simplemente activa su salida cuando más de un cierto número de sus entradas están activas. "
   ]
  },
  {
   "cell_type": "markdown",
   "id": "81bb29de",
   "metadata": {},
   "source": [
    "McCulloch y Pitts demostraron que incluso con un modelo tan simplificado es posible construir una red de neuronas artificiales que calcule cualquier proposición lógica que se desee."
   ]
  },
  {
   "cell_type": "markdown",
   "id": "d7406840",
   "metadata": {},
   "source": [
    "* $\\neg p$\n",
    "* $p \\lor q$\n",
    "* $p \\and q$\n",
    "* $p \\to q$\n",
    "* $p \\leftrightarrow q$\n",
    "* y otras "
   ]
  },
  {
   "cell_type": "markdown",
   "id": "95527314",
   "metadata": {},
   "source": [
    " Por ejemplo, construyamos algunas RNA (Redes Neuronales Artificiales) que realicen diversos cálculos lógicos (ver Figura 10-3), asumiendo que una neurona se activa cuando al menos dos de sus entradas están activas.\n"
   ]
  },
  {
   "cell_type": "markdown",
   "id": "b05bbbce",
   "metadata": {},
   "source": [
    "<img src = 'fig_10_3.png' width = 500>"
   ]
  },
  {
   "cell_type": "markdown",
   "id": "76b84dff",
   "metadata": {},
   "source": [
    "\n",
    "**Figura 10-3. RNA realizando cálculos lógicos simples**  \n"
   ]
  },
  {
   "cell_type": "markdown",
   "id": "93fe29f0",
   "metadata": {},
   "source": [
    "- La primera red a la izquierda es simplemente la función identidad: si la neurona A está activada, entonces la neurona C también se activa (ya que recibe dos señales de entrada de la neurona A), pero si la neurona A está desactivada, la neurona C también lo estará. "
   ]
  },
  {
   "cell_type": "markdown",
   "id": "fa507b8c",
   "metadata": {},
   "source": [
    " \n",
    "- La segunda red realiza un AND lógico: la neurona C se activa solo cuando tanto la neurona A como la B están activadas (una sola señal de entrada no es suficiente para activar la neurona C).  \n"
   ]
  },
  {
   "cell_type": "markdown",
   "id": "f33820b6",
   "metadata": {},
   "source": [
    "- La tercera red realiza un OR lógico: la neurona C se activa si la neurona A o la B está activada (o ambas).  \n"
   ]
  },
  {
   "cell_type": "markdown",
   "id": "ea7aff23",
   "metadata": {},
   "source": [
    "- Finalmente, si suponemos que una conexión de entrada puede inhibir la actividad de la neurona (como ocurre en las neuronas biológicas), la cuarta red calcula una proposición lógica un poco más compleja: la neurona C se activa solo si la neurona A está activa y la neurona B está desactivada. Si la neurona A está siempre activa, se obtiene un NOT lógico: la neurona C está activa cuando la B está desactivada, y viceversa.  \n"
   ]
  },
  {
   "cell_type": "markdown",
   "id": "8656861c",
   "metadata": {},
   "source": [
    "\n",
    "Puedes imaginar fácilmente cómo estas redes pueden combinarse para calcular expresiones lógicas complejas (ver los ejercicios al final del capítulo 10 de Géron: Página 430 del PDF).\n",
    "\n"
   ]
  },
  {
   "cell_type": "markdown",
   "id": "03227299",
   "metadata": {},
   "source": [
    "Aquí tienes diez ejercicios en Python para implementar proposiciones lógicas utilizando neuronas básicas (identidad, AND, OR y NOT). Cada ejercicio incluye una explicación y el código correspondiente:\n",
    "\n"
   ]
  },
  {
   "cell_type": "markdown",
   "id": "50f3dc4e",
   "metadata": {},
   "source": [
    "\n",
    "\n",
    "### **1. Neurona Identidad (Función lineal)**\n",
    "Implementa una neurona identidad que devuelva el mismo valor de entrada.\n"
   ]
  },
  {
   "cell_type": "code",
   "execution_count": 1,
   "id": "84512572",
   "metadata": {},
   "outputs": [],
   "source": [
    "\n",
    "def neurona_identidad(x):\n",
    "    return x\n"
   ]
  },
  {
   "cell_type": "code",
   "execution_count": 4,
   "id": "8b7bb861",
   "metadata": {},
   "outputs": [
    {
     "data": {
      "text/plain": [
       "5"
      ]
     },
     "execution_count": 4,
     "metadata": {},
     "output_type": "execute_result"
    }
   ],
   "source": [
    "\n",
    "# Ejemplo\n",
    "neurona_identidad(5)  # Salida: 1\n",
    "\n",
    "\n"
   ]
  },
  {
   "cell_type": "markdown",
   "id": "c49203fa",
   "metadata": {},
   "source": [
    "\n",
    "\n",
    "### **2. Neurona AND**\n",
    "Implementa una neurona AND que devuelva `1` solo si ambas entradas son `1`.\n"
   ]
  },
  {
   "cell_type": "code",
   "execution_count": null,
   "id": "f5e1825e",
   "metadata": {},
   "outputs": [],
   "source": [
    "\n",
    "def neurona_and(x1, x2):\n",
    "    return 1 if x1 == 1 and x2 == 1 else 0\n",
    "\n",
    "# Ejemplo\n",
    "print(neurona_and(1, 0))  # Salida: 0\n",
    "\n",
    "\n"
   ]
  },
  {
   "cell_type": "markdown",
   "id": "0bf4c19d",
   "metadata": {},
   "source": [
    "\n",
    "\n",
    "### **3. Neurona OR**\n",
    "Implementa una neurona OR que devuelva `1` si al menos una entrada es `1`.\n"
   ]
  },
  {
   "cell_type": "code",
   "execution_count": 11,
   "id": "3b4774f2",
   "metadata": {},
   "outputs": [],
   "source": [
    "def neurona_or(x1, x2):\n",
    "    return 1 if x1==1 or x2==1 else 0"
   ]
  },
  {
   "cell_type": "code",
   "execution_count": 5,
   "id": "1d939c4a",
   "metadata": {},
   "outputs": [],
   "source": [
    "\n",
    "def neurona_or(x1, x2):\n",
    "    return 1 if x1 == 1 or x2 == 1 else 0\n"
   ]
  },
  {
   "cell_type": "code",
   "execution_count": 12,
   "id": "13781ccf",
   "metadata": {},
   "outputs": [
    {
     "data": {
      "text/plain": [
       "0"
      ]
     },
     "execution_count": 12,
     "metadata": {},
     "output_type": "execute_result"
    }
   ],
   "source": [
    "\n",
    "# Ejemplo\n",
    "neurona_or(0, 0)  # Salida: 1\n",
    "\n",
    "\n"
   ]
  },
  {
   "cell_type": "code",
   "execution_count": 13,
   "id": "9c40b938",
   "metadata": {},
   "outputs": [
    {
     "name": "stdout",
     "output_type": "stream",
     "text": [
      "La entrada (0, 0) es 0\n",
      "La entrada (0, 1) es 1\n",
      "La entrada (1, 0) es 1\n",
      "La entrada (1, 1) es 1\n"
     ]
    }
   ],
   "source": [
    "entradas = [(0,0), (0, 1), (1, 0), (1, 1)]\n",
    "for x in entradas:\n",
    "    print(f\"La entrada {x} es {neurona_or(x[0], x[1])}\")"
   ]
  },
  {
   "cell_type": "markdown",
   "id": "2b7bfa30",
   "metadata": {},
   "source": [
    "\n",
    "\n",
    "### **4. Neurona NOT**\n",
    "Implementa una neurona NOT que invierta el valor de entrada.\n"
   ]
  },
  {
   "cell_type": "code",
   "execution_count": null,
   "id": "e32c0939",
   "metadata": {},
   "outputs": [],
   "source": [
    "def neurona_not(x):\n",
    "    return 1 if x == 0 else 0\n",
    "\n",
    "# Ejemplo\n",
    "print(neurona_not(1))  # Salida: 0\n",
    "\n"
   ]
  },
  {
   "cell_type": "markdown",
   "id": "dff4c2f6",
   "metadata": {},
   "source": [
    "\n",
    "\n",
    "\n",
    "## **5. Proposición: $ A \\land \\neg B$ (A AND NOT B)**\n",
    "Combina las neuronas AND y NOT para implementar la lógica $A \\land \\neg B$.\n"
   ]
  },
  {
   "cell_type": "code",
   "execution_count": null,
   "id": "75a3ff9e",
   "metadata": {},
   "outputs": [],
   "source": [
    "\n",
    "A, B = 1, 1\n",
    "not_B = neurona_not(B)\n",
    "output = neurona_and(A, not_B)\n",
    "print(output)  # Salida: 0 (porque B es 1)\n",
    "\n"
   ]
  },
  {
   "cell_type": "markdown",
   "id": "3c8e162a",
   "metadata": {},
   "source": [
    "\n",
    "\n",
    "\n",
    "# **6. Proposición: $\\neg(A \\lor B)$ (NOT (A OR B))**\n",
    "Combina OR y NOT para implementar la negación de OR (NOR).\n"
   ]
  },
  {
   "cell_type": "code",
   "execution_count": null,
   "id": "565b4ae6",
   "metadata": {},
   "outputs": [],
   "source": [
    "A, B = 1, 0\n",
    "or_output = neurona_or(A, B)\n",
    "output = neurona_not(or_output)\n",
    "print(output)  # Salida: 0 (porque A OR B es 1)\n"
   ]
  },
  {
   "cell_type": "markdown",
   "id": "3da340a4",
   "metadata": {},
   "source": [
    "\n",
    "### **7. Proposición: $(A \\lor B) \\land \\neg C$**\n",
    "Combina OR, AND y NOT para implementar la lógica deseada.\n",
    "\n"
   ]
  },
  {
   "cell_type": "code",
   "execution_count": null,
   "id": "b70536a3",
   "metadata": {},
   "outputs": [],
   "source": [
    "A, B, C = 1, 0, 1\n",
    "or_output = neurona_or(A, B)\n",
    "not_C = neurona_not(C)\n",
    "output = neurona_and(or_output, not_C)\n",
    "print(output)  # Salida: 0 (porque C es 1)\n",
    "\n",
    "\n"
   ]
  },
  {
   "cell_type": "markdown",
   "id": "80d47fc5",
   "metadata": {},
   "source": [
    "\n",
    "\n",
    "### **8. Proposición: XOR (A XOR B)**\n"
   ]
  },
  {
   "cell_type": "markdown",
   "id": "8fde0042",
   "metadata": {},
   "source": [
    "Implementa XOR usando combinaciones de AND, OR y NOT:\n",
    "$$ A \\oplus B = (A \\land \\neg B) \\lor (\\neg A \\land B)$\n"
   ]
  },
  {
   "cell_type": "code",
   "execution_count": 12,
   "id": "010e96ff",
   "metadata": {},
   "outputs": [
    {
     "ename": "NameError",
     "evalue": "name 'neurona_not' is not defined",
     "output_type": "error",
     "traceback": [
      "\u001b[31m---------------------------------------------------------------------------\u001b[39m",
      "\u001b[31mNameError\u001b[39m                                 Traceback (most recent call last)",
      "\u001b[36mCell\u001b[39m\u001b[36m \u001b[39m\u001b[32mIn[12]\u001b[39m\u001b[32m, line 2\u001b[39m\n\u001b[32m      1\u001b[39m A, B = \u001b[32m1\u001b[39m, \u001b[32m0\u001b[39m\n\u001b[32m----> \u001b[39m\u001b[32m2\u001b[39m not_A = \u001b[43mneurona_not\u001b[49m(A)\n\u001b[32m      3\u001b[39m not_B = neurona_not(B)\n\u001b[32m      4\u001b[39m and1 = neurona_and(A, not_B)\n",
      "\u001b[31mNameError\u001b[39m: name 'neurona_not' is not defined"
     ]
    }
   ],
   "source": [
    "\n",
    "A, B = 1, 0\n",
    "not_A = neurona_not(A)\n",
    "not_B = neurona_not(B)\n",
    "and1 = neurona_and(A, not_B)\n",
    "and2 = neurona_and(not_A, B)\n",
    "output = neurona_or(and1, and2)\n",
    "print(output)  # Salida: 1 (XOR de 1 y 0)\n",
    "\n"
   ]
  },
  {
   "cell_type": "markdown",
   "id": "ca13c0e9",
   "metadata": {},
   "source": [
    "\n",
    "---\n",
    "\n",
    "### **9. Proposición: Implicación $A \\rightarrow B$ (NOT A OR B)**\n",
    "Implementa la implicación lógica usando NOT y OR.\n",
    "\n"
   ]
  },
  {
   "cell_type": "code",
   "execution_count": 13,
   "id": "6d7de582",
   "metadata": {},
   "outputs": [
    {
     "ename": "NameError",
     "evalue": "name 'neurona_not' is not defined",
     "output_type": "error",
     "traceback": [
      "\u001b[31m---------------------------------------------------------------------------\u001b[39m",
      "\u001b[31mNameError\u001b[39m                                 Traceback (most recent call last)",
      "\u001b[36mCell\u001b[39m\u001b[36m \u001b[39m\u001b[32mIn[13]\u001b[39m\u001b[32m, line 2\u001b[39m\n\u001b[32m      1\u001b[39m A, B = \u001b[32m1\u001b[39m, \u001b[32m0\u001b[39m\n\u001b[32m----> \u001b[39m\u001b[32m2\u001b[39m not_A = \u001b[43mneurona_not\u001b[49m(A)\n\u001b[32m      3\u001b[39m output = neurona_or(not_A, B)\n\u001b[32m      4\u001b[39m \u001b[38;5;28mprint\u001b[39m(output)  \u001b[38;5;66;03m# Salida: 0 (porque A=1 y B=0)\u001b[39;00m\n",
      "\u001b[31mNameError\u001b[39m: name 'neurona_not' is not defined"
     ]
    }
   ],
   "source": [
    "A, B = 1, 0\n",
    "not_A = neurona_not(A)\n",
    "output = neurona_or(not_A, B)\n",
    "print(output)  # Salida: 0 (porque A=1 y B=0)\n",
    "\n",
    "\n"
   ]
  },
  {
   "cell_type": "markdown",
   "id": "05589019",
   "metadata": {},
   "source": [
    "\n",
    "\n",
    "### **10. Proposición: Equivalencia \\( A \\leftrightarrow B \\)**\n",
    "Implementa la equivalencia (XNOR) combinando XOR y NOT:\n",
    "$$ A \\leftrightarrow B = \\neg (A \\oplus B) $$\n",
    "\n"
   ]
  },
  {
   "cell_type": "code",
   "execution_count": null,
   "id": "ff78f97d",
   "metadata": {},
   "outputs": [],
   "source": [
    "A, B = 1, 1\n",
    "xor_output = neurona_or(\n",
    "    neurona_and(A, neurona_not(B)),\n",
    "    neurona_and(neurona_not(A), B)\n",
    ")\n",
    "output = neurona_not(xor_output)\n",
    "print(output)  # Salida: 1 (A y B son iguales)\n",
    "\n",
    "\n"
   ]
  },
  {
   "cell_type": "markdown",
   "id": "899c5928",
   "metadata": {},
   "source": [
    "\n",
    "\n",
    "### **Explicación clave:**\n",
    "- **Identidad**: Simplemente devuelve la entrada.\n",
    "- **AND/OR**: Operaciones binarias básicas.\n",
    "- **NOT**: Invierte el valor.\n",
    "- Las proposiciones compuestas se construyen anidando neuronas básicas.\n"
   ]
  },
  {
   "cell_type": "markdown",
   "id": "84067e2f",
   "metadata": {},
   "source": [
    "\n",
    "Estos ejercicios cubren desde operadores simples hasta lógica combinacional. Puedes extenderlos para más variables o proposiciones complejas."
   ]
  },
  {
   "cell_type": "markdown",
   "id": "e04e2d94",
   "metadata": {},
   "source": [
    "\n",
    "\n",
    "### Diseño de Práctica en Python:\n"
   ]
  },
  {
   "cell_type": "markdown",
   "id": "8b5dbdfa",
   "metadata": {},
   "source": [
    "\n",
    "#### **1. Práctica: Implementación de Neuronas Artificiales para Compuertas Lógicas**"
   ]
  },
  {
   "cell_type": "markdown",
   "id": "dcf55675",
   "metadata": {},
   "source": [
    "  \n",
    "**Objetivo**: Implementar neuronas artificiales que simulen compuertas lógicas (AND, OR, NOT, IDENTITY) usando el modelo de McCulloch-Pitts.\n"
   ]
  },
  {
   "cell_type": "code",
   "execution_count": 14,
   "id": "e33e3ecc",
   "metadata": {},
   "outputs": [],
   "source": [
    "import numpy as np\n"
   ]
  },
  {
   "cell_type": "code",
   "execution_count": 18,
   "id": "61035789",
   "metadata": {},
   "outputs": [],
   "source": [
    "\n",
    "class McCullochPittsNeuron:\n",
    "    def __init__(self, weights, threshold):\n",
    "        self.weights = weights\n",
    "        self.threshold = threshold\n",
    "\n",
    "    def activate(self, inputs):\n",
    "        weighted_sum = np.dot(inputs, self.weights)\n",
    "        return 1 if weighted_sum >= self.threshold else 0\n"
   ]
  },
  {
   "cell_type": "code",
   "execution_count": null,
   "id": "b9f63d5c",
   "metadata": {},
   "outputs": [],
   "source": [
    "\n",
    "# Compuertas Lógicas\n",
    "def test_logic_gate(gate_name, neuron, test_cases):\n",
    "    print(f\"\\n{gate_name}:\")\n",
    "    for inputs in test_cases:\n",
    "        output = neuron.activate(inputs)\n",
    "        print(f\"Input: {inputs} -> Output: {output}\")\n"
   ]
  },
  {
   "cell_type": "code",
   "execution_count": null,
   "id": "b358e5b8",
   "metadata": {},
   "outputs": [],
   "source": [
    "\n",
    "# Configuraciones para cada compuerta\n",
    "and_neuron = McCullochPittsNeuron(weights=[1, 1], threshold=2)\n",
    "or_neuron = McCullochPittsNeuron(weights=[1, 1], threshold=1)\n",
    "not_neuron = McCullochPittsNeuron(weights=[-1], threshold=0)\n",
    "identity_neuron = McCullochPittsNeuron(weights=[2], threshold=1)\n"
   ]
  },
  {
   "cell_type": "code",
   "execution_count": null,
   "id": "5b48c913",
   "metadata": {},
   "outputs": [],
   "source": [
    "\n",
    "# Casos de prueba\n",
    "test_cases_and_or = [(0, 0), (0, 1), (1, 0), (1, 1)]\n",
    "test_cases_not = [(0,), (1,)]\n"
   ]
  },
  {
   "cell_type": "code",
   "execution_count": null,
   "id": "47c04cd9",
   "metadata": {},
   "outputs": [],
   "source": [
    "\n",
    "# Evaluación\n",
    "test_logic_gate(\"AND\", and_neuron, test_cases_and_or)\n",
    "test_logic_gate(\"OR\", or_neuron, test_cases_and_or)\n",
    "test_logic_gate(\"NOT\", not_neuron, test_cases_not)\n",
    "test_logic_gate(\"IDENTITY\", identity_neuron, test_cases_not)\n",
    "\n",
    "\n"
   ]
  },
  {
   "cell_type": "markdown",
   "id": "d06f79dc",
   "metadata": {},
   "source": [
    "\n",
    "\n",
    "#### **2. Práctica de Visualización con Matplotlib y Plotly**  \n"
   ]
  },
  {
   "cell_type": "markdown",
   "id": "b22ea520",
   "metadata": {},
   "source": [
    "**Objetivo**: Visualizar el comportamiento de las neuronas artificiales para diferentes entradas.\n"
   ]
  },
  {
   "cell_type": "code",
   "execution_count": 20,
   "id": "ee61391c",
   "metadata": {},
   "outputs": [],
   "source": [
    "and_neuron = McCullochPittsNeuron(weights=[1, 1], threshold=2)\n",
    "or_neuron = McCullochPittsNeuron(weights=[1, 1], threshold = 1)"
   ]
  },
  {
   "cell_type": "code",
   "execution_count": 21,
   "id": "ce878b33",
   "metadata": {},
   "outputs": [
    {
     "data": {
      "image/png": "[encoded data removed]",
      "text/plain": [
       "<Figure size 800x400 with 2 Axes>"
      ]
     },
     "metadata": {},
     "output_type": "display_data"
    },
    {
     "data": {
      "application/vnd.plotly.v1+json": {
       "config": {
        "plotlyServerURL": "https://plot.ly"
       },
       "data": [
        {
         "marker": {
          "color": {
           "bdata": "AAAAAQ==",
           "dtype": "i1"
          },
          "colorscale": [
           [
            0,
            "#440154"
           ],
           [
            0.1111111111111111,
            "#482878"
           ],
           [
            0.2222222222222222,
            "#3e4989"
           ],
           [
            0.3333333333333333,
            "#31688e"
           ],
           [
            0.4444444444444444,
            "#26828e"
           ],
           [
            0.5555555555555556,
            "#1f9e89"
           ],
           [
            0.6666666666666666,
            "#35b779"
           ],
           [
            0.7777777777777778,
            "#6ece58"
           ],
           [
            0.8888888888888888,
            "#b5de2b"
           ],
           [
            1,
            "#fde725"
           ]
          ],
          "size": 10
         },
         "mode": "markers",
         "type": "scatter3d",
         "x": {
          "bdata": "AAABAQ==",
          "dtype": "i1"
         },
         "y": {
          "bdata": "AAEAAQ==",
          "dtype": "i1"
         },
         "z": {
          "bdata": "AAAAAQ==",
          "dtype": "i1"
         }
        }
       ],
       "layout": {
        "scene": {
         "xaxis": {
          "title": {
           "text": "Input A"
          }
         },
         "yaxis": {
          "title": {
           "text": "Input B"
          }
         },
         "zaxis": {
          "title": {
           "text": "Output"
          }
         }
        },
        "template": {
         "data": {
          "bar": [
           {
            "error_x": {
             "color": "#2a3f5f"
            },
            "error_y": {
             "color": "#2a3f5f"
            },
            "marker": {
             "line": {
              "color": "#E5ECF6",
              "width": 0.5
             },
             "pattern": {
              "fillmode": "overlay",
              "size": 10,
              "solidity": 0.2
             }
            },
            "type": "bar"
           }
          ],
          "barpolar": [
           {
            "marker": {
             "line": {
              "color": "#E5ECF6",
              "width": 0.5
             },
             "pattern": {
              "fillmode": "overlay",
              "size": 10,
              "solidity": 0.2
             }
            },
            "type": "barpolar"
           }
          ],
          "carpet": [
           {
            "aaxis": {
             "endlinecolor": "#2a3f5f",
             "gridcolor": "white",
             "linecolor": "white",
             "minorgridcolor": "white",
             "startlinecolor": "#2a3f5f"
            },
            "baxis": {
             "endlinecolor": "#2a3f5f",
             "gridcolor": "white",
             "linecolor": "white",
             "minorgridcolor": "white",
             "startlinecolor": "#2a3f5f"
            },
            "type": "carpet"
           }
          ],
          "choropleth": [
           {
            "colorbar": {
             "outlinewidth": 0,
             "ticks": ""
            },
            "type": "choropleth"
           }
          ],
          "contour": [
           {
            "colorbar": {
             "outlinewidth": 0,
             "ticks": ""
            },
            "colorscale": [
             [
              0,
              "#0d0887"
             ],
             [
              0.1111111111111111,
              "#46039f"
             ],
             [
              0.2222222222222222,
              "#7201a8"
             ],
             [
              0.3333333333333333,
              "#9c179e"
             ],
             [
              0.4444444444444444,
              "#bd3786"
             ],
             [
              0.5555555555555556,
              "#d8576b"
             ],
             [
              0.6666666666666666,
              "#ed7953"
             ],
             [
              0.7777777777777778,
              "#fb9f3a"
             ],
             [
              0.8888888888888888,
              "#fdca26"
             ],
             [
              1,
              "#f0f921"
             ]
            ],
            "type": "contour"
           }
          ],
          "contourcarpet": [
           {
            "colorbar": {
             "outlinewidth": 0,
             "ticks": ""
            },
            "type": "contourcarpet"
           }
          ],
          "heatmap": [
           {
            "colorbar": {
             "outlinewidth": 0,
             "ticks": ""
            },
            "colorscale": [
             [
              0,
              "#0d0887"
             ],
             [
              0.1111111111111111,
              "#46039f"
             ],
             [
              0.2222222222222222,
              "#7201a8"
             ],
             [
              0.3333333333333333,
              "#9c179e"
             ],
             [
              0.4444444444444444,
              "#bd3786"
             ],
             [
              0.5555555555555556,
              "#d8576b"
             ],
             [
              0.6666666666666666,
              "#ed7953"
             ],
             [
              0.7777777777777778,
              "#fb9f3a"
             ],
             [
              0.8888888888888888,
              "#fdca26"
             ],
             [
              1,
              "#f0f921"
             ]
            ],
            "type": "heatmap"
           }
          ],
          "histogram": [
           {
            "marker": {
             "pattern": {
              "fillmode": "overlay",
              "size": 10,
              "solidity": 0.2
             }
            },
            "type": "histogram"
           }
          ],
          "histogram2d": [
           {
            "colorbar": {
             "outlinewidth": 0,
             "ticks": ""
            },
            "colorscale": [
             [
              0,
              "#0d0887"
             ],
             [
              0.1111111111111111,
              "#46039f"
             ],
             [
              0.2222222222222222,
              "#7201a8"
             ],
             [
              0.3333333333333333,
              "#9c179e"
             ],
             [
              0.4444444444444444,
              "#bd3786"
             ],
             [
              0.5555555555555556,
              "#d8576b"
             ],
             [
              0.6666666666666666,
              "#ed7953"
             ],
             [
              0.7777777777777778,
              "#fb9f3a"
             ],
             [
              0.8888888888888888,
              "#fdca26"
             ],
             [
              1,
              "#f0f921"
             ]
            ],
            "type": "histogram2d"
           }
          ],
          "histogram2dcontour": [
           {
            "colorbar": {
             "outlinewidth": 0,
             "ticks": ""
            },
            "colorscale": [
             [
              0,
              "#0d0887"
             ],
             [
              0.1111111111111111,
              "#46039f"
             ],
             [
              0.2222222222222222,
              "#7201a8"
             ],
             [
              0.3333333333333333,
              "#9c179e"
             ],
             [
              0.4444444444444444,
              "#bd3786"
             ],
             [
              0.5555555555555556,
              "#d8576b"
             ],
             [
              0.6666666666666666,
              "#ed7953"
             ],
             [
              0.7777777777777778,
              "#fb9f3a"
             ],
             [
              0.8888888888888888,
              "#fdca26"
             ],
             [
              1,
              "#f0f921"
             ]
            ],
            "type": "histogram2dcontour"
           }
          ],
          "mesh3d": [
           {
            "colorbar": {
             "outlinewidth": 0,
             "ticks": ""
            },
            "type": "mesh3d"
           }
          ],
          "parcoords": [
           {
            "line": {
             "colorbar": {
              "outlinewidth": 0,
              "ticks": ""
             }
            },
            "type": "parcoords"
           }
          ],
          "pie": [
           {
            "automargin": true,
            "type": "pie"
           }
          ],
          "scatter": [
           {
            "fillpattern": {
             "fillmode": "overlay",
             "size": 10,
             "solidity": 0.2
            },
            "type": "scatter"
           }
          ],
          "scatter3d": [
           {
            "line": {
             "colorbar": {
              "outlinewidth": 0,
              "ticks": ""
             }
            },
            "marker": {
             "colorbar": {
              "outlinewidth": 0,
              "ticks": ""
             }
            },
            "type": "scatter3d"
           }
          ],
          "scattercarpet": [
           {
            "marker": {
             "colorbar": {
              "outlinewidth": 0,
              "ticks": ""
             }
            },
            "type": "scattercarpet"
           }
          ],
          "scattergeo": [
           {
            "marker": {
             "colorbar": {
              "outlinewidth": 0,
              "ticks": ""
             }
            },
            "type": "scattergeo"
           }
          ],
          "scattergl": [
           {
            "marker": {
             "colorbar": {
              "outlinewidth": 0,
              "ticks": ""
             }
            },
            "type": "scattergl"
           }
          ],
          "scattermap": [
           {
            "marker": {
             "colorbar": {
              "outlinewidth": 0,
              "ticks": ""
             }
            },
            "type": "scattermap"
           }
          ],
          "scattermapbox": [
           {
            "marker": {
             "colorbar": {
              "outlinewidth": 0,
              "ticks": ""
             }
            },
            "type": "scattermapbox"
           }
          ],
          "scatterpolar": [
           {
            "marker": {
             "colorbar": {
              "outlinewidth": 0,
              "ticks": ""
             }
            },
            "type": "scatterpolar"
           }
          ],
          "scatterpolargl": [
           {
            "marker": {
             "colorbar": {
              "outlinewidth": 0,
              "ticks": ""
             }
            },
            "type": "scatterpolargl"
           }
          ],
          "scatterternary": [
           {
            "marker": {
             "colorbar": {
              "outlinewidth": 0,
              "ticks": ""
             }
            },
            "type": "scatterternary"
           }
          ],
          "surface": [
           {
            "colorbar": {
             "outlinewidth": 0,
             "ticks": ""
            },
            "colorscale": [
             [
              0,
              "#0d0887"
             ],
             [
              0.1111111111111111,
              "#46039f"
             ],
             [
              0.2222222222222222,
              "#7201a8"
             ],
             [
              0.3333333333333333,
              "#9c179e"
             ],
             [
              0.4444444444444444,
              "#bd3786"
             ],
             [
              0.5555555555555556,
              "#d8576b"
             ],
             [
              0.6666666666666666,
              "#ed7953"
             ],
             [
              0.7777777777777778,
              "#fb9f3a"
             ],
             [
              0.8888888888888888,
              "#fdca26"
             ],
             [
              1,
              "#f0f921"
             ]
            ],
            "type": "surface"
           }
          ],
          "table": [
           {
            "cells": {
             "fill": {
              "color": "#EBF0F8"
             },
             "line": {
              "color": "white"
             }
            },
            "header": {
             "fill": {
              "color": "#C8D4E3"
             },
             "line": {
              "color": "white"
             }
            },
            "type": "table"
           }
          ]
         },
         "layout": {
          "annotationdefaults": {
           "arrowcolor": "#2a3f5f",
           "arrowhead": 0,
           "arrowwidth": 1
          },
          "autotypenumbers": "strict",
          "coloraxis": {
           "colorbar": {
            "outlinewidth": 0,
            "ticks": ""
           }
          },
          "colorscale": {
           "diverging": [
            [
             0,
             "#8e0152"
            ],
            [
             0.1,
             "#c51b7d"
            ],
            [
             0.2,
             "#de77ae"
            ],
            [
             0.3,
             "#f1b6da"
            ],
            [
             0.4,
             "#fde0ef"
            ],
            [
             0.5,
             "#f7f7f7"
            ],
            [
             0.6,
             "#e6f5d0"
            ],
            [
             0.7,
             "#b8e186"
            ],
            [
             0.8,
             "#7fbc41"
            ],
            [
             0.9,
             "#4d9221"
            ],
            [
             1,
             "#276419"
            ]
           ],
           "sequential": [
            [
             0,
             "#0d0887"
            ],
            [
             0.1111111111111111,
             "#46039f"
            ],
            [
             0.2222222222222222,
             "#7201a8"
            ],
            [
             0.3333333333333333,
             "#9c179e"
            ],
            [
             0.4444444444444444,
             "#bd3786"
            ],
            [
             0.5555555555555556,
             "#d8576b"
            ],
            [
             0.6666666666666666,
             "#ed7953"
            ],
            [
             0.7777777777777778,
             "#fb9f3a"
            ],
            [
             0.8888888888888888,
             "#fdca26"
            ],
            [
             1,
             "#f0f921"
            ]
           ],
           "sequentialminus": [
            [
             0,
             "#0d0887"
            ],
            [
             0.1111111111111111,
             "#46039f"
            ],
            [
             0.2222222222222222,
             "#7201a8"
            ],
            [
             0.3333333333333333,
             "#9c179e"
            ],
            [
             0.4444444444444444,
             "#bd3786"
            ],
            [
             0.5555555555555556,
             "#d8576b"
            ],
            [
             0.6666666666666666,
             "#ed7953"
            ],
            [
             0.7777777777777778,
             "#fb9f3a"
            ],
            [
             0.8888888888888888,
             "#fdca26"
            ],
            [
             1,
             "#f0f921"
            ]
           ]
          },
          "colorway": [
           "#636efa",
           "#EF553B",
           "#00cc96",
           "#ab63fa",
           "#FFA15A",
           "#19d3f3",
           "#FF6692",
           "#B6E880",
           "#FF97FF",
           "#FECB52"
          ],
          "font": {
           "color": "#2a3f5f"
          },
          "geo": {
           "bgcolor": "white",
           "lakecolor": "white",
           "landcolor": "#E5ECF6",
           "showlakes": true,
           "showland": true,
           "subunitcolor": "white"
          },
          "hoverlabel": {
           "align": "left"
          },
          "hovermode": "closest",
          "mapbox": {
           "style": "light"
          },
          "paper_bgcolor": "white",
          "plot_bgcolor": "#E5ECF6",
          "polar": {
           "angularaxis": {
            "gridcolor": "white",
            "linecolor": "white",
            "ticks": ""
           },
           "bgcolor": "#E5ECF6",
           "radialaxis": {
            "gridcolor": "white",
            "linecolor": "white",
            "ticks": ""
           }
          },
          "scene": {
           "xaxis": {
            "backgroundcolor": "#E5ECF6",
            "gridcolor": "white",
            "gridwidth": 2,
            "linecolor": "white",
            "showbackground": true,
            "ticks": "",
            "zerolinecolor": "white"
           },
           "yaxis": {
            "backgroundcolor": "#E5ECF6",
            "gridcolor": "white",
            "gridwidth": 2,
            "linecolor": "white",
            "showbackground": true,
            "ticks": "",
            "zerolinecolor": "white"
           },
           "zaxis": {
            "backgroundcolor": "#E5ECF6",
            "gridcolor": "white",
            "gridwidth": 2,
            "linecolor": "white",
            "showbackground": true,
            "ticks": "",
            "zerolinecolor": "white"
           }
          },
          "shapedefaults": {
           "line": {
            "color": "#2a3f5f"
           }
          },
          "ternary": {
           "aaxis": {
            "gridcolor": "white",
            "linecolor": "white",
            "ticks": ""
           },
           "baxis": {
            "gridcolor": "white",
            "linecolor": "white",
            "ticks": ""
           },
           "bgcolor": "#E5ECF6",
           "caxis": {
            "gridcolor": "white",
            "linecolor": "white",
            "ticks": ""
           }
          },
          "title": {
           "x": 0.05
          },
          "xaxis": {
           "automargin": true,
           "gridcolor": "white",
           "linecolor": "white",
           "ticks": "",
           "title": {
            "standoff": 15
           },
           "zerolinecolor": "white",
           "zerolinewidth": 2
          },
          "yaxis": {
           "automargin": true,
           "gridcolor": "white",
           "linecolor": "white",
           "ticks": "",
           "title": {
            "standoff": 15
           },
           "zerolinecolor": "white",
           "zerolinewidth": 2
          }
         }
        },
        "title": {
         "text": "AND Gate Visualization (Plotly)"
        }
       }
      }
     },
     "metadata": {},
     "output_type": "display_data"
    }
   ],
   "source": [
    "\n",
    "\n",
    "import matplotlib.pyplot as plt\n",
    "import plotly.graph_objects as go\n",
    "\n",
    "# Datos para visualización (AND como ejemplo)\n",
    "inputs = np.array([[0, 0], [0, 1], [1, 0], [1, 1]])\n",
    "outputs_and = np.array([and_neuron.activate(x) for x in inputs])\n",
    "\n",
    "# Matplotlib\n",
    "plt.figure(figsize=(8, 4))\n",
    "plt.scatter(inputs[:, 0], inputs[:, 1], c=outputs_and, cmap='coolwarm', s=100)\n",
    "plt.title(\"AND Gate Visualization (Matplotlib)\")\n",
    "plt.xlabel(\"Input A\")\n",
    "plt.ylabel(\"Input B\")\n",
    "plt.colorbar(label=\"Output (0 or 1)\")\n",
    "plt.grid(True)\n",
    "plt.show()\n",
    "\n",
    "# Plotly\n",
    "fig = go.Figure(data=[go.Scatter3d(\n",
    "    x=inputs[:, 0],\n",
    "    y=inputs[:, 1],\n",
    "    z=outputs_and,\n",
    "    mode='markers',\n",
    "    marker=dict(size=10, color=outputs_and, colorscale='Viridis')\n",
    ")])\n",
    "fig.update_layout(\n",
    "    title=\"AND Gate Visualization (Plotly)\",\n",
    "    scene=dict(xaxis_title='Input A', yaxis_title='Input B', zaxis_title='Output')\n",
    ")\n",
    "fig.show()\n",
    "\n",
    "\n"
   ]
  },
  {
   "cell_type": "markdown",
   "id": "a747ccbb",
   "metadata": {},
   "source": [
    "# Referentes   \n",
    "\n",
    "OpenAI. (2025, septiembre 4). ChatGPT [Modelo de lenguaje grande]. https://chat.openai.com/ \n",
    "\n",
    "Geron, A. (2019). Hands-on machine learning with Scikit-Learn, Keras, and TensorFlow: Concepts, tools, and techniques to build intelligent systems (2.ª ed.). O’Reilly Media.\n"
   ]
  },
  {
   "cell_type": "markdown",
   "id": "a85550af",
   "metadata": {},
   "source": []
  }
 ],
 "metadata": {
  "kernelspec": {
   "display_name": ".venv",
   "language": "python",
   "name": "python3"
  },
  "language_info": {
   "codemirror_mode": {
    "name": "ipython",
    "version": 3
   },
   "file_extension": ".py",
   "mimetype": "text/x-python",
   "name": "python",
   "nbconvert_exporter": "python",
   "pygments_lexer": "ipython3",
   "version": "3.11.9"
  }
 },
 "nbformat": 4,
 "nbformat_minor": 5
}
