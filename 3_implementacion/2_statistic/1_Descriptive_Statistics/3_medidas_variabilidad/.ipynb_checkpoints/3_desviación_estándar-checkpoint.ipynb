{
 "cells": [
  {
   "cell_type": "markdown",
   "id": "5a667c1d",
   "metadata": {
    "slideshow": {
     "slide_type": "slide"
    }
   },
   "source": [
    "<table align=\"left\">\n",
    "  <td>\n",
    "    <a href=\"https://colab.research.google.com/github/marco-canas/7_didactica_ciencia_datos/blob/main/propuesta/unidad_didac/1_statistic/1_Basic_Descriptive_Statistics/2_medidas_variabilidad/3_desviaci%C3%B3n_est%C3%A1ndar.ipynb\" target=\"_parent\"><img src=\"https://colab.research.google.com/assets/colab-badge.svg\" alt=\"Open In Colab\"/></a>\n",
    "  </td>\n",
    "</table>"
   ]
  },
  {
   "cell_type": "markdown",
   "id": "c91138d3",
   "metadata": {
    "slideshow": {
     "slide_type": "slide"
    }
   },
   "source": [
    "## [Video de apoyo a la lectura interactiva y experimental de este cuaderno](https://www.youtube.com/watch?v=fZOwQ1ZIgaA)"
   ]
  },
  {
   "cell_type": "markdown",
   "id": "697ed139",
   "metadata": {
    "slideshow": {
     "slide_type": "slide"
    }
   },
   "source": [
    "# Desviación estándar"
   ]
  },
  {
   "cell_type": "markdown",
   "id": "c3fcc0e9",
   "metadata": {
    "slideshow": {
     "slide_type": "slide"
    }
   },
   "source": [
    "### Definición verbal y definición simbólica con latex"
   ]
  },
  {
   "cell_type": "markdown",
   "id": "aa72e8c9",
   "metadata": {
    "slideshow": {
     "slide_type": "slide"
    }
   },
   "source": [
    "es la raíz cuadrada de error cuadrático promedio con respecto a la media muestral"
   ]
  },
  {
   "cell_type": "markdown",
   "id": "ba0b179c",
   "metadata": {
    "slideshow": {
     "slide_type": "slide"
    }
   },
   "source": [
    "$$ s = \\sqrt{ \\frac{\\sum (x_{i} - \\bar{x})^{2}}{n}} $$"
   ]
  },
  {
   "cell_type": "markdown",
   "id": "3ee50691",
   "metadata": {
    "slideshow": {
     "slide_type": "slide"
    }
   },
   "source": [
    "# Calcular la Desviación estándar con una función personalizada de Python"
   ]
  },
  {
   "cell_type": "code",
   "execution_count": 8,
   "id": "62d671f7",
   "metadata": {
    "slideshow": {
     "slide_type": "slide"
    }
   },
   "outputs": [],
   "source": [
    "import numpy as np \n",
    "def calcular_desviacion_estandar(datos):\n",
    "    media = np.mean(datos)\n",
    "    desviaciones = datos - media\n",
    "    cuadrados_de_las_desviaciones = desviaciones**2\n",
    "    suma_cua = np.sum(cuadrados_de_las_desviaciones)\n",
    "    desviacion_estandar = np.sqrt(suma_cua/len(datos))\n",
    "    return desviacion_estandar\n",
    "    "
   ]
  },
  {
   "cell_type": "code",
   "execution_count": 9,
   "id": "d87b3d0a",
   "metadata": {
    "slideshow": {
     "slide_type": "slide"
    }
   },
   "outputs": [],
   "source": [
    "datos = np.array([[2,2,3],[1,2,3]])"
   ]
  },
  {
   "cell_type": "code",
   "execution_count": 10,
   "id": "26e60d88",
   "metadata": {
    "slideshow": {
     "slide_type": "slide"
    }
   },
   "outputs": [
    {
     "data": {
      "text/plain": [
       "array([[2, 2, 3],\n",
       "       [1, 2, 3]])"
      ]
     },
     "execution_count": 10,
     "metadata": {},
     "output_type": "execute_result"
    }
   ],
   "source": [
    "datos"
   ]
  },
  {
   "cell_type": "code",
   "execution_count": 11,
   "id": "6a3d5843",
   "metadata": {
    "slideshow": {
     "slide_type": "slide"
    }
   },
   "outputs": [
    {
     "data": {
      "text/plain": [
       "0.5"
      ]
     },
     "execution_count": 11,
     "metadata": {},
     "output_type": "execute_result"
    }
   ],
   "source": [
    "calcular_desviacion_estandar(datos[:,0])"
   ]
  },
  {
   "cell_type": "markdown",
   "id": "c4258b72",
   "metadata": {
    "slideshow": {
     "slide_type": "slide"
    }
   },
   "source": [
    "# [Calcular la desviación estándar con numpy.std() de NumPy](https://numpy.org/doc/stable/reference/generated/numpy.std.html)"
   ]
  },
  {
   "cell_type": "markdown",
   "id": "0a777455",
   "metadata": {
    "slideshow": {
     "slide_type": "slide"
    }
   },
   "source": [
    "# numpy.std   \n",
    "`numpy.std(a, axis=None, dtype=None, out=None, ddof=0, keepdims=<no value>, *, where=<no value>)`"
   ]
  },
  {
   "cell_type": "markdown",
   "id": "8a136751",
   "metadata": {
    "slideshow": {
     "slide_type": "slide"
    }
   },
   "source": [
    "Compute the standard deviation along the specified axis."
   ]
  },
  {
   "cell_type": "markdown",
   "id": "35956814",
   "metadata": {
    "slideshow": {
     "slide_type": "slide"
    }
   },
   "source": [
    "Returns the standard deviation, a measure of the spread of a distribution, of the array elements. The standard deviation is computed for the flattened array by default, otherwise over the specified axis."
   ]
  },
  {
   "cell_type": "code",
   "execution_count": 13,
   "id": "54a3e145",
   "metadata": {
    "slideshow": {
     "slide_type": "slide"
    }
   },
   "outputs": [
    {
     "data": {
      "text/plain": [
       "array([0.47140452, 0.81649658])"
      ]
     },
     "execution_count": 13,
     "metadata": {},
     "output_type": "execute_result"
    }
   ],
   "source": [
    "np.std(datos, axis = 1)"
   ]
  },
  {
   "cell_type": "markdown",
   "id": "f1eb860d",
   "metadata": {},
   "source": [
    "# Animación para mostrar como el nivel de variablidad aumenta la desviación entandar"
   ]
  },
  {
   "cell_type": "code",
   "execution_count": null,
   "id": "6722392a",
   "metadata": {},
   "outputs": [],
   "source": []
  },
  {
   "cell_type": "markdown",
   "id": "afe5385c",
   "metadata": {},
   "source": [
    "# Tareas para fijar conceptos y adquirir habilidades"
   ]
  },
  {
   "cell_type": "markdown",
   "id": "0c2defed",
   "metadata": {},
   "source": [
    "1. Calcule la variabilidad de las edades en su salón de clases. Escriba una insterpretación del resultado obtenido. \n",
    "2. Calcule la variabilidad de las edades en su salón de clases"
   ]
  },
  {
   "cell_type": "markdown",
   "id": "38ad6bdc",
   "metadata": {},
   "source": [
    "# Evaluacion"
   ]
  },
  {
   "cell_type": "markdown",
   "id": "da4ec99e",
   "metadata": {
    "slideshow": {
     "slide_type": "slide"
    }
   },
   "source": [
    "1. Si las edades en un salón de clase son todad iguales a la de Janis. Diga cual es la desviación entandar  y porque. "
   ]
  },
  {
   "cell_type": "code",
   "execution_count": 11,
   "id": "e11e3bc1",
   "metadata": {
    "slideshow": {
     "slide_type": "slide"
    }
   },
   "outputs": [],
   "source": [
    "import numpy as np \n",
    "edades = np.array([24, 24, 24, 25, 24, 24])"
   ]
  },
  {
   "cell_type": "code",
   "execution_count": 12,
   "id": "b0729645",
   "metadata": {},
   "outputs": [
    {
     "data": {
      "text/plain": [
       "0.3726779962499649"
      ]
     },
     "execution_count": 12,
     "metadata": {},
     "output_type": "execute_result"
    }
   ],
   "source": [
    "edades.std() "
   ]
  },
  {
   "cell_type": "code",
   "execution_count": 4,
   "id": "508b7be0",
   "metadata": {},
   "outputs": [],
   "source": [
    "from sklearn.datasets import load_iris "
   ]
  },
  {
   "cell_type": "code",
   "execution_count": 5,
   "id": "cba3ca80",
   "metadata": {},
   "outputs": [],
   "source": [
    "iris = load_iris() "
   ]
  },
  {
   "cell_type": "code",
   "execution_count": 6,
   "id": "58471469",
   "metadata": {
    "slideshow": {
     "slide_type": "slide"
    }
   },
   "outputs": [
    {
     "data": {
      "text/plain": [
       "dict_keys(['data', 'target', 'frame', 'target_names', 'DESCR', 'feature_names', 'filename', 'data_module'])"
      ]
     },
     "execution_count": 6,
     "metadata": {},
     "output_type": "execute_result"
    }
   ],
   "source": [
    "iris.keys()"
   ]
  },
  {
   "cell_type": "code",
   "execution_count": 8,
   "id": "7a30afdd",
   "metadata": {
    "slideshow": {
     "slide_type": "slide"
    }
   },
   "outputs": [
    {
     "data": {
      "text/plain": [
       "array([0, 0, 0, 0, 0, 0, 0, 0, 0, 0, 0, 0, 0, 0, 0, 0, 0, 0, 0, 0, 0, 0,\n",
       "       0, 0, 0, 0, 0, 0, 0, 0, 0, 0, 0, 0, 0, 0, 0, 0, 0, 0, 0, 0, 0, 0,\n",
       "       0, 0, 0, 0, 0, 0, 1, 1, 1, 1, 1, 1, 1, 1, 1, 1, 1, 1, 1, 1, 1, 1,\n",
       "       1, 1, 1, 1, 1, 1, 1, 1, 1, 1, 1, 1, 1, 1, 1, 1, 1, 1, 1, 1, 1, 1,\n",
       "       1, 1, 1, 1, 1, 1, 1, 1, 1, 1, 1, 1, 2, 2, 2, 2, 2, 2, 2, 2, 2, 2,\n",
       "       2, 2, 2, 2, 2, 2, 2, 2, 2, 2, 2, 2, 2, 2, 2, 2, 2, 2, 2, 2, 2, 2,\n",
       "       2, 2, 2, 2, 2, 2, 2, 2, 2, 2, 2, 2, 2, 2, 2, 2, 2, 2])"
      ]
     },
     "execution_count": 8,
     "metadata": {},
     "output_type": "execute_result"
    }
   ],
   "source": [
    "iris.target"
   ]
  },
  {
   "cell_type": "markdown",
   "id": "bd49d8af",
   "metadata": {
    "slideshow": {
     "slide_type": "slide"
    }
   },
   "source": [
    "## Referentes"
   ]
  },
  {
   "cell_type": "markdown",
   "id": "db52797a",
   "metadata": {
    "slideshow": {
     "slide_type": "slide"
    }
   },
   "source": [
    "* Documentación de la función numpy.std() de NumPy: https://numpy.org/doc/stable/reference/generated/numpy.std.html"
   ]
  },
  {
   "cell_type": "markdown",
   "id": "9ce95b6f",
   "metadata": {
    "slideshow": {
     "slide_type": "slide"
    }
   },
   "source": [
    "## [Continue su aprendizaje con los elementos de estadística inferencial para data science](https://github.com/marco-canas/7_didactica_ciencia_datos/blob/main/propuesta/unidad_didac/1_statistic/2_Probability_And_Statistics/1_normal.ipynb)"
   ]
  },
  {
   "cell_type": "code",
   "execution_count": null,
   "id": "b7f0ffbf",
   "metadata": {},
   "outputs": [],
   "source": []
  }
 ],
 "metadata": {
  "celltoolbar": "Slideshow",
  "kernelspec": {
   "display_name": "Python 3 (ipykernel)",
   "language": "python",
   "name": "python3"
  },
  "language_info": {
   "codemirror_mode": {
    "name": "ipython",
    "version": 3
   },
   "file_extension": ".py",
   "mimetype": "text/x-python",
   "name": "python",
   "nbconvert_exporter": "python",
   "pygments_lexer": "ipython3",
   "version": "3.9.13"
  },
  "vscode": {
   "interpreter": {
    "hash": "ae115c8122ba000a648ea691cf086e95841d767d998fc7ed45e791bf48fd755e"
   }
  }
 },
 "nbformat": 4,
 "nbformat_minor": 5
}
