{
 "cells": [
  {
   "cell_type": "markdown",
   "id": "dc06dec7",
   "metadata": {
    "slideshow": {
     "slide_type": "slide"
    }
   },
   "source": [
    "<table align=\"left\">\n",
    "  <td>\n",
    "    <a href=\"https://colab.research.google.com/github/ageron/handson-ml3/blob/main/tools_numpy.ipynb\" target=\"_parent\"><img src=\"https://colab.research.google.com/assets/colab-badge.svg\" alt=\"Open In Colab\"/></a>\n",
    "  </td>\n",
    "  <td>\n",
    "    <a target=\"_blank\" href=\"https://kaggle.com/kernels/welcome?src=https://github.com/ageron/handson-ml3/blob/main/tools_numpy.ipynb\"><img src=\"https://kaggle.com/static/images/open-in-kaggle.svg\" /></a>\n",
    "  </td>\n",
    "</table>"
   ]
  },
  {
   "cell_type": "markdown",
   "id": "e0c5b198",
   "metadata": {
    "slideshow": {
     "slide_type": "slide"
    }
   },
   "source": [
    "### [Video de apoyo a la lectura interactiva y experimental de este cuaderno]()"
   ]
  },
  {
   "cell_type": "markdown",
   "id": "41e82203",
   "metadata": {
    "slideshow": {
     "slide_type": "slide"
    }
   },
   "source": [
    "### [Vínculo al programa del curso:  ]()\n",
    "\n"
   ]
  },
  {
   "cell_type": "markdown",
   "id": "d11ab06d",
   "metadata": {
    "slideshow": {
     "slide_type": "slide"
    }
   },
   "source": [
    "Un reconocimiento a mis estudiantes que han construido conmigo este saber pedagógico:\n",
    "\n",
    "<img src = 'gibacc_2025-07-10.jpeg'> \n",
    "\n"
   ]
  },
  {
   "cell_type": "markdown",
   "id": "8a74a56c-0ce6-4ad6-b985-553fd7fb68bb",
   "metadata": {},
   "source": [
    "Reconocimiento a las profesoras destacadas en enseñanza de la matemática en Colombia\n"
   ]
  },
  {
   "cell_type": "code",
   "execution_count": 10,
   "id": "6cb89c0b",
   "metadata": {},
   "outputs": [
    {
     "data": {
      "application/vnd.microsoft.datawrangler.viewer.v0+json": {
       "columns": [
        {
         "name": "index",
         "rawType": "int64",
         "type": "integer"
        },
        {
         "name": "Nombre",
         "rawType": "object",
         "type": "string"
        }
       ],
       "ref": "fddf51e2-49f5-4d33-a950-7fe2bd39c019",
       "rows": [],
       "shape": {
        "columns": 1,
        "rows": 0
       }
      },
      "text/html": [
       "<div>\n",
       "<style scoped>\n",
       "    .dataframe tbody tr th:only-of-type {\n",
       "        vertical-align: middle;\n",
       "    }\n",
       "\n",
       "    .dataframe tbody tr th {\n",
       "        vertical-align: top;\n",
       "    }\n",
       "\n",
       "    .dataframe thead th {\n",
       "        text-align: right;\n",
       "    }\n",
       "</style>\n",
       "<table border=\"1\" class=\"dataframe\">\n",
       "  <thead>\n",
       "    <tr style=\"text-align: right;\">\n",
       "      <th></th>\n",
       "      <th>Nombre</th>\n",
       "    </tr>\n",
       "  </thead>\n",
       "  <tbody>\n",
       "  </tbody>\n",
       "</table>\n",
       "</div>"
      ],
      "text/plain": [
       "Empty DataFrame\n",
       "Columns: [Nombre]\n",
       "Index: []"
      ]
     },
     "execution_count": 10,
     "metadata": {},
     "output_type": "execute_result"
    }
   ],
   "source": [
    "import pandas as pd\n",
    "import numpy as np\n",
    "\n",
    "# Cargar la lista de estudiantes desde el archivo CSV\n",
    "path = 'C:/Users/marco/Documentos/docencia/groups_list/g_lideres.xlsx'\n",
    "df = pd.read_excel(path)\n",
    "df.head() \n",
    "\n"
   ]
  },
  {
   "cell_type": "markdown",
   "id": "d7598d0a-d9b7-4ae0-b029-a0ed6ed1130b",
   "metadata": {},
   "source": [
    "\n",
    "# Principios de mi labor docente"
   ]
  },
  {
   "cell_type": "markdown",
   "id": "4f9d8cf9",
   "metadata": {
    "slideshow": {
     "slide_type": "slide"
    }
   },
   "source": [
    "## Modelo general de clase: [aula invertida](https://www3.gobiernodecanarias.org/medusa/ecoescuela/pedagotic/aprendizaje-invertido-flipped-classroom/)"
   ]
  },
  {
   "cell_type": "markdown",
   "id": "eb6ed03a",
   "metadata": {},
   "source": [
    "<img src = 'https://resources.maneuveringthemiddle.com/wp-content/uploads/2020/07/04212706/1-5.png' width = 200>  \n",
    "\n"
   ]
  },
  {
   "cell_type": "markdown",
   "id": "34319cce-a71b-4f64-aab8-b53e521efa40",
   "metadata": {},
   "source": [
    "# Metodología Aprendizaje Basado en Problemas y Proyectos (ABPP)\n"
   ]
  },
  {
   "cell_type": "markdown",
   "id": "c4f73d81",
   "metadata": {},
   "source": [
    "\n",
    "<img src = 'https://www.unir.net/wp-content/uploads/2020/07/aprendizaje-problemas2-1-1-1-1.jpeg' width = 200>"
   ]
  },
  {
   "cell_type": "markdown",
   "id": "841a985c-bd9b-4dd3-8e4c-893983980af2",
   "metadata": {},
   "source": [
    "# Desarrollo del pensamiento computacional con Lenguajes Python, R; y con archivos R Markdown orientado a la formación en ciencia de datos \n",
    "\n"
   ]
  },
  {
   "cell_type": "markdown",
   "id": "3d0eba94",
   "metadata": {},
   "source": [
    "\n",
    "<img src = 'https://i.ytimg.com/vi/mcG_wcR4e6M/maxresdefault.jpg' width = 200>"
   ]
  },
  {
   "cell_type": "markdown",
   "id": "65aa0404-f7ae-495e-864c-1aec01b4255e",
   "metadata": {},
   "source": [
    "# Principio de fomento a la ciencia abierta, enseñar en el acceso a los datos públicos y el uso de software de código abierto  \n"
   ]
  },
  {
   "cell_type": "markdown",
   "id": "18ae9b87",
   "metadata": {},
   "source": [
    "\n",
    "<img src = 'https://unesdoc.unesco.org/in/rest/Thumb/image?id=p%3A%3Ausmarcdef_0000379949_spa&author=UNESCO&title=Recomendaci%C3%B3n+de+la+UNESCO+sobre+la+Ciencia+Abierta&year=2021&publisher=UNESCO&TypeOfDocument=UnescoPhysicalDocument&mat=PGD&ct=true&size=512&isPhysical=1' width = 200>"
   ]
  },
  {
   "cell_type": "markdown",
   "id": "d9559f85",
   "metadata": {},
   "source": [
    "El enfoque STEAMS en educación preescolar, primaria y secundaria es una extensión del enfoque STEM (Ciencia, Tecnología, Ingeniería y Matemáticas) y su variante STEAM, que incorpora el Arte. "
   ]
  },
  {
   "cell_type": "markdown",
   "id": "10e55ccf",
   "metadata": {},
   "source": [
    "# Estructura general para todas las clases\n",
    "\n",
    "Dame, por favor, un diseño de clase, con el enfoque: \"Aula Invertida, STEAMS y de Aprendizaje Basado en Problemas y Proyectos(ABPP)\" sobre: \"La librería Plotly Dash y su uso en el proyecto investigativo: Aplicación de Análisis Predictivo para la Gestión de Riesgos Climáticos en Cultivos de Arroz y Cacao del Bajo Cauca.  \", siguiendo la estructura:  \n",
    "\n",
    "1. Título de la clase \n",
    "2. Objetivos de aprendizaje que incluyan los indicadores del logro de estos objetivos.\n",
    "3. Un mapa conceptual que resuma la clase elaborado en Graphviz de python con nodos y edges de diferentes formas, colores y rellenos y renderizado en la siguiente ubicación: `\"C:/Users/marco/Descargas\"`. No olvides el parámetro `view = True` para el método `render()` de graphviz. \n",
    "4. Dame elementos históricos y epistemológicos asociados a esta clase, pero contados como un cuento al estilo de un cuentero antioqueño en Colombia. Incluye imágenes de los protagonistas históricos de esta clase. \n",
    "5. Contenido de la clase. Que el contenido parta de una situación real para llegar a una constitución del modelo matemático que represente tal situación real. \n",
    "6. Actividades de aprendizaje\n",
    "7. Incluye una canción o un poema que ayude a interiorizar y fijar los conceptos asociados a esta clase. \n",
    "8. Tarea o actividades de ejercitación y fijación\n",
    "9. Evaluación incluyendo diez proyectos, un ejemplo de quiz (de tres preguntas) y un ejemplo de parcial (de cinco puntos)\n",
    "10. Diseño de actividad de retroalimentación. \n",
    "11. Dame un vocabulario y frases del idioma inglés asociadas a esta clase.   \n",
    "12. Incluye apéndice para la clase sobre desarrollo de habilidades para trabajar en equipo y de asertividad y empatía para relacionarnos. También elementos de la inteligencia emocional para presentar pruebas sin temor y sin realizar fraude en ellas. \n",
    "13. Incluye 10 referentes en didáctica de la matemática que estén de acuerdo a la propuesta didáctica de esta clase. Adiciona a estos referentes a Raymond Duval (Representaciones y cambios de representación para la adquisición de conceptos matemáticos) y a Jeannette Wing (Desarrollo del pensamiento computacional). Déjame todos estos referentes ordenados de acuerdo a las normas APA. Déjame todos estos referentes ordenados de acuerdo a las normas APA. Incluye las citaciones a estos referentes a medida que vallas diseñando la clase.   \n",
    "\n",
    "Pero  que este diseño sea para que el estudiante pueda aprender experimentando en cuadernos Jupyter con funciones de usuario y animaciones y visualizaciones en python. En particular utiliza para el diseño de clase a Numpy, Pandas, SymPy, Matplotlib.pyplot, Seaborn, Plotly, ipywidgets, matplotlib.animation y Jupyter Notebook.  Cada vez que utilices `matplotlib.animacion` no olvides incluir el uso de `IPython. display` para la rederización de estas animaciones a través de Jupyter Notebook. No olvides darme los diseños de clase con las ecuaciones matemáticas delimitadas con signo de dolar $ para que VS Code si me renderize estas expresiones del lenguaje latex. Cuando vallas a utilizar ipywidgets ten en cuenta la siguiente importación inicial para garantizar que la visualización interactiva si se renderize en VS Code: import numpy as np\n",
    "import matplotlib.pyplot as plt\n",
    "import ipywidgets as widgets\n",
    "from IPython.display import display, clear_output\n",
    "from matplotlib.patches import Rectangle\n",
    "\n",
    "# Configuración inicial para visualización estática\n",
    "%matplotlib inline "
   ]
  },
  {
   "cell_type": "code",
   "execution_count": 8,
   "id": "81235e9f",
   "metadata": {},
   "outputs": [],
   "source": [
    "path_image = r'C:/Users/marco/Downloads'\n",
    "def save_fig(nombre_archivo_imagen):\n",
    "    import os \n",
    "    import matplotlib.pyplot as plt \n",
    "    imagen_path = os.path.join(path_image, nombre_archivo_imagen)\n",
    "    plt.savefig(imagen_path, bbox_inches='tight')"
   ]
  },
  {
   "cell_type": "markdown",
   "id": "26fdad37",
   "metadata": {},
   "source": [
    "# Visualizaciones Multimodales con Plotly Dash e ipyleaflet para el Proyecto del Bajo Cauca\n"
   ]
  },
  {
   "cell_type": "markdown",
   "id": "343cd315",
   "metadata": {},
   "source": [
    "\n",
    "## Plotly Dash: Dashboard Interactivo para Análisis Climático\n"
   ]
  },
  {
   "cell_type": "markdown",
   "id": "a16b341a",
   "metadata": {},
   "source": [
    "\n",
    "**Aplicación en el proyecto**:\n",
    "Plotly Dash permite crear un panel de control completo para visualizar las predicciones de riesgo climático y su impacto en los cultivos de arroz.\n"
   ]
  },
  {
   "cell_type": "markdown",
   "id": "db769541",
   "metadata": {},
   "source": [
    "\n",
    "### Representaciones clave implementadas:\n"
   ]
  },
  {
   "cell_type": "markdown",
   "id": "f0686da6",
   "metadata": {},
   "source": [
    "\n",
    "1. **Gráfico de Series Temporales Interactivo**:\n"
   ]
  },
  {
   "cell_type": "code",
   "execution_count": 11,
   "id": "5c465488",
   "metadata": {},
   "outputs": [],
   "source": [
    "import plotly.express as px\n",
    "from dash import Dash, dcc, html\n",
    "import pandas as pd\n",
    "import numpy as np\n"
   ]
  },
  {
   "cell_type": "code",
   "execution_count": 15,
   "id": "f9e012c9",
   "metadata": {},
   "outputs": [],
   "source": [
    "\n",
    "# Generación de datos artificiales para el Bajo Cauca\n",
    "np.random.seed(42)  # Para reproducibilidad\n",
    "municipios = ['Caucasia', 'Tarazá', 'Valdivia', 'El Bagre', 'Zaragoza']\n",
    "fechas = pd.date_range(start='2023-01-01', end='2023-12-31', freq='ME')\n",
    "num_meses = len(fechas)\n"
   ]
  },
  {
   "cell_type": "code",
   "execution_count": 13,
   "id": "77d8040d",
   "metadata": {},
   "outputs": [
    {
     "data": {
      "text/plain": [
       "['Caucasia', 'Tarazá', 'Valdivia', 'El Bagre', 'Zaragoza']"
      ]
     },
     "execution_count": 13,
     "metadata": {},
     "output_type": "execute_result"
    }
   ],
   "source": [
    "municipios "
   ]
  },
  {
   "cell_type": "code",
   "execution_count": 14,
   "id": "7ddb59fb",
   "metadata": {},
   "outputs": [
    {
     "data": {
      "text/plain": [
       "DatetimeIndex(['2023-01-31', '2023-02-28', '2023-03-31', '2023-04-30',\n",
       "               '2023-05-31', '2023-06-30', '2023-07-31', '2023-08-31',\n",
       "               '2023-09-30', '2023-10-31', '2023-11-30', '2023-12-31'],\n",
       "              dtype='datetime64[ns]', freq='ME')"
      ]
     },
     "execution_count": 14,
     "metadata": {},
     "output_type": "execute_result"
    }
   ],
   "source": [
    "fechas "
   ]
  },
  {
   "cell_type": "code",
   "execution_count": 16,
   "id": "019de7d0",
   "metadata": {},
   "outputs": [
    {
     "data": {
      "text/plain": [
       "12"
      ]
     },
     "execution_count": 16,
     "metadata": {},
     "output_type": "execute_result"
    }
   ],
   "source": [
    "len(fechas)"
   ]
  },
  {
   "cell_type": "code",
   "execution_count": 18,
   "id": "f046c460",
   "metadata": {},
   "outputs": [
    {
     "data": {
      "text/plain": [
       "[(0, Timestamp('2023-01-31 00:00:00')),\n",
       " (1, Timestamp('2023-02-28 00:00:00')),\n",
       " (2, Timestamp('2023-03-31 00:00:00')),\n",
       " (3, Timestamp('2023-04-30 00:00:00')),\n",
       " (4, Timestamp('2023-05-31 00:00:00')),\n",
       " (5, Timestamp('2023-06-30 00:00:00')),\n",
       " (6, Timestamp('2023-07-31 00:00:00')),\n",
       " (7, Timestamp('2023-08-31 00:00:00')),\n",
       " (8, Timestamp('2023-09-30 00:00:00')),\n",
       " (9, Timestamp('2023-10-31 00:00:00')),\n",
       " (10, Timestamp('2023-11-30 00:00:00')),\n",
       " (11, Timestamp('2023-12-31 00:00:00'))]"
      ]
     },
     "execution_count": 18,
     "metadata": {},
     "output_type": "execute_result"
    }
   ],
   "source": [
    "list(enumerate(fechas)) "
   ]
  },
  {
   "cell_type": "code",
   "execution_count": 36,
   "id": "90843860",
   "metadata": {},
   "outputs": [
    {
     "data": {
      "application/vnd.microsoft.datawrangler.viewer.v0+json": {
       "columns": [
        {
         "name": "index",
         "rawType": "int64",
         "type": "integer"
        },
        {
         "name": "Municipio",
         "rawType": "object",
         "type": "string"
        },
        {
         "name": "Fecha",
         "rawType": "datetime64[ns]",
         "type": "datetime"
        },
        {
         "name": "Riesgo",
         "rawType": "float64",
         "type": "float"
        },
        {
         "name": "Precipitación",
         "rawType": "float64",
         "type": "float"
        },
        {
         "name": "Temperatura",
         "rawType": "float64",
         "type": "float"
        }
       ],
       "ref": "06772703-6bac-414f-a1b9-b13c36cd08e9",
       "rows": [
        [
         "0",
         "Caucasia",
         "2023-01-31 00:00:00",
         "0.20117402384951666",
         "198.9851896552751",
         "29.878022002514324"
        ],
        [
         "1",
         "Caucasia",
         "2023-02-28 00:00:00",
         "0.6634733018194664",
         "56.97010496176391",
         "33.784218608791875"
        ],
        [
         "2",
         "Caucasia",
         "2023-03-31 00:00:00",
         "0.2531002100281017",
         "130.08117757319212",
         "28.40736339906691"
        ],
        [
         "3",
         "Caucasia",
         "2023-04-30 00:00:00",
         "0.3894605584340264",
         "170.04552129885516",
         "27.212065831963848"
        ],
        [
         "4",
         "Caucasia",
         "2023-05-31 00:00:00",
         "0.5319316723051076",
         "171.87759415232955",
         "28.45568879597748"
        ],
        [
         "5",
         "Caucasia",
         "2023-06-30 00:00:00",
         "0.47404561630657904",
         "190.52374797627076",
         "25.28610307948421"
        ],
        [
         "6",
         "Caucasia",
         "2023-07-31 00:00:00",
         "0.08380464494230133",
         "208.23790559897074",
         "30.14442589910505"
        ],
        [
         "7",
         "Caucasia",
         "2023-08-31 00:00:00",
         "0.22482030908588993",
         "161.3476022234211",
         "29.094064795991088"
        ],
        [
         "8",
         "Caucasia",
         "2023-09-30 00:00:00",
         "0.0",
         "13.351449680420302",
         "22.267622915203866"
        ],
        [
         "9",
         "Caucasia",
         "2023-10-31 00:00:00",
         "0.0",
         "52.55176761444946",
         "24.65679627074985"
        ],
        [
         "10",
         "Caucasia",
         "2023-11-30 00:00:00",
         "0.02076985143990362",
         "130.03718775540497",
         "29.77906154561522"
        ],
        [
         "11",
         "Caucasia",
         "2023-12-31 00:00:00",
         "0.14771317524470057",
         "84.45266308930192",
         "24.109780849496016"
        ],
        [
         "12",
         "Tarazá",
         "2023-01-31 00:00:00",
         "0.41724104192586486",
         "41.569593753789974",
         "26.77941405561748"
        ],
        [
         "13",
         "Tarazá",
         "2023-02-28 00:00:00",
         "0.5213206159814818",
         "92.15183322359985",
         "33.208521005161884"
        ],
        [
         "14",
         "Tarazá",
         "2023-03-31 00:00:00",
         "0.6512339361201797",
         "176.57565760440832",
         "26.121878184206015"
        ],
        [
         "15",
         "Tarazá",
         "2023-04-30 00:00:00",
         "0.7568203690833528",
         "308.7603375282012",
         "25.456381854941455"
        ],
        [
         "16",
         "Tarazá",
         "2023-05-31 00:00:00",
         "0.5785919039352989",
         "111.36134643952823",
         "27.143799076819118"
        ],
        [
         "17",
         "Tarazá",
         "2023-06-30 00:00:00",
         "0.4374223072521279",
         "215.8137503393238",
         "27.73809812596097"
        ],
        [
         "18",
         "Tarazá",
         "2023-07-31 00:00:00",
         "0.002862944006235546",
         "120.97652717171377",
         "29.38911475606434"
        ],
        [
         "19",
         "Tarazá",
         "2023-08-31 00:00:00",
         "0.12237086577409428",
         "181.30105971436902",
         "24.58118494587123"
        ],
        [
         "20",
         "Tarazá",
         "2023-09-30 00:00:00",
         "0.04742617912729267",
         "77.527487080311",
         "27.747358472980917"
        ],
        [
         "21",
         "Tarazá",
         "2023-10-31 00:00:00",
         "0.0",
         "66.8701057528698",
         "25.62988491695584"
        ],
        [
         "22",
         "Tarazá",
         "2023-11-30 00:00:00",
         "0.060390524362675765",
         "46.980538070677476",
         "28.57378152162324"
        ],
        [
         "23",
         "Tarazá",
         "2023-12-31 00:00:00",
         "0.34577899017248265",
         "90.61274430692137",
         "31.70396955755575"
        ],
        [
         "24",
         "Valdivia",
         "2023-01-31 00:00:00",
         "0.3977474263841687",
         "192.7671626510933",
         "25.226089341197635"
        ],
        [
         "25",
         "Valdivia",
         "2023-02-28 00:00:00",
         "0.3813948028761271",
         "165.0814135170958",
         "27.843533100084993"
        ],
        [
         "26",
         "Valdivia",
         "2023-03-31 00:00:00",
         "0.7051521151795326",
         "112.33346002590308",
         "29.23043553990878"
        ],
        [
         "27",
         "Valdivia",
         "2023-04-30 00:00:00",
         "0.7192050596133084",
         "199.36903601506992",
         "27.982168652559135"
        ],
        [
         "28",
         "Valdivia",
         "2023-05-31 00:00:00",
         "0.6232806430010563",
         "171.05531444056143",
         "31.444184135269023"
        ],
        [
         "29",
         "Valdivia",
         "2023-06-30 00:00:00",
         "0.4374992587426527",
         "118.84140451027616",
         "30.58268353290413"
        ],
        [
         "30",
         "Valdivia",
         "2023-07-31 00:00:00",
         "0.32047043538438735",
         "61.03183535667337",
         "30.661746933336946"
        ],
        [
         "31",
         "Valdivia",
         "2023-08-31 00:00:00",
         "0.43160597538864365",
         "106.57368806373124",
         "25.175613704639737"
        ],
        [
         "32",
         "Valdivia",
         "2023-09-30 00:00:00",
         "0.1076204439882757",
         "44.308329041380986",
         "32.41681868132885"
        ],
        [
         "33",
         "Valdivia",
         "2023-10-31 00:00:00",
         "0.10458712830075723",
         "80.78113830227706",
         "23.210861825356073"
        ],
        [
         "34",
         "Valdivia",
         "2023-11-30 00:00:00",
         "0.012010848708759198",
         "45.224207880521234",
         "25.817747686813462"
        ],
        [
         "35",
         "Valdivia",
         "2023-12-31 00:00:00",
         "0.24323429807093827",
         "137.53475042825045",
         "21.677742494138798"
        ],
        [
         "36",
         "El Bagre",
         "2023-01-31 00:00:00",
         "0.5039418045427476",
         "138.22573167343873",
         "29.8154587186184"
        ],
        [
         "37",
         "El Bagre",
         "2023-02-28 00:00:00",
         "0.5773666712742248",
         "165.6370640774709",
         "28.14919076004085"
        ],
        [
         "38",
         "El Bagre",
         "2023-03-31 00:00:00",
         "0.7050091492254694",
         "263.2243325531024",
         "35.27748665003697"
        ],
        [
         "39",
         "El Bagre",
         "2023-04-30 00:00:00",
         "0.6957198165073928",
         "226.63716249017634",
         "33.47586513534755"
        ],
        [
         "40",
         "El Bagre",
         "2023-05-31 00:00:00",
         "0.5685188927233529",
         "81.15897728867505",
         "25.937859207569627"
        ],
        [
         "41",
         "El Bagre",
         "2023-06-30 00:00:00",
         "0.5629804323643666",
         "58.7801595477831",
         "25.551383081426877"
        ],
        [
         "42",
         "El Bagre",
         "2023-07-31 00:00:00",
         "0.29307578830183223",
         "102.91905287069987",
         "34.478007445771034"
        ],
        [
         "43",
         "El Bagre",
         "2023-08-31 00:00:00",
         "0.4255703462815154",
         "78.6824233106473",
         "31.131429424164203"
        ],
        [
         "44",
         "El Bagre",
         "2023-09-30 00:00:00",
         "0.10156632951960404",
         "84.60916647508179",
         "23.98916921718675"
        ],
        [
         "45",
         "El Bagre",
         "2023-10-31 00:00:00",
         "0.0",
         "40.97432076625814",
         "28.981683121110176"
        ],
        [
         "46",
         "El Bagre",
         "2023-11-30 00:00:00",
         "0.09396878645003695",
         "127.98040772233534",
         "24.35000691108582"
        ],
        [
         "47",
         "El Bagre",
         "2023-12-31 00:00:00",
         "0.1493618598129976",
         "47.99565603377209",
         "23.709994511927835"
        ],
        [
         "48",
         "Zaragoza",
         "2023-01-31 00:00:00",
         "0.2127579012782116",
         "62.57275400272195",
         "22.926235608053027"
        ],
        [
         "49",
         "Zaragoza",
         "2023-02-28 00:00:00",
         "0.4047357452563209",
         "210.40552531900553",
         "20.58131579536157"
        ]
       ],
       "shape": {
        "columns": 5,
        "rows": 60
       }
      },
      "text/html": [
       "<div>\n",
       "<style scoped>\n",
       "    .dataframe tbody tr th:only-of-type {\n",
       "        vertical-align: middle;\n",
       "    }\n",
       "\n",
       "    .dataframe tbody tr th {\n",
       "        vertical-align: top;\n",
       "    }\n",
       "\n",
       "    .dataframe thead th {\n",
       "        text-align: right;\n",
       "    }\n",
       "</style>\n",
       "<table border=\"1\" class=\"dataframe\">\n",
       "  <thead>\n",
       "    <tr style=\"text-align: right;\">\n",
       "      <th></th>\n",
       "      <th>Municipio</th>\n",
       "      <th>Fecha</th>\n",
       "      <th>Riesgo</th>\n",
       "      <th>Precipitación</th>\n",
       "      <th>Temperatura</th>\n",
       "    </tr>\n",
       "  </thead>\n",
       "  <tbody>\n",
       "    <tr>\n",
       "      <th>0</th>\n",
       "      <td>Caucasia</td>\n",
       "      <td>2023-01-31</td>\n",
       "      <td>0.201174</td>\n",
       "      <td>198.985190</td>\n",
       "      <td>29.878022</td>\n",
       "    </tr>\n",
       "    <tr>\n",
       "      <th>1</th>\n",
       "      <td>Caucasia</td>\n",
       "      <td>2023-02-28</td>\n",
       "      <td>0.663473</td>\n",
       "      <td>56.970105</td>\n",
       "      <td>33.784219</td>\n",
       "    </tr>\n",
       "    <tr>\n",
       "      <th>2</th>\n",
       "      <td>Caucasia</td>\n",
       "      <td>2023-03-31</td>\n",
       "      <td>0.253100</td>\n",
       "      <td>130.081178</td>\n",
       "      <td>28.407363</td>\n",
       "    </tr>\n",
       "    <tr>\n",
       "      <th>3</th>\n",
       "      <td>Caucasia</td>\n",
       "      <td>2023-04-30</td>\n",
       "      <td>0.389461</td>\n",
       "      <td>170.045521</td>\n",
       "      <td>27.212066</td>\n",
       "    </tr>\n",
       "    <tr>\n",
       "      <th>4</th>\n",
       "      <td>Caucasia</td>\n",
       "      <td>2023-05-31</td>\n",
       "      <td>0.531932</td>\n",
       "      <td>171.877594</td>\n",
       "      <td>28.455689</td>\n",
       "    </tr>\n",
       "    <tr>\n",
       "      <th>5</th>\n",
       "      <td>Caucasia</td>\n",
       "      <td>2023-06-30</td>\n",
       "      <td>0.474046</td>\n",
       "      <td>190.523748</td>\n",
       "      <td>25.286103</td>\n",
       "    </tr>\n",
       "    <tr>\n",
       "      <th>6</th>\n",
       "      <td>Caucasia</td>\n",
       "      <td>2023-07-31</td>\n",
       "      <td>0.083805</td>\n",
       "      <td>208.237906</td>\n",
       "      <td>30.144426</td>\n",
       "    </tr>\n",
       "    <tr>\n",
       "      <th>7</th>\n",
       "      <td>Caucasia</td>\n",
       "      <td>2023-08-31</td>\n",
       "      <td>0.224820</td>\n",
       "      <td>161.347602</td>\n",
       "      <td>29.094065</td>\n",
       "    </tr>\n",
       "    <tr>\n",
       "      <th>8</th>\n",
       "      <td>Caucasia</td>\n",
       "      <td>2023-09-30</td>\n",
       "      <td>0.000000</td>\n",
       "      <td>13.351450</td>\n",
       "      <td>22.267623</td>\n",
       "    </tr>\n",
       "    <tr>\n",
       "      <th>9</th>\n",
       "      <td>Caucasia</td>\n",
       "      <td>2023-10-31</td>\n",
       "      <td>0.000000</td>\n",
       "      <td>52.551768</td>\n",
       "      <td>24.656796</td>\n",
       "    </tr>\n",
       "    <tr>\n",
       "      <th>10</th>\n",
       "      <td>Caucasia</td>\n",
       "      <td>2023-11-30</td>\n",
       "      <td>0.020770</td>\n",
       "      <td>130.037188</td>\n",
       "      <td>29.779062</td>\n",
       "    </tr>\n",
       "    <tr>\n",
       "      <th>11</th>\n",
       "      <td>Caucasia</td>\n",
       "      <td>2023-12-31</td>\n",
       "      <td>0.147713</td>\n",
       "      <td>84.452663</td>\n",
       "      <td>24.109781</td>\n",
       "    </tr>\n",
       "    <tr>\n",
       "      <th>12</th>\n",
       "      <td>Tarazá</td>\n",
       "      <td>2023-01-31</td>\n",
       "      <td>0.417241</td>\n",
       "      <td>41.569594</td>\n",
       "      <td>26.779414</td>\n",
       "    </tr>\n",
       "    <tr>\n",
       "      <th>13</th>\n",
       "      <td>Tarazá</td>\n",
       "      <td>2023-02-28</td>\n",
       "      <td>0.521321</td>\n",
       "      <td>92.151833</td>\n",
       "      <td>33.208521</td>\n",
       "    </tr>\n",
       "    <tr>\n",
       "      <th>14</th>\n",
       "      <td>Tarazá</td>\n",
       "      <td>2023-03-31</td>\n",
       "      <td>0.651234</td>\n",
       "      <td>176.575658</td>\n",
       "      <td>26.121878</td>\n",
       "    </tr>\n",
       "    <tr>\n",
       "      <th>15</th>\n",
       "      <td>Tarazá</td>\n",
       "      <td>2023-04-30</td>\n",
       "      <td>0.756820</td>\n",
       "      <td>308.760338</td>\n",
       "      <td>25.456382</td>\n",
       "    </tr>\n",
       "    <tr>\n",
       "      <th>16</th>\n",
       "      <td>Tarazá</td>\n",
       "      <td>2023-05-31</td>\n",
       "      <td>0.578592</td>\n",
       "      <td>111.361346</td>\n",
       "      <td>27.143799</td>\n",
       "    </tr>\n",
       "    <tr>\n",
       "      <th>17</th>\n",
       "      <td>Tarazá</td>\n",
       "      <td>2023-06-30</td>\n",
       "      <td>0.437422</td>\n",
       "      <td>215.813750</td>\n",
       "      <td>27.738098</td>\n",
       "    </tr>\n",
       "    <tr>\n",
       "      <th>18</th>\n",
       "      <td>Tarazá</td>\n",
       "      <td>2023-07-31</td>\n",
       "      <td>0.002863</td>\n",
       "      <td>120.976527</td>\n",
       "      <td>29.389115</td>\n",
       "    </tr>\n",
       "    <tr>\n",
       "      <th>19</th>\n",
       "      <td>Tarazá</td>\n",
       "      <td>2023-08-31</td>\n",
       "      <td>0.122371</td>\n",
       "      <td>181.301060</td>\n",
       "      <td>24.581185</td>\n",
       "    </tr>\n",
       "    <tr>\n",
       "      <th>20</th>\n",
       "      <td>Tarazá</td>\n",
       "      <td>2023-09-30</td>\n",
       "      <td>0.047426</td>\n",
       "      <td>77.527487</td>\n",
       "      <td>27.747358</td>\n",
       "    </tr>\n",
       "    <tr>\n",
       "      <th>21</th>\n",
       "      <td>Tarazá</td>\n",
       "      <td>2023-10-31</td>\n",
       "      <td>0.000000</td>\n",
       "      <td>66.870106</td>\n",
       "      <td>25.629885</td>\n",
       "    </tr>\n",
       "    <tr>\n",
       "      <th>22</th>\n",
       "      <td>Tarazá</td>\n",
       "      <td>2023-11-30</td>\n",
       "      <td>0.060391</td>\n",
       "      <td>46.980538</td>\n",
       "      <td>28.573782</td>\n",
       "    </tr>\n",
       "    <tr>\n",
       "      <th>23</th>\n",
       "      <td>Tarazá</td>\n",
       "      <td>2023-12-31</td>\n",
       "      <td>0.345779</td>\n",
       "      <td>90.612744</td>\n",
       "      <td>31.703970</td>\n",
       "    </tr>\n",
       "    <tr>\n",
       "      <th>24</th>\n",
       "      <td>Valdivia</td>\n",
       "      <td>2023-01-31</td>\n",
       "      <td>0.397747</td>\n",
       "      <td>192.767163</td>\n",
       "      <td>25.226089</td>\n",
       "    </tr>\n",
       "    <tr>\n",
       "      <th>25</th>\n",
       "      <td>Valdivia</td>\n",
       "      <td>2023-02-28</td>\n",
       "      <td>0.381395</td>\n",
       "      <td>165.081414</td>\n",
       "      <td>27.843533</td>\n",
       "    </tr>\n",
       "    <tr>\n",
       "      <th>26</th>\n",
       "      <td>Valdivia</td>\n",
       "      <td>2023-03-31</td>\n",
       "      <td>0.705152</td>\n",
       "      <td>112.333460</td>\n",
       "      <td>29.230436</td>\n",
       "    </tr>\n",
       "    <tr>\n",
       "      <th>27</th>\n",
       "      <td>Valdivia</td>\n",
       "      <td>2023-04-30</td>\n",
       "      <td>0.719205</td>\n",
       "      <td>199.369036</td>\n",
       "      <td>27.982169</td>\n",
       "    </tr>\n",
       "    <tr>\n",
       "      <th>28</th>\n",
       "      <td>Valdivia</td>\n",
       "      <td>2023-05-31</td>\n",
       "      <td>0.623281</td>\n",
       "      <td>171.055314</td>\n",
       "      <td>31.444184</td>\n",
       "    </tr>\n",
       "    <tr>\n",
       "      <th>29</th>\n",
       "      <td>Valdivia</td>\n",
       "      <td>2023-06-30</td>\n",
       "      <td>0.437499</td>\n",
       "      <td>118.841405</td>\n",
       "      <td>30.582684</td>\n",
       "    </tr>\n",
       "    <tr>\n",
       "      <th>30</th>\n",
       "      <td>Valdivia</td>\n",
       "      <td>2023-07-31</td>\n",
       "      <td>0.320470</td>\n",
       "      <td>61.031835</td>\n",
       "      <td>30.661747</td>\n",
       "    </tr>\n",
       "    <tr>\n",
       "      <th>31</th>\n",
       "      <td>Valdivia</td>\n",
       "      <td>2023-08-31</td>\n",
       "      <td>0.431606</td>\n",
       "      <td>106.573688</td>\n",
       "      <td>25.175614</td>\n",
       "    </tr>\n",
       "    <tr>\n",
       "      <th>32</th>\n",
       "      <td>Valdivia</td>\n",
       "      <td>2023-09-30</td>\n",
       "      <td>0.107620</td>\n",
       "      <td>44.308329</td>\n",
       "      <td>32.416819</td>\n",
       "    </tr>\n",
       "    <tr>\n",
       "      <th>33</th>\n",
       "      <td>Valdivia</td>\n",
       "      <td>2023-10-31</td>\n",
       "      <td>0.104587</td>\n",
       "      <td>80.781138</td>\n",
       "      <td>23.210862</td>\n",
       "    </tr>\n",
       "    <tr>\n",
       "      <th>34</th>\n",
       "      <td>Valdivia</td>\n",
       "      <td>2023-11-30</td>\n",
       "      <td>0.012011</td>\n",
       "      <td>45.224208</td>\n",
       "      <td>25.817748</td>\n",
       "    </tr>\n",
       "    <tr>\n",
       "      <th>35</th>\n",
       "      <td>Valdivia</td>\n",
       "      <td>2023-12-31</td>\n",
       "      <td>0.243234</td>\n",
       "      <td>137.534750</td>\n",
       "      <td>21.677742</td>\n",
       "    </tr>\n",
       "    <tr>\n",
       "      <th>36</th>\n",
       "      <td>El Bagre</td>\n",
       "      <td>2023-01-31</td>\n",
       "      <td>0.503942</td>\n",
       "      <td>138.225732</td>\n",
       "      <td>29.815459</td>\n",
       "    </tr>\n",
       "    <tr>\n",
       "      <th>37</th>\n",
       "      <td>El Bagre</td>\n",
       "      <td>2023-02-28</td>\n",
       "      <td>0.577367</td>\n",
       "      <td>165.637064</td>\n",
       "      <td>28.149191</td>\n",
       "    </tr>\n",
       "    <tr>\n",
       "      <th>38</th>\n",
       "      <td>El Bagre</td>\n",
       "      <td>2023-03-31</td>\n",
       "      <td>0.705009</td>\n",
       "      <td>263.224333</td>\n",
       "      <td>35.277487</td>\n",
       "    </tr>\n",
       "    <tr>\n",
       "      <th>39</th>\n",
       "      <td>El Bagre</td>\n",
       "      <td>2023-04-30</td>\n",
       "      <td>0.695720</td>\n",
       "      <td>226.637162</td>\n",
       "      <td>33.475865</td>\n",
       "    </tr>\n",
       "    <tr>\n",
       "      <th>40</th>\n",
       "      <td>El Bagre</td>\n",
       "      <td>2023-05-31</td>\n",
       "      <td>0.568519</td>\n",
       "      <td>81.158977</td>\n",
       "      <td>25.937859</td>\n",
       "    </tr>\n",
       "    <tr>\n",
       "      <th>41</th>\n",
       "      <td>El Bagre</td>\n",
       "      <td>2023-06-30</td>\n",
       "      <td>0.562980</td>\n",
       "      <td>58.780160</td>\n",
       "      <td>25.551383</td>\n",
       "    </tr>\n",
       "    <tr>\n",
       "      <th>42</th>\n",
       "      <td>El Bagre</td>\n",
       "      <td>2023-07-31</td>\n",
       "      <td>0.293076</td>\n",
       "      <td>102.919053</td>\n",
       "      <td>34.478007</td>\n",
       "    </tr>\n",
       "    <tr>\n",
       "      <th>43</th>\n",
       "      <td>El Bagre</td>\n",
       "      <td>2023-08-31</td>\n",
       "      <td>0.425570</td>\n",
       "      <td>78.682423</td>\n",
       "      <td>31.131429</td>\n",
       "    </tr>\n",
       "    <tr>\n",
       "      <th>44</th>\n",
       "      <td>El Bagre</td>\n",
       "      <td>2023-09-30</td>\n",
       "      <td>0.101566</td>\n",
       "      <td>84.609166</td>\n",
       "      <td>23.989169</td>\n",
       "    </tr>\n",
       "    <tr>\n",
       "      <th>45</th>\n",
       "      <td>El Bagre</td>\n",
       "      <td>2023-10-31</td>\n",
       "      <td>0.000000</td>\n",
       "      <td>40.974321</td>\n",
       "      <td>28.981683</td>\n",
       "    </tr>\n",
       "    <tr>\n",
       "      <th>46</th>\n",
       "      <td>El Bagre</td>\n",
       "      <td>2023-11-30</td>\n",
       "      <td>0.093969</td>\n",
       "      <td>127.980408</td>\n",
       "      <td>24.350007</td>\n",
       "    </tr>\n",
       "    <tr>\n",
       "      <th>47</th>\n",
       "      <td>El Bagre</td>\n",
       "      <td>2023-12-31</td>\n",
       "      <td>0.149362</td>\n",
       "      <td>47.995656</td>\n",
       "      <td>23.709995</td>\n",
       "    </tr>\n",
       "    <tr>\n",
       "      <th>48</th>\n",
       "      <td>Zaragoza</td>\n",
       "      <td>2023-01-31</td>\n",
       "      <td>0.212758</td>\n",
       "      <td>62.572754</td>\n",
       "      <td>22.926236</td>\n",
       "    </tr>\n",
       "    <tr>\n",
       "      <th>49</th>\n",
       "      <td>Zaragoza</td>\n",
       "      <td>2023-02-28</td>\n",
       "      <td>0.404736</td>\n",
       "      <td>210.405525</td>\n",
       "      <td>20.581316</td>\n",
       "    </tr>\n",
       "    <tr>\n",
       "      <th>50</th>\n",
       "      <td>Zaragoza</td>\n",
       "      <td>2023-03-31</td>\n",
       "      <td>0.590503</td>\n",
       "      <td>256.972690</td>\n",
       "      <td>31.613313</td>\n",
       "    </tr>\n",
       "    <tr>\n",
       "      <th>51</th>\n",
       "      <td>Zaragoza</td>\n",
       "      <td>2023-04-30</td>\n",
       "      <td>0.685252</td>\n",
       "      <td>204.998901</td>\n",
       "      <td>26.528707</td>\n",
       "    </tr>\n",
       "    <tr>\n",
       "      <th>52</th>\n",
       "      <td>Zaragoza</td>\n",
       "      <td>2023-05-31</td>\n",
       "      <td>0.693604</td>\n",
       "      <td>158.796098</td>\n",
       "      <td>35.113937</td>\n",
       "    </tr>\n",
       "    <tr>\n",
       "      <th>53</th>\n",
       "      <td>Zaragoza</td>\n",
       "      <td>2023-06-30</td>\n",
       "      <td>0.310529</td>\n",
       "      <td>222.353150</td>\n",
       "      <td>24.432729</td>\n",
       "    </tr>\n",
       "    <tr>\n",
       "      <th>54</th>\n",
       "      <td>Zaragoza</td>\n",
       "      <td>2023-07-31</td>\n",
       "      <td>0.325713</td>\n",
       "      <td>199.155895</td>\n",
       "      <td>30.454184</td>\n",
       "    </tr>\n",
       "    <tr>\n",
       "      <th>55</th>\n",
       "      <td>Zaragoza</td>\n",
       "      <td>2023-08-31</td>\n",
       "      <td>0.221038</td>\n",
       "      <td>174.485126</td>\n",
       "      <td>23.943034</td>\n",
       "    </tr>\n",
       "    <tr>\n",
       "      <th>56</th>\n",
       "      <td>Zaragoza</td>\n",
       "      <td>2023-09-30</td>\n",
       "      <td>0.197719</td>\n",
       "      <td>98.718145</td>\n",
       "      <td>28.036246</td>\n",
       "    </tr>\n",
       "    <tr>\n",
       "      <th>57</th>\n",
       "      <td>Zaragoza</td>\n",
       "      <td>2023-10-31</td>\n",
       "      <td>0.196928</td>\n",
       "      <td>76.532987</td>\n",
       "      <td>27.644041</td>\n",
       "    </tr>\n",
       "    <tr>\n",
       "      <th>58</th>\n",
       "      <td>Zaragoza</td>\n",
       "      <td>2023-11-30</td>\n",
       "      <td>0.029849</td>\n",
       "      <td>17.009193</td>\n",
       "      <td>33.146404</td>\n",
       "    </tr>\n",
       "    <tr>\n",
       "      <th>59</th>\n",
       "      <td>Zaragoza</td>\n",
       "      <td>2023-12-31</td>\n",
       "      <td>0.291056</td>\n",
       "      <td>93.648429</td>\n",
       "      <td>25.869971</td>\n",
       "    </tr>\n",
       "  </tbody>\n",
       "</table>\n",
       "</div>"
      ],
      "text/plain": [
       "   Municipio      Fecha    Riesgo  Precipitación  Temperatura\n",
       "0   Caucasia 2023-01-31  0.201174     198.985190    29.878022\n",
       "1   Caucasia 2023-02-28  0.663473      56.970105    33.784219\n",
       "2   Caucasia 2023-03-31  0.253100     130.081178    28.407363\n",
       "3   Caucasia 2023-04-30  0.389461     170.045521    27.212066\n",
       "4   Caucasia 2023-05-31  0.531932     171.877594    28.455689\n",
       "5   Caucasia 2023-06-30  0.474046     190.523748    25.286103\n",
       "6   Caucasia 2023-07-31  0.083805     208.237906    30.144426\n",
       "7   Caucasia 2023-08-31  0.224820     161.347602    29.094065\n",
       "8   Caucasia 2023-09-30  0.000000      13.351450    22.267623\n",
       "9   Caucasia 2023-10-31  0.000000      52.551768    24.656796\n",
       "10  Caucasia 2023-11-30  0.020770     130.037188    29.779062\n",
       "11  Caucasia 2023-12-31  0.147713      84.452663    24.109781\n",
       "12    Tarazá 2023-01-31  0.417241      41.569594    26.779414\n",
       "13    Tarazá 2023-02-28  0.521321      92.151833    33.208521\n",
       "14    Tarazá 2023-03-31  0.651234     176.575658    26.121878\n",
       "15    Tarazá 2023-04-30  0.756820     308.760338    25.456382\n",
       "16    Tarazá 2023-05-31  0.578592     111.361346    27.143799\n",
       "17    Tarazá 2023-06-30  0.437422     215.813750    27.738098\n",
       "18    Tarazá 2023-07-31  0.002863     120.976527    29.389115\n",
       "19    Tarazá 2023-08-31  0.122371     181.301060    24.581185\n",
       "20    Tarazá 2023-09-30  0.047426      77.527487    27.747358\n",
       "21    Tarazá 2023-10-31  0.000000      66.870106    25.629885\n",
       "22    Tarazá 2023-11-30  0.060391      46.980538    28.573782\n",
       "23    Tarazá 2023-12-31  0.345779      90.612744    31.703970\n",
       "24  Valdivia 2023-01-31  0.397747     192.767163    25.226089\n",
       "25  Valdivia 2023-02-28  0.381395     165.081414    27.843533\n",
       "26  Valdivia 2023-03-31  0.705152     112.333460    29.230436\n",
       "27  Valdivia 2023-04-30  0.719205     199.369036    27.982169\n",
       "28  Valdivia 2023-05-31  0.623281     171.055314    31.444184\n",
       "29  Valdivia 2023-06-30  0.437499     118.841405    30.582684\n",
       "30  Valdivia 2023-07-31  0.320470      61.031835    30.661747\n",
       "31  Valdivia 2023-08-31  0.431606     106.573688    25.175614\n",
       "32  Valdivia 2023-09-30  0.107620      44.308329    32.416819\n",
       "33  Valdivia 2023-10-31  0.104587      80.781138    23.210862\n",
       "34  Valdivia 2023-11-30  0.012011      45.224208    25.817748\n",
       "35  Valdivia 2023-12-31  0.243234     137.534750    21.677742\n",
       "36  El Bagre 2023-01-31  0.503942     138.225732    29.815459\n",
       "37  El Bagre 2023-02-28  0.577367     165.637064    28.149191\n",
       "38  El Bagre 2023-03-31  0.705009     263.224333    35.277487\n",
       "39  El Bagre 2023-04-30  0.695720     226.637162    33.475865\n",
       "40  El Bagre 2023-05-31  0.568519      81.158977    25.937859\n",
       "41  El Bagre 2023-06-30  0.562980      58.780160    25.551383\n",
       "42  El Bagre 2023-07-31  0.293076     102.919053    34.478007\n",
       "43  El Bagre 2023-08-31  0.425570      78.682423    31.131429\n",
       "44  El Bagre 2023-09-30  0.101566      84.609166    23.989169\n",
       "45  El Bagre 2023-10-31  0.000000      40.974321    28.981683\n",
       "46  El Bagre 2023-11-30  0.093969     127.980408    24.350007\n",
       "47  El Bagre 2023-12-31  0.149362      47.995656    23.709995\n",
       "48  Zaragoza 2023-01-31  0.212758      62.572754    22.926236\n",
       "49  Zaragoza 2023-02-28  0.404736     210.405525    20.581316\n",
       "50  Zaragoza 2023-03-31  0.590503     256.972690    31.613313\n",
       "51  Zaragoza 2023-04-30  0.685252     204.998901    26.528707\n",
       "52  Zaragoza 2023-05-31  0.693604     158.796098    35.113937\n",
       "53  Zaragoza 2023-06-30  0.310529     222.353150    24.432729\n",
       "54  Zaragoza 2023-07-31  0.325713     199.155895    30.454184\n",
       "55  Zaragoza 2023-08-31  0.221038     174.485126    23.943034\n",
       "56  Zaragoza 2023-09-30  0.197719      98.718145    28.036246\n",
       "57  Zaragoza 2023-10-31  0.196928      76.532987    27.644041\n",
       "58  Zaragoza 2023-11-30  0.029849      17.009193    33.146404\n",
       "59  Zaragoza 2023-12-31  0.291056      93.648429    25.869971"
      ]
     },
     "execution_count": 36,
     "metadata": {},
     "output_type": "execute_result"
    }
   ],
   "source": [
    "\n",
    "data = []\n",
    "for municipio in municipios:\n",
    "    for i, fecha in enumerate(fechas):\n",
    "        # Datos artificiales con cierta estacionalidad\n",
    "        riesgo_base = np.random.uniform(low = 0.2, high = 0.5, size = None)\n",
    "        estacionalidad = 0.3 * np.sin(2 * np.pi * i / 12)  # Patrón anual\n",
    "        precipitacion = np.random.uniform(low = 50, high = 200, size = None) * (1 + 0.5 * np.sin(2 * np.pi * i / 12))\n",
    "        temperatura = np.random.uniform(low = 22, high = 32, size = None) + 2 * np.sin(2 * np.pi * i / 12)\n",
    "        \n",
    "        data.append({\n",
    "            'Municipio': municipio,\n",
    "            'Fecha': fecha,\n",
    "            'Riesgo': max(0, min(1, riesgo_base + estacionalidad + np.random.normal(0, 0.1))),\n",
    "            'Precipitación': max(0, precipitacion + np.random.normal(0, 20)),\n",
    "            'Temperatura': temperatura + np.random.normal(0, 2)\n",
    "        })\n",
    "\n",
    "df = pd.DataFrame(data)\n",
    "df"
   ]
  },
  {
   "cell_type": "code",
   "execution_count": 37,
   "id": "06bdd0a8",
   "metadata": {},
   "outputs": [
    {
     "data": {
      "text/html": [
       "\n",
       "        <iframe\n",
       "            width=\"100%\"\n",
       "            height=\"650\"\n",
       "            src=\"http://127.0.0.1:8050/\"\n",
       "            frameborder=\"0\"\n",
       "            allowfullscreen\n",
       "            \n",
       "        ></iframe>\n",
       "        "
      ],
      "text/plain": [
       "<IPython.lib.display.IFrame at 0x1be34b72210>"
      ]
     },
     "metadata": {},
     "output_type": "display_data"
    }
   ],
   "source": [
    "\n",
    "# Creación de la aplicación Dash\n",
    "app = Dash(__name__)\n",
    "\n",
    "fig = px.line(df, x='Fecha', y='Riesgo', \n",
    "             color='Municipio', \n",
    "             title='Evolución del Riesgo Climático - Bajo Cauca',\n",
    "             hover_data=['Precipitación', 'Temperatura'],\n",
    "             template='plotly_white')\n",
    "\n",
    "# Mejorar el diseño del gráfico\n",
    "fig.update_layout(\n",
    "    xaxis_title='Fecha',\n",
    "    yaxis_title='Nivel de Riesgo (0-1)',\n",
    "    hovermode='x unified',\n",
    "    legend_title_text='Municipios'\n",
    ")\n",
    "\n",
    "# Añadir un diseño más completo a la aplicación\n",
    "app.layout = html.Div([\n",
    "    html.H1('Dashboard de Riesgo Climático - Bajo Cauca', style={'textAlign': 'center'}),\n",
    "    html.Div([\n",
    "        html.P('Esta aplicación muestra el riesgo climático para cultivos en diferentes municipios del Bajo Cauca Antioqueño.', \n",
    "              style={'margin': '20px'})\n",
    "    ]),\n",
    "    dcc.Graph(figure=fig),\n",
    "    html.Footer('Datos simulados para fines educativos - Proyecto GIBACC', \n",
    "               style={'textAlign': 'center', 'marginTop': '20px'})\n",
    "])\n",
    "\n",
    "if __name__ == '__main__':\n",
    "    # Guardar la imagen del gráfico en la carpeta Downloads como archivo PNG\n",
    "    fig.write_image(r\"C:/Users/marco/Downloads/riesgo_climatico_bajocauca.png\")\n",
    "\n",
    "    # Ejecutar la aplicación Dash\n",
    "    app.run(debug=True)"
   ]
  },
  {
   "cell_type": "code",
   "execution_count": null,
   "id": "f99ab041",
   "metadata": {},
   "outputs": [],
   "source": [
    "np.random.uniform(low = 1, high = 2, size = (2,2))"
   ]
  },
  {
   "cell_type": "code",
   "execution_count": 35,
   "id": "c45c29d6",
   "metadata": {},
   "outputs": [
    {
     "data": {
      "image/png": "[encoded data removed]",
      "text/plain": [
       "<Figure size 640x480 with 1 Axes>"
      ]
     },
     "metadata": {},
     "output_type": "display_data"
    }
   ],
   "source": [
    "import matplotlib.pyplot as plt \n",
    "\n",
    "i = np.arange(0, 13)\n",
    "y = 0.3*np.sin(2*np.pi*i/12)\n",
    "plt.grid()\n",
    "plt.plot(i, y)\n",
    "plt.xticks(np.arange(0,13))\n",
    "plt.savefig(r\"C:\\Users\\marco\\Downloads\\estacionalidad_anual.jpeg\")\n",
    "plt.title('Componente de estacionalidad anual')\n",
    "plt.show() "
   ]
  },
  {
   "cell_type": "markdown",
   "id": "a0ab1711",
   "metadata": {},
   "source": [
    "   *Características*:\n",
    "   - Líneas temporales por municipio\n",
    "   - Tooltips con datos detallados al pasar el mouse\n",
    "   - Selector de rango de fechas\n"
   ]
  },
  {
   "cell_type": "markdown",
   "id": "7426a1e9",
   "metadata": {},
   "source": [
    "\n",
    "2. **Mapa de Calor de Variables Climáticas**:\n"
   ]
  },
  {
   "cell_type": "code",
   "execution_count": 5,
   "id": "ceb38c1a",
   "metadata": {},
   "outputs": [
    {
     "data": {
      "application/vnd.plotly.v1+json": {
       "config": {
        "plotlyServerURL": "https://plot.ly"
       },
       "data": [
        {
         "coloraxis": "coloraxis",
         "histfunc": "avg",
         "hovertemplate": "Fecha=%{x}<br>Municipio=%{y}<br>avg of Riesgo=%{z}<extra></extra>",
         "name": "",
         "type": "histogram2d",
         "x": [
          "2023-01-31T00:00:00.000000000",
          "2023-02-28T00:00:00.000000000",
          "2023-03-31T00:00:00.000000000",
          "2023-04-30T00:00:00.000000000",
          "2023-05-31T00:00:00.000000000",
          "2023-06-30T00:00:00.000000000",
          "2023-07-31T00:00:00.000000000",
          "2023-08-31T00:00:00.000000000",
          "2023-09-30T00:00:00.000000000",
          "2023-10-31T00:00:00.000000000",
          "2023-11-30T00:00:00.000000000",
          "2023-12-31T00:00:00.000000000",
          "2023-01-31T00:00:00.000000000",
          "2023-02-28T00:00:00.000000000",
          "2023-03-31T00:00:00.000000000",
          "2023-04-30T00:00:00.000000000",
          "2023-05-31T00:00:00.000000000",
          "2023-06-30T00:00:00.000000000",
          "2023-07-31T00:00:00.000000000",
          "2023-08-31T00:00:00.000000000",
          "2023-09-30T00:00:00.000000000",
          "2023-10-31T00:00:00.000000000",
          "2023-11-30T00:00:00.000000000",
          "2023-12-31T00:00:00.000000000",
          "2023-01-31T00:00:00.000000000",
          "2023-02-28T00:00:00.000000000",
          "2023-03-31T00:00:00.000000000",
          "2023-04-30T00:00:00.000000000",
          "2023-05-31T00:00:00.000000000",
          "2023-06-30T00:00:00.000000000",
          "2023-07-31T00:00:00.000000000",
          "2023-08-31T00:00:00.000000000",
          "2023-09-30T00:00:00.000000000",
          "2023-10-31T00:00:00.000000000",
          "2023-11-30T00:00:00.000000000",
          "2023-12-31T00:00:00.000000000",
          "2023-01-31T00:00:00.000000000",
          "2023-02-28T00:00:00.000000000",
          "2023-03-31T00:00:00.000000000",
          "2023-04-30T00:00:00.000000000",
          "2023-05-31T00:00:00.000000000",
          "2023-06-30T00:00:00.000000000",
          "2023-07-31T00:00:00.000000000",
          "2023-08-31T00:00:00.000000000",
          "2023-09-30T00:00:00.000000000",
          "2023-10-31T00:00:00.000000000",
          "2023-11-30T00:00:00.000000000",
          "2023-12-31T00:00:00.000000000",
          "2023-01-31T00:00:00.000000000",
          "2023-02-28T00:00:00.000000000",
          "2023-03-31T00:00:00.000000000",
          "2023-04-30T00:00:00.000000000",
          "2023-05-31T00:00:00.000000000",
          "2023-06-30T00:00:00.000000000",
          "2023-07-31T00:00:00.000000000",
          "2023-08-31T00:00:00.000000000",
          "2023-09-30T00:00:00.000000000",
          "2023-10-31T00:00:00.000000000",
          "2023-11-30T00:00:00.000000000",
          "2023-12-31T00:00:00.000000000"
         ],
         "xaxis": "x",
         "xbingroup": "x",
         "y": [
          "Caucasia",
          "Caucasia",
          "Caucasia",
          "Caucasia",
          "Caucasia",
          "Caucasia",
          "Caucasia",
          "Caucasia",
          "Caucasia",
          "Caucasia",
          "Caucasia",
          "Caucasia",
          "Tarazá",
          "Tarazá",
          "Tarazá",
          "Tarazá",
          "Tarazá",
          "Tarazá",
          "Tarazá",
          "Tarazá",
          "Tarazá",
          "Tarazá",
          "Tarazá",
          "Tarazá",
          "Valdivia",
          "Valdivia",
          "Valdivia",
          "Valdivia",
          "Valdivia",
          "Valdivia",
          "Valdivia",
          "Valdivia",
          "Valdivia",
          "Valdivia",
          "Valdivia",
          "Valdivia",
          "El Bagre",
          "El Bagre",
          "El Bagre",
          "El Bagre",
          "El Bagre",
          "El Bagre",
          "El Bagre",
          "El Bagre",
          "El Bagre",
          "El Bagre",
          "El Bagre",
          "El Bagre",
          "Zaragoza",
          "Zaragoza",
          "Zaragoza",
          "Zaragoza",
          "Zaragoza",
          "Zaragoza",
          "Zaragoza",
          "Zaragoza",
          "Zaragoza",
          "Zaragoza",
          "Zaragoza",
          "Zaragoza"
         ],
         "yaxis": "y",
         "ybingroup": "y",
         "z": {
          "bdata": "1IOeBhLAyT8LrqJcLDvlP4ScKznLMtA/KpZj+uvs2D+POQiSlQXhP7pUtmzDVt4/ELNHoTh0tT+tEIBx6cbMPwAAAAAAAAAAAAAAAAAAAACgarUisUSVP5KhbuxD6MI/KrdnxRO02j+O34uSqK7gPw3PNY3o1uQ/2hvFWd836D9MPSQr04PiP4cUDCK6/ts/AOIQXAd0Zz8AontyslO/PzXkpoA+SKg/AAAAAAAAAADugEC+geuuP23SmzM+IdY/0NcYn7F02T/H6E2/xWjYP5jXLCubkOY/PgVFVLoD5z+haz0/6vHjP1y7FOT8/9s/juTTbZaC1D+cWkOrbp/bP1yGT28Djbs/CGKi1zjGuj+q6TXTJJmIPw53vS1NIs8/eyUzkEog4D+til2ryXniP8276Vhvj+Y/CIJiNFZD5j829WyITjHiP2RfKYrvA+I/2F6A88DB0j/XS9tnizzbP1xVqT9AALo/AAAAAAAAAADC0KWgVg64P+JRlRdKHsM/VE76oaY7yz87elnBMOfZP2vt2QNm5eI/q6mIDJXt5T/m58eRADLmPy0BqF+z39M/+UnxXXrY1D9ml2b/9UrMP/JmLLLeTsk/HpU6SfE0yT8zfix+sZCeP/MyFOCqoNI/",
          "dtype": "f8"
         }
        }
       ],
       "layout": {
        "coloraxis": {
         "colorbar": {
          "title": {
           "text": "avg of Riesgo"
          }
         },
         "colorscale": [
          [
           0,
           "#0d0887"
          ],
          [
           0.1111111111111111,
           "#46039f"
          ],
          [
           0.2222222222222222,
           "#7201a8"
          ],
          [
           0.3333333333333333,
           "#9c179e"
          ],
          [
           0.4444444444444444,
           "#bd3786"
          ],
          [
           0.5555555555555556,
           "#d8576b"
          ],
          [
           0.6666666666666666,
           "#ed7953"
          ],
          [
           0.7777777777777778,
           "#fb9f3a"
          ],
          [
           0.8888888888888888,
           "#fdca26"
          ],
          [
           1,
           "#f0f921"
          ]
         ]
        },
        "legend": {
         "tracegroupgap": 0
        },
        "template": {
         "data": {
          "bar": [
           {
            "error_x": {
             "color": "#2a3f5f"
            },
            "error_y": {
             "color": "#2a3f5f"
            },
            "marker": {
             "line": {
              "color": "#E5ECF6",
              "width": 0.5
             },
             "pattern": {
              "fillmode": "overlay",
              "size": 10,
              "solidity": 0.2
             }
            },
            "type": "bar"
           }
          ],
          "barpolar": [
           {
            "marker": {
             "line": {
              "color": "#E5ECF6",
              "width": 0.5
             },
             "pattern": {
              "fillmode": "overlay",
              "size": 10,
              "solidity": 0.2
             }
            },
            "type": "barpolar"
           }
          ],
          "carpet": [
           {
            "aaxis": {
             "endlinecolor": "#2a3f5f",
             "gridcolor": "white",
             "linecolor": "white",
             "minorgridcolor": "white",
             "startlinecolor": "#2a3f5f"
            },
            "baxis": {
             "endlinecolor": "#2a3f5f",
             "gridcolor": "white",
             "linecolor": "white",
             "minorgridcolor": "white",
             "startlinecolor": "#2a3f5f"
            },
            "type": "carpet"
           }
          ],
          "choropleth": [
           {
            "colorbar": {
             "outlinewidth": 0,
             "ticks": ""
            },
            "type": "choropleth"
           }
          ],
          "contour": [
           {
            "colorbar": {
             "outlinewidth": 0,
             "ticks": ""
            },
            "colorscale": [
             [
              0,
              "#0d0887"
             ],
             [
              0.1111111111111111,
              "#46039f"
             ],
             [
              0.2222222222222222,
              "#7201a8"
             ],
             [
              0.3333333333333333,
              "#9c179e"
             ],
             [
              0.4444444444444444,
              "#bd3786"
             ],
             [
              0.5555555555555556,
              "#d8576b"
             ],
             [
              0.6666666666666666,
              "#ed7953"
             ],
             [
              0.7777777777777778,
              "#fb9f3a"
             ],
             [
              0.8888888888888888,
              "#fdca26"
             ],
             [
              1,
              "#f0f921"
             ]
            ],
            "type": "contour"
           }
          ],
          "contourcarpet": [
           {
            "colorbar": {
             "outlinewidth": 0,
             "ticks": ""
            },
            "type": "contourcarpet"
           }
          ],
          "heatmap": [
           {
            "colorbar": {
             "outlinewidth": 0,
             "ticks": ""
            },
            "colorscale": [
             [
              0,
              "#0d0887"
             ],
             [
              0.1111111111111111,
              "#46039f"
             ],
             [
              0.2222222222222222,
              "#7201a8"
             ],
             [
              0.3333333333333333,
              "#9c179e"
             ],
             [
              0.4444444444444444,
              "#bd3786"
             ],
             [
              0.5555555555555556,
              "#d8576b"
             ],
             [
              0.6666666666666666,
              "#ed7953"
             ],
             [
              0.7777777777777778,
              "#fb9f3a"
             ],
             [
              0.8888888888888888,
              "#fdca26"
             ],
             [
              1,
              "#f0f921"
             ]
            ],
            "type": "heatmap"
           }
          ],
          "histogram": [
           {
            "marker": {
             "pattern": {
              "fillmode": "overlay",
              "size": 10,
              "solidity": 0.2
             }
            },
            "type": "histogram"
           }
          ],
          "histogram2d": [
           {
            "colorbar": {
             "outlinewidth": 0,
             "ticks": ""
            },
            "colorscale": [
             [
              0,
              "#0d0887"
             ],
             [
              0.1111111111111111,
              "#46039f"
             ],
             [
              0.2222222222222222,
              "#7201a8"
             ],
             [
              0.3333333333333333,
              "#9c179e"
             ],
             [
              0.4444444444444444,
              "#bd3786"
             ],
             [
              0.5555555555555556,
              "#d8576b"
             ],
             [
              0.6666666666666666,
              "#ed7953"
             ],
             [
              0.7777777777777778,
              "#fb9f3a"
             ],
             [
              0.8888888888888888,
              "#fdca26"
             ],
             [
              1,
              "#f0f921"
             ]
            ],
            "type": "histogram2d"
           }
          ],
          "histogram2dcontour": [
           {
            "colorbar": {
             "outlinewidth": 0,
             "ticks": ""
            },
            "colorscale": [
             [
              0,
              "#0d0887"
             ],
             [
              0.1111111111111111,
              "#46039f"
             ],
             [
              0.2222222222222222,
              "#7201a8"
             ],
             [
              0.3333333333333333,
              "#9c179e"
             ],
             [
              0.4444444444444444,
              "#bd3786"
             ],
             [
              0.5555555555555556,
              "#d8576b"
             ],
             [
              0.6666666666666666,
              "#ed7953"
             ],
             [
              0.7777777777777778,
              "#fb9f3a"
             ],
             [
              0.8888888888888888,
              "#fdca26"
             ],
             [
              1,
              "#f0f921"
             ]
            ],
            "type": "histogram2dcontour"
           }
          ],
          "mesh3d": [
           {
            "colorbar": {
             "outlinewidth": 0,
             "ticks": ""
            },
            "type": "mesh3d"
           }
          ],
          "parcoords": [
           {
            "line": {
             "colorbar": {
              "outlinewidth": 0,
              "ticks": ""
             }
            },
            "type": "parcoords"
           }
          ],
          "pie": [
           {
            "automargin": true,
            "type": "pie"
           }
          ],
          "scatter": [
           {
            "fillpattern": {
             "fillmode": "overlay",
             "size": 10,
             "solidity": 0.2
            },
            "type": "scatter"
           }
          ],
          "scatter3d": [
           {
            "line": {
             "colorbar": {
              "outlinewidth": 0,
              "ticks": ""
             }
            },
            "marker": {
             "colorbar": {
              "outlinewidth": 0,
              "ticks": ""
             }
            },
            "type": "scatter3d"
           }
          ],
          "scattercarpet": [
           {
            "marker": {
             "colorbar": {
              "outlinewidth": 0,
              "ticks": ""
             }
            },
            "type": "scattercarpet"
           }
          ],
          "scattergeo": [
           {
            "marker": {
             "colorbar": {
              "outlinewidth": 0,
              "ticks": ""
             }
            },
            "type": "scattergeo"
           }
          ],
          "scattergl": [
           {
            "marker": {
             "colorbar": {
              "outlinewidth": 0,
              "ticks": ""
             }
            },
            "type": "scattergl"
           }
          ],
          "scattermap": [
           {
            "marker": {
             "colorbar": {
              "outlinewidth": 0,
              "ticks": ""
             }
            },
            "type": "scattermap"
           }
          ],
          "scattermapbox": [
           {
            "marker": {
             "colorbar": {
              "outlinewidth": 0,
              "ticks": ""
             }
            },
            "type": "scattermapbox"
           }
          ],
          "scatterpolar": [
           {
            "marker": {
             "colorbar": {
              "outlinewidth": 0,
              "ticks": ""
             }
            },
            "type": "scatterpolar"
           }
          ],
          "scatterpolargl": [
           {
            "marker": {
             "colorbar": {
              "outlinewidth": 0,
              "ticks": ""
             }
            },
            "type": "scatterpolargl"
           }
          ],
          "scatterternary": [
           {
            "marker": {
             "colorbar": {
              "outlinewidth": 0,
              "ticks": ""
             }
            },
            "type": "scatterternary"
           }
          ],
          "surface": [
           {
            "colorbar": {
             "outlinewidth": 0,
             "ticks": ""
            },
            "colorscale": [
             [
              0,
              "#0d0887"
             ],
             [
              0.1111111111111111,
              "#46039f"
             ],
             [
              0.2222222222222222,
              "#7201a8"
             ],
             [
              0.3333333333333333,
              "#9c179e"
             ],
             [
              0.4444444444444444,
              "#bd3786"
             ],
             [
              0.5555555555555556,
              "#d8576b"
             ],
             [
              0.6666666666666666,
              "#ed7953"
             ],
             [
              0.7777777777777778,
              "#fb9f3a"
             ],
             [
              0.8888888888888888,
              "#fdca26"
             ],
             [
              1,
              "#f0f921"
             ]
            ],
            "type": "surface"
           }
          ],
          "table": [
           {
            "cells": {
             "fill": {
              "color": "#EBF0F8"
             },
             "line": {
              "color": "white"
             }
            },
            "header": {
             "fill": {
              "color": "#C8D4E3"
             },
             "line": {
              "color": "white"
             }
            },
            "type": "table"
           }
          ]
         },
         "layout": {
          "annotationdefaults": {
           "arrowcolor": "#2a3f5f",
           "arrowhead": 0,
           "arrowwidth": 1
          },
          "autotypenumbers": "strict",
          "coloraxis": {
           "colorbar": {
            "outlinewidth": 0,
            "ticks": ""
           }
          },
          "colorscale": {
           "diverging": [
            [
             0,
             "#8e0152"
            ],
            [
             0.1,
             "#c51b7d"
            ],
            [
             0.2,
             "#de77ae"
            ],
            [
             0.3,
             "#f1b6da"
            ],
            [
             0.4,
             "#fde0ef"
            ],
            [
             0.5,
             "#f7f7f7"
            ],
            [
             0.6,
             "#e6f5d0"
            ],
            [
             0.7,
             "#b8e186"
            ],
            [
             0.8,
             "#7fbc41"
            ],
            [
             0.9,
             "#4d9221"
            ],
            [
             1,
             "#276419"
            ]
           ],
           "sequential": [
            [
             0,
             "#0d0887"
            ],
            [
             0.1111111111111111,
             "#46039f"
            ],
            [
             0.2222222222222222,
             "#7201a8"
            ],
            [
             0.3333333333333333,
             "#9c179e"
            ],
            [
             0.4444444444444444,
             "#bd3786"
            ],
            [
             0.5555555555555556,
             "#d8576b"
            ],
            [
             0.6666666666666666,
             "#ed7953"
            ],
            [
             0.7777777777777778,
             "#fb9f3a"
            ],
            [
             0.8888888888888888,
             "#fdca26"
            ],
            [
             1,
             "#f0f921"
            ]
           ],
           "sequentialminus": [
            [
             0,
             "#0d0887"
            ],
            [
             0.1111111111111111,
             "#46039f"
            ],
            [
             0.2222222222222222,
             "#7201a8"
            ],
            [
             0.3333333333333333,
             "#9c179e"
            ],
            [
             0.4444444444444444,
             "#bd3786"
            ],
            [
             0.5555555555555556,
             "#d8576b"
            ],
            [
             0.6666666666666666,
             "#ed7953"
            ],
            [
             0.7777777777777778,
             "#fb9f3a"
            ],
            [
             0.8888888888888888,
             "#fdca26"
            ],
            [
             1,
             "#f0f921"
            ]
           ]
          },
          "colorway": [
           "#636efa",
           "#EF553B",
           "#00cc96",
           "#ab63fa",
           "#FFA15A",
           "#19d3f3",
           "#FF6692",
           "#B6E880",
           "#FF97FF",
           "#FECB52"
          ],
          "font": {
           "color": "#2a3f5f"
          },
          "geo": {
           "bgcolor": "white",
           "lakecolor": "white",
           "landcolor": "#E5ECF6",
           "showlakes": true,
           "showland": true,
           "subunitcolor": "white"
          },
          "hoverlabel": {
           "align": "left"
          },
          "hovermode": "closest",
          "mapbox": {
           "style": "light"
          },
          "paper_bgcolor": "white",
          "plot_bgcolor": "#E5ECF6",
          "polar": {
           "angularaxis": {
            "gridcolor": "white",
            "linecolor": "white",
            "ticks": ""
           },
           "bgcolor": "#E5ECF6",
           "radialaxis": {
            "gridcolor": "white",
            "linecolor": "white",
            "ticks": ""
           }
          },
          "scene": {
           "xaxis": {
            "backgroundcolor": "#E5ECF6",
            "gridcolor": "white",
            "gridwidth": 2,
            "linecolor": "white",
            "showbackground": true,
            "ticks": "",
            "zerolinecolor": "white"
           },
           "yaxis": {
            "backgroundcolor": "#E5ECF6",
            "gridcolor": "white",
            "gridwidth": 2,
            "linecolor": "white",
            "showbackground": true,
            "ticks": "",
            "zerolinecolor": "white"
           },
           "zaxis": {
            "backgroundcolor": "#E5ECF6",
            "gridcolor": "white",
            "gridwidth": 2,
            "linecolor": "white",
            "showbackground": true,
            "ticks": "",
            "zerolinecolor": "white"
           }
          },
          "shapedefaults": {
           "line": {
            "color": "#2a3f5f"
           }
          },
          "ternary": {
           "aaxis": {
            "gridcolor": "white",
            "linecolor": "white",
            "ticks": ""
           },
           "baxis": {
            "gridcolor": "white",
            "linecolor": "white",
            "ticks": ""
           },
           "bgcolor": "#E5ECF6",
           "caxis": {
            "gridcolor": "white",
            "linecolor": "white",
            "ticks": ""
           }
          },
          "title": {
           "x": 0.05
          },
          "xaxis": {
           "automargin": true,
           "gridcolor": "white",
           "linecolor": "white",
           "ticks": "",
           "title": {
            "standoff": 15
           },
           "zerolinecolor": "white",
           "zerolinewidth": 2
          },
          "yaxis": {
           "automargin": true,
           "gridcolor": "white",
           "linecolor": "white",
           "ticks": "",
           "title": {
            "standoff": 15
           },
           "zerolinecolor": "white",
           "zerolinewidth": 2
          }
         }
        },
        "title": {
         "text": "Mapa de Riesgo por Municipio"
        },
        "xaxis": {
         "anchor": "y",
         "domain": [
          0,
          1
         ],
         "title": {
          "text": "Fecha"
         }
        },
        "yaxis": {
         "anchor": "x",
         "domain": [
          0,
          1
         ],
         "title": {
          "text": "Municipio"
         }
        }
       }
      }
     },
     "metadata": {},
     "output_type": "display_data"
    }
   ],
   "source": [
    "from dash import dcc\n",
    "\n",
    "fig = px.density_heatmap(df, x='Fecha', y='Municipio', \n",
    "                       z='Riesgo', \n",
    "                       histfunc=\"avg\",\n",
    "                       title='Mapa de Riesgo por Municipio')\n",
    "\n",
    "fig.show()\n",
    "\n",
    "                    # Si quieres agregar el gráfico al dashboard Dash:\n",
    "app.layout = dcc.Graph(figure=fig)\n",
    "fig.write_image(r\"C:/Users/marco/Downloads/mapa_riesgo_municipio.png\")"
   ]
  },
  {
   "cell_type": "markdown",
   "id": "231dd9b7",
   "metadata": {},
   "source": [
    "   *Uso en el proyecto*:\n",
    "   - Identificación visual de períodos/municipios de alto riesgo\n",
    "   - Detección de patrones espaciales y temporales\n",
    "\n",
    "3. **Gráfico de Radar para Perfiles de Riesgo**:\n"
   ]
  },
  {
   "cell_type": "code",
   "execution_count": null,
   "id": "42eb6fe9",
   "metadata": {},
   "outputs": [],
   "source": [
    "fig = px.line_polar(risk_profile, r='Valor', theta='Variable',\n",
    "                      line_close=True,\n",
    "                      title='Perfil de Riesgo Integrado')\n",
    "\n"
   ]
  },
  {
   "cell_type": "markdown",
   "id": "8a338f0f",
   "metadata": {},
   "source": [
    "   *Aplicación*:\n",
    "   - Comparación multivariable de factores de riesgo\n",
    "   - Visualización de indicadores normalizados\n",
    "\n",
    "## ipyleaflet: Mapas Interactivos Georreferenciados\n",
    "\n",
    "**Integración con datos espaciales**:\n",
    "ipyleaflet proporciona capacidades avanzadas de mapeo directamente en Jupyter Notebook.\n",
    "\n",
    "### Implementaciones clave:\n",
    "\n",
    "1. **Mapa Base con Capas de Cultivos**:\n"
   ]
  },
  {
   "cell_type": "code",
   "execution_count": 7,
   "id": "3d24adde",
   "metadata": {},
   "outputs": [
    {
     "ename": "NameError",
     "evalue": "name 'json' is not defined",
     "output_type": "error",
     "traceback": [
      "\u001b[31m---------------------------------------------------------------------------\u001b[39m",
      "\u001b[31mNameError\u001b[39m                                 Traceback (most recent call last)",
      "\u001b[36mCell\u001b[39m\u001b[36m \u001b[39m\u001b[32mIn[7]\u001b[39m\u001b[32m, line 7\u001b[39m\n\u001b[32m      1\u001b[39m \u001b[38;5;28;01mfrom\u001b[39;00m\u001b[38;5;250m \u001b[39m\u001b[34;01mipyleaflet\u001b[39;00m\u001b[38;5;250m \u001b[39m\u001b[38;5;28;01mimport\u001b[39;00m Map, basemaps, GeoJSON\n\u001b[32m      3\u001b[39m m = Map(center=(\u001b[32m7.5\u001b[39m, -\u001b[32m75.0\u001b[39m), zoom=\u001b[32m10\u001b[39m, \n\u001b[32m      4\u001b[39m        basemap=basemaps.Esri.WorldImagery)\n\u001b[32m      6\u001b[39m geojson = GeoJSON(\n\u001b[32m----> \u001b[39m\u001b[32m7\u001b[39m     data=\u001b[43mjson\u001b[49m.load(\u001b[38;5;28mopen\u001b[39m(\u001b[33m'\u001b[39m\u001b[33mcultivos_bajocauca.geojson\u001b[39m\u001b[33m'\u001b[39m)),\n\u001b[32m      8\u001b[39m     style={\u001b[33m'\u001b[39m\u001b[33mcolor\u001b[39m\u001b[33m'\u001b[39m: \u001b[33m'\u001b[39m\u001b[33mgreen\u001b[39m\u001b[33m'\u001b[39m, \u001b[33m'\u001b[39m\u001b[33mopacity\u001b[39m\u001b[33m'\u001b[39m: \u001b[32m0.7\u001b[39m}\n\u001b[32m      9\u001b[39m )\n\u001b[32m     11\u001b[39m m.add_layer(geojson)\n",
      "\u001b[31mNameError\u001b[39m: name 'json' is not defined"
     ]
    }
   ],
   "source": [
    "from ipyleaflet import Map, basemaps, GeoJSON\n",
    "\n",
    "m = Map(center=(7.5, -75.0), zoom=10, \n",
    "       basemap=basemaps.Esri.WorldImagery)\n",
    "   \n",
    "geojson = GeoJSON(\n",
    "    data=json.load(open('cultivos_bajocauca.geojson')),\n",
    "    style={'color': 'green', 'opacity': 0.7}\n",
    ")\n",
    "   \n",
    "m.add_layer(geojson)\n",
    "\n"
   ]
  },
  {
   "cell_type": "markdown",
   "id": "e64788c5",
   "metadata": {},
   "source": [
    "   *Funcionalidades*:\n",
    "   - Visualización de parcelas de arroz georreferenciadas\n",
    "   - Comparación con imágenes satelitales actuales\n",
    "\n",
    "2. **Mapa de Riesgo con Marcadores Dinámicos**:\n"
   ]
  },
  {
   "cell_type": "markdown",
   "id": "7a214941",
   "metadata": {},
   "source": [
    "   ```python\n",
    "   from ipyleaflet import Marker, AwesomeIcon\n",
    "\n",
    "   for idx, row in df.iterrows():\n",
    "       icon = AwesomeIcon(\n",
    "           name='exclamation-triangle' if row['Riesgo'] > 0.7 else 'info-circle',\n",
    "           marker_color='red' if row['Riesgo'] > 0.7 else 'orange'\n",
    "       )\n",
    "       marker = Marker(\n",
    "           location=(row['Lat'], row['Lon']),\n",
    "           icon=icon,\n",
    "           title=f\"Riesgo: {row['Riesgo']:.2f}\"\n",
    "       )\n",
    "       m.add_layer(marker)\n",
    "   ```\n"
   ]
  },
  {
   "cell_type": "markdown",
   "id": "7558b813",
   "metadata": {},
   "source": [
    "   *Uso práctico*:\n",
    "   - Sistema de alerta temprana visual\n",
    "   - Identificación inmediata de zonas críticas\n",
    "\n",
    "3. **Mapa Coroplético por Variables**:\n"
   ]
  },
  {
   "cell_type": "markdown",
   "id": "5d6c8a58",
   "metadata": {},
   "source": [
    "   ```python\n",
    "   from ipyleaflet import Choropleth\n",
    "\n",
    "   choro = Choropleth(\n",
    "       geo_data=geo_json,\n",
    "       choro_data=df_merged,\n",
    "       colormap=linear.YlOrRd_04,\n",
    "       style={'fillOpacity': 0.8},\n",
    "   )\n",
    "   ```\n"
   ]
  },
  {
   "cell_type": "markdown",
   "id": "34a61c72",
   "metadata": {},
   "source": [
    "   *Aplicación*:\n",
    "   - Representación de intensidad de riesgo por zona\n",
    "   - Comparación entre variables climáticas\n",
    "\n",
    "## Representaciones Multimodales (Teoría de Duval)\n",
    "\n",
    "### 1. Conversión Registro Tabular → Gráfico → Mapa\n",
    "**Ejemplo con datos de precipitación**:\n",
    "1. **Registro tabular**: Datos crudos del IDEAM\n"
   ]
  },
  {
   "cell_type": "markdown",
   "id": "c426d164",
   "metadata": {},
   "source": [
    "   ```python\n",
    "   df = pd.read_csv('datos_ideam.csv')\n",
    "   ```\n"
   ]
  },
  {
   "cell_type": "markdown",
   "id": "0068ad22",
   "metadata": {},
   "source": [
    "2. **Registro gráfico**: Serie temporal Plotly\n"
   ]
  },
  {
   "cell_type": "markdown",
   "id": "6511c1e0",
   "metadata": {},
   "source": [
    "   ```python\n",
    "   fig = px.line(df, x='fecha', y='precipitacion')\n",
    "   ```\n"
   ]
  },
  {
   "cell_type": "markdown",
   "id": "fcb67b37",
   "metadata": {},
   "source": [
    "3. **Registro cartográfico**: Mapa ipyleaflet\n"
   ]
  },
  {
   "cell_type": "markdown",
   "id": "fc7e0a98",
   "metadata": {},
   "source": [
    "   ```python\n",
    "   m.add_layer(Heatmap(positions=df[['lat', 'lon', 'precipitacion']]))\n",
    "   ```\n"
   ]
  },
  {
   "cell_type": "markdown",
   "id": "d4b6739f",
   "metadata": {},
   "source": [
    "\n",
    "### 2. Visualización Multivariable Coordinada\n",
    "**Dashboard integrado**:\n"
   ]
  },
  {
   "cell_type": "markdown",
   "id": "f4ccfa27",
   "metadata": {},
   "source": [
    "```python\n",
    "from ipywidgets import HBox, VBox\n",
    "\n",
    "# Gráfico Plotly\n",
    "plotly_widget = go.FigureWidget(fig)\n",
    "\n",
    "# Mapa ipyleaflet\n",
    "map_widget = Map(center=(7.5, -75.0), zoom=9)\n",
    "\n",
    "# Conexión interactiva\n",
    "def update_map(trace, points, selector):\n",
    "    selected_date = df.iloc[points.point_inds[0]]['fecha']\n",
    "    filtered = df[df['fecha'] == selected_date]\n",
    "    # Actualizar mapa...\n",
    "\n",
    "plotly_widget.data[0].on_selection(update_map)\n",
    "\n",
    "# Diseño final\n",
    "dashboard = VBox([\n",
    "    HBox([plotly_widget, map_widget])\n",
    "])\n",
    "```\n"
   ]
  },
  {
   "cell_type": "markdown",
   "id": "5b4eb14e",
   "metadata": {},
   "source": [
    "\n",
    "### 3. Representación para Diferentes Audiencias\n",
    "| Audiencia          | Representación                     | Herramienta       | Ejemplo                          |\n",
    "|--------------------|------------------------------------|-------------------|----------------------------------|\n",
    "| Agricultores       | Alertas coloridas simples          | ipyleaflet Markers| Iconos rojos/verdes en mapa      |\n",
    "| Técnicos          | Gráficos multivariables           | Plotly 3D         | Superficie de riesgo T° vs Humedad|\n",
    "| Políticos         | Mapas resumen municipales         | Choropleth        | Riesgo promedio por municipio    |\n",
    "\n",
    "## Beneficios para el Proyecto\n",
    "\n",
    "1. **Interactividad avanzada**:\n",
    "   - Filtros cruzados entre visualizaciones\n",
    "   - Tooltips con información detallada\n",
    "   - Capacidad de zoom y selección\n",
    "\n",
    "2. **Integración con Jupyter**:\n"
   ]
  },
  {
   "cell_type": "code",
   "execution_count": null,
   "id": "1a9b5bd7",
   "metadata": {},
   "outputs": [],
   "source": [
    "from IPython.display import display\n",
    "display(dashboard)\n",
    "\n"
   ]
  },
  {
   "cell_type": "markdown",
   "id": "821a336c",
   "metadata": {},
   "source": [
    "   - Prototipado rápido en notebooks\n",
    "   - Compatibilidad con Voilà para despliegue\n",
    "\n",
    "3. **Actualización en tiempo real**:\n"
   ]
  },
  {
   "cell_type": "code",
   "execution_count": null,
   "id": "223d9e57",
   "metadata": {},
   "outputs": [],
   "source": [
    "import datetime as dt\n",
    "from ipyleaflet import TimestampedGeoJSON\n",
    "\n",
    "time_series = {\n",
    "    \"type\": \"FeatureCollection\",\n",
    "    \"features\": [{\n",
    "        \"geometry\": {\"type\": \"Point\", \"coordinates\": [lon, lat]},\n",
    "        \"properties\": {\n",
    "            \"times\": [dt.datetime.now().isoformat()],\n",
    "            \"style\": {\"color\": color_map(riesgo)}\n",
    "        }\n",
    "    } for lon, lat, riesgo in datos]\n",
    "}\n",
    "   \n"
   ]
  },
  {
   "cell_type": "markdown",
   "id": "603be492",
   "metadata": {},
   "source": [
    "\n",
    "4. **Exportación a múltiples formatos**:\n",
    "   - Plotly: PNG, SVG, PDF\n",
    "   - ipyleaflet: HTML autónomo\n",
    "   - Dash: Aplicación web completa\n"
   ]
  },
  {
   "cell_type": "markdown",
   "id": "a1989eb7",
   "metadata": {},
   "source": [
    "\n",
    "## Ejemplo Completo Integrado\n"
   ]
  },
  {
   "cell_type": "code",
   "execution_count": null,
   "id": "39fa1a80",
   "metadata": {},
   "outputs": [],
   "source": [
    "import plotly.express as px\n",
    "from ipyleaflet import Map, basemaps, GeoJSON, Marker, AwesomeIcon\n",
    "from ipywidgets import link, Layout\n",
    "import pandas as pd\n",
    "\n",
    "# Datos de ejemplo\n",
    "df = pd.DataFrame({\n",
    "    'Municipio': ['Caucasia', 'Tarazá', 'Valdivia'],\n",
    "    'Lat': [7.986, 7.583, 7.278],\n",
    "    'Lon': [-75.193, -75.403, -75.392],\n",
    "    'Riesgo': [0.65, 0.82, 0.43],\n",
    "    'Producción': [1200, 850, 1500]\n",
    "})\n",
    "\n",
    "# Gráfico Plotly\n",
    "fig = px.bar(df, x='Municipio', y=['Riesgo', 'Producción'],\n",
    "            title='Riesgo vs Producción',\n",
    "            barmode='group')\n",
    "\n",
    "# Mapa ipyleaflet\n",
    "m = Map(center=(7.5, -75.3), zoom=9,\n",
    "       basemap=basemaps.Esri.WorldTopoMap)\n",
    "\n",
    "# Añadir marcadores\n",
    "for _, row in df.iterrows():\n",
    "    icon = AwesomeIcon(\n",
    "        name='fire' if row['Riesgo'] > 0.7 else 'leaf',\n",
    "        marker_color='red' if row['Riesgo'] > 0.7 else 'green'\n",
    "    )\n",
    "    marker = Marker(\n",
    "        location=(row['Lat'], row['Lon']),\n",
    "        icon=icon,\n",
    "        title=f\"{row['Municipio']}: Riesgo {row['Riesgo']}\"\n",
    "    )\n",
    "    m.add_layer(marker)\n",
    "\n",
    "# Visualización coordinada\n",
    "from IPython.display import display\n",
    "from ipywidgets import HBox\n",
    "\n",
    "display(HBox([fig, m], layout=Layout(width='100%')))\n",
    "\n"
   ]
  },
  {
   "cell_type": "markdown",
   "id": "86b222f6",
   "metadata": {},
   "source": [
    "\n",
    "Este enfoque multimodal permite:\n",
    "1. **Mayor comprensión** de los patrones climáticos\n",
    "2. **Toma de decisiones informada** con múltiples perspectivas\n",
    "3. **Comunicación efectiva** con todos los stakeholders\n",
    "4. **Detección visual** de relaciones complejas entre variables"
   ]
  },
  {
   "cell_type": "markdown",
   "id": "534b0d52",
   "metadata": {},
   "source": [
    "# Diseño de Clase: Plotly Dash para Gestión de Riesgos Climáticos en el Bajo Cauca\n"
   ]
  },
  {
   "cell_type": "markdown",
   "id": "ccdcf402",
   "metadata": {},
   "source": [
    "\n",
    "## 1. Título de la Clase\n",
    "**\"Visualización Interactiva con Plotly Dash: Soluciones STEAM para los Retos Climáticos del Bajo Cauca\"**\n"
   ]
  },
  {
   "cell_type": "markdown",
   "id": "20ae7c02",
   "metadata": {},
   "source": [
    "\n",
    "## 2. Objetivos de Aprendizaje e Indicadores\n",
    "\n",
    "### Objetivos STEAM:\n",
    "- **Ciencia**: Analizar datos climáticos históricos del IDEAM usando técnicas estadísticas\n",
    "- **Tecnología**: Dominar Plotly Dash para crear dashboards interactivos\n",
    "- **Ingeniería**: Diseñar arquitectura de aplicaciones web con Python\n",
    "- **Artes**: Crear visualizaciones efectivas para diferentes audiencias\n",
    "- **Matemáticas**: Modelar relaciones entre variables climáticas y agrícolas\n"
   ]
  },
  {
   "cell_type": "markdown",
   "id": "7aff9c9c",
   "metadata": {},
   "source": [
    "\n",
    "### Indicadores de Logro:\n",
    "- Construye un dashboard con al menos 3 tipos de visualizaciones interconectadas\n",
    "- Implementa callbacks en Dash que respondan a inputs de usuario\n",
    "- Explica cómo las representaciones multimodales mejoran la comprensión de datos (Duval)\n",
    "- Propone soluciones basadas en datos para problemas reales del Bajo Cauca\n"
   ]
  },
  {
   "cell_type": "markdown",
   "id": "aca09cad",
   "metadata": {},
   "source": [
    "\n",
    "## 3. Mapa Conceptual (Graphviz)\n"
   ]
  },
  {
   "cell_type": "code",
   "execution_count": null,
   "id": "1215871d",
   "metadata": {},
   "outputs": [],
   "source": [
    "from graphviz import Digraph\n",
    "\n",
    "# Configuración del grafo\n",
    "dot = Digraph(comment='Plotly Dash en Agricultura', \n",
    "             engine='neato',\n",
    "             graph_attr={'overlap': 'scalexy', 'splines': 'true', 'fontsize': '12'},\n",
    "             node_attr={'style': 'filled', 'fillcolor': 'lightyellow'})\n",
    "\n",
    "# Nodos principales\n",
    "dot.node('A', 'Problema Real:\\nRiesgo Climático\\nBajo Cauca', shape='parallelogram', fillcolor='coral')\n",
    "dot.node('B', 'Plotly Dash', shape='ellipse', fillcolor='lightblue')\n",
    "dot.node('C', 'STEAM Approach', shape='pentagon', fillcolor='lightgreen')\n",
    "\n",
    "# Subnodos Plotly Dash\n",
    "with dot.subgraph(name='cluster_dash') as c:\n",
    "    c.attr(color='blue', label='Componentes Dash')\n",
    "    c.node('D1', 'Layout\\n(HTML Components)')\n",
    "    c.node('D2', 'Callbacks\\n(@app.callback)')\n",
    "    c.node('D3', 'Graph Components\\n(dcc.Graph)')\n",
    "    c.node('D4', 'Interactivity\\n(Dropdowns, Sliders)')\n",
    "    c.edges([('D1', 'D2'), ('D2', 'D3'), ('D3', 'D4')])\n",
    "\n",
    "# Subnodos STEAM\n",
    "with dot.subgraph(name='cluster_steam') as s:\n",
    "    s.attr(color='green', label='Enfoque STEAM')\n",
    "    s.node('S1', 'Ciencia:\\nAnálisis Datos IDEAM')\n",
    "    s.node('S2', 'Tecnología:\\nDesarrollo Python')\n",
    "    s.node('S3', 'Ingeniería:\\nArquitectura App')\n",
    "    s.node('S4', 'Artes:\\nVisualización')\n",
    "    s.node('S5', 'Matemáticas:\\nModelado')\n",
    "    s.edges([('S1', 'S5'), ('S2', 'S3'), ('S3', 'S4')])\n",
    "\n",
    "# Conexiones\n",
    "dot.edges(['AB', 'AC'])\n",
    "dot.edge('B', 'cluster_dash', lhead='cluster_dash')\n",
    "dot.edge('C', 'cluster_steam', lhead='cluster_steam')\n",
    "dot.edge('cluster_dash', 'cluster_steam', style='dashed')\n",
    "\n",
    "# Renderizar\n",
    "dot.render('C:/Users/marco/Descargas/PlotlyDash_Agricultura', format='png', view=True)\n",
    "\n"
   ]
  },
  {
   "cell_type": "markdown",
   "id": "1777a908",
   "metadata": {},
   "source": [
    "\n",
    "## 4. Historia Épica (Estilo Cuentero Antioqueño)\n",
    "\n",
    "*\"¡Uy parce, les voy a contar esta historia bonita! Resulta que allá en el 2012, unos muchachos de Montreal, Chris Parmer y su equipo de Plotly, estaban mamados de que hacer gráficos interactivos fuera tan complicado. 'Esto tiene que ser más fácil - dijeron - ¡que hasta mi abuela pueda hacerlo!'. Y así nació Dash, como quien dice, del puro cansancio.\"*\n",
    "\n",
    "*\"Pero aquí viene lo bueno: resulta que en el Bajo Cauca, don Jesús, un arrocero de toda la vida, llevaba años anotando en un cuadernito cuando llovía mucho y se le dañaba el cultivo. Hasta que un día, unos estudiantes de la UdeA le mostraron cómo con Dash podía ver todo eso en colores y con alertas. '¡Esto sí que es brujería buena!' dijo don Jesús, y desde ese día no para de pedir más gráficos.\"*\n",
    "\n",
    "[Imagen: Chris Parmer con sombrero vueltiao, estilo caricatura]\n",
    "[Imagen: Don Jesús mirando un dashboard en su tableta]\n",
    "\n",
    "## 5. Contenido de la Clase (ABP - Situación Real)\n",
    "\n",
    "**Problema Real**: \n",
    "Los agricultores de Tarazá reportan que en 2023 perdieron 40% de su cosecha por lluvias tardías. ¿Cómo predecir estos eventos?\n",
    "\n",
    "**Camino al Modelo**:\n",
    "\n",
    "1. **Recolección de Datos**:\n"
   ]
  },
  {
   "cell_type": "markdown",
   "id": "30a8fdf6",
   "metadata": {},
   "source": [
    "```python\n",
    "import pandas as pd\n",
    "clima = pd.read_csv('datos_ideam.csv')\n",
    "cultivos = pd.read_excel('produccion_arroz.xlsx')\n",
    "```\n"
   ]
  },
  {
   "cell_type": "markdown",
   "id": "49b3e613",
   "metadata": {},
   "source": [
    "\n",
    "2. **Análisis Exploratorio**:\n"
   ]
  },
  {
   "cell_type": "markdown",
   "id": "0543008e",
   "metadata": {},
   "source": [
    "```python\n",
    "import plotly.express as px\n",
    "fig = px.scatter(df, x='precipitacion_mayo', y='perdida_porcentual',\n",
    "                trendline=\"ols\",\n",
    "                title=\"Relación Precipitación-Pérdidas\")\n",
    "fig.show()\n",
    "```\n"
   ]
  },
  {
   "cell_type": "markdown",
   "id": "8ed25a61",
   "metadata": {},
   "source": [
    "\n",
    "3. **Modelado Matemático**:\n",
    "Regresión lineal múltiple:\n",
    "$ y = \\beta_0 + \\beta_1x_1 + \\beta_2x_2 + \\epsilon $\n",
    "Donde:\n",
    "- $y$: % pérdida\n",
    "- $x_1$: Precipitación mayo\n",
    "- $x_2$: Días con T° > 30°C\n",
    "\n",
    "4. **Implementación Dash**:\n"
   ]
  },
  {
   "cell_type": "markdown",
   "id": "dd73f41f",
   "metadata": {},
   "source": [
    "```python\n",
    "from dash import Dash, dcc, html, Input, Output\n",
    "\n",
    "app = Dash(__name__)\n",
    "\n",
    "app.layout = html.Div([\n",
    "    dcc.Graph(id='scatter-plot'),\n",
    "    dcc.Slider(id='month-slider', min=1, max=12, value=5)\n",
    "])\n",
    "\n",
    "@app.callback(\n",
    "    Output('scatter-plot', 'figure'),\n",
    "    Input('month-slider', 'value'))\n",
    "def update_graph(selected_month):\n",
    "    filtered_df = df[df['month'] == selected_month]\n",
    "    return px.scatter(filtered_df, x='precipitacion', y='perdida')\n",
    "```\n"
   ]
  },
  {
   "cell_type": "markdown",
   "id": "2d678358",
   "metadata": {},
   "source": [
    "\n",
    "## 6. Actividades de Aprendizaje\n",
    "\n",
    "### 6.1 Exploración Interactiva (ipywidgets)\n"
   ]
  },
  {
   "cell_type": "code",
   "execution_count": null,
   "id": "3f84da54",
   "metadata": {},
   "outputs": [],
   "source": [
    "from ipywidgets import interact\n",
    "\n",
    "@interact\n",
    "def explorar_umbral(umbral=(0, 100, 5)):\n",
    "    alerta = \"ALERTA ROJA\" if umbral > 70 else \"Precaución\"\n",
    "    print(f\"Con {umbral}% de humedad: {alerta}\")\n",
    "\n"
   ]
  },
  {
   "cell_type": "markdown",
   "id": "6a681386",
   "metadata": {},
   "source": [
    "\n",
    "### 6.2 Animación de Series Temporales\n",
    "```python\n",
    "from matplotlib.animation import FuncAnimation\n",
    "from IPython.display import HTML\n",
    "\n",
    "fig, ax = plt.subplots()\n",
    "line, = ax.plot([], [])\n",
    "\n",
    "def init():\n",
    "    ax.set_xlim(0, 12)\n",
    "    ax.set_ylim(0, 100)\n",
    "    return (line,)\n",
    "\n",
    "def animate(i):\n",
    "    line.set_data(df['mes'][:i], df['precipitacion'][:i])\n",
    "    return (line,)\n",
    "\n",
    "anim = FuncAnimation(fig, animate, frames=12, init_func=init, blit=True)\n",
    "HTML(anim.to_jshtml())\n",
    "```\n",
    "\n",
    "### 6.3 Taller de Dashboard Básico\n",
    "```python\n",
    "# Plantilla para estudiantes\n",
    "import dash\n",
    "import plotly.express as px\n",
    "from dash import dcc, html\n",
    "\n",
    "app = dash.Dash(__name__)\n",
    "\n",
    "# Datos de ejemplo (los estudiantes deben completar)\n",
    "df = pd.DataFrame({\n",
    "    'Municipio': ['Caucasia', 'Tarazá', 'Valdivia'],\n",
    "    'Riesgo': [0.65, 0.82, 0.43],\n",
    "    'Producción': [1200, 850, 1500]\n",
    "})\n",
    "\n",
    "# Diseñar layout (completar)\n",
    "app.layout = html.Div([\n",
    "    dcc.Graph(\n",
    "        id='example-graph',\n",
    "        figure=px.bar(____, x=____, y=____)  # ¡Completar!\n",
    "    )\n",
    "])\n",
    "\n",
    "if __name__ == '__main__':\n",
    "    app.run_server(debug=True)\n",
    "```\n",
    "\n",
    "## 7. Poema de Aprendizaje\n",
    "\n",
    "**\"El Dashboard del Arroz\"**  \n",
    "*(Rima pa' aprender Dash)*\n",
    "\n",
    "En el Bajo Cauca caliente,  \n",
    "donde el arroz es vida y frente,  \n",
    "llegó Dash con su poder  \n",
    "de datos nos hizo ver.  \n",
    "\n",
    "Con gráficos que hablan claro,  \n",
    "y colores que son raros,  \n",
    "el riesgo ya se puede evitar  \n",
    "si lo sabemos interpretar.  \n",
    "\n",
    "Slider aquí, dropdown allá,  \n",
    "callback que actualizará,  \n",
    "la sabiduría del agricultor  \n",
    "con la ciencia del investigador.  \n",
    "\n",
    "## 8. Tareas de Ejercitación\n",
    "\n",
    "1. **Análisis de Sensibilidad**:\n",
    "   - Modifica el umbral de alerta en el código interactivo\n",
    "   - Responde:\n",
    "     * ¿Por qué 70% es un buen valor inicial?\n",
    "     * ¿Qué pasa si cambiamos a 60%?\n",
    "     * ¿Hay otra forma de definir umbrales?\n",
    "\n",
    "2. **Mejora de Dashboard**:\n",
    "   - Añade un dropdown para seleccionar municipio\n",
    "   - Implementa un gráfico secundario que muestre:\n",
    "     $$ \\text{Eficiencia} = \\frac{\\text{Producción Real}}{\\text{Producción Esperada}} $$\n",
    "\n",
    "3. **Representaciones Múltiples**:\n",
    "   - Toma los mismos datos y crea:\n",
    "     * Una tabla resumen con Pandas\n",
    "     * Un gráfico Plotly\n",
    "     * Un mapa con ipyleaflet\n",
    "   - Explica cómo cada formato comunica información diferente\n",
    "\n",
    "## 9. Evaluación\n",
    "\n",
    "### Proyectos STEAM:\n",
    "1. **Científico**: Modelo predictivo de pérdidas\n",
    "2. **Tecnológico**: API para alimentar datos en tiempo real\n",
    "3. **Artístico**: Diseño de paleta de colores accesible\n",
    "4. **Matemático**: Análisis de correlaciones cruzadas\n",
    "\n",
    "### Quiz Ejemplo:\n",
    "1. ¿Qué componente de Dash se usa para crear interactividad?\n",
    "   a) dcc.Graph  \n",
    "   b) @app.callback  \n",
    "   c) html.Div  \n",
    "\n",
    "2. La ecuación $y = \\beta_0 + \\beta_1x_1$ representa:\n",
    "   a) Una red neuronal  \n",
    "   b) Una regresión lineal  \n",
    "   c) Un mapa de calor  \n",
    "\n",
    "3. ¿Por qué es importante la multimodalidad en visualizaciones?\n",
    "\n",
    "### Parcial:\n",
    "1. Desarrolla un dashboard con:\n",
    "   - 2 gráficos interconectados\n",
    "   - 1 control interactivo\n",
    "   - Manejo de datos reales del IDEAM\n",
    "\n",
    "## 10. Retroalimentación\n",
    "**Técnica \"3-2-1\"**:\n",
    "- 3 conceptos aprendidos\n",
    "- 2 dudas pendientes\n",
    "- 1 aplicación inmediata\n",
    "\n",
    "**Rúbrica de Autoevaluación**:\n",
    "| Criterio               | Niveles de Logro |\n",
    "|------------------------|------------------|\n",
    "| Funcionalidad          | Básico - Avanzado |\n",
    "| Diseño Visual          | Mejorable - Excelente |\n",
    "| Creatividad            | Convencional - Innovador |\n",
    "\n",
    "## 11. Vocabulario Inglés\n",
    "- **Dashboard**: Panel de control visual\n",
    "- **Callback**: Mecanismo de respuesta a interacciones\n",
    "- **Data binding**: Vinculación de datos\n",
    "- **Real-time updating**: Actualización en tiempo real\n",
    "\n",
    "## 12. Apéndice: Habilidades Blandas\n",
    "\n",
    "**Dinámica \"El Dashboard Humano\"**:\n",
    "- Cada estudiante representa un componente\n",
    "- Deben comunicarse para \"procesar datos\"\n",
    "- Reflexión sobre roles en equipo\n",
    "\n",
    "**Checklist Anti-Fraude**:\n",
    "- [ ] Entiendo cada línea de código que envió\n",
    "- [ ] Puedo explicar los conceptos en mis palabras\n",
    "- [ ] He dado crédito a todas las fuentes\n",
    "\n",
    "## 13. Referentes Didácticos (APA)\n",
    "\n",
    "1. Duval, R. (2006). Un tema crucial en la educación matemática: La habilidad para cambiar el registro de representación. *Educación Matemática*, 18(2), 5-19.\n",
    "\n",
    "2. Wing, J. M. (2006). Computational thinking. *Communications of the ACM*, 49(3), 33-35. https://doi.org/10.1145/1118178.1118215\n",
    "\n",
    "3. Schoenfeld, A. H. (2016). Learning to think mathematically: Problem solving, metacognition, and sense making in mathematics. *Journal of Education*, 196(2), 1-38.\n",
    "\n",
    "*[Lista completa con 10 referentes disponibles en el material complementario]*"
   ]
  },
  {
   "cell_type": "markdown",
   "id": "239427f7",
   "metadata": {},
   "source": [
    "# ARTÍCULO 1. Definir el calendario académico para los diferentes programas de pregrado de los campus\n",
    "regionalizados, correspondiente al primer periodo académico del año 2025, así:\n",
    "* Oferta 28 de enero de 2025\n",
    "* Matrícula 30 de enero de 2025\n",
    "* Ajustes 03 al 10 de febrero de 2025\n",
    "* Inicio de clases 10 de febrero de 2025\n",
    "* Límite evaluación del 40% 06 de abril de 2025\n",
    "* Terminación de clases 08 de junio de 2025\n",
    "* Exámenes finales 09 al 15 de junio de 2025\n",
    "* Habilitación y validación 16 al 22 de junio de 2025\n",
    "* Terminación oficial 23 de junio de 2025"
   ]
  },
  {
   "cell_type": "code",
   "execution_count": null,
   "id": "ec048afb",
   "metadata": {},
   "outputs": [],
   "source": []
  },
  {
   "cell_type": "code",
   "execution_count": null,
   "id": "c804f8d3",
   "metadata": {},
   "outputs": [],
   "source": []
  },
  {
   "cell_type": "code",
   "execution_count": null,
   "id": "cc539357",
   "metadata": {},
   "outputs": [],
   "source": []
  },
  {
   "cell_type": "markdown",
   "id": "740f3401",
   "metadata": {
    "slideshow": {
     "slide_type": "slide"
    }
   },
   "source": [
    "# Componente de manejo de calculadora Casio asociado al objetivo de aprendizaje de esta clase  \n",
    "\n",
    "## Pasos para lograr el objetivo de aprendizaje con la experimentación en la calculadora Casio 991LA cw  "
   ]
  },
  {
   "cell_type": "markdown",
   "id": "8ba64aed",
   "metadata": {},
   "source": [
    "# Cursos que orienta el profesor Marco Julio Cañas Campillo en 2025  \n",
    "\n",
    "1. Práctica Pedagógica V para Licenciatura en Educación Infantil\n",
    "2. Fundamentos de Lógica para Licenciatura en Matemáticas \n",
    "3. Análisis Numérico para Licenciatura en Matemáticas. \n",
    "4. Cálculo Vectorial para Ingeniería Agropecuaria"
   ]
  },
  {
   "cell_type": "markdown",
   "id": "8d41fe58",
   "metadata": {
    "slideshow": {
     "slide_type": "slide"
    }
   },
   "source": [
    "# Horario de clases del profesor Marco\n",
    "\n",
    "* Lunes 8-12: Cálculo Vectorial\n",
    "* Martes 8-12 M: Fundamentos de Aritmética. \n",
    "* Miércoles 8 a 12 M: Fundamentos de la Lógica\n",
    "* Jueves 2 a 6 PM: Desarrollo del pensamiento matemático en la infancia. \n",
    "* Viernes 8 - 12 M: Desarrollo del pensamiento matemático en la infancia. \n",
    "* Sábados 8-12 Asesorías y espacio para retroalimentación y apoyo al trabajo independiente. "
   ]
  },
  {
   "cell_type": "markdown",
   "id": "ae114e14",
   "metadata": {
    "slideshow": {
     "slide_type": "slide"
    }
   },
   "source": [
    "# Horarios de monitoría y asesoría  \n",
    "\n",
    "Coordinador de los cursos de la Facultad de Educación para regiones:    \n",
    "\n",
    "Andrés Vélez: regioneducacion.fedu@udea.edu.co  \n",
    "Coordinador Regiones  \n",
    "Facultad de Educación  \n",
    "Universidad de Antioquia  "
   ]
  },
  {
   "cell_type": "markdown",
   "id": "b1db4b6c",
   "metadata": {
    "slideshow": {
     "slide_type": "slide"
    }
   },
   "source": [
    "## Monitor Manuel San Juan Serrano\n",
    "\n",
    "Contactar escribiendo al correo: manuel.serrano1@udea.edu.co"
   ]
  },
  {
   "cell_type": "markdown",
   "id": "39559692",
   "metadata": {
    "slideshow": {
     "slide_type": "slide"
    }
   },
   "source": [
    "Martes y jueves de 8 - 12  \n",
    "Miércoles 10 - 12 y de 2 a 4 PM  \n",
    "Sábado: 8 - 12"
   ]
  },
  {
   "cell_type": "markdown",
   "id": "10bce0d0",
   "metadata": {
    "slideshow": {
     "slide_type": "slide"
    }
   },
   "source": [
    "## Referentes "
   ]
  },
  {
   "cell_type": "markdown",
   "id": "1db3c468",
   "metadata": {
    "slideshow": {
     "slide_type": "slide"
    }
   },
   "source": [
    "* [Lorena Barba. Enseñanza y Aprendizaje con Jupyter](https://jupyter4edu.github.io/jupyter-edu-book/)\n",
    "\n",
    "* [Géron, A. (2017). Hands-on machine learning with scikit-learn and tensorflow: Concepts. Tools, and Techniques to build intelligent systems.](chrome-extension://efaidnbmnnnibpcajpcglclefindmkaj/http://14.139.161.31/OddSem-0822-1122/Hands-On_Machine_Learning_with_Scikit-Learn-Keras-and-TensorFlow-2nd-Edition-Aurelien-Geron.pdf)   \n",
    "\n",
    "  \n",
    "* R. Duval y Semiosis y pensamiento humano, 2.ª ed. Cali, Colombia: Programa Editorial Universidad del Valle, 2017. [En línea]. Disponible en: https://programaeditorial.univalle.edu.co/gpd-semiosis-y-pensamiento-humano-9789587655278-63324cdb0f6b3.html\n",
    "\n",
    "* [Aylwin, C. U. (2011). Lógica, conjuntos y números. Universidad de los Andes, Consejo de Publicaciones, Colección: Ciencias Básicas, Serie: Matemáticas.](chrome-extension://efaidnbmnnnibpcajpcglclefindmkaj/https://www.u-cursos.cl/ciencias/2011/1/MC110/1/material_docente/bajar?id_material=574722)\n",
    "  \n",
    "* [Chollet, F. (2021). Deep learning with Python. Simon and Schuster.](chrome-extension://efaidnbmnnnibpcajpcglclefindmkaj/https://tanthiamhuat.wordpress.com/wp-content/uploads/2018/03/deeplearningwithpython.pdf)  \n",
    "  \n",
    "* [Watson, S., Stewart, J., & Redlin, L. (2009). Precálculo. Matemáticas para el cálculo.](https://github.com/marco-canas/calculo/blob/main/referents/1_precalculo_stewart/stewart_precalculo.pdf)  \n",
    "\n",
    " \n",
    "\n",
    "\n",
    "\n",
    "\n",
    "\n",
    "\n",
    "* [Recomendación de la UNESCO sobre ciencia abierta](https://unesdoc.unesco.org/ark:/48223/pf0000379949_spa)\n",
    "\n",
    "* [chatGPT](https://openai.com/blog/chatgpt)  \n",
    "\n",
    "\n"
   ]
  },
  {
   "cell_type": "markdown",
   "id": "df925560",
   "metadata": {},
   "source": [
    "\n",
    "* [McKinney, W. (2012). Python for data analysis: Data wrangling with Pandas, NumPy, and IPython. \" O'Reilly Media, Inc.\".](https://wesmckinney.com/book/) "
   ]
  },
  {
   "cell_type": "markdown",
   "id": "8e65d6f9",
   "metadata": {},
   "source": [
    "# Como estudiante, encuentro que...   \n",
    "\n",
    "F: Mis Fortalezas son:     \n",
    "O: Mis Oportunidades son:    \n",
    "D: Mis Debilidades son:    \n",
    "A: Lo que Amenazas mi aprendizaje es:  "
   ]
  },
  {
   "cell_type": "markdown",
   "id": "6b9e56a8",
   "metadata": {
    "slideshow": {
     "slide_type": "slide"
    }
   },
   "source": [
    "### [Evaluamos al profesor Marco Cañas Aquí](https://forms.office.com/Pages/ResponsePage.aspx?id=IefhmYRxjkmK_7KtTlPBwkanXIs1i1FEujpsZgO6dXpUREJPV1kxUk1JV1ozTFJIQVNIQjY5WEY3US4u)"
   ]
  },
  {
   "cell_type": "markdown",
   "id": "10f43536",
   "metadata": {
    "slideshow": {
     "slide_type": "slide"
    }
   },
   "source": [
    "### Continue su aprendizaje en la siguiente clase a través del siguiente [vínculo]()"
   ]
  },
  {
   "cell_type": "markdown",
   "id": "53cc9115",
   "metadata": {
    "slideshow": {
     "slide_type": "slide"
    }
   },
   "source": [
    "## Agradecimientos  \n",
    "\n",
    "Doy gracias a Dios por la vida de mi Hijo Joseph Cañas Osorio y la madurez que ha alcanzado. Este hijo me enorgullece y me hace falta abrazarlo cada día. \n",
    "\n",
    "Y a mi esposa Yasmira Emperatriz Barboza Mogollón por su apoyo, orientación y acompañamiento. "
   ]
  },
  {
   "cell_type": "markdown",
   "id": "b6ba1c23",
   "metadata": {},
   "source": [
    "# Apéndice sobre calendarios y coordinaciones \n",
    "\n",
    "A continuación le envío el horario de la asignatura Cálculo Vectorial  \n",
    "\n",
    "Días:  \n",
    "Lunes - Hora: 7:00 a 12:00M  \n",
    "Fechas:  \n",
    "Febrero: 10-17-24                                          \n",
    " Marzo: 3-10-17-31                                                  \n",
    "Abril:7-21-28                                                   \n",
    "Mayo:5-12-19  \n",
    "\n",
    "Agradezco su apoyo, y si presenta alguna dificultad puede contactarme.  \n",
    "\n",
    "Cordialmente,  \n",
    "Juan Felipe Rivera Hernández  \n",
    "Contacto: 3106314300  "
   ]
  }
 ],
 "metadata": {
  "celltoolbar": "Slideshow",
  "kernelspec": {
   "display_name": ".venv",
   "language": "python",
   "name": "python3"
  },
  "language_info": {
   "codemirror_mode": {
    "name": "ipython",
    "version": 3
   },
   "file_extension": ".py",
   "mimetype": "text/x-python",
   "name": "python",
   "nbconvert_exporter": "python",
   "pygments_lexer": "ipython3",
   "version": "3.13.5"
  },
  "rise": {
   "enable_chalkboard": true,
   "theme": "sky",
   "transition": "zoom"
  }
 },
 "nbformat": 4,
 "nbformat_minor": 5
}
