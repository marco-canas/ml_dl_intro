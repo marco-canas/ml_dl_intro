{
 "cells": [
  {
   "cell_type": "markdown",
   "id": "56025ff8",
   "metadata": {},
   "source": [
    "<table align=\"left\">\n",
    "  <td>\n",
    "    <a href=\"https://colab.research.google.com/github/marco-canas/ml_intro/blob/main/2_planificacion/3_dl/geron/10_chapter/pagina_492_ed_3.ipynb\" target=\"_parent\"><img src=\"https://colab.research.google.com/assets/colab-badge.svg\" alt=\"Open In Colab\"/></a>\n",
    "  </td>\n",
    "  <td>\n",
    "    <a target=\"_blank\" href=\"https://kaggle.com/kernels/welcome?src=https://github.com/marco-canas/ml_intro/blob/main/2_planificacion/3_dl/geron/10_chapter/pagina_492_ed_3.ipynb\"><img src=\"https://kaggle.com/static/images/open-in-kaggle.svg\" /></a>\n",
    "  </td>\n",
    "</table>"
   ]
  },
  {
   "cell_type": "markdown",
   "id": "59d15ef1",
   "metadata": {},
   "source": [
    "Aquí está la traducción al español de las páginas 492 y 493 del libro *Hands-On Machine Learning with Scikit-Learn, Keras, and TensorFlow* (3ª edición) de Aurélien Géron, incluyendo visualizaciones y código:\n",
    "\n",
    "---\n"
   ]
  },
  {
   "cell_type": "markdown",
   "id": "682ad1a4",
   "metadata": {},
   "source": [
    "\n",
    "### Construyendo un Clasificador de Imágenes Usando la API Secuencial\n"
   ]
  },
  {
   "cell_type": "markdown",
   "id": "943abaa5",
   "metadata": {},
   "source": [
    "\n",
    "Primero, necesitamos cargar un conjunto de datos. "
   ]
  },
  {
   "cell_type": "markdown",
   "id": "0d52d396",
   "metadata": {},
   "source": [
    "Usaremos **Fashion MNIST**, que es un reemplazo directo de MNIST (presentado en el Capítulo 3). "
   ]
  },
  {
   "cell_type": "markdown",
   "id": "1b9aa0e3",
   "metadata": {},
   "source": [
    "Tiene exactamente el mismo formato que MNIST (70,000 imágenes en escala de grises de 28 × 28 píxeles cada una, con 10 clases), pero las imágenes representan artículos de moda en lugar de dígitos escritos a mano. "
   ]
  },
  {
   "cell_type": "markdown",
   "id": "c239f6f5",
   "metadata": {},
   "source": [
    "Esto hace que cada clase sea más diversa y el problema resulte significativamente más desafiante que MNIST. "
   ]
  },
  {
   "cell_type": "markdown",
   "id": "07785e57",
   "metadata": {},
   "source": [
    "Por ejemplo, un modelo lineal simple alcanza aproximadamente un 92% de precisión en MNIST, pero solo alrededor del 83% en Fashion MNIST.\n"
   ]
  },
  {
   "cell_type": "markdown",
   "id": "319cbd9d",
   "metadata": {},
   "source": [
    "# Verificación de la afirmación de Géron anterior  \n",
    "\n",
    "Aquí tienes el código Python para verificar la afirmación de Géron sobre la precisión de un modelo lineal simple en MNIST vs. Fashion MNIST:\n"
   ]
  },
  {
   "cell_type": "code",
   "execution_count": 1,
   "id": "09d29f59",
   "metadata": {},
   "outputs": [],
   "source": [
    "import tensorflow as tf\n",
    "import numpy as np\n",
    "import matplotlib.pyplot as plt\n"
   ]
  },
  {
   "cell_type": "code",
   "execution_count": 2,
   "id": "15d1db5a",
   "metadata": {},
   "outputs": [],
   "source": [
    "\n",
    "# Función para entrenar y evaluar un modelo lineal\n",
    "def evaluate_linear_model(dataset_name):\n",
    "    # Cargar el dataset\n",
    "    if dataset_name == 'mnist':\n",
    "        (X_train, y_train), (X_test, y_test) = tf.keras.datasets.mnist.load_data()\n",
    "    elif dataset_name == 'fashion_mnist':\n",
    "        (X_train, y_train), (X_test, y_test) = tf.keras.datasets.fashion_mnist.load_data()\n",
    "    \n",
    "    # Preprocesamiento\n",
    "    X_train = X_train.reshape(-1, 28*28) / 255.0\n",
    "    X_test = X_test.reshape(-1, 28*28) / 255.0\n",
    "    \n",
    "    # Crear modelo lineal simple\n",
    "    model = tf.keras.Sequential([\n",
    "        tf.keras.layers.Dense(10, activation='softmax', input_shape=(784,))\n",
    "    ])\n",
    "    \n",
    "    # Compilar y entrenar\n",
    "    model.compile(optimizer='sgd',\n",
    "                 loss='sparse_categorical_crossentropy',\n",
    "                 metrics=['accuracy'])\n",
    "    \n",
    "    history = model.fit(X_train, y_train, epochs=20, verbose=0)\n",
    "    \n",
    "    # Evaluar en test\n",
    "    test_loss, test_acc = model.evaluate(X_test, y_test, verbose=0)\n",
    "    return test_acc\n"
   ]
  },
  {
   "cell_type": "code",
   "execution_count": 3,
   "id": "df6f61ce",
   "metadata": {},
   "outputs": [
    {
     "name": "stdout",
     "output_type": "stream",
     "text": [
      "Downloading data from https://storage.googleapis.com/tensorflow/tf-keras-datasets/mnist.npz\n",
      "\u001b[1m11490434/11490434\u001b[0m \u001b[32m━━━━━━━━━━━━━━━━━━━━\u001b[0m\u001b[37m\u001b[0m \u001b[1m18s\u001b[0m 2us/step\n"
     ]
    },
    {
     "name": "stderr",
     "output_type": "stream",
     "text": [
      "c:\\Users\\marco\\Documentos\\investigacion\\ml_intro\\.venv\\Lib\\site-packages\\keras\\src\\layers\\core\\dense.py:93: UserWarning: Do not pass an `input_shape`/`input_dim` argument to a layer. When using Sequential models, prefer using an `Input(shape)` object as the first layer in the model instead.\n",
      "  super().__init__(activity_regularizer=activity_regularizer, **kwargs)\n"
     ]
    }
   ],
   "source": [
    "%%time \n",
    "# Evaluar ambos datasets\n",
    "mnist_acc = evaluate_linear_model('mnist')\n",
    "fashion_mnist_acc = evaluate_linear_model('fashion_mnist')\n"
   ]
  },
  {
   "cell_type": "code",
   "execution_count": 4,
   "id": "83f2cac4",
   "metadata": {},
   "outputs": [
    {
     "name": "stdout",
     "output_type": "stream",
     "text": [
      "Precisión en MNIST: 91.89%\n",
      "Precisión en Fashion MNIST: 83.85%\n"
     ]
    }
   ],
   "source": [
    "\n",
    "# Mostrar resultados\n",
    "print(f\"Precisión en MNIST: {mnist_acc:.2%}\")\n",
    "print(f\"Precisión en Fashion MNIST: {fashion_mnist_acc:.2%}\")\n"
   ]
  },
  {
   "cell_type": "code",
   "execution_count": 6,
   "id": "ce682ee1",
   "metadata": {},
   "outputs": [
    {
     "data": {
      "image/png": "[encoded data removed]",
      "text/plain": [
       "<Figure size 640x480 with 1 Axes>"
      ]
     },
     "metadata": {},
     "output_type": "display_data"
    }
   ],
   "source": [
    "\n",
    "# Visualización comparativa\n",
    "plt.bar(['MNIST', 'Fashion MNIST'], [mnist_acc, fashion_mnist_acc])\n",
    "plt.title('Comparación de precisión: Modelo Lineal Simple')\n",
    "plt.ylabel('Precisión')\n",
    "plt.ylim(0.7, 1.0)\n",
    "for i, v in enumerate([mnist_acc, fashion_mnist_acc]):\n",
    "    plt.text(i, v + 0.01, f\"{v:.2%}\", ha='center')\n",
    "plt.savefig(r'C:\\Users\\marco\\Downloads\\comparacion_precision.png')    \n",
    "plt.show()\n",
    "\n"
   ]
  },
  {
   "cell_type": "markdown",
   "id": "d41affc8",
   "metadata": {},
   "source": [
    "\n",
    "### Resultados esperados:\n",
    "```\n",
    "Precisión en MNIST: 92.xx%\n",
    "Precisión en Fashion MNIST: 83.xx%\n",
    "```\n"
   ]
  },
  {
   "cell_type": "markdown",
   "id": "1b549ed5",
   "metadata": {},
   "source": [
    "\n",
    "### Explicación del código:\n",
    "1. **Función `evaluate_linear_model`**:\n",
    "   - Carga el dataset especificado (MNIST o Fashion MNIST)\n",
    "   - Aplana las imágenes de 28x28 a vectores de 784 dimensiones\n",
    "   - Normaliza los valores de píxeles al rango [0, 1]\n",
    "   - Crea un modelo lineal simple con una capa Dense de 10 neuronas (una por clase)\n",
    "   - Entrena con SGD y evalúa la precisión en el conjunto de test\n"
   ]
  },
  {
   "cell_type": "markdown",
   "id": "38ccd14f",
   "metadata": {},
   "source": [
    "\n",
    "2. **Comparación**:\n",
    "   - El código muestra cómo el mismo modelo lineal tiene diferente rendimiento en los dos datasets\n",
    "   - La visualización con matplotlib muestra la diferencia de forma gráfica\n"
   ]
  },
  {
   "cell_type": "markdown",
   "id": "26b2f3b1",
   "metadata": {},
   "source": [
    "\n",
    "3. **Verificación de la afirmación**:\n",
    "   - Como menciona Géron, la precisión en MNIST ronda el 92%\n",
    "   - Mientras que en Fashion MNIST baja a aproximadamente 83%\n"
   ]
  },
  {
   "cell_type": "markdown",
   "id": "b75dfe95",
   "metadata": {},
   "source": [
    "\n",
    "Este código demuestra empíricamente que Fashion MNIST es significativamente más desafiante que MNIST para modelos lineales simples, confirmando la observación del libro."
   ]
  },
  {
   "cell_type": "markdown",
   "id": "78e63a12",
   "metadata": {},
   "source": [
    "\n",
    "# Usando Keras para cargar el conjunto de datos\n"
   ]
  },
  {
   "cell_type": "markdown",
   "id": "7c93c278",
   "metadata": {},
   "source": [
    "\n",
    "Keras proporciona funciones auxiliares para descargar y cargar conjuntos de datos comunes, incluyendo MNIST, Fashion MNIST y algunos más. Vamos a cargar Fashion MNIST. "
   ]
  },
  {
   "cell_type": "markdown",
   "id": "b9b9c91f",
   "metadata": {},
   "source": [
    "Ya está barajado y dividido en un conjunto de entrenamiento (60,000 imágenes) y un conjunto de prueba (10,000 imágenes), pero reservaremos las últimas 5,000 imágenes del conjunto de entrenamiento para validación:\n"
   ]
  },
  {
   "cell_type": "code",
   "execution_count": 7,
   "id": "5bf53c91",
   "metadata": {},
   "outputs": [],
   "source": [
    "import tensorflow as tf\n",
    "\n",
    "fashion_mnist = tf.keras.datasets.fashion_mnist.load_data()\n",
    "(X_train_full, y_train_full), (X_test, y_test) = fashion_mnist\n",
    "X_train, y_train = X_train_full[:-5000], y_train_full[:-5000]\n",
    "X_valid, y_valid = X_train_full[-5000:], y_train_full[-5000:]\n",
    "\n"
   ]
  },
  {
   "cell_type": "markdown",
   "id": "9349f6fc",
   "metadata": {},
   "source": [
    "\n",
    "**CONSEJO**  \n",
    "TensorFlow generalmente se importa como `tf`, y la API de Keras está disponible a través de `tf.keras`.\n",
    "\n",
    "Al cargar MNIST o Fashion MNIST usando Keras en lugar de Scikit-Learn, una diferencia importante es que cada imagen se representa como una matriz de 28 × 28 en lugar de un array 1D de tamaño 784. Además, las intensidades de los píxeles se representan como enteros (de 0 a 255) en lugar de flotantes (de 0.0 a 255.0).\n",
    "\n",
    "Veamos la forma y el tipo de datos del conjunto de entrenamiento:\n"
   ]
  },
  {
   "cell_type": "code",
   "execution_count": 8,
   "id": "416c0c35",
   "metadata": {},
   "outputs": [
    {
     "data": {
      "text/plain": [
       "(55000, 28, 28)"
      ]
     },
     "execution_count": 8,
     "metadata": {},
     "output_type": "execute_result"
    }
   ],
   "source": [
    "X_train.shape\n"
   ]
  },
  {
   "cell_type": "code",
   "execution_count": null,
   "id": "2a8a99ad",
   "metadata": {},
   "outputs": [],
   "source": [
    "\n",
    "X_train.dtype\n"
   ]
  },
  {
   "cell_type": "markdown",
   "id": "71bcd04d",
   "metadata": {},
   "source": [
    "\n",
    "Para simplificar, escalaremos las intensidades de los píxeles al rango 0–1 dividiéndolas por 255.0 (esto también las convierte en flotantes):\n"
   ]
  },
  {
   "cell_type": "code",
   "execution_count": 9,
   "id": "8715689f",
   "metadata": {},
   "outputs": [],
   "source": [
    "\n",
    "X_train, X_valid, X_test = X_train / 255., X_valid / 255., X_test / 255.\n",
    "\n"
   ]
  },
  {
   "cell_type": "markdown",
   "id": "7487269e",
   "metadata": {},
   "source": [
    "\n",
    "Con MNIST, cuando la etiqueta es igual a 5, significa que la imagen representa el dígito escrito a mano \"5\". Sencillo. Para Fashion MNIST, sin embargo, necesitamos la lista de nombres de clase para saber qué estamos manejando:\n",
    "\n",
    "```python\n",
    "class_names = [\"Camiseta/top\", \"Pantalón\", \"Jersey\", \"Vestido\", \"Abrigo\",\n",
    "               \"Sandalia\", \"Camisa\", \"Zapatilla\", \"Bolso\", \"Bota de tobillo\"]\n",
    "```\n",
    "\n",
    "Por ejemplo, la primera imagen en el conjunto de entrenamiento representa una bota de tobillo:\n",
    "\n",
    "```python\n",
    ">>> class_names[y_train[0]]\n",
    "'Bota de tobillo'\n",
    "```\n",
    "\n",
    "La Figura 10-10 muestra algunas muestras del conjunto de datos Fashion MNIST.\n",
    "\n",
    "Aquí tienes el script para generar la **Figura 10-10** que muestra muestras del conjunto de datos Fashion MNIST, similar a la que aparece en el libro de Aurélien Géron:\n",
    "\n",
    "```python\n",
    "import tensorflow as tf\n",
    "import matplotlib.pyplot as plt\n",
    "\n",
    "# Cargar el dataset Fashion MNIST\n",
    "fashion_mnist = tf.keras.datasets.fashion_mnist.load_data()\n",
    "(X_train_full, y_train_full), (X_test, y_test) = fashion_mnist\n",
    "\n",
    "# Nombres de las clases\n",
    "class_names = [\"T-shirt/top\", \"Trouser\", \"Pullover\", \"Dress\", \"Coat\",\n",
    "               \"Sandal\", \"Shirt\", \"Sneaker\", \"Bag\", \"Ankle boot\"]\n",
    "\n",
    "# Configurar la figura\n",
    "plt.figure(figsize=(10, 10))\n",
    "for i in range(25):\n",
    "    plt.subplot(5, 5, i + 1)\n",
    "    plt.xticks([])\n",
    "    plt.yticks([])\n",
    "    plt.grid(False)\n",
    "    plt.imshow(X_train_full[i], cmap=plt.cm.binary)\n",
    "    plt.xlabel(class_names[y_train_full[i]])\n",
    "\n",
    "plt.tight_layout()\n",
    "plt.show()\n",
    "```\n",
    "\n",
    "### Explicación:\n",
    "1. **Carga del dataset**: Usamos `tf.keras.datasets.fashion_mnist.load_data()` para cargar los datos.\n",
    "2. **Visualización**:\n",
    "   - Creamos una cuadrícula de 5x5 (25 imágenes) usando `plt.subplot()`.\n",
    "   - Cada imagen se muestra en escala de grises (`cmap=plt.cm.binary`).\n",
    "   - Los ejes se ocultan para mayor claridad (`plt.xticks([])`, `plt.yticks([])`).\n",
    "   - El nombre de la clase (ej. \"Ankle boot\") se muestra como etiqueta en el eje *x*.\n",
    "3. **Formato**:\n",
    "   - `plt.tight_layout()` evita superposiciones.\n",
    "   - `plt.show()` renderiza la figura.\n"
   ]
  },
  {
   "cell_type": "markdown",
   "id": "301c5c51",
   "metadata": {},
   "source": [
    "\n",
    "### Resultado:\n",
    "Obtendrás una figura similar a esta (pero con datos reales del dataset):\n",
    "\n",
    "![Fashion MNIST Samples](https://miro.medium.com/max/700/1*QQVbuP2SEasB0XAmvjW0AA.jpeg)  \n",
    "*(Ejemplo de cómo se vería la figura generada, mostrando 25 imágenes etiquetadas)*.\n"
   ]
  },
  {
   "cell_type": "markdown",
   "id": "2424d4a6",
   "metadata": {},
   "source": [
    "\n",
    "### Personalización:\n",
    "- Si quieres cambiar el número de imágenes, ajusta el rango en el bucle `for` (ej. `range(16)` para 16 imágenes).\n",
    "- Para un estilo más similar al libro, puedes añadir parámetros como `plt.title(\"Figura 10-10. Samples from Fashion MNIST\", y=-0.2)`.\n"
   ]
  },
  {
   "cell_type": "markdown",
   "id": "fdf7313a",
   "metadata": {},
   "source": [
    "\n",
    "**Figura 10-10.** Muestras de Fashion MNIST  \n",
    "*(Nota: La imagen no se incluye aquí, pero en el libro muestra ejemplos de las 10 clases de prendas.)*\n"
   ]
  },
  {
   "cell_type": "markdown",
   "id": "722c0c5b",
   "metadata": {},
   "source": [
    "\n",
    "#### Creando el modelo usando la API Secuencial\n",
    "\n",
    "¡Ahora construyamos la red neuronal! Aquí hay un MLP de clasificación con dos...\n",
    "\n",
    "---\n",
    "\n",
    "*(El texto se corta al final, pero la traducción cubre todo el contenido solicitado de las páginas 492 y 493, incluyendo código y descripciones. Si necesitas la continuación o más detalles, ¡avísame!)*"
   ]
  },
  {
   "cell_type": "markdown",
   "id": "f6af40f6",
   "metadata": {},
   "source": [
    "# Práctica de codificación asociada al texto de la página 492  \n",
    "\n",
    "Aquí tienes un **diseño de práctica de codificación** basado en el texto de Géron (págs. 492-493), que incluye el dataset **Fashion MNIST** y otro dataset relevante (**CIFAR-10** para extender el concepto a imágenes en color). La práctica está estructurada en pasos progresivos, con objetivos claros y tareas específicas.\n",
    "\n",
    "---\n",
    "\n",
    "### **Práctica de Codificación: Clasificación de Imágenes con Keras**\n",
    "**Objetivo**:  \n",
    "Construir y evaluar modelos de redes neuronales para clasificación de imágenes usando la API Secuencial de Keras, comparando resultados entre Fashion MNIST y CIFAR-10.\n",
    "\n",
    "---\n",
    "\n",
    "#### **Parte 1: Fashion MNIST** (Grayscale)\n",
    "**Tareas**:\n",
    "1. **Carga y preprocesamiento**:\n",
    "   - Carga Fashion MNIST usando `tf.keras.datasets`.\n",
    "   - Divide los datos en entrenamiento (55k), validación (5k) y test (10k).\n",
    "   - Normaliza los píxeles (0-1) y muestra las primeras 25 imágenes con sus etiquetas (como en la Figura 10-10 del libro).\n",
    "\n",
    "   ```python\n",
    "   import tensorflow as tf\n",
    "   import matplotlib.pyplot as plt\n",
    "\n",
    "   # Cargar datos\n",
    "   (X_train, y_train), (X_test, y_test) = tf.keras.datasets.fashion_mnist.load_data()\n",
    "   X_train, X_valid = X_train[:-5000] / 255.0, X_train[-5000:] / 255.0\n",
    "   X_test = X_test / 255.0\n",
    "\n",
    "   # Visualizar muestras\n",
    "   class_names = [\"T-shirt/top\", \"Trouser\", \"Pullover\", \"Dress\", \"Coat\", \n",
    "                  \"Sandal\", \"Shirt\", \"Sneaker\", \"Bag\", \"Ankle boot\"]\n",
    "   plt.figure(figsize=(10, 10))\n",
    "   for i in range(25):\n",
    "       plt.subplot(5, 5, i+1)\n",
    "       plt.imshow(X_train[i], cmap='gray')\n",
    "       plt.title(class_names[y_train[i]])\n",
    "       plt.axis('off')\n",
    "   plt.show()\n",
    "   ```\n",
    "\n",
    "2. **Modelo Secuencial**:\n",
    "   - Construye un MLP con 2 capas ocultas (300 y 100 neuronas, ReLU) y capa de salida (Softmax).\n",
    "   - Compila con `sparse_categorical_crossentropy` y optimizador `SGD`.\n",
    "   - Entrena durante 30 épocas y guarda el historial.\n",
    "\n",
    "   ```python\n",
    "   model = tf.keras.Sequential([\n",
    "       tf.keras.layers.Flatten(input_shape=(28, 28)),\n",
    "       tf.keras.layers.Dense(300, activation='relu'),\n",
    "       tf.keras.layers.Dense(100, activation='relu'),\n",
    "       tf.keras.layers.Dense(10, activation='softmax')\n",
    "   ])\n",
    "   model.compile(optimizer='sgd', loss='sparse_categorical_crossentropy', metrics=['accuracy'])\n",
    "   history = model.fit(X_train, y_train, epochs=30, validation_data=(X_valid, y_valid))\n",
    "   ```\n",
    "\n",
    "3. **Evaluación**:\n",
    "   - Grafica curvas de aprendizaje (pérdida y precisión).\n",
    "   - Evalúa el modelo en el conjunto de test.\n",
    "\n",
    "---\n",
    "\n",
    "#### **Parte 2: CIFAR-10** (Color)\n",
    "**Objetivo**: Aplicar el mismo flujo a un dataset más complejo (imágenes RGB de 32x32).\n",
    "\n",
    "**Tareas**:\n",
    "1. **Carga y preprocesamiento**:\n",
    "   - Carga CIFAR-10 con `tf.keras.datasets.cifar10`.\n",
    "   - Normaliza los píxeles y visualiza muestras.\n",
    "\n",
    "   ```python\n",
    "   (X_train_cifar, y_train_cifar), (X_test_cifar, y_test_cifar) = tf.keras.datasets.cifar10.load_data()\n",
    "   X_train_cifar, X_valid_cifar = X_train_cifar[:-5000] / 255.0, X_train_cifar[-5000:] / 255.0\n",
    "   ```\n",
    "\n",
    "2. **Modelo Adaptado**:\n",
    "   - Añade una capa `Flatten` para convertir imágenes 32x32x3 en 1D.\n",
    "   - Usa una arquitectura similar (pero nota que CIFAR-10 es más difícil; espera precisión menor).\n",
    "\n",
    "   ```python\n",
    "   model_cifar = tf.keras.Sequential([\n",
    "       tf.keras.layers.Flatten(input_shape=(32, 32, 3)),\n",
    "       tf.keras.layers.Dense(300, activation='relu'),\n",
    "       tf.keras.layers.Dense(100, activation='relu'),\n",
    "       tf.keras.layers.Dense(10, activation='softmax')\n",
    "   ])\n",
    "   ```\n",
    "\n",
    "3. **Comparativa**:\n",
    "   - ¿Cómo varía la precisión entre Fashion MNIST y CIFAR-10? Discute por qué.\n",
    "\n",
    "---\n",
    "\n",
    "#### **Parte 3: Desafío Opcional**\n",
    "- **Mejora el modelo**:  \n",
    "  - Prueba agregar `BatchNormalization` o `Dropout`.\n",
    "  - Reemplaza el MLP por una CNN (ejemplo mínimo):\n",
    "    ```python\n",
    "    model_cnn = tf.keras.Sequential([\n",
    "        tf.keras.layers.Conv2D(32, (3, 3), activation='relu', input_shape=(32, 32, 3)),\n",
    "        tf.keras.layers.MaxPooling2D((2, 2)),\n",
    "        tf.keras.layers.Flatten(),\n",
    "        tf.keras.layers.Dense(64, activation='relu'),\n",
    "        tf.keras.layers.Dense(10, activation='softmax')\n",
    "    ])\n",
    "    ```\n",
    "\n",
    "---\n",
    "\n",
    "### **Rúbrica de Evaluación**\n",
    "| Criterio               | Puntos |\n",
    "|------------------------|--------|\n",
    "| Carga y visualización  | 2      |\n",
    "| Modelo Secuencial      | 3      |\n",
    "| Evaluación y gráficos  | 2      |\n",
    "| Comparativa CIFAR-10   | 2      |\n",
    "| Mejoras opcionales     | +1     |\n",
    "\n",
    "---\n",
    "\n",
    "### **Reflexión**\n",
    "- ¿Por qué Fashion MNIST es más fácil que CIFAR-10 para un MLP?  \n",
    "  *(Pista: dimensionalidad, canales de color, complejidad de características).*\n",
    "\n",
    "---\n",
    "\n",
    "Este diseño cubre los conceptos clave del libro (API Secuencial, preprocessing, evaluación) mientras introduce un dataset adicional para comparar. ¿Te gustaría ajustar algún elemento?"
   ]
  }
 ],
 "metadata": {
  "kernelspec": {
   "display_name": ".venv",
   "language": "python",
   "name": "python3"
  },
  "language_info": {
   "codemirror_mode": {
    "name": "ipython",
    "version": 3
   },
   "file_extension": ".py",
   "mimetype": "text/x-python",
   "name": "python",
   "nbconvert_exporter": "python",
   "pygments_lexer": "ipython3",
   "version": "3.11.9"
  }
 },
 "nbformat": 4,
 "nbformat_minor": 5
}
