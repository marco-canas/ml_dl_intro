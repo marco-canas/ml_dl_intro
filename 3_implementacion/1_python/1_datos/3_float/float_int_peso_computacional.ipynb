{
 "cells": [
  {
   "cell_type": "markdown",
   "id": "e18d6d6a",
   "metadata": {},
   "source": [
    "# Diferencia entre peso de un float y un int"
   ]
  },
  {
   "cell_type": "code",
   "execution_count": 6,
   "id": "bef98e82",
   "metadata": {},
   "outputs": [
    {
     "name": "stdout",
     "output_type": "stream",
     "text": [
      "Peso computacional del float: 24 bytes\n",
      "Peso computacional del int: 28 bytes\n"
     ]
    }
   ],
   "source": [
    "import sys\n",
    "\n",
    "# Datos de ejemplo\n",
    "numero_float = 3.0\n",
    "numero_int = 40\n",
    "\n",
    "# Calcular el peso computacional en bytes\n",
    "peso_float = sys.getsizeof(numero_float)\n",
    "peso_int = sys.getsizeof(numero_int)\n",
    "\n",
    "print(\"Peso computacional del float:\", peso_float, \"bytes\")\n",
    "print(\"Peso computacional del int:\", peso_int, \"bytes\")\n"
   ]
  },
  {
   "cell_type": "code",
   "execution_count": null,
   "id": "b0172247",
   "metadata": {},
   "outputs": [],
   "source": []
  }
 ],
 "metadata": {
  "kernelspec": {
   "display_name": "Python 3 (ipykernel)",
   "language": "python",
   "name": "python3"
  },
  "language_info": {
   "codemirror_mode": {
    "name": "ipython",
    "version": 3
   },
   "file_extension": ".py",
   "mimetype": "text/x-python",
   "name": "python",
   "nbconvert_exporter": "python",
   "pygments_lexer": "ipython3",
   "version": "3.9.13"
  }
 },
 "nbformat": 4,
 "nbformat_minor": 5
}
