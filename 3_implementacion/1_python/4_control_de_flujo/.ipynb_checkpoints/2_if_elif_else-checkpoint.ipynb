{
 "cells": [
  {
   "cell_type": "markdown",
   "id": "744355ab",
   "metadata": {
    "slideshow": {
     "slide_type": "slide"
    }
   },
   "source": [
    "<table align=\"left\">\n",
    "  <td>\n",
    "    <a href=\"https://colab.research.google.com/github/marco-canas/10_pygame/blob/main/1_capitulo_instalar_pygame.ipynb\" target=\"_parent\"><img src=\"https://colab.research.google.com/assets/colab-badge.svg\" alt=\"Open In Colab\"/></a>\n",
    "  </td>\n",
    "</table>"
   ]
  },
  {
   "cell_type": "markdown",
   "id": "df2e4521",
   "metadata": {
    "slideshow": {
     "slide_type": "slide"
    }
   },
   "source": [
    "## [Video de apoyo a la lectura interactiva de este cuaderno]()"
   ]
  },
  {
   "cell_type": "markdown",
   "id": "ddc8d947",
   "metadata": {
    "slideshow": {
     "slide_type": "slide"
    }
   },
   "source": [
    "# If, elif y else"
   ]
  },
  {
   "cell_type": "markdown",
   "id": "2a00b01d",
   "metadata": {
    "slideshow": {
     "slide_type": "slide"
    }
   },
   "source": [
    "No permitirá tomar decisiones en nuestro código. Veamos cómo se implementa: "
   ]
  },
  {
   "cell_type": "markdown",
   "id": "392dff0f",
   "metadata": {
    "slideshow": {
     "slide_type": "slide"
    }
   },
   "source": [
    "## Control de flujo "
   ]
  },
  {
   "cell_type": "markdown",
   "id": "0287d09f",
   "metadata": {
    "slideshow": {
     "slide_type": "slide"
    }
   },
   "source": []
  },
  {
   "cell_type": "code",
   "execution_count": null,
   "id": "ffb8b7c9",
   "metadata": {
    "slideshow": {
     "slide_type": "slide"
    }
   },
   "outputs": [],
   "source": [
    "if 2 < 5:  # la sentencia if y luego una evaluación o propocisión\n",
    "    print('2 es menor que 5')         # condición que se ejecutará siempre y cuando la proposición anterior sea verdadera"
   ]
  },
  {
   "cell_type": "code",
   "execution_count": null,
   "id": "9a9cfc28",
   "metadata": {},
   "outputs": [],
   "source": [
    "if 1 > 0:\n",
    "    print('1 es mayor que 0')"
   ]
  },
  {
   "cell_type": "markdown",
   "id": "687bb3a8",
   "metadata": {
    "slideshow": {
     "slide_type": "slide"
    }
   },
   "source": [
    "# Podemos evaluar si dos variables son iguales con `==`"
   ]
  },
  {
   "cell_type": "markdown",
   "id": "4ba46aa8",
   "metadata": {
    "slideshow": {
     "slide_type": "slide"
    }
   },
   "source": [
    "1. `a == b`  \n",
    "2. `a < b`  \n",
    "3. `a > b`  \n",
    "4. `a != b`  \n",
    "5. `a <= b`  \n",
    "6. `a >= b`  \n",
    "\n"
   ]
  },
  {
   "cell_type": "code",
   "execution_count": null,
   "id": "142b0912",
   "metadata": {
    "slideshow": {
     "slide_type": "slide"
    }
   },
   "outputs": [],
   "source": [
    "if 1==1:\n",
    "    print('1 es igual a 1')"
   ]
  },
  {
   "cell_type": "code",
   "execution_count": null,
   "id": "84c7fdc5",
   "metadata": {
    "slideshow": {
     "slide_type": "slide"
    }
   },
   "outputs": [],
   "source": [
    "if 1==0:\n",
    "    print('1 es igual a cero') "
   ]
  },
  {
   "cell_type": "code",
   "execution_count": null,
   "id": "22c5f57d",
   "metadata": {
    "slideshow": {
     "slide_type": "slide"
    }
   },
   "outputs": [],
   "source": [
    "if 2==2:\n",
    "    print('2 es igual a 2')\n",
    "    \n",
    "if 2==3:\n",
    "    print('2 es igual a 3')\n",
    "    \n",
    "if 2>5:\n",
    "    print('2 es mayor que 5') \n",
    "    \n",
    "if 5 > 2:\n",
    "    print('5 es mayor a 2')\n",
    "    \n",
    "if 2!=2:\n",
    "    print('2 es distinto a dos') \n",
    "    \n",
    "if 3!=2:\n",
    "    print('3 es distinto de 2')\n",
    "    \n",
    "if 3>=2:\n",
    "    print('3 es mayor o igual a 2') \n",
    "    \n",
    "if 3<=3:\n",
    "    print('3 es menor o igual a 3')\n",
    "    "
   ]
  },
  {
   "cell_type": "markdown",
   "id": "48798694",
   "metadata": {
    "slideshow": {
     "slide_type": "slide"
    }
   },
   "source": [
    "# `if, elif, ` y `else` "
   ]
  },
  {
   "cell_type": "markdown",
   "id": "c5ec2f12",
   "metadata": {
    "slideshow": {
     "slide_type": "slide"
    }
   },
   "source": [
    "# Sentencia if sola"
   ]
  },
  {
   "cell_type": "code",
   "execution_count": null,
   "id": "e1837f99",
   "metadata": {
    "slideshow": {
     "slide_type": "slide"
    }
   },
   "outputs": [],
   "source": [
    "if 2>5:\n",
    "    print('2 es mayor que 5')"
   ]
  },
  {
   "cell_type": "markdown",
   "id": "fc54e0ab",
   "metadata": {
    "slideshow": {
     "slide_type": "slide"
    }
   },
   "source": [
    "# Empecemos aprendiendo a incluir la sentencia `elif`"
   ]
  },
  {
   "cell_type": "code",
   "execution_count": 1,
   "id": "4872bf8b",
   "metadata": {
    "slideshow": {
     "slide_type": "slide"
    }
   },
   "outputs": [
    {
     "name": "stdout",
     "output_type": "stream",
     "text": [
      "2 es menor que 5\n"
     ]
    }
   ],
   "source": [
    "if 2 > 5:\n",
    "    print('lalala')\n",
    "elif 2 < 5:\n",
    "    print('2 es menor que 5')"
   ]
  },
  {
   "cell_type": "markdown",
   "id": "d6f669f6",
   "metadata": {
    "slideshow": {
     "slide_type": "slide"
    }
   },
   "source": [
    "Ahora mostremos como podemos tener que se ejecute el código asociado a la sentencia `if` y no el asociado a la sentencia `elif`"
   ]
  },
  {
   "cell_type": "code",
   "execution_count": 2,
   "id": "a9c148b1",
   "metadata": {
    "slideshow": {
     "slide_type": "slide"
    }
   },
   "outputs": [
    {
     "name": "stdout",
     "output_type": "stream",
     "text": [
      "2 es menor que 5 en if\n"
     ]
    }
   ],
   "source": [
    "if 2 < 5:\n",
    "    print('2 es menor que 5 en if')\n",
    "elif 2 > 5:\n",
    "    print('dos es mayor que 5 en elif')"
   ]
  },
  {
   "cell_type": "markdown",
   "id": "852d7606",
   "metadata": {
    "slideshow": {
     "slide_type": "slide"
    }
   },
   "source": [
    "# Ahora incluyamos la sentencia else  \n",
    "el código asociado a esta sentencia solo se ejecutará si las proposiciones asociadas al if y al elif son falsas. "
   ]
  },
  {
   "cell_type": "code",
   "execution_count": 3,
   "id": "c2bf1b74",
   "metadata": {
    "slideshow": {
     "slide_type": "slide"
    }
   },
   "outputs": [
    {
     "name": "stdout",
     "output_type": "stream",
     "text": [
      "2 es menor a 5 en else\n"
     ]
    }
   ],
   "source": [
    "if 2>5:\n",
    "    print('2 es mayor a 5 en if')\n",
    "elif 2==5:\n",
    "    print('2 es igual a 5 en elif')\n",
    "else:\n",
    "    print('2 es menor a 5 en else')"
   ]
  },
  {
   "cell_type": "markdown",
   "id": "ef65b15c",
   "metadata": {
    "slideshow": {
     "slide_type": "slide"
    }
   },
   "source": [
    "# una sentencia if con else sin elif"
   ]
  },
  {
   "cell_type": "code",
   "execution_count": null,
   "id": "6c3fc65b",
   "metadata": {
    "slideshow": {
     "slide_type": "slide"
    }
   },
   "outputs": [],
   "source": []
  },
  {
   "cell_type": "code",
   "execution_count": null,
   "id": "af200204",
   "metadata": {
    "slideshow": {
     "slide_type": "slide"
    }
   },
   "outputs": [],
   "source": []
  },
  {
   "cell_type": "markdown",
   "id": "e92337cd",
   "metadata": {
    "slideshow": {
     "slide_type": "slide"
    }
   },
   "source": [
    "## Tareas de fijación de conceptos y adquisición de habilidades"
   ]
  },
  {
   "cell_type": "markdown",
   "id": "600ba45a",
   "metadata": {
    "slideshow": {
     "slide_type": "slide"
    }
   },
   "source": [
    "1. utilice condicionales para crear un programa que diga si un número dado por un usuario es par o no"
   ]
  },
  {
   "cell_type": "markdown",
   "id": "bbb74de3",
   "metadata": {
    "slideshow": {
     "slide_type": "slide"
    }
   },
   "source": [
    "## Referentes\n",
    "\n",
    "* Shurmann, Nicolas. Curso de Python sin fronteras. "
   ]
  },
  {
   "cell_type": "code",
   "execution_count": null,
   "id": "ea098ae4",
   "metadata": {
    "slideshow": {
     "slide_type": "slide"
    }
   },
   "outputs": [],
   "source": []
  },
  {
   "cell_type": "markdown",
   "id": "dd8181c4",
   "metadata": {
    "slideshow": {
     "slide_type": "slide"
    }
   },
   "source": [
    "# `if`, `elif`, y `else`"
   ]
  },
  {
   "cell_type": "code",
   "execution_count": 4,
   "id": "ed3e9c58",
   "metadata": {
    "slideshow": {
     "slide_type": "slide"
    }
   },
   "outputs": [
    {
     "name": "stdout",
     "output_type": "stream",
     "text": [
      "2 es menor que 5 con solo if\n"
     ]
    }
   ],
   "source": [
    "if 2<5:\n",
    "    print('2 es menor que 5 con solo if')"
   ]
  },
  {
   "cell_type": "code",
   "execution_count": 5,
   "id": "26d128e2",
   "metadata": {
    "slideshow": {
     "slide_type": "slide"
    }
   },
   "outputs": [],
   "source": [
    "if 2>5:\n",
    "    print('2 es mayor que 5 con solo if')"
   ]
  },
  {
   "cell_type": "markdown",
   "id": "16b16957",
   "metadata": {},
   "source": [
    "# Agregar la sentencia `elif`"
   ]
  },
  {
   "cell_type": "code",
   "execution_count": 7,
   "id": "44a870a4",
   "metadata": {},
   "outputs": [
    {
     "name": "stdout",
     "output_type": "stream",
     "text": [
      "2 es menor que 5 en el elif\n"
     ]
    }
   ],
   "source": [
    "if 2 > 5:\n",
    "    print('2 es mayor a 5 en el if')\n",
    "elif 2 < 5:\n",
    "    print('2 es menor que 5 en el elif')"
   ]
  },
  {
   "cell_type": "markdown",
   "id": "ec306253",
   "metadata": {},
   "source": [
    "# con un elif adicional"
   ]
  },
  {
   "cell_type": "code",
   "execution_count": 8,
   "id": "a3754198",
   "metadata": {
    "slideshow": {
     "slide_type": "slide"
    }
   },
   "outputs": [
    {
     "name": "stdout",
     "output_type": "stream",
     "text": [
      "2 es menor que 5 en el segundo elif\n"
     ]
    }
   ],
   "source": [
    "if 2 > 5:\n",
    "    print('2 es mayor a 5 en el if')\n",
    "elif 2 == 5:\n",
    "    print('2 es menor que 5 en el elif')\n",
    "elif 2 < 5:\n",
    "    print('2 es menor que 5 en el segundo elif')"
   ]
  },
  {
   "cell_type": "markdown",
   "id": "78b3cc89",
   "metadata": {},
   "source": [
    "Agreguemos la sentencia `else`"
   ]
  },
  {
   "cell_type": "code",
   "execution_count": 9,
   "id": "1a0f9027",
   "metadata": {
    "slideshow": {
     "slide_type": "slide"
    }
   },
   "outputs": [
    {
     "name": "stdout",
     "output_type": "stream",
     "text": [
      "2 es menor que 5 en else\n"
     ]
    }
   ],
   "source": [
    "if 2 > 5:\n",
    "    print('2 es mayor a 5 en el if')\n",
    "elif 2 == 5:\n",
    "    print('2 es menor que 5 en el elif')\n",
    "elif 2 < 1:\n",
    "    print('2 es menor que 5 en el segundo elif')\n",
    "else:\n",
    "    print('2 es menor que 5 en else')"
   ]
  },
  {
   "cell_type": "code",
   "execution_count": 11,
   "id": "86d1e5af",
   "metadata": {},
   "outputs": [
    {
     "name": "stdout",
     "output_type": "stream",
     "text": [
      "2 es menor o igual a 5 con el else\n"
     ]
    }
   ],
   "source": [
    "if 2>5:\n",
    "    print('2 es mayor a 5')\n",
    "else:\n",
    "    print('2 es menor o igual a 5 con el else')"
   ]
  },
  {
   "cell_type": "code",
   "execution_count": null,
   "id": "69832f47",
   "metadata": {},
   "outputs": [],
   "source": []
  }
 ],
 "metadata": {
  "celltoolbar": "Slideshow",
  "kernelspec": {
   "display_name": "Python 3 (ipykernel)",
   "language": "python",
   "name": "python3"
  },
  "language_info": {
   "codemirror_mode": {
    "name": "ipython",
    "version": 3
   },
   "file_extension": ".py",
   "mimetype": "text/x-python",
   "name": "python",
   "nbconvert_exporter": "python",
   "pygments_lexer": "ipython3",
   "version": "3.9.13"
  },
  "rise": {
   "enable_chalkboard": "true",
   "theme": "sky",
   "transition": "zoom"
  }
 },
 "nbformat": 4,
 "nbformat_minor": 5
}
