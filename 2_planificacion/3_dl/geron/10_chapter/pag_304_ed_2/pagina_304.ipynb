{
 "cells": [
  {
   "cell_type": "markdown",
   "id": "c1b5399b",
   "metadata": {},
   "source": [
    "<table align=\"left\">\n",
    "  <td>\n",
    "    <a href=\"https://colab.research.google.com/github/marco-canas/ml_dl_intro/blob/main/2_planificacion/3_dl/geron/10_chapter/pagina_304.ipynb\" target=\"_parent\"><img src=\"https://colab.research.google.com/assets/colab-badge.svg\" alt=\"Open In Colab\"/></a>\n",
    "  </td>\n",
    "  <td>\n",
    "    <a target=\"_blank\" href=\"https://kaggle.com/kernels/welcome?src=https://github.com/marco-canas/ml_dl_intro/blob/main/2_planificacion/3_dl/geron/10_chapter/pagina_304.ipynb\"><img src=\"https://kaggle.com/static/images/open-in-kaggle.svg\" /></a>\n",
    "  </td>\n",
    "</table>"
   ]
  },
  {
   "cell_type": "code",
   "execution_count": 2,
   "id": "5f7e7b22",
   "metadata": {},
   "outputs": [],
   "source": [
    "import qrcode\n",
    "from IPython.display import display\n",
    "\n",
    "def generar_qr_notebook(url):\n",
    "    \"\"\"\n",
    "    Genera un código QR para una URL y lo muestra en un cuaderno Jupyter.\n",
    "    \n",
    "    Parámetros:\n",
    "    url (str): La URL para la cual se generará el código QR.\n",
    "    \n",
    "    Retorna:\n",
    "    None (pero muestra el código QR en el notebook)\n",
    "    \"\"\"\n",
    "    # Crear el objeto QR\n",
    "    qr = qrcode.QRCode(\n",
    "        version=1,\n",
    "        error_correction=qrcode.constants.ERROR_CORRECT_L,\n",
    "        box_size=10,\n",
    "        border=4,\n",
    "    )\n",
    "    \n",
    "    # Añadir la URL al código QR\n",
    "    qr.add_data(url)\n",
    "    qr.make(fit=True)\n",
    "    \n",
    "    # Crear la imagen del QR\n",
    "    img = qr.make_image(fill_color=\"black\", back_color=\"white\")\n",
    "    \n",
    "    # Mostrar la imagen en el notebook\n",
    "    display(img)\n",
    "\n"
   ]
  },
  {
   "cell_type": "code",
   "execution_count": 3,
   "id": "b724bf32",
   "metadata": {},
   "outputs": [
    {
     "data": {
      "image/jpeg": "[encoded data removed]",
      "image/png": "[encoded data removed]",
      "text/plain": [
       "<qrcode.image.pil.PilImage at 0x1d921ce9990>"
      ]
     },
     "metadata": {},
     "output_type": "display_data"
    }
   ],
   "source": [
    "generar_qr_notebook('https://colab.research.google.com/github/marco-canas/ml_dl_intro/blob/main/2_planificacion/3_dl/geron/10_chapter/pagina_304.ipynb')"
   ]
  },
  {
   "cell_type": "markdown",
   "id": "c1a4e4c1",
   "metadata": {},
   "source": [
    "\n",
    "\n",
    "### **De las Neuronas Biológicas a las Artificiales**: una aplicación a administración de Empresas en el programa G-Líderes.  "
   ]
  },
  {
   "cell_type": "markdown",
   "id": "b40d29a3",
   "metadata": {},
   "source": [
    "<img src = 'biological_neuro_vs_artificial_neuron.png' width = 500>   \n"
   ]
  },
  {
   "cell_type": "markdown",
   "id": "5e6a7c3b",
   "metadata": {},
   "source": [
    "<img src = 'https://magiquo.com/wp-content/uploads/2019/11/neurona.png' width = 500>"
   ]
  },
  {
   "cell_type": "markdown",
   "id": "08493e4e",
   "metadata": {},
   "source": [
    "  \n",
    "Sorprendentemente, las **redes neuronales artificiales (RNA)** llevan mucho tiempo entre nosotros: fueron introducidas por primera vez en **1943** por el neurofisiólogo **Warren McCulloch** y el matemático **Walter Pitts**. "
   ]
  },
  {
   "cell_type": "markdown",
   "id": "25d35490",
   "metadata": {},
   "source": [
    "<img src = 'https://i.ytimg.com/vi/ROErFR3X4x0/hq720.jpg?sqp=-oaymwE7CK4FEIIDSFryq4qpAy0IARUAAAAAGAElAADIQj0AgKJD8AEB-AH-CYAC0AWKAgwIABABGGIgYihiMA8=&rs=AOn4CLCs4FI8FatfVT4oA9JwGHHDsnBlKg' width = 500>"
   ]
  },
  {
   "cell_type": "markdown",
   "id": "1f6a0955",
   "metadata": {},
   "source": [
    "<img src = 'https://i.ytimg.com/vi/-rxxIeYcZzU/sddefault.jpg' width = 500>"
   ]
  },
  {
   "cell_type": "markdown",
   "id": "60a90348",
   "metadata": {},
   "source": [
    "En su histórico artículo *\"Un cálculo lógico de las ideas inmanentes en la actividad nerviosa\"*, McCulloch y Pitts presentaron un **modelo computacional simplificado** de cómo las neuronas biológicas podrían colaborar en los cerebros de los animales para realizar cálculos complejos usando lógica proposicional."
   ]
  },
  {
   "cell_type": "markdown",
   "id": "0ac0e722",
   "metadata": {},
   "source": [
    "<img src = 'https://grupo.us.es/gtocoma/pid/pid10/RedesNeuronales_archivos/image155.jpg' width = 500>"
   ]
  },
  {
   "cell_type": "markdown",
   "id": "d9bf75a9",
   "metadata": {},
   "source": [
    " Esta fue la **primera arquitectura de red neuronal artificial**. "
   ]
  },
  {
   "cell_type": "markdown",
   "id": "64cfc63c",
   "metadata": {},
   "source": [
    "Desde entonces, se han inventado muchas otras arquitecturas, como veremos.  \n"
   ]
  },
  {
   "cell_type": "markdown",
   "id": "813f3d34",
   "metadata": {},
   "source": [
    "\n",
    "Los primeros éxitos de las RNA hasta la década de 1960 llevaron a muchos a creer que pronto **conversaríamos con máquinas verdaderamente inteligentes**. "
   ]
  },
  {
   "cell_type": "markdown",
   "id": "2147ddce",
   "metadata": {},
   "source": [
    "Cuando quedó claro que esta promesa no se cumpliría (al menos por un buen tiempo), los fondos se desviaron a otros campos y las RNA entraron en un **largo invierno**.  \n"
   ]
  },
  {
   "cell_type": "markdown",
   "id": "5fc187b5",
   "metadata": {},
   "source": [
    "\n",
    "A principios de los **80**, resurgió el interés en el **conexionismo** (el estudio de las redes neuronales), gracias a nuevas arquitecturas y mejores técnicas de entrenamiento. "
   ]
  },
  {
   "cell_type": "markdown",
   "id": "245d4dc7",
   "metadata": {},
   "source": [
    "<img src = 'https://encrypted-tbn0.gstatic.com/images?q=tbn:ANd9GcQWf9NeZS0TCUG-bsWFh6GuhGzU26n-GwZPgQ&s' width = 500>"
   ]
  },
  {
   "cell_type": "markdown",
   "id": "464f0822",
   "metadata": {},
   "source": [
    "# [Máquinas de soporte vectorial](https://phuijse.github.io/MachineLearningBook/contents/supervised_learning/svm.html)   \n",
    "\n"
   ]
  },
  {
   "cell_type": "markdown",
   "id": "17bbed96",
   "metadata": {},
   "source": [
    "Pero el progreso fue lento, y en los **90** surgieron otras técnicas de Machine Learning más potentes, como las **Máquinas de Vectores de Soporte** (ver Capítulo 5). "
   ]
  },
  {
   "cell_type": "markdown",
   "id": "a4bcf2b2",
   "metadata": {},
   "source": [
    "<img src = 'https://phuijse.github.io/MachineLearningBook/_images/svm1.png' width = 500>"
   ]
  },
  {
   "cell_type": "markdown",
   "id": "5f691564",
   "metadata": {},
   "source": [
    "Estas parecían ofrecer **mejores resultados y bases teóricas más sólidas** que las RNA, por lo que el estudio de las redes neuronales entró en un **segundo invierno**.  \n"
   ]
  },
  {
   "cell_type": "markdown",
   "id": "0aa840dc",
   "metadata": {},
   "source": [
    "\n",
    "Finalmente, hoy presenciamos **otra ola de interés** en las RNA. ¿Desaparecerá como las anteriores? Hay razones para creer que **esta vez es diferente** y que su impacto será mucho más profundo:  \n"
   ]
  },
  {
   "cell_type": "markdown",
   "id": "5f14fdd1",
   "metadata": {},
   "source": [
    "\n",
    "1. **Gran cantidad de datos**: Ahora existe un volumen masivo de datos para entrenar RNA, que a menudo superan a otras técnicas en problemas complejos.  \n",
    "2. **Aumento en la potencia computacional**: El poder de cómputo actual permite entrenar redes grandes en tiempos razonables, gracias a la **Ley de Moore** y a las **GPUs** desarrolladas para videojuegos.  \n",
    "3. **Algoritmos mejorados**: Aunque son similares a los de los 90, pequeños ajustes han tenido un impacto enorme.  \n",
    "4. **Limitaciones teóricas benignas**: Problemas como los **óptimos locales** (que se creían fatales) resultaron ser raros o poco críticos en la práctica.  \n",
    "5. **Círculo virtuoso**: Las RNA atraen más atención y fondos, generando productos innovadores que refuerzan su progreso.  \n",
    "\n"
   ]
  },
  {
   "cell_type": "markdown",
   "id": "c35ca3e4",
   "metadata": {},
   "source": [
    "\n",
    "\n",
    "### **Notas clave**:  \n",
    "- El texto destaca la **evolución cíclica** de las RNA, marcada por periodos de auge y declive.  \n",
    "- La **diferencia actual** radica en factores como datos, hardware y algoritmos, que han llevado a las RNA a un **punto de inflexión**.  \n"
   ]
  },
  {
   "cell_type": "markdown",
   "id": "6ee01eb9",
   "metadata": {},
   "source": [
    "\n",
    "¿Necesitas ajustar algún término o profundizar en algún concepto?"
   ]
  },
  {
   "cell_type": "markdown",
   "id": "49115ef3",
   "metadata": {
    "vscode": {
     "languageId": "plaintext"
    }
   },
   "source": [
    "# Prática de códificación en python para redes neuronales "
   ]
  },
  {
   "cell_type": "markdown",
   "id": "e46a6591",
   "metadata": {},
   "source": [
    "Aquí tienes un **diseño de práctica de codificación en Python** para introducir los conceptos básicos de redes neuronales artificiales (RNA), alineado con el texto de Géron. La práctica combina fundamentos teóricos con implementación sencilla usando `NumPy` y visualización con `Matplotlib`.\n",
    "\n"
   ]
  },
  {
   "cell_type": "markdown",
   "id": "bc0cc8da",
   "metadata": {},
   "source": [
    "\n",
    "\n",
    "### **Práctica: Introducción a Redes Neuronales Artificiales**  \n",
    "**Objetivos**:  \n",
    "1. Implementar el modelo de McCulloch-Pitts (1943).  \n",
    "2. Entender cómo una neurona artificial toma decisiones binarias.  \n",
    "3. Visualizar el funcionamiento de una compuerta lógica simple (AND/OR).  \n",
    "\n"
   ]
  },
  {
   "cell_type": "markdown",
   "id": "428e1cfa",
   "metadata": {},
   "source": [
    "\n",
    "\n",
    "### **Parte 1: Neurona de McCulloch-Pitts (Código)**  \n"
   ]
  },
  {
   "cell_type": "code",
   "execution_count": 1,
   "id": "62d170ab",
   "metadata": {},
   "outputs": [],
   "source": [
    "\n",
    "import numpy as np\n"
   ]
  },
  {
   "cell_type": "code",
   "execution_count": 22,
   "id": "a71691ec",
   "metadata": {},
   "outputs": [],
   "source": [
    "def AND(x = [0,0]):\n",
    "    return x[0] * x[1]"
   ]
  },
  {
   "cell_type": "code",
   "execution_count": 15,
   "id": "82948d41",
   "metadata": {},
   "outputs": [
    {
     "data": {
      "text/plain": [
       "1"
      ]
     },
     "execution_count": 15,
     "metadata": {},
     "output_type": "execute_result"
    }
   ],
   "source": [
    "AND(x = [1,1])"
   ]
  },
  {
   "cell_type": "code",
   "execution_count": null,
   "id": "d7e76577",
   "metadata": {},
   "outputs": [],
   "source": [
    "\n",
    "def neurona_mcculloch_pitts(x, w, umbral):\n",
    "    \"\"\"\n",
    "    Simula una neurona de McCulloch-Pitts.\n",
    "    x: Vector de entrada (ej. [1, 0]).\n",
    "    w: Pesos (ej. [1, 1]).\n",
    "    umbral: Valor de activación.\n",
    "    \"\"\"\n",
    "    suma_ponderada = np.dot(x, w)\n",
    "    return 1 if suma_ponderada >= umbral else 0\n"
   ]
  },
  {
   "cell_type": "code",
   "execution_count": 20,
   "id": "5bd4ddfc",
   "metadata": {},
   "outputs": [
    {
     "data": {
      "text/plain": [
       "1"
      ]
     },
     "execution_count": 20,
     "metadata": {},
     "output_type": "execute_result"
    }
   ],
   "source": [
    "neurona_mcculloch_pitts(x = [1,1], w = [1, 1], umbral = 2)"
   ]
  },
  {
   "cell_type": "code",
   "execution_count": 5,
   "id": "1ce9ca27",
   "metadata": {},
   "outputs": [
    {
     "name": "stdout",
     "output_type": "stream",
     "text": [
      "Compuerta AND:\n",
      "[0 0] -> 0\n",
      "[0 1] -> 0\n",
      "[1 0] -> 0\n",
      "[1 1] -> 1\n"
     ]
    }
   ],
   "source": [
    "\n",
    "# Ejemplo: Compuerta AND\n",
    "entradas = np.array([[0, 0], [0, 1], [1, 0], [1, 1]])\n",
    "pesos = np.array([1, 1])\n",
    "umbral = 2  # Ajuste para AND\n",
    "\n",
    "print(\"Compuerta AND:\")\n",
    "for x in entradas:\n",
    "    print(f\"{x} -> {neurona_mcculloch_pitts(x, pesos, umbral)}\")\n",
    "\n"
   ]
  },
  {
   "cell_type": "markdown",
   "id": "8c73fcdf",
   "metadata": {},
   "source": [
    "\n",
    "**Explicación**:  \n",
    "- La función `neurona_mcculloch_pitts` replica el modelo original: calcula la suma ponderada de las entradas y aplica un umbral para decidir la salida (1 o 0).  \n",
    "- Para la compuerta **AND**, si ambos inputs son 1, la suma ponderada (`1*1 + 1*1 = 2`) iguala el umbral, activando la neurona.  \n",
    "\n"
   ]
  },
  {
   "cell_type": "markdown",
   "id": "7be78b3b",
   "metadata": {},
   "source": [
    "\n",
    "\n",
    "### **Parte 2: Visualización de Decisiones**  \n"
   ]
  },
  {
   "cell_type": "code",
   "execution_count": 6,
   "id": "d921aa77",
   "metadata": {},
   "outputs": [],
   "source": [
    "\n",
    "import numpy as np\n",
    "import matplotlib.pyplot as plt\n"
   ]
  },
  {
   "cell_type": "code",
   "execution_count": null,
   "id": "03300807",
   "metadata": {},
   "outputs": [],
   "source": [
    "\n",
    "def neurona_mcculloch_pitts(x, w, umbral):\n",
    "    \"\"\"Función de la neurona (sin cambios)\"\"\"\n",
    "    suma_ponderada = np.dot(x, w)\n",
    "    return 1 if suma_ponderada >= umbral else 0\n"
   ]
  },
  {
   "cell_type": "code",
   "execution_count": null,
   "id": "58f2dd00",
   "metadata": {},
   "outputs": [],
   "source": [
    "\n",
    "def graficar_region_decision(pesos, umbral, compuerta=\"AND\"):\n",
    "    # Definir entradas estándar para compuertas lógicas\n",
    "    entradas = np.array([[0, 0], [0, 1], [1, 0], [1, 1]])\n",
    "    \n",
    "    # Crear grid de puntos\n",
    "    xx, yy = np.meshgrid(np.linspace(-0.5, 1.5, 100), np.linspace(-0.5, 1.5, 100))\n",
    "    grid = np.c_[xx.ravel(), yy.ravel()]\n",
    "    \n",
    "    # Calcular decisiones\n",
    "    Z = np.array([neurona_mcculloch_pitts(x, pesos, umbral) for x in grid])\n",
    "    Z = Z.reshape(xx.shape)\n",
    "    \n",
    "    # Determinar colores de los puntos según la compuerta\n",
    "    if compuerta == \"AND\":\n",
    "        colores = [0 if (x[0] == 1 and x[1] == 1) else 1 for x in entradas]  # 1=inactivo, 0=activo (AND)\n",
    "    elif compuerta == \"OR\":\n",
    "        colores = [0 if (x[0] == 1 or x[1] == 1) else 1 for x in entradas]   # 1=inactivo, 0=activo (OR)\n",
    "    \n",
    "    # Graficar\n",
    "    plt.contourf(xx, yy, Z, alpha=0.3, cmap=\"coolwarm\")\n",
    "    plt.scatter(entradas[:, 0], entradas[:, 1], c=colores, s=100, edgecolors='k', cmap=\"coolwarm\")\n",
    "    plt.title(f\"Región de Decisión ({compuerta})\")\n",
    "    plt.xlabel(\"x1\"), plt.ylabel(\"x2\")\n",
    "    plt.grid(True)\n",
    "    plt.colorbar(label=\"Activación (0=Activo, 1=Inactivo)\")\n",
    "    plt.show()\n"
   ]
  },
  {
   "cell_type": "code",
   "execution_count": 15,
   "id": "23096274",
   "metadata": {},
   "outputs": [
    {
     "data": {
      "image/png": "[encoded data removed]",
      "text/plain": [
       "<Figure size 640x480 with 2 Axes>"
      ]
     },
     "metadata": {},
     "output_type": "display_data"
    }
   ],
   "source": [
    "\n",
    "# Ejemplo de uso:\n",
    "pesos_and = np.array([1, 1])\n",
    "umbral_and = 2  # Para AND\n",
    "graficar_region_decision(pesos_and, umbral_and, compuerta=\"AND\")\n"
   ]
  },
  {
   "cell_type": "code",
   "execution_count": 16,
   "id": "fa87ff1a",
   "metadata": {},
   "outputs": [
    {
     "data": {
      "image/png": "[encoded data removed]",
      "text/plain": [
       "<Figure size 640x480 with 2 Axes>"
      ]
     },
     "metadata": {},
     "output_type": "display_data"
    }
   ],
   "source": [
    "\n",
    "pesos_or = np.array([1, 1])\n",
    "umbral_or = 1   # Para OR\n",
    "graficar_region_decision(pesos_or, umbral_or, compuerta=\"OR\")"
   ]
  },
  {
   "cell_type": "code",
   "execution_count": 17,
   "id": "b19a12c0",
   "metadata": {},
   "outputs": [
    {
     "data": {
      "image/png": "[encoded data removed]",
      "text/plain": [
       "<Figure size 640x480 with 2 Axes>"
      ]
     },
     "metadata": {},
     "output_type": "display_data"
    }
   ],
   "source": [
    "\n",
    "graficar_region_decision(pesos, umbral = 1, compuerta=\"OR\")\n",
    "\n"
   ]
  },
  {
   "cell_type": "markdown",
   "id": "88897d46",
   "metadata": {},
   "source": [
    "\n",
    "**Salida**:  \n",
    "- Un gráfico que muestra la **región de decisión** de la compuerta AND: las entradas `(1, 1)` se activan (color rojo), el resto no (azul).  \n",
    "\n"
   ]
  },
  {
   "cell_type": "markdown",
   "id": "b533fb3a",
   "metadata": {},
   "source": [
    "\n",
    "\n",
    "### **Parte 3: Experimentación (Preguntas Guía)**  \n",
    "1. **Modifica los pesos y el umbral** para implementar una compuerta OR.  \n",
    "   - Pista: Usa `pesos = [1, 1]` y `umbral = 1`.  \n",
    "\n",
    "2. **¿Qué pasa si los pesos son `[0.5, 0.5]` y el umbral es `0.7`?**  \n",
    "   - Discute cómo los pesos afectan la sensibilidad de la neurona.  \n",
    "\n",
    "3. **Desafío**: Implementa una compuerta XOR con múltiples neuronas (opcional).  \n",
    "\n",
    "---\n",
    "\n",
    "### **Rúbrica de Evaluación**  \n",
    "| **Criterio**               | **Puntos** |  \n",
    "|----------------------------|-----------|  \n",
    "| Correcta implementación MP | 3         |  \n",
    "| Visualización clara         | 2         |  \n",
    "| Experimentación/respuestas  | 3         |  \n",
    "| Originalidad/Creatividad    | 2         |  \n",
    "\n",
    "---\n",
    "\n",
    "### **Contexto Teórico Integrado**  \n",
    "- **Link con el texto**: La práctica refleja el modelo histórico de McCulloch-Pitts mencionado por Géron, mostrando cómo una **simple neurona** puede realizar lógica booleana.  \n",
    "- **Extensión**: Para clases avanzadas, se puede conectar con perceptrones y el \"invierno de las RNA\" (limitaciones de las redes de una capa).  \n",
    "\n",
    "---\n",
    "\n",
    "### **Material Adicional**  \n",
    "- **Libro**: Géron, *Hands-On Machine Learning*, Capítulo 10.  \n",
    "- **Video**: *But what is a neural network?* (3Blue1Brown).  \n",
    "\n",
    "¿Quieres ajustar la práctica para incluir backpropagation o otro concepto específico?"
   ]
  },
  {
   "cell_type": "markdown",
   "id": "fe8d5d09",
   "metadata": {},
   "source": [
    "La **frontera de decisión** en el modelo de McCulloch-Pitts (y perceptrones simples) es un **hiperplano** que separa las regiones de activación (\\(y=1\\)) y no activación (\\(y=0\\)) en el espacio de entradas. Para el caso de 2D (dos entradas \\(x_1\\) y \\(x_2\\)), esta frontera es una **recta** definida por la ecuación de la neurona artificial. A continuación, te doy las definiciones vectorial y algebraica para las compuertas **AND** y **OR**:\n",
    "\n"
   ]
  },
  {
   "cell_type": "markdown",
   "id": "95e54707",
   "metadata": {},
   "source": [
    "\n",
    "\n",
    "### **1. Definición Vectorial de la Frontera**\n"
   ]
  },
  {
   "cell_type": "markdown",
   "id": "9245384a",
   "metadata": {},
   "source": [
    "La frontera de decisión es el conjunto de puntos $\\mathbf{x} = [x_1, x_2]^T$ que satisfacen:\n",
    "$$\n",
    "\\mathbf{w}^T \\mathbf{x} - \\theta = 0\n",
    "$$\n",
    "donde:\n",
    "- $\\mathbf{w} = [w_1, w_2]^T$ es el **vector de pesos**.\n",
    "- $\\theta$ es el **umbral** (threshold).\n",
    "\n"
   ]
  },
  {
   "cell_type": "markdown",
   "id": "2b0ce8c9",
   "metadata": {},
   "source": [
    "\n",
    "\n",
    "### **2. Definición Algebraica (Forma Explícita)**\n",
    "Despejando la ecuación vectorial, obtenemos la recta en 2D:\n",
    "\\[\n",
    "w_1 x_1 + w_2 x_2 - \\theta = 0 \\implies x_2 = -\\frac{w_1}{w_2}x_1 + \\frac{\\theta}{w_2}\n",
    "\\]\n",
    "\n"
   ]
  },
  {
   "cell_type": "markdown",
   "id": "ccfb67b4",
   "metadata": {},
   "source": [
    "\n",
    "\n",
    "### **Caso Específico: Compuertas AND y OR**\n",
    "#### **Compuerta AND**  \n",
    "- **Pesos y umbral**: \\(\\mathbf{w} = [1, 1]^T\\), \\(\\theta = 2\\).  \n",
    "- **Ecuación de la frontera**:\n",
    "  \\[\n",
    "  x_1 + x_2 - 2 = 0 \\implies x_2 = -x_1 + 2\n",
    "  \\]\n",
    "- **Interpretación geométrica**:  \n",
    "  La neurona se activa (\\(y=1\\)) solo cuando \\(x_1 + x_2 \\geq 2\\), es decir, **por encima de la recta** \\(x_2 = -x_1 + 2\\).\n"
   ]
  },
  {
   "cell_type": "markdown",
   "id": "3f24db86",
   "metadata": {},
   "source": [
    "\n",
    "#### **Compuerta OR**  \n",
    "- **Pesos y umbral**: \\(\\mathbf{w} = [1, 1]^T\\), \\(\\theta = 1\\).  \n",
    "- **Ecuación de la frontera**:\n",
    "  \\[\n",
    "  x_1 + x_2 - 1 = 0 \\implies x_2 = -x_1 + 1\n",
    "  \\]\n",
    "- **Interpretación geométrica**:  \n",
    "  La neurona se activa (\\(y=1\\)) cuando \\(x_1 + x_2 \\geq 1\\), es decir, **por encima de la recta** \\(x_2 = -x_1 + 1\\).\n",
    "\n"
   ]
  },
  {
   "cell_type": "markdown",
   "id": "804ae9ff",
   "metadata": {},
   "source": [
    "\n",
    "\n",
    "### **Visualización Gráfica**\n",
    "| Compuerta | Frontera de Decisión | Región de Activación |\n",
    "|-----------|-----------------------|-----------------------|\n",
    "| **AND**   | \\(x_2 = -x_1 + 2\\)    | Encima de la recta (incluye solo \\((1,1)\\)) |\n",
    "| **OR**    | \\(x_2 = -x_1 + 1\\)    | Encima de la recta (incluye \\((0,1)\\), \\((1,0)\\), \\((1,1)\\)) |\n",
    "\n",
    "![](https://i.imgur.com/AND_OR_boundaries.png)  \n",
    "*(La línea roja es la frontera de decisión; la región sombreada es donde \\(y=1\\))*.\n",
    "\n"
   ]
  },
  {
   "cell_type": "markdown",
   "id": "9278ecc7",
   "metadata": {},
   "source": [
    "\n",
    "\n",
    "### **Notas Clave**\n",
    "1. **Inclinación de la frontera**:  \n",
    "   Depende de la razón $-\\frac{w_1}{w_2}$. Para $\\mathbf{w} = [1, 1]^T$, la pendiente es $-1$ en ambos casos.\n",
    "\n",
    "2. **Posición de la frontera**:  \n",
    "   El término $\\frac{\\theta}{w_2}$ desplaza la recta verticalmente. Un $\\theta$ mayor aleja la frontera del origen.\n",
    "\n",
    "3. **Límites del modelo**:  \n",
    "   Una sola neurona no puede resolver problemas no linealmente separables (ej. XOR), lo que llevó al \"invierno de las RNA\" mencionado por Géron.\n",
    "\n"
   ]
  },
  {
   "cell_type": "markdown",
   "id": "f1e93013",
   "metadata": {},
   "source": [
    "\n",
    "\n",
    "### **Ejemplo en Código**\n",
    "Para graficar las fronteras con Matplotlib:\n"
   ]
  },
  {
   "cell_type": "code",
   "execution_count": null,
   "id": "3a7a0142",
   "metadata": {},
   "outputs": [],
   "source": [
    "\n",
    "# Graficar la frontera de decisión (AND)\n",
    "x1 = np.linspace(-0.5, 1.5, 100)\n",
    "x2_and = -x1 + 2  # Frontera AND\n",
    "x2_or = -x1 + 1   # Frontera OR\n",
    "\n",
    "plt.plot(x1, x2_and, 'r--', label=\"Frontera AND\")\n",
    "plt.plot(x1, x2_or, 'b--', label=\"Frontera OR\")\n",
    "plt.legend()\n",
    "plt.grid(True)\n",
    "plt.show()\n"
   ]
  },
  {
   "cell_type": "markdown",
   "id": "4631fc78",
   "metadata": {},
   "source": [
    "\n",
    "¿Necesitas la generalización a $n$-dimensiones o más detalles sobre la interpretación geométrica?"
   ]
  },
  {
   "cell_type": "markdown",
   "id": "25f540a4",
   "metadata": {},
   "source": [
    "# Ejemplo en administración de empresas de clasificación binaria: El ejemplo de otorgar una tarjeta de crédito a un cliente. \n",
    "\n"
   ]
  },
  {
   "cell_type": "code",
   "execution_count": 8,
   "id": "60ffd2c8",
   "metadata": {},
   "outputs": [
    {
     "name": "stdout",
     "output_type": "stream",
     "text": [
      "Dataset artificial de otorgamiento de tarjeta de crédito\n"
     ]
    },
    {
     "data": {
      "application/vnd.microsoft.datawrangler.viewer.v0+json": {
       "columns": [
        {
         "name": "index",
         "rawType": "int64",
         "type": "integer"
        },
        {
         "name": "Edad",
         "rawType": "int32",
         "type": "integer"
        },
        {
         "name": "IngresosMensuales",
         "rawType": "int32",
         "type": "integer"
        },
        {
         "name": "HistorialCrediticio",
         "rawType": "object",
         "type": "string"
        },
        {
         "name": "NivelEndeudamiento",
         "rawType": "float64",
         "type": "float"
        },
        {
         "name": "AntiguedadLaboral",
         "rawType": "int32",
         "type": "integer"
        },
        {
         "name": "EstadoCivil",
         "rawType": "object",
         "type": "string"
        },
        {
         "name": "OtorgarTarjeta",
         "rawType": "int32",
         "type": "integer"
        }
       ],
       "ref": "cd001eac-1451-4cbf-b023-09fc12988c93",
       "rows": [
        [
         "0",
         "56",
         "9401",
         "Regular",
         "0.28",
         "18",
         "Soltero",
         "1"
        ],
        [
         "1",
         "69",
         "6075",
         "Bueno",
         "0.95",
         "12",
         "Soltero",
         "1"
        ],
        [
         "2",
         "46",
         "6030",
         "Regular",
         "0.89",
         "11",
         "Casado",
         "0"
        ],
        [
         "3",
         "32",
         "4913",
         "Bueno",
         "0.46",
         "4",
         "Casado",
         "1"
        ],
        [
         "4",
         "60",
         "4248",
         "Bueno",
         "0.62",
         "5",
         "Soltero",
         "0"
        ],
        [
         "5",
         "25",
         "1163",
         "Malo",
         "0.28",
         "25",
         "Divorciado",
         "0"
        ],
        [
         "6",
         "38",
         "2498",
         "Bueno",
         "0.19",
         "21",
         "Casado",
         "0"
        ],
        [
         "7",
         "56",
         "8494",
         "Bueno",
         "0.46",
         "3",
         "Soltero",
         "1"
        ],
        [
         "8",
         "36",
         "1995",
         "Regular",
         "0.35",
         "18",
         "Casado",
         "0"
        ],
        [
         "9",
         "40",
         "3804",
         "Regular",
         "0.58",
         "19",
         "Casado",
         "0"
        ],
        [
         "10",
         "28",
         "4263",
         "Bueno",
         "0.08",
         "0",
         "Soltero",
         "1"
        ],
        [
         "11",
         "28",
         "5732",
         "Regular",
         "0.97",
         "19",
         "Soltero",
         "1"
        ],
        [
         "12",
         "41",
         "2353",
         "Bueno",
         "0.99",
         "16",
         "Soltero",
         "1"
        ],
        [
         "13",
         "53",
         "7085",
         "Bueno",
         "0.7",
         "11",
         "Soltero",
         "0"
        ],
        [
         "14",
         "57",
         "1791",
         "Regular",
         "0.54",
         "14",
         "Casado",
         "1"
        ],
        [
         "15",
         "41",
         "4081",
         "Regular",
         "0.31",
         "0",
         "Divorciado",
         "0"
        ],
        [
         "16",
         "20",
         "8054",
         "Regular",
         "0.81",
         "25",
         "Soltero",
         "0"
        ],
        [
         "17",
         "39",
         "7780",
         "Regular",
         "0.68",
         "13",
         "Soltero",
         "1"
        ],
        [
         "18",
         "19",
         "2136",
         "Malo",
         "0.16",
         "5",
         "Soltero",
         "0"
        ],
        [
         "19",
         "41",
         "4196",
         "Regular",
         "0.91",
         "4",
         "Soltero",
         "0"
        ]
       ],
       "shape": {
        "columns": 7,
        "rows": 20
       }
      },
      "text/html": [
       "<div>\n",
       "<style scoped>\n",
       "    .dataframe tbody tr th:only-of-type {\n",
       "        vertical-align: middle;\n",
       "    }\n",
       "\n",
       "    .dataframe tbody tr th {\n",
       "        vertical-align: top;\n",
       "    }\n",
       "\n",
       "    .dataframe thead th {\n",
       "        text-align: right;\n",
       "    }\n",
       "</style>\n",
       "<table border=\"1\" class=\"dataframe\">\n",
       "  <thead>\n",
       "    <tr style=\"text-align: right;\">\n",
       "      <th></th>\n",
       "      <th>Edad</th>\n",
       "      <th>IngresosMensuales</th>\n",
       "      <th>HistorialCrediticio</th>\n",
       "      <th>NivelEndeudamiento</th>\n",
       "      <th>AntiguedadLaboral</th>\n",
       "      <th>EstadoCivil</th>\n",
       "      <th>OtorgarTarjeta</th>\n",
       "    </tr>\n",
       "  </thead>\n",
       "  <tbody>\n",
       "    <tr>\n",
       "      <th>0</th>\n",
       "      <td>56</td>\n",
       "      <td>9401</td>\n",
       "      <td>Regular</td>\n",
       "      <td>0.28</td>\n",
       "      <td>18</td>\n",
       "      <td>Soltero</td>\n",
       "      <td>1</td>\n",
       "    </tr>\n",
       "    <tr>\n",
       "      <th>1</th>\n",
       "      <td>69</td>\n",
       "      <td>6075</td>\n",
       "      <td>Bueno</td>\n",
       "      <td>0.95</td>\n",
       "      <td>12</td>\n",
       "      <td>Soltero</td>\n",
       "      <td>1</td>\n",
       "    </tr>\n",
       "    <tr>\n",
       "      <th>2</th>\n",
       "      <td>46</td>\n",
       "      <td>6030</td>\n",
       "      <td>Regular</td>\n",
       "      <td>0.89</td>\n",
       "      <td>11</td>\n",
       "      <td>Casado</td>\n",
       "      <td>0</td>\n",
       "    </tr>\n",
       "    <tr>\n",
       "      <th>3</th>\n",
       "      <td>32</td>\n",
       "      <td>4913</td>\n",
       "      <td>Bueno</td>\n",
       "      <td>0.46</td>\n",
       "      <td>4</td>\n",
       "      <td>Casado</td>\n",
       "      <td>1</td>\n",
       "    </tr>\n",
       "    <tr>\n",
       "      <th>4</th>\n",
       "      <td>60</td>\n",
       "      <td>4248</td>\n",
       "      <td>Bueno</td>\n",
       "      <td>0.62</td>\n",
       "      <td>5</td>\n",
       "      <td>Soltero</td>\n",
       "      <td>0</td>\n",
       "    </tr>\n",
       "    <tr>\n",
       "      <th>5</th>\n",
       "      <td>25</td>\n",
       "      <td>1163</td>\n",
       "      <td>Malo</td>\n",
       "      <td>0.28</td>\n",
       "      <td>25</td>\n",
       "      <td>Divorciado</td>\n",
       "      <td>0</td>\n",
       "    </tr>\n",
       "    <tr>\n",
       "      <th>6</th>\n",
       "      <td>38</td>\n",
       "      <td>2498</td>\n",
       "      <td>Bueno</td>\n",
       "      <td>0.19</td>\n",
       "      <td>21</td>\n",
       "      <td>Casado</td>\n",
       "      <td>0</td>\n",
       "    </tr>\n",
       "    <tr>\n",
       "      <th>7</th>\n",
       "      <td>56</td>\n",
       "      <td>8494</td>\n",
       "      <td>Bueno</td>\n",
       "      <td>0.46</td>\n",
       "      <td>3</td>\n",
       "      <td>Soltero</td>\n",
       "      <td>1</td>\n",
       "    </tr>\n",
       "    <tr>\n",
       "      <th>8</th>\n",
       "      <td>36</td>\n",
       "      <td>1995</td>\n",
       "      <td>Regular</td>\n",
       "      <td>0.35</td>\n",
       "      <td>18</td>\n",
       "      <td>Casado</td>\n",
       "      <td>0</td>\n",
       "    </tr>\n",
       "    <tr>\n",
       "      <th>9</th>\n",
       "      <td>40</td>\n",
       "      <td>3804</td>\n",
       "      <td>Regular</td>\n",
       "      <td>0.58</td>\n",
       "      <td>19</td>\n",
       "      <td>Casado</td>\n",
       "      <td>0</td>\n",
       "    </tr>\n",
       "    <tr>\n",
       "      <th>10</th>\n",
       "      <td>28</td>\n",
       "      <td>4263</td>\n",
       "      <td>Bueno</td>\n",
       "      <td>0.08</td>\n",
       "      <td>0</td>\n",
       "      <td>Soltero</td>\n",
       "      <td>1</td>\n",
       "    </tr>\n",
       "    <tr>\n",
       "      <th>11</th>\n",
       "      <td>28</td>\n",
       "      <td>5732</td>\n",
       "      <td>Regular</td>\n",
       "      <td>0.97</td>\n",
       "      <td>19</td>\n",
       "      <td>Soltero</td>\n",
       "      <td>1</td>\n",
       "    </tr>\n",
       "    <tr>\n",
       "      <th>12</th>\n",
       "      <td>41</td>\n",
       "      <td>2353</td>\n",
       "      <td>Bueno</td>\n",
       "      <td>0.99</td>\n",
       "      <td>16</td>\n",
       "      <td>Soltero</td>\n",
       "      <td>1</td>\n",
       "    </tr>\n",
       "    <tr>\n",
       "      <th>13</th>\n",
       "      <td>53</td>\n",
       "      <td>7085</td>\n",
       "      <td>Bueno</td>\n",
       "      <td>0.70</td>\n",
       "      <td>11</td>\n",
       "      <td>Soltero</td>\n",
       "      <td>0</td>\n",
       "    </tr>\n",
       "    <tr>\n",
       "      <th>14</th>\n",
       "      <td>57</td>\n",
       "      <td>1791</td>\n",
       "      <td>Regular</td>\n",
       "      <td>0.54</td>\n",
       "      <td>14</td>\n",
       "      <td>Casado</td>\n",
       "      <td>1</td>\n",
       "    </tr>\n",
       "    <tr>\n",
       "      <th>15</th>\n",
       "      <td>41</td>\n",
       "      <td>4081</td>\n",
       "      <td>Regular</td>\n",
       "      <td>0.31</td>\n",
       "      <td>0</td>\n",
       "      <td>Divorciado</td>\n",
       "      <td>0</td>\n",
       "    </tr>\n",
       "    <tr>\n",
       "      <th>16</th>\n",
       "      <td>20</td>\n",
       "      <td>8054</td>\n",
       "      <td>Regular</td>\n",
       "      <td>0.81</td>\n",
       "      <td>25</td>\n",
       "      <td>Soltero</td>\n",
       "      <td>0</td>\n",
       "    </tr>\n",
       "    <tr>\n",
       "      <th>17</th>\n",
       "      <td>39</td>\n",
       "      <td>7780</td>\n",
       "      <td>Regular</td>\n",
       "      <td>0.68</td>\n",
       "      <td>13</td>\n",
       "      <td>Soltero</td>\n",
       "      <td>1</td>\n",
       "    </tr>\n",
       "    <tr>\n",
       "      <th>18</th>\n",
       "      <td>19</td>\n",
       "      <td>2136</td>\n",
       "      <td>Malo</td>\n",
       "      <td>0.16</td>\n",
       "      <td>5</td>\n",
       "      <td>Soltero</td>\n",
       "      <td>0</td>\n",
       "    </tr>\n",
       "    <tr>\n",
       "      <th>19</th>\n",
       "      <td>41</td>\n",
       "      <td>4196</td>\n",
       "      <td>Regular</td>\n",
       "      <td>0.91</td>\n",
       "      <td>4</td>\n",
       "      <td>Soltero</td>\n",
       "      <td>0</td>\n",
       "    </tr>\n",
       "  </tbody>\n",
       "</table>\n",
       "</div>"
      ],
      "text/plain": [
       "    Edad  IngresosMensuales HistorialCrediticio  NivelEndeudamiento  \\\n",
       "0     56               9401             Regular                0.28   \n",
       "1     69               6075               Bueno                0.95   \n",
       "2     46               6030             Regular                0.89   \n",
       "3     32               4913               Bueno                0.46   \n",
       "4     60               4248               Bueno                0.62   \n",
       "5     25               1163                Malo                0.28   \n",
       "6     38               2498               Bueno                0.19   \n",
       "7     56               8494               Bueno                0.46   \n",
       "8     36               1995             Regular                0.35   \n",
       "9     40               3804             Regular                0.58   \n",
       "10    28               4263               Bueno                0.08   \n",
       "11    28               5732             Regular                0.97   \n",
       "12    41               2353               Bueno                0.99   \n",
       "13    53               7085               Bueno                0.70   \n",
       "14    57               1791             Regular                0.54   \n",
       "15    41               4081             Regular                0.31   \n",
       "16    20               8054             Regular                0.81   \n",
       "17    39               7780             Regular                0.68   \n",
       "18    19               2136                Malo                0.16   \n",
       "19    41               4196             Regular                0.91   \n",
       "\n",
       "    AntiguedadLaboral EstadoCivil  OtorgarTarjeta  \n",
       "0                  18     Soltero               1  \n",
       "1                  12     Soltero               1  \n",
       "2                  11      Casado               0  \n",
       "3                   4      Casado               1  \n",
       "4                   5     Soltero               0  \n",
       "5                  25  Divorciado               0  \n",
       "6                  21      Casado               0  \n",
       "7                   3     Soltero               1  \n",
       "8                  18      Casado               0  \n",
       "9                  19      Casado               0  \n",
       "10                  0     Soltero               1  \n",
       "11                 19     Soltero               1  \n",
       "12                 16     Soltero               1  \n",
       "13                 11     Soltero               0  \n",
       "14                 14      Casado               1  \n",
       "15                  0  Divorciado               0  \n",
       "16                 25     Soltero               0  \n",
       "17                 13     Soltero               1  \n",
       "18                  5     Soltero               0  \n",
       "19                  4     Soltero               0  "
      ]
     },
     "execution_count": 8,
     "metadata": {},
     "output_type": "execute_result"
    }
   ],
   "source": [
    "import pandas as pd\n",
    "import numpy as np\n",
    "\n",
    "# Fijamos semilla para reproducibilidad\n",
    "np.random.seed(42)\n",
    "\n",
    "# Número de muestras\n",
    "n_samples = 200\n",
    "\n",
    "# Variables simuladas\n",
    "edad = np.random.randint(18, 70, n_samples)\n",
    "ingresos_mensuales = np.random.randint(500, 10000, n_samples)\n",
    "historial_crediticio = np.random.choice(['Bueno', 'Regular', 'Malo'], n_samples, p=[0.5, 0.3, 0.2])\n",
    "nivel_endeudamiento = np.round(np.random.uniform(0, 1, n_samples), 2)\n",
    "antiguedad_laboral = np.random.randint(0, 30, n_samples)\n",
    "estado_civil = np.random.choice(['Soltero', 'Casado', 'Divorciado'], n_samples, p=[0.5, 0.4, 0.1])\n",
    "\n",
    "# Regla simple para asignar la etiqueta (aprobado = 1, rechazado = 0)\n",
    "prob_aprobacion = (\n",
    "    0.4*(edad > 25) +\n",
    "    0.3*(ingresos_mensuales > 3000) +\n",
    "    0.2*(historial_crediticio == 'Bueno') -\n",
    "    0.3*(nivel_endeudamiento > 0.6)\n",
    ")\n",
    "\n",
    "prob_aprobacion = np.clip(prob_aprobacion, 0, 1)\n",
    "aprobacion = np.random.binomial(1, prob_aprobacion)\n",
    "\n",
    "# Crear DataFrame\n",
    "df = pd.DataFrame({\n",
    "    'Edad': edad,\n",
    "    'IngresosMensuales': ingresos_mensuales,\n",
    "    'HistorialCrediticio': historial_crediticio,\n",
    "    'NivelEndeudamiento': nivel_endeudamiento,\n",
    "    'AntiguedadLaboral': antiguedad_laboral,\n",
    "    'EstadoCivil': estado_civil,\n",
    "    'OtorgarTarjeta': aprobacion\n",
    "})\n",
    "\n",
    "print(\"Dataset artificial de otorgamiento de tarjeta de crédito\")\n",
    "df.head(20)\n"
   ]
  },
  {
   "cell_type": "markdown",
   "id": "beb60f78",
   "metadata": {},
   "source": [
    "# Referentes  \n",
    "\n",
    "Géron, Aurélien. Hands on Machine Learning with Scikit_learn, Keras and Tensorflow. "
   ]
  },
  {
   "cell_type": "markdown",
   "id": "ad4a8358",
   "metadata": {},
   "source": []
  }
 ],
 "metadata": {
  "kernelspec": {
   "display_name": ".venv",
   "language": "python",
   "name": "python3"
  },
  "language_info": {
   "codemirror_mode": {
    "name": "ipython",
    "version": 3
   },
   "file_extension": ".py",
   "mimetype": "text/x-python",
   "name": "python",
   "nbconvert_exporter": "python",
   "pygments_lexer": "ipython3",
   "version": "3.11.9"
  }
 },
 "nbformat": 4,
 "nbformat_minor": 5
}
