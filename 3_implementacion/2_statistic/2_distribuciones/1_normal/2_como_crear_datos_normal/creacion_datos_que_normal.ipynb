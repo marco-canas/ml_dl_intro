{
 "cells": [
  {
   "cell_type": "markdown",
   "metadata": {},
   "source": [
    "<table align=\"left\">\n",
    "  <td>\n",
    "    <a href=\"https://colab.research.google.com/github/ageron/handson-ml3/blob/main/tools_numpy.ipynb\" target=\"_parent\"><img src=\"https://colab.research.google.com/assets/colab-badge.svg\" alt=\"Open In Colab\"/></a>\n",
    "  </td>\n",
    "  <td>\n",
    "    <a target=\"_blank\" href=\"https://kaggle.com/kernels/welcome?src=https://github.com/ageron/handson-ml3/blob/main/tools_numpy.ipynb\"><img src=\"https://kaggle.com/static/images/open-in-kaggle.svg\" /></a>\n",
    "  </td>\n",
    "</table>"
   ]
  },
  {
   "cell_type": "code",
   "execution_count": 1,
   "metadata": {},
   "outputs": [
    {
     "data": {
      "text/plain": [
       "array([30.49014246, 28.5852071 , 30.94306561, 33.56908957, 28.29753988,\n",
       "       28.29758913, 33.73763845, 31.30230419, 27.59157684, 30.62768013,\n",
       "       27.60974692, 27.60281074, 29.72588681, 23.26015927, 23.8252465 ,\n",
       "       27.31313741, 25.96150664, 29.942742  , 26.27592777, 24.7630889 ,\n",
       "       33.39694631, 28.3226711 , 29.20258461, 24.72575544, 27.36685183,\n",
       "       29.33276777, 25.54701927, 30.12709406, 27.19808393, 28.12491875,\n",
       "       27.19488016, 34.55683455, 28.95950833, 25.82686721, 31.46763474,\n",
       "       25.33746905, 29.62659079, 23.12098963, 25.01544185, 29.59058371,\n",
       "       31.21539974, 29.51410484, 28.65305515, 28.09668891, 24.56443403,\n",
       "       26.84046737, 27.61808369, 32.17136668, 30.03085487, 23.71087953,\n",
       "       29.97225191, 27.84475316, 26.969234  , 30.83502887, 32.09299857,\n",
       "       31.79384036, 26.48234743, 28.07236287, 29.99379029, 31.92663538,\n",
       "       27.56247729, 28.44302307, 25.68099508, 25.41138013, 31.43757747,\n",
       "       33.06872009, 28.78396964, 32.01059869, 30.08490808, 27.06464074,\n",
       "       30.08418682, 33.6141097 , 28.89252188, 33.69393097, 21.14076469,\n",
       "       31.46570751, 29.2611412 , 28.10297795, 29.27528233, 23.03729326,\n",
       "       28.34098434, 30.07133771, 33.43368213, 27.44518935, 26.57451919,\n",
       "       27.49472887, 31.74620635, 29.98625333, 27.41071939, 30.5398023 ,\n",
       "       29.29123265, 31.90593497, 26.89384072, 28.01701356, 27.82367554,\n",
       "       24.60945516, 29.88836083, 29.78316582, 29.01534037, 28.2962386 ,\n",
       "       24.75388777, 27.73806403, 27.97185645, 26.59316819, 28.51614287,\n",
       "       30.21215257, 34.6585577 , 29.52373344, 29.77265117, 28.77666225,\n",
       "       23.24368635, 28.92045837, 29.18069063, 36.38972634, 28.42291711,\n",
       "       29.90464203, 28.89586469, 25.49396589, 32.42846844, 31.2557991 ,\n",
       "       31.37309584, 26.27183764, 33.20838293, 24.79444681, 30.76057128,\n",
       "       35.57136688, 26.02839102, 27.30110681, 29.2989541 , 27.48957304,\n",
       "       24.34800971, 29.20568892, 25.81308886, 30.42077729, 26.2417273 ,\n",
       "       33.64980322, 26.65024012, 28.03381545, 31.44055165, 25.30740705,\n",
       "       29.6823798 , 32.92142826, 24.1775503 , 29.55390158, 29.77964838,\n",
       "       31.34546862, 25.28914787, 25.03863016, 30.5658247 , 29.89095402,\n",
       "       29.75147855, 30.03934463, 26.95992584, 29.69676109, 29.87921742,\n",
       "       26.85694575, 34.59732353, 30.42149876, 25.42608951, 30.96966083,\n",
       "       26.07595499, 31.36125381, 32.47578674, 26.53795304, 31.89012839,\n",
       "       30.23834278, 31.46618048, 34.69037895, 28.26383565, 26.73879151,\n",
       "       26.33145671, 26.55256915, 28.76869487, 30.02345592, 29.8300724 ,\n",
       "       31.48154975, 29.03900568, 33.36060223, 28.2060295 , 37.1605075 ,\n",
       "       30.87700204, 26.42852733, 25.78732251, 30.44741725, 28.32961164,\n",
       "       31.14200148, 30.41971287, 28.78151326, 26.45961885, 24.45545833,\n",
       "       27.66045514, 31.56919638, 29.64228123, 25.26278366, 29.51954278,\n",
       "       30.15595214, 26.34842769, 29.46117532, 29.17462616, 25.57108911,\n",
       "       30.07336208, 30.68235358, 32.24915373, 32.16140616, 24.8669919 ,\n",
       "       26.18652488, 30.5451058 , 30.54135785, 30.54514306, 40.55819447,\n",
       "       30.71267153, 32.40669692, 31.86200529, 30.95417375, 28.05419227,\n",
       "       31.27690766, 26.68152436, 28.28954418, 27.54390936, 29.24562242,\n",
       "       35.9439757 , 23.39820442, 31.05878057, 24.16185239, 27.5842044 ,\n",
       "       32.26685179, 29.19284006, 25.76676567, 26.85408887, 31.03879325,\n",
       "       26.8089001 , 29.64937577, 29.13671552, 27.04519896, 35.43183227,\n",
       "       30.90175707, 22.92457224, 29.55936294, 27.01464061, 31.5573    ,\n",
       "       26.62243778, 28.65579068, 30.51496184, 31.59726558, 25.39911078,\n",
       "       27.99649629, 27.57516407, 27.0400123 , 34.29636272, 30.21494513,\n",
       "       25.21734814, 31.75358584, 35.36646859, 32.09739578, 24.4418901 ,\n",
       "       27.54729778, 32.80073345, 26.8769916 , 30.33145828, 31.32390216,\n",
       "       26.21920859, 28.82142393, 19.27619798, 25.92683708, 28.24229555,\n",
       "       25.25665045, 33.89723391, 24.70957587, 27.67986654, 29.39222173,\n",
       "       33.32381987, 24.69241355, 32.48949126, 29.03069918, 26.05547405,\n",
       "       30.38631042, 29.59717909, 27.19934937, 29.20940625, 27.84405921,\n",
       "       29.34055204, 30.98639202, 33.75805045, 25.2865535 , 35.39910012,\n",
       "       23.1437366 , 28.54464471, 30.76495162, 29.8429756 , 27.13190144,\n",
       "       28.37563325, 27.5209972 , 27.23190573, 31.54880629, 30.07104646,\n",
       "       26.92127121, 31.69879963, 29.92189856, 31.43858636, 30.88888653,\n",
       "       26.51301497, 27.31945688, 31.24188082, 30.8311108 , 28.93729522,\n",
       "       29.35198215, 32.83299469, 27.22528583, 30.64129214, 28.39342204,\n",
       "       28.34695639, 32.29633056, 31.47624905, 31.44052891, 32.91643642,\n",
       "       29.06301152, 31.04585891, 28.06919973, 29.97249906, 28.60957084,\n",
       "       29.29098789, 30.78547108, 26.54533795, 35.27716183, 25.98194786,\n",
       "       25.35743416, 32.47433262, 31.37498808, 30.87235945, 30.88503653,\n",
       "       28.96325968, 26.30823689, 29.22741367, 26.96851487, 31.9253592 ,\n",
       "       28.55882786, 26.52350841, 28.03584248, 30.23879436, 27.30882634,\n",
       "       26.53333881, 29.73106163, 29.73489971, 27.47917047, 27.58688508,\n",
       "       29.69614981, 24.65574698, 24.77760868, 26.84466734, 28.35965854,\n",
       "       29.9327227 , 33.42606865, 31.57297887, 28.52018441, 28.94295138,\n",
       "       25.99241191, 28.94446059, 28.13402408, 29.96815568, 26.51830717,\n",
       "       30.55803954, 33.59821674, 28.67371955, 30.20513517, 31.07043198])"
      ]
     },
     "execution_count": 1,
     "metadata": {},
     "output_type": "execute_result"
    }
   ],
   "source": [
    "import numpy as np \n",
    "import pandas as pd \n",
    "import matplotlib.pyplot as plt \n",
    "\n",
    "media = 29\n",
    "desviacion = 3\n",
    "\n",
    "np.random.seed(42)\n",
    "\n",
    "datos_temperatura = np.random.normal(loc = media, scale = desviacion, size = 365)\n",
    "\n",
    "datos_temperatura\n"
   ]
  },
  {
   "cell_type": "code",
   "execution_count": 2,
   "metadata": {},
   "outputs": [
    {
     "data": {
      "text/html": [
       "<div>\n",
       "<style scoped>\n",
       "    .dataframe tbody tr th:only-of-type {\n",
       "        vertical-align: middle;\n",
       "    }\n",
       "\n",
       "    .dataframe tbody tr th {\n",
       "        vertical-align: top;\n",
       "    }\n",
       "\n",
       "    .dataframe thead th {\n",
       "        text-align: right;\n",
       "    }\n",
       "</style>\n",
       "<table border=\"1\" class=\"dataframe\">\n",
       "  <thead>\n",
       "    <tr style=\"text-align: right;\">\n",
       "      <th></th>\n",
       "      <th>Temperatura</th>\n",
       "    </tr>\n",
       "  </thead>\n",
       "  <tbody>\n",
       "    <tr>\n",
       "      <th>0</th>\n",
       "      <td>30.490142</td>\n",
       "    </tr>\n",
       "    <tr>\n",
       "      <th>1</th>\n",
       "      <td>28.585207</td>\n",
       "    </tr>\n",
       "    <tr>\n",
       "      <th>2</th>\n",
       "      <td>30.943066</td>\n",
       "    </tr>\n",
       "    <tr>\n",
       "      <th>3</th>\n",
       "      <td>33.569090</td>\n",
       "    </tr>\n",
       "    <tr>\n",
       "      <th>4</th>\n",
       "      <td>28.297540</td>\n",
       "    </tr>\n",
       "  </tbody>\n",
       "</table>\n",
       "</div>"
      ],
      "text/plain": [
       "   Temperatura\n",
       "0    30.490142\n",
       "1    28.585207\n",
       "2    30.943066\n",
       "3    33.569090\n",
       "4    28.297540"
      ]
     },
     "execution_count": 2,
     "metadata": {},
     "output_type": "execute_result"
    }
   ],
   "source": [
    "datos_temparatura_df = pd.DataFrame({'Temperatura' : datos_temperatura})\n",
    "datos_temparatura_df.head() "
   ]
  },
  {
   "cell_type": "code",
   "execution_count": 3,
   "metadata": {},
   "outputs": [
    {
     "data": {
      "text/html": [
       "<div>\n",
       "<style scoped>\n",
       "    .dataframe tbody tr th:only-of-type {\n",
       "        vertical-align: middle;\n",
       "    }\n",
       "\n",
       "    .dataframe tbody tr th {\n",
       "        vertical-align: top;\n",
       "    }\n",
       "\n",
       "    .dataframe thead th {\n",
       "        text-align: right;\n",
       "    }\n",
       "</style>\n",
       "<table border=\"1\" class=\"dataframe\">\n",
       "  <thead>\n",
       "    <tr style=\"text-align: right;\">\n",
       "      <th></th>\n",
       "      <th>Temperatura</th>\n",
       "    </tr>\n",
       "  </thead>\n",
       "  <tbody>\n",
       "    <tr>\n",
       "      <th>count</th>\n",
       "      <td>365.000000</td>\n",
       "    </tr>\n",
       "    <tr>\n",
       "      <th>mean</th>\n",
       "      <td>29.029839</td>\n",
       "    </tr>\n",
       "    <tr>\n",
       "      <th>std</th>\n",
       "      <td>2.844153</td>\n",
       "    </tr>\n",
       "    <tr>\n",
       "      <th>min</th>\n",
       "      <td>19.276198</td>\n",
       "    </tr>\n",
       "    <tr>\n",
       "      <th>25%</th>\n",
       "      <td>27.040012</td>\n",
       "    </tr>\n",
       "    <tr>\n",
       "      <th>50%</th>\n",
       "      <td>29.174626</td>\n",
       "    </tr>\n",
       "    <tr>\n",
       "      <th>75%</th>\n",
       "      <td>30.877002</td>\n",
       "    </tr>\n",
       "    <tr>\n",
       "      <th>max</th>\n",
       "      <td>40.558194</td>\n",
       "    </tr>\n",
       "  </tbody>\n",
       "</table>\n",
       "</div>"
      ],
      "text/plain": [
       "       Temperatura\n",
       "count   365.000000\n",
       "mean     29.029839\n",
       "std       2.844153\n",
       "min      19.276198\n",
       "25%      27.040012\n",
       "50%      29.174626\n",
       "75%      30.877002\n",
       "max      40.558194"
      ]
     },
     "execution_count": 3,
     "metadata": {},
     "output_type": "execute_result"
    }
   ],
   "source": [
    "datos_temparatura_df.describe() "
   ]
  },
  {
   "cell_type": "code",
   "execution_count": 4,
   "metadata": {},
   "outputs": [
    {
     "data": {
      "image/png": "[encoded data removed]",
      "text/plain": [
       "<Figure size 640x480 with 1 Axes>"
      ]
     },
     "metadata": {},
     "output_type": "display_data"
    }
   ],
   "source": [
    "plt.title('Histograma de la temperatura en un año')\n",
    "plt.xlabel('Temperatura')\n",
    "plt.hist(datos_temperatura, bins = 12, color = 'skyblue', edgecolor = 'black', alpha = 0.7, density=False)\n",
    "plt.savefig('C:/Users/marco/Downloads/histograma_datos_temperatura_artificiales.png')"
   ]
  },
  {
   "cell_type": "code",
   "execution_count": 5,
   "metadata": {},
   "outputs": [],
   "source": [
    "from scipy.stats import norm "
   ]
  },
  {
   "cell_type": "code",
   "execution_count": 6,
   "metadata": {},
   "outputs": [],
   "source": [
    "mu, sigma = norm.fit(datos_temperatura)"
   ]
  },
  {
   "cell_type": "code",
   "execution_count": 7,
   "metadata": {},
   "outputs": [
    {
     "data": {
      "text/plain": [
       "np.float64(29.029839206636172)"
      ]
     },
     "execution_count": 7,
     "metadata": {},
     "output_type": "execute_result"
    }
   ],
   "source": [
    "mu"
   ]
  },
  {
   "cell_type": "code",
   "execution_count": 8,
   "metadata": {},
   "outputs": [
    {
     "data": {
      "text/plain": [
       "np.float64(2.8402544957662386)"
      ]
     },
     "execution_count": 8,
     "metadata": {},
     "output_type": "execute_result"
    }
   ],
   "source": [
    "sigma"
   ]
  },
  {
   "cell_type": "code",
   "execution_count": 11,
   "metadata": {},
   "outputs": [
    {
     "data": {
      "image/png": "[encoded data removed]",
      "text/plain": [
       "<Figure size 640x480 with 1 Axes>"
      ]
     },
     "metadata": {},
     "output_type": "display_data"
    }
   ],
   "source": [
    "x = np.linspace(min(datos_temperatura), max(datos_temperatura), 100)\n",
    "pdf = norm.pdf(x, mu, sigma)   # Determinar el rango de la distribución normal \n",
    "plt.title('Histograma de los datos y modelo normal que los ajusta')\n",
    "plt.xlabel('Temperaturas en un año')\n",
    "plt.plot(x, pdf, 'r-', lw=2, label='Gaussian Distribution')\n",
    "plt.hist(datos_temperatura, bins=12, alpha=0.6, color='skyblue', label='Datos', density=True)\n",
    "plt.legend() \n",
    "plt.savefig('C:/Users/marco/Downloads/datos_distribucion_normal_ajuste.png')"
   ]
  },
  {
   "cell_type": "code",
   "execution_count": null,
   "metadata": {},
   "outputs": [],
   "source": []
  },
  {
   "cell_type": "code",
   "execution_count": null,
   "metadata": {},
   "outputs": [],
   "source": []
  }
 ],
 "metadata": {
  "kernelspec": {
   "display_name": "Python 3",
   "language": "python",
   "name": "python3"
  },
  "language_info": {
   "codemirror_mode": {
    "name": "ipython",
    "version": 3
   },
   "file_extension": ".py",
   "mimetype": "text/x-python",
   "name": "python",
   "nbconvert_exporter": "python",
   "pygments_lexer": "ipython3",
   "version": "3.12.8"
  }
 },
 "nbformat": 4,
 "nbformat_minor": 2
}
