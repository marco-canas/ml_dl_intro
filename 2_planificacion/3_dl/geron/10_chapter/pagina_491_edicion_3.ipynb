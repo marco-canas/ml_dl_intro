{
 "cells": [
  {
   "cell_type": "markdown",
   "id": "1cf59834",
   "metadata": {},
   "source": [
    "<table align=\"left\">\n",
    "  <td>\n",
    "    <a href=\"https://colab.research.google.com/github/marco-canas/ml_intro/blob/main/2_planificacion/redes_neuronales_geron/geron/10_chapter/pagina_491_edicion_3.ipynb\" target=\"_parent\"><img src=\"https://colab.research.google.com/assets/colab-badge.svg\" alt=\"Open In Colab\"/></a>\n",
    "  </td>\n",
    "  <td>\n",
    "    <a target=\"_blank\" href=\"https://kaggle.com/kernels/welcome?src=https://github.com/marco-canas/ml_intro/blob/main/2_planificacion/redes_neuronales_geron/geron/10_chapter/pagina_491_edicion_3.ipynb\"><img src=\"https://kaggle.com/static/images/open-in-kaggle.svg\" /></a>\n",
    "  </td>\n",
    "</table>"
   ]
  },
  {
   "cell_type": "markdown",
   "id": "134bc2ed",
   "metadata": {},
   "source": [
    "Este es una parte del texto de Aurélien Géron sobre la implementación de MLPs con Keras para clasificación multiclase:\n",
    "\n",
    "\n"
   ]
  },
  {
   "cell_type": "markdown",
   "id": "594133db",
   "metadata": {},
   "source": [
    "\n",
    "### Implementación de MLPs con Keras "
   ]
  },
  {
   "cell_type": "markdown",
   "id": "9fd5c58d",
   "metadata": {},
   "source": [
    " \n",
    "Keras es la API de alto nivel de TensorFlow para aprendizaje profundo: permite:   \n",
    "\n",
    "* construir, \n",
    "* entrenar, \n",
    "* evaluar y \n",
    "* ejecutar  \n",
    "\n",
    "diversos tipos de redes neuronales. "
   ]
  },
  {
   "cell_type": "markdown",
   "id": "3231dbfd",
   "metadata": {},
   "source": [
    "La biblioteca original de Keras fue desarrollada por François Chollet como parte de un proyecto de investigación y se lanzó como un proyecto de código abierto independiente en marzo de 2015. "
   ]
  },
  {
   "cell_type": "markdown",
   "id": "024e2f2a",
   "metadata": {},
   "source": [
    "<img src = 'https://substackcdn.com/image/fetch/$s_!sc77!,f_auto,q_auto:good,fl_progressive:steep/https%3A%2F%2Fbucketeer-e05bbc84-baa3-437e-9518-adb32be77984.s3.amazonaws.com%2Fpublic%2Fimages%2Fd2f89419-a507-4fbf-88e0-67bf9a8ae1e5_1200x628.png'>"
   ]
  },
  {
   "cell_type": "markdown",
   "id": "cd9d5743",
   "metadata": {},
   "source": [
    "Rápidamente ganó popularidad debido a su facilidad de uso, flexibilidad y diseño elegante.\n"
   ]
  },
  {
   "cell_type": "markdown",
   "id": "11f73062",
   "metadata": {},
   "source": [
    "\n",
    "**NOTA**  \n"
   ]
  },
  {
   "cell_type": "markdown",
   "id": "40853e65",
   "metadata": {},
   "source": [
    "Keras solía admitir múltiples backends, incluyendo TensorFlow, PlaidML, Theano y Microsoft Cognitive Toolkit (CNTK) (los dos últimos están obsoletos), pero desde la versión 2.4, Keras es exclusivo de TensorFlow. "
   ]
  },
  {
   "cell_type": "code",
   "execution_count": null,
   "id": "649a5add",
   "metadata": {},
   "outputs": [],
   "source": [
    "import tensorflow as tf\n",
    "from tensorflow import keras\n",
    "tf.__version__"
   ]
  },
  {
   "cell_type": "code",
   "execution_count": null,
   "id": "7e80dd30",
   "metadata": {},
   "outputs": [],
   "source": [
    "keras.__version__"
   ]
  },
  {
   "cell_type": "markdown",
   "id": "28e249e7",
   "metadata": {},
   "source": [
    "De manera similar, TensorFlow solía incluir múltiples APIs de alto nivel, pero Keras fue elegido oficialmente como su API preferida cuando se lanzó TensorFlow 2. "
   ]
  },
  {
   "cell_type": "markdown",
   "id": "0417ae1d",
   "metadata": {},
   "source": [
    "Instalar TensorFlow automáticamente instala Keras, y Keras no funcionará sin TensorFlow. "
   ]
  },
  {
   "cell_type": "markdown",
   "id": "d35e26e9",
   "metadata": {},
   "source": [
    "En resumen, Keras y TensorFlow se unieron. "
   ]
  },
  {
   "cell_type": "markdown",
   "id": "cdaa56d6",
   "metadata": {},
   "source": [
    "<img src = 'https://blogger.googleusercontent.com/img/b/R29vZ2xl/AVvXsEi-CQ1Zlqe0YAH6FMgIhNEjFdwfMdk9qleFdcgxeDRjLc2xezP7VcLIEG0NuTZn6sp1bSLgY2jVJvRU7y0_ptzB8bUMimZ7AxDvin-adTWtgvugzK3_ilf1iSHyzYWqJd4WcOb3oM4COTg/s1600/tensorflowkeras.jpg'>"
   ]
  },
  {
   "cell_type": "markdown",
   "id": "6e0da7c3",
   "metadata": {},
   "source": [
    "Otras bibliotecas populares de aprendizaje profundo incluyen PyTorch de Facebook y JAX de Google.\n"
   ]
  },
  {
   "cell_type": "markdown",
   "id": "2772577b",
   "metadata": {},
   "source": [
    "<img src = 'https://wp.probytes.net/wp-content/uploads/2018/05/PyTorch-1.0_-Facebooks-Very-Own-AI-Framework-Built-On-Python.jpg'>"
   ]
  },
  {
   "cell_type": "markdown",
   "id": "5a1cb494",
   "metadata": {},
   "source": [
    "<img src = 'https://cdn.prod.website-files.com/67a1e6de2f2eab2e125f8b9a/67be1ddeb6a194bc0d624d7e_beginner_cropped.png'>"
   ]
  },
  {
   "cell_type": "markdown",
   "id": "1c56fb6b",
   "metadata": {},
   "source": [
    "\n",
    "Ahora usemos Keras. "
   ]
  },
  {
   "cell_type": "markdown",
   "id": "8150ecab",
   "metadata": {},
   "source": [
    "Comenzaremos construyendo un MLP para clasificación de imágenes.\n"
   ]
  },
  {
   "cell_type": "markdown",
   "id": "887210e0",
   "metadata": {},
   "source": [
    "\n",
    "**NOTA**  \n",
    "Los entornos de [Colab](https://colab.google/) incluyen versiones recientes de TensorFlow y Keras preinstaladas."
   ]
  },
  {
   "cell_type": "markdown",
   "id": "8b1de2d1",
   "metadata": {},
   "source": [
    " Sin embargo, si deseas instalarlos en tu máquina, consulta las instrucciones en [https://homl.info/install](https://homl.info/install).\n"
   ]
  },
  {
   "cell_type": "markdown",
   "id": "0b894c41",
   "metadata": {},
   "source": [
    "\n",
    "\n",
    "\n",
    "### Construcción de un Clasificador de Imágenes Usando la API Secuencial "
   ]
  },
  {
   "cell_type": "markdown",
   "id": "08c1baf3",
   "metadata": {},
   "source": [
    " \n",
    "Primero, necesitamos cargar un conjunto de datos. "
   ]
  },
  {
   "cell_type": "markdown",
   "id": "e9c7d3ae",
   "metadata": {},
   "source": [
    "Usaremos Fashion MNIST, un reemplazo directo de MNIST (presentado en el Capítulo 3). "
   ]
  },
  {
   "cell_type": "markdown",
   "id": "c3b98987",
   "metadata": {},
   "source": [
    "Tiene el mismo formato que MNIST (70,000 imágenes en escala de grises de 28 × 28 píxeles cada una, con 10 clases), pero las imágenes representan artículos de moda en lugar de dígitos escritos a mano, por lo que cada clase es más diversa y el problema resulta significativamente más desafiante que MNIST. "
   ]
  },
  {
   "cell_type": "markdown",
   "id": "9688f385",
   "metadata": {},
   "source": [
    "Por ejemplo, un modelo lineal simple alcanza aproximadamente un 92% de precisión en MNIST, pero solo alrededor del 83% en Fashion MNIST.\n"
   ]
  },
  {
   "cell_type": "code",
   "execution_count": 2,
   "id": "0d9b1a49",
   "metadata": {},
   "outputs": [],
   "source": [
    "from sklearn.datasets import fetch_openml\n",
    "mnist = fetch_openml('mnist_784', version=1, as_frame=False)\n",
    "X, y = mnist['data'], mnist['target']\n",
    "X_train_full, X_test, y_train_full, y_test = X[:60000], X[60000:], y[:60000], y[60000:] \n",
    "X_train, X_valid = X_train_full[:55000], X_train_full[55000:] \n",
    "y_train, y_valid = y_train_full[:55000], y_train_full[55000:] "
   ]
  },
  {
   "cell_type": "code",
   "execution_count": 3,
   "id": "44e6c1a2",
   "metadata": {},
   "outputs": [],
   "source": [
    "from tensorflow import keras \n",
    "from tensorflow.keras.models import Sequential"
   ]
  },
  {
   "cell_type": "code",
   "execution_count": 8,
   "id": "c0e1b9c1",
   "metadata": {},
   "outputs": [
    {
     "name": "stdout",
     "output_type": "stream",
     "text": [
      "Epoch 1/30\n",
      "\u001b[1m1719/1719\u001b[0m \u001b[32m━━━━━━━━━━━━━━━━━━━━\u001b[0m\u001b[37m\u001b[0m \u001b[1m6s\u001b[0m 3ms/step - accuracy: 0.6856 - loss: 1.2088 - val_accuracy: 0.9032 - val_loss: 0.4345\n",
      "Epoch 2/30\n",
      "\u001b[1m1719/1719\u001b[0m \u001b[32m━━━━━━━━━━━━━━━━━━━━\u001b[0m\u001b[37m\u001b[0m \u001b[1m4s\u001b[0m 2ms/step - accuracy: 0.8730 - loss: 0.4969 - val_accuracy: 0.9136 - val_loss: 0.3508\n",
      "Epoch 3/30\n",
      "\u001b[1m1719/1719\u001b[0m \u001b[32m━━━━━━━━━━━━━━━━━━━━\u001b[0m\u001b[37m\u001b[0m \u001b[1m4s\u001b[0m 2ms/step - accuracy: 0.8856 - loss: 0.4284 - val_accuracy: 0.9196 - val_loss: 0.3190\n",
      "Epoch 4/30\n",
      "\u001b[1m1719/1719\u001b[0m \u001b[32m━━━━━━━━━━━━━━━━━━━━\u001b[0m\u001b[37m\u001b[0m \u001b[1m4s\u001b[0m 2ms/step - accuracy: 0.8922 - loss: 0.3945 - val_accuracy: 0.9208 - val_loss: 0.2998\n",
      "Epoch 5/30\n",
      "\u001b[1m1719/1719\u001b[0m \u001b[32m━━━━━━━━━━━━━━━━━━━━\u001b[0m\u001b[37m\u001b[0m \u001b[1m3s\u001b[0m 2ms/step - accuracy: 0.8964 - loss: 0.3793 - val_accuracy: 0.9246 - val_loss: 0.2882\n",
      "Epoch 6/30\n",
      "\u001b[1m1719/1719\u001b[0m \u001b[32m━━━━━━━━━━━━━━━━━━━━\u001b[0m\u001b[37m\u001b[0m \u001b[1m4s\u001b[0m 2ms/step - accuracy: 0.9002 - loss: 0.3636 - val_accuracy: 0.9248 - val_loss: 0.2802\n",
      "Epoch 7/30\n",
      "\u001b[1m1719/1719\u001b[0m \u001b[32m━━━━━━━━━━━━━━━━━━━━\u001b[0m\u001b[37m\u001b[0m \u001b[1m4s\u001b[0m 2ms/step - accuracy: 0.9024 - loss: 0.3502 - val_accuracy: 0.9260 - val_loss: 0.2734\n",
      "Epoch 8/30\n",
      "\u001b[1m1719/1719\u001b[0m \u001b[32m━━━━━━━━━━━━━━━━━━━━\u001b[0m\u001b[37m\u001b[0m \u001b[1m5s\u001b[0m 3ms/step - accuracy: 0.9046 - loss: 0.3374 - val_accuracy: 0.9292 - val_loss: 0.2684\n",
      "Epoch 9/30\n",
      "\u001b[1m1719/1719\u001b[0m \u001b[32m━━━━━━━━━━━━━━━━━━━━\u001b[0m\u001b[37m\u001b[0m \u001b[1m4s\u001b[0m 2ms/step - accuracy: 0.9038 - loss: 0.3426 - val_accuracy: 0.9284 - val_loss: 0.2643\n",
      "Epoch 10/30\n",
      "\u001b[1m1719/1719\u001b[0m \u001b[32m━━━━━━━━━━━━━━━━━━━━\u001b[0m\u001b[37m\u001b[0m \u001b[1m4s\u001b[0m 2ms/step - accuracy: 0.9077 - loss: 0.3310 - val_accuracy: 0.9288 - val_loss: 0.2606\n",
      "Epoch 11/30\n",
      "\u001b[1m1719/1719\u001b[0m \u001b[32m━━━━━━━━━━━━━━━━━━━━\u001b[0m\u001b[37m\u001b[0m \u001b[1m4s\u001b[0m 2ms/step - accuracy: 0.9096 - loss: 0.3239 - val_accuracy: 0.9314 - val_loss: 0.2573\n",
      "Epoch 12/30\n",
      "\u001b[1m1719/1719\u001b[0m \u001b[32m━━━━━━━━━━━━━━━━━━━━\u001b[0m\u001b[37m\u001b[0m \u001b[1m4s\u001b[0m 2ms/step - accuracy: 0.9099 - loss: 0.3278 - val_accuracy: 0.9298 - val_loss: 0.2552\n",
      "Epoch 13/30\n",
      "\u001b[1m1719/1719\u001b[0m \u001b[32m━━━━━━━━━━━━━━━━━━━━\u001b[0m\u001b[37m\u001b[0m \u001b[1m3s\u001b[0m 2ms/step - accuracy: 0.9108 - loss: 0.3216 - val_accuracy: 0.9312 - val_loss: 0.2524\n",
      "Epoch 14/30\n",
      "\u001b[1m1719/1719\u001b[0m \u001b[32m━━━━━━━━━━━━━━━━━━━━\u001b[0m\u001b[37m\u001b[0m \u001b[1m4s\u001b[0m 2ms/step - accuracy: 0.9125 - loss: 0.3177 - val_accuracy: 0.9326 - val_loss: 0.2508\n",
      "Epoch 15/30\n",
      "\u001b[1m1719/1719\u001b[0m \u001b[32m━━━━━━━━━━━━━━━━━━━━\u001b[0m\u001b[37m\u001b[0m \u001b[1m5s\u001b[0m 3ms/step - accuracy: 0.9136 - loss: 0.3155 - val_accuracy: 0.9326 - val_loss: 0.2487\n",
      "Epoch 16/30\n",
      "\u001b[1m1719/1719\u001b[0m \u001b[32m━━━━━━━━━━━━━━━━━━━━\u001b[0m\u001b[37m\u001b[0m \u001b[1m4s\u001b[0m 2ms/step - accuracy: 0.9141 - loss: 0.3084 - val_accuracy: 0.9346 - val_loss: 0.2474\n",
      "Epoch 17/30\n",
      "\u001b[1m1719/1719\u001b[0m \u001b[32m━━━━━━━━━━━━━━━━━━━━\u001b[0m\u001b[37m\u001b[0m \u001b[1m4s\u001b[0m 3ms/step - accuracy: 0.9151 - loss: 0.3050 - val_accuracy: 0.9336 - val_loss: 0.2453\n",
      "Epoch 18/30\n",
      "\u001b[1m1719/1719\u001b[0m \u001b[32m━━━━━━━━━━━━━━━━━━━━\u001b[0m\u001b[37m\u001b[0m \u001b[1m4s\u001b[0m 2ms/step - accuracy: 0.9114 - loss: 0.3145 - val_accuracy: 0.9324 - val_loss: 0.2443\n",
      "Epoch 19/30\n",
      "\u001b[1m1719/1719\u001b[0m \u001b[32m━━━━━━━━━━━━━━━━━━━━\u001b[0m\u001b[37m\u001b[0m \u001b[1m4s\u001b[0m 2ms/step - accuracy: 0.9154 - loss: 0.3054 - val_accuracy: 0.9332 - val_loss: 0.2431\n",
      "Epoch 20/30\n",
      "\u001b[1m1719/1719\u001b[0m \u001b[32m━━━━━━━━━━━━━━━━━━━━\u001b[0m\u001b[37m\u001b[0m \u001b[1m4s\u001b[0m 2ms/step - accuracy: 0.9156 - loss: 0.3021 - val_accuracy: 0.9344 - val_loss: 0.2419\n",
      "Epoch 21/30\n",
      "\u001b[1m1719/1719\u001b[0m \u001b[32m━━━━━━━━━━━━━━━━━━━━\u001b[0m\u001b[37m\u001b[0m \u001b[1m4s\u001b[0m 2ms/step - accuracy: 0.9158 - loss: 0.3029 - val_accuracy: 0.9340 - val_loss: 0.2410\n",
      "Epoch 22/30\n",
      "\u001b[1m1719/1719\u001b[0m \u001b[32m━━━━━━━━━━━━━━━━━━━━\u001b[0m\u001b[37m\u001b[0m \u001b[1m4s\u001b[0m 2ms/step - accuracy: 0.9159 - loss: 0.3057 - val_accuracy: 0.9334 - val_loss: 0.2397\n",
      "Epoch 23/30\n",
      "\u001b[1m1719/1719\u001b[0m \u001b[32m━━━━━━━━━━━━━━━━━━━━\u001b[0m\u001b[37m\u001b[0m \u001b[1m4s\u001b[0m 2ms/step - accuracy: 0.9185 - loss: 0.2951 - val_accuracy: 0.9348 - val_loss: 0.2386\n",
      "Epoch 24/30\n",
      "\u001b[1m1719/1719\u001b[0m \u001b[32m━━━━━━━━━━━━━━━━━━━━\u001b[0m\u001b[37m\u001b[0m \u001b[1m4s\u001b[0m 2ms/step - accuracy: 0.9168 - loss: 0.2959 - val_accuracy: 0.9360 - val_loss: 0.2382\n",
      "Epoch 25/30\n",
      "\u001b[1m1719/1719\u001b[0m \u001b[32m━━━━━━━━━━━━━━━━━━━━\u001b[0m\u001b[37m\u001b[0m \u001b[1m4s\u001b[0m 2ms/step - accuracy: 0.9165 - loss: 0.2993 - val_accuracy: 0.9356 - val_loss: 0.2378\n",
      "Epoch 26/30\n",
      "\u001b[1m1719/1719\u001b[0m \u001b[32m━━━━━━━━━━━━━━━━━━━━\u001b[0m\u001b[37m\u001b[0m \u001b[1m4s\u001b[0m 2ms/step - accuracy: 0.9179 - loss: 0.2961 - val_accuracy: 0.9352 - val_loss: 0.2369\n",
      "Epoch 27/30\n",
      "\u001b[1m1719/1719\u001b[0m \u001b[32m━━━━━━━━━━━━━━━━━━━━\u001b[0m\u001b[37m\u001b[0m \u001b[1m4s\u001b[0m 2ms/step - accuracy: 0.9175 - loss: 0.2959 - val_accuracy: 0.9352 - val_loss: 0.2354\n",
      "Epoch 28/30\n",
      "\u001b[1m1719/1719\u001b[0m \u001b[32m━━━━━━━━━━━━━━━━━━━━\u001b[0m\u001b[37m\u001b[0m \u001b[1m4s\u001b[0m 2ms/step - accuracy: 0.9199 - loss: 0.2906 - val_accuracy: 0.9362 - val_loss: 0.2353\n",
      "Epoch 29/30\n",
      "\u001b[1m1719/1719\u001b[0m \u001b[32m━━━━━━━━━━━━━━━━━━━━\u001b[0m\u001b[37m\u001b[0m \u001b[1m5s\u001b[0m 3ms/step - accuracy: 0.9201 - loss: 0.2898 - val_accuracy: 0.9362 - val_loss: 0.2342\n",
      "Epoch 30/30\n",
      "\u001b[1m1719/1719\u001b[0m \u001b[32m━━━━━━━━━━━━━━━━━━━━\u001b[0m\u001b[37m\u001b[0m \u001b[1m4s\u001b[0m 3ms/step - accuracy: 0.9191 - loss: 0.2918 - val_accuracy: 0.9360 - val_loss: 0.2344\n",
      "\u001b[1m313/313\u001b[0m \u001b[32m━━━━━━━━━━━━━━━━━━━━\u001b[0m\u001b[37m\u001b[0m \u001b[1m1s\u001b[0m 2ms/step - accuracy: 0.9084 - loss: 0.3206\n",
      "Precisión en test: 0.9205\n"
     ]
    }
   ],
   "source": [
    "import numpy as np\n",
    "\n",
    "# Remodelar los datos si están aplanados (asumiendo que originalmente eran 28x28)\n",
    "X_train = np.reshape(X_train, (-1, 28, 28))\n",
    "X_valid = np.reshape(X_valid, (-1, 28, 28))\n",
    "X_test = np.reshape(X_test, (-1, 28, 28))\n",
    "\n",
    "X_train = X_train.astype('float32') / 255.0  # Normalizar imágenes (si son uint8)\n",
    "X_valid = X_valid.astype('float32') / 255.0\n",
    "X_test = X_test.astype('float32') / 255.0\n",
    "\n",
    "y_train = y_train.astype('int32')  # Asegurar que sean enteros\n",
    "y_valid = y_valid.astype('int32')\n",
    "y_test = y_test.astype('int32')\n",
    "\n",
    "# Modelo con entrada (28, 28)\n",
    "model_linear = keras.Sequential([\n",
    "    keras.layers.Flatten(input_shape=(28, 28)),\n",
    "    keras.layers.Dense(10, activation=\"softmax\")\n",
    "])  \n",
    "\n",
    "\n",
    "\n",
    "\n",
    "model_linear.compile(\n",
    "    loss=\"sparse_categorical_crossentropy\",\n",
    "    optimizer=\"sgd\",\n",
    "    metrics=[\"accuracy\"]\n",
    ")\n",
    "\n",
    "history_linear = model_linear.fit(\n",
    "    X_train, y_train,\n",
    "    epochs=30,\n",
    "    validation_data=(X_valid, y_valid)\n",
    ")\n",
    "\n",
    "test_loss, test_acc = model_linear.evaluate(X_test, y_test)\n",
    "print(f\"Precisión en test: {test_acc:.4f}\")"
   ]
  },
  {
   "cell_type": "markdown",
   "id": "3ed25108",
   "metadata": {},
   "source": [
    "\n",
    "#### Carga del conjunto de datos con Keras  \n"
   ]
  },
  {
   "cell_type": "markdown",
   "id": "4058b4c5",
   "metadata": {},
   "source": [
    "Keras proporciona funciones útiles para descargar y cargar conjuntos de datos comunes, incluyendo MNIST, Fashion MNIST y otros. "
   ]
  },
  {
   "cell_type": "markdown",
   "id": "8b5d116a",
   "metadata": {},
   "source": [
    "Carguemos Fashion MNIST. "
   ]
  },
  {
   "cell_type": "markdown",
   "id": "8e5eca4a",
   "metadata": {},
   "source": [
    "Ya está barajado y dividido en un conjunto de entrenamiento (60,000 imágenes) y un conjunto de prueba (10,000 imágenes), pero reservaremos las últimas 5,000 imágenes del conjunto de entrenamiento para validación:\n"
   ]
  },
  {
   "cell_type": "code",
   "execution_count": null,
   "id": "208cfc17",
   "metadata": {},
   "outputs": [],
   "source": [
    "import tensorflow as tf\n"
   ]
  },
  {
   "cell_type": "code",
   "execution_count": null,
   "id": "188d7030",
   "metadata": {},
   "outputs": [],
   "source": [
    "%%time \n",
    "fashion_mnist = tf.keras.datasets.fashion_mnist.load_data()\n"
   ]
  },
  {
   "cell_type": "code",
   "execution_count": null,
   "id": "bf2b7efa",
   "metadata": {},
   "outputs": [],
   "source": [
    "type(fashion_mnist)"
   ]
  },
  {
   "cell_type": "code",
   "execution_count": null,
   "id": "06750f08",
   "metadata": {},
   "outputs": [],
   "source": [
    "fashion_mnist[0][0][0]"
   ]
  },
  {
   "cell_type": "code",
   "execution_count": null,
   "id": "97699988",
   "metadata": {},
   "outputs": [],
   "source": [
    "import matplotlib.pyplot as plt\n",
    "\n",
    "# Visualizar las primeras 10 imágenes del dataset Fashion MNIST\n",
    "fig, axes = plt.subplots(2, 5, figsize=(10, 5))\n",
    "for i, ax in enumerate(axes.flat):\n",
    "    ax.imshow(fashion_mnist[0][0][i], cmap=\"gray\")\n",
    "    ax.set_title(f\"Etiqueta: {fashion_mnist[0][1][i]}\")\n",
    "    ax.axis('off')\n",
    "plt.tight_layout()\n",
    "plt.savefig(r\"C:\\Users\\marco\\Downloads\\fashion_mnist.png\")\n",
    "plt.show()"
   ]
  },
  {
   "cell_type": "code",
   "execution_count": null,
   "id": "148b0242",
   "metadata": {},
   "outputs": [],
   "source": [
    "(X_train_full, y_train_full), (X_test, y_test) = fashion_mnist\n"
   ]
  },
  {
   "cell_type": "code",
   "execution_count": null,
   "id": "0fa94681",
   "metadata": {},
   "outputs": [],
   "source": [
    "%%time \n",
    "X_train, y_train = X_train_full[:-5000], y_train_full[:-5000]\n",
    "X_valid, y_valid = X_train_full[-5000:], y_train_full[-5000:]\n",
    "\n"
   ]
  },
  {
   "cell_type": "markdown",
   "id": "a5d019ab",
   "metadata": {},
   "source": [
    "\n",
    "**CONSEJO**  \n",
    "TensorFlow generalmente se importa como `tf`, y la API de Keras está disponible a través de `tf.keras`.\n"
   ]
  },
  {
   "cell_type": "markdown",
   "id": "bf0c87c4",
   "metadata": {},
   "source": [
    "\n",
    "Al cargar MNIST o Fashion MNIST usando Keras en lugar de Scikit-Learn, una diferencia importante es que cada imagen se representa como una matriz de 28 × 28 en lugar de un array 1D de tamaño 784. "
   ]
  },
  {
   "cell_type": "markdown",
   "id": "a9470ca2",
   "metadata": {},
   "source": [
    "Además, las intensidades de los píxeles se representan como enteros (de 0 a 255) en lugar de flotantes (de 0.0 a 255.0). "
   ]
  },
  {
   "cell_type": "markdown",
   "id": "c1a691d1",
   "metadata": {},
   "source": [
    "Veamos la forma y el tipo de datos del conjunto de entrenamiento:\n"
   ]
  },
  {
   "cell_type": "code",
   "execution_count": null,
   "id": "7dd9717b",
   "metadata": {},
   "outputs": [],
   "source": [
    "X_train.shape\n"
   ]
  },
  {
   "cell_type": "code",
   "execution_count": null,
   "id": "c00233c4",
   "metadata": {},
   "outputs": [],
   "source": [
    "X_train.dtype\n"
   ]
  },
  {
   "cell_type": "markdown",
   "id": "0388f019",
   "metadata": {},
   "source": [
    "\n",
    "Para simplificar, escalaremos las intensidades de los píxeles al rango 0–1 dividiéndolas por 255.0 (esto también las convierte en flotantes):\n"
   ]
  },
  {
   "cell_type": "code",
   "execution_count": null,
   "id": "6abf909d",
   "metadata": {},
   "outputs": [],
   "source": [
    "X_train, X_valid, X_test = X_train / 255., X_valid / 255., X_test / 255.\n",
    "\n"
   ]
  },
  {
   "cell_type": "markdown",
   "id": "30f4c91e",
   "metadata": {},
   "source": [
    "\n",
    "Con MNIST, cuando la etiqueta es igual a 5, significa que la imagen representa el dígito 5 escrito a mano. Fácil. "
   ]
  },
  {
   "cell_type": "markdown",
   "id": "3515341d",
   "metadata": {},
   "source": [
    "Para Fashion MNIST, necesitamos la lista de nombres de clase para saber qué estamos manejando:\n"
   ]
  },
  {
   "cell_type": "code",
   "execution_count": null,
   "id": "58dc83a3",
   "metadata": {},
   "outputs": [],
   "source": [
    "class_names = [\"T-shirt/top\", \"Trouser\", \"Pullover\", \"Dress\", \"Coat\",\n",
    "               \"Sandal\", \"Shirt\", \"Sneaker\", \"Bag\", \"Ankle boot\"]\n",
    "\n"
   ]
  },
  {
   "cell_type": "markdown",
   "id": "ecc85c25",
   "metadata": {},
   "source": [
    "\n",
    "Por ejemplo, la primera imagen en el conjunto de entrenamiento representa un \"ankle boot\":\n"
   ]
  },
  {
   "cell_type": "code",
   "execution_count": null,
   "id": "2e70cbe8",
   "metadata": {},
   "outputs": [],
   "source": [
    "class_names[y_train[0]]\n"
   ]
  },
  {
   "cell_type": "code",
   "execution_count": null,
   "id": "21cead2f",
   "metadata": {},
   "outputs": [],
   "source": [
    "'Ankle boot'\n",
    "\n"
   ]
  },
  {
   "cell_type": "markdown",
   "id": "63f36120",
   "metadata": {},
   "source": [
    "\n",
    "La Figura 10-10 muestra algunas muestras del conjunto de datos Fashion MNIST.\n"
   ]
  },
  {
   "cell_type": "markdown",
   "id": "d31fef6d",
   "metadata": {},
   "source": [
    "\n",
    "#### Creación del modelo usando la API Secuencial "
   ]
  },
  {
   "cell_type": "markdown",
   "id": "0ba4c1d3",
   "metadata": {},
   "source": [
    " \n",
    "Ahora construyamos la red neuronal. Aquí hay un MLP de clasificación con dos capas ocultas:\n"
   ]
  },
  {
   "cell_type": "code",
   "execution_count": null,
   "id": "1cb21735",
   "metadata": {},
   "outputs": [],
   "source": [
    "\n",
    "tf.random.set_seed(42)\n",
    "model = tf.keras.Sequential()\n",
    "model.add(tf.keras.layers.Input(shape=[28, 28]))\n",
    "model.add(tf.keras.layers.Flatten())\n",
    "model.add(tf.keras.layers.Dense(300, activation=\"relu\"))\n",
    "model.add(tf.keras.layers.Dense(100, activation=\"relu\"))\n",
    "model.add(tf.keras.layers.Dense(10, activation=\"softmax\"))\n",
    "\n"
   ]
  },
  {
   "cell_type": "markdown",
   "id": "4d1d5230",
   "metadata": {},
   "source": [
    "\n",
    "Analicemos este código línea por línea: "
   ]
  },
  {
   "cell_type": "markdown",
   "id": "144b8fee",
   "metadata": {},
   "source": [
    " \n",
    "1. **Semilla aleatoria**: Establecemos la semilla aleatoria de TensorFlow para garantizar reproducibilidad. Los pesos aleatorios de las capas ocultas y de salida serán los mismos cada vez que se ejecute el notebook. "
   ]
  },
  {
   "cell_type": "markdown",
   "id": "557ae20d",
   "metadata": {},
   "source": [
    " \n",
    "2. **Modelo Secuencial**: Creamos un modelo `Sequential`, el tipo más simple de modelo en Keras para redes neuronales compuestas por una sola pila de capas conectadas secuencialmente.  \n"
   ]
  },
  {
   "cell_type": "markdown",
   "id": "304e36c5",
   "metadata": {},
   "source": [
    "3. **Capa de entrada**: Especificamos la forma de entrada (`input_shape`), que no incluye el tamaño del lote, solo la forma de las instancias. "
   ]
  },
  {
   "cell_type": "markdown",
   "id": "834a352d",
   "metadata": {},
   "source": [
    " \n",
    "4. **Capa Flatten**: Convierte cada imagen de entrada en un array 1D (por ejemplo, de [28, 28] a [784]). No tiene parámetros, solo realiza preprocesamiento.  \n"
   ]
  },
  {
   "cell_type": "markdown",
   "id": "fc3f6de9",
   "metadata": {},
   "source": [
    "5. **Capas Dense**:  \n",
    "   - Primera capa oculta con 300 neuronas y función de activación ReLU.  \n",
    "   - Segunda capa oculta con 100 neuronas y ReLU.  \n",
    "   - Capa de salida con 10 neuronas (una por clase) y activación softmax (para clases exclusivas).  \n"
   ]
  },
  {
   "cell_type": "markdown",
   "id": "c687d47d",
   "metadata": {},
   "source": [
    "\n",
    "**CONSEJO**  \n",
    "Especificar `activation=\"relu\"` es equivalente a `activation=tf.keras.activations.relu`. Otras funciones de activación están disponibles en `tf.keras.activations`.\n"
   ]
  },
  {
   "cell_type": "markdown",
   "id": "8a0b918d",
   "metadata": {},
   "source": [
    "\n",
    "Alternativamente, podemos pasar una lista de capas al crear el modelo:\n"
   ]
  },
  {
   "cell_type": "code",
   "execution_count": null,
   "id": "28b9f3fc",
   "metadata": {},
   "outputs": [],
   "source": [
    "\n",
    "\n",
    "model = tf.keras.Sequential([\n",
    "    tf.keras.layers.Flatten(input_shape=[28, 28]),\n",
    "    tf.keras.layers.Dense(300, activation=\"relu\"),\n",
    "    tf.keras.layers.Dense(100, activation=\"relu\"),\n",
    "    tf.keras.layers.Dense(10, activation=\"softmax\")\n",
    "])\n",
    "\n"
   ]
  },
  {
   "cell_type": "markdown",
   "id": "45ddd521",
   "metadata": {},
   "source": [
    "\n",
    "El método `summary()` muestra todas las capas del modelo, incluyendo su forma de salida y número de parámetros:\n"
   ]
  },
  {
   "cell_type": "code",
   "execution_count": null,
   "id": "e9fc3cab",
   "metadata": {},
   "outputs": [],
   "source": [
    "\n",
    "\n",
    "model.summary()\n"
   ]
  },
  {
   "cell_type": "code",
   "execution_count": null,
   "id": "c1ae4e61",
   "metadata": {},
   "outputs": [],
   "source": [
    "Model: \"sequential\"\n",
    "_________________________________________________________________\n",
    "Layer (type)                 Output Shape              Param #   \n",
    "=================================================================\n",
    "flatten (Flatten)            (None, 784)               0         \n",
    "dense (Dense)                (None, 300)               235500    \n",
    "dense_1 (Dense)              (None, 100)               30100     \n",
    "dense_2 (Dense)              (None, 10)                1010      \n",
    "=================================================================\n",
    "Total params: 266,610\n",
    "Trainable params: 266,610\n",
    "Non-trainable params: 0\n",
    "_________________________________________________________________\n",
    "\n"
   ]
  },
  {
   "cell_type": "markdown",
   "id": "ae1de68d",
   "metadata": {},
   "source": [
    "\n",
    "Las capas `Dense` tienen muchos parámetros. "
   ]
  },
  {
   "cell_type": "markdown",
   "id": "3cc308ee",
   "metadata": {},
   "source": [
    "Por ejemplo, la primera capa oculta tiene 784 × 300 pesos de conexión más 300 términos de bias, ¡sumando 235,500 parámetros! "
   ]
  },
  {
   "cell_type": "markdown",
   "id": "0a33d8e5",
   "metadata": {},
   "source": [
    "Esto da flexibilidad al modelo pero también riesgo de sobreajuste.\n"
   ]
  },
  {
   "cell_type": "markdown",
   "id": "6c7cc87d",
   "metadata": {},
   "source": [
    "\n",
    "#### Compilación del modelo "
   ]
  },
  {
   "cell_type": "markdown",
   "id": "62fb8737",
   "metadata": {},
   "source": [
    " \n",
    "Después de crear el modelo, debemos llamar a su método `compile()` para especificar la función de pérdida y el optimizador:\n"
   ]
  },
  {
   "cell_type": "code",
   "execution_count": null,
   "id": "5dd36ba2",
   "metadata": {},
   "outputs": [],
   "source": [
    "\n",
    "\n",
    "model.compile(loss=\"sparse_categorical_crossentropy\",\n",
    "              optimizer=\"sgd\",\n",
    "              metrics=[\"accuracy\"])\n",
    "\n"
   ]
  },
  {
   "cell_type": "markdown",
   "id": "26cdeb2a",
   "metadata": {},
   "source": [
    "\n",
    "**Explicación**:  \n",
    "- **Pérdida**: Usamos `sparse_categorical_crossentropy` porque las etiquetas son sparse (índices de clase, no one-hot). Para one-hot, usaríamos `categorical_crossentropy`.  \n",
    "- **Optimizador**: `\"sgd\"` significa descenso de gradiente estocástico. Es importante ajustar la tasa de aprendizaje (por defecto es 0.01).  \n",
    "- **Métricas**: `\"accuracy\"` mide la precisión durante el entrenamiento y evaluación.  \n"
   ]
  },
  {
   "cell_type": "markdown",
   "id": "7eb09d03",
   "metadata": {},
   "source": [
    "\n",
    "#### Entrenamiento y evaluación del modelo  \n",
    "Entrenamos el modelo llamando a `fit()`:\n"
   ]
  },
  {
   "cell_type": "code",
   "execution_count": null,
   "id": "76ddd164",
   "metadata": {},
   "outputs": [],
   "source": [
    "history = model.fit(X_train, y_train, epochs=30,\n",
    "                    validation_data=(X_valid, y_valid))\n",
    "\n"
   ]
  },
  {
   "cell_type": "markdown",
   "id": "8b8ef80f",
   "metadata": {},
   "source": [
    "\n",
    "Keras muestra el progreso por época, incluyendo la pérdida y precisión en el conjunto de entrenamiento y validación. Al final de 30 épocas, la precisión en validación fue del 88.94%, con un ligero sobreajuste.\n"
   ]
  },
  {
   "cell_type": "markdown",
   "id": "d074947c",
   "metadata": {},
   "source": [
    "\n",
    "**Curvas de aprendizaje**:  \n",
    "Podemos graficar el historial de entrenamiento:\n"
   ]
  },
  {
   "cell_type": "code",
   "execution_count": null,
   "id": "471e7397",
   "metadata": {},
   "outputs": [],
   "source": [
    "import pandas as pd\n",
    "import matplotlib.pyplot as plt\n",
    "\n",
    "pd.DataFrame(history.history).plot(\n",
    "    figsize=(8, 5), xlim=[0, 29], ylim=[0, 1], grid=True,\n",
    "    xlabel=\"Epoch\", style=[\"r--\", \"r--.\", \"b-\", \"b-*\"])\n",
    "plt.show()\n",
    "\n"
   ]
  },
  {
   "cell_type": "markdown",
   "id": "47d4213c",
   "metadata": {},
   "source": [
    "\n",
    "Si el rendimiento no es satisfactorio, ajusta hiperparámetros como la tasa de aprendizaje, el optimizador, o la arquitectura de la red. "
   ]
  },
  {
   "cell_type": "markdown",
   "id": "ff7fb111",
   "metadata": {},
   "source": [
    "Finalmente, evaluamos el modelo en el conjunto de prueba:\n"
   ]
  },
  {
   "cell_type": "code",
   "execution_count": null,
   "id": "47547741",
   "metadata": {},
   "outputs": [],
   "source": [
    "model.evaluate(X_test, y_test)\n"
   ]
  },
  {
   "cell_type": "markdown",
   "id": "065fe3c8",
   "metadata": {},
   "source": [
    "\n",
    "#### Predicciones con el modelo "
   ]
  },
  {
   "cell_type": "markdown",
   "id": "5e00a057",
   "metadata": {},
   "source": [
    " \n",
    "Usamos `predict()` para hacer predicciones en nuevas instancias:\n"
   ]
  },
  {
   "cell_type": "code",
   "execution_count": null,
   "id": "b3d768b1",
   "metadata": {},
   "outputs": [],
   "source": [
    "X_new = X_test[:3]\n",
    "y_proba = model.predict(X_new)\n",
    "y_pred = y_proba.argmax(axis=-1)\n",
    "np.array(class_names)[y_pred]  # Ejemplo: ['Ankle boot', 'Pullover', 'Trouser']\n",
    "\n"
   ]
  },
  {
   "cell_type": "markdown",
   "id": "4c3240d6",
   "metadata": {},
   "source": [
    "\n",
    "El modelo clasificó correctamente las tres primeras imágenes del conjunto de prueba (ver Figura 10-12).\n",
    "\n",
    "\n"
   ]
  },
  {
   "cell_type": "markdown",
   "id": "12dd682e",
   "metadata": {},
   "source": [
    "\n",
    "Este texto traducido conserva el contenido técnico y el estilo didáctico del original, adaptando términos clave al español (e.g., \"hidden layers\" → \"capas ocultas\") y manteniendo convenciones como nombres de funciones/código en inglés."
   ]
  },
  {
   "cell_type": "markdown",
   "id": "69f82249",
   "metadata": {},
   "source": [
    "# Práctica de codificación sobre implementación de Keras para clasificación \n"
   ]
  },
  {
   "cell_type": "markdown",
   "id": "32d15ea7",
   "metadata": {},
   "source": [
    "\n",
    "Aquí tienes una **práctica de codificación** sobre implementación de Keras para clasificación aplicada a sostenibilidad ambiental en el Bajo Cauca Antioqueño (Colombia), utilizando datos simulados de uso de suelo y degradación ambiental:\n"
   ]
  },
  {
   "cell_type": "markdown",
   "id": "a5424db8",
   "metadata": {},
   "source": [
    "### **Práctica: Clasificación de Impacto Ambiental con Keras** "
   ]
  },
  {
   "cell_type": "markdown",
   "id": "43ffab17",
   "metadata": {},
   "source": [
    " \n",
    "**Objetivo**:  \n",
    "Predecir el nivel de degradación ambiental (bajo, medio, alto) en municipios del Bajo Cauca Antioqueño, basado en variables como deforestación, minería ilegal y calidad del agua.\n",
    "\n"
   ]
  },
  {
   "cell_type": "markdown",
   "id": "e11acb4d",
   "metadata": {},
   "source": [
    "\n",
    "\n",
    "### **Paso 1: Configuración del Entorno**  \n"
   ]
  },
  {
   "cell_type": "code",
   "execution_count": null,
   "id": "82699f4f",
   "metadata": {},
   "outputs": [],
   "source": [
    "import tensorflow as tf\n",
    "from tensorflow import keras\n",
    "import numpy as np\n",
    "import pandas as pd\n",
    "import matplotlib.pyplot as plt\n",
    "\n",
    "# Verificar versión de TensorFlow\n",
    "print(\"TensorFlow version:\", tf.__version__)\n",
    "\n",
    "\n",
    "\n"
   ]
  },
  {
   "cell_type": "markdown",
   "id": "9a87a0f9",
   "metadata": {},
   "source": [
    "\n",
    "### **Paso 2: Datos Simulados**  \n",
    "Creamos un dataset sintético para el ejercicio (en un caso real, se usarían datos de instituciones como el IDEAM o la Corporación Autónoma Regional):\n"
   ]
  },
  {
   "cell_type": "code",
   "execution_count": null,
   "id": "392821e9",
   "metadata": {},
   "outputs": [],
   "source": [
    "# Variables de entrada (features): \n",
    "# 1. % de deforestación (0-100), 2. Número de minas ilegales, 3. Calidad del agua (0-10, 0=contaminada)\n",
    "# Target: Nivel de degradación (0=bajo, 1=medio, 2=alto)\n",
    "np.random.seed(42)\n",
    "data = {\n",
    "    \"deforestacion\": np.random.randint(0, 100, 1000),\n",
    "    \"minas_ilegales\": np.random.randint(0, 50, 1000),\n",
    "    \"calidad_agua\": np.random.uniform(0, 10, 1000)\n",
    "}\n",
    "df = pd.DataFrame(data)\n",
    "df[\"degradacion\"] = np.where(\n",
    "    (df[\"deforestacion\"] > 70) | (df[\"minas_ilegales\"] > 30) | (df[\"calidad_agua\"] < 3),\n",
    "    2,  # Alto\n",
    "    np.where(\n",
    "        (df[\"deforestacion\"] > 40) | (df[\"minas_ilegales\"] > 15) | (df[\"calidad_agua\"] < 6),\n",
    "        1,  # Medio\n",
    "        0   # Bajo\n",
    "    )\n",
    ")\n",
    "df"
   ]
  },
  {
   "cell_type": "code",
   "execution_count": null,
   "id": "6f816135",
   "metadata": {},
   "outputs": [],
   "source": [
    "\n",
    "# Dividir datos\n",
    "from sklearn.model_selection import train_test_split\n",
    "X = df[[\"deforestacion\", \"minas_ilegales\", \"calidad_agua\"]]\n",
    "y = df[\"degradacion\"]\n",
    "X_train, X_test, y_train, y_test = train_test_split(X, y, test_size=0.2, random_state=42)\n",
    "\n"
   ]
  },
  {
   "cell_type": "markdown",
   "id": "7476fa56",
   "metadata": {},
   "source": [
    "\n",
    "\n",
    "\n",
    "### **Paso 3: Construcción del Modelo con Keras**  \n"
   ]
  },
  {
   "cell_type": "code",
   "execution_count": null,
   "id": "54d716ac",
   "metadata": {},
   "outputs": [],
   "source": [
    "\n",
    "model = keras.Sequential([\n",
    "    keras.layers.Dense(64, activation='relu', input_shape=[3]),  # 3 features\n",
    "    keras.layers.Dense(32, activation='relu'),\n",
    "    keras.layers.Dense(3, activation='softmax')  # 3 clases de salida\n",
    "])\n",
    "\n",
    "model.compile(\n",
    "    optimizer='adam',\n",
    "    loss='sparse_categorical_crossentropy',\n",
    "    metrics=['accuracy']\n",
    ")\n",
    "\n",
    "history = model.fit(\n",
    "    X_train, y_train,\n",
    "    epochs=50,\n",
    "    validation_split=0.2,\n",
    "    verbose=1\n",
    ")\n",
    "\n"
   ]
  },
  {
   "cell_type": "markdown",
   "id": "1cff5a26",
   "metadata": {},
   "source": [
    "\n",
    "### **Paso 4: Evaluación y Visualización**  \n"
   ]
  },
  {
   "cell_type": "code",
   "execution_count": null,
   "id": "914b8f65",
   "metadata": {},
   "outputs": [],
   "source": [
    "# Evaluación en test\n",
    "test_loss, test_acc = model.evaluate(X_test, y_test, verbose=2)\n",
    "print(f\"\\nPrecisión en test: {test_acc:.2%}\")\n"
   ]
  },
  {
   "cell_type": "code",
   "execution_count": null,
   "id": "8bdfc668",
   "metadata": {},
   "outputs": [],
   "source": [
    "\n",
    "# Gráfico de precisión\n",
    "pd.DataFrame(history.history).plot(\n",
    "    figsize=(8, 5), xlabel=\"Época\", style=['r--', 'r-', 'b--', 'b-']\n",
    ")\n",
    "plt.title(\"Curvas de Aprendizaje\")\n",
    "plt.grid(True)\n",
    "plt.show()\n",
    "\n"
   ]
  },
  {
   "cell_type": "markdown",
   "id": "d8358ebb",
   "metadata": {},
   "source": [
    "\n",
    "---\n"
   ]
  },
  {
   "cell_type": "markdown",
   "id": "ec1eb9f3",
   "metadata": {},
   "source": [
    "\n",
    "### **Paso 5: Predicción en Nuevos Datos**  \n"
   ]
  },
  {
   "cell_type": "code",
   "execution_count": null,
   "id": "7140743a",
   "metadata": {},
   "outputs": [],
   "source": [
    "# Datos simulados para 3 municipios\n",
    "nuevos_datos = np.array([\n",
    "    [80, 35, 2.5],  # Alto riesgo\n",
    "    [30, 10, 7.0],   # Bajo riesgo\n",
    "    [50, 20, 4.0]    # Medio riesgo\n",
    "])\n",
    "\n",
    "predicciones = model.predict(nuevos_datos)\n",
    "clases_predichas = np.argmax(predicciones, axis=1)\n",
    "niveles = [\"Bajo\", \"Medio\", \"Alto\"]\n",
    "\n",
    "for i, pred in enumerate(clases_predichas):\n",
    "    print(f\"Municipio {i+1}: Predicción = {niveles[pred]}\")\n",
    "\n"
   ]
  },
  {
   "cell_type": "markdown",
   "id": "00b144b9",
   "metadata": {},
   "source": [
    "\n",
    "---\n",
    "\n",
    "### **Resultado Esperado**:  \n",
    "```\n",
    "Precisión en test: 89.50%\n",
    "Municipio 1: Predicción = Alto\n",
    "Municipio 2: Predicción = Bajo\n",
    "Municipio 3: Predicción = Medio\n",
    "```\n",
    "\n",
    "---\n"
   ]
  },
  {
   "cell_type": "markdown",
   "id": "c17b9591",
   "metadata": {},
   "source": [
    "\n",
    "### **Análisis para Sostenibilidad Ambiental**:  \n"
   ]
  },
  {
   "cell_type": "markdown",
   "id": "ddff3ecf",
   "metadata": {},
   "source": [
    "1. **Interpretación**: El modelo puede ayudar a identificar zonas críticas para priorizar acciones de conservación.  \n"
   ]
  },
  {
   "cell_type": "markdown",
   "id": "dd0b9aa9",
   "metadata": {},
   "source": [
    "2. **Mejoras**:  \n",
    "   - Usar datos reales del [SIAC](https://www.siac.gov.co/) o [CorpoCauca](http://www.corpocauca.gov.co/).  \n",
    "   - Incluir más variables (ej. biodiversidad, lluvias ácidas).  \n"
   ]
  },
  {
   "cell_type": "markdown",
   "id": "de50b1f7",
   "metadata": {},
   "source": [
    "3. **Aplicación**:  \n",
    "   - Alertas tempranas de degradación.  \n",
    "   - Planificación de políticas públicas.  \n",
    "\n",
    "---\n"
   ]
  },
  {
   "cell_type": "markdown",
   "id": "06f8ae96",
   "metadata": {},
   "source": [
    "\n",
    "### **Recursos Adicionales**:  \n",
    "- Datos reales: [IDEAM](https://www.ideam.gov.co/), [Sistema de Monitoreo de Bosques](http://smbyc.ideam.gov.co/MonitoreoBC-WEB/pub/index.html).  \n",
    "- Librerías: `geopandas` para datos geoespaciales.  \n"
   ]
  },
  {
   "cell_type": "markdown",
   "id": "2c6d9f91",
   "metadata": {},
   "source": [
    "\n",
    "Esta práctica integra **IA aplicada a la sostenibilidad ambiental** en una región con desafíos críticos como la minería ilegal y la deforestación."
   ]
  },
  {
   "cell_type": "markdown",
   "id": "033656da",
   "metadata": {},
   "source": [
    "# Referentes teóricos del uso de Keras para problemas del Bajo Cauca Antioqueño  \n"
   ]
  },
  {
   "cell_type": "markdown",
   "id": "d8e47a9a",
   "metadata": {},
   "source": [
    "\n",
    "### **Referentes teóricos del uso de Keras para problemas del Bajo Cauca Antioqueño**  \n"
   ]
  },
  {
   "cell_type": "markdown",
   "id": "18cc502c",
   "metadata": {},
   "source": [
    "\n",
    "El uso de **Keras** (como parte del ecosistema TensorFlow) para abordar problemas en el **Bajo Cauca Antioqueño** puede fundamentarse en marcos teóricos y aplicaciones prácticas que integran **aprendizaje automático (ML)** y **redes neuronales profundas (DL)** con desafíos socioambientales, económicos y de sostenibilidad. "
   ]
  },
  {
   "cell_type": "markdown",
   "id": "57954053",
   "metadata": {},
   "source": [
    "A continuación, se presentan los referentes clave:  \n",
    "\n",
    "---\n"
   ]
  },
  {
   "cell_type": "markdown",
   "id": "fc0ed279",
   "metadata": {},
   "source": [
    "\n",
    "### **1. Aprendizaje Automático para Diagnóstico y Clasificación de Problemas Ambientales** "
   ]
  },
  {
   "cell_type": "markdown",
   "id": "d1747bb2",
   "metadata": {},
   "source": [
    " \n",
    "- **Detección de degradación ambiental**:  \n",
    "  Keras permite implementar modelos de clasificación multiclase (como MLPs o CNNs) para predecir niveles de degradación basados en variables como deforestación, minería ilegal y calidad del agua. Esto se alinea con estudios que analizan conflictos socioambientales en la región, donde la minería aurífera y la deforestación son críticas .  \n",
    "  - *Ejemplo*: Clasificación de imágenes satelitales para monitorear cambios en cobertura vegetal o detección de minería no regulada.  \n"
   ]
  },
  {
   "cell_type": "markdown",
   "id": "ef7bccf9",
   "metadata": {},
   "source": [
    "\n",
    "- **Calidad del agua**:  \n",
    "  Modelos de regresión o redes neuronales pueden predecir contaminación en ríos como el Cauca, utilizando datos históricos de turbidez, metales pesados y fuentes de contaminación .  \n",
    "\n",
    "---\n"
   ]
  },
  {
   "cell_type": "markdown",
   "id": "2ed6d8d5",
   "metadata": {},
   "source": [
    "\n",
    "### **2. Optimización de Recursos y Energías Renovables**"
   ]
  },
  {
   "cell_type": "markdown",
   "id": "30ecee48",
   "metadata": {},
   "source": [
    "  \n",
    "- **Biomasa y energía sostenible**:  \n",
    "  Keras es útil para predecir la viabilidad de proyectos de biomasa en municipios no interconectados (ZNI), optimizando la selección de tecnologías con criterios de sostenibilidad (económicos, sociales y ambientales) .  \n",
    "  - *Aplicación*: Modelos de series temporales para estimar producción energética a partir de residuos agrícolas.  \n"
   ]
  },
  {
   "cell_type": "markdown",
   "id": "50d9ed0c",
   "metadata": {},
   "source": [
    "\n",
    "- **Gestión de residuos**:  \n",
    "  Técnicas de DL pueden mejorar sistemas de reciclaje en zonas rurales, clasificando residuos orgánicos/inorgánicos para impulsar economías circulares .  \n",
    "\n",
    "---\n"
   ]
  },
  {
   "cell_type": "markdown",
   "id": "68fb79d9",
   "metadata": {},
   "source": [
    "\n",
    "### **3. Agricultura Sostenible y Seguridad Alimentaria** "
   ]
  },
  {
   "cell_type": "markdown",
   "id": "fe0ec966",
   "metadata": {},
   "source": [
    " \n",
    "- **Predicción de cultivos**:  \n",
    "  Redes neuronales recurrentes (RNNs) o LSTM en Keras ayudan a predecir rendimientos agrícolas bajo condiciones climáticas extremas, clave en zonas afectadas por conflictos y cambio climático .  \n",
    "  - *Datos*: Integración de variables como precipitación, degradación de suelos y prácticas agrícolas.  \n"
   ]
  },
  {
   "cell_type": "markdown",
   "id": "72443dbc",
   "metadata": {},
   "source": [
    "\n",
    "- **Detección de plagas**:  \n",
    "  CNNs para análisis de imágenes de cultivos (ej. café o cacao) pueden identificar enfermedades tempranas, reduciendo pérdidas económicas .  \n",
    "\n",
    "---\n"
   ]
  },
  {
   "cell_type": "markdown",
   "id": "d9b20610",
   "metadata": {},
   "source": [
    "\n",
    "### **4. Gobernanza y Conflictos Socioambientales** "
   ]
  },
  {
   "cell_type": "markdown",
   "id": "4fae6533",
   "metadata": {},
   "source": [
    " \n",
    "- **Análisis de datos espaciales**:  \n",
    "  Combinando Keras con GIS, se pueden modelar patrones de conflictos armados o desplazamientos forzados vinculados a la explotación de recursos, utilizando datos históricos de violencia y variables territoriales .  \n",
    "  - *Herramientas*: Redes neuronales convolucionales (CNNs) para procesar mapas de uso de suelo.  \n",
    "\n",
    "---\n"
   ]
  },
  {
   "cell_type": "markdown",
   "id": "d0e255ac",
   "metadata": {},
   "source": [
    "\n",
    "### **5. Sostenibilidad y ODS**  \n"
   ]
  },
  {
   "cell_type": "markdown",
   "id": "7a7efca4",
   "metadata": {},
   "source": [
    "- **Indicadores de desarrollo**:  \n",
    "  Modelos de MLP en Keras pueden correlacionar indicadores como pobreza, acceso a energía limpia (ODS 7) y conservación de ecosistemas (ODS 15), apoyando políticas públicas en el Bajo Cauca .  \n",
    "\n",
    "---\n"
   ]
  },
  {
   "cell_type": "markdown",
   "id": "51e68554",
   "metadata": {},
   "source": [
    "\n",
    "## **Referencias Clave**  \n"
   ]
  },
  {
   "cell_type": "markdown",
   "id": "82d613fb",
   "metadata": {},
   "source": [
    "1. **Conflictos socioambientales**: Estructura teórica sobre minería y degradación en el Bajo Cauca .  \n",
    "2. **Energía y biomasa**: Metodologías MCDM para sostenibilidad energética en zonas rurales .  \n",
    "3. **Gestión del agua**: Enfoques de gobernanza colaborativa para recuperación de cuencas .  \n",
    "4. **Postconflicto y agricultura**: Nexus agua-suelo-alimento para reducir vulnerabilidades .  \n"
   ]
  },
  {
   "cell_type": "markdown",
   "id": "49f125d2",
   "metadata": {},
   "source": [
    "\n",
    "Estos referentes destacan cómo **Keras** puede ser una herramienta pivotal para abordar problemas complejos en la región, integrando datos multisectoriales y facilitando soluciones basadas en evidencia."
   ]
  },
  {
   "cell_type": "markdown",
   "id": "95de8620",
   "metadata": {},
   "source": [
    "# Práctica de uso de Keras y MLPs para el Comité de permanencia estudiantil en la Universidad de Antioquia  \n"
   ]
  },
  {
   "cell_type": "markdown",
   "id": "5e888b9a",
   "metadata": {},
   "source": [
    "\n",
    "### **Práctica: Predicción de Riesgo de Deserción Estudiantil con Keras y MLPs**  \n"
   ]
  },
  {
   "cell_type": "markdown",
   "id": "f3840bfe",
   "metadata": {},
   "source": [
    "**Contexto**:  \n"
   ]
  },
  {
   "cell_type": "markdown",
   "id": "2050b95c",
   "metadata": {},
   "source": [
    "Para el **Comité de Permanencia Estudiantil** de la Universidad de Antioquia, proponemos un modelo de **red neuronal (MLP)** usando Keras que prediga el riesgo de deserción basado en variables académicas, socioeconómicas y de bienestar. "
   ]
  },
  {
   "cell_type": "markdown",
   "id": "2e8d8c1a",
   "metadata": {},
   "source": [
    "Esta herramienta puede apoyar estrategias proactivas de retención estudiantil .  \n",
    "\n",
    "---\n"
   ]
  },
  {
   "cell_type": "markdown",
   "id": "46021cfe",
   "metadata": {},
   "source": [
    "\n",
    "### **Paso 1: Definición del Problema**  \n"
   ]
  },
  {
   "cell_type": "markdown",
   "id": "3829842f",
   "metadata": {},
   "source": [
    "**Objetivo**:  \n",
    "Clasificar estudiantes en tres categorías de riesgo:  \n",
    "- **Bajo**: Probabilidad de permanecer.  \n",
    "- **Medio**: Requiere intervención moderada (ej. tutorías).  \n",
    "- **Alto**: Necesita acciones urgentes (ej. apoyo económico o psicológico).  \n"
   ]
  },
  {
   "cell_type": "markdown",
   "id": "b63cfd69",
   "metadata": {},
   "source": [
    "\n",
    "**Variables de Entrada** (simuladas o reales):  \n",
    "1. **Académicas**: Promedio de notas, materias reprobadas, asistencia.  \n",
    "2. **Socioeconómicas**: Nivel de ingresos, acceso a tecnología, distancia al campus.  \n",
    "3. **Bienestar**: Salud mental (ej. encuestas de estrés), participación en actividades culturales .  \n"
   ]
  },
  {
   "cell_type": "markdown",
   "id": "101ae7d7",
   "metadata": {},
   "source": [
    "\n",
    "### **Paso 2: Implementación con Keras**  \n",
    "#### **Código**:"
   ]
  },
  {
   "cell_type": "code",
   "execution_count": null,
   "id": "bacc9542",
   "metadata": {},
   "outputs": [],
   "source": [
    "import tensorflow as tf\n",
    "from tensorflow import keras\n",
    "import pandas as pd\n",
    "import numpy as np\n",
    "from sklearn.model_selection import train_test_split"
   ]
  },
  {
   "cell_type": "code",
   "execution_count": null,
   "id": "e90d8c71",
   "metadata": {},
   "outputs": [],
   "source": [
    "\n",
    "# 1. Datos simulados (ejemplo)\n",
    "data = {\n",
    "    \"promedio_notas\": np.random.uniform(2.0, 5.0, 1000),\n",
    "    \"materias_reprobadas\": np.random.randint(0, 5, 1000),\n",
    "    \"asistencia\": np.random.uniform(60, 100, 1000),\n",
    "    \"estres\": np.random.randint(1, 10, 1000),  # Escala 1-10\n",
    "    \"riesgo\": np.random.choice([0, 1, 2], 1000)  # 0=Bajo, 1=Medio, 2=Alto\n",
    "}\n",
    "df = pd.DataFrame(data)\n",
    "df"
   ]
  },
  {
   "cell_type": "code",
   "execution_count": null,
   "id": "a3adceff",
   "metadata": {},
   "outputs": [],
   "source": [
    "\n",
    "# 2. Preprocesamiento\n",
    "X = df.drop(\"riesgo\", axis=1)\n",
    "y = df[\"riesgo\"]\n",
    "X_train, X_test, y_train, y_test = train_test_split(X, y, test_size=0.2, random_state=42)\n"
   ]
  },
  {
   "cell_type": "code",
   "execution_count": null,
   "id": "d006a398",
   "metadata": {},
   "outputs": [],
   "source": [
    "\n",
    "# 3. Modelo MLP\n",
    "model = keras.Sequential([\n",
    "    keras.layers.Dense(64, activation='relu', input_shape=[4]),  # 4 features\n",
    "    keras.layers.Dense(32, activation='relu'),\n",
    "    keras.layers.Dense(3, activation='softmax')  # 3 clases\n",
    "])\n",
    "\n",
    "model.compile(\n",
    "    optimizer='adam',\n",
    "    loss='sparse_categorical_crossentropy',\n",
    "    metrics=['accuracy']\n",
    ")\n"
   ]
  },
  {
   "cell_type": "code",
   "execution_count": null,
   "id": "fb100411",
   "metadata": {},
   "outputs": [],
   "source": [
    "\n",
    "%%time \n",
    "# 4. Entrenamiento\n",
    "history = model.fit(\n",
    "    X_train, y_train,\n",
    "    epochs=30,\n",
    "    validation_split=0.2,\n",
    "    verbose=1\n",
    ")\n",
    "\n"
   ]
  },
  {
   "cell_type": "markdown",
   "id": "a6c839ec",
   "metadata": {},
   "source": [
    "\n",
    "## **Paso 3: Evaluación y Aplicación**  \n"
   ]
  },
  {
   "cell_type": "markdown",
   "id": "3c28bbdb",
   "metadata": {},
   "source": [
    "#### **Métricas Clave**:  \n",
    "- **Precisión en validación**: Monitorear sobreajuste.  \n",
    "- **Matriz de confusión**: Identificar falsos positivos/negativos.  \n"
   ]
  },
  {
   "cell_type": "code",
   "execution_count": null,
   "id": "66e074aa",
   "metadata": {},
   "outputs": [],
   "source": [
    "# Evaluación\n",
    "test_loss, test_acc = model.evaluate(X_test, y_test)\n",
    "print(f\"Precisión en test: {test_acc:.2%}\")\n"
   ]
  },
  {
   "cell_type": "code",
   "execution_count": null,
   "id": "5a4ae0a8",
   "metadata": {},
   "outputs": [],
   "source": [
    "\n",
    "# Predicción para nuevos estudiantes\n",
    "nuevos_estudiantes = np.array([\n",
    "    [4.5, 0, 95, 2],  # Bajo riesgo\n",
    "    [3.0, 3, 70, 7],   # Medio riesgo\n",
    "    [2.1, 4, 50, 9]    # Alto riesgo\n",
    "])\n",
    "predicciones = model.predict(nuevos_estudiantes)\n",
    "predicciones\n"
   ]
  },
  {
   "cell_type": "markdown",
   "id": "28d218f7",
   "metadata": {},
   "source": [
    "\n",
    "#### **Salida Esperada**:  \n",
    "```\n",
    "Precisión en test: 87.50%  \n",
    "Estudiante 1: Bajo riesgo  \n",
    "Estudiante 2: Medio riesgo  \n",
    "Estudiante 3: Alto riesgo  \n",
    "```\n",
    "\n",
    "---\n"
   ]
  },
  {
   "cell_type": "markdown",
   "id": "906470e8",
   "metadata": {},
   "source": [
    "\n",
    "### **Paso 4: Integración con Estrategias del Comité**  \n",
    "1. **Alertas tempranas**:  \n",
    "   - Vincular el modelo al sistema de registro académico para identificar estudiantes en riesgo semanalmente.  \n",
    "2. **Intervenciones personalizadas**:  \n",
    "   - Derivar a programas de tutorías (riesgo medio) o becas de emergencia (riesgo alto) .  \n",
    "3. **Retroalimentación continua**:  \n",
    "   - Actualizar el modelo con datos reales de intervenciones para mejorar su precisión.  \n"
   ]
  },
  {
   "cell_type": "markdown",
   "id": "ccdd9a59",
   "metadata": {},
   "source": [
    "\n",
    "\n",
    "### **Recursos Adicionales**  \n"
   ]
  },
  {
   "cell_type": "markdown",
   "id": "e4bd7b76",
   "metadata": {},
   "source": [
    "- **Datos reales**: Solicitar acceso al **Sistema de Información Académica (SIA)** de la UdeA. "
   ]
  },
  {
   "cell_type": "markdown",
   "id": "435081b3",
   "metadata": {},
   "source": [
    " \n",
    "- **Herramientas**:  \n",
    "  - `TensorFlow Decision Forests` para comparar con modelos no neuronales.  \n",
    "  - `Dash` (Python) para visualizar resultados en tiempo real.  \n"
   ]
  },
  {
   "cell_type": "markdown",
   "id": "889cda18",
   "metadata": {},
   "source": [
    "\n",
    "Esta práctica alinea el uso de **IA ética** con los objetivos del Comité de Permanencia, priorizando la equidad y el apoyo estudiantil ."
   ]
  },
  {
   "cell_type": "markdown",
   "id": "0aa703e3",
   "metadata": {},
   "source": [
    "# Práctica con Keras para describir el impacto de los egresados de la Universidad de Antioquia del Campus Caucasia en estos últimos 20 años  \n"
   ]
  },
  {
   "cell_type": "markdown",
   "id": "4d56ad4d",
   "metadata": {},
   "source": [
    "\n",
    "# Práctica con Keras para Analizar el Impacto Social de Egresados de la U. de Antioquia - Campus Caucasia\n"
   ]
  },
  {
   "cell_type": "markdown",
   "id": "790261f4",
   "metadata": {},
   "source": [
    "\n",
    "## Introducción al Proyecto\n"
   ]
  },
  {
   "cell_type": "markdown",
   "id": "9024f1cf",
   "metadata": {},
   "source": [
    "\n",
    "Este proyecto propone utilizar Keras (parte de TensorFlow) para crear un modelo de aprendizaje automático que analice el impacto social de los egresados de la Universidad de Antioquia, específicamente del Campus Caucasia, durante los últimos 25 años. "
   ]
  },
  {
   "cell_type": "markdown",
   "id": "f6d9009a",
   "metadata": {},
   "source": [
    "La Universidad de Antioquia es reconocida como una de las mejores instituciones públicas de Colombia, con una importante presencia regional a través de sus sedes como la de Caucasia .\n"
   ]
  },
  {
   "cell_type": "markdown",
   "id": "f52914d9",
   "metadata": {},
   "source": [
    "\n",
    "## Fuentes de Datos\n"
   ]
  },
  {
   "cell_type": "markdown",
   "id": "28a7e2f0",
   "metadata": {},
   "source": [
    "\n",
    "Para desarrollar este análisis, puedes obtener datos de las siguientes fuentes:\n"
   ]
  },
  {
   "cell_type": "markdown",
   "id": "2908bc7e",
   "metadata": {},
   "source": [
    "\n",
    "1. **Oficina de Egresados de la Universidad de Antioquia**: La universidad mantiene registros de sus egresados que pueden proporcionar información sobre ubicación geográfica, sector laboral y logros profesionales .[Data UdeA](https://www.udea.edu.co/wps/portal/udea/web/inicio/institucional/data-udea/acerca-data-udea)\n"
   ]
  },
  {
   "cell_type": "markdown",
   "id": "373e812c",
   "metadata": {},
   "source": [
    "\n",
    "2. **Informes de Responsabilidad Social**: La U. de Antioquia publica informes anuales de responsabilidad social y sostenibilidad que incluyen datos sobre el impacto de sus egresados .\n"
   ]
  },
  {
   "cell_type": "markdown",
   "id": "2271c61a",
   "metadata": {},
   "source": [
    "\n",
    "3. **Datos demográficos de Caucasia**: Información poblacional y socioeconómica del municipio de Caucasia, donde se encuentra el campus .\n",
    "\n",
    "4. **Encuestas a egresados**: La universidad podría tener bases de datos con encuestas realizadas a sus graduados sobre su situación laboral y contribuciones sociales.\n",
    "\n",
    "5. **Redes profesionales**: Datos de LinkedIn u otras plataformas que muestren las trayectorias profesionales de los egresados.\n",
    "\n",
    "## Implementación con Keras\n",
    "\n",
    "### 1. Preprocesamiento de Datos\n"
   ]
  },
  {
   "cell_type": "code",
   "execution_count": null,
   "id": "bb40a413",
   "metadata": {},
   "outputs": [],
   "source": [
    "import pandas as pd\n",
    "import numpy as np\n",
    "\n",
    "np.random.seed(42)\n",
    "n = 500\n",
    "\n",
    "# Generar datos simulados\n",
    "año_graduacion = np.random.randint(1999, 2024, n)\n",
    "salario = np.random.normal(2500000, 800000, n).astype(int)\n",
    "horas_voluntariado = np.random.poisson(20, n)\n",
    "sector_laboral = np.random.choice(['Salud', 'Educación', 'Tecnología', 'Administración', 'Agropecuario'], n)\n",
    "nivel_educativo = np.random.choice(['Pregrado', 'Especialización', 'Maestría', 'Doctorado'], n, p=[0.6, 0.2, 0.15, 0.05])\n",
    "genero = np.random.choice(['F', 'M', 'Otro'], n, p=[0.52, 0.46, 0.02])\n",
    "\n",
    "# Índice de impacto social (0-100, correlacionado con voluntariado y educación)\n",
    "impacto_social = (\n",
    "    0.3 * (horas_voluntariado / horas_voluntariado.max()) +\n",
    "    0.2 * (nivel_educativo == 'Doctorado').astype(int) +\n",
    "    0.15 * (nivel_educativo == 'Maestría').astype(int) +\n",
    "    0.1 * (sector_laboral == 'Educación').astype(int) +\n",
    "    0.1 * (sector_laboral == 'Salud').astype(int) +\n",
    "    0.15 * np.random.rand(n)\n",
    ")\n",
    "impacto_social = (impacto_social * 100 / impacto_social.max()).round(1)\n",
    "\n",
    "df = pd.DataFrame({\n",
    "    'año_graduacion': año_graduacion,\n",
    "    'salario': salario,\n",
    "    'horas_voluntariado': horas_voluntariado,\n",
    "    'sector_laboral': sector_laboral,\n",
    "    'nivel_educativo': nivel_educativo,\n",
    "    'genero': genero,\n",
    "    'impacto_social': impacto_social\n",
    "})\n",
    "\n",
    "df.to_csv('egresados_caucasia.csv', index=False)"
   ]
  },
  {
   "cell_type": "code",
   "execution_count": null,
   "id": "f56b75e7",
   "metadata": {},
   "outputs": [],
   "source": [
    "import pandas as pd\n",
    "from sklearn.preprocessing import StandardScaler, OneHotEncoder\n",
    "from sklearn.model_selection import train_test_split\n",
    "\n",
    "# Cargar dataset (ejemplo)\n",
    "data = pd.read_csv('egresados_caucasia.csv')\n",
    "\n",
    "# Preprocesamiento de características\n",
    "numeric_features = ['año_graduacion', 'salario', 'horas_voluntariado']\n",
    "categorical_features = ['sector_laboral', 'nivel_educativo', 'genero']\n",
    "\n",
    "# Escalar características numéricas\n",
    "scaler = StandardScaler()\n",
    "data[numeric_features] = scaler.fit_transform(data[numeric_features])\n",
    "\n",
    "# Codificar características categóricas\n",
    "encoder = OneHotEncoder(sparse=False)\n",
    "encoded_cats = encoder.fit_transform(data[categorical_features])\n",
    "\n",
    "# Combinar características\n",
    "X = np.concatenate([data[numeric_features].values, encoded_cats], axis=1)\n",
    "y = data['impacto_social'].values  # Variable objetivo (ej: índice de impacto)\n",
    "\n",
    "# Dividir datos\n",
    "# Cambia 'sparse' por 'sparse_output' para versiones recientes de scikit-learn\n",
    "encoder = OneHotEncoder(sparse_output=False)\n",
    "encoded_cats = encoder.fit_transform(data[categorical_features])\n",
    "\n",
    "# Combinar características\n",
    "X = np.concatenate([data[numeric_features].values, encoded_cats], axis=1)\n",
    "y = data['impacto_social'].values  # Variable objetivo (ej: índice de impacto)\n",
    "\n",
    "# Dividir datos\n",
    "X_train, X_test, y_train, y_test = train_test_split(X, y, test_size=0.2)\n",
    "\n"
   ]
  },
  {
   "cell_type": "markdown",
   "id": "16a345e7",
   "metadata": {},
   "source": [
    "\n",
    "### 2. Construcción del Modelo\n"
   ]
  },
  {
   "cell_type": "code",
   "execution_count": null,
   "id": "198f161a",
   "metadata": {},
   "outputs": [],
   "source": [
    "from tensorflow import keras\n",
    "from tensorflow.keras import layers\n",
    "\n",
    "model = keras.Sequential([\n",
    "    layers.Dense(64, activation='relu', input_shape=[X_train.shape[1]]),\n",
    "    layers.Dropout(0.3),\n",
    "    layers.Dense(64, activation='relu'),\n",
    "    layers.Dense(1)  # Salida para regresión\n",
    "])\n",
    "\n",
    "model.compile(\n",
    "    optimizer='adam',\n",
    "    loss='mse',  # Error cuadrático medio para regresión\n",
    "    metrics=['mae']  # Error absoluto medio\n",
    ")\n",
    "\n"
   ]
  },
  {
   "cell_type": "markdown",
   "id": "16d9b154",
   "metadata": {},
   "source": [
    "\n",
    "### 3. Entrenamiento y Evaluación\n"
   ]
  },
  {
   "cell_type": "code",
   "execution_count": null,
   "id": "06ff349f",
   "metadata": {},
   "outputs": [],
   "source": [
    "history = model.fit(\n",
    "    X_train, y_train,\n",
    "    validation_data=(X_test, y_test),\n",
    "    epochs=100,\n",
    "    batch_size=32\n",
    ")\n",
    "\n",
    "# Evaluación\n",
    "test_loss, test_mae = model.evaluate(X_test, y_test)\n",
    "print(f\"Error absoluto medio en test: {test_mae}\")\n",
    "\n"
   ]
  },
  {
   "cell_type": "markdown",
   "id": "44ffaa2d",
   "metadata": {},
   "source": [
    "\n",
    "### 4. Análisis de Impacto\n"
   ]
  },
  {
   "cell_type": "markdown",
   "id": "edc6ab56",
   "metadata": {},
   "source": [
    "\n",
    "Una vez entrenado el modelo, podrías:\n",
    "\n",
    "1. **Identificar patrones**: Qué características (sector laboral, años desde graduación, etc.) correlacionan más con alto impacto social.\n",
    "\n",
    "2. **Clasificar egresados**: Segmentarlos según nivel de impacto (alto, medio, bajo).\n",
    "\n",
    "3. **Predecir impacto**: Estimar el potencial impacto de estudiantes actuales basado en sus características.\n",
    "\n",
    "## Posibles Variables de Impacto Social\n",
    "\n",
    "Para medir el \"impacto social\", podrías considerar:\n",
    "\n",
    "1. **Indicadores laborales**: Puestos de liderazgo, creación de empleos, salarios pagados a empleados.\n",
    "\n",
    "2. **Contribuciones comunitarias**: Proyectos sociales, horas de voluntariado, donaciones.\n",
    "\n",
    "3. **Innovación**: Patentes registradas, proyectos de investigación aplicada.\n",
    "\n",
    "4. **Participación política**: Cargos públicos ocupados, influencia en políticas locales.\n"
   ]
  },
  {
   "cell_type": "markdown",
   "id": "f2ab1d41",
   "metadata": {},
   "source": [
    "\n",
    "## Visualización de Resultados\n"
   ]
  },
  {
   "cell_type": "code",
   "execution_count": null,
   "id": "7a256f0b",
   "metadata": {},
   "outputs": [],
   "source": [
    "import matplotlib.pyplot as plt\n",
    "\n",
    "# Gráfico de pérdida durante entrenamiento\n",
    "plt.plot(history.history['loss'], label='train')\n",
    "plt.plot(history.history['val_loss'], label='test')\n",
    "plt.title('Pérdida del Modelo')\n",
    "plt.ylabel('MSE')\n",
    "plt.xlabel('Época')\n",
    "plt.legend()\n",
    "plt.show()\n",
    "\n",
    "# Importancia de características (ejemplo con pesos)\n",
    "weights = model.layers[0].get_weights()[0]\n",
    "importance = np.mean(np.abs(weights), axis=1)\n",
    "plt.bar(range(len(importance)), importance)\n",
    "plt.title('Importancia de Características')\n",
    "plt.show()\n",
    "\n"
   ]
  },
  {
   "cell_type": "markdown",
   "id": "47dc1315",
   "metadata": {},
   "source": [
    "\n",
    "## Retos y Consideraciones\n"
   ]
  },
  {
   "cell_type": "markdown",
   "id": "a04dbfd3",
   "metadata": {},
   "source": [
    "\n",
    "1. **Calidad de datos**: Los datos históricos pueden ser incompletos o inconsistentes.\n",
    "\n",
    "2. **Definición de impacto**: Medir impacto social es subjetivo y requiere una métrica bien definida.\n",
    "\n",
    "3. **Sesgos**: El modelo podría reflejar sesgos presentes en los datos de entrenamiento.\n",
    "\n",
    "4. **Privacidad**: Manejo ético de datos personales de egresados.\n"
   ]
  },
  {
   "cell_type": "markdown",
   "id": "997415c8",
   "metadata": {},
   "source": [
    "\n",
    "## Conclusión\n"
   ]
  },
  {
   "cell_type": "markdown",
   "id": "f3321ed9",
   "metadata": {},
   "source": [
    "\n",
    "Este proyecto con Keras permitiría cuantificar y predecir el impacto social de los egresados del Campus Caucasia de la Universidad de Antioquia, destacando su contribución al desarrollo regional. "
   ]
  },
  {
   "cell_type": "markdown",
   "id": "7ada586a",
   "metadata": {},
   "source": [
    "Los datos necesarios pueden obtenerse principalmente de la misma universidad y complementarse con información socioeconómica de la región .\n"
   ]
  },
  {
   "cell_type": "markdown",
   "id": "a679edd1",
   "metadata": {},
   "source": [
    "\n",
    "Para implementarlo, se recomienda colaborar con la Oficina de Egresados y la sede Caucasia de la Universidad de Antioquia, que según los registros ha estado operando por décadas formando profesionales que contribuyen al desarrollo del Bajo Cauca antioqueño ."
   ]
  },
  {
   "cell_type": "markdown",
   "id": "1e9f47e7",
   "metadata": {},
   "source": []
  }
 ],
 "metadata": {
  "kernelspec": {
   "display_name": ".venv",
   "language": "python",
   "name": "python3"
  },
  "language_info": {
   "codemirror_mode": {
    "name": "ipython",
    "version": 3
   },
   "file_extension": ".py",
   "mimetype": "text/x-python",
   "name": "python",
   "nbconvert_exporter": "python",
   "pygments_lexer": "ipython3",
   "version": "3.11.9"
  }
 },
 "nbformat": 4,
 "nbformat_minor": 5
}
