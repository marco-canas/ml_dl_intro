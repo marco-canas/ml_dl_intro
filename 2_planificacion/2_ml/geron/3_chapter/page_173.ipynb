{
 "cells": [
  {
   "cell_type": "markdown",
   "id": "dc06dec7",
   "metadata": {
    "slideshow": {
     "slide_type": "slide"
    }
   },
   "source": [
    "<table align=\"left\">\n",
    "  <td>\n",
    "    <a href=\"https://colab.research.google.com/github/marco-canas/ml_intro/blob/main/2_planificacion/2_ml/geron/3_chapter/page_173.ipynb\" target=\"_parent\"><img src=\"https://colab.research.google.com/assets/colab-badge.svg\" alt=\"Open In Colab\"/></a>\n",
    "  </td>\n",
    "  <td>\n",
    "    <a target=\"_blank\" href=\"https://kaggle.com/kernels/welcome?src=https://github.com/ml_intro/blob/main/2_planificacion/2_ml/geron/3_chapter/page_173.ipynb\"><img src=\"https://kaggle.com/static/images/open-in-kaggle.svg\" /></a>\n",
    "  </td>\n",
    "</table>"
   ]
  },
  {
   "cell_type": "markdown",
   "id": "e0c5b198",
   "metadata": {
    "slideshow": {
     "slide_type": "slide"
    }
   },
   "source": [
    "### [Video de apoyo a la lectura interactiva y experimental de este cuaderno]()"
   ]
  },
  {
   "cell_type": "markdown",
   "id": "41e82203",
   "metadata": {
    "slideshow": {
     "slide_type": "slide"
    }
   },
   "source": [
    "### [Vínculo al programa del curso:  ]()\n",
    "\n"
   ]
  },
  {
   "cell_type": "markdown",
   "id": "d11ab06d",
   "metadata": {
    "slideshow": {
     "slide_type": "slide"
    }
   },
   "source": [
    "Un reconocimiento a mis estudiantes que han construido conmigo este saber pedagógico:\n",
    "\n",
    "<img src = 'campana_2025-06-16_toro.jpeg'> \n",
    "\n"
   ]
  },
  {
   "cell_type": "code",
   "execution_count": 13,
   "id": "b179a7ed",
   "metadata": {},
   "outputs": [
    {
     "data": {
      "application/vnd.microsoft.datawrangler.viewer.v0+json": {
       "columns": [
        {
         "name": "index",
         "rawType": "int64",
         "type": "integer"
        },
        {
         "name": "Nombre",
         "rawType": "object",
         "type": "string"
        }
       ],
       "ref": "631ce664-3bab-48a2-92de-e9a5827a8b7f",
       "rows": [
        [
         "0",
         "Fernando"
        ]
       ],
       "shape": {
        "columns": 1,
        "rows": 1
       }
      },
      "text/html": [
       "<div>\n",
       "<style scoped>\n",
       "    .dataframe tbody tr th:only-of-type {\n",
       "        vertical-align: middle;\n",
       "    }\n",
       "\n",
       "    .dataframe tbody tr th {\n",
       "        vertical-align: top;\n",
       "    }\n",
       "\n",
       "    .dataframe thead th {\n",
       "        text-align: right;\n",
       "    }\n",
       "</style>\n",
       "<table border=\"1\" class=\"dataframe\">\n",
       "  <thead>\n",
       "    <tr style=\"text-align: right;\">\n",
       "      <th></th>\n",
       "      <th>Nombre</th>\n",
       "    </tr>\n",
       "  </thead>\n",
       "  <tbody>\n",
       "    <tr>\n",
       "      <th>0</th>\n",
       "      <td>Fernando</td>\n",
       "    </tr>\n",
       "  </tbody>\n",
       "</table>\n",
       "</div>"
      ],
      "text/plain": [
       "     Nombre\n",
       "0  Fernando"
      ]
     },
     "execution_count": 13,
     "metadata": {},
     "output_type": "execute_result"
    }
   ],
   "source": [
    "import pandas as pd\n",
    "import numpy as np\n",
    "\n",
    "# Cargar la lista de estudiantes desde el archivo CSV\n",
    "path = 'C:/Users/marco/Documentos/docencia/groups_list/ml_dl_intro.xlsx'\n",
    "df = pd.read_excel(path)\n",
    "\n",
    "df.head(3)"
   ]
  },
  {
   "cell_type": "code",
   "execution_count": 1,
   "id": "0c673e3c",
   "metadata": {},
   "outputs": [],
   "source": [
    "# Gestión del guardado de imagenes  \n",
    "\n",
    "def save_fig(nombre_archivo_imagen):\n",
    "    import os \n",
    "    import matplotlib.pyplot as plt\n",
    "    ubicacion_para_imagenes = r\"C:/Users/marco/Downloads\"\n",
    "    imagen_path = os.path.join(ubicacion_para_imagenes, nombre_archivo_imagen)\n",
    "    plt.savefig(imagen_path, bbox_inches='tight')"
   ]
  },
  {
   "cell_type": "markdown",
   "id": "10e55ccf",
   "metadata": {},
   "source": [
    "# Prompt de diseño de clase: \n",
    "Ubicación de la lista de grupo es: 'C:/Users/marco/Documentos/docencia/groups_list/ml_dl_intro.xlsx'\n",
    "Dame, por favor, un diseño de clase, con el enfoque: STEAMS  y de aprendizaje basado en problemas y proyectos(ABPP) y Teoría de Registros de Representación Semiótica de Duval; sobre: **\"Clasificación con técnicas de Machine learning y el dataset Mnist\"**, siguiendo la estructura:   \n",
    "\n",
    "1. Título de la clase   \n",
    "   \n",
    "2. Objetivo de aprendizaje e indicadores de logro de estos objetivos.   \n",
    "   Diseña la clase incluyendo objetivos de educación matemática basada en el pensamiento crítico.   \n",
    "\n",
    "3.  Un mapa conceptual que resuma la clase elaborado en Graphviz de python con nodos y edges de diferentes formas, colores y rellenos y renderizado en la siguiente ubicación: `\"C:/Users/marco/Downloads\"`. No olvides el parámetro `view = True` para el método `render()` de Graphviz. Para este mapa controla las superposiciones de los nodos con: graph [overlap=false]; // Elimina superposiciones (puede aumentar el espacio)\n",
    "graph [overlap=\"scalexy\"]; // Escala el gráfico para evitar overlaps\n",
    "graph [overlap=\"compress\"]; // Comprime el grafo sin overlaps   \n",
    "   \n",
    "4. Contenido de la clase    \n",
    "   \n",
    "5. Incluye una canción o un poema que ayude a interiorizar y fijar los conceptos asociados a esta clase.  \n",
    "   \n",
    "6. Dame elementos históricos y epistemológicos asociados a esta clase, pero contados como un cuento al estilo de un cuentero antioqueño en Colombia. Incluye imágenes de los protagonistas históricos de esta clase.   \n",
    "   \n",
    "7. Actividades de aprendizaje    \n",
    "     * Incluya también actividades de aprendizaje y modelación de situaciones o problemas reales a través de circuitos lógicos y circuitos digitales o electrónicos utilizando la aplicación portable cocodrilo. [Descarge esta aplicación portable aquí](https://crocodileclips.net/descargar-crocodile-clips/) \n",
    "     * Incluye actividades de aprendizaje utilizando lenguaje Python y Jupyter Notebook.   \n",
    "\n",
    "8. Incluye una canción o un poema que ayude a interiorizar y fijar los conceptos asociados a esta clase.  \n",
    "\n",
    "9.  Tarea o actividades de ejercitación y fijación.  \n",
    "     * Diseña las tareas de tal manera que en cada ejercicio se realicen las siguientes cuatro preguntas:  \n",
    "        - ¿Por qué esta expresión representa el problema?\n",
    "        - ¿Qué pasaría si cambiamos este valor?\n",
    "        - ¿Hay otra manera de resolverlo?\n",
    "        - ¿Cómo justificas que tu resultado es razonable? \n",
    "    \n",
    "10.  Evaluación incluyendo diez proyectos, un ejemplo de quiz y un ejemplo de parcial.  \n",
    "     \n",
    "     * Actividad de desarrollo de habilidades metacognitivas para hacernos consientes de nuestro propio proceso de aprendizaje y de la importancia de la evaluación continua.\n",
    "\n",
    "11.  Diseño de actividad de retroalimentación.  \n",
    "      \n",
    "12.  Dame un vocabulario y frases del idioma inglés asociadas a esta clase.   \n",
    "    \n",
    "13.  Incluye apéndice para la clase sobre desarrollo de habilidades para trabajar en equipo y de asertividad y empatía para relacionarnos. También elementos de la inteligencia emocional para presentar pruebas sin temor y desarrollar habilidades metacognitivas.   \n",
    "      \n",
    "14. Incluye 10 referentes en didáctica de la matemática que estén de acuerdo a la propuesta didáctica de esta clase. Adiciona a estos referentes a Raymond Duval (Representaciones y cambios de representación para la adquisición de conceptos matemáticos) y a Jeannette Wing (Desarrollo del pensamiento computacional). Déjame todos estos referentes ordenados de acuerdo a las normas APA. Déjame todos estos referentes ordenados de acuerdo a las normas APA. Incluye las citaciones a estos referentes a medida que vallas diseñando la clase. \n",
    "\n",
    "\n",
    "Pero  que este diseño sea para que el estudiante pueda aprender experimentando en cuadernos Jupyter con funciones de usuario y animaciones y visualizaciones en Python. En particular utiliza para el diseño de clase a NumPy, Pandas, SymPy, Matplotlib.pyplot, Seaborn, Plotly, ipywidgets, matplotlib.animation y Jupyter Notebook.  \n",
    "Cuando vallas a utilizar SymPy, ten en cuanta la siguiente configuración: \n",
    "# Corrección y mejora del código\n",
    "from sympy import symbols, Equivalent\n",
    "from sympy.logic.boolalg import truth_table\n",
    "\n",
    "Cada vez que utilices `matplotlib.animacion` no olvides incluir el uso de `IPython. display` para la renderización de estas animaciones a través de Jupyter Notebook. No olvides darme los diseños de clase con las ecuaciones matemáticas delimitadas con signo de dólar $ para que VS Code si me renderice estas expresiones del lenguaje latex. Cuando vallas a utilizar ipywidgets ten en cuenta la siguiente importación inicial para garantizar que la visualización interactiva si se renderice en VS Code:                                                      \n",
    "import numpy as np\n",
    "import matplotlib.pyplot as plt\n",
    "import ipywidgets as widgets\n",
    "\n"
   ]
  },
  {
   "cell_type": "markdown",
   "id": "c62800e3",
   "metadata": {},
   "source": [
    "# Capítulo 3: Clasificación\n",
    "\n",
    "Página 177 del PDF de Aurelien Géron  "
   ]
  },
  {
   "cell_type": "markdown",
   "id": "736a58d2",
   "metadata": {},
   "source": [
    "\n",
    "## Introducción\n"
   ]
  },
  {
   "cell_type": "markdown",
   "id": "096510fb",
   "metadata": {},
   "source": [
    "En el Capítulo 1 mencioné que las tareas de aprendizaje supervisado más comunes son: \n",
    "* la regresión (predecir valores) y \n",
    "* la clasificación (predecir clases). "
   ]
  },
  {
   "cell_type": "markdown",
   "id": "617659f8",
   "metadata": {},
   "source": [
    "En el Capítulo 2 exploramos una tarea de regresión, prediciendo valores de vivienda, usando varios algoritmos como:   \n",
    "* regresión lineal, \n",
    "* árboles de decisión y \n",
    "* bosques aleatorios (que se explicarán con más detalle en capítulos posteriores). "
   ]
  },
  {
   "cell_type": "markdown",
   "id": "18bf0905",
   "metadata": {},
   "source": [
    "Ahora volveremos nuestra atención a los sistemas de clasificación.\n"
   ]
  },
  {
   "cell_type": "markdown",
   "id": "13b5d5a1",
   "metadata": {},
   "source": [
    "\n",
    "## El conjunto de datos MNIST\n",
    "\n",
    "El dataset **MNIST** debe su nombre a las siglas de **\"Modified National Institute of Standards and Technology\"**, en referencia a su origen y a las modificaciones aplicadas al conjunto de datos original. Aquí te explico su historia y significado:\n",
    "\n",
    "---\n",
    "\n",
    "### **1. Origen: NIST (National Institute of Standards and Technology)**\n",
    "- El dataset original fue creado por el **NIST** (Instituto Nacional de Estándares y Tecnología de EE.UU.) en la década de 1990.\n",
    "- Contenía dígitos escritos a mano por empleados del gobierno y estudiantes, pero tenía ciertas limitaciones:\n",
    "  - Desbalanceo de clases (algunos dígitos tenían más muestras que otros).\n",
    "  - Procesamiento inconsistente.\n",
    "\n",
    "---\n",
    "\n",
    "### **2. Modificaciones (MNIST = \"Modified NIST\")**\n",
    "En 1998, **Yann LeCun** (pionero en redes neuronales y aprendizaje automático) y su equipo **modificaron** el dataset original para hacerlo más accesible y útil para la investigación en machine learning. Los cambios clave incluyeron:\n",
    "1. **Balanceo de clases**: Se ajustó para que cada dígito (0-9) tuviera aproximadamente el mismo número de muestras.\n",
    "2. **Preprocesamiento**:\n",
    "   - Las imágenes se normalizaron a un tamaño fijo de **28x28 píxeles**.\n",
    "   - Se centraron los dígitos en la imagen (para reducir variabilidad).\n",
    "3. **División en train/test**: Se separó en 60,000 ejemplos para entrenamiento y 10,000 para prueba (ya barajados).\n",
    "\n",
    "---\n",
    "\n",
    "### **3. ¿Por qué \"MNIST\" y no solo \"NIST\"?**\n",
    "- El nombre refleja que no es el dataset crudo del NIST, sino una **versión modificada** optimizada para investigación.\n",
    "- Se convirtió en un estándar para pruebas iniciales en visión por computadora y clasificación, gracias a su simplicidad y tamaño manejable.\n",
    "\n",
    "---\n",
    "\n",
    "### **4. Curiosidades**\n",
    "- **\"Hello World\" del ML**: MNIST es considerado el *primer dataset* que prueban los investigadores al trabajar con clasificación de imágenes.\n",
    "- **Legado**: Aunque hoy existen datasets más complejos (como CIFAR-10 o ImageNet), MNIST sigue siendo usado para enseñar conceptos básicos.\n",
    "- **Sucesores**: Dataset **EMNIST** (extensión con letras) y **Fashion-MNIST** (versión con prendas de vestir).\n",
    "\n",
    "---\n"
   ]
  },
  {
   "cell_type": "markdown",
   "id": "c90517e8",
   "metadata": {},
   "source": [
    "\n",
    "### **Ejemplo de carga (código)**\n"
   ]
  },
  {
   "cell_type": "markdown",
   "id": "6c660f04",
   "metadata": {},
   "source": [
    "```python\n",
    "from sklearn.datasets import fetch_openml\n",
    "mnist = fetch_openml('mnist_784', as_frame=False, parser='auto')\n",
    "print(f\"Forma de las imágenes: {mnist.data.shape}\")  # (70000, 784)\n",
    "```\n",
    "\n",
    "En resumen, **\"MNIST\" es un nombre que honra su origen (NIST) y a la vez destaca las mejoras (\"Modified\") que lo hicieron fundamental en la historia del machine learning**."
   ]
  },
  {
   "cell_type": "markdown",
   "id": "30ff5f39",
   "metadata": {},
   "source": [
    "En este capítulo 3 de Géron usaremos el conjunto de datos MNIST, que es un conjunto de 70,000 pequeñas imágenes de dígitos escritos a mano por estudiantes de secundaria y empleados de la Oficina del Censo de EE.UU. "
   ]
  },
  {
   "cell_type": "markdown",
   "id": "6325fda7",
   "metadata": {},
   "source": [
    "Cada imagen está etiquetada con el dígito que representa.\n"
   ]
  },
  {
   "cell_type": "markdown",
   "id": "90a36dbf",
   "metadata": {},
   "source": [
    "\n",
    "Este conjunto ha sido estudiado tanto que a menudo se le llama el \"hola mundo\" del aprendizaje automático: cada vez que alguien crea un nuevo algoritmo de clasificación, siente curiosidad por ver cómo se desempeñará en MNIST, y cualquiera que aprenda aprendizaje automático aborda este conjunto de datos tarde o temprano.\n"
   ]
  },
  {
   "cell_type": "markdown",
   "id": "fdf27b98",
   "metadata": {},
   "source": [
    "\n",
    "Scikit-Learn proporciona muchas funciones auxiliares para descargar conjuntos de datos populares. "
   ]
  },
  {
   "cell_type": "markdown",
   "id": "cb08b6dd",
   "metadata": {},
   "source": [
    "MNIST es uno de ellos. "
   ]
  },
  {
   "cell_type": "markdown",
   "id": "5261e920",
   "metadata": {},
   "source": [
    "El siguiente código obtiene el conjunto de datos MNIST de [OpenML.org](https://www.openml.org/):\n"
   ]
  },
  {
   "cell_type": "code",
   "execution_count": 15,
   "id": "354d8027",
   "metadata": {},
   "outputs": [
    {
     "name": "stdout",
     "output_type": "stream",
     "text": [
      "CPU times: total: 4.28 s\n",
      "Wall time: 4.44 s\n"
     ]
    }
   ],
   "source": [
    "\n",
    "%%time \n",
    "from sklearn.datasets import fetch_openml\n",
    "mnist = fetch_openml('mnist_784', as_frame=False) # obtener los datos bajo la estructura Banch\n",
    "# gracias al parametro as_frame con valor False, los predictores y etiquetas nos los entrega en forma de nd-array de Numpy. \n",
    "# Mientras que con as_frame en True nos entrega predictores y etiquetas en forma de DataFrme de Pandas. \n"
   ]
  },
  {
   "cell_type": "code",
   "execution_count": 16,
   "id": "e4d5325a",
   "metadata": {},
   "outputs": [
    {
     "ename": "AttributeError",
     "evalue": "'numpy.ndarray' object has no attribute 'index'",
     "output_type": "error",
     "traceback": [
      "\u001b[31m---------------------------------------------------------------------------\u001b[39m",
      "\u001b[31mAttributeError\u001b[39m                            Traceback (most recent call last)",
      "\u001b[36mCell\u001b[39m\u001b[36m \u001b[39m\u001b[32mIn[16]\u001b[39m\u001b[32m, line 1\u001b[39m\n\u001b[32m----> \u001b[39m\u001b[32m1\u001b[39m \u001b[43mmnist\u001b[49m\u001b[43m.\u001b[49m\u001b[43mdata\u001b[49m\u001b[43m.\u001b[49m\u001b[43mindex\u001b[49m\n",
      "\u001b[31mAttributeError\u001b[39m: 'numpy.ndarray' object has no attribute 'index'"
     ]
    }
   ],
   "source": [
    "mnist.data.index"
   ]
  },
  {
   "cell_type": "code",
   "execution_count": null,
   "id": "152ed407",
   "metadata": {},
   "outputs": [],
   "source": [
    "%%time \n",
    "mnist_frame = fetch_openml('mnist_784', as_frame=True)\n"
   ]
  },
  {
   "cell_type": "code",
   "execution_count": null,
   "id": "9c21a7aa",
   "metadata": {},
   "outputs": [],
   "source": [
    "mnist_frame.data.index"
   ]
  },
  {
   "cell_type": "markdown",
   "id": "4a7bab2c",
   "metadata": {},
   "source": [
    "Tarea\n",
    "\n",
    "Poner el nombre de imagen a la familia indexante. "
   ]
  },
  {
   "cell_type": "code",
   "execution_count": null,
   "id": "ff662897",
   "metadata": {},
   "outputs": [],
   "source": [
    "import numpy as np \n",
    "mnist_frame.data['Imagenes'] = np.arange(1,70_000+1) \n",
    "mnist_frame.data.index = mnist_frame.data['Imagenes']\n",
    "mnist_frame.data.drop('Imagenes', axis = 1, inplace = True)"
   ]
  },
  {
   "cell_type": "code",
   "execution_count": null,
   "id": "41ce4de7",
   "metadata": {},
   "outputs": [],
   "source": [
    "mnist_frame.data"
   ]
  },
  {
   "cell_type": "code",
   "execution_count": null,
   "id": "7233bedf",
   "metadata": {},
   "outputs": [],
   "source": [
    "mnist_frame.data.info()"
   ]
  },
  {
   "cell_type": "code",
   "execution_count": null,
   "id": "aa177be7",
   "metadata": {},
   "outputs": [],
   "source": [
    "mnist_frame.data.describe() "
   ]
  },
  {
   "cell_type": "code",
   "execution_count": null,
   "id": "81863f8a",
   "metadata": {},
   "outputs": [],
   "source": [
    "type(mnist)"
   ]
  },
  {
   "cell_type": "code",
   "execution_count": null,
   "id": "a6c5d767",
   "metadata": {},
   "outputs": [],
   "source": [
    "mnist.keys() "
   ]
  },
  {
   "cell_type": "code",
   "execution_count": null,
   "id": "509d07a1",
   "metadata": {},
   "outputs": [],
   "source": [
    "28*28"
   ]
  },
  {
   "cell_type": "code",
   "execution_count": null,
   "id": "793b6260",
   "metadata": {},
   "outputs": [],
   "source": [
    "mnist.data.shape"
   ]
  },
  {
   "cell_type": "code",
   "execution_count": null,
   "id": "be352f8b",
   "metadata": {},
   "outputs": [],
   "source": [
    "mnist.data[0].reshape(28, 28)"
   ]
  },
  {
   "cell_type": "markdown",
   "id": "c341ac8f",
   "metadata": {},
   "source": [
    "\n",
    "El paquete `sklearn.datasets` contiene principalmente tres tipos de funciones:\n",
    "- Funciones `fetch_*` como `fetch_openml()` para descargar conjuntos de datos de la vida real.\n",
    "- Funciones `load_*` para cargar pequeños conjuntos de datos de juguete incluidos con Scikit-Learn.\n",
    "- Funciones `make_*` para generar conjuntos de datos falsos, útiles para pruebas.\n"
   ]
  },
  {
   "cell_type": "markdown",
   "id": "f4befc00",
   "metadata": {},
   "source": [
    "\n",
    "Los conjuntos de datos generados generalmente se devuelven como una tupla `(X, y)` que contiene los datos de entrada y los objetivos, ambos como arrays de NumPy."
   ]
  },
  {
   "cell_type": "markdown",
   "id": "49474f6f",
   "metadata": {},
   "source": [
    "Otros conjuntos de datos se devuelven como objetos `sklearn.utils.Bunch`, que son diccionarios cuyas entradas también se pueden acceder como atributos.\n"
   ]
  },
  {
   "cell_type": "code",
   "execution_count": null,
   "id": "b413e64b",
   "metadata": {},
   "outputs": [],
   "source": [
    "mnist.data"
   ]
  },
  {
   "cell_type": "code",
   "execution_count": null,
   "id": "ab4c33b7",
   "metadata": {},
   "outputs": [],
   "source": [
    "dicc = {'marco':50}"
   ]
  },
  {
   "cell_type": "code",
   "execution_count": null,
   "id": "900a0fff",
   "metadata": {},
   "outputs": [],
   "source": [
    "dicc.keys()"
   ]
  },
  {
   "cell_type": "code",
   "execution_count": null,
   "id": "c9a52a3d",
   "metadata": {},
   "outputs": [],
   "source": [
    "dicc['marco']"
   ]
  },
  {
   "cell_type": "code",
   "execution_count": null,
   "id": "1c822c88",
   "metadata": {},
   "outputs": [],
   "source": [
    "dicc.marco # no se puede acceder a los valores asociados a una key en un diccionario con notación de punto. "
   ]
  },
  {
   "cell_type": "markdown",
   "id": "81504b4f",
   "metadata": {},
   "source": [
    "\n",
    "La función `fetch_openml()` es un poco inusual porque, por defecto, devuelve las entradas como un DataFrame de Pandas y las etiquetas como una Serie de Pandas (a menos que el conjunto de datos sea disperso). "
   ]
  },
  {
   "cell_type": "code",
   "execution_count": null,
   "id": "a1ff20d2",
   "metadata": {},
   "outputs": [],
   "source": [
    "\n",
    "mnist_frame_2 = fetch_openml('mnist_784') \n",
    "\n",
    "type(mnist_frame_2.data)"
   ]
  },
  {
   "cell_type": "markdown",
   "id": "0d24476b",
   "metadata": {},
   "source": [
    "Pero el conjunto de datos MNIST contiene imágenes, y los DataFrames no son ideales para eso, por lo que es preferible establecer `as_frame=False` para obtener los datos como arrays de NumPy.\n"
   ]
  },
  {
   "cell_type": "markdown",
   "id": "dcff3657",
   "metadata": {},
   "source": [
    "\n",
    "Veamos estos arrays:\n"
   ]
  },
  {
   "cell_type": "markdown",
   "id": "51b0299d",
   "metadata": {},
   "source": [
    "# División del dataset en predictores X y etiquetas y "
   ]
  },
  {
   "cell_type": "code",
   "execution_count": null,
   "id": "46b8adce",
   "metadata": {},
   "outputs": [],
   "source": [
    "\n",
    "\n",
    "X, y = mnist.data, mnist.target\n",
    "print(X.shape)  # (70000, 784)\n",
    "print(y.shape)  # (70000,)\n",
    "\n"
   ]
  },
  {
   "cell_type": "markdown",
   "id": "0fbf5d46",
   "metadata": {},
   "source": [
    "\n",
    "Hay 70,000 imágenes, y cada imagen tiene 784 características. "
   ]
  },
  {
   "cell_type": "markdown",
   "id": "76ce44c6",
   "metadata": {},
   "source": [
    "Esto se debe a que cada imagen es de 28 × 28 píxeles = 784 características, y cada característica simplemente representa la intensidad de un píxel, de 0 (blanco) a 255 (negro).\n"
   ]
  },
  {
   "cell_type": "markdown",
   "id": "2aeff75c",
   "metadata": {},
   "source": [
    "\n",
    "Echemos un vistazo a un dígito del conjunto de datos. "
   ]
  },
  {
   "cell_type": "markdown",
   "id": "add00e41",
   "metadata": {},
   "source": [
    "Todo lo que necesitamos hacer es tomar el vector de características de una instancia, remodelarlo a un array de 28 × 28 y mostrarlo usando la función `imshow()` de Matplotlib:\n"
   ]
  },
  {
   "cell_type": "code",
   "execution_count": null,
   "id": "7a9c4467",
   "metadata": {},
   "outputs": [],
   "source": [
    "\n",
    "\n",
    "import matplotlib.pyplot as plt\n",
    "\n",
    "def plot_digit(image_data, indice_de_la_imagen):\n",
    "    image = image_data.reshape(28, 28)\n",
    "    plt.title(f'La imagen representa el dígito {y[indice_de_la_imagen]}')\n",
    "    plt.imshow(image, cmap=\"binary\")\n",
    "    plt.axis(\"off\")\n",
    "indice_de_la_imagen = 4\n",
    "some_digit = X[indice_de_la_imagen]\n",
    "plot_digit(some_digit, indice_de_la_imagen=indice_de_la_imagen)\n",
    "plt.savefig(r\"C:\\Users\\marco\\Downloads\\un_de_tantos_digitos.png\")\n",
    "plt.show()\n",
    "\n"
   ]
  },
  {
   "cell_type": "code",
   "execution_count": null,
   "id": "0cc4f4d0",
   "metadata": {},
   "outputs": [],
   "source": [
    "y[2] # Segunda imagen porque ya indexamos desde 1"
   ]
  },
  {
   "cell_type": "code",
   "execution_count": null,
   "id": "f1dd969c",
   "metadata": {},
   "outputs": [],
   "source": [
    "y "
   ]
  },
  {
   "cell_type": "markdown",
   "id": "df922769",
   "metadata": {},
   "source": [
    "\n",
    "Esto parece un 5, y de hecho eso es lo que nos dice la etiqueta:\n"
   ]
  },
  {
   "cell_type": "code",
   "execution_count": null,
   "id": "10bcd90f",
   "metadata": {},
   "outputs": [],
   "source": [
    "\n",
    "\n",
    "print(y[0])  # '5'\n",
    "\n"
   ]
  },
  {
   "cell_type": "markdown",
   "id": "c7bb8c1f",
   "metadata": {},
   "source": [
    "# División en entrenamiento y testeo "
   ]
  },
  {
   "cell_type": "markdown",
   "id": "c51b0749",
   "metadata": {},
   "source": [
    "\n",
    "El conjunto de datos MNIST devuelto por `fetch_openml()` ya está dividido en un conjunto de entrenamiento (las primeras 60,000 imágenes) y un conjunto de prueba (las últimas 10,000 imágenes):\n"
   ]
  },
  {
   "cell_type": "markdown",
   "id": "04c5f7d9",
   "metadata": {},
   "source": [
    "# Incluir una imagen que represente la división de X en X_train y X_test y de y en y_train y y_test"
   ]
  },
  {
   "cell_type": "code",
   "execution_count": null,
   "id": "d2f98916",
   "metadata": {},
   "outputs": [],
   "source": [
    "\n",
    "\n",
    "X_train, X_test, y_train, y_test = X[0:60000], X[60000:], y[:60000], y[60000:]\n",
    "\n"
   ]
  },
  {
   "cell_type": "code",
   "execution_count": null,
   "id": "c58348ac",
   "metadata": {},
   "outputs": [],
   "source": [
    "60_000/70_000, 10_000/70_000"
   ]
  },
  {
   "cell_type": "markdown",
   "id": "6ba83644",
   "metadata": {},
   "source": [
    "\n",
    "## Entrenando un Clasificador Binario\n"
   ]
  },
  {
   "cell_type": "markdown",
   "id": "e2352a1d",
   "metadata": {},
   "source": [
    "Simplifiquemos el problema por ahora e intentemos identificar solo un dígito, por ejemplo, el número 5. "
   ]
  },
  {
   "cell_type": "markdown",
   "id": "1ef17dc2",
   "metadata": {},
   "source": [
    "Este \"detector de 5\" será un ejemplo de un clasificador binario, capaz de distinguir entre solo dos clases: 5 y no-5.\n"
   ]
  },
  {
   "cell_type": "markdown",
   "id": "249206e1",
   "metadata": {},
   "source": [
    "\n",
    "Primero crearemos los vectores objetivo para esta tarea de clasificación:\n"
   ]
  },
  {
   "cell_type": "code",
   "execution_count": 17,
   "id": "6b8ec618",
   "metadata": {},
   "outputs": [],
   "source": [
    "\n",
    "\n",
    "y_train_5 = (y_train == '5')  # True para todos los 5s, False para otros dígitos\n",
    "y_test_5 = (y_test == '5')\n",
    "\n"
   ]
  },
  {
   "cell_type": "code",
   "execution_count": 18,
   "id": "6ee902e9",
   "metadata": {},
   "outputs": [
    {
     "data": {
      "text/plain": [
       "array([ True, False, False, ...,  True, False, False])"
      ]
     },
     "execution_count": 18,
     "metadata": {},
     "output_type": "execute_result"
    }
   ],
   "source": [
    "y_train_5"
   ]
  },
  {
   "cell_type": "markdown",
   "id": "daaf2f45",
   "metadata": {},
   "source": [
    "\n",
    "Ahora elijamos un clasificador y entrenémoslo. "
   ]
  },
  {
   "cell_type": "markdown",
   "id": "d05fd085",
   "metadata": {},
   "source": [
    "Un buen punto de partida es con un clasificador de descenso de gradiente estocástico (SGD), usando la clase `SGDClassifier` de Scikit-Learn:\n"
   ]
  },
  {
   "cell_type": "code",
   "execution_count": null,
   "id": "0dc64c73",
   "metadata": {},
   "outputs": [
    {
     "name": "stdout",
     "output_type": "stream",
     "text": [
      "CPU times: total: 21.5 s\n",
      "Wall time: 22 s\n"
     ]
    },
    {
     "data": {
      "text/html": [
       "<style>#sk-container-id-1 {\n",
       "  /* Definition of color scheme common for light and dark mode */\n",
       "  --sklearn-color-text: #000;\n",
       "  --sklearn-color-text-muted: #666;\n",
       "  --sklearn-color-line: gray;\n",
       "  /* Definition of color scheme for unfitted estimators */\n",
       "  --sklearn-color-unfitted-level-0: #fff5e6;\n",
       "  --sklearn-color-unfitted-level-1: #f6e4d2;\n",
       "  --sklearn-color-unfitted-level-2: #ffe0b3;\n",
       "  --sklearn-color-unfitted-level-3: chocolate;\n",
       "  /* Definition of color scheme for fitted estimators */\n",
       "  --sklearn-color-fitted-level-0: #f0f8ff;\n",
       "  --sklearn-color-fitted-level-1: #d4ebff;\n",
       "  --sklearn-color-fitted-level-2: #b3dbfd;\n",
       "  --sklearn-color-fitted-level-3: cornflowerblue;\n",
       "\n",
       "  /* Specific color for light theme */\n",
       "  --sklearn-color-text-on-default-background: var(--sg-text-color, var(--theme-code-foreground, var(--jp-content-font-color1, black)));\n",
       "  --sklearn-color-background: var(--sg-background-color, var(--theme-background, var(--jp-layout-color0, white)));\n",
       "  --sklearn-color-border-box: var(--sg-text-color, var(--theme-code-foreground, var(--jp-content-font-color1, black)));\n",
       "  --sklearn-color-icon: #696969;\n",
       "\n",
       "  @media (prefers-color-scheme: dark) {\n",
       "    /* Redefinition of color scheme for dark theme */\n",
       "    --sklearn-color-text-on-default-background: var(--sg-text-color, var(--theme-code-foreground, var(--jp-content-font-color1, white)));\n",
       "    --sklearn-color-background: var(--sg-background-color, var(--theme-background, var(--jp-layout-color0, #111)));\n",
       "    --sklearn-color-border-box: var(--sg-text-color, var(--theme-code-foreground, var(--jp-content-font-color1, white)));\n",
       "    --sklearn-color-icon: #878787;\n",
       "  }\n",
       "}\n",
       "\n",
       "#sk-container-id-1 {\n",
       "  color: var(--sklearn-color-text);\n",
       "}\n",
       "\n",
       "#sk-container-id-1 pre {\n",
       "  padding: 0;\n",
       "}\n",
       "\n",
       "#sk-container-id-1 input.sk-hidden--visually {\n",
       "  border: 0;\n",
       "  clip: rect(1px 1px 1px 1px);\n",
       "  clip: rect(1px, 1px, 1px, 1px);\n",
       "  height: 1px;\n",
       "  margin: -1px;\n",
       "  overflow: hidden;\n",
       "  padding: 0;\n",
       "  position: absolute;\n",
       "  width: 1px;\n",
       "}\n",
       "\n",
       "#sk-container-id-1 div.sk-dashed-wrapped {\n",
       "  border: 1px dashed var(--sklearn-color-line);\n",
       "  margin: 0 0.4em 0.5em 0.4em;\n",
       "  box-sizing: border-box;\n",
       "  padding-bottom: 0.4em;\n",
       "  background-color: var(--sklearn-color-background);\n",
       "}\n",
       "\n",
       "#sk-container-id-1 div.sk-container {\n",
       "  /* jupyter's `normalize.less` sets `[hidden] { display: none; }`\n",
       "     but bootstrap.min.css set `[hidden] { display: none !important; }`\n",
       "     so we also need the `!important` here to be able to override the\n",
       "     default hidden behavior on the sphinx rendered scikit-learn.org.\n",
       "     See: https://github.com/scikit-learn/scikit-learn/issues/21755 */\n",
       "  display: inline-block !important;\n",
       "  position: relative;\n",
       "}\n",
       "\n",
       "#sk-container-id-1 div.sk-text-repr-fallback {\n",
       "  display: none;\n",
       "}\n",
       "\n",
       "div.sk-parallel-item,\n",
       "div.sk-serial,\n",
       "div.sk-item {\n",
       "  /* draw centered vertical line to link estimators */\n",
       "  background-image: linear-gradient(var(--sklearn-color-text-on-default-background), var(--sklearn-color-text-on-default-background));\n",
       "  background-size: 2px 100%;\n",
       "  background-repeat: no-repeat;\n",
       "  background-position: center center;\n",
       "}\n",
       "\n",
       "/* Parallel-specific style estimator block */\n",
       "\n",
       "#sk-container-id-1 div.sk-parallel-item::after {\n",
       "  content: \"\";\n",
       "  width: 100%;\n",
       "  border-bottom: 2px solid var(--sklearn-color-text-on-default-background);\n",
       "  flex-grow: 1;\n",
       "}\n",
       "\n",
       "#sk-container-id-1 div.sk-parallel {\n",
       "  display: flex;\n",
       "  align-items: stretch;\n",
       "  justify-content: center;\n",
       "  background-color: var(--sklearn-color-background);\n",
       "  position: relative;\n",
       "}\n",
       "\n",
       "#sk-container-id-1 div.sk-parallel-item {\n",
       "  display: flex;\n",
       "  flex-direction: column;\n",
       "}\n",
       "\n",
       "#sk-container-id-1 div.sk-parallel-item:first-child::after {\n",
       "  align-self: flex-end;\n",
       "  width: 50%;\n",
       "}\n",
       "\n",
       "#sk-container-id-1 div.sk-parallel-item:last-child::after {\n",
       "  align-self: flex-start;\n",
       "  width: 50%;\n",
       "}\n",
       "\n",
       "#sk-container-id-1 div.sk-parallel-item:only-child::after {\n",
       "  width: 0;\n",
       "}\n",
       "\n",
       "/* Serial-specific style estimator block */\n",
       "\n",
       "#sk-container-id-1 div.sk-serial {\n",
       "  display: flex;\n",
       "  flex-direction: column;\n",
       "  align-items: center;\n",
       "  background-color: var(--sklearn-color-background);\n",
       "  padding-right: 1em;\n",
       "  padding-left: 1em;\n",
       "}\n",
       "\n",
       "\n",
       "/* Toggleable style: style used for estimator/Pipeline/ColumnTransformer box that is\n",
       "clickable and can be expanded/collapsed.\n",
       "- Pipeline and ColumnTransformer use this feature and define the default style\n",
       "- Estimators will overwrite some part of the style using the `sk-estimator` class\n",
       "*/\n",
       "\n",
       "/* Pipeline and ColumnTransformer style (default) */\n",
       "\n",
       "#sk-container-id-1 div.sk-toggleable {\n",
       "  /* Default theme specific background. It is overwritten whether we have a\n",
       "  specific estimator or a Pipeline/ColumnTransformer */\n",
       "  background-color: var(--sklearn-color-background);\n",
       "}\n",
       "\n",
       "/* Toggleable label */\n",
       "#sk-container-id-1 label.sk-toggleable__label {\n",
       "  cursor: pointer;\n",
       "  display: flex;\n",
       "  width: 100%;\n",
       "  margin-bottom: 0;\n",
       "  padding: 0.5em;\n",
       "  box-sizing: border-box;\n",
       "  text-align: center;\n",
       "  align-items: start;\n",
       "  justify-content: space-between;\n",
       "  gap: 0.5em;\n",
       "}\n",
       "\n",
       "#sk-container-id-1 label.sk-toggleable__label .caption {\n",
       "  font-size: 0.6rem;\n",
       "  font-weight: lighter;\n",
       "  color: var(--sklearn-color-text-muted);\n",
       "}\n",
       "\n",
       "#sk-container-id-1 label.sk-toggleable__label-arrow:before {\n",
       "  /* Arrow on the left of the label */\n",
       "  content: \"▸\";\n",
       "  float: left;\n",
       "  margin-right: 0.25em;\n",
       "  color: var(--sklearn-color-icon);\n",
       "}\n",
       "\n",
       "#sk-container-id-1 label.sk-toggleable__label-arrow:hover:before {\n",
       "  color: var(--sklearn-color-text);\n",
       "}\n",
       "\n",
       "/* Toggleable content - dropdown */\n",
       "\n",
       "#sk-container-id-1 div.sk-toggleable__content {\n",
       "  display: none;\n",
       "  text-align: left;\n",
       "  /* unfitted */\n",
       "  background-color: var(--sklearn-color-unfitted-level-0);\n",
       "}\n",
       "\n",
       "#sk-container-id-1 div.sk-toggleable__content.fitted {\n",
       "  /* fitted */\n",
       "  background-color: var(--sklearn-color-fitted-level-0);\n",
       "}\n",
       "\n",
       "#sk-container-id-1 div.sk-toggleable__content pre {\n",
       "  margin: 0.2em;\n",
       "  border-radius: 0.25em;\n",
       "  color: var(--sklearn-color-text);\n",
       "  /* unfitted */\n",
       "  background-color: var(--sklearn-color-unfitted-level-0);\n",
       "}\n",
       "\n",
       "#sk-container-id-1 div.sk-toggleable__content.fitted pre {\n",
       "  /* unfitted */\n",
       "  background-color: var(--sklearn-color-fitted-level-0);\n",
       "}\n",
       "\n",
       "#sk-container-id-1 input.sk-toggleable__control:checked~div.sk-toggleable__content {\n",
       "  /* Expand drop-down */\n",
       "  display: block;\n",
       "  width: 100%;\n",
       "  overflow: visible;\n",
       "}\n",
       "\n",
       "#sk-container-id-1 input.sk-toggleable__control:checked~label.sk-toggleable__label-arrow:before {\n",
       "  content: \"▾\";\n",
       "}\n",
       "\n",
       "/* Pipeline/ColumnTransformer-specific style */\n",
       "\n",
       "#sk-container-id-1 div.sk-label input.sk-toggleable__control:checked~label.sk-toggleable__label {\n",
       "  color: var(--sklearn-color-text);\n",
       "  background-color: var(--sklearn-color-unfitted-level-2);\n",
       "}\n",
       "\n",
       "#sk-container-id-1 div.sk-label.fitted input.sk-toggleable__control:checked~label.sk-toggleable__label {\n",
       "  background-color: var(--sklearn-color-fitted-level-2);\n",
       "}\n",
       "\n",
       "/* Estimator-specific style */\n",
       "\n",
       "/* Colorize estimator box */\n",
       "#sk-container-id-1 div.sk-estimator input.sk-toggleable__control:checked~label.sk-toggleable__label {\n",
       "  /* unfitted */\n",
       "  background-color: var(--sklearn-color-unfitted-level-2);\n",
       "}\n",
       "\n",
       "#sk-container-id-1 div.sk-estimator.fitted input.sk-toggleable__control:checked~label.sk-toggleable__label {\n",
       "  /* fitted */\n",
       "  background-color: var(--sklearn-color-fitted-level-2);\n",
       "}\n",
       "\n",
       "#sk-container-id-1 div.sk-label label.sk-toggleable__label,\n",
       "#sk-container-id-1 div.sk-label label {\n",
       "  /* The background is the default theme color */\n",
       "  color: var(--sklearn-color-text-on-default-background);\n",
       "}\n",
       "\n",
       "/* On hover, darken the color of the background */\n",
       "#sk-container-id-1 div.sk-label:hover label.sk-toggleable__label {\n",
       "  color: var(--sklearn-color-text);\n",
       "  background-color: var(--sklearn-color-unfitted-level-2);\n",
       "}\n",
       "\n",
       "/* Label box, darken color on hover, fitted */\n",
       "#sk-container-id-1 div.sk-label.fitted:hover label.sk-toggleable__label.fitted {\n",
       "  color: var(--sklearn-color-text);\n",
       "  background-color: var(--sklearn-color-fitted-level-2);\n",
       "}\n",
       "\n",
       "/* Estimator label */\n",
       "\n",
       "#sk-container-id-1 div.sk-label label {\n",
       "  font-family: monospace;\n",
       "  font-weight: bold;\n",
       "  display: inline-block;\n",
       "  line-height: 1.2em;\n",
       "}\n",
       "\n",
       "#sk-container-id-1 div.sk-label-container {\n",
       "  text-align: center;\n",
       "}\n",
       "\n",
       "/* Estimator-specific */\n",
       "#sk-container-id-1 div.sk-estimator {\n",
       "  font-family: monospace;\n",
       "  border: 1px dotted var(--sklearn-color-border-box);\n",
       "  border-radius: 0.25em;\n",
       "  box-sizing: border-box;\n",
       "  margin-bottom: 0.5em;\n",
       "  /* unfitted */\n",
       "  background-color: var(--sklearn-color-unfitted-level-0);\n",
       "}\n",
       "\n",
       "#sk-container-id-1 div.sk-estimator.fitted {\n",
       "  /* fitted */\n",
       "  background-color: var(--sklearn-color-fitted-level-0);\n",
       "}\n",
       "\n",
       "/* on hover */\n",
       "#sk-container-id-1 div.sk-estimator:hover {\n",
       "  /* unfitted */\n",
       "  background-color: var(--sklearn-color-unfitted-level-2);\n",
       "}\n",
       "\n",
       "#sk-container-id-1 div.sk-estimator.fitted:hover {\n",
       "  /* fitted */\n",
       "  background-color: var(--sklearn-color-fitted-level-2);\n",
       "}\n",
       "\n",
       "/* Specification for estimator info (e.g. \"i\" and \"?\") */\n",
       "\n",
       "/* Common style for \"i\" and \"?\" */\n",
       "\n",
       ".sk-estimator-doc-link,\n",
       "a:link.sk-estimator-doc-link,\n",
       "a:visited.sk-estimator-doc-link {\n",
       "  float: right;\n",
       "  font-size: smaller;\n",
       "  line-height: 1em;\n",
       "  font-family: monospace;\n",
       "  background-color: var(--sklearn-color-background);\n",
       "  border-radius: 1em;\n",
       "  height: 1em;\n",
       "  width: 1em;\n",
       "  text-decoration: none !important;\n",
       "  margin-left: 0.5em;\n",
       "  text-align: center;\n",
       "  /* unfitted */\n",
       "  border: var(--sklearn-color-unfitted-level-1) 1pt solid;\n",
       "  color: var(--sklearn-color-unfitted-level-1);\n",
       "}\n",
       "\n",
       ".sk-estimator-doc-link.fitted,\n",
       "a:link.sk-estimator-doc-link.fitted,\n",
       "a:visited.sk-estimator-doc-link.fitted {\n",
       "  /* fitted */\n",
       "  border: var(--sklearn-color-fitted-level-1) 1pt solid;\n",
       "  color: var(--sklearn-color-fitted-level-1);\n",
       "}\n",
       "\n",
       "/* On hover */\n",
       "div.sk-estimator:hover .sk-estimator-doc-link:hover,\n",
       ".sk-estimator-doc-link:hover,\n",
       "div.sk-label-container:hover .sk-estimator-doc-link:hover,\n",
       ".sk-estimator-doc-link:hover {\n",
       "  /* unfitted */\n",
       "  background-color: var(--sklearn-color-unfitted-level-3);\n",
       "  color: var(--sklearn-color-background);\n",
       "  text-decoration: none;\n",
       "}\n",
       "\n",
       "div.sk-estimator.fitted:hover .sk-estimator-doc-link.fitted:hover,\n",
       ".sk-estimator-doc-link.fitted:hover,\n",
       "div.sk-label-container:hover .sk-estimator-doc-link.fitted:hover,\n",
       ".sk-estimator-doc-link.fitted:hover {\n",
       "  /* fitted */\n",
       "  background-color: var(--sklearn-color-fitted-level-3);\n",
       "  color: var(--sklearn-color-background);\n",
       "  text-decoration: none;\n",
       "}\n",
       "\n",
       "/* Span, style for the box shown on hovering the info icon */\n",
       ".sk-estimator-doc-link span {\n",
       "  display: none;\n",
       "  z-index: 9999;\n",
       "  position: relative;\n",
       "  font-weight: normal;\n",
       "  right: .2ex;\n",
       "  padding: .5ex;\n",
       "  margin: .5ex;\n",
       "  width: min-content;\n",
       "  min-width: 20ex;\n",
       "  max-width: 50ex;\n",
       "  color: var(--sklearn-color-text);\n",
       "  box-shadow: 2pt 2pt 4pt #999;\n",
       "  /* unfitted */\n",
       "  background: var(--sklearn-color-unfitted-level-0);\n",
       "  border: .5pt solid var(--sklearn-color-unfitted-level-3);\n",
       "}\n",
       "\n",
       ".sk-estimator-doc-link.fitted span {\n",
       "  /* fitted */\n",
       "  background: var(--sklearn-color-fitted-level-0);\n",
       "  border: var(--sklearn-color-fitted-level-3);\n",
       "}\n",
       "\n",
       ".sk-estimator-doc-link:hover span {\n",
       "  display: block;\n",
       "}\n",
       "\n",
       "/* \"?\"-specific style due to the `<a>` HTML tag */\n",
       "\n",
       "#sk-container-id-1 a.estimator_doc_link {\n",
       "  float: right;\n",
       "  font-size: 1rem;\n",
       "  line-height: 1em;\n",
       "  font-family: monospace;\n",
       "  background-color: var(--sklearn-color-background);\n",
       "  border-radius: 1rem;\n",
       "  height: 1rem;\n",
       "  width: 1rem;\n",
       "  text-decoration: none;\n",
       "  /* unfitted */\n",
       "  color: var(--sklearn-color-unfitted-level-1);\n",
       "  border: var(--sklearn-color-unfitted-level-1) 1pt solid;\n",
       "}\n",
       "\n",
       "#sk-container-id-1 a.estimator_doc_link.fitted {\n",
       "  /* fitted */\n",
       "  border: var(--sklearn-color-fitted-level-1) 1pt solid;\n",
       "  color: var(--sklearn-color-fitted-level-1);\n",
       "}\n",
       "\n",
       "/* On hover */\n",
       "#sk-container-id-1 a.estimator_doc_link:hover {\n",
       "  /* unfitted */\n",
       "  background-color: var(--sklearn-color-unfitted-level-3);\n",
       "  color: var(--sklearn-color-background);\n",
       "  text-decoration: none;\n",
       "}\n",
       "\n",
       "#sk-container-id-1 a.estimator_doc_link.fitted:hover {\n",
       "  /* fitted */\n",
       "  background-color: var(--sklearn-color-fitted-level-3);\n",
       "}\n",
       "\n",
       ".estimator-table summary {\n",
       "    padding: .5rem;\n",
       "    font-family: monospace;\n",
       "    cursor: pointer;\n",
       "}\n",
       "\n",
       ".estimator-table details[open] {\n",
       "    padding-left: 0.1rem;\n",
       "    padding-right: 0.1rem;\n",
       "    padding-bottom: 0.3rem;\n",
       "}\n",
       "\n",
       ".estimator-table .parameters-table {\n",
       "    margin-left: auto !important;\n",
       "    margin-right: auto !important;\n",
       "}\n",
       "\n",
       ".estimator-table .parameters-table tr:nth-child(odd) {\n",
       "    background-color: #fff;\n",
       "}\n",
       "\n",
       ".estimator-table .parameters-table tr:nth-child(even) {\n",
       "    background-color: #f6f6f6;\n",
       "}\n",
       "\n",
       ".estimator-table .parameters-table tr:hover {\n",
       "    background-color: #e0e0e0;\n",
       "}\n",
       "\n",
       ".estimator-table table td {\n",
       "    border: 1px solid rgba(106, 105, 104, 0.232);\n",
       "}\n",
       "\n",
       ".user-set td {\n",
       "    color:rgb(255, 94, 0);\n",
       "    text-align: left;\n",
       "}\n",
       "\n",
       ".user-set td.value pre {\n",
       "    color:rgb(255, 94, 0) !important;\n",
       "    background-color: transparent !important;\n",
       "}\n",
       "\n",
       ".default td {\n",
       "    color: black;\n",
       "    text-align: left;\n",
       "}\n",
       "\n",
       ".user-set td i,\n",
       ".default td i {\n",
       "    color: black;\n",
       "}\n",
       "\n",
       ".copy-paste-icon {\n",
       "    background-image: url(data:image/svg+xml;base64,PHN2ZyB4bWxucz0iaHR0cDovL3d3dy53My5vcmcvMjAwMC9zdmciIHZpZXdCb3g9IjAgMCA0NDggNTEyIj48IS0tIUZvbnQgQXdlc29tZSBGcmVlIDYuNy4yIGJ5IEBmb250YXdlc29tZSAtIGh0dHBzOi8vZm9udGF3ZXNvbWUuY29tIExpY2Vuc2UgLSBodHRwczovL2ZvbnRhd2Vzb21lLmNvbS9saWNlbnNlL2ZyZWUgQ29weXJpZ2h0IDIwMjUgRm9udGljb25zLCBJbmMuLS0+PHBhdGggZD0iTTIwOCAwTDMzMi4xIDBjMTIuNyAwIDI0LjkgNS4xIDMzLjkgMTQuMWw2Ny45IDY3LjljOSA5IDE0LjEgMjEuMiAxNC4xIDMzLjlMNDQ4IDMzNmMwIDI2LjUtMjEuNSA0OC00OCA0OGwtMTkyIDBjLTI2LjUgMC00OC0yMS41LTQ4LTQ4bDAtMjg4YzAtMjYuNSAyMS41LTQ4IDQ4LTQ4ek00OCAxMjhsODAgMCAwIDY0LTY0IDAgMCAyNTYgMTkyIDAgMC0zMiA2NCAwIDAgNDhjMCAyNi41LTIxLjUgNDgtNDggNDhMNDggNTEyYy0yNi41IDAtNDgtMjEuNS00OC00OEwwIDE3NmMwLTI2LjUgMjEuNS00OCA0OC00OHoiLz48L3N2Zz4=);\n",
       "    background-repeat: no-repeat;\n",
       "    background-size: 14px 14px;\n",
       "    background-position: 0;\n",
       "    display: inline-block;\n",
       "    width: 14px;\n",
       "    height: 14px;\n",
       "    cursor: pointer;\n",
       "}\n",
       "</style><body><div id=\"sk-container-id-1\" class=\"sk-top-container\"><div class=\"sk-text-repr-fallback\"><pre>SGDClassifier(random_state=42)</pre><b>In a Jupyter environment, please rerun this cell to show the HTML representation or trust the notebook. <br />On GitHub, the HTML representation is unable to render, please try loading this page with nbviewer.org.</b></div><div class=\"sk-container\" hidden><div class=\"sk-item\"><div class=\"sk-estimator fitted sk-toggleable\"><input class=\"sk-toggleable__control sk-hidden--visually\" id=\"sk-estimator-id-1\" type=\"checkbox\" checked><label for=\"sk-estimator-id-1\" class=\"sk-toggleable__label fitted sk-toggleable__label-arrow\"><div><div>SGDClassifier</div></div><div><a class=\"sk-estimator-doc-link fitted\" rel=\"noreferrer\" target=\"_blank\" href=\"https://scikit-learn.org/1.7/modules/generated/sklearn.linear_model.SGDClassifier.html\">?<span>Documentation for SGDClassifier</span></a><span class=\"sk-estimator-doc-link fitted\">i<span>Fitted</span></span></div></label><div class=\"sk-toggleable__content fitted\" data-param-prefix=\"\">\n",
       "        <div class=\"estimator-table\">\n",
       "            <details>\n",
       "                <summary>Parameters</summary>\n",
       "                <table class=\"parameters-table\">\n",
       "                  <tbody>\n",
       "                    \n",
       "        <tr class=\"default\">\n",
       "            <td><i class=\"copy-paste-icon\"\n",
       "                 onclick=\"copyToClipboard('loss',\n",
       "                          this.parentElement.nextElementSibling)\"\n",
       "            ></i></td>\n",
       "            <td class=\"param\">loss&nbsp;</td>\n",
       "            <td class=\"value\">&#x27;hinge&#x27;</td>\n",
       "        </tr>\n",
       "    \n",
       "\n",
       "        <tr class=\"default\">\n",
       "            <td><i class=\"copy-paste-icon\"\n",
       "                 onclick=\"copyToClipboard('penalty',\n",
       "                          this.parentElement.nextElementSibling)\"\n",
       "            ></i></td>\n",
       "            <td class=\"param\">penalty&nbsp;</td>\n",
       "            <td class=\"value\">&#x27;l2&#x27;</td>\n",
       "        </tr>\n",
       "    \n",
       "\n",
       "        <tr class=\"default\">\n",
       "            <td><i class=\"copy-paste-icon\"\n",
       "                 onclick=\"copyToClipboard('alpha',\n",
       "                          this.parentElement.nextElementSibling)\"\n",
       "            ></i></td>\n",
       "            <td class=\"param\">alpha&nbsp;</td>\n",
       "            <td class=\"value\">0.0001</td>\n",
       "        </tr>\n",
       "    \n",
       "\n",
       "        <tr class=\"default\">\n",
       "            <td><i class=\"copy-paste-icon\"\n",
       "                 onclick=\"copyToClipboard('l1_ratio',\n",
       "                          this.parentElement.nextElementSibling)\"\n",
       "            ></i></td>\n",
       "            <td class=\"param\">l1_ratio&nbsp;</td>\n",
       "            <td class=\"value\">0.15</td>\n",
       "        </tr>\n",
       "    \n",
       "\n",
       "        <tr class=\"default\">\n",
       "            <td><i class=\"copy-paste-icon\"\n",
       "                 onclick=\"copyToClipboard('fit_intercept',\n",
       "                          this.parentElement.nextElementSibling)\"\n",
       "            ></i></td>\n",
       "            <td class=\"param\">fit_intercept&nbsp;</td>\n",
       "            <td class=\"value\">True</td>\n",
       "        </tr>\n",
       "    \n",
       "\n",
       "        <tr class=\"default\">\n",
       "            <td><i class=\"copy-paste-icon\"\n",
       "                 onclick=\"copyToClipboard('max_iter',\n",
       "                          this.parentElement.nextElementSibling)\"\n",
       "            ></i></td>\n",
       "            <td class=\"param\">max_iter&nbsp;</td>\n",
       "            <td class=\"value\">1000</td>\n",
       "        </tr>\n",
       "    \n",
       "\n",
       "        <tr class=\"default\">\n",
       "            <td><i class=\"copy-paste-icon\"\n",
       "                 onclick=\"copyToClipboard('tol',\n",
       "                          this.parentElement.nextElementSibling)\"\n",
       "            ></i></td>\n",
       "            <td class=\"param\">tol&nbsp;</td>\n",
       "            <td class=\"value\">0.001</td>\n",
       "        </tr>\n",
       "    \n",
       "\n",
       "        <tr class=\"default\">\n",
       "            <td><i class=\"copy-paste-icon\"\n",
       "                 onclick=\"copyToClipboard('shuffle',\n",
       "                          this.parentElement.nextElementSibling)\"\n",
       "            ></i></td>\n",
       "            <td class=\"param\">shuffle&nbsp;</td>\n",
       "            <td class=\"value\">True</td>\n",
       "        </tr>\n",
       "    \n",
       "\n",
       "        <tr class=\"default\">\n",
       "            <td><i class=\"copy-paste-icon\"\n",
       "                 onclick=\"copyToClipboard('verbose',\n",
       "                          this.parentElement.nextElementSibling)\"\n",
       "            ></i></td>\n",
       "            <td class=\"param\">verbose&nbsp;</td>\n",
       "            <td class=\"value\">0</td>\n",
       "        </tr>\n",
       "    \n",
       "\n",
       "        <tr class=\"default\">\n",
       "            <td><i class=\"copy-paste-icon\"\n",
       "                 onclick=\"copyToClipboard('epsilon',\n",
       "                          this.parentElement.nextElementSibling)\"\n",
       "            ></i></td>\n",
       "            <td class=\"param\">epsilon&nbsp;</td>\n",
       "            <td class=\"value\">0.1</td>\n",
       "        </tr>\n",
       "    \n",
       "\n",
       "        <tr class=\"default\">\n",
       "            <td><i class=\"copy-paste-icon\"\n",
       "                 onclick=\"copyToClipboard('n_jobs',\n",
       "                          this.parentElement.nextElementSibling)\"\n",
       "            ></i></td>\n",
       "            <td class=\"param\">n_jobs&nbsp;</td>\n",
       "            <td class=\"value\">None</td>\n",
       "        </tr>\n",
       "    \n",
       "\n",
       "        <tr class=\"user-set\">\n",
       "            <td><i class=\"copy-paste-icon\"\n",
       "                 onclick=\"copyToClipboard('random_state',\n",
       "                          this.parentElement.nextElementSibling)\"\n",
       "            ></i></td>\n",
       "            <td class=\"param\">random_state&nbsp;</td>\n",
       "            <td class=\"value\">42</td>\n",
       "        </tr>\n",
       "    \n",
       "\n",
       "        <tr class=\"default\">\n",
       "            <td><i class=\"copy-paste-icon\"\n",
       "                 onclick=\"copyToClipboard('learning_rate',\n",
       "                          this.parentElement.nextElementSibling)\"\n",
       "            ></i></td>\n",
       "            <td class=\"param\">learning_rate&nbsp;</td>\n",
       "            <td class=\"value\">&#x27;optimal&#x27;</td>\n",
       "        </tr>\n",
       "    \n",
       "\n",
       "        <tr class=\"default\">\n",
       "            <td><i class=\"copy-paste-icon\"\n",
       "                 onclick=\"copyToClipboard('eta0',\n",
       "                          this.parentElement.nextElementSibling)\"\n",
       "            ></i></td>\n",
       "            <td class=\"param\">eta0&nbsp;</td>\n",
       "            <td class=\"value\">0.0</td>\n",
       "        </tr>\n",
       "    \n",
       "\n",
       "        <tr class=\"default\">\n",
       "            <td><i class=\"copy-paste-icon\"\n",
       "                 onclick=\"copyToClipboard('power_t',\n",
       "                          this.parentElement.nextElementSibling)\"\n",
       "            ></i></td>\n",
       "            <td class=\"param\">power_t&nbsp;</td>\n",
       "            <td class=\"value\">0.5</td>\n",
       "        </tr>\n",
       "    \n",
       "\n",
       "        <tr class=\"default\">\n",
       "            <td><i class=\"copy-paste-icon\"\n",
       "                 onclick=\"copyToClipboard('early_stopping',\n",
       "                          this.parentElement.nextElementSibling)\"\n",
       "            ></i></td>\n",
       "            <td class=\"param\">early_stopping&nbsp;</td>\n",
       "            <td class=\"value\">False</td>\n",
       "        </tr>\n",
       "    \n",
       "\n",
       "        <tr class=\"default\">\n",
       "            <td><i class=\"copy-paste-icon\"\n",
       "                 onclick=\"copyToClipboard('validation_fraction',\n",
       "                          this.parentElement.nextElementSibling)\"\n",
       "            ></i></td>\n",
       "            <td class=\"param\">validation_fraction&nbsp;</td>\n",
       "            <td class=\"value\">0.1</td>\n",
       "        </tr>\n",
       "    \n",
       "\n",
       "        <tr class=\"default\">\n",
       "            <td><i class=\"copy-paste-icon\"\n",
       "                 onclick=\"copyToClipboard('n_iter_no_change',\n",
       "                          this.parentElement.nextElementSibling)\"\n",
       "            ></i></td>\n",
       "            <td class=\"param\">n_iter_no_change&nbsp;</td>\n",
       "            <td class=\"value\">5</td>\n",
       "        </tr>\n",
       "    \n",
       "\n",
       "        <tr class=\"default\">\n",
       "            <td><i class=\"copy-paste-icon\"\n",
       "                 onclick=\"copyToClipboard('class_weight',\n",
       "                          this.parentElement.nextElementSibling)\"\n",
       "            ></i></td>\n",
       "            <td class=\"param\">class_weight&nbsp;</td>\n",
       "            <td class=\"value\">None</td>\n",
       "        </tr>\n",
       "    \n",
       "\n",
       "        <tr class=\"default\">\n",
       "            <td><i class=\"copy-paste-icon\"\n",
       "                 onclick=\"copyToClipboard('warm_start',\n",
       "                          this.parentElement.nextElementSibling)\"\n",
       "            ></i></td>\n",
       "            <td class=\"param\">warm_start&nbsp;</td>\n",
       "            <td class=\"value\">False</td>\n",
       "        </tr>\n",
       "    \n",
       "\n",
       "        <tr class=\"default\">\n",
       "            <td><i class=\"copy-paste-icon\"\n",
       "                 onclick=\"copyToClipboard('average',\n",
       "                          this.parentElement.nextElementSibling)\"\n",
       "            ></i></td>\n",
       "            <td class=\"param\">average&nbsp;</td>\n",
       "            <td class=\"value\">False</td>\n",
       "        </tr>\n",
       "    \n",
       "                  </tbody>\n",
       "                </table>\n",
       "            </details>\n",
       "        </div>\n",
       "    </div></div></div></div></div><script>function copyToClipboard(text, element) {\n",
       "    // Get the parameter prefix from the closest toggleable content\n",
       "    const toggleableContent = element.closest('.sk-toggleable__content');\n",
       "    const paramPrefix = toggleableContent ? toggleableContent.dataset.paramPrefix : '';\n",
       "    const fullParamName = paramPrefix ? `${paramPrefix}${text}` : text;\n",
       "\n",
       "    const originalStyle = element.style;\n",
       "    const computedStyle = window.getComputedStyle(element);\n",
       "    const originalWidth = computedStyle.width;\n",
       "    const originalHTML = element.innerHTML.replace('Copied!', '');\n",
       "\n",
       "    navigator.clipboard.writeText(fullParamName)\n",
       "        .then(() => {\n",
       "            element.style.width = originalWidth;\n",
       "            element.style.color = 'green';\n",
       "            element.innerHTML = \"Copied!\";\n",
       "\n",
       "            setTimeout(() => {\n",
       "                element.innerHTML = originalHTML;\n",
       "                element.style = originalStyle;\n",
       "            }, 2000);\n",
       "        })\n",
       "        .catch(err => {\n",
       "            console.error('Failed to copy:', err);\n",
       "            element.style.color = 'red';\n",
       "            element.innerHTML = \"Failed!\";\n",
       "            setTimeout(() => {\n",
       "                element.innerHTML = originalHTML;\n",
       "                element.style = originalStyle;\n",
       "            }, 2000);\n",
       "        });\n",
       "    return false;\n",
       "}\n",
       "\n",
       "document.querySelectorAll('.fa-regular.fa-copy').forEach(function(element) {\n",
       "    const toggleableContent = element.closest('.sk-toggleable__content');\n",
       "    const paramPrefix = toggleableContent ? toggleableContent.dataset.paramPrefix : '';\n",
       "    const paramName = element.parentElement.nextElementSibling.textContent.trim();\n",
       "    const fullParamName = paramPrefix ? `${paramPrefix}${paramName}` : paramName;\n",
       "\n",
       "    element.setAttribute('title', fullParamName);\n",
       "});\n",
       "</script></body>"
      ],
      "text/plain": [
       "SGDClassifier(random_state=42)"
      ]
     },
     "execution_count": 19,
     "metadata": {},
     "output_type": "execute_result"
    }
   ],
   "source": [
    "\n",
    "%%time \n",
    "from sklearn.linear_model import SGDClassifier\n",
    "\n",
    "sgd_clf = SGDClassifier(random_state=42)\n",
    "sgd_clf.fit(X_train, y_train_5)\n",
    "# tiempo estimado de entrenamiento de 25 segundos \n"
   ]
  },
  {
   "cell_type": "markdown",
   "id": "c6b00c81",
   "metadata": {},
   "source": [
    "\n",
    "Ahora podemos usarlo para detectar imágenes del número 5:\n"
   ]
  },
  {
   "cell_type": "code",
   "execution_count": 22,
   "id": "7cf70d7a",
   "metadata": {},
   "outputs": [
    {
     "data": {
      "text/plain": [
       "array([ True])"
      ]
     },
     "execution_count": 22,
     "metadata": {},
     "output_type": "execute_result"
    }
   ],
   "source": [
    "\n",
    "\n",
    "sgd_clf.predict([X_train[0]])  # Devuelve array([True])\n",
    "\n"
   ]
  },
  {
   "cell_type": "markdown",
   "id": "e7aae5eb",
   "metadata": {},
   "source": [
    "\n",
    "## Medidas de Rendimiento\n",
    "Evaluar un clasificador es a menudo significativamente más complicado que evaluar un regresor, por lo que dedicaremos una gran parte de este capítulo a este tema.\n"
   ]
  },
  {
   "cell_type": "markdown",
   "id": "26385765",
   "metadata": {},
   "source": [
    "\n",
    "### Medición de la Precisión Usando Validación Cruzada\n",
    "Una buena manera de evaluar un modelo es usar validación cruzada. Usemos la función `cross_val_score()` para evaluar nuestro modelo `SGDClassifier`, usando validación cruzada k-fold con tres particiones:\n"
   ]
  },
  {
   "cell_type": "code",
   "execution_count": null,
   "id": "0f7c26ef",
   "metadata": {},
   "outputs": [],
   "source": [
    "\n",
    "%%time \n",
    "from sklearn.model_selection import cross_val_score\n",
    "\n",
    "cross_val_score(sgd_clf, X_train, y_train_5, cv=3, scoring=\"accuracy\")\n",
    "# Devuelve array([0.95035, 0.96035, 0.9604])\n",
    "\n"
   ]
  },
  {
   "cell_type": "markdown",
   "id": "12661f57",
   "metadata": {},
   "source": [
    "\n",
    "¡Más del 95% de precisión! Pero antes de emocionarnos demasiado, veamos un clasificador ficticio que solo clasifica cada imagen en la clase más frecuente, que en este caso es la clase negativa (no-5):\n"
   ]
  },
  {
   "cell_type": "code",
   "execution_count": 12,
   "id": "0490ed7c",
   "metadata": {},
   "outputs": [
    {
     "name": "stdout",
     "output_type": "stream",
     "text": [
      "False\n"
     ]
    },
    {
     "data": {
      "text/plain": [
       "array([0.90965, 0.90965, 0.90965])"
      ]
     },
     "execution_count": 12,
     "metadata": {},
     "output_type": "execute_result"
    }
   ],
   "source": [
    "from sklearn.dummy import DummyClassifier\n",
    "\n",
    "dummy_clf = DummyClassifier()\n",
    "dummy_clf.fit(X_train, y_train_5)\n",
    "print(any(dummy_clf.predict(X_train)))  # Imprime False: no se detectaron 5s\n",
    "\n",
    "cross_val_score(dummy_clf, X_train, y_train_5, cv=3, scoring=\"accuracy\")\n",
    "# Devuelve array([0.90965, 0.90965, 0.90965])\n",
    "\n"
   ]
  },
  {
   "cell_type": "markdown",
   "id": "cb8295f1",
   "metadata": {},
   "source": [
    "\n",
    "¡Tiene más del 90% de precisión! Esto se debe simplemente a que solo alrededor del 10% de las imágenes son 5s. "
   ]
  },
  {
   "cell_type": "markdown",
   "id": "736909a4",
   "metadata": {},
   "source": [
    "Esto demuestra por qué la precisión generalmente no es la medida de rendimiento preferida para clasificadores, especialmente cuando se trata de conjuntos de datos desequilibrados.\n"
   ]
  },
  {
   "cell_type": "markdown",
   "id": "8f54f7d6",
   "metadata": {},
   "source": [
    "# Ampliemos ideas sobre la clase DummyClassifier  \n",
    "\n",
    "# **Explicación de `DummyClassifier` en Scikit-Learn**\n",
    "\n",
    "## **¿Qué es `DummyClassifier`?**\n",
    "El `DummyClassifier` es un clasificador \"tonto\" o de referencia que realiza predicciones siguiendo reglas simples **sin aprender patrones de los datos**. Se utiliza principalmente para:\n",
    "- Establecer una **línea base** (baseline) de rendimiento mínimo que cualquier modelo real debe superar.\n",
    "- Detectar datasets desbalanceados o problemas en la evaluación.\n",
    "\n",
    "## **Estrategias Disponibles**\n",
    "Puede configurarse con diferentes estrategias mediante el parámetro `strategy`:\n",
    "\n",
    "| Estrategia          | Comportamiento                              | Uso típico                     |\n",
    "|---------------------|--------------------------------------------|--------------------------------|\n",
    "| `\"most_frequent\"`   | Siempre predice la clase más común.        | Datasets desbalanceados.       |\n",
    "| `\"stratified\"`      | Predice aleatoriamente respetando la distribución de clases. | Evaluación de aleatoriedad.    |\n",
    "| `\"uniform\"`         | Predice uniformemente al azar todas las clases. | Comparación de aleatoriedad.   |\n",
    "| `\"constant\"`        | Siempre predice una clase fija (definida por `constant`). | Pruebas específicas.           |\n",
    "\n",
    "---\n",
    "\n",
    "## **Ejemplo Práctico con MNIST**\n",
    "### **1. Configuración Inicial**\n",
    "```python\n",
    "from sklearn.dummy import DummyClassifier\n",
    "from sklearn.datasets import fetch_openml\n",
    "from sklearn.model_selection import cross_val_score\n",
    "\n",
    "# Cargar MNIST\n",
    "mnist = fetch_openml('mnist_784', as_frame=False)\n",
    "X, y = mnist.data, mnist.target\n",
    "y_binary = (y == '5')  # Clasificación binaria: 5 vs no-5\n",
    "```\n",
    "\n",
    "### **2. Comparación con SGDClassifier**\n",
    "```python\n",
    "from sklearn.linear_model import SGDClassifier\n",
    "\n",
    "# Clasificador real\n",
    "sgd_clf = SGDClassifier(random_state=42)\n",
    "sgd_scores = cross_val_score(sgd_clf, X, y_binary, cv=3, scoring=\"accuracy\")\n",
    "\n",
    "# Clasificador dummy (siempre predice la clase mayoritaria)\n",
    "dummy_clf = DummyClassifier(strategy=\"most_frequent\")\n",
    "dummy_scores = cross_val_score(dummy_clf, X, y_binary, cv=3, scoring=\"accuracy\")\n",
    "\n",
    "print(f\"SGDClassifier Accuracy: {sgd_scores.mean():.2f}\")\n",
    "print(f\"DummyClassifier Accuracy: {dummy_scores.mean():.2f}\")\n",
    "```\n",
    "**Salida:**\n",
    "```\n",
    "SGDClassifier Accuracy: 0.96\n",
    "DummyClassifier Accuracy: 0.91  # ¡El 91% son \"no-5\"! El modelo real solo mejora un 5%.\n",
    "```\n",
    "\n",
    "---\n",
    "\n",
    "## **¿Por qué es Importante?**\n",
    "1. **Detección de Desbalanceo**:  \n",
    "   Si un `DummyClassifier` tiene alta precisión (ej: 90%), el dataset está desbalanceado.  \n",
    "   *Ejemplo:* En MNIST, solo ~10% son \"5s\".\n",
    "\n",
    "2. **Validación de Métricas**:  \n",
    "   Si tu modelo complejo no supera significativamente al `DummyClassifier`, **no está aprendiendo nada útil**.\n",
    "\n",
    "3. **Pruebas de Cordura**:  \n",
    "   Útil para verificar que el pipeline de evaluación funciona correctamente.\n",
    "\n",
    "---\n",
    "\n",
    "## **Uso Avanzado: Matriz de Confusión**\n",
    "```python\n",
    "from sklearn.metrics import confusion_matrix\n",
    "\n",
    "dummy_clf.fit(X, y_binary)\n",
    "y_dummy_pred = dummy_clf.predict(X)\n",
    "\n",
    "print(confusion_matrix(y_binary, y_dummy_pred))\n",
    "```\n",
    "**Salida:**\n",
    "```\n",
    "[[63000     0]  # Todos predichos como \"no-5\" (0 falsos positivos)\n",
    " [ 7000     0]] # 0 verdaderos positivos\n",
    "```\n",
    "\n",
    "---\n",
    "\n",
    "## **Conclusión Pedagógica**\n",
    "- **Enseñanza:** Usa `DummyClassifier` para mostrar que **accuracy no lo es todo** (¡puede ser engañoso!).\n",
    "- **Aprendizaje Crítico:** Invita a los estudiantes a reflexionar:  \n",
    "  *\"¿Por qué un modelo 'tonto' puede tener alta precisión? ¿Qué métricas alternativas usar?\"*  \n",
    "\n",
    "**✨ Tip:** Combínalo con `classification_report` para comparar precisión, recall y F1.  \n",
    "```python\n",
    "from sklearn.metrics import classification_report\n",
    "print(classification_report(y_binary, y_dummy_pred))\n",
    "```"
   ]
  },
  {
   "cell_type": "markdown",
   "id": "a3a51b21",
   "metadata": {},
   "source": [
    "\n",
    "### Matrices de Confusión\n",
    "Una mejor manera de evaluar el rendimiento de un clasificador es mirar la matriz de confusión. Para calcularla, primero necesitamos un conjunto de predicciones para comparar con los objetivos reales. Podemos usar la función `cross_val_predict()`:\n"
   ]
  },
  {
   "cell_type": "code",
   "execution_count": null,
   "id": "2feb7857",
   "metadata": {},
   "outputs": [],
   "source": [
    "\n",
    "\n",
    "from sklearn.model_selection import cross_val_predict\n",
    "\n",
    "y_train_pred = cross_val_predict(sgd_clf, X_train, y_train_5, cv=3)\n",
    "\n"
   ]
  },
  {
   "cell_type": "markdown",
   "id": "6bfca40b",
   "metadata": {},
   "source": [
    "\n",
    "Ahora podemos obtener la matriz de confusión:\n",
    "\n"
   ]
  },
  {
   "cell_type": "code",
   "execution_count": null,
   "id": "9525bfc1",
   "metadata": {},
   "outputs": [],
   "source": [
    "\n",
    "from sklearn.metrics import confusion_matrix\n",
    "\n",
    "cm = confusion_matrix(y_train_5, y_train_pred)\n",
    "print(cm)\n",
    "# array([[53892,   687],\n",
    "#        [ 1891,  3530]])\n",
    "\n"
   ]
  },
  {
   "cell_type": "markdown",
   "id": "74b4a7ab",
   "metadata": {},
   "source": [
    "\n",
    "Cada fila en una matriz de confusión representa una clase real, mientras que cada columna representa una clase predicha.\n",
    "\n",
    "### Precisión y Exhaustividad\n",
    "La matriz de confusión proporciona mucha información, pero a veces puede preferirse una métrica más concisa. Una interesante es la precisión de las predicciones positivas, llamada precisión del clasificador:\n"
   ]
  },
  {
   "cell_type": "code",
   "execution_count": null,
   "id": "018ecad2",
   "metadata": {},
   "outputs": [],
   "source": [
    "from sklearn.metrics import precision_score, recall_score\n",
    "\n",
    "precision = precision_score(y_train_5, y_train_pred)  # 3530 / (3530 + 687)\n",
    "recall = recall_score(y_train_5, y_train_pred)       # 3530 / (3530 + 1891)\n",
    "\n"
   ]
  },
  {
   "cell_type": "markdown",
   "id": "fddfbbeb",
   "metadata": {},
   "source": [
    "\n",
    "Es conveniente combinar la precisión y la exhaustividad en una sola métrica llamada puntuación F₁, que es la media armónica de la precisión y la exhaustividad:\n"
   ]
  },
  {
   "cell_type": "code",
   "execution_count": null,
   "id": "b0b49473",
   "metadata": {},
   "outputs": [],
   "source": [
    "from sklearn.metrics import f1_score\n",
    "\n",
    "f1_score(y_train_5, y_train_pred)\n",
    "\n"
   ]
  },
  {
   "cell_type": "markdown",
   "id": "a8078d39",
   "metadata": {},
   "source": [
    "\n",
    "## Conclusión\n"
   ]
  },
  {
   "cell_type": "markdown",
   "id": "cf48e089",
   "metadata": {},
   "source": [
    "Este capítulo introdujo los conceptos fundamentales de clasificación utilizando el conjunto de datos MNIST como ejemplo. "
   ]
  },
  {
   "cell_type": "markdown",
   "id": "6abb3d2b",
   "metadata": {},
   "source": [
    "Cubrimos desde la carga y exploración de datos hasta el entrenamiento de un clasificador binario y la evaluación de su rendimiento usando diversas métricas."
   ]
  },
  {
   "cell_type": "markdown",
   "id": "994dfd1d",
   "metadata": {},
   "source": [
    "# Práctica de codificación sobre clasificación con ml \n",
    "\n"
   ]
  },
  {
   "cell_type": "markdown",
   "id": "e25d0485",
   "metadata": {},
   "source": [
    "\n",
    "# **Práctica de Clasificación con MNIST**  \n"
   ]
  },
  {
   "cell_type": "markdown",
   "id": "1847f3be",
   "metadata": {},
   "source": [
    "**Objetivo:** Implementar un clasificador binario y multiclase utilizando el dataset MNIST, evaluando su rendimiento con distintas métricas.  \n",
    "\n",
    "---\n"
   ]
  },
  {
   "cell_type": "markdown",
   "id": "ea80c306",
   "metadata": {},
   "source": [
    "\n",
    "## **1. Configuración Inicial**  \n",
    "**Habilidades:**  \n",
    "- Carga de datos  \n",
    "- Exploración básica  \n",
    "- Preprocesamiento  \n"
   ]
  },
  {
   "cell_type": "markdown",
   "id": "c40578e5",
   "metadata": {},
   "source": [
    "\n",
    "### **Código:**\n"
   ]
  },
  {
   "cell_type": "code",
   "execution_count": 11,
   "id": "d74bfbd0",
   "metadata": {},
   "outputs": [
    {
     "name": "stdout",
     "output_type": "stream",
     "text": [
      "Forma de X: (70000, 784)\n",
      "Forma de y: (70000,)\n"
     ]
    }
   ],
   "source": [
    "# Importar librerías básicas\n",
    "import numpy as np\n",
    "import matplotlib.pyplot as plt\n",
    "from sklearn.datasets import fetch_openml\n",
    "\n",
    "# Cargar MNIST\n",
    "mnist = fetch_openml('mnist_784', as_frame=False, parser='auto')\n",
    "X, y = mnist.data, mnist.target\n",
    "\n",
    "# Ver dimensiones\n",
    "print(f\"Forma de X: {X.shape}\")  # (70000, 784)\n",
    "print(f\"Forma de y: {y.shape}\")  # (70000,)\n",
    "\n",
    "# Dividir en train/test (ya está preparticionado)\n",
    "X_train, X_test = X[:60000], X[60000:]\n",
    "y_train, y_test = y[:60000], y[60000:]\n",
    "# tiempo de ejecución de 5 segundos\n"
   ]
  },
  {
   "cell_type": "markdown",
   "id": "a0979e77",
   "metadata": {},
   "source": [
    "\n",
    "### **Ejercicios:**  \n",
    "1. **Visualización de dígitos:**  \n",
    "   - Usa `matplotlib` para mostrar el primer dígito del dataset (`X[0]`).  \n",
    "   - Verifica que la etiqueta (`y[0]`) coincida con la imagen.  \n",
    "2. **Distribución de clases:**  \n",
    "   - Grafica un histograma de las etiquetas en `y_train`.  \n",
    "   - ¿Está balanceado el dataset?  \n",
    "\n",
    "---\n"
   ]
  },
  {
   "cell_type": "markdown",
   "id": "a3a0c182",
   "metadata": {},
   "source": [
    "\n",
    "## **2. Clasificación Binaria (5 vs no-5)**  \n",
    "**Habilidades:**  \n",
    "- Creación de etiquetas binarias  \n",
    "- Entrenamiento con `SGDClassifier`  \n",
    "- Validación cruzada  \n"
   ]
  },
  {
   "cell_type": "markdown",
   "id": "da9213ff",
   "metadata": {},
   "source": [
    "\n",
    "### **Código:**\n"
   ]
  },
  {
   "cell_type": "code",
   "execution_count": null,
   "id": "28c93ec3",
   "metadata": {},
   "outputs": [
    {
     "name": "stdout",
     "output_type": "stream",
     "text": [
      "Accuracy en validación cruzada: [0.95035 0.96035 0.9604 ]\n",
      "Matriz de confusión:\n",
      "[[53892   687]\n",
      " [ 1891  3530]]\n",
      "Precisión: 0.84, Recall: 0.65, F1: 0.73\n"
     ]
    }
   ],
   "source": [
    "%%time \n",
    "from sklearn.datasets import fetch_openml\n",
    "from sklearn.linear_model import SGDClassifier\n",
    "from sklearn.model_selection import cross_val_score, cross_val_predict\n",
    "from sklearn.metrics import confusion_matrix, precision_score, recall_score, f1_score\n",
    "\n",
    "mnist = fetch_openml('mnist_784', as_frame = False) # load the MNIST dataset\n",
    "X,y = mnist.data, mnist.target \n",
    "X_train, X_test, y_train, y_test = X[:60_000], X[60_000:], y[:60_000], y[60_000:]\n",
    "# Convertir a problema binario (5 o no-5)\n",
    "y_train_5 = (y_train == '5')\n",
    "y_test_5 = (y_test == '5')\n",
    "\n",
    "# Entrenar SGDClassifier\n",
    "sgd_clf = SGDClassifier(random_state=42)\n",
    "sgd_clf.fit(X_train, y_train_5)\n",
    "\n",
    "# Validación cruzada (accuracy)\n",
    "scores = cross_val_score(sgd_clf, X_train, y_train_5, cv=3, scoring=\"accuracy\")\n",
    "print(f\"Accuracy en validación cruzada: {scores}\")\n",
    "\n",
    "# Predicciones para matriz de confusión\n",
    "y_train_pred = cross_val_predict(sgd_clf, X_train, y_train_5, cv=3)\n",
    "cm = confusion_matrix(y_train_5, y_train_pred)\n",
    "print(f\"Matriz de confusión:\\n{cm}\")\n",
    "\n",
    "# Precisión, recall y F1\n",
    "precision = precision_score(y_train_5, y_train_pred)\n",
    "recall = recall_score(y_train_5, y_train_pred)\n",
    "f1 = f1_score(y_train_5, y_train_pred)\n",
    "print(f\"Precisión: {precision:.2f}, Recall: {recall:.2f}, F1: {f1:.2f}\")\n",
    "# tiempo estimado de ejecución: 1.5 minutos\n"
   ]
  },
  {
   "cell_type": "markdown",
   "id": "68b06c10",
   "metadata": {},
   "source": [
    "\n",
    "### **Ejercicios:**  \n",
    "1. **Comparación con un clasificador dummy:**  \n",
    "   - Usa `DummyClassifier(strategy='most_frequent')` y compara su accuracy con `SGDClassifier`.  \n",
    "   - ¿Por qué el accuracy alto no siempre es indicativo de buen rendimiento?  \n"
   ]
  },
  {
   "cell_type": "markdown",
   "id": "f9740c4a",
   "metadata": {},
   "source": [
    "2. **Análisis de falsos positivos/negativos:**  \n",
    "   - Extrae algunas imágenes donde el modelo falló (FP y FN) y visualízalas.  \n",
    "   - ¿Qué patrones observas?  \n",
    "\n",
    "---\n"
   ]
  },
  {
   "cell_type": "markdown",
   "id": "05d225df",
   "metadata": {},
   "source": [
    "\n",
    "## **3. Clasificación Multiclase (Todos los dígitos)**  \n",
    "**Habilidades:**  \n",
    "- Extender a clasificación multiclase  \n",
    "- Uso de `RandomForestClassifier`  \n",
    "- Evaluación con matriz de confusión  \n"
   ]
  },
  {
   "cell_type": "markdown",
   "id": "85382bb4",
   "metadata": {},
   "source": [
    "\n",
    "### **Código:**\n"
   ]
  },
  {
   "cell_type": "markdown",
   "id": "53ca740d",
   "metadata": {},
   "source": [
    "```python\n",
    "from sklearn.ensemble import RandomForestClassifier\n",
    "from sklearn.metrics import classification_report\n",
    "\n",
    "# Entrenar RandomForest (maneja multiclase directamente)\n",
    "forest_clf = RandomForestClassifier(random_state=42)\n",
    "forest_clf.fit(X_train, y_train)  # y_train original (0-9)\n",
    "\n",
    "# Predicciones y evaluación\n",
    "y_train_pred_forest = cross_val_predict(forest_clf, X_train, y_train, cv=3)\n",
    "print(classification_report(y_train, y_train_pred_forest))\n",
    "\n",
    "# Matriz de confusión detallada\n",
    "plt.figure(figsize=(10, 8))\n",
    "plt.matshow(confusion_matrix(y_train, y_train_pred_forest), cmap=plt.cm.Blues, fignum=1)\n",
    "plt.colorbar()\n",
    "plt.xlabel(\"Predicción\")\n",
    "plt.ylabel(\"Real\")\n",
    "plt.show()\n",
    "```\n"
   ]
  },
  {
   "cell_type": "markdown",
   "id": "f4f6fdd9",
   "metadata": {},
   "source": [
    "\n",
    "### **Ejercicios:**  \n",
    "1. **Comparación de modelos:**  \n",
    "   - Compara `RandomForestClassifier` con `SGDClassifier` en clasificación multiclase.  \n",
    "   - ¿Cuál tiene mejor recall para el dígito \"5\"?  \n",
    "2. **Análisis de errores:**  \n",
    "   - Identifica los pares de dígitos que más se confunden (ej: 3 ↔ 5, 7 ↔ 9).  \n",
    "   - ¿Por qué crees que ocurre esto?  \n",
    "\n",
    "---\n"
   ]
  },
  {
   "cell_type": "markdown",
   "id": "6b488712",
   "metadata": {},
   "source": [
    "\n",
    "## **4. Optimización con Escalado de Características**  \n",
    "**Habilidades:**  \n",
    "- Preprocesamiento con `StandardScaler`  \n",
    "- Impacto en modelos lineales  \n",
    "\n",
    "### **Código:**\n"
   ]
  },
  {
   "cell_type": "markdown",
   "id": "14883a3d",
   "metadata": {},
   "source": [
    "```python\n",
    "from sklearn.preprocessing import StandardScaler\n",
    "from sklearn.pipeline import make_pipeline\n",
    "\n",
    "# Pipeline con escalado + SGD\n",
    "sgd_pipe = make_pipeline(\n",
    "    StandardScaler(),\n",
    "    SGDClassifier(random_state=42)\n",
    ")\n",
    "\n",
    "# Evaluar con escalado\n",
    "sgd_pipe.fit(X_train, y_train_5)\n",
    "y_pred_scaled = cross_val_predict(sgd_pipe, X_train, y_train_5, cv=3)\n",
    "print(f\"Precisión con escalado: {precision_score(y_train_5, y_pred_scaled):.2f}\")\n",
    "```\n"
   ]
  },
  {
   "cell_type": "markdown",
   "id": "d6455c1d",
   "metadata": {},
   "source": [
    "\n",
    "### **Ejercicios:**  \n",
    "1. **Efecto del escalado:**  \n",
    "   - Compara el rendimiento de `SGDClassifier` con y sin escalado.  \n",
    "   - ¿Por qué es importante para modelos lineales?  \n",
    "2. **Prueba con otros modelos:**  \n",
    "   - ¿Mejora `RandomForestClassifier` con escalado? Justifica.  \n",
    "\n",
    "---\n"
   ]
  },
  {
   "cell_type": "markdown",
   "id": "52eff2ed",
   "metadata": {},
   "source": [
    "\n",
    "## **5. Entrega Final (Evaluación en Test)**  \n",
    "**Habilidades:**  \n",
    "- Evaluación final en datos no vistos  \n",
    "- Reporte completo de métricas  \n",
    "\n",
    "### **Código:**\n"
   ]
  },
  {
   "cell_type": "code",
   "execution_count": null,
   "id": "175782f0",
   "metadata": {},
   "outputs": [],
   "source": [
    "```python\n",
    "# Evaluar el mejor modelo en test\n",
    "final_model = RandomForestClassifier(random_state=42)\n",
    "final_model.fit(X_train, y_train)\n",
    "\n",
    "# Reporte final\n",
    "y_test_pred = final_model.predict(X_test)\n",
    "print(classification_report(y_test, y_test_pred))\n",
    "```\n"
   ]
  },
  {
   "cell_type": "markdown",
   "id": "e04405fd",
   "metadata": {},
   "source": [
    "\n",
    "### **Ejercicio Final:**  \n",
    "- **Reflexión:**  \n",
    "  - ¿Qué modelo tuvo mejor rendimiento?  \n",
    "  - ¿Qué métrica es más importante en MNIST: precisión, recall o F1?  \n",
    "  - ¿Cómo podrías mejorar aún más el modelo?  \n",
    "\n",
    "---\n"
   ]
  },
  {
   "cell_type": "markdown",
   "id": "e73a7aee",
   "metadata": {},
   "source": [
    "\n",
    "## **Rúbrica de Evaluación**  \n",
    "| **Habilidad**               | **Puntos** |  \n",
    "|------------------------------|-----------|  \n",
    "| Carga y exploración de datos | 2         |  \n",
    "| Clasificación binaria        | 3         |  \n",
    "| Clasificación multiclase     | 3         |  \n",
    "| Optimización y escalado      | 2         |  \n",
    "| Análisis crítico            | 2         |  \n",
    "\n",
    "**Total:** 12 puntos.  \n",
    "\n",
    "> ✅ **Tips:**  \n",
    "> - Usa `plt.subplots()` para visualizar múltiples dígitos.  \n",
    "> - Experimenta con `GridSearchCV` para ajustar hiperparámetros.  \n",
    "> - Prueba reducir dimensionalidad con PCA si el entrenamiento es lento."
   ]
  },
  {
   "cell_type": "markdown",
   "id": "f916feb9",
   "metadata": {},
   "source": [
    "# Sobre la lectuta interactiva y experimental "
   ]
  },
  {
   "cell_type": "markdown",
   "id": "3cac948a",
   "metadata": {},
   "source": [
    "La **lectura interactiva y experimental** de los cuadernos Jupyter diseñados para el curso de **Fundamentos de Lógica** implica un enfoque dinámico y práctico para el aprendizaje, donde los estudiantes no solo consumen información teórica, sino que también interactúan con el contenido, modifican ejemplos, ejecutan código y experimentan con los conceptos lógicos en un entorno computacional. "
   ]
  },
  {
   "cell_type": "markdown",
   "id": "1da4d9a7",
   "metadata": {},
   "source": [
    "A continuación, se detallan las características clave de este enfoque:\n",
    "\n",
    "---\n"
   ]
  },
  {
   "cell_type": "markdown",
   "id": "bab6c6f9",
   "metadata": {},
   "source": [
    "\n",
    "### **1. Lectura Interactiva**  \n",
    "- **Manipulación directa del contenido**: Los estudiantes pueden ejecutar celdas de código, modificar fórmulas lógicas o ejemplos, y observar cómo cambian los resultados en tiempo real.  \n",
    "- **Visualización interactiva**: Uso de gráficos, diagramas (como árboles semánticos o tablas de verdad) o herramientas que respondan a entradas del usuario para ilustrar conceptos como validez, consistencia o inferencia.  \n",
    "- **Retroalimentación inmediata**: Los cuadernos pueden incluir ejercicios con autoevaluación (ejecutando código que verifica soluciones) o explicaciones emergentes al resolver problemas.  \n",
    "\n",
    "---\n"
   ]
  },
  {
   "cell_type": "markdown",
   "id": "05442fd7",
   "metadata": {},
   "source": [
    "\n",
    "### **2. Lectura Experimental**  \n",
    "- **Aprendizaje basado en prueba y error**: Los estudiantes pueden \"jugar\" con estructuras lógicas (por ejemplo, modificar conectores en una fórmula proposicional y ver cómo afecta su tabla de verdad).  \n",
    "- **Simulación de escenarios**: Por ejemplo, modelar argumentos en lógica de primer orden y evaluar su corrección mediante ejecución de código (usando librerías como `sympy` o herramientas ad-hoc).  \n",
    "- **Exploración guiada y abierta**: Se incluyen secciones con consignas del tipo *\"¿Qué pasa si cambias este axioma?\"* o *\"Intenta construir un contraejemplo\"* para fomentar la curiosidad.  \n",
    "\n",
    "---\n"
   ]
  },
  {
   "cell_type": "markdown",
   "id": "374a8ea9",
   "metadata": {},
   "source": [
    "\n",
    "### **3. Componentes clave de los cuadernos**  \n",
    "- **Fragmentos de código ejecutable**: Para evaluar expresiones lógicas, automatizar pruebas o implementar algoritmos (ej: verificación de tautologías).  \n",
    "- **Celdas con texto teórico y preguntas reflexivas**: Integradas con ejemplos prácticos que requieren intervención activa (ej: *\"Define aquí tu propia fórmula y comprueba si es satisfacible\"*).  \n",
    "- **Enlaces a recursos externos**: Como demostradores en línea o lecturas complementarias para profundizar.  \n",
    "\n",
    "---\n"
   ]
  },
  {
   "cell_type": "markdown",
   "id": "c750af8a",
   "metadata": {},
   "source": [
    "\n",
    "### **4. Beneficios pedagógicos**  \n",
    "- **Enganche activo**: Combina teoría y práctica sin salir del entorno digital.  \n",
    "- **Personalización**: Los estudiantes pueden ajustar el ritmo y profundidad de su aprendizaje.  \n",
    "- **Preparación para aplicaciones reales**: Familiariza a los estudiantes con herramientas usadas en investigación (ej: Python para lógica simbólica).  \n",
    "\n",
    "---\n"
   ]
  },
  {
   "cell_type": "markdown",
   "id": "0602e6ee",
   "metadata": {},
   "source": [
    "\n",
    "### **Ejemplo concreto**  \n",
    "Un cuaderno podría incluir:  \n",
    "1. Una explicación de *modus ponens* con una fórmula predefinida (`p → q`, `p`, luego `q`).  \n",
    "2. Una celda interactiva donde el estudiante modifique `p` o `q` y observe cómo falla la regla si las premisas cambian.  \n",
    "3. Un ejercicio para programar un verificador de *modus ponens* usando diccionarios de Python.  \n"
   ]
  },
  {
   "cell_type": "markdown",
   "id": "70e1a505",
   "metadata": {},
   "source": [
    "\n",
    "Este enfoque transforma la lógica (a menudo abstracta) en una experiencia tangible y adaptable."
   ]
  },
  {
   "cell_type": "markdown",
   "id": "8396c0ed",
   "metadata": {},
   "source": [
    "# Presentación de la estructura de la clase    \n"
   ]
  },
  {
   "cell_type": "markdown",
   "id": "ff84fe1d",
   "metadata": {},
   "source": [
    "\n",
    "\n",
    "# **Diseño de Clase STEAM: \"Clasificación con Machine Learning y MNIST\"**  \n",
    "**Enfoques:** Aprendizaje Basado en Problemas/Proyectos (ABPP) + Teoría de Registros de Representación Semiótica (Duval)  \n",
    "**Herramientas:** Python (Jupyter Notebook, SymPy, Matplotlib, Plotly, ipywidgets) + Cocodrilo Clips  \n",
    "\n",
    "---\n"
   ]
  },
  {
   "cell_type": "markdown",
   "id": "a48fea50",
   "metadata": {},
   "source": [
    "\n",
    "## **1. Título de la Clase**  \n",
    "**\"De los Dígitos a las Redes Neuronales: Clasificación con MNIST desde las Matemáticas y la Computación\"**  \n",
    "\n",
    "---\n"
   ]
  },
  {
   "cell_type": "markdown",
   "id": "026fd060",
   "metadata": {},
   "source": [
    "\n",
    "## **2. Objetivos de Aprendizaje**  \n"
   ]
  },
  {
   "cell_type": "markdown",
   "id": "c9a114e4",
   "metadata": {},
   "source": [
    "### **Objetivos STEAM**  \n",
    "- **Ciencia:** Analizar el dataset MNIST como sistema de representación numérico-visual.  \n",
    "- **Tecnología:** Implementar clasificadores binarios/multiclase con `scikit-learn`.  \n",
    "- **Ingeniería:** Diseñar circuitos lógicos (Cocodrilo Clips) que simulen compuertas AND/OR para clasificación binaria.  \n",
    "- **Artes:** Crear visualizaciones interactivas de dígitos con `matplotlib.animation`.  \n",
    "- **Matemáticas:** Modelar matrices de confusión y métricas ($\\text{Precisión} = \\frac{TP}{TP+FP}$) con SymPy.  \n"
   ]
  },
  {
   "cell_type": "markdown",
   "id": "82892658",
   "metadata": {},
   "source": [
    "\n",
    "### **Indicadores de Logro**  \n",
    "- El estudiante representa MNIST en registros semióticos (tablas, gráficos, código).  \n",
    "- Justifica la elección de métricas usando pensamiento crítico (*\"¿Por qué F1 es mejor que accuracy en datasets desbalanceados?\"*).  \n",
    "\n",
    "---\n"
   ]
  },
  {
   "cell_type": "markdown",
   "id": "08ecd126",
   "metadata": {},
   "source": [
    "\n",
    "## **3. Mapa Conceptual (Graphviz)**  \n"
   ]
  },
  {
   "cell_type": "code",
   "execution_count": 2,
   "id": "fe7f1883",
   "metadata": {},
   "outputs": [
    {
     "data": {
      "text/plain": [
       "'C:\\\\Users\\\\marco\\\\Downloads\\\\mnist_classification.png'"
      ]
     },
     "execution_count": 2,
     "metadata": {},
     "output_type": "execute_result"
    }
   ],
   "source": [
    "\n",
    "from graphviz import Digraph\n",
    "\n",
    "graph = Digraph('G', filename='C:/Users/marco/Downloads/mnist_classification', format='png')\n",
    "graph.attr(overlap=\"scalexy\", rankdir=\"LR\", splines=\"true\")\n",
    "\n",
    "# Nodos principales\n",
    "graph.node('A', 'MNIST Dataset', shape='cylinder', color='#FF6D00', style='filled', fillcolor='#FFE0B2')\n",
    "graph.node('B', 'Registros Semióticos\\n(Tablas, Imágenes, Código)', shape='parallelogram', color='#1565C0')\n",
    "graph.node('C', 'Clasificación Binaria\\n(5 vs no-5)', shape='box', color='#4CAF50')\n",
    "graph.node('D', 'Matriz de Confusión', shape='ellipse', color='#D32F2F')\n",
    "graph.node('E', 'STEAM Integration', shape='doubleoctagon', color='#7B1FA2')\n",
    "\n",
    "# Edges y relaciones\n",
    "graph.edges(['AB', 'AC', 'AD', 'AE'])\n",
    "graph.edge('B', 'C', label='Transformación', style='dashed')\n",
    "graph.edge('C', 'D', label='Evaluación', color='#D32F2F')\n",
    "graph.edge('D', 'E', label='Análisis Crítico', arrowhead='vee')\n",
    "\n",
    "graph.render(view=True)\n",
    "\n"
   ]
  },
  {
   "cell_type": "markdown",
   "id": "f6bc1f6e",
   "metadata": {},
   "source": [
    "\n",
    "## **4. Contenido de la Clase**  \n",
    "### **4.1. Introducción Histórica**  \n",
    "**Cuento al estilo antioqueño:**  \n",
    "*\"¡Ave María pues! Resulta que en los años 90, unos sabios del NIST andaban recolectando números escritos a mano, como los de las facturas de la tienda. Pero llegó Yann LeCun, un francés con ideas de película, y les dijo: *'¡Esto hay que arreglarlo como un café bien colado!*'. Así nació MNIST, el dataset que hoy nos enseña a las máquinas a leer números como vos y yo.\"*  \n"
   ]
  },
  {
   "cell_type": "markdown",
   "id": "8623f395",
   "metadata": {},
   "source": [
    "\n",
    "**Imágenes:**  \n",
    "- Yann LeCun (creador de LeNet-5 para MNIST).  \n",
    "- Ejemplo de dígitos MNIST antiguos vs. modificados.  \n"
   ]
  },
  {
   "cell_type": "markdown",
   "id": "4953e9d8",
   "metadata": {},
   "source": [
    "\n",
    "### **4.2. Conceptos Clave**  \n",
    "- **Teoría de Duval:**  \n",
    "  - **Registro visual:** Gráficos de píxeles (`plt.imshow()`).  \n",
    "  - **Registro simbólico:** Matrices de confusión ($\\text{TP}, \\text{FP}$).  \n",
    "- **ABPP:** Proyecto *\"Reconocimiento de Códigos Postales\"* (problema real).  \n",
    "\n",
    "---\n"
   ]
  },
  {
   "cell_type": "markdown",
   "id": "651ed143",
   "metadata": {},
   "source": [
    "\n",
    "## **5. Canción/Poema**  \n",
    "**Rap del MNIST (Para memorizar métricas):**  \n",
    "*\"Precisión y recall, métricas pa’ clasificar,*  \n",
    "*Si el modelo es chambón, lo vas a notar.*  \n",
    "*F1 es la media, harmoniosa y real,*  \n",
    "*¡Sin balanceo de datos, no sirve el animal!\"*  \n",
    "\n",
    "---\n"
   ]
  },
  {
   "cell_type": "markdown",
   "id": "43d1cf71",
   "metadata": {},
   "source": [
    "\n",
    "## **6. Actividades de Aprendizaje**  \n",
    "### **6.1. Con Cocodrilo Clips**  \n",
    "- **Circuito AND:** Simular un clasificador binario rudimentario (ej: \"¿Es el dígito >5?\").  \n",
    "- **Exportar tabla de verdad** y compararla con `SGDClassifier`.  \n"
   ]
  },
  {
   "cell_type": "markdown",
   "id": "0a5c70f0",
   "metadata": {},
   "source": [
    "\n",
    "### **6.2. En Python/Jupyter**  \n"
   ]
  },
  {
   "cell_type": "code",
   "execution_count": 5,
   "id": "457bef2e",
   "metadata": {},
   "outputs": [
    {
     "data": {
      "application/vnd.jupyter.widget-view+json": {
       "model_id": "adf613202d4f4148be134ca49a01a9e8",
       "version_major": 2,
       "version_minor": 0
      },
      "text/plain": [
       "interactive(children=(IntSlider(value=34999, description='digit_idx', max=69999), Output()), _dom_classes=('wi…"
      ]
     },
     "metadata": {},
     "output_type": "display_data"
    },
    {
     "data": {
      "text/plain": [
       "<function __main__.plot_digit(digit_idx)>"
      ]
     },
     "execution_count": 5,
     "metadata": {},
     "output_type": "execute_result"
    }
   ],
   "source": [
    "\n",
    "# Actividad Interactiva con ipywidgets\n",
    "import matplotlib.pyplot as plt \n",
    "from sklearn.datasets import fetch_openml\n",
    "import ipywidgets as widgets\n",
    "from IPython.display import display\n",
    "mnist = fetch_openml('mnist_784', as_frame = False)\n",
    "X,y = mnist.data, mnist.target \n",
    "\n",
    "def plot_digit(digit_idx):\n",
    "    plt.imshow(X[digit_idx].reshape(28, 28), cmap=\"binary\")\n",
    "    plt.title(f\"Etiqueta: {y[digit_idx]}\")\n",
    "    plt.axis(\"off\")\n",
    "\n",
    "widgets.interact(plot_digit, digit_idx=(0, 69999))\n",
    "\n"
   ]
  },
  {
   "cell_type": "markdown",
   "id": "f555a5b9",
   "metadata": {},
   "source": [
    "**Preguntas ABPP:**  \n",
    "- *\"¿Por qué el píxel [0,0] suele ser 0?\"* (Exploración de bordes).  \n",
    "- *\"¿Qué pasa si entrenamos solo con dígitos rotados?\"* (Data augmentation).  \n",
    "\n",
    "---\n"
   ]
  },
  {
   "cell_type": "markdown",
   "id": "1ed4b5cc",
   "metadata": {},
   "source": [
    "\n",
    "## **7. Evaluación**  \n",
    "### **Proyectos STEAM**  \n",
    "1. **Arte Generativo:** Crear un \"collage\" de dígitos mal clasificados con Plotly.  \n",
    "2. **Matemático:** Demostrar con SymPy que $F1 = 2 \\cdot \\frac{P \\cdot R}{P+R}$.  \n"
   ]
  },
  {
   "cell_type": "markdown",
   "id": "963dc475",
   "metadata": {},
   "source": [
    "\n",
    "### **Quiz Ejemplo**  \n",
    "- *\"Si un modelo tiene Recall=0.8 y Precision=0.9, ¿cuál es su F1?\"*  \n",
    "\n",
    "---\n"
   ]
  },
  {
   "cell_type": "markdown",
   "id": "e6f0f69e",
   "metadata": {},
   "source": [
    "\n",
    "## **8. Vocabulario en Inglés**  \n",
    "- **Feature Vector:** `X[0]` (el \"retrato\" numérico de un dígito).  \n",
    "- **Ground Truth:** Etiquetas reales (`y_train`).  \n",
    "\n",
    "---\n"
   ]
  },
  {
   "cell_type": "markdown",
   "id": "5bdf3d0d",
   "metadata": {},
   "source": [
    "\n",
    "## **9. Apéndice: Habilidades Blandas**  \n",
    "- **Metacognición:** Diario de aprendizaje (*\"¿Cómo corregí mis errores de clasificación?\"*).  \n",
    "- **Trabajo en Equipo:** Roles en proyectos (ej: \"Experto en Visualización\", \"Analista de Métricas\").  \n",
    "\n",
    "---\n"
   ]
  },
  {
   "cell_type": "markdown",
   "id": "b8af8c0d",
   "metadata": {},
   "source": [
    "\n",
    "## **10. Referentes APA**  \n",
    "1. Duval, R. (2006). *Un tema crucial en la educación matemática: La habilidad para cambiar de registro*.  \n",
    "2. Wing, J. (2006). *Computational Thinking*. Communications of the ACM.  \n",
    "3. LeCun, Y. (1998). *Gradient-Based Learning Applied to Document Recognition*.  \n",
    "\n",
    "--- \n"
   ]
  },
  {
   "cell_type": "markdown",
   "id": "5e2e0887",
   "metadata": {},
   "source": [
    "\n",
    "**✨ Nota:** Todas las actividades incluyen *\"Preguntas Duval\"* para cambios de registro (ej: *\"¿Cómo representarías esta matriz de confusión como un gráfico de calor?\"*)."
   ]
  },
  {
   "cell_type": "markdown",
   "id": "36bc2964",
   "metadata": {},
   "source": [
    "# Desarrollo de habilidades Metacognitivas en enseñanza con metodología IAE \n"
   ]
  },
  {
   "cell_type": "markdown",
   "id": "9c5cb582",
   "metadata": {},
   "source": [
    "\n",
    "Desarrollar habilidades metacognitivas en los estudiantes dentro de una **Investigación Acción Educativa (IAE)** implica un proceso cíclico de reflexión, acción y evaluación. "
   ]
  },
  {
   "cell_type": "markdown",
   "id": "e8a0a63e",
   "metadata": {},
   "source": [
    "Aquí te propongo una estrategia estructurada en fases, alineada con la IAE, para fomentar la metacognición:\n",
    "\n",
    "---\n"
   ]
  },
  {
   "cell_type": "markdown",
   "id": "42be70b3",
   "metadata": {},
   "source": [
    "\n",
    "### **1. Diagnóstico Inicial (Fase de Observación)**  \n",
    "- **Identifica el nivel metacognitivo actual**:  \n",
    "  - Realiza cuestionarios, entrevistas o actividades reflexivas (ej.: \"¿Cómo estudiaste para el último examen? ¿Qué te funcionó o no?\").  \n",
    "  - Observa si los estudiantes pueden explicar sus procesos de aprendizaje o identificar dificultades.  \n",
    "\n",
    "- **Registra evidencias**: Anota cómo los estudiantes planifican, monitorean y evalúan sus tareas (ej.: diarios de aprendizaje, grabaciones de debates).  \n",
    "\n",
    "---\n"
   ]
  },
  {
   "cell_type": "markdown",
   "id": "e252e7b1",
   "metadata": {},
   "source": [
    "\n",
    "### **2. Diseño de Intervenciones (Fase de Planificación)**"
   ]
  },
  {
   "cell_type": "markdown",
   "id": "4b036a02",
   "metadata": {},
   "source": [
    "  \n",
    "**a. Enseñanza explícita de estrategias metacognitivas**:  \n",
    "  - **Modelado**: Muestra cómo *tú* piensas al resolver un problema (\"Pensamiento en voz alta\"). Ejemplo:  \n",
    "    *\"Primero, voy a leer el objetivo de la clase. Luego, revisaré si entiendo los conceptos clave...\"*.  \n",
    "  - **Listas de verificación (checklists)**: Proporciona guías para autoevaluarse (ej.: \"¿Puedo explicar este tema con mis propias palabras?\").  \n"
   ]
  },
  {
   "cell_type": "markdown",
   "id": "1ba3c6a5",
   "metadata": {},
   "source": [
    "\n",
    "**b. Herramientas para la autorregulación**:  \n",
    "  - **Diarios de aprendizaje**: Pide que registren:  \n",
    "    - *\"¿Qué aprendí hoy?\"* (conocimiento).  \n",
    "    - *\"¿Cómo lo aprendí?\"* (proceso).  \n",
    "    - *\"¿Qué me falta por entender?\"* (brechas).  \n",
    "  - **Rúbricas de autoevaluación**: Incluye criterios como: *\"Puedo resolver ejercicios sin ayuda\"* o *\"Sé dónde buscar información confiable\"*.  \n",
    "\n",
    "**c. Espacios de reflexión colaborativa**:  \n",
    "  - **Debates metacognitivos**: En grupos, discuten: *\"¿Qué estrategia usamos? ¿Funcionó? ¿Por qué?\"*.  \n",
    "  - **Peer feedback**: Intercambian comentarios sobre sus procesos (ej.: \"Tú organizaste bien tus ideas, pero podrías revisar las fuentes\").  \n",
    "\n",
    "---\n"
   ]
  },
  {
   "cell_type": "markdown",
   "id": "0ed547ca",
   "metadata": {},
   "source": [
    "\n",
    "### **3. Implementación (Fase de Acción)**  \n",
    "- **Integra la metacognición en las actividades cotidianas**:  \n",
    "  - Antes de una tarea: *\"¿Qué sabes ya sobre este tema? ¿Cómo planeas abordarlo?\"*.  \n",
    "  - Durante la tarea: *\"¿Estás siguiendo tu plan? ¿Necesitas ajustarlo?\"*.  \n",
    "  - Después: *\"¿Lograste el objetivo? ¿Qué cambiarías la próxima vez?\"*.  \n",
    "- **Usa preguntas clave**:  \n",
    "  - *\"¿Qué parte fue más difícil? ¿Por qué?\"* (identificación de obstáculos).  \n",
    "  - *\"Si tuvieras que enseñarle esto a un compañero, ¿cómo lo harías?\"* (transferencia).  \n",
    "\n",
    "---\n",
    "\n",
    "### **4. Evaluación y Reflexión (Fase de Observación/Reflexión)**  \n",
    "- **Analiza el impacto**: Compara evidencias pre y post intervención (ej.: diarios, desempeño en tareas).  \n",
    "- **Reflexión grupal**: Realiza una sesión donde los estudiantes compartan:  \n",
    "  - *\"¿Qué estrategias metacognitivas les ayudaron más?\"*.  \n",
    "  - *\"¿Cómo se sintieron al gestionar su aprendizaje?\"*.  \n",
    "- **Ajusta la intervención**: Si notas que persisten dificultades, propón nuevas herramientas (ej.: mapas conceptuales para organizar ideas).  \n",
    "\n",
    "---\n",
    "\n",
    "### **5. Iteración (Ciclo de IAE)**  \n",
    "Repite el ciclo con ajustes basados en los hallazgos. Por ejemplo:  \n",
    "- Si los estudiantes no identifican errores, introduce actividades de *análisis de errores* (\"¿Por qué te equivocaste? ¿Cómo corregirlo?\").  \n",
    "- Si les cuesta planificar, usa herramientas visuales como *diagramas de flujo* para secuenciar pasos.  \n",
    "\n",
    "---\n",
    "\n",
    "### **Ejemplo Práctico**  \n",
    "**Situación**: Estudiantes no revisan sus errores en matemáticas.  \n",
    "- **Intervención**:  \n",
    "  1. **Modelado**: Resuelves un problema cometiendo un error adrede y muestras cómo detectarlo.  \n",
    "  2. **Checklist**: \"¿Revisé cada paso? ¿Mi respuesta tiene sentido?\".  \n",
    "  3. **Diario**: \"Hoy cometí un error en... Lo corregí cambiando...\".  \n",
    "\n",
    "---\n",
    "\n",
    "### **Claves para el Éxito**  \n",
    "- **Consistencia**: Integra la metacognición en todas las clases, no como actividad aislada.  \n",
    "- **Andamiaje**: Reduce gradualmente la guía del docente a medida que los estudiantes ganan autonomía.  \n",
    "- **Cultura de error**: Normaliza los errores como parte del aprendizaje (\"¿Qué podemos aprender de esto?\").  \n",
    "\n",
    "La metacognición no solo mejora el logro académico, sino que empodera a los estudiantes para ser aprendices autónomos y resilientes. En la IAE, este proceso se enriquece al ser colaborativo (docente-estudiantes) y basado en evidencia concreta.  \n",
    "\n",
    "¿Te gustaría profundizar en alguna herramienta específica o ajustar la estrategia a un nivel educativo en particular?"
   ]
  },
  {
   "cell_type": "markdown",
   "id": "239427f7",
   "metadata": {},
   "source": [
    "# Calendario Académico Semestre 2025-2  \n",
    "\n",
    "\n",
    "\n",
    "\n"
   ]
  },
  {
   "cell_type": "code",
   "execution_count": null,
   "id": "c804f8d3",
   "metadata": {},
   "outputs": [],
   "source": []
  },
  {
   "cell_type": "code",
   "execution_count": null,
   "id": "cc539357",
   "metadata": {},
   "outputs": [],
   "source": []
  },
  {
   "cell_type": "markdown",
   "id": "8ba64aed",
   "metadata": {},
   "source": [
    "# Cursos que orienta el profesor Marco Julio Cañas Campillo en 2025  \n",
    "\n",
    "1. Cálculo Vectorial para Ingeniería Agropecuaria\n",
    "2. Análisis Numérico para Licenciatura en Matemáticas. \n",
    "3. Práctica Pedagógica V para Licenciatura en Educación Infantil\n",
    "4. Fundamentos de Lógica para Licenciatura en Matemáticas \n"
   ]
  },
  {
   "cell_type": "markdown",
   "id": "8d41fe58",
   "metadata": {
    "slideshow": {
     "slide_type": "slide"
    }
   },
   "source": [
    "# Horario de clases del profesor Marco\n",
    "\n",
    "* Lunes 8-12: Cálculo Vectorial\n",
    "* Martes 8-12 M: Análisis Numérico. \n",
    "* Miércoles 10 a 11 M: Machine Learnig\n",
    "* Miércoles de 3 a 4 de la tarde: ARIMA\n",
    "* Jueves 2 a 6 PM: Práctica Pedagógica V: Desarrollo del pensamiento matemático en   \n",
    "  la infancia. \n",
    "* Viernes 8 - 12 M: Fundamentos de Lógica. \n",
    "* Sábados 8-12 Asesorías y espacio para retroalimentación y apoyo al trabajo independiente  \n",
    "  y desarrollo de habilidades metacognitivas. "
   ]
  },
  {
   "cell_type": "markdown",
   "id": "ae114e14",
   "metadata": {
    "slideshow": {
     "slide_type": "slide"
    }
   },
   "source": [
    "# Coordinador de los cursos de la Facultad de Educación para regiones:    \n",
    "\n",
    "Andrés Vélez: regioneducacion.fedu@udea.edu.co  \n",
    "Coordinador Regiones  \n",
    "Facultad de Educación  \n",
    "Universidad de Antioquia  "
   ]
  },
  {
   "cell_type": "markdown",
   "id": "b1db4b6c",
   "metadata": {
    "slideshow": {
     "slide_type": "slide"
    }
   },
   "source": [
    "## Monitores\n",
    "* Manuel San Juan Serrano: Contactar escribiendo al correo: manuel.serrano1@udea.edu.co\n",
    "* Yeifry Sebastián Uribe: Contactar escribiendo al correo: yeifry.uribe@udea.edu.co"
   ]
  },
  {
   "cell_type": "markdown",
   "id": "10bce0d0",
   "metadata": {
    "slideshow": {
     "slide_type": "slide"
    }
   },
   "source": [
    "## Referentes "
   ]
  },
  {
   "cell_type": "markdown",
   "id": "1db3c468",
   "metadata": {
    "slideshow": {
     "slide_type": "slide"
    }
   },
   "source": [
    "* [Jupyter Book de fundamentos_logica](file:///C:/Users/marco/Documentos/docencia/fundamentos_logica/fundamentos_logica_book/_build/html/index.html)\n",
    "\n",
    "\n",
    "* [Decargue Crocodile Clip aquí](https://crocodileclips.net/descargar-crocodile-clips/)\n",
    "\n",
    "* [Matemáticas discretas Una introducción abierta, 3ª edición](https://discrete.openmathbooks.org/dmoi3.html)  \n",
    "  \n",
    "* [Desarrollo del pensamiento matemático con calculadora Casio ](https://bibliotecadigital.udea.edu.co/entities/publication/17180405-9f1d-4800-aa7c-e6369779cece)\n",
    "\n",
    "* [CALCULO I DE UNA VARIABLE Ron Larson-Bruce Edwards. Mc Graw Hill. 9º Edición](https://www.academia.edu/42139251/CALCULO_I_DE_UNA_VARIABLE_Ron_Larson_Bruce_Edwards_Mc_Graw_Hill_9o_Edici%C3%B3n)   \n",
    "  \n",
    "\n",
    "* [Grajales Vanegas, L. M., Restrepo Estrada, C. E., Restrepo Ochoa, S. I., & Ruíz De Villalba, F. (2015). Matemáticas I para las ciencias económicas.](https://bibliotecadigital.udea.edu.co/handle/10495/3010)\n",
    "  \n",
    "* R. Duval y Semiosis y pensamiento humano, 2.ª ed. Cali, Colombia: Programa Editorial Universidad del Valle, 2017. [En línea]. Disponible en: https://programaeditorial.univalle.edu.co/gpd-semiosis-y-pensamiento-humano-9789587655278-63324cdb0f6b3.html\n",
    "\n",
    "* [Aylwin, C. U. (2011). Lógica, conjuntos y números. Universidad de los Andes, Consejo de Publicaciones, Colección: Ciencias Básicas, Serie: Matemáticas.](chrome-extension://efaidnbmnnnibpcajpcglclefindmkaj/https://www.u-cursos.cl/ciencias/2011/1/MC110/1/material_docente/bajar?id_material=574722)\n",
    "  \n",
    "* [Chollet, F. (2021). Deep learning with Python. Simon and Schuster.](chrome-extension://efaidnbmnnnibpcajpcglclefindmkaj/https://tanthiamhuat.wordpress.com/wp-content/uploads/2018/03/deeplearningwithpython.pdf)  \n",
    "  \n",
    "* [Watson, S., Stewart, J., & Redlin, L. (2009). Precálculo. Matemáticas para el cálculo.](chrome-extension://efaidnbmnnnibpcajpcglclefindmkaj/https://students.aiu.edu/submissions/profiles/resources/onlineBook/k6L8A3_precalculo_-_matematicas_para_el_calculo-1.pdf)  \n",
    "\n",
    "* [Purcell, E. J., Varberg, D., & Rigdon, S. E. (2007). Cálculo diferencial e integral. Pearson Educación.](https://github.com/marco-canas/calculo/blob/main/referents/purcell/purcell_calculo.pdf)\n",
    "\n",
    "  \n",
    "\n",
    "* [stewart cálculo](https://udeaeduco-my.sharepoint.com/:b:/g/personal/marco_canas_udea_edu_co/EZgXZjAp8QxPqOAim2hs6LcBNPLGjSHf-xwYnUVYkwa04w?e=RZdTCy)  \n",
    "\n",
    "\n",
    "* [Recomendación de la UNESCO sobre ciencia abierta](https://unesdoc.unesco.org/ark:/48223/pf0000379949_spa)\n",
    "\n",
    "* [chatGPT](https://openai.com/blog/chatgpt)  \n",
    "\n",
    "* [Géron, A. (2017). Hands-on machine learning with scikit-learn and tensorflow: Concepts. Tools, and Techniques to build intelligent systems.](chrome-extension://efaidnbmnnnibpcajpcglclefindmkaj/http://14.139.161.31/OddSem-0822-1122/Hands-On_Machine_Learning_with_Scikit-Learn-Keras-and-TensorFlow-2nd-Edition-Aurelien-Geron.pdf)   \n"
   ]
  },
  {
   "cell_type": "markdown",
   "id": "df925560",
   "metadata": {},
   "source": [
    "\n",
    "* [McKinney, W. (2012). Python for data analysis: Data wrangling with Pandas, NumPy, and IPython. \" O'Reilly Media, Inc.\".](https://wesmckinney.com/book/) "
   ]
  },
  {
   "cell_type": "markdown",
   "id": "8e65d6f9",
   "metadata": {},
   "source": [
    "# Como estudiante, encuentro que...   \n",
    "\n",
    "F: Mis Fortalezas son:     \n",
    "O: Mis Oportunidades son:    \n",
    "D: Mis Debilidades son:    \n",
    "A: Lo que Amenazas mi aprendizaje es:  "
   ]
  },
  {
   "cell_type": "markdown",
   "id": "6b9e56a8",
   "metadata": {
    "slideshow": {
     "slide_type": "slide"
    }
   },
   "source": [
    "### [Evaluamos al profesor Marco Cañas Aquí](https://forms.office.com/Pages/ResponsePage.aspx?id=IefhmYRxjkmK_7KtTlPBwkanXIs1i1FEujpsZgO6dXpUREJPV1kxUk1JV1ozTFJIQVNIQjY5WEY3US4u)"
   ]
  },
  {
   "cell_type": "markdown",
   "id": "10f43536",
   "metadata": {
    "slideshow": {
     "slide_type": "slide"
    }
   },
   "source": [
    "### Continue su aprendizaje en la siguiente clase a través del siguiente [vínculo]()"
   ]
  },
  {
   "cell_type": "markdown",
   "id": "53cc9115",
   "metadata": {
    "slideshow": {
     "slide_type": "slide"
    }
   },
   "source": [
    "## Agradecimientos  \n",
    "\n",
    "Doy gracias a Dios por la vida de mi Hijo Joseph Cañas Osorio y la madurez que ha alcanzado. Este hijo me enorgullece y me hace falta abrazarlo cada día. \n",
    "\n",
    "Y a mi esposa Yasmira Emperatriz Barboza Mogollón por su apoyo, orientación y acompañamiento. "
   ]
  }
 ],
 "metadata": {
  "celltoolbar": "Slideshow",
  "kernelspec": {
   "display_name": ".venv",
   "language": "python",
   "name": "python3"
  },
  "language_info": {
   "codemirror_mode": {
    "name": "ipython",
    "version": 3
   },
   "file_extension": ".py",
   "mimetype": "text/x-python",
   "name": "python",
   "nbconvert_exporter": "python",
   "pygments_lexer": "ipython3",
   "version": "3.11.9"
  },
  "rise": {
   "enable_chalkboard": true,
   "theme": "sky",
   "transition": "zoom"
  }
 },
 "nbformat": 4,
 "nbformat_minor": 5
}
