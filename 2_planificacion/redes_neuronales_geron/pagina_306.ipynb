{
 "cells": [
  {
   "cell_type": "markdown",
   "id": "79391271",
   "metadata": {},
   "source": [
    "<table align=\"left\">\n",
    "  <td>\n",
    "    <a href=\"https://colab.research.google.com/github/ageron/handson-ml3/blob/main/tools_numpy.ipynb\" target=\"_parent\"><img src=\"https://colab.research.google.com/assets/colab-badge.svg\" alt=\"Open In Colab\"/></a>\n",
    "  </td>\n",
    "  <td>\n",
    "    <a target=\"_blank\" href=\"https://kaggle.com/kernels/welcome?src=https://github.com/ageron/handson-ml3/blob/main/tools_numpy.ipynb\"><img src=\"https://kaggle.com/static/images/open-in-kaggle.svg\" /></a>\n",
    "  </td>\n",
    "</table>"
   ]
  },
  {
   "cell_type": "markdown",
   "id": "52f0961b",
   "metadata": {},
   "source": [
    "# Texto en inglés de la página 306 \n"
   ]
  },
  {
   "cell_type": "markdown",
   "id": "d71b140d",
   "metadata": {},
   "source": [
    "\n",
    "## Biological Neurons\n",
    "Before we discuss artificial neurons, let’s take a quick look at a biological neuron (represented in Figure 10-1). It is an unusual-looking cell mostly found in animal cerebral cortexes (e.g., your brain), composed of a cell body containing the nucleus and most  of the cell’s complex components, and many branching extensions called dendrites,  plus one very long extension called the axon. The axon’s length may be just a few  times longer than the cell body, or up to tens of thousands of times longer. "
   ]
  },
  {
   "cell_type": "markdown",
   "id": "b068767c",
   "metadata": {},
   "source": [
    "Near its extremity the axon splits off into many branches called telodendria, and at the tip of these branches are minuscule structures called synaptic terminals (or simply synapses), which are connected to the dendrites (or directly to the cell body) of other neurons. Biological neurons receive short electrical impulses called signals from other neurons via these synapses. When a neuron receives a sufficient number of signals from other neurons within a few milliseconds, it fires its own signals.   \n"
   ]
  },
  {
   "cell_type": "markdown",
   "id": "f13fb2a7",
   "metadata": {},
   "source": [
    "\n",
    "Thus, individual biological neurons seem to behave in a rather simple way, but they are organized in a vast network of billions of neurons, each neuron typically connected to thousands of other neurons. Highly complex computations can be performed by a vast network of fairly simple neurons, much like a complex anthill can emerge  from the combined efforts of simple ants. The architecture of biological neural net works (BNN)4 is still the subject of active research, but some parts of the brain have\n",
    " been mapped, and it seems that neurons are often organized in consecutive layers, as \n",
    "shown in Figure 10-2."
   ]
  },
  {
   "cell_type": "markdown",
   "id": "b76d2a1e",
   "metadata": {},
   "source": [
    "<img src=\"multiple_layers_1.png\" alt=\"Figure 10-1\" width=\"400\">"
   ]
  },
  {
   "cell_type": "markdown",
   "id": "edc3e323",
   "metadata": {},
   "source": [
    "\n",
    "## Neuronas Biológicas  \n"
   ]
  },
  {
   "cell_type": "markdown",
   "id": "fef0603c",
   "metadata": {},
   "source": [
    "Antes de hablar sobre las neuronas artificiales, echemos un vistazo rápido a una neurona biológica (representada en la Figura 10-1). "
   ]
  },
  {
   "cell_type": "markdown",
   "id": "7f926690",
   "metadata": {},
   "source": [
    "Es una célula de aspecto peculiar que se encuentra principalmente en la corteza cerebral de los animales (como tu cerebro). "
   ]
  },
  {
   "cell_type": "markdown",
   "id": "cdafb35d",
   "metadata": {},
   "source": [
    "Está compuesta por un cuerpo celular que contiene el núcleo y la mayoría de los componentes complejos de la célula, así como por múltiples prolongaciones ramificadas llamadas dendritas y una extensión muy larga llamada axón.  \n"
   ]
  },
  {
   "cell_type": "markdown",
   "id": "de6d3f23",
   "metadata": {},
   "source": [
    "\n",
    "La longitud del axón puede ser solo unas pocas veces mayor que el cuerpo celular o hasta decenas de miles de veces más larga. "
   ]
  },
  {
   "cell_type": "markdown",
   "id": "8a53aab8",
   "metadata": {},
   "source": [
    "Cerca de su extremo, el axón se divide en numerosas ramificaciones llamadas telodendrias, y en los extremos de estas ramas hay pequeñas estructuras denominadas terminales sinápticos (o simplemente sinapsis), que están conectadas a las dendritas (o directamente al cuerpo celular) de otras neuronas. "
   ]
  },
  {
   "cell_type": "markdown",
   "id": "86343ff5",
   "metadata": {},
   "source": [
    "Las neuronas biológicas reciben impulsos eléctricos breves llamados señales de otras neuronas a través de estas sinapsis. "
   ]
  },
  {
   "cell_type": "markdown",
   "id": "2906c4da",
   "metadata": {},
   "source": [
    "Cuando una neurona recibe una cantidad suficiente de señales de otras neuronas en unos pocos milisegundos, dispara sus propias señales.  \n"
   ]
  },
  {
   "cell_type": "markdown",
   "id": "4b67f525",
   "metadata": {},
   "source": [
    "\n",
    "Así, las neuronas biológicas individuales parecen comportarse de manera bastante simple, pero están organizadas en una vasta red de miles de millones de neuronas, cada una conectada típicamente a miles de otras. "
   ]
  },
  {
   "cell_type": "markdown",
   "id": "1ba38c11",
   "metadata": {},
   "source": [
    "Cálculos altamente complejos pueden ser realizados por una red extensa de neuronas relativamente simples, de manera similar a como un complejo hormiguero puede surgir del esfuerzo combinado de hormigas simples. "
   ]
  },
  {
   "cell_type": "markdown",
   "id": "20f7c3cb",
   "metadata": {},
   "source": [
    "La arquitectura de las redes neuronales biológicas (BNN) sigue siendo objeto de investigación activa, pero algunas partes del cerebro han sido mapeadas, y parece que las neuronas a menudo se organizan en capas consecutivas, como se muestra en la Figura 10-2. "
   ]
  },
  {
   "cell_type": "markdown",
   "id": "9004a82a",
   "metadata": {},
   "source": [
    "# Ahora la práctica de codificación con Python "
   ]
  },
  {
   "cell_type": "markdown",
   "id": "08d4ab70",
   "metadata": {},
   "source": [
    "Este es un **diseño de práctica en Python** relacionado con el tema de **neuronas biológicas y redes neuronales artificiales**, utilizando librerías como `numpy` y `matplotlib` para visualizar conceptos básicos de Deep Learning.  \n",
    "\n"
   ]
  },
  {
   "cell_type": "markdown",
   "id": "72832a8f",
   "metadata": {},
   "source": [
    "\n",
    "\n",
    "### **Práctica: Simulando una Neurona Artificial y una Red Simple** "
   ]
  },
  {
   "cell_type": "markdown",
   "id": "cb02a56b",
   "metadata": {},
   "source": [
    " \n",
    "**Objetivos:**  \n",
    "1. Implementar una neurona artificial basada en el modelo de McCulloch-Pitts.  \n",
    "2. Crear una red neuronal de una capa (Perceptrón) para una compuerta lógica.  \n",
    "3. Visualizar el proceso de activación y la función de pérdida.  \n"
   ]
  },
  {
   "cell_type": "markdown",
   "id": "8f90dcf6",
   "metadata": {},
   "source": [
    "\n",
    "#### **1. Implementación de una Neurona Artificial**  \n"
   ]
  },
  {
   "cell_type": "code",
   "execution_count": 1,
   "id": "8253f842",
   "metadata": {},
   "outputs": [
    {
     "name": "stdout",
     "output_type": "stream",
     "text": [
      "Compuerta AND usando neurona artificial:\n",
      "(0, 0) → 0\n",
      "(0, 1) → 0\n",
      "(1, 0) → 0\n",
      "(1, 1) → 1\n"
     ]
    }
   ],
   "source": [
    "import numpy as np\n",
    "import matplotlib.pyplot as plt\n",
    "\n",
    "# Función de activación (Step Function para McCulloch-Pitts)\n",
    "def step_function(x):\n",
    "    return 1 if x >= 0 else 0\n",
    "\n",
    "# Simulación de una neurona con pesos y bias\n",
    "def artificial_neuron(inputs, weights, bias):\n",
    "    weighted_sum = np.dot(inputs, weights) + bias\n",
    "    return step_function(weighted_sum)\n",
    "\n",
    "# Ejemplo: Neurona que implementa la compuerta lógica AND\n",
    "weights = np.array([1, 1])  # Pesos sinápticos\n",
    "bias = -1.5                  # Bias (umbral de activación)\n",
    "\n",
    "# Prueba con diferentes entradas\n",
    "inputs = [(0, 0), (0, 1), (1, 0), (1, 1)]\n",
    "print(\"Compuerta AND usando neurona artificial:\")\n",
    "for x in inputs:\n",
    "    output = artificial_neuron(np.array(x), weights, bias)\n",
    "    print(f\"{x} → {output}\")\n",
    "\n"
   ]
  },
  {
   "cell_type": "markdown",
   "id": "117ea725",
   "metadata": {},
   "source": [
    "\n",
    "**Salida esperada:**  \n",
    "```\n",
    "Compuerta AND usando neurona artificial:\n",
    "(0, 0) → 0\n",
    "(0, 1) → 0\n",
    "(1, 0) → 0\n",
    "(1, 1) → 1\n",
    "```\n",
    "\n"
   ]
  },
  {
   "cell_type": "markdown",
   "id": "c8a10288",
   "metadata": {},
   "source": [
    "\n",
    "\n",
    "#### **2. Red Neuronal de una Capa (Perceptrón) para OR**  \n"
   ]
  },
  {
   "cell_type": "code",
   "execution_count": 4,
   "id": "48539c21",
   "metadata": {},
   "outputs": [
    {
     "name": "stdout",
     "output_type": "stream",
     "text": [
      "\n",
      "Compuerta OR después del entrenamiento:\n",
      "[0 0] → 0 (esperado: 0)\n",
      "[0 1] → 1 (esperado: 1)\n",
      "[1 0] → 1 (esperado: 1)\n",
      "[1 1] → 1 (esperado: 1)\n"
     ]
    }
   ],
   "source": [
    "# Datos de entrenamiento (OR)\n",
    "X = np.array([[0, 0], [0, 1], [1, 0], [1, 1]])\n",
    "y = np.array([0, 1, 1, 1])  # Salidas esperadas\n",
    "\n",
    "# Inicialización de pesos aleatorios y bias\n",
    "np.random.seed(42)\n",
    "weights = np.random.rand(2)\n",
    "bias = np.random.rand()\n",
    "\n",
    "# Entrenamiento del Perceptrón (Regla de aprendizaje)\n",
    "learning_rate = 0.1\n",
    "epochs = 10\n",
    "\n",
    "for epoch in range(epochs):\n",
    "    for i in range(len(X)):\n",
    "        # Forward pass\n",
    "        prediction = step_function(np.dot(X[i], weights) + bias)\n",
    "        # Actualización de pesos (si hay error)\n",
    "        error = y[i] - prediction\n",
    "        weights += learning_rate * error * X[i]\n",
    "        bias += learning_rate * error\n",
    "\n",
    "# Prueba final\n",
    "print(\"\\nCompuerta OR después del entrenamiento:\")\n",
    "for i in range(len(X)):\n",
    "    output = step_function(np.dot(X[i], weights) + bias)\n",
    "    print(f\"{X[i]} → {output} (esperado: {y[i]})\")\n",
    "\n"
   ]
  },
  {
   "cell_type": "markdown",
   "id": "27a67fe8",
   "metadata": {},
   "source": [
    "\n",
    "**Salida esperada:**  \n",
    "```\n",
    "Compuerta OR después del entrenamiento:\n",
    "[0 0] → 0 (esperado: 0)\n",
    "[0 1] → 1 (esperado: 1)\n",
    "[1 0] → 1 (esperado: 1)\n",
    "[1 1] → 1 (esperado: 1)\n",
    "```\n",
    "\n"
   ]
  },
  {
   "cell_type": "markdown",
   "id": "595e1f7b",
   "metadata": {},
   "source": [
    "\n",
    "\n",
    "#### **3. Visualización de la Función de Activación y Decisión**  \n"
   ]
  },
  {
   "cell_type": "code",
   "execution_count": 3,
   "id": "14fbb4a0",
   "metadata": {},
   "outputs": [
    {
     "data": {
      "image/png": "[encoded data removed]",
      "text/plain": [
       "<Figure size 1000x400 with 1 Axes>"
      ]
     },
     "metadata": {},
     "output_type": "display_data"
    }
   ],
   "source": [
    "# Gráfica de la función de activación (Step vs. Sigmoide)\n",
    "x_vals = np.linspace(-5, 5, 100)\n",
    "step_y = [step_function(x) for x in x_vals]\n",
    "sigmoid_y = 1 / (1 + np.exp(-x_vals))\n",
    "\n",
    "plt.figure(figsize=(10, 4))\n",
    "plt.plot(x_vals, step_y, label=\"Step Function\", linestyle=\"--\")\n",
    "plt.plot(x_vals, sigmoid_y, label=\"Sigmoid Function\")\n",
    "plt.title(\"Funciones de Activación en Neuronas Artificiales\")\n",
    "plt.xlabel(\"Input (weighted sum + bias)\")\n",
    "plt.ylabel(\"Output\")\n",
    "plt.legend()\n",
    "plt.grid()\n",
    "plt.show()\n",
    "\n"
   ]
  },
  {
   "cell_type": "markdown",
   "id": "24d1eaef",
   "metadata": {},
   "source": [
    "**Gráfica:**  \n",
    "![Funciones de activación](https://miro.medium.com/max/1400/1*Xu7B5y9gp0iL5ooBj7LtWw.png) *(Ejemplo ilustrativo)*  \n",
    "\n",
    "\n"
   ]
  },
  {
   "cell_type": "markdown",
   "id": "82a18cac",
   "metadata": {},
   "source": [
    "\n",
    "### **Extensión Opcional (Si usas TensorFlow/Keras)** "
   ]
  },
  {
   "cell_type": "code",
   "execution_count": null,
   "id": "ce7ad168",
   "metadata": {},
   "outputs": [
    {
     "ename": "ModuleNotFoundError",
     "evalue": "No module named 'tensorflow'",
     "output_type": "error",
     "traceback": [
      "\u001b[31m---------------------------------------------------------------------------\u001b[39m",
      "\u001b[31mModuleNotFoundError\u001b[39m                       Traceback (most recent call last)",
      "\u001b[36mCell\u001b[39m\u001b[36m \u001b[39m\u001b[32mIn[2]\u001b[39m\u001b[32m, line 1\u001b[39m\n\u001b[32m----> \u001b[39m\u001b[32m1\u001b[39m \u001b[38;5;28;01mfrom\u001b[39;00m\u001b[38;5;250m \u001b[39m\u001b[34;01mtensorflow\u001b[39;00m\u001b[34;01m.\u001b[39;00m\u001b[34;01mkeras\u001b[39;00m\u001b[34;01m.\u001b[39;00m\u001b[34;01mmodels\u001b[39;00m\u001b[38;5;250m \u001b[39m\u001b[38;5;28;01mimport\u001b[39;00m Sequential\n\u001b[32m      2\u001b[39m \u001b[38;5;28;01mfrom\u001b[39;00m\u001b[38;5;250m \u001b[39m\u001b[34;01mtensorflow\u001b[39;00m\u001b[34;01m.\u001b[39;00m\u001b[34;01mkeras\u001b[39;00m\u001b[34;01m.\u001b[39;00m\u001b[34;01mlayers\u001b[39;00m\u001b[38;5;250m \u001b[39m\u001b[38;5;28;01mimport\u001b[39;00m Dense\n\u001b[32m      4\u001b[39m \u001b[38;5;66;03m# Red neuronal para XOR (no linealmente separable)\u001b[39;00m\n",
      "\u001b[31mModuleNotFoundError\u001b[39m: No module named 'tensorflow'"
     ]
    }
   ],
   "source": [
    "from tensorflow.keras.models import Sequential\n",
    "from tensorflow.keras.layers import Dense\n",
    "\n",
    "# Red neuronal para XOR (no linealmente separable)\n",
    "model = Sequential([\n",
    "    Dense(2, activation='sigmoid', input_shape=(2,)),  # Capa oculta\n",
    "    Dense(1, activation='sigmoid')                     # Salida\n",
    "])\n",
    "\n",
    "model.compile(optimizer='adam', loss='binary_crossentropy', metrics=['accuracy'])\n",
    "X_xor = np.array([[0, 0], [0, 1], [1, 0], [1, 1]])\n",
    "y_xor = np.array([0, 1, 1, 0])  # XOR\n",
    "\n",
    "history = model.fit(X_xor, y_xor, epochs=1000, verbose=0)\n",
    "print(\"\\nPredicciones XOR:\")\n",
    "print(model.predict(X_xor).round())\n",
    "\n"
   ]
  },
  {
   "cell_type": "markdown",
   "id": "082be2ac",
   "metadata": {},
   "source": [
    "\n",
    "\n",
    "\n",
    "### **Conclusiones de la Práctica**  \n",
    "- Aprendiste a codificar una **neurona artificial** desde cero.  \n",
    "- Implementaste un **Perceptrón simple** para compuertas lógicas.  \n",
    "- Visualizaste funciones de activación clave en Deep Learning.  \n",
    "- Opcional: Exploraste una red neuronal con Keras para problemas no lineales (XOR).  \n"
   ]
  },
  {
   "cell_type": "markdown",
   "id": "245d6731",
   "metadata": {},
   "source": [
    "\n",
    "**Siguientes pasos:**  \n",
    "1. Modifica los pesos manualmente y observa cómo cambia la salida.  \n",
    "2. Prueba otras funciones de activación (ReLU, tanh).  \n",
    "3. Experimenta con más capas para resolver XOR.  \n"
   ]
  },
  {
   "cell_type": "markdown",
   "id": "67295e4c",
   "metadata": {},
   "source": [
    "\n",
    "¿Te gustaría profundizar en algún área en particular?"
   ]
  }
 ],
 "metadata": {
  "kernelspec": {
   "display_name": ".venv",
   "language": "python",
   "name": "python3"
  },
  "language_info": {
   "codemirror_mode": {
    "name": "ipython",
    "version": 3
   },
   "file_extension": ".py",
   "mimetype": "text/x-python",
   "name": "python",
   "nbconvert_exporter": "python",
   "pygments_lexer": "ipython3",
   "version": "3.13.5"
  }
 },
 "nbformat": 4,
 "nbformat_minor": 5
}
