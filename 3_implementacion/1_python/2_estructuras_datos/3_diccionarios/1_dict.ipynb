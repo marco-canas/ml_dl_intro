{
 "cells": [
  {
   "cell_type": "markdown",
   "id": "1bfe26fa",
   "metadata": {
    "slideshow": {
     "slide_type": "slide"
    }
   },
   "source": [
    "<table align=\"left\">\n",
    "  <td>\n",
    "    <a href=\"https://colab.research.google.com/github/marco-canas/didactica_ciencia_datos/blob/main/propuesta/unidad_didac/0_python/2_estructuras_datos/3_diccionarios/dict.ipynb\" target=\"_parent\"><img src=\"https://colab.research.google.com/assets/colab-badge.svg\" alt=\"Open In Colab\"/></a>\n",
    "  </td>\n",
    "</table>"
   ]
  },
  {
   "cell_type": "markdown",
   "id": "907b971b",
   "metadata": {
    "slideshow": {
     "slide_type": "slide"
    }
   },
   "source": [
    "### [Video de apoyo a la lectura de este cuaderno](https://www.youtube.com/watch?v=55EjddML3fo)"
   ]
  },
  {
   "cell_type": "markdown",
   "id": "81bc5338",
   "metadata": {
    "slideshow": {
     "slide_type": "slide"
    }
   },
   "source": [
    "# Diccionarios "
   ]
  },
  {
   "cell_type": "markdown",
   "id": "73499e71",
   "metadata": {
    "slideshow": {
     "slide_type": "slide"
    }
   },
   "source": [
    "Los diccionarios son una estructura parecida a las listas, solo que a diferencia de estas, en los diccionarios accemos a sus valores a través de strings. "
   ]
  },
  {
   "cell_type": "code",
   "execution_count": 1,
   "id": "43234023",
   "metadata": {
    "slideshow": {
     "slide_type": "slide"
    }
   },
   "outputs": [],
   "source": [
    "lista = ['marco', 'julio']"
   ]
  },
  {
   "cell_type": "code",
   "execution_count": 3,
   "id": "f02047d5",
   "metadata": {
    "slideshow": {
     "slide_type": "slide"
    }
   },
   "outputs": [
    {
     "data": {
      "text/plain": [
       "'julio'"
      ]
     },
     "execution_count": 3,
     "metadata": {},
     "output_type": "execute_result"
    }
   ],
   "source": [
    "lista[1] "
   ]
  },
  {
   "cell_type": "markdown",
   "id": "bffbb991",
   "metadata": {
    "slideshow": {
     "slide_type": "slide"
    }
   },
   "source": [
    "## Cómo crear diccionarios "
   ]
  },
  {
   "cell_type": "code",
   "execution_count": 2,
   "id": "de209e66",
   "metadata": {
    "slideshow": {
     "slide_type": "slide"
    }
   },
   "outputs": [],
   "source": [
    "diccionario = {\n",
    " \"nombre\":\"chanchito feliz\",\n",
    " \"raza\":\"persa\",\n",
    "  \"edad\":5  \n",
    "}"
   ]
  },
  {
   "cell_type": "code",
   "execution_count": 1,
   "id": "bd30966b",
   "metadata": {
    "slideshow": {
     "slide_type": "slide"
    }
   },
   "outputs": [],
   "source": [
    "personas = {'nombre':'marco', 'apellido':'cañas', 'estatura':1.65}"
   ]
  },
  {
   "cell_type": "code",
   "execution_count": 8,
   "id": "0d31d5c4",
   "metadata": {
    "slideshow": {
     "slide_type": "slide"
    }
   },
   "outputs": [
    {
     "data": {
      "text/plain": [
       "1.65"
      ]
     },
     "execution_count": 8,
     "metadata": {},
     "output_type": "execute_result"
    }
   ],
   "source": [
    "personas['estatura']   "
   ]
  },
  {
   "cell_type": "markdown",
   "id": "1868d07d",
   "metadata": {
    "slideshow": {
     "slide_type": "slide"
    }
   },
   "source": [
    "* Empiezas por escribir la llave o clave para cada valor. \n",
    "* Las llaves y los valores se separan con dos puntos (:)\n",
    "* las parejas llave - valor se separan con comas. "
   ]
  },
  {
   "cell_type": "markdown",
   "id": "5b6cb6e9",
   "metadata": {
    "slideshow": {
     "slide_type": "slide"
    }
   },
   "source": [
    "## Cómo imprimir el diccionario"
   ]
  },
  {
   "cell_type": "code",
   "execution_count": 3,
   "id": "1c8c0f0a",
   "metadata": {
    "slideshow": {
     "slide_type": "slide"
    }
   },
   "outputs": [
    {
     "name": "stdout",
     "output_type": "stream",
     "text": [
      "{'nombre': 'chanchito feliz', 'raza': 'persa', 'edad': 5}\n"
     ]
    }
   ],
   "source": [
    "print(diccionario) "
   ]
  },
  {
   "cell_type": "code",
   "execution_count": 10,
   "id": "7fbcfbed",
   "metadata": {
    "slideshow": {
     "slide_type": "slide"
    }
   },
   "outputs": [
    {
     "name": "stdout",
     "output_type": "stream",
     "text": [
      "{'nombre': 'marco', 'apellido': 'cañas', 'estatura': 1.65}\n"
     ]
    }
   ],
   "source": [
    "print(personas) "
   ]
  },
  {
   "cell_type": "code",
   "execution_count": 12,
   "id": "daf9070d",
   "metadata": {
    "slideshow": {
     "slide_type": "slide"
    }
   },
   "outputs": [
    {
     "data": {
      "text/plain": [
       "dict_keys(['nombre', 'apellido', 'estatura'])"
      ]
     },
     "execution_count": 12,
     "metadata": {},
     "output_type": "execute_result"
    }
   ],
   "source": [
    "personas.keys() "
   ]
  },
  {
   "cell_type": "code",
   "execution_count": 14,
   "id": "aa13fb73",
   "metadata": {
    "slideshow": {
     "slide_type": "slide"
    }
   },
   "outputs": [
    {
     "data": {
      "text/plain": [
       "dict_values(['marco', 'cañas', 1.65])"
      ]
     },
     "execution_count": 14,
     "metadata": {},
     "output_type": "execute_result"
    }
   ],
   "source": [
    "personas.values()"
   ]
  },
  {
   "cell_type": "markdown",
   "id": "f8c06e54",
   "metadata": {
    "slideshow": {
     "slide_type": "slide"
    }
   },
   "source": [
    "## Cómo acceder a los valores del diccionario"
   ]
  },
  {
   "cell_type": "markdown",
   "id": "5180df0a",
   "metadata": {
    "slideshow": {
     "slide_type": "slide"
    }
   },
   "source": [
    "* Para acceder a los valores del diccionario utilizas la sintaxis del paréntesis cuadrado\n",
    "* y luego pasas el string de la llave o clave asociada al valor que quieres obtener. "
   ]
  },
  {
   "cell_type": "code",
   "execution_count": 4,
   "id": "131a5daa",
   "metadata": {
    "slideshow": {
     "slide_type": "slide"
    }
   },
   "outputs": [
    {
     "data": {
      "text/plain": [
       "'chanchito feliz'"
      ]
     },
     "execution_count": 4,
     "metadata": {},
     "output_type": "execute_result"
    }
   ],
   "source": [
    "diccionario['nombre'] "
   ]
  },
  {
   "cell_type": "code",
   "execution_count": 5,
   "id": "b578b81a",
   "metadata": {
    "slideshow": {
     "slide_type": "slide"
    }
   },
   "outputs": [
    {
     "data": {
      "text/plain": [
       "'persa'"
      ]
     },
     "execution_count": 5,
     "metadata": {},
     "output_type": "execute_result"
    }
   ],
   "source": [
    "diccionario['raza']"
   ]
  },
  {
   "cell_type": "code",
   "execution_count": 6,
   "id": "cb16a810",
   "metadata": {
    "slideshow": {
     "slide_type": "slide"
    }
   },
   "outputs": [
    {
     "data": {
      "text/plain": [
       "5"
      ]
     },
     "execution_count": 6,
     "metadata": {},
     "output_type": "execute_result"
    }
   ],
   "source": [
    "diccionario['edad']"
   ]
  },
  {
   "cell_type": "markdown",
   "id": "38f960eb",
   "metadata": {
    "slideshow": {
     "slide_type": "slide"
    }
   },
   "source": [
    "# Otra forma de acceder a los valores de un diccionario es utilizando la función `.get()`"
   ]
  },
  {
   "cell_type": "code",
   "execution_count": 7,
   "id": "a5eb08e5",
   "metadata": {
    "slideshow": {
     "slide_type": "slide"
    }
   },
   "outputs": [
    {
     "data": {
      "text/plain": [
       "'chanchito feliz'"
      ]
     },
     "execution_count": 7,
     "metadata": {},
     "output_type": "execute_result"
    }
   ],
   "source": [
    "diccionario.get('nombre')"
   ]
  },
  {
   "cell_type": "code",
   "execution_count": 15,
   "id": "e081dfbf",
   "metadata": {
    "slideshow": {
     "slide_type": "slide"
    }
   },
   "outputs": [
    {
     "data": {
      "text/plain": [
       "'marco'"
      ]
     },
     "execution_count": 15,
     "metadata": {},
     "output_type": "execute_result"
    }
   ],
   "source": [
    "personas.get('nombre') \n"
   ]
  },
  {
   "cell_type": "code",
   "execution_count": 8,
   "id": "9c4122d9",
   "metadata": {
    "slideshow": {
     "slide_type": "slide"
    }
   },
   "outputs": [
    {
     "data": {
      "text/plain": [
       "'persa'"
      ]
     },
     "execution_count": 8,
     "metadata": {},
     "output_type": "execute_result"
    }
   ],
   "source": [
    "diccionario.get('raza')"
   ]
  },
  {
   "cell_type": "code",
   "execution_count": 9,
   "id": "62a3f56d",
   "metadata": {
    "slideshow": {
     "slide_type": "slide"
    }
   },
   "outputs": [
    {
     "data": {
      "text/plain": [
       "5"
      ]
     },
     "execution_count": 9,
     "metadata": {},
     "output_type": "execute_result"
    }
   ],
   "source": [
    "diccionario.get('edad') "
   ]
  },
  {
   "cell_type": "markdown",
   "id": "73812234",
   "metadata": {
    "slideshow": {
     "slide_type": "slide"
    }
   },
   "source": [
    "## Cómo cambiar un valor asociado a una propiedad o clave de un diccionario."
   ]
  },
  {
   "cell_type": "code",
   "execution_count": 16,
   "id": "881626ac",
   "metadata": {
    "slideshow": {
     "slide_type": "slide"
    }
   },
   "outputs": [],
   "source": [
    "personas['nombre'] = 'Yasmira' "
   ]
  },
  {
   "cell_type": "code",
   "execution_count": 17,
   "id": "9f3c420b",
   "metadata": {},
   "outputs": [
    {
     "data": {
      "text/plain": [
       "'Yasmira'"
      ]
     },
     "execution_count": 17,
     "metadata": {},
     "output_type": "execute_result"
    }
   ],
   "source": [
    "personas['nombre'] "
   ]
  },
  {
   "cell_type": "code",
   "execution_count": 10,
   "id": "a3f7e56e",
   "metadata": {
    "slideshow": {
     "slide_type": "slide"
    }
   },
   "outputs": [],
   "source": [
    "diccionario['nombre'] = 'floffy' "
   ]
  },
  {
   "cell_type": "code",
   "execution_count": 11,
   "id": "d7f81660",
   "metadata": {
    "slideshow": {
     "slide_type": "slide"
    }
   },
   "outputs": [
    {
     "name": "stdout",
     "output_type": "stream",
     "text": [
      "{'nombre': 'floffy', 'raza': 'persa', 'edad': 5}\n"
     ]
    }
   ],
   "source": [
    "print(diccionario)"
   ]
  },
  {
   "cell_type": "markdown",
   "id": "ba045262",
   "metadata": {
    "slideshow": {
     "slide_type": "slide"
    }
   },
   "source": [
    "# Cómo imprimir la longitud o cantidad de elementos que tiene un diccionario"
   ]
  },
  {
   "cell_type": "code",
   "execution_count": 18,
   "id": "4075dc82",
   "metadata": {},
   "outputs": [
    {
     "data": {
      "text/plain": [
       "3"
      ]
     },
     "execution_count": 18,
     "metadata": {},
     "output_type": "execute_result"
    }
   ],
   "source": [
    "len(personas) "
   ]
  },
  {
   "cell_type": "code",
   "execution_count": 12,
   "id": "b53260e6",
   "metadata": {
    "slideshow": {
     "slide_type": "slide"
    }
   },
   "outputs": [
    {
     "name": "stdout",
     "output_type": "stream",
     "text": [
      "3\n"
     ]
    }
   ],
   "source": [
    "print(len(diccionario))"
   ]
  },
  {
   "cell_type": "markdown",
   "id": "88015279",
   "metadata": {
    "slideshow": {
     "slide_type": "slide"
    }
   },
   "source": [
    "# Profundicemos en los diccionarios"
   ]
  },
  {
   "cell_type": "markdown",
   "id": "01e0bf77",
   "metadata": {
    "slideshow": {
     "slide_type": "slide"
    }
   },
   "source": [
    "## Cómo agregar una propiedad a un diccionario."
   ]
  },
  {
   "cell_type": "code",
   "execution_count": 19,
   "id": "9d751a76",
   "metadata": {
    "slideshow": {
     "slide_type": "slide"
    }
   },
   "outputs": [],
   "source": [
    "personas['edad'] = '47' "
   ]
  },
  {
   "cell_type": "code",
   "execution_count": 20,
   "id": "da549460",
   "metadata": {
    "slideshow": {
     "slide_type": "slide"
    }
   },
   "outputs": [
    {
     "data": {
      "text/plain": [
       "{'nombre': 'Yasmira', 'apellido': 'cañas', 'estatura': 1.65, 'edad': '47'}"
      ]
     },
     "execution_count": 20,
     "metadata": {},
     "output_type": "execute_result"
    }
   ],
   "source": [
    "personas "
   ]
  },
  {
   "cell_type": "code",
   "execution_count": 13,
   "id": "6cfca582",
   "metadata": {
    "slideshow": {
     "slide_type": "slide"
    }
   },
   "outputs": [],
   "source": [
    "diccionario['ronrronea'] = 'si' "
   ]
  },
  {
   "cell_type": "code",
   "execution_count": 14,
   "id": "13718102",
   "metadata": {
    "slideshow": {
     "slide_type": "slide"
    }
   },
   "outputs": [
    {
     "data": {
      "text/plain": [
       "{'nombre': 'floffy', 'raza': 'persa', 'edad': 5, 'ronrronea': 'si'}"
      ]
     },
     "execution_count": 14,
     "metadata": {},
     "output_type": "execute_result"
    }
   ],
   "source": [
    "diccionario"
   ]
  },
  {
   "cell_type": "markdown",
   "id": "865e605c",
   "metadata": {
    "slideshow": {
     "slide_type": "slide"
    }
   },
   "source": [
    "## Cómo eliminar una propiedad de un diccionario utilizando el método `.pop()`"
   ]
  },
  {
   "cell_type": "code",
   "execution_count": 21,
   "id": "7e977c8d",
   "metadata": {},
   "outputs": [
    {
     "data": {
      "text/plain": [
       "'Yasmira'"
      ]
     },
     "execution_count": 21,
     "metadata": {},
     "output_type": "execute_result"
    }
   ],
   "source": [
    "personas.pop('nombre') "
   ]
  },
  {
   "cell_type": "code",
   "execution_count": 22,
   "id": "ff133460",
   "metadata": {},
   "outputs": [
    {
     "data": {
      "text/plain": [
       "{'apellido': 'cañas', 'estatura': 1.65, 'edad': '47'}"
      ]
     },
     "execution_count": 22,
     "metadata": {},
     "output_type": "execute_result"
    }
   ],
   "source": [
    "personas "
   ]
  },
  {
   "cell_type": "code",
   "execution_count": 15,
   "id": "f23e43ca",
   "metadata": {
    "slideshow": {
     "slide_type": "slide"
    }
   },
   "outputs": [
    {
     "data": {
      "text/plain": [
       "'si'"
      ]
     },
     "execution_count": 15,
     "metadata": {},
     "output_type": "execute_result"
    }
   ],
   "source": [
    "diccionario.pop('ronrronea') "
   ]
  },
  {
   "cell_type": "code",
   "execution_count": 16,
   "id": "2390b84c",
   "metadata": {
    "slideshow": {
     "slide_type": "slide"
    }
   },
   "outputs": [
    {
     "data": {
      "text/plain": [
       "{'nombre': 'floffy', 'raza': 'persa', 'edad': 5}"
      ]
     },
     "execution_count": 16,
     "metadata": {},
     "output_type": "execute_result"
    }
   ],
   "source": [
    "diccionario"
   ]
  },
  {
   "cell_type": "code",
   "execution_count": 17,
   "id": "be311810",
   "metadata": {
    "slideshow": {
     "slide_type": "slide"
    }
   },
   "outputs": [
    {
     "ename": "KeyError",
     "evalue": "'ronronea'",
     "output_type": "error",
     "traceback": [
      "\u001b[1;31m---------------------------------------------------------------------------\u001b[0m",
      "\u001b[1;31mKeyError\u001b[0m                                  Traceback (most recent call last)",
      "\u001b[1;32m~\\AppData\\Local\\Temp\\ipykernel_6848\\760930514.py\u001b[0m in \u001b[0;36m<module>\u001b[1;34m\u001b[0m\n\u001b[1;32m----> 1\u001b[1;33m \u001b[0mdiccionario\u001b[0m\u001b[1;33m.\u001b[0m\u001b[0mpop\u001b[0m\u001b[1;33m(\u001b[0m\u001b[1;34m'ronronea'\u001b[0m\u001b[1;33m)\u001b[0m\u001b[1;33m\u001b[0m\u001b[1;33m\u001b[0m\u001b[0m\n\u001b[0m",
      "\u001b[1;31mKeyError\u001b[0m: 'ronronea'"
     ]
    }
   ],
   "source": [
    "diccionario.pop('ronronea')"
   ]
  },
  {
   "cell_type": "code",
   "execution_count": 18,
   "id": "d1bafdfa",
   "metadata": {
    "slideshow": {
     "slide_type": "slide"
    }
   },
   "outputs": [
    {
     "data": {
      "text/plain": [
       "{'nombre': 'floffy', 'raza': 'persa', 'edad': 5}"
      ]
     },
     "execution_count": 18,
     "metadata": {},
     "output_type": "execute_result"
    }
   ],
   "source": [
    "diccionario "
   ]
  },
  {
   "cell_type": "markdown",
   "id": "b2a4500c",
   "metadata": {
    "slideshow": {
     "slide_type": "slide"
    }
   },
   "source": [
    "## Otra forma de borrar una llave o clave de un diccionario"
   ]
  },
  {
   "cell_type": "code",
   "execution_count": 19,
   "id": "098d6488",
   "metadata": {
    "slideshow": {
     "slide_type": "slide"
    }
   },
   "outputs": [
    {
     "data": {
      "text/plain": [
       "{'nombre': 'floffy', 'raza': 'persa', 'edad': 5}"
      ]
     },
     "execution_count": 19,
     "metadata": {},
     "output_type": "execute_result"
    }
   ],
   "source": [
    "diccionario"
   ]
  },
  {
   "cell_type": "code",
   "execution_count": 20,
   "id": "6340b869",
   "metadata": {
    "scrolled": true,
    "slideshow": {
     "slide_type": "slide"
    }
   },
   "outputs": [
    {
     "data": {
      "text/plain": [
       "('edad', 5)"
      ]
     },
     "execution_count": 20,
     "metadata": {},
     "output_type": "execute_result"
    }
   ],
   "source": [
    "diccionario.popitem() # borra la última propiedad del diccionaria. "
   ]
  },
  {
   "cell_type": "code",
   "execution_count": 21,
   "id": "fa0f9cec",
   "metadata": {
    "slideshow": {
     "slide_type": "slide"
    }
   },
   "outputs": [
    {
     "data": {
      "text/plain": [
       "{'nombre': 'floffy', 'raza': 'persa'}"
      ]
     },
     "execution_count": 21,
     "metadata": {},
     "output_type": "execute_result"
    }
   ],
   "source": [
    "diccionario "
   ]
  },
  {
   "cell_type": "markdown",
   "id": "c041f162",
   "metadata": {
    "slideshow": {
     "slide_type": "slide"
    }
   },
   "source": [
    "## Cómo eliminar una clave de una tercera forma"
   ]
  },
  {
   "cell_type": "code",
   "execution_count": 22,
   "id": "83e1fa45",
   "metadata": {
    "slideshow": {
     "slide_type": "slide"
    }
   },
   "outputs": [],
   "source": [
    "del diccionario['raza']"
   ]
  },
  {
   "cell_type": "code",
   "execution_count": 23,
   "id": "7c8e1d30",
   "metadata": {},
   "outputs": [
    {
     "data": {
      "text/plain": [
       "{'nombre': 'floffy'}"
      ]
     },
     "execution_count": 23,
     "metadata": {},
     "output_type": "execute_result"
    }
   ],
   "source": [
    "diccionario "
   ]
  },
  {
   "cell_type": "markdown",
   "id": "ade808cb",
   "metadata": {
    "slideshow": {
     "slide_type": "slide"
    }
   },
   "source": [
    "# Cómo copiar un diccionario"
   ]
  },
  {
   "cell_type": "code",
   "execution_count": 2,
   "id": "7f47ec88",
   "metadata": {
    "slideshow": {
     "slide_type": "slide"
    }
   },
   "outputs": [],
   "source": [
    "personas_copia = personas.copy() "
   ]
  },
  {
   "cell_type": "code",
   "execution_count": 3,
   "id": "68541e72",
   "metadata": {
    "slideshow": {
     "slide_type": "slide"
    }
   },
   "outputs": [
    {
     "data": {
      "text/plain": [
       "{'nombre': 'marco', 'apellido': 'cañas', 'estatura': 1.65}"
      ]
     },
     "execution_count": 3,
     "metadata": {},
     "output_type": "execute_result"
    }
   ],
   "source": [
    "personas_copia"
   ]
  },
  {
   "cell_type": "markdown",
   "id": "ba51515b",
   "metadata": {
    "slideshow": {
     "slide_type": "slide"
    }
   },
   "source": [
    "# Otra forma de generar una copia de un diccionario"
   ]
  },
  {
   "cell_type": "code",
   "execution_count": 7,
   "id": "0a4cabd9",
   "metadata": {
    "slideshow": {
     "slide_type": "slide"
    }
   },
   "outputs": [],
   "source": [
    "personas_copia_2 = dict(personas) "
   ]
  },
  {
   "cell_type": "code",
   "execution_count": 8,
   "id": "67533e60",
   "metadata": {
    "slideshow": {
     "slide_type": "slide"
    }
   },
   "outputs": [
    {
     "data": {
      "text/plain": [
       "{'nombre': 'marco', 'apellido': 'cañas', 'estatura': 1.65}"
      ]
     },
     "execution_count": 8,
     "metadata": {},
     "output_type": "execute_result"
    }
   ],
   "source": [
    "personas_copia_2"
   ]
  },
  {
   "cell_type": "markdown",
   "id": "3a8897c2",
   "metadata": {
    "slideshow": {
     "slide_type": "slide"
    }
   },
   "source": [
    "## Cómo eliminar todos los elementos que se encuentran dentro de un diccionario"
   ]
  },
  {
   "cell_type": "code",
   "execution_count": 4,
   "id": "7c7cbf0e",
   "metadata": {
    "slideshow": {
     "slide_type": "slide"
    }
   },
   "outputs": [],
   "source": [
    "personas_copia.clear() "
   ]
  },
  {
   "cell_type": "code",
   "execution_count": 5,
   "id": "0913e8ca",
   "metadata": {
    "slideshow": {
     "slide_type": "slide"
    }
   },
   "outputs": [
    {
     "data": {
      "text/plain": [
       "{}"
      ]
     },
     "execution_count": 5,
     "metadata": {},
     "output_type": "execute_result"
    }
   ],
   "source": [
    "personas_copia"
   ]
  },
  {
   "cell_type": "code",
   "execution_count": 6,
   "id": "f267d6c5",
   "metadata": {
    "slideshow": {
     "slide_type": "slide"
    }
   },
   "outputs": [
    {
     "data": {
      "text/plain": [
       "{'nombre': 'marco', 'apellido': 'cañas', 'estatura': 1.65}"
      ]
     },
     "execution_count": 6,
     "metadata": {},
     "output_type": "execute_result"
    }
   ],
   "source": [
    "personas "
   ]
  },
  {
   "cell_type": "markdown",
   "id": "464328e3",
   "metadata": {
    "slideshow": {
     "slide_type": "slide"
    }
   },
   "source": [
    "# Diccionarios anidados y constructor `dict`"
   ]
  },
  {
   "cell_type": "code",
   "execution_count": 3,
   "id": "fec5eadd",
   "metadata": {},
   "outputs": [],
   "source": [
    "gatitos = {\n",
    "'Fluffy':{\n",
    "'nombre':'Fluffy', \n",
    "'edad': 5\n",
    "}  ,  \n",
    "'Mamba':{\n",
    "'nombre': 'Black Mamba' , \n",
    "'edad': 13\n",
    "}    \n",
    "}"
   ]
  },
  {
   "cell_type": "code",
   "execution_count": 4,
   "id": "8b5a8d20",
   "metadata": {
    "slideshow": {
     "slide_type": "slide"
    }
   },
   "outputs": [
    {
     "name": "stdout",
     "output_type": "stream",
     "text": [
      "{'Fluffy': {'nombre': 'Fluffy', 'edad': 5}, 'Mamba': {'nombre': 'Black Mamba', 'edad': 13}}\n"
     ]
    }
   ],
   "source": [
    "print(gatitos) "
   ]
  },
  {
   "cell_type": "markdown",
   "id": "e246883f",
   "metadata": {
    "slideshow": {
     "slide_type": "slide"
    }
   },
   "source": [
    "# Crear diccionarios utilizando el constructor dict"
   ]
  },
  {
   "cell_type": "markdown",
   "id": "3c1b652f",
   "metadata": {
    "slideshow": {
     "slide_type": "slide"
    }
   },
   "source": [
    "1. crear una variable\n",
    "2. llamar a la función dict\n",
    "3. "
   ]
  },
  {
   "cell_type": "code",
   "execution_count": 7,
   "id": "8604c752",
   "metadata": {
    "slideshow": {
     "slide_type": "slide"
    }
   },
   "outputs": [],
   "source": [
    "perritos = dict(nombre = 'chanchito feliz', edad = 6 )"
   ]
  },
  {
   "cell_type": "code",
   "execution_count": 8,
   "id": "f7f6885f",
   "metadata": {
    "slideshow": {
     "slide_type": "slide"
    }
   },
   "outputs": [
    {
     "data": {
      "text/plain": [
       "{'nombre': 'chanchito feliz', 'edad': 6}"
      ]
     },
     "execution_count": 8,
     "metadata": {},
     "output_type": "execute_result"
    }
   ],
   "source": [
    "perritos "
   ]
  },
  {
   "cell_type": "markdown",
   "id": "5fa27530",
   "metadata": {
    "slideshow": {
     "slide_type": "slide"
    }
   },
   "source": [
    "## Tareas de fijación del aprendizaje"
   ]
  },
  {
   "cell_type": "markdown",
   "id": "c7c3fdf7",
   "metadata": {
    "slideshow": {
     "slide_type": "slide"
    }
   },
   "source": [
    "1: Crea un diccionario con las claves\n",
    "  * tu nombre\n",
    "  * tu edad\n",
    "  * tu estatura\n",
    "  \n",
    "2. cree un diccionario con las propiedades del municipio de Caucasia - Antioquia. \n",
    "3. Cree un diccionario con propiedades de municipios"
   ]
  },
  {
   "cell_type": "markdown",
   "id": "7429a66a",
   "metadata": {
    "slideshow": {
     "slide_type": "slide"
    }
   },
   "source": [
    "## Solución"
   ]
  },
  {
   "cell_type": "code",
   "execution_count": 24,
   "id": "a95ae38c",
   "metadata": {},
   "outputs": [],
   "source": [
    "propiedades_municipios_colombia = {'nombre': 'Caucasia', 'población': 130000, 'área':'1000 Km2'}  "
   ]
  },
  {
   "cell_type": "code",
   "execution_count": 26,
   "id": "ef606505",
   "metadata": {},
   "outputs": [
    {
     "data": {
      "text/plain": [
       "'Caucasia'"
      ]
     },
     "execution_count": 26,
     "metadata": {},
     "output_type": "execute_result"
    }
   ],
   "source": [
    "propiedades_municipios_colombia['nombre']  "
   ]
  },
  {
   "cell_type": "code",
   "execution_count": 25,
   "id": "cb0d0e9b",
   "metadata": {
    "slideshow": {
     "slide_type": "slide"
    }
   },
   "outputs": [],
   "source": [
    "dict2 = {'nombre':'marco', 'edad':47, 'estatura':1.65} "
   ]
  },
  {
   "cell_type": "code",
   "execution_count": 26,
   "id": "7d73c941",
   "metadata": {
    "slideshow": {
     "slide_type": "slide"
    }
   },
   "outputs": [
    {
     "name": "stdout",
     "output_type": "stream",
     "text": [
      "{'nombre': 'marco', 'edad': 47, 'estatura': 1.65}\n"
     ]
    }
   ],
   "source": [
    "print(dict2) "
   ]
  },
  {
   "cell_type": "markdown",
   "id": "ddd2b15d",
   "metadata": {
    "slideshow": {
     "slide_type": "slide"
    }
   },
   "source": [
    "## Segunda parte de la tarea"
   ]
  },
  {
   "cell_type": "code",
   "execution_count": 27,
   "id": "73ce2d06",
   "metadata": {
    "slideshow": {
     "slide_type": "slide"
    }
   },
   "outputs": [],
   "source": [
    "dict3 = {'municipio':'caucasia', 'pais':'colombia', 'departamento':'antioquia'} "
   ]
  },
  {
   "cell_type": "code",
   "execution_count": 28,
   "id": "a9a651da",
   "metadata": {
    "slideshow": {
     "slide_type": "slide"
    }
   },
   "outputs": [
    {
     "data": {
      "text/plain": [
       "{'municipio': 'caucasia', 'pais': 'colombia', 'departamento': 'antioquia'}"
      ]
     },
     "execution_count": 28,
     "metadata": {},
     "output_type": "execute_result"
    }
   ],
   "source": [
    "dict3"
   ]
  },
  {
   "cell_type": "markdown",
   "id": "dd9e89aa",
   "metadata": {
    "slideshow": {
     "slide_type": "slide"
    }
   },
   "source": [
    "## Actividades evaluativas del aprendizaje con el ánimo de hacer feedback"
   ]
  },
  {
   "cell_type": "markdown",
   "id": "34c0f5b8",
   "metadata": {
    "slideshow": {
     "slide_type": "slide"
    }
   },
   "source": [
    "1.  cree un diccionario sobre propiedades de su carrera y determine su longitud. \n",
    "2.  cree un diccionario con propiedades y valores particulares de universidades. "
   ]
  },
  {
   "cell_type": "markdown",
   "id": "99a65f89",
   "metadata": {
    "slideshow": {
     "slide_type": "slide"
    }
   },
   "source": [
    "## Vocabulary "
   ]
  },
  {
   "cell_type": "markdown",
   "id": "8ba2c2d5",
   "metadata": {
    "slideshow": {
     "slide_type": "slide"
    }
   },
   "source": [
    "1. lenght: longitud\n",
    "2. pop:estallido. "
   ]
  },
  {
   "cell_type": "markdown",
   "id": "2b2e2699",
   "metadata": {
    "slideshow": {
     "slide_type": "slide"
    }
   },
   "source": [
    "## Referencias \n",
    "\n",
    "* Fundamento de la secuencia de enseñanza para formar un científico de datos: Youssef Hosni 3.8K Followers. Ph.D. Researcher — Computer vision | Data Scientist | Looking for data science mentoring, let's chat: https://calendly.com/youssef-rafaat95. Esta secuencia didáctica es fundamentada en su artículo: https://levelup.gitconnected.com/5-most-important-python-skills-to-master-as-a-data-scientist-d62916b83b5a"
   ]
  },
  {
   "cell_type": "code",
   "execution_count": 12,
   "id": "1f9fafc7",
   "metadata": {
    "slideshow": {
     "slide_type": "slide"
    }
   },
   "outputs": [
    {
     "data": {
      "text/plain": [
       "False"
      ]
     },
     "execution_count": 12,
     "metadata": {},
     "output_type": "execute_result"
    }
   ],
   "source": []
  }
 ],
 "metadata": {
  "celltoolbar": "Slideshow",
  "kernelspec": {
   "display_name": "Python 3 (ipykernel)",
   "language": "python",
   "name": "python3"
  },
  "language_info": {
   "codemirror_mode": {
    "name": "ipython",
    "version": 3
   },
   "file_extension": ".py",
   "mimetype": "text/x-python",
   "name": "python",
   "nbconvert_exporter": "python",
   "pygments_lexer": "ipython3",
   "version": "3.9.13"
  }
 },
 "nbformat": 4,
 "nbformat_minor": 5
}
