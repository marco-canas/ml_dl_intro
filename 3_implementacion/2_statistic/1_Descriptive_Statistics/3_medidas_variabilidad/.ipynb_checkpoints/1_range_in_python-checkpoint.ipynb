{
 "cells": [
  {
   "cell_type": "markdown",
   "id": "d657d030",
   "metadata": {
    "slideshow": {
     "slide_type": "slide"
    }
   },
   "source": [
    "<table align=\"left\">\n",
    "  <td>\n",
    "    <a href=\"https://colab.research.google.com/github/marco-canas/didactica_ciencia_datos/blob/main/propuesta/unidad_didac/1_statistic/1_Basic_Descriptive_Statistics/2_medidas_variabilidad/1_rango.ipynb\" target=\"_parent\"><img src=\"https://colab.research.google.com/assets/colab-badge.svg\" alt=\"Open In Colab\"/></a>\n",
    "  </td>\n",
    "</table>"
   ]
  },
  {
   "cell_type": "markdown",
   "id": "d733001a",
   "metadata": {
    "slideshow": {
     "slide_type": "slide"
    }
   },
   "source": [
    "## [Video de apoyo a la lectura interactiva y experimental de esta cuaderno](https://www.youtube.com/watch?v=aI8bZ3j5qk4)"
   ]
  },
  {
   "cell_type": "markdown",
   "id": "90fea0d7",
   "metadata": {
    "slideshow": {
     "slide_type": "slide"
    }
   },
   "source": [
    "## [Vínculo al programa del curso:  ](https://github.com/marco-canas/7_didactica_ciencia_datos/blob/main/1_propuesta/prop_invest/cartilla/cartilla.ipynb)\n"
   ]
  },
  {
   "cell_type": "markdown",
   "id": "6d1b0def",
   "metadata": {
    "slideshow": {
     "slide_type": "slide"
    }
   },
   "source": [
    "# Llamado aleatorio a lista y valoración de participación"
   ]
  },
  {
   "cell_type": "code",
   "execution_count": 28,
   "id": "2c3a8f2f",
   "metadata": {
    "slideshow": {
     "slide_type": "slide"
    }
   },
   "outputs": [],
   "source": [
    "# Llamar a lista o tomar asistencia con \n",
    "# python o llamar el equipo para la tarea con video y cuaderno \n",
    "# Jupyter sobre medición indirecta de grandes alturas con imágenes\n",
    "def crear_lista_estudiantes(ubicacion_lista):\n",
    "    \"\"\"\n",
    "    \"\"\"\n",
    "    import pandas as pd     \n",
    "    grupo_df = pd.read_csv(ubicacion_lista, sep = ';') \n",
    "    # cuando el .csv file proviene de un .xlsx file, debe utilizarse sep = ';'\n",
    "    lista_estudiantes = list(grupo_df.nombre.values)\n",
    "    return lista_estudiantes "
   ]
  },
  {
   "cell_type": "code",
   "execution_count": 29,
   "id": "f2d3e71c",
   "metadata": {
    "slideshow": {
     "slide_type": "slide"
    }
   },
   "outputs": [],
   "source": [
    "#llamar a lista o tomar registro de asistencia a clase\n",
    "def llamar_estudiantes_a_participar():\n",
    "    import numpy as np \n",
    "    from random import choice\n",
    "    if len(lista_estudiantes) != 0:\n",
    "        estudiante = choice(lista_estudiantes)\n",
    "        lista_estudiantes.remove(estudiante)\n",
    "        return print(estudiante)\n",
    "    else:\n",
    "        print('Todos los estudiantes han participado.\\n \\\n",
    "               Muchas gracias y Felicitaciones')"
   ]
  },
  {
   "cell_type": "code",
   "execution_count": 30,
   "id": "90c7238a",
   "metadata": {
    "slideshow": {
     "slide_type": "slide"
    }
   },
   "outputs": [],
   "source": [
    "ubicacion_lista='https://raw.githubusercontent.com/marco-canas/groups_list/main/1_algebra.csv'\n",
    "lista_estudiantes = crear_lista_estudiantes(ubicacion_lista)"
   ]
  },
  {
   "cell_type": "code",
   "execution_count": 31,
   "id": "94a9d1c4",
   "metadata": {
    "slideshow": {
     "slide_type": "slide"
    }
   },
   "outputs": [
    {
     "name": "stdout",
     "output_type": "stream",
     "text": [
      "QUINONEZ CERVANTES MARIANA\n"
     ]
    }
   ],
   "source": [
    "llamar_estudiantes_a_participar()"
   ]
  },
  {
   "cell_type": "markdown",
   "id": "923c52e6",
   "metadata": {
    "slideshow": {
     "slide_type": "slide"
    }
   },
   "source": [
    "# Actividades antes de la realización de la clase"
   ]
  },
  {
   "cell_type": "markdown",
   "id": "7f90f244",
   "metadata": {
    "slideshow": {
     "slide_type": "fragment"
    }
   },
   "source": [
    "# Rango"
   ]
  },
  {
   "cell_type": "markdown",
   "id": "02decc3d",
   "metadata": {
    "slideshow": {
     "slide_type": "slide"
    }
   },
   "source": [
    "Definición: Diferencia entre el valor máximo y el valor mínimo.   \n",
    "\n",
    "$$ \\text{Range} = \\max(\\text{datos}) - \\min(\\text{datos}) $$"
   ]
  },
  {
   "cell_type": "markdown",
   "id": "f05db85f",
   "metadata": {
    "slideshow": {
     "slide_type": "slide"
    }
   },
   "source": [
    "* Una primera interpretación del rango. Es la longitud del intervalo que contiene a todos los datos. \n",
    "* A mayor rango, mayor longitud del intervalo que contiene a los datos y por tanto, mayor variabilidad de los datos. "
   ]
  },
  {
   "cell_type": "markdown",
   "id": "9b3fa170",
   "metadata": {
    "slideshow": {
     "slide_type": "slide"
    }
   },
   "source": [
    "# Interpretación gráfica del rango utilizando interact de matplotlib"
   ]
  },
  {
   "cell_type": "markdown",
   "id": "9d07217e",
   "metadata": {
    "slideshow": {
     "slide_type": "slide"
    }
   },
   "source": [
    "<img src = 'https://phhp-faculty-cantrell.sites.medinfo.ufl.edu/files/2012/07/images-mod1-spread1.gif'>"
   ]
  },
  {
   "cell_type": "code",
   "execution_count": 27,
   "id": "18e0a254",
   "metadata": {
    "scrolled": true,
    "slideshow": {
     "slide_type": "slide"
    }
   },
   "outputs": [
    {
     "data": {
      "application/vnd.jupyter.widget-view+json": {
       "model_id": "696da6acfd2a464aa3c19730b6720ded",
       "version_major": 2,
       "version_minor": 0
      },
      "text/plain": [
       "interactive(children=(IntSlider(value=0, description='a', max=5), Output()), _dom_classes=('widget-interact',)…"
      ]
     },
     "metadata": {},
     "output_type": "display_data"
    },
    {
     "data": {
      "text/plain": [
       "<function __main__.graficar_datos(a=0)>"
      ]
     },
     "execution_count": 27,
     "metadata": {},
     "output_type": "execute_result"
    }
   ],
   "source": [
    "import numpy as np \n",
    "import matplotlib.pyplot as plt \n",
    "from ipywidgets import interact \n",
    "\n",
    "# tendremos una muestra de dos datos y variaremos la distancia entre ellos, para mostrar que a mayor separabilidad, mayor variabilidad, es decir, mayor rango\n",
    "# didacticamente, debemos mostrar muestras con igual centro pero de diferente variabilidad.\n",
    "def graficar_datos(a = 0):\n",
    "    dato1 = [-a/2,0]\n",
    "    dato2 = [a/2, 0]\n",
    "    x_coords, y_coords = zip(dato1, dato2)\n",
    "    plt.scatter(x_coords, y_coords, label = 'rango es: {}'.format(a))\n",
    "    plt.axis([-4,4, -1,1])\n",
    "    plt.grid(alpha = 0.4)\n",
    "    plt.legend()\n",
    "\n",
    "interact(graficar_datos, a = (0,5)) # note que la animación presenta diferentes muestras con centro cero, pero de diferente rango\n"
   ]
  },
  {
   "cell_type": "markdown",
   "id": "a005488a",
   "metadata": {
    "slideshow": {
     "slide_type": "slide"
    }
   },
   "source": [
    "# Agenda\n",
    "\n",
    "1. Generación de muestras o matrices aleatorias con el módulo `random` de NumPy. \n",
    "2. cree una función de usuario llamada `rango` y que calcule el rango de un conjunto de datos numéricos. \n",
    "3. Cálculo del rango con el módulo `statistics`\n",
    "4. Rango intercuartílico `scipy.stats.iqr()`"
   ]
  },
  {
   "cell_type": "markdown",
   "id": "3e543d4e",
   "metadata": {
    "slideshow": {
     "slide_type": "slide"
    }
   },
   "source": [
    "# Práctica de generación de matrices de números aleatorios"
   ]
  },
  {
   "cell_type": "markdown",
   "id": "d89aef77",
   "metadata": {
    "slideshow": {
     "slide_type": "slide"
    }
   },
   "source": [
    "## La función `numpy.random.uniform()`"
   ]
  },
  {
   "cell_type": "code",
   "execution_count": 7,
   "id": "ba5e740b",
   "metadata": {
    "slideshow": {
     "slide_type": "slide"
    }
   },
   "outputs": [],
   "source": [
    "import numpy as np \n",
    "\n",
    "from numpy import random as r\n",
    "\n"
   ]
  },
  {
   "cell_type": "code",
   "execution_count": 12,
   "id": "0d806ee7",
   "metadata": {
    "slideshow": {
     "slide_type": "slide"
    }
   },
   "outputs": [
    {
     "data": {
      "text/plain": [
       "array([[1.62519084, 1.69766517],\n",
       "       [1.53029652, 1.58919929]])"
      ]
     },
     "execution_count": 12,
     "metadata": {},
     "output_type": "execute_result"
    }
   ],
   "source": [
    "n = 3\n",
    "datos =  r.uniform(low = 1.5, high = 1.7, size = (2,2))\n",
    "datos "
   ]
  },
  {
   "cell_type": "code",
   "execution_count": 13,
   "id": "f328d24d",
   "metadata": {
    "slideshow": {
     "slide_type": "slide"
    }
   },
   "outputs": [
    {
     "data": {
      "text/plain": [
       "0.16736865457908845"
      ]
     },
     "execution_count": 13,
     "metadata": {},
     "output_type": "execute_result"
    }
   ],
   "source": [
    "rango = np.max(datos)- np.min(datos)\n",
    "rango"
   ]
  },
  {
   "cell_type": "code",
   "execution_count": 14,
   "id": "a3ebe9b8",
   "metadata": {
    "slideshow": {
     "slide_type": "slide"
    }
   },
   "outputs": [
    {
     "name": "stdout",
     "output_type": "stream",
     "text": [
      "El rango de la muestra es:  0.16736865457908845\n"
     ]
    }
   ],
   "source": [
    "print('El rango de la muestra es: ', rango)"
   ]
  },
  {
   "cell_type": "code",
   "execution_count": 15,
   "id": "adaabce1",
   "metadata": {},
   "outputs": [
    {
     "name": "stdout",
     "output_type": "stream",
     "text": [
      "la variabilidad es alta\n"
     ]
    }
   ],
   "source": [
    "if rango < 0.05:\n",
    "    print(\"La variabilidad de los datos es pequeña\")\n",
    "else:\n",
    "    print(\"la variabilidad es alta\")"
   ]
  },
  {
   "cell_type": "markdown",
   "id": "ca62a9b6",
   "metadata": {
    "slideshow": {
     "slide_type": "slide"
    }
   },
   "source": [
    "## Práctica de cálculo e interpretación del rango con Python"
   ]
  },
  {
   "cell_type": "code",
   "execution_count": 16,
   "id": "33523fdd",
   "metadata": {
    "slideshow": {
     "slide_type": "slide"
    }
   },
   "outputs": [],
   "source": [
    "import numpy as np \n",
    "import scipy as sc\n",
    "import statistics as st "
   ]
  },
  {
   "cell_type": "markdown",
   "id": "c52cdff3",
   "metadata": {},
   "source": [
    "# 2. Función de usuaria que calcula el rango de una variable numérica "
   ]
  },
  {
   "cell_type": "code",
   "execution_count": 17,
   "id": "69f4e7a7",
   "metadata": {
    "slideshow": {
     "slide_type": "slide"
    }
   },
   "outputs": [],
   "source": [
    "def calcula_rango(datos):\n",
    "    maximo = np.max(datos)  #con axis = 0 toma los maximos por columna. \n",
    "    minimo = np.min(datos)\n",
    "    rango = maximo-minimo \n",
    "    return rango"
   ]
  },
  {
   "cell_type": "code",
   "execution_count": 19,
   "id": "3da17c46",
   "metadata": {
    "slideshow": {
     "slide_type": "slide"
    }
   },
   "outputs": [
    {
     "data": {
      "text/plain": [
       "0.16736865457908845"
      ]
     },
     "execution_count": 19,
     "metadata": {},
     "output_type": "execute_result"
    }
   ],
   "source": [
    "calcula_rango(datos) "
   ]
  },
  {
   "cell_type": "markdown",
   "id": "a26d7a0b",
   "metadata": {
    "slideshow": {
     "slide_type": "slide"
    }
   },
   "source": [
    "# 3. Cálculo de el rango con el módulo statistics de Python"
   ]
  },
  {
   "cell_type": "code",
   "execution_count": 21,
   "id": "50397609",
   "metadata": {
    "slideshow": {
     "slide_type": "slide"
    }
   },
   "outputs": [
    {
     "name": "stdout",
     "output_type": "stream",
     "text": [
      "El Rango es: 15\n"
     ]
    }
   ],
   "source": [
    "import statistics\n",
    "\n",
    "data = [10, 15, 12, 18, 20, 25, 22]\n",
    "\n",
    "max_value = max(data)\n",
    "min_value = min(data)\n",
    "\n",
    "range_value = max_value - min_value\n",
    "\n",
    "print(\"El Rango es:\", range_value)\n"
   ]
  },
  {
   "cell_type": "markdown",
   "id": "e72f401d",
   "metadata": {
    "slideshow": {
     "slide_type": "slide"
    }
   },
   "source": [
    " # 4. Cálculo del rango intercuartílico"
   ]
  },
  {
   "cell_type": "code",
   "execution_count": 22,
   "id": "6f33ecf6",
   "metadata": {
    "slideshow": {
     "slide_type": "slide"
    }
   },
   "outputs": [
    {
     "name": "stdout",
     "output_type": "stream",
     "text": [
      "Rango intercuartílico: 7.5\n"
     ]
    }
   ],
   "source": [
    "from scipy import stats\n",
    "\n",
    "data = [10, 15, 12, 18, 20, 25, 22]\n",
    "\n",
    "iqr_value = stats.iqr(data)\n",
    "\n",
    "print(\"Rango intercuartílico:\", iqr_value)\n",
    "\n"
   ]
  },
  {
   "cell_type": "markdown",
   "id": "80302758",
   "metadata": {
    "slideshow": {
     "slide_type": "slide"
    }
   },
   "source": [
    "## Ejemplo de calculo de rango con uno datos de estaturas"
   ]
  },
  {
   "cell_type": "code",
   "execution_count": 5,
   "id": "b5b498a7",
   "metadata": {
    "slideshow": {
     "slide_type": "slide"
    }
   },
   "outputs": [],
   "source": [
    "estaturas = np.array([1.65, 1.55, 1.70, 1.60, 1.65])"
   ]
  },
  {
   "cell_type": "code",
   "execution_count": 6,
   "id": "b8395d77",
   "metadata": {
    "slideshow": {
     "slide_type": "slide"
    }
   },
   "outputs": [],
   "source": [
    "estaturas.sort() "
   ]
  },
  {
   "cell_type": "code",
   "execution_count": 7,
   "id": "4a6ac5ae",
   "metadata": {
    "slideshow": {
     "slide_type": "slide"
    }
   },
   "outputs": [
    {
     "data": {
      "text/plain": [
       "array([1.55, 1.6 , 1.65, 1.65, 1.7 ])"
      ]
     },
     "execution_count": 7,
     "metadata": {},
     "output_type": "execute_result"
    }
   ],
   "source": [
    "estaturas # estaturas ordenadas"
   ]
  },
  {
   "cell_type": "code",
   "execution_count": 6,
   "id": "bef84694",
   "metadata": {
    "slideshow": {
     "slide_type": "slide"
    }
   },
   "outputs": [],
   "source": [
    "def rango(datos):\n",
    "    maximo = np.max(datos)\n",
    "    minimo = np.min(datos)\n",
    "    rango = maximo-minimo\n",
    "    return rango "
   ]
  },
  {
   "cell_type": "code",
   "execution_count": 7,
   "id": "715e1713",
   "metadata": {
    "slideshow": {
     "slide_type": "slide"
    }
   },
   "outputs": [
    {
     "data": {
      "text/plain": [
       "0.1499999999999999"
      ]
     },
     "execution_count": 7,
     "metadata": {},
     "output_type": "execute_result"
    }
   ],
   "source": [
    "rango(estaturas) "
   ]
  },
  {
   "cell_type": "code",
   "execution_count": 8,
   "id": "ff6813cb",
   "metadata": {
    "slideshow": {
     "slide_type": "slide"
    }
   },
   "outputs": [
    {
     "data": {
      "text/plain": [
       "0.1499999999999999"
      ]
     },
     "execution_count": 8,
     "metadata": {},
     "output_type": "execute_result"
    }
   ],
   "source": [
    "sc.stats.iqr(estaturas, rng=(0, 100))  "
   ]
  },
  {
   "cell_type": "markdown",
   "id": "eef3c0ad",
   "metadata": {
    "slideshow": {
     "slide_type": "slide"
    }
   },
   "source": [
    "## Interpretación\n",
    "\n",
    "Las alturas de las personas dadas solo difieren en 15 centímetros a lo sumo. "
   ]
  },
  {
   "cell_type": "code",
   "execution_count": null,
   "id": "69102a43",
   "metadata": {
    "slideshow": {
     "slide_type": "slide"
    }
   },
   "outputs": [],
   "source": []
  },
  {
   "cell_type": "markdown",
   "id": "3e3e9ff9",
   "metadata": {
    "slideshow": {
     "slide_type": "slide"
    }
   },
   "source": [
    "## Tareas de fijación de conceptos y adquisición de habilidades"
   ]
  },
  {
   "cell_type": "markdown",
   "id": "f592fc99",
   "metadata": {
    "slideshow": {
     "slide_type": "slide"
    }
   },
   "source": [
    "1. Cree una matriz de orden 2x3 de números aleatorios que distribuyan uniforme en el intervalo $[0,1]$\n",
    "2. Calcule el rango por filas"
   ]
  },
  {
   "cell_type": "markdown",
   "id": "e973b7cb",
   "metadata": {
    "slideshow": {
     "slide_type": "slide"
    }
   },
   "source": [
    "## Evaluación"
   ]
  },
  {
   "cell_type": "markdown",
   "id": "3ff7b352",
   "metadata": {
    "slideshow": {
     "slide_type": "slide"
    }
   },
   "source": [
    "Cree una función de usuario que calcule el rango por columnas o por filas, de acuerdo a como lo pida el ususario. "
   ]
  },
  {
   "cell_type": "markdown",
   "id": "3ed27906",
   "metadata": {
    "slideshow": {
     "slide_type": "slide"
    }
   },
   "source": [
    "## Referentes"
   ]
  },
  {
   "cell_type": "markdown",
   "id": "8b5818ee",
   "metadata": {
    "slideshow": {
     "slide_type": "slide"
    }
   },
   "source": [
    "* [estadística para todos](https://udeaeduco-my.sharepoint.com/:b:/g/personal/marco_canas_udea_edu_co/EZG3TCMxYxhBnu7cu9k7NxMBqpCa4hmBfBtj-YEaq5H2mg?e=WTQxFO)\n",
    "* [Documentación de la función numpy.random.uniform()](https://numpy.org/doc/stable/reference/random/generated/numpy.random.uniform.html)\n",
    "* Documentación de scipy para calcular el rango intercuartílico. \n",
    "* Función iqr del módulo stats de la librería scipy: https://docs.scipy.org/doc/scipy/reference/generated/scipy.stats.iqr.html\n",
    "* Sobre el módulo statistics de python y las medidas de dispersión de datos: https://docs.python.org/es/3/library/statistics.html"
   ]
  },
  {
   "cell_type": "markdown",
   "id": "1fc3a11e",
   "metadata": {
    "slideshow": {
     "slide_type": "slide"
    }
   },
   "source": [
    "## [continue con su formación con el concepto de varianza](https://github.com/marco-canas/7_didactica_ciencia_datos/blob/main/1_propuesta/unidad_didac/1_statistic/1_Basic_Descriptive_Statistics/2_medidas_variabilidad/2_varianza.ipynb)"
   ]
  },
  {
   "cell_type": "code",
   "execution_count": null,
   "id": "614c7dc2",
   "metadata": {},
   "outputs": [],
   "source": []
  }
 ],
 "metadata": {
  "celltoolbar": "Slideshow",
  "kernelspec": {
   "display_name": "Python 3 (ipykernel)",
   "language": "python",
   "name": "python3"
  },
  "language_info": {
   "codemirror_mode": {
    "name": "ipython",
    "version": 3
   },
   "file_extension": ".py",
   "mimetype": "text/x-python",
   "name": "python",
   "nbconvert_exporter": "python",
   "pygments_lexer": "ipython3",
   "version": "3.9.13"
  },
  "rise": {
   "enable_chalkboard": true,
   "theme": "sky"
  }
 },
 "nbformat": 4,
 "nbformat_minor": 5
}
