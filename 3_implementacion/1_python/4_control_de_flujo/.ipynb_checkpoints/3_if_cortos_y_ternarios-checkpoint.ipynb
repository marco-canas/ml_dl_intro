{
 "cells": [
  {
   "cell_type": "markdown",
   "id": "df3b9327",
   "metadata": {
    "slideshow": {
     "slide_type": "slide"
    }
   },
   "source": [
    "<table align=\"left\">\n",
    "  <td>\n",
    "    <a href=\"https://colab.research.google.com/github/marco-canas/edo/blob/main/banco_preguntas/parcial_4/p_4_13.ipynb\" target=\"_parent\"><img src=\"https://colab.research.google.com/assets/colab-badge.svg\" alt=\"Open In Colab\"/></a>\n",
    "  </td>\n",
    "</table>"
   ]
  },
  {
   "cell_type": "markdown",
   "id": "a5de4055",
   "metadata": {
    "slideshow": {
     "slide_type": "slide"
    }
   },
   "source": [
    "## [Video de apoyo a la lectura](https://www.youtube.com/watch?v=xX71KjtrVrQ)"
   ]
  },
  {
   "cell_type": "markdown",
   "id": "124ecc43",
   "metadata": {
    "slideshow": {
     "slide_type": "slide"
    }
   },
   "source": [
    "# if cortos y ternarios"
   ]
  },
  {
   "cell_type": "code",
   "execution_count": 1,
   "id": "88a07183",
   "metadata": {
    "slideshow": {
     "slide_type": "slide"
    }
   },
   "outputs": [
    {
     "name": "stdout",
     "output_type": "stream",
     "text": [
      "if corto de una línea\n"
     ]
    }
   ],
   "source": [
    "if 2 < 5: print('if corto de una línea')"
   ]
  },
  {
   "cell_type": "markdown",
   "id": "b25c445e",
   "metadata": {
    "slideshow": {
     "slide_type": "slide"
    }
   },
   "source": [
    "# Otra forma de escribir un if corto"
   ]
  },
  {
   "cell_type": "markdown",
   "id": "4f334207",
   "metadata": {
    "slideshow": {
     "slide_type": "slide"
    }
   },
   "source": [
    "Empezamos por la instrucción que se realizará una vez se cumpla la propocición o condición asociada al if"
   ]
  },
  {
   "cell_type": "code",
   "execution_count": 4,
   "id": "98a58a51",
   "metadata": {
    "slideshow": {
     "slide_type": "slide"
    }
   },
   "outputs": [
    {
     "name": "stdout",
     "output_type": "stream",
     "text": [
      "cuando la condición sea True\n"
     ]
    }
   ],
   "source": [
    "print('cuando la condición sea True') if 5 > 2 else print('cuando devuelve False') "
   ]
  },
  {
   "cell_type": "markdown",
   "id": "6cb37ce0",
   "metadata": {
    "slideshow": {
     "slide_type": "slide"
    }
   },
   "source": [
    "Note que ya no se escriben los dos puntos. A esto se le llama operador ternario, pues el if evalua cuando sea True y cuando evalúa en False. "
   ]
  },
  {
   "cell_type": "markdown",
   "id": "2add6152",
   "metadata": {
    "slideshow": {
     "slide_type": "slide"
    }
   },
   "source": [
    "Ejemplo"
   ]
  },
  {
   "cell_type": "code",
   "execution_count": 6,
   "id": "624de6dd",
   "metadata": {
    "slideshow": {
     "slide_type": "slide"
    }
   },
   "outputs": [],
   "source": [
    "if 3==2: print('tres es diferentes de 2')"
   ]
  },
  {
   "cell_type": "code",
   "execution_count": 9,
   "id": "8bee952e",
   "metadata": {},
   "outputs": [
    {
     "name": "stdout",
     "output_type": "stream",
     "text": [
      "3 es igual a 2\n"
     ]
    }
   ],
   "source": [
    "print('3 es diferentes de 2') if 3== 2 else print('3 es igual a 2')"
   ]
  },
  {
   "cell_type": "code",
   "execution_count": null,
   "id": "07d84f8e",
   "metadata": {},
   "outputs": [],
   "source": []
  },
  {
   "cell_type": "code",
   "execution_count": null,
   "id": "1ae02575",
   "metadata": {},
   "outputs": [],
   "source": []
  },
  {
   "cell_type": "code",
   "execution_count": null,
   "id": "ea600203",
   "metadata": {},
   "outputs": [],
   "source": []
  },
  {
   "cell_type": "code",
   "execution_count": null,
   "id": "674a5a70",
   "metadata": {},
   "outputs": [],
   "source": []
  },
  {
   "cell_type": "code",
   "execution_count": null,
   "id": "3d1d7262",
   "metadata": {},
   "outputs": [],
   "source": []
  }
 ],
 "metadata": {
  "celltoolbar": "Slideshow",
  "kernelspec": {
   "display_name": "Python 3 (ipykernel)",
   "language": "python",
   "name": "python3"
  },
  "language_info": {
   "codemirror_mode": {
    "name": "ipython",
    "version": 3
   },
   "file_extension": ".py",
   "mimetype": "text/x-python",
   "name": "python",
   "nbconvert_exporter": "python",
   "pygments_lexer": "ipython3",
   "version": "3.9.13"
  }
 },
 "nbformat": 4,
 "nbformat_minor": 5
}
