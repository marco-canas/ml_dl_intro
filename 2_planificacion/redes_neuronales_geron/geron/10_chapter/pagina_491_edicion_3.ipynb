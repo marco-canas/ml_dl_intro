{
 "cells": [
  {
   "cell_type": "markdown",
   "id": "1cf59834",
   "metadata": {},
   "source": [
    "<table align=\"left\">\n",
    "  <td>\n",
    "    <a href=\"https://colab.research.google.com/github/marco-canas/ml_intro/blob/main/2_planificacion/redes_neuronales_geron/chapter_10/pagina_491_3th_edition.ipynb\" target=\"_parent\"><img src=\"https://colab.research.google.com/assets/colab-badge.svg\" alt=\"Open In Colab\"/></a>\n",
    "  </td>\n",
    "  <td>\n",
    "    <a target=\"_blank\" href=\"https://kaggle.com/kernels/welcome?src=https://github.com/marco-canas/ml_intro/blob/main/2_planificacion/redes_neuronales_geron/chapter_10/pagina_491_3th_edition.ipynb\"><img src=\"https://kaggle.com/static/images/open-in-kaggle.svg\" /></a>\n",
    "  </td>\n",
    "</table>"
   ]
  },
  {
   "cell_type": "markdown",
   "id": "134bc2ed",
   "metadata": {},
   "source": [
    "Aquí tienes la traducción al español del texto de Aurélien Géron sobre la implementación de MLPs con Keras para clasificación multiclase:\n",
    "\n",
    "\n"
   ]
  },
  {
   "cell_type": "markdown",
   "id": "594133db",
   "metadata": {},
   "source": [
    "\n",
    "### Implementación de MLPs con Keras "
   ]
  },
  {
   "cell_type": "markdown",
   "id": "9fd5c58d",
   "metadata": {},
   "source": [
    " \n",
    "Keras es la API de alto nivel de TensorFlow para aprendizaje profundo: permite construir, entrenar, evaluar y ejecutar diversos tipos de redes neuronales. "
   ]
  },
  {
   "cell_type": "markdown",
   "id": "3231dbfd",
   "metadata": {},
   "source": [
    "La biblioteca original de Keras fue desarrollada por François Chollet como parte de un proyecto de investigación y se lanzó como un proyecto de código abierto independiente en marzo de 2015. "
   ]
  },
  {
   "cell_type": "markdown",
   "id": "cd9d5743",
   "metadata": {},
   "source": [
    "Rápidamente ganó popularidad debido a su facilidad de uso, flexibilidad y diseño elegante.\n"
   ]
  },
  {
   "cell_type": "markdown",
   "id": "11f73062",
   "metadata": {},
   "source": [
    "\n",
    "**NOTA**  \n"
   ]
  },
  {
   "cell_type": "markdown",
   "id": "40853e65",
   "metadata": {},
   "source": [
    "Keras solía admitir múltiples backends, incluyendo TensorFlow, PlaidML, Theano y Microsoft Cognitive Toolkit (CNTK) (los dos últimos están obsoletos), pero desde la versión 2.4, Keras es exclusivo de TensorFlow. "
   ]
  },
  {
   "cell_type": "markdown",
   "id": "28e249e7",
   "metadata": {},
   "source": [
    "De manera similar, TensorFlow solía incluir múltiples APIs de alto nivel, pero Keras fue elegido oficialmente como su API preferida cuando se lanzó TensorFlow 2. "
   ]
  },
  {
   "cell_type": "markdown",
   "id": "0417ae1d",
   "metadata": {},
   "source": [
    "Instalar TensorFlow automáticamente instala Keras, y Keras no funcionará sin TensorFlow. "
   ]
  },
  {
   "cell_type": "markdown",
   "id": "d35e26e9",
   "metadata": {},
   "source": [
    "En resumen, Keras y TensorFlow se unieron. "
   ]
  },
  {
   "cell_type": "markdown",
   "id": "6e0da7c3",
   "metadata": {},
   "source": [
    "Otras bibliotecas populares de aprendizaje profundo incluyen PyTorch de Facebook y JAX de Google.\n"
   ]
  },
  {
   "cell_type": "markdown",
   "id": "1c56fb6b",
   "metadata": {},
   "source": [
    "\n",
    "Ahora usemos Keras. Comenzaremos construyendo un MLP para clasificación de imágenes.\n"
   ]
  },
  {
   "cell_type": "markdown",
   "id": "887210e0",
   "metadata": {},
   "source": [
    "\n",
    "**NOTA**  \n",
    "Los entornos de Colab incluyen versiones recientes de TensorFlow y Keras preinstaladas."
   ]
  },
  {
   "cell_type": "markdown",
   "id": "8b1de2d1",
   "metadata": {},
   "source": [
    " Sin embargo, si deseas instalarlos en tu máquina, consulta las instrucciones en [https://homl.info/install](https://homl.info/install).\n"
   ]
  },
  {
   "cell_type": "markdown",
   "id": "0b894c41",
   "metadata": {},
   "source": [
    "\n",
    "\n",
    "\n",
    "### Construcción de un Clasificador de Imágenes Usando la API Secuencial "
   ]
  },
  {
   "cell_type": "markdown",
   "id": "08c1baf3",
   "metadata": {},
   "source": [
    " \n",
    "Primero, necesitamos cargar un conjunto de datos. "
   ]
  },
  {
   "cell_type": "markdown",
   "id": "e9c7d3ae",
   "metadata": {},
   "source": [
    "Usaremos Fashion MNIST, un reemplazo directo de MNIST (presentado en el Capítulo 3). "
   ]
  },
  {
   "cell_type": "markdown",
   "id": "c3b98987",
   "metadata": {},
   "source": [
    "Tiene el mismo formato que MNIST (70,000 imágenes en escala de grises de 28 × 28 píxeles cada una, con 10 clases), pero las imágenes representan artículos de moda en lugar de dígitos escritos a mano, por lo que cada clase es más diversa y el problema resulta significativamente más desafiante que MNIST. "
   ]
  },
  {
   "cell_type": "markdown",
   "id": "9688f385",
   "metadata": {},
   "source": [
    "Por ejemplo, un modelo lineal simple alcanza aproximadamente un 92% de precisión en MNIST, pero solo alrededor del 83% en Fashion MNIST.\n"
   ]
  },
  {
   "cell_type": "markdown",
   "id": "3ed25108",
   "metadata": {},
   "source": [
    "\n",
    "#### Carga del conjunto de datos con Keras  \n"
   ]
  },
  {
   "cell_type": "markdown",
   "id": "4058b4c5",
   "metadata": {},
   "source": [
    "Keras proporciona funciones útiles para descargar y cargar conjuntos de datos comunes, incluyendo MNIST, Fashion MNIST y otros. "
   ]
  },
  {
   "cell_type": "markdown",
   "id": "8b5d116a",
   "metadata": {},
   "source": [
    "Carguemos Fashion MNIST. Ya está barajado y dividido en un conjunto de entrenamiento (60,000 imágenes) y un conjunto de prueba (10,000 imágenes), pero reservaremos las últimas 5,000 imágenes del conjunto de entrenamiento para validación:\n"
   ]
  },
  {
   "cell_type": "code",
   "execution_count": 2,
   "id": "208cfc17",
   "metadata": {},
   "outputs": [],
   "source": [
    "import tensorflow as tf\n"
   ]
  },
  {
   "cell_type": "code",
   "execution_count": null,
   "id": "188d7030",
   "metadata": {},
   "outputs": [],
   "source": [
    "%%time \n",
    "fashion_mnist = tf.keras.datasets.fashion_mnist.load_data()\n",
    "(X_train_full, y_train_full), (X_test, y_test) = fashion_mnist\n"
   ]
  },
  {
   "cell_type": "code",
   "execution_count": null,
   "id": "0fa94681",
   "metadata": {},
   "outputs": [],
   "source": [
    "%%time \n",
    "X_train, y_train = X_train_full[:-5000], y_train_full[:-5000]\n",
    "X_valid, y_valid = X_train_full[-5000:], y_train_full[-5000:]\n",
    "\n"
   ]
  },
  {
   "cell_type": "markdown",
   "id": "a5d019ab",
   "metadata": {},
   "source": [
    "\n",
    "**CONSEJO**  \n",
    "TensorFlow generalmente se importa como `tf`, y la API de Keras está disponible a través de `tf.keras`.\n"
   ]
  },
  {
   "cell_type": "markdown",
   "id": "bf0c87c4",
   "metadata": {},
   "source": [
    "\n",
    "Al cargar MNIST o Fashion MNIST usando Keras en lugar de Scikit-Learn, una diferencia importante es que cada imagen se representa como una matriz de 28 × 28 en lugar de un array 1D de tamaño 784. "
   ]
  },
  {
   "cell_type": "markdown",
   "id": "a9470ca2",
   "metadata": {},
   "source": [
    "Además, las intensidades de los píxeles se representan como enteros (de 0 a 255) en lugar de flotantes (de 0.0 a 255.0). "
   ]
  },
  {
   "cell_type": "markdown",
   "id": "c1a691d1",
   "metadata": {},
   "source": [
    "Veamos la forma y el tipo de datos del conjunto de entrenamiento:\n"
   ]
  },
  {
   "cell_type": "code",
   "execution_count": 3,
   "id": "7dd9717b",
   "metadata": {},
   "outputs": [
    {
     "data": {
      "text/plain": [
       "(55000, 28, 28)"
      ]
     },
     "execution_count": 3,
     "metadata": {},
     "output_type": "execute_result"
    }
   ],
   "source": [
    "X_train.shape\n"
   ]
  },
  {
   "cell_type": "code",
   "execution_count": 4,
   "id": "c00233c4",
   "metadata": {},
   "outputs": [
    {
     "data": {
      "text/plain": [
       "dtype('uint8')"
      ]
     },
     "execution_count": 4,
     "metadata": {},
     "output_type": "execute_result"
    }
   ],
   "source": [
    "X_train.dtype\n"
   ]
  },
  {
   "cell_type": "markdown",
   "id": "0388f019",
   "metadata": {},
   "source": [
    "\n",
    "Para simplificar, escalaremos las intensidades de los píxeles al rango 0–1 dividiéndolas por 255.0 (esto también las convierte en flotantes):\n"
   ]
  },
  {
   "cell_type": "code",
   "execution_count": 5,
   "id": "6abf909d",
   "metadata": {},
   "outputs": [],
   "source": [
    "X_train, X_valid, X_test = X_train / 255., X_valid / 255., X_test / 255.\n",
    "\n"
   ]
  },
  {
   "cell_type": "markdown",
   "id": "30f4c91e",
   "metadata": {},
   "source": [
    "\n",
    "Con MNIST, cuando la etiqueta es igual a 5, significa que la imagen representa el dígito 5 escrito a mano. Fácil. "
   ]
  },
  {
   "cell_type": "markdown",
   "id": "3515341d",
   "metadata": {},
   "source": [
    "Para Fashion MNIST, necesitamos la lista de nombres de clase para saber qué estamos manejando:\n"
   ]
  },
  {
   "cell_type": "code",
   "execution_count": null,
   "id": "58dc83a3",
   "metadata": {},
   "outputs": [],
   "source": [
    "class_names = [\"T-shirt/top\", \"Trouser\", \"Pullover\", \"Dress\", \"Coat\",\n",
    "               \"Sandal\", \"Shirt\", \"Sneaker\", \"Bag\", \"Ankle boot\"]\n",
    "\n"
   ]
  },
  {
   "cell_type": "markdown",
   "id": "ecc85c25",
   "metadata": {},
   "source": [
    "\n",
    "Por ejemplo, la primera imagen en el conjunto de entrenamiento representa un \"ankle boot\":\n"
   ]
  },
  {
   "cell_type": "code",
   "execution_count": null,
   "id": "2e70cbe8",
   "metadata": {},
   "outputs": [],
   "source": [
    "class_names[y_train[0]]\n"
   ]
  },
  {
   "cell_type": "code",
   "execution_count": null,
   "id": "21cead2f",
   "metadata": {},
   "outputs": [],
   "source": [
    "'Ankle boot'\n",
    "\n"
   ]
  },
  {
   "cell_type": "markdown",
   "id": "63f36120",
   "metadata": {},
   "source": [
    "\n",
    "La Figura 10-10 muestra algunas muestras del conjunto de datos Fashion MNIST.\n"
   ]
  },
  {
   "cell_type": "markdown",
   "id": "d31fef6d",
   "metadata": {},
   "source": [
    "\n",
    "#### Creación del modelo usando la API Secuencial "
   ]
  },
  {
   "cell_type": "markdown",
   "id": "0ba4c1d3",
   "metadata": {},
   "source": [
    " \n",
    "Ahora construyamos la red neuronal. Aquí hay un MLP de clasificación con dos capas ocultas:\n"
   ]
  },
  {
   "cell_type": "code",
   "execution_count": 6,
   "id": "1cb21735",
   "metadata": {},
   "outputs": [],
   "source": [
    "\n",
    "tf.random.set_seed(42)\n",
    "model = tf.keras.Sequential()\n",
    "model.add(tf.keras.layers.Input(shape=[28, 28]))\n",
    "model.add(tf.keras.layers.Flatten())\n",
    "model.add(tf.keras.layers.Dense(300, activation=\"relu\"))\n",
    "model.add(tf.keras.layers.Dense(100, activation=\"relu\"))\n",
    "model.add(tf.keras.layers.Dense(10, activation=\"softmax\"))\n",
    "\n"
   ]
  },
  {
   "cell_type": "markdown",
   "id": "4d1d5230",
   "metadata": {},
   "source": [
    "\n",
    "Analicemos este código línea por línea: "
   ]
  },
  {
   "cell_type": "markdown",
   "id": "144b8fee",
   "metadata": {},
   "source": [
    " \n",
    "1. **Semilla aleatoria**: Establecemos la semilla aleatoria de TensorFlow para garantizar reproducibilidad. Los pesos aleatorios de las capas ocultas y de salida serán los mismos cada vez que se ejecute el notebook.  \n",
    "2. **Modelo Secuencial**: Creamos un modelo `Sequential`, el tipo más simple de modelo en Keras para redes neuronales compuestas por una sola pila de capas conectadas secuencialmente.  \n",
    "3. **Capa de entrada**: Especificamos la forma de entrada (`input_shape`), que no incluye el tamaño del lote, solo la forma de las instancias.  \n",
    "4. **Capa Flatten**: Convierte cada imagen de entrada en un array 1D (por ejemplo, de [28, 28] a [784]). No tiene parámetros, solo realiza preprocesamiento.  \n",
    "5. **Capas Dense**:  \n",
    "   - Primera capa oculta con 300 neuronas y función de activación ReLU.  \n",
    "   - Segunda capa oculta con 100 neuronas y ReLU.  \n",
    "   - Capa de salida con 10 neuronas (una por clase) y activación softmax (para clases exclusivas).  \n"
   ]
  },
  {
   "cell_type": "markdown",
   "id": "c687d47d",
   "metadata": {},
   "source": [
    "\n",
    "**CONSEJO**  \n",
    "Especificar `activation=\"relu\"` es equivalente a `activation=tf.keras.activations.relu`. Otras funciones de activación están disponibles en `tf.keras.activations`.\n",
    "\n",
    "Alternativamente, podemos pasar una lista de capas al crear el modelo:\n"
   ]
  },
  {
   "cell_type": "code",
   "execution_count": null,
   "id": "28b9f3fc",
   "metadata": {},
   "outputs": [],
   "source": [
    "\n",
    "\n",
    "model = tf.keras.Sequential([\n",
    "    tf.keras.layers.Flatten(input_shape=[28, 28]),\n",
    "    tf.keras.layers.Dense(300, activation=\"relu\"),\n",
    "    tf.keras.layers.Dense(100, activation=\"relu\"),\n",
    "    tf.keras.layers.Dense(10, activation=\"softmax\")\n",
    "])\n",
    "\n"
   ]
  },
  {
   "cell_type": "markdown",
   "id": "45ddd521",
   "metadata": {},
   "source": [
    "\n",
    "El método `summary()` muestra todas las capas del modelo, incluyendo su forma de salida y número de parámetros:\n"
   ]
  },
  {
   "cell_type": "code",
   "execution_count": null,
   "id": "e9fc3cab",
   "metadata": {},
   "outputs": [],
   "source": [
    "\n",
    "\n",
    "model.summary()\n"
   ]
  },
  {
   "cell_type": "code",
   "execution_count": null,
   "id": "c1ae4e61",
   "metadata": {},
   "outputs": [],
   "source": [
    "Model: \"sequential\"\n",
    "_________________________________________________________________\n",
    "Layer (type)                 Output Shape              Param #   \n",
    "=================================================================\n",
    "flatten (Flatten)            (None, 784)               0         \n",
    "dense (Dense)                (None, 300)               235500    \n",
    "dense_1 (Dense)              (None, 100)               30100     \n",
    "dense_2 (Dense)              (None, 10)                1010      \n",
    "=================================================================\n",
    "Total params: 266,610\n",
    "Trainable params: 266,610\n",
    "Non-trainable params: 0\n",
    "_________________________________________________________________\n",
    "```\n"
   ]
  },
  {
   "cell_type": "markdown",
   "id": "ae1de68d",
   "metadata": {},
   "source": [
    "\n",
    "Las capas `Dense` tienen muchos parámetros. "
   ]
  },
  {
   "cell_type": "markdown",
   "id": "3cc308ee",
   "metadata": {},
   "source": [
    "Por ejemplo, la primera capa oculta tiene 784 × 300 pesos de conexión más 300 términos de bias, ¡sumando 235,500 parámetros! "
   ]
  },
  {
   "cell_type": "markdown",
   "id": "0a33d8e5",
   "metadata": {},
   "source": [
    "Esto da flexibilidad al modelo pero también riesgo de sobreajuste.\n"
   ]
  },
  {
   "cell_type": "markdown",
   "id": "6c7cc87d",
   "metadata": {},
   "source": [
    "\n",
    "#### Compilación del modelo "
   ]
  },
  {
   "cell_type": "markdown",
   "id": "62fb8737",
   "metadata": {},
   "source": [
    " \n",
    "Después de crear el modelo, debemos llamar a su método `compile()` para especificar la función de pérdida y el optimizador:\n"
   ]
  },
  {
   "cell_type": "code",
   "execution_count": null,
   "id": "5dd36ba2",
   "metadata": {},
   "outputs": [],
   "source": [
    "\n",
    "```python\n",
    "model.compile(loss=\"sparse_categorical_crossentropy\",\n",
    "              optimizer=\"sgd\",\n",
    "              metrics=[\"accuracy\"])\n",
    "```\n"
   ]
  },
  {
   "cell_type": "markdown",
   "id": "26cdeb2a",
   "metadata": {},
   "source": [
    "\n",
    "**Explicación**:  \n",
    "- **Pérdida**: Usamos `sparse_categorical_crossentropy` porque las etiquetas son sparse (índices de clase, no one-hot). Para one-hot, usaríamos `categorical_crossentropy`.  \n",
    "- **Optimizador**: `\"sgd\"` significa descenso de gradiente estocástico. Es importante ajustar la tasa de aprendizaje (por defecto es 0.01).  \n",
    "- **Métricas**: `\"accuracy\"` mide la precisión durante el entrenamiento y evaluación.  \n"
   ]
  },
  {
   "cell_type": "markdown",
   "id": "7eb09d03",
   "metadata": {},
   "source": [
    "\n",
    "#### Entrenamiento y evaluación del modelo  \n",
    "Entrenamos el modelo llamando a `fit()`:\n"
   ]
  },
  {
   "cell_type": "code",
   "execution_count": null,
   "id": "76ddd164",
   "metadata": {},
   "outputs": [],
   "source": [
    "\n",
    "```python\n",
    "history = model.fit(X_train, y_train, epochs=30,\n",
    "                    validation_data=(X_valid, y_valid))\n",
    "```\n"
   ]
  },
  {
   "cell_type": "markdown",
   "id": "8b8ef80f",
   "metadata": {},
   "source": [
    "\n",
    "Keras muestra el progreso por época, incluyendo la pérdida y precisión en el conjunto de entrenamiento y validación. Al final de 30 épocas, la precisión en validación fue del 88.94%, con un ligero sobreajuste.\n"
   ]
  },
  {
   "cell_type": "markdown",
   "id": "d074947c",
   "metadata": {},
   "source": [
    "\n",
    "**Curvas de aprendizaje**:  \n",
    "Podemos graficar el historial de entrenamiento:\n"
   ]
  },
  {
   "cell_type": "code",
   "execution_count": null,
   "id": "471e7397",
   "metadata": {},
   "outputs": [],
   "source": [
    "\n",
    "```python\n",
    "import pandas as pd\n",
    "import matplotlib.pyplot as plt\n",
    "\n",
    "pd.DataFrame(history.history).plot(\n",
    "    figsize=(8, 5), xlim=[0, 29], ylim=[0, 1], grid=True,\n",
    "    xlabel=\"Epoch\", style=[\"r--\", \"r--.\", \"b-\", \"b-*\"])\n",
    "plt.show()\n",
    "```\n"
   ]
  },
  {
   "cell_type": "markdown",
   "id": "47d4213c",
   "metadata": {},
   "source": [
    "\n",
    "Si el rendimiento no es satisfactorio, ajusta hiperparámetros como la tasa de aprendizaje, el optimizador, o la arquitectura de la red. "
   ]
  },
  {
   "cell_type": "markdown",
   "id": "ff7fb111",
   "metadata": {},
   "source": [
    "Finalmente, evaluamos el modelo en el conjunto de prueba:\n"
   ]
  },
  {
   "cell_type": "code",
   "execution_count": null,
   "id": "47547741",
   "metadata": {},
   "outputs": [],
   "source": [
    "\n",
    "```python\n",
    ">>> model.evaluate(X_test, y_test)\n",
    "[0.3243, 0.8864]  # [pérdida, precisión]\n",
    "```\n"
   ]
  },
  {
   "cell_type": "markdown",
   "id": "065fe3c8",
   "metadata": {},
   "source": [
    "\n",
    "#### Predicciones con el modelo "
   ]
  },
  {
   "cell_type": "markdown",
   "id": "5e00a057",
   "metadata": {},
   "source": [
    " \n",
    "Usamos `predict()` para hacer predicciones en nuevas instancias:\n"
   ]
  },
  {
   "cell_type": "code",
   "execution_count": null,
   "id": "b3d768b1",
   "metadata": {},
   "outputs": [],
   "source": [
    "\n",
    "```python\n",
    "X_new = X_test[:3]\n",
    "y_proba = model.predict(X_new)\n",
    "y_pred = y_proba.argmax(axis=-1)\n",
    "np.array(class_names)[y_pred]  # Ejemplo: ['Ankle boot', 'Pullover', 'Trouser']\n",
    "```\n"
   ]
  },
  {
   "cell_type": "markdown",
   "id": "4c3240d6",
   "metadata": {},
   "source": [
    "\n",
    "El modelo clasificó correctamente las tres primeras imágenes del conjunto de prueba (ver Figura 10-12).\n",
    "\n",
    "\n"
   ]
  },
  {
   "cell_type": "markdown",
   "id": "12dd682e",
   "metadata": {},
   "source": [
    "\n",
    "Este texto traducido conserva el contenido técnico y el estilo didáctico del original, adaptando términos clave al español (e.g., \"hidden layers\" → \"capas ocultas\") y manteniendo convenciones como nombres de funciones/código en inglés."
   ]
  },
  {
   "cell_type": "markdown",
   "id": "69f82249",
   "metadata": {},
   "source": [
    "# Práctica de codificación sobre implementación de Keras para clasificación \n"
   ]
  },
  {
   "cell_type": "markdown",
   "id": "32d15ea7",
   "metadata": {},
   "source": [
    "\n",
    "Aquí tienes una **práctica de codificación** sobre implementación de Keras para clasificación aplicada a sostenibilidad ambiental en el Bajo Cauca Antioqueño (Colombia), utilizando datos simulados de uso de suelo y degradación ambiental:\n"
   ]
  },
  {
   "cell_type": "markdown",
   "id": "a5424db8",
   "metadata": {},
   "source": [
    "\n",
    "---\n",
    "\n",
    "### **Práctica: Clasificación de Impacto Ambiental con Keras**  \n",
    "**Objetivo**:  \n",
    "Predecir el nivel de degradación ambiental (bajo, medio, alto) en municipios del Bajo Cauca Antioqueño, basado en variables como deforestación, minería ilegal y calidad del agua.\n",
    "\n",
    "---\n",
    "\n",
    "### **Paso 1: Configuración del Entorno**  \n"
   ]
  },
  {
   "cell_type": "markdown",
   "id": "82699f4f",
   "metadata": {},
   "source": [
    "```python\n",
    "import tensorflow as tf\n",
    "from tensorflow import keras\n",
    "import numpy as np\n",
    "import pandas as pd\n",
    "import matplotlib.pyplot as plt\n",
    "\n",
    "# Verificar versión de TensorFlow\n",
    "print(\"TensorFlow version:\", tf.__version__)\n",
    "```\n",
    "\n",
    "---\n"
   ]
  },
  {
   "cell_type": "markdown",
   "id": "9a87a0f9",
   "metadata": {},
   "source": [
    "\n",
    "### **Paso 2: Datos Simulados**  \n",
    "Creamos un dataset sintético para el ejercicio (en un caso real, se usarían datos de instituciones como el IDEAM o la Corporación Autónoma Regional):\n",
    "\n",
    "```python\n",
    "# Variables de entrada (features): \n",
    "# 1. % de deforestación (0-100), 2. Número de minas ilegales, 3. Calidad del agua (0-10, 0=contaminada)\n",
    "# Target: Nivel de degradación (0=bajo, 1=medio, 2=alto)\n",
    "np.random.seed(42)\n",
    "data = {\n",
    "    \"deforestacion\": np.random.randint(0, 100, 1000),\n",
    "    \"minas_ilegales\": np.random.randint(0, 50, 1000),\n",
    "    \"calidad_agua\": np.random.uniform(0, 10, 1000)\n",
    "}\n",
    "df = pd.DataFrame(data)\n",
    "df[\"degradacion\"] = np.where(\n",
    "    (df[\"deforestacion\"] > 70) | (df[\"minas_ilegales\"] > 30) | (df[\"calidad_agua\"] < 3),\n",
    "    2,  # Alto\n",
    "    np.where(\n",
    "        (df[\"deforestacion\"] > 40) | (df[\"minas_ilegales\"] > 15) | (df[\"calidad_agua\"] < 6),\n",
    "        1,  # Medio\n",
    "        0   # Bajo\n",
    "    )\n",
    ")\n",
    "\n",
    "# Dividir datos\n",
    "from sklearn.model_selection import train_test_split\n",
    "X = df[[\"deforestacion\", \"minas_ilegales\", \"calidad_agua\"]]\n",
    "y = df[\"degradacion\"]\n",
    "X_train, X_test, y_train, y_test = train_test_split(X, y, test_size=0.2, random_state=42)\n",
    "```\n",
    "\n",
    "---\n",
    "\n",
    "### **Paso 3: Construcción del Modelo con Keras**  \n",
    "```python\n",
    "model = keras.Sequential([\n",
    "    keras.layers.Dense(64, activation='relu', input_shape=[3]),  # 3 features\n",
    "    keras.layers.Dense(32, activation='relu'),\n",
    "    keras.layers.Dense(3, activation='softmax')  # 3 clases de salida\n",
    "])\n",
    "\n",
    "model.compile(\n",
    "    optimizer='adam',\n",
    "    loss='sparse_categorical_crossentropy',\n",
    "    metrics=['accuracy']\n",
    ")\n",
    "\n",
    "history = model.fit(\n",
    "    X_train, y_train,\n",
    "    epochs=50,\n",
    "    validation_split=0.2,\n",
    "    verbose=1\n",
    ")\n",
    "```\n",
    "\n",
    "---\n",
    "\n",
    "### **Paso 4: Evaluación y Visualización**  \n",
    "```python\n",
    "# Evaluación en test\n",
    "test_loss, test_acc = model.evaluate(X_test, y_test, verbose=2)\n",
    "print(f\"\\nPrecisión en test: {test_acc:.2%}\")\n",
    "\n",
    "# Gráfico de precisión\n",
    "pd.DataFrame(history.history).plot(\n",
    "    figsize=(8, 5), xlabel=\"Época\", style=['r--', 'r-', 'b--', 'b-']\n",
    ")\n",
    "plt.title(\"Curvas de Aprendizaje\")\n",
    "plt.grid(True)\n",
    "plt.show()\n",
    "```\n"
   ]
  },
  {
   "cell_type": "markdown",
   "id": "d8358ebb",
   "metadata": {},
   "source": [
    "\n",
    "---\n",
    "\n",
    "### **Paso 5: Predicción en Nuevos Datos**  \n"
   ]
  },
  {
   "cell_type": "markdown",
   "id": "7140743a",
   "metadata": {},
   "source": [
    "```python\n",
    "# Datos simulados para 3 municipios\n",
    "nuevos_datos = np.array([\n",
    "    [80, 35, 2.5],  # Alto riesgo\n",
    "    [30, 10, 7.0],   # Bajo riesgo\n",
    "    [50, 20, 4.0]    # Medio riesgo\n",
    "])\n",
    "\n",
    "predicciones = model.predict(nuevos_datos)\n",
    "clases_predichas = np.argmax(predicciones, axis=1)\n",
    "niveles = [\"Bajo\", \"Medio\", \"Alto\"]\n",
    "\n",
    "for i, pred in enumerate(clases_predichas):\n",
    "    print(f\"Municipio {i+1}: Predicción = {niveles[pred]}\")\n",
    "```\n"
   ]
  },
  {
   "cell_type": "markdown",
   "id": "00b144b9",
   "metadata": {},
   "source": [
    "\n",
    "---\n",
    "\n",
    "### **Resultado Esperado**:  \n",
    "```\n",
    "Precisión en test: 89.50%\n",
    "Municipio 1: Predicción = Alto\n",
    "Municipio 2: Predicción = Bajo\n",
    "Municipio 3: Predicción = Medio\n",
    "```\n",
    "\n",
    "---\n"
   ]
  },
  {
   "cell_type": "markdown",
   "id": "c17b9591",
   "metadata": {},
   "source": [
    "\n",
    "### **Análisis para Sostenibilidad Ambiental**:  \n",
    "1. **Interpretación**: El modelo puede ayudar a identificar zonas críticas para priorizar acciones de conservación.  \n",
    "2. **Mejoras**:  \n",
    "   - Usar datos reales del [SIAC](https://www.siac.gov.co/) o [CorpoCauca](http://www.corpocauca.gov.co/).  \n",
    "   - Incluir más variables (ej. biodiversidad, lluvias ácidas).  \n",
    "3. **Aplicación**:  \n",
    "   - Alertas tempranas de degradación.  \n",
    "   - Planificación de políticas públicas.  \n",
    "\n",
    "---\n"
   ]
  },
  {
   "cell_type": "markdown",
   "id": "06f8ae96",
   "metadata": {},
   "source": [
    "\n",
    "### **Recursos Adicionales**:  \n",
    "- Datos reales: [IDEAM](https://www.ideam.gov.co/), [Sistema de Monitoreo de Bosques](http://smbyc.ideam.gov.co/MonitoreoBC-WEB/pub/index.html).  \n",
    "- Librerías: `geopandas` para datos geoespaciales.  \n",
    "\n",
    "Esta práctica integra **IA aplicada a la sostenibilidad ambiental** en una región con desafíos críticos como la minería ilegal y la deforestación."
   ]
  },
  {
   "cell_type": "markdown",
   "id": "033656da",
   "metadata": {},
   "source": [
    "# Referentes teóricos del uso de Keras para problemas del Bajo Cauca Antioqueño  \n"
   ]
  },
  {
   "cell_type": "markdown",
   "id": "d8e47a9a",
   "metadata": {},
   "source": [
    "\n",
    "### **Referentes teóricos del uso de Keras para problemas del Bajo Cauca Antioqueño**  \n",
    "\n",
    "El uso de **Keras** (como parte del ecosistema TensorFlow) para abordar problemas en el **Bajo Cauca Antioqueño** puede fundamentarse en marcos teóricos y aplicaciones prácticas que integran **aprendizaje automático (ML)** y **redes neuronales profundas (DL)** con desafíos socioambientales, económicos y de sostenibilidad. A continuación, se presentan los referentes clave:  \n",
    "\n",
    "---\n",
    "\n",
    "### **1. Aprendizaje Automático para Diagnóstico y Clasificación de Problemas Ambientales**  \n",
    "- **Detección de degradación ambiental**:  \n",
    "  Keras permite implementar modelos de clasificación multiclase (como MLPs o CNNs) para predecir niveles de degradación basados en variables como deforestación, minería ilegal y calidad del agua. Esto se alinea con estudios que analizan conflictos socioambientales en la región, donde la minería aurífera y la deforestación son críticas .  \n",
    "  - *Ejemplo*: Clasificación de imágenes satelitales para monitorear cambios en cobertura vegetal o detección de minería no regulada.  \n",
    "\n",
    "- **Calidad del agua**:  \n",
    "  Modelos de regresión o redes neuronales pueden predecir contaminación en ríos como el Cauca, utilizando datos históricos de turbidez, metales pesados y fuentes de contaminación .  \n",
    "\n",
    "---\n",
    "\n",
    "### **2. Optimización de Recursos y Energías Renovables**  \n",
    "- **Biomasa y energía sostenible**:  \n",
    "  Keras es útil para predecir la viabilidad de proyectos de biomasa en municipios no interconectados (ZNI), optimizando la selección de tecnologías con criterios de sostenibilidad (económicos, sociales y ambientales) .  \n",
    "  - *Aplicación*: Modelos de series temporales para estimar producción energética a partir de residuos agrícolas.  \n",
    "\n",
    "- **Gestión de residuos**:  \n",
    "  Técnicas de DL pueden mejorar sistemas de reciclaje en zonas rurales, clasificando residuos orgánicos/inorgánicos para impulsar economías circulares .  \n",
    "\n",
    "---\n",
    "\n",
    "### **3. Agricultura Sostenible y Seguridad Alimentaria**  \n",
    "- **Predicción de cultivos**:  \n",
    "  Redes neuronales recurrentes (RNNs) o LSTM en Keras ayudan a predecir rendimientos agrícolas bajo condiciones climáticas extremas, clave en zonas afectadas por conflictos y cambio climático .  \n",
    "  - *Datos*: Integración de variables como precipitación, degradación de suelos y prácticas agrícolas.  \n",
    "\n",
    "- **Detección de plagas**:  \n",
    "  CNNs para análisis de imágenes de cultivos (ej. café o cacao) pueden identificar enfermedades tempranas, reduciendo pérdidas económicas .  \n",
    "\n",
    "---\n",
    "\n",
    "### **4. Gobernanza y Conflictos Socioambientales**  \n",
    "- **Análisis de datos espaciales**:  \n",
    "  Combinando Keras con GIS, se pueden modelar patrones de conflictos armados o desplazamientos forzados vinculados a la explotación de recursos, utilizando datos históricos de violencia y variables territoriales .  \n",
    "  - *Herramientas*: Redes neuronales convolucionales (CNNs) para procesar mapas de uso de suelo.  \n",
    "\n",
    "---\n",
    "\n",
    "### **5. Sostenibilidad y ODS**  \n",
    "- **Indicadores de desarrollo**:  \n",
    "  Modelos de MLP en Keras pueden correlacionar indicadores como pobreza, acceso a energía limpia (ODS 7) y conservación de ecosistemas (ODS 15), apoyando políticas públicas en el Bajo Cauca .  \n",
    "\n",
    "---\n",
    "\n",
    "### **Referencias Clave**  \n",
    "1. **Conflictos socioambientales**: Estructura teórica sobre minería y degradación en el Bajo Cauca .  \n",
    "2. **Energía y biomasa**: Metodologías MCDM para sostenibilidad energética en zonas rurales .  \n",
    "3. **Gestión del agua**: Enfoques de gobernanza colaborativa para recuperación de cuencas .  \n",
    "4. **Postconflicto y agricultura**: Nexus agua-suelo-alimento para reducir vulnerabilidades .  \n",
    "\n",
    "Estos referentes destacan cómo **Keras** puede ser una herramienta pivotal para abordar problemas complejos en la región, integrando datos multisectoriales y facilitando soluciones basadas en evidencia."
   ]
  }
 ],
 "metadata": {
  "kernelspec": {
   "display_name": ".venv",
   "language": "python",
   "name": "python3"
  },
  "language_info": {
   "codemirror_mode": {
    "name": "ipython",
    "version": 3
   },
   "file_extension": ".py",
   "mimetype": "text/x-python",
   "name": "python",
   "nbconvert_exporter": "python",
   "pygments_lexer": "ipython3",
   "version": "3.11.9"
  }
 },
 "nbformat": 4,
 "nbformat_minor": 5
}
