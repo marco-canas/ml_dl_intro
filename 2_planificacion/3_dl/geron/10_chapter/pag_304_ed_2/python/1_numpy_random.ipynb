{
 "cells": [
  {
   "cell_type": "markdown",
   "id": "dc06dec7",
   "metadata": {
    "slideshow": {
     "slide_type": "slide"
    }
   },
   "source": [
    "<table align=\"left\">\n",
    "  <td>\n",
    "    <a href=\"https://colab.research.google.com/github/ageron/handson-ml3/blob/main/tools_numpy.ipynb\" target=\"_parent\"><img src=\"https://colab.research.google.com/assets/colab-badge.svg\" alt=\"Open In Colab\"/></a>\n",
    "  </td>\n",
    "  <td>\n",
    "    <a target=\"_blank\" href=\"https://kaggle.com/kernels/welcome?src=https://github.com/ageron/handson-ml3/blob/main/tools_numpy.ipynb\"><img src=\"https://kaggle.com/static/images/open-in-kaggle.svg\" /></a>\n",
    "  </td>\n",
    "</table>"
   ]
  },
  {
   "cell_type": "markdown",
   "id": "e0c5b198",
   "metadata": {
    "slideshow": {
     "slide_type": "slide"
    }
   },
   "source": [
    "### [Video de apoyo a la lectura interactiva y experimental de este cuaderno]()"
   ]
  },
  {
   "cell_type": "markdown",
   "id": "41e82203",
   "metadata": {
    "slideshow": {
     "slide_type": "slide"
    }
   },
   "source": [
    "### [Vínculo al programa del curso:  ]()\n",
    "\n"
   ]
  },
  {
   "cell_type": "markdown",
   "id": "d11ab06d",
   "metadata": {
    "slideshow": {
     "slide_type": "slide"
    }
   },
   "source": [
    "Un reconocimiento a mis estudiantes que han construido conmigo este saber pedagógico:\n",
    "\n",
    "<img src = ''> \n",
    "\n"
   ]
  },
  {
   "cell_type": "markdown",
   "id": "8a74a56c-0ce6-4ad6-b985-553fd7fb68bb",
   "metadata": {},
   "source": [
    "# Reconocimiento a las profesoras destacadas en enseñanza de la matemática en Colombia  \n",
    "\n",
    "Esta es una lista de **20 mujeres destacadas** por sus contribuciones a la **enseñanza, investigación y divulgación de la lógica y la teoría de conjuntos**, en contextos tanto matemáticos como filosóficos y computacionales. La lista incluye académicas históricas y contemporáneas, de diferentes partes del mundo.\n",
    "\n",
    "---\n"
   ]
  },
  {
   "cell_type": "code",
   "execution_count": 1,
   "id": "b179a7ed",
   "metadata": {},
   "outputs": [
    {
     "data": {
      "application/vnd.microsoft.datawrangler.viewer.v0+json": {
       "columns": [
        {
         "name": "index",
         "rawType": "int64",
         "type": "integer"
        },
        {
         "name": "Nombre",
         "rawType": "object",
         "type": "string"
        }
       ],
       "ref": "d631be2b-ea67-4655-9934-3a62948c8bef",
       "rows": [
        [
         "0",
         "Fernando"
        ]
       ],
       "shape": {
        "columns": 1,
        "rows": 1
       }
      },
      "text/html": [
       "<div>\n",
       "<style scoped>\n",
       "    .dataframe tbody tr th:only-of-type {\n",
       "        vertical-align: middle;\n",
       "    }\n",
       "\n",
       "    .dataframe tbody tr th {\n",
       "        vertical-align: top;\n",
       "    }\n",
       "\n",
       "    .dataframe thead th {\n",
       "        text-align: right;\n",
       "    }\n",
       "</style>\n",
       "<table border=\"1\" class=\"dataframe\">\n",
       "  <thead>\n",
       "    <tr style=\"text-align: right;\">\n",
       "      <th></th>\n",
       "      <th>Nombre</th>\n",
       "    </tr>\n",
       "  </thead>\n",
       "  <tbody>\n",
       "    <tr>\n",
       "      <th>0</th>\n",
       "      <td>Fernando</td>\n",
       "    </tr>\n",
       "  </tbody>\n",
       "</table>\n",
       "</div>"
      ],
      "text/plain": [
       "     Nombre\n",
       "0  Fernando"
      ]
     },
     "execution_count": 1,
     "metadata": {},
     "output_type": "execute_result"
    }
   ],
   "source": [
    "import pandas as pd\n",
    "import numpy as np\n",
    "\n",
    "# Cargar la lista de estudiantes desde el archivo CSV\n",
    "path = 'C:/Users/marco/Documentos/docencia/groups_list/ml_dl_intro.xlsx'\n",
    "df = pd.read_excel(path)\n",
    "\n",
    "df.head(3)"
   ]
  },
  {
   "cell_type": "markdown",
   "id": "d7598d0a-d9b7-4ae0-b029-a0ed6ed1130b",
   "metadata": {},
   "source": [
    "\n",
    "# Principios de mi labor docente"
   ]
  },
  {
   "cell_type": "markdown",
   "id": "4f9d8cf9",
   "metadata": {
    "slideshow": {
     "slide_type": "slide"
    }
   },
   "source": [
    "## Modelo general de clase: [aula invertida](https://www3.gobiernodecanarias.org/medusa/ecoescuela/pedagotic/aprendizaje-invertido-flipped-classroom/)"
   ]
  },
  {
   "cell_type": "markdown",
   "id": "eb6ed03a",
   "metadata": {},
   "source": [
    "<img src = 'https://resources.maneuveringthemiddle.com/wp-content/uploads/2020/07/04212706/1-5.png' width = 500>  \n",
    "\n"
   ]
  },
  {
   "cell_type": "markdown",
   "id": "34319cce-a71b-4f64-aab8-b53e521efa40",
   "metadata": {},
   "source": [
    "# Metodología de Aprendizaje Basado en Problemas y Proyectos (ABPP) \n"
   ]
  },
  {
   "cell_type": "markdown",
   "id": "c4f73d81",
   "metadata": {},
   "source": [
    "\n",
    "<img src = 'https://www.unir.net/wp-content/uploads/2020/07/aprendizaje-problemas2-1-1-1-1.jpeg' width = 500>"
   ]
  },
  {
   "cell_type": "markdown",
   "id": "841a985c-bd9b-4dd3-8e4c-893983980af2",
   "metadata": {},
   "source": [
    "# Desarrollo del pensamiento computacional con Lenguajes Python y R, y con archivos Markdown orientado a la formación en ciencia de datos \n",
    "\n"
   ]
  },
  {
   "cell_type": "markdown",
   "id": "3d0eba94",
   "metadata": {},
   "source": [
    "\n",
    "<img src = 'https://i.ytimg.com/vi/mcG_wcR4e6M/maxresdefault.jpg' width = 200>"
   ]
  },
  {
   "cell_type": "markdown",
   "id": "65aa0404-f7ae-495e-864c-1aec01b4255e",
   "metadata": {},
   "source": [
    "# Principio de fomento a la ciencia abierta, enseñar en el acceso a los datos públicos y el uso de software de código abierto  \n"
   ]
  },
  {
   "cell_type": "markdown",
   "id": "18ae9b87",
   "metadata": {},
   "source": [
    "\n",
    "<img src = 'https://unesdoc.unesco.org/in/rest/Thumb/image?id=p%3A%3Ausmarcdef_0000379949_spa&author=UNESCO&title=Recomendaci%C3%B3n+de+la+UNESCO+sobre+la+Ciencia+Abierta&year=2021&publisher=UNESCO&TypeOfDocument=UnescoPhysicalDocument&mat=PGD&ct=true&size=512&isPhysical=1' width = 200>"
   ]
  },
  {
   "cell_type": "markdown",
   "id": "d9559f85",
   "metadata": {},
   "source": [
    "El enfoque STEAMS en educación preescolar, primaria y secundaria es una extensión del enfoque STEM (Ciencia, Tecnología, Ingeniería y Matemáticas) y su variante STEAM, que incorpora el Arte. "
   ]
  },
  {
   "cell_type": "code",
   "execution_count": 2,
   "id": "0c673e3c",
   "metadata": {},
   "outputs": [],
   "source": [
    "# Gestión del guardado de imagenes  \n",
    "\n",
    "def save_fig(nombre_archivo_imagen):\n",
    "    import os \n",
    "    import matplotlib.pyplot as plt\n",
    "    ubicacion_para_imagenes = r\"C:/Users/marco/Downloads\"\n",
    "    imagen_path = os.path.join(ubicacion_para_imagenes, nombre_archivo_imagen)\n",
    "    plt.savefig(imagen_path, bbox_inches='tight')"
   ]
  },
  {
   "cell_type": "markdown",
   "id": "10e55ccf",
   "metadata": {},
   "source": [
    "# Prompt de diseño de clase: \n",
    "\n",
    "Dame, por favor, un diseño de clase, con el enfoque: STEAMS  y de aprendizaje basado en problemas y proyectos(ABPP) y Teoría de Registros de Representación Semiótica de Duval; sobre: **\" \"**, siguiendo la estructura:   \n",
    "\n",
    "1. Título de la clase   \n",
    "   \n",
    "2. Objetivo de aprendizaje e indicadores de logro de estos objetivos.   \n",
    "   Diseña la clase incluyendo objetivos de educación matemática basada en el pensamiento crítico.   \n",
    "\n",
    "3.  Un mapa conceptual que resuma la clase elaborado en Graphviz de python con nodos y edges de diferentes formas, colores y rellenos y renderizado en la siguiente ubicación: `\"C:/Users/marco/Downloads\"`. No olvides el parámetro `view = True` para el método `render()` de Graphviz. Para este mapa controla las superposiciones de los nodos con: graph [overlap=false]; // Elimina superposiciones (puede aumentar el espacio)\n",
    "graph [overlap=\"scalexy\"]; // Escala el gráfico para evitar overlaps\n",
    "graph [overlap=\"compress\"]; // Comprime el grafo sin overlaps   \n",
    "   \n",
    "4. Contenido de la clase    \n",
    "   \n",
    "5. Incluye una canción o un poema que ayude a interiorizar y fijar los conceptos asociados a esta clase.  \n",
    "   \n",
    "6. Dame elementos históricos y epistemológicos asociados a esta clase, pero contados como un cuento al estilo de un cuentero antioqueño en Colombia. Incluye imágenes de los protagonistas históricos de esta clase.   \n",
    "   \n",
    "7. Actividades de aprendizaje    \n",
    "     * Incluya actividades de aprendizaje utilizando Calculadora **Casio 991 LA cw**\n",
    "     * Incluya también actividades de aprendizaje y modelación de situaciones o problemas reales a través de circuitos lógicos y circuitos digitales o electrónicos utilizando la aplicación portable cocodrilo. [Descarge esta aplicación portable aquí](https://crocodileclips.net/descargar-crocodile-clips/) \n",
    "     * Incluye actividades de aprendizaje utilizando lenguaje Python y Jupyter Notebook.   \n",
    "\n",
    "8. Incluye una canción o un poema que ayude a interiorizar y fijar los conceptos asociados a esta clase.  \n",
    "\n",
    "9.  Tarea o actividades de ejercitación y fijación.  \n",
    "     * Diseña las tareas de tal manera que en cada ejercicio se realicen las siguientes cuatro preguntas:  \n",
    "        - ¿Por qué esta expresión representa el problema?\n",
    "        - ¿Qué pasaría si cambiamos este valor?\n",
    "        - ¿Hay otra manera de resolverlo?\n",
    "        - ¿Cómo justificas que tu resultado es razonable? \n",
    "    \n",
    "10.  Evaluación incluyendo diez proyectos, un ejemplo de quiz y un ejemplo de parcial.  \n",
    "     * Diseña el quiz con preguntas, donde se pida al estudiante el mostrar la aplicación de las expresiones lógicas en contextos: \n",
    "       - Deportivos\n",
    "       - Cotidianos\n",
    "       - Matemáticas en teoría de números \n",
    "       - Matemáticas en geometría euclidiana\n",
    "       - Matemática en Cálculo Diferencial.\n",
    "       - Económicos. \n",
    "     * Actividad de desarrollo de habilidades metacognitivas para hacernos consientes de nuestro propio proceso de aprendizaje y de la importancia de la evaluación continua.\n",
    "\n",
    "11.  Diseño de actividad de retroalimentación.  \n",
    "      \n",
    "12.  Dame un vocabulario y frases del idioma inglés asociadas a esta clase.   \n",
    "    \n",
    "13.  Incluye apéndice para la clase sobre desarrollo de habilidades para trabajar en equipo y de asertividad y empatía para relacionarnos. También elementos de la inteligencia emocional para presentar pruebas sin temor y desarrollar habilidades metacognitivas.   \n",
    "      \n",
    "14. Incluye 10 referentes en didáctica de la matemática que estén de acuerdo a la propuesta didáctica de esta clase. Adiciona a estos referentes a Raymond Duval (Representaciones y cambios de representación para la adquisición de conceptos matemáticos) y a Jeannette Wing (Desarrollo del pensamiento computacional). Déjame todos estos referentes ordenados de acuerdo a las normas APA. Déjame todos estos referentes ordenados de acuerdo a las normas APA. Incluye las citaciones a estos referentes a medida que vallas diseñando la clase. \n",
    "\n",
    "\n",
    "Pero  que este diseño sea para que el estudiante pueda aprender experimentando en cuadernos Jupyter con funciones de usuario y animaciones y visualizaciones en Python. En particular utiliza para el diseño de clase a NumPy, Pandas, SymPy, Matplotlib.pyplot, Seaborn, Plotly, ipywidgets, matplotlib.animation y Jupyter Notebook.  \n",
    "Cuando vallas a utilizar SymPy, ten en cuanta la siguiente configuración: \n",
    "# Corrección y mejora del código\n",
    "from sympy import symbols, Equivalent\n",
    "from sympy.logic.boolalg import truth_table\n",
    "\n",
    "Cada vez que utilices `matplotlib.animacion` no olvides incluir el uso de `IPython. display` para la renderización de estas animaciones a través de Jupyter Notebook. No olvides darme los diseños de clase con las ecuaciones matemáticas delimitadas con signo de dólar $ para que VS Code si me renderice estas expresiones del lenguaje latex. Cuando vallas a utilizar ipywidgets ten en cuenta la siguiente importación inicial para garantizar que la visualización interactiva si se renderice en VS Code:                                                      \n"
   ]
  },
  {
   "cell_type": "markdown",
   "id": "f916feb9",
   "metadata": {},
   "source": [
    "# Introducción a NumPy.Random  \n",
    "\n",
    "Dame una introducción al módulo numpy.random de python, para la generación de datos aleatorios en enseñanza del deep learning para estudiantes de administración de empresas en Colombia. Pero damela a manera de guía didáctica. Esto para dar una práctica de enseñanza sobre la generación del dataset que me diste para un problema de clasificación binaria de predicción de otorgamiento de targeta de crédito. "
   ]
  },
  {
   "cell_type": "markdown",
   "id": "a873716f",
   "metadata": {},
   "source": [
    "Esta es una **guía didáctica** que conecta la enseñanza del módulo `numpy.random` con la generación de datasets artificiales para un problema realista de **clasificación binaria** (otorgamiento de tarjeta de crédito). La planteo como si fuera material para tus estudiantes de Administración de Empresas en Colombia.\n",
    "\n",
    "---\n"
   ]
  },
  {
   "cell_type": "markdown",
   "id": "877722fa",
   "metadata": {},
   "source": [
    "\n",
    "# Guía Didáctica: Introducción a [`numpy.random`](https://numpy.org/doc/2.1/reference/random/index.html) en la Generación de Datos Aleatorios\n"
   ]
  },
  {
   "cell_type": "markdown",
   "id": "6c17b7dc",
   "metadata": {},
   "source": [
    "\n",
    "**Contexto:** Deep Learning y Administración de Empresas\n",
    "**Ejemplo aplicado:** Predicción de otorgamiento de tarjeta de crédito\n",
    "\n",
    "---\n"
   ]
  },
  {
   "cell_type": "markdown",
   "id": "1e2e692c",
   "metadata": {},
   "source": [
    "\n",
    "## Objetivo de la práctica\n"
   ]
  },
  {
   "cell_type": "markdown",
   "id": "f995ba67",
   "metadata": {},
   "source": [
    "\n",
    "Que el estudiante:\n",
    "\n",
    "1. Comprenda la utilidad del módulo `numpy.random` de Python.\n",
    "2. Genere datos artificiales para simular escenarios de decisión en administración de empresas.\n",
    "3. Aplique este conocimiento en un problema de **clasificación binaria**: decidir si se otorga o no una tarjeta de crédito a un cliente.\n",
    "\n",
    "\n"
   ]
  },
  {
   "cell_type": "markdown",
   "id": "dba47d55",
   "metadata": {},
   "source": [
    "\n",
    "## 1. ¿Qué es `numpy.random`?\n"
   ]
  },
  {
   "cell_type": "markdown",
   "id": "e5fa575c",
   "metadata": {},
   "source": [
    "\n",
    "El módulo `numpy.random` es un conjunto de funciones que permiten **simular aleatoriedad** en Python.\n"
   ]
  },
  {
   "cell_type": "markdown",
   "id": "5be15d31",
   "metadata": {},
   "source": [
    "Se utiliza en Deep Learning y Machine Learning para:\n",
    "\n",
    "* Generar datasets artificiales cuando no tenemos datos reales.\n",
    "* Inicializar pesos en redes neuronales.\n",
    "* Simular fenómenos empresariales (demanda, ingresos, riesgos).\n"
   ]
  },
  {
   "cell_type": "markdown",
   "id": "a3e3f105",
   "metadata": {},
   "source": [
    "\n",
    "En nuestro caso, lo usaremos para crear un **dataset simulado de clientes de un banco**.\n",
    "\n"
   ]
  },
  {
   "cell_type": "markdown",
   "id": "564b2dfc",
   "metadata": {},
   "source": [
    "\n",
    "## 2. Funciones básicas de `numpy.random`\n"
   ]
  },
  {
   "cell_type": "markdown",
   "id": "c5201164",
   "metadata": {},
   "source": [
    "\n",
    "## a) [`randint(inicio, fin, n)`](https://numpy.org/doc/2.2/reference/random/generated/numpy.random.randint.html)\n",
    "\n",
    "Genera enteros aleatorios en un rango.  \n"
   ]
  },
  {
   "cell_type": "markdown",
   "id": "f1411101",
   "metadata": {},
   "source": [
    "Ejemplo:\n"
   ]
  },
  {
   "cell_type": "code",
   "execution_count": 27,
   "id": "b16b5370",
   "metadata": {},
   "outputs": [
    {
     "name": "stdout",
     "output_type": "stream",
     "text": [
      "[36 66 28 34 56 52 43 62 53 44]\n"
     ]
    }
   ],
   "source": [
    "import numpy as np\n",
    "np.random.seed(13)\n",
    "# Edad de 10 clientes (entre 18 y 70 años)\n",
    "edades = np.random.randint(low = 18, high = 70, size = 10, dtype = np.int64)\n",
    "print(edades)\n",
    "\n"
   ]
  },
  {
   "cell_type": "markdown",
   "id": "67aebfe6",
   "metadata": {},
   "source": [
    "\n",
    "---\n"
   ]
  },
  {
   "cell_type": "markdown",
   "id": "df21bffa",
   "metadata": {},
   "source": [
    "\n",
    "### b) `uniform(min, max, n)`\n",
    "\n",
    "Genera $n$ números reales aleatorios en un rango continuo.  \n"
   ]
  },
  {
   "cell_type": "markdown",
   "id": "c708ba78",
   "metadata": {},
   "source": [
    "\n",
    "#### Ejemplo:\n"
   ]
  },
  {
   "cell_type": "code",
   "execution_count": 30,
   "id": "634441d5",
   "metadata": {},
   "outputs": [
    {
     "name": "stdout",
     "output_type": "stream",
     "text": [
      "[63. 87.  1. 75. 81.  8. 66. 51. 48. 96.]\n"
     ]
    }
   ],
   "source": [
    "\n",
    "# Nivel de endeudamiento entre 0 y 1\n",
    "endeudamiento = np.random.uniform(0, 1, 10).round(2)*100\n",
    "print(endeudamiento)\n",
    "\n"
   ]
  },
  {
   "cell_type": "markdown",
   "id": "fca1bf18",
   "metadata": {},
   "source": [
    "\n",
    "### c) `choice(lista, n, p=[])`\n",
    "\n",
    "Selecciona valores de una lista, con o sin probabilidades definidas.  \n",
    "👉 Ejemplo:\n"
   ]
  },
  {
   "cell_type": "code",
   "execution_count": 35,
   "id": "da0c744e",
   "metadata": {},
   "outputs": [
    {
     "name": "stdout",
     "output_type": "stream",
     "text": [
      "['Bueno' 'Bueno' 'Bueno' 'Bueno' 'Malo' 'Bueno' 'Bueno' 'Regular' 'Bueno'\n",
      " 'Bueno']\n"
     ]
    }
   ],
   "source": [
    "\n",
    "# Historial crediticio de los clientes\n",
    "historial = np.random.choice(\n",
    "    a = ['Bueno', 'Regular', 'Malo'],\n",
    "    size = 10,\n",
    "    p=[0.6, 0.3, 0.1]  # Probabilidades\n",
    ")\n",
    "print(historial)\n",
    "\n"
   ]
  },
  {
   "cell_type": "markdown",
   "id": "4b878c52",
   "metadata": {},
   "source": [
    "\n",
    "### d) [`binomial(n, p, n_muestras)`](https://numpy.org/doc/2.2/reference/random/generated/numpy.random.binomial.html) \n",
    "\n",
    "Simula decisiones binarias (0 o 1), como aprobar o rechazar un crédito.  \n",
    "Ejemplo:  \n"
   ]
  },
  {
   "cell_type": "code",
   "execution_count": null,
   "id": "d5087191",
   "metadata": {},
   "outputs": [
    {
     "name": "stdout",
     "output_type": "stream",
     "text": [
      "[0 1 0 0 0 2 0 2 0 1]\n"
     ]
    }
   ],
   "source": [
    "\n",
    "\n",
    "# Simulación de aprobación de tarjeta con probabilidad 0.6\n",
    "aprobacion = np.random.binomial(n = 1, p = 0.2, size = 10) # n es el número de ensayos \n",
    "print(aprobacion)\n",
    "\n"
   ]
  },
  {
   "cell_type": "markdown",
   "id": "89a2cd4b",
   "metadata": {},
   "source": [
    "## 3. Ejemplo aplicado: Dataset de otorgamiento de tarjeta de crédito\n",
    "\n",
    "Usando `numpy.random`, podemos **simular clientes** con variables relevantes para el banco:\n",
    "\n",
    "* **Edad**\n",
    "* **Ingresos mensuales**\n",
    "* **Historial crediticio**\n",
    "* **Nivel de endeudamiento**\n",
    "* **Antigüedad laboral**\n",
    "* **Estado civil**\n",
    "* **Decisión (otorgar tarjeta = 1, no otorgar = 0)**\n"
   ]
  },
  {
   "cell_type": "markdown",
   "id": "0b591563",
   "metadata": {},
   "source": [
    "\n",
    "Código:\n",
    "\n",
    "\n"
   ]
  },
  {
   "cell_type": "code",
   "execution_count": null,
   "id": "25fb6ff0",
   "metadata": {},
   "outputs": [
    {
     "data": {
      "application/vnd.microsoft.datawrangler.viewer.v0+json": {
       "columns": [
        {
         "name": "index",
         "rawType": "int64",
         "type": "integer"
        },
        {
         "name": "Edad",
         "rawType": "int32",
         "type": "integer"
        },
        {
         "name": "IngresosMensuales",
         "rawType": "int32",
         "type": "integer"
        },
        {
         "name": "HistorialCrediticio",
         "rawType": "object",
         "type": "string"
        },
        {
         "name": "NivelEndeudamiento",
         "rawType": "float64",
         "type": "float"
        },
        {
         "name": "AntiguedadLaboral",
         "rawType": "int32",
         "type": "integer"
        },
        {
         "name": "EstadoCivil",
         "rawType": "object",
         "type": "string"
        },
        {
         "name": "OtorgarTarjeta",
         "rawType": "int32",
         "type": "integer"
        }
       ],
       "ref": "8f48984f-ba2a-49d9-bfd2-59e406c3f479",
       "rows": [
        [
         "0",
         "56",
         "7449",
         "Bueno",
         "0.43",
         "28",
         "Soltero",
         "1"
        ],
        [
         "1",
         "69",
         "2933",
         "Malo",
         "0.21",
         "14",
         "Soltero",
         "0"
        ],
        [
         "2",
         "46",
         "5811",
         "Bueno",
         "0.57",
         "12",
         "Soltero",
         "1"
        ],
        [
         "3",
         "32",
         "5551",
         "Malo",
         "0.03",
         "0",
         "Casado",
         "1"
        ],
        [
         "4",
         "60",
         "6920",
         "Regular",
         "0.84",
         "24",
         "Casado",
         "1"
        ],
        [
         "5",
         "25",
         "1684",
         "Bueno",
         "0.45",
         "6",
         "Soltero",
         "0"
        ],
        [
         "6",
         "38",
         "5055",
         "Bueno",
         "0.4",
         "8",
         "Soltero",
         "1"
        ],
        [
         "7",
         "56",
         "3885",
         "Malo",
         "0.93",
         "23",
         "Soltero",
         "1"
        ],
        [
         "8",
         "36",
         "6896",
         "Regular",
         "0.73",
         "0",
         "Soltero",
         "0"
        ],
        [
         "9",
         "40",
         "9166",
         "Bueno",
         "0.33",
         "11",
         "Casado",
         "1"
        ]
       ],
       "shape": {
        "columns": 7,
        "rows": 10
       }
      },
      "text/html": [
       "<div>\n",
       "<style scoped>\n",
       "    .dataframe tbody tr th:only-of-type {\n",
       "        vertical-align: middle;\n",
       "    }\n",
       "\n",
       "    .dataframe tbody tr th {\n",
       "        vertical-align: top;\n",
       "    }\n",
       "\n",
       "    .dataframe thead th {\n",
       "        text-align: right;\n",
       "    }\n",
       "</style>\n",
       "<table border=\"1\" class=\"dataframe\">\n",
       "  <thead>\n",
       "    <tr style=\"text-align: right;\">\n",
       "      <th></th>\n",
       "      <th>Edad</th>\n",
       "      <th>IngresosMensuales</th>\n",
       "      <th>HistorialCrediticio</th>\n",
       "      <th>NivelEndeudamiento</th>\n",
       "      <th>AntiguedadLaboral</th>\n",
       "      <th>EstadoCivil</th>\n",
       "      <th>OtorgarTarjeta</th>\n",
       "    </tr>\n",
       "  </thead>\n",
       "  <tbody>\n",
       "    <tr>\n",
       "      <th>0</th>\n",
       "      <td>56</td>\n",
       "      <td>7449</td>\n",
       "      <td>Bueno</td>\n",
       "      <td>0.43</td>\n",
       "      <td>28</td>\n",
       "      <td>Soltero</td>\n",
       "      <td>1</td>\n",
       "    </tr>\n",
       "    <tr>\n",
       "      <th>1</th>\n",
       "      <td>69</td>\n",
       "      <td>2933</td>\n",
       "      <td>Malo</td>\n",
       "      <td>0.21</td>\n",
       "      <td>14</td>\n",
       "      <td>Soltero</td>\n",
       "      <td>0</td>\n",
       "    </tr>\n",
       "    <tr>\n",
       "      <th>2</th>\n",
       "      <td>46</td>\n",
       "      <td>5811</td>\n",
       "      <td>Bueno</td>\n",
       "      <td>0.57</td>\n",
       "      <td>12</td>\n",
       "      <td>Soltero</td>\n",
       "      <td>1</td>\n",
       "    </tr>\n",
       "    <tr>\n",
       "      <th>3</th>\n",
       "      <td>32</td>\n",
       "      <td>5551</td>\n",
       "      <td>Malo</td>\n",
       "      <td>0.03</td>\n",
       "      <td>0</td>\n",
       "      <td>Casado</td>\n",
       "      <td>1</td>\n",
       "    </tr>\n",
       "    <tr>\n",
       "      <th>4</th>\n",
       "      <td>60</td>\n",
       "      <td>6920</td>\n",
       "      <td>Regular</td>\n",
       "      <td>0.84</td>\n",
       "      <td>24</td>\n",
       "      <td>Casado</td>\n",
       "      <td>1</td>\n",
       "    </tr>\n",
       "    <tr>\n",
       "      <th>5</th>\n",
       "      <td>25</td>\n",
       "      <td>1684</td>\n",
       "      <td>Bueno</td>\n",
       "      <td>0.45</td>\n",
       "      <td>6</td>\n",
       "      <td>Soltero</td>\n",
       "      <td>0</td>\n",
       "    </tr>\n",
       "    <tr>\n",
       "      <th>6</th>\n",
       "      <td>38</td>\n",
       "      <td>5055</td>\n",
       "      <td>Bueno</td>\n",
       "      <td>0.40</td>\n",
       "      <td>8</td>\n",
       "      <td>Soltero</td>\n",
       "      <td>1</td>\n",
       "    </tr>\n",
       "    <tr>\n",
       "      <th>7</th>\n",
       "      <td>56</td>\n",
       "      <td>3885</td>\n",
       "      <td>Malo</td>\n",
       "      <td>0.93</td>\n",
       "      <td>23</td>\n",
       "      <td>Soltero</td>\n",
       "      <td>1</td>\n",
       "    </tr>\n",
       "    <tr>\n",
       "      <th>8</th>\n",
       "      <td>36</td>\n",
       "      <td>6896</td>\n",
       "      <td>Regular</td>\n",
       "      <td>0.73</td>\n",
       "      <td>0</td>\n",
       "      <td>Soltero</td>\n",
       "      <td>0</td>\n",
       "    </tr>\n",
       "    <tr>\n",
       "      <th>9</th>\n",
       "      <td>40</td>\n",
       "      <td>9166</td>\n",
       "      <td>Bueno</td>\n",
       "      <td>0.33</td>\n",
       "      <td>11</td>\n",
       "      <td>Casado</td>\n",
       "      <td>1</td>\n",
       "    </tr>\n",
       "  </tbody>\n",
       "</table>\n",
       "</div>"
      ],
      "text/plain": [
       "   Edad  IngresosMensuales HistorialCrediticio  NivelEndeudamiento  \\\n",
       "0    56               7449               Bueno                0.43   \n",
       "1    69               2933                Malo                0.21   \n",
       "2    46               5811               Bueno                0.57   \n",
       "3    32               5551                Malo                0.03   \n",
       "4    60               6920             Regular                0.84   \n",
       "5    25               1684               Bueno                0.45   \n",
       "6    38               5055               Bueno                0.40   \n",
       "7    56               3885                Malo                0.93   \n",
       "8    36               6896             Regular                0.73   \n",
       "9    40               9166               Bueno                0.33   \n",
       "\n",
       "   AntiguedadLaboral EstadoCivil  OtorgarTarjeta  \n",
       "0                 28     Soltero               1  \n",
       "1                 14     Soltero               0  \n",
       "2                 12     Soltero               1  \n",
       "3                  0      Casado               1  \n",
       "4                 24      Casado               1  \n",
       "5                  6     Soltero               0  \n",
       "6                  8     Soltero               1  \n",
       "7                 23     Soltero               1  \n",
       "8                  0     Soltero               0  \n",
       "9                 11      Casado               1  "
      ]
     },
     "execution_count": 54,
     "metadata": {},
     "output_type": "execute_result"
    }
   ],
   "source": [
    "import pandas as pd\n",
    "import numpy as np\n",
    "\n",
    "np.random.seed(42)  # reproducibilidad\n",
    "\n",
    "n = 20  # número de clientes\n",
    "\n",
    "# Variables simuladas\n",
    "edades = np.random.randint(18, 70, n)\n",
    "ingresos = np.random.randint(500, 10000, n)\n",
    "historial = np.random.choice(['Bueno', 'Regular', 'Malo'], n, p=[0.5, 0.3, 0.2])\n",
    "endeudamiento = np.round(np.random.uniform(0, 1, n), 2)\n",
    "antiguedad = np.random.randint(0, 30, n)\n",
    "estado_civil = np.random.choice(['Soltero', 'Casado', 'Divorciado'], n, p=[0.5, 0.4, 0.1])\n",
    "\n",
    "# Regla simple de decisión\n",
    "prob_aprobacion = (\n",
    "    0.4*(edades > 25) +\n",
    "    0.3*(ingresos > 3000) +\n",
    "    0.2*(historial == 'Bueno') \n",
    "    - 0.3*(endeudamiento > 0.6)\n",
    ")\n",
    "prob_aprobacion = np.clip(prob_aprobacion, 0, 1)\n",
    "otorgar = np.random.binomial(1, prob_aprobacion)\n",
    "\n",
    "# Dataset\n",
    "df = pd.DataFrame({\n",
    "    'Edad': edades,\n",
    "    'IngresosMensuales': ingresos,\n",
    "    'HistorialCrediticio': historial,\n",
    "    'NivelEndeudamiento': endeudamiento,\n",
    "    'AntiguedadLaboral': antiguedad,\n",
    "    'EstadoCivil': estado_civil,\n",
    "    'OtorgarTarjeta': otorgar\n",
    "})\n",
    "\n",
    "df.head(10)\n",
    "\n"
   ]
  },
  {
   "cell_type": "markdown",
   "id": "c993284d",
   "metadata": {},
   "source": [
    "\n",
    "\n",
    "\n",
    "## 4. Actividades para los estudiantes\n"
   ]
  },
  {
   "cell_type": "markdown",
   "id": "95b0d657",
   "metadata": {},
   "source": [
    "\n",
    "1. Modifica la probabilidad de elegir `HistorialCrediticio` y observa cómo cambia el dataset.\n",
    "2. Cambia el rango de `IngresosMensuales` para simular clientes de distintos estratos.\n",
    "3. Ajusta la fórmula de `prob_aprobacion` para que el **estado civil** también influya en la decisión.\n",
    "4. Reflexiona: ¿qué tan realista es este modelo? ¿qué variables importantes podrían faltar?\n",
    "\n",
    "---\n"
   ]
  },
  {
   "cell_type": "markdown",
   "id": "af707734",
   "metadata": {},
   "source": [
    "\n",
    "## 5. Conclusión\n",
    "\n",
    "El módulo `numpy.random` nos permite **simular datos de negocio** que se asemejan a la realidad.\n",
    "Esto es muy valioso en la enseñanza de Deep Learning porque:\n",
    "\n",
    "* Se puede practicar sin necesidad de datos privados o confidenciales.\n",
    "* Los estudiantes entienden cómo **variables de negocio** se convierten en insumos para **modelos predictivos**.\n",
    "* Se construye un puente entre **conceptos matemáticos de redes neuronales** y **problemas reales de administración de empresas en Colombia**.\n",
    "\n",
    "---\n"
   ]
  },
  {
   "cell_type": "markdown",
   "id": "2a815f89",
   "metadata": {},
   "source": [
    "# Lectura interactiva y experimental "
   ]
  },
  {
   "cell_type": "markdown",
   "id": "3cac948a",
   "metadata": {},
   "source": [
    "La **lectura interactiva y experimental** de los cuadernos Jupyter diseñados para el curso de **Fundamentos de Lógica** implica un enfoque dinámico y práctico para el aprendizaje, donde los estudiantes no solo consumen información teórica, sino que también interactúan con el contenido, modifican ejemplos, ejecutan código y experimentan con los conceptos lógicos en un entorno computacional. A continuación, se detallan las características clave de este enfoque:\n",
    "\n",
    "---\n"
   ]
  },
  {
   "cell_type": "markdown",
   "id": "bab6c6f9",
   "metadata": {},
   "source": [
    "\n",
    "### **1. Lectura Interactiva** "
   ]
  },
  {
   "cell_type": "markdown",
   "id": "0534899e",
   "metadata": {},
   "source": [
    " \n",
    "- **Manipulación directa del contenido**: Los estudiantes pueden ejecutar celdas de código, modificar fórmulas lógicas o ejemplos, y observar cómo cambian los resultados en tiempo real."
   ]
  },
  {
   "cell_type": "markdown",
   "id": "33d2b337",
   "metadata": {},
   "source": [
    "  \n",
    "- **Visualización interactiva**: Uso de gráficos, diagramas (como árboles semánticos o tablas de verdad) o herramientas que respondan a entradas del usuario para ilustrar conceptos como validez, consistencia o inferencia.  \n"
   ]
  },
  {
   "cell_type": "markdown",
   "id": "921e9caf",
   "metadata": {},
   "source": [
    "- **Retroalimentación inmediata**: Los cuadernos pueden incluir ejercicios con autoevaluación (ejecutando código que verifica soluciones) o explicaciones emergentes al resolver problemas.  \n",
    "\n",
    "\n"
   ]
  },
  {
   "cell_type": "markdown",
   "id": "05442fd7",
   "metadata": {},
   "source": [
    "\n",
    "### **2. Lectura Experimental**  \n",
    "- **Aprendizaje basado en prueba y error**: Los estudiantes pueden \"jugar\" con estructuras lógicas (por ejemplo, modificar conectores en una fórmula proposicional y ver cómo afecta su tabla de verdad).  \n",
    "- **Simulación de escenarios**: Por ejemplo, modelar argumentos en lógica de primer orden y evaluar su corrección mediante ejecución de código (usando librerías como `sympy` o herramientas ad-hoc).  \n",
    "- **Exploración guiada y abierta**: Se incluyen secciones con consignas del tipo *\"¿Qué pasa si cambias este axioma?\"* o *\"Intenta construir un contraejemplo\"* para fomentar la curiosidad.  \n",
    "\n",
    "---\n"
   ]
  },
  {
   "cell_type": "markdown",
   "id": "374a8ea9",
   "metadata": {},
   "source": [
    "\n",
    "### **3. Componentes clave de los cuadernos** "
   ]
  },
  {
   "cell_type": "markdown",
   "id": "fd4081dc",
   "metadata": {},
   "source": [
    " \n",
    "- **Fragmentos de código ejecutable**: Para evaluar expresiones lógicas, automatizar pruebas o implementar algoritmos (ej: verificación de tautologías).  \n"
   ]
  },
  {
   "cell_type": "markdown",
   "id": "4962b8ad",
   "metadata": {},
   "source": [
    "- **Celdas con texto teórico y preguntas reflexivas**: Integradas con ejemplos prácticos que requieren intervención activa (ej: *\"Define aquí tu propia fórmula y comprueba si es satisfacible\"*).  \n"
   ]
  },
  {
   "cell_type": "markdown",
   "id": "afcbc534",
   "metadata": {},
   "source": [
    "- **Enlaces a recursos externos**: Como demostradores en línea o lecturas complementarias para profundizar.  \n",
    "\n",
    "\n"
   ]
  },
  {
   "cell_type": "markdown",
   "id": "c750af8a",
   "metadata": {},
   "source": [
    "\n",
    "### **4. Beneficios pedagógicos**  \n",
    "- **Enganche activo**: Combina teoría y práctica sin salir del entorno digital.  \n",
    "- **Personalización**: Los estudiantes pueden ajustar el ritmo y profundidad de su aprendizaje.  \n",
    "- **Preparación para aplicaciones reales**: Familiariza a los estudiantes con herramientas usadas en investigación (ej: Python para lógica simbólica).  \n",
    "\n",
    "---\n"
   ]
  },
  {
   "cell_type": "markdown",
   "id": "0602e6ee",
   "metadata": {},
   "source": [
    "\n",
    "### **Ejemplo concreto**  \n",
    "Un cuaderno podría incluir:  \n",
    "1. Una explicación de *modus ponens* con una fórmula predefinida (`p → q`, `p`, luego `q`).  \n",
    "2. Una celda interactiva donde el estudiante modifique `p` o `q` y observe cómo falla la regla si las premisas cambian.  \n",
    "3. Un ejercicio para programar un verificador de *modus ponens* usando diccionarios de Python.  \n"
   ]
  },
  {
   "cell_type": "markdown",
   "id": "70e1a505",
   "metadata": {},
   "source": [
    "\n",
    "Este enfoque transforma la lógica (a menudo abstracta) en una experiencia tangible y adaptable."
   ]
  },
  {
   "cell_type": "markdown",
   "id": "36bc2964",
   "metadata": {},
   "source": [
    "# Desarrollo de habilidades Metacognitivas en enseñanza con metodología IAE \n"
   ]
  },
  {
   "cell_type": "markdown",
   "id": "9c5cb582",
   "metadata": {},
   "source": [
    "\n",
    "Desarrollar habilidades metacognitivas en los estudiantes dentro de una **Investigación Acción Educativa (IAE)** implica un proceso cíclico de reflexión, acción y evaluación. Aquí te propongo una estrategia estructurada en fases, alineada con la IAE, para fomentar la metacognición:\n",
    "\n",
    "---\n"
   ]
  },
  {
   "cell_type": "markdown",
   "id": "42be70b3",
   "metadata": {},
   "source": [
    "\n",
    "### **1. Diagnóstico Inicial (Fase de Observación)**  \n",
    "- **Identifica el nivel metacognitivo actual**:  \n",
    "  - Realiza cuestionarios, entrevistas o actividades reflexivas (ej.: \"¿Cómo estudiaste para el último examen? ¿Qué te funcionó o no?\").  \n",
    "  - Observa si los estudiantes pueden explicar sus procesos de aprendizaje o identificar dificultades.  \n",
    "\n",
    "- **Registra evidencias**: Anota cómo los estudiantes planifican, monitorean y evalúan sus tareas (ej.: diarios de aprendizaje, grabaciones de debates).  \n",
    "\n",
    "---\n"
   ]
  },
  {
   "cell_type": "markdown",
   "id": "e252e7b1",
   "metadata": {},
   "source": [
    "\n",
    "### **2. Diseño de Intervenciones (Fase de Planificación)**"
   ]
  },
  {
   "cell_type": "markdown",
   "id": "4b036a02",
   "metadata": {},
   "source": [
    "  \n",
    "**a. Enseñanza explícita de estrategias metacognitivas**:  \n",
    "  - **Modelado**: Muestra cómo *tú* piensas al resolver un problema (\"Pensamiento en voz alta\"). Ejemplo:  \n",
    "    *\"Primero, voy a leer el objetivo de la clase. Luego, revisaré si entiendo los conceptos clave...\"*.  \n",
    "  - **Listas de verificación (checklists)**: Proporciona guías para autoevaluarse (ej.: \"¿Puedo explicar este tema con mis propias palabras?\").  \n"
   ]
  },
  {
   "cell_type": "markdown",
   "id": "1ba3c6a5",
   "metadata": {},
   "source": [
    "\n",
    "**b. Herramientas para la autorregulación**:  \n",
    "  - **Diarios de aprendizaje**: Pide que registren:  \n",
    "    - *\"¿Qué aprendí hoy?\"* (conocimiento).  \n",
    "    - *\"¿Cómo lo aprendí?\"* (proceso).  \n",
    "    - *\"¿Qué me falta por entender?\"* (brechas).  \n",
    "  - **Rúbricas de autoevaluación**: Incluye criterios como: *\"Puedo resolver ejercicios sin ayuda\"* o *\"Sé dónde buscar información confiable\"*.  \n",
    "\n",
    "**c. Espacios de reflexión colaborativa**:  \n",
    "  - **Debates metacognitivos**: En grupos, discuten: *\"¿Qué estrategia usamos? ¿Funcionó? ¿Por qué?\"*.  \n",
    "  - **Peer feedback**: Intercambian comentarios sobre sus procesos (ej.: \"Tú organizaste bien tus ideas, pero podrías revisar las fuentes\").  \n",
    "\n",
    "---\n"
   ]
  },
  {
   "cell_type": "markdown",
   "id": "0ed547ca",
   "metadata": {},
   "source": [
    "\n",
    "### **3. Implementación (Fase de Acción)**  \n",
    "- **Integra la metacognición en las actividades cotidianas**:  \n",
    "  - Antes de una tarea: *\"¿Qué sabes ya sobre este tema? ¿Cómo planeas abordarlo?\"*.  \n",
    "  - Durante la tarea: *\"¿Estás siguiendo tu plan? ¿Necesitas ajustarlo?\"*.  \n",
    "  - Después: *\"¿Lograste el objetivo? ¿Qué cambiarías la próxima vez?\"*.  \n",
    "- **Usa preguntas clave**:  \n",
    "  - *\"¿Qué parte fue más difícil? ¿Por qué?\"* (identificación de obstáculos).  \n",
    "  - *\"Si tuvieras que enseñarle esto a un compañero, ¿cómo lo harías?\"* (transferencia).  \n",
    "\n"
   ]
  },
  {
   "cell_type": "markdown",
   "id": "dd7334b5",
   "metadata": {},
   "source": [
    "\n",
    "\n",
    "### **4. Evaluación y Reflexión (Fase de Observación/Reflexión)**  \n",
    "- **Analiza el impacto**: Compara evidencias pre y post intervención (ej.: diarios, desempeño en tareas).  \n",
    "- **Reflexión grupal**: Realiza una sesión donde los estudiantes compartan:  \n",
    "  - *\"¿Qué estrategias metacognitivas les ayudaron más?\"*.  \n",
    "  - *\"¿Cómo se sintieron al gestionar su aprendizaje?\"*.  \n",
    "- **Ajusta la intervención**: Si notas que persisten dificultades, propón nuevas herramientas (ej.: mapas conceptuales para organizar ideas).  \n",
    "\n",
    "---\n",
    "\n",
    "### **5. Iteración (Ciclo de IAE)**  \n",
    "Repite el ciclo con ajustes basados en los hallazgos. Por ejemplo:  \n",
    "- Si los estudiantes no identifican errores, introduce actividades de *análisis de errores* (\"¿Por qué te equivocaste? ¿Cómo corregirlo?\").  \n",
    "- Si les cuesta planificar, usa herramientas visuales como *diagramas de flujo* para secuenciar pasos.  \n",
    "\n",
    "---\n",
    "\n",
    "### **Ejemplo Práctico**  \n",
    "**Situación**: Estudiantes no revisan sus errores en matemáticas.  \n",
    "- **Intervención**:  \n",
    "  1. **Modelado**: Resuelves un problema cometiendo un error adrede y muestras cómo detectarlo.  \n",
    "  2. **Checklist**: \"¿Revisé cada paso? ¿Mi respuesta tiene sentido?\".  \n",
    "  3. **Diario**: \"Hoy cometí un error en... Lo corregí cambiando...\".  \n",
    "\n",
    "---\n",
    "\n",
    "### **Claves para el Éxito**  \n",
    "- **Consistencia**: Integra la metacognición en todas las clases, no como actividad aislada.  \n",
    "- **Andamiaje**: Reduce gradualmente la guía del docente a medida que los estudiantes ganan autonomía.  \n",
    "- **Cultura de error**: Normaliza los errores como parte del aprendizaje (\"¿Qué podemos aprender de esto?\").  \n",
    "\n",
    "La metacognición no solo mejora el logro académico, sino que empodera a los estudiantes para ser aprendices autónomos y resilientes. En la IAE, este proceso se enriquece al ser colaborativo (docente-estudiantes) y basado en evidencia concreta.  \n",
    "\n",
    "¿Te gustaría profundizar en alguna herramienta específica o ajustar la estrategia a un nivel educativo en particular?"
   ]
  },
  {
   "cell_type": "markdown",
   "id": "239427f7",
   "metadata": {},
   "source": [
    "# Calendario Académico Semestre 2025-2  \n",
    "\n",
    "\n",
    "\n",
    "\n"
   ]
  },
  {
   "cell_type": "code",
   "execution_count": null,
   "id": "c804f8d3",
   "metadata": {},
   "outputs": [],
   "source": []
  },
  {
   "cell_type": "code",
   "execution_count": null,
   "id": "cc539357",
   "metadata": {},
   "outputs": [],
   "source": []
  },
  {
   "cell_type": "markdown",
   "id": "8ba64aed",
   "metadata": {},
   "source": [
    "# Cursos que orienta el profesor Marco Julio Cañas Campillo en 2025  \n",
    "\n",
    "1. Cálculo Vectorial para Ingeniería Agropecuaria\n",
    "2. Análisis Numérico para Licenciatura en Matemáticas. \n",
    "3. Práctica Pedagógica V para Licenciatura en Educación Infantil\n",
    "4. Fundamentos de Lógica para Licenciatura en Matemáticas \n"
   ]
  },
  {
   "cell_type": "markdown",
   "id": "8d41fe58",
   "metadata": {
    "slideshow": {
     "slide_type": "slide"
    }
   },
   "source": [
    "# Horario de clases del profesor Marco\n",
    "\n",
    "* Lunes 8-12: Fundamentos de Lógica. \n",
    "* Martes 9-11 AM: Álgebra y Trigonometría. \n",
    "* Miércoles 10 a 11 M: Machine Learnig\n",
    "* Miércoles de 3 a 4 de la tarde: ARIMA\n",
    "* Jueves 2 a 6 PM: \n",
    "* Viernes 2 - 6 PM: Análisis Numérico para Licenciatura en Matemáticas. \n",
    "* Sábados 8-12 Asesorías y espacio para retroalimentación y apoyo al trabajo independiente  \n",
    "  y desarrollo de habilidades metacognitivas. "
   ]
  },
  {
   "cell_type": "markdown",
   "id": "ae114e14",
   "metadata": {
    "slideshow": {
     "slide_type": "slide"
    }
   },
   "source": [
    "# Coordinador de los cursos de la Facultad de Educación para regiones:    \n",
    "\n",
    "Andrés Vélez: regioneducacion.fedu@udea.edu.co  \n",
    "Coordinador Regiones  \n",
    "Facultad de Educación  \n",
    "Universidad de Antioquia  "
   ]
  },
  {
   "cell_type": "markdown",
   "id": "b1db4b6c",
   "metadata": {
    "slideshow": {
     "slide_type": "slide"
    }
   },
   "source": [
    "## Monitores\n",
    "* Manuel San Juan Serrano: Contactar escribiendo al correo: manuel.serrano1@udea.edu.co\n",
    "* Yeifry Sebastián Uribe: Contactar escribiendo al correo: yeifry.uribe@udea.edu.co"
   ]
  },
  {
   "cell_type": "markdown",
   "id": "10bce0d0",
   "metadata": {
    "slideshow": {
     "slide_type": "slide"
    }
   },
   "source": [
    "## Referentes "
   ]
  },
  {
   "cell_type": "markdown",
   "id": "1db3c468",
   "metadata": {
    "slideshow": {
     "slide_type": "slide"
    }
   },
   "source": [
    "* [Jupyter Book de fundamentos_logica](file:///C:/Users/marco/Documentos/docencia/fundamentos_logica/fundamentos_logica_book/_build/html/index.html)\n",
    "\n",
    "\n",
    "* [Decargue Crocodile Clip aquí](https://crocodileclips.net/descargar-crocodile-clips/)\n",
    "\n",
    "* [Matemáticas discretas Una introducción abierta, 3ª edición](https://discrete.openmathbooks.org/dmoi3.html)  \n",
    "  \n",
    "* [Desarrollo del pensamiento matemático con calculadora Casio ](https://bibliotecadigital.udea.edu.co/entities/publication/17180405-9f1d-4800-aa7c-e6369779cece)\n",
    "\n",
    "* [CALCULO I DE UNA VARIABLE Ron Larson-Bruce Edwards. Mc Graw Hill. 9º Edición](https://www.academia.edu/42139251/CALCULO_I_DE_UNA_VARIABLE_Ron_Larson_Bruce_Edwards_Mc_Graw_Hill_9o_Edici%C3%B3n)   \n",
    "  \n",
    "\n",
    "* [Grajales Vanegas, L. M., Restrepo Estrada, C. E., Restrepo Ochoa, S. I., & Ruíz De Villalba, F. (2015). Matemáticas I para las ciencias económicas.](https://bibliotecadigital.udea.edu.co/handle/10495/3010)\n",
    "  \n",
    "* R. Duval y Semiosis y pensamiento humano, 2.ª ed. Cali, Colombia: Programa Editorial Universidad del Valle, 2017. [En línea]. Disponible en: https://programaeditorial.univalle.edu.co/gpd-semiosis-y-pensamiento-humano-9789587655278-63324cdb0f6b3.html\n",
    "\n",
    "* [Aylwin, C. U. (2011). Lógica, conjuntos y números. Universidad de los Andes, Consejo de Publicaciones, Colección: Ciencias Básicas, Serie: Matemáticas.](chrome-extension://efaidnbmnnnibpcajpcglclefindmkaj/https://www.u-cursos.cl/ciencias/2011/1/MC110/1/material_docente/bajar?id_material=574722)\n",
    "  \n",
    "* [Chollet, F. (2021). Deep learning with Python. Simon and Schuster.](chrome-extension://efaidnbmnnnibpcajpcglclefindmkaj/https://tanthiamhuat.wordpress.com/wp-content/uploads/2018/03/deeplearningwithpython.pdf)  \n",
    "  \n",
    "* [Watson, S., Stewart, J., & Redlin, L. (2009). Precálculo. Matemáticas para el cálculo.](chrome-extension://efaidnbmnnnibpcajpcglclefindmkaj/https://students.aiu.edu/submissions/profiles/resources/onlineBook/k6L8A3_precalculo_-_matematicas_para_el_calculo-1.pdf)  \n",
    "\n",
    "* [Purcell, E. J., Varberg, D., & Rigdon, S. E. (2007). Cálculo diferencial e integral. Pearson Educación.](https://github.com/marco-canas/calculo/blob/main/referents/purcell/purcell_calculo.pdf)\n",
    "\n",
    "  \n",
    "\n",
    "* [stewart cálculo](https://udeaeduco-my.sharepoint.com/:b:/g/personal/marco_canas_udea_edu_co/EZgXZjAp8QxPqOAim2hs6LcBNPLGjSHf-xwYnUVYkwa04w?e=RZdTCy)  \n",
    "\n",
    "\n",
    "* [Recomendación de la UNESCO sobre ciencia abierta](https://unesdoc.unesco.org/ark:/48223/pf0000379949_spa)\n",
    "\n",
    "* [chatGPT](https://openai.com/blog/chatgpt)  \n",
    "\n",
    "* [Géron, A. (2017). Hands-on machine learning with scikit-learn and tensorflow: Concepts. Tools, and Techniques to build intelligent systems.](chrome-extension://efaidnbmnnnibpcajpcglclefindmkaj/http://14.139.161.31/OddSem-0822-1122/Hands-On_Machine_Learning_with_Scikit-Learn-Keras-and-TensorFlow-2nd-Edition-Aurelien-Geron.pdf)   \n"
   ]
  },
  {
   "cell_type": "markdown",
   "id": "df925560",
   "metadata": {},
   "source": [
    "\n",
    "* [McKinney, W. (2012). Python for data analysis: Data wrangling with Pandas, NumPy, and IPython. \" O'Reilly Media, Inc.\".](https://wesmckinney.com/book/) "
   ]
  },
  {
   "cell_type": "markdown",
   "id": "8e65d6f9",
   "metadata": {},
   "source": [
    "# Como estudiante, encuentro que...   \n",
    "\n",
    "F: Mis Fortalezas son:     \n",
    "O: Mis Oportunidades son:    \n",
    "D: Mis Debilidades son:    \n",
    "A: Lo que Amenazas mi aprendizaje es:  "
   ]
  },
  {
   "cell_type": "markdown",
   "id": "6b9e56a8",
   "metadata": {
    "slideshow": {
     "slide_type": "slide"
    }
   },
   "source": [
    "### [Evaluamos al profesor Marco Cañas Aquí](https://forms.office.com/Pages/ResponsePage.aspx?id=IefhmYRxjkmK_7KtTlPBwkanXIs1i1FEujpsZgO6dXpUREJPV1kxUk1JV1ozTFJIQVNIQjY5WEY3US4u)"
   ]
  },
  {
   "cell_type": "markdown",
   "id": "10f43536",
   "metadata": {
    "slideshow": {
     "slide_type": "slide"
    }
   },
   "source": [
    "### Continue su aprendizaje en la siguiente clase a través del siguiente [vínculo]()"
   ]
  },
  {
   "cell_type": "markdown",
   "id": "53cc9115",
   "metadata": {
    "slideshow": {
     "slide_type": "slide"
    }
   },
   "source": [
    "## Agradecimientos  \n",
    "\n",
    "Doy gracias a Dios por la vida de mi Hijo Joseph Cañas Osorio y la madurez que ha alcanzado. Este hijo me enorgullece y me hace falta abrazarlo cada día. \n",
    "\n",
    "Y a mi esposa Yasmira Emperatriz Barboza Mogollón por su apoyo, orientación y acompañamiento. "
   ]
  },
  {
   "cell_type": "code",
   "execution_count": 1,
   "id": "eb388d47",
   "metadata": {},
   "outputs": [
    {
     "data": {
      "text/plain": [
       "51300000"
      ]
     },
     "execution_count": 1,
     "metadata": {},
     "output_type": "execute_result"
    }
   ],
   "source": [
    "20520000+30780000"
   ]
  }
 ],
 "metadata": {
  "celltoolbar": "Slideshow",
  "kernelspec": {
   "display_name": ".venv",
   "language": "python",
   "name": "python3"
  },
  "language_info": {
   "codemirror_mode": {
    "name": "ipython",
    "version": 3
   },
   "file_extension": ".py",
   "mimetype": "text/x-python",
   "name": "python",
   "nbconvert_exporter": "python",
   "pygments_lexer": "ipython3",
   "version": "3.11.9"
  },
  "rise": {
   "enable_chalkboard": true,
   "theme": "sky",
   "transition": "zoom"
  }
 },
 "nbformat": 4,
 "nbformat_minor": 5
}
