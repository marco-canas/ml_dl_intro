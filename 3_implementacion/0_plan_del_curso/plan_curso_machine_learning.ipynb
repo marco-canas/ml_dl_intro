{
 "cells": [
  {
   "attachments": {},
   "cell_type": "markdown",
   "metadata": {
    "slideshow": {
     "slide_type": "slide"
    }
   },
   "source": [
    "<table align=\"left\">\n",
    "  <td>\n",
    "    <a href=\"https://colab.research.google.com/github/marco-canas/7_didactica_ciencia_datos/blob/main/1_propuesta/prop_invest/cartilla/cartilla.ipynb\" target=\"_parent\"><img src=\"https://colab.research.google.com/assets/colab-badge.svg\" alt=\"Open In Colab\"/></a>\n",
    "  </td>\n",
    "</table>"
   ]
  },
  {
   "cell_type": "markdown",
   "metadata": {
    "slideshow": {
     "slide_type": "slide"
    }
   },
   "source": [
    "## [Video de presentación de esta propuesta de enseñanza para educación superior](https://www.youtube.com/watch?v=m4KUeeowJEM)"
   ]
  },
  {
   "cell_type": "markdown",
   "metadata": {
    "slideshow": {
     "slide_type": "slide"
    }
   },
   "source": [
    "# Aprende Machine Learning en la UdeA. \n"
   ]
  },
  {
   "cell_type": "markdown",
   "metadata": {
    "slideshow": {
     "slide_type": "slide"
    }
   },
   "source": [
    "## Estrategia didáctica para la enseñanza del Machine Learning con Python, bajo el enfoque pedagógico de aula invertida:   \n",
    "\n",
    "### Estrategia didáctica innovadora en educación superior"
   ]
  },
  {
   "cell_type": "markdown",
   "metadata": {
    "slideshow": {
     "slide_type": "slide"
    }
   },
   "source": [
    "<img src = 'https://github.com/marco-canas/7_didactica_ciencia_datos/blob/main/4_images/aprendiendo_machine_learning_en_la_udea.png?raw=true' width = 400>"
   ]
  },
  {
   "cell_type": "markdown",
   "metadata": {
    "slideshow": {
     "slide_type": "slide"
    }
   },
   "source": [
    "### [Repositorio en GitHub de publicación de esta propuesta:](https://github.com/marco-canas/didactica_ciencia_datos/tree/main/1_curso_machine_learning)"
   ]
  },
  {
   "cell_type": "markdown",
   "metadata": {
    "slideshow": {
     "slide_type": "slide"
    }
   },
   "source": [
    "### [El link del canal en YouTube que apoya el proceso de pedagogía investida que fundamenta esta propuesta es:]( https://www.youtube.com/channel/UCtvEEx-ddekEo0i98ys3pIw)  \n",
    "* y el nombre del canal es DiMathData.  \n",
    "@MARDATA "
   ]
  },
  {
   "cell_type": "markdown",
   "metadata": {
    "slideshow": {
     "slide_type": "slide"
    }
   },
   "source": [
    "## Unidad académica y programa académico  \n",
    "\n",
    "Facultad de Educación  \n",
    "\n"
   ]
  },
  {
   "cell_type": "markdown",
   "metadata": {
    "slideshow": {
     "slide_type": "slide"
    }
   },
   "source": [
    "Nombre del investigador principal: Marco Julio Cañas Campillo  \n",
    "Nombre de la Coinvestigadora: Luz Mariela Lopez Nohava. "
   ]
  },
  {
   "cell_type": "markdown",
   "metadata": {
    "slideshow": {
     "slide_type": "slide"
    }
   },
   "source": [
    "# Descripción del curso de Machine Learning para la UdeA"
   ]
  },
  {
   "cell_type": "markdown",
   "metadata": {},
   "source": [
    "Queremos que este curso sea aplicable para introducción en técnicas de machine learning en Bachillerato y Universidad, en cualquier programa de nuestra Universidad. \n",
    "\n",
    "Por eso, incluiremos datos de alcoholismo, por ejemplo. "
   ]
  },
  {
   "cell_type": "markdown",
   "metadata": {
    "slideshow": {
     "slide_type": "slide"
    }
   },
   "source": [
    "En esta propuesta se recoge experiencia didáctica para la enseñanza de la ciencia de datos a través de dos cursos: Machine Learning e Introducción al Machine Learning aplicada a estudiantes de noveno y décimo semestre de la Facultad de Ciencias Exactas y Naturales de la Universidad de Antioquia. "
   ]
  },
  {
   "cell_type": "markdown",
   "metadata": {
    "slideshow": {
     "slide_type": "slide"
    }
   },
   "source": [
    "Se presenta como una estrategia innovadora en la educación superior, porque ante la nueva realidad de educación virtual, que potencia el uso de los recursos digitales, se constituyó un proceso, que facilitó la interacción en el aprendizaje y el desarrollo de habilidades, basado en la constitución de un sistema articulado de recursos de enseñanza, apropiación del conocimiento y evaluación, que involucra a las plataformas GitHub de Microsoft, Colaboratory, YouTube, Kaggle, de Google y Jupyter, Spyder de Anaconda. "
   ]
  },
  {
   "cell_type": "markdown",
   "metadata": {
    "slideshow": {
     "slide_type": "slide"
    }
   },
   "source": [
    "Se considera una propuesta exitosa que se podría replicar transversalmente a varios programas regionalizados de la UdeA."
   ]
  },
  {
   "cell_type": "markdown",
   "metadata": {
    "slideshow": {
     "slide_type": "slide"
    }
   },
   "source": [
    "# Contexto  \n"
   ]
  },
  {
   "cell_type": "markdown",
   "metadata": {
    "slideshow": {
     "slide_type": "slide"
    }
   },
   "source": [
    "En el marco de la cuarta revolución industrial, las universidades incursionan en la formación curricular de los estudiantes hacia la apropiación de conocimientos y desarrollo de habilidades en la ciencia de datos, necesarios para la toma de decisiones acertadas en el mundo científico, industrial, empresarial. "
   ]
  },
  {
   "cell_type": "markdown",
   "metadata": {
    "slideshow": {
     "slide_type": "slide"
    }
   },
   "source": [
    "Dice (Schwab, 2016) que, en esta revolución, millones de nuevos empleos serán para quienes tengan la formación y competencias acordes a estas nuevas tendencias, en ese sentido el mayor desafío es “formar la fuerza laboral del futuro y, al mismo tiempo, ayudar a los trabajadores de hoy a hacer la transición a esta nueva economía” (6)."
   ]
  },
  {
   "cell_type": "markdown",
   "metadata": {
    "slideshow": {
     "slide_type": "slide"
    }
   },
   "source": [
    "Así mismo la (Universidad de Antioquia, 2017, 2021) plantea la innovación como un pilar fundamental que permite la asimilación y la adaptación a las tendencias globales de la ciencia y la tecnología para resolver problemáticas en clave de desarrollo territorial. "
   ]
  },
  {
   "cell_type": "markdown",
   "metadata": {
    "slideshow": {
     "slide_type": "slide"
    }
   },
   "source": [
    "En esa medida los docentes deben formar a los estudiantes hacia la capacidad de diversificar la estructura productiva en el ámbito económico y a responder a los retos de la transformación digital para la generación de los nuevos conocimientos que demanda el país."
   ]
  },
  {
   "cell_type": "markdown",
   "metadata": {
    "slideshow": {
     "slide_type": "slide"
    }
   },
   "source": [
    "En esa línea, la Universidad de Antioquia, ofertan asignaturas que apalancan los saberes de la ciencia de datos, sin embargo es a partir de la contingencia por el Covid-19, que el uso de las tecnologías para la modalidad de educación virtual se impuso como una opción ante la problemática del encierro obligatorio, pero también como una oportunidad de innovación didáctica, que obligó al docente a reinventarse y diseñar rápidamente estrategias, en la formación de los estudiantes para alcanzar objetivos concretos en el desarrollo de habilidades de pensamiento y competencias computacionales, que les facilitara, de forma creativa, la apropiación de los conocimientos, el análisis de la información y la automatización de los datos (Wu, Li, Chandru, y Daniel, 2022; Salas, Ramírez, Eslava, et al. 2022)."
   ]
  },
  {
   "cell_type": "markdown",
   "metadata": {
    "slideshow": {
     "slide_type": "slide"
    }
   },
   "source": [
    "Es en este contexto del uso de los lenguajes computacionales, la educación virtual y las tecnologías digitales, que un docente ubicado  en la región del Bajo Cauca, desarrolla  la estrategia didáctica para ofrecer los cursos Machine Learning, e Introducción al Machine Learning a los estudiantes de octavo, noveno y décimo semestre de los programas de Biología, Química, Estadística y Matemáticas de la Facultad de Ciencias Exactas y Naturales de la Universidad de Antioquia en el semestre 2021-2. "
   ]
  },
  {
   "cell_type": "markdown",
   "metadata": {
    "slideshow": {
     "slide_type": "slide"
    }
   },
   "source": [
    "Estos cursos se impartieron con la metodología de dinamización a través de la virtualidad por medio de las plataformas Meet y Teams utilizando los cuadernos Jupyter Notebook como espacios de presentación de contenido y de experimentación activa de los mismos, dicen (Wu et al.,2022) que “los apoyos didácticos basadas en multimedia son cada vez más populares en muchas disciplinas académicas” (p. 2), sabemos que en esos multimedios están incluidos todos los recursos digitales de las plataformas en internet."
   ]
  },
  {
   "cell_type": "markdown",
   "metadata": {
    "slideshow": {
     "slide_type": "slide"
    }
   },
   "source": [
    " Los estudiantes, ante estas estrategias, por ser de semestres avanzados tenían grandes conocimientos previos en el área de las asignaturas trabajadas en el aula, sin embargo mediante las evaluaciones aplicadas en los cursos,, se pudo percibir que para ellos las técnicas aportadas por el docente, les despertó inquietud y gran avidez, por lo que pudieron articular fácilmente esos saberes para desarrollar aún más sus habilidades como científicos de datos con capacidad para desenvolverse con éxito en los retos del mundo laboral que exige el mundo industrial, científico y social. "
   ]
  },
  {
   "cell_type": "markdown",
   "metadata": {
    "slideshow": {
     "slide_type": "slide"
    }
   },
   "source": [
    "Se espera así mismo que estos cursos puedan ser replicados en los programas regionalizados, con el fin de brindar las mismas opciones de educación vanguardista a todos los estudiantes de la universidad, independiente de la sede donde se encuentren."
   ]
  },
  {
   "cell_type": "markdown",
   "metadata": {
    "slideshow": {
     "slide_type": "slide"
    }
   },
   "source": [
    "# Objetivos de aprendizaje  "
   ]
  },
  {
   "cell_type": "markdown",
   "metadata": {
    "slideshow": {
     "slide_type": "slide"
    }
   },
   "source": [
    "1. Desarrollar habilidades en ciencia de datos en el contexto de los estudiantes de los programas de Biología, química, estadística y matemáticas de la Facultad de Ciencias Exactas y Naturales de la Universidad de Antioquia para la enseñanza y el aprendizaje de la ciencia de datos con el lenguaje Python.  \n",
    "\n",
    "2. Socializar el potencial del uso de herramientas tecnológicas como tutoriales YouTube, cuadernos Jupyter y Hub en el aprendizaje de los estudiantes universitarios de semestres avanzados.   \n",
    "\n",
    "3. Identificar cómo el uso del lenguaje Python facilita el análisis y automatización de la información en estudiantes de Ciencias Exactas y Naturales. \n",
    "Mejorar el conocimiento de las nuevas realidades, pero configurando una estructura de contenido interconectada, que permita la interactividad del estudiante con los recursos de aprendizaje.\n"
   ]
  },
  {
   "cell_type": "markdown",
   "metadata": {
    "slideshow": {
     "slide_type": "slide"
    }
   },
   "source": [
    "# Resultados de aprendizaje  "
   ]
  },
  {
   "cell_type": "markdown",
   "metadata": {
    "slideshow": {
     "slide_type": "slide"
    }
   },
   "source": [
    "Como resultado de esta estrategia didáctica, los estudiantes:  \n",
    " \n",
    "1. Desarrollan habilidades para obtener un dataset asociado a un problema investigativo o empresarial.  \n",
    "\n",
    "2. Constituyen un modelo predictivo de Machine Learning para realizar una tarea de clasificación o de regresión estimando su desempeño o poder de generalización.\n",
    "Están en capacidad de justificar la forma en que configuran su modelo.  \n",
    "\n",
    "3. Presentan el proceso de su construcción y lo exponen, con las interpretaciones de las predicciones, limitaciones y potencialidades, que hacen del modelo propuesto.\n",
    "Los estudiantes regionales podrán acceder a estos conocimientos porque se espera que estos productos de aprendizaje se pueda ofertar como cursos en los programas regionalizados.\n"
   ]
  },
  {
   "cell_type": "markdown",
   "metadata": {
    "slideshow": {
     "slide_type": "slide"
    }
   },
   "source": [
    "# Rol del docente y del estudiante"
   ]
  },
  {
   "cell_type": "markdown",
   "metadata": {
    "slideshow": {
     "slide_type": "slide"
    }
   },
   "source": [
    " Viñals y Cuenca, (2016) dice que los nuevos roles del docente para la era digital son: organizador, guía, generador, acompañante, coach, gestor del aprendizaje, orientador, facilitador, tutor, dinamizador o asesor. Viñals establece que estos roles cambian la idea de que la educación es unidireccional por una educación horizontal, abundante, caótica y desestructurada. Ya los modelos de enseñanza aprendizaje son modelos no centrados en el profesor, sino en el estudiante.\n",
    " Los docentes se enfrentan al reto de adquirir unas competencias que les formen para poder ayudar al alumnado a desarrollar las competencias que necesitan: conocimientos, habilidades y actitudes precisas para alcanzar los objetivos que se exigen desde el propio currículo formal (competencia digital y aprender a aprender, entre otras) para lograr adaptarse a las exigencias del mercado laboral, y aún más importante si cabe, para poder descubrir sus verdaderas motivaciones, intereses e inquietudes. Estos roles van en consonancia con la concepción de aprendizaje como actividad experimental y activa. \n"
   ]
  },
  {
   "cell_type": "markdown",
   "metadata": {
    "slideshow": {
     "slide_type": "slide"
    }
   },
   "source": [
    "# Factor diferenciador "
   ]
  },
  {
   "cell_type": "markdown",
   "metadata": {
    "slideshow": {
     "slide_type": "slide"
    }
   },
   "source": [
    "Aunque hay una tendencia generalizada en un alto porcentaje de las universidades del mundo en formar en ciencia de datos (Wu, Li, Chandru, y Daniel, 2022; Fan, X.; Zhong, X. (2022); ), y se construyen repositorios de vídeos de apoyo a las clases diseñadas en cuadernos Jupyter, nuestro factor diferenciador es que los videos del curso se articulan con los cuadernos, y estos cuadernos se les presentan al estudiante de forma dinámica, de tal forma que pueda vincularlos con facilidad a plataformas en línea como Google Colab, YouTube, GitHub para que puedan leerlos de manera experimental, interactiva y activa. \n",
    "Además, el acceso a las notas de clase, banco de ejemplo, y banco de problemas es público, ya que la red social GitHub lo es. Esto hace que el saber estructurado en esta estrategia didáctica sea de libre acceso y gratuito para cualquier estudiante del mundo. \n",
    "Y buscamos que la enseñanza de la ciencia de datos sea vinculada en el programa curricular de cada carrera en la Universidad de Antioquia dada la transversalidad que este saber tiene en todos los campos del saber que la universidad articula en la docencia, la investigación y la extensión. \n"
   ]
  },
  {
   "cell_type": "markdown",
   "metadata": {
    "slideshow": {
     "slide_type": "slide"
    }
   },
   "source": [
    "# Evidencias  "
   ]
  },
  {
   "cell_type": "markdown",
   "metadata": {
    "slideshow": {
     "slide_type": "slide"
    }
   },
   "source": [
    "Como evidencias de la estrategia se pueden corroborar:  \n",
    "\n",
    "- Dos repositorios en GitHub con las clases diseñadas, un banco de ejemplos y un banco de problemas. \n",
    "https://github.com/marco-canas/intro-Machine-Learning\n",
    "https://github.com/marco-canas/machine_learning\n",
    "- Un canal en la red social YouTube llamado Dimathdata(Didáctica de la matemática y la ciencia de datos)\n",
    "https://www.youtube.com/results?search_query=marco+julio+ca%C3%B1as+campillo\n",
    "- Videos de las exposiciones finales de los estudiantes sobre Modelos en Machine Learning de regresión y clasificación.\n",
    "- La evaluación de los estudiantes al docente en el que se ve reflejada la aceptación de estos hacia la estrategia didáctica aplicada en el aula \n"
   ]
  },
  {
   "cell_type": "markdown",
   "metadata": {
    "slideshow": {
     "slide_type": "slide"
    }
   },
   "source": [
    "# Plan de evaluación "
   ]
  },
  {
   "cell_type": "markdown",
   "metadata": {
    "slideshow": {
     "slide_type": "slide"
    }
   },
   "source": [
    "Lezcano y Vilanova, (2017) recomienda que la evaluación de formación en y para entornos virtuales debe tener una retroalimentación casi inmediata y en la aplicación de esta propuesta así se hizo, reuniéndose con los estudiantes y enviándoles a sus correos su nota y las observaciones a su trabajo y el reconocimiento de lo que como docentes aprendimos en la evaluación. \n",
    "Fue así como el diseño de las rúbricas para la evaluación de los trabajos finales de construcción de modelos de Machine learning de Clasificación y regresión, estuvieron inspiradas por este autor."
   ]
  },
  {
   "cell_type": "markdown",
   "metadata": {
    "slideshow": {
     "slide_type": "slide"
    }
   },
   "source": [
    "Entonces en **el plan de evaluación**:  \n",
    "\n",
    "* Se realizaron tres quices y un parcial en línea con preguntas tipo ensayo y en tipo encuesta para evaluar la adquisición de los conceptos referentes al manejo del lenguaje Python para ciencia de datos, específicamente de las librerías NumPy, Pandas, Matplotlib y SciKit Learn."
   ]
  },
  {
   "cell_type": "markdown",
   "metadata": {
    "slideshow": {
     "slide_type": "slide"
    }
   },
   "source": [
    " \n",
    "La evaluación también incluyó dos componentes:  \n",
    "\n",
    "* Un primer componente teórico de medición de comprensión teórica del Lenguaje Python, y de los modelos lineales y no lineales del Machine Learning, y de comprensión de las metodologías de preprocesamiento de datos, selección de modelos y afinamiento de estos.  \n",
    "\n",
    "* Un segundo componente de habilidad de codificación de los algoritmos de visualización de datos, y construcción de modelos de regresión y clasificación.   \n",
    "\n",
    "* Trabajo de modelación final con exposición por equipos donde se midió las habilidades para comunicar conocimiento, específicamente la habilidad de comunicar los conocimientos referentes a la resolución de los problemas más frecuentes en aprendizaje supervisado."
   ]
  },
  {
   "cell_type": "markdown",
   "metadata": {
    "slideshow": {
     "slide_type": "slide"
    }
   },
   "source": [
    "# Metodología resumida en forma gráfica"
   ]
  },
  {
   "cell_type": "markdown",
   "metadata": {
    "slideshow": {
     "slide_type": "slide"
    }
   },
   "source": [
    "1. python <img src = 'https://es.schoolofdata.org/files/2017/07/python-logo-master-v3-TM-flattened.png' width = 300>"
   ]
  },
  {
   "cell_type": "markdown",
   "metadata": {
    "slideshow": {
     "slide_type": "slide"
    }
   },
   "source": [
    "2. estadística<img src = 'https://i2.wp.com/intellspot.com/wp-content/uploads/2017/11/descriptive-statistic-spreadsheet-and-pie-chart.png?resize=720%2C437' width = 200>"
   ]
  },
  {
   "cell_type": "markdown",
   "metadata": {
    "slideshow": {
     "slide_type": "slide"
    }
   },
   "source": [
    "4. regresión <img src = 'https://miro.medium.com/v2/resize:fit:768/1*4gnkLpCuZ5dEXvF4e0ervg.jpeg' width = 200>"
   ]
  },
  {
   "cell_type": "markdown",
   "metadata": {
    "slideshow": {
     "slide_type": "slide"
    }
   },
   "source": [
    "5. clasificación <img src = 'https://scikit-learn.org/stable/_images/sphx_glr_plot_classification_001.png' width = 200>"
   ]
  },
  {
   "cell_type": "markdown",
   "metadata": {
    "slideshow": {
     "slide_type": "slide"
    }
   },
   "source": [
    "# Metodología o secuencia de enseñanza detallada \n",
    "\n",
    "Secuencia didáctica de la Unidad didáctica para la ciencia de datos\n",
    "\n",
    "1.\tIntroducción al lenguaje de programación Python con enfoque hacia la ciencia de datos. \n",
    "    * tipos de datos en Python  \n"
   ]
  },
  {
   "cell_type": "markdown",
   "metadata": {
    "slideshow": {
     "slide_type": "slide"
    }
   },
   "source": [
    "<img src=\"https://inceptor.co.ke/wp-content/uploads/2019/09/Python-for-data-science-in-kenya.png\" width = 200>"
   ]
  },
  {
   "cell_type": "markdown",
   "metadata": {
    "slideshow": {
     "slide_type": "slide"
    }
   },
   "source": [
    " -\tEstructuras de datos:   \n",
    "    * listas, \n",
    "    * tuplas, \n",
    "    * diccionarios, \n",
    "    * vectores y matrices de NumPy (nd-array),    \n",
    " "
   ]
  },
  {
   "cell_type": "markdown",
   "metadata": {
    "slideshow": {
     "slide_type": "slide"
    }
   },
   "source": [
    "       \n",
    "<table align=\"center\">\n",
    "  <td>\n",
    "    <img src=\"https://upload.wikimedia.org/wikipedia/commons/thumb/3/31/NumPy_logo_2020.svg/180px-NumPy_logo_2020.svg.png\" alt=\"Open In Colab\"/></a>\n",
    "  </td>\n",
    "</table>  "
   ]
  },
  {
   "cell_type": "markdown",
   "metadata": {
    "slideshow": {
     "slide_type": "slide"
    }
   },
   "source": [
    "* DataFrame:  \n",
    " "
   ]
  },
  {
   "cell_type": "markdown",
   "metadata": {
    "slideshow": {
     "slide_type": "slide"
    }
   },
   "source": [
    "       \n",
    "<img src=\"https://www.datocms-assets.com/14946/1628604937-pandas.png?auto=format&corner-radius=16&dpr=1.5&fit=crop&h=312&mask=corners&q=45&w=568\" width = 200>\n",
    " "
   ]
  },
  {
   "cell_type": "markdown",
   "metadata": {
    "slideshow": {
     "slide_type": "slide"
    }
   },
   "source": [
    "1.\tElementos de estadística para la ciencia de datos: \n",
    "    - Estadística descriptiva: \n",
    "       *\tMedidas de tendencia central\n",
    "       *\tMedidas de dispersión\n",
    "    - Estadística inferencial: \n",
    "       * La distribución de probabilidad normal\n",
    "       * La distribución de probabilidad uniforme. \n",
    "       * Análisis de correlaciones\n",
    "\n",
    "2.\tObtención de datos  \n",
    "\n",
    "3.\tVisualización de datos   \n",
    "\n",
    "\n",
    "<table align=\"center\">\n",
    "  <td>\n",
    "    <img src=\"https://static.javatpoint.com/tutorial/matplotlib/images/matplotlib-tutorial.png\" alt=\"Open In Colab\"/></a>\n",
    "  </td>\n",
    "</table>    \n",
    "\n"
   ]
  },
  {
   "cell_type": "markdown",
   "metadata": {
    "slideshow": {
     "slide_type": "slide"
    }
   },
   "source": [
    "\n",
    "4.\tPreprocesamiento de datos para un modelo de regresión    \n",
    "\n",
    "5.\tPreprocesamiento de datos para un modelo de clasificación  \n",
    "\n",
    "6.\tSelección de algoritmos de regresión   \n",
    "\n",
    "7.\tSelección de algoritmos de clasificación  \n",
    "\n",
    "8.\tMedidas de desempeño para un modelo de regresión  \n",
    "\n",
    "9.\tMedidas de desempeño para un modelo de clasificación  \n",
    "\n",
    "10.\tRedes neuronales Artificiales secuenciales para regresión y clasificación.  \n"
   ]
  },
  {
   "cell_type": "code",
   "execution_count": null,
   "metadata": {},
   "outputs": [],
   "source": []
  },
  {
   "cell_type": "markdown",
   "metadata": {
    "slideshow": {
     "slide_type": "slide"
    }
   },
   "source": [
    "## Glosario"
   ]
  },
  {
   "cell_type": "markdown",
   "metadata": {
    "slideshow": {
     "slide_type": "slide"
    }
   },
   "source": [
    "* **Machine Learning**: es el campo de estudio que le da a las computadoras la capacidad de aprender sin ser programadas explícitamente. Se dice que un programa de computadora aprende de la experiencia $E$ con respecto a alguna tarea T y alguna medida de desempeño P, si su desempeño en T, medido por P, mejora con la experiencia E.\n",
    "                              "
   ]
  },
  {
   "cell_type": "markdown",
   "metadata": {
    "slideshow": {
     "slide_type": "slide"
    }
   },
   "source": [
    "* **Lenguaje Python**  es un lenguaje de programación de propósito general y alto nivel. Su filosofía de diseño enfatiza la legibilidad del código con el uso de sangría significativa.\n",
    "\n",
    "Admite múltiples paradigmas de programación, incluida la programación estructurada (particularmente procedimental), orientada a objetos y funcional. A menudo se describe como un lenguaje de \"baterías incluidas\" debido a su completa biblioteca estándar.\n",
    "\n",
    "Guido van Rossum comenzó a trabajar en Python a fines de la década de 1980 como sucesor del lenguaje de programación ABC y lo lanzó por primera vez en 1991 como Python 0.9.0. Python 2.0 se lanzó en 2000 e introdujo nuevas funciones, como la comprensión de listas, la recolección de elementos no utilizados con detección de ciclos, el recuento de referencias y la compatibilidad con Unicode. Python 3.0, lanzado en 2008, fue una revisión importante que no es completamente compatible con versiones anteriores. Python 2 se suspendió con la versión 2.7.1\n",
    "\n",
    "Python se clasifica constantemente como uno de los lenguajes de programación más populares.  "
   ]
  },
  {
   "cell_type": "markdown",
   "metadata": {
    "slideshow": {
     "slide_type": "slide"
    }
   },
   "source": [
    "* **Sklearn**: es una biblioteca de aprendizaje automático de software libre para el lenguaje de programación Python. Cuenta con varios algoritmos de clasificación, regresión y agrupamiento, que incluyen máquinas de vectores de soporte, bosques aleatorios, aumento de gradiente, k-means y DBSCAN, y está diseñado para interactuar con las bibliotecas numéricas y científicas de Python NumPy y SciPy. Scikit-learn es un proyecto patrocinado fiscalmente por NumFOCUS.    "
   ]
  },
  {
   "cell_type": "markdown",
   "metadata": {
    "slideshow": {
     "slide_type": "slide"
    }
   },
   "source": [
    "* **GitHub de Microsoft**: GitHub es una plataforma de desarrollo colaborativo en línea que permite a los programadores alojar y controlar versiones de proyectos de software. Es especialmente popular entre los desarrolladores de software y otros profesionales de tecnología, y se utiliza ampliamente para el almacenamiento y gestión de código fuente y proyectos de software.\n",
    "\n",
    "En GitHub, los usuarios pueden crear repositorios para alojar proyectos de software y colaborar con otros programadores en el desarrollo de esos proyectos. Los repositorios pueden ser públicos o privados, y los usuarios pueden utilizar GitHub para controlar versiones de código, rastrear cambios y resolver problemas de forma colaborativa.\n",
    "\n",
    "Además de alojar proyectos de software, GitHub también ofrece una serie de herramientas y recursos para desarrolladores, incluyendo un sistema de seguimiento de problemas, integraciones con otras plataformas y herramientas de colaboración en línea. También es común utilizar GitHub como una plataforma de alojamiento para sitios web estáticos.    "
   ]
  },
  {
   "cell_type": "markdown",
   "metadata": {
    "slideshow": {
     "slide_type": "slide"
    }
   },
   "source": [
    "\n",
    "* **Representación geométrica para datos**: Algunas de las representaciones geométricas más comunes para datos incluyen:\n",
    "\n",
    "  - Diagramas de barras: son útiles para comparar valores absolutos o relativos de distintas categorías.\n",
    "\n",
    "  - Gráficos de línea: son adecuados para visualizar cambios en una variable a lo largo del tiempo.\n",
    "\n",
    "  - Gráficos de dispersión: son útiles para mostrar la relación entre dos variables.\n",
    "\n",
    "  - Gráficos de torta: son útiles para mostrar la relación de partes de un todo.\n",
    "\n",
    "  - Diagramas de árbol: son útiles para mostrar relaciones jerárquicas entre diferentes elementos.\n",
    "\n",
    "Antes de elegir una representación gráfica para tus datos, es importante considerar el tipo de información que quieres mostrar y el público al que va dirigido el gráfico. Algunos gráficos pueden ser más fáciles de interpretar que otros dependiendo del contexto y del conocimiento previo del público.\n",
    "\n"
   ]
  },
  {
   "cell_type": "markdown",
   "metadata": {
    "slideshow": {
     "slide_type": "slide"
    }
   },
   "source": [
    "# Factores críticos "
   ]
  },
  {
   "cell_type": "markdown",
   "metadata": {
    "slideshow": {
     "slide_type": "slide"
    }
   },
   "source": [
    "* **Google Colab o colaboratory**:   \n",
    "\n",
    "* **Kaggle de Google**:  \n",
    "\n",
    "* **Jupyter Notebook**:  \n",
    "\n",
    "* **Numpy**:  \n",
    "\n",
    "* **Pandas**:  \n",
    "\n",
    "* **Matplotlib** "
   ]
  },
  {
   "cell_type": "markdown",
   "metadata": {
    "slideshow": {
     "slide_type": "slide"
    }
   },
   "source": [
    "La oferta curricular del curso de Machine Learning u otros afines a la ciencia de datos, que son transversales a diferentes programas que, por su quehacer profesional, requieren para el buen desempeño empresarial, científico y académico en el mundo de hoy. "
   ]
  },
  {
   "cell_type": "markdown",
   "metadata": {
    "slideshow": {
     "slide_type": "slide"
    }
   },
   "source": [
    "Estos factores críticos son replicables en los programas regionalizados a los que habría que hacerle unos ajustes curriculares de acuerdo a las tendencias globales de la ciencia y la tecnología que demanda la enseñanza en la educación superior de la ciencia de datos. "
   ]
  },
  {
   "cell_type": "markdown",
   "metadata": {
    "slideshow": {
     "slide_type": "slide"
    }
   },
   "source": [
    "Así lo explicita el Plan de Desarrollo Institucional 2017-2027 y el Plan de Acción 2021-2024 de la UdeA, cuando habla de la evolución de los procesos de formación con equidad e inclusión."
   ]
  },
  {
   "cell_type": "markdown",
   "metadata": {
    "slideshow": {
     "slide_type": "slide"
    }
   },
   "source": [
    "Y es que la enseñanza de la ciencia de dados como tendencia universal en la educación superior, es trasversal a todas las áreas del conocimiento, por lo que se pretende que esta estrategia innovadora se incluya como asignatura, en los programas de las licenciaturas en educación, ingenierías, y Ciencias Exactas y naturales que tienen presencia en la región, para que también estos estudiantes salten al mundo profesional, empresarial e industrial, con las mismas capacidades y oportunidades que los de las sedes de Medellín.    "
   ]
  },
  {
   "cell_type": "markdown",
   "metadata": {
    "slideshow": {
     "slide_type": "slide"
    }
   },
   "source": [
    "# Agradecimientos  \n",
    "\n",
    "*  Al profesor Yuber Hernany Tapias Arboleda. \n",
    "\n",
    "* A mi esposa Valiosa y amada Yasmira"
   ]
  },
  {
   "cell_type": "markdown",
   "metadata": {
    "slideshow": {
     "slide_type": "slide"
    }
   },
   "source": [
    "## Referentes  "
   ]
  },
  {
   "cell_type": "markdown",
   "metadata": {
    "slideshow": {
     "slide_type": "slide"
    }
   },
   "source": [
    "\n",
    "* Lezcano, L.; Vilanova, G. (2017). Instrumentos de evaluación de aprendizaje en entornos virtuales. Perspectiva de estudiantes y aportes de docentes. file:///C:/Users/Usuario/Downloads/Dialnet-InstrumentosDeEvaluacionDeAprendizajeEnEntornosVir-5919087%20(1).pdf\n",
    "\n",
    "* Mendoza Jurado, H. F. (2018).  Ciencia de datos una alternativa de análisis al crecimiento pedagógico del estudiante en educación superior. http://www.scielo.org.bo/scielo.php?pid=S2518-82832018000200006&script=sci_abstract\n",
    "\n",
    " * Monleon-Getino, A. y Jaume Canela-Soler, J., (2021). La llegada de la ciencia de los datos en el entorno de la docencia universitaria de las ciencias de la vida y de la salud: propuestas para la adaptación de las asignaturas de matemáticas, estadística y análisis de datos. Romero García, En: Romero García, C. y Buzón García, O.  Innovación e investigación docente en educación: experiencias prácticas. https://bit.ly/3FATf0S\n",
    "\n",
    "* Salas-Rueda,R.A.; Ramírez-Ortega, J.; Eslava-Cervantes, et al. (2022).  Percepción de los profesores sobre los juegos web y dispositivos móviles en el nivel educativo superior durante la pandemia COVID-19. https://doi-org.udea.lookproxy.com/10.35699/1983-3652.2022.37074  \n",
    "\n",
    "* Schwab, K.M. (2016). La cuarta Revolución industrial. World Economic Forum.  http://40.70.207.114/documentosV2/La%20cuarta%20revolucion%20industrial-Klaus%20Schwab%20(1).pdf \n",
    "Universidad de Antioquia, (2017). Plan de desarrollo 2017-2027: Una universidad Innovadora para la transformación de los territorios. http://www2.udea.edu.co/webmaster/multimedia/plan-desarrollo-udea/plan-desarrollo-udea.pdf\n",
    "Universidad de Antioquia. (2021). Plan de Acción Institucional 2021-2024: Una universidad solidaria comprometida con la vida, la equidad y la diversidad, con visión global y pertinente frente a los retos de la sociedad. https://bit.ly/3wpr6pk\n",
    "Viñals Blanco, A.; Cuenca Amigo, J. (2016).  El rol del docente en la era digital. https://bit.ly/3L7HGzo \n"
   ]
  },
  {
   "cell_type": "markdown",
   "metadata": {},
   "source": []
  }
 ],
 "metadata": {
  "celltoolbar": "Slideshow",
  "kernelspec": {
   "display_name": "Python 3 (ipykernel)",
   "language": "python",
   "name": "python3"
  },
  "language_info": {
   "codemirror_mode": {
    "name": "ipython",
    "version": 3
   },
   "file_extension": ".py",
   "mimetype": "text/x-python",
   "name": "python",
   "nbconvert_exporter": "python",
   "pygments_lexer": "ipython3",
   "version": "3.9.13"
  },
  "rise": {
   "enable_chalkboard": true,
   "theme": "sky"
  },
  "vscode": {
   "interpreter": {
    "hash": "ae115c8122ba000a648ea691cf086e95841d767d998fc7ed45e791bf48fd755e"
   }
  }
 },
 "nbformat": 4,
 "nbformat_minor": 2
}
