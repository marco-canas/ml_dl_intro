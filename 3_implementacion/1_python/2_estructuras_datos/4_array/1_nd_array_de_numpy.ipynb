{
 "cells": [
  {
   "cell_type": "markdown",
   "id": "02b860a2",
   "metadata": {
    "slideshow": {
     "slide_type": "slide"
    }
   },
   "source": [
    "<table align=\"left\">\n",
    "  <td>\n",
    "    <a href=\"https://colab.research.google.com/github/marco-canas/didactica_ciencia_datos/blob/main/1_curso_machine_learning/1_python/2_estructuras_datos/4_array/1_nd_array_de_numpy.ipynb\" target=\"_parent\"><img src=\"https://colab.research.google.com/assets/colab-badge.svg\" alt=\"Open In Colab\"/></a>\n",
    "  </td>\n",
    "</table>"
   ]
  },
  {
   "cell_type": "markdown",
   "id": "62026a9e",
   "metadata": {
    "slideshow": {
     "slide_type": "slide"
    }
   },
   "source": [
    "### [Video de apoyo a la lectura interactiva y experimental de este cuaderno](https://www.youtube.com/watch?v=dlJUq5GXRKE&t=183s)"
   ]
  },
  {
   "cell_type": "markdown",
   "id": "21524148",
   "metadata": {
    "slideshow": {
     "slide_type": "slide"
    }
   },
   "source": [
    "# La librería NumPy de Python y su estructura de datos insignia que es el nb-array"
   ]
  },
  {
   "cell_type": "markdown",
   "id": "71a0e89c",
   "metadata": {},
   "source": [
    "<img src = 'https://www.w3resource.com/w3r_images/numpy-1d-2d-3d-array.png'>"
   ]
  },
  {
   "cell_type": "markdown",
   "id": "c7d2caff",
   "metadata": {},
   "source": [
    "El `nd-array` de NumPy (abreviatura de \"N-dimensional array\") es una estructura de datos fundamental en la biblioteca NumPy de Python, diseñada específicamente para manejar grandes cantidades de datos numéricos de forma eficiente. "
   ]
  },
  {
   "cell_type": "markdown",
   "id": "8627ac7e",
   "metadata": {},
   "source": [
    "A diferencia de las listas de Python, que permiten almacenar datos heterogéneos pero son menos eficientes para operaciones numéricas intensivas, los `nd-arrays` están optimizados para cálculos matemáticos y científicos debido a su estructura interna basada en bloques de memoria contiguos y su compatibilidad con operaciones vectorizadas. \n"
   ]
  },
  {
   "cell_type": "markdown",
   "id": "994ce1d0",
   "metadata": {},
   "source": [
    "\n",
    "### Naturaleza de un `nd-array`\n"
   ]
  },
  {
   "cell_type": "markdown",
   "id": "6c5d4dfc",
   "metadata": {},
   "source": [
    "Un `nd-array` es esencialmente una matriz multidimensional de datos del mismo tipo (por ejemplo, solo enteros o solo flotantes). "
   ]
  },
  {
   "cell_type": "markdown",
   "id": "44da77cf",
   "metadata": {},
   "source": [
    "Es la base de la mayoría de las aplicaciones en ciencia de datos, machine learning y computación científica en Python, ya que permite realizar operaciones complejas de manera muy rápida y eficiente. "
   ]
  },
  {
   "cell_type": "markdown",
   "id": "135654cf",
   "metadata": {},
   "source": [
    "Los `nd-arrays` están diseñados para trabajar con operaciones vectorizadas, lo que significa que podemos aplicar operaciones aritméticas y funciones matemáticas a todos los elementos de un array sin tener que usar bucles explícitos en Python. \n"
   ]
  },
  {
   "cell_type": "markdown",
   "id": "3b7b7279",
   "metadata": {},
   "source": [
    "\n",
    "### Propiedades clave de un `nd-array`\n"
   ]
  },
  {
   "cell_type": "markdown",
   "id": "c7f0e422",
   "metadata": {},
   "source": [
    "Estas propiedades y atributos describen la estructura, el tipo de datos y la disposición del `nd-array` en memoria, lo que afecta directamente el rendimiento y la capacidad de manejar datos.\n"
   ]
  },
  {
   "cell_type": "markdown",
   "id": "74c5e9a0",
   "metadata": {},
   "source": [
    "\n",
    "1. **`shape`**: Describe las dimensiones del array, proporcionando una tupla de enteros que representa el número de elementos en cada dimensión. "
   ]
  },
  {
   "cell_type": "markdown",
   "id": "6c9a522a",
   "metadata": {},
   "source": [
    "Por ejemplo, un array de `shape` `(3, 2)` tiene 3 filas y 2 columnas.\n"
   ]
  },
  {
   "cell_type": "code",
   "execution_count": null,
   "id": "d14f090d",
   "metadata": {},
   "outputs": [],
   "source": [
    "import numpy as np \n",
    "array = np.array([[1, 2], [3, 4], [5, 6]])\n",
    "print(array.shape)  # Salida: (3, 2)\n",
    "\n"
   ]
  },
  {
   "cell_type": "markdown",
   "id": "d8e73381",
   "metadata": {},
   "source": [
    "\n",
    "2. **`ndim`**: Indica el número de dimensiones (o ejes) del array. Un array de 1 dimensión es una lista de elementos, mientras que un array de 2 dimensiones es una matriz, y así sucesivamente.\n"
   ]
  },
  {
   "cell_type": "code",
   "execution_count": null,
   "id": "d42f5bce",
   "metadata": {},
   "outputs": [],
   "source": [
    "print(array.ndim)  # Salida: 2\n",
    "\n"
   ]
  },
  {
   "cell_type": "markdown",
   "id": "6dfb5fbb",
   "metadata": {},
   "source": [
    "\n",
    "3. **`dtype`**: Define el tipo de datos de los elementos en el array. "
   ]
  },
  {
   "cell_type": "markdown",
   "id": "9f0f350c",
   "metadata": {},
   "source": [
    "NumPy soporta tipos de datos como `int32`, `float64`, `bool`, entre otros. "
   ]
  },
  {
   "cell_type": "markdown",
   "id": "08562ae6",
   "metadata": {},
   "source": [
    "El `dtype` es crucial para asegurar la compatibilidad y optimización en operaciones.\n"
   ]
  },
  {
   "cell_type": "code",
   "execution_count": null,
   "id": "536988c7",
   "metadata": {},
   "outputs": [],
   "source": [
    "print(array.dtype)  # Salida: int32 (dependiendo del sistema)\n",
    "\n"
   ]
  },
  {
   "cell_type": "markdown",
   "id": "ffc22a38",
   "metadata": {},
   "source": [
    "\n",
    "4. **`size`**: Representa el número total de elementos en el array, calculado como el producto de todos los elementos de `shape`.\n"
   ]
  },
  {
   "cell_type": "code",
   "execution_count": null,
   "id": "52423bdf",
   "metadata": {},
   "outputs": [],
   "source": [
    "print(array.size)  # Salida: 6 (en este caso, 3 filas * 2 columnas)\n",
    "\n"
   ]
  },
  {
   "cell_type": "markdown",
   "id": "98c05cf0",
   "metadata": {},
   "source": [
    "\n",
    "5. **`itemsize`**: Muestra el tamaño en bytes de cada elemento en el array, lo cual es útil para estimar el consumo de memoria de grandes conjuntos de datos.\n"
   ]
  },
  {
   "cell_type": "code",
   "execution_count": null,
   "id": "7344e4ac",
   "metadata": {},
   "outputs": [],
   "source": [
    "print(array.itemsize)  # Salida: 4 (cada elemento int32 ocupa 4 bytes)\n",
    "\n"
   ]
  },
  {
   "cell_type": "markdown",
   "id": "d1e12ff5",
   "metadata": {},
   "source": [
    "\n",
    "6. **`nbytes`**: Da el tamaño total en bytes del array, calculado como `size * itemsize`. Esta propiedad es útil para saber cuánto espacio ocupa el array en la memoria.\n"
   ]
  },
  {
   "cell_type": "code",
   "execution_count": null,
   "id": "c8175ead",
   "metadata": {},
   "outputs": [],
   "source": [
    "print(array.nbytes)  # Salida: 24 (en este caso, 6 elementos * 4 bytes)\n",
    "\n"
   ]
  },
  {
   "cell_type": "markdown",
   "id": "f0c90465",
   "metadata": {},
   "source": [
    "\n",
    "### Propiedades adicionales que facilitan operaciones en machine learning\n"
   ]
  },
  {
   "cell_type": "markdown",
   "id": "b4520396",
   "metadata": {},
   "source": [
    "Además de las propiedades estructurales, los `nd-arrays` permiten un manejo efectivo de operaciones matemáticas, broadcasting, y manipulación de grandes volúmenes de datos:\n"
   ]
  },
  {
   "cell_type": "markdown",
   "id": "bb96ab11",
   "metadata": {},
   "source": [
    "\n",
    "- **Operaciones vectorizadas**: Se pueden aplicar operaciones directamente sobre el array sin necesidad de escribir bucles explícitos, lo que mejora el rendimiento.\n"
   ]
  },
  {
   "cell_type": "code",
   "execution_count": null,
   "id": "b29a6bf1",
   "metadata": {},
   "outputs": [],
   "source": [
    "array = np.array([1, 2, 3, 4])\n",
    "array_doble = array * 2\n",
    "print(array_doble)  # Salida: [2, 4, 6, 8]\n",
    "\n"
   ]
  },
  {
   "cell_type": "markdown",
   "id": "c7d0d04d",
   "metadata": {},
   "source": [
    "\n",
    "# - **Broadcasting**: "
   ]
  },
  {
   "cell_type": "markdown",
   "id": "a0b32a8b",
   "metadata": {},
   "source": [
    "Permite realizar operaciones entre arrays de diferentes dimensiones sin necesidad de cambiar su forma manualmente. "
   ]
  },
  {
   "cell_type": "markdown",
   "id": "524ca455",
   "metadata": {},
   "source": [
    "Esto es especialmente útil en machine learning cuando los datos necesitan ser escalados o combinados.\n"
   ]
  },
  {
   "cell_type": "code",
   "execution_count": null,
   "id": "821b73d0",
   "metadata": {},
   "outputs": [],
   "source": [
    "import numpy as np \n"
   ]
  },
  {
   "cell_type": "code",
   "execution_count": null,
   "id": "78b2f282",
   "metadata": {},
   "outputs": [],
   "source": [
    "matriz = np.array([[1, 2, 3], [4, 5, 6]])\n",
    "matriz"
   ]
  },
  {
   "cell_type": "code",
   "execution_count": null,
   "id": "2bb01e6d",
   "metadata": {},
   "outputs": [],
   "source": [
    "escalar = 2\n",
    "escalar "
   ]
  },
  {
   "cell_type": "code",
   "execution_count": null,
   "id": "ddb10975",
   "metadata": {},
   "outputs": [],
   "source": [
    "matriz + escalar\n",
    "  # Salida:\n",
    "  # [[3 4 5]\n",
    "  #  [6 7 8]]\n",
    "\n",
    "print(matriz + escalar)"
   ]
  },
  {
   "cell_type": "markdown",
   "id": "6771499d",
   "metadata": {},
   "source": [
    "\n",
    "- **Slicing y acceso por índice**: Los `nd-arrays` permiten seleccionar y modificar subconjuntos de datos mediante índices y \"slicing\", lo cual facilita el procesamiento y preprocesamiento de datos en proyectos de ciencia de datos y machine learning.\n"
   ]
  },
  {
   "cell_type": "code",
   "execution_count": null,
   "id": "1ea7e2c3",
   "metadata": {},
   "outputs": [],
   "source": [
    "matriz "
   ]
  },
  {
   "cell_type": "code",
   "execution_count": null,
   "id": "511c2560",
   "metadata": {},
   "outputs": [],
   "source": [
    "matriz[:, 2]"
   ]
  },
  {
   "cell_type": "markdown",
   "id": "3f04c210",
   "metadata": {},
   "source": [
    "\n",
    "- **Funcionalidad para álgebra lineal**: NumPy incluye funciones como `dot()` para productos escalares y matriciales, `transpose()` para transposición, y `linalg` para operaciones de álgebra lineal avanzadas. "
   ]
  },
  {
   "cell_type": "code",
   "execution_count": null,
   "id": "cb64b632",
   "metadata": {},
   "outputs": [],
   "source": [
    "matriz.T"
   ]
  },
  {
   "cell_type": "code",
   "execution_count": null,
   "id": "0b9ad048",
   "metadata": {},
   "outputs": [],
   "source": [
    "matriz.transpose() "
   ]
  },
  {
   "cell_type": "code",
   "execution_count": null,
   "id": "51255ffd",
   "metadata": {},
   "outputs": [],
   "source": [
    "matriz[0, :].dot(matriz[0,:])"
   ]
  },
  {
   "cell_type": "markdown",
   "id": "a2feaf38",
   "metadata": {},
   "source": [
    "# Producto escalar entre dos vectores de $R^{2}$ \n",
    "\n",
    "$$ a \\cdot b = a_{1}b_1 + a_2b_2 $$"
   ]
  },
  {
   "cell_type": "markdown",
   "id": "1c2667cc",
   "metadata": {},
   "source": [
    "Estas capacidades hacen que el `nd-array` sea ideal para modelado y análisis de datos, redes neuronales, y otras aplicaciones en machine learning.\n"
   ]
  },
  {
   "cell_type": "markdown",
   "id": "7e68f7ec",
   "metadata": {},
   "source": [
    "\n",
    "### Resumen\n"
   ]
  },
  {
   "cell_type": "markdown",
   "id": "f2a0502f",
   "metadata": {},
   "source": [
    "El `nd-array` de NumPy es una estructura altamente optimizada que permite operaciones eficientes y rápidas en cálculos numéricos y científicos. "
   ]
  },
  {
   "cell_type": "markdown",
   "id": "44a81312",
   "metadata": {},
   "source": [
    "Su uso es fundamental en machine learning y ciencia de datos, donde el rendimiento y la capacidad de manejar grandes volúmenes de datos son esenciales."
   ]
  },
  {
   "cell_type": "markdown",
   "id": "c7cca3f3",
   "metadata": {},
   "source": [
    "[Video de apoyo hasta aquí](https://www.youtube.com/watch?v=BmSxUpVrRRA&ab_channel=DiMathData)"
   ]
  },
  {
   "cell_type": "markdown",
   "id": "caf4675f",
   "metadata": {},
   "source": [
    "### Apéndice: Coerción de Tipos en los `nd-array` de NumPy\n"
   ]
  },
  {
   "cell_type": "markdown",
   "id": "ad4a5e65",
   "metadata": {},
   "source": [
    "\n",
    "La **coerción de tipos** en NumPy se refiere a la conversión automática o manual de los tipos de datos de los elementos dentro de un `nd-array`. "
   ]
  },
  {
   "cell_type": "markdown",
   "id": "ca85daa9",
   "metadata": {},
   "source": [
    "Dado que NumPy optimiza la eficiencia mediante el uso de tipos de datos homogéneos, a veces es necesario convertir los tipos de datos para asegurar la consistencia y optimización en cálculos. "
   ]
  },
  {
   "cell_type": "markdown",
   "id": "b015032b",
   "metadata": {},
   "source": [
    "La coerción de tipos es especialmente útil en aplicaciones de ciencia de datos y machine learning donde los datos deben estar en formatos específicos para ser procesados correctamente.\n"
   ]
  },
  {
   "cell_type": "code",
   "execution_count": null,
   "id": "2c57b8fa",
   "metadata": {},
   "outputs": [],
   "source": [
    "lista = ['marco', 12, 1.5, True]\n",
    "lista "
   ]
  },
  {
   "cell_type": "code",
   "execution_count": null,
   "id": "b7c5003a",
   "metadata": {},
   "outputs": [],
   "source": [
    "np.array(lista)"
   ]
  },
  {
   "cell_type": "markdown",
   "id": "07068ea4",
   "metadata": {},
   "source": [
    "\n",
    "#### 1. Coerción Automática de Tipos\n"
   ]
  },
  {
   "cell_type": "markdown",
   "id": "04aa2a0d",
   "metadata": {},
   "source": [
    "\n",
    "NumPy puede realizar coerción automática de tipos al crear un `nd-array` si los datos iniciales contienen diferentes tipos de datos. "
   ]
  },
  {
   "cell_type": "markdown",
   "id": "1489eb31",
   "metadata": {},
   "source": [
    "Para asegurar que el array sea homogéneo, NumPy promueve los elementos al tipo más \"amplio\" que pueda contener todos los datos sin pérdida de información. La jerarquía típica de promoción de tipos es:\n",
    "- `int` -> `float` -> `complex` -> `str` (cadena de texto).\n"
   ]
  },
  {
   "cell_type": "code",
   "execution_count": null,
   "id": "cd72cd60",
   "metadata": {},
   "outputs": [],
   "source": [
    "1j*1j  # estoy calculando el cuadrado de la unidad imaginaria "
   ]
  },
  {
   "cell_type": "code",
   "execution_count": null,
   "id": "590c2aab",
   "metadata": {},
   "outputs": [],
   "source": [
    "z = 1+ 1j\n",
    "type(z)"
   ]
  },
  {
   "cell_type": "markdown",
   "id": "34d11f46",
   "metadata": {},
   "source": [
    "\n",
    "Por ejemplo:\n"
   ]
  },
  {
   "cell_type": "code",
   "execution_count": null,
   "id": "0d51f61e",
   "metadata": {},
   "outputs": [],
   "source": [
    "\n",
    "import numpy as np\n",
    "\n",
    "# Array con un entero y un flotante. NumPy convierte el entero en flotante.\n",
    "array_mixto = np.array([1, 2.5, 3, True, 'm'])\n",
    "print(array_mixto)      # Salida: [1. 2.5 3. ]\n",
    "print(array_mixto.dtype)  # Salida: float64\n",
    "\n"
   ]
  },
  {
   "cell_type": "markdown",
   "id": "a10f4162",
   "metadata": {},
   "source": [
    "\n",
    "En este ejemplo, el entero `1` se convierte automáticamente en un `float64` para que el array pueda tener un tipo homogéneo de `float64`.\n"
   ]
  },
  {
   "cell_type": "markdown",
   "id": "27e06401",
   "metadata": {},
   "source": [
    "\n",
    "#### 2. Coerción Manual de Tipos\n"
   ]
  },
  {
   "cell_type": "markdown",
   "id": "c4cc58e7",
   "metadata": {},
   "source": [
    "\n",
    "NumPy permite especificar el tipo de datos de un `nd-array` en el momento de su creación usando el parámetro `dtype`. "
   ]
  },
  {
   "cell_type": "markdown",
   "id": "1aea93a7",
   "metadata": {},
   "source": [
    "Esto es útil para asegurarse de que los datos sean del tipo correcto y para ahorrar memoria en caso de que se prefiera un tipo de menor precisión.\n"
   ]
  },
  {
   "cell_type": "markdown",
   "id": "725e205d",
   "metadata": {},
   "source": [
    "\n",
    "Ejemplo de especificación manual del tipo `int32`:\n"
   ]
  },
  {
   "cell_type": "code",
   "execution_count": null,
   "id": "5182e0e6",
   "metadata": {},
   "outputs": [],
   "source": [
    "vector = np.array([1,2,3.9], dtype='int32')\n",
    "vector "
   ]
  },
  {
   "cell_type": "code",
   "execution_count": null,
   "id": "04942f29",
   "metadata": {},
   "outputs": [],
   "source": [
    "\n",
    "array_enteros = np.array([1, 't', 3], dtype=np.int32)\n",
    "print(array_enteros.dtype)  # Salida: int32\n",
    "\n"
   ]
  },
  {
   "cell_type": "markdown",
   "id": "49ce037e",
   "metadata": {},
   "source": [
    "\n",
    "En ciencia de datos, es común usar `float32` o `float64` para trabajar con datos numéricos continuos. "
   ]
  },
  {
   "cell_type": "markdown",
   "id": "7ae4e441",
   "metadata": {},
   "source": [
    "Para cambiar el tipo de un array ya existente, se puede usar el método `astype()`, que permite convertir el array a otro tipo de datos.\n"
   ]
  },
  {
   "cell_type": "code",
   "execution_count": null,
   "id": "9c9aef6d",
   "metadata": {},
   "outputs": [],
   "source": [
    "array_enteros = np.array(['3','2',3])\n",
    "array_enteros"
   ]
  },
  {
   "cell_type": "code",
   "execution_count": null,
   "id": "221f3d02",
   "metadata": {},
   "outputs": [],
   "source": [
    "\n",
    "\n",
    "array_flotantes = array_enteros.astype(np.float64)\n",
    "array_flotantes.dtype  # Salida: float64\n",
    "\n",
    "print(array_flotantes)"
   ]
  },
  {
   "cell_type": "markdown",
   "id": "ce7f2857",
   "metadata": {},
   "source": [
    "\n",
    "### 3. Coerción de Tipos en Operaciones\n"
   ]
  },
  {
   "cell_type": "markdown",
   "id": "e87bbf95",
   "metadata": {},
   "source": [
    "\n",
    "En algunas operaciones entre `nd-arrays` de diferentes tipos de datos, NumPy aplicará coerción para evitar errores y mantener la homogeneidad en el resultado. "
   ]
  },
  {
   "cell_type": "markdown",
   "id": "87f63eb6",
   "metadata": {},
   "source": [
    "Por ejemplo:\n"
   ]
  },
  {
   "cell_type": "code",
   "execution_count": null,
   "id": "11b900f8",
   "metadata": {},
   "outputs": [],
   "source": [
    "\n",
    "\n",
    "array_int = np.array([1, 2, 3], dtype=np.int32)\n",
    "array_float = np.array([4.5, 5.5, 6.5], dtype=np.float64)\n",
    "\n",
    "resultado = array_int + array_float\n",
    "print(resultado)          # Salida: [5.5 7.5 9.5]\n",
    "print(resultado.dtype)    # Salida: float64\n",
    "\n"
   ]
  },
  {
   "cell_type": "markdown",
   "id": "f907fea4",
   "metadata": {},
   "source": [
    "\n",
    "Aquí, `array_int` se convierte a `float64` automáticamente durante la operación de suma para coincidir con `array_float`, produciendo un resultado en `float64`.\n"
   ]
  },
  {
   "cell_type": "markdown",
   "id": "42fdab58",
   "metadata": {},
   "source": [
    "\n",
    "### 4. Coerción y Memoria\n"
   ]
  },
  {
   "cell_type": "markdown",
   "id": "d7b1c2d8",
   "metadata": {},
   "source": [
    "\n",
    "Es importante considerar el impacto de la coerción de tipos en el consumo de memoria, especialmente con grandes conjuntos de datos. "
   ]
  },
  {
   "cell_type": "markdown",
   "id": "3631f04b",
   "metadata": {},
   "source": [
    "Los tipos `float64` y `int64` ocupan más espacio que `float32` e `int32`, por lo que la elección del tipo de datos es adecuado puede optimizar la memoria.\n",
    "\n",
    "Ejemplo de ahorro de memoria:\n"
   ]
  },
  {
   "cell_type": "code",
   "execution_count": null,
   "id": "e8355fb4",
   "metadata": {},
   "outputs": [],
   "source": [
    "\n",
    "\n",
    "# Usando float32 en lugar de float64 para ahorrar memoria\n",
    "array_grande = np.ones((1000, 1000), dtype=np.int32)\n",
    "print(array_grande.nbytes)  # Salida: 4000000 bytes\n"
   ]
  },
  {
   "cell_type": "code",
   "execution_count": null,
   "id": "d9ddb6ea",
   "metadata": {},
   "outputs": [],
   "source": [
    "\n",
    "# Usando float64\n",
    "array_grande_64 = np.ones((1000, 1000), dtype=np.float64)\n",
    "print(array_grande_64.nbytes)  # Salida: 8000000 bytes\n",
    "\n"
   ]
  },
  {
   "cell_type": "markdown",
   "id": "a704309c",
   "metadata": {},
   "source": [
    "\n",
    "#### Resumen\n",
    "\n",
    "La coerción de tipos en los `nd-arrays` de NumPy permite manejar eficientemente tipos de datos en cálculos y estructuras de datos homogéneas. "
   ]
  },
  {
   "cell_type": "markdown",
   "id": "144d3623",
   "metadata": {},
   "source": [
    "Conocer cómo se realiza la coerción en NumPy ayuda a gestionar la precisión, la memoria y el rendimiento, factores esenciales en ciencia de datos y machine learning."
   ]
  },
  {
   "cell_type": "markdown",
   "id": "68565cf7",
   "metadata": {},
   "source": [
    "[El video de apoyo sobre la naturaleza de numpy](https://www.youtube.com/watch?v=_lQT1JlWhAk&ab_channel=DiMathData)"
   ]
  },
  {
   "cell_type": "code",
   "execution_count": null,
   "id": "7ac1b596",
   "metadata": {
    "slideshow": {
     "slide_type": "slide"
    }
   },
   "outputs": [],
   "source": [
    "# mapa conceptual para cada clase  \n",
    "from graphviz import Digraph\n",
    "\n",
    "# Crear un nuevo grafo dirigido\n",
    "dot = Digraph()\n",
    "\n",
    "# Añadir nodos y relaciones al grafo\n",
    "main_concept = 'Curso Machine Learning '\n",
    "dot.node('A', main_concept)\n",
    "dot.node('B', 'Python para ciencia de datos')\n",
    "dot.node('C', 'Datos en python')\n",
    "dot.node('D', 'Estrcturas de datos ')\n",
    "dot.node('E', 'nd-array de NumPy')\n",
    "\n",
    "dot.edges(['AB', 'BC', 'CD', 'DE'])\n",
    "\n",
    "\n",
    "# Guardar el grafo como un archivo de imagen\n",
    "dot.render(filename=main_concept, format='png', cleanup=True, \\\n",
    "           directory='C:/Users/marco/Documentos/investigacion/')\n",
    "\n",
    "dot.view()\n"
   ]
  },
  {
   "cell_type": "markdown",
   "id": "0e550c7e",
   "metadata": {},
   "source": [
    "# Diseño de la clase  \n"
   ]
  },
  {
   "cell_type": "markdown",
   "id": "73cf99e8",
   "metadata": {},
   "source": [
    "\n",
    "### Clase sobre la Estructura de Datos `nd-array` de NumPy en Python\n"
   ]
  },
  {
   "cell_type": "markdown",
   "id": "fcccdf31",
   "metadata": {},
   "source": [
    "\n",
    "#### 1. Título de la clase\n",
    "**Introducción a la Estructura de Datos `nd-array` de NumPy y su Aplicación en Ciencia de Datos con técnicas Machine Learning**\n"
   ]
  },
  {
   "cell_type": "markdown",
   "id": "0bda9737",
   "metadata": {},
   "source": [
    "\n",
    "#### 2. Objetivo de aprendizaje\n",
    "Al finalizar la clase, los estudiantes serán capaces de:\n",
    "- Comprender la estructura y características de los `nd-arrays` de NumPy.\n",
    "- Crear, manipular y realizar operaciones fundamentales con `nd-arrays`.\n",
    "- Aplicar `nd-arrays` en tareas de preprocesamiento de datos y técnicas básicas de machine learning.\n"
   ]
  },
  {
   "cell_type": "markdown",
   "id": "c6fac46a",
   "metadata": {},
   "source": [
    "\n",
    "#### 3. Contenido de la clase\n",
    "\n",
    "1. **Introducción a los `nd-arrays` de NumPy**\n",
    "   - Qué es NumPy y por qué se utiliza en ciencia de datos.\n",
    "   - Definición de `nd-array` y comparación con las listas de Python.\n",
    "   - Beneficios de utilizar `nd-arrays` (eficiencia, velocidad, operaciones vectorizadas).\n"
   ]
  },
  {
   "cell_type": "markdown",
   "id": "4111b589",
   "metadata": {},
   "source": [
    "\n",
    "2. **Creación y Manipulación de `nd-arrays`**\n",
    "   - Crear `nd-arrays` a partir de listas, con funciones de NumPy (`zeros`, `ones`, `arange`, `linspace`, `random`).\n",
    "   - Propiedades y atributos importantes de un `nd-array`: `shape`, `dtype`, `size`, `ndim`.\n",
    "   - Acceso y modificación de elementos en un `nd-array` (indexado y corte o \"slicing\").\n"
   ]
  },
  {
   "cell_type": "markdown",
   "id": "e168499b",
   "metadata": {},
   "source": [
    "\n",
    "3. **Operaciones Básicas con `nd-arrays`**\n",
    "   - Operaciones aritméticas (suma, resta, multiplicación, división) entre `nd-arrays` y escalares.\n",
    "   - Funciones matemáticas y estadísticas aplicadas a `nd-arrays` (`mean`, `sum`, `max`, `min`, `std`).\n",
    "   - Broadcasting: cómo se manejan diferentes dimensiones en operaciones.\n"
   ]
  },
  {
   "cell_type": "markdown",
   "id": "d31907df",
   "metadata": {},
   "source": [
    "\n",
    "4. **Utilización de `nd-arrays` en Ciencia de Datos**\n",
    "   - Carga y manipulación de datos con `nd-arrays` (leer archivos CSV con `numpy.loadtxt` y `numpy.genfromtxt`).\n",
    "   - Preprocesamiento de datos: normalización, estandarización y manejo de valores faltantes.\n",
    "   - Introducción a la selección de datos y características usando `nd-arrays` en preparación para modelos de machine learning.\n"
   ]
  },
  {
   "cell_type": "markdown",
   "id": "be92eb73",
   "metadata": {},
   "source": [
    "\n",
    "5. **Aplicaciones Básicas de `nd-arrays` en Machine Learning**\n",
    "   - Preparación de datos de entrada y etiquetas para modelos de machine learning.\n",
    "   - Ejemplo de uso de `nd-arrays` para almacenar y manipular datos en un modelo de regresión lineal simple.\n",
    "   - Ventajas de usar `nd-arrays` en pipelines de machine learning para optimización de cálculo.\n"
   ]
  },
  {
   "cell_type": "markdown",
   "id": "2336b744",
   "metadata": {},
   "source": [
    "\n",
    "#### 4. Actividades de aprendizaje\n"
   ]
  },
  {
   "cell_type": "markdown",
   "id": "f34d589c",
   "metadata": {},
   "source": [
    "\n",
    "1. **Exploración de los `nd-arrays`**:\n",
    "   - Crear distintos `nd-arrays` utilizando listas y funciones de inicialización de NumPy (`zeros`, `ones`, `arange`).\n",
    "   - Modificar `nd-arrays` y observar las propiedades como `shape`, `dtype`, `size`, y `ndim`.\n"
   ]
  },
  {
   "cell_type": "markdown",
   "id": "c189b0b2",
   "metadata": {},
   "source": [
    "\n",
    "2. **Operaciones aritméticas y broadcasting**:\n",
    "   - Realizar ejercicios de operaciones matemáticas entre `nd-arrays` y entre `nd-arrays` y escalares.\n",
    "   - Explorar cómo funciona el broadcasting al realizar operaciones entre `nd-arrays` de diferentes dimensiones.\n"
   ]
  },
  {
   "cell_type": "markdown",
   "id": "e4cdd201",
   "metadata": {},
   "source": [
    "\n",
    "3. **Carga y manipulación de datos**:\n",
    "   - Cargar datos de ejemplo desde un archivo CSV usando NumPy.\n",
    "   - Realizar operaciones de preprocesamiento: limpieza de valores faltantes, normalización y estandarización.\n"
   ]
  },
  {
   "cell_type": "markdown",
   "id": "8d6d0ed5",
   "metadata": {},
   "source": [
    "\n",
    "4. **Ejercicio de Machine Learning Básico**:\n",
    "   - Simulación de un conjunto de datos para una regresión lineal (por ejemplo, relación entre horas de estudio y calificación).\n",
    "   - Utilizar `nd-arrays` para almacenar datos de entrada y etiquetas y calcular manualmente la regresión lineal.\n"
   ]
  },
  {
   "cell_type": "markdown",
   "id": "c0cc20c2",
   "metadata": {},
   "source": [
    "\n",
    "#### 5. Tarea o actividades de ejercitación y fijación\n",
    "\n",
    "1. **Práctica de creación y manipulación de `nd-arrays`**:\n",
    "   - Crear `nd-arrays` de diferentes dimensiones y tipos, experimentando con sus propiedades y métodos.\n",
    "   - Aplicar operaciones matemáticas y de broadcasting en `nd-arrays` generados.\n"
   ]
  },
  {
   "cell_type": "markdown",
   "id": "592a1ab9",
   "metadata": {},
   "source": [
    "\n",
    "2. **Cálculo estadístico**:\n",
    "   - Dado un conjunto de datos de muestra, calcular la media, mediana, desviación estándar y otros valores estadísticos utilizando funciones de NumPy.\n"
   ]
  },
  {
   "cell_type": "markdown",
   "id": "226e80d7",
   "metadata": {},
   "source": [
    "\n",
    "3. **Preprocesamiento de datos reales**:\n",
    "   - Descargar un archivo CSV de datos abiertos (ej., datos de temperaturas históricas).\n",
    "   - Cargar el archivo en un `nd-array` y realizar preprocesamiento para normalizar y estandarizar los valores.\n"
   ]
  },
  {
   "cell_type": "markdown",
   "id": "3a3de860",
   "metadata": {},
   "source": [
    "\n",
    "4. **Aplicación de regresión lineal**:\n",
    "   - Crear un conjunto de datos simulado y aplicar una regresión lineal manual (sin librerías de machine learning) utilizando operaciones matriciales en `nd-arrays`.\n",
    "   - Evaluar los resultados y observar la eficiencia de `nd-arrays` en el cálculo.\n"
   ]
  },
  {
   "cell_type": "markdown",
   "id": "aca624fd",
   "metadata": {},
   "source": [
    "\n",
    "Esta clase proporciona una base sólida en `nd-arrays` de NumPy, cubriendo desde la creación y manipulación básica hasta aplicaciones prácticas en ciencia de datos y machine learning, esenciales para análisis y modelado eficientes en Python."
   ]
  },
  {
   "cell_type": "markdown",
   "id": "5062f52c",
   "metadata": {},
   "source": [
    "# Implementación de la clase  \n",
    "\n",
    "### Clase sobre la Estructura de Datos `nd-array` de NumPy en Python\n",
    "\n",
    "#### 1. Título de la clase\n",
    "**Introducción a la Estructura de Datos `nd-array` de NumPy y su Aplicación en Ciencia de Datos con técnicas de Machine Learning**\n"
   ]
  },
  {
   "cell_type": "markdown",
   "id": "a3dedb59",
   "metadata": {},
   "source": [
    "\n",
    "#### 2. Objetivo de aprendizaje\n",
    "Al finalizar la clase, los estudiantes serán capaces de:\n",
    "- Comprender la estructura y características de los `nd-arrays` de NumPy.\n",
    "- Crear, manipular y realizar operaciones fundamentales con `nd-arrays`.\n",
    "- Aplicar `nd-arrays` en tareas de preprocesamiento de datos y técnicas básicas de machine learning.\n"
   ]
  },
  {
   "cell_type": "markdown",
   "id": "21750d0f",
   "metadata": {},
   "source": [
    "\n",
    "#### 3. Contenido de la clase\n",
    "\n",
    "1. **Introducción a los `nd-arrays` de NumPy**\n",
    "   - Qué es NumPy y por qué se utiliza en ciencia de datos.\n",
    "   - Definición de `nd-array` y comparación con las listas de Python.\n",
    "   - Beneficios de utilizar `nd-arrays` (eficiencia, velocidad, operaciones vectorizadas).\n"
   ]
  },
  {
   "cell_type": "markdown",
   "id": "65e4efc5",
   "metadata": {},
   "source": [
    "Aquí tienes el desarrollo del contenido de la introducción a los `nd-arrays` de NumPy para la clase:\n",
    "\n",
    "---\n"
   ]
  },
  {
   "cell_type": "markdown",
   "id": "5694eee3",
   "metadata": {},
   "source": [
    "\n",
    "### 1. **Introducción a los `nd-arrays` de NumPy**\n",
    "\n",
    "#### ¿Qué es NumPy y por qué se utiliza en ciencia de datos?\n"
   ]
  },
  {
   "cell_type": "markdown",
   "id": "80d61fea",
   "metadata": {},
   "source": [
    "NumPy (Numerical Python) es una de las bibliotecas fundamentales para la computación científica y la manipulación de datos en Python. Es especialmente popular en el campo de la ciencia de datos porque proporciona soporte para:\n"
   ]
  },
  {
   "cell_type": "markdown",
   "id": "c2eb2867",
   "metadata": {},
   "source": [
    "   - **Manejo eficiente de grandes volúmenes de datos**: Permite trabajar con datos numéricos de manera rápida y eficiente gracias a su estructura de `nd-arrays`.\n",
    "   - **Operaciones matemáticas y estadísticas avanzadas**: NumPy cuenta con funciones y métodos optimizados para operaciones de álgebra lineal, generación de números aleatorios, transformación de datos, entre otros.\n",
    "   - **Interoperabilidad**: NumPy es compatible con otras bibliotecas de ciencia de datos en Python, como pandas, SciPy, y frameworks de machine learning como Scikit-Learn y TensorFlow, lo que facilita la integración en proyectos de análisis de datos y machine learning.\n"
   ]
  },
  {
   "cell_type": "markdown",
   "id": "4d064ce3",
   "metadata": {},
   "source": [
    "\n",
    "#### Definición de `nd-array` y comparación con las listas de Python\n",
    "El `nd-array` de NumPy es la estructura central de esta biblioteca, diseñada para almacenar y manipular datos numéricos en múltiples dimensiones. La estructura `nd-array` tiene características clave que lo diferencian de las listas estándar de Python:\n"
   ]
  },
  {
   "cell_type": "markdown",
   "id": "d3acc5bb",
   "metadata": {},
   "source": [
    "\n",
    "   - **Estructura multidimensional**: Los `nd-arrays` permiten crear arreglos en múltiples dimensiones, desde vectores (1D) hasta matrices (2D), y arreglos n-dimensionales (3D o más), lo que es útil para representar datos complejos.\n",
    "   - **Homogeneidad**: A diferencia de las listas, los `nd-arrays` solo pueden contener elementos de un mismo tipo de datos, como `int` o `float`, lo cual facilita el uso de operaciones vectorizadas y garantiza mayor eficiencia.\n",
    "   - **Indexación avanzada**: NumPy permite la indexación en múltiples dimensiones, a través de técnicas como el *slicing* y la indexación avanzada, lo cual hace que sea más sencillo extraer subconjuntos de datos.\n",
    "   - **Métodos optimizados**: A diferencia de las listas, los `nd-arrays` cuentan con métodos matemáticos optimizados, lo que permite realizar operaciones algebraicas complejas de forma sencilla y rápida.\n"
   ]
  },
  {
   "cell_type": "markdown",
   "id": "e2a6f3aa",
   "metadata": {},
   "source": [
    "\n",
    "##### Ejemplo de Comparación:\n"
   ]
  },
  {
   "cell_type": "code",
   "execution_count": null,
   "id": "ec89632d",
   "metadata": {},
   "outputs": [],
   "source": [
    "\n",
    "import numpy as np\n",
    "\n",
    "# Lista en Python\n",
    "lista = [1, 2, 3, 4]\n",
    "\n",
    "# `nd-array` en NumPy\n",
    "nd_array = np.array(lista)\n",
    "\n",
    "# Diferencia en operaciones\n",
    "# Multiplicación en una lista\n",
    "lista_multiplicada = [x * 2 for x in lista]\n",
    "\n",
    "# Multiplicación en un `nd-array`\n",
    "nd_array_multiplicada = nd_array * 2\n",
    "\n",
    "print(\"Lista multiplicada:\", lista_multiplicada)\n",
    "print(\"nd-array multiplicado:\", nd_array_multiplicada)\n",
    "\n"
   ]
  },
  {
   "cell_type": "markdown",
   "id": "05ab5895",
   "metadata": {},
   "source": [
    "\n",
    "**Resultado:**\n",
    "- La operación en la lista requiere un bucle, mientras que en el `nd-array`, la multiplicación se realiza automáticamente en cada elemento gracias a la **vectorización**.\n"
   ]
  },
  {
   "cell_type": "markdown",
   "id": "84c35837",
   "metadata": {},
   "source": [
    "\n",
    "#### Beneficios de Utilizar `nd-arrays` (Eficiencia, Velocidad, Operaciones Vectorizadas)\n",
    "1. **Eficiencia y Velocidad**:\n",
    "   Los `nd-arrays` están diseñados para ser mucho más rápidos que las listas de Python para grandes volúmenes de datos. Esto es posible porque NumPy utiliza estructuras de datos compactas y operaciones de bajo nivel optimizadas (escritas en C) para trabajar con grandes conjuntos de datos.\n"
   ]
  },
  {
   "cell_type": "markdown",
   "id": "526356f9",
   "metadata": {},
   "source": [
    "\n",
    "2. **Operaciones Vectorizadas**:\n"
   ]
  },
  {
   "cell_type": "markdown",
   "id": "3ba4578f",
   "metadata": {},
   "source": [
    "   - Una de las características más potentes de los `nd-arrays` es que permiten operaciones **vectorizadas**. Esto significa que se pueden realizar operaciones matemáticas y lógicas en todos los elementos de un arreglo de una sola vez, sin necesidad de bucles explícitos, lo que acelera el procesamiento.\n",
    "   - La vectorización reduce el tiempo de ejecución y mejora la eficiencia en el uso de la memoria, lo cual es fundamental para aplicaciones de machine learning y análisis de datos que trabajan con grandes volúmenes de información.\n"
   ]
  },
  {
   "cell_type": "markdown",
   "id": "24d657b8",
   "metadata": {},
   "source": [
    "\n",
    "##### Ejemplo de Operación Vectorizada:\n"
   ]
  },
  {
   "cell_type": "code",
   "execution_count": null,
   "id": "1d0e69c5",
   "metadata": {},
   "outputs": [],
   "source": [
    "\n",
    "# `nd-array` con números aleatorios\n",
    "data = np.array([10, 20, 30, 40, 50])\n",
    "\n",
    "# Operación vectorizada (suma 5 a cada elemento)\n",
    "data_modificado = data + 5\n",
    "print(\"Array original:\", data)\n",
    "print(\"Array modificado (suma 5):\", data_modificado)\n"
   ]
  },
  {
   "cell_type": "markdown",
   "id": "e7f7e390",
   "metadata": {},
   "source": [
    "\n",
    "3. **Ampliación a Dimensiones Superiores**:\n",
    "   - Los `nd-arrays` permiten manipular datos en múltiples dimensiones de manera eficiente, lo que resulta ideal para datos estructurados en tablas, imágenes (que son matrices de valores de píxeles), y series de tiempo.\n",
    "   - El trabajo con datos n-dimensionales permite a los científicos de datos procesar información compleja y utilizar técnicas de machine learning que requieren estructuras de datos específicas, como los tensores en redes neuronales.\n"
   ]
  },
  {
   "cell_type": "markdown",
   "id": "5916e82e",
   "metadata": {},
   "source": [
    "\n",
    "##### Ejemplo de Matriz 2D y Operación de Suma de Elementos:\n"
   ]
  },
  {
   "cell_type": "code",
   "execution_count": null,
   "id": "3495b13a",
   "metadata": {},
   "outputs": [],
   "source": [
    "# Crear un `nd-array` bidimensional\n",
    "matriz = np.array([[1, 2, 3], [4, 5, 6]])\n",
    "\n",
    "# Sumar todos los elementos\n",
    "suma_total = matriz.sum()\n",
    "print(\"Matriz:\\n\", matriz)\n",
    "print(\"Suma total de elementos:\", suma_total)\n",
    "\n",
    "\n",
    "\n"
   ]
  },
  {
   "cell_type": "markdown",
   "id": "be33e6e3",
   "metadata": {},
   "source": [
    "\n",
    "Esta introducción proporciona el contexto y la motivación inicial para entender el `nd-array` y su papel esencial en el trabajo de datos, especialmente en machine learning. En las siguientes partes de la clase, profundizaremos en métodos específicos de NumPy para manipular `nd-arrays`, que son fundamentales para operaciones avanzadas en ciencia de datos."
   ]
  },
  {
   "cell_type": "markdown",
   "id": "d646a35b",
   "metadata": {},
   "source": [
    "[Video de apoyo hasta aquí](https://www.youtube.com/watch?v=PVRuHV5nFwU&ab_channel=DiMathData)"
   ]
  },
  {
   "cell_type": "markdown",
   "id": "b68357f9",
   "metadata": {},
   "source": [
    "\n",
    "2. **Creación y Manipulación de `nd-arrays`**\n",
    "   - Crear `nd-arrays` a partir de listas, con funciones de NumPy (`zeros`, `ones`, `arange`, `linspace`, `random`).\n",
    "   - Propiedades y atributos importantes de un `nd-array`: `shape`, `dtype`, `size`, `ndim`.\n",
    "   - Acceso y modificación de elementos en un `nd-array` (indexado y corte o \"slicing\").\n"
   ]
  },
  {
   "cell_type": "markdown",
   "id": "cf5fa4c8",
   "metadata": {},
   "source": [
    "\n",
    "### 2. **Creación y Manipulación de `nd-arrays`**\n"
   ]
  },
  {
   "cell_type": "markdown",
   "id": "aa21f3e0",
   "metadata": {},
   "source": [
    "\n",
    "#### Crear `nd-arrays` a partir de listas y con funciones de NumPy\n",
    "Los `nd-arrays` pueden crearse de diversas maneras, ya sea transformando listas de Python o utilizando funciones de NumPy que generan arreglos de acuerdo a las especificaciones requeridas.\n"
   ]
  },
  {
   "cell_type": "markdown",
   "id": "284b1afb",
   "metadata": {},
   "source": [
    "\n",
    "1. **Convertir listas de Python a `nd-arrays`**:\n",
    "   Para crear un `nd-array` a partir de una lista en Python, simplemente se utiliza la función `np.array()`.\n"
   ]
  },
  {
   "cell_type": "code",
   "execution_count": null,
   "id": "eef0c497",
   "metadata": {},
   "outputs": [],
   "source": [
    "import numpy as np\n",
    "lista = [1, 2, 3, 4, 5]\n",
    "nd_array = np.array(lista)\n",
    "nd_array\n",
    "\n"
   ]
  },
  {
   "cell_type": "markdown",
   "id": "f84eca51",
   "metadata": {},
   "source": [
    "\n",
    "2. **Funciones de NumPy para crear `nd-arrays`**:\n",
    "   NumPy ofrece varias funciones útiles para crear arreglos inicializados automáticamente, que son muy útiles en ciencia de datos y machine learning.\n",
    "\n",
    "   - **`zeros`**: Crea un arreglo de ceros.\n"
   ]
  },
  {
   "cell_type": "code",
   "execution_count": null,
   "id": "77b1654a",
   "metadata": {},
   "outputs": [],
   "source": [
    "zeros_array = np.zeros(3)  # Matriz 3x4 de ceros\n",
    "print(zeros_array)"
   ]
  },
  {
   "cell_type": "code",
   "execution_count": null,
   "id": "c8f823a9",
   "metadata": {},
   "outputs": [],
   "source": [
    "zeros_array = np.zeros((3, 4))  # Matriz 3x4 de ceros\n",
    "print(zeros_array)\n",
    "\n"
   ]
  },
  {
   "cell_type": "code",
   "execution_count": null,
   "id": "b07e20f0",
   "metadata": {},
   "outputs": [],
   "source": [
    "zeros_array = np.zeros((3, 4, 2))  # Un tensor de 3 capas donde cada capa tiene una Matriz 3x4  ceros\n",
    "print(zeros_array)"
   ]
  },
  {
   "cell_type": "markdown",
   "id": "63b7d2a9",
   "metadata": {},
   "source": [
    "\n",
    "   - **`ones`**: Crea un arreglo de unos.\n"
   ]
  },
  {
   "cell_type": "code",
   "execution_count": null,
   "id": "cbf0ea1f",
   "metadata": {},
   "outputs": [],
   "source": [
    "ones_array = np.ones((2, 3))  # Matriz 2x3 de unos\n",
    "print(ones_array)\n",
    "\n"
   ]
  },
  {
   "cell_type": "markdown",
   "id": "1e76f2f1",
   "metadata": {},
   "source": [
    "\n",
    "   - **`arange`**: Crea un arreglo con una secuencia de números con un rango y paso específicos, similar a `range()` en Python. (Crea progresiones aritméticas )\n"
   ]
  },
  {
   "cell_type": "code",
   "execution_count": null,
   "id": "00e04b28",
   "metadata": {},
   "outputs": [],
   "source": [
    "np.arange(0,5) # genera segmentos de números naturales iniciando en cero por defecto "
   ]
  },
  {
   "cell_type": "code",
   "execution_count": null,
   "id": "520e70ae",
   "metadata": {},
   "outputs": [],
   "source": [
    "np.arange(3, 11)"
   ]
  },
  {
   "cell_type": "code",
   "execution_count": null,
   "id": "f8bca87a",
   "metadata": {},
   "outputs": [],
   "source": [
    "np.arange(3, 11+2, 2)"
   ]
  },
  {
   "cell_type": "code",
   "execution_count": null,
   "id": "bb85d356",
   "metadata": {},
   "outputs": [],
   "source": [
    "np.arange(start = 4, stop = 10+2, step = 2)"
   ]
  },
  {
   "cell_type": "markdown",
   "id": "0cb1c066",
   "metadata": {},
   "source": [
    "Progresión aritmética \n",
    "\n",
    "$$ a_{1}, a_{2}, a_{3}, \\ldots, a_{n} $$\n",
    "\n",
    "$$ a_{i} - a_{i-1} = d $$"
   ]
  },
  {
   "cell_type": "code",
   "execution_count": null,
   "id": "1dbe04c0",
   "metadata": {},
   "outputs": [],
   "source": [
    "arange_array = np.arange(start = 0, stop = 10, step = 2)  # De 0 a 10-2 con paso de 2\n",
    "print(arange_array)\n",
    "\n"
   ]
  },
  {
   "cell_type": "markdown",
   "id": "c733f29e",
   "metadata": {},
   "source": [
    "\n",
    "   - **`linspace`**: Genera un arreglo de valores distribuidos uniformemente entre dos números, con un número de puntos especificado. (Genera una partición regular de un intervalo)\n"
   ]
  },
  {
   "cell_type": "code",
   "execution_count": null,
   "id": "53f8aa7f",
   "metadata": {},
   "outputs": [],
   "source": [
    "linspace_array = np.linspace(start = 1.5, stop = 2.0, num = 3)  # 5 puntos de 0 a 1\n",
    "linspace_array\n",
    "\n"
   ]
  },
  {
   "cell_type": "code",
   "execution_count": null,
   "id": "f81b3fbc",
   "metadata": {},
   "outputs": [],
   "source": [
    "# animación para ver la partición geométricamente "
   ]
  },
  {
   "cell_type": "markdown",
   "id": "b1b22bd6",
   "metadata": {},
   "source": [
    "\n",
    "   - **`random`**: Genera arreglos de valores aleatorios.\n"
   ]
  },
  {
   "cell_type": "code",
   "execution_count": null,
   "id": "2b130715",
   "metadata": {},
   "outputs": [],
   "source": [
    "random_array = np.random.rand(3, 3)  # Matriz 3x3 con números aleatorios entre 0 y 1\n",
    "print(random_array)\n",
    "\n"
   ]
  },
  {
   "cell_type": "markdown",
   "id": "55c34bc8",
   "metadata": {},
   "source": [
    "\n",
    "#### Propiedades y Atributos Importantes de un `nd-array`\n",
    "Una vez que se ha creado un `nd-array`, es fundamental comprender sus propiedades y atributos, ya que estos ayudan a manipular y entender la estructura de los datos almacenados.\n"
   ]
  },
  {
   "cell_type": "markdown",
   "id": "6985e3f5",
   "metadata": {},
   "source": [
    "\n",
    "1. **`shape`**: Describe las dimensiones del arreglo.\n"
   ]
  },
  {
   "cell_type": "code",
   "execution_count": null,
   "id": "277faef2",
   "metadata": {},
   "outputs": [],
   "source": [
    "print(nd_array.shape)  # Ejemplo: (3, 4) para una matriz de 3 filas y 4 columnas\n",
    "\n"
   ]
  },
  {
   "cell_type": "markdown",
   "id": "15ed8a51",
   "metadata": {},
   "source": [
    "\n",
    "2. **`dtype`**: Muestra el tipo de dato de los elementos del arreglo.\n"
   ]
  },
  {
   "cell_type": "code",
   "execution_count": null,
   "id": "c0f31163",
   "metadata": {},
   "outputs": [],
   "source": [
    "print(nd_array.dtype)  # Ejemplo: int64, float64\n",
    "\n"
   ]
  },
  {
   "cell_type": "markdown",
   "id": "4bde8f18",
   "metadata": {},
   "source": [
    "\n",
    "3. **`size`**: Indica el número total de elementos en el arreglo.\n"
   ]
  },
  {
   "cell_type": "code",
   "execution_count": null,
   "id": "1b202bdf",
   "metadata": {},
   "outputs": [],
   "source": [
    "print(nd_array.size)  # Número total de elementos\n",
    "\n"
   ]
  },
  {
   "cell_type": "markdown",
   "id": "5587e186",
   "metadata": {},
   "source": [
    "\n",
    "4. **`ndim`**: Número de dimensiones del arreglo.\n"
   ]
  },
  {
   "cell_type": "code",
   "execution_count": null,
   "id": "cd4468f4",
   "metadata": {},
   "outputs": [],
   "source": [
    "print(nd_array.ndim)  # Ejemplo: 2 para una matriz, 1 para un vector\n",
    "\n"
   ]
  },
  {
   "cell_type": "markdown",
   "id": "a438f4a2",
   "metadata": {},
   "source": [
    "\n",
    "##### Ejemplo Completo:\n"
   ]
  },
  {
   "cell_type": "code",
   "execution_count": null,
   "id": "cb18db76",
   "metadata": {},
   "outputs": [],
   "source": [
    "\n",
    "nd_array = np.array([[1, 2, 3], [4, 5, 6]])\n",
    "print(\"Shape:\", nd_array.shape)\n",
    "print(\"Dtype:\", nd_array.dtype)\n",
    "print(\"Size:\", nd_array.size)\n",
    "print(\"Ndim:\", nd_array.ndim)\n"
   ]
  },
  {
   "cell_type": "markdown",
   "id": "efdf8352",
   "metadata": {},
   "source": [
    "\n",
    "#### Acceso y Modificación de Elementos en un `nd-array` (Indexado y \"Slicing\")\n",
    "Acceder y modificar los elementos de un `nd-array` es similar al trabajo con listas, pero extendido a múltiples dimensiones.\n"
   ]
  },
  {
   "cell_type": "markdown",
   "id": "e514933b",
   "metadata": {},
   "source": [
    "\n",
    "1. **Acceso a Elementos**:\n",
    "   - Acceso básico usando índices: En un `nd-array` de dos dimensiones (matriz), el primer índice es la fila y el segundo es la columna.\n"
   ]
  },
  {
   "cell_type": "code",
   "execution_count": null,
   "id": "40aa5975",
   "metadata": {},
   "outputs": [],
   "source": [
    "nd_array"
   ]
  },
  {
   "cell_type": "code",
   "execution_count": null,
   "id": "455a81d3",
   "metadata": {},
   "outputs": [],
   "source": [
    "elemento = nd_array[1, 2]  # Acceder al elemento en la segunda fila, tercera columna\n",
    "print(elemento)\n",
    "\n"
   ]
  },
  {
   "cell_type": "markdown",
   "id": "d8edd71f",
   "metadata": {},
   "source": [
    "\n",
    "2. **Modificación de Elementos**:\n",
    "   - Se pueden cambiar los elementos especificando su posición.\n"
   ]
  },
  {
   "cell_type": "code",
   "execution_count": null,
   "id": "e75daeaa",
   "metadata": {},
   "outputs": [],
   "source": [
    "nd_array[1, 2] = 10  # Cambia el elemento en la segunda fila, tercera columna a 10\n",
    "print(nd_array)\n",
    "\n"
   ]
  },
  {
   "cell_type": "markdown",
   "id": "5443df3e",
   "metadata": {},
   "source": [
    "\n",
    "3. **Corte o \"Slicing\"**:\n",
    "   - NumPy permite seleccionar subconjuntos de datos con facilidad usando la técnica de *slicing*.\n"
   ]
  },
  {
   "cell_type": "code",
   "execution_count": null,
   "id": "2dce5ca8",
   "metadata": {},
   "outputs": [],
   "source": [
    "nd_array"
   ]
  },
  {
   "cell_type": "code",
   "execution_count": null,
   "id": "398c0934",
   "metadata": {},
   "outputs": [],
   "source": [
    "sub_array = nd_array[0:2, 1:3]  # Selecciona un subarreglo (filas 0-1 y columnas 1-2)\n",
    "print(sub_array)\n",
    "\n"
   ]
  },
  {
   "cell_type": "markdown",
   "id": "dedd7738",
   "metadata": {},
   "source": [
    "\n",
    "4. **Acceso a Filas o Columnas Completas**:\n",
    "   - Para seleccionar una fila o columna completa, se pueden usar los dos puntos `:` para indicar todas las entradas en esa dimensión.\n"
   ]
  },
  {
   "cell_type": "code",
   "execution_count": null,
   "id": "c0c5ed8e",
   "metadata": {},
   "outputs": [],
   "source": [
    "fila = nd_array[1, :]   # Segunda fila completa\n",
    "columna = nd_array[:, 2] # Tercera columna completa\n",
    "print(\"Fila:\", fila)\n",
    "print(\"Columna:\", columna)\n",
    "\n"
   ]
  },
  {
   "cell_type": "markdown",
   "id": "8dc8c56f",
   "metadata": {},
   "source": [
    "\n",
    "---\n",
    "\n",
    "Este contenido proporciona las bases para la creación y manipulación de `nd-arrays` en NumPy, incluyendo tanto su construcción inicial como los atributos y técnicas fundamentales para manipular los datos almacenados. "
   ]
  },
  {
   "cell_type": "markdown",
   "id": "0b7a4552",
   "metadata": {},
   "source": [
    "Estas habilidades son esenciales para realizar operaciones avanzadas en ciencia de datos y machine learning."
   ]
  },
  {
   "cell_type": "code",
   "execution_count": null,
   "id": "6e5c507f",
   "metadata": {},
   "outputs": [],
   "source": [
    "lista = [1,2] # mutable\n",
    "tupla = (1,2) # inmutabla\n",
    "nd_array = np.array(lista) # mutable "
   ]
  },
  {
   "cell_type": "code",
   "execution_count": null,
   "id": "167bef00",
   "metadata": {},
   "outputs": [],
   "source": [
    "nd_array[0] = 89\n",
    "nd_array "
   ]
  },
  {
   "cell_type": "markdown",
   "id": "5e791937",
   "metadata": {},
   "source": [
    "[Video de apoyo hasta aquí](https://www.youtube.com/watch?v=h49Z50f4Y8Y)"
   ]
  },
  {
   "cell_type": "markdown",
   "id": "c3a0288f",
   "metadata": {},
   "source": [
    "\n",
    "3. **Operaciones Básicas con `nd-arrays`**\n",
    "   - Operaciones aritméticas (suma, resta, multiplicación, división) entre `nd-arrays` y escalares.\n",
    "   - Funciones matemáticas y estadísticas aplicadas a `nd-arrays` (`mean`, `sum`, `max`, `min`, `std`).\n",
    "   - Broadcasting: cómo se manejan diferentes dimensiones en operaciones.\n"
   ]
  },
  {
   "cell_type": "markdown",
   "id": "b8f8028f",
   "metadata": {},
   "source": [
    "Este es el desarrollo del tercer contenido sobre **Operaciones Básicas con `nd-arrays`** de NumPy:\n"
   ]
  },
  {
   "cell_type": "markdown",
   "id": "7ff01718",
   "metadata": {},
   "source": [
    "\n",
    "### 3. Operaciones Básicas con `nd-arrays`\n",
    "\n",
    "Los `nd-arrays` de NumPy permiten realizar operaciones aritméticas, aplicar funciones matemáticas y estadísticas, y aprovechar el broadcasting para operar con matrices de diferentes dimensiones. Veamos estos conceptos detalladamente:\n",
    "\n",
    "---\n",
    "\n",
    "#### 3.1 Operaciones Aritméticas entre `nd-arrays` y Escalares\n",
    "\n",
    "NumPy permite realizar operaciones aritméticas entre `nd-arrays` y escalares de manera directa. "
   ]
  },
  {
   "cell_type": "markdown",
   "id": "46a8cf04",
   "metadata": {},
   "source": [
    "Cada operación se aplica elemento por elemento, sin necesidad de bucles explícitos.\n",
    "\n",
    "Ejemplo:\n"
   ]
  },
  {
   "cell_type": "code",
   "execution_count": null,
   "id": "d49a0edd",
   "metadata": {},
   "outputs": [],
   "source": [
    "import numpy as np\n",
    "\n",
    "# Crear un array de ejemplo\n",
    "arr = np.array([1, 2, 3, 4])\n",
    "\n",
    "# Operaciones con un escalar\n",
    "arr_sum = arr + 2      # Suma\n",
    "arr_sub = arr - 1      # Resta\n",
    "arr_mult = arr * 3     # Multiplicación\n",
    "arr_div = arr / 2      # División\n",
    "\n",
    "print(\"Array original:\", arr)\n",
    "print(\"Array + 2:\", arr_sum)\n",
    "print(\"Array - 1:\", arr_sub)\n",
    "print(\"Array * 3:\", arr_mult)\n",
    "print(\"Array / 2:\", arr_div)\n",
    "\n"
   ]
  },
  {
   "cell_type": "markdown",
   "id": "c310c6a1",
   "metadata": {},
   "source": [
    "\n",
    "Esto generará un nuevo `nd-array` con los resultados de la operación aplicada a cada elemento.\n",
    "\n",
    "---\n"
   ]
  },
  {
   "cell_type": "markdown",
   "id": "947fafde",
   "metadata": {},
   "source": [
    "\n",
    "#### 3.2 Funciones Matemáticas y Estadísticas\n",
    "\n",
    "NumPy incluye funciones matemáticas y estadísticas que se aplican de forma eficiente sobre `nd-arrays`. Entre las funciones más comunes se encuentran:\n",
    "\n",
    "- `np.sum()`: Suma de todos los elementos.\n",
    "- `np.mean()`: Media (promedio) de los elementos.\n",
    "- `np.max()`: Valor máximo.\n",
    "- `np.min()`: Valor mínimo.\n",
    "- `np.std()`: Desviación estándar.\n",
    "\n",
    "Ejemplo:\n"
   ]
  },
  {
   "cell_type": "code",
   "execution_count": null,
   "id": "31bddd21",
   "metadata": {},
   "outputs": [],
   "source": [
    "\n",
    "# Crear un array de ejemplo\n",
    "arr = np.array([1, 2, 3, 4, 5])\n",
    "\n",
    "# Calcular estadísticas\n",
    "arr_sum = np.sum(arr)\n",
    "arr_mean = np.mean(arr)\n",
    "arr_max = np.max(arr)\n",
    "arr_min = np.min(arr)\n",
    "arr_std = np.std(arr)\n",
    "print('array original: ', arr)\n",
    "print(\"Suma:\", arr_sum)\n",
    "print(\"Media:\", arr_mean)\n",
    "print(\"Máximo:\", arr_max)\n",
    "print(\"Mínimo:\", arr_min)\n",
    "print(\"Desviación estándar:\", arr_std)\n",
    "\n"
   ]
  },
  {
   "cell_type": "markdown",
   "id": "ccd72ac2",
   "metadata": {},
   "source": [
    "\n",
    "Estas funciones son muy útiles para analizar y resumir datos de `nd-arrays` de forma rápida.\n",
    "\n",
    "---\n"
   ]
  },
  {
   "cell_type": "markdown",
   "id": "90ed55f3",
   "metadata": {},
   "source": [
    "\n",
    "#### 3.3 Broadcasting\n",
    "\n",
    "El **broadcasting** en NumPy permite realizar operaciones entre `nd-arrays` de diferentes dimensiones, ampliando automáticamente las dimensiones de los arrays más pequeños para que coincidan con las dimensiones del array más grande en la operación.\n",
    "\n",
    "Por ejemplo, si intentamos sumar un array 1D a un array 2D, NumPy \"extiende\" el array 1D para que coincida con la forma del array 2D.\n",
    "\n",
    "Ejemplo de broadcasting:\n"
   ]
  },
  {
   "cell_type": "code",
   "execution_count": null,
   "id": "f2156aeb",
   "metadata": {},
   "outputs": [],
   "source": [
    "\n",
    "\n",
    "# Crear un array 2D y un array 1D\n",
    "arr_2d = np.array([[1, 2, 3], [4, 5, 6]])\n",
    "arr_1d = np.array([1, 2, 3])\n",
    "\n",
    "# Suma utilizando broadcasting\n",
    "result = arr_2d + arr_1d\n",
    "\n",
    "print(\"Array 2D:\\n\", arr_2d)\n",
    "print(\"Array 1D:\", arr_1d)\n",
    "print(\"Resultado (broadcasting):\\n\", result)\n",
    "\n"
   ]
  },
  {
   "cell_type": "markdown",
   "id": "c482171d",
   "metadata": {},
   "source": [
    "\n",
    "En este caso, el array 1D `arr_1d` se extiende para coincidir con las filas del array 2D `arr_2d`, permitiendo la suma.\n"
   ]
  },
  {
   "cell_type": "markdown",
   "id": "decdff59",
   "metadata": {},
   "source": [
    "\n",
    "El broadcasting sigue ciertas reglas:\n",
    "\n",
    "1. **Dimensiones compatibles**: Si las dimensiones no son iguales, una de ellas debe ser `1` para que NumPy pueda \"extenderla\".\n",
    "2. **Alineación desde la derecha**: NumPy compara las dimensiones de derecha a izquierda.\n",
    "3. **Extensión automática**: Las dimensiones de tamaño `1` se repiten para coincidir con la otra dimensión mayor.\n"
   ]
  },
  {
   "cell_type": "markdown",
   "id": "848cd992",
   "metadata": {},
   "source": [
    "\n",
    "Con el broadcasting, NumPy permite realizar operaciones sin necesidad de ajustar manualmente la forma de los arrays, mejorando la eficiencia y simplificando el código.\n",
    "\n",
    "---\n"
   ]
  },
  {
   "cell_type": "markdown",
   "id": "feff0d54",
   "metadata": {},
   "source": [
    "\n",
    "Esta sección introduce a los estudiantes a las operaciones básicas necesarias para trabajar con `nd-arrays` de forma eficiente en NumPy, cubriendo desde operaciones aritméticas elementales hasta el aprovechamiento de funciones estadísticas y el potente mecanismo de broadcasting."
   ]
  },
  {
   "cell_type": "markdown",
   "id": "597d99c5",
   "metadata": {},
   "source": [
    "[Video de apoyo a la lectura hasta aquí](https://www.youtube.com/watch?v=2U-Y6-sRihU)"
   ]
  },
  {
   "cell_type": "markdown",
   "id": "37419be0",
   "metadata": {},
   "source": [
    "\n",
    "4. **Utilización de `nd-arrays` en Ciencia de Datos**\n",
    "   - Carga y manipulación de datos con `nd-arrays` (leer archivos CSV con `numpy.loadtxt` y `numpy.genfromtxt`).\n",
    "   - Preprocesamiento de datos: normalización, estandarización y manejo de valores faltantes.\n",
    "   - Introducción a la selección de datos y características usando `nd-arrays` en preparación para modelos de machine learning.\n"
   ]
  },
  {
   "cell_type": "markdown",
   "id": "817a6cdb",
   "metadata": {},
   "source": [
    "\n",
    "## 4. Utilización de `nd-arrays` en Ciencia de Datos\n"
   ]
  },
  {
   "cell_type": "markdown",
   "id": "1c350902",
   "metadata": {},
   "source": [
    "\n",
    "Los `nd-arrays` de NumPy son ampliamente utilizados en ciencia de datos para manejar y preprocesar datos de manera eficiente. "
   ]
  },
  {
   "cell_type": "markdown",
   "id": "999d9295",
   "metadata": {},
   "source": [
    "NumPy ofrece funciones para:  \n",
    "\n",
    "* cargar, \n",
    "* manipular y \n",
    "* preparar datos, \n",
    "  \n",
    "los cuales luego se pueden usar en análisis estadísticos, visualizaciones y modelos de machine learning.\n",
    "\n",
    "---\n"
   ]
  },
  {
   "cell_type": "markdown",
   "id": "2a85ead4",
   "metadata": {},
   "source": [
    "\n",
    "#### 4.1 Carga y Manipulación de Datos con `nd-arrays`\n"
   ]
  },
  {
   "cell_type": "markdown",
   "id": "e45b4f9d",
   "metadata": {},
   "source": [
    "\n",
    "Una de las primeras tareas en ciencia de datos es la carga de datos. "
   ]
  },
  {
   "cell_type": "markdown",
   "id": "ff368415",
   "metadata": {},
   "source": [
    "NumPy permite leer archivos CSV de manera directa mediante las funciones:\n",
    "* `numpy.loadtxt` y \n",
    "* `numpy.genfromtxt`\n"
   ]
  },
  {
   "cell_type": "markdown",
   "id": "c684e6a0",
   "metadata": {},
   "source": [
    "\n",
    "- **`numpy.loadtxt`**: Lee datos numéricos de archivos de texto. Es rápido, pero requiere que los datos sean homogéneos (sin valores faltantes o mezclas de tipos).\n"
   ]
  },
  {
   "cell_type": "markdown",
   "id": "52b70035",
   "metadata": {},
   "source": [
    "\n",
    "- **`numpy.genfromtxt`**: Es más flexible y puede manejar datos con valores faltantes. Permite especificar un delimitador, omitir filas y columnas, y reemplazar valores faltantes.\n",
    "\n",
    "Ejemplo:\n"
   ]
  },
  {
   "cell_type": "code",
   "execution_count": null,
   "id": "a0e8f0a1",
   "metadata": {},
   "outputs": [],
   "source": [
    "import numpy as np\n",
    "import csv\n",
    "\n",
    "# Definir los datos que queremos escribir en el archivo CSV\n",
    "# Usaremos `None` o una cadena vacía para representar valores faltantes\n",
    "datos = [\n",
    "    [1, 2, 3],\n",
    "    [4, '', 6],\n",
    "    [7, 8, ''],\n",
    "    ['', 11, 12]\n",
    "]\n",
    "datos "
   ]
  },
  {
   "cell_type": "code",
   "execution_count": null,
   "id": "82226fcc",
   "metadata": {},
   "outputs": [],
   "source": [
    "\n",
    "# Crear y escribir el archivo CSV\n",
    "with open('datos.csv', mode='w', newline='') as file:\n",
    "    writer = csv.writer(file)\n",
    "    writer.writerows(datos)\n",
    "\n",
    "print(\"Archivo 'datos.csv' creado con éxito.\")\n"
   ]
  },
  {
   "cell_type": "code",
   "execution_count": null,
   "id": "f11377d6",
   "metadata": {},
   "outputs": [],
   "source": [
    "import numpy as np\n",
    "\n",
    "# Cargar datos de un archivo CSV\n",
    "# Nota: Se requiere un archivo 'datos.csv' con datos numéricos para este ejemplo.\n",
    "# data = np.loadtxt('datos.csv', delimiter=',')  # Usar esta línea si no hay valores faltantes.\n",
    "data = np.genfromtxt('datos.csv', delimiter=',', missing_values='', filling_values=np.nan)  # Si hay valores faltantes\n",
    "\n",
    "print(\"Datos cargados:\\n\", data)\n",
    "\n"
   ]
  },
  {
   "cell_type": "code",
   "execution_count": null,
   "id": "39adc3b3",
   "metadata": {},
   "outputs": [],
   "source": [
    "np.genfromtxt('C:/Users/marco/Downloads/edad_nombre.csv',\\\n",
    "    delimiter=',', missing_values='', filling_values=np.nan)"
   ]
  },
  {
   "cell_type": "code",
   "execution_count": null,
   "id": "a26f6e01",
   "metadata": {},
   "outputs": [],
   "source": [
    "import pandas as pd \n",
    "pd.read_csv('C:/Users/marco/Downloads/data.csv')"
   ]
  },
  {
   "cell_type": "markdown",
   "id": "4da776d0",
   "metadata": {},
   "source": [
    "\n",
    "Aquí, `np.genfromtxt` maneja valores faltantes reemplazándolos por `np.nan` (Not a Number), lo cual es útil para evitar errores en archivos incompletos.\n",
    "\n",
    "---\n"
   ]
  },
  {
   "cell_type": "markdown",
   "id": "b2eb34cd",
   "metadata": {},
   "source": [
    "[Video sobre obtención de datos con NumPy aquí](https://www.youtube.com/watch?v=AJ6diPbicY4)"
   ]
  },
  {
   "cell_type": "markdown",
   "id": "08d1cb14",
   "metadata": {},
   "source": [
    "\n",
    "#### 4.2 NumPy para Preprocesamiento de Datos\n"
   ]
  },
  {
   "cell_type": "code",
   "execution_count": null,
   "id": "2b309380",
   "metadata": {},
   "outputs": [],
   "source": [
    "# Mapa conceptual preprocesamiento de datos con numpy \n",
    "\n",
    "from graphviz import Digraph\n",
    "\n",
    "# Crear el objeto Digraph\n",
    "dot = Digraph(comment='Preprocesamiento de Datos con NumPy')\n",
    "\n",
    "# Nodo principal\n",
    "dot.node('A', 'Preprocesamiento de Datos con NumPy', \\\n",
    "    shape='box', style='filled', color='lightblue')\n",
    "\n",
    "# Escalamiento de atributos numéricos\n",
    "dot.node('B', 'Escalamiento de Atributos Numéricos', shape='ellipse', \\\n",
    "    style='filled', color='lightgreen')\n",
    "dot.edge('A', 'B')\n",
    "\n",
    "# Normalización\n",
    "dot.node('C', 'Normalización', shape='box', style='rounded,filled', color='orange')\n",
    "dot.edge('B', 'C')\n",
    "dot.node('D', 'Reescalar al rango [0, 1]\\n(X - min) / (max - min)', shape='note')\n",
    "dot.edge('C', 'D')\n",
    "\n",
    "# Estandarización\n",
    "dot.node('E', 'Estandarización', shape='box', style='rounded,filled', color='orange')\n",
    "dot.edge('B', 'E')\n",
    "dot.node('F', 'Media = 0, Desviación Estándar = 1\\n(X - mean) / std', shape='note')\n",
    "dot.edge('E', 'F')\n",
    "\n",
    "# Tratamiento de datos faltantes\n",
    "dot.node('G', 'Tratamiento de Datos Faltantes', shape='ellipse', style='filled',\\\n",
    "    color='lightgreen')\n",
    "dot.edge('A', 'G')\n",
    "\n",
    "# Métodos para datos faltantes\n",
    "dot.node('H', 'Rellenar con Media, Mediana o Moda', shape='box', \\\n",
    "    style='rounded,filled', color='orange')\n",
    "dot.edge('G', 'H')\n",
    "dot.node('I', 'Eliminar Filas/Columnas\\ncon Datos Faltantes', \\\n",
    "    shape='box', style='rounded,filled', color='orange')\n",
    "dot.edge('G', 'I')\n",
    "dot.node('J', 'Usar Valores por Defecto\\n(Interpolación o Modelo)', \\\n",
    "    shape='box', style='rounded,filled', color='orange')\n",
    "dot.edge('G', 'J')\n",
    "\n",
    "# Renderizar el grafo\n",
    "dot.render('preprocesamiento_datos', format='png')\n",
    "\n",
    "dot.view()\n",
    "print(\"Mapa conceptual generado y guardado como preprocesamiento_datos.png\")\n"
   ]
  },
  {
   "cell_type": "markdown",
   "id": "4260043f",
   "metadata": {},
   "source": [
    "\n",
    "El preprocesamiento es un paso clave para preparar los datos antes de aplicar cualquier modelo. "
   ]
  },
  {
   "cell_type": "markdown",
   "id": "d6664b43",
   "metadata": {},
   "source": [
    "Incluye tareas como normalización, estandarización y manejo de valores faltantes.\n"
   ]
  },
  {
   "cell_type": "markdown",
   "id": "995e8fd8",
   "metadata": {},
   "source": [
    "\n",
    "- **Normalización**: Escala los datos para que sus valores estén en un rango entre 0 y 1. "
   ]
  },
  {
   "cell_type": "markdown",
   "id": "e77a0953",
   "metadata": {},
   "source": [
    "Esto se realiza restando el valor mínimo y dividiendo entre el rango (máximo - mínimo).\n"
   ]
  },
  {
   "cell_type": "code",
   "execution_count": null,
   "id": "4edd8ab6",
   "metadata": {},
   "outputs": [],
   "source": [
    "datos_con_faltantes = np.array([[1,2,3], [np.nan, 4,5], [6, np.nan, 7], [8, 9, np.nan]]) \n",
    "datos_con_faltantes"
   ]
  },
  {
   "cell_type": "code",
   "execution_count": null,
   "id": "ae6bd33c",
   "metadata": {},
   "outputs": [],
   "source": [
    "# Normalizar un array\n",
    "min_val = np.nanmin(datos_faltantes, axis=0)\n",
    "min_val, datos_faltantes \n"
   ]
  },
  {
   "cell_type": "code",
   "execution_count": null,
   "id": "2f8c5e71",
   "metadata": {},
   "outputs": [],
   "source": [
    "max_val = np.nanmax(datos_faltantes, axis=0)\n",
    "max_val, datos_faltantes"
   ]
  },
  {
   "cell_type": "code",
   "execution_count": null,
   "id": "a5ebabfc",
   "metadata": {},
   "outputs": [],
   "source": [
    "normalized_data = (datos_con_faltantes - min_val) / (max_val - min_val)\n",
    "\n",
    "normalized_data\n",
    "\n"
   ]
  },
  {
   "cell_type": "markdown",
   "id": "a204e521",
   "metadata": {},
   "source": [
    "\n",
    "- **Estandarización**: Escala los datos para que tengan media 0 y desviación estándar 1, lo cual es útil para modelos de machine learning que son sensibles a la escala de los datos.\n"
   ]
  },
  {
   "cell_type": "code",
   "execution_count": null,
   "id": "63e4ee81",
   "metadata": {},
   "outputs": [],
   "source": [
    "# Estandarizar un array\n",
    "mean = np.nanmean(datos_con_faltantes, axis=0)\n",
    "std_dev = np.nanstd(datos_con_faltantes, axis=0)\n",
    "standardized_data = (datos_con_faltantes - mean) / std_dev\n",
    "\n",
    "print(\"Datos estandarizados:\\n\", standardized_data)\n",
    "\n"
   ]
  },
  {
   "cell_type": "markdown",
   "id": "234b15c5",
   "metadata": {},
   "source": [
    "\n",
    "- **Manejo de Valores Faltantes**: NumPy representa los valores faltantes como `np.nan`, lo cual facilita el reemplazo o la eliminación de estos valores.\n"
   ]
  },
  {
   "cell_type": "code",
   "execution_count": null,
   "id": "4d96dda7",
   "metadata": {},
   "outputs": [],
   "source": [
    "mean_vals = np.nanmean(datos_faltantes, axis=0)\n",
    "mean_vals"
   ]
  },
  {
   "cell_type": "code",
   "execution_count": null,
   "id": "3cf42e58",
   "metadata": {},
   "outputs": [],
   "source": [
    "\n",
    "# Reemplazar valores faltantes con la media de cada columna\n",
    "nan_mask = np.isnan(datos_con_faltantes) # Crear una máscara para identificar los valores faltantes\n",
    "nan_mask"
   ]
  },
  {
   "cell_type": "code",
   "execution_count": null,
   "id": "54e9181c",
   "metadata": {},
   "outputs": [],
   "source": [
    "np.where(nan_mask)"
   ]
  },
  {
   "cell_type": "code",
   "execution_count": null,
   "id": "e12af4ab",
   "metadata": {},
   "outputs": [],
   "source": [
    "np.take(mean_vals, np.where(nan_mask)[1])"
   ]
  },
  {
   "cell_type": "code",
   "execution_count": null,
   "id": "70f7a7d3",
   "metadata": {},
   "outputs": [],
   "source": [
    "\n",
    "datos_con_faltantes[nan_mask] = np.take(mean_vals, np.where(nan_mask)[1]) # Reemplaza los valores faltantes con la media de la columna correspondiente\n",
    "\n",
    "print(\"Datos con valores faltantes reemplazados:\\n\", datos_faltantes)\n",
    "\n"
   ]
  },
  {
   "cell_type": "code",
   "execution_count": null,
   "id": "3b73d04e",
   "metadata": {},
   "outputs": [],
   "source": [
    "from sklearn.impute import SimpleImputer\n",
    "imputer = SimpleImputer(strategy=\"mean\")"
   ]
  },
  {
   "cell_type": "code",
   "execution_count": null,
   "id": "5c881ba1",
   "metadata": {},
   "outputs": [],
   "source": [
    "imputer.fit_transform(datos_con_faltantes)"
   ]
  },
  {
   "cell_type": "markdown",
   "id": "3ee3874d",
   "metadata": {},
   "source": [
    "\n",
    "En este ejemplo, `np.isnan()` se usa para detectar valores faltantes, y `np.nanmean()` calcula la media ignorando los `np.nan`.\n",
    "\n",
    "---\n"
   ]
  },
  {
   "cell_type": "markdown",
   "id": "59b0d176",
   "metadata": {},
   "source": [
    "# Significado del uso de `np.where()`  \n"
   ]
  },
  {
   "cell_type": "markdown",
   "id": "de2c4ec8",
   "metadata": {},
   "source": [
    "\n",
    "El código `np.where(nan_mask)[1]` se usa para obtener los índices de las columnas donde hay valores faltantes (representados por `NaN` o `np.nan`) en un `nd-array` llamado `data`. "
   ]
  },
  {
   "cell_type": "markdown",
   "id": "1a6098e9",
   "metadata": {},
   "source": [
    "Vamos a desglosarlo paso a paso para entender su funcionamiento y propósito.\n"
   ]
  },
  {
   "cell_type": "markdown",
   "id": "a6d69c70",
   "metadata": {},
   "source": [
    "\n",
    "### Desglose del Código\n"
   ]
  },
  {
   "cell_type": "markdown",
   "id": "a3d37f43",
   "metadata": {},
   "source": [
    "\n",
    "1. **`nan_mask = np.isnan(data)`**:\n",
    "   - Primero, `np.isnan(data)` genera una máscara booleana llamada `nan_mask`, en la que cada elemento de `data` se evalúa para ver si es `NaN`.\n",
    "   - Si un elemento es `NaN`, el valor correspondiente en `nan_mask` es `True`; de lo contrario, es `False`.\n",
    "\n",
    "   Por ejemplo, si `data` es:\n"
   ]
  },
  {
   "cell_type": "code",
   "execution_count": null,
   "id": "380544b8",
   "metadata": {},
   "outputs": [],
   "source": [
    "import numpy as np \n",
    "data = np.array([[1, np.nan, 3],\n",
    "                    [4, 5, np.nan],\n",
    "                    [np.nan, 8, 9]])\n",
    "\n",
    "data "
   ]
  },
  {
   "cell_type": "markdown",
   "id": "731168f9",
   "metadata": {},
   "source": [
    "\n",
    "   Entonces `nan_mask` sería:\n"
   ]
  },
  {
   "cell_type": "code",
   "execution_count": null,
   "id": "014c44d6",
   "metadata": {},
   "outputs": [],
   "source": [
    "\n",
    "nan_mask = np.isnan(data)\n",
    "nan_mask "
   ]
  },
  {
   "cell_type": "markdown",
   "id": "ce502cd4",
   "metadata": {},
   "source": [
    "\n",
    "2. **`np.where(nan_mask)`**:\n",
    "   - `np.where()` devuelve los índices de los elementos `True` en `nan_mask`. Como `nan_mask` es un array 2D, `np.where(nan_mask)` devuelve dos arrays: el primero con los índices de las filas y el segundo con los índices de las columnas donde `True` aparece en `nan_mask`.\n",
    "   - En nuestro ejemplo, `np.where(nan_mask)` devolvería:\n"
   ]
  },
  {
   "cell_type": "code",
   "execution_count": null,
   "id": "fd6c8992",
   "metadata": {},
   "outputs": [],
   "source": [
    "\n",
    "np.where(nan_mask)\n",
    "\n"
   ]
  },
  {
   "cell_type": "markdown",
   "id": "a27c6f4a",
   "metadata": {},
   "source": [
    "Esto significa que hay valores `NaN` en `data[0, 1]`, `data[1, 2]`, y `data[2, 0]`.\n"
   ]
  },
  {
   "cell_type": "markdown",
   "id": "340cacfe",
   "metadata": {},
   "source": [
    "\n",
    "3. **`np.where(nan_mask)[1]`**:\n",
    "   - La expresión `[1]` extrae el segundo array (los índices de las columnas) del resultado de `np.where(nan_mask)`.\n",
    "   - En este caso, `np.where(nan_mask)[1]` devolvería `array([1, 2, 0])`, que son los índices de las columnas donde `NaN` aparece en `data`.\n"
   ]
  },
  {
   "cell_type": "markdown",
   "id": "152e61bf",
   "metadata": {},
   "source": [
    "\n",
    "### Uso en el Contexto\n"
   ]
  },
  {
   "cell_type": "markdown",
   "id": "d94dd4a6",
   "metadata": {},
   "source": [
    "\n",
    "Cuando usamos `np.where(nan_mask)[1]` en una expresión como:\n"
   ]
  },
  {
   "cell_type": "code",
   "execution_count": null,
   "id": "8ebdaa7d",
   "metadata": {},
   "outputs": [],
   "source": [
    "\n",
    "data[nan_mask] = np.take(mean_vals, np.where(nan_mask)[1])\n"
   ]
  },
  {
   "cell_type": "markdown",
   "id": "021a9eec",
   "metadata": {},
   "source": [
    "\n",
    "estamos diciendo que cada valor `NaN` en `data` debe ser reemplazado con el valor promedio de su respectiva columna. "
   ]
  },
  {
   "cell_type": "markdown",
   "id": "9b80dae7",
   "metadata": {},
   "source": [
    "La función `np.take(mean_vals, np.where(nan_mask)[1])` se encarga de seleccionar el promedio de cada columna específica para cada posición donde hay un `NaN`, asegurando que el valor faltante en cada columna se sustituya con el promedio correspondiente de esa columna."
   ]
  },
  {
   "cell_type": "markdown",
   "id": "3a589ba6",
   "metadata": {},
   "source": [
    "\n",
    "#### 4.3 Selección de Datos y Características\n"
   ]
  },
  {
   "cell_type": "markdown",
   "id": "3af473c3",
   "metadata": {},
   "source": [
    "\n",
    "En ciencia de datos, la selección de datos y características relevantes es fundamental para optimizar el rendimiento de los modelos. "
   ]
  },
  {
   "cell_type": "markdown",
   "id": "a620b70c",
   "metadata": {},
   "source": [
    "NumPy facilita la selección y manipulación de subconjuntos de datos a partir de un `nd-array`.\n",
    "\n",
    "- **Selección por Índices**: NumPy permite seleccionar elementos, filas o columnas específicas usando índices o rangos de índices.\n"
   ]
  },
  {
   "cell_type": "code",
   "execution_count": null,
   "id": "147ac455",
   "metadata": {},
   "outputs": [],
   "source": [
    "# Seleccionar la primera columna (característica) y la primera fila (observación)\n",
    "first_column = data[:, 0]\n",
    "first_row = data[0, :]\n",
    "\n",
    "print(\"Primera columna:\", first_column)\n",
    "print(\"Primera fila:\", first_row)\n",
    "\n"
   ]
  },
  {
   "cell_type": "markdown",
   "id": "cf7bfc6b",
   "metadata": {},
   "source": [
    "\n",
    "- **Selección Condicional**: Se pueden seleccionar datos según condiciones lógicas, lo cual es útil para filtrar datos relevantes.\n"
   ]
  },
  {
   "cell_type": "code",
   "execution_count": null,
   "id": "15632b60",
   "metadata": {},
   "outputs": [],
   "source": [
    "\n",
    "# Seleccionar solo las filas donde el valor en la tercera columna es mayor que 8\n",
    "filtered_data = data[data[:, 2] > 8]\n",
    "\n",
    "print(\"Datos filtrados (primera columna > 50):\\n\", filtered_data)\n",
    "\n"
   ]
  },
  {
   "cell_type": "markdown",
   "id": "20501dc4",
   "metadata": {},
   "source": [
    "\n",
    "Esta técnica es especialmente útil cuando se desea eliminar outliers o seleccionar subconjuntos de datos específicos.\n",
    "\n",
    "---\n"
   ]
  },
  {
   "cell_type": "markdown",
   "id": "777263aa",
   "metadata": {},
   "source": [
    "\n",
    "Este contenido sobre **Utilización de `nd-arrays` en Ciencia de Datos** ayuda a comprender cómo cargar, preprocesar y seleccionar datos de manera eficiente usando NumPy, facilitando así la preparación para su uso en análisis y modelos de machine learning."
   ]
  },
  {
   "cell_type": "markdown",
   "id": "0c4b1658",
   "metadata": {},
   "source": [
    "[Video de apoyo hasta aquí](https://www.youtube.com/watch?v=HuEgRYNh7U0)"
   ]
  },
  {
   "cell_type": "markdown",
   "id": "6fbfa172",
   "metadata": {},
   "source": [
    "\n",
    "# 5. **Aplicaciones Básicas de `nd-arrays` en Machine Learning**\n"
   ]
  },
  {
   "cell_type": "markdown",
   "id": "e8a6a3aa",
   "metadata": {},
   "source": [
    "   - Preparación de datos de entrada y etiquetas para modelos de machine learning.\n",
    "   - Ejemplo de uso de `nd-arrays` para almacenar y manipular datos en un modelo de regresión lineal simple.\n",
    "   - Ventajas de usar `nd-arrays` en pipelines de machine learning para optimización de cálculo.\n"
   ]
  },
  {
   "cell_type": "markdown",
   "id": "a299c713",
   "metadata": {},
   "source": [
    "\n",
    "## 5. Aplicaciones Básicas de `nd-arrays` en Machine Learning\n"
   ]
  },
  {
   "cell_type": "markdown",
   "id": "68ee53b9",
   "metadata": {},
   "source": [
    "\n",
    "Los `nd-arrays` de NumPy son esenciales en machine learning, ya que permiten almacenar, manipular y procesar datos de manera eficiente. "
   ]
  },
  {
   "cell_type": "markdown",
   "id": "8f84f5c3",
   "metadata": {},
   "source": [
    "En este apartado, veremos cómo los `nd-arrays` se utilizan para preparar datos y optimizar el cálculo en tareas de machine learning.\n",
    "\n",
    "---\n"
   ]
  },
  {
   "cell_type": "markdown",
   "id": "2b96f933",
   "metadata": {},
   "source": [
    "\n",
    "#### 5.1 Preparación de Datos de Entrada y Etiquetas para Modelos de Machine Learning\n"
   ]
  },
  {
   "cell_type": "markdown",
   "id": "6afe6270",
   "metadata": {},
   "source": [
    "\n",
    "En machine learning, el primer paso es organizar los datos de entrada y las etiquetas o \"targets\" (valores que queremos predecir) en arrays que los modelos puedan utilizar.\n"
   ]
  },
  {
   "cell_type": "markdown",
   "id": "3d8c8539",
   "metadata": {},
   "source": [
    "\n",
    "- **Datos de Entrada (`X`)**: Una matriz donde cada fila representa un ejemplo (una muestra) y cada columna representa una característica (atributo) del conjunto de datos.\n",
    "- **Etiquetas o Targets (`y`)**: Un vector o matriz que contiene los valores que el modelo debe aprender a predecir.\n"
   ]
  },
  {
   "cell_type": "markdown",
   "id": "f55fee27",
   "metadata": {},
   "source": [
    "\n",
    "Por ejemplo, supongamos que tenemos datos sobre viviendas, donde cada vivienda se representa con tres características: área, número de habitaciones y antigüedad, y queremos predecir el precio. "
   ]
  },
  {
   "cell_type": "markdown",
   "id": "baf3b25e",
   "metadata": {},
   "source": [
    "Creamos dos `nd-arrays`:\n"
   ]
  },
  {
   "cell_type": "code",
   "execution_count": 1,
   "id": "ba5a22bd",
   "metadata": {},
   "outputs": [
    {
     "name": "stdout",
     "output_type": "stream",
     "text": [
      "Datos de entrada (X):\n",
      " [[1500    3   20]\n",
      " [2000    4   15]\n",
      " [1800    3   10]\n",
      " [1700    2   30]]\n",
      "Etiquetas (y):\n",
      " [300000 400000 350000 280000]\n"
     ]
    }
   ],
   "source": [
    "import numpy as np\n",
    "# Atributos predictores: área, número de habitaciones y antiguedad\n",
    "# Atributos objetivo: precio\n",
    "# Datos de entrada (área, número de habitaciones, antigüedad)\n",
    "X = np.array([\n",
    "    [1500, 3, 20],\n",
    "    [2000, 4, 15],\n",
    "    [1800, 3, 10],\n",
    "    [1700, 2, 30]\n",
    "])\n",
    "\n",
    "# Etiquetas o targets (precios de las viviendas)\n",
    "y = np.array([300000, 400000, 350000, 280000])\n",
    "\n",
    "print(\"Datos de entrada (X):\\n\", X)\n",
    "print(\"Etiquetas (y):\\n\", y)\n",
    "\n"
   ]
  },
  {
   "cell_type": "markdown",
   "id": "9b3cea09",
   "metadata": {},
   "source": [
    "\n",
    "Aquí, `X` contiene las características de cada vivienda, y `y` contiene los precios correspondientes.\n",
    "\n",
    "---\n"
   ]
  },
  {
   "cell_type": "markdown",
   "id": "51bc2f20",
   "metadata": {},
   "source": [
    "\n",
    "#### 5.2 Ejemplo de Uso de `nd-arrays` para Almacenar y Manipular Datos en un Modelo de Regresión Lineal Simple\n"
   ]
  },
  {
   "cell_type": "markdown",
   "id": "8573283c",
   "metadata": {},
   "source": [
    "\n",
    "La regresión lineal es un modelo de machine learning que intenta predecir una variable continua en función de una o más variables independientes. "
   ]
  },
  {
   "cell_type": "markdown",
   "id": "231c5e88",
   "metadata": {},
   "source": [
    "Los `nd-arrays` son ideales para almacenar los datos necesarios y realizar operaciones de ajuste y predicción en este modelo.\n"
   ]
  },
  {
   "cell_type": "markdown",
   "id": "b48d1cab",
   "metadata": {},
   "source": [
    "\n",
    "En un ejemplo sencillo de regresión lineal con una sola característica, podemos calcular los parámetros de ajuste usando la fórmula de mínimos cuadrados.\n"
   ]
  },
  {
   "cell_type": "markdown",
   "id": "77571e29",
   "metadata": {},
   "source": [
    "\n",
    "1. **Ejemplo de regresión lineal simple**: Supongamos que solo tenemos el área de la vivienda como característica y queremos predecir el precio.\n"
   ]
  },
  {
   "cell_type": "code",
   "execution_count": 1,
   "id": "1f309dc7",
   "metadata": {},
   "outputs": [],
   "source": [
    "import numpy as np \n",
    "\n"
   ]
  },
  {
   "cell_type": "code",
   "execution_count": 10,
   "id": "bc7c5ea6",
   "metadata": {},
   "outputs": [],
   "source": [
    "# Área de las viviendas (característica de entrada)\n",
    "X_simple = np.array([1_500, 2_000, 1_800, 1_700])\n",
    "# Precios de las viviendas (target)\n",
    "y = np.array([300_000, 400_000, 350_000, 280_000])\n",
    "\n",
    "\n"
   ]
  },
  {
   "cell_type": "code",
   "execution_count": 12,
   "id": "a8849a85",
   "metadata": {},
   "outputs": [
    {
     "data": {
      "text/plain": [
       "[<matplotlib.lines.Line2D at 0x26e6e0620f0>]"
      ]
     },
     "execution_count": 12,
     "metadata": {},
     "output_type": "execute_result"
    },
    {
     "data": {
      "image/png": "[encoded data removed]",
      "text/plain": [
       "<Figure size 640x480 with 1 Axes>"
      ]
     },
     "metadata": {},
     "output_type": "display_data"
    }
   ],
   "source": [
    "import matplotlib.pyplot as plt   \n",
    "\n",
    "plt.plot(X_simple, y, 'o')"
   ]
  },
  {
   "cell_type": "code",
   "execution_count": 13,
   "id": "a2e2d4de",
   "metadata": {},
   "outputs": [
    {
     "data": {
      "text/plain": [
       "1"
      ]
     },
     "execution_count": 13,
     "metadata": {},
     "output_type": "execute_result"
    }
   ],
   "source": [
    "X_simple.ndim"
   ]
  },
  {
   "cell_type": "code",
   "execution_count": 14,
   "id": "b10ebe01",
   "metadata": {},
   "outputs": [
    {
     "data": {
      "text/plain": [
       "array([300000, 400000, 350000, 280000])"
      ]
     },
     "execution_count": 14,
     "metadata": {},
     "output_type": "execute_result"
    }
   ],
   "source": [
    "y "
   ]
  },
  {
   "cell_type": "code",
   "execution_count": 15,
   "id": "fe305ee8",
   "metadata": {},
   "outputs": [
    {
     "data": {
      "text/plain": [
       "array([[1.0e+00, 1.5e+03],\n",
       "       [1.0e+00, 2.0e+03],\n",
       "       [1.0e+00, 1.8e+03],\n",
       "       [1.0e+00, 1.7e+03]])"
      ]
     },
     "execution_count": 15,
     "metadata": {},
     "output_type": "execute_result"
    }
   ],
   "source": [
    "matriz = np.vstack([np.ones(len(X_simple)), X_simple], dtype=np.float64).T\n",
    "matriz "
   ]
  },
  {
   "cell_type": "code",
   "execution_count": 16,
   "id": "c2fef3ea",
   "metadata": {},
   "outputs": [
    {
     "data": {
      "text/plain": [
       "array([[   1, 1500],\n",
       "       [   1, 2000],\n",
       "       [   1, 1800],\n",
       "       [   1, 1700]])"
      ]
     },
     "execution_count": 16,
     "metadata": {},
     "output_type": "execute_result"
    }
   ],
   "source": [
    "matriz.astype(int) "
   ]
  },
  {
   "cell_type": "code",
   "execution_count": 17,
   "id": "5e7f8cbb",
   "metadata": {},
   "outputs": [
    {
     "data": {
      "text/plain": [
       "2"
      ]
     },
     "execution_count": 17,
     "metadata": {},
     "output_type": "execute_result"
    }
   ],
   "source": [
    "matriz.ndim "
   ]
  },
  {
   "cell_type": "code",
   "execution_count": 18,
   "id": "6efd67ba",
   "metadata": {},
   "outputs": [
    {
     "data": {
      "text/plain": [
       "array([-51153.84615385,    219.23076923])"
      ]
     },
     "execution_count": 18,
     "metadata": {},
     "output_type": "execute_result"
    }
   ],
   "source": [
    "\n",
    "# Calcular los coeficientes de la regresión lineal  \n",
    "\n",
    "# Usamos la fórmula de mínimos cuadrados: theta = (X^T * X)^-1 * X^T * y\n",
    "X_simple = matriz \n",
    "\n",
    "# Cálculo de los coeficientes theta\n",
    "theta = np.linalg.inv(X_simple.T @ X_simple) @ X_simple.T @ y\n",
    "theta "
   ]
  },
  {
   "cell_type": "code",
   "execution_count": 19,
   "id": "9b7204f8",
   "metadata": {},
   "outputs": [
    {
     "name": "stdout",
     "output_type": "stream",
     "text": [
      "Coeficiente de sesgo (intercepto): b -51153.84615384659\n",
      "Pendiente: m 219.23076923077008\n"
     ]
    }
   ],
   "source": [
    "\n",
    "# theta[0] es el término de sesgo y theta[1] es la pendiente\n",
    "print(\"Coeficiente de sesgo (intercepto): b\", theta[0])\n",
    "print(\"Pendiente: m\", theta[1])\n",
    "\n"
   ]
  },
  {
   "cell_type": "code",
   "execution_count": null,
   "id": "92f9bb50",
   "metadata": {},
   "outputs": [
    {
     "data": {
      "image/png": "[encoded data removed]",
      "text/plain": [
       "<Figure size 640x480 with 1 Axes>"
      ]
     },
     "metadata": {},
     "output_type": "display_data"
    }
   ],
   "source": [
    "import numpy as np \n",
    "import matplotlib.pyplot as plt \n",
    "\n",
    "plt.scatter(X_simple[:, 1], y, color = 'blue') # datos \n",
    "def modelo(x):\n",
    "    m = theta[1]\n",
    "    b = theta[0]\n",
    "    return m*x+b\n",
    "dominio = np.array([1400, 2100])\n",
    "rango = modelo(dominio)\n",
    "\n",
    "plt.plot(dominio, rango, color = 'red')\n",
    "plt.title('Datos y modelo de regresión lineal simple')\n",
    "plt.xlabel('Area de las viviendas')\n",
    "plt.ylabel('valor de vivienda')\n",
    "plt.grid()\n",
    "plt.savefig('')"
   ]
  },
  {
   "cell_type": "markdown",
   "id": "56a58bcf",
   "metadata": {},
   "source": [
    "\n",
    "En este ejemplo, `X_simple` se convierte en una matriz con una columna de `1s` para representar el término de sesgo (intercepto) y otra columna para los valores de área de las viviendas."
   ]
  },
  {
   "cell_type": "markdown",
   "id": "9adcd255",
   "metadata": {},
   "source": [
    " Los parámetros `theta[0]` y `theta[1]` se calculan utilizando la fórmula de mínimos cuadrados.\n"
   ]
  },
  {
   "cell_type": "markdown",
   "id": "fad7deb3",
   "metadata": {},
   "source": [
    "\n",
    "2. **Predicción**: Una vez que tenemos los coeficientes, podemos predecir el precio de una vivienda nueva usando el modelo ajustado.\n"
   ]
  },
  {
   "cell_type": "code",
   "execution_count": null,
   "id": "c075b88c",
   "metadata": {},
   "outputs": [],
   "source": [
    "# Predecir el precio de una vivienda con área de 1900 pies cuadrados\n",
    "area_nueva = 1900\n",
    "precio_predicho = theta[0] + theta[1] * area_nueva\n",
    "\n",
    "print(\"Precio predicho para una vivienda de 1900 pies cuadrados:\", precio_predicho)\n",
    "\n"
   ]
  },
  {
   "cell_type": "markdown",
   "id": "6d54ae52",
   "metadata": {},
   "source": [
    "\n",
    "Este ejemplo muestra cómo los `nd-arrays` facilitan el almacenamiento y la manipulación de datos para ajustar y hacer predicciones en modelos de machine learning.\n",
    "\n",
    "---\n"
   ]
  },
  {
   "cell_type": "markdown",
   "id": "7ad13a6d",
   "metadata": {},
   "source": [
    "\n",
    "#### 5.3 Ventajas de Usar `nd-arrays` en Pipelines de Machine Learning para Optimización de Cálculo\n"
   ]
  },
  {
   "cell_type": "markdown",
   "id": "5c7d22be",
   "metadata": {},
   "source": [
    "\n",
    "El uso de `nd-arrays` en machine learning ofrece numerosas ventajas, especialmente cuando se implementan pipelines de procesamiento:\n"
   ]
  },
  {
   "cell_type": "markdown",
   "id": "ce6329b4",
   "metadata": {},
   "source": [
    "\n",
    "- **Operaciones Vectorizadas**: NumPy permite realizar operaciones en todo el array de una sola vez, evitando bucles y aprovechando el procesamiento vectorizado, lo cual es mucho más rápido.\n",
    "  \n"
   ]
  },
  {
   "cell_type": "markdown",
   "id": "a7802093",
   "metadata": {},
   "source": [
    "- **Optimización de Memoria**: Los `nd-arrays` son eficientes en términos de memoria, lo cual es esencial cuando se trabaja con grandes conjuntos de datos.\n"
   ]
  },
  {
   "cell_type": "markdown",
   "id": "dcb6b16e",
   "metadata": {},
   "source": [
    "\n",
    "- **Facilidad en el Preprocesamiento de Datos**: Con `nd-arrays`, es sencillo realizar tareas de normalización, estandarización y tratamiento de valores faltantes, que son fundamentales en pipelines de machine learning.\n"
   ]
  },
  {
   "cell_type": "markdown",
   "id": "e2b665e8",
   "metadata": {},
   "source": [
    "\n",
    "- **Integración con Bibliotecas Populares**: NumPy se integra sin problemas con bibliotecas de machine learning como Scikit-Learn, TensorFlow y PyTorch, que utilizan `nd-arrays` para manejar los datos en sus algoritmos.\n"
   ]
  },
  {
   "cell_type": "markdown",
   "id": "8f479bed",
   "metadata": {},
   "source": [
    "\n",
    "Ejemplo de pipeline básico:\n"
   ]
  },
  {
   "cell_type": "code",
   "execution_count": null,
   "id": "4ea3e704",
   "metadata": {},
   "outputs": [],
   "source": [
    "# Preprocesamiento de datos usando operaciones vectorizadas\n",
    "X_normalized = (X - np.mean(X, axis=0)) / np.std(X, axis=0)\n",
    "X_normalized \n"
   ]
  },
  {
   "cell_type": "code",
   "execution_count": null,
   "id": "69d241eb",
   "metadata": {},
   "outputs": [],
   "source": [
    "# División en conjuntos de entrenamiento y prueba\n",
    "from sklearn.model_selection import train_test_split\n",
    "X_train, X_test, y_train, y_test = train_test_split(X_normalized, y, test_size=0.2, random_state=42)\n",
    "\n",
    "print(\"Conjunto de entrenamiento (X_train):\\n\", X_train)\n",
    "print(\"Conjunto de prueba (X_test):\\n\", X_test)\n",
    "\n"
   ]
  },
  {
   "cell_type": "markdown",
   "id": "0702d74d",
   "metadata": {},
   "source": [
    "\n",
    "Este pipeline realiza el preprocesamiento normalizando los datos y luego los divide en conjuntos de entrenamiento y prueba, preparando los datos para ser usados en modelos de machine learning.\n",
    "\n",
    "---\n"
   ]
  },
  {
   "cell_type": "markdown",
   "id": "96202cc7",
   "metadata": {},
   "source": [
    "\n",
    "Con estos ejemplos y explicaciones, queda claro cómo los `nd-arrays` en NumPy son herramientas fundamentales para \n",
    "* almacenar, \n",
    "* procesar y \n",
    "* optimizar datos en tareas de machine learning,   \n",
    "    - desde la preparación de los datos hasta \n",
    "    - la integración en pipelines eficientes."
   ]
  },
  {
   "cell_type": "markdown",
   "id": "f7f6059c",
   "metadata": {},
   "source": [
    "[Video de apoyo hasta aquí]()"
   ]
  },
  {
   "cell_type": "markdown",
   "id": "41639cd9",
   "metadata": {},
   "source": [
    "\n",
    "#### 4. Actividades de aprendizaje\n"
   ]
  },
  {
   "cell_type": "markdown",
   "id": "70270119",
   "metadata": {},
   "source": [
    "\n",
    "1. **Exploración de los `nd-arrays`**:\n",
    "   - Crear distintos `nd-arrays` utilizando listas y funciones de inicialización de NumPy (`zeros`, `ones`, `arange`).\n",
    "   - Modificar `nd-arrays` y observar las propiedades como `shape`, `dtype`, `size`, y `ndim`.\n"
   ]
  },
  {
   "cell_type": "markdown",
   "id": "2157685a",
   "metadata": {},
   "source": [
    "\n",
    "2. **Operaciones aritméticas y broadcasting**:\n",
    "   - Realizar ejercicios de operaciones matemáticas entre `nd-arrays` y entre `nd-arrays` y escalares.\n",
    "   - Explorar cómo funciona el broadcasting al realizar operaciones entre `nd-arrays` de diferentes dimensiones.\n"
   ]
  },
  {
   "cell_type": "markdown",
   "id": "04df1b3e",
   "metadata": {},
   "source": [
    "\n",
    "3. **Carga y manipulación de datos**:\n",
    "   - Cargar datos de ejemplo desde un archivo CSV usando NumPy.\n",
    "   - Realizar operaciones de preprocesamiento: limpieza de valores faltantes, normalización y estandarización.\n"
   ]
  },
  {
   "cell_type": "markdown",
   "id": "56d95837",
   "metadata": {},
   "source": [
    "\n",
    "4. **Ejercicio de Machine Learning Básico**:\n",
    "   - Simulación de un conjunto de datos para una regresión lineal (por ejemplo, relación entre horas de estudio y calificación).\n",
    "   - Utilizar `nd-arrays` para almacenar datos de entrada y etiquetas y calcular manualmente la regresión lineal.\n"
   ]
  },
  {
   "cell_type": "markdown",
   "id": "fa2cbbd1",
   "metadata": {},
   "source": [
    "\n",
    "#### 5. Tarea o actividades de ejercitación y fijación\n"
   ]
  },
  {
   "cell_type": "markdown",
   "id": "71656bd0",
   "metadata": {},
   "source": [
    "\n",
    "1. **Práctica de creación y manipulación de `nd-arrays`**:\n",
    "   - Crear `nd-arrays` de diferentes dimensiones experimentando con sus propiedades y métodos.\n"
   ]
  },
  {
   "cell_type": "code",
   "execution_count": 57,
   "id": "82a7e1ff",
   "metadata": {},
   "outputs": [],
   "source": [
    "import numpy as np \n",
    "\n"
   ]
  },
  {
   "cell_type": "code",
   "execution_count": 77,
   "id": "a4d1bdff",
   "metadata": {},
   "outputs": [
    {
     "data": {
      "text/plain": [
       "1"
      ]
     },
     "execution_count": 77,
     "metadata": {},
     "output_type": "execute_result"
    }
   ],
   "source": [
    "array = np.array([])\n",
    "array.ndim"
   ]
  },
  {
   "cell_type": "code",
   "execution_count": 78,
   "id": "8888b454",
   "metadata": {},
   "outputs": [
    {
     "data": {
      "text/plain": [
       "2"
      ]
     },
     "execution_count": 78,
     "metadata": {},
     "output_type": "execute_result"
    }
   ],
   "source": [
    "array = np.array([[]])\n",
    "array.ndim "
   ]
  },
  {
   "cell_type": "code",
   "execution_count": 79,
   "id": "5042c593",
   "metadata": {},
   "outputs": [
    {
     "data": {
      "text/plain": [
       "3"
      ]
     },
     "execution_count": 79,
     "metadata": {},
     "output_type": "execute_result"
    }
   ],
   "source": [
    "np.array([[[]]]).ndim "
   ]
  },
  {
   "cell_type": "code",
   "execution_count": 80,
   "id": "1ab640ba",
   "metadata": {},
   "outputs": [
    {
     "data": {
      "text/plain": [
       "(1, 0)"
      ]
     },
     "execution_count": 80,
     "metadata": {},
     "output_type": "execute_result"
    }
   ],
   "source": [
    "array.shape # número de capas por número de filas por número de columnas "
   ]
  },
  {
   "cell_type": "markdown",
   "id": "3ad7c571",
   "metadata": {},
   "source": [
    "[Video de apoyo diferentes dimensiones en un ndarray]()"
   ]
  },
  {
   "cell_type": "markdown",
   "id": "0523cfda",
   "metadata": {},
   "source": [
    "- Crear `nd-arrays` de diferentes tipos, experimentando con sus propiedades y métodos.\n"
   ]
  },
  {
   "cell_type": "code",
   "execution_count": null,
   "id": "4487ccac",
   "metadata": {},
   "outputs": [],
   "source": [
    "array = np.array([], dtype = )"
   ]
  },
  {
   "cell_type": "markdown",
   "id": "5e136123",
   "metadata": {},
   "source": [
    "[Video diferentes tipos de datos ](https://www.youtube.com/watch?v=mzRP6ZvgtOo)"
   ]
  },
  {
   "cell_type": "markdown",
   "id": "dd85eafc",
   "metadata": {},
   "source": [
    "   - Aplicar operaciones matemáticas y de broadcasting en `nd-arrays` generados.\n"
   ]
  },
  {
   "cell_type": "code",
   "execution_count": 18,
   "id": "946725e5",
   "metadata": {},
   "outputs": [
    {
     "data": {
      "text/plain": [
       "array([[[1, 2],\n",
       "        [3, 4],\n",
       "        [5, 6]],\n",
       "\n",
       "       [[1, 2],\n",
       "        [3, 4],\n",
       "        [5, 6]],\n",
       "\n",
       "       [[1, 2],\n",
       "        [3, 4],\n",
       "        [5, 6]],\n",
       "\n",
       "       [[1, 2],\n",
       "        [3, 4],\n",
       "        [5, 6]]])"
      ]
     },
     "execution_count": 18,
     "metadata": {},
     "output_type": "execute_result"
    }
   ],
   "source": [
    "import numpy as np \n",
    "array1 = np.array([[[1,2], [3,4], [5,6]], [[1,2], [3,4], [5,6]], [[1,2], [3,4], [5,6]], [[1,2], [3,4], [5,6]] ]) # 4x3x2\n",
    "array1 "
   ]
  },
  {
   "cell_type": "code",
   "execution_count": 17,
   "id": "34d5f962",
   "metadata": {},
   "outputs": [
    {
     "data": {
      "text/plain": [
       "(4, 3, 2)"
      ]
     },
     "execution_count": 17,
     "metadata": {},
     "output_type": "execute_result"
    }
   ],
   "source": [
    "array1.shape"
   ]
  },
  {
   "cell_type": "code",
   "execution_count": 19,
   "id": "7aeb7920",
   "metadata": {},
   "outputs": [
    {
     "data": {
      "text/plain": [
       "[1, 2, 1, 2, 1, 2, 1, 2]"
      ]
     },
     "execution_count": 19,
     "metadata": {},
     "output_type": "execute_result"
    }
   ],
   "source": [
    "[1,2]*4"
   ]
  },
  {
   "cell_type": "code",
   "execution_count": 20,
   "id": "27475f93",
   "metadata": {},
   "outputs": [
    {
     "data": {
      "text/plain": [
       "[[1, 2], [1, 2], [1, 2], [1, 2]]"
      ]
     },
     "execution_count": 20,
     "metadata": {},
     "output_type": "execute_result"
    }
   ],
   "source": [
    "[[1,2], [1,2], [1,2], [1,2]]"
   ]
  },
  {
   "cell_type": "code",
   "execution_count": 32,
   "id": "1bfe3fa9",
   "metadata": {},
   "outputs": [
    {
     "data": {
      "text/plain": [
       "array(['2024-12-09'], dtype='datetime64[D]')"
      ]
     },
     "execution_count": 32,
     "metadata": {},
     "output_type": "execute_result"
    }
   ],
   "source": [
    "np.array(['2024-12-09'], dtype=np.datetime64)"
   ]
  },
  {
   "cell_type": "code",
   "execution_count": 33,
   "id": "35dea004",
   "metadata": {},
   "outputs": [
    {
     "data": {
      "text/plain": [
       "datetime.datetime(2024, 12, 9, 10, 39, 11, 103864)"
      ]
     },
     "execution_count": 33,
     "metadata": {},
     "output_type": "execute_result"
    }
   ],
   "source": [
    "from datetime import datetime\n",
    "now = datetime.now()\n",
    "now "
   ]
  },
  {
   "cell_type": "code",
   "execution_count": null,
   "id": "86d4d571",
   "metadata": {},
   "outputs": [],
   "source": [
    "\n",
    "In [16]: now\n",
    "Out[16]: datetime.datetime(2023, 4, 12, 13, 9, 16, 484533)\n",
    "\n",
    "In [17]: now.year, now.month, now.day\n",
    "Out[17]: (2023, 4, 12)"
   ]
  },
  {
   "cell_type": "code",
   "execution_count": 35,
   "id": "42b539d9",
   "metadata": {},
   "outputs": [
    {
     "data": {
      "text/plain": [
       "[1, 1, 1, 1]"
      ]
     },
     "execution_count": 35,
     "metadata": {},
     "output_type": "execute_result"
    }
   ],
   "source": [
    "[1]*4"
   ]
  },
  {
   "cell_type": "code",
   "execution_count": 38,
   "id": "6f8f997b",
   "metadata": {},
   "outputs": [
    {
     "data": {
      "text/plain": [
       "array([ 8, 12])"
      ]
     },
     "execution_count": 38,
     "metadata": {},
     "output_type": "execute_result"
    }
   ],
   "source": [
    "np.array([2, 3])*4"
   ]
  },
  {
   "cell_type": "markdown",
   "id": "c815017a",
   "metadata": {},
   "source": [
    "\n",
    "2. **Cálculo estadístico**:\n",
    "   - Dado un conjunto de datos de muestra, calcular la media, mediana, desviación estándar y otros valores estadísticos utilizando funciones de NumPy.\n"
   ]
  },
  {
   "cell_type": "markdown",
   "id": "ab4ac81b",
   "metadata": {},
   "source": [
    "# Lista de ejercicios para practicar el cálculo estadístico utilizando la estructura `nd-array` de NumPy:\n",
    "\n",
    "---\n"
   ]
  },
  {
   "cell_type": "markdown",
   "id": "2d8c25d5",
   "metadata": {},
   "source": [
    "\n",
    "### **Ejercicios básicos**\n",
    "\n",
    "1. **Cálculo de la media y mediana**  \n",
    "   Dado el conjunto de datos: `[12, 15, 14, 10, 8, 12, 14, 15, 10, 8]`, crea un `nd-array` y calcula la **media** y la **mediana** utilizando funciones de NumPy.\n"
   ]
  },
  {
   "cell_type": "code",
   "execution_count": 63,
   "id": "f8fca997",
   "metadata": {},
   "outputs": [],
   "source": [
    "array = np.array([12, 15, 14, 10, 8, 12, 14, 15, 10, 8])"
   ]
  },
  {
   "cell_type": "code",
   "execution_count": 64,
   "id": "5fdf5cd6",
   "metadata": {},
   "outputs": [
    {
     "data": {
      "text/plain": [
       "np.float64(11.8)"
      ]
     },
     "execution_count": 64,
     "metadata": {},
     "output_type": "execute_result"
    }
   ],
   "source": [
    "array.mean() "
   ]
  },
  {
   "cell_type": "code",
   "execution_count": 43,
   "id": "c4369da5",
   "metadata": {},
   "outputs": [
    {
     "data": {
      "text/plain": [
       "np.float64(11.8)"
      ]
     },
     "execution_count": 43,
     "metadata": {},
     "output_type": "execute_result"
    }
   ],
   "source": [
    "sum(array)/len(array)"
   ]
  },
  {
   "cell_type": "code",
   "execution_count": 45,
   "id": "370fab30",
   "metadata": {},
   "outputs": [
    {
     "data": {
      "text/plain": [
       "np.float64(12.0)"
      ]
     },
     "execution_count": 45,
     "metadata": {},
     "output_type": "execute_result"
    }
   ],
   "source": [
    "np.median(array)"
   ]
  },
  {
   "cell_type": "code",
   "execution_count": 46,
   "id": "2cf023cf",
   "metadata": {},
   "outputs": [
    {
     "data": {
      "text/plain": [
       "array([ 8,  8, 10, 10, 12, 12, 14, 14, 15, 15])"
      ]
     },
     "execution_count": 46,
     "metadata": {},
     "output_type": "execute_result"
    }
   ],
   "source": [
    "np.sort(array)"
   ]
  },
  {
   "cell_type": "code",
   "execution_count": 47,
   "id": "0368db4b",
   "metadata": {},
   "outputs": [
    {
     "data": {
      "text/plain": [
       "10"
      ]
     },
     "execution_count": 47,
     "metadata": {},
     "output_type": "execute_result"
    }
   ],
   "source": [
    "len(array)"
   ]
  },
  {
   "cell_type": "code",
   "execution_count": 48,
   "id": "c49a7646",
   "metadata": {},
   "outputs": [
    {
     "data": {
      "text/plain": [
       "np.float64(2.5612496949731396)"
      ]
     },
     "execution_count": 48,
     "metadata": {},
     "output_type": "execute_result"
    }
   ],
   "source": [
    "array.std() "
   ]
  },
  {
   "cell_type": "code",
   "execution_count": 53,
   "id": "53422249",
   "metadata": {},
   "outputs": [
    {
     "data": {
      "text/plain": [
       "np.float64(2.5612496949731396)"
      ]
     },
     "execution_count": 53,
     "metadata": {},
     "output_type": "execute_result"
    }
   ],
   "source": [
    "np.sqrt(np.sum((array-array.mean() )**2)/len(array))"
   ]
  },
  {
   "cell_type": "code",
   "execution_count": null,
   "id": "c9811beb",
   "metadata": {},
   "outputs": [
    {
     "data": {
      "text/plain": [
       "array([ 0.07808688,  1.2493901 ,  0.85895569, -0.70278193, -1.48365074,\n",
       "        0.07808688,  0.85895569,  1.2493901 , -0.70278193, -1.48365074])"
      ]
     },
     "execution_count": 55,
     "metadata": {},
     "output_type": "execute_result"
    }
   ],
   "source": [
    "## Rango \n",
    "\n",
    "(array-array.mean())/array.std() # escalamiento por estandarización "
   ]
  },
  {
   "cell_type": "code",
   "execution_count": null,
   "id": "9efee385",
   "metadata": {},
   "outputs": [
    {
     "data": {
      "text/plain": [
       "array([0.57142857, 1.        , 0.85714286, 0.28571429, 0.        ,\n",
       "       0.57142857, 0.85714286, 1.        , 0.28571429, 0.        ])"
      ]
     },
     "execution_count": 56,
     "metadata": {},
     "output_type": "execute_result"
    }
   ],
   "source": [
    "(array- np.min(array))/ (np.max(array) - np.min(array)) # escalamiento por normalización "
   ]
  },
  {
   "cell_type": "code",
   "execution_count": 60,
   "id": "50002550",
   "metadata": {},
   "outputs": [],
   "source": [
    "datos = np.array([5, 10, 15, 20, 25, 30])"
   ]
  },
  {
   "cell_type": "code",
   "execution_count": 61,
   "id": "79a3e160",
   "metadata": {},
   "outputs": [
    {
     "data": {
      "text/plain": [
       "np.float64(17.5)"
      ]
     },
     "execution_count": 61,
     "metadata": {},
     "output_type": "execute_result"
    }
   ],
   "source": [
    "np.mean(datos)"
   ]
  },
  {
   "cell_type": "code",
   "execution_count": 62,
   "id": "d0945ce8",
   "metadata": {},
   "outputs": [
    {
     "data": {
      "text/plain": [
       "np.float64(17.5)"
      ]
     },
     "execution_count": 62,
     "metadata": {},
     "output_type": "execute_result"
    }
   ],
   "source": [
    "np.median(datos)  "
   ]
  },
  {
   "cell_type": "markdown",
   "id": "80b2661a",
   "metadata": {},
   "source": [
    "[Video sobre cálculo de media y mediana]https://www.youtube.com/watch?v=BrN2HB0r6PY()"
   ]
  },
  {
   "cell_type": "markdown",
   "id": "941c2a8b",
   "metadata": {},
   "source": [
    "\n",
    "2. **Desviación estándar y varianza**  \n",
    "   Con el conjunto de datos `[5, 10, 15, 20, 25, 30]`, calcula la **desviación estándar** y la **varianza**.\n"
   ]
  },
  {
   "cell_type": "code",
   "execution_count": 65,
   "id": "2edfea2d",
   "metadata": {},
   "outputs": [],
   "source": [
    "array2 = np.array([5, 10, 15, 20, 25, 30])"
   ]
  },
  {
   "cell_type": "code",
   "execution_count": 67,
   "id": "4b614198",
   "metadata": {},
   "outputs": [
    {
     "data": {
      "text/plain": [
       "np.float64(8.539125638299666)"
      ]
     },
     "execution_count": 67,
     "metadata": {},
     "output_type": "execute_result"
    }
   ],
   "source": [
    "desviacion_estandar = array2.std() \n",
    "desviacion_estandar "
   ]
  },
  {
   "cell_type": "code",
   "execution_count": 68,
   "id": "5c7d0470",
   "metadata": {},
   "outputs": [
    {
     "data": {
      "text/plain": [
       "np.float64(72.91666666666667)"
      ]
     },
     "execution_count": 68,
     "metadata": {},
     "output_type": "execute_result"
    }
   ],
   "source": [
    "varianza = desviacion_estandar**2\n",
    "varianza "
   ]
  },
  {
   "cell_type": "code",
   "execution_count": 69,
   "id": "a8a26df8",
   "metadata": {},
   "outputs": [
    {
     "data": {
      "text/plain": [
       "np.float64(8.539125638299666)"
      ]
     },
     "execution_count": 69,
     "metadata": {},
     "output_type": "execute_result"
    }
   ],
   "source": [
    "np.std(array2)"
   ]
  },
  {
   "cell_type": "markdown",
   "id": "655552fd",
   "metadata": {},
   "source": [
    "\n",
    "3. **Cálculo del rango**  \n",
    "   Encuentra el rango (diferencia entre el valor máximo y el mínimo) para el arreglo `[45, 20, 30, 80, 70, 10]`.\n"
   ]
  },
  {
   "cell_type": "code",
   "execution_count": 72,
   "id": "9fbc4006",
   "metadata": {},
   "outputs": [],
   "source": [
    "muestra = np.array([45, 20, 30, 80, 70, 10])\n"
   ]
  },
  {
   "cell_type": "code",
   "execution_count": 73,
   "id": "4f6230cb",
   "metadata": {},
   "outputs": [
    {
     "data": {
      "text/plain": [
       "np.int64(70)"
      ]
     },
     "execution_count": 73,
     "metadata": {},
     "output_type": "execute_result"
    }
   ],
   "source": [
    "rango_numpy = np.max(muestra) - np.min(muestra)\n",
    "rango_numpy "
   ]
  },
  {
   "cell_type": "code",
   "execution_count": 74,
   "id": "e8f450fd",
   "metadata": {},
   "outputs": [
    {
     "data": {
      "text/plain": [
       "np.float64(41.25)"
      ]
     },
     "execution_count": 74,
     "metadata": {},
     "output_type": "execute_result"
    }
   ],
   "source": [
    "from scipy.stats import iqr \n",
    "\n",
    "iqr(muestra)"
   ]
  },
  {
   "cell_type": "code",
   "execution_count": 70,
   "id": "ce3e473a",
   "metadata": {},
   "outputs": [
    {
     "name": "stdout",
     "output_type": "stream",
     "text": [
      "Rango con NumPy (Rango Total): 70\n",
      "Rango intercuartílico (IQR) con SciPy: 41.25\n"
     ]
    }
   ],
   "source": [
    "\n",
    "import numpy as np\n",
    "from scipy.stats import iqr\n",
    "\n",
    "# Muestra de datos\n",
    "muestra = [45, 20, 30, 80, 70, 10]\n",
    "\n",
    "# Cálculo del rango con NumPy\n",
    "rango_numpy = np.max(muestra) - np.min(muestra)\n",
    "\n",
    "# Cálculo del rango intercuartílico (IQR) con SciPy\n",
    "rango_iqr = iqr(muestra)\n",
    "\n",
    "# Resultados\n",
    "print(\"Rango con NumPy (Rango Total):\", rango_numpy)\n",
    "print(\"Rango intercuartílico (IQR) con SciPy:\", rango_iqr)\n",
    "\n"
   ]
  },
  {
   "cell_type": "markdown",
   "id": "b9fd0c77",
   "metadata": {},
   "source": [
    "\n",
    "### **Explicación del código**:\n",
    "1. **Rango total con NumPy**:\n",
    "   - `np.max(muestra)` obtiene el valor máximo de la muestra.\n",
    "   - `np.min(muestra)` obtiene el valor mínimo.\n",
    "   - Su diferencia da el **rango total**, es decir, la dispersión entre el menor y el mayor valor de los datos.\n"
   ]
  },
  {
   "cell_type": "markdown",
   "id": "7300513b",
   "metadata": {},
   "source": [
    "\n",
    "2. **Rango intercuartílico (IQR) con SciPy**:\n",
    "   - `iqr(muestra)` calcula el rango intercuartílico, es decir, la distancia entre el primer y el tercer cuartil (Q3 - Q1). Es una medida robusta de dispersión que excluye los valores extremos.\n",
    "\n",
    "### **Resultados esperados**:\n",
    "Con la muestra `[45, 20, 30, 80, 70, 10]`:\n",
    "- **Rango Total**: \\(80 - 10 = 70\\)\n",
    "- **Rango intercuartílico**: Calculado en función de los cuartiles de la muestra.\n",
    "\n",
    "Si ejecutas el código, obtendrás ambos valores directamente."
   ]
  },
  {
   "cell_type": "markdown",
   "id": "dafde2ca",
   "metadata": {},
   "source": [
    "\n",
    "4. **Percentiles y cuartiles**  \n",
    "   Calcula los **percentiles 25, 50 (mediana) y 75** para el conjunto de datos `[4, 8, 15, 16, 23, 42, 50]`.\n"
   ]
  },
  {
   "cell_type": "code",
   "execution_count": 8,
   "id": "0a562699",
   "metadata": {},
   "outputs": [],
   "source": [
    "datos2 = [4, 8, 15, 16, 23, 42, 50] \n",
    "\n"
   ]
  },
  {
   "cell_type": "code",
   "execution_count": 10,
   "id": "278f2dc1",
   "metadata": {},
   "outputs": [
    {
     "data": {
      "text/plain": [
       "array([22.5, 37.5, 80. ])"
      ]
     },
     "execution_count": 10,
     "metadata": {},
     "output_type": "execute_result"
    }
   ],
   "source": [
    "np.percentile(datos, (25, 50, 100))"
   ]
  },
  {
   "cell_type": "code",
   "execution_count": 13,
   "id": "f7e3a380",
   "metadata": {},
   "outputs": [
    {
     "data": {
      "text/plain": [
       "{'whiskers': [<matplotlib.lines.Line2D at 0x1bcf4a44740>,\n",
       "  <matplotlib.lines.Line2D at 0x1bcf4a44a10>],\n",
       " 'caps': [<matplotlib.lines.Line2D at 0x1bcf4a44d10>,\n",
       "  <matplotlib.lines.Line2D at 0x1bcf4a44e90>],\n",
       " 'boxes': [<matplotlib.lines.Line2D at 0x1bcf4a10410>],\n",
       " 'medians': [<matplotlib.lines.Line2D at 0x1bcf4a45130>],\n",
       " 'fliers': [<matplotlib.lines.Line2D at 0x1bcf4a45430>],\n",
       " 'means': []}"
      ]
     },
     "execution_count": 13,
     "metadata": {},
     "output_type": "execute_result"
    },
    {
     "data": {
      "image/png": "[encoded data removed]",
      "text/plain": [
       "<Figure size 640x480 with 1 Axes>"
      ]
     },
     "metadata": {},
     "output_type": "display_data"
    }
   ],
   "source": [
    "sueldos = [1, 2, 3, 4,5]\n",
    "\n",
    "import matplotlib.pyplot as plt \n",
    "\n",
    "plt.boxplot(sueldos) "
   ]
  },
  {
   "cell_type": "code",
   "execution_count": null,
   "id": "e79ce474",
   "metadata": {},
   "outputs": [],
   "source": []
  },
  {
   "cell_type": "markdown",
   "id": "361dad2b",
   "metadata": {},
   "source": [
    "\n",
    "5. **Suma acumulativa**  \n",
    "   Genera un arreglo de números aleatorios enteros entre 1 y 20, de tamaño 10, y calcula la suma acumulativa de sus valores.\n",
    "\n",
    "---\n"
   ]
  },
  {
   "cell_type": "code",
   "execution_count": 30,
   "id": "1143fd6b",
   "metadata": {},
   "outputs": [],
   "source": [
    "semilla = np.random.seed(1213)\n",
    "datos = np.random.randint(low = 1, high = 20, size = 10)"
   ]
  },
  {
   "cell_type": "code",
   "execution_count": 31,
   "id": "2f64fc64",
   "metadata": {},
   "outputs": [
    {
     "data": {
      "text/plain": [
       "np.int32(109)"
      ]
     },
     "execution_count": 31,
     "metadata": {},
     "output_type": "execute_result"
    }
   ],
   "source": [
    "sum(datos)"
   ]
  },
  {
   "cell_type": "code",
   "execution_count": 35,
   "id": "3be04bd3",
   "metadata": {},
   "outputs": [
    {
     "data": {
      "text/plain": [
       "array([17, 16, 12,  6,  5, 17,  5,  7, 13, 11], dtype=int32)"
      ]
     },
     "execution_count": 35,
     "metadata": {},
     "output_type": "execute_result"
    }
   ],
   "source": [
    "datos"
   ]
  },
  {
   "cell_type": "code",
   "execution_count": 36,
   "id": "c4a1ebdd",
   "metadata": {},
   "outputs": [
    {
     "data": {
      "text/plain": [
       "np.int32(109)"
      ]
     },
     "execution_count": 36,
     "metadata": {},
     "output_type": "execute_result"
    }
   ],
   "source": [
    "sum(datos)"
   ]
  },
  {
   "cell_type": "code",
   "execution_count": 33,
   "id": "bef5f081",
   "metadata": {},
   "outputs": [
    {
     "data": {
      "text/plain": [
       "array([ 17,  33,  45,  51,  56,  73,  78,  85,  98, 109])"
      ]
     },
     "execution_count": 33,
     "metadata": {},
     "output_type": "execute_result"
    }
   ],
   "source": [
    "np.cumsum(datos)  "
   ]
  },
  {
   "cell_type": "markdown",
   "id": "a75dee54",
   "metadata": {},
   "source": [
    "\n",
    "### **Ejercicios intermedios**\n",
    "\n",
    "6. **Estadísticas básicas de una matriz**  \n",
    "   Crea una matriz `3x4` de números enteros aleatorios entre 10 y 100. Calcula:  \n",
    "   - Media por fila.  \n",
    "   - Media por columna.  \n",
    "   - Desviación estándar total.\n"
   ]
  },
  {
   "cell_type": "markdown",
   "id": "68c3a15b",
   "metadata": {},
   "source": [
    "\n",
    "7. **Frecuencia de valores únicos**  \n",
    "   Dado el arreglo `[5, 10, 10, 20, 20, 20, 30]`, cuenta las frecuencias de cada valor único utilizando `np.unique`.\n"
   ]
  },
  {
   "cell_type": "code",
   "execution_count": 38,
   "id": "f7548506",
   "metadata": {},
   "outputs": [
    {
     "data": {
      "text/plain": [
       "(array([ 5, 10, 20, 30]), array([1, 2, 3, 1]))"
      ]
     },
     "execution_count": 38,
     "metadata": {},
     "output_type": "execute_result"
    }
   ],
   "source": [
    "datos = [5, 10, 10, 20, 20, 20, 30]\n",
    "\n",
    "np.unique(datos, return_counts=True) "
   ]
  },
  {
   "cell_type": "code",
   "execution_count": 42,
   "id": "86b085a4",
   "metadata": {},
   "outputs": [],
   "source": [
    "import pandas as pd \n",
    "\n",
    "datos_serie = pd.Series(datos)"
   ]
  },
  {
   "cell_type": "code",
   "execution_count": 43,
   "id": "7aaea347",
   "metadata": {},
   "outputs": [
    {
     "data": {
      "text/plain": [
       "20    3\n",
       "10    2\n",
       "5     1\n",
       "30    1\n",
       "Name: count, dtype: int64"
      ]
     },
     "execution_count": 43,
     "metadata": {},
     "output_type": "execute_result"
    }
   ],
   "source": [
    "datos_serie.value_counts() "
   ]
  },
  {
   "cell_type": "markdown",
   "id": "129f3d13",
   "metadata": {},
   "source": [
    "\n",
    "8. **Distribución normal**  \n",
    "   Genera 1000 valores aleatorios con una distribución normal (media=50, desviación estándar=10). Calcula:  \n",
    "   - Media.  \n",
    "   - Desviación estándar.  \n",
    "   - Histogramas de frecuencia con 10 y 20 bins.\n"
   ]
  },
  {
   "cell_type": "code",
   "execution_count": 55,
   "id": "80db432e",
   "metadata": {},
   "outputs": [],
   "source": [
    "sigma = 10\n",
    "mu = 50 \n",
    "datos_normal_estandar = np.random.randn(10_000) \n",
    "datos_media_mu_desviacion_sigma = sigma*datos_normal_estandar + mu \n",
    "\n"
   ]
  },
  {
   "cell_type": "code",
   "execution_count": 53,
   "id": "bd54beb1",
   "metadata": {},
   "outputs": [
    {
     "data": {
      "text/plain": [
       "array([60.1906062 , 64.45186942, 54.73123016, 50.26551055, 49.52880826,\n",
       "       47.10452833, 43.95827681, 40.43635006, 44.23208972, 37.74805608,\n",
       "       45.3926826 , 38.9468476 , 51.22541115, 55.45723428, 36.26675454,\n",
       "       60.92872224, 51.28173359, 57.62278448, 54.48954282, 44.59782343,\n",
       "       52.74971203, 48.50827424, 55.46582753, 42.10161634, 54.45148241,\n",
       "       70.16880716, 44.46581665, 26.47480996, 66.30853141, 44.37096432,\n",
       "       20.75714004, 50.95561525, 57.25992331, 57.25520924, 42.80988642,\n",
       "       32.14587598, 57.88818621, 52.61822025, 41.48625549, 54.35496994,\n",
       "       50.52564373, 60.05589622, 44.44660943, 53.14198861, 50.29548842,\n",
       "       58.25303761, 49.42377047, 61.1238292 , 41.66707057, 46.7819849 ,\n",
       "       49.85486964, 50.32462212, 69.01129102, 45.10247074, 65.00627823,\n",
       "       44.73297983, 57.56431605, 41.78292925, 27.57558641, 47.98220791,\n",
       "       38.70134081, 57.49761984, 61.3380975 , 52.05586293, 48.14039451,\n",
       "       46.36353006, 52.65537431, 42.54650241, 61.82469164, 55.9829194 ,\n",
       "       43.21773495, 73.21899349, 52.0589406 , 59.21599795, 53.41320596,\n",
       "       39.27183252, 41.43794872, 42.62559238, 44.70987429, 43.46635895,\n",
       "       41.64197678, 35.79680807, 40.56666701, 49.9423355 , 60.81275294,\n",
       "       60.2224598 , 42.78865307, 50.18108621, 44.3292232 , 52.03391301,\n",
       "       56.53085278, 52.29613027, 48.52914858, 68.68411263, 51.2805607 ,\n",
       "       34.96751678, 39.40673464, 35.38072239, 59.91376387, 47.89344719,\n",
       "       50.39150226, 50.48812227, 55.25549388, 32.27287431, 50.79682325,\n",
       "       46.80837252, 45.00675356, 47.04222537, 47.00607402, 51.59105851,\n",
       "       50.86087215, 54.32478341, 42.55383547, 41.62080445, 46.10074198,\n",
       "       61.57047015, 48.62833106, 48.77231495, 47.31018582, 50.42493666,\n",
       "       56.72619272, 64.69210067, 35.68420117, 40.80839946, 51.66467989,\n",
       "       57.31852792, 52.55868706, 36.75385506, 65.21092684, 54.66499249,\n",
       "       63.54690535, 20.1320502 , 47.06977912, 55.15534346, 52.67607698,\n",
       "       60.41531845, 62.55141734, 37.6162447 , 74.36558189, 39.03242381,\n",
       "       44.80798714, 45.68933433, 54.31757064, 34.55038912, 51.94758798,\n",
       "       44.63101022, 32.5230469 , 59.30880358, 45.29163991, 46.0306132 ,\n",
       "       53.36907574, 39.95745762, 42.53145624, 42.74785823, 63.40220983,\n",
       "       55.87119691, 53.94833878, 52.7703945 , 60.22713455, 35.00546064,\n",
       "       42.35910854, 49.76688945, 59.01025975, 43.68439187, 40.49687751,\n",
       "       36.19085061, 29.45563796, 46.26006572, 34.79426583, 46.74099362,\n",
       "       48.59239168, 53.96926669, 46.12612004, 48.44677784, 66.03544307,\n",
       "       50.72899142, 53.05416172, 59.51246345, 41.22183724, 66.29696399,\n",
       "       49.64475426, 64.21103296, 51.3391806 , 61.81633822, 51.47409707,\n",
       "       55.96876831, 47.89662996, 60.70558257, 47.49939024, 48.16517647,\n",
       "       54.60282087, 64.72622788, 70.00937235, 51.12803709, 49.1472361 ,\n",
       "       61.04178903, 64.09661504, 34.3024968 , 36.73881143, 51.57999086,\n",
       "       36.27540441, 46.62205464, 38.88660437, 40.16690183, 41.47136875,\n",
       "       57.85775657, 51.7227835 , 38.84277598, 54.7040201 , 58.10389659,\n",
       "       61.71018646, 59.75331059, 37.6614755 , 55.15203498, 40.40000425,\n",
       "       64.96752608, 48.53183382, 37.78600137, 44.30071698, 38.44211956,\n",
       "       48.9164752 , 49.37843505, 52.40600757, 67.00745218, 51.82526572,\n",
       "       51.43841171, 56.85776393, 44.63917953, 54.07853384, 45.28310775,\n",
       "       35.30262608, 39.36485614, 62.38252494, 43.52152023, 65.53662524,\n",
       "       56.68938273, 53.54843898, 48.66902266, 46.02317956, 43.30150273,\n",
       "       32.2157839 , 52.4582258 , 61.82700623, 45.43317954, 54.14278659,\n",
       "       48.77634135, 56.84139327, 70.55171624, 51.54821286, 41.25344793,\n",
       "       78.15902463, 27.80502578, 44.55830183, 62.24831682, 47.47657179,\n",
       "       55.91423564, 50.04099771, 44.46161585, 45.1830612 , 48.08026033,\n",
       "       39.85166637, 59.54945666, 55.36841008, 56.03142018, 45.90932862,\n",
       "       63.6534984 , 50.93954807, 56.31874078, 58.46303785, 58.12776308,\n",
       "       46.35356373, 58.6947377 , 32.83542058, 51.11108883, 58.58108668,\n",
       "       78.15943351, 43.26702994, 47.02825119, 44.63528526, 44.96972274,\n",
       "       63.69536607, 50.78163635, 42.28553172, 48.22765883, 60.75787164,\n",
       "       43.27113781, 52.14000633, 48.39794359, 33.45694509, 36.19133949,\n",
       "       35.75939882, 34.6249504 , 59.44324237, 54.00769511, 44.23359126,\n",
       "       36.82321372, 58.68972655, 37.7455862 , 63.21384188, 44.56512047,\n",
       "       55.22151756, 67.20503863, 45.71479387, 42.88193239, 41.36288649,\n",
       "       60.10636665, 51.18602807, 56.48196455, 48.54022886, 41.55558339,\n",
       "       55.5813195 , 39.5414013 , 37.69077044, 51.4058897 , 44.40955959,\n",
       "       60.59542084, 57.10277479, 60.50013961, 60.25302106, 46.69052537,\n",
       "       39.31626355, 51.32577988, 50.09957357, 54.3399707 , 43.18098881,\n",
       "       67.24831549, 49.06389898, 63.03140974, 61.41141278, 61.68740189,\n",
       "       40.27720401, 66.81369904, 61.03354129, 42.23642006, 52.73861446,\n",
       "       71.30978438, 55.51309334, 34.63109685, 42.01581063, 28.01142366,\n",
       "       48.60663621, 45.86875087, 61.74866419, 37.60078365, 43.73949777,\n",
       "       50.15095185, 45.50063422, 59.05694918, 39.41668959, 67.05204976,\n",
       "       38.82662056, 53.32101842, 41.65819045, 38.19603807, 53.52969763,\n",
       "       63.65257635, 60.40700549, 37.40336681, 50.19457589, 50.24782977,\n",
       "       45.27067746, 75.34295555, 31.48781773, 50.21330626, 60.04950224,\n",
       "       47.78674933, 46.72954727, 40.69829642, 65.48151037, 43.39118463,\n",
       "       51.77687291, 44.81142907, 48.61314936, 39.7653466 , 39.7522861 ,\n",
       "       36.8089524 , 39.05319932, 55.40710601, 53.39380047, 49.26940923,\n",
       "       52.75486239, 51.10240371, 38.60077187, 41.2956371 , 51.63537638,\n",
       "       61.61131593, 60.71403135, 41.34021699, 24.73063816, 62.36050149,\n",
       "       47.82639247, 63.67231085, 54.24429072, 63.35273252, 64.70212035,\n",
       "       44.70995894, 39.94517555, 34.66353485, 30.52090612, 63.49575637,\n",
       "       66.80735585, 29.34672379, 72.61301616, 36.20452719, 48.80078531,\n",
       "       55.77710262, 59.64485102, 37.02361331, 58.52193049, 43.46141907,\n",
       "       60.2408559 , 57.43852684, 50.34778253, 46.36298897, 62.57393331,\n",
       "       68.02380272, 53.52428386, 56.87610665, 35.96695686, 44.15887736,\n",
       "       62.70755942, 52.6410953 , 48.26542503, 43.74837356, 49.10168714,\n",
       "       54.1044467 , 51.49989682, 54.13606778, 38.54814796, 44.18519692,\n",
       "       55.5332216 , 35.50081327, 52.42788107, 50.39147992, 52.29763179,\n",
       "       39.65980397, 47.65618198, 47.52478373, 50.34541762, 57.66047435,\n",
       "       41.92322997, 39.18052708, 59.75281318, 58.14850547, 61.01198491,\n",
       "       50.35345036, 49.73684743, 47.64145534, 43.80213552, 68.17774393,\n",
       "       47.46489272, 49.12849902, 48.85902154, 46.23871958, 41.20102355,\n",
       "       25.67933337, 22.15667225, 40.16183339, 64.09614756, 49.24451679,\n",
       "       48.97220075, 46.81213114, 48.88032414, 47.95384466, 41.1767755 ,\n",
       "       66.8839964 , 49.29693517, 53.20386239, 45.7747903 , 51.22838023,\n",
       "       65.60390358, 34.60722479, 33.03470206, 61.07034758, 54.61719258,\n",
       "       35.00914425, 37.32325355, 53.33160465, 45.70911648, 62.72354299,\n",
       "       45.39777639, 45.37165549, 57.21998152, 54.18470213, 63.35388004,\n",
       "       43.61284094, 53.27473852, 52.97809917, 51.57759453, 42.66825499,\n",
       "       50.66747987, 37.7091646 , 54.08152745, 57.04940529, 56.00309927,\n",
       "       28.29577576, 53.99359843, 39.40826804, 61.94843274, 52.8369348 ,\n",
       "       35.22751354, 64.09086981, 63.5601641 , 35.06279983, 38.88186948,\n",
       "       57.26982591, 55.15980507, 37.99524845, 52.97925134, 49.51078214,\n",
       "       64.35894544, 51.95786266, 40.41095481, 36.69786601, 63.62866599,\n",
       "       33.53731971, 36.22543011, 52.00405708, 52.83007801, 52.09505115,\n",
       "       41.668769  , 50.55915429, 61.10868632, 54.11428478, 67.18829397,\n",
       "       50.4774135 , 47.38514687, 66.48284553, 40.54066735, 54.17611131,\n",
       "       42.57382343, 52.46807858, 55.10676315, 55.93582185, 51.04675843,\n",
       "       54.31746007, 67.62052098, 32.15883342, 58.01635333, 48.81437521,\n",
       "       42.41372122, 61.59998223, 39.9793287 , 30.65457934, 63.16523787,\n",
       "       49.11092235, 55.97936592, 40.93987358, 54.67424835, 57.6665429 ,\n",
       "       50.56199279, 40.25954966, 51.5197784 , 48.19712874, 65.9526491 ,\n",
       "       47.78098202, 52.86386866, 52.17429783, 46.69603803, 59.94240719,\n",
       "       59.87280569, 32.41108092, 54.83301882, 44.54111963, 40.21591264,\n",
       "       39.20429594, 55.32959374, 51.80499197, 39.24171103, 48.68581858,\n",
       "       47.52825676, 46.63789349, 28.90630337, 65.38018698, 52.96953051,\n",
       "       47.60100578, 44.23228689, 28.82802933, 42.39971674, 48.6989827 ,\n",
       "       46.20925193, 47.24406458, 39.99872375, 45.37465284, 54.86555326,\n",
       "       54.62180514, 51.41048539, 39.92658194, 56.5913872 , 48.36619129,\n",
       "       55.1054665 , 38.12788024, 50.54991898, 42.33511418, 61.47220137,\n",
       "       56.55455465, 56.20608737, 45.05875539, 62.67504143, 44.42802616,\n",
       "       54.15492168, 56.72371709, 46.88923282, 43.19666648, 58.59856159,\n",
       "       62.23375786, 54.69720175, 66.42966492, 37.90386361, 35.75630707,\n",
       "       57.58164441, 59.08852178, 50.40026373, 44.43254012, 80.99813649,\n",
       "       41.75247513, 45.97272379, 57.94836002, 59.00594462, 57.37908667,\n",
       "       44.43252616, 50.83948016, 54.54233827, 59.35899841, 52.51071749,\n",
       "       49.78190664, 56.31247434, 51.86587244, 55.89700958, 48.36952077,\n",
       "       47.48432021, 51.25084366, 31.47845247, 52.02445556, 52.29820008,\n",
       "       58.90947315, 57.43781691, 40.7504511 , 69.09826418, 42.27188969,\n",
       "       63.30639296, 48.05911979, 46.8658748 , 49.61382548, 42.43909215,\n",
       "       48.01983117, 67.39009594, 55.27000764, 51.76547991, 72.95274889,\n",
       "       35.56947889, 40.56564032, 71.75017683, 65.2890202 , 46.87485506,\n",
       "       38.5088334 , 40.19335631, 58.75645684, 60.00979674, 54.84209241,\n",
       "       57.35577551, 60.23336623, 55.76980958, 43.34897709, 55.41292205,\n",
       "       44.47531366, 54.47802515, 63.56787412, 46.23481299, 36.95690466,\n",
       "       53.59765301, 44.64863805, 50.88067424, 51.43795686, 55.25167924,\n",
       "       47.18826053, 67.04428255, 41.49736692, 62.9635682 , 42.95393555,\n",
       "       59.38569442, 57.47641296, 41.31713389, 56.80592731, 42.807772  ,\n",
       "       34.86815534, 53.79516997, 50.1822838 , 31.79454085, 58.35064293,\n",
       "       54.48367119, 44.13877466, 49.45689362, 44.48801608, 46.74293373,\n",
       "       49.24444848, 60.2961428 , 41.60535845, 45.75470707, 50.39038527,\n",
       "       45.61067403, 56.29332178, 38.43083737, 42.15964832, 49.35122021,\n",
       "       28.63322182, 43.35537073, 36.50523262, 40.74837449, 49.52966028,\n",
       "       49.05089394, 62.17710827, 49.79662452, 68.82198289, 35.74939452,\n",
       "       23.48306884, 40.37630083, 44.16688258, 43.1112707 , 50.09882915,\n",
       "       41.5468636 , 46.52349543, 64.75883287, 42.03747384, 42.66305201,\n",
       "       71.05391212, 47.13816062, 32.08733135, 84.90124269, 60.70972012,\n",
       "       27.63942655, 56.59735006, 49.86643428, 29.78907511, 49.68536854,\n",
       "       57.77023891, 54.99180233, 43.7000076 , 60.05647297, 40.11354823,\n",
       "       57.85239114, 50.52113024, 68.10705338, 44.83187044, 34.90504826,\n",
       "       49.8687288 , 65.8687603 , 65.00584629, 40.7327436 , 64.51625045,\n",
       "       39.84123862, 37.32635532, 43.82500483, 50.5399659 , 69.419972  ,\n",
       "       70.33628325, 37.2182067 , 44.49825344, 40.42130933, 55.31687666,\n",
       "       54.78314769, 46.47987082, 29.73754513, 34.52002357, 48.91449895,\n",
       "       53.53592476, 28.92528851, 47.87189581, 43.78352189, 37.52916733,\n",
       "       61.72409013, 55.94029919, 53.0053847 , 45.32258618, 53.2408561 ,\n",
       "       30.49477078, 51.95408189, 55.06917865, 61.33134204, 39.80687901,\n",
       "       47.31796974, 50.95524435, 46.58108387, 70.53728662, 53.21743882,\n",
       "       62.38878138, 47.95511676, 62.55832586, 58.98825424, 41.94601399,\n",
       "       47.79845874, 29.41267097, 40.69132093, 50.43605154, 62.4240088 ,\n",
       "       52.80657486, 45.19942779, 48.87731756, 50.43218295, 30.43011439,\n",
       "       46.90809178, 51.33513764, 62.30512367, 43.91760021, 54.50505218,\n",
       "       48.14984121, 54.08619022, 72.54314606, 10.27155904, 52.79099949,\n",
       "       63.95439115, 48.81374226, 48.15990014, 32.70671166, 55.84377496,\n",
       "       47.1384166 , 44.39272017, 61.30129271, 49.1852871 , 51.96741266,\n",
       "       62.07278636, 45.97704214, 49.56095302, 37.84727052, 57.42373851,\n",
       "       64.67647629, 51.44992016, 52.11070434, 61.65502271, 47.7626352 ,\n",
       "       42.52100373, 48.03069818, 63.19634343, 43.64253662, 51.8972622 ,\n",
       "       25.20441593, 51.10956225, 68.77669016, 57.47413122, 53.86531355,\n",
       "       48.25733636, 37.81557979, 56.92935873, 48.1133879 , 61.99650885,\n",
       "       31.31882787, 50.6054006 , 51.32672874, 51.81385429, 48.85020246,\n",
       "       51.56405375, 45.31449195, 49.80899381, 71.74674586, 46.80839543,\n",
       "       36.4017184 , 39.65465616, 42.87213794, 43.66093796, 54.62307462,\n",
       "       62.75672356, 47.09889982, 48.19239122, 67.06643003, 41.31441242,\n",
       "       54.06856146, 50.44394028, 64.6774274 , 44.87279073, 52.5897092 ,\n",
       "       47.3742009 , 50.53885227, 43.17341065, 43.2118282 , 60.26385362,\n",
       "       66.43108604, 44.99296976, 61.23300793, 49.6058538 , 36.83618293,\n",
       "       43.28315381, 57.6828652 , 43.65777437, 35.99487235, 50.58540866,\n",
       "       49.68218431, 54.35836827, 56.53632145, 20.16490603, 59.46124454,\n",
       "       67.79242225, 46.32871762, 70.6934939 , 38.55249922, 56.19486311,\n",
       "       61.7078765 , 58.80951083, 55.97460963, 46.29201713, 47.78828352,\n",
       "       58.96495097, 45.61137168, 55.26660418, 56.89706608, 44.83712875,\n",
       "       48.9183719 , 43.875686  , 55.62610284, 42.13811799, 43.6843508 ,\n",
       "       48.60816152, 45.74427838, 35.13705889, 47.96959772, 52.48715674,\n",
       "       62.73777514, 45.89730719, 39.55574597, 33.30255608, 52.64446848,\n",
       "       41.01359087, 44.19708891, 40.59920913, 31.28225406, 51.62049228,\n",
       "       56.30969417, 53.0342502 , 53.15194074, 63.18900484, 42.66335184,\n",
       "       36.12710744, 48.17329177, 36.95231834, 48.17297601, 63.22856264,\n",
       "       49.13057855, 44.29706243, 51.97877604, 50.97859235, 47.90029685,\n",
       "       48.37024753, 47.4805718 , 32.04356159, 50.98096149, 62.11303481,\n",
       "       41.52780833, 40.68023506, 52.78956099, 45.90396972, 59.49439023,\n",
       "       59.27667844, 54.66860321, 49.97634794, 36.45959138, 47.41405215,\n",
       "       67.62923056, 37.34041764, 51.23932445, 51.08091843, 59.17525321,\n",
       "       48.48145573, 40.82345127, 49.86491276, 59.09993659, 58.86468394,\n",
       "       47.6630889 , 59.31108296, 63.90638681, 42.44364479, 50.66910975,\n",
       "       52.16602676, 48.43354691, 55.51641053, 42.63551194, 56.32362299,\n",
       "       60.14444494, 45.42805538, 47.32128333, 36.28083846, 54.99706193,\n",
       "       44.28996176, 50.64881263, 49.56786928, 51.00899897, 54.32507931,\n",
       "       43.26078342, 63.32079707, 29.02174525, 33.39936182, 46.11204654,\n",
       "       53.86925683, 60.0414887 , 70.61846594, 69.56003921, 63.0582239 ,\n",
       "       55.4838076 , 47.4997445 , 69.80621274, 38.47986   , 38.69183988])"
      ]
     },
     "execution_count": 53,
     "metadata": {},
     "output_type": "execute_result"
    }
   ],
   "source": [
    "datos_media_mu_desviacion_sigma"
   ]
  },
  {
   "cell_type": "code",
   "execution_count": 56,
   "id": "985653cf",
   "metadata": {},
   "outputs": [
    {
     "data": {
      "text/plain": [
       "np.float64(49.93348343507454)"
      ]
     },
     "execution_count": 56,
     "metadata": {},
     "output_type": "execute_result"
    }
   ],
   "source": [
    "np.mean(datos_media_mu_desviacion_sigma)"
   ]
  },
  {
   "cell_type": "code",
   "execution_count": 57,
   "id": "5e9f63c5",
   "metadata": {},
   "outputs": [
    {
     "data": {
      "text/plain": [
       "np.float64(10.086455050405869)"
      ]
     },
     "execution_count": 57,
     "metadata": {},
     "output_type": "execute_result"
    }
   ],
   "source": [
    "datos_media_mu_desviacion_sigma.std() "
   ]
  },
  {
   "cell_type": "code",
   "execution_count": 59,
   "id": "ecd76fff",
   "metadata": {},
   "outputs": [
    {
     "data": {
      "text/plain": [
       "(array([1.000e+00, 3.000e+00, 1.400e+01, 4.300e+01, 1.160e+02, 3.010e+02,\n",
       "        5.380e+02, 9.760e+02, 1.384e+03, 1.604e+03, 1.577e+03, 1.383e+03,\n",
       "        1.011e+03, 5.720e+02, 2.770e+02, 1.370e+02, 4.400e+01, 1.400e+01,\n",
       "        3.000e+00, 2.000e+00]),\n",
       " array([ 7.84244221, 12.04290227, 16.24336232, 20.44382238, 24.64428243,\n",
       "        28.84474248, 33.04520254, 37.24566259, 41.44612265, 45.6465827 ,\n",
       "        49.84704275, 54.04750281, 58.24796286, 62.44842292, 66.64888297,\n",
       "        70.84934303, 75.04980308, 79.25026313, 83.45072319, 87.65118324,\n",
       "        91.8516433 ]),\n",
       " <BarContainer object of 20 artists>)"
      ]
     },
     "execution_count": 59,
     "metadata": {},
     "output_type": "execute_result"
    },
    {
     "data": {
      "image/png": "[encoded data removed]",
      "text/plain": [
       "<Figure size 640x480 with 1 Axes>"
      ]
     },
     "metadata": {},
     "output_type": "display_data"
    }
   ],
   "source": [
    "plt.hist(datos_media_mu_desviacion_sigma, bins = 20)"
   ]
  },
  {
   "cell_type": "markdown",
   "id": "5ec77f83",
   "metadata": {},
   "source": [
    "\n",
    "9. **Análisis de datos faltantes**  \n",
    "   Dado el arreglo `[[1, 2, np.nan], [4, np.nan, 6], [7, 8, 9]]`, calcula:  \n",
    "   - Media ignorando los valores `NaN`.  \n",
    "   - Rellena los valores `NaN` con la media de cada columna.\n"
   ]
  },
  {
   "cell_type": "markdown",
   "id": "559d8e9f",
   "metadata": {},
   "source": [
    "\n",
    "10. **Comparación estadística**  \n",
    "    Dado el arreglo `[3, 5, 7, 10]` y el arreglo `[2, 5, 8, 11]`:  \n",
    "    - Calcula la diferencia media entre los dos.  \n",
    "    - Calcula la correlación entre los dos arreglos usando `np.corrcoef`.\n",
    "\n",
    "---\n"
   ]
  },
  {
   "cell_type": "markdown",
   "id": "b433b67b",
   "metadata": {},
   "source": [
    "\n",
    "### **Ejercicios avanzados**\n",
    "\n",
    "11. **Transformaciones z-score**  \n",
    "    Normaliza los datos `[10, 15, 20, 25, 30]` utilizando la fórmula del **z-score**:  \n",
    "    $$\n",
    "    z = \\frac{x - \\mu}{\\sigma}\n",
    "    $$\n"
   ]
  },
  {
   "cell_type": "markdown",
   "id": "4b6d7aae",
   "metadata": {},
   "source": [
    "\n",
    "12. **Generación y análisis de datos simulados**  \n",
    "    Simula una matriz de datos aleatorios `5x5` con números enteros entre 1 y 100. Para cada columna:  \n",
    "    - Calcula media, mediana y rango intercuartílico.\n",
    "\n",
    "13. **Datos categóricos y numéricos**  \n",
    "    Dado el arreglo de edades `[25, 30, 25, 35, 40, 30, 30, 45, 25, 40]`, calcula:  \n",
    "    - Frecuencia relativa de cada edad.  \n",
    "    - Edad más frecuente.  \n",
    "\n",
    "14. **Reshape y estadísticas por grupo**  \n",
    "    Genera un arreglo de números aleatorios entre 10 y 100 con tamaño 20. Reshapea el arreglo a una matriz `4x5`. Calcula las estadísticas básicas (media, desviación estándar) por filas y por columnas.\n",
    "\n",
    "15. **Outliers usando IQR**  \n",
    "    Dado el arreglo `[12, 15, 14, 10, 8, 12, 14, 100, 8, 10]`, detecta los valores atípicos (outliers) utilizando el rango intercuartílico (IQR).\n",
    "\n",
    "---\n",
    "\n",
    "### **Ejercicios aplicados**\n",
    "\n",
    "16. **Cálculo de notas**  \n",
    "    Dado un conjunto de calificaciones de estudiantes:  \n",
    "    ```\n",
    "    [[80, 85, 90],  \n",
    "     [70, 75, 80],  \n",
    "     [88, 92, 96]]\n",
    "    ```  \n",
    "    Calcula la media, mediana y desviación estándar para cada estudiante y cada asignatura.\n",
    "\n",
    "17. **Análisis de datos financieros**  \n",
    "    Genera un arreglo con los precios diarios de una acción simulada durante 30 días. Calcula:  \n",
    "    - Variación diaria promedio.  \n",
    "    - Precio máximo y mínimo.  \n",
    "    - Desviación estándar.\n",
    "\n",
    "18. **Datos climáticos**  \n",
    "    Dado un conjunto de temperaturas diarias `[28, 30, 29, 35, 36, 30, 28]`, calcula:  \n",
    "    - Media semanal.  \n",
    "    - Temperatura más común.  \n",
    "    - Identifica si hay días con temperaturas fuera de 1 desviación estándar.\n",
    "\n",
    "19. **Visualización de estadísticas**  \n",
    "    Genera un arreglo con 100 valores aleatorios enteros entre 0 y 50. Usa `matplotlib` para graficar la distribución de frecuencias y superpone una línea que muestre la media.\n",
    "\n",
    "20. **Cálculo de probabilidades**  \n",
    "    Dado un arreglo con 100 valores enteros aleatorios entre 1 y 6 (simulando lanzamientos de un dado), calcula:  \n",
    "    - La probabilidad de obtener un número mayor que 4.  \n",
    "    - La frecuencia relativa de cada número.\n",
    "\n",
    "---\n",
    "\n",
    "Estos ejercicios cubrirán las funciones estadísticas básicas y avanzadas de NumPy, así como su aplicación en análisis de datos. ¡Avísame si necesitas ejemplos de código! 🚀"
   ]
  },
  {
   "cell_type": "markdown",
   "id": "f0fabe68",
   "metadata": {},
   "source": [
    "\n",
    "3. **Preprocesamiento de datos reales**:\n",
    "   - Descargar un archivo CSV de datos abiertos (ej., datos de temperaturas históricas).\n",
    "   - Cargar el archivo en un `nd-array` y realizar preprocesamiento para normalizar y estandarizar los valores.\n"
   ]
  },
  {
   "cell_type": "markdown",
   "id": "1b345fb5",
   "metadata": {},
   "source": [
    "\n",
    "4. **Aplicación de regresión lineal**:\n",
    "   - Crear un conjunto de datos simulado y aplicar una regresión lineal manual (sin librerías de machine learning) utilizando operaciones matriciales en `nd-arrays`.\n",
    "   - Evaluar los resultados y observar la eficiencia de `nd-arrays` en el cálculo.\n"
   ]
  },
  {
   "cell_type": "markdown",
   "id": "d2883fff",
   "metadata": {},
   "source": [
    "\n",
    "Esta clase proporciona una base sólida en `nd-arrays` de NumPy,   \n",
    "\n",
    "* cubriendo desde la creación y \n",
    "* manipulación básica hasta \n",
    "* aplicaciones prácticas en ciencia de datos y machine learning,   \n",
    "  \n",
    "esenciales para análisis y modelado eficientes en Python."
   ]
  },
  {
   "cell_type": "markdown",
   "id": "3515a140",
   "metadata": {},
   "source": [
    "## Referentes"
   ]
  },
  {
   "cell_type": "markdown",
   "id": "016247c7",
   "metadata": {},
   "source": [
    "* [Álgebra Lineal Laverde](https://bibliotecadigital.udea.edu.co/handle/10495/1545/browse?type=author&order=ASC&rpp=20&value=Mej%C3%ADa+Laverde%2C+Clara+Elena)\n",
    "  \n",
    "* [Chollet, F. (2021). Deep learning with Python. Simon and Schuster.](https://github.com/marco-canas/didactica_ciencia_datos/blob/main/2_referentes/chollet/Fran%C3%A7ois%20Chollet%20-%20Deep%20Learning%20with%20Python-Manning%20(2018).pdf)  \n",
    "  \n",
    "\n",
    "* [chatGPT](https://openai.com/blog/chatgpt)  \n",
    "\n",
    "* [Géron, A. (2017). Hands-on machine learning with scikit-learn and tensorflow: Concepts. Tools, and Techniques to build intelligent systems.](https://github.com/marco-canas/didactica_ciencia_datos/blob/main/2_referentes/geron/Hands-On%20Machine%20Learning-3nd_Edition(2022).pdf)  \n",
    "\n",
    "* [McKinney, W. (2012). Python for data analysis: Data wrangling with Pandas, NumPy, and IPython. \" O'Reilly Media, Inc.\".](https://github.com/marco-canas/didactica_ciencia_datos/blob/main/2_referentes/mckinney/Wes_McKinney.pdf)  "
   ]
  },
  {
   "cell_type": "markdown",
   "id": "bfb0d090",
   "metadata": {},
   "source": [
    "### [Evaluamos al profesor Marco Cañas Aquí](https://forms.office.com/Pages/ResponsePage.aspx?id=IefhmYRxjkmK_7KtTlPBwkanXIs1i1FEujpsZgO6dXpUREJPV1kxUk1JV1ozTFJIQVNIQjY5WEY3US4u)"
   ]
  },
  {
   "cell_type": "markdown",
   "id": "69f523a2",
   "metadata": {},
   "source": [
    "### [Continua tu formación en ciencia de datos con el tema de estadística aquí](https://github.com/marco-canas/7_didactica_ciencia_datos/blob/main/propuesta/unidad_didac/1_statistic/1_Basic_Descriptive_Statistics/1_medidas_tendencia_central/1_media.ipynb)"
   ]
  }
 ],
 "metadata": {
  "celltoolbar": "Slideshow",
  "kernelspec": {
   "display_name": "Python 3",
   "language": "python",
   "name": "python3"
  },
  "language_info": {
   "codemirror_mode": {
    "name": "ipython",
    "version": 3
   },
   "file_extension": ".py",
   "mimetype": "text/x-python",
   "name": "python",
   "nbconvert_exporter": "python",
   "pygments_lexer": "ipython3",
   "version": "3.12.8"
  }
 },
 "nbformat": 4,
 "nbformat_minor": 5
}
