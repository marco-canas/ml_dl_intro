{
 "cells": [
  {
   "cell_type": "markdown",
   "id": "dc06dec7",
   "metadata": {
    "slideshow": {
     "slide_type": "slide"
    }
   },
   "source": [
    "<table align=\"left\">\n",
    "  <td>\n",
    "    <a href=\"https://colab.research.google.com/github/ageron/handson-ml3/blob/main/tools_numpy.ipynb\" target=\"_parent\"><img src=\"https://colab.research.google.com/assets/colab-badge.svg\" alt=\"Open In Colab\"/></a>\n",
    "  </td>\n",
    "  <td>\n",
    "    <a target=\"_blank\" href=\"https://kaggle.com/kernels/welcome?src=https://github.com/ageron/handson-ml3/blob/main/tools_numpy.ipynb\"><img src=\"https://kaggle.com/static/images/open-in-kaggle.svg\" /></a>\n",
    "  </td>\n",
    "</table>"
   ]
  },
  {
   "cell_type": "markdown",
   "id": "e0c5b198",
   "metadata": {
    "slideshow": {
     "slide_type": "slide"
    }
   },
   "source": [
    "### [Video de apoyo a la lectura interactiva y experimental de este cuaderno]()"
   ]
  },
  {
   "cell_type": "markdown",
   "id": "41e82203",
   "metadata": {
    "slideshow": {
     "slide_type": "slide"
    }
   },
   "source": [
    "### [Vínculo al programa del curso:  ]()\n",
    "\n"
   ]
  },
  {
   "cell_type": "markdown",
   "id": "d11ab06d",
   "metadata": {
    "slideshow": {
     "slide_type": "slide"
    }
   },
   "source": [
    "Un reconocimiento a mis estudiantes que han construido conmigo este saber pedagógico:\n",
    "\n",
    "<img src = ''> \n",
    "\n"
   ]
  },
  {
   "cell_type": "markdown",
   "id": "8a74a56c-0ce6-4ad6-b985-553fd7fb68bb",
   "metadata": {},
   "source": [
    "Reconocimiento a las profesoras destacadas en enseñanza de la matemática en Colombia\n"
   ]
  },
  {
   "cell_type": "code",
   "execution_count": null,
   "id": "7604880f",
   "metadata": {
    "slideshow": {
     "slide_type": "slide"
    }
   },
   "outputs": [
    {
     "name": "stdout",
     "output_type": "stream",
     "text": [
      "Llamando a ROSILLO TEJADA VANESA...\n",
      "Cambios guardados en el archivo CSV.\n",
      "Llamando a QUINONEZ CERVANTES MARIANA...\n"
     ]
    }
   ],
   "source": [
    "import pandas as pd\n",
    "import numpy as np\n",
    "\n",
    "# Cargar la lista de estudiantes desde el archivo CSV\n",
    "path = 'C:/Users/marco/Documentos/docencia/groups_list/fundamentos_aritmetica.csv'\n",
    "estudiantes = pd.read_csv(path)\n",
    "estudiantes['Parcial'] = estudiantes['Parcial'].astype(float)  # Asegurar que la columna 'Parcial' es float\n",
    "\n",
    "# Convertir la columna 'Nombre' a una lista de Python\n",
    "lista_estudiantes = estudiantes['Nombre'].tolist()\n",
    "\n",
    "# Función para llamar a un estudiante aleatoriamente y registrar su nota de seguimiento\n",
    "def asistencia():\n",
    "    global lista_estudiantes\n",
    "    if lista_estudiantes:\n",
    "        estudiante_aleatorio = np.random.choice(lista_estudiantes)\n",
    "        print(f\"Llamando a {estudiante_aleatorio}...\")\n",
    "        asistencia = input(f\"¿Asistió {estudiante_aleatorio}? (s/n): \").strip().lower()\n",
    "        \n",
    "        # Validación de entrada\n",
    "        if asistencia == 's':\n",
    "            # Obtener el índice del estudiante en el DataFrame\n",
    "            indice = estudiantes[estudiantes['Nombre'] == estudiante_aleatorio].index[0]\n",
    "            # Incrementar su valor en la columna 'Parcial'\n",
    "            estudiantes.at[indice, 'Parcial'] += 0.3\n",
    "            print(f\"Actualizado: {estudiante_aleatorio} ahora tiene {estudiantes.at[indice, 'Parcial']} en la columna 'Parcial'.\")\n",
    "        \n",
    "        elif asistencia != 'n':\n",
    "            print(\"Entrada inválida. Por favor, introduce 's' para sí o 'n' para no.\")\n",
    "            return  # Volver a preguntar para el mismo estudiante si la entrada es inválida\n",
    "        \n",
    "        # Remover al estudiante de la lista para no llamarlo de nuevo\n",
    "        lista_estudiantes.remove(estudiante_aleatorio)\n",
    "    else:\n",
    "        print(\"Se han llamado a todos los estudiantes del grupo completo.\")\n",
    "\n",
    "# Función para guardar cambios al final de la sesión\n",
    "def guardar_cambios():\n",
    "    estudiantes.to_csv(path, index=False)\n",
    "    print(\"Cambios guardados en el archivo CSV.\")\n",
    "\n",
    "# Ejemplo de uso\n",
    "while lista_estudiantes:\n",
    "    asistencia()\n",
    "\n",
    "# Guardar los cambios una vez que todos los estudiantes hayan sido llamados\n",
    "guardar_cambios()\n",
    "\n"
   ]
  },
  {
   "cell_type": "markdown",
   "id": "d7598d0a-d9b7-4ae0-b029-a0ed6ed1130b",
   "metadata": {},
   "source": [
    "\n",
    "# Principios de mi labor docente"
   ]
  },
  {
   "cell_type": "markdown",
   "id": "4f9d8cf9",
   "metadata": {
    "slideshow": {
     "slide_type": "slide"
    }
   },
   "source": [
    "## Modelo general de clase: [aula invertida](https://www3.gobiernodecanarias.org/medusa/ecoescuela/pedagotic/aprendizaje-invertido-flipped-classroom/)"
   ]
  },
  {
   "cell_type": "markdown",
   "id": "eb6ed03a",
   "metadata": {},
   "source": [
    "<img src = 'https://resources.maneuveringthemiddle.com/wp-content/uploads/2020/07/04212706/1-5.png' width = 200>  \n",
    "\n"
   ]
  },
  {
   "cell_type": "markdown",
   "id": "34319cce-a71b-4f64-aab8-b53e521efa40",
   "metadata": {},
   "source": [
    "# Metodología de enseñanza basada en problemas (ABP)\n"
   ]
  },
  {
   "cell_type": "markdown",
   "id": "c4f73d81",
   "metadata": {},
   "source": [
    "\n",
    "<img src = 'https://www.unir.net/wp-content/uploads/2020/07/aprendizaje-problemas2-1-1-1-1.jpeg' width = 200>"
   ]
  },
  {
   "cell_type": "markdown",
   "id": "841a985c-bd9b-4dd3-8e4c-893983980af2",
   "metadata": {},
   "source": [
    "# Desarrollo del pensamiento computacional con python y cuadernos Jupyter  orientado a la formación en ciencia de datos \n",
    "\n"
   ]
  },
  {
   "cell_type": "markdown",
   "id": "3d0eba94",
   "metadata": {},
   "source": [
    "\n",
    "<img src = 'https://i.ytimg.com/vi/mcG_wcR4e6M/maxresdefault.jpg' width = 200>"
   ]
  },
  {
   "cell_type": "markdown",
   "id": "65aa0404-f7ae-495e-864c-1aec01b4255e",
   "metadata": {},
   "source": [
    "# Principio de fomento a la ciencia abierta, enseñar en el acceso a los datos públicos y el uso de software de código abierto  \n"
   ]
  },
  {
   "cell_type": "markdown",
   "id": "18ae9b87",
   "metadata": {},
   "source": [
    "\n",
    "<img src = 'https://unesdoc.unesco.org/in/rest/Thumb/image?id=p%3A%3Ausmarcdef_0000379949_spa&author=UNESCO&title=Recomendaci%C3%B3n+de+la+UNESCO+sobre+la+Ciencia+Abierta&year=2021&publisher=UNESCO&TypeOfDocument=UnescoPhysicalDocument&mat=PGD&ct=true&size=512&isPhysical=1' width = 200>"
   ]
  },
  {
   "cell_type": "markdown",
   "id": "d9559f85",
   "metadata": {},
   "source": [
    "El enfoque STEAMS en educación preescolar, primaria y secundaria es una extensión del enfoque STEM (Ciencia, Tecnología, Ingeniería y Matemáticas) y su variante STEAM, que incorpora el Arte. "
   ]
  },
  {
   "cell_type": "markdown",
   "id": "72e1cfd2",
   "metadata": {},
   "source": [
    "El acrónimo STEAMS incluye:\n"
   ]
  },
  {
   "cell_type": "markdown",
   "id": "03182fd1",
   "metadata": {},
   "source": [
    "\n",
    "1. **Science (Ciencia):** Fomenta la curiosidad por el mundo natural y el desarrollo de habilidades científicas, como la observación, experimentación y análisis.\n"
   ]
  },
  {
   "cell_type": "markdown",
   "id": "1306d0fa",
   "metadata": {},
   "source": [
    "\n",
    "2. **Technology (Tecnología):** Integra herramientas tecnológicas para potenciar el aprendizaje y la resolución de problemas, promoviendo la alfabetización digital desde edades tempranas.\n"
   ]
  },
  {
   "cell_type": "markdown",
   "id": "3b1a53e8",
   "metadata": {},
   "source": [
    "\n",
    "3. **Engineering (Ingeniería):** Introduce el pensamiento lógico y la resolución de problemas estructurados, fomentando habilidades como el diseño y la construcción de soluciones.\n"
   ]
  },
  {
   "cell_type": "markdown",
   "id": "0196de87",
   "metadata": {},
   "source": [
    "\n",
    "4. **Arts (Arte):** Añade creatividad y pensamiento crítico, permitiendo a los estudiantes expresarse y explorar el aprendizaje a través de formas artísticas (plásticas, música, teatro).\n"
   ]
  },
  {
   "cell_type": "markdown",
   "id": "8bcc485a",
   "metadata": {},
   "source": [
    "\n",
    "5. **Mathematics (Matemáticas):** Refuerza las habilidades numéricas y el razonamiento lógico, fundamentales en la resolución de problemas y comprensión de conceptos abstractos.\n"
   ]
  },
  {
   "cell_type": "markdown",
   "id": "907935f4",
   "metadata": {},
   "source": [
    "\n",
    "6. **Social Sciences (Ciencias Sociales):** Incorpora la comprensión del entorno social, político, cultural y económico, promoviendo el desarrollo de la conciencia crítica sobre el mundo y su historia, además de habilidades de empatía y ciudadanía.\n"
   ]
  },
  {
   "cell_type": "markdown",
   "id": "39967d63",
   "metadata": {},
   "source": [
    "\n",
    "El enfoque STEAMS pretende desarrollar un aprendizaje **interdisciplinario** que integre estas áreas para fomentar un pensamiento más holístico y práctico. "
   ]
  },
  {
   "cell_type": "markdown",
   "id": "5145f077",
   "metadata": {},
   "source": [
    "Se busca que los estudiantes no solo aprendan conocimientos técnicos, sino también cómo aplicarlos creativa y críticamente en situaciones reales, promoviendo habilidades como el trabajo en equipo, la comunicación y la innovación. "
   ]
  },
  {
   "cell_type": "markdown",
   "id": "9d556584",
   "metadata": {},
   "source": [
    "En educación preescolar, primaria, secundaria y superior, se adapta a las diferentes etapas de desarrollo cognitivo y emocional de los estudiantes, promoviendo el aprendizaje activo y contextualizado.  \n"
   ]
  },
  {
   "cell_type": "markdown",
   "id": "0130ec1b",
   "metadata": {},
   "source": [
    "\n",
    "<img src = 'https://www.campuseducacion.com/blog/wp-content/uploads/2023/03/foto01-1.jpg' width = 200>"
   ]
  },
  {
   "cell_type": "markdown",
   "id": "9d15c10d-2c02-4158-9419-b1ed79b4c1ee",
   "metadata": {},
   "source": [
    "# Qué estamos haciendo por la internalización en esta clase y este curso  \n"
   ]
  },
  {
   "cell_type": "markdown",
   "id": "6e4feef2",
   "metadata": {},
   "source": [
    "Estas son mis acciones como docente de matemáticas en la Universidad de Antioquia con miras a la **internacionalización** de mi práctica docente y el desarrollo de competencias internacionales para mis estudiantes, ls cuales he estructurado con el siguiente enfoque:\n"
   ]
  },
  {
   "cell_type": "markdown",
   "id": "964d9de7-53ee-4255-9bcd-d8e6454f2993",
   "metadata": {},
   "source": [
    "### 1. **Visión Global en la Formación Académica**\n"
   ]
  },
  {
   "cell_type": "markdown",
   "id": "d9bdd3e2",
   "metadata": {},
   "source": [
    "   - **Competencias Internacionales**: Asegúrate de que el contenido de tus cursos fomente habilidades que sean reconocidas globalmente. Al educar a los estudiantes en **Python, LaTeX, Markdown y Jupyter Notebooks** y en la **introducción a la ciencia de datos y técnicas de Machine Learning**, estás proporcionando competencias altamente demandadas en los sectores tecnológicos y académicos a nivel internacional.\n"
   ]
  },
  {
   "cell_type": "markdown",
   "id": "39b55206",
   "metadata": {},
   "source": [
    "   - **Relevancia de los Contenidos**: Destaca cómo los temas que enseñas, como el **desarrollo del pensamiento computacional** y la **ciencia de datos**, están alineados con las necesidades globales actuales en diversas industrias, desde la tecnología hasta las ciencias naturales y sociales.\n"
   ]
  },
  {
   "cell_type": "markdown",
   "id": "a054599e",
   "metadata": {},
   "source": [
    "   - **Referencias a Estándares Internacionales**: Puedes vincular tu enseñanza a estándares internacionales de competencias en programación y ciencia de datos (por ejemplo, frameworks del **IEEE, ACM**, y estándares de la **data science** o la **computación en la nube**)."
   ]
  },
  {
   "cell_type": "markdown",
   "id": "0f1d110c-3142-48fe-9e7d-5fbd9e8bb931",
   "metadata": {},
   "source": [
    "### 2. **Innovación Pedagógica con Enfoque Internacional**\n"
   ]
  },
  {
   "cell_type": "markdown",
   "id": "fae6ae34",
   "metadata": {},
   "source": [
    "   - **Aula Invertida y ABP**: Presenta cómo tu enfoque de **aula invertida** y **aprendizaje basado en problemas (ABP)** permite a los estudiantes trabajar de manera autónoma y colaborativa, lo que los prepara para escenarios laborales internacionales que requieren autoaprendizaje y habilidades de resolución de problemas en equipo.\n"
   ]
  },
  {
   "cell_type": "markdown",
   "id": "c83062d9",
   "metadata": {},
   "source": [
    "   - **Uso de Jupyter Notebooks**: El uso de **Jupyter Notebooks** en tus clases no solo facilita la **integración de código, matemáticas y texto**, sino que también es una plataforma utilizada globalmente en ambientes académicos y profesionales, lo que hace a tus estudiantes más competitivos internacionalmente."
   ]
  },
  {
   "cell_type": "markdown",
   "id": "960d52b7-03cd-4eb3-965e-5cdfeb7d9f8e",
   "metadata": {},
   "source": [
    "### 3. **Tecnología y Herramientas de Uso Global**\n"
   ]
  },
  {
   "cell_type": "markdown",
   "id": "4be7269f",
   "metadata": {},
   "source": [
    "   - **Lenguaje Python**: Python es uno de los lenguajes de programación más usados a nivel mundial, tanto en la academia como en la industria. Al formar a tus estudiantes en Python para ciencia de datos y machine learning, los preparas para operar en entornos tecnológicos globales.\n"
   ]
  },
  {
   "cell_type": "markdown",
   "id": "102655af",
   "metadata": {},
   "source": [
    "   - **Herramientas de Ciencia Abierta**: Resalta cómo herramientas como **GitHub**, **Google Colab** y otras plataformas de código abierto están alineadas con el movimiento de **ciencia abierta**, el cual es internacionalmente reconocido y permite que los estudiantes colaboren y compartan proyectos a nivel global."
   ]
  },
  {
   "cell_type": "markdown",
   "id": "3b2ffa32-7a6f-4545-ba7b-c6a69f51109f",
   "metadata": {},
   "source": [
    "### 4. **Investigación y Publicaciones Internacionales**\n"
   ]
  },
  {
   "cell_type": "markdown",
   "id": "bdbf52a5",
   "metadata": {},
   "source": [
    "   - **Promoción de la Investigación**: Detalla cómo promueves que tus estudiantes participen en proyectos de **investigación aplicada**, con posibilidad de publicación en revistas internacionales. Esto contribuye a la reputación internacional de la Universidad de Antioquia.\n"
   ]
  },
  {
   "cell_type": "markdown",
   "id": "ea01fcbc",
   "metadata": {},
   "source": [
    "   - **Colaboraciones Internacionales**: Si has colaborado con investigadores de otras instituciones o universidades en el extranjero, menciona estos proyectos y cómo han enriquecido tu enseñanza y proporcionado a los estudiantes una visión más globalizada."
   ]
  },
  {
   "cell_type": "markdown",
   "id": "5d1e396e-aece-4bf7-9421-32fa7809eaf4",
   "metadata": {},
   "source": [
    "## 5. **Uso del Inglés para la Internacionalización**\n"
   ]
  },
  {
   "cell_type": "markdown",
   "id": "29cabf26",
   "metadata": {},
   "source": [
    "   - **Comunicación Científica en Inglés**: "
   ]
  },
  {
   "cell_type": "markdown",
   "id": "8ec53ff3",
   "metadata": {},
   "source": [
    "Fomentar el aprendizaje del inglés como lengua científica es clave para que tus estudiantes puedan acceder a publicaciones internacionales, conferencias, y material académico que no está disponible en español. "
   ]
  },
  {
   "cell_type": "markdown",
   "id": "3694aa16",
   "metadata": {},
   "source": [
    "Esto es esencial para que adquieran competencias que les permitan desempeñarse en cualquier contexto internacional.\n"
   ]
  },
  {
   "cell_type": "markdown",
   "id": "b831224f",
   "metadata": {},
   "source": [
    "   - **Material Bilingüe**: Al generar material educativo en Python, LaTeX y Markdown, considera ofrecer algunos de estos recursos en inglés, para que los estudiantes se familiaricen con el vocabulario técnico y científico internacional."
   ]
  },
  {
   "cell_type": "markdown",
   "id": "c6a8c3b0-426a-4692-a384-3065aea81c9a",
   "metadata": {},
   "source": [
    "### 6. **Certificaciones y Estándares Internacionales**\n"
   ]
  },
  {
   "cell_type": "markdown",
   "id": "b1f41da5",
   "metadata": {},
   "source": [
    "   - **Participación en Certificaciones Internacionales**: Impulsa que los estudiantes busquen certificaciones internacionales en Python o ciencia de datos (como las ofrecidas por **Coursera, edX,** o **Google**). Estas certificaciones no solo validan sus competencias, sino que también incrementan el reconocimiento de la Universidad de Antioquia en el contexto internacional.\n"
   ]
  },
  {
   "cell_type": "markdown",
   "id": "7cc66317",
   "metadata": {},
   "source": [
    "   - **Alineación con Acreditaciones Internacionales**: Vincula tu trabajo docente con los estándares de acreditación y certificación que garantizan que la universidad siga siendo reconocida internacionalmente. Puedes vincularte con organizaciones internacionales que promuevan la excelencia en la educación y tecnología, como **ABET** para la acreditación en ingeniería y ciencias computacionales."
   ]
  },
  {
   "cell_type": "markdown",
   "id": "65d3d9e1-ea84-43e0-8197-a2a9c9e21594",
   "metadata": {},
   "source": [
    "### 7. **Proyectos Abiertos y Ciencia Reproducible**\n"
   ]
  },
  {
   "cell_type": "markdown",
   "id": "f03f7b20",
   "metadata": {},
   "source": [
    "   - **GitHub y Open Science**: La utilización de **GitHub** para almacenar los proyectos y materiales de enseñanza en repositorios públicos permite que otros investigadores y educadores internacionales puedan revisar y replicar tu trabajo. Esto contribuye a la creación de una red de colaboración científica abierta.\n",
    "   - **Transparencia y Reproducibilidad**: La ciencia de datos y machine learning están profundamente ligados a la reproducibilidad. Asegura que tus estudiantes desarrollen prácticas de transparencia y documentación en la investigación, que son pilares en la comunidad científica global.\n"
   ]
  },
  {
   "cell_type": "markdown",
   "id": "215cb551",
   "metadata": {},
   "source": [
    "\n",
    "### 8. **Participación en Redes y Conferencias Internacionales**\n",
    "   - **Presentación en Conferencias Internacionales**: Destaca cómo tu participación en conferencias internacionales (como la **ASCOLFA** o eventos sobre educación en matemáticas) contribuye al prestigio de la universidad y permite que tus prácticas sean evaluadas y reconocidas a nivel global.\n"
   ]
  },
  {
   "cell_type": "markdown",
   "id": "cdf46e29",
   "metadata": {},
   "source": [
    "   - **Promoción de Estudiantes en Eventos Internacionales**: Impulsa la participación de tus estudiantes en competiciones internacionales de programación o hackathons, como los organizados por **Google**, **ACM** o **Kaggle**. Esto no solo desarrolla sus habilidades, sino que también visibiliza el talento de la Universidad de Antioquia a nivel global.\n",
    "\n",
    "---"
   ]
  },
  {
   "cell_type": "markdown",
   "id": "233294a4-1983-4641-a7ad-866825e02315",
   "metadata": {},
   "source": [
    "Con esta estrategia, presento mis acciones docentes en términos de competencias internacionales, innovación pedagógica, tecnología, investigación y participación en redes globales, asegurando que mi práctica esté alineada con los estándares internacionales y que tus estudiantes estén preparados para competir en contextos internacionales."
   ]
  },
  {
   "cell_type": "markdown",
   "id": "77da458b",
   "metadata": {},
   "source": [
    "### **Metodología de Enseñanza: Aprendizaje Basado en Problemas y Proyectos (ABPP)**\n"
   ]
  },
  {
   "cell_type": "markdown",
   "id": "c943d273",
   "metadata": {},
   "source": [
    "\n",
    "El **Aprendizaje Basado en Problemas y Proyectos (ABPP)** es una metodología educativa que integra los enfoques del **Aprendizaje Basado en Problemas (ABP)** y el **Aprendizaje Basado en Proyectos (PBL, por sus siglas en inglés)**. "
   ]
  },
  {
   "cell_type": "markdown",
   "id": "c243dcde",
   "metadata": {},
   "source": [
    "Es especialmente útil para la formación de futuros docentes, ingenieros y administradores, ya que combina el desarrollo de habilidades prácticas con el pensamiento crítico y reflexivo. "
   ]
  },
  {
   "cell_type": "markdown",
   "id": "bd6c8e79",
   "metadata": {},
   "source": [
    "A continuación, se presenta una descripción adaptada a la enseñanza de las matemáticas en educación infantil, Licenciatura en Matemáticas, Ingeniería Agropecuaria y Administración de Empresas:\n",
    "\n",
    "---\n"
   ]
  },
  {
   "cell_type": "markdown",
   "id": "0eeba3f5",
   "metadata": {},
   "source": [
    "\n",
    "### **1. Fundamentos del ABPP**\n",
    "El ABPP se basa en:\n",
    "- **Resolución de Problemas Reales:** Los estudiantes analizan y resuelven problemas auténticos relacionados con su área de formación, fomentando la aplicación práctica del conocimiento.\n",
    "- **Proyectos como Herramientas Integradoras:** Los proyectos permiten desarrollar habilidades interdisciplinarias y ofrecer soluciones concretas a los problemas planteados.\n",
    "- **Aprendizaje Activo:** Los estudiantes son responsables de su aprendizaje y participan activamente en el proceso de investigación, diseño y solución.\n",
    "\n",
    "---\n"
   ]
  },
  {
   "cell_type": "markdown",
   "id": "3728d010",
   "metadata": {},
   "source": [
    "\n",
    "### **2. Aplicación del ABPP en Áreas Específicas**\n",
    "\n",
    "#### **Educación Infantil (Licenciatura en Educación Infantil)**\n",
    "- **Enfoque:** Desarrollo del pensamiento matemático en la infancia desde contextos lúdicos, familiares y culturales.\n",
    "- **Problemas típicos:** \n",
    "  - ¿Cómo enseñar los números naturales mediante actividades prácticas y juegos?\n",
    "  - ¿Qué estrategias pueden emplearse para abordar el concepto de cantidad en edades tempranas?\n",
    "- **Proyectos:** Diseño de secuencias didácticas que usen Python, Jupyter Notebooks y materiales manipulativos para enseñar matemáticas de forma interactiva.\n",
    "- **Competencias desarrolladas:** \n",
    "  - Uso de herramientas tecnológicas para diseñar actividades educativas.\n",
    "  - Comprensión del desarrollo cognitivo infantil y su relación con las matemáticas.\n"
   ]
  },
  {
   "cell_type": "markdown",
   "id": "481f614a",
   "metadata": {},
   "source": [
    "\n",
    "#### **Licenciatura en Matemáticas**\n",
    "- **Enfoque:** Resolución de problemas matemáticos aplicados y profundización teórica en áreas como análisis matemático y modelado.\n",
    "- **Problemas típicos:**\n",
    "  - ¿Cómo se pueden resolver ecuaciones diferenciales aplicadas a modelos físicos o económicos?\n",
    "  - ¿Cómo modelar fenómenos naturales mediante funciones matemáticas?\n",
    "- **Proyectos:** \n",
    "  - Desarrollo de software educativo para explorar conceptos matemáticos.\n",
    "  - Aplicación de modelado matemático para resolver problemas reales en otras disciplinas.\n",
    "- **Competencias desarrolladas:**\n",
    "  - Dominio de la matemática teórica y aplicada.\n",
    "  - Uso de tecnología para la enseñanza y la investigación.\n"
   ]
  },
  {
   "cell_type": "markdown",
   "id": "83ab236f",
   "metadata": {},
   "source": [
    "\n",
    "#### **Ingeniería Agropecuaria**\n",
    "- **Enfoque:** Modelado matemático y análisis de datos para mejorar la producción agrícola y la gestión de recursos.\n",
    "- **Problemas típicos:**\n",
    "  - ¿Cómo modelar el crecimiento de cultivos considerando variables climáticas?\n",
    "  - ¿Cómo optimizar el uso del agua en sistemas de riego mediante análisis matemático?\n",
    "- **Proyectos:** \n",
    "  - Desarrollo de modelos predictivos con Python y bibliotecas de aprendizaje automático.\n",
    "  - Implementación de proyectos que combinen matemáticas y ciencias de datos para resolver problemas agrícolas.\n",
    "- **Competencias desarrolladas:**\n",
    "  - Integración de matemáticas con tecnologías avanzadas.\n",
    "  - Resolución de problemas agropecuarios mediante análisis y modelado.\n"
   ]
  },
  {
   "cell_type": "markdown",
   "id": "c4519bb3",
   "metadata": {},
   "source": [
    "\n",
    "#### **Administración de Empresas**\n"
   ]
  },
  {
   "cell_type": "markdown",
   "id": "0f64a81c",
   "metadata": {},
   "source": [
    "- **Enfoque:** Uso de las matemáticas y la ciencia de datos para la toma de decisiones estratégicas.\n",
    "- **Problemas típicos:**\n",
    "  - ¿Cómo identificar patrones de comportamiento del consumidor usando series de tiempo?\n",
    "  - ¿Qué estrategias matemáticas pueden optimizar la asignación de recursos en una empresa?\n",
    "- **Proyectos:** \n",
    "  - Implementación de modelos de análisis financiero y simulaciones.\n",
    "  - Desarrollo de dashboards interactivos para la gestión de datos empresariales.\n",
    "- **Competencias desarrolladas:**\n",
    "  - Habilidad para interpretar datos matemáticos en contextos de negocio.\n",
    "  - Capacidad para diseñar soluciones basadas en datos.\n",
    "\n",
    "---\n"
   ]
  },
  {
   "cell_type": "markdown",
   "id": "19be58d4",
   "metadata": {},
   "source": [
    "\n",
    "### **3. Beneficios del ABPP**\n",
    "- **Desarrollo de competencias clave:**\n",
    "  - Pensamiento crítico y creativo.\n",
    "  - Trabajo colaborativo.\n",
    "  - Comunicación efectiva.\n",
    "  - Uso de herramientas tecnológicas avanzadas.\n",
    "- **Adaptación al contexto laboral:** Los estudiantes aprenden a enfrentar desafíos del mundo real y a diseñar soluciones prácticas y aplicables.\n",
    "- **Flexibilidad e interdisciplinariedad:** La metodología se adapta a diversas áreas, fomentando el aprendizaje integrado.\n",
    "\n",
    "---\n"
   ]
  },
  {
   "cell_type": "markdown",
   "id": "e36034c3",
   "metadata": {},
   "source": [
    "\n",
    "### **4. Ejemplo General de Implementación**\n"
   ]
  },
  {
   "cell_type": "markdown",
   "id": "dfb1c114",
   "metadata": {},
   "source": [
    "1. **Identificación del problema:** Se plantea un desafío concreto, como modelar el crecimiento poblacional de una comunidad rural (Ingeniería Agropecuaria) o diseñar una estrategia para enseñar fracciones a niños de 8 años (Educación Infantil).\n",
    "2. **Formación de equipos:** Los estudiantes trabajan en grupos, distribuyendo roles y tareas.\n",
    "3. **Investigación y diseño:** Los estudiantes investigan el problema, proponen soluciones y diseñan un proyecto.\n",
    "4. **Implementación:** Se desarrolla el proyecto, como una herramienta tecnológica o una propuesta pedagógica.\n",
    "5. **Evaluación:** Los estudiantes presentan sus resultados en un informe o una exposición, recibiendo retroalimentación de sus compañeros y docentes.\n",
    "\n",
    "---\n",
    "\n",
    "El ABPP es una metodología versátil que conecta el conocimiento teórico con la práctica, preparando a los estudiantes para los retos de sus profesiones en la enseñanza de la matemática, la ingeniería y la administración."
   ]
  },
  {
   "cell_type": "markdown",
   "id": "8d97dc80",
   "metadata": {
    "slideshow": {
     "slide_type": "slide"
    }
   },
   "source": [
    "## Fomento de la lectura literaria asociada a Ingeniería agropecuaria y licenciatura en Matemáticas\n",
    "\n",
    "[Aprender a obtener el sí sin ceder]()"
   ]
  },
  {
   "cell_type": "markdown",
   "id": "8853d874",
   "metadata": {},
   "source": [
    "## El componente histórico y epistemológico"
   ]
  },
  {
   "cell_type": "code",
   "execution_count": 7,
   "id": "bc0addfe",
   "metadata": {},
   "outputs": [
    {
     "name": "stdout",
     "output_type": "stream",
     "text": [
      "Mapa generado!\n"
     ]
    }
   ],
   "source": [
    "from graphviz import Digraph\n",
    "\n",
    "# Crear el objeto Graphviz\n",
    "mapa = Digraph(name=\"Clase_train_test_split\", format=\"png\", engine=\"neato\")\n",
    "mapa.attr(rankdir=\"LR\", bgcolor=\"lightgray\", nodesep=\"0.5\")\n",
    "\n",
    "# Nodo central (corregido con comillas triples y sintaxis válida)\n",
    "mapa.node(\"Clase\", \n",
    "          label='''<<B>Explorando train_test_split</B><BR/>\n",
    "          <I>(Aprendizaje Basado en Problemas y Proyectos)</I>>''', \n",
    "          shape=\"ellipse\", \n",
    "          style=\"filled\", \n",
    "          fillcolor=\"gold\", \n",
    "          fontsize=\"14\")\n",
    "\n",
    "# Nodos principales\n",
    "with mapa.subgraph(name=\"cluster_objetivos\") as s:\n",
    "    s.attr(label=\"Objetivos\", style=\"filled\", fillcolor=\"lightblue\", color=\"navy\")\n",
    "    s.node(\"O1\", \"Comprender parámetros\\nde train_test_split\")\n",
    "    s.node(\"O2\", \"Crear visualizaciones\\ninteractivas\")\n",
    "    s.node(\"O3\", \"Aplicar en proyectos ML\")\n",
    "\n",
    "with mapa.subgraph(name=\"cluster_contenidos\") as s:\n",
    "    s.attr(label=\"Contenidos\", style=\"filled\", fillcolor=\"#98FB98\", color=\"darkgreen\")\n",
    "    s.node(\"C1\", \"Parámetros:\\ntest_size, random_state\\nshuffle, stratify\")\n",
    "    s.node(\"C2\", \"Herramientas:\\nJupyter, Matplotlib\\nIpywidgets\")\n",
    "    s.node(\"C3\", \"Casos prácticos:\\nIris, Diabetes\")\n",
    "\n",
    "with mapa.subgraph(name=\"cluster_actividades\") as s:\n",
    "    s.attr(label=\"Actividades\", style=\"filled\", fillcolor=\"#FFB6C1\", color=\"darkred\")\n",
    "    s.node(\"A1\", \"Problema inicial:\\nReproducibilidad\")\n",
    "    s.node(\"A2\", \"Widget interactivo\\ncon parámetros\")\n",
    "    s.node(\"A3\", \"Animación\\nde stratify\")\n",
    "\n",
    "with mapa.subgraph(name=\"cluster_evaluacion\") as s:\n",
    "    s.attr(label=\"Evaluación\", style=\"filled\", fillcolor=\"lavender\", color=\"purple\")\n",
    "    s.node(\"E1\", \"Tarea: Experimentación\\nguiada\")\n",
    "    s.node(\"E2\", \"Proyecto: Informe\\ncon visualizaciones\")\n",
    "    s.node(\"E3\", \"Retroalimentación:\\nRevisión por pares\")\n",
    "\n",
    "# Conexiones principales\n",
    "mapa.edge(\"Clase\", \"cluster_objetivos\")\n",
    "mapa.edge(\"Clase\", \"cluster_contenidos\")\n",
    "mapa.edge(\"Clase\", \"cluster_actividades\")\n",
    "mapa.edge(\"Clase\", \"cluster_evaluacion\")\n",
    "\n",
    "# Conexiones internas\n",
    "mapa.edges([(\"O1\", \"C1\"), (\"O2\", \"C2\"), (\"O3\", \"C3\"),\n",
    "           (\"C1\", \"A1\"), (\"C2\", \"A2\"), (\"C3\", \"A3\"),\n",
    "           (\"A1\", \"E1\"), (\"A2\", \"E2\"), (\"A3\", \"E3\")])\n",
    "\n",
    "# Parámetros adicionales para mejor visualización\n",
    "mapa.attr(overlap=\"false\")\n",
    "mapa.attr(splines=\"true\")\n",
    "\n",
    "# Generar archivo\n",
    "output_directory = r\"C:\\Users\\marco\\Documentos\\investigacion\\didactica_ciencia_datos\\1_curso_machine_learning\\3_preprocesamiento_datos\\3_train_test_split\\images\"\n",
    "mapa.render(\"mapa_conceptual_train_test_split\", cleanup=True, directory=output_directory)\n",
    "mapa.view() \n",
    "print(\"Mapa generado!\")"
   ]
  },
  {
   "cell_type": "markdown",
   "id": "10e55ccf",
   "metadata": {},
   "source": [
    "# Estructura general para todas las clases\n",
    "\n",
    "Dame, por favor, un diseño de clase, con el enfoque: \"De aprendizaje basado en problemas y proyectos(ABPP)\" sobre:\"La función `train_test_split(*arrays, test_size=None, train_size=None, random_state=None, shuffle=True, stratify=None)\", siguiendo la estructura: \n",
    "1. Título de la clase \n",
    "2. Objetivo de aprendizaje\n",
    "3. Contenido de la clase\n",
    "4. Actividades de aprendizaje\n",
    "5. Tarea o actividades de ejercitación y fijación\n",
    "6. Diseño de actividad de retroalimentación.   \n",
    "\n",
    "Pero  que este diseño sea para que el estudiante pueda aprender experimentando en cuadernos Jupyter con funciones de usuario y animaciones y visualizaciones en python. En particular incluye una práctica de conocimiento sobre los parámetros de esta función utilizando una animación de matplotlib o ipywidgets."
   ]
  },
  {
   "cell_type": "code",
   "execution_count": null,
   "id": "2d9e17bf",
   "metadata": {},
   "outputs": [],
   "source": []
  },
  {
   "cell_type": "markdown",
   "id": "80659d1e",
   "metadata": {},
   "source": [
    "\n",
    "## **1. Título de la Clase**  \n",
    "**\"Explorando `train_test_split`: Experimentación Interactiva con Visualizaciones y Animaciones en Python\"**\n",
    "\n",
    "---\n"
   ]
  },
  {
   "cell_type": "markdown",
   "id": "0322fd2b",
   "metadata": {},
   "source": [
    "Le sugiero ver: Create a Test Set: de aurelien Geron en la página 54 de la terce edición de Hands on Machine Learning. "
   ]
  },
  {
   "cell_type": "markdown",
   "id": "3c8536fe",
   "metadata": {},
   "source": [
    "\n",
    "#### **2. Objetivo de Aprendizaje**  \n"
   ]
  },
  {
   "cell_type": "markdown",
   "id": "408303c6",
   "metadata": {},
   "source": [
    "Al finalizar la clase, los estudiantes serán capaces de:  \n"
   ]
  },
  {
   "cell_type": "markdown",
   "id": "85bb44c3",
   "metadata": {},
   "source": [
    "- Utilizar la función `train_test_split` de `scikit-learn` para dividir datos en conjuntos de entrenamiento y prueba.  \n",
    "- Explicar el impacto de los parámetros (`test_size`, `random_state`, `shuffle`, `stratify`) en la división de datos.  \n",
    "- Diseñar visualizaciones interactivas (con `matplotlib`/`ipywidgets`) para experimentar con los parámetros y validar su comprensión.  \n",
    "- Aplicar la función en un proyecto realista de machine learning, justificando las decisiones de parámetros.  \n",
    "\n",
    "---\n"
   ]
  },
  {
   "cell_type": "markdown",
   "id": "d47467d1",
   "metadata": {},
   "source": [
    "\n",
    "#### **3. Contenido de la Clase**  \n"
   ]
  },
  {
   "cell_type": "markdown",
   "id": "62007345",
   "metadata": {},
   "source": [
    "- **Conceptos clave**:  \n",
    "  - Parámetros de `train_test_split`: `test_size`, `train_size`, `random_state`, `shuffle`, `stratify`.  \n",
    "  - Importancia de la reproducibilidad (`random_state`).  \n",
    "  - Balance de clases (`stratify`).  \n",
    "- **Herramientas**:  \n",
    "  - Uso de Jupyter Notebook para experimentación.  \n",
    "  - Creación de visualizaciones con `matplotlib` y animaciones interactivas con `ipywidgets`.  \n",
    "- **Aplicación práctica**:  \n",
    "  - Caso de estudio: Proyecto de clasificación con el dataset de Iris o Diabetes.  \n",
    "\n",
    "---\n"
   ]
  },
  {
   "cell_type": "markdown",
   "id": "b3ebdc63",
   "metadata": {},
   "source": [
    "\n",
    "#### **4. Actividades de Aprendizaje**  \n",
    "\n",
    "**Actividad 1: Problema Inicial (ABP)**  \n",
    "- **Escenario**:  \n",
    "  - *\"Tienes un dataset de 1000 muestras. Debes dividirlo en entrenamiento (70%) y prueba (30%), pero cada vez que ejecutas el código, las muestras asignadas a prueba cambian. ¿Cómo garantizas reproducibilidad y equilibrio de clases?\"*  \n",
    "- **Tarea en Equipo**:  \n",
    "  - Experimentar con `train_test_split` en un Jupyter Notebook, variando `random_state` y `stratify`.  \n",
    "  - Registrar observaciones sobre cómo afectan los parámetros a la distribución de datos.  \n",
    "\n",
    "---\n"
   ]
  },
  {
   "cell_type": "code",
   "execution_count": null,
   "id": "f513b39b",
   "metadata": {},
   "outputs": [],
   "source": []
  },
  {
   "cell_type": "markdown",
   "id": "97264c4e",
   "metadata": {},
   "source": [
    "\n",
    "**Actividad 2: Visualización Interactiva (Animación/Ipywidgets)**  \n",
    "- **Crear un widget interactivo** para explorar parámetros:  \n"
   ]
  },
  {
   "cell_type": "code",
   "execution_count": 5,
   "id": "d52b3b37",
   "metadata": {},
   "outputs": [
    {
     "data": {
      "application/vnd.jupyter.widget-view+json": {
       "model_id": "aec08694fd604bc4a2db7c52778c6d78",
       "version_major": 2,
       "version_minor": 0
      },
      "text/plain": [
       "interactive(children=(FloatSlider(value=0.2, description='test_size', max=0.5, min=0.1), IntSlider(value=42, d…"
      ]
     },
     "metadata": {},
     "output_type": "display_data"
    },
    {
     "data": {
      "text/plain": [
       "<function __main__.plot_split(test_size=0.2, random_state=42, shuffle=True)>"
      ]
     },
     "execution_count": 5,
     "metadata": {},
     "output_type": "execute_result"
    }
   ],
   "source": [
    "from ipywidgets import interact, IntSlider, FloatSlider\n",
    "import matplotlib.pyplot as plt\n",
    "from sklearn.model_selection import train_test_split\n",
    "import numpy as np\n",
    "\n",
    "def plot_split(test_size=0.2, random_state=42, shuffle=True):\n",
    "    X = np.arange(100).reshape(-1, 1)\n",
    "    y = np.random.choice([0, 1], 100, p=[0.7, 0.3])\n",
    "      \n",
    "    X_train, X_test, y_train, y_test = train_test_split(\n",
    "        X, y, test_size=test_size, random_state=random_state, shuffle=shuffle\n",
    "    )\n",
    "      \n",
    "    plt.figure(figsize=(10, 4))\n",
    "    plt.scatter(X_train, [1]*len(X_train), color='blue', label='Entrenamiento')\n",
    "    plt.scatter(X_test, [0]*len(X_test), color='red', label='Prueba')\n",
    "    plt.yticks([0, 1], ['Prueba', 'Entrenamiento'])\n",
    "    plt.title(f\"División de Datos (test_size={test_size}, shuffle={shuffle})\")\n",
    "    plt.legend()\n",
    "    plt.show()\n",
    "\n",
    "interact(plot_split, \n",
    "           test_size=FloatSlider(value=0.2, min=0.1, max=0.5, step=0.1),\n",
    "           random_state=IntSlider(value=42, min=0, max=100),\n",
    "           shuffle=True)\n"
   ]
  },
  {
   "cell_type": "markdown",
   "id": "b36e6609",
   "metadata": {},
   "source": [
    "- **Objetivo**: Manipular los parámetros y observar cómo cambian las muestras asignadas a entrenamiento/prueba.  \n",
    "\n",
    "---\n"
   ]
  },
  {
   "cell_type": "markdown",
   "id": "e63dc819",
   "metadata": {},
   "source": [
    "\n",
    "# **Actividad 3: Práctica de Conocimiento con Animación**  \n",
    "- **Animación de `stratify`**:  \n",
    "  - Usar `matplotlib.animation` para mostrar cómo `stratify` mantiene la proporción de clases en ambos conjuntos.  \n",
    "  - Ejemplo:"
   ]
  },
  {
   "cell_type": "code",
   "execution_count": 9,
   "id": "096f2885",
   "metadata": {},
   "outputs": [
    {
     "data": {
      "text/html": [
       "\n",
       "<link rel=\"stylesheet\"\n",
       "href=\"https://maxcdn.bootstrapcdn.com/font-awesome/4.4.0/css/font-awesome.min.css\">\n",
       "<script language=\"javascript\">\n",
       "  function isInternetExplorer() {\n",
       "    ua = navigator.userAgent;\n",
       "    /* MSIE used to detect old browsers and Trident used to newer ones*/\n",
       "    return ua.indexOf(\"MSIE \") > -1 || ua.indexOf(\"Trident/\") > -1;\n",
       "  }\n",
       "\n",
       "  /* Define the Animation class */\n",
       "  function Animation(frames, img_id, slider_id, interval, loop_select_id){\n",
       "    this.img_id = img_id;\n",
       "    this.slider_id = slider_id;\n",
       "    this.loop_select_id = loop_select_id;\n",
       "    this.interval = interval;\n",
       "    this.current_frame = 0;\n",
       "    this.direction = 0;\n",
       "    this.timer = null;\n",
       "    this.frames = new Array(frames.length);\n",
       "\n",
       "    for (var i=0; i<frames.length; i++)\n",
       "    {\n",
       "     this.frames[i] = new Image();\n",
       "     this.frames[i].src = frames[i];\n",
       "    }\n",
       "    var slider = document.getElementById(this.slider_id);\n",
       "    slider.max = this.frames.length - 1;\n",
       "    if (isInternetExplorer()) {\n",
       "        // switch from oninput to onchange because IE <= 11 does not conform\n",
       "        // with W3C specification. It ignores oninput and onchange behaves\n",
       "        // like oninput. In contrast, Microsoft Edge behaves correctly.\n",
       "        slider.setAttribute('onchange', slider.getAttribute('oninput'));\n",
       "        slider.setAttribute('oninput', null);\n",
       "    }\n",
       "    this.set_frame(this.current_frame);\n",
       "  }\n",
       "\n",
       "  Animation.prototype.get_loop_state = function(){\n",
       "    var button_group = document[this.loop_select_id].state;\n",
       "    for (var i = 0; i < button_group.length; i++) {\n",
       "        var button = button_group[i];\n",
       "        if (button.checked) {\n",
       "            return button.value;\n",
       "        }\n",
       "    }\n",
       "    return undefined;\n",
       "  }\n",
       "\n",
       "  Animation.prototype.set_frame = function(frame){\n",
       "    this.current_frame = frame;\n",
       "    document.getElementById(this.img_id).src =\n",
       "            this.frames[this.current_frame].src;\n",
       "    document.getElementById(this.slider_id).value = this.current_frame;\n",
       "  }\n",
       "\n",
       "  Animation.prototype.next_frame = function()\n",
       "  {\n",
       "    this.set_frame(Math.min(this.frames.length - 1, this.current_frame + 1));\n",
       "  }\n",
       "\n",
       "  Animation.prototype.previous_frame = function()\n",
       "  {\n",
       "    this.set_frame(Math.max(0, this.current_frame - 1));\n",
       "  }\n",
       "\n",
       "  Animation.prototype.first_frame = function()\n",
       "  {\n",
       "    this.set_frame(0);\n",
       "  }\n",
       "\n",
       "  Animation.prototype.last_frame = function()\n",
       "  {\n",
       "    this.set_frame(this.frames.length - 1);\n",
       "  }\n",
       "\n",
       "  Animation.prototype.slower = function()\n",
       "  {\n",
       "    this.interval /= 0.7;\n",
       "    if(this.direction > 0){this.play_animation();}\n",
       "    else if(this.direction < 0){this.reverse_animation();}\n",
       "  }\n",
       "\n",
       "  Animation.prototype.faster = function()\n",
       "  {\n",
       "    this.interval *= 0.7;\n",
       "    if(this.direction > 0){this.play_animation();}\n",
       "    else if(this.direction < 0){this.reverse_animation();}\n",
       "  }\n",
       "\n",
       "  Animation.prototype.anim_step_forward = function()\n",
       "  {\n",
       "    this.current_frame += 1;\n",
       "    if(this.current_frame < this.frames.length){\n",
       "      this.set_frame(this.current_frame);\n",
       "    }else{\n",
       "      var loop_state = this.get_loop_state();\n",
       "      if(loop_state == \"loop\"){\n",
       "        this.first_frame();\n",
       "      }else if(loop_state == \"reflect\"){\n",
       "        this.last_frame();\n",
       "        this.reverse_animation();\n",
       "      }else{\n",
       "        this.pause_animation();\n",
       "        this.last_frame();\n",
       "      }\n",
       "    }\n",
       "  }\n",
       "\n",
       "  Animation.prototype.anim_step_reverse = function()\n",
       "  {\n",
       "    this.current_frame -= 1;\n",
       "    if(this.current_frame >= 0){\n",
       "      this.set_frame(this.current_frame);\n",
       "    }else{\n",
       "      var loop_state = this.get_loop_state();\n",
       "      if(loop_state == \"loop\"){\n",
       "        this.last_frame();\n",
       "      }else if(loop_state == \"reflect\"){\n",
       "        this.first_frame();\n",
       "        this.play_animation();\n",
       "      }else{\n",
       "        this.pause_animation();\n",
       "        this.first_frame();\n",
       "      }\n",
       "    }\n",
       "  }\n",
       "\n",
       "  Animation.prototype.pause_animation = function()\n",
       "  {\n",
       "    this.direction = 0;\n",
       "    if (this.timer){\n",
       "      clearInterval(this.timer);\n",
       "      this.timer = null;\n",
       "    }\n",
       "  }\n",
       "\n",
       "  Animation.prototype.play_animation = function()\n",
       "  {\n",
       "    this.pause_animation();\n",
       "    this.direction = 1;\n",
       "    var t = this;\n",
       "    if (!this.timer) this.timer = setInterval(function() {\n",
       "        t.anim_step_forward();\n",
       "    }, this.interval);\n",
       "  }\n",
       "\n",
       "  Animation.prototype.reverse_animation = function()\n",
       "  {\n",
       "    this.pause_animation();\n",
       "    this.direction = -1;\n",
       "    var t = this;\n",
       "    if (!this.timer) this.timer = setInterval(function() {\n",
       "        t.anim_step_reverse();\n",
       "    }, this.interval);\n",
       "  }\n",
       "</script>\n",
       "\n",
       "<style>\n",
       ".animation {\n",
       "    display: inline-block;\n",
       "    text-align: center;\n",
       "}\n",
       "input[type=range].anim-slider {\n",
       "    width: 374px;\n",
       "    margin-left: auto;\n",
       "    margin-right: auto;\n",
       "}\n",
       ".anim-buttons {\n",
       "    margin: 8px 0px;\n",
       "}\n",
       ".anim-buttons button {\n",
       "    padding: 0;\n",
       "    width: 36px;\n",
       "}\n",
       ".anim-state label {\n",
       "    margin-right: 8px;\n",
       "}\n",
       ".anim-state input {\n",
       "    margin: 0;\n",
       "    vertical-align: middle;\n",
       "}\n",
       "</style>\n",
       "\n",
       "<div class=\"animation\">\n",
       "  <img id=\"_anim_img71af0e0015cd413286e56440d91e53b1\">\n",
       "  <div class=\"anim-controls\">\n",
       "    <input id=\"_anim_slider71af0e0015cd413286e56440d91e53b1\" type=\"range\" class=\"anim-slider\"\n",
       "           name=\"points\" min=\"0\" max=\"1\" step=\"1\" value=\"0\"\n",
       "           oninput=\"anim71af0e0015cd413286e56440d91e53b1.set_frame(parseInt(this.value));\">\n",
       "    <div class=\"anim-buttons\">\n",
       "      <button title=\"Decrease speed\" aria-label=\"Decrease speed\" onclick=\"anim71af0e0015cd413286e56440d91e53b1.slower()\">\n",
       "          <i class=\"fa fa-minus\"></i></button>\n",
       "      <button title=\"First frame\" aria-label=\"First frame\" onclick=\"anim71af0e0015cd413286e56440d91e53b1.first_frame()\">\n",
       "        <i class=\"fa fa-fast-backward\"></i></button>\n",
       "      <button title=\"Previous frame\" aria-label=\"Previous frame\" onclick=\"anim71af0e0015cd413286e56440d91e53b1.previous_frame()\">\n",
       "          <i class=\"fa fa-step-backward\"></i></button>\n",
       "      <button title=\"Play backwards\" aria-label=\"Play backwards\" onclick=\"anim71af0e0015cd413286e56440d91e53b1.reverse_animation()\">\n",
       "          <i class=\"fa fa-play fa-flip-horizontal\"></i></button>\n",
       "      <button title=\"Pause\" aria-label=\"Pause\" onclick=\"anim71af0e0015cd413286e56440d91e53b1.pause_animation()\">\n",
       "          <i class=\"fa fa-pause\"></i></button>\n",
       "      <button title=\"Play\" aria-label=\"Play\" onclick=\"anim71af0e0015cd413286e56440d91e53b1.play_animation()\">\n",
       "          <i class=\"fa fa-play\"></i></button>\n",
       "      <button title=\"Next frame\" aria-label=\"Next frame\" onclick=\"anim71af0e0015cd413286e56440d91e53b1.next_frame()\">\n",
       "          <i class=\"fa fa-step-forward\"></i></button>\n",
       "      <button title=\"Last frame\" aria-label=\"Last frame\" onclick=\"anim71af0e0015cd413286e56440d91e53b1.last_frame()\">\n",
       "          <i class=\"fa fa-fast-forward\"></i></button>\n",
       "      <button title=\"Increase speed\" aria-label=\"Increase speed\" onclick=\"anim71af0e0015cd413286e56440d91e53b1.faster()\">\n",
       "          <i class=\"fa fa-plus\"></i></button>\n",
       "    </div>\n",
       "    <form title=\"Repetition mode\" aria-label=\"Repetition mode\" action=\"#n\" name=\"_anim_loop_select71af0e0015cd413286e56440d91e53b1\"\n",
       "          class=\"anim-state\">\n",
       "      <input type=\"radio\" name=\"state\" value=\"once\" id=\"_anim_radio1_71af0e0015cd413286e56440d91e53b1\"\n",
       "             >\n",
       "      <label for=\"_anim_radio1_71af0e0015cd413286e56440d91e53b1\">Once</label>\n",
       "      <input type=\"radio\" name=\"state\" value=\"loop\" id=\"_anim_radio2_71af0e0015cd413286e56440d91e53b1\"\n",
       "             checked>\n",
       "      <label for=\"_anim_radio2_71af0e0015cd413286e56440d91e53b1\">Loop</label>\n",
       "      <input type=\"radio\" name=\"state\" value=\"reflect\" id=\"_anim_radio3_71af0e0015cd413286e56440d91e53b1\"\n",
       "             >\n",
       "      <label for=\"_anim_radio3_71af0e0015cd413286e56440d91e53b1\">Reflect</label>\n",
       "    </form>\n",
       "  </div>\n",
       "</div>\n",
       "\n",
       "\n",
       "<script language=\"javascript\">\n",
       "  /* Instantiate the Animation class. */\n",
       "  /* The IDs given should match those used in the template above. */\n",
       "  (function() {\n",
       "    var img_id = \"_anim_img71af0e0015cd413286e56440d91e53b1\";\n",
       "    var slider_id = \"_anim_slider71af0e0015cd413286e56440d91e53b1\";\n",
       "    var loop_select_id = \"_anim_loop_select71af0e0015cd413286e56440d91e53b1\";\n",
       "    var frames = new Array(2);\n",
       "    \n",
       "  frames[0] = \"data:image/png;base64,iVBORw0KGgoAAAANSUhEUgAAAoAAAAHgCAYAAAA10dzkAAAAOnRFWHRTb2Z0d2FyZQBNYXRwbG90\\\n",
       "bGliIHZlcnNpb24zLjEwLjAsIGh0dHBzOi8vbWF0cGxvdGxpYi5vcmcvlHJYcgAAAAlwSFlzAAAP\\\n",
       "YQAAD2EBqD+naQAAMh9JREFUeJzt3Qu4VGW9P/CXi4CK4IUEJZLUzMxE5ablpZQjpZlWFloniGN2\\\n",
       "8Z5pSnrAS+alMirJW2odyyS7H49iRlqWFIZZZmpqKmhyKwXFhIL5P7/3+c9+Zm/2bDew2Rvm/Xye\\\n",
       "Z5SZvWbNmpm1Zr7zey+rW6VSqSQAAIrRvas3AACAziUAAgAURgAEACiMAAgAUBgBEACgMAIgAEBh\\\n",
       "BEAAgMIIgAAAhREAAQAKIwACABRGAAQAKIwACABQGAEQAKAwAiAAQGEEQACAwgiAAACFEQABAAoj\\\n",
       "AAIAFEYABAAojAAIAFAYARAAoDACIABAYQRAAIDCCIAAAIURAAEACiMAAgAURgAEACiMAAgAUBgB\\\n",
       "EACgMAIgAEBhBEAAgMIIgAAAhREAAQAKIwACABRGAGSj9uKLL6aPfOQjadCgQalbt27p1FNPTRu7\\\n",
       "eB7nnntuanRPPvlkfq7f+MY3mt0+Y8aMtOeee6Y+ffrkvz///PPr/FirVq1Ku+++e7rwwgvXeV20\\\n",
       "X7y38R7Ge93o7rrrrvxc4/+1brjhhrTrrrumTTbZJG255ZbtXt+f//zn1LNnz/SnP/1pPWwtCIBs\\\n",
       "wF8a9S6/+c1vmpb93Oc+l5f/xCc+kT9oP/ShD3X49nzta19bLaQ0kr/97W85cN5///3rZf033nhj\\\n",
       "mjp1aruW/fvf/57e//73p0033TRNmzYtv6ebb775Om/Dd77znTRv3rx04okntms/O+uss1KjWL58\\\n",
       "eTrzzDPT9ttvn1/X0aNHpzvuuGOd1rlixYr05S9/Oe21116pX79+Odi88Y1vTB/96EfTww8/nLpS\\\n",
       "BKfYn9dX6FyTz4N4LT784Q+nnXbaKV1zzTXp6quvbvfj7Lbbbumwww5LkydPXoethfp6tvE36FLn\\\n",
       "n39+eu1rX7va7TvvvHPTv3/+85+nffbZJ02ZMmW9bUd84A8YMCB/kDdqADzvvPPS0KFDc+VtfQTA\\\n",
       "qGK0rM7usMMO6Z///GeujFTde++96YUXXkgXXHBBGjNmTIdtw+c///l09NFHp/79+7drP4tqYaOI\\\n",
       "/fZ73/tefv1f97rX5fBy6KGHpjvvvDPtt99+a7XO9773vem2225LxxxzTDruuOPSv/71rxx2brnl\\\n",
       "lvTmN785V7xC/CCL1713796pMwNg7M9vfetb8z7dWZ8HBxxwQN6fe/Xq1XRbVAOj+hxhufZzq70+\\\n",
       "/vGP5/fq8ccfzyESOpIAyAbrHe94RxoxYkSbyyxcuDD/UqbzvPTSS2mzzTZb5/VEpS2aeVu+n2FN\\\n",
       "mspeye9///v0hz/8IX3xi19c6/2s6uWXX85f8N27bxyNJ7Nnz0433XRTDsCnn356vm38+PE54H76\\\n",
       "059O99xzzxqvM0J6BL1oTv/MZz7T7G+XX355syb7Hj165MuGqlKp5Pc0KqPrKvaJjt6f40fQVltt\\\n",
       "lb75zW/mHyrQoSqwgbn++usrsWvee++9dZe588478zItL0888UT++8svv1yZPHlyZaeddqr06tWr\\\n",
       "8upXv7pyxhln5NtbuuGGGyojR46sbLrpppUtt9yysv/++1duv/32/Lcddthhtcc48MADm+77+OOP\\\n",
       "V4466qjKVlttle8/evToyi233NKu5xnbcuqpp1YGDBhQ6du3b+Xwww+vzJs3Lz/GlClTmi379NNP\\\n",
       "VyZOnFjZdttt8/PZbbfdKtdee227HuenP/1p5S1veUulf//+lc0337yyyy67VCZNmtTm6xjvQYjn\\\n",
       "+sY3vrHyu9/9Lr8u8RxPOeWU/Lcf/ehHlUMPPbSy3Xbb5W3acccdK+eff37l3//+d9Njx/1brjte\\\n",
       "0xDvVcvHarnshAkTKgcccEBljz32aPW5xXM55JBD2nz+sR/E9q1YsWKN9rPqa/Od73yncvbZZ1e2\\\n",
       "3377Srdu3SrPPfdc5e9//3vlU5/6VGX33XfPr+kWW2xRefvb3165//77W13H9OnTK+eee25eR7zX\\\n",
       "733veyvPP/983gfi9XzVq16V1/PhD3+47j669957V/r06ZP3tXHjxlXmzp1beSWxz/fo0aOyZMmS\\\n",
       "Zrd/7nOfy9tVu45FixZVHnroocqyZcvaXGe8HnHfu+666xUfv/oaV4/LEO//YYcdVrn77rvzcde7\\\n",
       "d+/Ka1/72so3v/nNV1xf9fHjtYjXMV73eA+mTp3a7PFaXuJ9qH3sGTNmVIYPH54f+0tf+lL+23XX\\\n",
       "XVd529velt+L2F/e8IY3VL72ta81e+y2Pg+q73XtY7VcNvbFuP1d73rXas/rn//8Z6Vfv36Vj370\\\n",
       "o81uf/e73113/4d1oQLIBmvJkiVp8eLFq1WNttlmm/SGN7wh9w/75Cc/mV796lenT33qU/nvr3rV\\\n",
       "q3KTy7ve9a70q1/9KvdJimUfeOCB9KUvfSn95S9/ST/60Y+a1hdNRdFfKJqt4hd2VHd++9vf5qbl\\\n",
       "Qw45JPddO+mkk1Lfvn3T2Wefne8zcODA/P8FCxbk+0VF7OSTT87bFb/U47Gjye3d7353m88vBq98\\\n",
       "61vfSh/4wAfyeuIxo89PS/E40cwdzz36sMVzjOa3Y489Ni1durTNgS8PPvhgeuc735n22GOP/Pyi\\\n",
       "Ke6xxx5Lv/71r/Pf47WJ26OfUbxW+++/f749tqe2X15UyaIp7z//8z+bnn80Jcbrctppp+X/x/bH\\\n",
       "emKbouIU4jWL9/Hpp5/Or3+IZVsTy77+9a/P/aSqzbLR7BXPIZoZoxm5tmk2KlHxfp5zzjltvs5R\\\n",
       "5Yr71TY1v9J+Fk18VdEcHftFVNCiP138O5oZYz963/vel7cz3qOrrroqHXjggflv0d+u1kUXXZSr\\\n",
       "TNG3MF7/r371q3l7omr03HPP5X0w+rbGaxrrq+33FZW2//7v/859I2OfWbRoUb5/NDlGdbOt6lL8\\\n",
       "fZdddsn99GqNGjUq/z/6fQ4ZMqSpehfHQzQNR/NpPdF0H7797W+nt7zlLXmgwpqK1+Coo47K+/CE\\\n",
       "CRPSddddl5tUhw8fnvsS1hN9F6PZ+eCDD06XXHJJvu2hhx7K+/Mpp5ySX5M4Fr/yla/k6mTs36H6\\\n",
       "//DII4/kdXzsYx/L+1Xsc+GKK67Ijx3Hbzyn//3f/03HH398/jw54YQT8jJtfR60FMv+z//8T/rh\\\n",
       "D3+Y1x33ieNw5cqV6dJLL03/+Mc/0tZbb920fDxeHDtxjNWK1+THP/5x/lvL9xHWyTrFR1gP6v2K\\\n",
       "j0v8Yq9V/UXfslrSvXv3XGGodeWVV+Z1/PrXv87XH3300bxc/MJeuXJls2VXrVrV9O+ogNVW/aqi\\\n",
       "ehfrq32cF154IVczhg4duto6a0WlKO57/PHHN7v9Ax/4wGoVwGOPPTZX2RYvXtxs2aOPPjpX9V56\\\n",
       "6aW6jxPVjVhfVHfqiQpYbSWuVrUqF69dS6097sc+9rHKZptt1qyKFe9PtepXq2UFsF5VLiplUfk6\\\n",
       "88wzm93/5JNPzlWzF198sdKWqP5GxW1N9rPaik5UNls+13h+Ld/feD6xf0YVtKq6jqhS1VYgjznm\\\n",
       "mFxNfMc73tFsHfvuu2+z1+rJJ5/MFbwLL7yw2XIPPPBApWfPnqvd3lLsuwcddNBqtz/44IOrva+x\\\n",
       "z9VWsOqJY6O6XwwcODA/l2nTplWeeuqpdlcA47Zf/vKXTbctXLgwv3ZRVW1LVEujSlZbZW7p5ptv\\\n",
       "rvs8qo8dFcD27M9jx47N73+tep8HLSuAta9p7fH3yCOP5NuuuOKKZvePqmB8btR+9oQbb7wxL//b\\\n",
       "3/627nOGtbFxdGShSDEKNH7x116i8vVKbr755vyLPzqiR2WnejnooIPy36PCEaKCE7/uo9rSsk9X\\\n",
       "VNteya233porKbUd6eNXflTSYgRiVILaum+IakWtltW86KP0/e9/Px1++OH537XPZ+zYsbl6dd99\\\n",
       "99V9nGp1KCoI8VzXRlQNJ06cuNrttf2mYuBGbFNUEKMi2pEjQWPgxhFHHJFH8sZrEKKKMn369HTk\\\n",
       "kUe+4ijhqGBGP6o12c9qRYWqZR+xeE2q+0xsSzxGvPdRTWrt/Yh+d7UVyBiJG8/lv/7rv5otF7fH\\\n",
       "aOV///vf+foPfvCD/L5F9a/2vY9pj2JAR3VfricGJbQ2AKPaVy3+XhVVyNimtqp/1WPj9ttvT5/9\\\n",
       "7Gfz6xrvS1TIojI4bty4dk3bE/12q9XmEFXteO3++te/tnm/2J+XLVu2TqOYo8Iax05Lte9xtSoc\\\n",
       "Fd3YprjeUaIiG+9zVFCrohoYn20f/OAHV/vsqe67LavUsK40AbPBinDV3s75tR599NHcLBRfKq2p\\\n",
       "dsyOkXXxJb62g0ieeuqp/EHeUrW5Kf5ebzRp/C0eu+XIvmpzVFU098UXajSL1ptCovp8WhNfyF//\\\n",
       "+tdz02E0P0bT2Xve857c/NbegQyDBw9uNrKxKppmo/k1mn6jeapWR35hVgNUBL677747N/P97Gc/\\\n",
       "y82u7Z32pxoc12Y/a20kenVkZ4wIfeKJJ3IIrIquAC295jWvaXa9Ohq52vxae3usO16/WE/sy7Ht\\\n",
       "EfZaU69ZuzbURLN1SzHwofr3tRGhMppA4/Lss8+mX/ziF/n1+O53v5u3Kbo2tKXl61ENOtEc3pZo\\\n",
       "ko3HiC4JsV9GN40Ix29/+9vbve2tvZ8hmpFjNoFZs2blHzG14v1obQT5uuzP0Z0jPgciOMeP1hhJ\\\n",
       "3dr+XN132/OjFNaEAEjDiS/QN73pTemyyy5r9e8tv3Q3ZNWqXfQLikpUa6JfUT3xBf/LX/4yV4r+\\\n",
       "7//+L0+yHEEqqqE//elP2zVCs7WQEKE0qiPRJyn660WQjapSVL9izrm1rTbWExWb6GsVwSICYPw/\\\n",
       "qmDtmSomgtQrBYs1ff4x/2T0y4sKXvQRjL5cEaijgtvac6/3Ote7vfqlH+uKL/6oDrW2bL3+lFXb\\\n",
       "bbddeuaZZ1a7PUJbaNlXcW3EY0T/0JgaJvrQRUCLvoxt9Q18peddz7bbbpv7LUYFMl6TuFx//fU5\\\n",
       "UEX/27V9P+PHYPw4ilaD+NyIz4j40ROV+ui72tH7c7xe0X85qoDRVzH25/gR0vIHYKjuu7X9UqEj\\\n",
       "CIA0nAgjMe1HfKC39as5losP9miqbWv+u3rriF/u0aG8pWrzZ7WzfL37xmPHF0/th37L9UUVc4st\\\n",
       "tsgVprWdFy+CSbwWcYkvtwgvUbmJUBjrXJvKQsxvFs2e0UQZgawqqmEtdUTlIgJDDJaJYBGd/6P5\\\n",
       "PjrwtyfAxpd6a9u1LmKQz9ve9rZ07bXXrhaMO/KLOvbRCEVRtYqmwzUV+3W8zy0HEMRAp+rfO0pU\\\n",
       "/uLHSFQtq83U60MEs+gSEZc4hqIqGANwIpDHXHtrs7/FAIyolP7kJz9pVp1srYm9I/bn+MEQA74i\\\n",
       "AEazb1Qf602WHvtuHMNr8/5DW/QBpOFEk1BUPWLm/Zaiz1P0IQrRfyw+WKOC1fIXfm0lIvqYtdav\\\n",
       "KSZojXnWosmoKtYdTbUxAW1bTcvRhBVitGKtll8CEXCishL9AFs7JVQ0Ebcl+ha1VP3SrzYNVvvQ\\\n",
       "rckp16rBq/Z1irNDRJNoS7H+jmgSjuaxqIbE6M04BWDL0ZL17Lvvvvm1a60pdG3F829ZrYpmvNaq\\\n",
       "besimuvjsWJ0bsvHi+sRwtsSTf3x46G2+0C8DlE1i+4LtdXwCG3x46Vl82dLEfDmzp272u2x/8Sx\\\n",
       "EE259bpfrKuWzzeO32oFvKP359hn43Vqqd7nwdrsz/Hj84wzzsiPH1XB1syZMydXVjuyCRqCCiAb\\\n",
       "rGjeaW0wQUxRsuOOO7b5wRrNUDGLfvyCj6kq4ksw1hW3R/NRNLdEtSAqYdGEFx3S48s2+jbF9CLR\\\n",
       "NBZTd1SnYYhpHKLTe9wnmqGiCTX61EUH+AhzMZgjftVHM1T8Yo/A1lYfuwhhMRVFBKb4oonnNHPm\\\n",
       "zDw9RksXX3xxfh7xhR1VrwiWEeyiuTX6wrUW8qoi3EYTcFQbouoY/QXjMWPqnOrglagyRef6K6+8\\\n",
       "Mlcb4wsuHqteX6nqexBf9NEsHc89qiIxLU9rTXjx+kWzc0wXM3LkyNxsGdWbNRWnHYs+ldVBPnvv\\\n",
       "vXe77hcDSOI9jn5q0WesI8TUOvHaxuCYeC1imqGo5rS1X66NeG9iv5s0aVIeWBQ/WuI9in0spheJ\\\n",
       "AUfVCZ5bE+9jTFUT94/3Pvbf2EdjXS2rl+2dBiaq61GNjf0+jpvY7yP4xnrjrDLxI2Z9Tf4cfVlj\\\n",
       "f4/jL/bh6EMXU+LE8VTtexv/jsePSnEcW3FMx/Jx3NYT+0W1slj9gRE/IOM+1ebyqnqfB2sqjsno\\\n",
       "nhD7c7yWrW1f9AuM/TaqnNDh1mrsMKxHbU3P0XLakNamgQkx5cYll1ySp2yI6SVi8tyY+PW8885b\\\n",
       "bVLcmAB2r732aloupni44447mv4+f/78/Bgx6Wy9iaBjAumYqmTUqFHtngg6Jn6NqUy22WabPJ1J\\\n",
       "WxNBL1iwoHLCCSdUhgwZUtlkk00qgwYNqhx88MGVq6++us3HmDlzZuWII47IExDH5Lbx/5i24y9/\\\n",
       "+Uuz5X784x/nyaVjapHWJoJuTUyns88+++TJoWO9n/70p/ME2i2nwohpWmJ6m3iN2poIuj2TM196\\\n",
       "6aX57zGR8ZqIiXRjOp21mQg6phVpKaaBiSlLYnqeeP4x0fasWbPy61W7f9RbR73Hbm3akPD973+/\\\n",
       "st9+++X9JC677rpr3h9iSpH27Genn3563mdiH4/Jl1ubBqW908DEvnjxxRfn5xnPP/aZOG5iupnv\\\n",
       "fe977Z4IuqWWr11rYv0x8Xd1QvTXvOY1eeqhZ599ttly11xzTZ6+JabQaW0i6Nb85Cc/yftJHMcx\\\n",
       "HUt8fsRnQ8vtr/d50N5pYGrFNFDx95jqpTW33XZb/ntMWQUdrVv8p+NjJUDHi5Gm0Xk+KlitjSSt\\\n",
       "J6qTMVVJNF125GnmYF3EvhyV2Pnz57d6esWo+EZ1Paq90NEEQGCjEB9Vw4YNy81mrzT/XUvRxzP6\\\n",
       "ikWze/UMDtCVYiqe6IMZ3Qla62sYU1nFbAYx6rnedFKwLvQBBDZoMbAmRmdG6Iu+djGp9ZqK/pit\\\n",
       "DaKBzhZ9MaPvbowkj0EtcQq71kSfxuqE4LA+CIDABi1GOsegg2i6jTnT4lytsLGKkb8x9UsM+ohZ\\\n",
       "ADpyKh4otgk4TukUJ6GP/hTRVBSjw6onPW8p5hNreXqrGC1WnSEfAKBRNcw8gNVpJuJUPjE9RgTA\\\n",
       "OHtAW6fJiolRY4h/9RJTCgAANLqGCYBxhoOYIy2qejFPWsxpFqOqrrvuurr3idFVMVt99RKnmgIA\\\n",
       "aHQNEQDjDAQxW3rtqbKi03dcrz1LQ0sx2WdMjhsjsWKy2Di5PQBAo2uIQSBxCqM400PLCl5cb+1M\\\n",
       "EiHOvxrVwZgaImaL/8IXvpBn9I8QGDPMtyZONVR7OqmYWiJmpY9pKTri/JAAwPpXqVTSCy+8kM/6\\\n",
       "1NZZmxpZQwTAtRHnB41LVYS/GHYfJxWP00a1Jk4NFqdKAgA2fvPmzatb9Gl0DREABwwYkM/9uGDB\\\n",
       "gma3x/Xo29cem2yyST7XaGvnYq2K82nGQJOqqBzG2QhiB4oBJQDAhm/p0qW5+1ecW7tUDREA4yTe\\\n",
       "cYLumTNn5lPnVJtn4/qJJ57YrnVEE3JMMnvooYfWXSamiYlLSxH+BEAA2Lh0K7j7VkMEwBCVuQkT\\\n",
       "JqQRI0bkuf+mTp2azyBQnetv/PjxafDgwbkZN5x//vlpn332STvvvHN6/vnn8/yBMQ3MRz7ykS5+\\\n",
       "JgAA61fDBMBx48blMwZMnjw5TwQds6vPmDGjaWBInAS+tqPnc889l6eNiWW32mqrXEG855578hQy\\\n",
       "AACNrKHOBNIVfQj69++f+wJqAgaAjYPv7waZBxAAgPYTAAEACiMAAgAURgAEACiMAAgAUBgBEACg\\\n",
       "MAIgAEBhBEAAgMIIgAAAhREAAQAKIwACABRGAAQAKIwACABQGAEQAKAwAiAAQGEEQACAwgiAAACF\\\n",
       "EQABAArTs6s3AKBo3bp19RbAhqtS6eotaFgqgAAAhREAAQAKIwACABRGAAQAKIwACABQGAEQAKAw\\\n",
       "AiAAQGEEQACAwgiAAACFEQABAAojAAIAFEYABAAojAAIAFAYARAAoDACIABAYQRAAIDCCIAAAIUR\\\n",
       "AAEACiMAAgAURgAEACiMAAgAUBgBEACgMAIgAEBhBEAAgMIIgAAAhREAAQAKIwACABRGAAQAKIwA\\\n",
       "CABQGAEQAKAwAiAAQGEEQACAwgiAAACFEQABAAojAAIAFEYABAAojAAIAFAYARAAoDACIABAYQRA\\\n",
       "AIDCCIAAAIURAAEACiMAAgAURgAEAChMQwXAadOmpaFDh6Y+ffqk0aNHp9mzZ7frfjfddFPq1q1b\\\n",
       "OvLII9f7NgIAdLWGCYDTp09Pp512WpoyZUq677770rBhw9LYsWPTwoUL27zfk08+mU4//fS0//77\\\n",
       "d9q2AgB0pYYJgJdddlk67rjj0sSJE9Nuu+2WrrzyyrTZZpul6667ru59Vq5cmT74wQ+m8847L+24\\\n",
       "446dur0AAF2lIQLgihUr0pw5c9KYMWOabuvevXu+PmvWrLr3O//889O2226bjj322E7aUgCArtcz\\\n",
       "NYDFixfnat7AgQOb3R7XH3744Vbv86tf/Spde+216f7772/34yxfvjxfqpYuXboOWw0A0DUaogK4\\\n",
       "pl544YX0oQ99KF1zzTVpwIAB7b7fRRddlPr37990GTJkyHrdTgCA9aEhKoAR4nr06JEWLFjQ7Pa4\\\n",
       "PmjQoNWWf/zxx/Pgj8MPP7zptlWrVuX/9+zZMz3yyCNpp512Wu1+kyZNygNNaiuAQiAAsLFpiADY\\\n",
       "q1evNHz48DRz5symqVwi0MX1E088cbXld9111/TAAw80u+2cc87JlcEvf/nLdUNd79698wUAYGPW\\\n",
       "EAEwRGVuwoQJacSIEWnUqFFp6tSpadmyZXlUcBg/fnwaPHhwbsaNeQJ33333Zvffcsst8/9b3g4A\\\n",
       "0GgaJgCOGzcuLVq0KE2ePDnNnz8/7bnnnmnGjBlNA0Pmzp2bRwYDAJSuW6VSqXT1Rmysog9gDAZZ\\\n",
       "smRJ6tevX1dvDrAx6tatq7cANlzrKaIs9f1d5ihgAICSCYAAAIURAAEACiMAAgAURgAEACiMAAgA\\\n",
       "UBgBEACgMAIgAEBhBEAAgMIIgAAAhREAAQAKIwACABRGAAQAKIwACABQGAEQAKAwPbt6A6ivW7eu\\\n",
       "3gLYcFUqXb0FABsvFUAAgMIIgAAAhREAAQAKIwACABRGAAQAKIwACABQGAEQAKAwAiAAQGEEQACA\\\n",
       "wgiAAACFEQABAAojAAIAFEYABAAojAAIAFAYARAAoDACIABAYQRAAIDCCIAAAIURAAEACiMAAgAU\\\n",
       "RgAEACiMAAgAUBgBEACgMAIgAEBhBEAAgMIIgAAAhREAAQAKIwACABRGAAQAKIwACABQGAEQAKAw\\\n",
       "AiAAQGEEQACAwgiAAACFEQABAAojAAIAFEYABAAojAAIAFAYARAAoDACIABAYQRAAIDCCIAAAIUR\\\n",
       "AAEACiMAAgAURgAEACiMAAgAUBgBEACgMA0VAKdNm5aGDh2a+vTpk0aPHp1mz55dd9kf/OAHacSI\\\n",
       "EWnLLbdMm2++edpzzz3TDTfc0KnbCwDQFRomAE6fPj2ddtppacqUKem+++5Lw4YNS2PHjk0LFy5s\\\n",
       "dfmtt946nX322WnWrFnpj3/8Y5o4cWK+3H777Z2+7QAAnalbpVKppAYQFb+RI0emyy+/PF9ftWpV\\\n",
       "GjJkSDrppJPSWWed1a517L333umwww5LF1xwQbuWX7p0aerfv39asmRJ6tevX+po3bp1+CqhYTTG\\\n",
       "J5cDHbriQF+6nr+/NwYNUQFcsWJFmjNnThozZkzTbd27d8/Xo8L3SiIDz5w5Mz3yyCPpgAMOqLvc\\\n",
       "8uXL805TewEA2Ng0RABcvHhxWrlyZRo4cGCz2+P6/Pnz694vkn/fvn1Tr169cuXvq1/9avqP//iP\\\n",
       "ustfdNFF+RdD9RIVRgCAjU1DBMC1tcUWW6T7778/3XvvvenCCy/MfQjvuuuuustPmjQph8bqZd68\\\n",
       "eZ26vQAAHaFnagADBgxIPXr0SAsWLGh2e1wfNGhQ3ftFM/HOO++c/x2jgB966KFc5XvrW9/a6vK9\\\n",
       "e/fOFwCAjVlDVACjCXf48OG5H19VDAKJ6/vuu2+71xP3iX5+AACNrCEqgCGabydMmJDn9hs1alSa\\\n",
       "OnVqWrZsWZ7aJYwfPz4NHjw4V/hC/D+W3WmnnXLou/XWW/M8gFdccUUXPxMAgPWrYQLguHHj0qJF\\\n",
       "i9LkyZPzwI9o0p0xY0bTwJC5c+fmJt+qCIfHH398evrpp9Omm26adt111/Stb30rrwcAoJE1zDyA\\\n",
       "XcE8gNB1GuaTy4EO9ZkHcL1piD6AAAC0nwAIAFAYARAAoDACIABAYQRAAIDCCIAAAIURAAEACiMA\\\n",
       "AgAURgAEACiMAAgAUBgBEACgMAIgAEBhBEAAgMIIgAAAhREAAQAKIwACABRGAAQAKIwACABQGAEQ\\\n",
       "AKAwAiAAQGEEQACAwgiAAACFEQABAAojAAIAFEYABAAojAAIAFAYARAAoDACIABAYQRAAIDCCIAA\\\n",
       "AIURAAEACiMAAgAURgAEACiMAAgAUBgBEACgMAIgAEBhBEAAgMIIgAAAhREAAQAKIwACABRGAAQA\\\n",
       "KIwACABQGAEQAKAwAiAAQGEEQACAwgiAAACFEQABAAojAAIAFEYABAAojAAIAFAYARAAoDACIABA\\\n",
       "YQRAAIDCCIAAAIURAAEACiMAAgAURgAEACiMAAgAUBgBEACgMAIgAEBhBEAAgMIIgAAAhREAAQAK\\\n",
       "01ABcNq0aWno0KGpT58+afTo0Wn27Nl1l73mmmvS/vvvn7baaqt8GTNmTJvLAwA0ioYJgNOnT0+n\\\n",
       "nXZamjJlSrrvvvvSsGHD0tixY9PChQtbXf6uu+5KxxxzTLrzzjvTrFmz0pAhQ9IhhxySnnnmmU7f\\\n",
       "dgCAztStUqlUUgOIit/IkSPT5Zdfnq+vWrUqh7qTTjopnXXWWa94/5UrV+ZKYNx//Pjx7XrMpUuX\\\n",
       "pv79+6clS5akfv36pY7WrVuHrxIaRmN8cjnQoSsO9KXr+ft7Y9AQFcAVK1akOXPm5Gbcqu7du+fr\\\n",
       "Ud1rj5deein961//SltvvXXdZZYvX553mtoLAMDGpiEC4OLFi3MFb+DAgc1uj+vz589v1zrOPPPM\\\n",
       "tP322zcLkS1ddNFF+RdD9RIVRgCAjU1DBMB1dfHFF6ebbrop/fCHP8wDSOqZNGlSLhdXL/PmzevU\\\n",
       "7QQA6Ag9UwMYMGBA6tGjR1qwYEGz2+P6oEGD2rzvF77whRwAf/azn6U99tijzWV79+6dLwAAG7OG\\\n",
       "qAD26tUrDR8+PM2cObPpthgEEtf33Xffuve79NJL0wUXXJBmzJiRRowY0UlbCwDQtRqiAhhiCpgJ\\\n",
       "EybkIDdq1Kg0derUtGzZsjRx4sT89xjZO3jw4NyPL1xyySVp8uTJ6cYbb8xzB1b7Cvbt2zdfAAAa\\\n",
       "VcMEwHHjxqVFixblUBdhbs8998yVverAkLlz5+aRwVVXXHFFHj181FFHNVtPzCN47rnndvr2AwB0\\\n",
       "loaZB7ArmAcQuk7DfHI50KE+8wCuNw3RBxAAgPYTAAEACiMAAgAURgAEACiMAAgAUBgBEACgMAIg\\\n",
       "AEBhBEAAgMIIgAAAhREAAQAKIwACABRGAAQAKIwACABQGAEQAKAwAiAAQGEEQACAwgiAAACFEQAB\\\n",
       "AAojAAIAFEYABAAojAAIAFAYARAAoDACIABAYQRAAIDCCIAAAIURAAEACiMAAgAURgAEACiMAAgA\\\n",
       "UBgBEACgMAIgAEBhBEAAgMIIgAAAhREAAQAKIwACABRGAAQAKIwACABQGAEQAKAwAiAAQGEEQACA\\\n",
       "wgiAAACFEQABAAojAAIAFEYABAAojAAIAFAYARAAoDACIABAYQRAAIDCCIAAAIURAAEACiMAAgAU\\\n",
       "RgAEACiMAAgAUBgBEACgMAIgAEBhBEAAgMIIgAAAhREAAQAKIwACABRGAAQAKIwACABQGAEQAKAw\\\n",
       "AiAAQGEaKgBOmzYtDR06NPXp0yeNHj06zZ49u+6yDz74YHrve9+bl+/WrVuaOnVqp24rAEBXaZgA\\\n",
       "OH369HTaaaelKVOmpPvuuy8NGzYsjR07Ni1cuLDV5V966aW04447posvvjgNGjSo07cXAKCrNEwA\\\n",
       "vOyyy9Jxxx2XJk6cmHbbbbd05ZVXps022yxdd911rS4/cuTI9PnPfz4dffTRqXfv3p2+vQAAXaUh\\\n",
       "AuCKFSvSnDlz0pgxY5pu6969e74+a9asDnuc5cuXp6VLlza7AABsbBoiAC5evDitXLkyDRw4sNnt\\\n",
       "cX3+/Pkd9jgXXXRR6t+/f9NlyJAhHbZuAIDO0hABsLNMmjQpLVmypOkyb968rt4kAIA11jM1gAED\\\n",
       "BqQePXqkBQsWNLs9rnfkAI/oK6i/IACwsWuICmCvXr3S8OHD08yZM5tuW7VqVb6+7777dum2AQBs\\\n",
       "aBqiAhhiCpgJEyakESNGpFGjRuV5/ZYtW5ZHBYfx48enwYMH53581YEjf/7zn5v+/cwzz6T7778/\\\n",
       "9e3bN+28885d+lwAANanhgmA48aNS4sWLUqTJ0/OAz/23HPPNGPGjKaBIXPnzs0jg6v+9re/pb32\\\n",
       "2qvp+he+8IV8OfDAA9Ndd93VJc8BAKAzdKtUKpVOeaQGFNPAxGjgGBDSr1+/Dl9/t24dvkpoGA3z\\\n",
       "yeVAh04/0Jeu5+/vjUFD9AEEAKD9BEAAgMIIgAAAhREAAQAKIwACABRGAAQAKIwACABQGAEQAKAw\\\n",
       "AiAAQGEEQACAwgiAAACFEQABAAojAAIAFEYABAAojAAIAFAYARAAoDACIABAYQRAAIDCCIAAAIUR\\\n",
       "AAEACiMAAgAURgAEACiMAAgAUBgBEACgMAIgAEBhBEAAgMIIgAAAhREAAQAKIwACABRGAAQAKIwA\\\n",
       "CABQGAEQAKAwAiAAQGEEQACAwgiAAACFEQABAAojAAIAFEYABAAojAAIAFAYARAAoDACIABAYQRA\\\n",
       "AIDCCIAAAIURAAEACiMAAgAURgAEACiMAAgAUBgBEACgMAIgAEBhBEAAgMIIgAAAhREAAQAKIwAC\\\n",
       "ABRGAAQAKIwACABQGAEQAKAwAiAAQGEEQACAwgiAAACFEQABAAojAAIAFEYABAAojAAIAFCYhgqA\\\n",
       "06ZNS0OHDk19+vRJo0ePTrNnz25z+Ztvvjntuuuuefk3velN6dZbb+20bQUA6CoNEwCnT5+eTjvt\\\n",
       "tDRlypR03333pWHDhqWxY8emhQsXtrr8Pffck4455ph07LHHpt///vfpyCOPzJc//elPnb7tAACd\\\n",
       "qVulUqmkBhAVv5EjR6bLL788X1+1alUaMmRIOumkk9JZZ5212vLjxo1Ly5YtS7fcckvTbfvss0/a\\\n",
       "c88905VXXtmux1y6dGnq379/WrJkSerXr1/qaN26dfgqoWE0xieXAx264kBfup6/vzcGPVMDWLFi\\\n",
       "RZozZ06aNGlS023du3dPY8aMSbNmzWr1PnF7VAxrRcXwRz/6Ud3HWb58eb5UxY5T3ZGAzuWwgwKs\\\n",
       "pwN96f9fb4PUwMoNgIsXL04rV65MAwcObHZ7XH/44Ydbvc/8+fNbXT5ur+eiiy5K55133mq3R6UR\\\n",
       "6Fz9+3f1FgAb+4H+wgsv5EpgiRoiAHaWqDDWVg2jmfkf//hH2mabbVI3zTgNLX4tRtCfN29esc0F\\\n",
       "0Ogc5+WoVCo5/G2//fapVA0RAAcMGJB69OiRFixY0Oz2uD5o0KBW7xO3r8nyoXfv3vlSa8stt1yn\\\n",
       "bWfjEl8KvhigsTnOy9C/0MpfQ40C7tWrVxo+fHiaOXNms+pcXN93331bvU/cXrt8uOOOO+ouDwDQ\\\n",
       "KBqiAhiiaXbChAlpxIgRadSoUWnq1Kl5lO/EiRPz38ePH58GDx6c+/GFU045JR144IHpi1/8Yjrs\\\n",
       "sMPSTTfdlH73u9+lq6++uoufCQDA+tUwATCmdVm0aFGaPHlyHsgR07nMmDGjaaDH3Llz88jgqje/\\\n",
       "+c3pxhtvTOecc076zGc+k173utflEcC77757Fz4LNlTR9B9zTLbsAgA0Dsc5JWmYeQABACioDyAA\\\n",
       "AO0nAAIAFEYABAAojAAInWjo0KF5hDqw8fnwhz+cjjzyyK7eDOgQAiCd8qEZZ0ppeXn729/ervvf\\\n",
       "ddddefnnn38+bezuvffe9NGPfrRD1/nWt741nXrqqR26TthYPlNiHtidd945nX/++enf//53V28a\\\n",
       "bDQaZhoYNmwR9q6//vpmt3X0VAsrVqzIXwYbsle96lVdvQnQUJ8py5cvT7feems64YQT0iabbJJP\\\n",
       "2bmxfS5AV1ABpFNE2IvT7NVettpqq/y3+BX/9a9/Pb373e9Om222WZ6T8Sc/+Un+25NPPpne9ra3\\\n",
       "5X/H8rFs/PqvVr5OPPHEXP2K0wGOHTs23/6nP/0pveMd70h9+/bN80B+6EMfSosXL27alrjfySef\\\n",
       "nD796U+nrbfeOm/Lueee22x7L7vssvSmN70pbb755vncoMcff3x68cUXm/7+jW98I58G8JZbbkmv\\\n",
       "f/3r83YfddRR6aWXXkrf/OY3c1NvbG88zsqVK+s2AUdV8yMf+UgOhnHqqYMOOij94Q9/aPp7bFfM\\\n",
       "aXnDDTfk+8api44++uh8DssQr8UvfvGL9OUvf7mpIhKvWYjbY1L0eO232267dNZZZ6mQ0HCfKTvs\\\n",
       "sEP6xCc+kcaMGZM/N6rNtBdeeGE+z2scnyGOjZjrtVYcw3EsV8U5gN///vfn2+Oz4Ygjjmg6nmqd\\\n",
       "d955Tcfsxz/+8Rwyq2L+2f322y+vI84T/853vjM9/vjj6/W1gLUhALJBiA/U+OD94x//mA499ND0\\\n",
       "wQ9+MP3jH//I4ev73/9+XuaRRx5Jzz77bA47VRG24tf9r3/963TllVfmQBUhaq+99spndokP4zjH\\\n",
       "c6y7Vtwvwt1vf/vbdOmll+bmozgVYFVMGv6Vr3wlPfjgg3nZn//85zkw1oqwF8vEWWTicaKpOkJs\\\n",
       "VCPiEqHtqquuSt/73vfqPu/3ve99aeHChem2225Lc+bMSXvvvXc6+OCD83Ovii+P+OKKsBmXCHYX\\\n",
       "X3xx/lu8FnH6wuOOOy6/NnGJ1+yZZ57Jr+PIkSNzoLziiivStddemz772c92wLsFG55NN920KYjF\\\n",
       "aT7j8yKO6Thm2uNf//pX/hG5xRZbpLvvvjt/psSPyKg01ga8WPdDDz2Uj/fvfOc76Qc/+EH+/KqK\\\n",
       "M1DFmani8yeWjc+S+FyI05PCBiUmgob1acKECZUePXpUNt9882aXCy+8MP89dsNzzjmnafkXX3wx\\\n",
       "33bbbbfl63feeWe+/txzzzVb74EHHljZa6+9mt12wQUXVA455JBmt82bNy/f/5FHHmm633777dds\\\n",
       "mZEjR1bOPPPMus/h5ptvrmyzzTZN16+//vq8zscee6zpto997GOVzTbbrPLCCy803TZ27Nh8e9UO\\\n",
       "O+xQ+dKXvpT/fffdd1f69etXefnll5s91k477VS56qqr8r+nTJmS17l06dKmv59xxhmV0aNHN3sd\\\n",
       "TjnllGbr+MxnPlN5/etfX1m1alXTbdOmTav07du3snLlyrrPEzaWz5Qjjjgi/zv28TvuuKPSu3fv\\\n",
       "yumnn57/NnDgwMry5cub3SeO1x/+8IfNbuvfv38+lsMNN9yw2jET69h0000rt99+e9Pjbr311pVl\\\n",
       "y5Y1LXPFFVe0eVwtWrQoP/YDDzzQga8ArDt9AOkU0YwbVaha0cRStcceezT9Oypz0bQSlbFXMnz4\\\n",
       "8GbXo9p155135l/uLUUlbZdddlnt8UI0kdY+3s9+9rN83uiHH344LV26NDedvvzyy7nqF829If6/\\\n",
       "0047Nd0nmpujmbb2seO2es8jtjWalaOZqNY///nPZk1Gsc6oStTb1tZEhSIqg9HsVfWWt7wlP97T\\\n",
       "Tz+dXvOa17R5f9jQRWUvjrWo3EV17QMf+EDuMhF9AaP7xpr2+4vj8bHHHmt2rIU47muPx2HDhjV9\\\n",
       "BoQ4zuK4iubjaI5+9NFH8ylJo3Uhup5UK39xOlKnGmVDIgDSKSLUxUi9eqLzdq0ILu1pMon11ooP\\\n",
       "4sMPPzxdcsklqy0bwak9jxd9fqLfTvQrin5EEVR/9atfpWOPPTY3BVU//Ftbx5o8j9jW2KZoSmop\\\n",
       "+g+1Z1uh9B+VEfSir1/Pnj3rfi5Uj5uWZz6N8Fh7PMYPym9/+9vrNHgrPn8iCF5zzTV5u+JYjeBX\\\n",
       "24wMGwIBkA1e9Zd87WCKeqIPXfQZjKpZ7RfCmoi+ePGh/cUvfjH33wnf/e53U0eLbZ0/f37eztje\\\n",
       "dXl9Wr42b3jDG/LrEF941Spg9GmK6sarX/3qdd522NB/VLYW4qKPbFVU6qKiX3s8Tp8+PW277ba5\\\n",
       "BaKtSmFU6aPPYfjNb36TK5HR9/bvf/977nsY4W///ffPf48fj7AhMgiEThFTNUTYqb3UjsxtS/ya\\\n",
       "jhATTT6LFi1qNhq3pWj+iQEUxxxzTJ5zL5pubr/99jRx4sR2BcgQXypRGfjqV7+a/vrXv+bBHDHA\\\n",
       "pKPFqMVoPooRiz/96U9z5fGee+5JZ599du5A3l4RHqO5Ke5fbXKKUcvRJHXSSSflZuwf//jHacqU\\\n",
       "KblzejXUQklicNjll1+efv/73+fjK0bv1lbXY+BZzCYQI39jEMgTTzyRq/Mxkj+6TVRFJS9aA/78\\\n",
       "5z/nwV5xXMVsBHFcxcj/6NJx9dVX5+bkGDwWxxxsiHwT0ClilGw0d9ZeYqqE9hg8eHAeZRfTmESf\\\n",
       "uviwrSeaXKLSFWHvkEMOyX2BYpqYaFJtb/CJPj4xDUw0I0fTTTQJRX/AjhahNr5ADjjggBxQo39i\\\n",
       "TPHy1FNP5efZXqeffnrq0aNH2m233XKVI/oaxWsW6549e3Z+PvFlF19a55xzToc/D9gYREU/qnRR\\\n",
       "mYv+gnHc1Pbli3//8pe/zP1j3/Oe9+Qqehwz0QewtiIYo/Rjqqo4bseNG5fe9a53NU0jFZ8xMStA\\\n",
       "tCLEZ8cnP/nJ9PnPf75Lni+8km4xEuQVlwIAoGGoAAIAFEYABAAojAAIAFAYARAAoDACIABAYQRA\\\n",
       "AIDCCIAAAIURAAEACiMAAgAURgAEACiMAAgAUBgBEACgMAIgAEBhBEAAgMIIgAAAhREAAQAKIwAC\\\n",
       "ABRGAAQAKIwACABQGAEQAKAwAiAAQGEEQACAwgiAAACFEQABAAojAAIAFEYABAAojAAIAFAYARAA\\\n",
       "oDACIABAYQRAAIDCCIAAAKks/w90WKEzgF0ozgAAAABJRU5ErkJggg==\\\n",
       "\"\n",
       "  frames[1] = \"data:image/png;base64,iVBORw0KGgoAAAANSUhEUgAAAoAAAAHgCAYAAAA10dzkAAAAOnRFWHRTb2Z0d2FyZQBNYXRwbG90\\\n",
       "bGliIHZlcnNpb24zLjEwLjAsIGh0dHBzOi8vbWF0cGxvdGxpYi5vcmcvlHJYcgAAAAlwSFlzAAAP\\\n",
       "YQAAD2EBqD+naQAAMBdJREFUeJzt3Qm8VWW9P/4HUMAJHFBIIkmt1KuiMmlODVxxyLSycLhJXLPB\\\n",
       "NMssRb0gmjnkWJJTar1MkxzrehUH0rKkMMwyp9Qy0GIq5SgqJOzf6/v8//u8zjmcczjA4RzOft7v\\\n",
       "12sre52111577bX2/uzv86xndatUKpUEAEAxunf2CgAA0LEEQACAwgiAAACFEQABAAojAAIAFEYA\\\n",
       "BAAojAAIAFAYARAAoDACIABAYQRAAIDCCIAAAIURAAEACiMAAgAURgAEACiMAAgAUBgBEACgMAIg\\\n",
       "AEBhBEAAgMIIgAAAhREAAQAKIwACABRGAAQAKIwACABQGAEQAKAwAiAAQGEEQACAwgiAAACFEQAB\\\n",
       "AAojAAIAFEYABAAojAAIAFAYARAAoDACIABAYQRAAIDCCIB0Ka+//nr67Gc/mwYMGJC6deuWvvKV\\\n",
       "r6SuLl7HmWeemWrdiy++mF/rD37wg0bTp06dmnbZZZfUu3fv/PdXX311tZ9r2bJlaccdd0znnHPO\\\n",
       "ai8LVtZnPvOZNHjw4Hb77Dr11FPTyJEj18CaUjIBkE4XgSA+EFu6/eY3v6mf91vf+lae/4tf/GK6\\\n",
       "4YYb0qc//el2X5/vfe97y4WUWvL3v/89B87HH398jSz/pptuSpdeemmb5v3nP/+ZPvWpT6X11lsv\\\n",
       "TZ48Ob+nG2ywwWqvw49//OM0e/bsdPzxx7dpP4sv2FoQIWPixIlp//33T5tuummzgXt13HHHHemA\\\n",
       "Aw5I/fr1Sz179kxbbrllfv9+/vOfp7XRyuyLa/o4Wp3PrgiLf/jDH9LPfvaz1VhjaGydJveh05x1\\\n",
       "1lnp3e9+93LTt9122/p/xxfN7rvvnr/k1pQIgPEFF7/ia1F8cU2aNClXKKLytia+dP/0pz8tV+HY\\\n",
       "aqut0ptvvpnWXXfd+mmPPvpoeu2119LZZ5+dRo0a1W7r8O1vfzsdfvjhqW/fvm3az6JaWAsWLFiQ\\\n",
       "X9+73vWuNGTIkPTQQw+1y3IrlUr67//+7xxgdt1113TSSSflStY//vGPHAo//OEPp1//+tfp/e9/\\\n",
       "f1qbtLQvrunj6JprrslV6IZW57MrtvUhhxySLrzwwvTRj350tdcdggDIWiMqC8OGDWt1nnnz5qUd\\\n",
       "dtihw9aJlN544420/vrrr/ZyohoVzbxN38+w8cYbp/by+9//PldLLrroolXez6reeuutXOnq3r1r\\\n",
       "NJa84x3vyKEsAsPvfve7NHz48HZZbmzLCH8RpC6++OL8XladfvrpuaK1zjpd++ukPd/rhj9y2uuz\\\n",
       "Kyqtn/zkJ9Nf/vKXtPXWW6/mGsL/98sOOtX1119fiV3x0UcfbXGeBx98MM/T9PbXv/41//2tt96q\\\n",
       "TJgwobLNNttUevbsWXnnO99Z+frXv56nN3XDDTdUhg8fXllvvfUqG2+8cWXvvfeu3HvvvflvW221\\\n",
       "1XLPse+++9Y/9oUXXqgcdthhlU022SQ/fuTIkZW77rqrTa8z1uUrX/lKpV+/fpUNN9ywcvDBB1dm\\\n",
       "z56dn2PixImN5n3ppZcq48aNq2yxxRb59eywww6Va6+9tk3Pc99991X23HPPSt++fSsbbLBB5b3v\\\n",
       "fW9l/PjxrW7HeA9CvNb/+I//qPzud7/L2yVe44knnpj/duedd1YOPPDAyjve8Y68TltvvXXlrLPO\\\n",
       "qrz99tv1zx2Pb7rs2KYh3qumz9V03rFjx1b22Wefys4779zsa4vXst9++7X6+mM/iPVbsmTJSu1n\\\n",
       "1W3z4x//uHL66adXttxyy0q3bt0qr7zySuWf//xn5Wtf+1plxx13zNt0o402quy///6Vxx9/vNll\\\n",
       "TJkypXLmmWfmZcR7/YlPfKLy6quv5n0gtufmm2+el/OZz3ymxX10t912q/Tu3Tvva2PGjKnMmjWr\\\n",
       "sjLidTbc3k3F+jz99NP5/6154403Kptuumllu+22a/Ret6Ytx0nDbfXNb36zMnDgwEqvXr0qH/rQ\\\n",
       "hyrPPffcCp+jrq4ub8vYv+L9jm06atSoysyZM1e4L67ue72i4yj246bP1fR23XXX5f/ffvvty722\\\n",
       "G2+8Mf/tkUceqZ8W71Os48UXX9ym9wBWpGv/ZKOmLFy4MDdhNRSVhs022yxtv/32ucrw1a9+Nb3z\\\n",
       "ne9MX/va1/LfN99889zUEs0iv/rVr9LnPve5PO8TTzyRLrnkkvTnP/853XnnnfXLiyab6LcTTVXR\\\n",
       "VBa/+H/729/m5pn99tsv9xc64YQT0oYbbpgrG6F///75/3Pnzs2Pi4rYl7/85bxeP/zhD/Nz33rr\\\n",
       "reljH/tYq68vOoD/6Ec/SkceeWReTjznQQcdtNx88TzRVBSvPfqwxWu855570jHHHJPq6upabc56\\\n",
       "8skn00c+8pG0884759fXq1ev9Pzzz+fmuRDbJqZPmDAhb6u99947T2/YdBf98qJKFk2o//Vf/1X/\\\n",
       "+qMCFNslmv/i/7H+sZxYp2hyDbHN4n186aWX8vYPMW9zYt73ve996eqrr65vlt1mm23yazj22GNz\\\n",
       "013DptloLo7384wzzmh1Oz/yyCP5cc1VYVraz6LJvyqao2O/OPnkk9PixYvzv5966qm8H0UFJtYz\\\n",
       "3qOrrroq7bvvvvlv0ReuoXPPPTf3a4y+hbH9v/vd7+b1ierSK6+8kvfB6Nsa2zSWF9uxKk5c+Z//\\\n",
       "+Z9c8Yl9Zv78+fnx++yzT65utle1NJpux40bl66//vpWuzvEcfWvf/0r73c9evRY4XJX9jg577zz\\\n",
       "8naJ7R3vzQUXXJCOOuqofFy25gtf+EJeXhwjUVmL/TbW9emnn0677bZbm/bFVX2v23IcVbX02RXb\\\n",
       "IZqDb7zxxuW2SUyLY2GPPfaonxbdGWJaHMuxLFhtK4yIsIZVKzPN3aIi0FD8qj7ooIOWq5Z07969\\\n",
       "8vDDDzeafuWVV+Zl/PrXv873o6oQ833sYx+rLF26tNG8y5Ytq/93VMAaVv2qonoXy2v4PK+99lrl\\\n",
       "3e9+d2Xw4MHLLbOhqB7EY4877rhG04888sjlKoDHHHNMrrItWLCg0byHH354rupFRaYll1xySV7e\\\n",
       "/PnzV6kyVK2axLZrqrnn/fznP19Zf/31G1Wx4v2pVj8aaloBbKkqF5WOqHydcsopjR7/5S9/OVdk\\\n",
       "Xn/99UprovobFbeV2c8aVmqistn0tcbra/r+xuuJ/TOqoFXVZUT1qGEF8ogjjsjVmwMOOKDRMvbY\\\n",
       "Y49G2+rFF1+s9OjRo3LOOec0mu+JJ56orLPOOstNX50KYHV7tPT3qssuuyzPd8cdd7Tpedt6nFS3\\\n",
       "1fbbb19ZvHjxcs8Xr7k1cSx86UtfanWelvbF9nivW9u+DSuArX12RWU+ltuwCjtv3rz8XjdtFQhR\\\n",
       "/Y7tBe2ha3RsoQhxFuj999/f6BaVrxW55ZZb8q/s7bbbLld2qrcPfehD+e8PPvhg/n/8qo9qYfxq\\\n",
       "b9rPp2GfppbcfffdacSIEWmvvfaqnxYVhagAxBAnUR1o7bEhKiINNa3mRWf72267LR188MH53w1f\\\n",
       "z+jRo3NF47HHHmvxearVoZ/+9KfLdUJvq6gaRmWoqahoVcWJG7FOUfmISs8zzzyT2ktUOqLDe5zJ\\\n",
       "G9sgLF26NE2ZMiUdeuihKzxLOCpBm2yyyUrtZw2NHTu20WutbpPqPhPrEs8R731UMJt7P44++uhG\\\n",
       "FcgYwqN6IkVDMT3OVn777bfz/dtvvz2/b1H9a/jeR5++97znPfX7cnuIql+s04pOdooKb9hoo43a\\\n",
       "tNyVPU5iX4vKW1W1mhZ93VoT+3pUCeNkjFXVHu/16oj9JCqPUcmsiv089oeovjcV+3XT6jWsKk3A\\\n",
       "rDXiS6OtnfMbeu6553KzTzSVNqd6osELL7yQP9hXtSP23/72t2bH4orwWf17S2eTxt/iuaMJp6H4\\\n",
       "UmkomvtiHLxoFo1ba6+nOWPGjEnf//73c9NhND/G2Zkf//jH02GHHdbmzu0DBw5s9IVcFU2z0fwa\\\n",
       "Tb/VUFAVwbS9vxjji/Dhhx/OTZ8PPPBAbopr69AZ1eC4KvtZc2eiRyi77LLL8hnif/3rX3MwqIom\\\n",
       "zqbiLNyGqmcjDxo0aLnpsezYfrGc2Jdj3SPsNaelZu01qU+fPvWhf00cJ023VTW8R1N5a6KpOAJc\\\n",
       "bNOhQ4emAw88MO83K3OCRHu816sjfrTGiTrR5BtdPEL8O7qANBz9oCr2jbb8WIW2EADp8uIDe6ed\\\n",
       "dspnJzan6Zfu2qxatYtf//Hl1pzo39eSqGb88pe/zJWi//u//8uDLEeQimrofffd16Y+XE0rIiFC\\\n",
       "afSBijAQfZ8iyMYZvVEROeWUU1a52tiSqHZG38PoMxkBMP4fVbC2DBUTX9IrCg8r+/pjDLfolxcV\\\n",
       "vOg3FmPsRaCOCm5zr72l7dzS9GpgjWXFF3xUvpubt6X+lGtShJQQ/WqjAtveVrRNWhJV0qgWRl/G\\\n",
       "2LejH+r555+fq6jRh7Wj3uvVFaH1xBNPzH0VoxoYfUMvv/zyZueN/bphf1VYHQIgXV6EkRj2I6pd\\\n",
       "rf06jvniAzyaoFob/66lZcQ4ds8+++xy06vNn/H3lsTf4rmjCtmw6td0eVHFjKa2qDqs6rh48WUV\\\n",
       "2yJuEYrjCy06xEcojGWuSgUhxpOLprD4co1AVhUVkqbao0IRoSBOlomTJOJLPZrv48SQtgTYCCzN\\\n",
       "rdfqiCa6D37wg+naa69dLhi35xdy7KMRfKIy9d73vjetDaIpN6py0SR/2mmnrfA9WJ3jZFWGvTnu\\\n",
       "uOPyLSrjcfJHnERTDYCrsi+29b1ur0pcnGwVJ1bF9q2OkxmV/ObEfh3jO0J70AeQLi8qAS+//HIe\\\n",
       "fLWp+EBdtGhR/ndULyIcRQWr6S/5htWG6GPW3OXIoolpxowZafr06fXTYtnRVBuDwbbWtFz9QvrO\\\n",
       "d77TaHrTqxTEl+snPvGJ3A8wzoJtKpqIWxNnazZVDbtRXai+vrAyl1yrfuk33E5LlizJzWRNxfLb\\\n",
       "o0k4mnuj4vH5z38+X+GiuT5RzYkzJ2PbVV9ve4jX37QiFX1PY79rT9FcH88VZ6s3fb64HyG8vcR7\\\n",
       "FKFsRe9VjAEZVd7oZhH/b64yFxXaODZW9zhpq/iB1HS9t9hii3yGbsP3fVX2xba+16tyHDUnQmV8\\\n",
       "PsQ2jObfuIpLcz8q4nXED8i1bbBtui4VQNYa0ezV3MkE8YHXWr+eCAo/+clP8rAQUeXac8898xdE\\\n",
       "LCum33vvvbnPV/SpiUpYNOtE01F82UaH7xheJL44YuiOEP2JrrjiivTNb34zPya+WKIJNfrUxa/0\\\n",
       "+LCOkzmiaSiGt4hf5RHYWutjFyHsiCOOyIEpPsjjNU2bNi0PEdJUDIsRryP6UUXVK74wI9hFc2v0\\\n",
       "hWsu5FVFuI0m4BheJiotURWJ54zhJ6qd8qPKFB3or7zyylxtjC+yeK7m+kM1fA+iChTN0vHao/oR\\\n",
       "Q1s0FwZi+0Wzc1Q1on9TNFvGSS0rK644EX3Fqif5RHWnLeIEkniPf/GLX+ShfdpDDK0T2zZOWIht\\\n",
       "Ec2h8WXd3gPyxnsT+9348ePzCRPxoyXeo9jHoqkzTqSIIUtaE82HEUqqJ0f87//+b25eDDHEUbU/\\\n",
       "YluHgQlf//rXcx/QGBA69s3oUxpN8nPmzMnV2Qh8MfxOWJ3jpK2iP2Ls07EeURGLfSyOjTiWGw4A\\\n",
       "vir7Ylvf61U5jlprBo7XEmLfbU68vjjeYv+GdtEu5xLDamhteI6mwyw0N5RCiCE3zj///DyESwyr\\\n",
       "EAPQDh06tDJp0qTKwoULG80bA7Duuuuu9fPF0Cf3339//d/nzJmTnyMGgG1pIOgYQDqGKhkxYkSb\\\n",
       "B4J+880381Amm222WR7OpLWBoOfOnZuHuBg0aFBl3XXXrQwYMKDy4Q9/uHL11Ve3+hzTpk2rHHLI\\\n",
       "IXlg2xgcN/4fQ5D8+c9/bjTfT3/60zy4dAw30dxA0M2J4XR23333PLBvLPcb3/hGHkA7Hh/DalTF\\\n",
       "MC0xvE1so9YGgm7L4MwXXHBB/vu3vvWtysqIgaRjOJ1VGQj6lltuWe5vMTRIDA4cw/PE64+BtqdP\\\n",
       "n563V8P9o6VltPTc8b43N2zPbbfdVtlrr73yfhK3GIQ59odnn312ha+9ucHMmw6cvjLDwDR06623\\\n",
       "5qFIYmDo2Hdie8Qg1Q899FCj+dpynLS0rZrbT5qKYWNioPchQ4bk4zS2Ufz7e9/7XqP5WtoX2+O9\\\n",
       "bu04auswMA1fT3wWxdA28TnRnNjOsU9Ae+kW/2mfKAnQvuJszBj0NqphTc8WbU1UJ7/0pS+lWbNm\\\n",
       "tetl5mBNiGFfohUiqpNN+x6GqLRGZfHmm29WAaTd6AMIrJXit2l8GcbZxysT/kJcSSIeE2P+wdou\\\n",
       "mtGjf280BTcn+grHSAfCH+1JBRBYq8QJAz/72c9yX7M4sScGtY7LiEGtiYGs//jHP+Z+f3HiR3sP\\\n",
       "NA2tcRIIsFaJSkgMARNNtzHsiPBHrYqTzeLs3zhJLIY8go5UUxXAaO6JwUCjv0ScGRYXUI9R/5sT\\\n",
       "B1vTy13FGaFvvfVWB60tAEDnqJk+gNVT/SdOnJjL6BEA42oCrV02K65q8I9//KP+FpcoAgCodTUT\\\n",
       "AOOKBzFmWlT1Yty0GJspBjC97rrrWnxMjGUWY1lVb3HpKQCAWlcTATCuSDBz5sxGl86KwUbjfsPR\\\n",
       "6JuKqwvEYLlxrdg4uyoGOgUAqHU1cRLIggUL8pUfmlbw4n5zV5YIcT3WqA7uvPPO+coMF154YR71\\\n",
       "PUJgjDDfnLjEUMPLDMXlxOKqDHHx+fa6LiQAsGZVKpV8RZkYf7E9rk7TFdVEAFwVcb3QuFVF+IvL\\\n",
       "TV111VUtXoonLhUW1+gEALq+2bNnt1j0qXU1EQBj/KS4gPfcuXMbTY/70bevLdZdd9187dHmrs1a\\\n",
       "FdfnjBNNqqJyGIPNxg4UJ5QAAGu/urq63P0rruNcqpoIgD179swX/Z42bVq+eHq1eTbuH3/88W1a\\\n",
       "RjQhx0W/DzzwwBbniWFi4tZUhD8BEAC6lm4Fd9+qiQAYojI3duzYNGzYsDz2X1w6J64oUB3rLy6x\\\n",
       "M3DgwNyMG84666y0++67p2233Ta9+uqrefzAGAbms5/9bCe/EgCANatmAuCYMWPyFQQmTJiQB4KO\\\n",
       "kdWnTp1af2JIXBS+YUfPV155JQ8bE/NusskmuYL4yCOP5CFkAABqWU1dCaQz+hD07ds39wXUBAwA\\\n",
       "XYPv7xoZBxAAgLYTAAEACiMAAgAURgAEACiMAAgAUBgBEACgMAIgAEBhBEAAgMIIgAAAhREAAQAK\\\n",
       "IwACABRGAAQAKIwACABQGAEQAKAwAiAAQGEEQACAwgiAAACFEQABAAojAAIAFEYABAAojAAIAFAY\\\n",
       "ARAAoDACIABAYQRAAIDCCIAAAIURAAEACiMAAgAURgAEACiMAAgAUBgBEACgMAIgAEBhBEAAgMII\\\n",
       "gAAAhREAAQAKIwACABRGAAQAKIwACABQGAEQAKAwAiAAQGEEQACAwgiAAACFEQABAAojAAIAFEYA\\\n",
       "BAAojAAIAFAYARAAoDACIABAYQRAAIDCCIAAAIURAAEACiMAAgAURgAEACiMAAgAUBgBEACgMAIg\\\n",
       "AEBhBEAAgMIIgAAAhREAAQAKIwACABRGAAQAKIwACABQGAEQAKAwAiAAQGFqKgBOnjw5DR48OPXu\\\n",
       "3TuNHDkyzZgxo02Pu/nmm1O3bt3SoYceusbXEQCgs9VMAJwyZUo66aST0sSJE9Njjz2WhgwZkkaP\\\n",
       "Hp3mzZvX6uNefPHFdPLJJ6e99967w9YVAKAz1UwAvPjii9Oxxx6bxo0bl3bYYYd05ZVXpvXXXz9d\\\n",
       "d911LT5m6dKl6aijjkqTJk1KW2+9dYeuLwBAZ6mJALhkyZI0c+bMNGrUqPpp3bt3z/enT5/e4uPO\\\n",
       "OuustMUWW6Rjjjmmg9YUAKDzrZNqwIIFC3I1r3///o2mx/1nnnmm2cf86le/Stdee216/PHH2/w8\\\n",
       "ixcvzrequrq61VhrAIDOURMVwJX12muvpU9/+tPpmmuuSf369Wvz484999zUt2/f+tugQYPW6HoC\\\n",
       "AKwJNVEBjBDXo0ePNHfu3EbT4/6AAQOWm/+FF17IJ38cfPDB9dOWLVuW/7/OOuukZ599Nm2zzTbL\\\n",
       "PW78+PH5RJOGFUAhEADoamoiAPbs2TMNHTo0TZs2rX4olwh0cf/4449fbv7tttsuPfHEE42mnXHG\\\n",
       "GbkyeNlll7UY6nr16pVvAABdWU0EwBCVubFjx6Zhw4alESNGpEsvvTQtWrQonxUcjj766DRw4MDc\\\n",
       "jBvjBO64446NHr/xxhvn/zedDgBQa2omAI4ZMybNnz8/TZgwIc2ZMyftsssuaerUqfUnhsyaNSuf\\\n",
       "GQwAULpulUql0tkr0VVFH8A4GWThwoWpT58+nb06AEAb1Pn+LvMsYACAkgmAAACFEQABAAojAAIA\\\n",
       "FEYABAAojAAIAFAYARAAoDACIABAYQRAAIDCCIAAAIURAAEACiMAAgAURgAEACiMAAgAUBgBEACg\\\n",
       "MAIgAEBhBEAAgMIIgAAAhREAAQAKIwACABRGAAQAKIwACABQGAEQAKAwAiAAQGEEQACAwgiAAACF\\\n",
       "EQABAAojAAIAFEYABAAojAAIAFAYARAAoDACIABAYQRAAIDCCIAAAIURAAEACiMAAgAURgAEACiM\\\n",
       "AAgAUBgBEACgMAIgAEBhBEAAgMIIgAAAhREAAQAKIwACABRGAAQAKIwACABQGAEQAKAwAiAAQGEE\\\n",
       "QACAwgiAAACFEQABAAojAAIAFEYABAAojAAIAFAYARAAoDACIABAYQRAAIDCCIAAAIURAAEACiMA\\\n",
       "AgAURgAEACiMAAgAUBgBEACgMDUVACdPnpwGDx6cevfunUaOHJlmzJjR4ry33357GjZsWNp4443T\\\n",
       "BhtskHbZZZd0ww03dOj6AgB0hpoJgFOmTEknnXRSmjhxYnrsscfSkCFD0ujRo9O8efOanX/TTTdN\\\n",
       "p59+epo+fXr64x//mMaNG5dv9957b4evOwBAR+pWqVQqqQZExW/48OHp8ssvz/eXLVuWBg0alE44\\\n",
       "4YR06qmntmkZu+22WzrooIPS2Wef3ab56+rqUt++fdPChQtTnz59Vmv9AYCOUef7uzYqgEuWLEkz\\\n",
       "Z85Mo0aNqp/WvXv3fD8qfCsSGXjatGnp2WefTfvss0+L8y1evDjvNA1vAABdzTqpBixYsCAtXbo0\\\n",
       "9e/fv9H0uP/MM8+0+LhI/gMHDszBrkePHul73/te+s///M8W5z/33HPTpEmTUkfp1q3Dngq6nNpo\\\n",
       "u3CgQxkH+tqnJiqAq2qjjTZKjz/+eHr00UfTOeeck/sQPvTQQy3OP378+Bwaq7fZs2d36PoCALSH\\\n",
       "mqgA9uvXL1fw5s6d22h63B8wYECLj4tm4m233Tb/O84Cfvrpp3OV7wMf+ECz8/fq1SvfAAC6spqo\\\n",
       "APbs2TMNHTo09+OripNA4v4ee+zR5uXEY6I5GACgltVEBTBE8+3YsWPz2H4jRoxIl156aVq0aFEe\\\n",
       "2iUcffTRub9fVPhC/D/m3WabbXLou/vuu/M4gFdccUUnvxIAgDWrZgLgmDFj0vz589OECRPSnDlz\\\n",
       "cpPu1KlT608MmTVrVm7yrYpweNxxx6WXXnoprbfeemm77bZLP/rRj/JyAABqWc2MA1iL4wg5ORBa\\\n",
       "VjOfXA506PADvc44gLXRBxAAgLYTAAEACiMAAgAURgAEACiMAAgAUBgBEACgMAIgAEBhBEAAgMII\\\n",
       "gAAAhREAAQAKIwACABRGAAQAKIwACABQGAEQAKAwAiAAQGEEQACAwgiAAACFEQABAAojAAIAFEYA\\\n",
       "BAAojAAIAFAYARAAoDACIABAYQRAAIDCCIAAAIURAAEACiMAAgAURgAEACiMAAgAUBgBEACgMAIg\\\n",
       "AEBhBEAAgMIIgAAAhREAAQAKIwACABRGAAQAKIwACABQGAEQAKAwAiAAQGEEQACAwgiAAACFEQAB\\\n",
       "AAojAAIAFEYABAAojAAIAFAYARAAoDACIABAYQRAAIDCCIAAAIURAAEACiMAAgAURgAEACiMAAgA\\\n",
       "UBgBEACgMAIgAEBhBEAAgMIIgAAAhREAAQAKIwACABRGAAQAKIwACABQGAEQAKAwAiAAQGFqKgBO\\\n",
       "njw5DR48OPXu3TuNHDkyzZgxo8V5r7nmmrT33nunTTbZJN9GjRrV6vwAALWiZgLglClT0kknnZQm\\\n",
       "TpyYHnvssTRkyJA0evToNG/evGbnf+ihh9IRRxyRHnzwwTR9+vQ0aNCgtN9++6WXX365w9cdAKAj\\\n",
       "datUKpVUA6LiN3z48HT55Zfn+8uWLcuh7oQTTkinnnrqCh+/dOnSXAmMxx999NFtes66urrUt2/f\\\n",
       "tHDhwtSnT5/U3rp1a/dFQs2ojU8uBzp0xoFet4a/v7uCmqgALlmyJM2cOTM341Z1794934/qXlu8\\\n",
       "8cYb6d///nfadNNNW5xn8eLFeadpeAMA6GpqIgAuWLAgV/D69+/faHrcnzNnTpuWccopp6Qtt9yy\\\n",
       "UYhs6txzz82/GKq3qDACAHQ1NREAV9d5552Xbr755nTHHXfkE0haMn78+Fwurt5mz57doesJANAe\\\n",
       "1kk1oF+/fqlHjx5p7ty5jabH/QEDBrT62AsvvDAHwAceeCDtvPPOrc7bq1evfAMA6MpqogLYs2fP\\\n",
       "NHTo0DRt2rT6aXESSNzfY489WnzcBRdckM4+++w0derUNGzYsA5aWwCAzlUTFcAQQ8CMHTs2B7kR\\\n",
       "I0akSy+9NC1atCiNGzcu/z3O7B04cGDuxxfOP//8NGHChHTTTTflsQOrfQU33HDDfAMAqFU1EwDH\\\n",
       "jBmT5s+fn0NdhLlddtklV/aqJ4bMmjUrnxlcdcUVV+Szhw877LBGy4lxBM8888wOX38AgI5SM+MA\\\n",
       "dgbjAELnqZlPLgc6tMw4gGtMTfQBBACg7QRAAIDCCIAAAIURAAEACiMAAgAURgAEACiMAAgAUBgB\\\n",
       "EACgMAIgAEBhBEAAgMIIgAAAhREAAQAKIwACABRGAAQAKIwACABQGAEQAKAwAiAAQGEEQACAwgiA\\\n",
       "AACFEQABAAojAAIAFEYABAAojAAIAFAYARAAoDACIABAYQRAAIDCCIAAAIURAAEACiMAAgAURgAE\\\n",
       "ACiMAAgAUBgBEACgMAIgAEBhBEAAgMIIgAAAhREAAQAKIwACABRGAAQAKIwACABQGAEQAKAwAiAA\\\n",
       "QGEEQACAwgiAAACFEQABAAojAAIAFEYABAAojAAIAFAYARAAoDACIABAYQRAAIDCCIAAAIURAAEA\\\n",
       "CiMAAgAURgAEACiMAAgAUBgBEACgMAIgAEBhBEAAgMIIgAAAhREAAQAKIwACABRGAAQAKIwACABQ\\\n",
       "mJoKgJMnT06DBw9OvXv3TiNHjkwzZsxocd4nn3wyfeITn8jzd+vWLV166aUduq4AAJ2lZgLglClT\\\n",
       "0kknnZQmTpyYHnvssTRkyJA0evToNG/evGbnf+ONN9LWW2+dzjvvvDRgwIAOX18AgM5SMwHw4osv\\\n",
       "Tscee2waN25c2mGHHdKVV16Z1l9//XTdddc1O//w4cPTt7/97XT44YenXr16dfj6AgB0lpoIgEuW\\\n",
       "LEkzZ85Mo0aNqp/WvXv3fH/69Ont9jyLFy9OdXV1jW4AAF1NTQTABQsWpKVLl6b+/fs3mh7358yZ\\\n",
       "027Pc+6556a+ffvW3wYNGtRuywYA6Cg1EQA7yvjx49PChQvrb7Nnz+7sVQIAWGnrpBrQr1+/1KNH\\\n",
       "jzR37txG0+N+e57gEX0F9RcEALq6mqgA9uzZMw0dOjRNmzatftqyZcvy/T322KNT1w0AYG1TExXA\\\n",
       "EEPAjB07Ng0bNiyNGDEij+u3aNGifFZwOProo9PAgQNzP77qiSNPPfVU/b9ffvnl9Pjjj6cNN9ww\\\n",
       "bbvttp36WgAA1qSaCYBjxoxJ8+fPTxMmTMgnfuyyyy5p6tSp9SeGzJo1K58ZXPX3v/897brrrvX3\\\n",
       "L7zwwnzbd99900MPPdQprwEAoCN0q1QqlQ55phoUw8DE2cBxQkifPn3affndurX7IqFm1MwnlwMd\\\n",
       "OvxAr1vD399dQU30AQQAoO0EQACAwgiAAACFEQABAAojAAIAFEYABAAojAAIAFAYARAAoDACIABA\\\n",
       "YQRAAIDCCIAAAIURAAEACiMAAgAURgAEACiMAAgAUBgBEACgMAIgAEBhBEAAgMIIgAAAhREAAQAK\\\n",
       "IwACABRGAAQAKIwACABQGAEQAKAwAiAAQGEEQACAwgiAAACFEQABAAojAAIAFEYABAAojAAIAFAY\\\n",
       "ARAAoDACIABAYQRAAIDCCIAAAIURAAEACiMAAgAURgAEACiMAAgAUBgBEACgMAIgAEBhBEAAgMII\\\n",
       "gAAAhREAAQAKIwACABRGAAQAKIwACABQGAEQAKAwAiAAQGEEQACAwgiAAACFEQABAAojAAIAFEYA\\\n",
       "BAAojAAIAFAYARAAoDACIABAYQRAAIDCCIAAAIURAAEACiMAAgAURgAEACiMAAgAUJiaCoCTJ09O\\\n",
       "gwcPTr17904jR45MM2bMaHX+W265JW233XZ5/p122indfffdHbauAACdpWYC4JQpU9JJJ52UJk6c\\\n",
       "mB577LE0ZMiQNHr06DRv3rxm53/kkUfSEUcckY455pj0+9//Ph166KH59qc//anD1x0AoCN1q1Qq\\\n",
       "lVQDouI3fPjwdPnll+f7y5YtS4MGDUonnHBCOvXUU5ebf8yYMWnRokXprrvuqp+2++67p1122SVd\\\n",
       "eeWVbXrOurq61Ldv37Rw4cLUp0+f1N66dWv3RULNqI1PLgc6dMaBXreGv7+7gnVSDViyZEmaOXNm\\\n",
       "Gj9+fP207t27p1GjRqXp06c3+5iYHhXDhqJieOedd7b4PIsXL863qthxqjsS0LEcdlCANXSg1/3/\\\n",
       "y62RGli5AXDBggVp6dKlqX///o2mx/1nnnmm2cfMmTOn2fljekvOPffcNGnSpOWmR6UR6Fh9+3b2\\\n",
       "GgBd/UB/7bXXciWwRDURADtKVBgbVg2jmflf//pX2myzzVI3zTg1LX4tRtCfPXt2sc0FUOsc5+Wo\\\n",
       "VCo5/G255ZapVDURAPv165d69OiR5s6d22h63B8wYECzj4npKzN/6NWrV741tPHGG6/WutO1xJeC\\\n",
       "LwaobY7zMvQttPJXU2cB9+zZMw0dOjRNmzatUXUu7u+xxx7NPiamN5w/3H///S3ODwBQK2qiAhii\\\n",
       "aXbs2LFp2LBhacSIEenSSy/NZ/mOGzcu//3oo49OAwcOzP34woknnpj23XffdNFFF6WDDjoo3Xzz\\\n",
       "zel3v/tduvrqqzv5lQAArFk1EwBjWJf58+enCRMm5BM5YjiXqVOn1p/oMWvWrHxmcNX73//+dNNN\\\n",
       "N6UzzjgjnXbaaek973lPPgN4xx137MRXwdoqmv5jjMmmXQCA2uE4pyQ1Mw4gAAAF9QEEAKDtBEAA\\\n",
       "gMIIgAAAhREAoQMNHjw4n6EOdD2f+cxn0qGHHtrZqwHtQgCkQz4040opTW/7779/mx7/0EMP5flf\\\n",
       "ffXV1NU9+uij6XOf+1y7LvMDH/hA+spXvtKuy4Su8pkS48Buu+226ayzzkpvv/12Z68adBk1MwwM\\\n",
       "a7cIe9dff32jae091MKSJUvyl8HabPPNN+/sVYCa+kxZvHhxuvvuu9OXvvSltO666+ZLdna1zwXo\\\n",
       "DCqAdIgIe3GZvYa3TTbZJP8tfsV///vfTx/72MfS+uuvn8dk/NnPfpb/9uKLL6YPfvCD+d8xf8wb\\\n",
       "v/6rla/jjz8+V7/icoCjR4/O0//0pz+lAw44IG244YZ5HMhPf/rTacGCBfXrEo/78pe/nL7xjW+k\\\n",
       "TTfdNK/LmWee2Wh9L7744rTTTjulDTbYIF8b9Ljjjkuvv/56/d9/8IMf5MsA3nXXXel973tfXu/D\\\n",
       "DjssvfHGG+mHP/xhbuqN9Y3nWbp0aYtNwFHV/OxnP5uDYVx66kMf+lD6wx/+UP/3WK8Y0/KGG27I\\\n",
       "j41LFx1++OH5GpYhtsUvfvGLdNlll9VXRGKbhZgeg6LHtn/HO96RTj31VBUSau4zZauttkpf/OIX\\\n",
       "06hRo/LnRrWZ9pxzzsnXeY3jM8SxEWO9NhTHcBzLVXEN4E996lN5enw2HHLIIfXHU0OTJk2qP2a/\\\n",
       "8IUv5JBZFePP7rXXXnkZcZ34j3zkI+mFF15Yo9sCVoUAyFohPlDjg/ePf/xjOvDAA9NRRx2V/vWv\\\n",
       "f+Xwddttt+V5nn322fSPf/wjh52qCFvx6/7Xv/51uvLKK3OgihC166675iu7xIdxXOM5lt1QPC7C\\\n",
       "3W9/+9t0wQUX5OajuBRgVQwa/p3vfCc9+eSTed6f//znOTA2FGEv5omryMTzRFN1hNioRsQtQttV\\\n",
       "V12Vbr311hZf9yc/+ck0b968dM8996SZM2em3XbbLX34wx/Or70qvjziiyvCZtwi2J133nn5b7Et\\\n",
       "4vKFxx57bN42cYtt9vLLL+ftOHz48Bwor7jiinTttdemb37zm+3wbsHaZ7311qsPYnGZz/i8iGM6\\\n",
       "jpm2+Pe//51/RG600Ubp4Ycfzp8p8SMyKo0NA14s++mnn87H+49//ON0++2358+vqrgCVVyZKj5/\\\n",
       "Yt74LInPhbg8KaxVYiBoWJPGjh1b6dGjR2WDDTZodDvnnHPy32M3POOMM+rnf/311/O0e+65J99/\\\n",
       "8MEH8/1XXnml0XL33Xffyq677tpo2tlnn13Zb7/9Gk2bPXt2fvyzzz5b/7i99tqr0TzDhw+vnHLK\\\n",
       "KS2+hltuuaWy2Wab1d+//vrr8zKff/75+mmf//znK+uvv37ltddeq582evToPL1qq622qlxyySX5\\\n",
       "3w8//HClT58+lbfeeqvRc22zzTaVq666Kv974sSJeZl1dXX1f//6179eGTlyZKPtcOKJJzZaxmmn\\\n",
       "nVZ53/veV1m2bFn9tMmTJ1c23HDDytKlS1t8ndBVPlMOOeSQ/O/Yx++///5Kr169KieffHL+W//+\\\n",
       "/SuLFy9u9Jg4Xu+4445G0/r27ZuP5XDDDTcsd8zEMtZbb73KvffeW/+8m266aWXRokX181xxxRWt\\\n",
       "Hlfz58/Pz/3EE0+04xaA1acPIB0imnGjCtVQNLFU7bzzzvX/jspcNK1EZWxFhg4d2uh+VLsefPDB\\\n",
       "/Mu9qaikvfe9713u+UI0kTZ8vgceeCBfN/qZZ55JdXV1uen0rbfeylW/aO4N8f9tttmm/jHR3BzN\\\n",
       "tA2fO6a19DpiXaNZOZqJGnrzzTcbNRnFMqMq0dK6NicqFFEZjGavqj333DM/30svvZTe9a53tfp4\\\n",
       "WNtFZS+OtajcRXXtyCOPzF0moi9gdN9Y2X5/cTw+//zzjY61EMd9w+NxyJAh9Z8BIY6zOK6i+Tia\\\n",
       "o5977rl8SdJoXYiuJ9XKX1yO1KVGWZsIgHSICHVxpl5LovN2QxFc2tJkEsttKD6IDz744HT++ecv\\\n",
       "N28Ep7Y8X/T5iX470a8o+hFFUP3Vr36VjjnmmNwUVP3wb24ZK/M6Yl1jnaIpqanoP9SWdYXSf1RG\\\n",
       "0Iu+fuuss06LnwvV46bplU8jPDY8HuMH5Y033rhaJ2/F508EwWuuuSavVxyrEfwaNiPD2kAAZK1X\\\n",
       "/SXf8GSKlkQfuugzGFWzhl8IKyP64sWH9kUXXZT774Sf/OQnqb3Fus6ZMyevZ6zv6myfpttm++23\\\n",
       "z9shvvCqVcDo0xTVjXe+852rve6wtv+obC7ERR/ZqqjURUW/4fE4ZcqUtMUWW+QWiNYqhVGljz6H\\\n",
       "4Te/+U2uREbf23/+85+572GEv7333jv/PX48wtrISSB0iBiqIcJOw1vDM3NbE7+mI8REk8/8+fMb\\\n",
       "nY3bVDT/xAkURxxxRB5zL5pu7r333jRu3Lg2BcgQXypRGfjud7+b/vKXv+STOeIEk/YWZy1G81Gc\\\n",
       "sXjfffflyuMjjzySTj/99NyBvK0iPEZzUzy+2uQUZy1Hk9QJJ5yQm7F/+tOfpokTJ+bO6dVQCyWJ\\\n",
       "k8Muv/zy9Pvf/z4fX3H2bsPqepx4FqMJxJm/cRLIX//611ydjzP5o9tEVVTyojXgqaeeyid7xXEV\\\n",
       "oxHEcRVn/keXjquvvjo3J8fJY3HMwdrINwEdIs6SjebOhrcYKqEtBg4cmM+yi2FMok9dfNi2JJpc\\\n",
       "otIVYW+//fbLfYFimJhoUm1r8Ik+PjEMTDQjR9NNNAlFf8D2FqE2vkD22WefHFCjf2IM8fK3v/0t\\\n",
       "v862Ovnkk1OPHj3SDjvskKsc0dcotlkse8aMGfn1xJddfGmdccYZ7f46oCuIin5U6aIyF/0F47hp\\\n",
       "2Jcv/v3LX/4y94/9+Mc/nqvoccxEH8CGFcE4Sz+GqorjdsyYMemjH/1o/TBS8RkTowJEK0J8dnz1\\\n",
       "q19N3/72tzvl9cKKdIszQVY4FwAANUMFEACgMAIgAEBhBEAAgMIIgAAAhREAAQAKIwACABRGAAQA\\\n",
       "KIwACABQGAEQAKAwAiAAQGEEQACAwgiAAACFEQABAAojAAIAFEYABAAojAAIAFAYARAAoDACIABA\\\n",
       "YQRAAIDCCIAAAIURAAEACiMAAgAURgAEACiMAAgAUBgBEACgMAIgAEBhBEAAgMIIgAAAhREAAQAK\\\n",
       "IwACABRGAAQASGX5f6ZcaZEUX+obAAAAAElFTkSuQmCC\\\n",
       "\"\n",
       "\n",
       "\n",
       "    /* set a timeout to make sure all the above elements are created before\n",
       "       the object is initialized. */\n",
       "    setTimeout(function() {\n",
       "        anim71af0e0015cd413286e56440d91e53b1 = new Animation(frames, img_id, slider_id, 2000.0,\n",
       "                                 loop_select_id);\n",
       "    }, 0);\n",
       "  })()\n",
       "</script>\n"
      ],
      "text/plain": [
       "<IPython.core.display.HTML object>"
      ]
     },
     "execution_count": 9,
     "metadata": {},
     "output_type": "execute_result"
    },
    {
     "data": {
      "image/png": "[encoded data removed]",
      "text/plain": [
       "<Figure size 640x480 with 1 Axes>"
      ]
     },
     "metadata": {},
     "output_type": "display_data"
    }
   ],
   "source": [
    "import matplotlib.pyplot as plt   \n",
    "from matplotlib.animation import FuncAnimation\n",
    "from IPython.display import HTML\n",
    "from sklearn.model_selection import train_test_split  \n",
    "\n",
    "\n",
    "fig, ax = plt.subplots()\n",
    "def update(frame):\n",
    "    X = np.arange(100).reshape(-1, 1)\n",
    "    y = np.random.choice([0, 1], 100, p=[0.7, 0.3])\n",
    "\n",
    "    ax.clear()\n",
    "    X_train, X_test, y_train, y_test = train_test_split(\n",
    "        X, y, test_size=0.3, stratify=y if frame else None\n",
    "    )\n",
    "    ax.bar(['Entrenamiento', 'Prueba'], \n",
    "           [np.sum(y_train)/len(y_train), np.sum(y_test)/len(y_test)], \n",
    "           color=['blue', 'red'])\n",
    "    ax.set_ylim(0, 0.5)\n",
    "    ax.set_title(f\"Efecto de stratify (Frame {frame}: {'Con stratify' if frame else 'Sin stratify'})\")\n",
    "\n",
    "ani = FuncAnimation(fig, update, frames=[0, 1], interval=2000)\n",
    "HTML(ani.to_jshtml())\n",
    "  \n"
   ]
  },
  {
   "cell_type": "markdown",
   "id": "29cc6255",
   "metadata": {},
   "source": [
    "\n",
    "---\n",
    "\n",
    "#### **5. Tareas de Ejercitación**  \n",
    "\n",
    "**Tarea 1: Experimentación Guiada**  \n",
    "- Descargar el dataset de Iris y dividirlo 5 veces con distintos `random_state`.  \n",
    "- Comparar la precisión de un modelo de clasificación (ej. `SVC`) en cada división.  \n",
    "- **Preguntas reflexivas**:  \n",
    "  - ¿Por qué varía la precisión con diferentes `random_state`?  \n",
    "  - ¿Cómo afecta `stratify` a la estabilidad de los resultados?  \n",
    "\n",
    "**Tarea 2: Proyecto Mini**  \n",
    "- Crear un informe en Jupyter Notebook que:  \n",
    "  1. Utilice `train_test_split` en un dataset real (ej. Diabetes).  \n",
    "  2. Justifique la elección de parámetros (`test_size`, `stratify`, etc.).  \n",
    "  3. Incluya al menos una visualización interactiva/animación creada por el estudiante.  \n",
    "\n",
    "---\n"
   ]
  },
  {
   "cell_type": "markdown",
   "id": "6b25bf47",
   "metadata": {},
   "source": [
    "\n",
    "#### **6. Actividad de Retroalimentación**  \n",
    "\n",
    "**Diseño: \"Galería de Visualizaciones\"**  \n",
    "- **Paso 1**: Los estudiantes suben sus visualizaciones interactivas/animaciones a un foro (ej. Google Classroom).  \n",
    "- **Paso 2**: Revisión por pares: Cada estudiante comenta dos trabajos, destacando:  \n",
    "  - Claridad de la visualización.  \n",
    "  - Uso adecuado de parámetros.  \n",
    "- **Paso 3**: Sesión grupal en vivo:  \n",
    "  - Discutir errores comunes (ej. no usar `stratify` en datos desbalanceados).  \n",
    "  - Mostrar ejemplos destacados de animaciones.  \n",
    "\n",
    "**Rúbrica de Evaluación**:  \n",
    "- Correcto uso de parámetros en código (30%).  \n",
    "- Creatividad y claridad en visualizaciones (40%).  \n",
    "- Justificación de decisiones en el proyecto (30%).  \n",
    "\n",
    "--- \n",
    "\n",
    "Este diseño fomenta la experimentación activa, conecta teoría con práctica y utiliza herramientas interactivas para hacer tangible el impacto de los parámetros en machine learning. 🚀"
   ]
  },
  {
   "cell_type": "markdown",
   "id": "5863618e",
   "metadata": {},
   "source": []
  },
  {
   "cell_type": "markdown",
   "id": "ec538676",
   "metadata": {},
   "source": [
    "# Implementar la clase  \n",
    "\n",
    "## **Diseño de Clase: Aprendizaje Basado en Problemas y Proyectos (ABPP)**\n"
   ]
  },
  {
   "cell_type": "markdown",
   "id": "0ffd93f9",
   "metadata": {},
   "source": [
    "\n",
    "---\n"
   ]
  },
  {
   "cell_type": "markdown",
   "id": "71a2908c",
   "metadata": {},
   "source": [
    "\n",
    "#### **1. Título de la Clase**  \n",
    "**\"Explorando `train_test_split`: Experimentación Interactiva con Visualizaciones y Animaciones en Python\"**\n",
    "\n",
    "---\n"
   ]
  },
  {
   "cell_type": "markdown",
   "id": "6a97d1bb",
   "metadata": {},
   "source": [
    "\n",
    "#### **2. Objetivo de Aprendizaje**  \n",
    "Al finalizar la clase, los estudiantes serán capaces de:  \n",
    "- Utilizar la función `train_test_split` de `scikit-learn` para dividir datos en conjuntos de entrenamiento y prueba.  \n",
    "- Explicar el impacto de los parámetros (`test_size`, `random_state`, `shuffle`, `stratify`) en la división de datos.  \n",
    "- Diseñar visualizaciones interactivas (con `matplotlib`/`ipywidgets`) para experimentar con los parámetros y validar su comprensión.  \n",
    "- Aplicar la función en un proyecto realista de machine learning, justificando las decisiones de parámetros.  \n",
    "\n",
    "---\n"
   ]
  },
  {
   "cell_type": "markdown",
   "id": "3650efc3",
   "metadata": {},
   "source": [
    "\n",
    "#### **3. Contenido de la Clase**  \n",
    "- **Conceptos clave**:  \n",
    "  - Parámetros de `train_test_split`: `test_size`, `train_size`, `random_state`, `shuffle`, `stratify`.  \n",
    "  - Importancia de la reproducibilidad (`random_state`).  \n",
    "  - Balance de clases (`stratify`).  \n",
    "- **Herramientas**:  \n",
    "  - Uso de Jupyter Notebook para experimentación.  \n",
    "  - Creación de visualizaciones con `matplotlib` y animaciones interactivas con `ipywidgets`.  \n",
    "- **Aplicación práctica**:  \n",
    "  - Caso de estudio: Proyecto de clasificación con el dataset de Iris o Diabetes.  \n",
    "\n",
    "---\n"
   ]
  },
  {
   "cell_type": "markdown",
   "id": "f563ec46",
   "metadata": {},
   "source": [
    "\n",
    "#### **4. Actividades de Aprendizaje**  \n",
    "\n",
    "**Actividad 1: Problema Inicial (ABP)**  \n",
    "- **Escenario**:  \n",
    "  - *\"Tienes un dataset de 1000 muestras. Debes dividirlo en entrenamiento (70%) y prueba (30%), pero cada vez que ejecutas el código, las muestras asignadas a prueba cambian. ¿Cómo garantizas reproducibilidad y equilibrio de clases?\"*  \n",
    "- **Tarea en Equipo**:  \n",
    "  - Experimentar con `train_test_split` en un Jupyter Notebook, variando `random_state` y `stratify`.  \n",
    "  - Registrar observaciones sobre cómo afectan los parámetros a la distribución de datos.  \n",
    "\n",
    "---\n"
   ]
  },
  {
   "cell_type": "markdown",
   "id": "52bfc7fd",
   "metadata": {},
   "source": [
    "\n",
    "**Actividad 2: Visualización Interactiva (Animación/Ipywidgets)**  \n",
    "- **Crear un widget interactivo** para explorar parámetros: "
   ]
  },
  {
   "cell_type": "markdown",
   "id": "ba0497bf",
   "metadata": {},
   "source": [
    " \n",
    "  ```python\n",
    "  from ipywidgets import interact, IntSlider, FloatSlider\n",
    "  import matplotlib.pyplot as plt\n",
    "  from sklearn.model_selection import train_test_split\n",
    "  import numpy as np\n",
    "\n",
    "  def plot_split(test_size=0.2, random_state=42, shuffle=True):\n",
    "      X = np.arange(100).reshape(-1, 1)\n",
    "      y = np.random.choice([0, 1], 100, p=[0.7, 0.3])\n",
    "      \n",
    "      X_train, X_test, y_train, y_test = train_test_split(\n",
    "          X, y, test_size=test_size, random_state=random_state, shuffle=shuffle\n",
    "      )\n",
    "      \n",
    "      plt.figure(figsize=(10, 4))\n",
    "      plt.scatter(X_train, [1]*len(X_train), color='blue', label='Entrenamiento')\n",
    "      plt.scatter(X_test, [0]*len(X_test), color='red', label='Prueba')\n",
    "      plt.yticks([0, 1], ['Prueba', 'Entrenamiento'])\n",
    "      plt.title(f\"División de Datos (test_size={test_size}, shuffle={shuffle})\")\n",
    "      plt.legend()\n",
    "      plt.show()\n",
    "\n",
    "  interact(plot_split, \n",
    "           test_size=FloatSlider(value=0.2, min=0.1, max=0.5, step=0.1),\n",
    "           random_state=IntSlider(value=42, min=0, max=100),\n",
    "           shuffle=True)\n",
    "  ```"
   ]
  },
  {
   "cell_type": "markdown",
   "id": "59917fe9",
   "metadata": {},
   "source": [
    "  \n",
    "- **Objetivo**: Manipular los parámetros y observar cómo cambian las muestras asignadas a entrenamiento/prueba.  \n",
    "\n",
    "---\n"
   ]
  },
  {
   "cell_type": "markdown",
   "id": "5771b640",
   "metadata": {},
   "source": [
    "\n",
    "**Actividad 3: Práctica de Conocimiento con Animación**  \n",
    "- **Animación de `stratify`**:  \n",
    "  - Usar `matplotlib.animation` para mostrar cómo `stratify` mantiene la proporción de clases en ambos conjuntos.  \n",
    "  - Ejemplo:  \n",
    "    ```python\n",
    "    from matplotlib.animation import FuncAnimation\n",
    "    from IPython.display import HTML\n",
    "\n",
    "    fig, ax = plt.subplots()\n",
    "    def update(frame):\n",
    "        ax.clear()\n",
    "        X_train, X_test, y_train, y_test = train_test_split(\n",
    "            X, y, test_size=0.3, stratify=y if frame else None\n",
    "        )\n",
    "        ax.bar(['Entrenamiento', 'Prueba'], \n",
    "               [np.mean(y_train), np.mean(y_test)], \n",
    "               color=['blue', 'red'])\n",
    "        ax.set_ylim(0, 0.5)\n",
    "        ax.set_title(f\"Efecto de stratify (Frame {frame}: {'Con stratify' if frame else 'Sin stratify'})\")\n",
    "\n",
    "    ani = FuncAnimation(fig, update, frames=[0, 1], interval=2000)\n",
    "    HTML(ani.to_jshtml())\n",
    "    ```  \n",
    "\n",
    "---\n",
    "\n",
    "#### **5. Tareas de Ejercitación**  \n",
    "\n",
    "**Tarea 1: Experimentación Guiada**  \n",
    "- Descargar el dataset de Iris y dividirlo 5 veces con distintos `random_state`.  \n",
    "- Comparar la precisión de un modelo de clasificación (ej. `SVC`) en cada división.  \n",
    "- **Preguntas reflexivas**:  \n",
    "  - ¿Por qué varía la precisión con diferentes `random_state`?  \n",
    "  - ¿Cómo afecta `stratify` a la estabilidad de los resultados?  \n",
    "\n",
    "**Tarea 2: Proyecto Mini**  \n",
    "- Crear un informe en Jupyter Notebook que:  \n",
    "  1. Utilice `train_test_split` en un dataset real (ej. Diabetes).  \n",
    "  2. Justifique la elección de parámetros (`test_size`, `stratify`, etc.).  \n",
    "  3. Incluya al menos una visualización interactiva/animación creada por el estudiante.  \n",
    "\n",
    "---\n",
    "\n",
    "#### **6. Actividad de Retroalimentación**  \n",
    "\n",
    "**Diseño: \"Galería de Visualizaciones\"**  \n",
    "- **Paso 1**: Los estudiantes suben sus visualizaciones interactivas/animaciones a un foro (ej. Google Classroom).  \n",
    "- **Paso 2**: Revisión por pares: Cada estudiante comenta dos trabajos, destacando:  \n",
    "  - Claridad de la visualización.  \n",
    "  - Uso adecuado de parámetros.  \n",
    "- **Paso 3**: Sesión grupal en vivo:  \n",
    "  - Discutir errores comunes (ej. no usar `stratify` en datos desbalanceados).  \n",
    "  - Mostrar ejemplos destacados de animaciones.  \n",
    "\n",
    "**Rúbrica de Evaluación**:  \n",
    "- Correcto uso de parámetros en código (30%).  \n",
    "- Creatividad y claridad en visualizaciones (40%).  \n",
    "- Justificación de decisiones en el proyecto (30%).  \n",
    "\n",
    "--- \n",
    "\n",
    "Este diseño fomenta la experimentación activa, conecta teoría con práctica y utiliza herramientas interactivas para hacer tangible el impacto de los parámetros en machine learning. 🚀"
   ]
  },
  {
   "cell_type": "markdown",
   "id": "239427f7",
   "metadata": {},
   "source": [
    "# ARTÍCULO 1. Definir el calendario académico para los diferentes programas de pregrado de los campus\n",
    "regionalizados, correspondiente al primer periodo académico del año 2025, así:\n",
    "* Oferta 28 de enero de 2025\n",
    "* Matrícula 30 de enero de 2025\n",
    "* Ajustes 03 al 10 de febrero de 2025\n",
    "* Inicio de clases 10 de febrero de 2025\n",
    "* Límite evaluación del 40% 06 de abril de 2025\n",
    "* Terminación de clases 08 de junio de 2025\n",
    "* Exámenes finales 09 al 15 de junio de 2025\n",
    "* Habilitación y validación 16 al 22 de junio de 2025\n",
    "* Terminación oficial 23 de junio de 2025"
   ]
  },
  {
   "cell_type": "code",
   "execution_count": null,
   "id": "ec048afb",
   "metadata": {},
   "outputs": [],
   "source": []
  },
  {
   "cell_type": "code",
   "execution_count": null,
   "id": "c804f8d3",
   "metadata": {},
   "outputs": [],
   "source": []
  },
  {
   "cell_type": "code",
   "execution_count": null,
   "id": "cc539357",
   "metadata": {},
   "outputs": [],
   "source": []
  },
  {
   "cell_type": "markdown",
   "id": "740f3401",
   "metadata": {
    "slideshow": {
     "slide_type": "slide"
    }
   },
   "source": [
    "# Componente de manejo de calculadora Casio asociado al objetivo de aprendizaje de esta clase  \n",
    "\n",
    "## Pasos para lograr el objetivo de aprendizaje con la experimentación en la calculadora Casio 991LA cw  "
   ]
  },
  {
   "cell_type": "markdown",
   "id": "8ba64aed",
   "metadata": {},
   "source": [
    "# Cursos que orienta el profesor Marco Julio Cañas Campillo en 2025  \n",
    "\n",
    "1. Práctica Pedagógica V para Licenciatura en Educación Infantil\n",
    "2. Fundamentos de Lógica para Licenciatura en Matemáticas \n",
    "3. Análisis Numérico para Licenciatura en Matemáticas. \n",
    "4. Cálculo Vectorial para Ingeniería Agropecuaria"
   ]
  },
  {
   "cell_type": "markdown",
   "id": "8d41fe58",
   "metadata": {
    "slideshow": {
     "slide_type": "slide"
    }
   },
   "source": [
    "# Horario de clases del profesor Marco\n",
    "\n",
    "* Lunes 8-12: Cálculo Vectorial\n",
    "* Martes 8-12 M: Fundamentos de Aritmética. \n",
    "* Miércoles 8 a 12 M: Fundamentos de la Lógica\n",
    "* Jueves 2 a 6 PM: Desarrollo del pensamiento matemático en la infancia. \n",
    "* Viernes 8 - 12 M: Desarrollo del pensamiento matemático en la infancia. \n",
    "* Sábados 8-12 Asesorías y espacio para retroalimentación y apoyo al trabajo independiente. "
   ]
  },
  {
   "cell_type": "markdown",
   "id": "ae114e14",
   "metadata": {
    "slideshow": {
     "slide_type": "slide"
    }
   },
   "source": [
    "# Horarios de monitoría y asesoría  \n",
    "\n",
    "Coordinador de los cursos de la Facultad de Educación para regiones:    \n",
    "\n",
    "Andrés Vélez: regioneducacion.fedu@udea.edu.co  \n",
    "Coordinador Regiones  \n",
    "Facultad de Educación  \n",
    "Universidad de Antioquia  "
   ]
  },
  {
   "cell_type": "markdown",
   "id": "b1db4b6c",
   "metadata": {
    "slideshow": {
     "slide_type": "slide"
    }
   },
   "source": [
    "## Monitor Manuel San Juan Serrano\n",
    "\n",
    "Contactar escribiendo al correo: manuel.serrano1@udea.edu.co"
   ]
  },
  {
   "cell_type": "markdown",
   "id": "39559692",
   "metadata": {
    "slideshow": {
     "slide_type": "slide"
    }
   },
   "source": [
    "Martes y jueves de 8 - 12  \n",
    "Miércoles 10 - 12 y de 2 a 4 PM  \n",
    "Sábado: 8 - 12"
   ]
  },
  {
   "cell_type": "markdown",
   "id": "10bce0d0",
   "metadata": {
    "slideshow": {
     "slide_type": "slide"
    }
   },
   "source": [
    "## Referentes "
   ]
  },
  {
   "cell_type": "markdown",
   "id": "1db3c468",
   "metadata": {
    "slideshow": {
     "slide_type": "slide"
    }
   },
   "source": [
    "* [Grajales Vanegas, L. M., Restrepo Estrada, C. E., Restrepo Ochoa, S. I., & Ruíz De Villalba, F. (2015). Matemáticas I para las ciencias económicas.](https://bibliotecadigital.udea.edu.co/handle/10495/3010)\n",
    "  \n",
    "* R. Duval y Semiosis y pensamiento humano, 2.ª ed. Cali, Colombia: Programa Editorial Universidad del Valle, 2017. [En línea]. Disponible en: https://programaeditorial.univalle.edu.co/gpd-semiosis-y-pensamiento-humano-9789587655278-63324cdb0f6b3.html\n",
    "\n",
    "* [Aylwin, C. U. (2011). Lógica, conjuntos y números. Universidad de los Andes, Consejo de Publicaciones, Colección: Ciencias Básicas, Serie: Matemáticas.](https://github.com/marco-canas/fundamentos_logica/blob/main/referentes/2_uzcategui/uscategui.pdf)\n",
    "  \n",
    "* [Chollet, F. (2021). Deep learning with Python. Simon and Schuster.](chrome-extension://efaidnbmnnnibpcajpcglclefindmkaj/https://tanthiamhuat.wordpress.com/wp-content/uploads/2018/03/deeplearningwithpython.pdf)  \n",
    "  \n",
    "* [Watson, S., Stewart, J., & Redlin, L. (2009). Precálculo. Matemáticas para el cálculo.](https://github.com/marco-canas/calculo/blob/main/referents/1_precalculo_stewart/stewart_precalculo.pdf)  \n",
    "\n",
    "* [Purcell, E. J., Varberg, D., & Rigdon, S. E. (2007). Cálculo diferencial e integral. Pearson Educación.](https://github.com/marco-canas/calculo/blob/main/referents/purcell/purcell_calculo.pdf)\n",
    "\n",
    "  \n",
    "\n",
    "* [stewart cálculo](https://udeaeduco-my.sharepoint.com/:b:/g/personal/marco_canas_udea_edu_co/EZgXZjAp8QxPqOAim2hs6LcBNPLGjSHf-xwYnUVYkwa04w?e=RZdTCy)  \n",
    "\n",
    "* [larson](https://udeaeduco-my.sharepoint.com/:b:/g/personal/marco_canas_udea_edu_co/ES71ChFeO9ZDhW3TwC5Ijk8BjxUK3Pdqz_fjHxTTFAfIAg?e=VDEjfu)\n",
    "\n",
    "\n",
    "\n",
    "* [Recomendación de la UNESCO sobre ciencia abierta](https://unesdoc.unesco.org/ark:/48223/pf0000379949_spa)\n",
    "\n",
    "* [chatGPT](https://openai.com/blog/chatgpt)  \n",
    "\n",
    "* [Géron, A. (2017). Hands-on machine learning with scikit-learn and tensorflow: Concepts. Tools, and Techniques to build intelligent systems.](chrome-extension://efaidnbmnnnibpcajpcglclefindmkaj/http://14.139.161.31/OddSem-0822-1122/Hands-On_Machine_Learning_with_Scikit-Learn-Keras-and-TensorFlow-2nd-Edition-Aurelien-Geron.pdf)   \n"
   ]
  },
  {
   "cell_type": "markdown",
   "id": "df925560",
   "metadata": {},
   "source": [
    "\n",
    "* [McKinney, W. (2012). Python for data analysis: Data wrangling with Pandas, NumPy, and IPython. \" O'Reilly Media, Inc.\".](https://wesmckinney.com/book/) "
   ]
  },
  {
   "cell_type": "markdown",
   "id": "8e65d6f9",
   "metadata": {},
   "source": [
    "# Como estudiante, encuentro que...   \n",
    "\n",
    "F: Mis Fortalezas son:     \n",
    "O: Mis Oportunidades son:    \n",
    "D: Mis Debilidades son:    \n",
    "A: Lo que Amenazas mi aprendizaje es:  "
   ]
  },
  {
   "cell_type": "markdown",
   "id": "6b9e56a8",
   "metadata": {
    "slideshow": {
     "slide_type": "slide"
    }
   },
   "source": [
    "### [Evaluamos al profesor Marco Cañas Aquí](https://forms.office.com/Pages/ResponsePage.aspx?id=IefhmYRxjkmK_7KtTlPBwkanXIs1i1FEujpsZgO6dXpUREJPV1kxUk1JV1ozTFJIQVNIQjY5WEY3US4u)"
   ]
  },
  {
   "cell_type": "markdown",
   "id": "10f43536",
   "metadata": {
    "slideshow": {
     "slide_type": "slide"
    }
   },
   "source": [
    "### Continue su aprendizaje en la siguiente clase a través del siguiente [vínculo]()"
   ]
  },
  {
   "cell_type": "markdown",
   "id": "53cc9115",
   "metadata": {
    "slideshow": {
     "slide_type": "slide"
    }
   },
   "source": [
    "## Agradecimientos  \n",
    "\n",
    "Doy gracias a Dios por la vida de mi Hijo Joseph Cañas Osorio y la madurez que ha alcanzado. Este hijo me enorgullece y me hace falta abrazarlo cada día. \n",
    "\n",
    "Y a mi esposa Yasmira Emperatriz Barboza Mogollón por su apoyo, orientación y acompañamiento. "
   ]
  }
 ],
 "metadata": {
  "celltoolbar": "Slideshow",
  "kernelspec": {
   "display_name": ".venv",
   "language": "python",
   "name": "python3"
  },
  "language_info": {
   "codemirror_mode": {
    "name": "ipython",
    "version": 3
   },
   "file_extension": ".py",
   "mimetype": "text/x-python",
   "name": "python",
   "nbconvert_exporter": "python",
   "pygments_lexer": "ipython3",
   "version": "3.13.1"
  },
  "rise": {
   "enable_chalkboard": true,
   "theme": "sky",
   "transition": "zoom"
  }
 },
 "nbformat": 4,
 "nbformat_minor": 5
}
